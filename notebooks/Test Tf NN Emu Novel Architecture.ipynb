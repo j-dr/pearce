{
 "cells": [
  {
   "cell_type": "code",
   "execution_count": 68,
   "metadata": {},
   "outputs": [
    {
     "name": "stdout",
     "output_type": "stream",
     "text": [
      "The autoreload extension is already loaded. To reload it, use:\n",
      "  %reload_ext autoreload\n"
     ]
    }
   ],
   "source": [
    "%load_ext autoreload\n",
    "%autoreload 2"
   ]
  },
  {
   "cell_type": "code",
   "execution_count": 69,
   "metadata": {},
   "outputs": [],
   "source": [
    "from pearce.emulator import OriginalRecipe, ExtraCrispy\n",
    "from pearce.mocks import cat_dict\n",
    "import numpy as np\n",
    "from os import path"
   ]
  },
  {
   "cell_type": "code",
   "execution_count": 70,
   "metadata": {},
   "outputs": [],
   "source": [
    "import tensorflow as tf"
   ]
  },
  {
   "cell_type": "code",
   "execution_count": 71,
   "metadata": {},
   "outputs": [
    {
     "data": {
      "text/plain": [
       "[u'/device:GPU:0']"
      ]
     },
     "execution_count": 71,
     "metadata": {},
     "output_type": "execute_result"
    }
   ],
   "source": [
    "from tensorflow.python.client import device_lib\n",
    "\n",
    "def get_available_gpus():\n",
    "    local_device_protos = device_lib.list_local_devices()\n",
    "    return [x.name for x in local_device_protos if x.device_type == 'GPU']\n",
    "\n",
    "get_available_gpus()"
   ]
  },
  {
   "cell_type": "code",
   "execution_count": 72,
   "metadata": {},
   "outputs": [],
   "source": [
    "import matplotlib\n",
    "#matplotlib.use('Agg')\n",
    "from matplotlib import pyplot as plt\n",
    "%matplotlib inline\n",
    "import seaborn as sns\n",
    "sns.set()"
   ]
  },
  {
   "cell_type": "code",
   "execution_count": 73,
   "metadata": {},
   "outputs": [],
   "source": [
    "training_file = '/home/sean/PearceRedMagicXiCosmoFixedNd.hdf5'\n",
    "test_file = '/home/sean/PearceRedMagicXiCosmoFixedNd_test.hdf5'"
   ]
  },
  {
   "cell_type": "code",
   "execution_count": 74,
   "metadata": {},
   "outputs": [],
   "source": [
    "em_method = 'nn'\n",
    "split_method = 'random'"
   ]
  },
  {
   "cell_type": "code",
   "execution_count": 75,
   "metadata": {},
   "outputs": [],
   "source": [
    "a = 1.0\n",
    "z = 1.0/a - 1.0"
   ]
  },
  {
   "cell_type": "raw",
   "metadata": {},
   "source": [
    "emu.scale_bin_centers"
   ]
  },
  {
   "cell_type": "code",
   "execution_count": 76,
   "metadata": {},
   "outputs": [],
   "source": [
    "fixed_params = {'z':z}#, 'r': 24.06822623}"
   ]
  },
  {
   "cell_type": "raw",
   "metadata": {
    "collapsed": true
   },
   "source": [
    "n_leaves, n_overlap = 50, 1\n",
    "emu = ExtraCrispy(training_file, n_leaves, n_overlap, split_method, method = em_method, fixed_params=fixed_params,\n",
    "                 custom_mean_function = None, downsample_factor = 1.0)"
   ]
  },
  {
   "cell_type": "code",
   "execution_count": 77,
   "metadata": {
    "scrolled": true
   },
   "outputs": [
    {
     "name": "stdout",
     "output_type": "stream",
     "text": [
      "Iteration 1, loss = 0.71262056\n",
      "Iteration 2, loss = 0.35700909\n",
      "Iteration 3, loss = 0.23225355\n",
      "Iteration 4, loss = 0.17491358\n",
      "Iteration 5, loss = 0.13769184\n",
      "Iteration 6, loss = 0.12222260\n",
      "Iteration 7, loss = 0.11290441\n",
      "Iteration 8, loss = 0.10379957\n",
      "Iteration 9, loss = 0.09495039\n",
      "Iteration 10, loss = 0.08859837\n"
     ]
    }
   ],
   "source": [
    "emu = OriginalRecipe(training_file, method = em_method, fixed_params=fixed_params,\n",
    "                    hyperparams = {'hidden_layer_sizes': (10),\n",
    "                                 'activation': 'relu', 'verbose': True, \n",
    "                                    'tol': 1e-8, 'learning_rate_init':1e-4,\\\n",
    "                                   'max_iter':10, 'alpha':0, 'early_stopping':False, 'validation_fraction':0.3})"
   ]
  },
  {
   "cell_type": "code",
   "execution_count": 78,
   "metadata": {},
   "outputs": [],
   "source": [
    "x_train, y_train,yerr_train = emu.x ,emu.y ,emu.yerr"
   ]
  },
  {
   "cell_type": "code",
   "execution_count": 79,
   "metadata": {},
   "outputs": [],
   "source": [
    "_x_test, y_test, _, info = emu.get_data(test_file, fixed_params, None, False)\n",
    "# whtien\n",
    "x_test = (_x_test - _x_test.mean(axis = 0))/_x_test.std(axis = 0)"
   ]
  },
  {
   "cell_type": "code",
   "execution_count": 80,
   "metadata": {},
   "outputs": [],
   "source": [
    "y_train_mean, y_train_std = y_train.mean(axis = 0), y_train.std(axis =0)\n",
    "#y_test_mean, y_test_std = y_test.mean(axis = 0), y_test.std(axis = 0)\n",
    "\n",
    "y_train = (y_train- y_train_mean)/(y_train_std)\n",
    "#y_test = (y_test - y_test_mean)/(y_test_std)"
   ]
  },
  {
   "cell_type": "code",
   "execution_count": 81,
   "metadata": {},
   "outputs": [
    {
     "data": {
      "text/plain": [
       "((720000, 12), (12600, 12))"
      ]
     },
     "execution_count": 81,
     "metadata": {},
     "output_type": "execute_result"
    }
   ],
   "source": [
    "x_train.shape, x_test.shape"
   ]
  },
  {
   "cell_type": "code",
   "execution_count": 82,
   "metadata": {},
   "outputs": [],
   "source": [
    "yerr_train[yerr_train==0] = 1"
   ]
  },
  {
   "cell_type": "code",
   "execution_count": 83,
   "metadata": {},
   "outputs": [],
   "source": [
    "def n_layer_fc(x, hidden_sizes, training=False, l = 1e-8, p=0.1):\n",
    "    initializer = tf.variance_scaling_initializer(scale=2.0)\n",
    "    regularizer = tf.contrib.layers.l2_regularizer(l)\n",
    "    fc_output = tf.layers.dense(x, hidden_sizes[0], activation=tf.nn.relu,\n",
    "                                 kernel_initializer = initializer, kernel_regularizer = regularizer)\n",
    "                                 #kernel_regularizer = tf.nn.l2_loss)\n",
    "    #fc2_output = tf.layers.dense(fc1_output, hidden_sizes[1], activation=tf.nn.relu,\n",
    "    #                             kernel_initializer = initializer, kernel_regularizer = regularizer)\n",
    "    for size in hidden_sizes[1:]:\n",
    "        fc_output = tf.layers.dense(fc_output, size, kernel_initializer=initializer,\n",
    "                                 kernel_regularizer = regularizer)\n",
    "        bd_out = tf.layers.dropout(fc_output, p, training = training)\n",
    "        bn_out = tf.layers.batch_normalization(bd_out, axis = -1, training=training)\n",
    "        fc_output = tf.nn.relu(bn_out)#tf.nn.leaky_relu(bn_out, alpha=0.01)\n",
    "        \n",
    "    pred = tf.layers.dense(fc_output, 1, kernel_initializer=initializer, \n",
    "                              kernel_regularizer = regularizer)[:,0]#,\n",
    "    return pred"
   ]
  },
  {
   "cell_type": "raw",
   "metadata": {},
   "source": [
    "def novel_fc(x, hidden_sizes, training=False, l = (1e-6, 1e-6, 1e-6), p = (0.5, 0.5, 0.5),\\\n",
    "             n_cosmo_params = 7, n_hod_params = 4):\n",
    "    \n",
    "    cosmo_sizes, hod_sizes, cap_sizes = hidden_sizes\n",
    "    \n",
    "    if type(l) is float:\n",
    "        cosmo_l, hod_l, cap_l = l, l, l\n",
    "    else:\n",
    "        cosmo_l, hod_l, cap_l = l\n",
    "        \n",
    "    if type(p) is float:\n",
    "        cosmo_p, hod_p, cap_p = p,p,p\n",
    "    else:\n",
    "        cosmo_p, hod_p, cap_p = p\n",
    "    \n",
    "    initializer = tf.variance_scaling_initializer(scale=2.0)\n",
    "    \n",
    "    #onlly for duplicating r\n",
    "    n_params = n_cosmo_params+n_hod_params\n",
    "    cosmo_x = tf.slice(x, [0,0], [-1, n_cosmo_params])\n",
    "    cosmo_x = tf.concat(values=[cosmo_x, tf.slice(x, [0, n_params-1], [-1, -1]) ], axis = 1)\n",
    "    #print tf.shape(cosmo_x)\n",
    "    #print tf.shape(tf.slice(x, [0, n_params-1], [-1, -1]))\n",
    "    hod_x = tf.slice(x, [0, n_cosmo_params], [-1, -1])\n",
    "    \n",
    "    cosmo_regularizer = tf.contrib.layers.l1_regularizer(cosmo_l)\n",
    "    cosmo_out = cosmo_x\n",
    "    \n",
    "    for size in cosmo_sizes:\n",
    "        fc_output = tf.layers.dense(cosmo_out, size,\n",
    "                                 kernel_initializer = initializer,\\\n",
    "                                    kernel_regularizer = cosmo_regularizer)\n",
    "        bd_out = tf.layers.dropout(fc_output, cosmo_p, training = training)\n",
    "        bn_out = tf.layers.batch_normalization(bd_out, axis = -1, training=training)\n",
    "        cosmo_out = tf.nn.relu(bn_out)#tf.nn.leaky_relu(bn_out, alpha=0.01)\n",
    "    \n",
    "    hod_regularizer = tf.contrib.layers.l1_regularizer(hod_l)\n",
    "    hod_out = hod_x\n",
    "    \n",
    "    for size in hod_sizes:\n",
    "        fc_output = tf.layers.dense(hod_out, size,\n",
    "                                 kernel_initializer = initializer,\\\n",
    "                                    kernel_regularizer = hod_regularizer)\n",
    "        bd_out = tf.layers.dropout(fc_output, hod_p, training = training)\n",
    "        bn_out = tf.layers.batch_normalization(bd_out, axis = -1, training=training)\n",
    "        hod_out = tf.nn.relu(bn_out)#tf.nn.leaky_relu(bn_out, alpha=0.01)\n",
    "    \n",
    "    cap_out=tf.concat(values=[cosmo_out, hod_out], axis = 1)\n",
    "    cap_regularizer = tf.contrib.layers.l1_regularizer(cap_l)\n",
    "\n",
    "    for size in cap_sizes:\n",
    "        fc_output = tf.layers.dense(cap_out, size,\n",
    "                                 kernel_initializer = initializer,\\\n",
    "                                    kernel_regularizer = cap_regularizer)\n",
    "        bd_out = tf.layers.dropout(fc_output, cap_p, training = training)\n",
    "        bn_out = tf.layers.batch_normalization(bd_out, axis = -1, training=training)\n",
    "        cap_out = tf.nn.relu(bn_out)#tf.nn.leaky_relu(bn_out, alpha=0.01)\n",
    "    \n",
    "    pred = tf.layers.dense(cap_out, 1, kernel_initializer=initializer, \n",
    "                              kernel_regularizer = cap_regularizer)[:,0]#,\n",
    "    return pred"
   ]
  },
  {
   "cell_type": "code",
   "execution_count": 84,
   "metadata": {},
   "outputs": [],
   "source": [
    "def optimizer_init_fn(learning_rate = 1e-6):\n",
    "    return tf.train.AdamOptimizer(learning_rate)#, beta1=0.9, beta2=0.999, epsilon=1e-6)"
   ]
  },
  {
   "cell_type": "code",
   "execution_count": 85,
   "metadata": {},
   "outputs": [],
   "source": [
    "from sklearn.metrics import r2_score, mean_squared_error"
   ]
  },
  {
   "cell_type": "code",
   "execution_count": 86,
   "metadata": {},
   "outputs": [],
   "source": [
    "def check_accuracy(sess, val_data,batch_size, x, weights, preds, is_training=None):\n",
    "    val_x, val_y = val_data\n",
    "    perc_acc, scores = [],[]\n",
    "    for idx in xrange(0, val_x.shape[0], batch_size):\n",
    "        feed_dict = {x: val_x[idx:idx+batch_size],\n",
    "                     is_training: 0}\n",
    "        y_pred = sess.run(preds, feed_dict=feed_dict)*y_train_std + y_train_mean\n",
    "\n",
    "        score = r2_score(val_y[idx:idx+batch_size], y_pred)\n",
    "        scores.append(score)\n",
    "        \n",
    "        perc_acc = np.mean(np.abs(10**(val_y[idx:idx+batch_size])-10**(y_pred))/\\\n",
    "                           10**(val_y[idx:idx+batch_size]) )\n",
    "\n",
    "        \n",
    "    print 'Val score: %.6f, %.2f %% Loss'%(np.mean(np.array(scores)), 100*np.mean(np.array(perc_acc)))"
   ]
  },
  {
   "cell_type": "code",
   "execution_count": null,
   "metadata": {},
   "outputs": [],
   "source": [
    "device = '/device:GPU:0'\n",
    "#device = '/cpu:0'\n",
    "def train(model_init_fn, optimizer_init_fn,num_params, train_data, val_data, hidden_sizes,\\\n",
    "               num_epochs=1, batch_size = 200, l = 1e-6, p = 0.5, print_every=10):\n",
    "    tf.reset_default_graph()    \n",
    "    with tf.device(device):\n",
    "        # Construct the computational graph we will use to train the model. We\n",
    "        # use the model_init_fn to construct the model, declare placeholders for\n",
    "        # the data and labels\n",
    "        x = tf.placeholder(tf.float32, [None,num_params])\n",
    "        y = tf.placeholder(tf.float32, [None])\n",
    "        weights = tf.placeholder(tf.float32, [None])\n",
    "        \n",
    "        is_training = tf.placeholder(tf.bool, name='is_training')\n",
    "        \n",
    "        preds = model_init_fn(x, hidden_sizes, is_training, l = l)#, p=p)\n",
    "\n",
    "        # Compute the loss like we did in Part II\n",
    "        #loss = tf.reduce_mean(loss)\n",
    "        \n",
    "    with tf.device('/cpu:0'):\n",
    "        loss = tf.losses.mean_squared_error(labels=y,\\\n",
    "                    predictions=preds, weights = weights)#weights?\n",
    "        #loss = tf.losses.absolute_difference(labels=y, predictions=preds, weights = tf.abs(1.0/y))#weights?\n",
    "\n",
    "    with tf.device(device):\n",
    "        optimizer = optimizer_init_fn()\n",
    "        update_ops = tf.get_collection(tf.GraphKeys.UPDATE_OPS)\n",
    "        with tf.control_dependencies(update_ops):\n",
    "            train_op = optimizer.minimize(loss)\n",
    "        \n",
    "    with tf.Session() as sess:\n",
    "        sess.run(tf.global_variables_initializer())\n",
    "        #t = 0\n",
    "        train_x, train_y, train_yerr = train_data\n",
    "        rand_idxs = range(train_x.shape[0])\n",
    "        for epoch in range(num_epochs):\n",
    "            #print('Starting epoch %d' % epoch)\n",
    "            np.random.shuffle(rand_idxs)\n",
    "            losses = []\n",
    "            for idx in xrange(0, train_x.shape[0], batch_size):\n",
    "                feed_dict = {x: train_x[rand_idxs[idx:idx+batch_size]],\\\n",
    "                             y: train_y[rand_idxs[idx:idx+batch_size]],\\\n",
    "                             weights: 1/train_yerr[rand_idxs[idx:idx+batch_size]],\\\n",
    "                             is_training:1}\n",
    "                loss_np, _, preds_np = sess.run([loss, train_op, preds], feed_dict=feed_dict)\n",
    "                losses.append(loss_np)\n",
    "            if epoch % print_every == 0:\n",
    "                loss_avg = np.mean(np.array(losses))\n",
    "                print('Epoch %d, loss = %e' % (epoch, loss_avg))\n",
    "                check_accuracy(sess, val_data, batch_size, x, weights, preds, is_training=is_training)\n",
    "            #t += 1"
   ]
  },
  {
   "cell_type": "code",
   "execution_count": null,
   "metadata": {
    "scrolled": true
   },
   "outputs": [
    {
     "name": "stdout",
     "output_type": "stream",
     "text": [
      "Epoch 0, loss = 2.515128e+11\n",
      "Val score: -0.277818, 4338.52 % Loss\n",
      "Epoch 200, loss = 1.319830e+11\n",
      "Val score: -0.197832, 3525.84 % Loss\n",
      "Epoch 400, loss = 2.753264e+10\n",
      "Val score: -0.139142, 3411.20 % Loss\n",
      "Epoch 600, loss = 1.505804e+10\n",
      "Val score: -0.100339, 3313.09 % Loss\n",
      "Epoch 800, loss = 5.840493e+09\n",
      "Val score: -0.087485, 2930.87 % Loss\n",
      "Epoch 1000, loss = 3.193001e+08\n",
      "Val score: -0.075649, 3160.80 % Loss\n",
      "Epoch 1200, loss = 6.103712e+08\n",
      "Val score: -0.058779, 2899.73 % Loss\n",
      "Epoch 1400, loss = 1.784857e+08\n",
      "Val score: -0.022107, 2810.73 % Loss\n",
      "Epoch 1600, loss = 9.935435e+09\n",
      "Val score: 0.032263, 2989.82 % Loss\n",
      "Epoch 1800, loss = 1.879502e+08\n",
      "Val score: 0.085973, 3071.55 % Loss\n",
      "Epoch 2000, loss = 3.799651e+07\n",
      "Val score: 0.123717, 3206.61 % Loss\n",
      "Epoch 2200, loss = 2.971670e+09\n",
      "Val score: 0.155033, 3859.21 % Loss\n",
      "Epoch 2400, loss = 8.592002e+07\n",
      "Val score: 0.182110, 4249.01 % Loss\n",
      "Epoch 2600, loss = 5.385580e+08\n",
      "Val score: 0.183159, 4097.61 % Loss\n",
      "Epoch 2800, loss = 7.164134e+07\n",
      "Val score: 0.187924, 3741.85 % Loss\n",
      "Epoch 3000, loss = 1.390507e+07\n",
      "Val score: 0.200080, 3752.54 % Loss\n",
      "Epoch 3200, loss = 8.725884e+07\n",
      "Val score: 0.205031, 3773.68 % Loss\n",
      "Epoch 3400, loss = 3.012522e+07\n",
      "Val score: 0.211143, 3528.34 % Loss\n",
      "Epoch 3600, loss = 8.051395e+08\n",
      "Val score: 0.227234, 4002.73 % Loss\n",
      "Epoch 3800, loss = 1.125506e+08\n",
      "Val score: 0.231236, 3867.54 % Loss\n",
      "Epoch 4000, loss = 5.981970e+09\n",
      "Val score: 0.259154, 4865.22 % Loss\n",
      "Epoch 4200, loss = 6.121148e+08\n",
      "Val score: 0.256489, 4519.32 % Loss\n"
     ]
    }
   ],
   "source": [
    "train(n_layer_fc, optimizer_init_fn, x_train.shape[1],\\\n",
    "           (x_train, y_train, yerr_train), (x_test, y_test),\\\n",
    "           [100, 200, 500, 200, 100], num_epochs= int(1e4),\\\n",
    "           batch_size = 2000, l = 1e-7, p = 0.0,\\\n",
    "           print_every = 200)"
   ]
  },
  {
   "cell_type": "code",
   "execution_count": null,
   "metadata": {},
   "outputs": [],
   "source": [
    "np.abs(emu.goodness_of_fit(training_file, statistic = 'log_frac')).mean()"
   ]
  },
  {
   "cell_type": "code",
   "execution_count": null,
   "metadata": {},
   "outputs": [],
   "source": [
    "np.abs(emu.goodness_of_fit(training_file, statistic = 'frac')).mean()"
   ]
  },
  {
   "cell_type": "code",
   "execution_count": null,
   "metadata": {},
   "outputs": [],
   "source": [
    "fit_idxs = np.argsort(gof.mean(axis = 1))"
   ]
  },
  {
   "cell_type": "code",
   "execution_count": null,
   "metadata": {},
   "outputs": [],
   "source": [
    "emu.goodness_of_fit(training_file).mean()#, statistic = 'log_frac')).mean()"
   ]
  },
  {
   "cell_type": "code",
   "execution_count": null,
   "metadata": {},
   "outputs": [],
   "source": [
    "model = emu._emulator"
   ]
  },
  {
   "cell_type": "code",
   "execution_count": null,
   "metadata": {},
   "outputs": [],
   "source": [
    "ypred = model.predict(emu.x)"
   ]
  },
  {
   "cell_type": "code",
   "execution_count": null,
   "metadata": {},
   "outputs": [],
   "source": [
    "plt.hist( np.log10( (emu._y_std+1e-5)*np.abs(ypred-emu.y)/np.abs((emu._y_std+1e-5)*emu.y+emu._y_mean) ))"
   ]
  },
  {
   "cell_type": "code",
   "execution_count": null,
   "metadata": {},
   "outputs": [],
   "source": [
    "( (emu._y_std+1e-5)*np.abs(ypred-emu.y)/np.abs((emu._y_std+1e-5)*emu.y+emu._y_mean) ).mean()"
   ]
  },
  {
   "cell_type": "code",
   "execution_count": null,
   "metadata": {},
   "outputs": [],
   "source": [
    "emu._y_mean, emu._y_std"
   ]
  },
  {
   "cell_type": "code",
   "execution_count": null,
   "metadata": {
    "scrolled": false
   },
   "outputs": [],
   "source": [
    "for idx in fit_idxs[:10]:\n",
    "    print gof[idx].mean()\n",
    "    print (ypred[idx*emu.n_bins:(idx+1)*emu.n_bins]-emu.y[idx*emu.n_bins:(idx+1)*emu.n_bins])/emu.y[idx*emu.n_bins:(idx+1)*emu.n_bins]\n",
    "    plt.plot(emu.scale_bin_centers, ypred[idx*emu.n_bins:(idx+1)*emu.n_bins], label = 'Emu')\n",
    "    plt.plot(emu.scale_bin_centers, emu.y[idx*emu.n_bins:(idx+1)*emu.n_bins], label = 'True')\n",
    "    plt.legend(loc='best')\n",
    "    plt.xscale('log')\n",
    "    plt.show()"
   ]
  },
  {
   "cell_type": "code",
   "execution_count": null,
   "metadata": {},
   "outputs": [],
   "source": [
    "print dict(zip(emu.get_param_names(), emu.x[8*emu.n_bins, :]*emu._x_std+emu._x_mean))"
   ]
  },
  {
   "cell_type": "code",
   "execution_count": null,
   "metadata": {},
   "outputs": [],
   "source": [
    "emu.get_param_names()"
   ]
  },
  {
   "cell_type": "raw",
   "metadata": {},
   "source": [
    "#print emu.x.shape\n",
    "#print emu.downsample_x.shape\n",
    "if hasattr(emu, \"_emulators\"):\n",
    "    print emu._emulators[0]._x.shape\n",
    "else:\n",
    "    print emu._emulator._x.shape"
   ]
  },
  {
   "cell_type": "code",
   "execution_count": null,
   "metadata": {},
   "outputs": [],
   "source": [
    "emu._ordered_params"
   ]
  },
  {
   "cell_type": "raw",
   "metadata": {},
   "source": [
    "x, y, y_pred = emu.goodness_of_fit(training_file, statistic = 'log_frac')"
   ]
  },
  {
   "cell_type": "raw",
   "metadata": {},
   "source": [
    "x, y, y_pred"
   ]
  },
  {
   "cell_type": "raw",
   "metadata": {},
   "source": [
    "N = 25\n",
    "for _y, yp in zip(y[:N], y_pred[:N]):\n",
    "    #plt.plot(emu.scale_bin_centers ,  (_y - yp)/yp ,alpha = 0.3, color = 'b')\n",
    "    \n",
    "    plt.plot(emu.scale_bin_centers, _y, alpha = 0.3, color = 'b')\n",
    "    plt.plot(emu.scale_bin_centers, yp, alpha = 0.3, color = 'r')\n",
    "    \n",
    "plt.loglog();"
   ]
  },
  {
   "cell_type": "raw",
   "metadata": {},
   "source": [
    "%%timeit\n",
    "#truth_file = '/u/ki/swmclau2/des/PearceRedMagicWpCosmoTest.hdf5'\n",
    "gof = emu.goodness_of_fit(training_file, N = 100, statistic = 'log_frac')"
   ]
  },
  {
   "cell_type": "code",
   "execution_count": null,
   "metadata": {},
   "outputs": [],
   "source": [
    "gof = emu.goodness_of_fit(training_file, statistic = 'frac')\n",
    "print gof.mean()"
   ]
  },
  {
   "cell_type": "code",
   "execution_count": null,
   "metadata": {
    "scrolled": true
   },
   "outputs": [],
   "source": [
    "for row in gof:\n",
    "    print row"
   ]
  },
  {
   "cell_type": "code",
   "execution_count": null,
   "metadata": {},
   "outputs": [],
   "source": [
    "gof = emu.goodness_of_fit(training_file, statistic = 'frac')\n",
    "print gof.mean()"
   ]
  },
  {
   "cell_type": "code",
   "execution_count": null,
   "metadata": {},
   "outputs": [],
   "source": [
    "model = emu._emulator"
   ]
  },
  {
   "cell_type": "code",
   "execution_count": null,
   "metadata": {},
   "outputs": [],
   "source": [
    "model.score(emu.x, emu.y)"
   ]
  },
  {
   "cell_type": "code",
   "execution_count": null,
   "metadata": {},
   "outputs": [],
   "source": [
    "ypred = model.predict(emu.x)\n",
    "\n",
    "np.mean(np.abs(ypred-emu.y)/emu.y)"
   ]
  },
  {
   "cell_type": "code",
   "execution_count": null,
   "metadata": {},
   "outputs": [],
   "source": [
    "plt.plot(emu.scale_bin_centers, np.abs(gof.mean(axis = 0)) )\n",
    "plt.plot(emu.scale_bin_centers, np.ones_like(emu.scale_bin_centers)*0.01)\n",
    "plt.plot(emu.scale_bin_centers, np.ones_like(emu.scale_bin_centers)*0.05)\n",
    "plt.plot(emu.scale_bin_centers, np.ones_like(emu.scale_bin_centers)*0.1)\n",
    "\n",
    "\n",
    "plt.loglog();"
   ]
  },
  {
   "cell_type": "code",
   "execution_count": null,
   "metadata": {},
   "outputs": [],
   "source": [
    "plt.plot(emu.scale_bin_centers, np.abs(gof.T),alpha = 0.1, color = 'b')\n",
    "plt.plot(emu.scale_bin_centers, np.ones_like(emu.scale_bin_centers)*0.01, lw = 2, color = 'k')\n",
    "plt.loglog();"
   ]
  },
  {
   "cell_type": "code",
   "execution_count": null,
   "metadata": {},
   "outputs": [],
   "source": [
    "gof[:,i].shape"
   ]
  },
  {
   "cell_type": "code",
   "execution_count": null,
   "metadata": {},
   "outputs": [],
   "source": [
    "for i in xrange(gof.shape[1]):\n",
    "    plt.hist(np.log10(gof[:, i]), label = str(i), alpha = 0.2);\n",
    "    \n",
    "plt.legend(loc='best')\n",
    "plt.show()"
   ]
  },
  {
   "cell_type": "code",
   "execution_count": null,
   "metadata": {},
   "outputs": [],
   "source": []
  }
 ],
 "metadata": {
  "kernelspec": {
   "display_name": "Python 2",
   "language": "python",
   "name": "python2"
  },
  "language_info": {
   "codemirror_mode": {
    "name": "ipython",
    "version": 2
   },
   "file_extension": ".py",
   "mimetype": "text/x-python",
   "name": "python",
   "nbconvert_exporter": "python",
   "pygments_lexer": "ipython2",
   "version": "2.7.12"
  }
 },
 "nbformat": 4,
 "nbformat_minor": 1
}
