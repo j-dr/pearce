{
 "cells": [
  {
   "cell_type": "markdown",
   "metadata": {},
   "source": [
    "I want to have a standard notebook to see if the emulator's I've made are workign as expected, as I've been implementing a few different AB models.  "
   ]
  },
  {
   "cell_type": "code",
   "execution_count": 1,
   "metadata": {
    "collapsed": false
   },
   "outputs": [],
   "source": [
    "from pearce.emulator import OriginalRecipe, ExtraCrispy\n",
    "from pearce.mocks import cat_dict\n",
    "import numpy as np\n",
    "from os import path"
   ]
  },
  {
   "cell_type": "code",
   "execution_count": 2,
   "metadata": {
    "collapsed": true
   },
   "outputs": [],
   "source": [
    "import matplotlib\n",
    "#matplotlib.use('Agg')\n",
    "from matplotlib import pyplot as plt\n",
    "%matplotlib inline\n",
    "import seaborn as sns\n",
    "sns.set()"
   ]
  },
  {
   "cell_type": "code",
   "execution_count": 3,
   "metadata": {
    "collapsed": true
   },
   "outputs": [],
   "source": [
    "#training_dir = '/u/ki/swmclau2/des/PearceLHC_wp_z_fscab_emulator/'\n",
    "training_dir = '/u/ki/swmclau2/des/PearceLHC_wp_z_corrab_emulator/'\n",
    "\n",
    "em_method = 'gp'\n",
    "split_method = 'random'"
   ]
  },
  {
   "cell_type": "code",
   "execution_count": 4,
   "metadata": {
    "collapsed": false
   },
   "outputs": [],
   "source": [
    "a = 1.0\n",
    "z = 1.0/a - 1.0\n"
   ]
  },
  {
   "cell_type": "code",
   "execution_count": 5,
   "metadata": {
    "collapsed": true
   },
   "outputs": [],
   "source": [
    "fixed_params = {'z':z}#, 'r':0.18477483}"
   ]
  },
  {
   "cell_type": "raw",
   "metadata": {
    "collapsed": true
   },
   "source": [
    "n_leaves, n_overlap = 10, 2\n",
    "emu = ExtraCrispy(training_dir, n_leaves, n_overlap, split_method, method = em_method, fixed_params=fixed_params)"
   ]
  },
  {
   "cell_type": "code",
   "execution_count": 6,
   "metadata": {
    "collapsed": false
   },
   "outputs": [
    {
     "ename": "KeyError",
     "evalue": "'mean_occupation_centrals_assembias_corr1'",
     "output_type": "error",
     "traceback": [
      "\u001b[1;31m---------------------------------------------------------------------------\u001b[0m",
      "\u001b[1;31mKeyError\u001b[0m                                  Traceback (most recent call last)",
      "\u001b[1;32m<ipython-input-6-774945beabd8>\u001b[0m in \u001b[0;36m<module>\u001b[1;34m()\u001b[0m\n\u001b[1;32m----> 1\u001b[1;33m \u001b[0memu\u001b[0m \u001b[1;33m=\u001b[0m \u001b[0mOriginalRecipe\u001b[0m\u001b[1;33m(\u001b[0m\u001b[0mtraining_dir\u001b[0m\u001b[1;33m,\u001b[0m \u001b[0mmethod\u001b[0m \u001b[1;33m=\u001b[0m \u001b[0mem_method\u001b[0m\u001b[1;33m,\u001b[0m \u001b[0mfixed_params\u001b[0m\u001b[1;33m=\u001b[0m\u001b[0mfixed_params\u001b[0m\u001b[1;33m)\u001b[0m\u001b[1;33m\u001b[0m\u001b[0m\n\u001b[0m",
      "\u001b[1;32m/u/ki/swmclau2/.conda/envs/hodemulator/lib/python2.7/site-packages/pearce/emulator/emu.pyc\u001b[0m in \u001b[0;36m__init__\u001b[1;34m(self, training_dir, method, hyperparams, fixed_params, independent_variable)\u001b[0m\n\u001b[0;32m     73\u001b[0m         \u001b[0mself\u001b[0m\u001b[1;33m.\u001b[0m\u001b[0mindependent_variable\u001b[0m \u001b[1;33m=\u001b[0m \u001b[0mindependent_variable\u001b[0m\u001b[1;33m\u001b[0m\u001b[0m\n\u001b[0;32m     74\u001b[0m \u001b[1;33m\u001b[0m\u001b[0m\n\u001b[1;32m---> 75\u001b[1;33m         \u001b[0mself\u001b[0m\u001b[1;33m.\u001b[0m\u001b[0mload_training_data\u001b[0m\u001b[1;33m(\u001b[0m\u001b[0mtraining_dir\u001b[0m\u001b[1;33m)\u001b[0m\u001b[1;33m\u001b[0m\u001b[0m\n\u001b[0m\u001b[0;32m     76\u001b[0m         \u001b[0mself\u001b[0m\u001b[1;33m.\u001b[0m\u001b[0mbuild_emulator\u001b[0m\u001b[1;33m(\u001b[0m\u001b[0mhyperparams\u001b[0m\u001b[1;33m)\u001b[0m\u001b[1;33m\u001b[0m\u001b[0m\n\u001b[0;32m     77\u001b[0m \u001b[1;33m\u001b[0m\u001b[0m\n",
      "\u001b[1;32m/u/ki/swmclau2/.conda/envs/hodemulator/lib/python2.7/site-packages/pearce/emulator/emu.pyc\u001b[0m in \u001b[0;36mload_training_data\u001b[1;34m(self, training_dir)\u001b[0m\n\u001b[0;32m    283\u001b[0m         \u001b[0mxs\u001b[0m\u001b[1;33m,\u001b[0m \u001b[0mys\u001b[0m\u001b[1;33m,\u001b[0m\u001b[0myerrs\u001b[0m\u001b[1;33m,\u001b[0m \u001b[0mycovs\u001b[0m \u001b[1;33m=\u001b[0m \u001b[1;33m[\u001b[0m\u001b[1;33m]\u001b[0m\u001b[1;33m,\u001b[0m \u001b[1;33m[\u001b[0m\u001b[1;33m]\u001b[0m\u001b[1;33m,\u001b[0m \u001b[1;33m[\u001b[0m\u001b[1;33m]\u001b[0m\u001b[1;33m,\u001b[0m \u001b[1;33m[\u001b[0m\u001b[1;33m]\u001b[0m\u001b[1;33m\u001b[0m\u001b[0m\n\u001b[0;32m    284\u001b[0m         \u001b[1;32mfor\u001b[0m \u001b[0mtd\u001b[0m \u001b[1;32min\u001b[0m \u001b[0mtraining_dir\u001b[0m\u001b[1;33m:\u001b[0m\u001b[1;33m\u001b[0m\u001b[0m\n\u001b[1;32m--> 285\u001b[1;33m             \u001b[0mx\u001b[0m\u001b[1;33m,\u001b[0m \u001b[0my\u001b[0m\u001b[1;33m,\u001b[0m\u001b[0myerr\u001b[0m\u001b[1;33m,\u001b[0m \u001b[0mycov\u001b[0m \u001b[1;33m=\u001b[0m \u001b[0mself\u001b[0m\u001b[1;33m.\u001b[0m\u001b[0mget_data\u001b[0m\u001b[1;33m(\u001b[0m\u001b[0mtd\u001b[0m\u001b[1;33m,\u001b[0m \u001b[1;33m{\u001b[0m\u001b[1;33m}\u001b[0m\u001b[1;33m,\u001b[0m \u001b[0mself\u001b[0m\u001b[1;33m.\u001b[0m\u001b[0mfixed_params\u001b[0m\u001b[1;33m,\u001b[0m \u001b[0mself\u001b[0m\u001b[1;33m.\u001b[0m\u001b[0mindependent_variable\u001b[0m\u001b[1;33m)\u001b[0m\u001b[1;33m\u001b[0m\u001b[0m\n\u001b[0m\u001b[0;32m    286\u001b[0m             \u001b[0mxs\u001b[0m\u001b[1;33m.\u001b[0m\u001b[0mappend\u001b[0m\u001b[1;33m(\u001b[0m\u001b[0mx\u001b[0m\u001b[1;33m)\u001b[0m\u001b[1;33m\u001b[0m\u001b[0m\n\u001b[0;32m    287\u001b[0m             \u001b[0mys\u001b[0m\u001b[1;33m.\u001b[0m\u001b[0mappend\u001b[0m\u001b[1;33m(\u001b[0m\u001b[0my\u001b[0m\u001b[1;33m)\u001b[0m\u001b[1;33m\u001b[0m\u001b[0m\n",
      "\u001b[1;32m/u/ki/swmclau2/.conda/envs/hodemulator/lib/python2.7/site-packages/pearce/emulator/emu.pyc\u001b[0m in \u001b[0;36mget_data\u001b[1;34m(self, data_dir, em_params, fixed_params, independent_variable)\u001b[0m\n\u001b[0;32m    197\u001b[0m                     \u001b[1;32mif\u001b[0m \u001b[0mpname\u001b[0m \u001b[1;32mnot\u001b[0m \u001b[1;32min\u001b[0m \u001b[0mfixed_params\u001b[0m \u001b[1;32mand\u001b[0m \u001b[0mpname\u001b[0m \u001b[1;32mnot\u001b[0m \u001b[1;32min\u001b[0m \u001b[1;33m{\u001b[0m\u001b[1;34m'z'\u001b[0m\u001b[1;33m,\u001b[0m \u001b[1;34m'r'\u001b[0m\u001b[1;33m}\u001b[0m\u001b[1;33m:\u001b[0m  \u001b[1;31m# may need to be input_params\u001b[0m\u001b[1;33m\u001b[0m\u001b[0m\n\u001b[0;32m    198\u001b[0m                         \u001b[1;31m# note we have to repeat for each scale bin\u001b[0m\u001b[1;33m\u001b[0m\u001b[1;33m\u001b[0m\u001b[0m\n\u001b[1;32m--> 199\u001b[1;33m                         \u001b[0mfile_params\u001b[0m\u001b[1;33m.\u001b[0m\u001b[0mappend\u001b[0m\u001b[1;33m(\u001b[0m\u001b[0mnp\u001b[0m\u001b[1;33m.\u001b[0m\u001b[0mones\u001b[0m\u001b[1;33m(\u001b[0m\u001b[1;33m(\u001b[0m\u001b[0mscale_nbins\u001b[0m\u001b[1;33m,\u001b[0m\u001b[1;33m)\u001b[0m\u001b[1;33m)\u001b[0m \u001b[1;33m*\u001b[0m \u001b[0mparams\u001b[0m\u001b[1;33m[\u001b[0m\u001b[0mpname\u001b[0m\u001b[1;33m]\u001b[0m\u001b[1;33m)\u001b[0m\u001b[1;33m\u001b[0m\u001b[0m\n\u001b[0m\u001b[0;32m    200\u001b[0m \u001b[1;33m\u001b[0m\u001b[0m\n\u001b[0;32m    201\u001b[0m                 \u001b[1;31m# r and z will always be at the end.\u001b[0m\u001b[1;33m\u001b[0m\u001b[1;33m\u001b[0m\u001b[0m\n",
      "\u001b[1;31mKeyError\u001b[0m: 'mean_occupation_centrals_assembias_corr1'"
     ]
    }
   ],
   "source": [
    "emu = OriginalRecipe(training_dir, method = em_method, fixed_params=fixed_params)"
   ]
  },
  {
   "cell_type": "raw",
   "metadata": {
    "collapsed": false
   },
   "source": [
    "i = 100\n",
    "plt.plot(emu.scale_bin_centers, emu.y[i*len(emu.scale_bin_centers):(i+1)*len(emu.scale_bin_centers)]+emu.y_hat)\n",
    "plt.xscale('log')\n",
    "print emu.x[i*len(emu.scale_bin_centers),:]\n",
    "print emu.x[i*len(emu.scale_bin_centers):(i+1)*len(emu.scale_bin_centers), -1]"
   ]
  },
  {
   "cell_type": "code",
   "execution_count": null,
   "metadata": {
    "collapsed": false
   },
   "outputs": [],
   "source": [
    "emu._ordered_params"
   ]
  },
  {
   "cell_type": "code",
   "execution_count": null,
   "metadata": {
    "collapsed": false
   },
   "outputs": [],
   "source": [
    "print emu.y"
   ]
  },
  {
   "cell_type": "code",
   "execution_count": null,
   "metadata": {
    "collapsed": false
   },
   "outputs": [],
   "source": [
    "metric = emu._get_initial_guess(None)"
   ]
  },
  {
   "cell_type": "code",
   "execution_count": null,
   "metadata": {
    "collapsed": false
   },
   "outputs": [],
   "source": [
    "metric"
   ]
  },
  {
   "cell_type": "code",
   "execution_count": null,
   "metadata": {
    "collapsed": false
   },
   "outputs": [],
   "source": [
    "new_hp = np.array([  80.75541473 , 179.90950523 ,  66.97808312 ,  89.17850468  ,225.64738711,\n",
    "   21.02835102])\n",
    "new_hp_pnames = ['mean_occupation_centrals_assembias_param1',\n",
    " 'mean_occupation_centrals_assembias_slope1',\n",
    " 'mean_occupation_centrals_assembias_split1',\n",
    " 'mean_occupation_satellites_assembias_param1',\n",
    " 'mean_occupation_satellites_assembias_slope1',\n",
    " 'mean_occupation_satellites_assembias_split1']\n"
   ]
  },
  {
   "cell_type": "raw",
   "metadata": {
    "collapsed": false
   },
   "source": [
    "metric.update(zip(new_hp_pnames, new_hp))\n",
    "emu._build_gp({'metric':metric})"
   ]
  },
  {
   "cell_type": "code",
   "execution_count": null,
   "metadata": {
    "collapsed": true
   },
   "outputs": [],
   "source": [
    "from pearce.mocks import compute_prim_haloprop_bins, cat_dict"
   ]
  },
  {
   "cell_type": "code",
   "execution_count": null,
   "metadata": {
    "collapsed": true
   },
   "outputs": [],
   "source": [
    "cosmo_params = {'simname':'chinchilla', 'Lbox':400.0, 'scale_factors':[a]}\n",
    "cat = cat_dict[cosmo_params['simname']](**cosmo_params)#construct the specified catalog!\n",
    "\n",
    "cat.load_catalog(a)\n",
    "#halo_masses = cat.halocat.halo_table['halo_mvir']"
   ]
  },
  {
   "cell_type": "code",
   "execution_count": null,
   "metadata": {
    "collapsed": false
   },
   "outputs": [],
   "source": [
    "cat.load_model(a, 'corrRedMagic')"
   ]
  },
  {
   "cell_type": "code",
   "execution_count": null,
   "metadata": {
    "collapsed": true
   },
   "outputs": [],
   "source": [
    "r_bins = np.logspace(-1, 1.6, 12)\n",
    "rpoints = (r_bins[1:]+r_bins[:-1])/2"
   ]
  },
  {
   "cell_type": "code",
   "execution_count": null,
   "metadata": {
    "collapsed": false
   },
   "outputs": [],
   "source": [
    "rpoints"
   ]
  },
  {
   "cell_type": "raw",
   "metadata": {
    "collapsed": false
   },
   "source": [
    "names = ['amp']\n",
    "names.extend(emu._ordered_params.keys())\n",
    "emu._build_gp({'metric': {key: val for key, val in zip(names,\\\n",
    "            np.exp(np.array([ -0.86111585,   0.6222047,   -0.44600521,  -2.73069034,  -1.43866719,\n",
    "                              -4.22174659,  -0.20519636,  -0.16024094,  -1.3396195,   -2.10916469,\n",
    "                              23.50698047,  -0.67395582,  -1.23835348,  -1.046121 ])))} })"
   ]
  },
  {
   "cell_type": "code",
   "execution_count": null,
   "metadata": {
    "collapsed": false,
    "scrolled": false
   },
   "outputs": [],
   "source": [
    "fig = plt.figure(figsize=(10,8))\n",
    "\n",
    "i = 50\n",
    "\n",
    "emulation_point = [('f_c', 0.233), ('logM0', 12.0), ('sigma_logM', 0.333),\n",
    "                    ('alpha', 1.053),('logM1', 13.5), ('logMmin', 12.033)]\n",
    "\n",
    "em_params = dict(emulation_point)\n",
    "\n",
    "em_params.update(fixed_params)\n",
    "del em_params['z']\n",
    "\n",
    "ab_params = {'mean_occupation_satellites_assembias_param1':0.0,\n",
    "                'mean_occupation_centrals_assembias_param1':0.0,\n",
    "                'mean_occupation_satellites_assembias_slope1':5.0,\n",
    "                'mean_occupation_centrals_assembias_slope1':5.0,\n",
    "                 'mean_occupation_satellites_assembias_split1':0.5,\n",
    "                'mean_occupation_centrals_assembias_split1':0.5}\n",
    "\n",
    "em_params.update(ab_params)\n",
    "\n",
    "em_params = {key: emu.x[i*len(emu.scale_bin_centers), idx] for idx, key in enumerate(emu._ordered_params.keys()[:-1]) }\n",
    "\n",
    "key = 'mean_occupation_centrals_assembias_param1'\n",
    "print em_params[key]\n",
    "em_params[key] = 0.0\n",
    "\n",
    "\n",
    "wp = emu.emulate_wrt_r(em_params,rpoints)[0]\n",
    "\n",
    "print wp\n",
    "    \n",
    "\n",
    "plt.plot(rpoints, wp, label = 'Emulator' )\n",
    "plt.plot(emu.scale_bin_centers, emu.y[i*len(emu.scale_bin_centers):(i+1)*len(emu.scale_bin_centers)]+emu.y_hat)\n",
    "plt.plot(emu.scale_bin_centers, np.ones_like(emu.scale_bin_centers)*emu.y_hat)\n",
    "plt.xscale('log')\n",
    "plt.legend(loc='best')\n",
    "#plt.xlim([0.1, 4])\n",
    "#plt.title(r'$w(\\theta)$ variance by %s'%param)\n",
    "#plt.xlabel(r'$\\theta$')\n",
    "#plt.ylabel(r'$w(\\theta)$')\n",
    "plt.show()"
   ]
  },
  {
   "cell_type": "code",
   "execution_count": null,
   "metadata": {
    "collapsed": true
   },
   "outputs": [],
   "source": [
    "import scipy.optimize as op\n",
    "from itertools import izip"
   ]
  },
  {
   "cell_type": "code",
   "execution_count": null,
   "metadata": {
    "collapsed": true
   },
   "outputs": [],
   "source": []
  },
  {
   "cell_type": "code",
   "execution_count": null,
   "metadata": {
    "collapsed": true
   },
   "outputs": [],
   "source": [
    "def nll(p):\n",
    "    # Update the kernel parameters and compute the likelihood.\n",
    "    # params are log(a) and log(m)\n",
    "    #ll = 0\n",
    "    #for emulator, _y in izip(self._emulators, self.y):\n",
    "    #    emulator.kernel[:] = p\n",
    "    #    ll += emulator.lnlikelihood(_y, quiet=True)\n",
    "    emu._emulator.kernel[:] = p\n",
    "    print p\n",
    "    ll= emu._emulator.lnlikelihood(emu.y, quiet=False)\n",
    "\n",
    "    # The scipy optimizer doesn't play well with infinities.\n",
    "    return -ll if np.isfinite(ll) else 1e25\n",
    "\n",
    "# And the gradient of the objective function.\n",
    "def grad_nll(p):\n",
    "    # Update the kernel parameters and compute the likelihood.\n",
    "    #gll = 0\n",
    "    #for emulator, _y in izip(self._emulators, self.y):\n",
    "    #    emulator.kernel[:] = p\n",
    "    #    gll += emulator.grad_lnlikelihood(_y, quiet=True)\n",
    "    emu._emulator.kernel[:] = p\n",
    "    gll = emu._emulator.grad_lnlikelihood(emu.y, quiet=True)\n",
    "    return -gll"
   ]
  },
  {
   "cell_type": "code",
   "execution_count": null,
   "metadata": {
    "collapsed": false
   },
   "outputs": [],
   "source": [
    "emu.goodness_of_fit(training_dir)"
   ]
  },
  {
   "cell_type": "code",
   "execution_count": null,
   "metadata": {
    "collapsed": false
   },
   "outputs": [],
   "source": [
    "p0 = emu._emulator.kernel.vector"
   ]
  },
  {
   "cell_type": "code",
   "execution_count": null,
   "metadata": {
    "collapsed": false,
    "scrolled": false
   },
   "outputs": [],
   "source": [
    "p0 = np.log(np.random.rand(emu._emulator.kernel.vector.shape[0]))\n",
    "results = op.minimize(nll, p0, jac=grad_nll)"
   ]
  },
  {
   "cell_type": "code",
   "execution_count": null,
   "metadata": {
    "collapsed": false
   },
   "outputs": [],
   "source": [
    "print results.x\n",
    "print results.success"
   ]
  },
  {
   "cell_type": "code",
   "execution_count": null,
   "metadata": {
    "collapsed": true
   },
   "outputs": [],
   "source": [
    "from sklearn.model_selection import RandomizedSearchCV\n",
    "from sklean.metrics import make_scorer"
   ]
  },
  {
   "cell_type": "code",
   "execution_count": null,
   "metadata": {
    "collapsed": true
   },
   "outputs": [],
   "source": [
    "def my_loss_func(predictions, emu.y)"
   ]
  },
  {
   "cell_type": "code",
   "execution_count": null,
   "metadata": {
    "collapsed": true
   },
   "outputs": [],
   "source": []
  }
 ],
 "metadata": {
  "kernelspec": {
   "display_name": "Python [conda env:hodemulator]",
   "language": "python",
   "name": "conda-env-hodemulator-py"
  },
  "language_info": {
   "codemirror_mode": {
    "name": "ipython",
    "version": 2
   },
   "file_extension": ".py",
   "mimetype": "text/x-python",
   "name": "python",
   "nbconvert_exporter": "python",
   "pygments_lexer": "ipython2",
   "version": "2.7.13"
  }
 },
 "nbformat": 4,
 "nbformat_minor": 0
}
