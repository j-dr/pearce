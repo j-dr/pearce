{
 "cells": [
  {
   "cell_type": "markdown",
   "metadata": {},
   "source": [
    "I'm having a problem with a few different version of my run_mcmc function, where it's giving shitty contours. I'm gonna put it into a notebook so I can more easily make plots and step through different processes in it. "
   ]
  },
  {
   "cell_type": "code",
   "execution_count": 1,
   "metadata": {
    "collapsed": true
   },
   "outputs": [],
   "source": [
    "from pearce.emulator import OriginalRecipe, ExtraCrispy\n",
    "from pearce.mocks.customHODModels import *\n",
    "from pearce.mocks import cat_dict\n",
    "import numpy as np\n",
    "from os import path"
   ]
  },
  {
   "cell_type": "code",
   "execution_count": 2,
   "metadata": {
    "collapsed": true
   },
   "outputs": [],
   "source": [
    "from multiprocessing import cpu_count\n",
    "import warnings\n",
    "from itertools import izip\n",
    "\n",
    "import numpy as np\n",
    "import emcee as mc\n",
    "from scipy.linalg import inv"
   ]
  },
  {
   "cell_type": "code",
   "execution_count": 3,
   "metadata": {
    "collapsed": true
   },
   "outputs": [],
   "source": [
    "from matplotlib import pyplot as plt\n",
    "%matplotlib inline\n",
    "import seaborn as sns\n",
    "sns.set()"
   ]
  },
  {
   "cell_type": "code",
   "execution_count": 4,
   "metadata": {
    "collapsed": true
   },
   "outputs": [],
   "source": [
    "def lnprior(theta, param_names, *args):\n",
    "    for p, t in izip(param_names, theta):\n",
    "        low, high = _emu.get_param_bounds(p)\n",
    "        if np.isnan(t) or t < low or t > high:\n",
    "            return -np.inf\n",
    "    return 0"
   ]
  },
  {
   "cell_type": "code",
   "execution_count": 5,
   "metadata": {
    "collapsed": false
   },
   "outputs": [],
   "source": [
    "def lnlike(theta, param_names, fixed_params, r_bin_centers, y, combined_inv_cov, obs_nd, obs_nd_err, nd_func_name):\n",
    "    param_dict = dict(izip(param_names, theta))\n",
    "    param_dict.update(fixed_params)\n",
    "    y_bar = _emu.emulate_wrt_r(param_dict, r_bin_centers)[0]\n",
    "    # should chi2 be calculated in log or linear?\n",
    "    # answer: the user is responsible for taking the log before it comes here.\n",
    "    delta = y_bar - y\n",
    "    print 'y',y\n",
    "    print 'ybar',y_bar\n",
    "    #print y_bar\n",
    "    chi2 = -0.5 * np.dot(delta, np.dot(combined_inv_cov, delta))\n",
    "\n",
    "    return chi2# - 0.5 * ((obs_nd - getattr(_cat, nd_func_name)(param_dict)) / obs_nd_err) ** 2"
   ]
  },
  {
   "cell_type": "code",
   "execution_count": 6,
   "metadata": {
    "collapsed": true
   },
   "outputs": [],
   "source": [
    "def lnprob(theta, *args):\n",
    "    lp = lnprior(theta, *args)\n",
    "    if not np.isfinite(lp):\n",
    "        return -np.inf\n",
    "\n",
    "    return lp + lnlike(theta, *args)"
   ]
  },
  {
   "cell_type": "code",
   "execution_count": 7,
   "metadata": {
    "collapsed": true
   },
   "outputs": [],
   "source": [
    "def _run_tests(y, cov, r_bin_centers, param_names, fixed_params, ncores, nd_func_name):\n",
    "\n",
    "    assert ncores == 'all' or ncores > 0\n",
    "    if type(ncores) is not str:\n",
    "        assert int(ncores) == ncores\n",
    "\n",
    "    max_cores = cpu_count()\n",
    "    if ncores == 'all':\n",
    "        ncores = max_cores\n",
    "    elif ncores > max_cores:\n",
    "        warnings.warn('ncores invalid. Changing from %d to maximum %d.' % (ncores, max_cores))\n",
    "        ncores = max_cores\n",
    "        # else, we're good!\n",
    "\n",
    "    assert y.shape[0] == cov.shape[0] and cov.shape[1] == cov.shape[0]\n",
    "    assert y.shape[0] == r_bin_centers.shape[0]\n",
    "\n",
    "    # check we've defined all necessary params\n",
    "    assert _emu.emulator_ndim == len(fixed_params) + len(param_names) + 1  # for r\n",
    "    tmp = param_names[:]\n",
    "    assert not any([key in param_names for key in fixed_params])  # param names can't include the\n",
    "    tmp.extend(fixed_params.keys())\n",
    "    assert _emu.check_param_names(tmp, ignore=['r'])\n",
    "\n",
    "    assert hasattr(_cat, nd_func_name)\n",
    "\n",
    "    return ncores"
   ]
  },
  {
   "cell_type": "code",
   "execution_count": 8,
   "metadata": {
    "collapsed": true
   },
   "outputs": [],
   "source": [
    "def _resume_from_previous(resume_from_previous, nwalkers, num_params):\n",
    "    # load a previous chain\n",
    "    # TODO add error messages here\n",
    "    old_chain = np.loadtxt(resume_from_previous)\n",
    "    if len(old_chain.shape) == 2:\n",
    "        c = old_chain.reshape((nwalkers, -1, num_params))\n",
    "        pos0 = c[:, -1, :]\n",
    "    else:  # 3\n",
    "        pos0 = old_chain[:, -1, :]\n",
    "\n",
    "    return pos0\n"
   ]
  },
  {
   "cell_type": "code",
   "execution_count": 9,
   "metadata": {
    "collapsed": true
   },
   "outputs": [],
   "source": [
    "def _random_initial_guess(param_names, nwalkers, num_params):\n",
    "    \"\"\"\n",
    "    Create a random initial guess for the sampler. Creates a 3-sigma gaussian ball around the center of the prior space.\n",
    "    :param param_names:\n",
    "        The names of the parameters in the emulator\n",
    "    :param nwalkers:\n",
    "        Number of walkers to initiate. Must be the same as in resume_from_previous\n",
    "    :param num_params:\n",
    "        Number of params to initiate, must be the same as in resume_from_previous\n",
    "    :return: pos0, the initial position of each walker for the chain.\n",
    "    \"\"\"\n",
    "\n",
    "    pos0 = np.zeros((nwalkers, num_params))\n",
    "    for idx, pname in enumerate(param_names):\n",
    "        low, high = _emu.get_param_bounds(pname)\n",
    "        pos0[:, idx] = np.random.randn(nwalkers) * (np.abs(high - low) / 6.0) + (low + high) / 2.0\n",
    "        # TODO variable with of the initial guess\n",
    "\n",
    "    return pos0"
   ]
  },
  {
   "cell_type": "code",
   "execution_count": 10,
   "metadata": {
    "collapsed": false
   },
   "outputs": [
    {
     "name": "stderr",
     "output_type": "stream",
     "text": [
      "<ipython-input-10-9dbb0c2bea65>:4: SyntaxWarning: name '_emu' is assigned to before global declaration\n",
      "  global _emu\n",
      "<ipython-input-10-9dbb0c2bea65>:5: SyntaxWarning: name '_cat' is assigned to before global declaration\n",
      "  global _cat\n"
     ]
    }
   ],
   "source": [
    "def run_mcmc(emu, cat, param_names, y, cov, r_bin_centers, obs_nd, obs_nd_err, nd_func_name, \\\n",
    "             fixed_params={}, resume_from_previous=None, nwalkers=1000, nsteps=100, nburn=20, ncores='all'):\n",
    "    _emu = emu\n",
    "    _cat = cat\n",
    "    global _emu\n",
    "    global _cat\n",
    "\n",
    "    ncores= _run_tests(y, cov, r_bin_centers,param_names, fixed_params, ncores, nd_func_name)\n",
    "    num_params = len(param_names)\n",
    "    combined_inv_cov = inv(_emu.ycov + cov)\n",
    "\n",
    "    sampler = mc.EnsembleSampler(nwalkers, num_params, lnprob,\n",
    "                                 threads=ncores, args=(param_names, fixed_params, r_bin_centers, y, combined_inv_cov, \\\n",
    "                                                       obs_nd, obs_nd_err, nd_func_name))\n",
    "\n",
    "    if resume_from_previous is not None:\n",
    "        try:\n",
    "            assert nburn == 0\n",
    "        except AssertionError:\n",
    "            raise AssertionError(\"Cannot resume from previous chain with nburn != 0. Please change! \")\n",
    "        # load a previous chain\n",
    "        pos0 = _resume_from_previous(resume_from_previous, nwalkers, num_params)\n",
    "    else:\n",
    "        pos0 = _random_initial_guess(param_names, nwalkers, num_params)\n",
    "    return pos0, (param_names, fixed_params, r_bin_centers, y, combined_inv_cov, \\\n",
    "                                                       obs_nd, obs_nd_err, nd_func_name)\n",
    "\n",
    "    sampler.run_mcmc(pos0, nsteps)\n",
    "\n",
    "    chain = sampler.chain[:, nburn:, :].reshape((-1, num_params))"
   ]
  },
  {
   "cell_type": "code",
   "execution_count": 11,
   "metadata": {
    "collapsed": true
   },
   "outputs": [],
   "source": [
    "training_dir = '/u/ki/swmclau2/des/PearceLHC_wp_z_sham_emulator/'\n",
    "\n",
    "em_method = 'gp'\n",
    "split_method = 'random'\n",
    "\n",
    "load_fixed_params = {'z':0.0}"
   ]
  },
  {
   "cell_type": "code",
   "execution_count": 12,
   "metadata": {
    "collapsed": true
   },
   "outputs": [],
   "source": [
    "emu = ExtraCrispy(training_dir,10, 2, split_method, method=em_method, fixed_params=load_fixed_params)"
   ]
  },
  {
   "cell_type": "code",
   "execution_count": 13,
   "metadata": {
    "collapsed": true
   },
   "outputs": [],
   "source": [
    "#Remember if training data is an LHC can't load a fixed set, do that after\n",
    "fixed_params = {'f_c':1.0}#,'logM1': 13.8 }# 'z':0.0}\n",
    "\n",
    "cosmo_params = {'simname':'chinchilla', 'Lbox':400.0, 'scale_factors':[1.0]}\n",
    "cat = cat_dict[cosmo_params['simname']](**cosmo_params)#construct the specified catalog!"
   ]
  },
  {
   "cell_type": "code",
   "execution_count": 14,
   "metadata": {
    "collapsed": true
   },
   "outputs": [],
   "source": [
    "#mbc = np.loadtxt('/nfs/slac/g/ki/ki18/des/swmclau2/AB_tests/mbc.npy')\n",
    "#cen_hod = np.loadtxt('/nfs/slac/g/ki/ki18/des/swmclau2/AB_tests/cen_hod.npy')\n",
    "#sat_hod = np.loadtxt('/nfs/slac/g/ki/ki18/des/swmclau2/AB_tests/sat_hod.npy')\n",
    "\n",
    "#cat.load_model(1.0, HOD=(HSAssembiasTabulatedCens, HSAssembiasTabulatedSats),\\\n",
    "#                hod_kwargs = {'prim_haloprop_vals': mbc,\n",
    "#                              'cen_hod_vals':cen_hod,\n",
    "#                              'sat_hod_vals':sat_hod})\n",
    "#cat.load_catalog(1.0)\n",
    "cat.load(1.0, HOD='redMagic')"
   ]
  },
  {
   "cell_type": "code",
   "execution_count": 15,
   "metadata": {
    "collapsed": true
   },
   "outputs": [],
   "source": [
    "emulation_point = [('f_c', 0.2), ('logM0', 12.0), ('sigma_logM', 0.366),\n",
    "                    ('alpha', 1.083),('logM1', 13.7), ('logMmin', 12.233)]\n",
    "#emulation_point = [('mean_occupation_centrals_assembias_param1',0.6),\\\n",
    "#                    ('mean_occupation_satellites_assembias_param1',-0.7)]\n",
    "\n",
    "em_params = dict(emulation_point)\n",
    "\n",
    "em_params.update(fixed_params)\n",
    "#del em_params['z']"
   ]
  },
  {
   "cell_type": "code",
   "execution_count": 16,
   "metadata": {
    "collapsed": true
   },
   "outputs": [],
   "source": [
    "#rp_bins =  np.logspace(-1.1,1.6,18) \n",
    "#rp_bins.pop(1)\n",
    "#rp_bins = np.array(rp_bins)\n",
    "rp_bins = np.loadtxt('/nfs/slac/g/ki/ki18/des/swmclau2/AB_tests/rp_bins.npy')\n",
    "rpoints = (rp_bins[1:]+rp_bins[:-1])/2.0"
   ]
  },
  {
   "cell_type": "code",
   "execution_count": 17,
   "metadata": {
    "collapsed": true
   },
   "outputs": [],
   "source": [
    "wp_vals = []\n",
    "nds = []\n",
    "for i in xrange(2):\n",
    "    cat.populate(em_params)\n",
    "    wp_vals.append(cat.calc_wp(rp_bins, 40))\n",
    "    nds.append(cat.calc_number_density())"
   ]
  },
  {
   "cell_type": "code",
   "execution_count": 18,
   "metadata": {
    "collapsed": true
   },
   "outputs": [],
   "source": [
    "#y = np.mean(np.log10(np.array(wp_vals)),axis = 0 )\n",
    "y = np.log10(np.loadtxt('/nfs/slac/g/ki/ki18/des/swmclau2/AB_tests/sham_vpeak_shuffled_wp.npy'))\n",
    "# TODO need a way to get a measurement cov for the shams\n",
    "cov = np.cov(np.log10(np.array(wp_vals).T))#/np.sqrt(50)\n",
    "\n",
    "#obs_nd = np.mean(np.array(nds))\n",
    "obs_nd = np.loadtxt('/nfs/slac/g/ki/ki18/des/swmclau2/AB_tests/sham_vpeak_shuffled_nd.npy')\n",
    "obs_nd_err = np.std(np.array(nds))"
   ]
  },
  {
   "cell_type": "code",
   "execution_count": 19,
   "metadata": {
    "collapsed": true
   },
   "outputs": [],
   "source": [
    "param_names = [k for k in em_params.iterkeys() if k not in fixed_params]\n",
    "\n",
    "nwalkers = 10\n",
    "nsteps = 10\n",
    "nburn = 0"
   ]
  },
  {
   "cell_type": "code",
   "execution_count": 20,
   "metadata": {
    "collapsed": false
   },
   "outputs": [],
   "source": [
    "pos0, args = run_mcmc(emu, cat, param_names, y, cov, rpoints,obs_nd, obs_nd_err,'calc_analytic_nd', fixed_params = fixed_params,\\\n",
    "        nwalkers = nwalkers, nsteps = nsteps, nburn = nburn)#,\\\n",
    "        #resume_from_previous = '/u/ki/swmclau2/des/PearceMCMC/100_walkers_1000_steps_chain_shuffled_sham_no_nd.npy')#, ncores = 1)"
   ]
  },
  {
   "cell_type": "code",
   "execution_count": 21,
   "metadata": {
    "collapsed": false
   },
   "outputs": [],
   "source": [
    "from corner import corner"
   ]
  },
  {
   "cell_type": "raw",
   "metadata": {},
   "source": [
    "corner(pos0, labels = param_names);\n",
    "plt.show()"
   ]
  },
  {
   "cell_type": "code",
   "execution_count": 22,
   "metadata": {
    "collapsed": false,
    "scrolled": false
   },
   "outputs": [
    {
     "name": "stdout",
     "output_type": "stream",
     "text": [
      "y [ 2.80952448  2.65328823  2.48301516  2.30362902  2.14627957  1.95362842\n",
      "  1.80430798  1.68158807  1.57263899  1.46153458  1.3476285   1.20096019\n",
      "  1.05796409  0.88708418  0.66177206  0.39845162 -0.03907167]\n",
      "ybar [ 2.56963155  2.4547732   2.31934408  2.14747442  1.99309698  1.86687827\n",
      "  1.7561729   1.6549791   1.55474039  1.43757182  1.30402759  1.17071475\n",
      "  1.04612661  0.93573157  0.81512888  0.58880817  0.23433805]\n",
      "-38.3018419197\n",
      "\n",
      "y [ 2.80952448  2.65328823  2.48301516  2.30362902  2.14627957  1.95362842\n",
      "  1.80430798  1.68158807  1.57263899  1.46153458  1.3476285   1.20096019\n",
      "  1.05796409  0.88708418  0.66177206  0.39845162 -0.03907167]\n",
      "ybar [ 2.71249502  2.58267256  2.43221085  2.24550714  2.07913669  1.94037773\n",
      "  1.81927064  1.71187451  1.60318596  1.48623494  1.3722795   1.2644453\n",
      "  1.15343637  1.03672015  0.89614207  0.67148658  0.29372361]\n",
      "-59.5021256882\n",
      "\n",
      "y [ 2.80952448  2.65328823  2.48301516  2.30362902  2.14627957  1.95362842\n",
      "  1.80430798  1.68158807  1.57263899  1.46153458  1.3476285   1.20096019\n",
      "  1.05796409  0.88708418  0.66177206  0.39845162 -0.03907167]\n",
      "ybar [ 2.52177175  2.41034177  2.27798658  2.11087566  1.96905858  1.86548275\n",
      "  1.77734792  1.68598673  1.58218657  1.46060099  1.32403554  1.18453062\n",
      "  1.05393225  0.94206687  0.81957919  0.59600507  0.27420822]\n",
      "-47.4652703033\n",
      "\n",
      "y [ 2.80952448  2.65328823  2.48301516  2.30362902  2.14627957  1.95362842\n",
      "  1.80430798  1.68158807  1.57263899  1.46153458  1.3476285   1.20096019\n",
      "  1.05796409  0.88708418  0.66177206  0.39845162 -0.03907167]\n",
      "ybar [ 3.58884308  3.48187494  3.36480535  3.18603648  2.96240609  2.70225478\n",
      "  2.42399997  2.1671799   1.95908143  1.79936986  1.65683991  1.48783661\n",
      "  1.28816639  1.09444582  0.90105306  0.60816509  0.14469855]\n",
      "-30.9603916657\n",
      "\n",
      "y [ 2.80952448  2.65328823  2.48301516  2.30362902  2.14627957  1.95362842\n",
      "  1.80430798  1.68158807  1.57263899  1.46153458  1.3476285   1.20096019\n",
      "  1.05796409  0.88708418  0.66177206  0.39845162 -0.03907167]\n",
      "ybar [ 2.38699216  2.28324281  2.16827958  2.02419196  1.90051909  1.79808161\n",
      "  1.70092698  1.60616203  1.50635377  1.39298752  1.27688542  1.16482946\n",
      "  1.05278604  0.94654425  0.83740837  0.6366615   0.27508511]\n",
      "-52.1835349166\n",
      "\n",
      "y [ 2.80952448  2.65328823  2.48301516  2.30362902  2.14627957  1.95362842\n",
      "  1.80430798  1.68158807  1.57263899  1.46153458  1.3476285   1.20096019\n",
      "  1.05796409  0.88708418  0.66177206  0.39845162 -0.03907167]\n",
      "ybar [ 2.31555192  2.20516457  2.10274524  1.97274009  1.87384603  1.8249844\n",
      "  1.77670539  1.70300696  1.60540356  1.49602353  1.38299973  1.25509998\n",
      "  1.10740093  0.9597248   0.78041502  0.53745316  0.22180955]\n",
      "-30.5976381351\n",
      "\n",
      "y [ 2.80952448  2.65328823  2.48301516  2.30362902  2.14627957  1.95362842\n",
      "  1.80430798  1.68158807  1.57263899  1.46153458  1.3476285   1.20096019\n",
      "  1.05796409  0.88708418  0.66177206  0.39845162 -0.03907167]\n",
      "ybar [ 1.78980492  1.79302243  1.8461786   1.83303722  1.80004256  1.77716724\n",
      "  1.73516804  1.65677239  1.55361053  1.44602434  1.3290614   1.19825035\n",
      "  1.06540806  0.93896773  0.79056759  0.55134392  0.21683564]\n",
      "-31.0433100187\n",
      "\n",
      "y [ 2.80952448  2.65328823  2.48301516  2.30362902  2.14627957  1.95362842\n",
      "  1.80430798  1.68158807  1.57263899  1.46153458  1.3476285   1.20096019\n",
      "  1.05796409  0.88708418  0.66177206  0.39845162 -0.03907167]\n",
      "ybar [ 3.07780981  2.8694145   2.64865412  2.40707084  2.20168094  2.0442939\n",
      "  1.92361969  1.82512165  1.72389756  1.6130158   1.49573634  1.36648027\n",
      "  1.23351155  1.10053993  0.94379555  0.71669129  0.43188544]\n",
      "-105.778858766\n",
      "\n",
      "y [ 2.80952448  2.65328823  2.48301516  2.30362902  2.14627957  1.95362842\n",
      "  1.80430798  1.68158807  1.57263899  1.46153458  1.3476285   1.20096019\n",
      "  1.05796409  0.88708418  0.66177206  0.39845162 -0.03907167]\n",
      "ybar [ 2.36257036  2.24121259  2.13248749  1.99112934  1.87520256  1.80453219\n",
      "  1.74944694  1.68479058  1.60147097  1.49949401  1.37664054  1.2507177\n",
      "  1.12738911  0.99193774  0.82965081  0.61226407  0.369852  ]\n",
      "-74.4367397345\n",
      "\n",
      "y [ 2.80952448  2.65328823  2.48301516  2.30362902  2.14627957  1.95362842\n",
      "  1.80430798  1.68158807  1.57263899  1.46153458  1.3476285   1.20096019\n",
      "  1.05796409  0.88708418  0.66177206  0.39845162 -0.03907167]\n",
      "ybar [ 3.6110835   3.48014945  3.35333711  3.16031305  2.91447941  2.6318688\n",
      "  2.35048122  2.1152614   1.93053989  1.78597303  1.64063641  1.46031376\n",
      "  1.25504145  1.05929945  0.87318662  0.59839015  0.16936722]\n",
      "-30.2139839677\n",
      "\n"
     ]
    },
    {
     "name": "stderr",
     "output_type": "stream",
     "text": [
      "/u/ki/swmclau2/.conda/envs/hodemulator/lib/python2.7/site-packages/pearce/emulator/emu.py:445: UserWarning: One value for r is outside the bounds (0.097, 33.714) of the emulator.\n",
      "  pname, plow, phigh))\n"
     ]
    }
   ],
   "source": [
    "for t in pos0:\n",
    "    print lnlike(t, *args)\n",
    "    print "
   ]
  },
  {
   "cell_type": "code",
   "execution_count": 23,
   "metadata": {
    "collapsed": false
   },
   "outputs": [
    {
     "name": "stdout",
     "output_type": "stream",
     "text": [
      "[[  1.53112009e-04   1.40805711e-05   4.55467353e-05   8.45308972e-05\n",
      "    5.72326603e-05   3.24262962e-05  -5.83476649e-05  -3.28622899e-05\n",
      "   -6.59968407e-05  -8.59525275e-05  -3.09713914e-05  -4.64673545e-05\n",
      "   -3.64807224e-05  -7.23893526e-05  -7.84130022e-05  -1.18995042e-04\n",
      "   -3.70858347e-05]\n",
      " [  1.40805711e-05   1.29488525e-06   4.18859401e-06   7.77367703e-06\n",
      "    5.26326150e-06   2.98200495e-06  -5.36580017e-06  -3.02210004e-06\n",
      "   -6.06923790e-06  -7.90441378e-06  -2.84820819e-06  -4.27325651e-06\n",
      "   -3.35486033e-06  -6.65710961e-06  -7.21105979e-06  -1.09430877e-05\n",
      "   -3.41050800e-06]\n",
      " [  4.55467353e-05   4.18859401e-06   1.35489379e-05   2.51456853e-05\n",
      "    1.70251886e-05   9.64595750e-06  -1.73568727e-05  -9.77565398e-06\n",
      "   -1.96322983e-05  -2.55685824e-05  -9.21316216e-06  -1.38227975e-05\n",
      "   -1.08520411e-05  -2.15339000e-05  -2.33257749e-05  -3.53978482e-05\n",
      "   -1.10320458e-05]\n",
      " [  8.45308972e-05   7.77367703e-06   2.51456853e-05   4.66682701e-05\n",
      "    3.15973134e-05   1.79020831e-05  -3.22128911e-05  -1.81427889e-05\n",
      "   -3.64358890e-05  -4.74531313e-05  -1.70988515e-05  -2.56539457e-05\n",
      "   -2.01404725e-05  -3.99651012e-05  -4.32906698e-05  -6.56954193e-05\n",
      "   -2.04745461e-05]\n",
      " [  5.72326603e-05   5.26326150e-06   1.70251886e-05   3.15973134e-05\n",
      "    2.13933409e-05   1.21208206e-05  -2.18101252e-05  -1.22837933e-05\n",
      "   -2.46693567e-05  -3.21287131e-05  -1.15769830e-05  -1.73693124e-05\n",
      "   -1.36363490e-05  -2.70588523e-05  -2.93104685e-05  -4.44798735e-05\n",
      "   -1.38625376e-05]\n",
      " [  3.24262962e-05   2.98200495e-06   9.64595750e-06   1.79020831e-05\n",
      "    1.21208206e-05   6.86729078e-06  -1.23569580e-05  -6.95962619e-06\n",
      "   -1.39769122e-05  -1.82031582e-05  -6.55916881e-06  -9.84092766e-06\n",
      "   -7.72594338e-06  -1.53307282e-05  -1.66064259e-05  -2.52009525e-05\n",
      "   -7.85409500e-06]\n",
      " [ -5.83476649e-05  -5.36580017e-06  -1.73568727e-05  -3.22128911e-05\n",
      "   -2.18101252e-05  -1.23569580e-05   2.22350293e-05   1.25231058e-05\n",
      "    2.51499642e-05   3.27546436e-05   1.18025254e-05   1.77077007e-05\n",
      "    1.39020119e-05   2.75860118e-05   2.98814940e-05   4.53464288e-05\n",
      "    1.41326071e-05]\n",
      " [ -3.28622899e-05  -3.02210004e-06  -9.77565398e-06  -1.81427889e-05\n",
      "   -1.22837933e-05  -6.95962619e-06   1.25231058e-05   7.05320311e-06\n",
      "    1.41648413e-05   1.84479121e-05   6.64736130e-06   9.97324564e-06\n",
      "    7.82982396e-06   1.55368603e-05   1.68297107e-05   2.55397965e-05\n",
      "    7.95969866e-06]\n",
      " [ -6.59968407e-05  -6.06923790e-06  -1.96322983e-05  -3.64358890e-05\n",
      "   -2.46693567e-05  -1.39769122e-05   2.51499642e-05   1.41648413e-05\n",
      "    2.84470370e-05   3.70486633e-05   1.33497954e-05   2.00291187e-05\n",
      "    1.57245173e-05   3.12024420e-05   3.37988539e-05   5.12911878e-05\n",
      "    1.59853427e-05]\n",
      " [ -8.59525275e-05  -7.90441378e-06  -2.55685824e-05  -4.74531313e-05\n",
      "   -3.21287131e-05  -1.82031582e-05   3.27546436e-05   1.84479121e-05\n",
      "    3.70486633e-05   4.82511923e-05   1.73864179e-05   2.60853907e-05\n",
      "    2.04791925e-05   4.06372294e-05   4.40187270e-05   6.68002768e-05\n",
      "    2.08188845e-05]\n",
      " [ -3.09713914e-05  -2.84820819e-06  -9.21316216e-06  -1.70988515e-05\n",
      "   -1.15769830e-05  -6.55916881e-06   1.18025254e-05   6.64736130e-06\n",
      "    1.33497954e-05   1.73864179e-05   6.26487166e-06   9.39938438e-06\n",
      "    7.37929534e-06   1.46428683e-05   1.58613279e-05   2.40702348e-05\n",
      "    7.50169703e-06]\n",
      " [ -4.64673545e-05  -4.27325651e-06  -1.38227975e-05  -2.56539457e-05\n",
      "   -1.73693124e-05  -9.84092766e-06   1.77077007e-05   9.97324564e-06\n",
      "    2.00291187e-05   2.60853907e-05   9.39938438e-06   1.41021926e-05\n",
      "    1.10713893e-05   2.19691567e-05   2.37972501e-05   3.61133318e-05\n",
      "    1.12550325e-05]\n",
      " [ -3.64807224e-05  -3.35486033e-06  -1.08520411e-05  -2.01404725e-05\n",
      "   -1.36363490e-05  -7.72594338e-06   1.39020119e-05   7.82982396e-06\n",
      "    1.57245173e-05   2.04791925e-05   7.37929534e-06   1.10713893e-05\n",
      "    8.69195773e-06   1.72476078e-05   1.86828126e-05   2.83519569e-05\n",
      "    8.83613279e-06]\n",
      " [ -7.23893526e-05  -6.65710961e-06  -2.15339000e-05  -3.99651012e-05\n",
      "   -2.70588523e-05  -1.53307282e-05   2.75860118e-05   1.55368603e-05\n",
      "    3.12024420e-05   4.06372294e-05   1.46428683e-05   2.19691567e-05\n",
      "    1.72476078e-05   3.42247379e-05   3.70726405e-05   5.62592972e-05\n",
      "    1.75336970e-05]\n",
      " [ -7.84130022e-05  -7.21105979e-06  -2.33257749e-05  -4.32906698e-05\n",
      "   -2.93104685e-05  -1.66064259e-05   2.98814940e-05   1.68297107e-05\n",
      "    3.37988539e-05   4.40187270e-05   1.58613279e-05   2.37972501e-05\n",
      "    1.86828126e-05   3.70726405e-05   4.01575223e-05   6.09407356e-05\n",
      "    1.89927078e-05]\n",
      " [ -1.18995042e-04  -1.09430877e-05  -3.53978482e-05  -6.56954193e-05\n",
      "   -4.44798735e-05  -2.52009525e-05   4.53464288e-05   2.55397965e-05\n",
      "    5.12911878e-05   6.68002768e-05   2.40702348e-05   3.61133318e-05\n",
      "    2.83519569e-05   5.62592972e-05   6.09407356e-05   9.24801392e-05\n",
      "    2.88222359e-05]\n",
      " [ -3.70858347e-05  -3.41050800e-06  -1.10320458e-05  -2.04745461e-05\n",
      "   -1.38625376e-05  -7.85409500e-06   1.41326071e-05   7.95969866e-06\n",
      "    1.59853427e-05   2.08188845e-05   7.50169703e-06   1.12550325e-05\n",
      "    8.83613279e-06   1.75336970e-05   1.89927078e-05   2.88222359e-05\n",
      "    8.98269931e-06]]\n"
     ]
    }
   ],
   "source": [
    "print cov"
   ]
  },
  {
   "cell_type": "code",
   "execution_count": 24,
   "metadata": {
    "collapsed": false
   },
   "outputs": [
    {
     "data": {
      "text/plain": [
       "array([  1.61832087e+02,   6.08813713e+01,   2.39505655e+01,\n",
       "         9.39384523e+00,   3.83750197e+00,   1.58146552e+00,\n",
       "         6.27034229e-01,   2.05122302e-01,   6.49350133e-02,\n",
       "         2.93088017e-02,   1.64375795e-02,   8.45161588e-03,\n",
       "         4.08487598e-03,   2.38226288e-03,   1.41069581e-03,\n",
       "         9.64712579e-04,   1.13262294e-03])"
      ]
     },
     "execution_count": 24,
     "metadata": {},
     "output_type": "execute_result"
    }
   ],
   "source": [
    "np.diag(emu.ycov)"
   ]
  },
  {
   "cell_type": "code",
   "execution_count": null,
   "metadata": {
    "collapsed": true
   },
   "outputs": [],
   "source": []
  }
 ],
 "metadata": {
  "kernelspec": {
   "display_name": "Python [conda env:hodemulator]",
   "language": "python",
   "name": "conda-env-hodemulator-py"
  },
  "language_info": {
   "codemirror_mode": {
    "name": "ipython",
    "version": 2
   },
   "file_extension": ".py",
   "mimetype": "text/x-python",
   "name": "python",
   "nbconvert_exporter": "python",
   "pygments_lexer": "ipython2",
   "version": "2.7.13"
  }
 },
 "nbformat": 4,
 "nbformat_minor": 0
}
