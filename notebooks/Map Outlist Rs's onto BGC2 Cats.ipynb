{
 "cells": [
  {
   "cell_type": "markdown",
   "metadata": {},
   "source": [
    "Going to Map Rs's onto BGC2 Cats."
   ]
  },
  {
   "cell_type": "code",
   "execution_count": 12,
   "metadata": {
    "collapsed": true
   },
   "outputs": [],
   "source": [
    "from os.path import join\n",
    "from csv import DictReader, DictWriter"
   ]
  },
  {
   "cell_type": "code",
   "execution_count": 13,
   "metadata": {
    "collapsed": true
   },
   "outputs": [],
   "source": [
    "fieldnames = '#ID DescID M200b Vmax Vrms R200b Rs Np X Y Z VX VY VZ Parent_ID'.split(' ')"
   ]
  },
  {
   "cell_type": "code",
   "execution_count": null,
   "metadata": {},
   "outputs": [
    {
     "name": "stdout",
     "output_type": "stream",
     "text": [
      "0 0\n",
      "0 1\n",
      "0 2\n",
      "0 3\n",
      "0 4\n",
      "0 5\n",
      "0 6\n",
      "0 7\n"
     ]
    }
   ],
   "source": [
    "missed_keys = dict()\n",
    "for cosmo_idx in xrange(40):\n",
    "    halodir = '/home/users/swmclau2/scratch/NewTrainingBoxes/Box%03d/halos/m200b/'%cosmo_idx\n",
    "    #halodir = '/home/users/swmclau2/scratch/TrainingBoxes/Box000/halos/m200b/'\n",
    "    #halodir = '/home/users/swmclau2/scratch/TestBoxes/TestBox000-000/halos/m200b/'\n",
    "    for snapshot_idx in xrange(10):\n",
    "        outlist_fname = join(halodir, \"out_%d.list\"%snapshot_idx)\n",
    "        bgc2list_fname = join(halodir, \"outbgc2_%d.list\"%snapshot_idx)\n",
    "        bgc2list_fname2 = join(halodir, \"outbgc2_rs_%d.list\"%snapshot_idx)\n",
    "        \n",
    "        print cosmo_idx, snapshot_idx\n",
    "\n",
    "        outlist_rs = dict()\n",
    "        with open(outlist_fname) as csvfile:\n",
    "            reader = DictReader(filter(lambda row: row[0]!='#' or row[:3]=='#ID', csvfile), delimiter = ' ')\n",
    "            for row in reader:\n",
    "                outlist_rs[row['#ID']] = row['Rs']\n",
    "\n",
    "        with open(bgc2list_fname) as oldfile, open(bgc2list_fname2, 'w') as newfile:\n",
    "            reader = DictReader(filter(lambda row: row[0]!='#' or row[:3]=='#ID', oldfile), delimiter = ' ')\n",
    "            writer = DictWriter(newfile, fieldnames, delimiter = ' ')\n",
    "            writer.writeheader()\n",
    "\n",
    "            for row in reader:\n",
    "                try:\n",
    "                    row['Rs'] = outlist_rs[row['#ID']]\n",
    "                except KeyError:\n",
    "                    missed_keys[cosmo_idx] = row['#ID']\n",
    "                    \n",
    "                writer.writerow(row)"
   ]
  },
  {
   "cell_type": "code",
   "execution_count": null,
   "metadata": {
    "collapsed": true
   },
   "outputs": [],
   "source": []
  }
 ],
 "metadata": {
  "kernelspec": {
   "display_name": "Python 2",
   "language": "python",
   "name": "python2"
  },
  "language_info": {
   "codemirror_mode": {
    "name": "ipython",
    "version": 2
   },
   "file_extension": ".py",
   "mimetype": "text/x-python",
   "name": "python",
   "nbconvert_exporter": "python",
   "pygments_lexer": "ipython2",
   "version": "2.7.13"
  }
 },
 "nbformat": 4,
 "nbformat_minor": 2
}
