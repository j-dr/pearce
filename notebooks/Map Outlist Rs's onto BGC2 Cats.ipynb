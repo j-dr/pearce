{
 "cells": [
  {
   "cell_type": "markdown",
   "metadata": {},
   "source": [
    "Going to Map Rs's onto BGC2 Cats."
   ]
  },
  {
   "cell_type": "code",
   "execution_count": 1,
   "metadata": {
    "collapsed": true
   },
   "outputs": [],
   "source": [
    "from os.path import join\n",
    "from csv import DictReader, DictWriter"
   ]
  },
  {
   "cell_type": "code",
   "execution_count": null,
   "metadata": {
    "collapsed": true
   },
   "outputs": [],
   "source": [
    "fieldnames = '#ID DescID M200b Vmax Vrms R200b Rs Np X Y Z VX VY VZ Parent_ID'.split(' ')"
   ]
  },
  {
   "cell_type": "raw",
   "metadata": {
    "collapsed": false
   },
   "source": [
    "missed_keys = dict()\n",
    "for cosmo_idx in xrange(40):\n",
    "    halodir = '/u/ki/swmclau2/des/NewAemulusBoxes/Box%03d/halos/m200b/'%cosmo_idx\n",
    "    #halodir = '/home/users/swmclau2/scratch/NewTrainingBoxes/Box%03d/halos/m200b/'%cosmo_idx\n",
    "    #halodir = '/home/users/swmclau2/scratch/TrainingBoxes/Box000/halos/m200b/'\n",
    "    #halodir = '/home/users/swmclau2/scratch/TestBoxes/TestBox000-000/halos/m200b/'\n",
    "    for snapshot_idx in xrange(10):\n",
    "        outlist_fname = join(halodir, \"out_%d.list\"%snapshot_idx)\n",
    "        bgc2list_fname = join(halodir, \"outbgc2_%d.list\"%snapshot_idx)\n",
    "        bgc2list_fname2 = join(halodir, \"outbgc2_rs_%d.list\"%snapshot_idx)\n",
    "        \n",
    "        print cosmo_idx, snapshot_idx\n",
    "\n",
    "        outlist_rs = dict()\n",
    "        with open(outlist_fname) as csvfile:\n",
    "            reader = DictReader(filter(lambda row: row[0]!='#' or row[:3]=='#ID', csvfile), delimiter = ' ')\n",
    "            for row in reader:\n",
    "                outlist_rs[row['#ID']] = row['Rs']\n",
    "\n",
    "        with open(bgc2list_fname) as oldfile, open(bgc2list_fname2, 'w') as newfile:\n",
    "            reader = DictReader(filter(lambda row: row[0]!='#' or row[:3]=='#ID', oldfile), delimiter = ' ')\n",
    "            #writer = DictWriter(newfile, fieldnames, delimiter = ' ')\n",
    "            #writer.writeheader()\n",
    "\n",
    "            for row in reader:\n",
    "                try:\n",
    "                    row['Rs'] = outlist_rs[row['#ID']]\n",
    "                except KeyError:\n",
    "                    missed_keys[cosmo_idx] = row['#ID']\n",
    "                    \n",
    "                #writer.writerow(row)\n",
    "    break"
   ]
  },
  {
   "cell_type": "code",
   "execution_count": null,
   "metadata": {
    "collapsed": false
   },
   "outputs": [],
   "source": [
    "missed_keys = dict()\n",
    "cosmo_idx = 0\n",
    "halodir = '/u/ki/swmclau2/des/NewAemulusBoxes/Box%03d/halos/m200b/'%cosmo_idx\n",
    "#halodir = '/home/users/swmclau2/scratch/NewTrainingBoxes/Box%03d/halos/m200b/'%cosmo_idx\n",
    "#halodir = '/home/users/swmclau2/scratch/TrainingBoxes/Box000/halos/m200b/'\n",
    "#halodir = '/home/users/swmclau2/scratch/TestBoxes/TestBox000-000/halos/m200b/'\n",
    "for snapshot_idx in xrange(10):\n",
    "    outlist_fname = join(halodir, \"out_%d.list\"%snapshot_idx)\n",
    "    bgc2list_fname = join(halodir, \"outbgc2_%d.list\"%snapshot_idx)\n",
    "    bgc2list_fname2 = join(halodir, \"outbgc2_rs_%d.list\"%snapshot_idx)\n",
    "\n",
    "    print (cosmo_idx, snapshot_idx),\n",
    "\n",
    "    outlist_idxs = set()\n",
    "    with open(outlist_fname) as csvfile:\n",
    "        reader = DictReader(filter(lambda row: row[0]!='#' or row[:3]=='#ID', csvfile), delimiter = ' ')\n",
    "        for row in reader:\n",
    "            #outlist_rs[row['#ID']] = row['Rs']\n",
    "            outlist_idxs.add(int(row['#ID']))\n",
    "\n",
    "    bgc2_idxs = set()\n",
    "    with open(bgc2list_fname) as oldfile, open(bgc2list_fname2, 'w') as newfile:\n",
    "        reader = DictReader(filter(lambda row: row[0]!='#' or row[:3]=='#ID', oldfile), delimiter = ' ')\n",
    "        #writer = DictWriter(newfile, fieldnames, delimiter = ' ')\n",
    "        #writer.writeheader()\n",
    "\n",
    "        for row in reader:\n",
    "            bgc2_idxs.add(int(row['#ID']) )\n",
    "            #try:\n",
    "            #    row['Rs'] = outlist_rs[row['#ID']]\n",
    "            #except KeyError:\n",
    "            #    missed_keys[cosmo_idx] = row['#ID']\n",
    "\n",
    "            #writer.writerow(row)\n",
    "    print len(bgc2_idxs - outlist_idxs), len(outlist_idxs - bgc2_idxs)"
   ]
  },
  {
   "cell_type": "raw",
   "metadata": {
    "collapsed": true
   },
   "source": [
    "cosmo_idx = 0\n",
    "halodir = '/u/ki/swmclau2/des/NewAemulusBoxes/Box%03d/halos/m200b/'%cosmo_idx\n",
    "#for snapshot_idx in xrange(10):\n",
    "snapshot_idx = 1\n",
    "bgc2list_fname2 = join(halodir, \"outbgc2_rs_%d.list\"%snapshot_idx)\n",
    "\n",
    "outlist_rs = dict()\n",
    "zero_rs = set()\n",
    "with open(bgc2list_fname2) as csvfile:\n",
    "    reader = DictReader(filter(lambda row: row[0]!='#' or row[:3]=='#ID', csvfile), delimiter = ' ')\n",
    "    for row in reader:\n",
    "        outlist_rs[row['#ID']] = row['Rs']\n",
    "        if float(row['Rs']) <= 0:\n",
    "            zero_rs.add(row['#ID'])\n",
    "            print row\n",
    "\n",
    "print len(zero_rs)"
   ]
  },
  {
   "cell_type": "code",
   "execution_count": null,
   "metadata": {
    "collapsed": false
   },
   "outputs": [],
   "source": [
    "import numpy as np\n",
    "rs_arr = np.array(list(outlist_rs.itervalues())).astype(float)"
   ]
  },
  {
   "cell_type": "code",
   "execution_count": null,
   "metadata": {
    "collapsed": true
   },
   "outputs": [],
   "source": [
    "from matplotlib import pyplot as plt\n",
    "%matplotlib inline"
   ]
  },
  {
   "cell_type": "code",
   "execution_count": null,
   "metadata": {
    "collapsed": false
   },
   "outputs": [],
   "source": [
    "n_zero_rs = np.sum(rs_arr == 0)\n",
    "print n_zero_rs, n_zero_rs*1.0/rs_arr.shape[0]"
   ]
  },
  {
   "cell_type": "code",
   "execution_count": null,
   "metadata": {
    "collapsed": false
   },
   "outputs": [],
   "source": [
    "plt.hist(rs_arr)"
   ]
  },
  {
   "cell_type": "code",
   "execution_count": null,
   "metadata": {
    "collapsed": true
   },
   "outputs": [],
   "source": []
  }
 ],
 "metadata": {
  "kernelspec": {
   "display_name": "Python [default]",
   "language": "python",
   "name": "python2"
  },
  "language_info": {
   "codemirror_mode": {
    "name": "ipython",
    "version": 2
   },
   "file_extension": ".py",
   "mimetype": "text/x-python",
   "name": "python",
   "nbconvert_exporter": "python",
   "pygments_lexer": "ipython2",
   "version": "2.7.13"
  }
 },
 "nbformat": 4,
 "nbformat_minor": 2
}
