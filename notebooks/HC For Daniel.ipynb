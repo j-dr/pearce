{
 "cells": [
  {
   "cell_type": "code",
   "execution_count": 1,
   "metadata": {
    "collapsed": true
   },
   "outputs": [],
   "source": [
    "fname = '/u/ki/swmclau2/des/Buzzard_v1.1_halos.fit'"
   ]
  },
  {
   "cell_type": "code",
   "execution_count": 2,
   "metadata": {
    "collapsed": true
   },
   "outputs": [],
   "source": [
    "import numpy as np\n",
    "from astropy.io import fits\n",
    "from halotools.sim_manager import UserSuppliedHaloCatalog\n",
    "from collections import OrderedDict"
   ]
  },
  {
   "cell_type": "code",
   "execution_count": 3,
   "metadata": {
    "collapsed": false,
    "scrolled": true
   },
   "outputs": [
    {
     "data": {
      "text/plain": [
       "ColDefs(\n",
       "    name = 'HALOID'; format = 'K'\n",
       "    name = 'M200'; format = 'E'\n",
       "    name = 'R200'; format = 'E'\n",
       "    name = 'M200B'; format = 'E'\n",
       "    name = 'R200B'; format = 'E'\n",
       "    name = 'M500'; format = 'E'\n",
       "    name = 'R500'; format = 'E'\n",
       "    name = 'MVIR'; format = 'E'\n",
       "    name = 'RVIR'; format = 'E'\n",
       "    name = 'M2500'; format = 'E'\n",
       "    name = 'R2500'; format = 'E'\n",
       "    name = 'VRMS'; format = 'E'\n",
       "    name = 'RS'; format = 'E'\n",
       "    name = 'JX'; format = 'E'\n",
       "    name = 'JY'; format = 'E'\n",
       "    name = 'JZ'; format = 'E'\n",
       "    name = 'SPIN'; format = 'E'\n",
       "    name = 'HALOPX'; format = 'E'\n",
       "    name = 'HALOPY'; format = 'E'\n",
       "    name = 'HALOPZ'; format = 'E'\n",
       "    name = 'HALOVX'; format = 'E'\n",
       "    name = 'HALOVY'; format = 'E'\n",
       "    name = 'HALOVZ'; format = 'E'\n",
       "    name = 'LUMTOT'; format = 'E'\n",
       "    name = 'LUM20'; format = 'E'\n",
       "    name = 'LBCG'; format = 'E'\n",
       "    name = 'RA'; format = 'E'\n",
       "    name = 'DEC'; format = 'E'\n",
       "    name = 'Z'; format = 'E'\n",
       "    name = 'NGALS'; format = 'J'\n",
       "    name = 'N18'; format = 'J'\n",
       "    name = 'N19'; format = 'J'\n",
       "    name = 'N20'; format = 'J'\n",
       "    name = 'N21'; format = 'J'\n",
       "    name = 'N22'; format = 'J'\n",
       "    name = 'EDGE'; format = 'I'\n",
       "    name = 'HOST_HALOID'; format = 'K'\n",
       "    name = 'XOFF'; format = 'E'\n",
       "    name = 'VOFF'; format = 'E'\n",
       "    name = 'LAMBDA'; format = 'E'\n",
       "    name = 'B_TO_A'; format = 'E'\n",
       "    name = 'C_TO_A'; format = 'E'\n",
       "    name = 'AX'; format = 'E'\n",
       "    name = 'AY'; format = 'E'\n",
       "    name = 'AZ'; format = 'E'\n",
       "    name = 'VIRIAL_RATIO'; format = 'E'\n",
       ")"
      ]
     },
     "execution_count": 3,
     "metadata": {},
     "output_type": "execute_result"
    }
   ],
   "source": [
    "hdul = fits.open(fname)\n",
    "hdul[1].columns"
   ]
  },
  {
   "cell_type": "code",
   "execution_count": 4,
   "metadata": {
    "collapsed": false
   },
   "outputs": [
    {
     "name": "stdout",
     "output_type": "stream",
     "text": [
      "[33488000000.0, 33488000000.0, 33488000000.0, 33488000000.0, 33488000000.0, 33488000000.0, 33488000000.0, 33488000000.0, 33488000000.0, 33488000000.0]\n"
     ]
    }
   ],
   "source": [
    "print sorted(hdul[1].data['M200'][hdul[1].data['M200']>0])[:10]"
   ]
  },
  {
   "cell_type": "code",
   "execution_count": 5,
   "metadata": {
    "collapsed": false
   },
   "outputs": [
    {
     "name": "stdout",
     "output_type": "stream",
     "text": [
      "[33488000000.0, 33488000000.0, 33488000000.0, 33488000000.0, 33488000000.0, 33488000000.0, 33488000000.0, 33488000000.0, 33488000000.0, 33488000000.0]\n"
     ]
    }
   ],
   "source": [
    "print sorted(hdul[1].data['M500'][hdul[1].data['M500']>0])[:10]"
   ]
  },
  {
   "cell_type": "code",
   "execution_count": 6,
   "metadata": {
    "collapsed": false
   },
   "outputs": [
    {
     "data": {
      "text/plain": [
       "9.22385921533063"
      ]
     },
     "execution_count": 6,
     "metadata": {},
     "output_type": "execute_result"
    }
   ],
   "source": [
    "np.log10(33488000000.0/20)"
   ]
  },
  {
   "cell_type": "code",
   "execution_count": 10,
   "metadata": {
    "collapsed": false
   },
   "outputs": [
    {
     "name": "stdout",
     "output_type": "stream",
     "text": [
      "-3733.5151\n",
      "3732.7192 7466.2344\n"
     ]
    }
   ],
   "source": [
    "data = hdul[1].data\n",
    "min_pos = np.min([data['HALOPX'].min(), data['HALOPY'].min(), data['HALOPZ'].min()])\n",
    "print min_pos\n",
    "max_pos = np.max([data['HALOPX'].max(), data['HALOPY'].max(), data['HALOPZ'].max()])\n",
    "print max_pos, max_pos-min_pos"
   ]
  },
  {
   "cell_type": "code",
   "execution_count": 11,
   "metadata": {
    "collapsed": false
   },
   "outputs": [],
   "source": [
    "columns_to_keep_dict = {'halo_id':data['HALOID'], 'halo_mvir':data['MVIR'],\n",
    "                        'halo_rvir':data['RVIR'], 'halo_rs':data['RS'],\n",
    "                        'halo_x':data['HALOPX']- min_pos,\n",
    "                        'halo_y':data['HALOPY']- min_pos,\n",
    "                        'halo_z':data['HALOPZ']- min_pos,\n",
    "                        'halo_vx':data['HALOVX'],\n",
    "                        'halo_vy':data['HALOVY'], 'halo_vz':data['HALOVZ'],\n",
    "                        'halo_ra':data['RA'], 'halo_dec':data['DEC'],\n",
    "                        'halo_rz':data['Z'], 'halo_upid':data['HOST_HALOID'] }"
   ]
  },
  {
   "cell_type": "code",
   "execution_count": 39,
   "metadata": {
    "collapsed": false
   },
   "outputs": [],
   "source": [
    "#some of these are guesses; verify\n",
    "columns_to_keep_dict['redshift'] = 0.0\n",
    "columns_to_keep_dict['simname'] = 'buzzard'\n",
    "columns_to_keep_dict['Lbox'] = 7470\n",
    "columns_to_keep_dict['particle_mass'] = 1e8\n",
    "halo_catalog = UserSuppliedHaloCatalog(**columns_to_keep_dict)"
   ]
  },
  {
   "cell_type": "code",
   "execution_count": 40,
   "metadata": {
    "collapsed": true
   },
   "outputs": [],
   "source": [
    "from halotools.empirical_models import PrebuiltHodModelFactory\n",
    "model = PrebuiltHodModelFactory('zheng07')"
   ]
  },
  {
   "cell_type": "code",
   "execution_count": 41,
   "metadata": {
    "collapsed": false
   },
   "outputs": [
    {
     "name": "stdout",
     "output_type": "stream",
     "text": [
      "3013900000000.0\n"
     ]
    }
   ],
   "source": [
    "min_mass = np.min(halo_catalog.halo_table['halo_mvir'])\n",
    "print min_mass"
   ]
  },
  {
   "cell_type": "code",
   "execution_count": 42,
   "metadata": {
    "collapsed": false
   },
   "outputs": [],
   "source": [
    "sorted_mass = sorted(np.unique(halo_catalog.halo_table['halo_mvir']))"
   ]
  },
  {
   "cell_type": "code",
   "execution_count": 43,
   "metadata": {
    "collapsed": false
   },
   "outputs": [
    {
     "name": "stdout",
     "output_type": "stream",
     "text": [
      "8.000604\n"
     ]
    }
   ],
   "source": [
    "mindiff = np.min(np.diff(sorted_mass))\n",
    "print np.log10(mindiff)"
   ]
  },
  {
   "cell_type": "code",
   "execution_count": 44,
   "metadata": {
    "collapsed": false
   },
   "outputs": [
    {
     "data": {
      "text/plain": [
       "30097.162"
      ]
     },
     "execution_count": 44,
     "metadata": {},
     "output_type": "execute_result"
    }
   ],
   "source": [
    "np.min(halo_catalog.halo_table['halo_mvir'])/mindiff"
   ]
  },
  {
   "cell_type": "code",
   "execution_count": null,
   "metadata": {
    "collapsed": true
   },
   "outputs": [],
   "source": [
    "model.halo_prof_param_key"
   ]
  },
  {
   "cell_type": "code",
   "execution_count": 45,
   "metadata": {
    "collapsed": false
   },
   "outputs": [
    {
     "ename": "ValueError",
     "evalue": "zero-size array to reduction operation maximum which has no identity",
     "output_type": "error",
     "traceback": [
      "\u001b[1;31m---------------------------------------------------------------------------\u001b[0m",
      "\u001b[1;31mValueError\u001b[0m                                Traceback (most recent call last)",
      "\u001b[1;32m<ipython-input-45-b093c634158f>\u001b[0m in \u001b[0;36m<module>\u001b[1;34m()\u001b[0m\n\u001b[1;32m----> 1\u001b[1;33m \u001b[0mmodel\u001b[0m\u001b[1;33m.\u001b[0m\u001b[0mpopulate_mock\u001b[0m\u001b[1;33m(\u001b[0m\u001b[0mhalo_catalog\u001b[0m\u001b[1;33m)\u001b[0m\u001b[1;33m\u001b[0m\u001b[0m\n\u001b[0m",
      "\u001b[1;32m/u/ki/swmclau2/.conda/envs/hodemulator/lib/python2.7/site-packages/halotools-0.6.dev4681-py2.7-linux-x86_64.egg/halotools/empirical_models/factories/hod_model_factory.pyc\u001b[0m in \u001b[0;36mpopulate_mock\u001b[1;34m(self, halocat, **kwargs)\u001b[0m\n\u001b[0;32m   1205\u001b[0m \u001b[1;33m\u001b[0m\u001b[0m\n\u001b[0;32m   1206\u001b[0m         \"\"\"\n\u001b[1;32m-> 1207\u001b[1;33m         \u001b[0mModelFactory\u001b[0m\u001b[1;33m.\u001b[0m\u001b[0mpopulate_mock\u001b[0m\u001b[1;33m(\u001b[0m\u001b[0mself\u001b[0m\u001b[1;33m,\u001b[0m \u001b[0mhalocat\u001b[0m\u001b[1;33m,\u001b[0m \u001b[1;33m**\u001b[0m\u001b[0mkwargs\u001b[0m\u001b[1;33m)\u001b[0m\u001b[1;33m\u001b[0m\u001b[0m\n\u001b[0m\u001b[0;32m   1208\u001b[0m \u001b[1;33m\u001b[0m\u001b[0m\n\u001b[0;32m   1209\u001b[0m \u001b[1;33m\u001b[0m\u001b[0m\n",
      "\u001b[1;32m/u/ki/swmclau2/.conda/envs/hodemulator/lib/python2.7/site-packages/halotools-0.6.dev4681-py2.7-linux-x86_64.egg/halotools/empirical_models/factories/model_factory_template.pyc\u001b[0m in \u001b[0;36mpopulate_mock\u001b[1;34m(self, halocat, Num_ptcl_requirement, **kwargs)\u001b[0m\n\u001b[0;32m    229\u001b[0m         \u001b[1;32mexcept\u001b[0m \u001b[0mKeyError\u001b[0m\u001b[1;33m:\u001b[0m\u001b[1;33m\u001b[0m\u001b[0m\n\u001b[0;32m    230\u001b[0m             \u001b[1;32mpass\u001b[0m\u001b[1;33m\u001b[0m\u001b[0m\n\u001b[1;32m--> 231\u001b[1;33m         \u001b[0mself\u001b[0m\u001b[1;33m.\u001b[0m\u001b[0mmock\u001b[0m \u001b[1;33m=\u001b[0m \u001b[0mself\u001b[0m\u001b[1;33m.\u001b[0m\u001b[0mmock_factory\u001b[0m\u001b[1;33m(\u001b[0m\u001b[1;33m**\u001b[0m\u001b[0mmock_factory_init_args\u001b[0m\u001b[1;33m)\u001b[0m\u001b[1;33m\u001b[0m\u001b[0m\n\u001b[0m\u001b[0;32m    232\u001b[0m \u001b[1;33m\u001b[0m\u001b[0m\n\u001b[0;32m    233\u001b[0m         \u001b[0madditional_potential_kwargs\u001b[0m \u001b[1;33m=\u001b[0m \u001b[1;33m(\u001b[0m\u001b[1;34m'masking_function'\u001b[0m\u001b[1;33m,\u001b[0m \u001b[1;34m'_testing_mode'\u001b[0m\u001b[1;33m,\u001b[0m \u001b[1;34m'enforce_PBC'\u001b[0m\u001b[1;33m,\u001b[0m \u001b[1;34m'seed'\u001b[0m\u001b[1;33m)\u001b[0m\u001b[1;33m\u001b[0m\u001b[0m\n",
      "\u001b[1;32m/u/ki/swmclau2/.conda/envs/hodemulator/lib/python2.7/site-packages/halotools-0.6.dev4681-py2.7-linux-x86_64.egg/halotools/empirical_models/factories/hod_mock_factory.pyc\u001b[0m in \u001b[0;36m__init__\u001b[1;34m(self, Num_ptcl_requirement, halo_mass_column_key, **kwargs)\u001b[0m\n\u001b[0;32m     91\u001b[0m         \u001b[0mself\u001b[0m\u001b[1;33m.\u001b[0m\u001b[0mhalo_mass_column_key\u001b[0m \u001b[1;33m=\u001b[0m \u001b[0mhalo_mass_column_key\u001b[0m\u001b[1;33m\u001b[0m\u001b[0m\n\u001b[0;32m     92\u001b[0m \u001b[1;33m\u001b[0m\u001b[0m\n\u001b[1;32m---> 93\u001b[1;33m         \u001b[0mself\u001b[0m\u001b[1;33m.\u001b[0m\u001b[0mpreprocess_halo_catalog\u001b[0m\u001b[1;33m(\u001b[0m\u001b[0mhalocat\u001b[0m\u001b[1;33m)\u001b[0m\u001b[1;33m\u001b[0m\u001b[0m\n\u001b[0m\u001b[0;32m     94\u001b[0m \u001b[1;33m\u001b[0m\u001b[0m\n\u001b[0;32m     95\u001b[0m     \u001b[1;32mdef\u001b[0m \u001b[0mpreprocess_halo_catalog\u001b[0m\u001b[1;33m(\u001b[0m\u001b[0mself\u001b[0m\u001b[1;33m,\u001b[0m \u001b[0mhalocat\u001b[0m\u001b[1;33m)\u001b[0m\u001b[1;33m:\u001b[0m\u001b[1;33m\u001b[0m\u001b[0m\n",
      "\u001b[1;32m/u/ki/swmclau2/.conda/envs/hodemulator/lib/python2.7/site-packages/halotools-0.6.dev4681-py2.7-linux-x86_64.egg/halotools/empirical_models/factories/hod_mock_factory.pyc\u001b[0m in \u001b[0;36mpreprocess_halo_catalog\u001b[1;34m(self, halocat)\u001b[0m\n\u001b[0;32m    128\u001b[0m         \u001b[0mcutoff_mvir\u001b[0m \u001b[1;33m=\u001b[0m \u001b[0mself\u001b[0m\u001b[1;33m.\u001b[0m\u001b[0mNum_ptcl_requirement\u001b[0m\u001b[1;33m*\u001b[0m\u001b[0mself\u001b[0m\u001b[1;33m.\u001b[0m\u001b[0mparticle_mass\u001b[0m\u001b[1;33m\u001b[0m\u001b[0m\n\u001b[0;32m    129\u001b[0m         \u001b[0mmass_cut\u001b[0m \u001b[1;33m=\u001b[0m \u001b[0mhalo_table\u001b[0m\u001b[1;33m[\u001b[0m\u001b[0mself\u001b[0m\u001b[1;33m.\u001b[0m\u001b[0mhalo_mass_column_key\u001b[0m\u001b[1;33m]\u001b[0m \u001b[1;33m>\u001b[0m \u001b[0mcutoff_mvir\u001b[0m\u001b[1;33m\u001b[0m\u001b[0m\n\u001b[1;32m--> 130\u001b[1;33m         \u001b[0mmax_column_value\u001b[0m \u001b[1;33m=\u001b[0m \u001b[0mnp\u001b[0m\u001b[1;33m.\u001b[0m\u001b[0mmax\u001b[0m\u001b[1;33m(\u001b[0m\u001b[0mhalo_table\u001b[0m\u001b[1;33m[\u001b[0m\u001b[0mself\u001b[0m\u001b[1;33m.\u001b[0m\u001b[0mhalo_mass_column_key\u001b[0m\u001b[1;33m]\u001b[0m\u001b[1;33m)\u001b[0m\u001b[1;33m\u001b[0m\u001b[0m\n\u001b[0m\u001b[0;32m    131\u001b[0m         \u001b[0mhalo_table\u001b[0m \u001b[1;33m=\u001b[0m \u001b[0mhalo_table\u001b[0m\u001b[1;33m[\u001b[0m\u001b[0mmass_cut\u001b[0m\u001b[1;33m]\u001b[0m\u001b[1;33m\u001b[0m\u001b[0m\n\u001b[0;32m    132\u001b[0m         \u001b[1;32mif\u001b[0m \u001b[0mlen\u001b[0m\u001b[1;33m(\u001b[0m\u001b[0mhalo_table\u001b[0m\u001b[1;33m)\u001b[0m \u001b[1;33m==\u001b[0m \u001b[1;36m0\u001b[0m\u001b[1;33m:\u001b[0m\u001b[1;33m\u001b[0m\u001b[0m\n",
      "\u001b[1;32m/u/ki/swmclau2/.conda/envs/hodemulator/lib/python2.7/site-packages/numpy/core/fromnumeric.pyc\u001b[0m in \u001b[0;36mamax\u001b[1;34m(a, axis, out, keepdims)\u001b[0m\n\u001b[0;32m   2315\u001b[0m             \u001b[1;32mpass\u001b[0m\u001b[1;33m\u001b[0m\u001b[0m\n\u001b[0;32m   2316\u001b[0m         \u001b[1;32melse\u001b[0m\u001b[1;33m:\u001b[0m\u001b[1;33m\u001b[0m\u001b[0m\n\u001b[1;32m-> 2317\u001b[1;33m             \u001b[1;32mreturn\u001b[0m \u001b[0mamax\u001b[0m\u001b[1;33m(\u001b[0m\u001b[0maxis\u001b[0m\u001b[1;33m=\u001b[0m\u001b[0maxis\u001b[0m\u001b[1;33m,\u001b[0m \u001b[0mout\u001b[0m\u001b[1;33m=\u001b[0m\u001b[0mout\u001b[0m\u001b[1;33m,\u001b[0m \u001b[1;33m**\u001b[0m\u001b[0mkwargs\u001b[0m\u001b[1;33m)\u001b[0m\u001b[1;33m\u001b[0m\u001b[0m\n\u001b[0m\u001b[0;32m   2318\u001b[0m \u001b[1;33m\u001b[0m\u001b[0m\n\u001b[0;32m   2319\u001b[0m     return _methods._amax(a, axis=axis,\n",
      "\u001b[1;32m/u/ki/swmclau2/.conda/envs/hodemulator/lib/python2.7/site-packages/numpy/core/_methods.pyc\u001b[0m in \u001b[0;36m_amax\u001b[1;34m(a, axis, out, keepdims)\u001b[0m\n\u001b[0;32m     24\u001b[0m \u001b[1;31m# small reductions\u001b[0m\u001b[1;33m\u001b[0m\u001b[1;33m\u001b[0m\u001b[0m\n\u001b[0;32m     25\u001b[0m \u001b[1;32mdef\u001b[0m \u001b[0m_amax\u001b[0m\u001b[1;33m(\u001b[0m\u001b[0ma\u001b[0m\u001b[1;33m,\u001b[0m \u001b[0maxis\u001b[0m\u001b[1;33m=\u001b[0m\u001b[0mNone\u001b[0m\u001b[1;33m,\u001b[0m \u001b[0mout\u001b[0m\u001b[1;33m=\u001b[0m\u001b[0mNone\u001b[0m\u001b[1;33m,\u001b[0m \u001b[0mkeepdims\u001b[0m\u001b[1;33m=\u001b[0m\u001b[0mFalse\u001b[0m\u001b[1;33m)\u001b[0m\u001b[1;33m:\u001b[0m\u001b[1;33m\u001b[0m\u001b[0m\n\u001b[1;32m---> 26\u001b[1;33m     \u001b[1;32mreturn\u001b[0m \u001b[0mumr_maximum\u001b[0m\u001b[1;33m(\u001b[0m\u001b[0ma\u001b[0m\u001b[1;33m,\u001b[0m \u001b[0maxis\u001b[0m\u001b[1;33m,\u001b[0m \u001b[0mNone\u001b[0m\u001b[1;33m,\u001b[0m \u001b[0mout\u001b[0m\u001b[1;33m,\u001b[0m \u001b[0mkeepdims\u001b[0m\u001b[1;33m)\u001b[0m\u001b[1;33m\u001b[0m\u001b[0m\n\u001b[0m\u001b[0;32m     27\u001b[0m \u001b[1;33m\u001b[0m\u001b[0m\n\u001b[0;32m     28\u001b[0m \u001b[1;32mdef\u001b[0m \u001b[0m_amin\u001b[0m\u001b[1;33m(\u001b[0m\u001b[0ma\u001b[0m\u001b[1;33m,\u001b[0m \u001b[0maxis\u001b[0m\u001b[1;33m=\u001b[0m\u001b[0mNone\u001b[0m\u001b[1;33m,\u001b[0m \u001b[0mout\u001b[0m\u001b[1;33m=\u001b[0m\u001b[0mNone\u001b[0m\u001b[1;33m,\u001b[0m \u001b[0mkeepdims\u001b[0m\u001b[1;33m=\u001b[0m\u001b[0mFalse\u001b[0m\u001b[1;33m)\u001b[0m\u001b[1;33m:\u001b[0m\u001b[1;33m\u001b[0m\u001b[0m\n",
      "\u001b[1;31mValueError\u001b[0m: zero-size array to reduction operation maximum which has no identity"
     ]
    }
   ],
   "source": [
    "model.populate_mock(halo_catalog)"
   ]
  },
  {
   "cell_type": "code",
   "execution_count": null,
   "metadata": {
    "collapsed": true
   },
   "outputs": [],
   "source": []
  }
 ],
 "metadata": {
  "kernelspec": {
   "display_name": "Python [conda env:hodemulator]",
   "language": "python",
   "name": "conda-env-hodemulator-py"
  },
  "language_info": {
   "codemirror_mode": {
    "name": "ipython",
    "version": 2
   },
   "file_extension": ".py",
   "mimetype": "text/x-python",
   "name": "python",
   "nbconvert_exporter": "python",
   "pygments_lexer": "ipython2",
   "version": "2.7.13"
  }
 },
 "nbformat": 4,
 "nbformat_minor": 0
}
