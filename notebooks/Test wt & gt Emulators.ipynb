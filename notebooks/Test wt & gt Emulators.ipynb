{
 "cells": [
  {
   "cell_type": "markdown",
   "metadata": {},
   "source": [
    "I'm gonna overwrite a lot of this notebook's old content. I changed the way I'm calculating wt, and wanna test that my training worked. "
   ]
  },
  {
   "cell_type": "code",
   "execution_count": 1,
   "metadata": {
    "collapsed": false
   },
   "outputs": [],
   "source": [
    "%load_ext autoreload\n",
    "%autoreload 2"
   ]
  },
  {
   "cell_type": "code",
   "execution_count": 2,
   "metadata": {
    "collapsed": false
   },
   "outputs": [],
   "source": [
    "from pearce.emulator import OriginalRecipe, ExtraCrispy\n",
    "from pearce.mocks import cat_dict\n",
    "import numpy as np\n",
    "from os import path"
   ]
  },
  {
   "cell_type": "code",
   "execution_count": 3,
   "metadata": {
    "collapsed": true
   },
   "outputs": [],
   "source": [
    "import matplotlib\n",
    "#matplotlib.use('Agg')\n",
    "from matplotlib import pyplot as plt\n",
    "%matplotlib inline\n",
    "import seaborn as sns\n",
    "sns.set()"
   ]
  },
  {
   "cell_type": "code",
   "execution_count": 4,
   "metadata": {
    "collapsed": true
   },
   "outputs": [],
   "source": [
    "training_file = '/u/ki/swmclau2/des/wt_trainer2/PearceRedMagicChinchillaWT.hdf5'\n",
    "#training_file = '/u/ki/swmclau2/des/ds_trainer3/PearceRedMagicChindhillaDS.hdf5'\n",
    "\n",
    "\n",
    "em_method = 'gp'\n",
    "split_method = 'random'"
   ]
  },
  {
   "cell_type": "code",
   "execution_count": 5,
   "metadata": {
    "collapsed": true
   },
   "outputs": [],
   "source": [
    "a = 0.81120\n",
    "z = 1.0/a - 1.0\n"
   ]
  },
  {
   "cell_type": "code",
   "execution_count": 6,
   "metadata": {
    "collapsed": true
   },
   "outputs": [],
   "source": [
    "fixed_params = {'z':z}#, 'r':0.18477483}"
   ]
  },
  {
   "cell_type": "raw",
   "metadata": {
    "collapsed": true
   },
   "source": [
    "n_leaves, n_overlap = 10, 2\n",
    "emu = ExtraCrispy(training_dir, n_leaves, n_overlap, split_method, method = em_method, fixed_params=fixed_params)"
   ]
  },
  {
   "cell_type": "code",
   "execution_count": 7,
   "metadata": {
    "collapsed": false,
    "scrolled": false
   },
   "outputs": [],
   "source": [
    "emu = OriginalRecipe(training_file, method = em_method, fixed_params=fixed_params, independent_variable=None,\\\n",
    "                     custom_mean_function = \"linear\", downsample_factor = 1.0)"
   ]
  },
  {
   "cell_type": "code",
   "execution_count": 8,
   "metadata": {
    "collapsed": false
   },
   "outputs": [
    {
     "data": {
      "text/plain": [
       "['logM1', 'logMmin', 'f_c', 'logM0', 'sigma_logM', 'alpha', 'r']"
      ]
     },
     "execution_count": 8,
     "metadata": {},
     "output_type": "execute_result"
    }
   ],
   "source": [
    "emu.get_param_names()"
   ]
  },
  {
   "cell_type": "raw",
   "metadata": {},
   "source": [
    "v = np.array([  0.00000000e+00,   3.30540588e-02,   4.93100502e-04,   3.17576810e-01,\n",
    "   1.29433168e-10,   6.98880297e-03,   2.14734051e-13,   3.22554183e+22,\n",
    "   1.66245377e+33,   5.11222704e+00,   1.23134374e+01,   1.55542754e+04,\n",
    "   3.40808990e+04,   3.99014289e+04,   5.23646434e+02,   1.14408379e+13,\n",
    "   4.14890561e+05,   1.92097674e+02,   1.80096110e+01])\n",
    "\n"
   ]
  },
  {
   "cell_type": "raw",
   "metadata": {
    "collapsed": true
   },
   "source": [
    "#wt, fixed z\n",
    "v = np.array([  0.00000000e+00,   3.30540588e-02,   4.93100502e-04,   3.17576810e-01,\n",
    "   1.29433168e-10,   6.98880297e-03,   2.14734051e-13,\n",
    "   1.66245377e+33,   5.11222704e+00,   1.23134374e+01,   1.55542754e+04,\n",
    "   3.40808990e+04,   3.99014289e+04,   5.23646434e+02,   1.14408379e+13,  1.92097674e+02,   1.80096110e+01])\n",
    "\n"
   ]
  },
  {
   "cell_type": "raw",
   "metadata": {
    "collapsed": false
   },
   "source": [
    "chain = np.genfromtxt('/u/ki/swmclau2/des/PearceMCMC/200_walkers_1000_steps_wtheta_alt_hyperparams.npy')\n",
    "#chain = np.genfromtxt('/u/ki/swmclau2/des/PearceMCMC/200_walkers_1000_steps_delta_sigma_alt_hyperparams.npy')\n",
    "\n",
    "#v = chain.mean(axis = 0)\n",
    "n_burn =  800\n",
    "v = chain[200*n_burn:,].mean(axis = 0)"
   ]
  },
  {
   "cell_type": "code",
   "execution_count": 9,
   "metadata": {
    "collapsed": false
   },
   "outputs": [
    {
     "name": "stdout",
     "output_type": "stream",
     "text": [
      "/u/ki/swmclau2/des/PearceMCMC/100_walkers_100_steps_wtheta_hyperparams.npy\n",
      "/u/ki/swmclau2/des/PearceMCMC/200_walkers_1000_steps_wtheta_alt_hyperparams.npy\n",
      "/u/ki/swmclau2/des/PearceMCMC/200_walkers_1000_steps_wtheta_exp2_hyperparams.npy\n",
      "/u/ki/swmclau2/des/PearceMCMC/200_walkers_1000_steps_wtheta_matern32_hyperparams.npy\n",
      "/u/ki/swmclau2/des/PearceMCMC/200_walkers_1000_steps_wtheta_matern52_hyperparams.npy\n",
      "/u/ki/swmclau2/des/PearceMCMC/200_walkers_200_steps_wtheta_alt_hyperparams.npy\n",
      "/u/ki/swmclau2/des/PearceMCMC/200_walkers_200_steps_wtheta_hyperparams.npy\n"
     ]
    }
   ],
   "source": [
    "%%bash\n",
    "ls /u/ki/swmclau2/des/PearceMCMC/*wtheta*hyperparams.npy"
   ]
  },
  {
   "cell_type": "code",
   "execution_count": 10,
   "metadata": {
    "collapsed": false
   },
   "outputs": [],
   "source": [
    "chain = np.genfromtxt('/u/ki/swmclau2/des/PearceMCMC/200_walkers_1000_steps_wtheta_matern32_hyperparams.npy')"
   ]
  },
  {
   "cell_type": "code",
   "execution_count": 11,
   "metadata": {
    "collapsed": false
   },
   "outputs": [
    {
     "data": {
      "text/plain": [
       "16800"
      ]
     },
     "execution_count": 11,
     "metadata": {},
     "output_type": "execute_result"
    }
   ],
   "source": [
    "chain.shape[0]"
   ]
  },
  {
   "cell_type": "code",
   "execution_count": 12,
   "metadata": {
    "collapsed": false
   },
   "outputs": [],
   "source": [
    "chain = np.genfromtxt('/u/ki/swmclau2/des/PearceMCMC/200_walkers_1000_steps_wtheta_exp2_hyperparams.npy')\n",
    "#chain = np.genfromtxt('/u/ki/swmclau2/des/PearceMCMC/200_walkers_1000_steps_delta_sigma_exp2_hyperparams.npy')\n",
    "\n",
    "#v = chain.mean(axis = 0)\n",
    "n_burn =  0\n",
    "v = chain[200*n_burn:,].mean(axis = 0)"
   ]
  },
  {
   "cell_type": "raw",
   "metadata": {
    "collapsed": true
   },
   "source": [
    "#ds fixed z\n",
    "v = np.array([ 0.0,   3.19288162e-03,  4.25945150e+00,   1.47504015e+01,\n",
    "   8.08430556e+00,   3.61725496e-01,   3.19371873e+02,  \n",
    "   1.00000000e-01,   1.01340962e+00,   4.02135719e+02,   5.03899572e+06,\n",
    "   6.12901196e+06,   5.01674303e+07,   6.38820887e+05,   6.83637438e+12,   1.00000000e-01,   2.74443529e+02])"
   ]
  },
  {
   "cell_type": "raw",
   "metadata": {
    "collapsed": false
   },
   "source": [
    "chain = np.genfromtxt('/u/ki/swmclau2/des/PearceMCMC/200_walkers_200_steps_delta_sigma_alt_hyperparams.npy')\n",
    "print chain.shape\n",
    "v = chain.mean(axis = 0)\n",
    "#v = chain[200*100:,].mean(axis = 0)"
   ]
  },
  {
   "cell_type": "raw",
   "metadata": {
    "collapsed": false
   },
   "source": [
    "emu._emulator.set_parameter_vector(v)"
   ]
  },
  {
   "cell_type": "code",
   "execution_count": 13,
   "metadata": {
    "collapsed": false
   },
   "outputs": [
    {
     "name": "stdout",
     "output_type": "stream",
     "text": [
      "{'logMmin': 3.2496991210194732, 'f_c': 6.5225471765230409, 'logM0': 0.90031876392525889, 'logM1': 5.7115389793138123, 'r': 0.85251205183917733, 'sigma_logM': 81.17344472376017, 'alpha': 156.63415402538018}\n"
     ]
    }
   ],
   "source": [
    "print dict(zip(emu.get_param_names(), np.exp(v[2:])) )\n",
    "#print emu._emulator.kernel"
   ]
  },
  {
   "cell_type": "code",
   "execution_count": 14,
   "metadata": {
    "collapsed": false
   },
   "outputs": [
    {
     "data": {
      "text/plain": [
       "'wt'"
      ]
     },
     "execution_count": 14,
     "metadata": {},
     "output_type": "execute_result"
    }
   ],
   "source": [
    "emu.obs"
   ]
  },
  {
   "cell_type": "code",
   "execution_count": 15,
   "metadata": {
    "collapsed": false
   },
   "outputs": [
    {
     "name": "stdout",
     "output_type": "stream",
     "text": [
      "{'logMmin': 13.2, 'f_c': 0.25, 'logM0': 15.5, 'logM1': 14.5, 'sigma_logM': 0.2, 'alpha': 1.1}\n"
     ]
    }
   ],
   "source": [
    "params = {}\n",
    "#params['mean_occupation_centrals_assembias_param1'] = 0\n",
    "#params['mean_occupation_satellites_assembias_param1'] = 0\n",
    "params['logMmin'] = 13.2\n",
    "params['sigma_logM'] = 0.2\n",
    "params['f_c'] = 0.25\n",
    "params['alpha'] = 1.1\n",
    "params['logM1'] = 14.5\n",
    "params['logM0'] = 15.5\n",
    "#params['z'] = 0.5\n",
    "print params"
   ]
  },
  {
   "cell_type": "code",
   "execution_count": 16,
   "metadata": {
    "collapsed": true
   },
   "outputs": [],
   "source": [
    "l = len(emu.scale_bin_centers)\n",
    "idx = 15\n",
    "params = {pname:pval for pname, pval in zip(emu._ordered_params.iterkeys(), emu.x[idx*l,:-1]*emu._x_std[:-1] + emu._x_mean[:-1])}"
   ]
  },
  {
   "cell_type": "code",
   "execution_count": 17,
   "metadata": {
    "collapsed": false
   },
   "outputs": [
    {
     "name": "stdout",
     "output_type": "stream",
     "text": [
      "logMmin \t\t\t\t\t12.1100271397\n",
      "f_c \t\t\t\t\t0.391101498903\n",
      "logM0 \t\t\t\t\t14.3252283948\n",
      "logM1 \t\t\t\t\t14.3212173935\n",
      "sigma_logM \t\t\t\t\t0.0938050332533\n",
      "alpha \t\t\t\t\t1.07747077502\n"
     ]
    }
   ],
   "source": [
    "for k,_v in params.iteritems():\n",
    "    print k,'\\t'*5,_v"
   ]
  },
  {
   "cell_type": "code",
   "execution_count": 18,
   "metadata": {
    "collapsed": true
   },
   "outputs": [],
   "source": [
    "sc_inv = 0.0001239041803415539\n",
    "W = 0.00275848072207"
   ]
  },
  {
   "cell_type": "raw",
   "metadata": {
    "collapsed": false
   },
   "source": [
    "emu._mean_func"
   ]
  },
  {
   "cell_type": "code",
   "execution_count": 19,
   "metadata": {
    "collapsed": false
   },
   "outputs": [
    {
     "name": "stdout",
     "output_type": "stream",
     "text": [
      "(20000, 7)\n"
     ]
    }
   ],
   "source": [
    "print emu.x.shape"
   ]
  },
  {
   "cell_type": "code",
   "execution_count": 20,
   "metadata": {
    "collapsed": false
   },
   "outputs": [],
   "source": [
    "#mean_line = np.zeros((l,))#\n",
    "mean_line = emu.mean_function(emu.x[(idx)*l:(idx+1)*l, :])"
   ]
  },
  {
   "cell_type": "code",
   "execution_count": 21,
   "metadata": {
    "collapsed": false
   },
   "outputs": [
    {
     "data": {
      "text/plain": [
       "<matplotlib.text.Text at 0x7f2d19d1cfd0>"
      ]
     },
     "execution_count": 21,
     "metadata": {},
     "output_type": "execute_result"
    },
    {
     "data": {
      "image/png": "[encoded data removed]",
      "text/plain": [
       "<matplotlib.figure.Figure at 0x7f2d31e7f2d0>"
      ]
     },
     "metadata": {},
     "output_type": "display_data"
    }
   ],
   "source": [
    "#param_name = 'logMmin'\n",
    "#bounds = emu.get_param_bounds(param_name)\n",
    "#vals = np.linspace(bounds[0], bounds[1], 4)\n",
    "#for v in vals:\n",
    "    #params[param_name] = v\n",
    "wt = emu.emulate_wrt_r(params, emu.scale_bin_centers)[0]\n",
    "plt.plot(emu.scale_bin_centers, 10**wt, label = 'Emu') #label = '%s=%.2f'%(param_name, v) )\n",
    "\n",
    "plt.plot(emu.scale_bin_centers, 10**(emu.y[(idx)*l:(idx+1)*l] + mean_line ), label = 'Training')\n",
    "#plt.plot(emu.scale_bin_centers, wt_redmagic, label = 'RedMagic')\n",
    "plt.ylabel(r'$w(\\theta)$')\n",
    "plt.xlabel(r'$\\theta \\mathrm{[degrees]}$')\n",
    "plt.loglog();\n",
    "plt.xscale('log')\n",
    "plt.legend(loc='best')\n",
    "plt.title(r'Emulation of $w(\\theta)$')# w.r.t. %s'%param_name)"
   ]
  },
  {
   "cell_type": "code",
   "execution_count": 22,
   "metadata": {
    "collapsed": false
   },
   "outputs": [],
   "source": [
    "from sklearn.model_selection import train_test_split\n",
    "x, y, yerr = emu.x, emu.y, emu.yerr\n",
    "#downsample_idxs = np.random.choice(x.shape[0], size = int(x.shape[0]), replace = False)\n",
    "#x,y, yerr = x[downsample_idxs, :], y[downsample_idxs], yerr[downsample_idxs]\n",
    "test_size = 0.05\n",
    "\n",
    "n_points = y.shape[0]/len(emu.scale_bin_centers)\n",
    "n_test_points = int(n_points*(1-test_size))*len(emu.scale_bin_centers)\n",
    "\n",
    "train_x, test_x, train_y, test_y, train_yerr, test_yerr = emu.x[:n_test_points], emu.x[n_test_points:],\\\n",
    "                                                          emu.y[:n_test_points], emu.y[n_test_points:],\\\n",
    "                                                          emu.yerr[:n_test_points], emu.yerr[n_test_points:]\n",
    "\n",
    "\n",
    "#train_x, test_x, train_y, test_y, train_yerr, test_yerr = train_test_split(x, y, yerr, test_size = 0.1)\n",
    "#train_x, test_x, train_y, test_y, train_yerr, test_yerr = emu.x, emu.x, emu.y, emu.y, emu.yerr, emu.yerr"
   ]
  },
  {
   "cell_type": "code",
   "execution_count": 23,
   "metadata": {
    "collapsed": true
   },
   "outputs": [],
   "source": [
    "model = emu._emulator\n",
    "model.compute(train_x, train_yerr)"
   ]
  },
  {
   "cell_type": "code",
   "execution_count": 24,
   "metadata": {
    "collapsed": false
   },
   "outputs": [],
   "source": [
    "pred_y = model.predict(train_y, test_x, False, False, False)*emu._y_std + emu._y_mean"
   ]
  },
  {
   "cell_type": "code",
   "execution_count": 25,
   "metadata": {
    "collapsed": true
   },
   "outputs": [],
   "source": [
    "pred_y+= emu.mean_function(test_x)\n",
    "test_y+= emu.mean_function(test_x)"
   ]
  },
  {
   "cell_type": "code",
   "execution_count": 26,
   "metadata": {
    "collapsed": false
   },
   "outputs": [
    {
     "data": {
      "text/plain": [
       "((1000,), (1000,))"
      ]
     },
     "execution_count": 26,
     "metadata": {},
     "output_type": "execute_result"
    }
   ],
   "source": [
    "pred_y.shape, test_y.shape"
   ]
  },
  {
   "cell_type": "code",
   "execution_count": 27,
   "metadata": {
    "collapsed": false
   },
   "outputs": [],
   "source": [
    "from seaborn import jointplot"
   ]
  },
  {
   "cell_type": "raw",
   "metadata": {
    "collapsed": false,
    "scrolled": false
   },
   "source": [
    "# for i in xrange(pred_y.shape[0]/emu.n_bins):\n",
    "    plt.plot(emu.scale_bin_centers, test_y[i*emu.n_bins:(i+1)*emu.n_bins], label = 'Truth')\n",
    "    plt.plot(emu.scale_bin_centers, pred_y[i*emu.n_bins:(i+1)*emu.n_bins], label = 'Prediction')\n",
    "    #plt.loglog()\n",
    "    plt.xscale('log')\n",
    "    plt.legend(loc='best')\n",
    "    plt.title(\"%d\"%i)\n",
    "    plt.show()"
   ]
  },
  {
   "cell_type": "code",
   "execution_count": 28,
   "metadata": {
    "collapsed": false
   },
   "outputs": [
    {
     "data": {
      "text/plain": [
       "<seaborn.axisgrid.JointGrid at 0x7f2d31e7f450>"
      ]
     },
     "execution_count": 28,
     "metadata": {},
     "output_type": "execute_result"
    },
    {
     "data": {
      "image/png": "[encoded data removed]",
      "text/plain": [
       "<matplotlib.figure.Figure at 0x7f2d31e7f190>"
      ]
     },
     "metadata": {},
     "output_type": "display_data"
    }
   ],
   "source": [
    "sns.jointplot(pred_y, test_y, kind = 'kde')\n"
   ]
  },
  {
   "cell_type": "code",
   "execution_count": 29,
   "metadata": {
    "collapsed": false
   },
   "outputs": [],
   "source": [
    "idxs =  np.argsort(np.abs((10**pred_y-10**test_y)/10**test_y))"
   ]
  },
  {
   "cell_type": "code",
   "execution_count": 30,
   "metadata": {
    "collapsed": false
   },
   "outputs": [
    {
     "data": {
      "text/plain": [
       "0.12177085273087232"
      ]
     },
     "execution_count": 30,
     "metadata": {},
     "output_type": "execute_result"
    }
   ],
   "source": [
    "np.mean(np.abs((pred_y-test_y)/test_y))\n",
    "#np.mean(np.abs((pred_y-train_y)/train_y))"
   ]
  },
  {
   "cell_type": "code",
   "execution_count": 31,
   "metadata": {
    "collapsed": false
   },
   "outputs": [
    {
     "data": {
      "text/plain": [
       "0.083290163031070966"
      ]
     },
     "execution_count": 31,
     "metadata": {},
     "output_type": "execute_result"
    }
   ],
   "source": [
    "np.mean(np.abs((10**pred_y-10**test_y)/(10**test_y)))"
   ]
  },
  {
   "cell_type": "code",
   "execution_count": 32,
   "metadata": {
    "collapsed": false
   },
   "outputs": [
    {
     "data": {
      "text/plain": [
       "0.02985283992753094"
      ]
     },
     "execution_count": 32,
     "metadata": {},
     "output_type": "execute_result"
    }
   ],
   "source": [
    "np.median(np.abs((10**pred_y-10**test_y)/(10**test_y)))"
   ]
  },
  {
   "cell_type": "code",
   "execution_count": 33,
   "metadata": {
    "collapsed": false
   },
   "outputs": [
    {
     "data": {
      "image/png": "[encoded data removed]",
      "text/plain": [
       "<matplotlib.figure.Figure at 0x7f2d1307dc50>"
      ]
     },
     "metadata": {},
     "output_type": "display_data"
    }
   ],
   "source": [
    "plt.hist(np.log10(np.abs((10**pred_y-10**test_y)/10**test_y)), bins = 30);"
   ]
  },
  {
   "cell_type": "code",
   "execution_count": null,
   "metadata": {
    "collapsed": true
   },
   "outputs": [],
   "source": []
  }
 ],
 "metadata": {
  "kernelspec": {
   "display_name": "Python [default]",
   "language": "python",
   "name": "python2"
  },
  "language_info": {
   "codemirror_mode": {
    "name": "ipython",
    "version": 2
   },
   "file_extension": ".py",
   "mimetype": "text/x-python",
   "name": "python",
   "nbconvert_exporter": "python",
   "pygments_lexer": "ipython2",
   "version": "2.7.13"
  }
 },
 "nbformat": 4,
 "nbformat_minor": 1
}
