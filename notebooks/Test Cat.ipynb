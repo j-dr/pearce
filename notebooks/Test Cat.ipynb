{
 "cells": [
  {
   "cell_type": "code",
   "execution_count": 2,
   "metadata": {
    "collapsed": false
   },
   "outputs": [],
   "source": [
    "from pearce.mocks.kittens import cat_dict\n",
    "import numpy as np\n",
    "from scipy.stats import binned_statistic, linregress"
   ]
  },
  {
   "cell_type": "code",
   "execution_count": 3,
   "metadata": {
    "collapsed": true
   },
   "outputs": [],
   "source": [
    "from matplotlib import pyplot as plt\n",
    "%matplotlib inline\n",
    "import seaborn as sns\n",
    "sns.set()"
   ]
  },
  {
   "cell_type": "code",
   "execution_count": 4,
   "metadata": {
    "collapsed": true
   },
   "outputs": [],
   "source": [
    "cosmo_params = {'simname':'chinchilla', 'Lbox':400.0, 'scale_factors':[0.658, 1.0]}"
   ]
  },
  {
   "cell_type": "code",
   "execution_count": 9,
   "metadata": {
    "collapsed": true
   },
   "outputs": [],
   "source": [
    "cat = cat_dict[cosmo_params['simname']](**cosmo_params)#construct the specified catalog!"
   ]
  },
  {
   "cell_type": "raw",
   "metadata": {
    "collapsed": false
   },
   "source": [
    "from halotools.sim_manager import HaloTableCache\n",
    "htc = HaloTableCache()"
   ]
  },
  {
   "cell_type": "raw",
   "metadata": {
    "collapsed": false
   },
   "source": [
    "htc.remove_entry_from_cache_log('chinchilla', 'rockstar', 'Lb400-2048', 0.5198\n",
    "                                 , '/u/ki/swmclau2/des/halocats/hlist_0.66.list.chinchilla.hdf5')"
   ]
  },
  {
   "cell_type": "code",
   "execution_count": 10,
   "metadata": {
    "collapsed": false
   },
   "outputs": [
    {
     "name": "stdout",
     "output_type": "stream",
     "text": [
      "0.658\n"
     ]
    }
   ],
   "source": [
    "cat.load(0.658, HOD='abRedMagic')"
   ]
  },
  {
   "cell_type": "code",
   "execution_count": 11,
   "metadata": {
    "collapsed": false
   },
   "outputs": [
    {
     "data": {
      "text/plain": [
       "array([83, 99])"
      ]
     },
     "execution_count": 11,
     "metadata": {},
     "output_type": "execute_result"
    }
   ],
   "source": [
    "cat.sf_idxs"
   ]
  },
  {
   "cell_type": "raw",
   "metadata": {
    "collapsed": false
   },
   "source": [
    "cat2 = cat_dict[cosmo_params['simname']](**cosmo_params)#construct the specified catalog!\n",
    "cat2.load(0.658, HOD='abRedMagic')\n",
    "print cat2.halocat.halo_table.keys()"
   ]
  },
  {
   "cell_type": "code",
   "execution_count": 13,
   "metadata": {
    "collapsed": false
   },
   "outputs": [
    {
     "data": {
      "text/plain": [
       "['halo_upid',\n",
       " 'halo_y',\n",
       " 'halo_x',\n",
       " 'halo_z',\n",
       " 'halo_rvir',\n",
       " 'halo_snapnum',\n",
       " 'halo_halfmass_scale',\n",
       " 'halo_id',\n",
       " 'halo_vx',\n",
       " 'halo_vy',\n",
       " 'halo_vz',\n",
       " 'halo_rs',\n",
       " 'halo_mvir',\n",
       " 'halo_nfw_conc',\n",
       " 'halo_hostid',\n",
       " 'halo_local_density_5',\n",
       " 'halo_mvir_host_halo']"
      ]
     },
     "execution_count": 13,
     "metadata": {},
     "output_type": "execute_result"
    }
   ],
   "source": [
    "cat.halocat.halo_table.keys()"
   ]
  },
  {
   "cell_type": "code",
   "execution_count": 14,
   "metadata": {
    "collapsed": false
   },
   "outputs": [],
   "source": [
    "rand_idxs = np.random.choice(len(cat.halocat.halo_table['halo_nfw_conc']),size = int(1e4), replace = False)\n",
    "mass_cut = cat.halocat.halo_table['halo_mvir']> 1e14"
   ]
  },
  {
   "cell_type": "code",
   "execution_count": 15,
   "metadata": {
    "collapsed": false
   },
   "outputs": [
    {
     "name": "stdout",
     "output_type": "stream",
     "text": [
      "3.10153519216e-05\n"
     ]
    }
   ],
   "source": [
    "print float(sum(mass_cut))/len(mass_cut)"
   ]
  },
  {
   "cell_type": "code",
   "execution_count": 16,
   "metadata": {
    "collapsed": false
   },
   "outputs": [
    {
     "name": "stdout",
     "output_type": "stream",
     "text": [
      "591421440.0\n"
     ]
    }
   ],
   "source": [
    "print cat.pmass"
   ]
  },
  {
   "cell_type": "code",
   "execution_count": 17,
   "metadata": {
    "collapsed": false
   },
   "outputs": [
    {
     "data": {
      "text/plain": [
       "<matplotlib.axes._subplots.AxesSubplot at 0x7f97ce76eed0>"
      ]
     },
     "execution_count": 17,
     "metadata": {},
     "output_type": "execute_result"
    },
    {
     "data": {
      "image/png": "[encoded data removed]",
      "text/plain": [
       "<matplotlib.figure.Figure at 0x7f97ce76ea90>"
      ]
     },
     "metadata": {},
     "output_type": "display_data"
    }
   ],
   "source": [
    "sns.distplot(np.log10(cat.halocat.halo_table['halo_mvir'][rand_idxs]), hist=True, kde=True)"
   ]
  },
  {
   "cell_type": "code",
   "execution_count": 20,
   "metadata": {
    "collapsed": false
   },
   "outputs": [
    {
     "data": {
      "text/plain": [
       "<matplotlib.axes._subplots.AxesSubplot at 0x7f97ce80a8d0>"
      ]
     },
     "execution_count": 20,
     "metadata": {},
     "output_type": "execute_result"
    },
    {
     "data": {
      "image/png": "[encoded data removed]",
      "text/plain": [
       "<matplotlib.figure.Figure at 0x7f97ce80ae50>"
      ]
     },
     "metadata": {},
     "output_type": "display_data"
    }
   ],
   "source": [
    "sns.distplot(cat.halocat.halo_table['halo_local_density_5'][rand_idxs], hist=True, kde=True)"
   ]
  },
  {
   "cell_type": "raw",
   "metadata": {
    "collapsed": true
   },
   "source": [
    "other_density = np.loadtxt('densities.npy')"
   ]
  },
  {
   "cell_type": "raw",
   "metadata": {
    "collapsed": false
   },
   "source": [
    "sns.distplot(other_density, hist=True, kde=True)"
   ]
  },
  {
   "cell_type": "code",
   "execution_count": 21,
   "metadata": {
    "collapsed": false
   },
   "outputs": [
    {
     "name": "stdout",
     "output_type": "stream",
     "text": [
      "12537802397.5\n",
      "2.79728537273e+12\n"
     ]
    }
   ],
   "source": [
    "print min(cat.halocat.halo_table['halo_local_density_5'][rand_idxs])\n",
    "print max(cat.halocat.halo_table['halo_local_density_5'][rand_idxs])"
   ]
  },
  {
   "cell_type": "code",
   "execution_count": 22,
   "metadata": {
    "collapsed": false
   },
   "outputs": [
    {
     "data": {
      "text/plain": [
       "[<matplotlib.lines.Line2D at 0x7f98044a0350>]"
      ]
     },
     "execution_count": 22,
     "metadata": {},
     "output_type": "execute_result"
    },
    {
     "data": {
      "image/png": "[encoded data removed]",
      "text/plain": [
       "<matplotlib.figure.Figure at 0x7f98045b1e10>"
      ]
     },
     "metadata": {},
     "output_type": "display_data"
    }
   ],
   "source": [
    "plt.plot(sorted(cat.halocat.halo_table['halo_local_density_5'][rand_idxs]))"
   ]
  },
  {
   "cell_type": "code",
   "execution_count": 24,
   "metadata": {
    "collapsed": true
   },
   "outputs": [],
   "source": [
    "vol = 4*np.pi/3*(5**3)"
   ]
  },
  {
   "cell_type": "code",
   "execution_count": 25,
   "metadata": {
    "collapsed": false
   },
   "outputs": [
    {
     "name": "stdout",
     "output_type": "stream",
     "text": [
      "[110.99999999999999, 138.99999999999997, 140.99999999999997, 146.99999999999997, 149.99999999999997, 151.0, 152.99999999999997, 154.99999999999997, 157.99999999999997, 158.99999999999997, 161.99999999999997, 161.99999999999997, 164.0, 164.0, 165.99999999999994, 165.99999999999994, 166.99999999999994, 166.99999999999994, 168.99999999999994, 168.99999999999994, 171.0, 171.99999999999994, 171.99999999999994, 173.99999999999994, 178.0, 178.0, 178.0, 178.0, 178.99999999999994, 178.99999999999994, 179.99999999999994, 180.99999999999994, 182.99999999999994, 183.99999999999994, 184.99999999999997, 184.99999999999997, 184.99999999999997, 185.99999999999994, 185.99999999999994, 186.99999999999994, 186.99999999999994, 186.99999999999994, 186.99999999999994, 187.99999999999994, 187.99999999999994, 188.99999999999997, 188.99999999999997, 188.99999999999997, 188.99999999999997, 188.99999999999997]\n"
     ]
    }
   ],
   "source": [
    "print sorted(cat.halocat.halo_table['halo_local_density_5'][rand_idxs]*vol/(100*cat.pmass))[:50]"
   ]
  },
  {
   "cell_type": "code",
   "execution_count": 26,
   "metadata": {
    "collapsed": false
   },
   "outputs": [],
   "source": [
    "rho_b = cat.halocat.halo_table['halo_local_density_5']"
   ]
  },
  {
   "cell_type": "code",
   "execution_count": 27,
   "metadata": {
    "collapsed": false
   },
   "outputs": [],
   "source": [
    "rho_halo = cat.halocat.halo_table['halo_mvir']/(4*np.pi/3*cat.halocat.halo_table['halo_rvir']**3)"
   ]
  },
  {
   "cell_type": "raw",
   "metadata": {
    "collapsed": false
   },
   "source": [
    "print rho_b.mean(), other_density.mean()"
   ]
  },
  {
   "cell_type": "raw",
   "metadata": {
    "collapsed": false
   },
   "source": [
    "print rho_b.std(), other_density.std()"
   ]
  },
  {
   "cell_type": "code",
   "execution_count": 28,
   "metadata": {
    "collapsed": false
   },
   "outputs": [],
   "source": [
    "relative_density = rho_halo/rho_b"
   ]
  },
  {
   "cell_type": "code",
   "execution_count": 29,
   "metadata": {
    "collapsed": false
   },
   "outputs": [
    {
     "data": {
      "text/plain": [
       "(array([  5.18115000e+05,   1.41735300e+06,   1.75642900e+06,\n",
       "          1.80962200e+06,   1.71349800e+06,   1.56850100e+06,\n",
       "          1.41341500e+06,   1.25749300e+06,   1.10768100e+06,\n",
       "          9.63770000e+05,   8.39290000e+05,   7.14377000e+05,\n",
       "          6.25067000e+05,   5.20934000e+05,   4.58431000e+05,\n",
       "          3.88085000e+05,   3.26302000e+05,   2.84040000e+05,\n",
       "          2.42219000e+05,   1.95454000e+05,   1.76751000e+05,\n",
       "          1.39572000e+05,   1.24558000e+05,   1.04136000e+05,\n",
       "          8.09720000e+04,   7.27450000e+04,   5.94870000e+04,\n",
       "          5.29240000e+04,   4.15220000e+04,   3.31810000e+04,\n",
       "          2.93350000e+04,   2.27180000e+04,   2.03390000e+04,\n",
       "          1.81360000e+04,   1.55430000e+04,   1.22180000e+04,\n",
       "          8.70100000e+03,   8.94300000e+03,   6.52700000e+03,\n",
       "          7.02800000e+03,   4.06400000e+03,   4.34900000e+03,\n",
       "          3.81000000e+03,   2.49100000e+03,   2.13700000e+03,\n",
       "          2.34900000e+03,   1.61300000e+03,   9.35000000e+02,\n",
       "          1.27800000e+03,   1.06400000e+03,   6.25000000e+02,\n",
       "          8.28000000e+02,   4.52000000e+02,   4.06000000e+02,\n",
       "          4.50000000e+02,   3.44000000e+02,   2.32000000e+02,\n",
       "          2.00000000e+02,   1.22000000e+02,   1.29000000e+02,\n",
       "          1.24000000e+02,   1.27000000e+02,   6.50000000e+01,\n",
       "          8.30000000e+01,   8.30000000e+01,   3.10000000e+01,\n",
       "          5.70000000e+01,   2.10000000e+01,   2.30000000e+01,\n",
       "          3.80000000e+01,   1.00000000e+01,   1.90000000e+01,\n",
       "          2.30000000e+01,   1.20000000e+01,   1.10000000e+01,\n",
       "          4.00000000e+00,   3.00000000e+00,   1.00000000e+00,\n",
       "          3.00000000e+00,   4.00000000e+00,   4.00000000e+00,\n",
       "          3.00000000e+00,   4.00000000e+00,   1.00000000e+00,\n",
       "          0.00000000e+00,   0.00000000e+00,   1.00000000e+00,\n",
       "          0.00000000e+00,   0.00000000e+00,   1.00000000e+00,\n",
       "          0.00000000e+00,   0.00000000e+00,   0.00000000e+00,\n",
       "          0.00000000e+00,   1.00000000e+00,   0.00000000e+00,\n",
       "          0.00000000e+00,   0.00000000e+00,   0.00000000e+00,\n",
       "          1.00000000e+00]),\n",
       " array([    5.58621882,    30.84260045,    56.09898207,    81.35536369,\n",
       "          106.61174531,   131.86812694,   157.12450856,   182.38089018,\n",
       "          207.6372718 ,   232.89365343,   258.15003505,   283.40641667,\n",
       "          308.66279829,   333.91917992,   359.17556154,   384.43194316,\n",
       "          409.68832478,   434.94470641,   460.20108803,   485.45746965,\n",
       "          510.71385128,   535.9702329 ,   561.22661452,   586.48299614,\n",
       "          611.73937777,   636.99575939,   662.25214101,   687.50852263,\n",
       "          712.76490426,   738.02128588,   763.2776675 ,   788.53404912,\n",
       "          813.79043075,   839.04681237,   864.30319399,   889.55957561,\n",
       "          914.81595724,   940.07233886,   965.32872048,   990.5851021 ,\n",
       "         1015.84148373,  1041.09786535,  1066.35424697,  1091.61062859,\n",
       "         1116.86701022,  1142.12339184,  1167.37977346,  1192.63615509,\n",
       "         1217.89253671,  1243.14891833,  1268.40529995,  1293.66168158,\n",
       "         1318.9180632 ,  1344.17444482,  1369.43082644,  1394.68720807,\n",
       "         1419.94358969,  1445.19997131,  1470.45635293,  1495.71273456,\n",
       "         1520.96911618,  1546.2254978 ,  1571.48187942,  1596.73826105,\n",
       "         1621.99464267,  1647.25102429,  1672.50740591,  1697.76378754,\n",
       "         1723.02016916,  1748.27655078,  1773.5329324 ,  1798.78931403,\n",
       "         1824.04569565,  1849.30207727,  1874.5584589 ,  1899.81484052,\n",
       "         1925.07122214,  1950.32760376,  1975.58398539,  2000.84036701,\n",
       "         2026.09674863,  2051.35313025,  2076.60951188,  2101.8658935 ,\n",
       "         2127.12227512,  2152.37865674,  2177.63503837,  2202.89141999,\n",
       "         2228.14780161,  2253.40418323,  2278.66056486,  2303.91694648,\n",
       "         2329.1733281 ,  2354.42970972,  2379.68609135,  2404.94247297,\n",
       "         2430.19885459,  2455.45523622,  2480.71161784,  2505.96799946,\n",
       "         2531.22438108]),\n",
       " <a list of 100 Patch objects>)"
      ]
     },
     "execution_count": 29,
     "metadata": {},
     "output_type": "execute_result"
    },
    {
     "data": {
      "image/png": "[encoded data removed]",
      "text/plain": [
       "<matplotlib.figure.Figure at 0x7f980480ea50>"
      ]
     },
     "metadata": {},
     "output_type": "display_data"
    }
   ],
   "source": [
    "plt.hist(relative_density, bins=100)"
   ]
  },
  {
   "cell_type": "code",
   "execution_count": 30,
   "metadata": {
    "collapsed": false
   },
   "outputs": [
    {
     "data": {
      "text/plain": [
       "<matplotlib.collections.PathCollection at 0x7f980454a350>"
      ]
     },
     "execution_count": 30,
     "metadata": {},
     "output_type": "execute_result"
    },
    {
     "data": {
      "image/png": "[encoded data removed]",
      "text/plain": [
       "<matplotlib.figure.Figure at 0x7f98043bf8d0>"
      ]
     },
     "metadata": {},
     "output_type": "display_data"
    }
   ],
   "source": [
    "plt.scatter(cat.halocat.halo_table['halo_nfw_conc'][mass_cut],\\\n",
    "         cat.halocat.halo_table['halo_local_density_5'][mass_cut], alpha=0.1)"
   ]
  },
  {
   "cell_type": "code",
   "execution_count": 31,
   "metadata": {
    "collapsed": false
   },
   "outputs": [],
   "source": [
    "rand_idxs = np.random.choice(len(cat.halocat.halo_table['halo_nfw_conc']),size = int(1e5), replace = False)\n",
    "mass_cut = np.logical_and(cat.halocat.halo_table['halo_mvir']> 1e13, cat.halocat.halo_table['halo_mvir']< 1e15)"
   ]
  },
  {
   "cell_type": "code",
   "execution_count": 94,
   "metadata": {
    "collapsed": true
   },
   "outputs": [],
   "source": [
    "dex = 0.2\n",
    "mass_bin = 1e13\n",
    "mass_cut1 =  cat.halocat.halo_table['halo_mvir']> mass_bin\n",
    "mass_cut2 = cat.halocat.halo_table['halo_mvir'] < 10**(np.log10(mass_bin)+dex) \n",
    "mass_cut = np.logical_and(mass_cut1, mass_cut2)"
   ]
  },
  {
   "cell_type": "code",
   "execution_count": 95,
   "metadata": {
    "collapsed": false
   },
   "outputs": [
    {
     "data": {
      "image/png": "[encoded data removed]",
      "text/plain": [
       "<matplotlib.figure.Figure at 0x7f97f72d11d0>"
      ]
     },
     "metadata": {},
     "output_type": "display_data"
    }
   ],
   "source": [
    "plt.hist(np.log10(cat.halocat.halo_table['halo_local_density_5'][mass_cut]), bins = 100);"
   ]
  },
  {
   "cell_type": "code",
   "execution_count": 96,
   "metadata": {
    "collapsed": false
   },
   "outputs": [
    {
     "data": {
      "image/png": "[encoded data removed]",
      "text/plain": [
       "<matplotlib.figure.Figure at 0x7f97f7ca6510>"
      ]
     },
     "metadata": {},
     "output_type": "display_data"
    }
   ],
   "source": [
    "plt.hist(cat.halocat.halo_table['halo_local_density_5'][mass_cut], bins = 100);"
   ]
  },
  {
   "cell_type": "code",
   "execution_count": 97,
   "metadata": {
    "collapsed": false
   },
   "outputs": [],
   "source": [
    "from scipy.stats import boxcox\n",
    "bc_rho, maxlam = boxcox(np.log10(cat.halocat.halo_table['halo_local_density_5'][mass_cut]) )"
   ]
  },
  {
   "cell_type": "code",
   "execution_count": 98,
   "metadata": {
    "collapsed": false
   },
   "outputs": [
    {
     "name": "stdout",
     "output_type": "stream",
     "text": [
      "-12.5580888189\n"
     ]
    }
   ],
   "source": [
    "print maxlam"
   ]
  },
  {
   "cell_type": "code",
   "execution_count": 99,
   "metadata": {
    "collapsed": false
   },
   "outputs": [
    {
     "data": {
      "image/png": "[encoded data removed]",
      "text/plain": [
       "<matplotlib.figure.Figure at 0x7f97f70e3310>"
      ]
     },
     "metadata": {},
     "output_type": "display_data"
    }
   ],
   "source": [
    "plt.hist(bc_rho, bins = 100);"
   ]
  },
  {
   "cell_type": "code",
   "execution_count": 101,
   "metadata": {
    "collapsed": false
   },
   "outputs": [
    {
     "name": "stdout",
     "output_type": "stream",
     "text": [
      "1.40129846432e-45\n"
     ]
    }
   ],
   "source": [
    "from scipy.stats import shapiro\n",
    "W, p = shapiro(np.log10(cat.halocat.halo_table['halo_local_density_5'][mass_cut]))\n",
    "print p"
   ]
  },
  {
   "cell_type": "code",
   "execution_count": 37,
   "metadata": {
    "collapsed": false
   },
   "outputs": [
    {
     "data": {
      "text/plain": [
       "5.4401908"
      ]
     },
     "execution_count": 37,
     "metadata": {},
     "output_type": "execute_result"
    }
   ],
   "source": [
    "np.mean(cat.halocat.halo_table['halo_nfw_conc'][mass_cut])"
   ]
  },
  {
   "cell_type": "code",
   "execution_count": 40,
   "metadata": {
    "collapsed": false
   },
   "outputs": [
    {
     "name": "stdout",
     "output_type": "stream",
     "text": [
      "0.126122145653\n"
     ]
    }
   ],
   "source": [
    "var = np.mean(np.log10(cat.halocat.halo_table['halo_nfw_conc'][mass_cut]))**2*0.18**2\n",
    "print np.sqrt(var)"
   ]
  },
  {
   "cell_type": "code",
   "execution_count": 41,
   "metadata": {
    "collapsed": true
   },
   "outputs": [],
   "source": [
    "from scipy.stats import lognorm, norm"
   ]
  },
  {
   "cell_type": "raw",
   "metadata": {
    "collapsed": false
   },
   "source": [
    "sns.jointplot(cat.halocat.halo_table['halo_local_density'][rand_idxs],\\\n",
    "         cat.halocat.halo_table['halo_nfw_conc'][rand_idxs],kind = 'hex', space=0)\n",
    "plt.suptitle('Conc v. Density, All Halos (Random Subset)')"
   ]
  },
  {
   "cell_type": "code",
   "execution_count": 43,
   "metadata": {
    "collapsed": true
   },
   "outputs": [],
   "source": [
    "n_particles = cat.halocat.halo_table['halo_local_density_5']*(4*np.pi/300*10**3)/(cat.pmass)\n",
    "rho_bar = 2048**3/(400.0**3)*(4*np.pi/300*10**3)\n",
    "cat.halocat.halo_table['halo_rorb']= n_particles/rho_bar"
   ]
  },
  {
   "cell_type": "raw",
   "metadata": {
    "collapsed": false
   },
   "source": [
    "sns.jointplot(cat.halocat.halo_table['halo_rorb'][mass_cut],\\\n",
    "         cat.halocat.halo_table['halo_nfw_conc'][mass_cut],kind = 'hex', space=0)\n",
    "plt.suptitle('Conc v. Density, Halos logM > 13')"
   ]
  },
  {
   "cell_type": "raw",
   "metadata": {
    "collapsed": true
   },
   "source": [
    "idxs = np.logical_and(cat.halocat.halo_table['halo_rorb'][mass_cut] < 15, cat.halocat.halo_table['halo_nfw_conc'][mass_cut]<13)"
   ]
  },
  {
   "cell_type": "raw",
   "metadata": {
    "collapsed": false
   },
   "source": [
    "sns.jointplot(cat.halocat.halo_table['halo_rorb'][mass_cut][idxs],\\\n",
    "         cat.halocat.halo_table['halo_nfw_conc'][mass_cut][idxs],kind = 'hex', space=0)\n",
    "plt.suptitle('Conc v. Density, Halos logM > 13')"
   ]
  },
  {
   "cell_type": "code",
   "execution_count": 44,
   "metadata": {
    "collapsed": false
   },
   "outputs": [
    {
     "name": "stdout",
     "output_type": "stream",
     "text": [
      "9.66096\n",
      "5.44019\n"
     ]
    }
   ],
   "source": [
    "print np.mean(cat.halocat.halo_table['halo_nfw_conc'])\n",
    "print np.mean(cat.halocat.halo_table['halo_nfw_conc'][mass_cut])"
   ]
  },
  {
   "cell_type": "code",
   "execution_count": 45,
   "metadata": {
    "collapsed": false
   },
   "outputs": [
    {
     "name": "stdout",
     "output_type": "stream",
     "text": [
      "3733.12\n",
      "24.9212\n"
     ]
    }
   ],
   "source": [
    "print np.max(cat.halocat.halo_table['halo_nfw_conc'])\n",
    "print np.max(cat.halocat.halo_table['halo_nfw_conc'][mass_cut])"
   ]
  },
  {
   "cell_type": "code",
   "execution_count": 65,
   "metadata": {
    "collapsed": true
   },
   "outputs": [],
   "source": [
    "nbins = 10"
   ]
  },
  {
   "cell_type": "code",
   "execution_count": 66,
   "metadata": {
    "collapsed": false
   },
   "outputs": [],
   "source": [
    "binned_rho, bin_edges, bno = binned_statistic(\\\n",
    "                np.log10(cat.halocat.halo_table['halo_mvir'][mass_cut]), np.log10(cat.halocat.halo_table['halo_local_density_5'][mass_cut]), bins = nbins)"
   ]
  },
  {
   "cell_type": "code",
   "execution_count": 67,
   "metadata": {
    "collapsed": false
   },
   "outputs": [],
   "source": [
    "binned_rho_std, bin_edges, bno = binned_statistic(\\\n",
    "                np.log10(cat.halocat.halo_table['halo_mvir'][mass_cut]), np.log10(cat.halocat.halo_table['halo_local_density_5'][mass_cut]),\\\n",
    "                statistic= np.std, bins = nbins)"
   ]
  },
  {
   "cell_type": "code",
   "execution_count": 68,
   "metadata": {
    "collapsed": false
   },
   "outputs": [
    {
     "name": "stdout",
     "output_type": "stream",
     "text": [
      "[ 12.00043392  12.020366    12.04029808  12.06023016  12.08016224\n",
      "  12.10009432  12.1200264   12.13995848  12.15989056  12.17982264\n",
      "  12.19975471]\n"
     ]
    }
   ],
   "source": [
    "print bin_edges\n",
    "bin_centers = (bin_edges[:-1]+bin_edges[1:])/2"
   ]
  },
  {
   "cell_type": "code",
   "execution_count": 69,
   "metadata": {
    "collapsed": false
   },
   "outputs": [
    {
     "data": {
      "image/png": "[encoded data removed]",
      "text/plain": [
       "<matplotlib.figure.Figure at 0x7f97f7e7d590>"
      ]
     },
     "metadata": {},
     "output_type": "display_data"
    }
   ],
   "source": [
    "fig = plt.figure(figsize=(10,10))\n",
    "plt.title('rho - M', fontsize = 25)\n",
    "plt.errorbar(bin_centers, binned_rho, binned_rho_std)\n",
    "\n",
    "#plt.plot(bin_centers, -0.13*bin_centers+2.45, color = 'r', label = 'Literature (Slope = -0.13)')\n",
    "#plt.fill_between(bin_centers,1.18*(-0.13*bin_centers+2.45), (-0.13*bin_centers+2.45)/1.18, color = 'r', alpha = .2 )\n",
    "#plt.loglog()\n",
    "plt.xlabel(r'$\\log(M) \\mathrm{[h^{-1} M_{\\cdot}]}$', fontsize = 20)\n",
    "plt.ylabel(r'$\\log(\\rho_b)$', fontsize = 20)\n",
    "#plt.legend(loc='best')\n",
    "plt.show()"
   ]
  },
  {
   "cell_type": "code",
   "execution_count": 47,
   "metadata": {
    "collapsed": false
   },
   "outputs": [],
   "source": [
    "binned_conc, bin_edges, bno = binned_statistic(\\\n",
    "                np.log10(cat.halocat.halo_table['halo_mvir'][mass_cut]), np.log10(cat.halocat.halo_table['halo_nfw_conc'][mass_cut]), bins = nbins)"
   ]
  },
  {
   "cell_type": "code",
   "execution_count": 48,
   "metadata": {
    "collapsed": false
   },
   "outputs": [],
   "source": [
    "binned_conc_std, bin_edges, bno = binned_statistic(\\\n",
    "                np.log10(cat.halocat.halo_table['halo_mvir'][mass_cut]), np.log10(cat.halocat.halo_table['halo_nfw_conc'][mass_cut]),\\\n",
    "                statistic= np.std, bins = nbins)"
   ]
  },
  {
   "cell_type": "code",
   "execution_count": 49,
   "metadata": {
    "collapsed": false
   },
   "outputs": [
    {
     "name": "stdout",
     "output_type": "stream",
     "text": [
      "[ 13.00043392  13.020366    13.04029808  13.06023016  13.08016224\n",
      "  13.10009432  13.1200264   13.13995848  13.15989056  13.17982264\n",
      "  13.19975471]\n"
     ]
    }
   ],
   "source": [
    "print bin_edges\n",
    "bin_centers = (bin_edges[:-1]+bin_edges[1:])/2"
   ]
  },
  {
   "cell_type": "code",
   "execution_count": 50,
   "metadata": {
    "collapsed": false
   },
   "outputs": [
    {
     "data": {
      "image/png": "[encoded data removed]",
      "text/plain": [
       "<matplotlib.figure.Figure at 0x7f97d9059710>"
      ]
     },
     "metadata": {},
     "output_type": "display_data"
    }
   ],
   "source": [
    "fig = plt.figure(figsize=(10,10))\n",
    "plt.title('Conc - M', fontsize = 25)\n",
    "plt.errorbar(bin_centers, binned_conc, binned_conc_std, label = 'Chinchilla 400 (Slope = -.05)')\n",
    "\n",
    "plt.plot(bin_centers, -0.13*bin_centers+2.45, color = 'r', label = 'Literature (Slope = -0.13)')\n",
    "plt.fill_between(bin_centers,1.18*(-0.13*bin_centers+2.45), (-0.13*bin_centers+2.45)/1.18, color = 'r', alpha = .2 )\n",
    "#plt.loglog()\n",
    "plt.xlabel(r'$\\log(M) \\mathrm{[h^{-1} M_{\\cdot}]}$', fontsize = 20)\n",
    "plt.ylabel(r'$\\log(c_{\\mathrm{NFW}})$', fontsize = 20)\n",
    "plt.legend(loc='best')\n",
    "plt.show()"
   ]
  },
  {
   "cell_type": "code",
   "execution_count": null,
   "metadata": {
    "collapsed": true
   },
   "outputs": [],
   "source": []
  },
  {
   "cell_type": "code",
   "execution_count": 51,
   "metadata": {
    "collapsed": false
   },
   "outputs": [
    {
     "name": "stdout",
     "output_type": "stream",
     "text": [
      "-0.121227980065 2.28760653212 -0.877016959132\n"
     ]
    }
   ],
   "source": [
    "slope, intercept, r, p, err = linregress(bin_centers, binned_conc)\n",
    "print slope, intercept, r"
   ]
  },
  {
   "cell_type": "raw",
   "metadata": {
    "collapsed": false
   },
   "source": [
    "#mass_cut = cat.halocat.halo_table['halo_mvir']> 1e14"
   ]
  },
  {
   "cell_type": "code",
   "execution_count": 52,
   "metadata": {
    "collapsed": false
   },
   "outputs": [],
   "source": [
    "binned_conc, bin_edges, bno = binned_statistic(\\\n",
    "                np.log10(cat.halocat.halo_table['halo_rorb'][mass_cut]), np.log10(cat.halocat.halo_table['halo_nfw_conc'][mass_cut]), bins = nbins)"
   ]
  },
  {
   "cell_type": "code",
   "execution_count": 53,
   "metadata": {
    "collapsed": false
   },
   "outputs": [],
   "source": [
    "binned_conc_std, bin_edges, bno = binned_statistic(\\\n",
    "                np.log10(cat.halocat.halo_table['halo_rorb'][mass_cut]), np.log10(cat.halocat.halo_table['halo_nfw_conc'][mass_cut]),\\\n",
    "                statistic= np.std, bins = nbins)"
   ]
  },
  {
   "cell_type": "code",
   "execution_count": 54,
   "metadata": {
    "collapsed": false
   },
   "outputs": [
    {
     "name": "stdout",
     "output_type": "stream",
     "text": [
      "[-0.05232046  0.11271014  0.27774073  0.44277133  0.60780193  0.77283252\n",
      "  0.93786312  1.10289372  1.26792431  1.43295491  1.59798551]\n"
     ]
    }
   ],
   "source": [
    "print bin_edges\n",
    "bin_centers = (bin_edges[:-1]+bin_edges[1:])/2"
   ]
  },
  {
   "cell_type": "raw",
   "metadata": {
    "collapsed": false
   },
   "source": [
    "plt.errorbar(bin_centers, binned_conc, binned_conc_std)\n",
    "#plt.loglog()\n",
    "plt.show()"
   ]
  },
  {
   "cell_type": "code",
   "execution_count": 55,
   "metadata": {
    "collapsed": false
   },
   "outputs": [
    {
     "name": "stdout",
     "output_type": "stream",
     "text": [
      "0.10831630636 0.672374458557 0.597021067869\n"
     ]
    }
   ],
   "source": [
    "slope, intercept, r, p, err = linregress(bin_centers, binned_conc)\n",
    "print slope, intercept, r"
   ]
  },
  {
   "cell_type": "code",
   "execution_count": 56,
   "metadata": {
    "collapsed": false
   },
   "outputs": [
    {
     "data": {
      "image/png": "[encoded data removed]",
      "text/plain": [
       "<matplotlib.figure.Figure at 0x7f9804082b50>"
      ]
     },
     "metadata": {},
     "output_type": "display_data"
    }
   ],
   "source": [
    "fig = plt.figure(figsize=(10,10))\n",
    "plt.title('Conc - Density: Mass bin at %.1e of 0.2 dex'%mass_bin, fontsize = 25)\n",
    "plt.errorbar(bin_centers, binned_conc, binned_conc_std, label = 'Chinchilla 400 (Slope =  -0.28)')\n",
    "\n",
    "#plt.plot(bin_centers, -0.13*bin_centers+2.45, color = 'r', label = 'Literature (Slope = ?)')\n",
    "#plt.fill_between(bin_centers,1.18*(-0.13*bin_centers+2.45), (-0.13*bin_centers+2.45)/1.18, color = 'r', alpha = .2 )\n",
    "#plt.loglog()\n",
    "plt.xlabel(r'$\\rho/(\\rho_{avg})$', fontsize = 20)\n",
    "plt.ylabel(r'$\\log(c_{\\mathrm{NFW}})$', fontsize = 20)\n",
    "plt.legend(loc='best')\n",
    "plt.show()"
   ]
  },
  {
   "cell_type": "code",
   "execution_count": null,
   "metadata": {
    "collapsed": false
   },
   "outputs": [],
   "source": [
    "sns.jointplot(cat.halocat.halo_table['halo_rorb'][mass_cut],\\\n",
    "         cat.halocat.halo_table['halo_nfw_conc'][mass_cut],kind = 'hex', space=0)\n",
    "plt.suptitle('Conc v. Density, Halos logM > 14')"
   ]
  },
  {
   "cell_type": "code",
   "execution_count": null,
   "metadata": {
    "collapsed": false
   },
   "outputs": [],
   "source": [
    "cat.halocat.halo_table.keys()"
   ]
  },
  {
   "cell_type": "code",
   "execution_count": null,
   "metadata": {
    "collapsed": false
   },
   "outputs": [],
   "source": [
    "sns.jointplot(np.log10(cat.halocat.halo_table['halo_mvir'][mass_cut]),\\\n",
    "         cat.halocat.halo_table['halo_nfw_conc'][mass_cut],kind = 'hex', space=0)\n",
    "plt.suptitle('Conc v. Mass, Halos logM > 13')"
   ]
  },
  {
   "cell_type": "code",
   "execution_count": null,
   "metadata": {
    "collapsed": true
   },
   "outputs": [],
   "source": [
    "idxs = np.logical_and(cat.halocat.halo_table['halo_rorb'][mass_cut] < 15, cat.halocat.halo_table['halo_mvir'][mass_cut]<10**14.25)"
   ]
  },
  {
   "cell_type": "code",
   "execution_count": null,
   "metadata": {
    "collapsed": false
   },
   "outputs": [],
   "source": [
    "sns.jointplot(np.log10(cat.halocat.halo_table['halo_mvir'][mass_cut][idxs]),\\\n",
    "         cat.halocat.halo_table['halo_rorb'][mass_cut][idxs],kind = 'hex', space=0)\n",
    "plt.suptitle('Density v. Mass, Halos logM > 13')"
   ]
  },
  {
   "cell_type": "raw",
   "metadata": {
    "collapsed": false
   },
   "source": [
    "plt.scatter(cat.halocat.halo_table['halo_nfw_conc'][mass_cut],\\\n",
    "         other_density[mass_cut], alpha=0.1)"
   ]
  },
  {
   "cell_type": "code",
   "execution_count": null,
   "metadata": {
    "collapsed": false
   },
   "outputs": [],
   "source": [
    "sns.jointplot(cat.halocat.halo_table['halo_mvir'][mass_cut]/(4*np.pi/3*cat.halocat.halo_table['halo_rvir'][mass_cut]**3),\\\n",
    "         cat.halocat.halo_table['halo_local_density'][mass_cut]/100, kind = 'hex', space=0)"
   ]
  },
  {
   "cell_type": "code",
   "execution_count": null,
   "metadata": {
    "collapsed": false
   },
   "outputs": [],
   "source": [
    "ratio = (cat.halocat.halo_table['halo_mvir'][mass_cut]/(4*np.pi/3*cat.halocat.halo_table['halo_rvir'][mass_cut]**3))/cat.halocat.halo_table['halo_local_density'][mass_cut]"
   ]
  },
  {
   "cell_type": "code",
   "execution_count": null,
   "metadata": {
    "collapsed": false
   },
   "outputs": [],
   "source": [
    "ratio.mean(), ratio.std()"
   ]
  },
  {
   "cell_type": "code",
   "execution_count": null,
   "metadata": {
    "collapsed": false
   },
   "outputs": [],
   "source": [
    "sns.jointplot(cat.halocat.halo_table['halo_nfw_conc'][mass_cut],\\\n",
    "         other_density[mass_cut], kind = 'hex', space=0)"
   ]
  },
  {
   "cell_type": "code",
   "execution_count": null,
   "metadata": {
    "collapsed": false
   },
   "outputs": [],
   "source": [
    "from scipy.stats import pearsonr\n",
    "print pearsonr(cat.halocat.halo_table['halo_nfw_conc'][rand_idxs],\\\n",
    "         cat.halocat.halo_table['halo_local_density'][rand_idxs])[0]"
   ]
  },
  {
   "cell_type": "code",
   "execution_count": null,
   "metadata": {
    "collapsed": true
   },
   "outputs": [],
   "source": [
    "cat.model.sec_haloprop_key = 'halo_local_density'"
   ]
  },
  {
   "cell_type": "code",
   "execution_count": null,
   "metadata": {
    "collapsed": false
   },
   "outputs": [],
   "source": [
    "cat.model.param_dict"
   ]
  },
  {
   "cell_type": "code",
   "execution_count": null,
   "metadata": {
    "collapsed": true
   },
   "outputs": [],
   "source": [
    "fiducial_point = {'logM0': 12.20, 'logM1': 13.7, 'alpha': 1.02,\n",
    "                      'logMmin': 12.1, 'f_c': 0.19, 'sigma_logM': 0.46}"
   ]
  },
  {
   "cell_type": "code",
   "execution_count": null,
   "metadata": {
    "collapsed": false
   },
   "outputs": [],
   "source": [
    "cat.model._input_model_dictionary['centrals_occupation']._get_assembias_param_dict_key(0)"
   ]
  },
  {
   "cell_type": "code",
   "execution_count": null,
   "metadata": {
    "collapsed": false
   },
   "outputs": [],
   "source": [
    "fiducial_point['mean_occupation_centrals_assembias_param1'] = 0.0\n",
    "fiducial_point['mean_occupation_satellites_assembias_param1'] = 0.0"
   ]
  },
  {
   "cell_type": "code",
   "execution_count": null,
   "metadata": {
    "collapsed": false
   },
   "outputs": [],
   "source": [
    "#hod_point = [('f_c', 0.233), ('logM0', 12.0), ('sigma_logM', 0.533), \n",
    "#                   ('alpha', 1.083),('logM1', 13.5), ('logMmin', 12.233)]\n",
    "hod_params = dict(fiducial_point)\n",
    "cat.populate(hod_params)"
   ]
  },
  {
   "cell_type": "code",
   "execution_count": null,
   "metadata": {
    "collapsed": false
   },
   "outputs": [],
   "source": [
    "cat.model.param_dict"
   ]
  },
  {
   "cell_type": "code",
   "execution_count": null,
   "metadata": {
    "collapsed": false
   },
   "outputs": [],
   "source": [
    "cat.calc_number_density()"
   ]
  },
  {
   "cell_type": "code",
   "execution_count": null,
   "metadata": {
    "collapsed": false
   },
   "outputs": [],
   "source": [
    "pi_max = 40.\n",
    "rp_bins = np.logspace(-1,1.25,15)\n",
    "rp_points = (rp_bins[1:]+rp_bins[:-1])/2"
   ]
  },
  {
   "cell_type": "code",
   "execution_count": null,
   "metadata": {
    "collapsed": true
   },
   "outputs": [],
   "source": [
    "wp_vals = []\n",
    "for i in xrange(10):\n",
    "    cat.populate(hod_params)\n",
    "    wp_vals.append(cat.calc_wp(rp_bins, pi_max))\n",
    "wp_vals = np.array(wp_vals)"
   ]
  },
  {
   "cell_type": "code",
   "execution_count": null,
   "metadata": {
    "collapsed": false
   },
   "outputs": [],
   "source": [
    "wp_vals.shape"
   ]
  },
  {
   "cell_type": "code",
   "execution_count": null,
   "metadata": {
    "collapsed": true
   },
   "outputs": [],
   "source": [
    "wp = wp_vals.mean(axis=0)\n",
    "cov = np.cov(wp_vals, rowvar=False)/np.sqrt(10)"
   ]
  },
  {
   "cell_type": "code",
   "execution_count": null,
   "metadata": {
    "collapsed": false
   },
   "outputs": [],
   "source": [
    "plt.plot(rp_points, wp)\n",
    "plt.loglog()\n",
    "plt.show()"
   ]
  },
  {
   "cell_type": "code",
   "execution_count": null,
   "metadata": {
    "collapsed": false,
    "scrolled": true
   },
   "outputs": [],
   "source": [
    "theta_bins = np.logspace(-2,0,15)\n",
    "theta_points = (theta_bins[:-1]+theta_bins[1:])/2.0\n",
    "wt = cat.calc_wt(theta_bins)"
   ]
  },
  {
   "cell_type": "code",
   "execution_count": null,
   "metadata": {
    "collapsed": false
   },
   "outputs": [],
   "source": [
    "plt.plot(theta_points, wt)\n",
    "plt.loglog()\n",
    "plt.show()"
   ]
  },
  {
   "cell_type": "code",
   "execution_count": null,
   "metadata": {
    "collapsed": false
   },
   "outputs": [],
   "source": [
    "rbins = np.array([  0.06309573,   0.12437607,   0.24517359,   0.34422476, 0.48329302, 0.67854546,\\\n",
    "           0.9526807 , 1.33756775,1.8779508 ,   2.6366509 ,   3.70186906,   5.19743987])#, 7.29722764, \\\n",
    "           #10.24533859,  14.38449888,  20.1958975])# , 28.35512583,  39.81071706] )\n",
    "rpoints = (rbins[1:]+rbins[:-1])/2\n",
    "jk_args= {'n_rands':3, 'n_sub':3}"
   ]
  },
  {
   "cell_type": "code",
   "execution_count": null,
   "metadata": {
    "collapsed": false
   },
   "outputs": [],
   "source": [
    "#%%timeit\n",
    "#try another estimator?\n",
    "xi, cov = cat.calc_xi(rbins, jk_args=jk_args)"
   ]
  },
  {
   "cell_type": "code",
   "execution_count": null,
   "metadata": {
    "collapsed": false
   },
   "outputs": [],
   "source": [
    "errs = np.sqrt(np.diag(cov))\n",
    "print errs"
   ]
  },
  {
   "cell_type": "code",
   "execution_count": null,
   "metadata": {
    "collapsed": false
   },
   "outputs": [],
   "source": [
    "plt.errorbar(rpoints,xi,yerr=errs, fmt='o-')\n",
    "plt.loglog()\n",
    "plt.show()"
   ]
  },
  {
   "cell_type": "code",
   "execution_count": null,
   "metadata": {
    "collapsed": false
   },
   "outputs": [],
   "source": [
    "#%%timeit\n",
    "#try another estimator?\n",
    "jk_args= {'n_rands':50, 'n_sub':3}\n",
    "xi, cov = cat.calc_xi(rbins, jk_args=jk_args)"
   ]
  },
  {
   "cell_type": "code",
   "execution_count": null,
   "metadata": {
    "collapsed": false
   },
   "outputs": [],
   "source": [
    "errs = np.sqrt(np.diag(cov))\n",
    "print errs"
   ]
  },
  {
   "cell_type": "code",
   "execution_count": null,
   "metadata": {
    "collapsed": false
   },
   "outputs": [],
   "source": [
    "plt.errorbar(rpoints,xi,yerr=errs, fmt='o-')\n",
    "plt.loglog()\n",
    "plt.show()"
   ]
  },
  {
   "cell_type": "code",
   "execution_count": null,
   "metadata": {
    "collapsed": true
   },
   "outputs": [],
   "source": []
  }
 ],
 "metadata": {
  "kernelspec": {
   "display_name": "Python [conda env:hodemulator]",
   "language": "python",
   "name": "conda-env-hodemulator-py"
  },
  "language_info": {
   "codemirror_mode": {
    "name": "ipython",
    "version": 2
   },
   "file_extension": ".py",
   "mimetype": "text/x-python",
   "name": "python",
   "nbconvert_exporter": "python",
   "pygments_lexer": "ipython2",
   "version": "2.7.12"
  }
 },
 "nbformat": 4,
 "nbformat_minor": 0
}
