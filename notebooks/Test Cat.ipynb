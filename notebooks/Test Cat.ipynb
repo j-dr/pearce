{
 "cells": [
  {
   "cell_type": "code",
   "execution_count": 1,
   "metadata": {
    "collapsed": false
   },
   "outputs": [
    {
     "name": "stdout",
     "output_type": "stream",
     "text": [
      "The history saving thread hit an unexpected error (DatabaseError('database disk image is malformed',)).History will not be written to the database.\n"
     ]
    }
   ],
   "source": [
    "from pearce.mocks.kittens import cat_dict\n",
    "import numpy as np"
   ]
  },
  {
   "cell_type": "code",
   "execution_count": 2,
   "metadata": {
    "collapsed": true
   },
   "outputs": [],
   "source": [
    "from matplotlib import pyplot as plt\n",
    "%matplotlib inline\n",
    "import seaborn as sns\n",
    "sns.set()"
   ]
  },
  {
   "cell_type": "code",
   "execution_count": 18,
   "metadata": {
    "collapsed": true
   },
   "outputs": [],
   "source": [
    "cosmo_params = {'simname':'chinchilla', 'Lbox':400.0, 'scale_factors':[0.658, 1.0]}"
   ]
  },
  {
   "cell_type": "code",
   "execution_count": 19,
   "metadata": {
    "collapsed": false
   },
   "outputs": [],
   "source": [
    "cat = cat_dict[cosmo_params['simname']](**cosmo_params)#construct the specified catalog!"
   ]
  },
  {
   "cell_type": "raw",
   "metadata": {
    "collapsed": false
   },
   "source": [
    "from halotools.sim_manager import HaloTableCache\n",
    "htc = HaloTableCache()"
   ]
  },
  {
   "cell_type": "raw",
   "metadata": {
    "collapsed": false
   },
   "source": [
    "htc.remove_entry_from_cache_log('chinchilla', 'rockstar', 'Lb400-2048', 0.5198\n",
    "                                 , '/u/ki/swmclau2/des/halocats/hlist_0.66.list.chinchilla.hdf5')"
   ]
  },
  {
   "cell_type": "code",
   "execution_count": 20,
   "metadata": {
    "collapsed": false
   },
   "outputs": [],
   "source": [
    "cat.load(2.0/3.0, HOD='abRedMagic')"
   ]
  },
  {
   "cell_type": "code",
   "execution_count": 21,
   "metadata": {
    "collapsed": false
   },
   "outputs": [
    {
     "data": {
      "text/plain": [
       "array([34, 90])"
      ]
     },
     "execution_count": 21,
     "metadata": {},
     "output_type": "execute_result"
    }
   ],
   "source": [
    "cat.sf_idxs"
   ]
  },
  {
   "cell_type": "code",
   "execution_count": 6,
   "metadata": {
    "collapsed": false
   },
   "outputs": [
    {
     "data": {
      "text/plain": [
       "['halo_upid',\n",
       " 'halo_y',\n",
       " 'halo_x',\n",
       " 'halo_z',\n",
       " 'halo_rvir',\n",
       " 'halo_id',\n",
       " 'halo_vx',\n",
       " 'halo_vy',\n",
       " 'halo_vz',\n",
       " 'halo_rs',\n",
       " 'halo_mvir',\n",
       " 'halo_nfw_conc',\n",
       " 'halo_hostid',\n",
       " 'halo_local_density',\n",
       " 'halo_mvir_host_halo']"
      ]
     },
     "execution_count": 6,
     "metadata": {},
     "output_type": "execute_result"
    }
   ],
   "source": [
    "cat.halocat.halo_table.keys()"
   ]
  },
  {
   "cell_type": "code",
   "execution_count": 7,
   "metadata": {
    "collapsed": false
   },
   "outputs": [],
   "source": [
    "rand_idxs = np.random.choice(len(cat.halocat.halo_table['halo_nfw_conc']),size = int(1e4), replace = False)\n",
    "mass_cut = cat.halocat.halo_table['halo_mvir']/cat.pmass >= 1e3"
   ]
  },
  {
   "cell_type": "code",
   "execution_count": 8,
   "metadata": {
    "collapsed": false
   },
   "outputs": [
    {
     "name": "stdout",
     "output_type": "stream",
     "text": [
      "0.0222693354395\n"
     ]
    }
   ],
   "source": [
    "print float(sum(mass_cut))/len(mass_cut)"
   ]
  },
  {
   "cell_type": "code",
   "execution_count": 9,
   "metadata": {
    "collapsed": false
   },
   "outputs": [
    {
     "name": "stdout",
     "output_type": "stream",
     "text": [
      "591421440.0\n"
     ]
    }
   ],
   "source": [
    "print cat.pmass"
   ]
  },
  {
   "cell_type": "code",
   "execution_count": 10,
   "metadata": {
    "collapsed": false
   },
   "outputs": [
    {
     "data": {
      "text/plain": [
       "<matplotlib.axes._subplots.AxesSubplot at 0x7f143a3bce10>"
      ]
     },
     "execution_count": 10,
     "metadata": {},
     "output_type": "execute_result"
    },
    {
     "data": {
      "image/png": "[encoded data removed]",
      "text/plain": [
       "<matplotlib.figure.Figure at 0x7f143a3bc7d0>"
      ]
     },
     "metadata": {},
     "output_type": "display_data"
    }
   ],
   "source": [
    "sns.distplot(np.log10(cat.halocat.halo_table['halo_mvir'][rand_idxs]), hist=True, kde=True)"
   ]
  },
  {
   "cell_type": "code",
   "execution_count": 11,
   "metadata": {
    "collapsed": false
   },
   "outputs": [
    {
     "data": {
      "text/plain": [
       "<matplotlib.axes._subplots.AxesSubplot at 0x7f143a3bc850>"
      ]
     },
     "execution_count": 11,
     "metadata": {},
     "output_type": "execute_result"
    },
    {
     "data": {
      "image/png": "[encoded data removed]",
      "text/plain": [
       "<matplotlib.figure.Figure at 0x7f143a1e54d0>"
      ]
     },
     "metadata": {},
     "output_type": "display_data"
    }
   ],
   "source": [
    "sns.distplot(cat.halocat.halo_table['halo_local_density'][rand_idxs], hist=True, kde=True)"
   ]
  },
  {
   "cell_type": "code",
   "execution_count": 12,
   "metadata": {
    "collapsed": false
   },
   "outputs": [
    {
     "name": "stdout",
     "output_type": "stream",
     "text": [
      "9488066679.15\n",
      "3.16867541131e+12\n"
     ]
    }
   ],
   "source": [
    "print min(cat.halocat.halo_table['halo_local_density'][rand_idxs])\n",
    "print max(cat.halocat.halo_table['halo_local_density'][rand_idxs])"
   ]
  },
  {
   "cell_type": "code",
   "execution_count": 13,
   "metadata": {
    "collapsed": false
   },
   "outputs": [
    {
     "data": {
      "text/plain": [
       "[<matplotlib.lines.Line2D at 0x7f14390bba90>]"
      ]
     },
     "execution_count": 13,
     "metadata": {},
     "output_type": "execute_result"
    },
    {
     "data": {
      "image/png": "[encoded data removed]",
      "text/plain": [
       "<matplotlib.figure.Figure at 0x7f143a827950>"
      ]
     },
     "metadata": {},
     "output_type": "display_data"
    }
   ],
   "source": [
    "plt.plot(sorted(cat.halocat.halo_table['halo_local_density'][rand_idxs]))"
   ]
  },
  {
   "cell_type": "code",
   "execution_count": 14,
   "metadata": {
    "collapsed": true
   },
   "outputs": [],
   "source": [
    "vol = 4*np.pi/3*(5**3)"
   ]
  },
  {
   "cell_type": "code",
   "execution_count": 15,
   "metadata": {
    "collapsed": false
   },
   "outputs": [
    {
     "name": "stdout",
     "output_type": "stream",
     "text": [
      "[84.0, 95.999999999999986, 97.999999999999986, 98.999999999999986, 106.99999999999999, 113.99999999999999, 118.99999999999997, 132.99999999999997, 134.99999999999997, 136.99999999999997, 137.99999999999997, 142.99999999999997, 144.99999999999997, 149.0, 149.99999999999997, 149.99999999999997, 149.99999999999997, 149.99999999999997, 149.99999999999997, 149.99999999999997, 151.0, 152.99999999999997, 155.99999999999997, 157.99999999999997, 157.99999999999997, 157.99999999999997, 158.99999999999997, 159.99999999999997, 161.0, 162.99999999999997, 162.99999999999997, 162.99999999999997, 162.99999999999997, 164.0, 165.99999999999994, 166.99999999999994, 168.0, 168.0, 168.99999999999994, 171.0, 171.99999999999994, 171.99999999999994, 173.99999999999994, 173.99999999999994, 175.0, 175.0, 175.0, 175.99999999999994, 176.99999999999994, 178.99999999999994]\n"
     ]
    }
   ],
   "source": [
    "print sorted(cat.halocat.halo_table['halo_local_density'][rand_idxs]*vol/(100*cat.pmass))[:50]"
   ]
  },
  {
   "cell_type": "code",
   "execution_count": 16,
   "metadata": {
    "collapsed": false
   },
   "outputs": [
    {
     "data": {
      "text/plain": [
       "<matplotlib.collections.PathCollection at 0x7f143903cd10>"
      ]
     },
     "execution_count": 16,
     "metadata": {},
     "output_type": "execute_result"
    },
    {
     "data": {
      "image/png": "[encoded data removed]",
      "text/plain": [
       "<matplotlib.figure.Figure at 0x7f1439371f50>"
      ]
     },
     "metadata": {},
     "output_type": "display_data"
    }
   ],
   "source": [
    "plt.scatter(cat.halocat.halo_table['halo_nfw_conc'][mass_cut],\\\n",
    "         cat.halocat.halo_table['halo_local_density'][mass_cut], alpha=0.1)"
   ]
  },
  {
   "cell_type": "code",
   "execution_count": 16,
   "metadata": {
    "collapsed": false
   },
   "outputs": [
    {
     "data": {
      "text/plain": [
       "<seaborn.axisgrid.JointGrid at 0x7f1438fe62d0>"
      ]
     },
     "execution_count": 17,
     "metadata": {},
     "output_type": "execute_result"
    },
    {
     "ename": "KeyboardInterrupt",
     "evalue": "",
     "output_type": "error",
     "traceback": [
      "Traceback (most recent call last):\n",
      "  File \"/u/ki/swmclau2/.local/lib/python2.7/site-packages/ipykernel/ipkernel.py\", line 175, in do_execute\n    shell.run_cell(code, store_history=store_history, silent=silent)\n",
      "  File \"/u/ki/swmclau2/.local/lib/python2.7/site-packages/IPython/core/interactiveshell.py\", line 2729, in run_cell\n    self.events.trigger('post_execute')\n",
      "  File \"/u/ki/swmclau2/.local/lib/python2.7/site-packages/IPython/core/events.py\", line 74, in trigger\n    func(*args, **kwargs)\n",
      "  File \"/u/ki/swmclau2/.conda/envs/hodemulator/lib/python2.7/site-packages/matplotlib/pyplot.py\", line 147, in post_execute\n    draw_all()\n",
      "  File \"/u/ki/swmclau2/.conda/envs/hodemulator/lib/python2.7/site-packages/matplotlib/_pylab_helpers.py\", line 150, in draw_all\n    f_mgr.canvas.draw_idle()\n",
      "  File \"/u/ki/swmclau2/.conda/envs/hodemulator/lib/python2.7/site-packages/matplotlib/backend_bases.py\", line 2026, in draw_idle\n    self.draw(*args, **kwargs)\n",
      "  File \"/u/ki/swmclau2/.conda/envs/hodemulator/lib/python2.7/site-packages/matplotlib/backends/backend_agg.py\", line 474, in draw\n    self.figure.draw(self.renderer)\n",
      "  File \"/u/ki/swmclau2/.conda/envs/hodemulator/lib/python2.7/site-packages/matplotlib/artist.py\", line 62, in draw_wrapper\n    draw(artist, renderer, *args, **kwargs)\n",
      "  File \"/u/ki/swmclau2/.conda/envs/hodemulator/lib/python2.7/site-packages/matplotlib/figure.py\", line 1159, in draw\n    func(*args)\n",
      "  File \"/u/ki/swmclau2/.conda/envs/hodemulator/lib/python2.7/site-packages/matplotlib/artist.py\", line 62, in draw_wrapper\n    draw(artist, renderer, *args, **kwargs)\n",
      "  File \"/u/ki/swmclau2/.conda/envs/hodemulator/lib/python2.7/site-packages/matplotlib/axes/_base.py\", line 2319, in draw\n    a.draw(renderer)\n",
      "  File \"/u/ki/swmclau2/.conda/envs/hodemulator/lib/python2.7/site-packages/matplotlib/artist.py\", line 62, in draw_wrapper\n    draw(artist, renderer, *args, **kwargs)\n",
      "  File \"/u/ki/swmclau2/.conda/envs/hodemulator/lib/python2.7/site-packages/matplotlib/collections.py\", line 815, in draw\n    Collection.draw(self, renderer)\n",
      "  File \"/u/ki/swmclau2/.conda/envs/hodemulator/lib/python2.7/site-packages/matplotlib/artist.py\", line 62, in draw_wrapper\n    draw(artist, renderer, *args, **kwargs)\n",
      "  File \"/u/ki/swmclau2/.conda/envs/hodemulator/lib/python2.7/site-packages/matplotlib/collections.py\", line 324, in draw\n    self._offset_position)\n",
      "  File \"/u/ki/swmclau2/.conda/envs/hodemulator/lib/python2.7/site-packages/matplotlib/backends/backend_agg.py\", line 126, in draw_path_collection\n    return self._renderer.draw_path_collection(*kl, **kw)\n",
      "  File \"/u/ki/swmclau2/.conda/envs/hodemulator/lib/python2.7/site-packages/matplotlib/path.py\", line 221, in vertices\n    @property\n",
      "KeyboardInterrupt\n"
     ]
    }
   ],
   "source": [
    "sns.jointplot(cat.halocat.halo_table['halo_nfw_conc'][mass_cut],\\\n",
    "         cat.halocat.halo_table['halo_local_density'][mass_cut], kind = 'hex', space=0)"
   ]
  },
  {
   "cell_type": "code",
   "execution_count": null,
   "metadata": {
    "collapsed": false
   },
   "outputs": [],
   "source": [
    "from scipy.stats import pearsonr\n",
    "print pearsonr(cat.halocat.halo_table['halo_nfw_conc'][rand_idxs],\\\n",
    "         cat.halocat.halo_table['halo_local_density'][rand_idxs])[0]"
   ]
  },
  {
   "cell_type": "code",
   "execution_count": null,
   "metadata": {
    "collapsed": true
   },
   "outputs": [],
   "source": [
    "cat.model.sec_haloprop_key = 'halo_local_density'"
   ]
  },
  {
   "cell_type": "code",
   "execution_count": null,
   "metadata": {
    "collapsed": false
   },
   "outputs": [],
   "source": [
    "cat.model.param_dict"
   ]
  },
  {
   "cell_type": "code",
   "execution_count": null,
   "metadata": {
    "collapsed": true
   },
   "outputs": [],
   "source": [
    "fiducial_point = {'logM0': 12.20, 'logM1': 13.7, 'alpha': 1.02,\n",
    "                      'logMmin': 12.1, 'f_c': 0.19, 'sigma_logM': 0.46}"
   ]
  },
  {
   "cell_type": "code",
   "execution_count": null,
   "metadata": {
    "collapsed": false
   },
   "outputs": [],
   "source": [
    "cat.model._input_model_dictionary['centrals_occupation']._get_assembias_param_dict_key(0)"
   ]
  },
  {
   "cell_type": "code",
   "execution_count": null,
   "metadata": {
    "collapsed": false
   },
   "outputs": [],
   "source": [
    "fiducial_point['mean_occupation_centrals_assembias_param1'] = 1.0\n",
    "fiducial_point['mean_occupation_satellites_assembias_param1'] = -1.0"
   ]
  },
  {
   "cell_type": "code",
   "execution_count": null,
   "metadata": {
    "collapsed": false
   },
   "outputs": [],
   "source": [
    "#hod_point = [('f_c', 0.233), ('logM0', 12.0), ('sigma_logM', 0.533), \n",
    "#                   ('alpha', 1.083),('logM1', 13.5), ('logMmin', 12.233)]\n",
    "hod_params = dict(fiducial_point)\n",
    "cat.populate(hod_params)"
   ]
  },
  {
   "cell_type": "code",
   "execution_count": null,
   "metadata": {
    "collapsed": false
   },
   "outputs": [],
   "source": [
    "cat.model.param_dict"
   ]
  },
  {
   "cell_type": "code",
   "execution_count": null,
   "metadata": {
    "collapsed": false
   },
   "outputs": [],
   "source": [
    "cat.calc_number_density()"
   ]
  },
  {
   "cell_type": "code",
   "execution_count": null,
   "metadata": {
    "collapsed": false
   },
   "outputs": [],
   "source": [
    "pi_max = 40.\n",
    "rp_bins = np.logspace(-1,1.25,15)\n",
    "rp_points = (rp_bins[1:]+rp_bins[:-1])/2"
   ]
  },
  {
   "cell_type": "code",
   "execution_count": null,
   "metadata": {
    "collapsed": true
   },
   "outputs": [],
   "source": [
    "wp_vals = []\n",
    "for i in xrange(10):\n",
    "    cat.populate(hod_params)\n",
    "    wp_vals.append(cat.calc_wp(rp_bins, pi_max))\n",
    "wp_vals = np.array(wp_vals)"
   ]
  },
  {
   "cell_type": "code",
   "execution_count": null,
   "metadata": {
    "collapsed": false
   },
   "outputs": [],
   "source": [
    "wp_vals.shape"
   ]
  },
  {
   "cell_type": "code",
   "execution_count": null,
   "metadata": {
    "collapsed": true
   },
   "outputs": [],
   "source": [
    "wp = wp_vals.mean(axis=0)\n",
    "cov = np.cov(wp_vals, rowvar=False)/np.sqrt(10)"
   ]
  },
  {
   "cell_type": "code",
   "execution_count": null,
   "metadata": {
    "collapsed": false
   },
   "outputs": [],
   "source": [
    "plt.plot(rp_points, wp)\n",
    "plt.loglog()\n",
    "plt.show()"
   ]
  },
  {
   "cell_type": "code",
   "execution_count": null,
   "metadata": {
    "collapsed": false,
    "scrolled": true
   },
   "outputs": [],
   "source": [
    "theta_bins = np.logspace(-2,0,15)\n",
    "theta_points = (theta_bins[:-1]+theta_bins[1:])/2.0\n",
    "wt = cat.calc_wt(theta_bins)"
   ]
  },
  {
   "cell_type": "code",
   "execution_count": null,
   "metadata": {
    "collapsed": false
   },
   "outputs": [],
   "source": [
    "plt.plot(theta_points, wt)\n",
    "plt.loglog()\n",
    "plt.show()"
   ]
  },
  {
   "cell_type": "code",
   "execution_count": null,
   "metadata": {
    "collapsed": false
   },
   "outputs": [],
   "source": [
    "rbins = np.array([  0.06309573,   0.12437607,   0.24517359,   0.34422476, 0.48329302, 0.67854546,\\\n",
    "           0.9526807 , 1.33756775,1.8779508 ,   2.6366509 ,   3.70186906,   5.19743987])#, 7.29722764, \\\n",
    "           #10.24533859,  14.38449888,  20.1958975])# , 28.35512583,  39.81071706] )\n",
    "rpoints = (rbins[1:]+rbins[:-1])/2\n",
    "jk_args= {'n_rands':3, 'n_sub':3}"
   ]
  },
  {
   "cell_type": "code",
   "execution_count": null,
   "metadata": {
    "collapsed": false
   },
   "outputs": [],
   "source": [
    "#%%timeit\n",
    "#try another estimator?\n",
    "xi, cov = cat.calc_xi(rbins, jk_args=jk_args)"
   ]
  },
  {
   "cell_type": "code",
   "execution_count": null,
   "metadata": {
    "collapsed": false
   },
   "outputs": [],
   "source": [
    "errs = np.sqrt(np.diag(cov))\n",
    "print errs"
   ]
  },
  {
   "cell_type": "code",
   "execution_count": null,
   "metadata": {
    "collapsed": false
   },
   "outputs": [],
   "source": [
    "plt.errorbar(rpoints,xi,yerr=errs, fmt='o-')\n",
    "plt.loglog()\n",
    "plt.show()"
   ]
  },
  {
   "cell_type": "code",
   "execution_count": null,
   "metadata": {
    "collapsed": false
   },
   "outputs": [],
   "source": [
    "#%%timeit\n",
    "#try another estimator?\n",
    "jk_args= {'n_rands':50, 'n_sub':3}\n",
    "xi, cov = cat.calc_xi(rbins, jk_args=jk_args)"
   ]
  },
  {
   "cell_type": "code",
   "execution_count": null,
   "metadata": {
    "collapsed": false
   },
   "outputs": [],
   "source": [
    "errs = np.sqrt(np.diag(cov))\n",
    "print errs"
   ]
  },
  {
   "cell_type": "code",
   "execution_count": null,
   "metadata": {
    "collapsed": false
   },
   "outputs": [],
   "source": [
    "plt.errorbar(rpoints,xi,yerr=errs, fmt='o-')\n",
    "plt.loglog()\n",
    "plt.show()"
   ]
  },
  {
   "cell_type": "code",
   "execution_count": null,
   "metadata": {
    "collapsed": true
   },
   "outputs": [],
   "source": []
  }
 ],
 "metadata": {
  "kernelspec": {
   "display_name": "Python [conda env:hodemulator]",
   "language": "python",
   "name": "conda-env-hodemulator-py"
  },
  "language_info": {
   "codemirror_mode": {
    "name": "ipython",
    "version": 2
   },
   "file_extension": ".py",
   "mimetype": "text/x-python",
   "name": "python",
   "nbconvert_exporter": "python",
   "pygments_lexer": "ipython2",
   "version": "2.7.12"
  }
 },
 "nbformat": 4,
 "nbformat_minor": 0
}
