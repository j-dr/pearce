{
 "cells": [
  {
   "cell_type": "markdown",
   "metadata": {},
   "source": [
    "I've implemented the integral of wt in pearce. This notebook verifies it works as I believe it should. "
   ]
  },
  {
   "cell_type": "code",
   "execution_count": 1,
   "metadata": {
    "collapsed": false
   },
   "outputs": [],
   "source": [
    "from pearce.mocks import cat_dict\n",
    "import numpy as np\n",
    "from os import path\n",
    "from astropy.io import fits"
   ]
  },
  {
   "cell_type": "code",
   "execution_count": 2,
   "metadata": {
    "collapsed": true
   },
   "outputs": [],
   "source": [
    "import matplotlib\n",
    "#matplotlib.use('Agg')\n",
    "from matplotlib import pyplot as plt\n",
    "%matplotlib inline\n",
    "import seaborn as sns\n",
    "sns.set()"
   ]
  },
  {
   "cell_type": "markdown",
   "metadata": {},
   "source": [
    "Load up the tptY3 buzzard mocks. "
   ]
  },
  {
   "cell_type": "code",
   "execution_count": 3,
   "metadata": {
    "collapsed": true
   },
   "outputs": [],
   "source": [
    "fname = '/u/ki/jderose/public_html/bcc/measurement/y3/3x2pt/buzzard/flock/buzzard-2/tpt_Y3_v0.fits'\n",
    "hdulist = fits.open(fname)"
   ]
  },
  {
   "cell_type": "code",
   "execution_count": 4,
   "metadata": {
    "collapsed": false
   },
   "outputs": [
    {
     "name": "stdout",
     "output_type": "stream",
     "text": [
      "Filename: /u/ki/jderose/public_html/bcc/measurement/y3/3x2pt/buzzard/flock/buzzard-2/tpt_Y3_v0.fits\n",
      "No.    Name         Type      Cards   Dimensions   Format\n",
      "  0  PRIMARY     PrimaryHDU       4   ()      \n",
      "  1  xip         BinTableHDU     32   200R x 5C   [K, K, K, D, D]   \n",
      "  2  xim         BinTableHDU     32   200R x 5C   [K, K, K, D, D]   \n",
      "  3  gammat      BinTableHDU     32   400R x 5C   [K, K, K, D, D]   \n",
      "  4  wtheta      BinTableHDU     32   300R x 5C   [K, K, K, D, D]   \n",
      "  5  nz_shear_bpz  BinTableHDU     32   250R x 7C   [D, D, D, D, D, D, D]   \n",
      "  6  nz_shear_true  BinTableHDU     32   250R x 7C   [D, D, D, D, D, D, D]   \n",
      "  7  nz_pos_zrm  BinTableHDU     31   400R x 8C   [D, D, D, D, D, D, D, D]   \n",
      "  8  nz_pos_zspec  BinTableHDU     31   400R x 8C   [D, D, D, D, D, D, D, D]   \n"
     ]
    }
   ],
   "source": [
    "hdulist.info()"
   ]
  },
  {
   "cell_type": "code",
   "execution_count": 5,
   "metadata": {
    "collapsed": false
   },
   "outputs": [
    {
     "data": {
      "text/plain": [
       "SIMPLE  =                    T / conforms to FITS standard                      \n",
       "BITPIX  =                    8 / array data type                                \n",
       "NAXIS   =                    0 / number of array dimensions                     \n",
       "EXTEND  =                    T                                                  "
      ]
     },
     "execution_count": 5,
     "metadata": {},
     "output_type": "execute_result"
    }
   ],
   "source": [
    "hdulist[0].header"
   ]
  },
  {
   "cell_type": "code",
   "execution_count": 6,
   "metadata": {
    "collapsed": true
   },
   "outputs": [],
   "source": [
    "z_bins = np.array([0.15, 0.3, 0.45, 0.6, 0.75, 0.9])\n",
    "zbin=1"
   ]
  },
  {
   "cell_type": "code",
   "execution_count": 7,
   "metadata": {
    "collapsed": false
   },
   "outputs": [],
   "source": [
    "a = 0.81120\n",
    "z = 1.0/a - 1.0"
   ]
  },
  {
   "cell_type": "markdown",
   "metadata": {},
   "source": [
    "Load up a snapshot at a redshift near the center of this bin. "
   ]
  },
  {
   "cell_type": "code",
   "execution_count": 8,
   "metadata": {
    "collapsed": false
   },
   "outputs": [
    {
     "name": "stdout",
     "output_type": "stream",
     "text": [
      "0.232741617357\n"
     ]
    }
   ],
   "source": [
    "print z"
   ]
  },
  {
   "cell_type": "markdown",
   "metadata": {},
   "source": [
    "This code load a particular snapshot and and a particular HOD model. In this case, 'redMagic' is the Zheng07 HOD with the f_c variable added in."
   ]
  },
  {
   "cell_type": "code",
   "execution_count": 9,
   "metadata": {
    "collapsed": true
   },
   "outputs": [],
   "source": [
    "cosmo_params = {'simname':'chinchilla', 'Lbox':400.0, 'scale_factors':[a]}\n",
    "cat = cat_dict[cosmo_params['simname']](**cosmo_params)#construct the specified catalog!\n",
    "\n",
    "cat.load_catalog(a, particles = True)"
   ]
  },
  {
   "cell_type": "code",
   "execution_count": 10,
   "metadata": {
    "collapsed": true
   },
   "outputs": [],
   "source": [
    "cat.load_model(a, 'redMagic')"
   ]
  },
  {
   "cell_type": "code",
   "execution_count": 11,
   "metadata": {
    "collapsed": false
   },
   "outputs": [],
   "source": [
    "from astropy.cosmology import FlatLambdaCDM\n",
    "\n",
    "cosmo = FlatLambdaCDM(H0 = 100, Om0 = 0.3, Tcmb0=2.725)"
   ]
  },
  {
   "cell_type": "code",
   "execution_count": 12,
   "metadata": {
    "collapsed": true
   },
   "outputs": [],
   "source": [
    "#cat.cosmology = cosmo # set to the \"standard\" one\n",
    "#cat.h = cat.cosmology.h"
   ]
  },
  {
   "cell_type": "markdown",
   "metadata": {},
   "source": [
    "Take the zspec in our selected zbin to calculate the dN/dz distribution. The below cell calculate the redshift distribution prefactor\n",
    "\n",
    "$$ W = \\frac{2}{c}\\int_0^{\\infty} dz H(z) \\left(\\frac{dN}{dz} \\right)^2 $$"
   ]
  },
  {
   "cell_type": "code",
   "execution_count": 13,
   "metadata": {
    "collapsed": false
   },
   "outputs": [
    {
     "data": {
      "text/plain": [
       "ColDefs(\n",
       "    name = 'Z_LOW'; format = 'D'\n",
       "    name = 'Z_MID'; format = 'D'\n",
       "    name = 'Z_HIGH'; format = 'D'\n",
       "    name = 'BIN1'; format = 'D'\n",
       "    name = 'BIN2'; format = 'D'\n",
       "    name = 'BIN3'; format = 'D'\n",
       "    name = 'BIN4'; format = 'D'\n",
       "    name = 'BIN5'; format = 'D'\n",
       ")"
      ]
     },
     "execution_count": 13,
     "metadata": {},
     "output_type": "execute_result"
    }
   ],
   "source": [
    "hdulist[8].columns"
   ]
  },
  {
   "cell_type": "code",
   "execution_count": 14,
   "metadata": {
    "collapsed": false
   },
   "outputs": [],
   "source": [
    "nz_zspec = hdulist[8]\n",
    "\n",
    "zbin_edges = [row[0] for row in nz_zspec.data]\n",
    "zbin_edges.append(nz_zspec.data[-1][2]) # add the last bin edge\n",
    "zbin_edges = np.array(zbin_edges)\n",
    "Nz =  np.array([row[2+zbin] for row in nz_zspec.data])\n",
    "N_total = np.sum(Nz)\n",
    "dNdz = Nz/N_total"
   ]
  },
  {
   "cell_type": "code",
   "execution_count": 15,
   "metadata": {
    "collapsed": false
   },
   "outputs": [],
   "source": [
    "W = cat.compute_wt_prefactor(zbin_edges, dNdz)"
   ]
  },
  {
   "cell_type": "code",
   "execution_count": 16,
   "metadata": {
    "collapsed": false
   },
   "outputs": [
    {
     "name": "stdout",
     "output_type": "stream",
     "text": [
      "0.00275848072207\n"
     ]
    }
   ],
   "source": [
    "print W"
   ]
  },
  {
   "cell_type": "markdown",
   "metadata": {},
   "source": [
    "If we happened to choose a model with assembly bias, set it to 0. Leave all parameters as their defaults, for now. "
   ]
  },
  {
   "cell_type": "code",
   "execution_count": 17,
   "metadata": {
    "collapsed": false
   },
   "outputs": [
    {
     "name": "stdout",
     "output_type": "stream",
     "text": [
      "{'logM1': 13.71, 'mean_occupation_satellites_assembias_param1': 0, 'logMmin': 11.95, 'mean_occupation_centrals_assembias_param1': 0, 'f_c': 0.2, 'logM0': 11.39, 'sigma_logM': 0.2, 'alpha': 1.21}\n"
     ]
    }
   ],
   "source": [
    "params = cat.model.param_dict.copy()\n",
    "\n",
    "params['mean_occupation_centrals_assembias_param1'] = 0\n",
    "params['mean_occupation_satellites_assembias_param1'] = 0\n",
    "params['logMmin'] = 11.95\n",
    "params['sigma_logM'] = 0.2\n",
    "params['f_c'] = 0.2\n",
    "params['alpha'] = 1.21\n",
    "params['logM1'] = 13.71\n",
    "params['logM0'] = 11.39\n",
    "\n",
    "print params"
   ]
  },
  {
   "cell_type": "code",
   "execution_count": 18,
   "metadata": {
    "collapsed": false
   },
   "outputs": [],
   "source": [
    "cat.populate(params)"
   ]
  },
  {
   "cell_type": "code",
   "execution_count": 19,
   "metadata": {
    "collapsed": false
   },
   "outputs": [
    {
     "name": "stdout",
     "output_type": "stream",
     "text": [
      "0.000416282370952\n"
     ]
    }
   ],
   "source": [
    "nd_cat =  cat.calc_analytic_nd()\n",
    "print nd_cat"
   ]
  },
  {
   "cell_type": "code",
   "execution_count": 20,
   "metadata": {
    "collapsed": false
   },
   "outputs": [
    {
     "data": {
      "text/plain": [
       "LambdaCDM(H0=70 km / (Mpc s), Om0=0.286, Ode0=0.714, Tcmb0=2.725 K, Neff=3.04, m_nu=[ 0.  0.  0.] eV, Ob0=None)"
      ]
     },
     "execution_count": 20,
     "metadata": {},
     "output_type": "execute_result"
    }
   ],
   "source": [
    "cat.cosmology"
   ]
  },
  {
   "cell_type": "code",
   "execution_count": 21,
   "metadata": {
    "collapsed": false
   },
   "outputs": [
    {
     "name": "stdout",
     "output_type": "stream",
     "text": [
      "0.000310787566755 1 / Mpc3\n"
     ]
    }
   ],
   "source": [
    "area = 4635.4 #sq degrees\n",
    "full_sky = 41253 #sq degrees\n",
    "\n",
    "volIn, volOut = cat.cosmology.comoving_volume(z_bins[zbin-1]), cat.cosmology.comoving_volume(z_bins[zbin])\n",
    "\n",
    "fullsky_volume = volOut-volIn\n",
    "survey_volume = fullsky_volume*area/full_sky\n",
    "nd_mock = N_total/survey_volume\n",
    "print nd_mock"
   ]
  },
  {
   "cell_type": "code",
   "execution_count": 22,
   "metadata": {
    "collapsed": false
   },
   "outputs": [
    {
     "data": {
      "text/plain": [
       "(1003707196.0549119, <Quantity 7202862177.90597 Mpc3>)"
      ]
     },
     "execution_count": 22,
     "metadata": {},
     "output_type": "execute_result"
    }
   ],
   "source": [
    "volIn.value, volOut"
   ]
  },
  {
   "cell_type": "code",
   "execution_count": 23,
   "metadata": {
    "collapsed": false
   },
   "outputs": [],
   "source": [
    "correct_nds = np.array([1e-3, 1e-3, 1e-3, 4e-4, 1e-4])"
   ]
  },
  {
   "cell_type": "raw",
   "metadata": {
    "collapsed": false
   },
   "source": [
    "for zbin in xrange(1,6):\n",
    "    nz_table = hdulist[8]\n",
    "    Nz =  np.array([row[2+zbin] for row in nz_table.data])# if z_bins[zbin-1] < row[1] < z_bins[zbin] ])\n",
    "    N_total = np.sum(Nz)\n",
    "    #volIn, volOut = cosmo.comoving_volume(z_bins[zbin-1]), cosmo.comoving_volume(z_bins[zbin])\n",
    "    volIn, volOut = cat.cosmology.comoving_volume(z_bins[zbin-1]), cat.cosmology.comoving_volume(z_bins[zbin])\n",
    "    #volIn, volOut = cat.cosmology.comoving_volume(z_bins[0]), cat.cosmology.comoving_volume(z_bins[-1])\n",
    "\n",
    "    fullsky_volume = volOut-volIn\n",
    "    survey_volume = fullsky_volume*area/full_sky\n",
    "    nd_mock = N_total/survey_volume\n",
    "    print nd_mock.value#, correct_nds[zbin-1]#/nd_mock.value, nd_mock.value**2\n",
    "    "
   ]
  },
  {
   "cell_type": "code",
   "execution_count": 24,
   "metadata": {
    "collapsed": false
   },
   "outputs": [
    {
     "name": "stdout",
     "output_type": "stream",
     "text": [
      "/u/ki/jderose/public_html/bcc/catalog/redmagic/y3/buzzard/flock/buzzard-0/a/buzzard-0_1.6_y3_run_redmapper_v6.4.20_redmagic_highdens_0.5_vlim_area.fit\n",
      "/u/ki/jderose/public_html/bcc/catalog/redmagic/y3/buzzard/flock/buzzard-0/a/buzzard-0_1.6_y3_run_redmapper_v6.4.20_redmagic_higherlum_1.5_vlim_area.fit\n",
      "/u/ki/jderose/public_html/bcc/catalog/redmagic/y3/buzzard/flock/buzzard-0/a/buzzard-0_1.6_y3_run_redmapper_v6.4.20_redmagic_highlum_1.0_vlim_area.fit\n"
     ]
    }
   ],
   "source": [
    "%%bash\n",
    "ls ~jderose/public_html/bcc/catalog/redmagic/y3/buzzard/flock/buzzard-0/a/buzzard-0_1.6_y3_run_redmapper_v6.4.20_redmagic_*vlim_area.fit"
   ]
  },
  {
   "cell_type": "code",
   "execution_count": 25,
   "metadata": {
    "collapsed": false
   },
   "outputs": [],
   "source": [
    "vol_fname = '/u/ki/jderose/public_html/bcc/catalog/redmagic/y3/buzzard/flock/buzzard-0/a/buzzard-0_1.6_y3_run_redmapper_v6.4.20_redmagic_highlum_1.0_vlim_area.fit'\n",
    "vol_hdulist = fits.open(vol_fname)"
   ]
  },
  {
   "cell_type": "raw",
   "metadata": {
    "collapsed": false
   },
   "source": [
    "print vol_hdulist[0]\n",
    "vol_hdulist[1].data"
   ]
  },
  {
   "cell_type": "raw",
   "metadata": {
    "collapsed": false
   },
   "source": [
    "for zbin in xrange(1,6):\n",
    "    plt.plot(nz_table.data['Z_MID'], nz_table.data['BIN%d'%zbin], label = str(zbin))\n",
    "    \n",
    "plt.vlines(z_bins, 0, 5e6)\n",
    "plt.legend(loc='best')\n",
    "#plt.xscale('log')\n",
    "plt.xlim([0, 1.0])\n",
    "plt.show()"
   ]
  },
  {
   "cell_type": "code",
   "execution_count": 26,
   "metadata": {
    "collapsed": false
   },
   "outputs": [
    {
     "data": {
      "text/plain": [
       "0.74657873703409006"
      ]
     },
     "execution_count": 26,
     "metadata": {},
     "output_type": "execute_result"
    }
   ],
   "source": [
    "nd_mock.value/nd_cat"
   ]
  },
  {
   "cell_type": "code",
   "execution_count": 27,
   "metadata": {
    "collapsed": false
   },
   "outputs": [
    {
     "name": "stdout",
     "output_type": "stream",
     "text": [
      "3.11158400873e+13\n"
     ]
    }
   ],
   "source": [
    "#compute the mean mass\n",
    "mf = cat.calc_mf()\n",
    "HOD = cat.calc_hod()\n",
    "mass_bin_range = (9,16)\n",
    "mass_bin_size = 0.01\n",
    "mass_bins = np.logspace(mass_bin_range[0], mass_bin_range[1], int( (mass_bin_range[1]-mass_bin_range[0])/mass_bin_size )+1 )\n",
    "\n",
    "mean_host_mass = np.sum([mass_bin_size*mf[i]*HOD[i]*(mass_bins[i]+mass_bins[i+1])/2 for i in xrange(len(mass_bins)-1)])/\\\n",
    "                    np.sum([mass_bin_size*mf[i]*HOD[i] for i in xrange(len(mass_bins)-1)])\n",
    "print mean_host_mass"
   ]
  },
  {
   "cell_type": "code",
   "execution_count": 28,
   "metadata": {
    "collapsed": false
   },
   "outputs": [],
   "source": [
    "theta_bins = np.logspace(np.log10(2.5), np.log10(2000), 25)/60 #binning used in buzzard mocks\n",
    "tpoints = (theta_bins[1:]+theta_bins[:-1])/2"
   ]
  },
  {
   "cell_type": "raw",
   "metadata": {
    "collapsed": true
   },
   "source": [
    "?? cat.calc_wt"
   ]
  },
  {
   "cell_type": "code",
   "execution_count": 29,
   "metadata": {
    "collapsed": false
   },
   "outputs": [],
   "source": [
    "r_bins = np.logspace(-0.5, 1.7, 16)/cat.h\n",
    "rpoints = (r_bins[1:]+r_bins[:-1])/2"
   ]
  },
  {
   "cell_type": "code",
   "execution_count": 30,
   "metadata": {
    "collapsed": false
   },
   "outputs": [
    {
     "data": {
      "text/plain": [
       "array([  0.45175395,   0.63324042,   0.88763679,   1.2442337 ,\n",
       "         1.74408893,   2.44475472,   3.42690417,   4.8036198 ,\n",
       "         6.73341362,   9.43847783,  13.23026754,  18.54536107,\n",
       "        25.99572655,  36.43918262,  51.07816578,  71.59817623])"
      ]
     },
     "execution_count": 30,
     "metadata": {},
     "output_type": "execute_result"
    }
   ],
   "source": [
    "r_bins"
   ]
  },
  {
   "cell_type": "code",
   "execution_count": 31,
   "metadata": {
    "collapsed": false
   },
   "outputs": [],
   "source": [
    "wt =  cat.calc_wt(theta_bins, r_bins, W)"
   ]
  },
  {
   "cell_type": "code",
   "execution_count": 32,
   "metadata": {
    "collapsed": false
   },
   "outputs": [
    {
     "data": {
      "text/plain": [
       "array([  5.14080089e-01,   3.83818606e-01,   2.79953289e-01,\n",
       "         2.02534315e-01,   1.49157772e-01,   1.14547816e-01,\n",
       "         9.16990924e-02,   7.42343164e-02,   5.95247700e-02,\n",
       "         4.67826112e-02,   3.57983340e-02,   2.67508118e-02,\n",
       "         1.91336493e-02,   1.26178022e-02,   7.37817573e-03,\n",
       "         4.00763373e-03,   1.78555440e-03,   4.84179837e-04,\n",
       "         0.00000000e+00,   0.00000000e+00,   0.00000000e+00,\n",
       "         0.00000000e+00,   0.00000000e+00,   0.00000000e+00])"
      ]
     },
     "execution_count": 32,
     "metadata": {},
     "output_type": "execute_result"
    }
   ],
   "source": [
    "wt"
   ]
  },
  {
   "cell_type": "code",
   "execution_count": 33,
   "metadata": {
    "collapsed": false
   },
   "outputs": [
    {
     "data": {
      "text/plain": [
       "array([  0.45175395,   0.63324042,   0.88763679,   1.2442337 ,\n",
       "         1.74408893,   2.44475472,   3.42690417,   4.8036198 ,\n",
       "         6.73341362,   9.43847783,  13.23026754,  18.54536107,\n",
       "        25.99572655,  36.43918262,  51.07816578,  71.59817623])"
      ]
     },
     "execution_count": 33,
     "metadata": {},
     "output_type": "execute_result"
    }
   ],
   "source": [
    "r_bins"
   ]
  },
  {
   "cell_type": "markdown",
   "metadata": {},
   "source": [
    "Use my code's wrapper for halotools' xi calculator. Full source code can be found [here](https://github.com/mclaughlin6464/pearce/blob/31e2f6a3598217dcf1be3d2606b69c4e529fc791/pearce/mocks/cat.py#L688)."
   ]
  },
  {
   "cell_type": "code",
   "execution_count": 34,
   "metadata": {
    "collapsed": true
   },
   "outputs": [],
   "source": [
    "xi = cat.calc_xi(r_bins, do_jackknife=False)"
   ]
  },
  {
   "cell_type": "markdown",
   "metadata": {},
   "source": [
    "Interpolate with a Gaussian process. May want to do something else \"at scale\", but this is quick for now. "
   ]
  },
  {
   "cell_type": "code",
   "execution_count": 35,
   "metadata": {
    "collapsed": false
   },
   "outputs": [],
   "source": [
    "import george\n",
    "from george.kernels import ExpSquaredKernel\n",
    "kernel = ExpSquaredKernel(0.05)\n",
    "gp = george.GP(kernel)\n",
    "gp.compute(np.log10(rpoints))"
   ]
  },
  {
   "cell_type": "code",
   "execution_count": 36,
   "metadata": {
    "collapsed": false
   },
   "outputs": [
    {
     "name": "stdout",
     "output_type": "stream",
     "text": [
      "[  2.26746621e+02   1.33194310e+02   7.10401872e+01   3.62165010e+01\n",
      "   1.66876496e+01   7.38747353e+00   3.51012026e+00   1.95861311e+00\n",
      "   1.15781675e+00   6.74287008e-01   3.75406275e-01   2.09398310e-01\n",
      "   1.12162687e-01   5.37696058e-02   2.30823630e-02]\n"
     ]
    }
   ],
   "source": [
    "print xi"
   ]
  },
  {
   "cell_type": "code",
   "execution_count": 37,
   "metadata": {
    "collapsed": true
   },
   "outputs": [],
   "source": [
    "xi[xi<=0] = 1e-2 #ack"
   ]
  },
  {
   "cell_type": "code",
   "execution_count": 38,
   "metadata": {
    "collapsed": true
   },
   "outputs": [],
   "source": [
    "from scipy.stats import linregress\n",
    "m,b,_,_,_ = linregress(np.log10(rpoints), np.log10(xi))"
   ]
  },
  {
   "cell_type": "code",
   "execution_count": 39,
   "metadata": {
    "collapsed": false
   },
   "outputs": [
    {
     "data": {
      "image/png": "[encoded data removed]",
      "text/plain": [
       "<matplotlib.figure.Figure at 0x7f4b155ccad0>"
      ]
     },
     "metadata": {},
     "output_type": "display_data"
    }
   ],
   "source": [
    "plt.plot(rpoints, (2.22353827e+03)*(rpoints**(-1.88359)))\n",
    "#plt.plot(rpoints, b2*(rpoints**m2))\n",
    "\n",
    "plt.scatter(rpoints, xi)\n",
    "plt.loglog();"
   ]
  },
  {
   "cell_type": "code",
   "execution_count": 40,
   "metadata": {
    "collapsed": false
   },
   "outputs": [
    {
     "data": {
      "text/plain": [
       "<matplotlib.collections.PathCollection at 0x7f4b0849a710>"
      ]
     },
     "execution_count": 40,
     "metadata": {},
     "output_type": "execute_result"
    },
    {
     "data": {
      "image/png": "[encoded data removed]",
      "text/plain": [
       "<matplotlib.figure.Figure at 0x7f4b0858aa90>"
      ]
     },
     "metadata": {},
     "output_type": "display_data"
    }
   ],
   "source": [
    "plt.plot(np.log10(rpoints), b+(np.log10(rpoints)*m))\n",
    "#plt.plot(np.log10(rpoints), b2+(np.log10(rpoints)*m2))\n",
    "#plt.plot(np.log10(rpoints), 90+(np.log10(rpoints)*(-2)))\n",
    "\n",
    "plt.scatter(np.log10(rpoints), np.log10(xi) )\n",
    "#plt.loglog();"
   ]
  },
  {
   "cell_type": "code",
   "execution_count": 41,
   "metadata": {
    "collapsed": false
   },
   "outputs": [
    {
     "name": "stdout",
     "output_type": "stream",
     "text": [
      "-1.9182027746 1.84322362021\n"
     ]
    }
   ],
   "source": [
    "print m,b"
   ]
  },
  {
   "cell_type": "code",
   "execution_count": 42,
   "metadata": {
    "collapsed": false
   },
   "outputs": [
    {
     "data": {
      "image/png": "[encoded data removed]",
      "text/plain": [
       "<matplotlib.figure.Figure at 0x7f4b14d3d810>"
      ]
     },
     "metadata": {},
     "output_type": "display_data"
    }
   ],
   "source": [
    "rpoints_dense = np.logspace(-0.5, 2, 500)\n",
    "\n",
    "plt.scatter(rpoints, xi)\n",
    "plt.plot(rpoints_dense, np.power(10, gp.predict(np.log10(xi), np.log10(rpoints_dense))[0]))\n",
    "plt.loglog();"
   ]
  },
  {
   "cell_type": "raw",
   "metadata": {
    "collapsed": false
   },
   "source": [
    "bias = cat.calc_bias(r_bins)\n",
    "print np.sqrt(bias)"
   ]
  },
  {
   "cell_type": "raw",
   "metadata": {
    "collapsed": false
   },
   "source": [
    "# plt.plot(rpoints, bias)\n",
    "plt.xscale('log')\n",
    "plt.ylabel(r'$b^2$')\n",
    "plt.xlabel('r [Mpc]')\n",
    "plt.title('Bias, \"Updated\" Values')\n",
    "plt.ylim([0,8]);"
   ]
  },
  {
   "cell_type": "markdown",
   "metadata": {},
   "source": [
    "This plot looks bad on large scales. I will need to implement a linear bias model for larger scales; however I believe this is not the cause of this issue. The overly large correlation function at large scales if anything should increase w(theta). \n",
    "\n",
    "This plot shows the regimes of concern. The black lines show the value of r for u=0 in the below integral for each theta bin. The red lines show the maximum value of r for the integral I'm performing."
   ]
  },
  {
   "cell_type": "markdown",
   "metadata": {},
   "source": [
    "Perform the below integral in each theta bin:\n",
    "\n",
    "$$ w(\\theta) = W \\int_0^\\infty du \\xi \\left(r = \\sqrt{u^2 + \\bar{x}^2(z)\\theta^2} \\right) $$\n",
    "\n",
    "Where $\\bar{x}$ is the median comoving distance to z. "
   ]
  },
  {
   "cell_type": "code",
   "execution_count": 43,
   "metadata": {
    "collapsed": false
   },
   "outputs": [
    {
     "name": "stdout",
     "output_type": "stream",
     "text": [
      "1\n"
     ]
    }
   ],
   "source": [
    "print zbin"
   ]
  },
  {
   "cell_type": "code",
   "execution_count": 44,
   "metadata": {
    "collapsed": false
   },
   "outputs": [],
   "source": [
    "#a subset of the data from above. I've verified it's correct, but we can look again. \n",
    "zbin = 1\n",
    "wt_redmagic = np.loadtxt('/u/ki/swmclau2/Git/pearce/bin/mcmc/buzzard2_wt_%d%d.npy'%(zbin,zbin))"
   ]
  },
  {
   "cell_type": "markdown",
   "metadata": {},
   "source": [
    "The below plot shows the problem. There appears to be a constant multiplicative offset between the redmagic calculation and the one we just performed. The plot below it shows their ratio. It is near-constant, but there is some small radial trend. Whether or not it is significant is tough to say. "
   ]
  },
  {
   "cell_type": "code",
   "execution_count": 45,
   "metadata": {
    "collapsed": false
   },
   "outputs": [],
   "source": [
    "from scipy.special import gamma\n",
    "def wt_analytic(m,b,t,x):\n",
    "    return W*b*np.sqrt(np.pi)*(t*x)**(1 + m)*(gamma(-(1./2) - m/2.)/(2*gamma(-(m/2.))) )"
   ]
  },
  {
   "cell_type": "code",
   "execution_count": 46,
   "metadata": {
    "collapsed": true
   },
   "outputs": [],
   "source": [
    "theta_bins_rm = np.logspace(np.log10(2.5), np.log10(250), 21)/60 #binning used in buzzard mocks\n",
    "tpoints_rm = (theta_bins_rm[1:]+theta_bins_rm[:-1])/2"
   ]
  },
  {
   "cell_type": "code",
   "execution_count": 47,
   "metadata": {
    "collapsed": false
   },
   "outputs": [
    {
     "data": {
      "text/plain": [
       "<matplotlib.legend.Legend at 0x7f4b0861ce90>"
      ]
     },
     "execution_count": 47,
     "metadata": {},
     "output_type": "execute_result"
    },
    {
     "data": {
      "image/png": "[encoded data removed]",
      "text/plain": [
       "<matplotlib.figure.Figure at 0x7f4b08432f90>"
      ]
     },
     "metadata": {},
     "output_type": "display_data"
    }
   ],
   "source": [
    "plt.plot(tpoints, wt, label = 'My Calculation')\n",
    "plt.plot(tpoints_rm, wt_redmagic, label = 'Buzzard Mock')\n",
    "#plt.plot(tpoints_rm, W.to(\"1/Mpc\").value*mathematica_calc, label = 'Mathematica Calc')\n",
    "#plt.plot(tpoints, wt_analytic(m,10**b, np.radians(tpoints), x),label = 'Mathematica Calc' )\n",
    "\n",
    "plt.ylabel(r'$w(\\theta)$')\n",
    "plt.xlabel(r'$\\theta \\mathrm{[degrees]}$')\n",
    "plt.loglog();\n",
    "plt.legend(loc='best')"
   ]
  },
  {
   "cell_type": "raw",
   "metadata": {
    "collapsed": true
   },
   "source": [
    "xi = cat.calc_xi(r_bins, do_jackknife=False)\n",
    "xi_mm = cat._xi_mm\n",
    "bias2 = np.mean(xi[-3:]/xi_mm[-3:]) #estimate the large scale bias from the box"
   ]
  },
  {
   "cell_type": "code",
   "execution_count": 48,
   "metadata": {
    "collapsed": false
   },
   "outputs": [
    {
     "ename": "NameError",
     "evalue": "name 'bias2' is not defined",
     "output_type": "error",
     "traceback": [
      "\u001b[1;31m---------------------------------------------------------------------------\u001b[0m",
      "\u001b[1;31mNameError\u001b[0m                                 Traceback (most recent call last)",
      "\u001b[1;32m<ipython-input-48-24d29dca6168>\u001b[0m in \u001b[0;36m<module>\u001b[1;34m()\u001b[0m\n\u001b[1;32m----> 1\u001b[1;33m \u001b[1;32mprint\u001b[0m \u001b[0mbias2\u001b[0m\u001b[1;33m\u001b[0m\u001b[0m\n\u001b[0m",
      "\u001b[1;31mNameError\u001b[0m: name 'bias2' is not defined"
     ]
    }
   ],
   "source": [
    "print bias2"
   ]
  },
  {
   "cell_type": "code",
   "execution_count": null,
   "metadata": {
    "collapsed": false
   },
   "outputs": [],
   "source": [
    "plt.plot(rpoints, xi/xi_mm)\n",
    "plt.plot(rpoints, cat.calc_bias(r_bins))\n",
    "plt.plot(rpoints, bias2*np.ones_like(rpoints))\n",
    "plt.xscale('log')"
   ]
  },
  {
   "cell_type": "code",
   "execution_count": null,
   "metadata": {
    "collapsed": false
   },
   "outputs": [],
   "source": [
    "plt.plot(rpoints, xi, label = 'Galaxy')\n",
    "plt.plot(rpoints, xi_mm, label = 'Matter')\n",
    "plt.loglog()\n",
    "plt.legend(loc ='best')"
   ]
  },
  {
   "cell_type": "code",
   "execution_count": null,
   "metadata": {
    "collapsed": true
   },
   "outputs": [],
   "source": [
    "from astropy import units\n",
    "from scipy.interpolate import interp1d"
   ]
  },
  {
   "cell_type": "code",
   "execution_count": null,
   "metadata": {
    "collapsed": false
   },
   "outputs": [],
   "source": [
    "cat.cosmology"
   ]
  },
  {
   "cell_type": "code",
   "execution_count": null,
   "metadata": {
    "collapsed": false
   },
   "outputs": [],
   "source": [
    "import pyccl as ccl\n",
    "ob = 0.047\n",
    "om = cat.cosmology.Om0\n",
    "oc = om - ob\n",
    "sigma_8 = 0.82\n",
    "h = cat.h\n",
    "ns = 0.96\n",
    "cosmo = ccl.Cosmology(Omega_c =oc, Omega_b=ob, h=h, n_s=ns, sigma8=sigma_8 )"
   ]
  },
  {
   "cell_type": "code",
   "execution_count": null,
   "metadata": {
    "collapsed": false
   },
   "outputs": [],
   "source": [
    "big_rbins = np.logspace(1, 2.1, 21)\n",
    "big_rbc = (big_rbins[1:] + big_rbins[:-1])/2.0\n",
    "xi_mm2 = ccl.correlation_3d(cosmo, cat.a, big_rbc)"
   ]
  },
  {
   "cell_type": "code",
   "execution_count": null,
   "metadata": {
    "collapsed": false
   },
   "outputs": [],
   "source": [
    "plt.plot(rpoints, xi)\n",
    "plt.plot(big_rbc, xi_mm2)\n",
    "plt.vlines(30, 1e-3, 1e2)\n",
    "plt.loglog()"
   ]
  },
  {
   "cell_type": "code",
   "execution_count": null,
   "metadata": {
    "collapsed": false
   },
   "outputs": [],
   "source": [
    "plt.plot(np.logspace(0,1.5, 20), xi_interp(np.log10(np.logspace(0,1.5,20))))\n",
    "plt.plot(np.logspace(1.2,2.0, 20), xi_mm_interp(np.log10(np.logspace(1.2,2.0,20))))\n",
    "plt.vlines(30, -3, 2)\n",
    "#plt.loglog()\n",
    "plt.xscale('log')"
   ]
  },
  {
   "cell_type": "code",
   "execution_count": null,
   "metadata": {
    "collapsed": false
   },
   "outputs": [],
   "source": [
    "xi_interp = interp1d(np.log10(rpoints), np.log10(xi))\n",
    "xi_mm_interp = interp1d(np.log10(big_rbc), np.log10(xi_mm2))\n",
    "\n",
    "print xi_interp(np.log10(30))/xi_mm_interp(np.log10(30))"
   ]
  },
  {
   "cell_type": "code",
   "execution_count": null,
   "metadata": {
    "collapsed": false
   },
   "outputs": [],
   "source": [
    "\n",
    "#xi = cat.calc_xi(r_bins)\n",
    "\n",
    "xi_interp = interp1d(np.log10(rpoints), np.log10(xi))\n",
    "xi_mm_interp = interp1d(np.log10(big_rbc), np.log10(xi_mm2))\n",
    "\n",
    "#xi_mm = cat._xi_mm#self.calc_xi_mm(r_bins,n_cores='all')\n",
    "#if precomputed, will just load the cache\n",
    "\n",
    "bias2 = np.mean(xi[-3:]/xi_mm[-3:]) #estimate the large scale bias from the box\n",
    "#print bias2\n",
    "#note i don't use the bias builtin cuz i've already computed xi_gg. \n",
    "\n",
    "#Assume xi_mm doesn't go below 0; will fail catastrophically if it does. but if it does we can't hack around it.\n",
    "#idx = -3\n",
    "#m,b,_,_,_ =linregress(np.log10(rpoints), np.log10(xi))\n",
    "\n",
    "#large_scale_model = lambda r: bias2*(10**b)*(r**m) #should i use np.power?\n",
    "large_scale_model = lambda r: (10**b)*(r**m) #should i use np.power?\n",
    "\n",
    "tpoints = (theta_bins[1:] + theta_bins[:-1])/2.0\n",
    "wt_large = np.zeros_like(tpoints)\n",
    "wt_small = np.zeros_like(tpoints)\n",
    "x = cat.cosmology.comoving_distance(cat.z)*cat.a/cat.h\n",
    "\n",
    "assert tpoints[0]*x.to(\"Mpc\").value/cat.h >= r_bins[0]\n",
    "        #ubins = np.linspace(10**-6, 10**4.0, 1001)\n",
    "ubins = np.logspace(-6, 3.0, 1001)\n",
    "ubc = (ubins[1:]+ubins[:-1])/2.0\n",
    "\n",
    "def integrate_xi(bin_no):#, w_theta, bin_no, ubc, ubins) \n",
    "    int_xi = 0\n",
    "    t_med = np.radians(tpoints[bin_no])\n",
    "    for ubin_no, _u in enumerate(ubc):\n",
    "        _du = ubins[ubin_no+1]-ubins[ubin_no]\n",
    "        u = _u*units.Mpc*cat.a/cat.h\n",
    "        du = _du*units.Mpc*cat.a/cat.h\n",
    "\n",
    "        r = np.sqrt((u**2+(x*t_med)**2))#*cat.h#not sure about the h\n",
    "\n",
    "        #if r > (units.Mpc)*cat.Lbox/10:\n",
    "        try:\n",
    "            int_xi+=du*bias2*(np.power(10, \\\n",
    "                        xi_mm_interp(np.log10(r.value)))) \n",
    "        except ValueError:\n",
    "            int_xi+=du*0\n",
    "        #else:\n",
    "            #int_xi+=du*0#(np.power(10, \\\n",
    "                        #xi_interp(np.log10(r.value))))\n",
    "    wt_large[bin_no] = int_xi.to(\"Mpc\").value/cat.h\n",
    "\n",
    "def integrate_xi_small(bin_no):#, w_theta, bin_no, ubc, ubins) \n",
    "    int_xi = 0\n",
    "    t_med = np.radians(tpoints[bin_no])\n",
    "    for ubin_no, _u in enumerate(ubc):\n",
    "        _du = ubins[ubin_no+1]-ubins[ubin_no]\n",
    "        u = _u*units.Mpc*cat.a/cat.h\n",
    "        du = _du*units.Mpc*cat.a/cat.h\n",
    "\n",
    "        r = np.sqrt((u**2+(x*t_med)**2))#*cat.h#not sure about the h\n",
    "\n",
    "        #if r > (units.Mpc)*cat.Lbox/10:\n",
    "        #int_xi+=du*large_scale_model(r.value)\n",
    "        #else:\n",
    "        try:\n",
    "            int_xi+=du*(np.power(10, \\\n",
    "                        xi_interp(np.log10(r.value))))\n",
    "        except ValueError:\n",
    "            try:\n",
    "                int_xi+=du*bias2*(np.power(10, \\\n",
    "                        xi_mm_interp(np.log10(r.value))))\n",
    "            except ValueError:\n",
    "                int_xi+=0*du\n",
    "    wt_small[bin_no] = int_xi.to(\"Mpc\").value/cat.h\n",
    "#Currently this doesn't work cuz you can't pickle the integrate_xi function.\n",
    "#I'll just ignore for now. This is why i'm making an emulator anyway\n",
    "#p = Pool(n_cores)  \n",
    "map(integrate_xi, range(tpoints.shape[0]));\n",
    "map(integrate_xi_small, range(tpoints.shape[0]));"
   ]
  },
  {
   "cell_type": "code",
   "execution_count": null,
   "metadata": {
    "collapsed": false
   },
   "outputs": [],
   "source": [
    "#wt_large[wt_large<1e-10] = 0\n",
    "wt_small[wt_small<1e-10] = 0"
   ]
  },
  {
   "cell_type": "code",
   "execution_count": null,
   "metadata": {
    "collapsed": false
   },
   "outputs": [],
   "source": [
    "wt_large"
   ]
  },
  {
   "cell_type": "code",
   "execution_count": null,
   "metadata": {
    "collapsed": false
   },
   "outputs": [],
   "source": [
    "plt.plot(tpoints, wt, label = 'My Calculation')\n",
    "plt.plot(tpoints_rm, wt_redmagic, label = 'Buzzard Mock')\n",
    "#plt.plot(tpoints, W*wt_large, label = 'LS')\n",
    "plt.plot(tpoints, W*wt_small, label = \"My Calculation\")\n",
    "#plt.plot(tpoints, wt+W*wt_large, label = \"both\")\n",
    "#plt.plot(tpoints_rm, W.to(\"1/Mpc\").value*mathematica_calc, label = 'Mathematica Calc')\n",
    "#plt.plot(tpoints, wt_analytic(m,10**b, np.radians(tpoints), x),label = 'Mathematica Calc' )\n",
    "\n",
    "plt.ylabel(r'$w(\\theta)$')\n",
    "plt.xlabel(r'$\\theta \\mathrm{[degrees]}$')\n",
    "plt.loglog();\n",
    "plt.legend(loc='best')"
   ]
  },
  {
   "cell_type": "code",
   "execution_count": null,
   "metadata": {
    "collapsed": false
   },
   "outputs": [],
   "source": [
    "wt/wt_redmagic"
   ]
  },
  {
   "cell_type": "code",
   "execution_count": null,
   "metadata": {
    "collapsed": false
   },
   "outputs": [],
   "source": [
    "wt_redmagic/(W.to(\"1/Mpc\").value*mathematica_calc)"
   ]
  },
  {
   "cell_type": "code",
   "execution_count": null,
   "metadata": {
    "collapsed": false
   },
   "outputs": [],
   "source": [
    "import cPickle as pickle\n",
    "with open('/u/ki/jderose/ki23/bigbrother-addgals/bbout/buzzard-flock/buzzard-0/buzzard0_lb1050_xigg_ministry.pkl') as f:\n",
    "    xi_rm = pickle.load(f)"
   ]
  },
  {
   "cell_type": "code",
   "execution_count": null,
   "metadata": {
    "collapsed": false
   },
   "outputs": [],
   "source": [
    "xi_rm.metrics[0].xi.shape"
   ]
  },
  {
   "cell_type": "code",
   "execution_count": null,
   "metadata": {
    "collapsed": false
   },
   "outputs": [],
   "source": [
    "xi_rm.metrics[0].mbins"
   ]
  },
  {
   "cell_type": "code",
   "execution_count": null,
   "metadata": {
    "collapsed": false
   },
   "outputs": [],
   "source": [
    "xi_rm.metrics[0].cbins"
   ]
  },
  {
   "cell_type": "code",
   "execution_count": null,
   "metadata": {
    "collapsed": false
   },
   "outputs": [],
   "source": [
    "#plt.plot(np.log10(rpoints), b2+(np.log10(rpoints)*m2))\n",
    "#plt.plot(np.log10(rpoints), 90+(np.log10(rpoints)*(-2)))\n",
    "\n",
    "plt.scatter(rpoints, xi)\n",
    "for i in xrange(3):\n",
    "    for j in xrange(3):\n",
    "        plt.plot(xi_rm.metrics[0].rbins[:-1], xi_rm.metrics[0].xi[:,i,j,0])\n",
    "plt.loglog();"
   ]
  },
  {
   "cell_type": "code",
   "execution_count": null,
   "metadata": {
    "collapsed": false
   },
   "outputs": [],
   "source": [
    "plt.subplot(211)\n",
    "plt.plot(tpoints_rm, wt_redmagic/wt)\n",
    "plt.xscale('log')\n",
    "#plt.ylim([0,10])\n",
    "plt.subplot(212)\n",
    "plt.plot(tpoints_rm, wt_redmagic/wt)\n",
    "plt.xscale('log')\n",
    "plt.ylim([2.0,4])"
   ]
  },
  {
   "cell_type": "code",
   "execution_count": null,
   "metadata": {
    "collapsed": false
   },
   "outputs": [],
   "source": [
    "xi_rm.metrics[0].xi.shape"
   ]
  },
  {
   "cell_type": "code",
   "execution_count": null,
   "metadata": {
    "collapsed": false
   },
   "outputs": [],
   "source": [
    "xi_rm.metrics[0].rbins #Mpc/h"
   ]
  },
  {
   "cell_type": "markdown",
   "metadata": {},
   "source": [
    "The below cell calculates the integrals jointly instead of separately. It doesn't change the results significantly, but is quite slow. I've disabled it for that reason. "
   ]
  },
  {
   "cell_type": "code",
   "execution_count": null,
   "metadata": {
    "collapsed": false
   },
   "outputs": [],
   "source": [
    "x = cat.cosmology.comoving_distance(z)*a\n",
    "#ubins = np.linspace(10**-6, 10**2.0, 1001)\n",
    "ubins = np.logspace(-6, 2.0, 51)\n",
    "ubc = (ubins[1:]+ubins[:-1])/2.0\n",
    "\n",
    "#NLL\n",
    "def liklihood(params, wt_redmagic,x, tpoints):\n",
    "    #print _params\n",
    "    #prior  = np.array([ PRIORS[pname][0] < v < PRIORS[pname][1] for v,pname in zip(_params, param_names)])\n",
    "    #print param_names\n",
    "    #print prior\n",
    "    #if not np.all(prior):\n",
    "    #    return 1e9\n",
    "    #params = {p:v for p,v in zip(param_names, _params)}\n",
    "    #cat.populate(params)\n",
    "    #nd_cat =  cat.calc_analytic_nd(parmas)\n",
    "    #wt = np.zeros_like(tpoints_rm[:-5])\n",
    "    \n",
    "    #xi = cat.calc_xi(r_bins, do_jackknife=False)\n",
    "    #m,b,_,_,_ = linregress(np.log10(rpoints), np.log10(xi))\n",
    "    \n",
    "    #if np.any(xi < 0):\n",
    "    #    return 1e9\n",
    "    #kernel = ExpSquaredKernel(0.05)\n",
    "    #gp = george.GP(kernel)\n",
    "    #gp.compute(np.log10(rpoints))\n",
    "    \n",
    "    #for bin_no, t_med in enumerate(np.radians(tpoints_rm[:-5])):\n",
    "    #    int_xi = 0\n",
    "    #    for ubin_no, _u in enumerate(ubc):\n",
    "    #        _du = ubins[ubin_no+1]-ubins[ubin_no]\n",
    "    #        u = _u*unit.Mpc*a\n",
    "    #        du = _du*unit.Mpc*a\n",
    "            #print np.sqrt(u**2+(x*t_med)**2)\n",
    "    #        r = np.sqrt((u**2+(x*t_med)**2))#*cat.h#not sure about the h\n",
    "            #if r > unit.Mpc*10**1.7: #ignore large scales. In the full implementation this will be a transition to a bias model. \n",
    "            #    int_xi+=du*0\n",
    "            #else:\n",
    "                # the GP predicts in log, so i predict in log and re-exponate\n",
    "            #    int_xi+=du*(np.power(10, \\\n",
    "            #            gp.predict(np.log10(xi), np.log10(r.value), mean_only=True)[0]))\n",
    "    #        int_xi+=du*(10**b)*(r.to(\"Mpc\").value**m)\n",
    "\n",
    "        #print (((int_xi*W))/wt_redmagic[0]).to(\"m/m\")\n",
    "        #break\n",
    "    #    wt[bin_no] = int_xi*W.to(\"1/Mpc\")\n",
    "        \n",
    "    wt = wt_analytic(params[0],params[1], tpoints, x.to(\"Mpc\").value)   \n",
    "    chi2 = np.sum(((wt - wt_redmagic[:-5])**2)/(1e-3*wt_redmagic[:-5]) )\n",
    "    \n",
    "    #chi2=0\n",
    "    #print nd_cat\n",
    "    #print wt\n",
    "    #chi2+= ((nd_cat-nd_mock.value)**2)/(1e-6)\n",
    "    \n",
    "    #mf = cat.calc_mf()\n",
    "    #HOD = cat.calc_hod()\n",
    "    #mass_bin_range = (9,16)\n",
    "    #mass_bin_size = 0.01\n",
    "    #mass_bins = np.logspace(mass_bin_range[0], mass_bin_range[1], int( (mass_bin_range[1]-mass_bin_range[0])/mass_bin_size )+1 )\n",
    "\n",
    "    #mean_host_mass = np.sum([mass_bin_size*mf[i]*HOD[i]*(mass_bins[i]+mass_bins[i+1])/2 for i in xrange(len(mass_bins)-1)])/\\\n",
    "    #                    np.sum([mass_bin_size*mf[i]*HOD[i] for i in xrange(len(mass_bins)-1)])\n",
    "        \n",
    "    #chi2+=((13.35-np.log10(mean_host_mass))**2)/(0.2)\n",
    "    print chi2\n",
    "    return chi2 #nll"
   ]
  },
  {
   "cell_type": "code",
   "execution_count": null,
   "metadata": {
    "collapsed": false
   },
   "outputs": [],
   "source": [
    "print nd_mock\n",
    "print wt_redmagic[:-5]"
   ]
  },
  {
   "cell_type": "code",
   "execution_count": null,
   "metadata": {
    "collapsed": true
   },
   "outputs": [],
   "source": [
    "import scipy.optimize as op"
   ]
  },
  {
   "cell_type": "raw",
   "metadata": {
    "collapsed": true
   },
   "source": [
    "args = ([p for p in params],wt_redmagic, nd_mock)\n",
    "PRIORS = {'f_c': (0, 0.45),\n",
    "          'alpha': (0.6, 1.4),\n",
    "          'logMmin':(10.9,13.6),\n",
    "          'logM1': (13., 14.1),\n",
    "          'logM0': (9,16),\n",
    "          'sigma_logM': (0.01, 0.5)}"
   ]
  },
  {
   "cell_type": "raw",
   "metadata": {
    "collapsed": false,
    "scrolled": true
   },
   "source": [
    "results = op.minimize(liklihood, np.array([v for v in params.values()]) ,args,method = 'L-BFGS-B', bounds = [PRIORS[p] for p in params])"
   ]
  },
  {
   "cell_type": "code",
   "execution_count": null,
   "metadata": {
    "collapsed": false,
    "scrolled": true
   },
   "outputs": [],
   "source": [
    "results = op.minimize(liklihood, np.array([-2.2, 10**1.7]),(wt_redmagic,x, tpoints_rm[:-5]))"
   ]
  },
  {
   "cell_type": "code",
   "execution_count": null,
   "metadata": {
    "collapsed": false
   },
   "outputs": [],
   "source": [
    "results"
   ]
  },
  {
   "cell_type": "code",
   "execution_count": null,
   "metadata": {
    "collapsed": false
   },
   "outputs": [],
   "source": [
    "#plt.plot(tpoints_rm, wt, label = 'My Calculation')\n",
    "plt.plot(tpoints_rm, wt_redmagic, label = 'Buzzard Mock')\n",
    "plt.plot(tpoints_rm, wt_analytic(-1.88359, 2.22353827e+03,tpoints_rm, x.to(\"Mpc\").value), label = 'Mathematica Calc')\n",
    "\n",
    "plt.ylabel(r'$w(\\theta)$')\n",
    "plt.xlabel(r'$\\theta \\mathrm{[degrees]}$')\n",
    "plt.loglog();\n",
    "plt.legend(loc='best')"
   ]
  },
  {
   "cell_type": "code",
   "execution_count": null,
   "metadata": {
    "collapsed": false
   },
   "outputs": [],
   "source": [
    "plt.plot(np.log10(rpoints), np.log10(2.22353827e+03)+(np.log10(rpoints)*(-1.88)))\n",
    "plt.scatter(np.log10(rpoints), np.log10(xi) )\n"
   ]
  },
  {
   "cell_type": "code",
   "execution_count": null,
   "metadata": {
    "collapsed": false
   },
   "outputs": [],
   "source": [
    "np.array([v for v in params.values()])"
   ]
  },
  {
   "cell_type": "raw",
   "metadata": {
    "collapsed": false,
    "scrolled": false
   },
   "source": [
    "#Try integrating over z and u jointly, explicitly\n",
    "nz_zspec = hdulist[8]\n",
    "#N = 0#np.zeros((5,))\n",
    "N_total =  np.sum([row[2+zbin] for row in nz_zspec.data])\n",
    "dNdzs = [] \n",
    "zs = []\n",
    "W = 0 \n",
    "wt2 = np.zeros_like(tpoints_rm)\n",
    "ubins = np.linspace(10**-6, 10**2.0, 1001)\n",
    "for bin_no, t_med in enumerate(np.radians(tpoints_rm)):\n",
    "    print bin_no\n",
    "    int_xi = 0\n",
    "    for row in nz_zspec.data:\n",
    "\n",
    "        N = row[2+zbin]\n",
    "\n",
    "        dN = N*1.0/N_total\n",
    "\n",
    "        dz = row[2] - row[0]\n",
    "        dNdz = dN/dz\n",
    "\n",
    "        H = cat.cosmology.H(row[1])\n",
    "\n",
    "        x = cat.cosmology.comoving_distance(row[1])\n",
    "        for ubin_no, _u in enumerate(ubins[:-1]):\n",
    "            _du = ubins[ubin_no+1]-ubins[ubin_no]\n",
    "            u = _u*unit.Mpc\n",
    "            du = _du*unit.Mpc\n",
    "            r = a*np.sqrt((u**2+(x*t_med)**2).value)#*cat.h#not sure about the h\n",
    "            #print r\n",
    "            if r <= 10**1.7:\n",
    "                int_xi+=du*(np.power(10, \\\n",
    "                        gp.predict(np.log10(xi), np.log10(r), mean_only=True)[0]))*dNdz*dN*H*2.0/const.c\n",
    "         \n",
    "    wt2[bin_no] = int_xi\n",
    "    "
   ]
  },
  {
   "cell_type": "raw",
   "metadata": {
    "collapsed": false,
    "scrolled": false
   },
   "source": [
    "plt.plot(tpoints_rm, wt2, label = 'My Calculation')\n",
    "plt.plot(tpoints_rm, wt_redmagic, label = 'Buzzard Mock')\n",
    "plt.ylabel(r'$w(\\theta)$')\n",
    "plt.xlabel(r'$\\theta \\mathrm{[degrees]}$')\n",
    "plt.loglog();\n",
    "plt.legend(loc='best')"
   ]
  },
  {
   "cell_type": "raw",
   "metadata": {
    "collapsed": false
   },
   "source": [
    "wt_redmagic/wt2"
   ]
  },
  {
   "cell_type": "code",
   "execution_count": null,
   "metadata": {
    "collapsed": true
   },
   "outputs": [],
   "source": []
  }
 ],
 "metadata": {
  "kernelspec": {
   "display_name": "Python [conda env:hodemulator]",
   "language": "python",
   "name": "conda-env-hodemulator-py"
  },
  "language_info": {
   "codemirror_mode": {
    "name": "ipython",
    "version": 2
   },
   "file_extension": ".py",
   "mimetype": "text/x-python",
   "name": "python",
   "nbconvert_exporter": "python",
   "pygments_lexer": "ipython2",
   "version": "2.7.13"
  }
 },
 "nbformat": 4,
 "nbformat_minor": 0
}
