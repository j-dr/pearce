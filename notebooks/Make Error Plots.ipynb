{
 "cells": [
  {
   "cell_type": "code",
   "execution_count": 92,
   "metadata": {
    "collapsed": false
   },
   "outputs": [
    {
     "name": "stdout",
     "output_type": "stream",
     "text": [
      "The autoreload extension is already loaded. To reload it, use:\n",
      "  %reload_ext autoreload\n"
     ]
    }
   ],
   "source": [
    "%load_ext autoreload\n",
    "%autoreload 2"
   ]
  },
  {
   "cell_type": "code",
   "execution_count": 93,
   "metadata": {
    "collapsed": false
   },
   "outputs": [],
   "source": [
    "from pearce.emulator import OriginalRecipe, ExtraCrispy"
   ]
  },
  {
   "cell_type": "code",
   "execution_count": 94,
   "metadata": {
    "collapsed": false
   },
   "outputs": [],
   "source": [
    "import numpy as np\n",
    "from matplotlib import pyplot as plt\n",
    "%matplotlib inline\n",
    "import seaborn as sns\n",
    "sns.set()\n",
    "from itertools import cycle\n",
    "colors = cycle(sns.color_palette())"
   ]
  },
  {
   "cell_type": "code",
   "execution_count": 95,
   "metadata": {
    "collapsed": true
   },
   "outputs": [],
   "source": [
    "training_dir = '/u/ki/swmclau2/des/PearceLHC_wp_z'\n",
    "big_training_dir = '/u/ki/swmclau2/des/PearceFHC_wp_z'\n",
    "#training_dirs = ['/u/ki/swmclau2/des/PearceLHC_wp_rp','/u/ki/swmclau2/des/PearceLHC_wp_rp_dense',\n",
    "#                 '/u/ki/swmclau2/des/PearceFHC_wp_rp/']\n",
    "\n",
    "truth_dir = '/u/ki/swmclau2/des/PearceLHC_wp_z_test'"
   ]
  },
  {
   "cell_type": "code",
   "execution_count": 96,
   "metadata": {
    "collapsed": true
   },
   "outputs": [],
   "source": [
    "gbdt_hyperparams = {'n_estimators': int(1e3),\n",
    "              'max_depth': 5}\n",
    "gp_hyperparams = {}"
   ]
  },
  {
   "cell_type": "code",
   "execution_count": 97,
   "metadata": {
    "collapsed": true
   },
   "outputs": [],
   "source": [
    "fixed_params= {'z':0.0}"
   ]
  },
  {
   "cell_type": "code",
   "execution_count": 98,
   "metadata": {
    "collapsed": false
   },
   "outputs": [],
   "source": [
    "emu1 = OriginalRecipe(training_dir,method = 'gbdt',hyperparams=gbdt_hyperparams, fixed_params=fixed_params)\n",
    "#emu1 = OriginalRecipe(training_dir,method = 'gp', params=or_params)"
   ]
  },
  {
   "cell_type": "code",
   "execution_count": 99,
   "metadata": {
    "collapsed": true
   },
   "outputs": [],
   "source": [
    "fiducial_params = {'logM0': 12.20, 'logM1': 13.7, 'alpha': 1.02,\n",
    "                      'logMmin': 12.1, 'f_c': 0.19, 'sigma_logM': 0.46}\n",
    "rbins = np.array([  0.06309573,   0.12437607,   0.24517359,   0.34422476, 0.48329302, 0.67854546,\\\n",
    "           0.9526807 , 1.33756775,1.8779508 ,   2.6366509 ,   3.70186906,   5.19743987, 7.29722764, \\\n",
    "           10.24533859,  14.38449888,  20.1958975 , 28.35512583,  39.81071706] )\n",
    "rpoints = (rbins[1:]+rbins[:-1])/2"
   ]
  },
  {
   "cell_type": "code",
   "execution_count": 100,
   "metadata": {
    "collapsed": true
   },
   "outputs": [],
   "source": [
    "y_param = 'logMmin'\n",
    "emulation_point = [('f_c', 0.233), ('logM0', 12.0), ('sigma_logM', 0.533), \n",
    "                   ('alpha', 1.083),('logM1', 13.5), ('logMmin', 12.233)]\n",
    "em_params = dict(emulation_point)\n",
    "del em_params[y_param]"
   ]
  },
  {
   "cell_type": "code",
   "execution_count": 101,
   "metadata": {
    "collapsed": false
   },
   "outputs": [],
   "source": [
    "low, high = emu1.get_param_bounds(y_param)       \n",
    "y_vals = np.linspace(low, high, 4)\n",
    "em_params[y_param] = y_vals"
   ]
  },
  {
   "cell_type": "code",
   "execution_count": 102,
   "metadata": {
    "collapsed": false
   },
   "outputs": [
    {
     "name": "stdout",
     "output_type": "stream",
     "text": [
      "[ 11.7         11.96666667  12.23333333  12.5       ]\n"
     ]
    }
   ],
   "source": [
    "print em_params[y_param]"
   ]
  },
  {
   "cell_type": "raw",
   "metadata": {
    "collapsed": false
   },
   "source": [
    "GOF_dict = {}\n",
    "for method, hp, td in zip(['gp', 'gbdt', 'gbdt', 'svr'],\\\n",
    "                          [gp_hyperparams, gbdt_hyperparams, gbdt_hyperparams, {}],\\\n",
    "                          [training_dir, training_dir, training_dirs, training_dir]):\n",
    "    print method\n",
    "    emu = OriginalRecipe(td, method=method, hyperparams=hp, params=or_params)\n",
    "    GOF = emu.goodness_of_fit(truth_dir)\n",
    "    frac_err = emu.goodness_of_fit(truth_dir, statistic='log_frac')\n",
    "    abs_err = emu.goodness_of_fit(truth_dir, statistic='log_abs')\n",
    "    if method not in GOF_dict:\n",
    "        GOF_dict[method] = (GOF, frac_err, abs_err)\n",
    "    else:\n",
    "        GOF_dict[method+' more training'] = (GOF, frac_err, abs_err)"
   ]
  },
  {
   "cell_type": "raw",
   "metadata": {
    "collapsed": false
   },
   "source": [
    "fig = plt.figure(figsize= (22,10))\n",
    "\n",
    "for c, (method, (GOF, frac_errs, abs_errs) ) in zip(colors, GOF_dict.iteritems()):\n",
    "    abs_mean = np.abs(abs_errs).mean(axis=0)\n",
    "    abs_std = np.abs(abs_errs).std(axis=0)\n",
    "    \n",
    "    frac_mean = np.abs(frac_errs).mean(axis=0)\n",
    "    frac_std = np.abs(frac_errs).std(axis=0)\n",
    "    \n",
    "    plt.subplot(121)\n",
    "    #print abs_mean\n",
    "    plt.plot(emu.bin_centers, abs_mean, label = method+r'  $R^2 = %.3f$'%GOF.mean() , color = c)\n",
    "    plt.plot(emu.bin_centers, abs_mean+ abs_std, ls=':', lw = 3, color = c)\n",
    "    #plt.plot(emu.bin_centers, abs_mean- abs_std, ls=':', lw = 3, color = c)\n",
    "    plt.fill_between(emu.bin_centers,abs_mean,  abs_mean+ abs_std, alpha= 0.3,  color = c)\n",
    "    \n",
    "    plt.subplot(122)\n",
    "    #print frac_mean\n",
    "    #print\n",
    "    plt.plot(emu.bin_centers, frac_mean, color = c)\n",
    "    plt.plot(emu.bin_centers, frac_mean+frac_std, ls=':', lw =3, color = c)\n",
    "    #plt.plot(emu.bin_centers, frac_mean-frac_std, ls=':', lw =3, color = c)\n",
    "    plt.fill_between(emu.bin_centers, frac_mean, frac_mean+frac_std, color = c, alpha = 0.3)\n",
    "    \n",
    "plt.subplot(121)\n",
    "plt.title('Absolute Error')\n",
    "plt.xlim(xmin = 0.1, xmax = 40)\n",
    "#plt.ylim(ymin = -1, ymax = 10)\n",
    "#plt.loglog()\n",
    "plt.xscale('log')\n",
    "plt.yscale('log')\n",
    "plt.xlabel(r'$r $  $\\rm{[Mpc]}$', fontsize=25)\n",
    "plt.legend(loc='best', fontsize = 15)\n",
    "\n",
    "plt.subplot(122)\n",
    "plt.title('Fractional Error')\n",
    "plt.plot(emu.bin_centers, np.ones(len(emu.bin_centers))*0.01, color = 'k')\n",
    "plt.xlim(xmin = 0.1, xmax = 40)\n",
    "plt.ylim(ymin = 0, ymax = 0.05)\n",
    "#plt.loglog()\n",
    "plt.xscale('log')\n",
    "plt.xlabel(r'$r $  $\\rm{[Mpc]}$', fontsize=25)\n",
    "#plt.ylabel(r'Relative Error', fontsize = 25)\n",
    "\n",
    "plt.suptitle('Errors and GOF of various Emulators, Log Space', fontsize = 20)\n",
    "plt.show()"
   ]
  },
  {
   "cell_type": "raw",
   "metadata": {
    "collapsed": true
   },
   "source": [
    "import cPickle as pickle\n",
    "with open('GOF_dict.pkl', 'w') as f:\n",
    "    pickle.dump(GOF_dict, f)"
   ]
  },
  {
   "cell_type": "code",
   "execution_count": 103,
   "metadata": {
    "collapsed": false
   },
   "outputs": [],
   "source": [
    "moe_kwargs = {'experts': 10, 'overlap': 1}"
   ]
  },
  {
   "cell_type": "code",
   "execution_count": 104,
   "metadata": {
    "collapsed": false
   },
   "outputs": [
    {
     "name": "stdout",
     "output_type": "stream",
     "text": [
      "GP\n",
      "Done Building\n",
      "GOF\n",
      "frac\n",
      "abs\n"
     ]
    }
   ],
   "source": [
    "GOF_dict2 = {}\n",
    "#for method, hp, td in zip(['gp', 'gbdt', 'gbdt', 'svr'],\\\n",
    "#                          [gp_hyperparams, gbdt_hyperparams, gbdt_hyperparams, {}],\\\n",
    "#                          [training_dir, training_dir, training_dirs, training_dir]):\n",
    "#for method, hp, td in zip(['GP','MOE'],\\\n",
    "#                          [gp_hyperparams, gp_hyperparams],\\\n",
    "#                          [training_dir, big_training_dir]):\n",
    "for method, hp, td in zip(['GP'],\\\n",
    "                          [gp_hyperparams],\\\n",
    "                          [training_dir]):\n",
    "    print method\n",
    "    if method == 'GP':\n",
    "        emu = OriginalRecipe(td, method='gp', hyperparams=hp,fixed_params = fixed_params)\n",
    "    elif method == 'MOE':\n",
    "        emu = ExtraCrispy(td,experts = moe_kwargs['experts'], overlap = moe_kwargs['overlap'], method = 'gp',\\\n",
    "                          hyperparams=hp, fixed_params = fixed_params )\n",
    "    print 'Done Building'\n",
    "        \n",
    "    GOF = emu.goodness_of_fit(truth_dir)\n",
    "    print 'GOF'\n",
    "    frac_err = emu.goodness_of_fit(truth_dir, statistic='frac')\n",
    "    print 'frac'\n",
    "    abs_err = emu.goodness_of_fit(truth_dir, statistic='abs')\n",
    "    print 'abs'\n",
    "    if method not in GOF_dict2:\n",
    "        GOF_dict2[method] = (GOF, frac_err, abs_err)\n",
    "    else:\n",
    "        GOF_dict2[method+' more training'] = (GOF, frac_err, abs_err)"
   ]
  },
  {
   "cell_type": "raw",
   "metadata": {
    "collapsed": false
   },
   "source": [
    "fig = plt.figure(figsize= (22,10))\n",
    "\n",
    "for c, (method, (GOF, frac_errs, abs_errs) ) in zip(colors, GOF_dict2.iteritems()):\n",
    "    abs_mean = np.abs(abs_errs).mean(axis=0)\n",
    "    abs_std = np.abs(abs_errs).std(axis=0)\n",
    "    \n",
    "    frac_mean = np.abs(frac_errs).mean(axis=0)\n",
    "    frac_std = np.abs(frac_errs).std(axis=0)\n",
    "    \n",
    "    plt.subplot(121)\n",
    "    #print abs_mean\n",
    "    plt.plot(emu.scale_bin_centers, abs_mean, label = method+r'  $R^2 = %.3f$'%GOF.mean() , color = c)\n",
    "    plt.plot(emu.scale_bin_centers, abs_mean+ abs_std, ls=':', lw = 3, color = c)\n",
    "    plt.plot(emu.scale_bin_centers, abs_mean- abs_std, ls=':', lw = 3, color = c)\n",
    "\n",
    "    #plt.plot(emu.bin_centers, abs_mean- abs_std, ls=':', lw = 3, color = c)\n",
    "    plt.fill_between(emu.scale_bin_centers,abs_mean-abs_std,  abs_mean+ abs_std, alpha= 0.3,  color = c)\n",
    "    \n",
    "    plt.subplot(122)\n",
    "    #print frac_mean\n",
    "    #print\n",
    "    plt.plot(emu.scale_bin_centers, frac_mean, color = c)\n",
    "    plt.plot(emu.scale_bin_centers, frac_mean+frac_std, ls=':', lw =3, color = c)\n",
    "    plt.plot(emu.scale_bin_centers, frac_mean-frac_std, ls=':', lw =3, color = c)\n",
    "\n",
    "    #plt.plot(emu.bin_centers, frac_mean-frac_std, ls=':', lw =3, color = c)\n",
    "    plt.fill_between(emu.scale_bin_centers, frac_mean-frac_std, frac_mean+frac_std, color = c, alpha = 0.3)\n",
    "    \n",
    "plt.subplot(121)\n",
    "plt.title('Absolute Error')\n",
    "plt.xlim(xmin = 0.1, xmax = 40)\n",
    "#plt.ylim(ymin = -1, ymax = 10)\n",
    "#plt.loglog()\n",
    "plt.xscale('log')\n",
    "plt.yscale('log')\n",
    "plt.xlabel(r'$r $  $\\rm{[Mpc]}$', fontsize=25)\n",
    "plt.legend(loc='best', fontsize = 15)\n",
    "\n",
    "plt.subplot(122)\n",
    "plt.plot(emu.scale_bin_centers, np.ones(len(emu.scale_bin_centers))*0.01, color = 'k')\n",
    "plt.title('Fractional Error')\n",
    "plt.xlim(xmin = 0.1, xmax = 40)\n",
    "plt.ylim(ymin = 0, ymax =0.2)\n",
    "#plt.loglog()\n",
    "plt.xscale('log')\n",
    "plt.xlabel(r'$r $  $\\rm{[Mpc]}$', fontsize=25)\n",
    "#plt.ylabel(r'Relative Error', fontsize = 25)\n",
    "\n",
    "plt.suptitle('Errors and GOF of various Emulators, Linear Space', fontsize = 20)\n",
    "plt.show()"
   ]
  },
  {
   "cell_type": "code",
   "execution_count": 112,
   "metadata": {
    "collapsed": false
   },
   "outputs": [
    {
     "data": {
      "image/png": "[encoded data removed]",
      "text/plain": [
       "<matplotlib.figure.Figure at 0x7f954d550b50>"
      ]
     },
     "metadata": {},
     "output_type": "display_data"
    }
   ],
   "source": [
    "fig = plt.figure(figsize= (17,10))\n",
    "\n",
    "for c, (method, (GOF, frac_errs, abs_errs) ) in zip(colors, GOF_dict2.iteritems()):\n",
    "    #frac_mean = np.abs(frac_errs).mean(axis=0)\n",
    "    #frac_std = np.abs(frac_errs).std(axis=0)\n",
    "    frac_mean = np.sqrt(np.mean(frac_errs**2, axis = 0))\n",
    "    \n",
    "    #print frac_mean\n",
    "    #print\n",
    "    plt.plot(emu.scale_bin_centers, frac_mean, color = c)\n",
    "    #plt.plot(emu.scale_bin_centers, frac_mean+frac_std, ls=':', lw =3, color = c)\n",
    "    #plt.plot(emu.scale_bin_centers, frac_mean-frac_std, ls=':', lw =3, color = c)\n",
    "\n",
    "    #plt.plot(emu.bin_centers, frac_mean-frac_std, ls=':', lw =3, color = c)\n",
    "    #plt.fill_between(emu.scale_bin_centers, frac_mean-frac_std, frac_mean+frac_std, color = c, alpha = 0.3)\n",
    "    \n",
    "plt.plot(emu.scale_bin_centers, np.ones(len(emu.scale_bin_centers))*0.01, color = 'k')\n",
    "plt.title(r'RMS Fractional Error $w_p(r_p)$', fontsize = 25)\n",
    "plt.xlim(xmin = 0.1, xmax = 40)\n",
    "plt.ylim(ymin = 0, ymax =0.05)\n",
    "#plt.loglog()\n",
    "plt.xscale('log')\n",
    "plt.xlabel(r'$r $  $\\rm{[Mpc]}$', fontsize=25)\n",
    "plt.legend(loc='best', fontsize = 15)\n",
    "\n",
    "#plt.ylabel(r'Relative Error', fontsize = 25)\n",
    "\n",
    "plt.show()"
   ]
  },
  {
   "cell_type": "code",
   "execution_count": 106,
   "metadata": {
    "collapsed": false
   },
   "outputs": [],
   "source": [
    "import cPickle as pickle\n",
    "with open('GOF_dict2.pkl', 'w') as f:\n",
    "    pickle.dump(GOF_dict2, f)"
   ]
  },
  {
   "cell_type": "code",
   "execution_count": null,
   "metadata": {
    "collapsed": true
   },
   "outputs": [],
   "source": []
  }
 ],
 "metadata": {
  "kernelspec": {
   "display_name": "Python [conda env:hodemulator]",
   "language": "python",
   "name": "conda-env-hodemulator-py"
  },
  "language_info": {
   "codemirror_mode": {
    "name": "ipython",
    "version": 2
   },
   "file_extension": ".py",
   "mimetype": "text/x-python",
   "name": "python",
   "nbconvert_exporter": "python",
   "pygments_lexer": "ipython2",
   "version": "2.7.13"
  }
 },
 "nbformat": 4,
 "nbformat_minor": 0
}
