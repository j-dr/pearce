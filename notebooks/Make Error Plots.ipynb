{
 "cells": [
  {
   "cell_type": "code",
   "execution_count": 8,
   "metadata": {
    "collapsed": false
   },
   "outputs": [
    {
     "name": "stdout",
     "output_type": "stream",
     "text": [
      "The autoreload extension is already loaded. To reload it, use:\n",
      "  %reload_ext autoreload\n"
     ]
    }
   ],
   "source": [
    "%load_ext autoreload\n",
    "%autoreload 2"
   ]
  },
  {
   "cell_type": "code",
   "execution_count": 9,
   "metadata": {
    "collapsed": false
   },
   "outputs": [],
   "source": [
    "from pearce.emulator import OriginalRecipe, ExtraCrispy"
   ]
  },
  {
   "cell_type": "code",
   "execution_count": 10,
   "metadata": {
    "collapsed": false
   },
   "outputs": [],
   "source": [
    "import numpy as np\n",
    "from matplotlib import pyplot as plt\n",
    "%matplotlib inline\n",
    "import seaborn as sns\n",
    "sns.set()\n",
    "from itertools import cycle\n",
    "colors = cycle(sns.color_palette())"
   ]
  },
  {
   "cell_type": "code",
   "execution_count": 11,
   "metadata": {
    "collapsed": true
   },
   "outputs": [],
   "source": [
    "training_dir = '/u/ki/swmclau2/des/PearceLHC_wp_z'\n",
    "#training_dirs = ['/u/ki/swmclau2/des/PearceLHC_wp_rp','/u/ki/swmclau2/des/PearceLHC_wp_rp_dense',\n",
    "#                 '/u/ki/swmclau2/des/PearceFHC_wp_rp/']\n",
    "\n",
    "truth_dir = '/u/ki/swmclau2/des/PearceFHC_wp_z/'"
   ]
  },
  {
   "cell_type": "code",
   "execution_count": 12,
   "metadata": {
    "collapsed": true
   },
   "outputs": [],
   "source": [
    "gbdt_hyperparams = {'n_estimators': int(1e3),\n",
    "              'max_depth': 5}\n",
    "gp_hyperparams = {}"
   ]
  },
  {
   "cell_type": "code",
   "execution_count": 13,
   "metadata": {
    "collapsed": true
   },
   "outputs": [],
   "source": [
    "fixed_params= {'z':0.0}"
   ]
  },
  {
   "cell_type": "code",
   "execution_count": 14,
   "metadata": {
    "collapsed": false
   },
   "outputs": [
    {
     "name": "stderr",
     "output_type": "stream",
     "text": [
      "/u/ki/swmclau2/.conda/envs/hodemulator/lib/python2.7/site-packages/pearce/emulator/ioHelpers.py:51: UserWarning: The new version of ordered_params uses OrderedDicts, not lists. Converting, but this will                            not be supported for long!\n",
      "  not be supported for long!')\n"
     ]
    }
   ],
   "source": [
    "emu1 = OriginalRecipe(training_dir,method = 'gbdt',hyperparams=gbdt_hyperparams, fixed_params=fixed_params)\n",
    "#emu1 = OriginalRecipe(training_dir,method = 'gp', params=or_params)"
   ]
  },
  {
   "cell_type": "code",
   "execution_count": 15,
   "metadata": {
    "collapsed": true
   },
   "outputs": [],
   "source": [
    "fiducial_params = {'logM0': 12.20, 'logM1': 13.7, 'alpha': 1.02,\n",
    "                      'logMmin': 12.1, 'f_c': 0.19, 'sigma_logM': 0.46}\n",
    "rbins = np.array([  0.06309573,   0.12437607,   0.24517359,   0.34422476, 0.48329302, 0.67854546,\\\n",
    "           0.9526807 , 1.33756775,1.8779508 ,   2.6366509 ,   3.70186906,   5.19743987, 7.29722764, \\\n",
    "           10.24533859,  14.38449888,  20.1958975 , 28.35512583,  39.81071706] )\n",
    "rpoints = (rbins[1:]+rbins[:-1])/2"
   ]
  },
  {
   "cell_type": "code",
   "execution_count": 16,
   "metadata": {
    "collapsed": true
   },
   "outputs": [],
   "source": [
    "y_param = 'logMmin'\n",
    "emulation_point = [('f_c', 0.233), ('logM0', 12.0), ('sigma_logM', 0.533), \n",
    "                   ('alpha', 1.083),('logM1', 13.5), ('logMmin', 12.233)]\n",
    "em_params = dict(emulation_point)\n",
    "del em_params[y_param]"
   ]
  },
  {
   "cell_type": "code",
   "execution_count": 19,
   "metadata": {
    "collapsed": false
   },
   "outputs": [],
   "source": [
    "low, high = emu1.get_param_bounds(y_param)       \n",
    "y_vals = np.linspace(low, high, 4)\n",
    "em_params[y_param] = y_vals"
   ]
  },
  {
   "cell_type": "code",
   "execution_count": 20,
   "metadata": {
    "collapsed": false
   },
   "outputs": [
    {
     "name": "stdout",
     "output_type": "stream",
     "text": [
      "[ 11.7         11.96666667  12.23333333  12.5       ]\n"
     ]
    }
   ],
   "source": [
    "print em_params[y_param]"
   ]
  },
  {
   "cell_type": "raw",
   "metadata": {
    "collapsed": false
   },
   "source": [
    "GOF_dict = {}\n",
    "for method, hp, td in zip(['gp', 'gbdt', 'gbdt', 'svr'],\\\n",
    "                          [gp_hyperparams, gbdt_hyperparams, gbdt_hyperparams, {}],\\\n",
    "                          [training_dir, training_dir, training_dirs, training_dir]):\n",
    "    print method\n",
    "    emu = OriginalRecipe(td, method=method, hyperparams=hp, params=or_params)\n",
    "    GOF = emu.goodness_of_fit(truth_dir)\n",
    "    frac_err = emu.goodness_of_fit(truth_dir, statistic='log_frac')\n",
    "    abs_err = emu.goodness_of_fit(truth_dir, statistic='log_abs')\n",
    "    if method not in GOF_dict:\n",
    "        GOF_dict[method] = (GOF, frac_err, abs_err)\n",
    "    else:\n",
    "        GOF_dict[method+' more training'] = (GOF, frac_err, abs_err)"
   ]
  },
  {
   "cell_type": "raw",
   "metadata": {
    "collapsed": false
   },
   "source": [
    "fig = plt.figure(figsize= (22,10))\n",
    "\n",
    "for c, (method, (GOF, frac_errs, abs_errs) ) in zip(colors, GOF_dict.iteritems()):\n",
    "    abs_mean = np.abs(abs_errs).mean(axis=0)\n",
    "    abs_std = np.abs(abs_errs).std(axis=0)\n",
    "    \n",
    "    frac_mean = np.abs(frac_errs).mean(axis=0)\n",
    "    frac_std = np.abs(frac_errs).std(axis=0)\n",
    "    \n",
    "    plt.subplot(121)\n",
    "    #print abs_mean\n",
    "    plt.plot(emu.bin_centers, abs_mean, label = method+r'  $R^2 = %.3f$'%GOF.mean() , color = c)\n",
    "    plt.plot(emu.bin_centers, abs_mean+ abs_std, ls=':', lw = 3, color = c)\n",
    "    #plt.plot(emu.bin_centers, abs_mean- abs_std, ls=':', lw = 3, color = c)\n",
    "    plt.fill_between(emu.bin_centers,abs_mean,  abs_mean+ abs_std, alpha= 0.3,  color = c)\n",
    "    \n",
    "    plt.subplot(122)\n",
    "    #print frac_mean\n",
    "    #print\n",
    "    plt.plot(emu.bin_centers, frac_mean, color = c)\n",
    "    plt.plot(emu.bin_centers, frac_mean+frac_std, ls=':', lw =3, color = c)\n",
    "    #plt.plot(emu.bin_centers, frac_mean-frac_std, ls=':', lw =3, color = c)\n",
    "    plt.fill_between(emu.bin_centers, frac_mean, frac_mean+frac_std, color = c, alpha = 0.3)\n",
    "    \n",
    "plt.subplot(121)\n",
    "plt.title('Absolute Error')\n",
    "plt.xlim(xmin = 0.1, xmax = 40)\n",
    "#plt.ylim(ymin = -1, ymax = 10)\n",
    "#plt.loglog()\n",
    "plt.xscale('log')\n",
    "plt.yscale('log')\n",
    "plt.xlabel(r'$r $  $\\rm{[Mpc]}$', fontsize=25)\n",
    "plt.legend(loc='best', fontsize = 15)\n",
    "\n",
    "plt.subplot(122)\n",
    "plt.title('Fractional Error')\n",
    "plt.plot(emu.bin_centers, np.ones(len(emu.bin_centers))*0.01, color = 'k')\n",
    "plt.xlim(xmin = 0.1, xmax = 40)\n",
    "plt.ylim(ymin = 0, ymax = 0.05)\n",
    "#plt.loglog()\n",
    "plt.xscale('log')\n",
    "plt.xlabel(r'$r $  $\\rm{[Mpc]}$', fontsize=25)\n",
    "#plt.ylabel(r'Relative Error', fontsize = 25)\n",
    "\n",
    "plt.suptitle('Errors and GOF of various Emulators, Log Space', fontsize = 20)\n",
    "plt.show()"
   ]
  },
  {
   "cell_type": "raw",
   "metadata": {
    "collapsed": true
   },
   "source": [
    "import cPickle as pickle\n",
    "with open('GOF_dict.pkl', 'w') as f:\n",
    "    pickle.dump(GOF_dict, f)"
   ]
  },
  {
   "cell_type": "code",
   "execution_count": 23,
   "metadata": {
    "collapsed": false
   },
   "outputs": [
    {
     "name": "stdout",
     "output_type": "stream",
     "text": [
      "gp\n"
     ]
    },
    {
     "ename": "MemoryError",
     "evalue": "",
     "output_type": "error",
     "traceback": [
      "\u001b[1;31m---------------------------------------------------------------------------\u001b[0m",
      "\u001b[1;31mMemoryError\u001b[0m                               Traceback (most recent call last)",
      "\u001b[1;32m<ipython-input-23-99794c5c4da4>\u001b[0m in \u001b[0;36m<module>\u001b[1;34m()\u001b[0m\n\u001b[0;32m      6\u001b[0m     \u001b[1;32mprint\u001b[0m \u001b[0mmethod\u001b[0m\u001b[1;33m\u001b[0m\u001b[0m\n\u001b[0;32m      7\u001b[0m     \u001b[0memu\u001b[0m \u001b[1;33m=\u001b[0m \u001b[0mOriginalRecipe\u001b[0m\u001b[1;33m(\u001b[0m\u001b[0mtd\u001b[0m\u001b[1;33m,\u001b[0m \u001b[0mmethod\u001b[0m\u001b[1;33m=\u001b[0m\u001b[0mmethod\u001b[0m\u001b[1;33m,\u001b[0m \u001b[0mhyperparams\u001b[0m\u001b[1;33m=\u001b[0m\u001b[0mhp\u001b[0m\u001b[1;33m,\u001b[0m\u001b[0mfixed_params\u001b[0m \u001b[1;33m=\u001b[0m \u001b[0mfixed_params\u001b[0m\u001b[1;33m)\u001b[0m\u001b[1;33m\u001b[0m\u001b[0m\n\u001b[1;32m----> 8\u001b[1;33m     \u001b[0mGOF\u001b[0m \u001b[1;33m=\u001b[0m \u001b[0memu\u001b[0m\u001b[1;33m.\u001b[0m\u001b[0mgoodness_of_fit\u001b[0m\u001b[1;33m(\u001b[0m\u001b[0mtruth_dir\u001b[0m\u001b[1;33m)\u001b[0m\u001b[1;33m\u001b[0m\u001b[0m\n\u001b[0m\u001b[0;32m      9\u001b[0m     \u001b[0mfrac_err\u001b[0m \u001b[1;33m=\u001b[0m \u001b[0memu\u001b[0m\u001b[1;33m.\u001b[0m\u001b[0mgoodness_of_fit\u001b[0m\u001b[1;33m(\u001b[0m\u001b[0mtruth_dir\u001b[0m\u001b[1;33m,\u001b[0m \u001b[0mstatistic\u001b[0m\u001b[1;33m=\u001b[0m\u001b[1;34m'frac'\u001b[0m\u001b[1;33m)\u001b[0m\u001b[1;33m\u001b[0m\u001b[0m\n\u001b[0;32m     10\u001b[0m     \u001b[0mabs_err\u001b[0m \u001b[1;33m=\u001b[0m \u001b[0memu\u001b[0m\u001b[1;33m.\u001b[0m\u001b[0mgoodness_of_fit\u001b[0m\u001b[1;33m(\u001b[0m\u001b[0mtruth_dir\u001b[0m\u001b[1;33m,\u001b[0m \u001b[0mstatistic\u001b[0m\u001b[1;33m=\u001b[0m\u001b[1;34m'abs'\u001b[0m\u001b[1;33m)\u001b[0m\u001b[1;33m\u001b[0m\u001b[0m\n",
      "\u001b[1;32m/u/ki/swmclau2/.conda/envs/hodemulator/lib/python2.7/site-packages/pearce/emulator/emu.pyc\u001b[0m in \u001b[0;36mgoodness_of_fit\u001b[1;34m(self, truth_dir, N, statistic)\u001b[0m\n\u001b[0;32m    838\u001b[0m             \u001b[1;32massert\u001b[0m \u001b[0mN\u001b[0m \u001b[1;33m>\u001b[0m \u001b[1;36m0\u001b[0m \u001b[1;32mand\u001b[0m \u001b[0mint\u001b[0m\u001b[1;33m(\u001b[0m\u001b[0mN\u001b[0m\u001b[1;33m)\u001b[0m \u001b[1;33m==\u001b[0m \u001b[0mN\u001b[0m\u001b[1;33m\u001b[0m\u001b[0m\n\u001b[0;32m    839\u001b[0m \u001b[1;33m\u001b[0m\u001b[0m\n\u001b[1;32m--> 840\u001b[1;33m         \u001b[0mx\u001b[0m\u001b[1;33m,\u001b[0m \u001b[0my\u001b[0m\u001b[1;33m,\u001b[0m \u001b[0m_\u001b[0m \u001b[1;33m=\u001b[0m \u001b[0mself\u001b[0m\u001b[1;33m.\u001b[0m\u001b[0mget_data\u001b[0m\u001b[1;33m(\u001b[0m\u001b[0mtruth_dir\u001b[0m\u001b[1;33m,\u001b[0m \u001b[1;33m{\u001b[0m\u001b[1;33m}\u001b[0m\u001b[1;33m,\u001b[0m \u001b[0mself\u001b[0m\u001b[1;33m.\u001b[0m\u001b[0mfixed_params\u001b[0m\u001b[1;33m,\u001b[0m \u001b[0mself\u001b[0m\u001b[1;33m.\u001b[0m\u001b[0mindependent_variable\u001b[0m\u001b[1;33m)\u001b[0m\u001b[1;33m\u001b[0m\u001b[0m\n\u001b[0m\u001b[0;32m    841\u001b[0m \u001b[1;33m\u001b[0m\u001b[0m\n\u001b[0;32m    842\u001b[0m         \u001b[0mbins\u001b[0m\u001b[1;33m,\u001b[0m \u001b[0m_\u001b[0m\u001b[1;33m,\u001b[0m \u001b[0m_\u001b[0m\u001b[1;33m,\u001b[0m \u001b[0m_\u001b[0m \u001b[1;33m=\u001b[0m \u001b[0mglobal_file_reader\u001b[0m\u001b[1;33m(\u001b[0m\u001b[0mtruth_dir\u001b[0m\u001b[1;33m)\u001b[0m\u001b[1;33m\u001b[0m\u001b[0m\n",
      "\u001b[1;32m/u/ki/swmclau2/.conda/envs/hodemulator/lib/python2.7/site-packages/pearce/emulator/emu.pyc\u001b[0m in \u001b[0;36mget_data\u001b[1;34m(self, data_dir, em_params, fixed_params, independent_variable)\u001b[0m\n\u001b[0;32m    143\u001b[0m             \u001b[0mx\u001b[0m \u001b[1;33m=\u001b[0m \u001b[0mnp\u001b[0m\u001b[1;33m.\u001b[0m\u001b[0mzeros\u001b[0m\u001b[1;33m(\u001b[0m\u001b[1;33m(\u001b[0m\u001b[0mnpoints\u001b[0m\u001b[1;33m,\u001b[0m \u001b[0mndim\u001b[0m\u001b[1;33m)\u001b[0m\u001b[1;33m)\u001b[0m\u001b[1;33m\u001b[0m\u001b[0m\n\u001b[0;32m    144\u001b[0m             \u001b[0my\u001b[0m \u001b[1;33m=\u001b[0m \u001b[0mnp\u001b[0m\u001b[1;33m.\u001b[0m\u001b[0mzeros\u001b[0m\u001b[1;33m(\u001b[0m\u001b[1;33m(\u001b[0m\u001b[0mnpoints\u001b[0m\u001b[1;33m,\u001b[0m\u001b[1;33m)\u001b[0m\u001b[1;33m)\u001b[0m\u001b[1;33m\u001b[0m\u001b[0m\n\u001b[1;32m--> 145\u001b[1;33m             \u001b[0mycov\u001b[0m \u001b[1;33m=\u001b[0m \u001b[0mnp\u001b[0m\u001b[1;33m.\u001b[0m\u001b[0mzeros\u001b[0m\u001b[1;33m(\u001b[0m\u001b[1;33m(\u001b[0m\u001b[0mnpoints\u001b[0m\u001b[1;33m,\u001b[0m \u001b[0mnpoints\u001b[0m\u001b[1;33m)\u001b[0m\u001b[1;33m)\u001b[0m\u001b[1;33m\u001b[0m\u001b[0m\n\u001b[0m\u001b[0;32m    146\u001b[0m \u001b[1;33m\u001b[0m\u001b[0m\n\u001b[0;32m    147\u001b[0m             \u001b[0mwarned\u001b[0m \u001b[1;33m=\u001b[0m \u001b[0mFalse\u001b[0m\u001b[1;33m\u001b[0m\u001b[0m\n",
      "\u001b[1;31mMemoryError\u001b[0m: "
     ]
    }
   ],
   "source": [
    "GOF_dict2 = {}\n",
    "#for method, hp, td in zip(['gp', 'gbdt', 'gbdt', 'svr'],\\\n",
    "#                          [gp_hyperparams, gbdt_hyperparams, gbdt_hyperparams, {}],\\\n",
    "#                          [training_dir, training_dir, training_dirs, training_dir]):\n",
    "for method, hp, td in zip(['gp'],\\\n",
    "                          [gp_hyperparams],\\\n",
    "                          [training_dir]):\n",
    "    print method\n",
    "    emu = OriginalRecipe(td, method=method, hyperparams=hp,fixed_params = fixed_params)\n",
    "    GOF = emu.goodness_of_fit(truth_dir)\n",
    "    frac_err = emu.goodness_of_fit(truth_dir, statistic='frac')\n",
    "    abs_err = emu.goodness_of_fit(truth_dir, statistic='abs')\n",
    "    if method not in GOF_dict2:\n",
    "        GOF_dict2[method] = (GOF, frac_err, abs_err)\n",
    "    else:\n",
    "        GOF_dict2[method+' more training'] = (GOF, frac_err, abs_err)"
   ]
  },
  {
   "cell_type": "code",
   "execution_count": null,
   "metadata": {
    "collapsed": false
   },
   "outputs": [],
   "source": [
    "fig = plt.figure(figsize= (22,10))\n",
    "\n",
    "for c, (method, (GOF, frac_errs, abs_errs) ) in zip(colors, GOF_dict2.iteritems()):\n",
    "    abs_mean = np.abs(abs_errs).mean(axis=0)\n",
    "    abs_std = np.abs(abs_errs).std(axis=0)\n",
    "    \n",
    "    frac_mean = np.abs(frac_errs).mean(axis=0)\n",
    "    frac_std = np.abs(frac_errs).std(axis=0)\n",
    "    \n",
    "    plt.subplot(121)\n",
    "    #print abs_mean\n",
    "    plt.plot(emu.bin_centers, abs_mean, label = method+r'  $R^2 = %.3f$'%GOF.mean() , color = c)\n",
    "    plt.plot(emu.bin_centers, abs_mean+ abs_std, ls=':', lw = 3, color = c)\n",
    "    #plt.plot(emu.bin_centers, abs_mean- abs_std, ls=':', lw = 3, color = c)\n",
    "    plt.fill_between(emu.bin_centers,abs_mean,  abs_mean+ abs_std, alpha= 0.3,  color = c)\n",
    "    \n",
    "    plt.subplot(122)\n",
    "    #print frac_mean\n",
    "    #print\n",
    "    plt.plot(emu.bin_centers, frac_mean, color = c)\n",
    "    plt.plot(emu.bin_centers, frac_mean+frac_std, ls=':', lw =3, color = c)\n",
    "    #plt.plot(emu.bin_centers, frac_mean-frac_std, ls=':', lw =3, color = c)\n",
    "    plt.fill_between(emu.bin_centers, frac_mean, frac_mean+frac_std, color = c, alpha = 0.3)\n",
    "    \n",
    "plt.subplot(121)\n",
    "plt.title('Absolute Error')\n",
    "plt.xlim(xmin = 0.1, xmax = 40)\n",
    "#plt.ylim(ymin = -1, ymax = 10)\n",
    "#plt.loglog()\n",
    "plt.xscale('log')\n",
    "plt.yscale('log')\n",
    "plt.xlabel(r'$r $  $\\rm{[Mpc]}$', fontsize=25)\n",
    "plt.legend(loc='best', fontsize = 15)\n",
    "\n",
    "plt.subplot(122)\n",
    "plt.plot(emu.bin_centers, np.ones(len(emu.bin_centers))*0.01, color = 'k')\n",
    "plt.title('Fractional Error')\n",
    "plt.xlim(xmin = 0.1, xmax = 40)\n",
    "plt.ylim(ymin = 0, ymax =0.2)\n",
    "#plt.loglog()\n",
    "plt.xscale('log')\n",
    "plt.xlabel(r'$r $  $\\rm{[Mpc]}$', fontsize=25)\n",
    "#plt.ylabel(r'Relative Error', fontsize = 25)\n",
    "\n",
    "plt.suptitle('Errors and GOF of various Emulators, Linear Space', fontsize = 20)\n",
    "plt.show()"
   ]
  },
  {
   "cell_type": "code",
   "execution_count": null,
   "metadata": {
    "collapsed": true
   },
   "outputs": [],
   "source": [
    "import cPickle as pickle\n",
    "with open('GOF_dict2.pkl', 'w') as f:\n",
    "    pickle.dump(GOF_dict, f)"
   ]
  },
  {
   "cell_type": "code",
   "execution_count": null,
   "metadata": {
    "collapsed": true
   },
   "outputs": [],
   "source": []
  }
 ],
 "metadata": {
  "kernelspec": {
   "display_name": "Python [conda env:hodemulator]",
   "language": "python",
   "name": "conda-env-hodemulator-py"
  },
  "language_info": {
   "codemirror_mode": {
    "name": "ipython",
    "version": 2
   },
   "file_extension": ".py",
   "mimetype": "text/x-python",
   "name": "python",
   "nbconvert_exporter": "python",
   "pygments_lexer": "ipython2",
   "version": "2.7.13"
  }
 },
 "nbformat": 4,
 "nbformat_minor": 0
}
