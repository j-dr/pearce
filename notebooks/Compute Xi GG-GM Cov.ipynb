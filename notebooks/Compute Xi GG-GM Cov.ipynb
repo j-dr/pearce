{
 "cells": [
  {
   "cell_type": "markdown",
   "metadata": {},
   "source": [
    "Given that we do not appear to have access to the Minerva sims, I'm going to compute covariances from the test boxes. I'm gonna start by computing a separate one for each HOD and Cosmology used, across realizations, and convince myself they don't vary much. "
   ]
  },
  {
   "cell_type": "code",
   "execution_count": 1,
   "metadata": {},
   "outputs": [],
   "source": [
    "from pearce.mocks.kittens import TestBox\n",
    "from pearce.mocks import tpcf_subregions\n",
    "import numpy as np\n",
    "from collections import OrderedDict\n",
    "from time import time\n",
    "from scipy.optimize import minimize_scalar"
   ]
  },
  {
   "cell_type": "code",
   "execution_count": 2,
   "metadata": {
    "collapsed": true
   },
   "outputs": [],
   "source": [
    "import matplotlib\n",
    "#matplotlib.use('Agg')\n",
    "from matplotlib import pyplot as plt\n",
    "%matplotlib inline\n",
    "import seaborn as sns\n",
    "sns.set()"
   ]
  },
  {
   "cell_type": "code",
   "execution_count": 3,
   "metadata": {
    "collapsed": true
   },
   "outputs": [],
   "source": [
    "nd = 1e-4\n",
    "min_ptcl = 100\n",
    "r_bins = np.logspace(-1.1, 1.6, 19)\n",
    "logMmin_bounds = (12.0, 14.0)"
   ]
  },
  {
   "cell_type": "code",
   "execution_count": 4,
   "metadata": {
    "collapsed": true
   },
   "outputs": [],
   "source": [
    "hod_param_ranges =  OrderedDict({'sigma_logM': [0.05, 0.3], 'logM0': [13.1, 14.6], 'logM1': [13.1, 14.6], 'alpha': [0.8, 1.2]})"
   ]
  },
  {
   "cell_type": "code",
   "execution_count": 5,
   "metadata": {
    "collapsed": true
   },
   "outputs": [],
   "source": [
    "def make_LHC(ordered_params, N, seed = None):\n",
    "\n",
    "    if seed is None:\n",
    "        seed = int(time())\n",
    "    np.random.seed(seed)\n",
    "\n",
    "    points = []\n",
    "    # by linspacing each parameter and shuffling, I ensure there is only one point in each row, in each dimension.\n",
    "    for plow, phigh in ordered_params.itervalues():\n",
    "        point = np.linspace(plow, phigh, num=N)\n",
    "        np.random.shuffle(point)  # makes the cube random.\n",
    "        points.append(point)\n",
    "    return np.stack(points).T"
   ]
  },
  {
   "cell_type": "code",
   "execution_count": 6,
   "metadata": {
    "collapsed": true
   },
   "outputs": [],
   "source": [
    "def add_logMmin(hod_params, cat):\n",
    "\n",
    "    hod_params['logMmin'] = 13.0 #initial guess\n",
    "    #cat.populate(hod_params) #may be overkill, but will ensure params are written everywhere\n",
    "    def func(logMmin, hod_params):\n",
    "        hod_params.update({'logMmin':logMmin}) \n",
    "        return (cat.calc_analytic_nd(hod_params) - nd)**2\n",
    "\n",
    "    res = minimize_scalar(func, bounds = logMmin_bounds, args = (hod_params,), options = {'maxiter':100}, method = 'Bounded')\n",
    "\n",
    "    # assuming this doens't fail\n",
    "    #print 'logMmin', res.x\n",
    "    hod_params['logMmin'] = res.x"
   ]
  },
  {
   "cell_type": "code",
   "execution_count": 7,
   "metadata": {
    "collapsed": true
   },
   "outputs": [],
   "source": [
    "N = 10\n",
    "LHC = make_LHC(hod_param_ranges, N)\n",
    "hod_dicts = [dict(zip(hod_param_ranges.keys(), vals)) for vals in LHC]"
   ]
  },
  {
   "cell_type": "code",
   "execution_count": 13,
   "metadata": {},
   "outputs": [],
   "source": [
    "def compute_full_jk(cat, rbins, rand_scalecut = 1.0,  n_rands= [5, 5], n_sub = 5):\n",
    "    #np.random.seed(int(time()))\n",
    "    \n",
    "    n_cores = cat._check_cores(100)\n",
    "\n",
    "    x_g, y_g, z_g = [cat.model.mock.galaxy_table[c] for c in ['x', 'y', 'z']]\n",
    "    #pos_g = return_xyz_formatted_array(x_g, y_g, z_g, period=cat.Lbox)\n",
    "    pos_g = np.vstack([x_g, y_g, z_g]).T\n",
    "\n",
    "    x_m, y_m, z_m = [cat.halocat.ptcl_table[c] for c in ['x', 'y', 'z']]\n",
    "    #pos_m = return_xyz_formatted_array(x_m, y_m, z_m, period=cat.Lbox)\n",
    "    pos_m = np.vstack([x_m, y_m, z_m]).T\n",
    "\n",
    "    rbins = np.array(rbins)\n",
    "    rbins_small,rbins_large = list(rbins[rbins < rand_scalecut]), list(rbins[rbins >= rand_scalecut])\n",
    "\n",
    "    rbins_large.insert(0, rbins_small[-1]) # make sure the middle bin is not cut\n",
    "\n",
    "    xi_ggs, xi_gms, cov_ggs, cov_gms = [], [], [], []\n",
    "    #for rb, nr in zip([rbins_small, rbins_large], n_rands): #\n",
    "    for rb, nr in zip([rbins_large], n_rands): #\n",
    "\n",
    "        randoms = np.random.random((pos_g.shape[0] * nr,\n",
    "                                    3)) * cat.Lbox / cat.h  # Solution to NaNs: Just fuck me up with randoms\n",
    "        xi_gg, xi_gm = tpcf_subregions(pos_g / cat.h, randoms, rb, sample2 = pos_m/cat.h, period=cat.Lbox / cat.h,\n",
    "                                    num_threads=n_cores, Nsub=n_sub, estimator='Landy-Szalay',\\\n",
    "                                       do_auto1 = True, do_cross = True, do_auto2 = False)\n",
    "        xi_ggs.append(xi_gg)\n",
    "        xi_gms.append(xi_gm)\n",
    "\n",
    "        cov_ggs.append(xi_gg_cov)\n",
    "        cov_gms.append(xi_gm_cov)\n",
    "\n",
    "\n",
    "    #xi_gg = np.hstack(np.hstack(xi_ggs))\n",
    "    full_cov = cov_ggs\n",
    "    full_cov.extend(cov_gms)\n",
    "    cov = block_diag(*full_cov)\n",
    "    return cov"
   ]
  },
  {
   "cell_type": "code",
   "execution_count": null,
   "metadata": {},
   "outputs": [
    {
     "name": "stderr",
     "output_type": "stream",
     "text": [
      "/home/users/swmclau2/.local/lib/python2.7/site-packages/pearce/mocks/cat.py:284: UserWarning: n_cores invalid. Changing from 100 to maximum 16.\n",
      "  warnings.warn('n_cores invalid. Changing from %d to maximum %d.' % (n_cores, max_cores))\n"
     ]
    }
   ],
   "source": [
    "cov_mats = np.zeros((7,N, 5, 2*len(r_bins)-2, 2*len(r_bins)-2))\n",
    "\n",
    "for boxno in xrange(7):\n",
    "    for realization in xrange(5):\n",
    "        cat = TestBox(boxno = boxno, realization = realization, system = 'sherlock')\n",
    "        cat.load(1.0, HOD = str('zheng07'), particles = True, downsample_factor = 1e-2)\n",
    "        for hod_idx, hod_params in enumerate(hod_dicts):\n",
    "            add_logMmin(hod_params, cat)\n",
    "            cat.populate(hod_params)\n",
    "            compute_full_jk(cat, r_bins)\n",
    "            break\n",
    "        break\n",
    "    break"
   ]
  },
  {
   "cell_type": "code",
   "execution_count": null,
   "metadata": {
    "collapsed": true
   },
   "outputs": [],
   "source": []
  },
  {
   "cell_type": "code",
   "execution_count": null,
   "metadata": {
    "collapsed": true
   },
   "outputs": [],
   "source": []
  }
 ],
 "metadata": {
  "kernelspec": {
   "display_name": "Python 2",
   "language": "python",
   "name": "python2"
  },
  "language_info": {
   "codemirror_mode": {
    "name": "ipython",
    "version": 2
   },
   "file_extension": ".py",
   "mimetype": "text/x-python",
   "name": "python",
   "nbconvert_exporter": "python",
   "pygments_lexer": "ipython2",
   "version": "2.7.13"
  }
 },
 "nbformat": 4,
 "nbformat_minor": 1
}
