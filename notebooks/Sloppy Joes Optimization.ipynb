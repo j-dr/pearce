{
 "cells": [
  {
   "cell_type": "markdown",
   "metadata": {},
   "source": [
    "The contours from the MCMC seem to be too large. I'm going to take some points on the chain and plot the emulator prediciton along with the \"truth\" at that point and see if they make sense. Additionally, part of my concern is that the errors for the emulator are not right. If I draw a lot of samples from the emulator at that point vs several repops, they should be similar. "
   ]
  },
  {
   "cell_type": "code",
   "execution_count": 2,
   "metadata": {
    "collapsed": true
   },
   "outputs": [],
   "source": [
    "from pearce.emulator import OriginalRecipe, ExtraCrispy\n",
    "from pearce.mocks import cat_dict\n",
    "import numpy as np\n",
    "from os import path"
   ]
  },
  {
   "cell_type": "code",
   "execution_count": 3,
   "metadata": {
    "collapsed": true
   },
   "outputs": [],
   "source": [
    "import matplotlib\n",
    "#matplotlib.use('Agg')\n",
    "from matplotlib import pyplot as plt\n",
    "%matplotlib inline\n",
    "import seaborn as sns\n",
    "sns.set()\n",
    "from chainconsumer import ChainConsumer"
   ]
  },
  {
   "cell_type": "code",
   "execution_count": 4,
   "metadata": {
    "collapsed": true
   },
   "outputs": [],
   "source": [
    "training_dir = '/u/ki/swmclau2/des/PearceLHC_wp_z_test_error'\n",
    "\n",
    "em_method = 'gp'\n",
    "split_method = 'random'"
   ]
  },
  {
   "cell_type": "code",
   "execution_count": 5,
   "metadata": {
    "collapsed": true
   },
   "outputs": [],
   "source": [
    "fixed_params = {'z':0.0}#, 'r':0.18477483}"
   ]
  },
  {
   "cell_type": "raw",
   "metadata": {},
   "source": [
    "n_leaves, n_overlap = 10, 2\n",
    "emu = ExtraCrispy(training_dir, n_leaves, n_overlap, split_method, method = em_method, fixed_params=fixed_params)"
   ]
  },
  {
   "cell_type": "code",
   "execution_count": 6,
   "metadata": {
    "collapsed": false
   },
   "outputs": [],
   "source": [
    "emu = OriginalRecipe(training_dir, method = em_method, fixed_params=fixed_params)"
   ]
  },
  {
   "cell_type": "code",
   "execution_count": 7,
   "metadata": {
    "collapsed": false
   },
   "outputs": [
    {
     "data": {
      "text/plain": [
       "OrderedDict([('logMmin', (11.7, 12.5)),\n",
       "             ('sigma_logM', (0.2, 0.7)),\n",
       "             ('logM0', (10, 13)),\n",
       "             ('logM1', (13.1, 14.3)),\n",
       "             ('alpha', (0.75, 1.25)),\n",
       "             ('f_c', (0.1, 0.5)),\n",
       "             ('r', (0.093735900000000011, 34.082921444999997))])"
      ]
     },
     "execution_count": 7,
     "metadata": {},
     "output_type": "execute_result"
    }
   ],
   "source": [
    "emu._ordered_params"
   ]
  },
  {
   "cell_type": "code",
   "execution_count": 27,
   "metadata": {
    "collapsed": false
   },
   "outputs": [
    {
     "data": {
      "text/plain": [
       "1.0"
      ]
     },
     "execution_count": 27,
     "metadata": {},
     "output_type": "execute_result"
    }
   ],
   "source": [
    "float(path.dirname(path.join(training_dir, 'a_1.00000/')).split('/')[-1][2:])"
   ]
  },
  {
   "cell_type": "code",
   "execution_count": 10,
   "metadata": {
    "collapsed": false
   },
   "outputs": [
    {
     "name": "stdout",
     "output_type": "stream",
     "text": [
      "OrderedDict([('logMmin', (11.7, 12.5)), ('sigma_logM', (0.2, 0.7)), ('logM0', (10, 13)), ('logM1', (13.1, 14.3)), ('alpha', (0.75, 1.25)), ('f_c', (0.1, 0.5)), ('r', (0.09373590000000001, 34.082921445)), ('z', (0.0, 0.5))])\n"
     ]
    }
   ],
   "source": [
    "from collections import OrderedDict\n",
    "x = OrderedDict([('logMmin', (11.7, 12.5)),\n",
    "             ('sigma_logM', (0.2, 0.7)),\n",
    "             ('logM0', (10, 13)),\n",
    "             ('logM1', (13.1, 14.3)),\n",
    "             ('alpha', (0.75, 1.25)),\n",
    "             ('f_c', (0.1, 0.5)),\n",
    "             ('r', (0.093735900000000011, 34.082921444999997)),\n",
    "             ('z', (0.0, 0.5))])\n",
    "print x"
   ]
  },
  {
   "cell_type": "code",
   "execution_count": 26,
   "metadata": {
    "collapsed": true
   },
   "outputs": [],
   "source": [
    "emulation_point = [('f_c', 0.233), ('logM0', 12.0), ('sigma_logM', 0.533),\n",
    "                    ('alpha', 1.083),('logM1', 13.5), ('logMmin', 12.233)]\n",
    "\n",
    "em_params = dict(emulation_point)\n",
    "\n",
    "em_params.update(fixed_params)\n",
    "del em_params['z']\n",
    "\n",
    "param_names = em_params.keys()"
   ]
  },
  {
   "cell_type": "code",
   "execution_count": 27,
   "metadata": {
    "collapsed": true
   },
   "outputs": [],
   "source": [
    "rp_bins =  list(np.logspace(-1,1.5,19) )\n",
    "rp_bins.pop(1)\n",
    "rp_bins = np.array(rp_bins)\n",
    "rpoints =  (rp_bins[1:]+rp_bins[:-1])/2.0"
   ]
  },
  {
   "cell_type": "code",
   "execution_count": 28,
   "metadata": {
    "collapsed": false
   },
   "outputs": [],
   "source": [
    "from SloppyJoes import lazy_wrapper"
   ]
  },
  {
   "cell_type": "code",
   "execution_count": 29,
   "metadata": {
    "collapsed": true
   },
   "outputs": [],
   "source": [
    "# move these outside? hm.\n",
    "def nll(p):\n",
    "    # Update the kernel parameters and compute the likelihood.\n",
    "    # params are log(a) and log(m)\n",
    "    emu._emulator.kernel[:] = p\n",
    "    ll = emu._emulator.lnlikelihood(emu.y, quiet=True)\n",
    "\n",
    "    # The scipy optimizer doesn't play well with infinities.\n",
    "    return -ll if np.isfinite(ll) else 1e25\n",
    "\n",
    "# And the gradient of the objective function.\n",
    "def grad_nll(p):\n",
    "    # Update the kernel parameters and compute the likelihood.\n",
    "    emu._emulator.kernel[:] = p\n",
    "    return -emu._emulator.grad_lnlikelihood(emu.y, quiet=True)"
   ]
  },
  {
   "cell_type": "code",
   "execution_count": 30,
   "metadata": {
    "collapsed": false
   },
   "outputs": [],
   "source": [
    "subsample_idxs = np.random.choice(emu.y.shape[0], size = 100)"
   ]
  },
  {
   "cell_type": "code",
   "execution_count": 31,
   "metadata": {
    "collapsed": true
   },
   "outputs": [],
   "source": [
    "gp = emu._emulator\n",
    "gp.compute(emu.x[subsample_idxs, :], emu.yerr[subsample_idxs])"
   ]
  },
  {
   "cell_type": "code",
   "execution_count": 32,
   "metadata": {
    "collapsed": true
   },
   "outputs": [],
   "source": [
    "def resids(p, gp, y):\n",
    "    gp.kernel[:] = p\n",
    "    gp.recompute()\n",
    "    return gp.predict(y, gp._x, mean_only=True)-y"
   ]
  },
  {
   "cell_type": "code",
   "execution_count": 33,
   "metadata": {
    "collapsed": false
   },
   "outputs": [
    {
     "name": "stdout",
     "output_type": "stream",
     "text": [
      "[  6.65882556e-05  -1.95170390e+00   4.60822764e-01  -1.75901457e+00\n",
      "  -6.45996651e-01  -1.03985550e+00  -1.06349452e+00  -1.04964571e+00\n",
      "  -3.97894397e-01  -1.38910812e+00  -1.04293866e+00  -7.32053010e-01\n",
      "  -1.53980121e+00  -4.99355415e-01  -1.57082619e-01  -4.92203088e-01\n",
      "  -4.52685843e-01  -1.85173690e+00  -3.29749399e-01   4.40311527e-01\n",
      "  -4.29147092e-01  -9.01639524e-01   9.31615357e-01   1.56553392e+00\n",
      "  -1.10411973e+00   2.25613456e-01   2.08730263e-01  -7.84589755e-01\n",
      "  -6.97192283e-01   7.11317875e-01  -4.24200388e-01   2.62933433e-01\n",
      "  -5.96850372e-01  -6.79017237e-01  -1.28987230e+00   2.12448016e-01\n",
      "   6.60195977e-02  -1.67246002e+00  -1.45534617e+00   5.72594314e-01\n",
      "   6.17365734e-01   2.64341535e-01   1.47825906e+00   5.31348739e-01\n",
      "  -2.22679775e-01   1.22990281e+00   2.28091722e-01   1.07057245e+00\n",
      "  -5.74689405e-01   5.92679750e-01   5.44999813e-01   5.42036849e-01\n",
      "   1.49397485e+00   8.77957136e-01  -1.27559082e+00   1.56023171e-01\n",
      "   3.85409945e-02  -4.29648681e-01   9.68591614e-01   2.55946762e-01\n",
      "  -7.51979360e-01  -1.34059534e+00  -7.12149118e-01   6.31637830e-01\n",
      "  -9.56484427e-01  -1.16717164e+00  -8.49781216e-01   1.43234815e+00\n",
      "   4.18540012e-01  -2.95030878e-01   7.31350552e-01   3.97846766e-01\n",
      "   3.09801504e-01  -1.17223615e+00   9.52651647e-01   1.56941370e+00\n",
      "  -2.35201581e+00   9.80834192e-01  -8.84125391e-01   7.94971147e-01\n",
      "  -1.05359588e-01   1.51713565e+00   5.45476699e-01  -1.05402008e+00\n",
      "  -5.40063799e-01   8.96994806e-01   2.58095092e-01   5.21606875e-01\n",
      "   5.77747863e-01   1.84082623e+00   1.61769934e+00   6.64023127e-01\n",
      "   5.40104155e-01   1.08175948e+00   1.03491696e+00   1.93968200e+00\n",
      "   2.39449134e-01   1.62130827e+00   2.13303014e-05   1.44699379e+00]\n"
     ]
    }
   ],
   "source": [
    "print resids(np.ones_like(gp.kernel.vector), gp, emu.y[subsample_idxs])"
   ]
  },
  {
   "cell_type": "code",
   "execution_count": null,
   "metadata": {
    "collapsed": false,
    "scrolled": false
   },
   "outputs": [],
   "source": [
    "results = []\n",
    "for i in xrange(10000):\n",
    "    if i%1000==0:\n",
    "        print i\n",
    "    vals = np.random.rand(gp.kernel.vector.shape[0])*2\n",
    "    args = (gp, emu.y[subsample_idxs])\n",
    "    try:\n",
    "        result = lazy_wrapper(resids, vals, func_args = args, print_level = 0,h=0.1,\\\n",
    "                          artol = 1e-9, xrtol = 1e-21, xtol=1e-20, gtol = 1e-9)\n",
    "    except:\n",
    "        continue\n",
    "    results.append(result)\n",
    "    \n",
    "results = np.array(results)"
   ]
  },
  {
   "cell_type": "code",
   "execution_count": null,
   "metadata": {
    "collapsed": false
   },
   "outputs": [],
   "source": [
    "for i in xrange(results.shape[1]):\n",
    "    plt.subplot(4,2,i+1)\n",
    "    plt.hist(results[:,i]);"
   ]
  },
  {
   "cell_type": "code",
   "execution_count": null,
   "metadata": {
    "collapsed": false
   },
   "outputs": [],
   "source": [
    "#from SloppyJoes import fdjac"
   ]
  },
  {
   "cell_type": "code",
   "execution_count": null,
   "metadata": {
    "collapsed": true
   },
   "outputs": [],
   "source": [
    "def fdjac(x, fvec, func, eps, center_diff):\n",
    "\n",
    "    epsmach = np.finfo(float).eps\n",
    "    dx = np.zeros_like(x)\n",
    "    fjac = []\n",
    "    if center_diff:\n",
    "        for i in xrange(x.shape[0]):#TODO vectorize\n",
    "            h = eps*x[i]\n",
    "            h = eps if h < epsmach else h\n",
    "            dx[i] = 0.5\n",
    "            temp1 = func(x+dx)\n",
    "            temp2 = func(x-dx)\n",
    "            print temp1- temp2\n",
    "            fjac.append((temp1-temp2)/h)\n",
    "            dx[i] = 0.0\n",
    "    else:\n",
    "        for i in xrange(x.shape[0]):\n",
    "            h = eps *abs(x[i])\n",
    "            h = eps if h < epsmach else h\n",
    "            dx[i] = h\n",
    "            print dx\n",
    "            temp1 = func(x+dx)\n",
    "            dx[i] = 0.0\n",
    "            print temp1, fvec\n",
    "            fjac.append( (temp1-fvec)/h)\n",
    "\n",
    "    return np.stack(fjac).T #not sure bout the dimension here\n"
   ]
  },
  {
   "cell_type": "code",
   "execution_count": null,
   "metadata": {
    "collapsed": false
   },
   "outputs": [],
   "source": [
    "f = lambda x : resids(x, *args)\n",
    "fdjac(vals, resids(vals, *args),f, 0.1, False)"
   ]
  },
  {
   "cell_type": "code",
   "execution_count": null,
   "metadata": {
    "collapsed": false
   },
   "outputs": [],
   "source": [
    "for i in xrange(10):\n",
    "    print resids(i*vals, *args)"
   ]
  },
  {
   "cell_type": "code",
   "execution_count": null,
   "metadata": {
    "collapsed": false
   },
   "outputs": [],
   "source": [
    "emu._emulator.kernel[:] = result\n",
    "emu._emulator.recompute()"
   ]
  }
 ],
 "metadata": {
  "kernelspec": {
   "display_name": "Python [conda env:hodemulator]",
   "language": "python",
   "name": "conda-env-hodemulator-py"
  },
  "language_info": {
   "codemirror_mode": {
    "name": "ipython",
    "version": 2
   },
   "file_extension": ".py",
   "mimetype": "text/x-python",
   "name": "python",
   "nbconvert_exporter": "python",
   "pygments_lexer": "ipython2",
   "version": "2.7.13"
  }
 },
 "nbformat": 4,
 "nbformat_minor": 0
}
