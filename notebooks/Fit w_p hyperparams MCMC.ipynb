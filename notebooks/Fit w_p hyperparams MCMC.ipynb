{
 "cells": [
  {
   "cell_type": "code",
   "execution_count": 1,
   "metadata": {
    "collapsed": true
   },
   "outputs": [],
   "source": [
    "from pearce.emulator import OriginalRecipe, ExtraCrispy\n",
    "from pearce.mocks import cat_dict\n",
    "import numpy as np\n",
    "from os import path"
   ]
  },
  {
   "cell_type": "code",
   "execution_count": 2,
   "metadata": {
    "collapsed": true
   },
   "outputs": [],
   "source": [
    "import matplotlib\n",
    "#matplotlib.use('Agg')\n",
    "from matplotlib import pyplot as plt\n",
    "%matplotlib inline\n",
    "import seaborn as sns\n",
    "sns.set()"
   ]
  },
  {
   "cell_type": "code",
   "execution_count": 3,
   "metadata": {
    "collapsed": true
   },
   "outputs": [],
   "source": [
    "training_dir = '/u/ki/swmclau2/des/PearceLHC_wp_z_corrab_emulator/'\n",
    "\n",
    "em_method = 'gp'\n",
    "split_method = 'random'"
   ]
  },
  {
   "cell_type": "code",
   "execution_count": 4,
   "metadata": {
    "collapsed": true
   },
   "outputs": [],
   "source": [
    "a = 1.0\n",
    "z = 1./a-1.0"
   ]
  },
  {
   "cell_type": "code",
   "execution_count": 5,
   "metadata": {
    "collapsed": true
   },
   "outputs": [],
   "source": [
    "fixed_params = {'z':z}#, 'r':0.18477483}"
   ]
  },
  {
   "cell_type": "raw",
   "metadata": {
    "collapsed": true
   },
   "source": [
    "n_leaves, n_overlap = 10, 2\n",
    "emu = ExtraCrispy(training_dir, n_leaves, n_overlap, split_method, method = em_method, fixed_params=fixed_params)"
   ]
  },
  {
   "cell_type": "code",
   "execution_count": 6,
   "metadata": {
    "collapsed": false
   },
   "outputs": [],
   "source": [
    "emu = OriginalRecipe(training_dir, method = em_method, fixed_params=fixed_params)"
   ]
  },
  {
   "cell_type": "code",
   "execution_count": 7,
   "metadata": {
    "collapsed": false
   },
   "outputs": [
    {
     "data": {
      "text/plain": [
       "array([  0.09581734,   0.13534558,   0.19118072,   0.27004994,\n",
       "         0.38145568,   0.53882047,   0.76110414,   1.07508818,\n",
       "         1.51860241,   2.14508292,   3.03001016,   4.28000311,\n",
       "         6.04566509,   8.53972892,  12.06268772,  17.0389993 ,\n",
       "        24.06822623,  33.99727318])"
      ]
     },
     "execution_count": 7,
     "metadata": {},
     "output_type": "execute_result"
    }
   ],
   "source": [
    "emu.scale_bin_centers"
   ]
  },
  {
   "cell_type": "code",
   "execution_count": 8,
   "metadata": {
    "collapsed": false
   },
   "outputs": [
    {
     "data": {
      "text/plain": [
       "OrderedDict([('logMmin', (12.5, 13.5)),\n",
       "             ('sigma_logM', (0.2, 1.0)),\n",
       "             ('logM0', (10.0, 14.0)),\n",
       "             ('logM1', (13.0, 16.0)),\n",
       "             ('alpha', (0.75, 1.25)),\n",
       "             ('f_c', (0.95, 1.0)),\n",
       "             ('mean_occupation_satellites_assembias_param1', (-1.0, 1.0)),\n",
       "             ('mean_occupation_centrals_assembias_param1', (-1.0, 1.0)),\n",
       "             ('r', (0.095817335000000003, 33.997273184999997))])"
      ]
     },
     "execution_count": 8,
     "metadata": {},
     "output_type": "execute_result"
    }
   ],
   "source": [
    "emu._ordered_params"
   ]
  },
  {
   "cell_type": "code",
   "execution_count": 9,
   "metadata": {
    "collapsed": false
   },
   "outputs": [
    {
     "data": {
      "text/plain": [
       "{'alpha': 3.63498762588,\n",
       " 'amp': 1.18212664544,\n",
       " 'disp_func_slope_centrals': 10.0,\n",
       " 'disp_func_slope_satellites': 10.0,\n",
       " 'f_c': 0.327508062386,\n",
       " 'logM0': 15.8416094906,\n",
       " 'logM1': 1.66509412286,\n",
       " 'logMmin': 1.7348042925,\n",
       " 'mean_occupation_centrals_assembias_param1': 112.3,\n",
       " 'mean_occupation_centrals_assembias_split1': 123.67,\n",
       " 'mean_occupation_satellites_assembias_param1': 0.5484,\n",
       " 'mean_occupation_satellites_assembias_split1': 0.00663,\n",
       " 'r': 0.306139450843,\n",
       " 'sigma_logM': 5.36288382789}"
      ]
     },
     "execution_count": 9,
     "metadata": {},
     "output_type": "execute_result"
    }
   ],
   "source": [
    "emu._get_initial_guess(None)"
   ]
  },
  {
   "cell_type": "code",
   "execution_count": 10,
   "metadata": {
    "collapsed": true
   },
   "outputs": [],
   "source": [
    "def nll(p):\n",
    "    # Update the kernel parameters and compute the likelihood.\n",
    "    # params are log(a) and log(m)\n",
    "    #ll = 0\n",
    "    #for emulator, _y in izip(self._emulators, self.y):\n",
    "    #    emulator.kernel[:] = p\n",
    "    #    ll += emulator.lnlikelihood(_y, quiet=True)\n",
    "    emu._emulator.kernel[ab_param_idxs] = p\n",
    "    #print p\n",
    "    ll= emu._emulator.lnlikelihood(emu.y, quiet=False)\n",
    "\n",
    "    # The scipy optimizer doesn't play well with infinities.\n",
    "    return -ll if np.isfinite(ll) else 1e25\n",
    "\n",
    "# And the gradient of the objective function.\n",
    "def grad_nll(p):\n",
    "    # Update the kernel parameters and compute the likelihood.\n",
    "    #gll = 0\n",
    "    #for emulator, _y in izip(self._emulators, self.y):\n",
    "    #    emulator.kernel[:] = p\n",
    "    #    gll += emulator.grad_lnlikelihood(_y, quiet=True)\n",
    "    emu._emulator.kernel[ab_param_idxs] = p\n",
    "    gll = emu._emulator.grad_lnlikelihood(emu.y, quiet=True)\n",
    "    return -gll[ab_param_idxs]"
   ]
  },
  {
   "cell_type": "code",
   "execution_count": 11,
   "metadata": {
    "collapsed": true
   },
   "outputs": [],
   "source": [
    "ab_param_names = ['mean_occupation_centrals_assembias_param1',\n",
    "#'mean_occupation_centrals_assembias_slope1',\n",
    "#'mean_occupation_centrals_assembias_split1',\n",
    "'mean_occupation_satellites_assembias_param1']#,\n",
    "#'mean_occupation_satellites_assembias_slope1',\n",
    "#'mean_occupation_satellites_assembias_split1']"
   ]
  },
  {
   "cell_type": "code",
   "execution_count": 12,
   "metadata": {
    "collapsed": false
   },
   "outputs": [],
   "source": [
    "ab_param_idxs = []\n",
    "for apn in ab_param_names:\n",
    "    ab_param_idxs.append(emu._ordered_params.keys().index(apn)+1)\n",
    "    \n",
    "ab_param_idxs = np.array(ab_param_idxs)"
   ]
  },
  {
   "cell_type": "code",
   "execution_count": 13,
   "metadata": {
    "collapsed": false
   },
   "outputs": [],
   "source": [
    "p0 = np.ones_like(ab_param_idxs) #emu._emulator.kernel.vector[ab_param_idxs]"
   ]
  },
  {
   "cell_type": "code",
   "execution_count": 14,
   "metadata": {
    "collapsed": false
   },
   "outputs": [
    {
     "data": {
      "text/plain": [
       "array([1, 1])"
      ]
     },
     "execution_count": 14,
     "metadata": {},
     "output_type": "execute_result"
    }
   ],
   "source": [
    "p0"
   ]
  },
  {
   "cell_type": "code",
   "execution_count": 15,
   "metadata": {
    "collapsed": true
   },
   "outputs": [],
   "source": [
    "import emcee as mc"
   ]
  },
  {
   "cell_type": "code",
   "execution_count": 31,
   "metadata": {
    "collapsed": true
   },
   "outputs": [],
   "source": [
    "def lnprior(theta, *args):\n",
    "    return -np.inf if np.any(np.logical_or(theta < -2, theta > 2)) else 0\n",
    "\n",
    "def lnprob(theta, *args):\n",
    "    lp = lnprior(theta, *args)\n",
    "    #print lp\n",
    "    if not np.isfinite(lp):\n",
    "        return -np.inf\n",
    "    output = lp - nll(theta, *args)\n",
    "    #print output\n",
    "    return output\n",
    "    #return lp - nll(theta, *args)"
   ]
  },
  {
   "cell_type": "code",
   "execution_count": 56,
   "metadata": {
    "collapsed": false
   },
   "outputs": [],
   "source": [
    "nwalkers = 100\n",
    "nsteps = 100\n",
    "nburn = 0\n",
    "num_params = len(p0)\n",
    "pos0 = np.random.randn(nwalkers, num_params)*2.0/3\n",
    "ncores = 1"
   ]
  },
  {
   "cell_type": "code",
   "execution_count": 57,
   "metadata": {
    "collapsed": true
   },
   "outputs": [],
   "source": [
    "_x, _y, _yerr = emu.x, emu.y, emu.yerr"
   ]
  },
  {
   "cell_type": "code",
   "execution_count": 58,
   "metadata": {
    "collapsed": true
   },
   "outputs": [],
   "source": [
    "n = 200\n",
    "emu.x = _x[:n*emu.scale_bin_centers.shape[0], :]\n",
    "emu.y = _y[:n*emu.scale_bin_centers.shape[0]]\n",
    "emu.yerr = _yerr[:n*emu.scale_bin_centers.shape[0]]\n",
    "\n",
    "emu._build_gp(emu._get_initial_guess(None))"
   ]
  },
  {
   "cell_type": "code",
   "execution_count": 59,
   "metadata": {
    "collapsed": true
   },
   "outputs": [],
   "source": [
    "sampler = mc.EnsembleSampler(nwalkers, num_params, lnprob, threads=ncores)"
   ]
  },
  {
   "cell_type": "code",
   "execution_count": 60,
   "metadata": {
    "collapsed": true
   },
   "outputs": [],
   "source": [
    "from time import time"
   ]
  },
  {
   "cell_type": "code",
   "execution_count": 61,
   "metadata": {
    "collapsed": false,
    "scrolled": false
   },
   "outputs": [
    {
     "name": "stdout",
     "output_type": "stream",
     "text": [
      "24.6423008442\n"
     ]
    }
   ],
   "source": [
    "t0 = time()\n",
    "sampler.run_mcmc(pos0, nsteps)\n",
    "print time()-t0"
   ]
  },
  {
   "cell_type": "code",
   "execution_count": 23,
   "metadata": {
    "collapsed": true
   },
   "outputs": [],
   "source": [
    "chain = sampler.chain[:, nburn:, :].reshape((-1, num_params))"
   ]
  },
  {
   "cell_type": "code",
   "execution_count": 55,
   "metadata": {
    "collapsed": false
   },
   "outputs": [
    {
     "data": {
      "text/plain": [
       "array([[ 0.61406449, -0.64888155],\n",
       "       [-0.38128505,  0.46567423],\n",
       "       [-0.42388985,  0.14812363],\n",
       "       [-1.87756603, -0.24989232]])"
      ]
     },
     "execution_count": 55,
     "metadata": {},
     "output_type": "execute_result"
    }
   ],
   "source": [
    "chain"
   ]
  },
  {
   "cell_type": "code",
   "execution_count": null,
   "metadata": {
    "collapsed": true
   },
   "outputs": [],
   "source": []
  }
 ],
 "metadata": {
  "kernelspec": {
   "display_name": "Python [conda env:hodemulator]",
   "language": "python",
   "name": "conda-env-hodemulator-py"
  },
  "language_info": {
   "codemirror_mode": {
    "name": "ipython",
    "version": 2
   },
   "file_extension": ".py",
   "mimetype": "text/x-python",
   "name": "python",
   "nbconvert_exporter": "python",
   "pygments_lexer": "ipython2",
   "version": "2.7.13"
  }
 },
 "nbformat": 4,
 "nbformat_minor": 0
}
