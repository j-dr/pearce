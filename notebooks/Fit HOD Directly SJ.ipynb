{
 "cells": [
  {
   "cell_type": "code",
   "execution_count": 1,
   "metadata": {
    "collapsed": false
   },
   "outputs": [],
   "source": [
    "from itertools import izip\n",
    "from time import time\n",
    "import numpy as np\n",
    "import astropy\n",
    "from pearce.mocks.customHODModels import *\n",
    "from pearce.mocks import cat_dict\n",
    "from scipy.optimize import minimize"
   ]
  },
  {
   "cell_type": "code",
   "execution_count": 2,
   "metadata": {
    "collapsed": true
   },
   "outputs": [],
   "source": [
    "from SloppyJoes import lazy_wrapper"
   ]
  },
  {
   "cell_type": "code",
   "execution_count": 3,
   "metadata": {
    "collapsed": true
   },
   "outputs": [],
   "source": [
    "from matplotlib import pyplot as plt\n",
    "%matplotlib inline\n",
    "import seaborn as sns\n",
    "sns.set()"
   ]
  },
  {
   "cell_type": "code",
   "execution_count": 4,
   "metadata": {
    "collapsed": true
   },
   "outputs": [],
   "source": [
    "AB = True"
   ]
  },
  {
   "cell_type": "code",
   "execution_count": 5,
   "metadata": {
    "collapsed": false
   },
   "outputs": [],
   "source": [
    "PRIORS = {'f_c': (0, 1),\n",
    "          'alpha': (0, 2),\n",
    "          'logMmin':(10,14),\n",
    "          'logM1': (10, 15),\n",
    "          'logM0': (9,15),\n",
    "          'sigma_logM': (0.3, 1.5),\n",
    "          'logMcut': (9,15),\n",
    "          'logMlin':(9,15),\n",
    "          'f_cen': (0.0,1.0)}\n",
    "\n",
    "_cens_model = RedMagicCens\n",
    "cens_model = _cens_model(z = 0.0)\n",
    "#cens_model = AssembiasReddick14Cens()\n",
    "_sats_model = RedMagicSats\n",
    "#sats_model = AssembiasReddick14Sats()\n",
    "\n",
    "cosmo_params = {'simname':'chinchilla', 'Lbox':400.0, 'scale_factors':[0.658, 1.0]}\n",
    "\n",
    "cat = cat_dict[cosmo_params['simname']](**cosmo_params)#construct the specified catalog!\n",
    "\n",
    "cat.load(1.0, HOD=(_cens_model, _sats_model), hod_kwargs = {'cenocc_model': cens_model})\n",
    "\n",
    "LBOX = 400.0\n",
    "\n",
    "#sats_model.modulate_with_cenocc = False"
   ]
  },
  {
   "cell_type": "code",
   "execution_count": 6,
   "metadata": {
    "collapsed": false
   },
   "outputs": [
    {
     "data": {
      "text/plain": [
       "OrderedDict([('centrals_occupation',\n",
       "              <pearce.mocks.customHODModels.RedMagicCens at 0x7fb8bd140c50>),\n",
       "             ('satellites_occupation',\n",
       "              <pearce.mocks.customHODModels.RedMagicSats at 0x7fb8bd140cd0>),\n",
       "             ('centrals_profile',\n",
       "              <halotools.empirical_models.phase_space_models.analytic_models.centrals.trivial_phase_space.TrivialPhaseSpace at 0x7fb8bd140d10>),\n",
       "             ('satellites_profile',\n",
       "              <halotools.empirical_models.phase_space_models.analytic_models.satellites.nfw.nfw_phase_space.NFWPhaseSpace at 0x7fb8bd140d50>)])"
      ]
     },
     "execution_count": 6,
     "metadata": {},
     "output_type": "execute_result"
    }
   ],
   "source": [
    "cat.model.model_dictionary"
   ]
  },
  {
   "cell_type": "code",
   "execution_count": 7,
   "metadata": {
    "collapsed": true
   },
   "outputs": [],
   "source": [
    "cens_model = cat.model.model_dictionary['centrals_occupation']\n",
    "sats_model = cat.model.model_dictionary['satellites_occupation']"
   ]
  },
  {
   "cell_type": "code",
   "execution_count": 8,
   "metadata": {
    "collapsed": false
   },
   "outputs": [],
   "source": [
    "def resids(theta,params,cens_occ, sats_occ,mbc):\n",
    "      \n",
    "    cens_model.param_dict['f_c'] = 1.0\n",
    "    sats_model.param_dict['f_c'] = 1.0\n",
    "    cat.model.param_dict['f_c'] = 1.0\n",
    "    cens_model.param_dict.update({p:x for p, x in izip(params, theta)})\n",
    "    sats_model.param_dict.update({p:x for p, x in izip(params, theta)})\n",
    "    cat.model.param_dict.update({p:x for p, x in izip(params, theta)})\n",
    "\n",
    "    cens_preds = cens_model.mean_occupation(prim_haloprop = mbc)\n",
    "    sats_preds = sats_model.mean_occupation(prim_haloprop = mbc)\n",
    "\n",
    "    #Weird edge cases can occur?\n",
    "    cens_preds[cens_preds < 1e-9] = 0\n",
    "    sats_preds[sats_preds < 1e-9] = 0\n",
    "    \n",
    "\n",
    "    cens_vars = cens_preds*(1-cens_preds)+1e-6\n",
    "    sats_vars = sats_preds + 1e-6\n",
    "\n",
    "    Ngal_pred = np.sum(cens_preds+sats_preds)\n",
    "    Ngal_obs = np.sum(cens_occ+sats_occ)\n",
    "    \n",
    "\n",
    "    idx = sats_occ > 0\n",
    "    #log_sats_diff = (np.log10(sats_preds) - np.log10(sats_occ) )\n",
    "    #log_sats_diff[np.isnan(log_sats_diff)] = 0.0\n",
    "    #log_sats_diff[log_sats_diff == -np.inf] = 0.0\n",
    "    #log_sats_diff[log_sats_diff == np.inf] = 0.0\n",
    "        \n",
    "\n",
    "    return np.r_[ (cens_preds-cens_occ),sats_preds-sats_occ, np.array([Ngal_pred-Ngal_obs]) ]\n",
    "\n",
    "    #return np.r_[cens_preds[0,:]-cens_occs[0,:], Ngal_pred-Ngal_obs]"
   ]
  },
  {
   "cell_type": "code",
   "execution_count": 9,
   "metadata": {
    "collapsed": false
   },
   "outputs": [
    {
     "name": "stderr",
     "output_type": "stream",
     "text": [
      "WARNING: path= was not specified but multiple tables are present, reading in first available table (path=abmatched_halos.hdf5) [astropy.io.misc.hdf5]\n",
      "WARNING:astropy:path= was not specified but multiple tables are present, reading in first available table (path=abmatched_halos.hdf5)\n"
     ]
    }
   ],
   "source": [
    "catalog = astropy.table.Table.read('/u/ki/swmclau2/des/AB_tests/abmatched_halos.hdf5', format = 'hdf5')"
   ]
  },
  {
   "cell_type": "code",
   "execution_count": 10,
   "metadata": {
    "collapsed": false
   },
   "outputs": [],
   "source": [
    "mag_cut = -21\n",
    "min_ptcl = 200\n",
    "if AB:\n",
    "    catalog = catalog[np.logical_and(catalog['halo_mvir'] > min_ptcl*cat.pmass, catalog['halo_vpeak_mag'] <=mag_cut)]\n",
    "else:\n",
    "    catalog = catalog[np.logical_and(catalog['halo_mvir'] > min_ptcl*cat.pmass, catalog['halo_vvir_mag'] <=mag_cut)]"
   ]
  },
  {
   "cell_type": "raw",
   "metadata": {
    "collapsed": false
   },
   "source": [
    "if not AB:\n",
    "    MAP = np.array([ 12.64539386,  14.15396837,   0.52641264,   0.22234201,\n",
    "        14.34871275,   1.07989646,  12.81902682])\n",
    "else:\n",
    "    MAP = np.array([ 12.72747382,  14.24964974,   0.55068739,   0.18672767,\n",
    "        14.00597843,   1.06836772,  12.88931659])\n",
    "       \n",
    "names = ['logMmin', 'logMlin', 'sigma_logM', 'f_cen', 'logM1', 'alpha', 'logMcut']\n",
    "hod_params = dict(zip(names, MAP))"
   ]
  },
  {
   "cell_type": "code",
   "execution_count": 11,
   "metadata": {
    "collapsed": false
   },
   "outputs": [],
   "source": [
    "if not AB:\n",
    "    pass\n",
    "else:\n",
    "    MAP = np.array([ 12.87956269,  12.24461447,   0.5345765,   13.98105124,   1.04527197])\n",
    "       \n",
    "['$\\\\log{M_{min}}$', '$\\\\log{M_0}$', '$\\\\sigma_{log{M}}$', '$\\\\log{M_1}$', '$\\\\alpha$']\n",
    "\n",
    "names = ['logMmin', 'logM0', 'sigma_logM',  'logM1', 'alpha']\n",
    "hod_params = dict(zip(names, MAP))"
   ]
  },
  {
   "cell_type": "code",
   "execution_count": 12,
   "metadata": {
    "collapsed": true
   },
   "outputs": [],
   "source": [
    "ab_params = {'mean_occupation_centrals_assembias_param1':0.4, 'mean_occupation_satellites_assembias_slope1':3,\\\n",
    "             'mean_occupation_satellites_assembias_param1':-0.5, 'mean_occupation_centrals_assembias_slope1':3,}"
   ]
  },
  {
   "cell_type": "code",
   "execution_count": 13,
   "metadata": {
    "collapsed": false
   },
   "outputs": [],
   "source": [
    "sats_model.param_dict.update(cens_model.param_dict)"
   ]
  },
  {
   "cell_type": "code",
   "execution_count": 14,
   "metadata": {
    "collapsed": false
   },
   "outputs": [],
   "source": [
    "param_dict = hod_params\n",
    "#param_dict.update(ab_params)\n",
    "cens_model.param_dict.update(param_dict)\n",
    "sats_model.param_dict.update(param_dict)\n",
    "\n",
    "params = sats_model.param_dict.keys()\n",
    "########################\n",
    "params.remove('f_c')\n",
    "#######################3\n",
    "ndim = len(params)"
   ]
  },
  {
   "cell_type": "code",
   "execution_count": 15,
   "metadata": {
    "collapsed": false
   },
   "outputs": [],
   "source": [
    "halo_table = cat.halocat.halo_table[cat.halocat.halo_table['halo_mvir'] > min_ptcl*cat.pmass]"
   ]
  },
  {
   "cell_type": "code",
   "execution_count": 16,
   "metadata": {
    "collapsed": true
   },
   "outputs": [],
   "source": [
    "detected_central_ids = set(catalog[catalog['halo_upid']==-1]['halo_id'])"
   ]
  },
  {
   "cell_type": "code",
   "execution_count": 17,
   "metadata": {
    "collapsed": true
   },
   "outputs": [],
   "source": [
    "from collections import Counter\n",
    "def compute_occupations(halo_table):\n",
    "    #halo_table = cat.halocat.halo_table[cat.halocat.halo_table['halo_mvir'] > min_ptcl*cat.pmass]\n",
    "\n",
    "    cens_occ = np.zeros((np.sum(halo_table['halo_upid'] == -1),))\n",
    "    #cens_occ = np.zeros((len(halo_table),))\n",
    "    sats_occ = np.zeros_like(cens_occ)\n",
    "    detected_central_ids = set(catalog[catalog['halo_upid']==-1]['halo_id'])\n",
    "    detected_satellite_upids = Counter(catalog[catalog['halo_upid']!=-1]['halo_upid'])\n",
    "\n",
    "    for idx, row  in enumerate(halo_table[halo_table['halo_upid'] == -1]):\n",
    "        cens_occ[idx] = 1.0 if row['halo_id'] in detected_central_ids else 0.0\n",
    "        sats_occ[idx]+= detected_satellite_upids[row['halo_id']]\n",
    "\n",
    "    return cens_occ, sats_occ"
   ]
  },
  {
   "cell_type": "code",
   "execution_count": 18,
   "metadata": {
    "collapsed": true
   },
   "outputs": [],
   "source": [
    "from halotools.utils.table_utils import compute_prim_haloprop_bins\n",
    "def compute_hod(masses, centrals, satellites, mass_bins):\n",
    "    mass_bin_idxs = compute_prim_haloprop_bins(prim_haloprop_bin_boundaries=mass_bins, prim_haloprop = masses)\n",
    "    mass_bin_nos = set(mass_bin_idxs)\n",
    "\n",
    "    cens_occ = np.zeros((mass_bins.shape[0]-1,))\n",
    "    sats_occ = np.zeros_like(cens_occ)\n",
    "    for mb in mass_bin_nos:\n",
    "        indices_of_mb = np.where(mass_bin_idxs == mb)[0]\n",
    "        denom = len(indices_of_mb)\n",
    "        #TODO what to do about bout 0 mean std's?\n",
    "        cens_occ[mb-1] = np.mean(centrals[indices_of_mb])\n",
    "        sats_occ[mb-1] = np.mean(satellites[indices_of_mb])\n",
    "    return cens_occ, sats_occ"
   ]
  },
  {
   "cell_type": "code",
   "execution_count": 19,
   "metadata": {
    "collapsed": true
   },
   "outputs": [],
   "source": [
    "mass_bin_range = (9,16)\n",
    "mass_bin_size = 0.1\n",
    "mass_bins = np.logspace(mass_bin_range[0], mass_bin_range[1], int( (mass_bin_range[1]-mass_bin_range[0])/mass_bin_size )+1 )\n",
    "mbc = (mass_bins[1:]+mass_bins[:-1])/2"
   ]
  },
  {
   "cell_type": "code",
   "execution_count": 20,
   "metadata": {
    "collapsed": false
   },
   "outputs": [],
   "source": [
    "cens_occ, sats_occ = compute_occupations(halo_table )\n",
    "mock_masses = halo_table[halo_table['halo_upid']==-1]['halo_mvir']\n",
    "#mock_concentrations = halo_table[halo_table['halo_upid']==-1]['halo_nfw_conc']"
   ]
  },
  {
   "cell_type": "raw",
   "metadata": {
    "collapsed": false,
    "scrolled": true
   },
   "source": [
    "from halotools.utils.table_utils import compute_conditional_percentiles\n",
    "mock_percentiles = compute_conditional_percentiles(prim_haloprop = mock_masses, sec_haloprop = mock_concentrations,\n",
    "                                              prim_haloprop_bin_boundaries= mass_bins)\n",
    "\n",
    "splits = np.arange(0,1.1,0.2)"
   ]
  },
  {
   "cell_type": "code",
   "execution_count": 21,
   "metadata": {
    "collapsed": true
   },
   "outputs": [],
   "source": [
    "cen_hod, sat_hod = compute_hod(mock_masses, cens_occ, sats_occ, mass_bins)"
   ]
  },
  {
   "cell_type": "raw",
   "metadata": {
    "collapsed": false
   },
   "source": [
    "cens_occs, sats_occs = [],[]\n",
    "\n",
    "for idx, p in enumerate(splits[:-1]):\n",
    "    split_idxs = np.logical_and(p<= mock_percentiles, mock_percentiles < splits[idx+1])\n",
    "    \n",
    "    _cens_occ, _sats_occ = compute_hod(mock_masses[split_idxs], cens_occ[split_idxs], sats_occ[split_idxs], mass_bins)\n",
    "    \n",
    "    cens_occs.append(_cens_occ)\n",
    "    sats_occs.append(_sats_occ)\n",
    "    \n",
    "    #mass_bin_idxs = compute_prim_haloprop_bins(prim_haloprop_bin_boundaries=mass_bins, prim_haloprop = mock_masses[split_idxs])\n",
    "    #mass_bin_nos = set(mass_bin_idxs)\n",
    "\n",
    "    #for mb in mass_bin_nos:\n",
    "    #    indices_of_mb = np.where(mass_bin_idxs == mb)[0]\n",
    "    #    haloprop_grid[mb-1, idx] = np.mean(mock_concentrations[split_idxs][indices_of_mb])"
   ]
  },
  {
   "cell_type": "raw",
   "metadata": {
    "collapsed": false
   },
   "source": [
    "from halotools.utils.table_utils import compute_conditional_percentile_values\n",
    "sp_values = np.zeros((len(mass_bins)-1, (len(splits)-1)))\n",
    "spv_median = np.zeros((len(mass_bins)-1,))\n",
    "\n",
    "mass_bin_idxs = compute_prim_haloprop_bins(prim_haloprop_bin_boundaries=mass_bins, prim_haloprop = mock_masses[split_idxs])\n",
    "mass_bin_nos = set(mass_bin_idxs)\n",
    "\n",
    "q = ((splits[1:]+splits[:-1])/2)*100\n",
    "\n",
    "for mb in mass_bin_nos:\n",
    "    indices_of_mb = np.where(mass_bin_idxs == mb)[0]\n",
    "    sp_values[mb-1, :] = np.percentile(mock_concentrations[indices_of_mb], q)\n",
    "    \n",
    "    spv_median[mb-1] = np.percentile(mock_concentrations[indices_of_mb], 50)"
   ]
  },
  {
   "cell_type": "raw",
   "metadata": {
    "collapsed": false
   },
   "source": [
    "for co, so, p in izip(cens_occs, sats_occs, splits[1:]):\n",
    "    plt.plot(mbc, co, label =p )\n",
    "\n",
    "    \n",
    "plt.plot(mbc, cen_hod, lw = 2)\n",
    "    \n",
    "plt.legend(loc='best')\n",
    "plt.loglog()\n",
    "plt.xlim([1e11,1e16])\n",
    "plt.ylim([1e-3,1.1])\n",
    "plt.show();"
   ]
  },
  {
   "cell_type": "raw",
   "metadata": {
    "collapsed": false
   },
   "source": [
    "cens_model.param_dict['mean_occupation_centals_assembias_slope1'] = 1.2\n",
    "cens_model.param_dict['f_c'] = 1.0\n",
    "sats_model.param_dict['f_c'] = 1.0\n",
    "sats_model.param_dict['mean_occupation_satellites_assembias_slope1'] = 1.2"
   ]
  },
  {
   "cell_type": "raw",
   "metadata": {
    "collapsed": false
   },
   "source": [
    "arg1 = np.tile(mbc, sp_values.shape[1])\n",
    "arg2 = sp_values.reshape((-1,), order = 'F')\n",
    "arg3 = np.tile(spv_median, sp_values.shape[1])\n",
    "\n",
    "cens_preds = cens_model.mean_occupation(prim_haloprop = arg1,\\\n",
    "                                        sec_haloprop = arg2,\\\n",
    "                                        sec_haloprop_percentile_values = arg3)\n",
    "sats_preds = sats_model.mean_occupation(prim_haloprop = arg1,\\\n",
    "                                        sec_haloprop = arg2,\\\n",
    "                                        sec_haloprop_percentile_values = arg3)\n",
    "\n",
    "cens_preds = cens_preds.reshape((-1, sp_values.shape[1]), order = 'F')\n",
    "sats_preds = sats_preds.reshape((-1, sp_values.shape[1]), order = 'F')\n",
    "\n",
    "for p, cp, sp, co, so in zip(splits, cens_preds.T, sats_preds.T, cens_occs, sats_occs,):\n",
    "    plt.plot(mbc, (cp+sp)/(co+so), label = p+0.25 )\n",
    "    \n",
    "    \n",
    "plt.legend(loc='best')\n",
    "plt.loglog()\n",
    "plt.xlim([1e11,1e16])\n",
    "plt.ylim([1e-3,20])\n",
    "plt.show();"
   ]
  },
  {
   "cell_type": "code",
   "execution_count": 22,
   "metadata": {
    "collapsed": false
   },
   "outputs": [
    {
     "data": {
      "text/plain": [
       "['logM0', 'sigma_logM', 'logMmin', 'alpha', 'logM1']"
      ]
     },
     "execution_count": 22,
     "metadata": {},
     "output_type": "execute_result"
    }
   ],
   "source": [
    "param_dict.keys()"
   ]
  },
  {
   "cell_type": "code",
   "execution_count": 23,
   "metadata": {
    "collapsed": false
   },
   "outputs": [
    {
     "data": {
      "text/plain": [
       "['logMmin', 'logM0', 'logM1', 'sigma_logM', 'alpha']"
      ]
     },
     "execution_count": 23,
     "metadata": {},
     "output_type": "execute_result"
    }
   ],
   "source": [
    "params"
   ]
  },
  {
   "cell_type": "code",
   "execution_count": 24,
   "metadata": {
    "collapsed": false
   },
   "outputs": [
    {
     "name": "stdout",
     "output_type": "stream",
     "text": [
      "['logMmin', 'logM0', 'logM1', 'sigma_logM', 'alpha']\n"
     ]
    }
   ],
   "source": [
    "vals = np.array([param_dict[key] for key in params])\n",
    "cens_idxs = halo_table['halo_upid'] == -1\n",
    "args = (params, cen_hod, sat_hod,mbc)\n",
    "print params"
   ]
  },
  {
   "cell_type": "code",
   "execution_count": 25,
   "metadata": {
    "collapsed": false
   },
   "outputs": [
    {
     "name": "stdout",
     "output_type": "stream",
     "text": [
      "0.15759\n"
     ]
    }
   ],
   "source": [
    "test = cens_model.mean_occupation(prim_haloprop = cat.halocat.halo_table['halo_mvir'][:100],\\\n",
    "                           sec_haloprop= cat.halocat.halo_table['halo_nfw_conc'][:100])\n",
    "print np.mean(test)"
   ]
  },
  {
   "cell_type": "code",
   "execution_count": 26,
   "metadata": {
    "collapsed": false
   },
   "outputs": [
    {
     "data": {
      "text/plain": [
       "(70,)"
      ]
     },
     "execution_count": 26,
     "metadata": {},
     "output_type": "execute_result"
    }
   ],
   "source": [
    "mbc.shape"
   ]
  },
  {
   "cell_type": "code",
   "execution_count": 27,
   "metadata": {
    "collapsed": false
   },
   "outputs": [
    {
     "data": {
      "text/plain": [
       "array([  0.00000000e+00,   0.00000000e+00,   0.00000000e+00,\n",
       "         0.00000000e+00,   0.00000000e+00,   0.00000000e+00,\n",
       "         0.00000000e+00,   0.00000000e+00,   0.00000000e+00,\n",
       "         0.00000000e+00,   0.00000000e+00,   0.00000000e+00,\n",
       "         0.00000000e+00,   0.00000000e+00,   0.00000000e+00,\n",
       "         0.00000000e+00,   1.92310889e-09,   9.21506549e-09,\n",
       "         4.12490401e-08,   1.72512185e-07,   6.74209182e-07,\n",
       "        -1.54545046e-05,  -2.41809814e-07,  -5.14059728e-06,\n",
       "        -4.30341950e-05,   5.91528749e-05,   2.19006209e-04,\n",
       "         9.79398635e-04,   1.97621925e-03,   3.72693145e-03,\n",
       "         4.37264713e-03,   3.03853183e-03,  -4.88660399e-03,\n",
       "        -1.44916030e-02,  -3.11686816e-02,  -3.50731206e-02,\n",
       "        -3.25137574e-02,  -3.13198331e-02,  -8.44932522e-03,\n",
       "         1.93597003e-02,   5.12606194e-02,   9.07572007e-02,\n",
       "         1.07861284e-01,   1.23626500e-01,   1.17220326e-01,\n",
       "         1.06360477e-01,   1.09822991e-01,   6.02529602e-02,\n",
       "         7.33709662e-02,   5.97304470e-02,   3.22311295e-02,\n",
       "         2.94728805e-02,   1.20057131e-02,  -4.85721691e-05,\n",
       "         8.38759907e-03,  -4.78400202e-06,  -1.35763110e-06,\n",
       "        -3.60148860e-07,  -8.92888545e-08,  -2.06844349e-08,\n",
       "        -4.47658766e-09,  -9.04985420e-10,  -1.70870984e-10,\n",
       "        -3.01283443e-11,  -4.96036545e-12,   1.00000000e+00,\n",
       "         1.00000000e+00,   1.00000000e+00,   1.00000000e+00,\n",
       "         1.00000000e+00,   0.00000000e+00,   0.00000000e+00,\n",
       "         0.00000000e+00,   0.00000000e+00,   0.00000000e+00,\n",
       "         0.00000000e+00,   0.00000000e+00,   0.00000000e+00,\n",
       "         0.00000000e+00,   0.00000000e+00,   0.00000000e+00,\n",
       "         0.00000000e+00,   0.00000000e+00,   0.00000000e+00,\n",
       "         0.00000000e+00,   0.00000000e+00,   0.00000000e+00,\n",
       "         0.00000000e+00,   0.00000000e+00,   0.00000000e+00,\n",
       "         0.00000000e+00,   0.00000000e+00,   0.00000000e+00,\n",
       "         0.00000000e+00,   0.00000000e+00,   0.00000000e+00,\n",
       "         0.00000000e+00,  -1.17647059e-05,  -1.42649282e-05,\n",
       "        -1.74498752e-05,   0.00000000e+00,  -2.60044208e-05,\n",
       "        -2.01298743e-05,   2.56077850e-04,   2.88551247e-04,\n",
       "         1.05194605e-03,   1.71365788e-03,   3.11862681e-03,\n",
       "         3.30955491e-03,   7.43641802e-03,   9.93341006e-03,\n",
       "         8.95481658e-03,   4.36164682e-03,   1.09943054e-02,\n",
       "         2.17796569e-02,  -1.61145161e-02,  -5.82342405e-03,\n",
       "        -6.54099488e-02,  -8.48686677e-02,  -6.06539822e-02,\n",
       "        -1.39253750e-01,  -1.82544049e-01,  -1.36824733e-01,\n",
       "        -3.02668303e-01,  -7.72723672e-01,  -1.26351647e-02,\n",
       "        -2.68553208e-01,  -1.29640548e+00,  -3.44712977e-01,\n",
       "         4.12746699e+00,   3.17157216e+00,   2.76139670e+00,\n",
       "         8.32813382e+00,   1.51376191e+01,   9.52802653e+00,\n",
       "         4.39295532e+01,   5.58894603e+01,   7.11039283e+01,\n",
       "         9.04585807e+01,   1.15080034e+02,   4.21757761e+02])"
      ]
     },
     "execution_count": 27,
     "metadata": {},
     "output_type": "execute_result"
    }
   ],
   "source": [
    "resids(vals, *args)"
   ]
  },
  {
   "cell_type": "code",
   "execution_count": 28,
   "metadata": {
    "collapsed": false
   },
   "outputs": [
    {
     "name": "stdout",
     "output_type": "stream",
     "text": [
      "\n",
      "        Optimizing with Geodesic-Levenberg-Marquardt algorithm, version 1.1\n",
      "\n",
      "        Method Details:\n",
      "        Update method: 0\n",
      "        acceleration: 1\n",
      "        Bold method: 2\n",
      "        Broyden updates: 0\n",
      "Initial Cost: 104923.368\n",
      "Optimization finished\n",
      "Results:\n",
      "  Converged:     maxfev exceeded -2\n",
      "  Final Cost:  441.22439089\n",
      "  Cost/DOF:  3.24429699184\n",
      "  niters:      124\n",
      "  nfev:        506\n",
      "  njev:        0\n",
      "  naev:        0\n",
      "  napprox:     0.0\n",
      "  ngrad:       0.0\n",
      "  ndtd:        0.0\n"
     ]
    },
    {
     "data": {
      "text/plain": [
       "array([ 13.14056141,  12.63214694,  12.2848894 ,   0.97752709,   0.25356338])"
      ]
     },
     "execution_count": 28,
     "metadata": {},
     "output_type": "execute_result"
    }
   ],
   "source": [
    "lazy_wrapper(resids, vals, func_args = args,maxfev = 500, print_level = 1, artol = 1e-6)"
   ]
  },
  {
   "cell_type": "code",
   "execution_count": 29,
   "metadata": {
    "collapsed": false
   },
   "outputs": [
    {
     "name": "stdout",
     "output_type": "stream",
     "text": [
      "['logMmin', 'logM0', 'logM1', 'sigma_logM', 'alpha']\n"
     ]
    }
   ],
   "source": [
    "print params"
   ]
  },
  {
   "cell_type": "code",
   "execution_count": 30,
   "metadata": {
    "collapsed": false
   },
   "outputs": [
    {
     "name": "stdout",
     "output_type": "stream",
     "text": [
      "[ 12.87956269  12.24461447   0.5345765   13.98105124   1.04527197]\n"
     ]
    }
   ],
   "source": [
    "print MAP"
   ]
  },
  {
   "cell_type": "code",
   "execution_count": null,
   "metadata": {
    "collapsed": true
   },
   "outputs": [],
   "source": []
  }
 ],
 "metadata": {
  "kernelspec": {
   "display_name": "Python [conda env:hodemulator]",
   "language": "python",
   "name": "conda-env-hodemulator-py"
  },
  "language_info": {
   "codemirror_mode": {
    "name": "ipython",
    "version": 2
   },
   "file_extension": ".py",
   "mimetype": "text/x-python",
   "name": "python",
   "nbconvert_exporter": "python",
   "pygments_lexer": "ipython2",
   "version": "2.7.13"
  }
 },
 "nbformat": 4,
 "nbformat_minor": 0
}
