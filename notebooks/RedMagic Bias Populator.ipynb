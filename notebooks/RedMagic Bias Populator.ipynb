{
 "cells": [
  {
   "cell_type": "markdown",
   "metadata": {},
   "source": [
    "Developing a populator for our RegMagic bias calculation. \n",
    "\n",
    "We need to populate both redmapper and redmagic HODs, then project them down while keeping track of galaxies. \n",
    "\n",
    "This just handles the joint population. \n",
    "\n",
    "Currently using pearce, but we may want to make this pure halotools. "
   ]
  },
  {
   "cell_type": "code",
   "execution_count": 1,
   "metadata": {
    "collapsed": false
   },
   "outputs": [],
   "source": [
    "from pearce.mocks.kittens import cat_dict\n",
    "from halotools.empirical_models import Zheng07Cens, Zheng07Sats\n",
    "import numpy as np"
   ]
  },
  {
   "cell_type": "code",
   "execution_count": 2,
   "metadata": {
    "collapsed": true
   },
   "outputs": [],
   "source": [
    "a = 0.81120\n",
    "cosmo_params = {'simname':'chinchilla', 'Lbox':400.0, 'scale_factors':[a]}"
   ]
  },
  {
   "cell_type": "code",
   "execution_count": 3,
   "metadata": {
    "collapsed": true
   },
   "outputs": [],
   "source": [
    "cat = cat_dict[cosmo_params['simname']](**cosmo_params)#construct the specified catalog!"
   ]
  },
  {
   "cell_type": "code",
   "execution_count": 4,
   "metadata": {
    "collapsed": true
   },
   "outputs": [],
   "source": [
    "cat.load(a, tol = 0.01, HOD='hsabRedMagic', particles = False)#, hod_kwargs = {'sec_haloprop_key':'halo_log_nfw_conc'})#, hod_kwargs={'split': 0.5})"
   ]
  },
  {
   "cell_type": "code",
   "execution_count": 5,
   "metadata": {
    "collapsed": true
   },
   "outputs": [],
   "source": [
    "MAP = [12.3475794,   0.26163006,  0.30944855, 11.41793147,  0.44999606,  0.01446294,\n",
    " 13.94853439,  1.20729256]\n",
    "\n",
    "param_names = ['logMmin','mean_occupation_centrals_assembias_param1', 'f_c', 'logM0', 'sigma_logM',\n",
    "                                     'mean_occupation_satellites_assembias_param1',     'logM1',   'alpha']\n",
    "\n",
    "params = dict(zip(param_names, MAP))"
   ]
  },
  {
   "cell_type": "code",
   "execution_count": 6,
   "metadata": {
    "collapsed": false
   },
   "outputs": [
    {
     "name": "stderr",
     "output_type": "stream",
     "text": [
      "/u/ki/swmclau2/.local/lib/python2.7/site-packages/halotools/empirical_models/phase_space_models/analytic_models/monte_carlo_helpers.py:205: FutureWarning: Using a non-tuple sequence for multidimensional indexing is deprecated; use `arr[tuple(seq)]` instead of `arr[seq]`. In the future this will be interpreted as an array index, `arr[np.array(seq)]`, which will result either in an error or a different result.\n",
      "  self.rad_prof_func_table_indices[digitized_param_list]\n",
      "/u/ki/swmclau2/.local/lib/python2.7/site-packages/halotools/empirical_models/phase_space_models/analytic_models/monte_carlo_helpers.py:522: FutureWarning: Using a non-tuple sequence for multidimensional indexing is deprecated; use `arr[tuple(seq)]` instead of `arr[seq]`. In the future this will be interpreted as an array index, `arr[np.array(seq)]`, which will result either in an error or a different result.\n",
      "  self.rad_prof_func_table_indices[digitized_param_list]\n"
     ]
    }
   ],
   "source": [
    "cat.populate(params)"
   ]
  },
  {
   "cell_type": "code",
   "execution_count": 7,
   "metadata": {
    "collapsed": false
   },
   "outputs": [],
   "source": [
    "redmagic_table = cat.model.mock.galaxy_table"
   ]
  },
  {
   "cell_type": "code",
   "execution_count": 8,
   "metadata": {
    "collapsed": false
   },
   "outputs": [],
   "source": [
    "class RedMapperCens(Zheng07Cens):\n",
    "    '''Trivial RedMapper HOD. '''\n",
    "\n",
    "    def __init__(self, **kwargs):\n",
    "        super(RedMapperCens, self).__init__(**kwargs)\n",
    "\n",
    "        # Default values from our analysis\n",
    "        # has no params\n",
    "        self.param_dict = {}#.update(defaults)  # overwrite halotools zheng07 defaults with our own\n",
    "\n",
    "    def mean_occupation(self, **kwargs):\n",
    "        '''See Zheng07 for details.'''\n",
    "         \n",
    "        # Retrieve the array storing the mass-like variable\n",
    "        if 'table' in list(kwargs.keys()):\n",
    "            mass = kwargs['table'][self.prim_haloprop_key]\n",
    "        elif 'prim_haloprop' in list(kwargs.keys()):\n",
    "            mass = np.atleast_1d(kwargs['prim_haloprop'])\n",
    "        else:\n",
    "            msg = (\"\\nYou must pass either a ``table`` or ``prim_haloprop`` argument \\n\"\n",
    "                   \"to the ``mean_occupation`` function of the ``Zheng07Sats`` class.\\n\")\n",
    "            raise HalotoolsError(msg)\n",
    "        \n",
    "        min_mass = 5e13\n",
    "        over_idxs = mass > min_mass\n",
    "        mean_ncen = np.zeros_like(mass)\n",
    "        mean_ncen[over_idxs] = 1.0\n",
    "        return mean_ncen # all RedMapper clusters have centrals, for the masses we're interested in "
   ]
  },
  {
   "cell_type": "code",
   "execution_count": 9,
   "metadata": {
    "collapsed": true
   },
   "outputs": [],
   "source": [
    "class RedMapperSats(Zheng07Sats):\n",
    "    '''Tweak of Zheng model to add a new parameter, f_c, denoting a modified central fraction.'''\n",
    "\n",
    "    def __init__(self, cenocc_model, **kwargs):\n",
    "        # We define modulation to be true. An existing central model is required.\n",
    "        super(RedMapperSats, self).__init__(modulate_with_cenocc=True, cenocc_model=cenocc_model, **kwargs)\n",
    "        defaults = {'logM0': 0.0, 'logM1': 13.7, 'alpha': 1.02}\n",
    "        self.param_dict.update(defaults)\n",
    "        # It does not like that we have parameters defined multiple places.\n",
    "        # Required for the central occupations.\n",
    "        self._suppress_repeated_param_warning = True\n",
    "\n",
    "    def mean_occupation(self, **kwargs):\n",
    "        \"See Zheng07 for details\"\n",
    "        self.param_dict['logM0'] = 0.0 #defined to be 0\n",
    "        # could be an issue there\n",
    "\n",
    "        return super(RedMapperSats, self).mean_occupation(**kwargs)"
   ]
  },
  {
   "cell_type": "code",
   "execution_count": 10,
   "metadata": {
    "collapsed": false
   },
   "outputs": [],
   "source": [
    "cat.load_model(a, HOD = (RedMapperCens, RedMapperSats))"
   ]
  },
  {
   "cell_type": "code",
   "execution_count": 11,
   "metadata": {
    "collapsed": true
   },
   "outputs": [],
   "source": [
    "MAP = [13.94853439,  1.20729256]\n",
    "\n",
    "param_names = ['logM1',   'alpha']\n",
    "\n",
    "params = dict(zip(param_names, MAP))"
   ]
  },
  {
   "cell_type": "code",
   "execution_count": 12,
   "metadata": {
    "collapsed": false
   },
   "outputs": [],
   "source": [
    "cat.populate(params)"
   ]
  },
  {
   "cell_type": "code",
   "execution_count": 13,
   "metadata": {
    "collapsed": false
   },
   "outputs": [
    {
     "data": {
      "text/plain": [
       "{'alpha': 1.20729256, 'logM0': 0.0, 'logM1': 13.94853439}"
      ]
     },
     "execution_count": 13,
     "metadata": {},
     "output_type": "execute_result"
    }
   ],
   "source": [
    "cat.model.param_dict"
   ]
  },
  {
   "cell_type": "code",
   "execution_count": 14,
   "metadata": {
    "collapsed": true
   },
   "outputs": [],
   "source": [
    "redmapper_table = cat.model.mock.galaxy_table"
   ]
  },
  {
   "cell_type": "code",
   "execution_count": 15,
   "metadata": {
    "collapsed": false
   },
   "outputs": [
    {
     "data": {
      "text/html": [
       "&lt;Table length=7392&gt;\n",
       "<table id=\"table140501138886800\" class=\"table-striped table-bordered table-condensed\">\n",
       "<thead><tr><th>halo_upid</th><th>halo_hostid</th><th>conc_NFWmodel</th><th>halo_y</th><th>halo_x</th><th>halo_z</th><th>halo_vx</th><th>halo_vy</th><th>halo_vz</th><th>halo_rvir</th><th>halo_mvir</th><th>halo_id</th><th>halo_num_centrals</th><th>halo_num_satellites</th><th>gal_type</th><th>vx</th><th>host_centric_distance</th><th>vy</th><th>y</th><th>x</th><th>vz</th><th>z</th></tr></thead>\n",
       "<thead><tr><th>int64</th><th>int64</th><th>float32</th><th>float32</th><th>float32</th><th>float32</th><th>float32</th><th>float32</th><th>float32</th><th>float32</th><th>float32</th><th>int64</th><th>int32</th><th>int32</th><th>object</th><th>float32</th><th>float64</th><th>float32</th><th>float32</th><th>float32</th><th>float32</th><th>float32</th></tr></thead>\n",
       "<tr><td>-1</td><td>1447933572</td><td>4.3275557</td><td>77.76408</td><td>63.62292</td><td>241.76508</td><td>-419.37</td><td>-115.11</td><td>-136.1</td><td>2.241059</td><td>1031000000000000.0</td><td>1447933572</td><td>1</td><td>24</td><td>centrals</td><td>-419.37</td><td>0.0</td><td>-115.11</td><td>77.76408</td><td>63.62292</td><td>-136.1</td><td>241.76508</td></tr>\n",
       "<tr><td>-1</td><td>1447857613</td><td>3.7503612</td><td>71.19</td><td>14.17354</td><td>204.80847</td><td>391.32</td><td>-80.75</td><td>611.5</td><td>1.513612</td><td>317500000000000.0</td><td>1447857613</td><td>1</td><td>5</td><td>centrals</td><td>391.32</td><td>0.0</td><td>-80.75</td><td>71.19</td><td>14.17354</td><td>611.5</td><td>204.80847</td></tr>\n",
       "<tr><td>-1</td><td>1447404139</td><td>3.504818</td><td>19.97684</td><td>57.73826</td><td>251.97795</td><td>-166.29</td><td>-55.23</td><td>92.81</td><td>2.0720272</td><td>814600000000000.0</td><td>1447404139</td><td>1</td><td>16</td><td>centrals</td><td>-166.29</td><td>0.0</td><td>-55.23</td><td>19.97684</td><td>57.73826</td><td>92.81</td><td>251.97795</td></tr>\n",
       "<tr><td>-1</td><td>1447938520</td><td>4.8521743</td><td>48.5323</td><td>27.05964</td><td>217.8293</td><td>-133.2</td><td>33.32</td><td>675.21</td><td>1.60491</td><td>378500000000000.0</td><td>1447938520</td><td>1</td><td>4</td><td>centrals</td><td>-133.2</td><td>0.0</td><td>33.32</td><td>48.5323</td><td>27.05964</td><td>675.21</td><td>217.8293</td></tr>\n",
       "<tr><td>-1</td><td>1447332362</td><td>3.5551918</td><td>29.94991</td><td>43.79602</td><td>246.13686</td><td>176.81</td><td>-118.02</td><td>-108.25</td><td>1.536938</td><td>332400000000000.0</td><td>1447332362</td><td>1</td><td>3</td><td>centrals</td><td>176.81</td><td>0.0</td><td>-118.02</td><td>29.94991</td><td>43.79602</td><td>-108.25</td><td>246.13686</td></tr>\n",
       "<tr><td>-1</td><td>1448003507</td><td>2.4538229</td><td>59.09885</td><td>5.70921</td><td>261.27466</td><td>191.44</td><td>-194.77</td><td>-186.53</td><td>1.1537089</td><td>140600000000000.0</td><td>1448003507</td><td>1</td><td>3</td><td>centrals</td><td>191.44</td><td>0.0</td><td>-194.77</td><td>59.09885</td><td>5.70921</td><td>-186.53</td><td>261.27466</td></tr>\n",
       "<tr><td>-1</td><td>1447188320</td><td>6.3738856</td><td>13.59625</td><td>6.3488</td><td>126.37466</td><td>252.22</td><td>590.23</td><td>357.66</td><td>1.973132</td><td>703400000000000.0</td><td>1447188320</td><td>1</td><td>12</td><td>centrals</td><td>252.22</td><td>0.0</td><td>590.23</td><td>13.59625</td><td>6.3488</td><td>357.66</td><td>126.37466</td></tr>\n",
       "<tr><td>-1</td><td>1447706989</td><td>5.994402</td><td>64.36566</td><td>17.48224</td><td>92.56943</td><td>-425.41</td><td>-211.39</td><td>370.02</td><td>1.6791099</td><td>433500000000000.0</td><td>1447706989</td><td>1</td><td>13</td><td>centrals</td><td>-425.41</td><td>0.0</td><td>-211.39</td><td>64.36566</td><td>17.48224</td><td>370.02</td><td>92.56943</td></tr>\n",
       "<tr><td>-1</td><td>1447109270</td><td>8.246616</td><td>34.2258</td><td>2.00261</td><td>124.24074</td><td>-31.24</td><td>-47.53</td><td>-387.93</td><td>1.216112</td><td>164700000000000.0</td><td>1447109270</td><td>1</td><td>3</td><td>centrals</td><td>-31.24</td><td>0.0</td><td>-47.53</td><td>34.2258</td><td>2.00261</td><td>-387.93</td><td>124.24074</td></tr>\n",
       "<tr><td>-1</td><td>1447109777</td><td>7.5251503</td><td>44.4515</td><td>5.65282</td><td>121.57596</td><td>-275.85</td><td>-76.83</td><td>150.93</td><td>1.233613</td><td>171900000000000.0</td><td>1447109777</td><td>1</td><td>0</td><td>centrals</td><td>-275.85</td><td>0.0</td><td>-76.83</td><td>44.4515</td><td>5.65282</td><td>150.93</td><td>121.57596</td></tr>\n",
       "<tr><td>...</td><td>...</td><td>...</td><td>...</td><td>...</td><td>...</td><td>...</td><td>...</td><td>...</td><td>...</td><td>...</td><td>...</td><td>...</td><td>...</td><td>...</td><td>...</td><td>...</td><td>...</td><td>...</td><td>...</td><td>...</td><td>...</td></tr>\n",
       "<tr><td>-1</td><td>1460662683</td><td>3.1685042</td><td>346.75653</td><td>256.7079</td><td>262.1176</td><td>-56.84</td><td>174.85</td><td>19.51</td><td>0.895207</td><td>65690000000000.0</td><td>1460662683</td><td>1</td><td>3</td><td>satellites</td><td>96.15092</td><td>0.4210954321806324</td><td>107.37514</td><td>346.81982</td><td>256.71872</td><td>-320.82703</td><td>261.70145</td></tr>\n",
       "<tr><td>-1</td><td>1460662683</td><td>3.1685042</td><td>346.75653</td><td>256.7079</td><td>262.1176</td><td>-56.84</td><td>174.85</td><td>19.51</td><td>0.895207</td><td>65690000000000.0</td><td>1460662683</td><td>1</td><td>3</td><td>satellites</td><td>-381.53937</td><td>0.04219255173726579</td><td>47.47951</td><td>346.75858</td><td>256.72287</td><td>-605.0236</td><td>262.07822</td></tr>\n",
       "<tr><td>-1</td><td>1460662683</td><td>3.1685042</td><td>346.75653</td><td>256.7079</td><td>262.1176</td><td>-56.84</td><td>174.85</td><td>19.51</td><td>0.895207</td><td>65690000000000.0</td><td>1460662683</td><td>1</td><td>3</td><td>satellites</td><td>-397.09656</td><td>0.20906586408018873</td><td>-750.47144</td><td>346.74527</td><td>256.66406</td><td>619.5143</td><td>261.9135</td></tr>\n",
       "<tr><td>-1</td><td>1461252572</td><td>3.8574486</td><td>363.39594</td><td>250.68129</td><td>256.8595</td><td>-70.27</td><td>-318.9</td><td>579.35</td><td>0.87956</td><td>62310000000000.0</td><td>1461252572</td><td>1</td><td>1</td><td>satellites</td><td>168.83633</td><td>0.5531705299691708</td><td>-168.89088</td><td>363.26123</td><td>251.06827</td><td>619.43524</td><td>256.48788</td></tr>\n",
       "<tr><td>-1</td><td>1461103939</td><td>3.4057598</td><td>389.42032</td><td>223.81364</td><td>209.65276</td><td>-800.66</td><td>-231.32</td><td>-32.61</td><td>0.969</td><td>83310000000000.0</td><td>1461103939</td><td>1</td><td>1</td><td>satellites</td><td>-387.05167</td><td>0.8729077721538435</td><td>-257.4343</td><td>390.22415</td><td>223.77519</td><td>-636.8665</td><td>209.99094</td></tr>\n",
       "<tr><td>-1</td><td>1461257769</td><td>2.1644626</td><td>384.57776</td><td>223.42705</td><td>263.8971</td><td>-162.58</td><td>-26.29</td><td>-203.78</td><td>0.825065</td><td>51430000000000.0</td><td>1461257769</td><td>1</td><td>1</td><td>satellites</td><td>-897.3818</td><td>0.45874994897001964</td><td>141.86865</td><td>384.36322</td><td>223.73242</td><td>-80.15436</td><td>263.6303</td></tr>\n",
       "<tr><td>-1</td><td>1461186722</td><td>7.7734456</td><td>0.65917</td><td>237.16537</td><td>222.69563</td><td>-101.06</td><td>-452.07</td><td>286.14</td><td>0.874365</td><td>61210000000000.0</td><td>1461186722</td><td>1</td><td>1</td><td>satellites</td><td>160.0479</td><td>0.7245671512518402</td><td>-446.11832</td><td>0.5118408</td><td>236.91013</td><td>235.90634</td><td>222.0337</td></tr>\n",
       "<tr><td>-1</td><td>1461187292</td><td>6.2632465</td><td>368.10907</td><td>201.4483</td><td>234.7646</td><td>291.41</td><td>-55.8</td><td>81.47</td><td>0.842582</td><td>54780000000000.0</td><td>1461187292</td><td>1</td><td>1</td><td>satellites</td><td>-160.74559</td><td>0.12772838895377323</td><td>-922.349</td><td>368.1476</td><td>201.34918</td><td>442.91577</td><td>234.69385</td></tr>\n",
       "<tr><td>-1</td><td>1460524883</td><td>2.0</td><td>339.29733</td><td>206.37076</td><td>164.83545</td><td>574.52</td><td>580.42</td><td>-823.78</td><td>1.03826</td><td>102500000000000.0</td><td>1460524883</td><td>1</td><td>2</td><td>satellites</td><td>1778.5603</td><td>0.6232405748833761</td><td>175.17603</td><td>338.9268</td><td>205.90988</td><td>-392.91623</td><td>164.63872</td></tr>\n",
       "<tr><td>-1</td><td>1460524883</td><td>2.0</td><td>339.29733</td><td>206.37076</td><td>164.83545</td><td>574.52</td><td>580.42</td><td>-823.78</td><td>1.03826</td><td>102500000000000.0</td><td>1460524883</td><td>1</td><td>2</td><td>satellites</td><td>854.75104</td><td>0.3608594934788951</td><td>368.0143</td><td>339.47327</td><td>206.06311</td><td>-1374.4794</td><td>164.76747</td></tr>\n",
       "</table>"
      ],
      "text/plain": [
       "<Table length=7392>\n",
       "halo_upid halo_hostid conc_NFWmodel   halo_y  ...     x         vz         z    \n",
       "  int64      int64       float32     float32  ...  float32   float32    float32 \n",
       "--------- ----------- ------------- --------- ... --------- ---------- ---------\n",
       "       -1  1447933572     4.3275557  77.76408 ...  63.62292     -136.1 241.76508\n",
       "       -1  1447857613     3.7503612     71.19 ...  14.17354      611.5 204.80847\n",
       "       -1  1447404139      3.504818  19.97684 ...  57.73826      92.81 251.97795\n",
       "       -1  1447938520     4.8521743   48.5323 ...  27.05964     675.21  217.8293\n",
       "       -1  1447332362     3.5551918  29.94991 ...  43.79602    -108.25 246.13686\n",
       "       -1  1448003507     2.4538229  59.09885 ...   5.70921    -186.53 261.27466\n",
       "       -1  1447188320     6.3738856  13.59625 ...    6.3488     357.66 126.37466\n",
       "       -1  1447706989      5.994402  64.36566 ...  17.48224     370.02  92.56943\n",
       "       -1  1447109270      8.246616   34.2258 ...   2.00261    -387.93 124.24074\n",
       "       -1  1447109777     7.5251503   44.4515 ...   5.65282     150.93 121.57596\n",
       "      ...         ...           ...       ... ...       ...        ...       ...\n",
       "       -1  1460662683     3.1685042 346.75653 ... 256.71872 -320.82703 261.70145\n",
       "       -1  1460662683     3.1685042 346.75653 ... 256.72287  -605.0236 262.07822\n",
       "       -1  1460662683     3.1685042 346.75653 ... 256.66406   619.5143  261.9135\n",
       "       -1  1461252572     3.8574486 363.39594 ... 251.06827  619.43524 256.48788\n",
       "       -1  1461103939     3.4057598 389.42032 ... 223.77519  -636.8665 209.99094\n",
       "       -1  1461257769     2.1644626 384.57776 ... 223.73242  -80.15436  263.6303\n",
       "       -1  1461186722     7.7734456   0.65917 ... 236.91013  235.90634  222.0337\n",
       "       -1  1461187292     6.2632465 368.10907 ... 201.34918  442.91577 234.69385\n",
       "       -1  1460524883           2.0 339.29733 ... 205.90988 -392.91623 164.63872\n",
       "       -1  1460524883           2.0 339.29733 ... 206.06311 -1374.4794 164.76747"
      ]
     },
     "execution_count": 15,
     "metadata": {},
     "output_type": "execute_result"
    }
   ],
   "source": [
    "redmapper_table"
   ]
  },
  {
   "cell_type": "code",
   "execution_count": null,
   "metadata": {
    "collapsed": true
   },
   "outputs": [],
   "source": []
  }
 ],
 "metadata": {
  "kernelspec": {
   "display_name": "Python [conda env:hodemulator]",
   "language": "python",
   "name": "conda-env-hodemulator-py"
  },
  "language_info": {
   "codemirror_mode": {
    "name": "ipython",
    "version": 2
   },
   "file_extension": ".py",
   "mimetype": "text/x-python",
   "name": "python",
   "nbconvert_exporter": "python",
   "pygments_lexer": "ipython2",
   "version": "2.7.13"
  }
 },
 "nbformat": 4,
 "nbformat_minor": 0
}
