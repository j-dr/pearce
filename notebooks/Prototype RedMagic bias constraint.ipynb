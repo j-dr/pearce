{
 "cells": [
  {
   "cell_type": "markdown",
   "metadata": {},
   "source": [
    "I'm gonna port this to a script soon. I need to constrain the RedMagic HOD against nd, f_c, and $\\langle N_{gal} | M_{>e14} \\rangle$. I don't need to do any populations for this so it should be quick. "
   ]
  },
  {
   "cell_type": "code",
   "execution_count": 49,
   "metadata": {
    "collapsed": false
   },
   "outputs": [],
   "source": [
    "from pearce.mocks.kittens import cat_dict\n",
    "import numpy as np\n",
    "from astropy.cosmology import LambdaCDM\n",
    "from astropy.io import fits\n",
    "from scipy.linalg import inv\n",
    "from os import path"
   ]
  },
  {
   "cell_type": "code",
   "execution_count": 50,
   "metadata": {
    "collapsed": true
   },
   "outputs": [],
   "source": [
    "a = 0.81120\n",
    "z = 1./a -1\n",
    "cosmo_params = {'simname':'chinchilla', 'Lbox':400.0, 'scale_factors':[a]}"
   ]
  },
  {
   "cell_type": "code",
   "execution_count": 51,
   "metadata": {
    "collapsed": true
   },
   "outputs": [],
   "source": [
    "cat = cat_dict[cosmo_params['simname']](**cosmo_params)#construct the specified catalog!"
   ]
  },
  {
   "cell_type": "code",
   "execution_count": 52,
   "metadata": {
    "collapsed": true
   },
   "outputs": [],
   "source": [
    "cat.load(a, tol = 0.01, HOD='redMagic', particles = False)#, hod_kwargs = {'sec_haloprop_key':'halo_log_nfw_conc'})#, hod_kwargs={'split': 0.5})"
   ]
  },
  {
   "cell_type": "code",
   "execution_count": 53,
   "metadata": {
    "collapsed": false
   },
   "outputs": [
    {
     "name": "stdout",
     "output_type": "stream",
     "text": [
      "0.000284539736705 1 / Mpc3\n",
      "6.11545845728e-07 1 / Mpc3\n"
     ]
    }
   ],
   "source": [
    "#vals to constrain\n",
    "\n",
    "fname = '/u/ki/jderose/public_html/bcc/measurement/y3/3x2pt/buzzard/flock/buzzard-2/tpt_Y3_v0.fits'\n",
    "hdulist = fits.open(fname)\n",
    "zbin = 1\n",
    "z_bins = np.array([0.15, 0.3, 0.45, 0.6, 0.75, 0.9])\n",
    "nz_zspec = hdulist[8]\n",
    "N= sum(row[2+zbin] for row in nz_zspec.data)\n",
    "\n",
    "area = 5063 #sq degrees\n",
    "full_sky = 41253 #sq degrees\n",
    "\n",
    "buzzard = LambdaCDM(H0=70, Om0=0.286, Ode0=0.714, Tcmb0=2.725, Neff=3.04)\n",
    "#volIn, volOut = buzzard.comoving_volume(z_bins[zbin-1]), buzzard.comoving_volume(z_bins[zbin])\n",
    "volIn, volOut = buzzard.comoving_volume(z_bins[zbin-1]), buzzard.comoving_volume(z_bins[zbin])\n",
    "\n",
    "fullsky_volume = volOut-volIn\n",
    "survey_volume = fullsky_volume*area/full_sky\n",
    "nd = N/survey_volume\n",
    "print nd\n",
    "nd_std = np.sqrt(N)/survey_volume\n",
    "print nd_std"
   ]
  },
  {
   "cell_type": "code",
   "execution_count": 54,
   "metadata": {
    "collapsed": true
   },
   "outputs": [],
   "source": [
    "fc = 0.2\n",
    "fc_std = 0.1"
   ]
  },
  {
   "cell_type": "code",
   "execution_count": 55,
   "metadata": {
    "collapsed": true
   },
   "outputs": [],
   "source": [
    "Nm14 = 4\n",
    "Nmstd = 2"
   ]
  },
  {
   "cell_type": "code",
   "execution_count": 56,
   "metadata": {
    "collapsed": true
   },
   "outputs": [],
   "source": [
    "param_names = cat.model.param_dict.keys()\n",
    "param_bounds = {'logMmin': [11.5, 13.5], 'sigma_logM': [0.05, 0.6], 'logM0': [12.0, 16.0],\\\n",
    "                'logM1': [13.0, 15.0], 'alpha': [0.8, 1.2], 'f_c': [0.01, 0.5]}"
   ]
  },
  {
   "cell_type": "code",
   "execution_count": 67,
   "metadata": {
    "collapsed": false
   },
   "outputs": [
    {
     "name": "stdout",
     "output_type": "stream",
     "text": [
      " 0.05 0.00020628909633046424\n",
      "0.1111111111111111 0.00020851049937752077\n",
      "0.17222222222222222 0.00021247207162946357\n",
      "0.23333333333333328 0.00021823956539403035\n",
      "0.2944444444444444 0.00022592997789618545\n",
      "0.3555555555555555 0.00023571819784037686\n",
      "0.4166666666666666 0.00024778132252039324\n",
      "0.4777777777777777 0.00026215715888630017\n",
      "0.5388888888888889 0.00027861799966679974\n",
      "0.6 0.00029669791593415535\n"
     ]
    }
   ],
   "source": [
    "pname = 'sigma_logM'\n",
    "vals = np.linspace(param_bounds[pname][0], param_bounds[pname][1], 10)\n",
    "\n",
    "params = {'logMmin': 12.1, 'sigma_logM': 0.3, 'logM0': 14.0,\\\n",
    "                'logM1': 14.0, 'alpha': 1.0, 'f_c': 0.19}\n",
    "\n",
    "for v in vals:\n",
    "    params[pname] = v\n",
    "    print v, cat.calc_analytic_nd(params)"
   ]
  },
  {
   "cell_type": "code",
   "execution_count": 57,
   "metadata": {
    "collapsed": false
   },
   "outputs": [],
   "source": [
    "cov = np.diag(np.array([nd_std.value**2, fc_std**2, Nmstd**2]) )\n",
    "invcov = inv(cov)"
   ]
  },
  {
   "cell_type": "code",
   "execution_count": 58,
   "metadata": {
    "collapsed": true
   },
   "outputs": [],
   "source": [
    "def lnprior(theta, param_names, param_bounds, *args):\n",
    "    for p, t in izip(param_names, theta):\n",
    "        low, high = param_bounds[p]\n",
    "\n",
    "        if np.isnan(t) or t < low or t > high:\n",
    "            return -np.inf\n",
    "    return 0"
   ]
  },
  {
   "cell_type": "code",
   "execution_count": 59,
   "metadata": {
    "collapsed": false
   },
   "outputs": [],
   "source": [
    "hod_kwargs = {'mass_bin_range': (9,16),\n",
    "'mass_bin_size': 0.01,\n",
    "'min_ptcl': 200}\n",
    "mf = cat.calc_mf(**hod_kwargs)\n",
    "mass_bins = np.logspace(hod_kwargs['mass_bin_range'][0],\\\n",
    "                        hod_kwargs['mass_bin_range'][1],\\\n",
    "                        int( (hod_kwargs['mass_bin_range'][1]-hod_kwargs['mass_bin_range'][0])/hod_kwargs['mass_bin_size'] )+1 )\n"
   ]
  },
  {
   "cell_type": "code",
   "execution_count": 60,
   "metadata": {
    "collapsed": true
   },
   "outputs": [],
   "source": [
    "def lnlike(theta, param_names, param_bounds, obs_vals, invcov, mf, mass_bins, hod_kwargs):\n",
    "    params = dict(zip(param_names, theta))\n",
    "    f_c = params['f_c']\n",
    "    \n",
    "    hod = self.calc_hod(params, **hod_kwargs)\n",
    "    nd = np.sum(mf*hod)/((self.Lbox/self.h)**3)\n",
    "    Nm14 = np.mean(hod[mass_bins>10**14])\n",
    "    \n",
    "    pred_vals = np.array([nd, f_c, Nm14])\n",
    "    delta = pred_vals - obs_vals\n",
    "    return -delta.dot(invcov.dot(delta))"
   ]
  },
  {
   "cell_type": "code",
   "execution_count": 61,
   "metadata": {
    "collapsed": true
   },
   "outputs": [],
   "source": [
    "def lnprob(theta, *args):\n",
    "    \"\"\"\n",
    "    The total liklihood for an MCMC. Mostly a generic wrapper for the below functions.\n",
    "    :param theta:\n",
    "        Parameters for the proposal\n",
    "    :param args:\n",
    "        Arguments to pass into the liklihood\n",
    "    :return:\n",
    "        Log Liklihood of theta, a float.\n",
    "    \"\"\"\n",
    "    lp = lnprior(theta, *args)\n",
    "    if not np.isfinite(lp):\n",
    "        return -np.inf\n",
    "\n",
    "    return lp + lnlike(theta, *args)\n"
   ]
  },
  {
   "cell_type": "code",
   "execution_count": 62,
   "metadata": {
    "collapsed": true
   },
   "outputs": [],
   "source": [
    "nwalkers = 500\n",
    "nsteps = 5000\n",
    "nburn = 0"
   ]
  },
  {
   "cell_type": "code",
   "execution_count": 63,
   "metadata": {
    "collapsed": false
   },
   "outputs": [
    {
     "ename": "IOError",
     "evalue": "[Errno 2] No such file or directory: '/home/users/swmclau2/scratch/PearceMCMC/500_walkers_5000_steps_chain_wt_alt_redmagic_z0.23.npy'",
     "output_type": "error",
     "traceback": [
      "\u001b[1;31m---------------------------------------------------------------------------\u001b[0m",
      "\u001b[1;31mIOError\u001b[0m                                   Traceback (most recent call last)",
      "\u001b[1;32m<ipython-input-63-b21bfef08370>\u001b[0m in \u001b[0;36m<module>\u001b[1;34m()\u001b[0m\n\u001b[0;32m      2\u001b[0m \u001b[0mchain_fname\u001b[0m \u001b[1;33m=\u001b[0m \u001b[0mpath\u001b[0m\u001b[1;33m.\u001b[0m\u001b[0mjoin\u001b[0m\u001b[1;33m(\u001b[0m\u001b[0msavedir\u001b[0m\u001b[1;33m,\u001b[0m\u001b[1;34m'%d_walkers_%d_steps_chain_wt_alt_redmagic_z%.2f.npy'\u001b[0m\u001b[1;33m%\u001b[0m\u001b[1;33m(\u001b[0m\u001b[0mnwalkers\u001b[0m\u001b[1;33m,\u001b[0m \u001b[0mnsteps\u001b[0m\u001b[1;33m,\u001b[0m \u001b[0mz\u001b[0m\u001b[1;33m)\u001b[0m\u001b[1;33m)\u001b[0m\u001b[1;33m\u001b[0m\u001b[0m\n\u001b[0;32m      3\u001b[0m \u001b[1;33m\u001b[0m\u001b[0m\n\u001b[1;32m----> 4\u001b[1;33m \u001b[1;32mwith\u001b[0m \u001b[0mopen\u001b[0m\u001b[1;33m(\u001b[0m\u001b[0mchain_fname\u001b[0m\u001b[1;33m,\u001b[0m \u001b[1;34m'w'\u001b[0m\u001b[1;33m)\u001b[0m \u001b[1;32mas\u001b[0m \u001b[0mf\u001b[0m\u001b[1;33m:\u001b[0m\u001b[1;33m\u001b[0m\u001b[0m\n\u001b[0m\u001b[0;32m      5\u001b[0m     \u001b[0mf\u001b[0m\u001b[1;33m.\u001b[0m\u001b[0mwrite\u001b[0m\u001b[1;33m(\u001b[0m\u001b[1;34m'#'\u001b[0m \u001b[1;33m+\u001b[0m \u001b[1;34m'\\t'\u001b[0m\u001b[1;33m.\u001b[0m\u001b[0mjoin\u001b[0m\u001b[1;33m(\u001b[0m\u001b[0mparam_names\u001b[0m\u001b[1;33m)\u001b[0m\u001b[1;33m+\u001b[0m\u001b[1;34m'\\n'\u001b[0m\u001b[1;33m)\u001b[0m\u001b[1;33m\u001b[0m\u001b[0m\n",
      "\u001b[1;31mIOError\u001b[0m: [Errno 2] No such file or directory: '/home/users/swmclau2/scratch/PearceMCMC/500_walkers_5000_steps_chain_wt_alt_redmagic_z0.23.npy'"
     ]
    }
   ],
   "source": [
    "savedir = '/home/users/swmclau2/scratch/PearceMCMC/'\n",
    "chain_fname = path.join(savedir,'%d_walkers_%d_steps_chain_wt_alt_redmagic_z%.2f.npy'%(nwalkers, nsteps, z))\n",
    "\n",
    "with open(chain_fname, 'w') as f:\n",
    "    f.write('#' + '\\t'.join(param_names)+'\\n')"
   ]
  },
  {
   "cell_type": "code",
   "execution_count": null,
   "metadata": {
    "collapsed": true
   },
   "outputs": [],
   "source": [
    "ncores = 1\n",
    "num_params = len(param_names)\n",
    "\n",
    "sampler = mc.EnsembleSampler(nwalkers, num_params, lnprob,\n",
    "                             threads=ncores, args=(param_names, param_bounds, obs_vals, invcov, mf, mass_bins, hod_kwargs))\n",
    "\n",
    "\n",
    "for result in sampler.sample(pos0, iterations=nsteps, storechain=False):\n",
    "    with open(chain_fname, 'a') as f:\n",
    "        np.savetxt(f, pos[0])"
   ]
  }
 ],
 "metadata": {
  "kernelspec": {
   "display_name": "Python [conda env:hodemulator]",
   "language": "python",
   "name": "conda-env-hodemulator-py"
  },
  "language_info": {
   "codemirror_mode": {
    "name": "ipython",
    "version": 2
   },
   "file_extension": ".py",
   "mimetype": "text/x-python",
   "name": "python",
   "nbconvert_exporter": "python",
   "pygments_lexer": "ipython2",
   "version": "2.7.13"
  }
 },
 "nbformat": 4,
 "nbformat_minor": 0
}
