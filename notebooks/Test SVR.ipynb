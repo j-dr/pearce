{
 "cells": [
  {
   "cell_type": "code",
   "execution_count": 35,
   "metadata": {
    "collapsed": false
   },
   "outputs": [
    {
     "name": "stdout",
     "output_type": "stream",
     "text": [
      "The autoreload extension is already loaded. To reload it, use:\n",
      "  %reload_ext autoreload\n"
     ]
    }
   ],
   "source": [
    "%load_ext autoreload\n",
    "%autoreload 2"
   ]
  },
  {
   "cell_type": "code",
   "execution_count": 36,
   "metadata": {
    "collapsed": false
   },
   "outputs": [],
   "source": [
    "from pearce.emulator import OriginalRecipe, ExtraCrispy\n",
    "from pearce.emulator import parameter, DEFAULT_PARAMS as PARAMS"
   ]
  },
  {
   "cell_type": "code",
   "execution_count": 37,
   "metadata": {
    "collapsed": false
   },
   "outputs": [],
   "source": [
    "import numpy as np\n",
    "from matplotlib import pyplot as plt\n",
    "%matplotlib inline\n",
    "import seaborn as sns\n",
    "sns.set()\n",
    "from itertools import cycle\n",
    "colors = cycle(sns.color_palette())"
   ]
  },
  {
   "cell_type": "code",
   "execution_count": 38,
   "metadata": {
    "collapsed": true
   },
   "outputs": [],
   "source": [
    "training_dir = '/u/ki/swmclau2/des/PearceLHC_wp_rp'\n",
    "fiducial_params = {'logM0': 12.20, 'logM1': 13.7, 'alpha': 1.02,\n",
    "                      'logMmin': 12.1, 'f_c': 0.19, 'sigma_logM': 0.46}\n",
    "rbins = np.array([  0.06309573,   0.12437607,   0.24517359,   0.34422476, 0.48329302, 0.67854546,\\\n",
    "           0.9526807 , 1.33756775,1.8779508 ,   2.6366509 ,   3.70186906,   5.19743987, 7.29722764, \\\n",
    "           10.24533859,  14.38449888,  20.1958975 , 28.35512583,  39.81071706] )\n",
    "rpoints = (rbins[1:]+rbins[:-1])/2"
   ]
  },
  {
   "cell_type": "code",
   "execution_count": 39,
   "metadata": {
    "collapsed": true
   },
   "outputs": [],
   "source": [
    "y_param = 'logMmin'\n",
    "emulation_point = [('f_c', 0.233), ('logM0', 12.0), ('sigma_logM', 0.533), \n",
    "                   ('alpha', 1.083),('logM1', 13.5), ('logMmin', 12.233)]\n",
    "em_params = dict(emulation_point)\n",
    "del em_params[y_param]"
   ]
  },
  {
   "cell_type": "code",
   "execution_count": 40,
   "metadata": {
    "collapsed": false
   },
   "outputs": [],
   "source": [
    "y_param_idx = -1\n",
    "for idx, p in enumerate(PARAMS):\n",
    "    if p.name==y_param:\n",
    "        y_param_idx = idx\n",
    "        break\n",
    "        \n",
    "y_vals = np.linspace(PARAMS[y_param_idx].low, PARAMS[y_param_idx].high, 4)\n",
    "em_params[y_param] = y_vals"
   ]
  },
  {
   "cell_type": "code",
   "execution_count": 41,
   "metadata": {
    "collapsed": false
   },
   "outputs": [
    {
     "name": "stdout",
     "output_type": "stream",
     "text": [
      "[ 11.7         11.96666667  12.23333333  12.5       ]\n"
     ]
    }
   ],
   "source": [
    "print em_params[y_param]"
   ]
  },
  {
   "cell_type": "code",
   "execution_count": 42,
   "metadata": {
    "collapsed": false
   },
   "outputs": [
    {
     "name": "stdout",
     "output_type": "stream",
     "text": [
      "6\n"
     ]
    }
   ],
   "source": [
    "print len(em_params)"
   ]
  },
  {
   "cell_type": "code",
   "execution_count": 43,
   "metadata": {
    "collapsed": false
   },
   "outputs": [],
   "source": [
    "or_params = PARAMS[:]\n",
    "or_params.append(parameter('r', 0, 1)) #95% sure bounds aren't used for r\n",
    "emu1 = OriginalRecipe(training_dir,or_params)"
   ]
  },
  {
   "cell_type": "code",
   "execution_count": 44,
   "metadata": {
    "collapsed": false
   },
   "outputs": [],
   "source": [
    "emu1.get_training_data('/u/ki/swmclau2/des/PearceLHC_wp_rp', None, {})"
   ]
  },
  {
   "cell_type": "code",
   "execution_count": 45,
   "metadata": {
    "collapsed": false
   },
   "outputs": [
    {
     "data": {
      "text/plain": [
       "(8500, 7)"
      ]
     },
     "execution_count": 45,
     "metadata": {},
     "output_type": "execute_result"
    }
   ],
   "source": [
    "emu1.x.shape"
   ]
  },
  {
   "cell_type": "code",
   "execution_count": 46,
   "metadata": {
    "collapsed": false
   },
   "outputs": [],
   "source": [
    "def f(x1,x2):\n",
    "    return emu1.gp.kernel.value(np.array([x1]),np.array([x2]))"
   ]
  },
  {
   "cell_type": "code",
   "execution_count": 47,
   "metadata": {
    "collapsed": true
   },
   "outputs": [],
   "source": [
    "from sklearn.ensemble import RandomForestRegressor, GradientBoostingRegressor\n",
    "from sklearn.svm import SVR\n",
    "from sklearn.kernel_ridge import KernelRidge\n",
    "from sklearn.tree import DecisionTreeRegressor\n",
    "from sklearn.neural_network import MLPRegressor\n",
    "#regressor = RandomForestRegressor(n_estimators=int(1e3)) # use defaults for now\n",
    "#regressor = GradientBoostingRegressor(n_estimators=int(1e3), max_depth=5)\n",
    "regressor = SVR(C = 1,kernel = emu1.gp.kernel.value)\n",
    "#regressor = KernelRidge(kernel = f)\n",
    "#regressor = DecisionTreeRegressor()\n",
    "#regressor = MLPRegressor((10,20), learning_rate_init=0.01)"
   ]
  },
  {
   "cell_type": "code",
   "execution_count": 48,
   "metadata": {
    "collapsed": false
   },
   "outputs": [
    {
     "data": {
      "text/plain": [
       "array([ 12.311     ,   0.571     ,  11.617     ,  13.934     ,\n",
       "         1.236     ,   0.381     ,  -1.02809405])"
      ]
     },
     "execution_count": 48,
     "metadata": {},
     "output_type": "execute_result"
    }
   ],
   "source": [
    "emu1.x[0,:]"
   ]
  },
  {
   "cell_type": "code",
   "execution_count": 49,
   "metadata": {
    "collapsed": false
   },
   "outputs": [
    {
     "data": {
      "text/plain": [
       "2.3084447270846553"
      ]
     },
     "execution_count": 49,
     "metadata": {},
     "output_type": "execute_result"
    }
   ],
   "source": [
    "emu1.y[0]"
   ]
  },
  {
   "cell_type": "code",
   "execution_count": 50,
   "metadata": {
    "collapsed": false
   },
   "outputs": [
    {
     "data": {
      "text/plain": [
       "(8500, 7)"
      ]
     },
     "execution_count": 50,
     "metadata": {},
     "output_type": "execute_result"
    }
   ],
   "source": [
    "emu1.x.shape"
   ]
  },
  {
   "cell_type": "code",
   "execution_count": 51,
   "metadata": {
    "collapsed": false
   },
   "outputs": [
    {
     "data": {
      "text/plain": [
       "SVR(C=1, cache_size=200, coef0=0.0, degree=3, epsilon=0.1, gamma='auto',\n",
       "  kernel=<bound method Product.value of ConstantKernel(1.18212664544, ndim=7) * ExpSquaredKernel(1.7348042925, 5.36288382789, 15.8416094906, 1.66509412286, 3.63498762588, 0.327508062386, 0.306139450843, ndim=7)>,\n",
       "  max_iter=-1, shrinking=True, tol=0.001, verbose=False)"
      ]
     },
     "execution_count": 51,
     "metadata": {},
     "output_type": "execute_result"
    }
   ],
   "source": [
    "regressor.fit(emu1.x, emu1.y)"
   ]
  },
  {
   "cell_type": "raw",
   "metadata": {
    "collapsed": true
   },
   "source": [
    "emu1 = ExtraCrispy(training_dir)"
   ]
  },
  {
   "cell_type": "code",
   "execution_count": 52,
   "metadata": {
    "collapsed": true
   },
   "outputs": [],
   "source": [
    "rpoints = np.logspace(np.log10(rbins[0]), np.log10(rbins[-1]), 200)"
   ]
  },
  {
   "cell_type": "code",
   "execution_count": 53,
   "metadata": {
    "collapsed": false
   },
   "outputs": [
    {
     "name": "stdout",
     "output_type": "stream",
     "text": [
      "2.30844472708\n",
      "0\n"
     ]
    }
   ],
   "source": [
    "print emu1.y[0]\n",
    "print emu1.y_hat"
   ]
  },
  {
   "cell_type": "code",
   "execution_count": 54,
   "metadata": {
    "collapsed": false
   },
   "outputs": [],
   "source": [
    "em_params['r'] = np.log10(rpoints)\n",
    "t_list = [em_params[p.name] for p in or_params if p.name in em_params]\n",
    "t_grid = np.meshgrid(*t_list)\n",
    "t = np.stack(t_grid).T\n",
    "        # TODO george can sort?\n",
    "t = t.reshape((-1, 7))\n",
    "\n",
    "em_point = emu1._sort_params(t)\n",
    "del em_params['r']"
   ]
  },
  {
   "cell_type": "code",
   "execution_count": 55,
   "metadata": {
    "collapsed": false
   },
   "outputs": [],
   "source": [
    "log_xi_pred = regressor.predict(em_point)\n",
    "log_xi_cov = np.zeros((log_xi_pred.shape[0], log_xi_pred.shape[0]))"
   ]
  },
  {
   "cell_type": "raw",
   "metadata": {},
   "source": [
    "for p, imp in zip(or_params, regressor.feature_importances_):\n",
    "    print p.name, imp"
   ]
  },
  {
   "cell_type": "raw",
   "metadata": {
    "collapsed": false,
    "scrolled": false
   },
   "source": [
    "log_xi_pred, log_xi_cov = emu1.emulate_wrt_r(em_params, rpoints)"
   ]
  },
  {
   "cell_type": "code",
   "execution_count": 56,
   "metadata": {
    "collapsed": true
   },
   "outputs": [],
   "source": [
    "log_xi_err = np.sqrt(np.diag(log_xi_cov))\n",
    "log_xi_pred = log_xi_pred.reshape((-1, len(rpoints)))\n",
    "log_xi_err = log_xi_err.reshape((-1, len(rpoints)))"
   ]
  },
  {
   "cell_type": "raw",
   "metadata": {
    "collapsed": false
   },
   "source": [
    "log_xi_pred[[0,-1], :] = log_xi_pred[[-1,0],:]"
   ]
  },
  {
   "cell_type": "code",
   "execution_count": 57,
   "metadata": {
    "collapsed": false
   },
   "outputs": [],
   "source": [
    "truth_dir = '/u/ki/swmclau2/des/PearceFHC_wp_rp/'\n",
    "plot_r, plot_xi, plot_xi_err = emu1.get_plot_data(em_params,truth_dir, independent_variable=None)"
   ]
  },
  {
   "cell_type": "code",
   "execution_count": 58,
   "metadata": {
    "collapsed": false
   },
   "outputs": [
    {
     "data": {
      "text/plain": [
       "((4, 17), (4, 17), (4, 17))"
      ]
     },
     "execution_count": 58,
     "metadata": {},
     "output_type": "execute_result"
    }
   ],
   "source": [
    "plot_xi.shape, plot_r.shape, plot_xi_err.shape"
   ]
  },
  {
   "cell_type": "code",
   "execution_count": 59,
   "metadata": {
    "collapsed": false
   },
   "outputs": [
    {
     "data": {
      "text/plain": [
       "<matplotlib.legend.Legend at 0x7fe694ee53d0>"
      ]
     },
     "execution_count": 59,
     "metadata": {},
     "output_type": "execute_result"
    },
    {
     "data": {
      "image/png": "[encoded data removed]",
      "text/plain": [
       "<matplotlib.figure.Figure at 0x7fe694b93e10>"
      ]
     },
     "metadata": {},
     "output_type": "display_data"
    }
   ],
   "source": [
    "fig = plt.figure(figsize = (10, 10))\n",
    "for label, lxp, lxe,pr, px, err,c in zip(y_vals, log_xi_pred, log_xi_err ,plot_r, plot_xi,plot_xi_err,colors):\n",
    "\n",
    "    plt.plot(rpoints, lxp,label = '%.3f'%label, color = c )\n",
    "\n",
    "    plt.fill_between(rpoints,lxp+lxe,\n",
    "                     lxp-lxe, color = c, alpha = 0.3)\n",
    "\n",
    "    plt.errorbar(10**pr, px,err, color =c,fmt = 'o')\n",
    "\n",
    "plt.xlim(xmin = 0.1, xmax = 30)    \n",
    "plt.ylim(ymin = -2, ymax = 4)\n",
    "plt.title(\"OR Emulator w.r.t. %s\"%y_param, fontsize =20)\n",
    "#plt.loglog()\n",
    "plt.xscale('log')\n",
    "plt.xticks(fontsize=20)\n",
    "plt.yticks(fontsize=20)\n",
    "plt.xlabel(r'$r $  $\\rm{[Mpc]}$', fontsize=25)\n",
    "plt.ylabel(r'$\\log_{10}{w_p(r_p) }$', fontsize=25)\n",
    "plt.legend(loc='best', fontsize=25)"
   ]
  },
  {
   "cell_type": "code",
   "execution_count": 60,
   "metadata": {
    "collapsed": true
   },
   "outputs": [],
   "source": [
    "from glob import glob\n",
    "from os import path\n",
    "truth_dir = '/u/ki/swmclau2/des/PearceFHC_wp_rp'\n",
    "N=None\n",
    "statistic = 'rel'\n",
    "cov_files = glob(path.join(truth_dir, 'cov*.npy'))\n",
    "obs_files = glob(path.join(truth_dir, 'obs*.npy'))"
   ]
  },
  {
   "cell_type": "code",
   "execution_count": 61,
   "metadata": {
    "collapsed": false
   },
   "outputs": [],
   "source": [
    "from pearce.emulator import GLOBAL_FILENAME, global_file_reader, obs_file_reader\n",
    "from time import time"
   ]
  },
  {
   "cell_type": "code",
   "execution_count": 62,
   "metadata": {
    "collapsed": false
   },
   "outputs": [],
   "source": [
    "np.random.seed(int(time()))\n",
    "\n",
    "if N is None:\n",
    "    idxs = np.arange(len(obs_files))\n",
    "else:\n",
    "    idxs = np.random.choice(len(obs_files), N, replace=False)\n",
    "\n",
    "values = []\n",
    "bins, _, _, _ = global_file_reader(path.join(truth_dir, GLOBAL_FILENAME))\n",
    "bin_centers = (bins[1:] + bins[:-1]) / 2\n",
    "for idx in idxs:\n",
    "    params, true_obs, _ = obs_file_reader(obs_files[idx], cov_files[idx])\n",
    "    #pred_log_obs, _ = self.emulate_wrt_r(params, bin_centers)\n",
    "    params['r'] = np.log10(bin_centers)\n",
    "    t_list = [params[p.name] for p in or_params if p.name in params]\n",
    "    t_grid = np.meshgrid(*t_list)\n",
    "    t = np.stack(t_grid).T\n",
    "    # TODO george can sort?\n",
    "    t = t.reshape((-1, 7))\n",
    "\n",
    "    em_point = emu1._sort_params(t)\n",
    "    del params['r']\n",
    "    \n",
    "    pred_log_obs = regressor.predict(em_point)\n",
    "\n",
    "    if statistic == 'rmsfd':\n",
    "        values.append(np.sqrt(np.mean(((pred_log_obs - np.log10(true_obs)) ** 2) / (np.log10(true_obs) ** 2))))\n",
    "    elif statistic == 'r2':  # r2\n",
    "        SSR = np.sum((pred_log_obs - np.log10(true_obs)) ** 2)\n",
    "        SST = np.sum((np.log10(true_obs) - np.log10(true_obs).mean()) ** 2)\n",
    "\n",
    "        values.append(1 - SSR / SST)\n",
    "\n",
    "    elif statistic == 'abs':\n",
    "        values.append((pred_log_obs - np.log10(true_obs)) )\n",
    "        #values.append((10**pred_log_obs - true_obs) )\n",
    "    else: #'rel'\n",
    "        values.append(((pred_log_obs - np.log10(true_obs)) )/np.log10(true_obs) )\n",
    "        #values.append((10**pred_log_obs - true_obs )/true_obs )\n",
    "values = np.array(values)"
   ]
  },
  {
   "cell_type": "code",
   "execution_count": 63,
   "metadata": {
    "collapsed": true
   },
   "outputs": [],
   "source": [
    "np.savetxt('svr_fhc.npy',values)"
   ]
  },
  {
   "cell_type": "code",
   "execution_count": 64,
   "metadata": {
    "collapsed": false
   },
   "outputs": [],
   "source": [
    "gbt_err = np.abs(values).mean(axis=0)*100"
   ]
  },
  {
   "cell_type": "code",
   "execution_count": 65,
   "metadata": {
    "collapsed": false
   },
   "outputs": [
    {
     "name": "stdout",
     "output_type": "stream",
     "text": [
      "[   3.21251073    3.1024153     3.05920444    3.09134413    3.22519959\n",
      "    3.33045103    3.28061513    3.17086453    2.93560402    3.36712271\n",
      "    4.84067679    6.93957559    8.82737469    7.0109115     6.57028145\n",
      "   18.27534284  389.55373394]\n"
     ]
    }
   ],
   "source": [
    "print gbt_err"
   ]
  },
  {
   "cell_type": "raw",
   "metadata": {},
   "source": [
    "#LHC wp dense\n",
    "gp_err = np.array([0.96249449,0.70766422,1.09460978, 0.76991548, 0.84404117, 0.80792512, 0.84134409, 0.79983003,\n",
    "          0.86213437,1.03998899,1.04112086,1.20671371,1.56148868,2.18618773,3.46016119,14.03835135,  163.17511754])"
   ]
  },
  {
   "cell_type": "code",
   "execution_count": 66,
   "metadata": {
    "collapsed": true
   },
   "outputs": [],
   "source": [
    "#FHC wp\n",
    "gp_err = np.array([3.50471281,2.57032543,3.87352454,2.46725702,2.74530995,\n",
    "    2.92839825,2.87002776,2.65217555,3.02727471, 3.56926359,\n",
    "    3.55512203, 4.12491033, 5.32400928, 7.57056716, 11.71321403,\n",
    "   54.55453398,721.94475929])"
   ]
  },
  {
   "cell_type": "code",
   "execution_count": 67,
   "metadata": {
    "collapsed": true
   },
   "outputs": [],
   "source": [
    "gbt_err = gbt_err/100\n",
    "gp_err = gp_err/100"
   ]
  },
  {
   "cell_type": "code",
   "execution_count": 68,
   "metadata": {
    "collapsed": false
   },
   "outputs": [
    {
     "data": {
      "text/plain": [
       "<matplotlib.legend.Legend at 0x7fe6955650d0>"
      ]
     },
     "execution_count": 68,
     "metadata": {},
     "output_type": "execute_result"
    },
    {
     "data": {
      "image/png": "[encoded data removed]",
      "text/plain": [
       "<matplotlib.figure.Figure at 0x7fe69563dc90>"
      ]
     },
     "metadata": {},
     "output_type": "display_data"
    }
   ],
   "source": [
    "fig = plt.figure(figsize = (10, 10))\n",
    "plt.plot(bin_centers, gbt_err, label='Gradient Boosted Trees')\n",
    "plt.plot(bin_centers, gp_err, label = 'Gaussian Process')\n",
    "\n",
    "plt.xlim(xmin = 0.1, xmax = 30)\n",
    "plt.ylim(ymin = 0, ymax = 0.05)\n",
    "plt.title(r\"Rel err $w_p(r_p)$ different methods\", fontsize =20)\n",
    "#plt.loglog()\n",
    "plt.xscale('log')\n",
    "plt.xlabel(r'$r $  $\\rm{[Mpc]}$', fontsize=25)\n",
    "plt.ylabel(r'Relative Error', fontsize = 25)\n",
    "plt.legend(loc='best')"
   ]
  },
  {
   "cell_type": "code",
   "execution_count": null,
   "metadata": {
    "collapsed": true
   },
   "outputs": [],
   "source": []
  }
 ],
 "metadata": {
  "kernelspec": {
   "display_name": "Python [conda env:hodemulator]",
   "language": "python",
   "name": "conda-env-hodemulator-py"
  },
  "language_info": {
   "codemirror_mode": {
    "name": "ipython",
    "version": 2
   },
   "file_extension": ".py",
   "mimetype": "text/x-python",
   "name": "python",
   "nbconvert_exporter": "python",
   "pygments_lexer": "ipython2",
   "version": "2.7.12"
  }
 },
 "nbformat": 4,
 "nbformat_minor": 0
}
