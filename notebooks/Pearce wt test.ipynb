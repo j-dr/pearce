{
 "cells": [
  {
   "cell_type": "markdown",
   "metadata": {},
   "source": [
    "I'm looking into doing a delta_sigma emulator. This is testing if the cat side works. Then i'll make an emulator for it. "
   ]
  },
  {
   "cell_type": "code",
   "execution_count": 1,
   "metadata": {
    "collapsed": false
   },
   "outputs": [],
   "source": [
    "from pearce.mocks import cat_dict\n",
    "import numpy as np\n",
    "from os import path\n",
    "from astropy.io import fits"
   ]
  },
  {
   "cell_type": "code",
   "execution_count": 2,
   "metadata": {
    "collapsed": true
   },
   "outputs": [],
   "source": [
    "import matplotlib\n",
    "#matplotlib.use('Agg')\n",
    "from matplotlib import pyplot as plt\n",
    "%matplotlib inline\n",
    "import seaborn as sns\n",
    "sns.set()"
   ]
  },
  {
   "cell_type": "code",
   "execution_count": 3,
   "metadata": {
    "collapsed": false
   },
   "outputs": [],
   "source": [
    "z_bins = np.array([0.15, 0.3, 0.45, 0.6, 0.75, 0.9])\n",
    "zbin=1"
   ]
  },
  {
   "cell_type": "code",
   "execution_count": 4,
   "metadata": {
    "collapsed": false
   },
   "outputs": [
    {
     "name": "stdout",
     "output_type": "stream",
     "text": [
      "[ 0.81632653  0.72727273  0.6557377   0.59701493  0.54794521]\n"
     ]
    }
   ],
   "source": [
    "zbc = (z_bins[1:]+z_bins[:-1])/2\n",
    "print 1/(1+zbc)"
   ]
  },
  {
   "cell_type": "code",
   "execution_count": 5,
   "metadata": {
    "collapsed": false
   },
   "outputs": [],
   "source": [
    "a = 0.81120\n",
    "z = 1.0/a - 1.0"
   ]
  },
  {
   "cell_type": "markdown",
   "metadata": {},
   "source": [
    "Load up a snapshot at a redshift near the center of this bin. "
   ]
  },
  {
   "cell_type": "code",
   "execution_count": 6,
   "metadata": {
    "collapsed": false
   },
   "outputs": [
    {
     "name": "stdout",
     "output_type": "stream",
     "text": [
      "0.232741617357\n"
     ]
    }
   ],
   "source": [
    "print z"
   ]
  },
  {
   "cell_type": "code",
   "execution_count": 7,
   "metadata": {
    "collapsed": false
   },
   "outputs": [],
   "source": [
    "cosmo_params = {'simname':'chinchilla', 'Lbox':400.0, 'scale_factors':[a]}\n",
    "cat = cat_dict[cosmo_params['simname']](**cosmo_params)#construct the specified catalog!\n",
    "\n",
    "cat.load_catalog(a, particles=True, tol = 0.01, downsample_factor=1e-3)"
   ]
  },
  {
   "cell_type": "code",
   "execution_count": 8,
   "metadata": {
    "collapsed": true
   },
   "outputs": [],
   "source": [
    "cat.load_model(a, 'redMagic')"
   ]
  },
  {
   "cell_type": "code",
   "execution_count": 9,
   "metadata": {
    "collapsed": false
   },
   "outputs": [
    {
     "name": "stdout",
     "output_type": "stream",
     "text": [
      "{'logM1': 13.777, 'logMmin': 12.386, 'f_c': 0.292, 'logM0': 11.43433, 'sigma_logM': 0.4111, 'alpha': 1.11}\n"
     ]
    }
   ],
   "source": [
    "params = cat.model.param_dict.copy()\n",
    "#params['mean_occupation_centrals_assembias_param1'] = 0.0\n",
    "#params['mean_occupation_satellites_assembias_param1'] = 0.0\n",
    "#my clustering redmagic best fit\n",
    "params['logMmin'] = 12.386\n",
    "params['sigma_logM'] = 0.4111\n",
    "params['f_c'] = 0.292\n",
    "params['alpha'] = 1.110\n",
    "params['logM1'] = 13.777\n",
    "params['logM0'] = 11.43433\n",
    "\n",
    "print params"
   ]
  },
  {
   "cell_type": "code",
   "execution_count": 10,
   "metadata": {
    "collapsed": false
   },
   "outputs": [
    {
     "name": "stdout",
     "output_type": "stream",
     "text": [
      "chinchilla\n",
      "-------------------------\n",
      "Halo finder:\t rockstar\n",
      "Version name:\tLb400-2048\n",
      "Cosmology:\n",
      "LambdaCDM(H0=70 km / (Mpc s), Om0=0.286, Ode0=0.714, Tcmb0=0 K, Neff=3.04, m_nu=None, Ob0=None)\n",
      "Redshifts:\t[0.23274161735700183]\n",
      "-------------------------\n",
      "Location:\t/nfs/slac/g/ki/ki21/cosmo/yymao/sham_test/resolution-test/c400-2048//rockstar/hlists/\n",
      "Lbox:\t400.0\n",
      "Particle Mass:\t591421440.000000\n",
      "Columns to Keep:\n",
      "{'halo_upid': (6, 'i8'), 'halo_vacc': (56, 'f4'), 'halo_vmax': (16, 'f4'), 'halo_rs_klypin': (34, 'f4'), 'halo_snapnum': (31, 'i8'), 'halo_macc': (54, 'f4'), 'halo_halfmass_scale': (58, 'f4'), 'halo_y': (18, 'f4'), 'halo_id': (1, 'i8'), 'halo_x': (17, 'f4'), 'halo_vx': (20, 'f4'), 'halo_vy': (21, 'f4'), 'halo_vz': (22, 'f4'), 'halo_rs': (12, 'f4'), 'halo_rvir': (11, 'f4'), 'halo_vpeak': (57, 'f4'), 'halo_z': (19, 'f4'), 'halo_mvir': (10, 'f4')}\n"
     ]
    }
   ],
   "source": [
    "print cat"
   ]
  },
  {
   "cell_type": "code",
   "execution_count": 11,
   "metadata": {
    "collapsed": false
   },
   "outputs": [],
   "source": [
    "cat.populate(params)"
   ]
  },
  {
   "cell_type": "code",
   "execution_count": 12,
   "metadata": {
    "collapsed": false
   },
   "outputs": [
    {
     "name": "stdout",
     "output_type": "stream",
     "text": [
      "0.000288586509328\n"
     ]
    }
   ],
   "source": [
    "nd_cat =  cat.calc_analytic_nd(params)\n",
    "print nd_cat"
   ]
  },
  {
   "cell_type": "raw",
   "metadata": {
    "collapsed": true
   },
   "source": [
    "fname = '/u/ki/jderose/public_html/bcc/measurement/y3/3x2pt/buzzard/flock/buzzard-2/tpt_Y3_v0.fits'\n",
    "hdulist = fits.open(fname)"
   ]
  },
  {
   "cell_type": "raw",
   "metadata": {
    "collapsed": false
   },
   "source": [
    "nz_sources = hdulist[6]\n",
    "sources_zbin = 1\n",
    "N_z = np.array([row[2+sources_zbin] for row in nz_sources.data])\n",
    "N_total =  np.sum(N_z)#*0.01\n",
    "N_z/=N_total # normalize\n",
    "\n",
    "zbins = [row[0] for row in nz_sources.data]\n",
    "zbins.append(nz_sources.data[-1][2])"
   ]
  },
  {
   "cell_type": "code",
   "execution_count": 13,
   "metadata": {
    "collapsed": false
   },
   "outputs": [
    {
     "name": "stdout",
     "output_type": "stream",
     "text": [
      "0.00275848072207\n"
     ]
    }
   ],
   "source": [
    "W =  0.00275848072207\n",
    "print W"
   ]
  },
  {
   "cell_type": "code",
   "execution_count": 14,
   "metadata": {
    "collapsed": false
   },
   "outputs": [],
   "source": [
    "rp_bins = np.logspace(-1.1, 1.8, 11) #binning used in buzzard mocks\n",
    "rpoints = (rp_bins[1:]+rp_bins[:-1])/2\n",
    "\n",
    "theta_bins = np.logspace(np.log10(2.5), np.log10(250), 21)/60\n",
    "tpoints = (theta_bins[1:]+theta_bins[:-1])/2"
   ]
  },
  {
   "cell_type": "raw",
   "metadata": {
    "collapsed": false
   },
   "source": [
    "ds = cat.calc_ds(theta_bins, angular = True, n_cores = 2)"
   ]
  },
  {
   "cell_type": "code",
   "execution_count": 15,
   "metadata": {
    "collapsed": false
   },
   "outputs": [
    {
     "name": "stdout",
     "output_type": "stream",
     "text": [
      "1526.39284849 0.0114918951773\n",
      "945.980741685"
     ]
    },
    {
     "name": "stderr",
     "output_type": "stream",
     "text": [
      "/u/ki/swmclau2/.conda/envs/hodemulator/lib/python2.7/site-packages/scipy/integrate/quadpack.py:364: IntegrationWarning: The maximum number of subdivisions (50) has been achieved.\n",
      "  If increasing the limit yields no improvement it is advised to analyze \n",
      "  the integrand in order to determine the difficulties.  If the position of a \n",
      "  local difficulty can be determined (singularity, discontinuity) one will \n",
      "  probably gain from splitting up the interval and calling the integrator \n",
      "  on the subranges.  Perhaps a special-purpose integrator should be used.\n",
      "  warnings.warn(msg, IntegrationWarning)\n",
      "/u/ki/swmclau2/.conda/envs/hodemulator/lib/python2.7/site-packages/scipy/integrate/quadpack.py:364: IntegrationWarning: The occurrence of roundoff error is detected, which prevents \n",
      "  the requested tolerance from being achieved.  The error may be \n",
      "  underestimated.\n",
      "  warnings.warn(msg, IntegrationWarning)\n"
     ]
    },
    {
     "name": "stdout",
     "output_type": "stream",
     "text": [
      " 0.0114928321338\n",
      "583.53718459 0.0114943126004\n",
      "355.094661655 0.0114966683704\n",
      "215.685827312 0.0115003949323\n",
      "130.361768785 0.0115063102019\n",
      "80.5700747517 0.0115157000258\n",
      "51.3146889727 0.0115306416932\n",
      "34.9711188155 0.0115543893408\n",
      "24.8475067022 0.0115922647955\n",
      "17.8029539859 0.0116528139466\n",
      "12.7546217216 0.0117504304378\n",
      "8.78135915916 0.0119089292391\n",
      "6.0048041589 0.0121705003476\n",
      "4.02324727057 0.0126135042994\n",
      "2.66442362167 0.0133981601003\n",
      "1.7286698489 0.0149102653586\n",
      "1.04999938717 0.0184064440657\n",
      "0.587031952818 0.0336397099834\n",
      "0.0 0.0320757840893\n"
     ]
    }
   ],
   "source": [
    "wt = cat.calc_wt(theta_bins, W, n_cores = 2)"
   ]
  },
  {
   "cell_type": "code",
   "execution_count": 16,
   "metadata": {
    "collapsed": false
   },
   "outputs": [],
   "source": [
    "import warnings\n",
    "from scipy.interpolate import interp1d\n",
    "rbins = np.logspace(-1.1, 1.8, 17) #make my own bins\n",
    "xi = cat.calc_xi(rbins,do_jackknife=False,n_cores=2)\n",
    "\n",
    "if np.any(xi<=0):\n",
    "    warnings.warn(\"Some values of xi are less than 0. Setting to a small nonzero value. This may have unexpected behavior, check your HOD\")\n",
    "    xi[xi<=0] = 1e-3\n",
    "#TODO I should be able to just specify my own rbins\n",
    "rpoints = (rbins[:-1]+rbins[1:])/2.0\n",
    "xi_rmin, xi_rmax = rpoints[0], rpoints[-1]\n",
    "\n",
    "# make an interpolator for integrating\n",
    "xi_interp = interp1d(np.log10(rpoints), np.log10(xi))"
   ]
  },
  {
   "cell_type": "code",
   "execution_count": 17,
   "metadata": {
    "collapsed": false
   },
   "outputs": [
    {
     "name": "stdout",
     "output_type": "stream",
     "text": [
      "[ 3.88401063  3.55275893  3.22227584  2.87235777  2.54266052  2.16373843\n",
      "  1.76624393  1.35687724  0.94059694  0.56452148  0.28087344  0.00749165\n",
      " -0.30006752 -0.62647944 -0.9738299  -1.4089827 ]\n",
      "[ 3.88401063  3.55275893  3.22227584  2.87235777  2.54266052  2.16373843\n",
      "  1.76624393  1.35687724  0.94059694  0.56452148  0.28087344  0.00749165\n",
      " -0.30006752 -0.62647944 -0.9738299  -1.4089827 ]\n"
     ]
    }
   ],
   "source": [
    "print np.log10(xi)\n",
    "print xi_interp(np.log10(rpoints) )"
   ]
  },
  {
   "cell_type": "code",
   "execution_count": 18,
   "metadata": {
    "collapsed": false
   },
   "outputs": [],
   "source": [
    "import pyccl as ccl\n",
    "# get the theotertical matter xi, for large scale estimates\n",
    "names, vals = cat._get_cosmo_param_names_vals()\n",
    "param_dict = { n:v for n,v in zip(names, vals)}\n",
    "\n",
    "if 'Omega_c' not in param_dict:\n",
    "    param_dict['Omega_c'] = param_dict['Omega_m'] - param_dict['Omega_b']\n",
    "    del param_dict['Omega_m']\n",
    "\n",
    "cosmo = ccl.Cosmology(**param_dict)\n",
    "\n",
    "big_rbins = np.logspace(-1.1, 2.3, 41)\n",
    "big_rpoints = (big_rbins[1:] + big_rbins[:-1])/2.0\n",
    "big_xi_rmin = big_rpoints[0]\n",
    "big_xi_rmax = big_rpoints[-1]\n",
    "xi_mm = ccl.correlation_3d(cosmo, cat.a, big_rpoints)\n",
    "\n",
    "xi_mm[xi_mm<0] = 1e-6\n",
    "\n",
    "xi_mm_interp = interp1d(np.log10(big_rpoints), np.log10(xi_mm))\n",
    "\n",
    "#correction factor\n",
    "bias2 = np.power(10, xi_interp(1.2)-xi_mm_interp(1.2))"
   ]
  },
  {
   "cell_type": "code",
   "execution_count": 19,
   "metadata": {
    "collapsed": false
   },
   "outputs": [
    {
     "data": {
      "text/plain": [
       "[]"
      ]
     },
     "execution_count": 19,
     "metadata": {},
     "output_type": "execute_result"
    },
    {
     "data": {
      "image/png": "[encoded data removed]",
      "text/plain": [
       "<matplotlib.figure.Figure at 0x7f91e0c3c690>"
      ]
     },
     "metadata": {},
     "output_type": "display_data"
    }
   ],
   "source": [
    "plt.plot(rpoints, xi)\n",
    "plt.loglog()"
   ]
  },
  {
   "cell_type": "code",
   "execution_count": 20,
   "metadata": {
    "collapsed": false
   },
   "outputs": [
    {
     "data": {
      "text/plain": [
       "[]"
      ]
     },
     "execution_count": 20,
     "metadata": {},
     "output_type": "execute_result"
    },
    {
     "data": {
      "image/png": "[encoded data removed]",
      "text/plain": [
       "<matplotlib.figure.Figure at 0x7f92aa4cdd90>"
      ]
     },
     "metadata": {},
     "output_type": "display_data"
    }
   ],
   "source": [
    "plt.plot(rpoints, xi)\n",
    "plt.plot(big_rpoints, bias2*xi_mm)\n",
    "plt.loglog()\n",
    "#plt.xscale('log')"
   ]
  },
  {
   "cell_type": "code",
   "execution_count": 21,
   "metadata": {
    "collapsed": false
   },
   "outputs": [
    {
     "data": {
      "text/plain": [
       "[]"
      ]
     },
     "execution_count": 21,
     "metadata": {},
     "output_type": "execute_result"
    },
    {
     "data": {
      "image/png": "[encoded data removed]",
      "text/plain": [
       "<matplotlib.figure.Figure at 0x7f92aa4fa3d0>"
      ]
     },
     "metadata": {},
     "output_type": "display_data"
    }
   ],
   "source": [
    "plt.plot(rpoints, 10**xi_interp(np.log10(rpoints)))\n",
    "plt.plot(big_rpoints, bias2*(10**xi_mm_interp(np.log10(big_rpoints))))\n",
    "plt.loglog()\n",
    "#plt.xscale('log')"
   ]
  },
  {
   "cell_type": "code",
   "execution_count": 22,
   "metadata": {
    "collapsed": false
   },
   "outputs": [
    {
     "data": {
      "text/plain": [
       "[]"
      ]
     },
     "execution_count": 22,
     "metadata": {},
     "output_type": "execute_result"
    },
    {
     "data": {
      "image/png": "[encoded data removed]",
      "text/plain": [
       "<matplotlib.figure.Figure at 0x7f92aa4e41d0>"
      ]
     },
     "metadata": {},
     "output_type": "display_data"
    }
   ],
   "source": [
    "plt.plot(big_rpoints, xi_mm)\n",
    "plt.loglog()\n",
    "#plt.xscale('log')"
   ]
  },
  {
   "cell_type": "code",
   "execution_count": 23,
   "metadata": {
    "collapsed": false
   },
   "outputs": [],
   "source": [
    "_theta_bins = np.radians(theta_bins)\n",
    "tpoints = (_theta_bins[1:] + _theta_bins[:-1])/2.0\n",
    "_wt = np.zeros_like(tpoints)\n",
    "# need this distance for computation\n",
    "x = cat.cosmology.comoving_distance(cat.z).to(\"Mpc\").value#/self.h"
   ]
  },
  {
   "cell_type": "code",
   "execution_count": 24,
   "metadata": {
    "collapsed": false
   },
   "outputs": [],
   "source": [
    "assert tpoints[0]*x/cat.h >= xi_rmin #TODO explain this check"
   ]
  },
  {
   "cell_type": "raw",
   "metadata": {
    "collapsed": true
   },
   "source": [
    "def small_scales_integrand(log_u, x, t, xi_interp):\n",
    "    r2 = np.exp(2*log_u) + (x*t)**2\n",
    "    #print np.sqrt(r2), xi_rmin, xi_interp(np.log10(np.sqrt(r2))), xi_interp(np.log10(xi_rmin))\n",
    "    return np.power(10, xi_interp(0.5*np.log10(r2)))\n",
    "\n",
    "def large_scales_integrand(log_u, x, t, bias2, xi_mm_interp):\n",
    "    #print log_u\n",
    "    r2 = np.exp(2*log_u) + (x*t)**2\n",
    "    #print np.sqrt(r2), big_xi_rmax\n",
    "    #try:\n",
    "    out = bias2*np.power(10, xi_mm_interp(0.5*np.log10(r2)))\n",
    "    if np.isnan(out):\n",
    "        raise ValueError\n",
    "    return out\n",
    "    #except ValueError: #usually out of bounds interpolation\n",
    "    #    return 0.0"
   ]
  },
  {
   "cell_type": "code",
   "execution_count": 55,
   "metadata": {
    "collapsed": true
   },
   "outputs": [],
   "source": [
    "def integrand(u, x, t, bias2, xi_interp, xi_mm_interp):\n",
    "    r2 = u**2 + (x*t)**2\n",
    "    if r2 < xi_rmin**2:\n",
    "        return 0.0\n",
    "    elif xi_rmin**2 < r2 < xi_rmax**2:\n",
    "        return np.power(10, xi_interp(0.5*np.log10(r2)))\n",
    "    elif r2 < big_xi_rmax**2:\n",
    "        return bias2*np.power(10, xi_mm_interp(0.5*np.log10(r2)))\n",
    "    else:\n",
    "        return 0 "
   ]
  },
  {
   "cell_type": "code",
   "execution_count": 56,
   "metadata": {
    "collapsed": false
   },
   "outputs": [],
   "source": [
    "from scipy.integrate import quad\n",
    "large_scales, small_scales = [], []\n",
    "for bin_no, t_med in enumerate(tpoints):\n",
    "    #log_u_ss_max = np.log(xi_rmax**2 - (t_med*x)**2)/2.0 #max we can integrate to on small scales\n",
    "    log_u_ls_max = np.log(big_xi_rmax**2 - (t_med*x)**2)/2.0 #max we can integrate to on small scales\n",
    "    '''\n",
    "    if not np.isnan(log_u_ss_max):\n",
    "        #print large_scales_integrand(log_u_ss_max, x, t_med, bias2, xi_mm_interp)\n",
    "\n",
    "        small_scales_contribution = quad(small_scales_integrand, -10, log_u_ss_max, args = (x, t_med, xi_interp))[0]\n",
    "        large_scales_contribution = quad(large_scales_integrand, log_u_ss_max, log_u_ls_max,\\\n",
    "                                     args = (x, t_med, bias2, xi_mm_interp))[0]\n",
    "    else:\n",
    "        small_scales_contribution = 0.0\n",
    "        ls_start2 = big_xi_rmin**2 - (t_med*x)**2\n",
    "        log_ls_start = np.log(ls_start2)/2.0 if ls_start2 > 0 else \n",
    "        large_scales_contribution = quad(large_scales_integrand, log_ls_start, log_u_ls_max,\\\n",
    "                                     args = (x, t_med, bias2, xi_mm_interp))[0]\n",
    "    '''\n",
    "    _wt[bin_no] = quad(integrand, -10, log_u_ls_max,\\\n",
    "                        args = (x, t_med, bias2, xi_interp, xi_mm_interp))[0]#(small_scales_contribution + large_scales_contribution)/cat.h #TODO check little h's \n",
    "\n",
    "_wt*=W/cat.h"
   ]
  },
  {
   "cell_type": "code",
   "execution_count": 57,
   "metadata": {
    "collapsed": false
   },
   "outputs": [
    {
     "data": {
      "text/plain": [
       "array([ 1.28468331,  0.96113185,  0.71395692,  0.52587529,  0.38554872,\n",
       "        0.28225087,  0.20928276,  0.15678195,  0.12103963,  0.09313361,\n",
       "        0.07077738,  0.05250238,  0.03735565,  0.02601412,  0.01765816,\n",
       "        0.01174975,  0.00765549,  0.00466415,  0.00269969,  0.00135223])"
      ]
     },
     "execution_count": 57,
     "metadata": {},
     "output_type": "execute_result"
    }
   ],
   "source": [
    "_wt"
   ]
  },
  {
   "cell_type": "code",
   "execution_count": 58,
   "metadata": {
    "collapsed": false
   },
   "outputs": [
    {
     "data": {
      "text/plain": [
       "array([ 0.00072722,  0.00091552,  0.00115257,  0.001451  ,  0.0018267 ,\n",
       "        0.00229967,  0.00289512,  0.00364474,  0.00458845,  0.00577652,\n",
       "        0.00727221,  0.00915516,  0.01152567,  0.01450996,  0.01826695,\n",
       "        0.02299673,  0.02895117,  0.03644736,  0.04588451,  0.05776518,\n",
       "        0.07272205])"
      ]
     },
     "execution_count": 58,
     "metadata": {},
     "output_type": "execute_result"
    }
   ],
   "source": [
    "np.radians(theta_bins)"
   ]
  },
  {
   "cell_type": "code",
   "execution_count": 59,
   "metadata": {
    "collapsed": true
   },
   "outputs": [],
   "source": [
    "zbin = 1\n",
    "wt_redmagic = np.loadtxt('/u/ki/swmclau2/Git/pearce/bin/mcmc/buzzard2_wt_%d%d.npy'%(zbin,zbin))\n",
    "cov = np.loadtxt('/u/ki/swmclau2/Git/pearce/bin/mcmc/wt_11_cov.npy')"
   ]
  },
  {
   "cell_type": "code",
   "execution_count": 65,
   "metadata": {
    "collapsed": false
   },
   "outputs": [],
   "source": [
    "from astropy import units\n",
    "def calc_wt(theta_bins, W, n_cores='all', halo = False, xi_kwargs = {}):\n",
    "    \"\"\"\n",
    "    TODO docs\n",
    "    \"\"\"\n",
    "\n",
    "    tpoints = np.radians((theta_bins[1:] + theta_bins[:-1])/2.0 )\n",
    "    wt = np.zeros_like(tpoints)\n",
    "    x = cat.cosmology.comoving_distance(cat.z)/cat.h\n",
    "    assert tpoints[0]*x.to(\"Mpc\").value/cat.h >= rbins[0]\n",
    "    #ubins = np.linspace(10**-6, 10**4.0, 1001)\n",
    "    ubins = np.logspace(-6, 3.0, 501)\n",
    "    ubc = (ubins[1:]+ubins[:-1])/2.0\n",
    "\n",
    "    # TODO this is like this cause of a half-assed attempt at parraleization\n",
    "    # this is unesscary now, and could be discarded for a simpler for loop\n",
    "    '''\n",
    "    def integrate_xi(bin_no):#, w_theta, bin_no, ubc, ubins)\n",
    "        int_xi = 0\n",
    "        t_med = tpoints[bin_no]\n",
    "        for ubin_no, _u in enumerate(ubc):\n",
    "            _du = ubins[ubin_no+1]-ubins[ubin_no]\n",
    "            u = _u*units.Mpc/cat.h\n",
    "            du = _du*units.Mpc/cat.h\n",
    "\n",
    "            r = np.sqrt((u**2+(x*t_med)**2))#*cat.h#not sure about the h\n",
    "            if r > (units.Mpc)*cat.Lbox/10:\n",
    "                try:\n",
    "                    int_xi+=du*bias2*(np.power(10, \\\n",
    "                            xi_mm_interp(np.log10(r.value))))\n",
    "                except ValueError:\n",
    "                    #interpolation failed\n",
    "                    int_xi+=du*0\n",
    "            else:\n",
    "                try:\n",
    "                    int_xi+=du*(np.power(10, \\\n",
    "                            xi_interp(np.log10(r.value))))\n",
    "                except ValueError:\n",
    "                    pass\n",
    "        wt[bin_no] = int_xi.to(\"Mpc\").value/cat.h\n",
    "    '''\n",
    "        \n",
    "    def integrate_xi(bin_no):\n",
    "        t_med = tpoints[bin_no]\n",
    "        int_xi = 0\n",
    "        t_med = tpoints[bin_no]\n",
    "        for ubin_no, _u in enumerate(ubc):\n",
    "            _du = ubins[ubin_no+1]-ubins[ubin_no]\n",
    "            du = _du*units.Mpc/cat.h\n",
    "            \n",
    "            int_xi+=du.to(\"Mpc\").value*integrand(np.log(_u/cat.h), x.value, t_med, bias2, xi_interp, xi_mm_interp)/cat.h\n",
    "           \n",
    "        wt[bin_no] =  int_xi\n",
    "        \n",
    "    def integrate_xi2(bin_no):\n",
    "        t_med = tpoints[bin_no]\n",
    "        wt[bin_no] = quad(integrand, 1e-6, 1e3,\\\n",
    "                        args = (x.value, t_med, bias2, xi_interp, xi_mm_interp))[0]#/cat.h\n",
    "\n",
    "    #Currently this doesn't work cuz you can't pickle the integrate_xi function.\n",
    "    #I'll just ignore for now. This is why i'm making an emulator anyway\n",
    "    #p = Pool(n_cores)  \n",
    "    map(integrate_xi2, range(tpoints.shape[0]))\n",
    "    #p.map(integrate_xi, range(tpoints.shape[0]))\n",
    "    #p.terminate()\n",
    "\n",
    "    return wt*W"
   ]
  },
  {
   "cell_type": "code",
   "execution_count": 66,
   "metadata": {
    "collapsed": false
   },
   "outputs": [
    {
     "name": "stdout",
     "output_type": "stream",
     "text": [
      "21.333312 21.3333333333\n"
     ]
    }
   ],
   "source": [
    "#test integration methods\n",
    "\n",
    "f = lambda x: x**2\n",
    "\n",
    "def integrate_f():\n",
    "    xbins = np.linspace(0, 4.0, 501)\n",
    "    xbc = (xbins[1:]+xbins[:-1])/2.0\n",
    "    \n",
    "    int_f = 0\n",
    "    for xbin_no, x in enumerate(xbc):\n",
    "        dx = xbins[xbin_no+1]-xbins[xbin_no]\n",
    "\n",
    "        int_f+=dx*f(x)\n",
    "\n",
    "    return int_f\n",
    "        \n",
    "def integrate_f2():\n",
    "    int_f = 0\n",
    "    return quad(f, 0, 4)[0]\n",
    "\n",
    "print integrate_f(), integrate_f2()"
   ]
  },
  {
   "cell_type": "code",
   "execution_count": 67,
   "metadata": {
    "collapsed": false
   },
   "outputs": [],
   "source": [
    "wt2 = calc_wt(theta_bins, W, 2)"
   ]
  },
  {
   "cell_type": "code",
   "execution_count": 68,
   "metadata": {
    "collapsed": false
   },
   "outputs": [
    {
     "data": {
      "text/plain": [
       "array([ 0.46278979,  0.35582474,  0.27537704,  0.21523571,  0.17135045,\n",
       "        0.13987521,  0.11666393,  0.09897983,  0.08352456,  0.06976962,\n",
       "        0.05706918,  0.04591558,  0.03620647,  0.02797785,  0.02094783,\n",
       "        0.01497861,  0.00999529,  0.00613602,  0.00355313,  0.00185708])"
      ]
     },
     "execution_count": 68,
     "metadata": {},
     "output_type": "execute_result"
    }
   ],
   "source": [
    "wt2"
   ]
  },
  {
   "cell_type": "code",
   "execution_count": 69,
   "metadata": {
    "collapsed": false
   },
   "outputs": [
    {
     "data": {
      "text/plain": [
       "[]"
      ]
     },
     "execution_count": 69,
     "metadata": {},
     "output_type": "execute_result"
    },
    {
     "data": {
      "image/png": "[encoded data removed]",
      "text/plain": [
       "<matplotlib.figure.Figure at 0x7f92aa2158d0>"
      ]
     },
     "metadata": {},
     "output_type": "display_data"
    }
   ],
   "source": [
    "tbins = (theta_bins[1:]+theta_bins[:-1])/2.0\n",
    "#plt.plot(np.degrees(tpoints),_wt)\n",
    "#plt.plot(np.degrees(tpoints), wt)\n",
    "plt.plot(np.degrees(tpoints), wt2)\n",
    "\n",
    "plt.errorbar(np.degrees(tpoints), wt_redmagic, yerr = np.sqrt(np.diag(cov)), fmt = 'o',\n",
    "             capsize = 50, label = 'Buzzard Mock', color = 'r')\n",
    "\n",
    "#plt.plot(tbins, _wt)\n",
    "plt.ylabel(r'$w_t(\\theta)$')\n",
    "plt.xlabel(r'$\\theta$ [Arcmin]')\n",
    "plt.xticks()\n",
    "plt.loglog();\n",
    "#plt.xlim([60, 240])\n",
    "#plt.ylim([0, 2])\n",
    "#plt.xscale('log')"
   ]
  },
  {
   "cell_type": "code",
   "execution_count": 274,
   "metadata": {
    "collapsed": false
   },
   "outputs": [
    {
     "ename": "NameError",
     "evalue": "name 'hdulist' is not defined",
     "output_type": "error",
     "traceback": [
      "\u001b[1;31m---------------------------------------------------------------------------\u001b[0m",
      "\u001b[1;31mNameError\u001b[0m                                 Traceback (most recent call last)",
      "\u001b[1;32m<ipython-input-274-8be969f87784>\u001b[0m in \u001b[0;36m<module>\u001b[1;34m()\u001b[0m\n\u001b[1;32m----> 1\u001b[1;33m \u001b[0mgt_data\u001b[0m \u001b[1;33m=\u001b[0m \u001b[0mhdulist\u001b[0m\u001b[1;33m[\u001b[0m\u001b[1;36m3\u001b[0m\u001b[1;33m]\u001b[0m\u001b[1;33m.\u001b[0m\u001b[0mdata\u001b[0m\u001b[1;33m\u001b[0m\u001b[0m\n\u001b[0m\u001b[0;32m      2\u001b[0m \u001b[0mgt_rm\u001b[0m\u001b[1;33m,\u001b[0m \u001b[0mgt_bc\u001b[0m \u001b[1;33m=\u001b[0m \u001b[1;33m[\u001b[0m\u001b[1;33m]\u001b[0m\u001b[1;33m,\u001b[0m\u001b[1;33m[\u001b[0m\u001b[1;33m]\u001b[0m\u001b[1;33m\u001b[0m\u001b[0m\n\u001b[0;32m      3\u001b[0m \u001b[1;32mfor\u001b[0m \u001b[0mi\u001b[0m\u001b[1;33m,\u001b[0m \u001b[0mrow\u001b[0m \u001b[1;32min\u001b[0m \u001b[0menumerate\u001b[0m\u001b[1;33m(\u001b[0m\u001b[0mgt_data\u001b[0m\u001b[1;33m)\u001b[0m\u001b[1;33m:\u001b[0m\u001b[1;33m\u001b[0m\u001b[0m\n\u001b[0;32m      4\u001b[0m     \u001b[1;32mif\u001b[0m \u001b[0mi\u001b[0m \u001b[1;33m==\u001b[0m \u001b[1;36m20\u001b[0m\u001b[1;33m:\u001b[0m\u001b[1;33m\u001b[0m\u001b[0m\n\u001b[0;32m      5\u001b[0m         \u001b[1;32mbreak\u001b[0m\u001b[1;33m\u001b[0m\u001b[0m\n",
      "\u001b[1;31mNameError\u001b[0m: name 'hdulist' is not defined"
     ]
    }
   ],
   "source": [
    "gt_data = hdulist[3].data\n",
    "gt_rm, gt_bc = [],[]\n",
    "for i, row in enumerate(gt_data):\n",
    "    if i == 20:\n",
    "        break\n",
    "    gt_rm.append(row[3])#gt_data[3,:20]\n",
    "    gt_bc.append(row[4])\n"
   ]
  },
  {
   "cell_type": "code",
   "execution_count": null,
   "metadata": {
    "collapsed": false
   },
   "outputs": [],
   "source": [
    "print gt_bc\n",
    "print tbins*60"
   ]
  },
  {
   "cell_type": "code",
   "execution_count": null,
   "metadata": {
    "collapsed": false
   },
   "outputs": [],
   "source": [
    "plt.plot(gt_bc, gt_rm)\n",
    "plt.plot(tbins*60, sigma_crit_inv*gt/cat.h)#/cat.h)\n",
    "plt.ylabel(r'$\\gamma_t(\\theta)$')\n",
    "plt.xlabel(r'$\\theta$ [Arcmin]')\n",
    "plt.loglog()"
   ]
  },
  {
   "cell_type": "code",
   "execution_count": null,
   "metadata": {
    "collapsed": true
   },
   "outputs": [],
   "source": []
  }
 ],
 "metadata": {
  "kernelspec": {
   "display_name": "Python [conda env:hodemulator]",
   "language": "python",
   "name": "conda-env-hodemulator-py"
  },
  "language_info": {
   "codemirror_mode": {
    "name": "ipython",
    "version": 2
   },
   "file_extension": ".py",
   "mimetype": "text/x-python",
   "name": "python",
   "nbconvert_exporter": "python",
   "pygments_lexer": "ipython2",
   "version": "2.7.13"
  }
 },
 "nbformat": 4,
 "nbformat_minor": 0
}
