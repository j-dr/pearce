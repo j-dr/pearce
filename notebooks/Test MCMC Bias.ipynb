{
 "cells": [
  {
   "cell_type": "markdown",
   "metadata": {},
   "source": [
    "Cosmo MCMC is landing on biased HOD + Cosmology. I'm gonna first look at the code to make preds, and compare to the emulator. "
   ]
  },
  {
   "cell_type": "code",
   "execution_count": 1,
   "metadata": {
    "collapsed": false
   },
   "outputs": [
    {
     "name": "stderr",
     "output_type": "stream",
     "text": [
      "/u/ki/swmclau2/.conda/envs/hodemulator/lib/python2.7/site-packages/sklearn/ensemble/weight_boosting.py:29: DeprecationWarning: numpy.core.umath_tests is an internal NumPy module and should not be imported. It will be removed in a future NumPy release.\n",
      "  from numpy.core.umath_tests import inner1d\n"
     ]
    }
   ],
   "source": [
    "from pearce.emulator import OriginalRecipe, ExtraCrispy, SpicyBuffalo\n",
    "from pearce.mocks import cat_dict\n",
    "import numpy as np\n",
    "from os import path"
   ]
  },
  {
   "cell_type": "code",
   "execution_count": 2,
   "metadata": {
    "collapsed": true
   },
   "outputs": [],
   "source": [
    "import matplotlib\n",
    "#matplotlib.use('Agg')\n",
    "from matplotlib import pyplot as plt\n",
    "%matplotlib inline\n",
    "import seaborn as sns\n",
    "sns.set()"
   ]
  },
  {
   "cell_type": "code",
   "execution_count": 30,
   "metadata": {
    "collapsed": false
   },
   "outputs": [],
   "source": [
    "training_file = '/u/ki/swmclau2/des/PearceRedMagicXiCosmoFixedNd.hdf5'\n",
    "test_file = '/u/ki/swmclau2/des/PearceRedMagicXiCosmoFixedNd_Test.hdf5'\n",
    "\n",
    "#test_file = '/u/ki/swmclau2/des/xi_cosmo_tester/PearceRedMagicXiCosmoFixedNd_test.hdf5'\n",
    "em_method = 'gp'\n",
    "split_method = 'random'"
   ]
  },
  {
   "cell_type": "code",
   "execution_count": 4,
   "metadata": {
    "collapsed": false
   },
   "outputs": [],
   "source": [
    "a = 1.0\n",
    "z = 1.0/a - 1.0"
   ]
  },
  {
   "cell_type": "code",
   "execution_count": 5,
   "metadata": {
    "collapsed": false
   },
   "outputs": [],
   "source": [
    "fixed_params = {'z':z, 'cosmo': 3}#, 'r':0.53882047}"
   ]
  },
  {
   "cell_type": "code",
   "execution_count": 7,
   "metadata": {
    "collapsed": false
   },
   "outputs": [
    {
     "name": "stderr",
     "output_type": "stream",
     "text": [
      "/u/ki/swmclau2/.local/lib/python2.7/site-packages/pearce/emulator/emu.py:289: UserWarning: WARNING: NaN detected. Skipped 2643 points in training data.\n",
      "  warnings.warn('WARNING: NaN detected. Skipped %d points in training data.' % (num_skipped))\n"
     ]
    }
   ],
   "source": [
    "np.random.seed(0)\n",
    "emu = SpicyBuffalo(training_file, method = em_method, fixed_params=fixed_params,\n",
    "                 custom_mean_function = None, downsample_factor = 0.1)"
   ]
  },
  {
   "cell_type": "raw",
   "metadata": {
    "collapsed": false
   },
   "source": [
    "emu = OriginalRecipe(training_file, method = em_method, fixed_params=fixed_params,\n",
    "                 custom_mean_function = None, downsample_factor = 0.0001)"
   ]
  },
  {
   "cell_type": "raw",
   "metadata": {
    "collapsed": false
   },
   "source": [
    "x = emu.x*(emu._x_std+1e-5) + emu._x_mean\n",
    "y = emu.y*(emu._y_std+1e-5) + emu._y_mean"
   ]
  },
  {
   "cell_type": "code",
   "execution_count": 8,
   "metadata": {
    "collapsed": false
   },
   "outputs": [
    {
     "data": {
      "text/plain": [
       "['logM0', 'sigma_logM', 'logM1', 'alpha']"
      ]
     },
     "execution_count": 8,
     "metadata": {},
     "output_type": "execute_result"
    }
   ],
   "source": [
    "emu.get_param_names()"
   ]
  },
  {
   "cell_type": "raw",
   "metadata": {
    "collapsed": true
   },
   "source": [
    "#v = [  5.30324096,  -2.92565173,  -4.42429766,  -2.48246708,  10.0699553,                                                           \n",
    "#  -8.69248089,   0.15083459,  -4.72773171,   1.49655743,   1.17087069,                                                                 \n",
    "#   0.97997249,  -1.91976981,   7.17709699, -10.26944746,  10.37865121,                                                                 \n",
    "#   0.50210416,  12.01525603,   5.89975769,   4.78413158,  -1.33582408,                                                                 \n",
    "#  -9.94571436,   6.50103759,   9.70125021, -11.7173251,   -0.10738552] \n",
    "\n",
    "#v = np.ones_like(v)*12\n",
    "\n",
    "v = [ 12. ,         12. ,         12.  ,        12.   ,       12.     ,     12.,\n",
    "  11.67920429 ,  6.81656135 , 12.   ,        1.92715272 , 12.    ,       7.72884642,\n",
    "  12.,        -12.     ,      2.57697301,  12. ,          8.85016763,\n",
    "   9.96558899 ,  6.24704116 , 12.      ,    12.   ,      -12.    ,     -12. ,        -12.,\n",
    "  12.    ]\n",
    "\n",
    "#v =  [-12.,          -5.56039378,   5.01999226,   9.63986449, -12.,\n",
    "# -12.,          -2.13397232,   7.90203306, -12.,           0.51574787,\n",
    "#   7.25074046,  -1.28201782,   2.84486642, -12.,         -12.,\n",
    "#  12.,          -7.75414731,  12.,          12.,         -12.,\n",
    "#   5.15929851, -12.,           0.53369134,  -3.81346879,  -6.9684267, ]"
   ]
  },
  {
   "cell_type": "raw",
   "metadata": {
    "collapsed": true
   },
   "source": [
    "if hasattr(emu, \"_emulator\"):\n",
    "    emu._emulator.set_parameter_vector(v)\n",
    "    emu._emulator.recompute()\n",
    "else:\n",
    "    for _emulator in emu._emulators:\n",
    "        _emulator.set_parameter_vector(v)\n",
    "        _emulator.recompute()"
   ]
  },
  {
   "cell_type": "code",
   "execution_count": 9,
   "metadata": {
    "collapsed": false
   },
   "outputs": [
    {
     "name": "stdout",
     "output_type": "stream",
     "text": [
      "{'logM0': 14.746440511781975, 'sigma_logM': 0.22879734159310489, 'alpha': 1.0179532731987588, 'logM1': 14.305526752143287}\n"
     ]
    }
   ],
   "source": [
    "params = {}\n",
    "for pname in emu.get_param_names():\n",
    "    if pname == 'r':\n",
    "        continue\n",
    "    low, high = emu.get_param_bounds(pname)\n",
    "    params[pname] = np.random.uniform(low, high)\n",
    "    \n",
    "print params"
   ]
  },
  {
   "cell_type": "code",
   "execution_count": 13,
   "metadata": {
    "collapsed": false
   },
   "outputs": [],
   "source": [
    "fixed_params = {}#'f_c':1.0}#,'logM1': 13.8 }# 'z':0.0}\n",
    "\n",
    "cosmo_params = {'simname':'testbox', 'boxno': 3, 'realization': 0 , 'scale_factors':[1.0], 'system': 'long'}\n",
    "cat = cat_dict[cosmo_params['simname']](**cosmo_params)#construct the specified catalog!"
   ]
  },
  {
   "cell_type": "code",
   "execution_count": 14,
   "metadata": {
    "collapsed": false
   },
   "outputs": [],
   "source": [
    "cat.load(1.0, HOD='zheng07')"
   ]
  },
  {
   "cell_type": "code",
   "execution_count": 15,
   "metadata": {
    "collapsed": false
   },
   "outputs": [
    {
     "data": {
      "text/plain": [
       "array([ 2.17629e-02,  1.22830e-01, -1.13151e+00,  9.53515e-01,\n",
       "        3.11395e+00,  7.07317e+01,  3.70000e+00])"
      ]
     },
     "execution_count": 15,
     "metadata": {},
     "output_type": "execute_result"
    }
   ],
   "source": [
    "cat._get_cosmo_param_names_vals()[1]"
   ]
  },
  {
   "cell_type": "raw",
   "metadata": {
    "collapsed": false
   },
   "source": [
    "x[test_point_idx, :7]"
   ]
  },
  {
   "cell_type": "code",
   "execution_count": 16,
   "metadata": {
    "collapsed": false
   },
   "outputs": [],
   "source": [
    "test_point_idx = 1\n",
    "test_point_dict = dict(zip(emu.get_param_names(), emu.x[0][test_point_idx]*emu._x_std[0]+emu._x_mean[0]))"
   ]
  },
  {
   "cell_type": "code",
   "execution_count": 17,
   "metadata": {
    "collapsed": false
   },
   "outputs": [],
   "source": [
    "#hod_param_names = ['logM0', 'sigma_logM', 'logM1', 'alpha']\n",
    "emulation_point = [('logM0', 14.0), ('sigma_logM', 0.2),\n",
    "                    ('alpha', 1.083),('logM1', 13.7)]#, ('logMmin', 12.233)]\n",
    "\n",
    "#em_params = {key:test_point_dict[key] for key in hod_param_names}\n",
    "#em_params = dict(zip(hod_param_names, x_point))\n",
    "em_params = dict(emulation_point)\n",
    "em_params.update(fixed_params)"
   ]
  },
  {
   "cell_type": "code",
   "execution_count": 18,
   "metadata": {
    "collapsed": false
   },
   "outputs": [],
   "source": [
    "from scipy.optimize import minimize_scalar\n",
    "def add_logMmin(hod_params, cat, nd = 1e-4):\n",
    "    \"\"\"\n",
    "    In the fixed number density case, find the logMmin value that will match the nd given hod_params\n",
    "    :param: hod_params:\n",
    "        The other parameters besides logMmin\n",
    "    :param cat:\n",
    "        the catalog in question\n",
    "    :return:\n",
    "        None. hod_params will have logMmin added to it.\n",
    "    \"\"\"\n",
    "    hod_params['logMmin'] = 13.0 #initial guess\n",
    "    #cat.populate(hod_params) #may be overkill, but will ensure params are written everywhere\n",
    "    def func(logMmin, hod_params):\n",
    "        hod_params.update({'logMmin':logMmin})\n",
    "        calc_nd = cat.calc_analytic_nd(hod_params)\n",
    "        #print logMmin, calc_nd\n",
    "        return (calc_nd - nd)**2\n",
    "\n",
    "    res = minimize_scalar(func, bounds = (12, 16), args = (hod_params,), options = {'maxiter':100}, method = 'Bounded' )\n",
    "    # assuming this doens't fail\n",
    "    hod_params['logMmin'] = res.x\n"
   ]
  },
  {
   "cell_type": "code",
   "execution_count": 19,
   "metadata": {
    "collapsed": false
   },
   "outputs": [],
   "source": [
    "add_logMmin(em_params, cat)"
   ]
  },
  {
   "cell_type": "code",
   "execution_count": 20,
   "metadata": {
    "collapsed": false
   },
   "outputs": [],
   "source": [
    "r_bins = np.logspace(-1.1, 1.6, 19)\n",
    "rpoints = (r_bins[1:]+r_bins[:-1])/2.0"
   ]
  },
  {
   "cell_type": "code",
   "execution_count": 21,
   "metadata": {
    "collapsed": false
   },
   "outputs": [
    {
     "data": {
      "text/plain": [
       "13.401595794926763"
      ]
     },
     "execution_count": 21,
     "metadata": {},
     "output_type": "execute_result"
    }
   ],
   "source": [
    "em_params['logMmin']"
   ]
  },
  {
   "cell_type": "code",
   "execution_count": 22,
   "metadata": {
    "collapsed": false
   },
   "outputs": [
    {
     "name": "stderr",
     "output_type": "stream",
     "text": [
      "/u/ki/swmclau2/.local/lib/python2.7/site-packages/halotools/empirical_models/phase_space_models/analytic_models/monte_carlo_helpers.py:205: FutureWarning: Using a non-tuple sequence for multidimensional indexing is deprecated; use `arr[tuple(seq)]` instead of `arr[seq]`. In the future this will be interpreted as an array index, `arr[np.array(seq)]`, which will result either in an error or a different result.\n",
      "  self.rad_prof_func_table_indices[digitized_param_list]\n",
      "/u/ki/swmclau2/.local/lib/python2.7/site-packages/halotools/empirical_models/phase_space_models/analytic_models/monte_carlo_helpers.py:522: FutureWarning: Using a non-tuple sequence for multidimensional indexing is deprecated; use `arr[tuple(seq)]` instead of `arr[seq]`. In the future this will be interpreted as an array index, `arr[np.array(seq)]`, which will result either in an error or a different result.\n",
      "  self.rad_prof_func_table_indices[digitized_param_list]\n"
     ]
    }
   ],
   "source": [
    "_xi_vals = []\n",
    "for i in xrange(5):\n",
    "    cat.populate(em_params, min_ptcl=100)\n",
    "    _xi_vals.append(cat.calc_xi(r_bins))"
   ]
  },
  {
   "cell_type": "code",
   "execution_count": 23,
   "metadata": {
    "collapsed": true
   },
   "outputs": [],
   "source": [
    "xi_vals = np.log10(np.array(_xi_vals))\n",
    "y_calc = xi_vals.mean(axis = 0) #take one example as our xi. could also use the mean, but lets not cheat.\n",
    "cov = np.cov(xi_vals.T)#/np.sqrt(50)"
   ]
  },
  {
   "cell_type": "code",
   "execution_count": 24,
   "metadata": {
    "collapsed": false
   },
   "outputs": [
    {
     "name": "stdout",
     "output_type": "stream",
     "text": [
      "{'logMmin': 13.401595794926763, 'logM1': 13.7, 'logM0': 14.0, 'sigma_logM': 0.2, 'alpha': 1.083}\n"
     ]
    }
   ],
   "source": [
    "print em_params"
   ]
  },
  {
   "cell_type": "code",
   "execution_count": 25,
   "metadata": {
    "collapsed": false
   },
   "outputs": [
    {
     "data": {
      "text/plain": [
       "array([ 4.87375201,  4.65053798,  4.41368733,  4.15990209,  3.8925268 ,\n",
       "        3.61437523,  3.31105865,  2.98879531,  2.65185837,  2.27028494,\n",
       "        1.78975999,  1.24099556,  0.83176257,  0.5721476 ,  0.32383119,\n",
       "        0.07251469, -0.21017352, -0.52169291])"
      ]
     },
     "execution_count": 25,
     "metadata": {},
     "output_type": "execute_result"
    }
   ],
   "source": [
    "y_calc"
   ]
  },
  {
   "cell_type": "raw",
   "metadata": {
    "collapsed": false
   },
   "source": [
    "print y[test_point_idx*emu.n_bins:(test_point_idx+1)*emu.n_bins]"
   ]
  },
  {
   "cell_type": "raw",
   "metadata": {
    "collapsed": false
   },
   "source": [
    "10**x[test_point_idx*emu.n_bins-1:(test_point_idx+1)*emu.n_bins-1, -1]"
   ]
  },
  {
   "cell_type": "code",
   "execution_count": 26,
   "metadata": {
    "collapsed": false
   },
   "outputs": [
    {
     "name": "stdout",
     "output_type": "stream",
     "text": [
      "[ 4.30036305  4.08875128  3.86853856  3.64250733  3.40016038  3.15085267\n",
      "  2.88788797  2.61272891  2.32651076  1.93707367  1.45509142  1.03125181\n",
      "  0.75026646  0.5097665   0.26262001  0.00963081 -0.27590918 -0.57139177]\n",
      "[ 4.30036305  4.08875128  3.86853856  3.64250733  3.40016038  3.15085267\n",
      "  2.88788797  2.61272891  2.32651076  1.93707367  1.45509142  1.03125181\n",
      "  0.75026646  0.5097665   0.26262001  0.00963081 -0.27590918 -0.57139177]\n"
     ]
    }
   ],
   "source": [
    "y = np.array([_y[test_point_idx] for _y in emu.y])\n",
    "print y\n",
    "y+= emu.mean_function([_x[test_point_idx]] for _x in emu.x)#[:,0]\n",
    "print y"
   ]
  },
  {
   "cell_type": "code",
   "execution_count": 27,
   "metadata": {
    "collapsed": false
   },
   "outputs": [
    {
     "data": {
      "image/png": "[encoded data removed]",
      "text/plain": [
       "<matplotlib.figure.Figure at 0x7fe89690cbd0>"
      ]
     },
     "metadata": {},
     "output_type": "display_data"
    }
   ],
   "source": [
    "plt.plot(rpoints, xi_vals.T, alpha = 0.4)\n",
    "plt.plot(rpoints, y_calc)\n",
    "plt.plot(rpoints, y )\n",
    "\n",
    "#plt.plot(rpoints, y_point-0.2)\n",
    "\n",
    "plt.xscale('log')"
   ]
  },
  {
   "cell_type": "raw",
   "metadata": {
    "collapsed": false
   },
   "source": [
    "y_calc/y[test_point_idx*emu.n_bins-1:(test_point_idx+1)*emu.n_bins-1]"
   ]
  },
  {
   "cell_type": "code",
   "execution_count": 28,
   "metadata": {
    "collapsed": false
   },
   "outputs": [],
   "source": [
    "# get cosmo params\n",
    "del em_params['logMmin']\n",
    "cpv = cat._get_cosmo_param_names_vals()\n",
    "\n",
    "cosmo_param_dict = {key: val for key, val in zip(cpv[0], cpv[1])}\n",
    "\n",
    "#em_params.update( cosmo_param_dict)\n"
   ]
  },
  {
   "cell_type": "raw",
   "metadata": {
    "collapsed": false
   },
   "source": [
    "y_pred = emu.emulate_wrt_r(em_params)[0]"
   ]
  },
  {
   "cell_type": "raw",
   "metadata": {
    "collapsed": false
   },
   "source": [
    "print y_pred"
   ]
  },
  {
   "cell_type": "raw",
   "metadata": {
    "collapsed": false
   },
   "source": [
    "plt.plot(emu.scale_bin_centers, xi_vals.T, alpha = 0.4)\n",
    "plt.plot(emu.scale_bin_centers, y, label = 'Data')\n",
    "plt.plot(emu.scale_bin_centers, y_pred, label = 'Emu')\n",
    "\n",
    "plt.legend(loc='best')\n",
    "plt.xscale('log')"
   ]
  },
  {
   "cell_type": "raw",
   "metadata": {
    "collapsed": false
   },
   "source": [
    "#plt.plot(emu.scale_bin_centers, xi_vals.T, alpha = 0.4)\n",
    "#plt.plot(emu.scale_bin_centers, y)\n",
    "plt.plot(emu.scale_bin_centers, np.abs(y_pred/xi_vals).T)\n",
    "\n",
    "plt.xscale('log')\n",
    "plt.ylim([0.0, 2.0])"
   ]
  },
  {
   "cell_type": "code",
   "execution_count": 31,
   "metadata": {
    "collapsed": false
   },
   "outputs": [
    {
     "name": "stderr",
     "output_type": "stream",
     "text": [
      "/u/ki/swmclau2/.local/lib/python2.7/site-packages/pearce/emulator/emu.py:289: UserWarning: WARNING: NaN detected. Skipped 2119 points in training data.\n",
      "  warnings.warn('WARNING: NaN detected. Skipped %d points in training data.' % (num_skipped))\n"
     ]
    }
   ],
   "source": [
    "fixed_params = {'z':z, 'cosmo': 3}#, 'r':0.53882047}\n",
    "train_x, train_y, _, _ = emu.get_data(test_file, fixed_params, None)"
   ]
  },
  {
   "cell_type": "code",
   "execution_count": 32,
   "metadata": {
    "collapsed": false
   },
   "outputs": [
    {
     "data": {
      "text/plain": [
       "array([[15.41231231,  0.26196196, 15.09399399,  0.85725726, -1.01855591],\n",
       "       [15.41231231,  0.26196196, 15.09399399,  0.85725726, -0.86855591],\n",
       "       [15.41231231,  0.26196196, 15.09399399,  0.85725726, -0.71855592],\n",
       "       ...,\n",
       "       [14.93483483,  0.24219219, 13.76866867,  1.10550551,  1.23144409],\n",
       "       [14.93483483,  0.24219219, 13.76866867,  1.10550551,  1.38144409],\n",
       "       [14.93483483,  0.24219219, 13.76866867,  1.10550551,  1.53144409]])"
      ]
     },
     "execution_count": 32,
     "metadata": {},
     "output_type": "execute_result"
    }
   ],
   "source": [
    "train_x"
   ]
  },
  {
   "cell_type": "code",
   "execution_count": null,
   "metadata": {
    "collapsed": false,
    "scrolled": false
   },
   "outputs": [],
   "source": [
    "for idx in xrange(10):\n",
    "    x_point = train_x[idx*emu.n_bins, :-1]\n",
    "    y_point = train_y[idx*emu.n_bins:(idx+1)*emu.n_bins]\n",
    "    pop_params = dict(zip(emu.get_param_names(), x_point))\n",
    "    add_logMmin(pop_params, cat)\n",
    "    print pop_params\n",
    "\n",
    "\n",
    "    _xi_vals = []\n",
    "    for i in xrange(10):\n",
    "        cat.populate(pop_params, min_ptcl=20)\n",
    "        _xi_vals.append(cat.calc_xi(r_bins))\n",
    "\n",
    "    xi_vals = np.log10(np.array(_xi_vals))\n",
    "    y_calc = xi_vals.mean(axis = 0)\n",
    "    plt.subplot(211)\n",
    "    plt.plot(rpoints, y_calc, label = 'Sim')\n",
    "    plt.plot(rpoints, y_point, label = 'Data')\n",
    "    plt.xscale('log')\n",
    "    plt.legend(loc = 'best')\n",
    "    plt.subplot(212)\n",
    "    plt.plot(rpoints, y_calc/y_point)\n",
    "    plt.xscale('log')\n",
    "    plt.show()"
   ]
  },
  {
   "cell_type": "code",
   "execution_count": null,
   "metadata": {
    "collapsed": true
   },
   "outputs": [],
   "source": []
  }
 ],
 "metadata": {
  "kernelspec": {
   "display_name": "Python [conda env:hodemulator]",
   "language": "python",
   "name": "conda-env-hodemulator-py"
  },
  "language_info": {
   "codemirror_mode": {
    "name": "ipython",
    "version": 2
   },
   "file_extension": ".py",
   "mimetype": "text/x-python",
   "name": "python",
   "nbconvert_exporter": "python",
   "pygments_lexer": "ipython2",
   "version": "2.7.13"
  }
 },
 "nbformat": 4,
 "nbformat_minor": 0
}
