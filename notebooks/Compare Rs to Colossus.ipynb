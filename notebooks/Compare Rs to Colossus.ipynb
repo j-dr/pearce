{
 "cells": [
  {
   "cell_type": "code",
   "execution_count": 70,
   "metadata": {
    "collapsed": false
   },
   "outputs": [],
   "source": [
    "import numpy as np\n",
    "from os.path import join\n",
    "from colossus.halo import concentration\n",
    "from colossus.cosmology import cosmology\n",
    "from halotools.sim_manager import TabularAsciiReader"
   ]
  },
  {
   "cell_type": "code",
   "execution_count": 71,
   "metadata": {
    "collapsed": true
   },
   "outputs": [],
   "source": [
    "%matplotlib inline\n",
    "from seaborn import jointplot"
   ]
  },
  {
   "cell_type": "code",
   "execution_count": 72,
   "metadata": {
    "collapsed": true
   },
   "outputs": [],
   "source": [
    "directory = '/u/ki/swmclau2/des/NewAemulusBoxes/Box000/halos/m200b/'"
   ]
  },
  {
   "cell_type": "code",
   "execution_count": 73,
   "metadata": {
    "collapsed": true
   },
   "outputs": [],
   "source": [
    "z = 1/(0.8)-1\n",
    "idx = 7"
   ]
  },
  {
   "cell_type": "code",
   "execution_count": 74,
   "metadata": {
    "collapsed": false
   },
   "outputs": [
    {
     "name": "stdout",
     "output_type": "stream",
     "text": [
      "\n",
      "...Processing ASCII data of file: \n",
      "/u/ki/swmclau2/des/NewAemulusBoxes/Box000/halos/m200b/outbgc2_rs_7.list\n",
      " \n",
      "Total number of rows in detected data = 10079884\n",
      "Number of rows in detected header = 1 \n",
      "\n",
      "... working on chunk 0 of 2\n",
      "... working on chunk 1 of 2\n",
      "Total runtime to read in ASCII = 1.0 minutes\n",
      "\n",
      "\u0007\n"
     ]
    }
   ],
   "source": [
    "columns_to_keep_dict = {'halo_m200b': (2, 'f4'), 'halo_r200b': (5, 'f4'), 'halo_rs':(6, 'f4')}\n",
    "tar = TabularAsciiReader(join(directory, \"outbgc2_rs_%d.list\"%idx), columns_to_keep_dict)\n",
    "catalog = tar.read_ascii()"
   ]
  },
  {
   "cell_type": "code",
   "execution_count": 75,
   "metadata": {
    "collapsed": false
   },
   "outputs": [
    {
     "name": "stdout",
     "output_type": "stream",
     "text": [
      "['ombh2', 'omch2', 'w0', 'ns', 'ln10As', 'H0', 'Neff']\n"
     ]
    }
   ],
   "source": [
    "import pandas as pd\n",
    "param_file = '~swmclau2/des/LH_eigenspace_lnA_np7_n40_s556.dat'\n",
    "\n",
    "cosmo_params = pd.read_csv(param_file, sep = ' ', index_col = None)\n",
    "\n",
    "cosmo_idx = 0\n",
    "cosmo_vals = np.array(list(cosmo_params.iloc[cosmo_idx].values))\n",
    "names =  list(cosmo_params.columns.values)\n",
    "cosmo_dict = dict(zip(names, cosmo_vals))\n",
    "print names"
   ]
  },
  {
   "cell_type": "code",
   "execution_count": 76,
   "metadata": {
    "collapsed": false
   },
   "outputs": [],
   "source": [
    "h = cosmo_dict['H0']/100\n",
    "Oc = cosmo_dict['omch2']/(h**2)\n",
    "Ob = cosmo_dict['ombh2']/(h**2)\n",
    "Om = Ob+Oc"
   ]
  },
  {
   "cell_type": "code",
   "execution_count": 77,
   "metadata": {
    "collapsed": true
   },
   "outputs": [],
   "source": [
    "#look up sigma8 in the ics"
   ]
  },
  {
   "cell_type": "code",
   "execution_count": 78,
   "metadata": {
    "collapsed": false
   },
   "outputs": [],
   "source": [
    "params = {'flat': True, 'H0': cosmo_dict['H0'] , 'Om0': Om, 'Ob0': Ob, 'sigma8': 0.773, 'ns': cosmo_dict['ns'],\n",
    "         'Neff': cosmo_dict['Neff'], 'w0':cosmo_dict['w0']}"
   ]
  },
  {
   "cell_type": "code",
   "execution_count": 79,
   "metadata": {
    "collapsed": false
   },
   "outputs": [
    {
     "data": {
      "text/plain": [
       "<colossus.cosmology.cosmology.Cosmology at 0x7f5e42a30a50>"
      ]
     },
     "execution_count": 79,
     "metadata": {},
     "output_type": "execute_result"
    }
   ],
   "source": [
    "cosmology.setCosmology('myCosmo', params)"
   ]
  },
  {
   "cell_type": "code",
   "execution_count": 80,
   "metadata": {
    "collapsed": false
   },
   "outputs": [],
   "source": [
    "downsample_factor = 1e-3\n",
    "downsample_idxs = np.random.choice(catalog['halo_m200b'].shape[0],int(catalog['halo_m200b'].shape[0]*downsample_factor), replace = False )"
   ]
  },
  {
   "cell_type": "code",
   "execution_count": 81,
   "metadata": {
    "collapsed": false
   },
   "outputs": [],
   "source": [
    "catalog = catalog[downsample_idxs]"
   ]
  },
  {
   "cell_type": "code",
   "execution_count": 82,
   "metadata": {
    "collapsed": false
   },
   "outputs": [],
   "source": [
    "c_model_c = concentration.concentration(catalog['halo_m200b'], '200m', z, model = 'ludlow16')"
   ]
  },
  {
   "cell_type": "code",
   "execution_count": 83,
   "metadata": {
    "collapsed": false
   },
   "outputs": [
    {
     "name": "stderr",
     "output_type": "stream",
     "text": [
      "/afs/slac.stanford.edu/u/ki/swmclau2/.local/lib/python2.7/site-packages/ipykernel/__main__.py:1: RuntimeWarning: divide by zero encountered in divide\n",
      "  if __name__ == '__main__':\n"
     ]
    }
   ],
   "source": [
    "concs = catalog['halo_r200b']/catalog['halo_rs']"
   ]
  },
  {
   "cell_type": "code",
   "execution_count": 84,
   "metadata": {
    "collapsed": false
   },
   "outputs": [],
   "source": [
    "zero_idxs = catalog['halo_rs'] != 0\n",
    "\n",
    "concs = concs[zero_idxs]\n",
    "c_model_c = c_model_c[zero_idxs]"
   ]
  },
  {
   "cell_type": "code",
   "execution_count": 85,
   "metadata": {
    "collapsed": true
   },
   "outputs": [],
   "source": [
    "from matplotlib import pyplot as plt"
   ]
  },
  {
   "cell_type": "code",
   "execution_count": 86,
   "metadata": {
    "collapsed": false
   },
   "outputs": [
    {
     "data": {
      "text/plain": [
       "(array([2.300e+01, 1.050e+02, 6.670e+02, 2.393e+03, 3.920e+03, 2.194e+03,\n",
       "        5.320e+02, 1.360e+02, 1.700e+01, 2.000e+00]),\n",
       " array([-0.3087908 , -0.03830768,  0.23217544,  0.50265855,  0.7731417 ,\n",
       "         1.0436249 ,  1.3141079 ,  1.584591  ,  1.8550742 ,  2.1255574 ,\n",
       "         2.3960404 ], dtype=float32),\n",
       " <a list of 10 Patch objects>)"
      ]
     },
     "execution_count": 86,
     "metadata": {},
     "output_type": "execute_result"
    },
    {
     "data": {
      "image/png": "[encoded data removed]",
      "text/plain": [
       "<matplotlib.figure.Figure at 0x7f5e42c3e4d0>"
      ]
     },
     "metadata": {},
     "output_type": "display_data"
    }
   ],
   "source": [
    "plt.hist(np.log10(concs) )"
   ]
  },
  {
   "cell_type": "code",
   "execution_count": 87,
   "metadata": {
    "collapsed": false
   },
   "outputs": [
    {
     "data": {
      "text/plain": [
       "(array([   8.,   35.,   73.,  217.,  496., 1004., 2097., 4442., 1446.,\n",
       "         171.]),\n",
       " array([0.72934306, 0.76663435, 0.8039257 , 0.841217  , 0.8785083 ,\n",
       "        0.9157996 , 0.9530909 , 0.99038225, 1.0276736 , 1.0649649 ,\n",
       "        1.1022562 ], dtype=float32),\n",
       " <a list of 10 Patch objects>)"
      ]
     },
     "execution_count": 87,
     "metadata": {},
     "output_type": "execute_result"
    },
    {
     "data": {
      "image/png": "[encoded data removed]",
      "text/plain": [
       "<matplotlib.figure.Figure at 0x7f5e454031d0>"
      ]
     },
     "metadata": {},
     "output_type": "display_data"
    }
   ],
   "source": [
    "plt.hist(np.log10(c_model_c))"
   ]
  },
  {
   "cell_type": "code",
   "execution_count": 88,
   "metadata": {
    "collapsed": false
   },
   "outputs": [
    {
     "data": {
      "text/plain": [
       "<seaborn.axisgrid.JointGrid at 0x7f5e4542e2d0>"
      ]
     },
     "execution_count": 88,
     "metadata": {},
     "output_type": "execute_result"
    },
    {
     "data": {
      "image/png": "[encoded data removed]",
      "text/plain": [
       "<matplotlib.figure.Figure at 0x7f5e4542ec50>"
      ]
     },
     "metadata": {},
     "output_type": "display_data"
    }
   ],
   "source": [
    "jointplot(np.log10(concs), np.log10(c_model_c) )"
   ]
  },
  {
   "cell_type": "code",
   "execution_count": null,
   "metadata": {
    "collapsed": true
   },
   "outputs": [],
   "source": []
  },
  {
   "cell_type": "code",
   "execution_count": null,
   "metadata": {
    "collapsed": true
   },
   "outputs": [],
   "source": []
  }
 ],
 "metadata": {
  "kernelspec": {
   "display_name": "Python [conda env:hodemulator]",
   "language": "python",
   "name": "conda-env-hodemulator-py"
  },
  "language_info": {
   "codemirror_mode": {
    "name": "ipython",
    "version": 2
   },
   "file_extension": ".py",
   "mimetype": "text/x-python",
   "name": "python",
   "nbconvert_exporter": "python",
   "pygments_lexer": "ipython2",
   "version": "2.7.13"
  }
 },
 "nbformat": 4,
 "nbformat_minor": 0
}
