{
 "cells": [
  {
   "cell_type": "markdown",
   "metadata": {},
   "source": [
    "Cosmo MCMC is landing on biased HOD + Cosmology. I'm gonna first look at the code to make preds, and compare to the emulator. "
   ]
  },
  {
   "cell_type": "code",
   "execution_count": 171,
   "metadata": {
    "collapsed": true
   },
   "outputs": [],
   "source": [
    "from pearce.emulator import OriginalRecipe, ExtraCrispy, SpicyBuffalo\n",
    "from pearce.mocks import cat_dict\n",
    "import numpy as np\n",
    "from os import path"
   ]
  },
  {
   "cell_type": "code",
   "execution_count": 172,
   "metadata": {
    "collapsed": true
   },
   "outputs": [],
   "source": [
    "import matplotlib\n",
    "#matplotlib.use('Agg')\n",
    "from matplotlib import pyplot as plt\n",
    "%matplotlib inline\n",
    "import seaborn as sns\n",
    "sns.set()"
   ]
  },
  {
   "cell_type": "code",
   "execution_count": 173,
   "metadata": {
    "collapsed": true
   },
   "outputs": [],
   "source": [
    "training_file = '/scratch/users/swmclau2/xi_zheng07_cosmo_lowmsat/PearceRedMagicXiCosmoFixedNd.hdf5'\n",
    "#training_file = '/u/ki/swmclau2/des/PearceRedMagicXiCosmoFixedNdLowMsat.hdf5'\n",
    "test_file = '/scratch/users/swmclau2/xi_zheng07_cosmo_test_lowmsat/PearceRedMagicXiCosmoFixedNd_Test.hdf5'\n",
    "#test_file = '/u/ki/swmclau2/des/PearceRedMagicXiCosmoFixedNdLowMsatTest.hdf5'\n",
    "\n",
    "#test_file = '/u/ki/swmclau2/des/xi_cosmo_tester/PearceRedMagicXiCosmoFixedNd_test.hdf5'\n",
    "em_method = 'gp'\n",
    "split_method = 'random'"
   ]
  },
  {
   "cell_type": "code",
   "execution_count": 174,
   "metadata": {
    "collapsed": true
   },
   "outputs": [],
   "source": [
    "a = 1.0\n",
    "z = 1.0/a - 1.0"
   ]
  },
  {
   "cell_type": "code",
   "execution_count": 175,
   "metadata": {
    "collapsed": true
   },
   "outputs": [],
   "source": [
    "fixed_params = {'z':z}#, 'cosmo': 3}#, 'r':0.53882047}"
   ]
  },
  {
   "cell_type": "code",
   "execution_count": 176,
   "metadata": {},
   "outputs": [
    {
     "name": "stderr",
     "output_type": "stream",
     "text": [
      "/home/users/swmclau2/.local/lib/python2.7/site-packages/pearce/emulator/emu.py:287: UserWarning: WARNING: NaN detected. Skipped 21 points in training data.\n",
      "  warnings.warn('WARNING: NaN detected. Skipped %d points in training data.' % (num_skipped))\n"
     ]
    }
   ],
   "source": [
    "np.random.seed(0)\n",
    "emu = SpicyBuffalo(training_file, method = em_method, fixed_params=fixed_params,\n",
    "                 custom_mean_function = 'linear', downsample_factor = 0.1)"
   ]
  },
  {
   "cell_type": "raw",
   "metadata": {},
   "source": [
    "emu = OriginalRecipe(training_file, method = em_method, fixed_params=fixed_params,\n",
    "                 custom_mean_function = None, downsample_factor = 0.0001)"
   ]
  },
  {
   "cell_type": "code",
   "execution_count": 177,
   "metadata": {},
   "outputs": [],
   "source": [
    "#hod_param_names = ['logM0', 'sigma_logM', 'logM1', 'alpha']\n",
    "emulation_point = [('logM0', 13.5), ('sigma_logM', 0.25),\n",
    "                    ('alpha', 0.9),('logM1', 13.5)]#, ('logMmin', 12.233)]\n",
    "\n",
    "#em_params = {key:test_point_dict[key] for key in hod_param_names}\n",
    "#em_params = dict(zip(hod_param_names, x_point))\n",
    "em_params = dict(emulation_point)\n",
    "em_params.update(fixed_params)"
   ]
  },
  {
   "cell_type": "code",
   "execution_count": 178,
   "metadata": {
    "collapsed": true
   },
   "outputs": [],
   "source": [
    "r_bins = np.logspace(-1.1, 1.6, 19)\n",
    "rpoints = (r_bins[1:]+r_bins[:-1])/2.0"
   ]
  },
  {
   "cell_type": "code",
   "execution_count": 179,
   "metadata": {
    "collapsed": true
   },
   "outputs": [],
   "source": [
    "boxno, realization = 0,1"
   ]
  },
  {
   "cell_type": "code",
   "execution_count": 180,
   "metadata": {
    "collapsed": true
   },
   "outputs": [],
   "source": [
    "fixed_params = {}#'f_c':1.0}#,'logM1': 13.8 }# 'z':0.0}\n",
    "\n",
    "cosmo_params = {'simname':'testbox', 'boxno': boxno, 'realization': realization, 'scale_factors':[1.0], 'system': 'sherlock'}\n",
    "cat = cat_dict[cosmo_params['simname']](**cosmo_params)#construct the specified catalog!"
   ]
  },
  {
   "cell_type": "code",
   "execution_count": 181,
   "metadata": {
    "collapsed": true
   },
   "outputs": [],
   "source": [
    "# get cosmo params\n",
    "try:\n",
    "    del em_params['logMmin']\n",
    "except KeyError:\n",
    "    pass\n",
    "cpv = cat._get_cosmo_param_names_vals()\n",
    "\n",
    "cosmo_param_dict = {key: val for key, val in zip(cpv[0], cpv[1])}\n",
    "\n",
    "em_params.update( cosmo_param_dict)\n"
   ]
  },
  {
   "cell_type": "code",
   "execution_count": 182,
   "metadata": {
    "collapsed": true
   },
   "outputs": [],
   "source": [
    "y_emu = 10**emu.emulate_wrt_r(em_params)[0]"
   ]
  },
  {
   "cell_type": "code",
   "execution_count": 183,
   "metadata": {},
   "outputs": [],
   "source": [
    "y_calc_jk = np.loadtxt('/home/users/swmclau2/Git/pearce/bin/mcmc/xi_gg_true_jk_%d%d.npy'%(boxno, realization))\n",
    "y_calc_mean = np.loadtxt('/home/users/swmclau2/Git/pearce/bin/mcmc/xi_gg_true_mean_%d%d.npy'%(boxno, realization))"
   ]
  },
  {
   "cell_type": "code",
   "execution_count": 184,
   "metadata": {
    "collapsed": true
   },
   "outputs": [],
   "source": [
    "y_cov_jk = np.loadtxt('/home/users/swmclau2/Git/pearce/bin/mcmc/xi_gg_cov_true_jk_%d%d.npy'%(boxno, realization))"
   ]
  },
  {
   "cell_type": "code",
   "execution_count": 185,
   "metadata": {
    "collapsed": true
   },
   "outputs": [],
   "source": [
    "#y_cov_jk = np.log10(np.exp(1))*np.log(1+y_cov_jk/np.outer(y_calc_jk, y_calc_jk) )\n",
    "#y_calc_jk = np.log10(y_calc_jk)#"
   ]
  },
  {
   "cell_type": "code",
   "execution_count": 186,
   "metadata": {
    "collapsed": true
   },
   "outputs": [],
   "source": [
    "scov = np.loadtxt('/home/users/swmclau2/Git/pearce/bin/mcmc/xigg_scov.npy')"
   ]
  },
  {
   "cell_type": "code",
   "execution_count": 187,
   "metadata": {
    "collapsed": true
   },
   "outputs": [],
   "source": [
    "#y_cov = np.loadtxt('/home/users/swmclau2/Git/pearce/bin/mcmc/xi_gg_cov_true.npy')\n",
    "#y_err = np.sqrt(np.diag(y_cov)) + np.sqrt(np.diag(emu.ycov))\n",
    "#y_err_jk = np.sqrt(np.diag(y_cov_jk)) + np.sqrt(np.diag(scov))\n",
    "#cov = np.loadtxt('/home/users/swmclau2/Git/pearce/bin/mcmc/xi_gg_cov_true_all.npy')\n",
    "y_err = np.sqrt(np.diag(y_cov_jk+scov))"
   ]
  },
  {
   "cell_type": "code",
   "execution_count": 188,
   "metadata": {
    "collapsed": true
   },
   "outputs": [],
   "source": [
    "fname = '/scratch/users/swmclau2/PearceMCMC/500_walkers_20000_steps_xigg_hod_r%d_%d_lin_emu2_jk.npy'%(boxno, realization)"
   ]
  },
  {
   "cell_type": "code",
   "execution_count": 189,
   "metadata": {
    "collapsed": true
   },
   "outputs": [],
   "source": [
    "from itertools import islice\n",
    "def load_chain(fname, n_walkers, n_burn):\n",
    "    chain_list = []\n",
    "    with open(fname, 'r') as f:\n",
    "        step_counter = 0\n",
    "        pnames_line =  f.readline() #header\n",
    "        pnames = pnames_line[1:].split()\n",
    "        while True:\n",
    "            next_lines = islice(f, n_walkers)\n",
    "            step_counter+=1\n",
    "\n",
    "            if step_counter % 100 == 0:\n",
    "                #print step_counter, len(chain_list)\n",
    "                pass\n",
    "\n",
    "            if step_counter < n_burn:# or step_counter > 20000:\n",
    "                for line in next_lines:\n",
    "                    pass\n",
    "                continue\n",
    "\n",
    "            next_lines = np.array([ np.fromstring(line, sep = ' ') for line in next_lines], dtype=float)\n",
    "\n",
    "            if len(next_lines) < 1:\n",
    "                break\n",
    "\n",
    "            chain_list.append(next_lines)\n",
    "    return np.vstack(chain_list), pnames"
   ]
  },
  {
   "cell_type": "code",
   "execution_count": 190,
   "metadata": {},
   "outputs": [],
   "source": [
    "n_walkers, n_burn = 500, 0\n",
    "chain, param_names = load_chain(fname, n_walkers, n_burn)"
   ]
  },
  {
   "cell_type": "code",
   "execution_count": 191,
   "metadata": {},
   "outputs": [
    {
     "name": "stdout",
     "output_type": "stream",
     "text": [
      "(2496500, 11) 4993\n"
     ]
    }
   ],
   "source": [
    "print chain.shape, chain.shape[0]/n_walkers"
   ]
  },
  {
   "cell_type": "code",
   "execution_count": 192,
   "metadata": {},
   "outputs": [
    {
     "name": "stdout",
     "output_type": "stream",
     "text": [
      "[  3.12775805e+00   1.36185583e+01   1.81703915e-01   6.57665199e+01\n",
      "  -1.06094626e+00   3.09830538e+00   1.09991516e-01   1.36175085e+01\n",
      "   9.48963874e-01   9.46835311e-01   2.27471432e-02]\n"
     ]
    }
   ],
   "source": [
    "MAP = chain.mean(axis = 0)\n",
    "print MAP"
   ]
  },
  {
   "cell_type": "code",
   "execution_count": 193,
   "metadata": {
    "collapsed": true
   },
   "outputs": [],
   "source": [
    "varied_param_name = 'Neff'\n",
    "bounds = emu.get_param_bounds(varied_param_name)\n",
    "Nvp = 100\n",
    "vp_vals = np.linspace(bounds[0], bounds[1], Nvp)\n",
    "\n",
    "varied_param_xis = []\n",
    "for val in vp_vals:\n",
    "    em_params[varied_param_name] = val\n",
    "    varied_param_xis.append(10**emu.emulate_wrt_r(em_params))"
   ]
  },
  {
   "cell_type": "code",
   "execution_count": 194,
   "metadata": {
    "collapsed": true
   },
   "outputs": [],
   "source": [
    "em_params.update(dict(zip(param_names, MAP)))\n",
    "MAP_xi = 10**emu.emulate_wrt_r(em_params)[0]"
   ]
  },
  {
   "cell_type": "code",
   "execution_count": 195,
   "metadata": {},
   "outputs": [],
   "source": [
    "chain_vals = []\n",
    "\n",
    "rand_idxs = np.random.choice(chain.shape[0], size = 2000, replace = False)\n",
    "rand_chain = chain[rand_idxs]\n",
    "\n",
    "for row in rand_chain:\n",
    "    cosmo_params = dict(zip(param_names, row))\n",
    "    #cosmo_params['Neff'] = cosmo_param_dict['Neff']\n",
    "    #cosmo_params['ln10As'] = cosmo_param_dict['ln10As']\n",
    "    em_params.update(cosmo_params)\n",
    "\n",
    "    chain_vals.append(10**emu.emulate_wrt_r(em_params))"
   ]
  },
  {
   "cell_type": "code",
   "execution_count": 196,
   "metadata": {
    "collapsed": true
   },
   "outputs": [],
   "source": [
    "vp_palette = sns.cubehelix_palette(Nvp)"
   ]
  },
  {
   "cell_type": "code",
   "execution_count": 197,
   "metadata": {},
   "outputs": [
    {
     "data": {
      "text/plain": [
       "array([  2.32629000e-02,   1.07830000e-01,  -7.26513000e-01,\n",
       "         9.80515000e-01,   3.03895000e+00,   6.32317000e+01,\n",
       "         2.95000000e+00])"
      ]
     },
     "execution_count": 197,
     "metadata": {},
     "output_type": "execute_result"
    }
   ],
   "source": [
    "cpv[1]"
   ]
  },
  {
   "cell_type": "code",
   "execution_count": 198,
   "metadata": {},
   "outputs": [
    {
     "data": {
      "text/plain": [
       "array([  8.00107256e+04,   4.32601438e+04,   2.36317251e+04,\n",
       "         1.30685972e+04,   6.84829850e+03,   3.69994209e+03,\n",
       "         1.90643168e+03,   8.58817622e+02,   3.99403719e+02,\n",
       "         1.43091472e+02,   4.24489553e+01,   1.31690531e+01,\n",
       "         6.65932794e+00,   3.79671710e+00,   2.09376579e+00,\n",
       "         1.19231200e+00,   6.43639549e-01,   3.13486315e-01])"
      ]
     },
     "execution_count": 198,
     "metadata": {},
     "output_type": "execute_result"
    }
   ],
   "source": [
    "MAP_xi"
   ]
  },
  {
   "cell_type": "code",
   "execution_count": 199,
   "metadata": {},
   "outputs": [
    {
     "data": {
      "image/png": "[encoded data removed]",
      "text/plain": [
       "<matplotlib.figure.Figure at 0x7fc3b3e87fd0>"
      ]
     },
     "metadata": {},
     "output_type": "display_data"
    }
   ],
   "source": [
    "fig = plt.figure(figsize = (10,6))\n",
    "\n",
    "for val in chain_vals:\n",
    "    plt.plot(rpoints, val[0], c= 'm', alpha = 0.1 )\n",
    "    \n",
    "#for i, (val, pval) in enumerate(zip(varied_param_xis, vp_vals)):\n",
    "#    plt.plot(rpoints, val[0], color = vp_palette[i], alpha = 0.8)\n",
    "    \n",
    "\n",
    "plt.plot(rpoints, MAP_xi, label = 'MAP')\n",
    "    \n",
    "plt.errorbar(rpoints, y_calc_jk, yerr= y_err,  c = 'k', label = 'Truth')\n",
    "plt.plot(rpoints, y_calc_mean  , label = 'Mean')\n",
    "plt.plot(rpoints, y_emu, c = 'g',lw =2, label = 'Emu at Truth')\n",
    "#plt.xscale('log')\n",
    "plt.loglog()\n",
    "plt.title('Varying %s'%varied_param_name)\n",
    "plt.legend(loc = 'best')\n",
    "plt.show()"
   ]
  },
  {
   "cell_type": "code",
   "execution_count": 200,
   "metadata": {},
   "outputs": [
    {
     "data": {
      "image/png": "[encoded data removed]",
      "text/plain": [
       "<matplotlib.figure.Figure at 0x7fc3b3e87ad0>"
      ]
     },
     "metadata": {},
     "output_type": "display_data"
    }
   ],
   "source": [
    "fig = plt.figure(figsize = (10,6))\n",
    "\n",
    "#for val in chain_vals:\n",
    "#    plt.plot(rpoints, val[0]-y_calc_jk, c= 'm', alpha = 0.1 )\n",
    "    \n",
    "for i, (val, pval) in enumerate(zip(varied_param_xis, vp_vals)):\n",
    "    plt.plot(rpoints, val[0], color = vp_palette[i], alpha = 0.05)\n",
    "    \n",
    "\n",
    "#plt.plot(rpoints, MAP_xi, label = 'MAP')\n",
    "    \n",
    "plt.errorbar(rpoints, y_calc_jk, yerr= y_err,  c = 'k', label = 'Truth')\n",
    "plt.plot(rpoints, y_calc_mean  , label = 'Mean')\n",
    "\n",
    "#plt.plot(rpoints, y_emu, c = 'g',lw =2, label = 'Emu at Truth')\n",
    "#plt.xscale('log')\n",
    "plt.loglog()\n",
    "plt.title('Varying %s'%varied_param_name)\n",
    "plt.legend(loc = 'best')\n",
    "plt.show()"
   ]
  },
  {
   "cell_type": "code",
   "execution_count": 201,
   "metadata": {},
   "outputs": [
    {
     "ename": "NameError",
     "evalue": "name 'y_err_jk' is not defined",
     "output_type": "error",
     "traceback": [
      "\u001b[0;31m\u001b[0m",
      "\u001b[0;31mNameError\u001b[0mTraceback (most recent call last)",
      "\u001b[0;32m<ipython-input-201-689a73833df2>\u001b[0m in \u001b[0;36m<module>\u001b[0;34m()\u001b[0m\n\u001b[1;32m     10\u001b[0m \u001b[0mplt\u001b[0m\u001b[0;34m.\u001b[0m\u001b[0mplot\u001b[0m\u001b[0;34m(\u001b[0m\u001b[0mrpoints\u001b[0m\u001b[0;34m,\u001b[0m \u001b[0mMAP_xi\u001b[0m \u001b[0;34m-\u001b[0m \u001b[0my_calc_jk\u001b[0m\u001b[0;34m,\u001b[0m \u001b[0mcolor\u001b[0m \u001b[0;34m=\u001b[0m \u001b[0;34m'y'\u001b[0m\u001b[0;34m,\u001b[0m \u001b[0mlabel\u001b[0m \u001b[0;34m=\u001b[0m \u001b[0;34m'MAP'\u001b[0m\u001b[0;34m)\u001b[0m\u001b[0;34m\u001b[0m\u001b[0m\n\u001b[1;32m     11\u001b[0m \u001b[0;34m\u001b[0m\u001b[0m\n\u001b[0;32m---> 12\u001b[0;31m \u001b[0mplt\u001b[0m\u001b[0;34m.\u001b[0m\u001b[0merrorbar\u001b[0m\u001b[0;34m(\u001b[0m\u001b[0mrpoints\u001b[0m\u001b[0;34m,\u001b[0m \u001b[0mnp\u001b[0m\u001b[0;34m.\u001b[0m\u001b[0mzeros_like\u001b[0m\u001b[0;34m(\u001b[0m\u001b[0mrpoints\u001b[0m\u001b[0;34m)\u001b[0m\u001b[0;34m,\u001b[0m \u001b[0myerr\u001b[0m\u001b[0;34m=\u001b[0m \u001b[0my_err_jk\u001b[0m\u001b[0;34m,\u001b[0m  \u001b[0mc\u001b[0m \u001b[0;34m=\u001b[0m \u001b[0;34m'k'\u001b[0m\u001b[0;34m,\u001b[0m \u001b[0mlabel\u001b[0m \u001b[0;34m=\u001b[0m \u001b[0;34m'Truth'\u001b[0m\u001b[0;34m)\u001b[0m\u001b[0;34m\u001b[0m\u001b[0m\n\u001b[0m\u001b[1;32m     13\u001b[0m \u001b[0mplt\u001b[0m\u001b[0;34m.\u001b[0m\u001b[0mplot\u001b[0m\u001b[0;34m(\u001b[0m\u001b[0mrpoints\u001b[0m\u001b[0;34m,\u001b[0m \u001b[0my_emu\u001b[0m\u001b[0;34m-\u001b[0m\u001b[0my_calc_jk\u001b[0m\u001b[0;34m,\u001b[0m \u001b[0mc\u001b[0m \u001b[0;34m=\u001b[0m \u001b[0;34m'g'\u001b[0m\u001b[0;34m,\u001b[0m\u001b[0mlw\u001b[0m \u001b[0;34m=\u001b[0m\u001b[0;36m2\u001b[0m\u001b[0;34m,\u001b[0m \u001b[0mlabel\u001b[0m \u001b[0;34m=\u001b[0m \u001b[0;34m'Emu at Truth'\u001b[0m\u001b[0;34m)\u001b[0m\u001b[0;34m\u001b[0m\u001b[0m\n\u001b[1;32m     14\u001b[0m \u001b[0;31m#plt.xscale('log')\u001b[0m\u001b[0;34m\u001b[0m\u001b[0;34m\u001b[0m\u001b[0m\n",
      "\u001b[0;31mNameError\u001b[0m: name 'y_err_jk' is not defined"
     ]
    },
    {
     "data": {
      "image/png": "[encoded data removed]",
      "text/plain": [
       "<matplotlib.figure.Figure at 0x7fc3b12ac050>"
      ]
     },
     "metadata": {},
     "output_type": "display_data"
    }
   ],
   "source": [
    "fig = plt.figure(figsize = (10,6))\n",
    "\n",
    "for val in chain_vals:\n",
    "    plt.plot(rpoints, val[0]-y_calc_jk, c= 'm', alpha = 0.1 )\n",
    "    \n",
    "#for i, (val, pval) in enumerate(zip(varied_param_xis, vp_vals)):\n",
    "#    plt.plot(rpoints, val[0]-y_calc_jk, color = vp_palette[i], alpha = 0.8)\n",
    "    \n",
    "\n",
    "plt.plot(rpoints, MAP_xi - y_calc_jk, color = 'y', label = 'MAP')\n",
    "    \n",
    "plt.errorbar(rpoints, np.zeros_like(rpoints), yerr= y_err_jk,  c = 'k', label = 'Truth')\n",
    "plt.plot(rpoints, y_emu-y_calc_jk, c = 'g',lw =2, label = 'Emu at Truth')\n",
    "#plt.xscale('log')\n",
    "plt.loglog()\n",
    "plt.legend(loc = 'best')\n",
    "plt.show()"
   ]
  },
  {
   "cell_type": "code",
   "execution_count": null,
   "metadata": {},
   "outputs": [],
   "source": [
    "for val in chain_vals:\n",
    "    plt.plot(rpoints, val[0], c= 'r', alpha = 0.1 )\n",
    "    \n",
    "#plt.errorbar(rpoints, y_calc, yerr= y_err,  c = 'k', label = 'Truth')\n",
    "plt.errorbar(rpoints, y_calc_jk, yerr= y_err_jk,  c = 'b', label = 'Truth Jk')\n",
    "plt.plot(rpoints, y_emu, c = 'g',lw =2, label = 'Emu at Truth')\n",
    "\n",
    "#plt.xscale('log')\n",
    "plt.loglog()\n",
    "plt.legend(loc = 'best')\n",
    "plt.show()"
   ]
  },
  {
   "cell_type": "code",
   "execution_count": null,
   "metadata": {},
   "outputs": [],
   "source": [
    "fig = plt.figure(figsize = (12, 5))\n",
    "\n",
    "plt.subplot(121)\n",
    "#plt.plot(rpoints, y_calc, label = 'Sim')\n",
    "plt.plot(rpoints, y_calc, label = 'Sim')\n",
    "plt.plot(rpoints, y_pred, label = 'Emu')\n",
    "plt.xscale('log')\n",
    "plt.legend(loc = 'best')\n",
    "plt.ylabel(r'$\\xi_{gg}(r)$')\n",
    "plt.xlabel(r'$r$ [Mpc]')\n",
    "plt.subplot(122)\n",
    "#plt.plot(rpoints, y_calc/y_point, label = 'Sim')\n",
    "plt.plot(rpoints, y_pred/y_calc, label = 'Emu/Sim')\n",
    "plt.legend(loc = 'best')\n",
    "plt.xlabel(r'$r$ [Mpc]')\n",
    "\n",
    "plt.xscale('log')\n",
    "plt.show()"
   ]
  },
  {
   "cell_type": "code",
   "execution_count": null,
   "metadata": {
    "collapsed": true
   },
   "outputs": [],
   "source": [
    "print y_pred/y_calc"
   ]
  },
  {
   "cell_type": "raw",
   "metadata": {},
   "source": [
    "#plt.plot(emu.scale_bin_centers, xi_vals.T, alpha = 0.4)\n",
    "#plt.plot(emu.scale_bin_centers, y)\n",
    "plt.plot(emu.scale_bin_centers, np.abs(y_pred/xi_vals).T)\n",
    "\n",
    "plt.xscale('log')\n",
    "plt.ylim([0.0, 2.0])"
   ]
  },
  {
   "cell_type": "code",
   "execution_count": null,
   "metadata": {
    "collapsed": true
   },
   "outputs": [],
   "source": [
    "fixed_params = {'z':z, 'cosmo': 3}#, 'r':0.53882047}\n",
    "train_x, train_y, _, info = emu.get_data(test_file, fixed_params, None)#, skip_nans = False)"
   ]
  },
  {
   "cell_type": "code",
   "execution_count": null,
   "metadata": {
    "collapsed": true
   },
   "outputs": [],
   "source": [
    "info"
   ]
  },
  {
   "cell_type": "code",
   "execution_count": null,
   "metadata": {
    "collapsed": true
   },
   "outputs": [],
   "source": [
    "cpv = cat._get_cosmo_param_names_vals()\n",
    "cosmo_params = dict(zip(cpv[0], cpv[1]))"
   ]
  },
  {
   "cell_type": "code",
   "execution_count": null,
   "metadata": {
    "collapsed": true,
    "scrolled": false
   },
   "outputs": [],
   "source": [
    "for idx in xrange(100):\n",
    "    x_point = train_x[idx*emu.n_bins, :-1]\n",
    "    y_point = train_y[idx*emu.n_bins:(idx+1)*emu.n_bins]\n",
    "    pop_params = dict(zip(info['ordered_params'].keys(), x_point))\n",
    "\n",
    "    \n",
    "    #add_logMmin(pop_params, cat)\n",
    "    print pop_params\n",
    "\n",
    "    #_xi_vals = []\n",
    "    #for i in xrange(10):\n",
    "    #    cat.populate(pop_params, min_ptcl=100)\n",
    "    #    _xi_vals.append(cat.calc_xi(r_bins))\n",
    "\n",
    "    #xi_vals = np.log10(np.array(_xi_vals))\n",
    "    #y_calc = xi_vals.mean(axis = 0)\n",
    "    \n",
    "    pop_params.update(cosmo_params)\n",
    "    #del pop_params['logMmin']\n",
    "    \n",
    "    y_pred = emu.emulate_wrt_r(pop_params)[0]\n",
    "\n",
    "    fig = plt.figure(figsize = (14, 6))\n",
    "\n",
    "    plt.subplot(121)\n",
    "    #plt.plot(rpoints, y_calc, label = 'Sim')\n",
    "    plt.plot(rpoints, y_point, label = 'Data')\n",
    "    plt.plot(rpoints, y_pred, label = 'Emu')\n",
    "    plt.xscale('log')\n",
    "    plt.legend(loc = 'best')\n",
    "    plt.subplot(122)\n",
    "    #plt.plot(rpoints, y_calc/y_point, label = 'Sim')\n",
    "    plt.plot(rpoints, y_pred/y_point, label = 'Emu/True')\n",
    "    plt.legend(loc = 'best')\n",
    "\n",
    "    plt.xscale('log')\n",
    "    plt.show()"
   ]
  },
  {
   "cell_type": "code",
   "execution_count": null,
   "metadata": {
    "collapsed": true
   },
   "outputs": [],
   "source": []
  },
  {
   "cell_type": "code",
   "execution_count": null,
   "metadata": {
    "collapsed": true
   },
   "outputs": [],
   "source": []
  },
  {
   "cell_type": "code",
   "execution_count": null,
   "metadata": {
    "collapsed": true
   },
   "outputs": [],
   "source": []
  }
 ],
 "metadata": {
  "kernelspec": {
   "display_name": "Python 2",
   "language": "python",
   "name": "python2"
  },
  "language_info": {
   "codemirror_mode": {
    "name": "ipython",
    "version": 2
   },
   "file_extension": ".py",
   "mimetype": "text/x-python",
   "name": "python",
   "nbconvert_exporter": "python",
   "pygments_lexer": "ipython2",
   "version": "2.7.13"
  }
 },
 "nbformat": 4,
 "nbformat_minor": 1
}
