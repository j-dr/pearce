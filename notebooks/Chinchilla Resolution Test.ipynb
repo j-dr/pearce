{
 "cells": [
  {
   "cell_type": "markdown",
   "metadata": {},
   "source": [
    "I want to see waht the HODs (and other things) look like in bigger v smaller boxes. "
   ]
  },
  {
   "cell_type": "code",
   "execution_count": 22,
   "metadata": {
    "collapsed": false
   },
   "outputs": [],
   "source": [
    "from pearce.mocks.kittens import cat_dict\n",
    "import numpy as np\n",
    "from scipy.stats import binned_statistic, linregress"
   ]
  },
  {
   "cell_type": "code",
   "execution_count": 23,
   "metadata": {
    "collapsed": true
   },
   "outputs": [],
   "source": [
    "from matplotlib import pyplot as plt\n",
    "%matplotlib inline\n",
    "import seaborn as sns\n",
    "sns.set()"
   ]
  },
  {
   "cell_type": "code",
   "execution_count": 24,
   "metadata": {
    "collapsed": false
   },
   "outputs": [],
   "source": [
    "from halotools.sim_manager import HaloTableCache\n",
    "\n",
    "cache = HaloTableCache()"
   ]
  },
  {
   "cell_type": "raw",
   "metadata": {
    "collapsed": false
   },
   "source": [
    "invalid_caches = [('resolution', 'rockstar', 'most_recent_%02d', '0.25', \n",
    "                   '/u/ki/swmclau2/des/halocats/hlist_0.80.list.resolution_%02d.hdf5'%boxno) for boxno in [0, 4,5,6,7,8,9,10]]\n",
    "\n",
    "for ic in invalid_caches:\n",
    "    cache.remove_entry_from_cache_log(simname = ic[0], halo_finder = ic[1], version_name = ic[2], redshift = ic[3], fname = ic[4],\n",
    "                                      raise_non_existence_exception = False, delete_corresponding_halo_catalog=True)"
   ]
  },
  {
   "cell_type": "code",
   "execution_count": 25,
   "metadata": {
    "collapsed": false
   },
   "outputs": [
    {
     "name": "stdout",
     "output_type": "stream",
     "text": [
      "most_recent_00\n",
      "most_recent_04\n",
      "most_recent_05\n",
      "most_recent_06\n",
      "most_recent_07\n",
      "most_recent_08\n",
      "most_recent_09\n",
      "most_recent_10\n"
     ]
    }
   ],
   "source": [
    "cats = []\n",
    "boxnos =  [0, 4,5,6,7,8,9,10]\n",
    "\n",
    "for boxno in boxnos:\n",
    "    cosmo_params = {'simname':'resolution','boxno': boxno, 'scale_factors':[0.8, 1.0]}\n",
    "\n",
    "    cat = cat_dict[cosmo_params['simname']](**cosmo_params)#construct the specified catalog!\n",
    "    print cat.version_name\n",
    "\n",
    "    cat.load(1.0, tol = 0.01, HOD='redMagic', particles = False)#, hod_kwargs = {'sec_haloprop_key':'halo_log_nfw_conc'})#, hod_kwargs={'split': 0.5})\n",
    "    cats.append(cat)"
   ]
  },
  {
   "cell_type": "code",
   "execution_count": 26,
   "metadata": {
    "collapsed": false
   },
   "outputs": [],
   "source": [
    "cosmo_params = {'simname':'chinchilla','Lbox': 400.0, 'scale_factors':[0.8112, 1.0]}\n",
    "\n",
    "baseline_cat = cat_dict[cosmo_params['simname']](**cosmo_params)#construct the specified catalog!\n",
    "baseline_cat.load(1.0, tol = 0.01, HOD='redMagic', particles = False)#, hod_kwargs = {'sec_haloprop_key':'halo_log_nfw_conc'})#, hod_kwargs={'split': 0.5})\n"
   ]
  },
  {
   "cell_type": "raw",
   "metadata": {
    "collapsed": true
   },
   "source": [
    "MAP = [12.118, 1.0, 13.41793147,  0.3, 13.94853439,  1.00729256]\n",
    "\n",
    "param_names = ['logMmin','f_c', 'logM0', 'sigma_logM',  'logM1',   'alpha']\n",
    "\n",
    "params = dict(zip(param_names, MAP))"
   ]
  },
  {
   "cell_type": "code",
   "execution_count": 27,
   "metadata": {
    "collapsed": false
   },
   "outputs": [],
   "source": [
    "params = {'logMmin': 13.33524467264376, 'logM0': 15.03992672969126, 'sigma_logM': 0.1956427400539345, \n",
    " 'logM1': 14.177074869254131, 'alpha': 0.9185255021020393}"
   ]
  },
  {
   "cell_type": "code",
   "execution_count": 28,
   "metadata": {
    "collapsed": true
   },
   "outputs": [],
   "source": [
    "mass_bin_range = (9, 16)\n",
    "mass_bin_size = 0.1\n",
    "massbins = np.logspace(mass_bin_range[0], mass_bin_range[1], int( (mass_bin_range[1]-mass_bin_range[0])/mass_bin_size )+1 )\n",
    "mbc = (massbins[:-1]+massbins[1:])/2"
   ]
  },
  {
   "cell_type": "code",
   "execution_count": 29,
   "metadata": {
    "collapsed": false
   },
   "outputs": [],
   "source": [
    "from halotools.mock_observables import hod_from_mock"
   ]
  },
  {
   "cell_type": "code",
   "execution_count": 30,
   "metadata": {
    "collapsed": false
   },
   "outputs": [
    {
     "name": "stdout",
     "output_type": "stream",
     "text": [
      "13.3352446726 11.819422842624085\n",
      "13.3352446726 10.915115776192204\n"
     ]
    },
    {
     "data": {
      "image/png": "[encoded data removed]",
      "text/plain": [
       "<matplotlib.figure.Figure at 0x7fcc640a93d0>"
      ]
     },
     "metadata": {},
     "output_type": "display_data"
    }
   ],
   "source": [
    "i=0\n",
    "min_ptcl = 20\n",
    "for label, cat in zip(boxnos, cats):\n",
    "    print params['logMmin'], np.log10(cat.pmass*min_ptcl)\n",
    "    cat.populate(params, min_ptcl = min_ptcl)\n",
    "    galaxy_table = cat.model.mock.galaxy_table\n",
    "    cenmask = galaxy_table['gal_type'] == 'centrals'\n",
    "    halo_mass = cat.model.mock.halo_table['halo_mvir']\n",
    "    cen_hod = hod_from_mock(galaxy_table['halo_mvir'][cenmask], halo_mass, massbins)[0]\n",
    "    sat_hod = hod_from_mock(galaxy_table['halo_mvir'][~cenmask], halo_mass, massbins)[0]\n",
    "    plt.plot(mbc, cen_hod + sat_hod ,label = '%.1f'%np.log10(cat.pmass), alpha = 0.8)\n",
    "    i+=1\n",
    "    if i > 1:\n",
    "        break\n",
    "        \n",
    "baseline_cat.populate(params, min_ptcl = 200)\n",
    "galaxy_table = baseline_cat.model.mock.galaxy_table\n",
    "cenmask = galaxy_table['gal_type'] == 'centrals'\n",
    "halo_mass = baseline_cat.model.mock.halo_table['halo_mvir']\n",
    "cen_hod = hod_from_mock(galaxy_table['halo_mvir'][cenmask], halo_mass, massbins)[0]\n",
    "sat_hod = hod_from_mock(galaxy_table['halo_mvir'][~cenmask], halo_mass, massbins)[0]\n",
    "plt.plot(mbc, cen_hod + sat_hod ,label = '%.1f'%np.log10(baseline_cat.pmass), alpha = 0.8)\n",
    "    \n",
    "plt.vlines(10**params['logMmin'], 1e-5, 1e2 )\n",
    "    \n",
    "plt.legend(loc='best')\n",
    "plt.loglog();"
   ]
  },
  {
   "cell_type": "code",
   "execution_count": 31,
   "metadata": {
    "collapsed": false
   },
   "outputs": [],
   "source": [
    "rbins = np.array([0.31622777, 0.44326829, 0.62134575, 0.87096359, 1.22086225, 1.7113283, 2.39883292, 3.36253386,\\\n",
    "                  4.71338954, 6.60693448, 9.26118728,  12.98175275, 18.19700859,  25.50742784,  35.75471605])#,  50.11872336])\n",
    "rpoints = (rbins[1:]+rbins[:-1])/2"
   ]
  },
  {
   "cell_type": "raw",
   "metadata": {
    "collapsed": true
   },
   "source": [
    "theta_bins = np.logspace(np.log10(2.5), np.log10(250), 21)/60 #binning used in buzzard mocks\n",
    "tpoints = (theta_bins[1:]+theta_bins[:-1])/2"
   ]
  },
  {
   "cell_type": "raw",
   "metadata": {
    "collapsed": true
   },
   "source": [
    "zbin = 1\n",
    "wt_redmagic = np.loadtxt('/u/ki/swmclau2/Git/pearce/bin/mcmc/buzzard2_wt_%d%d.npy'%(zbin,zbin))"
   ]
  },
  {
   "cell_type": "raw",
   "metadata": {
    "collapsed": true
   },
   "source": [
    "W = 0.00275848072207"
   ]
  },
  {
   "cell_type": "raw",
   "metadata": {
    "collapsed": false
   },
   "source": [
    "wts = []\n",
    "for label, cat in zip(boxnos, cats):\n",
    "    cat.populate(params)\n",
    "    wt = cat.calc_wt(theta_bins, rbins, W)\n",
    "    wts.append(wt)\n",
    "    #plt.plot(rbc, bias, alpha = 0.1, color = 'b')"
   ]
  },
  {
   "cell_type": "code",
   "execution_count": null,
   "metadata": {
    "collapsed": false
   },
   "outputs": [],
   "source": [
    "lowres_xis = []\n",
    "lowres_errs = []\n",
    "\n",
    "highres_xis = []\n",
    "highres_errs = []\n",
    "n_repops = 25\n",
    "for boxno, cat in zip(boxnos, cats):\n",
    "    _xis = []\n",
    "    for i in xrange(n_repops):\n",
    "        cat.populate(params) # TODO repop a few times\n",
    "        _xis.append(cat.calc_xi(rbins, do_jackknife = False))\n",
    "    if boxno in set([0, 5,7,9]):\n",
    "        lowres_xis.append(np.array(_xis).mean(axis = 0))\n",
    "        lowres_errs.append(np.array(_xis).std(axis = 0))\n",
    "    else:\n",
    "        highres_xis.append(np.array(_xis).mean(axis = 0))\n",
    "        highres_errs.append(np.array(_xis).std(axis = 0))\n",
    "    #plt.plot(rbc, bias, alpha = 0.1, color = 'b')"
   ]
  },
  {
   "cell_type": "raw",
   "metadata": {},
   "source": [
    "for i in xrange(n_repops):\n",
    "    cat.populate(params) # TODO repop a few times\n",
    "    _xis.append(cat.calc_xi(rbins, do_jackknife = False))\n",
    "baseline_xi = np.array(_xis).mean(axis = 0)\n",
    "baseline_err = np.array(_xis).std(axis = 0)"
   ]
  },
  {
   "cell_type": "raw",
   "metadata": {
    "collapsed": false
   },
   "source": [
    "for boxno,cat, xi,err in zip(boxnos,cats, xis, errs):\n",
    "    if boxno > 4:\n",
    "        pass#break\n",
    "    plt.errorbar(rpoints, xi, yerr=err, label = '%.1f'%np.log10(cat.pmass), capthick = 1, capsize = 5)\n",
    "\n",
    "plt.errorbar(rpoints, baseline_xi, yerr=baseline_err, label ='%.1f'%np.log10(baseline_cat.pmass) )\n",
    "#plt.plot(tpoints, wt_redmagic, label = 'Buzzard Mock', color = 'r')\n",
    "\n",
    "\n",
    "plt.ylabel(r'$w(\\theta)$')\n",
    "plt.xlabel(r'$\\theta \\mathrm{[deg]}$')\n",
    "plt.loglog();\n",
    "plt.legend(loc='best')\n",
    "plt.xlim([0.1, 40])\n",
    "plt.show()"
   ]
  },
  {
   "cell_type": "raw",
   "metadata": {
    "collapsed": false
   },
   "source": [
    "#plt.plot(tpoints, wt_redmagic, label = 'Buzzard Mock', color = 'r')\n",
    "#plt.errorbar(rpoints, np.ones_like(rpoints), yerr=err, label = '%.1f'%np.log10(baseline_cat.pmass), capthick = 1, capsize = 5,\n",
    "#                color = 'r')\n",
    "for boxno,cat, low_xi, high_xi,low_err, high_err in zip(boxnos,cats, lowres_xis,highres_xis, lowres_errs, highres_errs):\n",
    "\n",
    "    plt.errorbar(rpoints, low_xi/high_xi, yerr=low_err, capthick = 1, capsize = 5)\n",
    "\n",
    "    #plt.plot(rpoints, xi/baseline_xi, label = '%.1f'%np.log10(cat.pmass), color = c)#, capthick = 1, capsize = 5)\n",
    "    plt.ylabel(r'$\\xi(r)/\\xi_{baseline}(r)$')\n",
    "    plt.xlabel(r'$r \\mathrm{[Mpc]}$')\n",
    "    plt.xscale('log');\n",
    "    plt.legend(loc='best')\n",
    "    plt.title(r'$\\log{M_{min}}=$%0.2f    Min Particles = %d'%(params['logMmin'], min_ptcl))\n",
    "    plt.xlim([0.1, 40])\n",
    "    plt.ylim([0, 2])\n",
    "\n",
    "    plt.show()"
   ]
  },
  {
   "cell_type": "code",
   "execution_count": null,
   "metadata": {
    "collapsed": false
   },
   "outputs": [],
   "source": [
    "#plt.plot(tpoints, wt_redmagic, label = 'Buzzard Mock', color = 'r')\n",
    "#plt.errorbar(rpoints, np.ones_like(rpoints), yerr=err, label = '%.1f'%np.log10(baseline_cat.pmass), capthick = 1, capsize = 5,\n",
    "#                color = 'r')\n",
    "\n",
    "plt.errorbar(rpoints, np.mean(np.array(lowres_xis)/np.array(highres_xis), axis = 0),\\\n",
    "             yerr=np.sqrt(np.mean(np.array(lowres_errs)**2, axis = 0)), capthick = 1, capsize = 5)\n",
    "\n",
    "#plt.plot(rpoints, xi/baseline_xi, label = '%.1f'%np.log10(cat.pmass), color = c)#, capthick = 1, capsize = 5)\n",
    "plt.ylabel(r'$\\xi_{low res}(r)/\\xi_{high res}(r)$')\n",
    "plt.xlabel(r'$r \\mathrm{[Mpc]}$')\n",
    "plt.xscale('log');\n",
    "plt.legend(loc='best')\n",
    "plt.title(r'$\\log{M_{min}}=$%0.2f    Min Particles = %d'%(params['logMmin'], min_ptcl))\n",
    "plt.xlim([0.1, 40])\n",
    "plt.ylim([0.5, 2.5])\n",
    "\n",
    "plt.show()"
   ]
  },
  {
   "cell_type": "code",
   "execution_count": null,
   "metadata": {
    "collapsed": true
   },
   "outputs": [],
   "source": [
    "from halotools.mock_observables import tpcf, return_xyz_formatted_array"
   ]
  },
  {
   "cell_type": "code",
   "execution_count": null,
   "metadata": {
    "collapsed": false
   },
   "outputs": [],
   "source": [
    "lowres_xis = []\n",
    "#lowres_errs = []\n",
    "\n",
    "highres_xis = []\n",
    "#highres_errs = []\n",
    "min_mass = cats[0].pmass*100\n",
    "for boxno, cat in zip(boxnos, cats):\n",
    "    ht = cat.halocat.halo_table\n",
    "    x,y,z = [ht[c] for c in ['halo_x', 'halo_y', 'halo_z']]\n",
    "    pos = return_xyz_formatted_array(x, y, z, period=cat.Lbox)\n",
    "    mask = ht['halo_mvir'] > min_mass\n",
    "    pos = pos[mask]\n",
    "    xi = tpcf(pos, rbins, period=cat.Lbox, num_threads=4, estimator='Landy-Szalay')\n",
    "    if boxno in set([0, 5,7,9]):\n",
    "        lowres_xis.append(xi)\n",
    "        #lowres_errs.append(np.array(_xis).std(axis = 0))\n",
    "    else:\n",
    "        highres_xis.append(xi)\n",
    "        #highres_errs.append(np.array(_xis).std(axis = 0))\n",
    "    #plt.plot(rbc, bias, alpha = 0.1, color = 'b')"
   ]
  },
  {
   "cell_type": "code",
   "execution_count": null,
   "metadata": {
    "collapsed": false
   },
   "outputs": [],
   "source": [
    "#plt.plot(tpoints, wt_redmagic, label = 'Buzzard Mock', color = 'r')\n",
    "#plt.errorbar(rpoints, np.ones_like(rpoints), yerr=err, label = '%.1f'%np.log10(baseline_cat.pmass), capthick = 1, capsize = 5,\n",
    "#                color = 'r')\n",
    "\n",
    "plt.errorbar(rpoints, np.mean(np.array(lowres_xis)/np.array(highres_xis), axis = 0),\\\n",
    "             yerr=np.sqrt(np.mean(np.array(lowres_errs)**2, axis = 0)), capthick = 1, capsize = 5)\n",
    "\n",
    "#plt.plot(rpoints, xi/baseline_xi, label = '%.1f'%np.log10(cat.pmass), color = c)#, capthick = 1, capsize = 5)\n",
    "plt.ylabel(r'$\\xi_{low res}(r)/\\xi_{high res}(r)$')\n",
    "plt.xlabel(r'$r \\mathrm{[Mpc]}$')\n",
    "plt.xscale('log');\n",
    "plt.legend(loc='best')\n",
    "plt.title(r'Min Particles = %d Low Res'%(min_ptcl))\n",
    "plt.xlim([0.1, 40])\n",
    "plt.ylim([0.0, 2.0])\n",
    "\n",
    "plt.show()"
   ]
  },
  {
   "cell_type": "code",
   "execution_count": null,
   "metadata": {
    "collapsed": false
   },
   "outputs": [],
   "source": [
    "#plt.plot(tpoints, wt_redmagic, label = 'Buzzard Mock', color = 'r')\n",
    "#plt.errorbar(rpoints, np.ones_like(rpoints), yerr=err, label = '%.1f'%np.log10(baseline_cat.pmass), capthick = 1, capsize = 5,\n",
    "#                color = 'r')\n",
    "\n",
    "plt.plot(rpoints, np.mean(lowres_xis, axis = 0), label = \"Low\" )\n",
    "plt.plot(rpoints, np.mean(highres_xis, axis = 0), label = \"High\")\n",
    "\n",
    "#plt.plot(rpoints, xi/baseline_xi, label = '%.1f'%np.log10(cat.pmass), color = c)#, capthick = 1, capsize = 5)\n",
    "plt.ylabel(r'$\\xi_{hh}(r)$')\n",
    "plt.xlabel(r'$r \\mathrm{[Mpc]}$')\n",
    "plt.loglog()\n",
    "plt.legend(loc='best')\n",
    "plt.title(r' Min Particles = %d'%( min_ptcl))\n",
    "plt.xlim([0.1, 40])\n",
    "#plt.ylim([0.5, 2.5])\n",
    "\n",
    "plt.show()"
   ]
  },
  {
   "cell_type": "raw",
   "metadata": {
    "collapsed": false
   },
   "source": [
    "#plt.plot(tpoints, wt_redmagic, label = 'Buzzard Mock', color = 'r')\n",
    "#plt.errorbar(rpoints, np.ones_like(rpoints), yerr=err, label = '%.1f'%np.log10(baseline_cat.pmass), capthick = 1, capsize = 5,\n",
    "#                color = 'r')\n",
    "for boxno,cat, xi,err in zip(boxnos,cats, xis, errs):\n",
    "\n",
    "    plt.errorbar(rpoints, xi/baseline_xi, yerr=err, label = '%.1f'%np.log10(cat.pmass),color=c, capthick = 1, capsize = 5)\n",
    "\n",
    "    #plt.plot(rpoints, xi/baseline_xi, label = '%.1f'%np.log10(cat.pmass), color = c)#, capthick = 1, capsize = 5)\n",
    "    plt.ylabel(r'$\\xi(r)/\\xi_{baseline}(r)$')\n",
    "    plt.xlabel(r'$r \\mathrm{[Mpc]}$')\n",
    "    plt.xscale('log');\n",
    "    plt.legend(loc='best')\n",
    "    plt.title(r'$\\log{M_{min}}=$%0.2f    Min Particles = %d'%(params['logMmin'], min_ptcl))\n",
    "    plt.xlim([0.1, 40])\n",
    "    plt.ylim([0, 2])\n",
    "\n",
    "    plt.show()"
   ]
  },
  {
   "cell_type": "code",
   "execution_count": null,
   "metadata": {
    "collapsed": false
   },
   "outputs": [],
   "source": [
    "#plt.plot(tpoints, wt_redmagic, label = 'Buzzard Mock', color = 'r')\n",
    "plt.errorbar(rpoints, np.ones_like(rpoints), yerr=baseline_err, label = '%.1f'%np.log10(cats[0].pmass), capthick = 1, capsize = 5,\n",
    "                color = 'r')\n",
    "\n",
    "for boxno,cat, xi,err in zip(boxnos,cats, xis, errs):\n",
    "    #if boxno<4:\n",
    "    #    break\n",
    "    c = 'g' if np.log10(cat.pmass) < 10 else 'b'\n",
    "    #plt.errorbar(rpoints, xi/baseline_xi, yerr=err, label = '%.1f'%np.log10(cat.pmass),color=c, capthick = 1, capsize = 5)\n",
    "    \n",
    "    plt.plot(rpoints, xi/xis[0], label = '%.1f'%np.log10(cat.pmass), color = c)#, capthick = 1, capsize = 5)\n",
    "\n",
    "plt.ylabel(r'$\\xi(r)/\\xi_{baseline}(r)$')\n",
    "plt.xlabel(r'$r \\mathrm{[Mpc]}$')\n",
    "plt.xscale('log');\n",
    "plt.legend(loc='best')\n",
    "plt.title(r'$\\log{M_{min}}=$%0.2f    Min Particles = %d'%(params['logMmin'], min_ptcl))\n",
    "plt.xlim([0.1, 40])\n",
    "plt.ylim([0, 2])\n",
    "\n",
    "plt.show()"
   ]
  },
  {
   "cell_type": "raw",
   "metadata": {
    "collapsed": false
   },
   "source": [
    "xis = []\n",
    "for label, cat in zip(boxnos, cats):\n",
    "    cat.populate(params)\n",
    "    xi = cat.calc_xi(rbins, do_jackknife = False)\n",
    "    xis.append(xi)\n",
    "    #plt.plot(rbc, bias, alpha = 0.1, color = 'b')"
   ]
  },
  {
   "cell_type": "code",
   "execution_count": null,
   "metadata": {
    "collapsed": false
   },
   "outputs": [],
   "source": [
    "for boxno, xi in zip(boxnos, xis):\n",
    "    plt.plot(rpoints, xi, alpha = 0.8, label = boxno)\n",
    "    \n",
    "#plt.plot(tpoints, wt_redmagic, label = 'Buzzard Mock', color = 'r')\n",
    "\n",
    "\n",
    "plt.ylabel(r'$\\xi(r)$')\n",
    "plt.xlabel(r'$r \\mathrm{[Mpc/h]}$')\n",
    "plt.loglog();\n",
    "plt.legend(loc='best')\n",
    "#plt.xlim([4e-2, 4])\n",
    "plt.show()"
   ]
  },
  {
   "cell_type": "raw",
   "metadata": {
    "collapsed": false
   },
   "source": [
    "colors = sns.diverging_palette(80, 190,l= 80, n=N)\n",
    "sns.palplot(colors)"
   ]
  },
  {
   "cell_type": "raw",
   "metadata": {
    "collapsed": false
   },
   "source": [
    "fig = plt.figure(figsize=(10,8))\n",
    "for label, value, c in zip(varied_param_vals, bias_vals, colors):\n",
    "    plt.plot(rbc, value, label = r'$\\log{M_{min}}= %.1f$'%label, color = c)\n",
    "    \n",
    "plt.xscale('log')\n",
    "plt.legend(loc = 'best')\n",
    "plt.xlabel(r'$r$ [Mpc]')\n",
    "plt.ylabel(r'$b(r)$')\n",
    "plt.title(r'Bias as a function of Central Log M Min $\\log{M_{min}}$')"
   ]
  },
  {
   "cell_type": "code",
   "execution_count": null,
   "metadata": {
    "collapsed": true
   },
   "outputs": [],
   "source": []
  }
 ],
 "metadata": {
  "kernelspec": {
   "display_name": "Python [conda env:hodemulator]",
   "language": "python",
   "name": "conda-env-hodemulator-py"
  },
  "language_info": {
   "codemirror_mode": {
    "name": "ipython",
    "version": 2
   },
   "file_extension": ".py",
   "mimetype": "text/x-python",
   "name": "python",
   "nbconvert_exporter": "python",
   "pygments_lexer": "ipython2",
   "version": "2.7.13"
  }
 },
 "nbformat": 4,
 "nbformat_minor": 0
}
