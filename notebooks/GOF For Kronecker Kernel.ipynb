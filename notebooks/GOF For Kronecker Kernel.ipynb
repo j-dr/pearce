{
 "cells": [
  {
   "cell_type": "markdown",
   "metadata": {},
   "source": [
    "I'm gonna overwrite a lot of this notebook's old content. I changed the way I'm calculating wt, and wanna test that my training worked. "
   ]
  },
  {
   "cell_type": "code",
   "execution_count": 13,
   "metadata": {
    "collapsed": true
   },
   "outputs": [],
   "source": [
    "from pearce.emulator import *\n",
    "from pearce.mocks import cat_dict\n",
    "import numpy as np\n",
    "from os import path"
   ]
  },
  {
   "cell_type": "code",
   "execution_count": 14,
   "metadata": {
    "collapsed": true
   },
   "outputs": [],
   "source": [
    "import matplotlib\n",
    "#matplotlib.use('Agg')\n",
    "from matplotlib import pyplot as plt\n",
    "%matplotlib inline\n",
    "import seaborn as sns\n",
    "sns.set()"
   ]
  },
  {
   "cell_type": "code",
   "execution_count": 15,
   "metadata": {
    "collapsed": true
   },
   "outputs": [],
   "source": [
    "from GPy.models import GPKroneckerGaussianRegression\n",
    "from GPy.kern import *\n",
    "import h5py"
   ]
  },
  {
   "cell_type": "code",
   "execution_count": 16,
   "metadata": {
    "collapsed": true
   },
   "outputs": [],
   "source": [
    "training_file = '/home/users/swmclau2/scratch/xi_gg_zheng07_cosmo_v3/PearceXiggCosmo.hdf5'\n",
    "test_file = '/home/users/swmclau2/scratch/xi_gg_zheng07_cosmo_test_v3/PearceXiggCosmoTest.hdf5'"
   ]
  },
  {
   "cell_type": "code",
   "execution_count": 18,
   "metadata": {},
   "outputs": [
    {
     "name": "stdout",
     "output_type": "stream",
     "text": [
      "[ 0.0082304   0.2251038   0.40789898  2.16662866]\n",
      "[ 2.3342071   0.83936984]\n",
      "\n",
      "0 0.0468039238945 0.142320731167\n",
      "\n",
      "[ 0.01843742  0.23593541  0.72105056  5.40140803]\n",
      "[ 1.09977674  0.83752504]\n",
      "\n",
      "1 0.0491633329039 0.133636639761\n",
      "\n",
      "[ 0.00852149  0.23091239  0.36093694  3.75689519]\n",
      "[ 2.59171998  0.84863244]\n",
      "\n",
      "2 0.0531361443795 0.120512094339\n",
      "\n",
      "[ 0.01301592  0.22714714  0.38110864  4.62012707]\n",
      "[ 1.43396165  0.79431016]\n",
      "\n",
      "3 0.0534848551322 0.110295680064\n",
      "\n",
      "[ 0.01485354  0.21519457  0.29666937  4.95945163]\n",
      "[ 1.07388838  0.74296391]\n",
      "\n",
      "4 0.0592939878066 0.101115460134\n",
      "\n",
      "[ 0.02153361  0.22013727  0.40101137  4.63757503]\n",
      "[ 0.74628684  0.71849977]\n",
      "\n",
      "5 0.0577103878551 0.0939222399656\n",
      "\n",
      "[  1.08761721e-01   2.20555446e-01   1.54365595e-03   6.20290816e+00]\n",
      "[ 0.14097065  0.56007477]\n",
      "\n",
      "6 0.102980965329 0.141328865636\n",
      "\n",
      "[ 0.01917612  0.20171018  0.56261425  2.05092433]\n",
      "[ 0.18642131  0.5630406 ]\n",
      "\n",
      "7 0.0301304913085 0.0617151312434\n",
      "\n",
      "[ 0.01144216  0.19538761  0.56102256  1.95472784]\n",
      "[ 0.20359536  0.5520345 ]\n",
      "\n",
      "8 0.0237009266578 0.0461997378561\n",
      "\n",
      "[ 0.01360238  0.1841718   0.81772755  1.42549824]\n",
      "[ 0.14422538  0.54398642]\n",
      "\n",
      "9 0.0194024854284 0.0363581530034\n",
      "\n",
      "[ 0.03928476  0.16153777  2.85064585  0.44942535]\n",
      "[ 0.05722915  0.55350085]\n",
      "\n",
      "10 0.0191610240801 0.030783063576\n",
      "\n",
      "[  6.47036919e-02   1.42336521e-01   4.96886911e+00   1.86765211e-03]\n",
      "[ 0.04614282  0.60403537]\n",
      "\n",
      "11 0.0194199255908 0.0236048852538\n",
      "\n",
      "[  4.07350366e-02   1.41884589e-03   3.42318749e+00   2.91041057e-01]\n",
      "[ 0.10526899  0.72176757]\n",
      "\n",
      "12 0.014367588844 0.017302212782\n",
      "\n",
      "[ 0.0207636   0.20471715  0.97078743  1.03237917]\n",
      "[ 0.0783621   0.64633732]\n",
      "\n",
      "13 0.00795675732791 0.0116754320212\n",
      "\n",
      "[  1.78750193e+00   4.56532819e-06   5.84320288e+00   1.04248797e+00]\n",
      "[  7.55855172  19.26002107]\n",
      "\n",
      "14 0.409758544197 0.512379829454\n",
      "\n",
      "[ 0.09524067  0.21078438  5.18498902  1.02439281]\n",
      "[ 0.01441126  0.6620934 ]\n",
      "\n",
      "15 0.00985313211308 0.0127921214293\n",
      "\n",
      "[  4.02783995e-07   2.45107346e+01   1.99203479e-03   3.61987684e-01]\n",
      "[  3.78466378e-06   1.13424801e+02]\n",
      "\n",
      "16 8.80750170426 50397.9468207\n",
      "\n",
      "[ 0.00408772  0.20114128  0.30572994  1.36802665]\n",
      "[ 0.5420745   0.85602061]\n",
      "\n",
      "17 0.0215787730334 0.0270002820173\n",
      "\n"
     ]
    }
   ],
   "source": [
    "accs = []\n",
    "for rbin in xrange(18):\n",
    "\n",
    "    f = h5py.File(training_file, 'r')\n",
    "\n",
    "    Ys = []\n",
    "    for i in xrange(40):\n",
    "        Ys.append(f['cosmo_no_%02d'%i]['a_1.000']['obs'].value[:, rbin])\n",
    "\n",
    "    n_hods = 500\n",
    "    start_idx = 0\n",
    "    X1 = f.attrs['cosmo_param_vals']\n",
    "    X2 = f.attrs['hod_param_vals'][start_idx:start_idx+n_hods]\n",
    "    Y = np.vstack(Ys)[:, start_idx:start_idx+n_hods]\n",
    "\n",
    "    f.close()\n",
    "    # how to add training errors?\n",
    "\n",
    "    K1 =RBF(input_dim=7, ARD = False)+ Linear(input_dim = 7, ARD = False) + Bias(input_dim=7)# + White(input_dim=7)\n",
    "    K2 =  RBF(input_dim=4, ARD = False)#+ Linear(input_dim = 4, ARD = False) + Bias(input_dim=4)# + White(input_dim=4)\n",
    "\n",
    "    model = GPKroneckerGaussianRegression(X1, X2, Y,K1, K2)#, noise_var = 0.01 )\n",
    "\n",
    "    model.optimize_restarts(num_restarts=10, verbose = False)\n",
    "\n",
    "    print K1.param_array\n",
    "    print K2.param_array\n",
    "    print \n",
    "    \n",
    "    f2 = h5py.File(test_file, 'r')\n",
    "\n",
    "    Y2s = []\n",
    "    for i in xrange(35):\n",
    "        Y2s.append(f2['cosmo_no_%02d'%i]['a_1.000']['obs'].value[:, rbin])\n",
    "\n",
    "    testX1 = f2.attrs['cosmo_param_vals']\n",
    "    testX2 = f2.attrs['hod_param_vals'][:100]\n",
    "    testY = np.vstack(Y2s)[:, :100]\n",
    "    f2.close()\n",
    "\n",
    "    predY, _ = model.predict(testX1, testX2)\n",
    "    med_acc, mean_acc = np.median( np.abs( (10**predY[:,0] - 10**testY.flatten(order='F'))/10**testY.flatten(order='F') )  ), \\\n",
    "np.mean( np.abs( (10**predY[:,0] - 10**testY.flatten(order='F'))/10**testY.flatten(order='F') )  ) \n",
    "    print rbin, med_acc, mean_acc\n",
    "    accs.append((med_acc, mean_acc))\n",
    "    print"
   ]
  },
  {
   "cell_type": "code",
   "execution_count": 19,
   "metadata": {
    "collapsed": true
   },
   "outputs": [],
   "source": [
    "accs = np.array(accs)"
   ]
  },
  {
   "cell_type": "code",
   "execution_count": 20,
   "metadata": {},
   "outputs": [
    {
     "data": {
      "image/png": "[encoded data removed]",
      "text/plain": [
       "<matplotlib.figure.Figure at 0x7f6897101690>"
      ]
     },
     "metadata": {},
     "output_type": "display_data"
    }
   ],
   "source": [
    "plt.plot(accs)\n",
    "plt.ylim([0.001, 0.5])\n",
    "plt.yscale('log')"
   ]
  },
  {
   "cell_type": "code",
   "execution_count": null,
   "metadata": {
    "collapsed": true
   },
   "outputs": [],
   "source": []
  }
 ],
 "metadata": {
  "kernelspec": {
   "display_name": "Python 2",
   "language": "python",
   "name": "python2"
  },
  "language_info": {
   "codemirror_mode": {
    "name": "ipython",
    "version": 2
   },
   "file_extension": ".py",
   "mimetype": "text/x-python",
   "name": "python",
   "nbconvert_exporter": "python",
   "pygments_lexer": "ipython2",
   "version": "2.7.13"
  }
 },
 "nbformat": 4,
 "nbformat_minor": 1
}
