{
 "cells": [
  {
   "cell_type": "markdown",
   "metadata": {},
   "source": [
    "I'm gonna overwrite a lot of this notebook's old content. I changed the way I'm calculating wt, and wanna test that my training worked. "
   ]
  },
  {
   "cell_type": "code",
   "execution_count": 35,
   "metadata": {
    "collapsed": true
   },
   "outputs": [],
   "source": [
    "from pearce.emulator import *\n",
    "from pearce.mocks import cat_dict\n",
    "import numpy as np\n",
    "from os import path"
   ]
  },
  {
   "cell_type": "code",
   "execution_count": 36,
   "metadata": {
    "collapsed": true
   },
   "outputs": [],
   "source": [
    "import matplotlib\n",
    "#matplotlib.use('Agg')\n",
    "from matplotlib import pyplot as plt\n",
    "%matplotlib inline\n",
    "import seaborn as sns\n",
    "sns.set()"
   ]
  },
  {
   "cell_type": "code",
   "execution_count": 37,
   "metadata": {
    "collapsed": true
   },
   "outputs": [],
   "source": [
    "from GPy.models import GPKroneckerGaussianRegression\n",
    "from GPy.kern import *\n",
    "import h5py"
   ]
  },
  {
   "cell_type": "code",
   "execution_count": 38,
   "metadata": {
    "collapsed": true
   },
   "outputs": [],
   "source": [
    "from pearce.emulator import GPKroneckerGaussianRegressionVar"
   ]
  },
  {
   "cell_type": "code",
   "execution_count": 39,
   "metadata": {
    "collapsed": true
   },
   "outputs": [],
   "source": [
    "training_file = '/home/users/swmclau2/scratch/xi_gg_zheng07_cosmo_v3/PearceXiggCosmo.hdf5'\n",
    "test_file = '/home/users/swmclau2/scratch/xi_gg_zheng07_cosmo_test_v3/PearceXiggCosmoTest.hdf5'"
   ]
  },
  {
   "cell_type": "code",
   "execution_count": null,
   "metadata": {},
   "outputs": [
    {
     "name": "stdout",
     "output_type": "stream",
     "text": [
      "[  4.1875946    0.7861257    0.09096075   1.25945749   0.3858755\n",
      "   2.19498549  13.11296506   5.2140262 ]\n",
      "[ 4.31553397  2.58307519  3.32970487  2.94324899  3.12898886]\n",
      "\n",
      "0 0.0360296277174 0.0828087102657\n",
      "\n",
      "[  5.96397402   0.79367287   0.06758834   1.38283777   0.2952396\n",
      "   3.57659657  19.71057111   7.51808948]\n",
      "[ 5.99029061  3.01728234  3.7187364   3.52569533  3.43875991]\n",
      "\n",
      "1 0.033327659787 0.0832584060462\n",
      "\n",
      "[  2.93755297   1.7306073    0.09089783   1.13741317   0.62346443\n",
      "   1.70514628  13.62309509   6.21232485]\n",
      "[ 4.23478411  2.84403919  2.83779638  2.72970834  2.56060293]\n",
      "\n",
      "2 0.0218037845372 0.0443178156073\n",
      "\n",
      "[  2.81088367   2.68872541   0.03200131   2.10183679   1.40490504\n",
      "   1.16863481  15.30200698   8.24276067]\n",
      "[ 3.05829425  2.83377835  2.68704266  2.69179941  2.1229928 ]\n",
      "\n",
      "3 0.0244803820073 0.0318192305362\n",
      "\n",
      "[  5.65883996   0.25878396   0.03462683   3.33572204   2.97390277\n",
      "   2.54353229  28.94779894  17.56524212]\n",
      "[ 4.88418074  3.06297647  1.25050904  3.3961178   2.30028909]\n",
      "\n",
      "4 0.0156457703735 0.0242427068174\n",
      "\n",
      "[  5.20456820e+00   1.17962669e+00   3.65635920e-02   7.45668985e+00\n",
      "   1.23698344e+01   1.98717639e+00   4.52335140e+01   2.63514252e+01]\n",
      "[ 5.14599231  3.37409066  1.40224378  2.95194039  2.15384771]\n",
      "\n",
      "5 0.0165722786048 0.0216329729063\n",
      "\n",
      "[  2.55996809e+00   1.16338442e+00   3.04905200e-02   4.45278316e+00\n",
      "   7.95154309e+00   2.20506753e+00   5.00297759e+01   2.38780535e+01]\n",
      "[ 2.5515209   2.38314714  1.04734004  1.43427895  1.68066763]\n",
      "\n",
      "6 0.0114664924499 0.0168108823151\n",
      "\n",
      "[  2.00923095   0.22531555   0.0412916    3.44557288   5.67862252\n",
      "   1.8852678   37.75760632  15.98466398]\n",
      "[ 2.00929756  3.24480509  2.43122173  0.99165624  1.3257927 ]\n",
      "\n",
      "7 0.0122823274071 0.0166963553172\n",
      "\n",
      "[  1.52882848e+00   2.04672414e-01   5.02311204e-02   3.44310255e+00\n",
      "   8.93617763e+00   1.73615466e+00   1.03306702e+02   1.15082985e+01]\n",
      "[ 1.83092341  4.95474547  2.41151391  0.81716394  1.40344343]\n",
      "\n",
      "8 0.0133321981374 0.0168254363652\n",
      "\n",
      "[  2.09790709   0.21495832   0.06810781   4.27453971   6.8545299\n",
      "   2.09506128  41.88936578  17.25123098]\n",
      "[ 1.7002761   6.89969714  2.81466014  0.80630265  1.26831799]\n",
      "\n",
      "9 0.0119135739181 0.0154327037475\n",
      "\n",
      "[  1.61300845   0.10959031   0.0683118    4.0400617   13.53047029\n",
      "   1.64067168  52.63032146  19.054749  ]\n",
      "[ 1.4174699   7.29556022  2.99840025  0.79762355  0.9036653 ]\n",
      "\n",
      "10 0.0103893574249 0.0140508825635\n",
      "\n",
      "[  1.80017839   0.1004719    0.07082942   5.31690858   7.65338648\n",
      "   1.99858826  44.62608429  18.93326   ]\n",
      "[ 1.85713872  7.59506862  4.01169271  0.95260937  0.79903008]\n",
      "\n",
      "11 0.00841354321443 0.0117758974605\n",
      "\n"
     ]
    }
   ],
   "source": [
    "accs = []\n",
    "log_accs = []\n",
    "noise = []\n",
    "for rbin in xrange(18):\n",
    "\n",
    "    f = h5py.File(training_file, 'r')\n",
    "\n",
    "    Ys = []\n",
    "    Yerrs = []\n",
    "    for i in xrange(40):\n",
    "        Ys.append(f['cosmo_no_%02d'%i]['a_1.000']['obs'].value[:, rbin])\n",
    "        Yerrs.append(np.sqrt(f['cosmo_no_%02d'%i]['a_1.000']['cov'].value[:, rbin, rbin]) )\n",
    "\n",
    "    n_hods = 500\n",
    "    start_idx = 0\n",
    "    X1 = f.attrs['cosmo_param_vals']\n",
    "    X2 = f.attrs['hod_param_vals'][start_idx:start_idx+n_hods]\n",
    "    Y = np.vstack(Ys)[:, start_idx:start_idx+n_hods]\n",
    "    Yerr = np.vstack(Yerrs)[:, start_idx:start_idx+n_hods]\n",
    "    \n",
    "    noise.append([Y, Yerr])\n",
    "\n",
    "    f.close()\n",
    "    # how to add training errors?\n",
    "\n",
    "    K1 =RBF(input_dim=7, ARD = True)#+ Linear(input_dim = 7, ARD = False) + Bias(input_dim=7)# + White(input_dim=7)\n",
    "    K2 =  RBF(input_dim=4, ARD = True)#+ Linear(input_dim = 4, ARD = False) + Bias(input_dim=4)# + White(input_dim=4)\n",
    "\n",
    "    model = GPKroneckerGaussianRegressionVar(X1, X2, Y, Yerr, K1, K2)#, noise_var = 0.01 )\n",
    "\n",
    "    model.optimize_restarts(num_restarts=10, verbose = False)\n",
    "\n",
    "    print K1.param_array\n",
    "    print K2.param_array\n",
    "    print \n",
    "    \n",
    "    f2 = h5py.File(test_file, 'r')\n",
    "\n",
    "    Y2s = []\n",
    "    for i in xrange(35):\n",
    "        Y2s.append(f2['cosmo_no_%02d'%i]['a_1.000']['obs'].value[:, rbin])\n",
    "\n",
    "    testX1 = f2.attrs['cosmo_param_vals']\n",
    "    testX2 = f2.attrs['hod_param_vals'][:100]\n",
    "    testY = np.vstack(Y2s)[:, :100]\n",
    "    f2.close()\n",
    "\n",
    "    predY, _ = model.predict(testX1, testX2)\n",
    "    med_acc, mean_acc = np.median( np.abs( (10**predY[:,0] - 10**testY.flatten(order='F'))/10**testY.flatten(order='F') )  ), \\\n",
    "np.mean( np.abs( (10**predY[:,0] - 10**testY.flatten(order='F'))/10**testY.flatten(order='F') )  ) \n",
    "    print rbin, med_acc, mean_acc\n",
    "    accs.append((med_acc, mean_acc))\n",
    "    log_accs.append((np.median( np.abs( (predY[:,0] - testY.flatten(order='F'))/testY.flatten(order='F') )  ), \\\n",
    "np.mean( np.abs( (predY[:,0] - testY.flatten(order='F'))/testY.flatten(order='F') )  ) ))\n",
    "    print"
   ]
  },
  {
   "cell_type": "code",
   "execution_count": null,
   "metadata": {
    "collapsed": true
   },
   "outputs": [],
   "source": [
    "accs = np.array(accs)"
   ]
  },
  {
   "cell_type": "code",
   "execution_count": null,
   "metadata": {},
   "outputs": [],
   "source": [
    "f = h5py.File(training_file, 'r')\n",
    "#print f.attrs.keys()\n",
    "r_bins = f.attrs['scale_bins']\n",
    "f.close()\n",
    "rpoints = (r_bins[1:]+r_bins[:-1])/2.0"
   ]
  },
  {
   "cell_type": "code",
   "execution_count": null,
   "metadata": {},
   "outputs": [],
   "source": [
    "plt.plot(rpoints, accs[:,0], label = 'Median Error')\n",
    "plt.plot(rpoints, accs[:,1], label = 'Mean Error')\n",
    "\n",
    "plt.ylim([0.001, 0.5])\n",
    "plt.ylabel('Perc. Accuracy')\n",
    "plt.xlabel(r'$r$ [Mpc]')\n",
    "plt.legend(loc = 'best')\n",
    "plt.loglog();"
   ]
  },
  {
   "cell_type": "code",
   "execution_count": null,
   "metadata": {
    "collapsed": true
   },
   "outputs": [],
   "source": []
  }
 ],
 "metadata": {
  "kernelspec": {
   "display_name": "Python 2",
   "language": "python",
   "name": "python2"
  },
  "language_info": {
   "codemirror_mode": {
    "name": "ipython",
    "version": 2
   },
   "file_extension": ".py",
   "mimetype": "text/x-python",
   "name": "python",
   "nbconvert_exporter": "python",
   "pygments_lexer": "ipython2",
   "version": "2.7.13"
  }
 },
 "nbformat": 4,
 "nbformat_minor": 1
}
