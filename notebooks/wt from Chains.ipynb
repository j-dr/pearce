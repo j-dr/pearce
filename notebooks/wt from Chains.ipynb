{
 "cells": [
  {
   "cell_type": "markdown",
   "metadata": {},
   "source": [
    "I've been given a new task to study how scale dependent bias varias as a function of HOD params and "
   ]
  },
  {
   "cell_type": "code",
   "execution_count": 1,
   "metadata": {
    "collapsed": false
   },
   "outputs": [],
   "source": [
    "from pearce.mocks.kittens import cat_dict\n",
    "import numpy as np\n",
    "from scipy.stats import binned_statistic, linregress"
   ]
  },
  {
   "cell_type": "code",
   "execution_count": 2,
   "metadata": {
    "collapsed": true
   },
   "outputs": [],
   "source": [
    "from matplotlib import pyplot as plt\n",
    "%matplotlib inline\n",
    "import seaborn as sns\n",
    "sns.set()"
   ]
  },
  {
   "cell_type": "code",
   "execution_count": 3,
   "metadata": {
    "collapsed": false
   },
   "outputs": [],
   "source": [
    "colors = sns.color_palette()"
   ]
  },
  {
   "cell_type": "code",
   "execution_count": 4,
   "metadata": {
    "collapsed": true
   },
   "outputs": [],
   "source": [
    "sns.set_context(\"notebook\", font_scale=1.5, rc={\"lines.linewidth\": 2.5})"
   ]
  },
  {
   "cell_type": "code",
   "execution_count": 5,
   "metadata": {
    "collapsed": true
   },
   "outputs": [],
   "source": [
    "cosmo_params = {'simname':'chinchilla', 'Lbox':400.0, 'scale_factors':[0.81120]}"
   ]
  },
  {
   "cell_type": "code",
   "execution_count": 6,
   "metadata": {
    "collapsed": false
   },
   "outputs": [],
   "source": [
    "cat = cat_dict[cosmo_params['simname']](**cosmo_params)#construct the specified catalog!"
   ]
  },
  {
   "cell_type": "code",
   "execution_count": 7,
   "metadata": {
    "collapsed": false
   },
   "outputs": [],
   "source": [
    "cat.load(0.81120, tol = 0.01, HOD='hsabRedMagic', particles = False)#, hod_kwargs = {'sec_haloprop_key':'halo_log_nfw_conc'})#, hod_kwargs={'split': 0.5})"
   ]
  },
  {
   "cell_type": "code",
   "execution_count": 8,
   "metadata": {
    "collapsed": false
   },
   "outputs": [],
   "source": [
    "chain_fname = '/u/ki/swmclau2/des/SherlockPearceMCMC/500_walkers_5000_steps_chain_wt_alt_redmagic_z0.23_part2.npy'\n",
    "chain = np.genfromtxt(chain_fname)"
   ]
  },
  {
   "cell_type": "code",
   "execution_count": 9,
   "metadata": {
    "collapsed": false
   },
   "outputs": [
    {
     "name": "stdout",
     "output_type": "stream",
     "text": [
      "(2006500, 8)\n"
     ]
    }
   ],
   "source": [
    "n_walkers = 500\n",
    "n_params = chain.shape[1]\n",
    "n_burn = 0\n",
    "chain = chain[n_walkers*n_burn:, :]\n",
    "print chain.shape"
   ]
  },
  {
   "cell_type": "code",
   "execution_count": 10,
   "metadata": {
    "collapsed": false
   },
   "outputs": [
    {
     "data": {
      "text/plain": [
       "array([  1.23861087e+01,   1.39202848e-01,   2.92529716e-01,\n",
       "         1.14343956e+01,   4.11403722e-01,  -1.32217405e-02,\n",
       "         1.37773031e+01,   1.11968758e+00])"
      ]
     },
     "execution_count": 10,
     "metadata": {},
     "output_type": "execute_result"
    }
   ],
   "source": [
    "chain.mean(axis = 0)"
   ]
  },
  {
   "cell_type": "code",
   "execution_count": 11,
   "metadata": {
    "collapsed": true
   },
   "outputs": [],
   "source": [
    "ordered_param_names = param_names = ['logMmin','mean_occupation_centrals_assembias_param1', 'f_c', 'logM0', 'sigma_logM',\n",
    "                                     'mean_occupation_satellites_assembias_param1',     'logM1',   'alpha']"
   ]
  },
  {
   "cell_type": "code",
   "execution_count": 12,
   "metadata": {
    "collapsed": false
   },
   "outputs": [],
   "source": [
    "rbins = np.array([0.31622777, 0.44326829, 0.62134575, 0.87096359, 1.22086225, 1.7113283, 2.39883292, 3.36253386,\\\n",
    "                  4.71338954, 6.60693448, 9.26118728,  12.98175275, 18.19700859,  25.50742784,  35.75471605,  50.11872336])\n",
    "rpoints = (rbins[1:]+rbins[:-1])/2"
   ]
  },
  {
   "cell_type": "code",
   "execution_count": 13,
   "metadata": {
    "collapsed": true
   },
   "outputs": [],
   "source": [
    "theta_bins = np.logspace(np.log10(2.5), np.log10(250), 21)/60 #binning used in buzzard mocks\n",
    "tpoints = (theta_bins[1:]+theta_bins[:-1])/2"
   ]
  },
  {
   "cell_type": "code",
   "execution_count": 14,
   "metadata": {
    "collapsed": true
   },
   "outputs": [],
   "source": [
    "zbin = 1\n",
    "wt_redmagic = np.loadtxt('/u/ki/swmclau2/Git/pearce/bin/mcmc/buzzard2_wt_%d%d.npy'%(zbin,zbin))"
   ]
  },
  {
   "cell_type": "code",
   "execution_count": 15,
   "metadata": {
    "collapsed": true
   },
   "outputs": [],
   "source": [
    "cov = np.loadtxt('/u/ki/swmclau2/Git/pearce/bin/mcmc/wt_11_cov.npy')"
   ]
  },
  {
   "cell_type": "code",
   "execution_count": 16,
   "metadata": {
    "collapsed": false
   },
   "outputs": [
    {
     "data": {
      "image/png": "[encoded data removed]",
      "text/plain": [
       "<matplotlib.figure.Figure at 0x7fe123267390>"
      ]
     },
     "metadata": {},
     "output_type": "display_data"
    }
   ],
   "source": [
    "plt.errorbar(tpoints, wt_redmagic, yerr = np.sqrt(np.diag(cov)), fmt = 'o',\n",
    "             capsize = 50, label = 'Buzzard Mock', color = colors[2])\n",
    "\n",
    "plt.ylabel(r'$w(\\theta)$')\n",
    "plt.xlabel(r'$\\theta \\mathrm{[deg]}$')\n",
    "plt.loglog();\n",
    "plt.legend(loc='best')\n",
    "plt.xlim([4e-2, 4])\n",
    "plt.title(\"Samples from MCMC with Emulator\")\n",
    "plt.show()"
   ]
  },
  {
   "cell_type": "code",
   "execution_count": 17,
   "metadata": {
    "collapsed": true
   },
   "outputs": [],
   "source": [
    "W = 0.00275848072207"
   ]
  },
  {
   "cell_type": "code",
   "execution_count": null,
   "metadata": {
    "collapsed": false,
    "scrolled": true
   },
   "outputs": [
    {
     "name": "stdout",
     "output_type": "stream",
     "text": [
      "0\n",
      "3612.27798402 0.0136740214085\n",
      "2209.28871022 0.013675136278\n",
      "1325.49731622 0.0136768978614\n",
      "732.679730416"
     ]
    },
    {
     "name": "stderr",
     "output_type": "stream",
     "text": [
      "/u/ki/swmclau2/.conda/envs/hodemulator/lib/python2.7/site-packages/scipy/integrate/quadpack.py:364: IntegrationWarning: The maximum number of subdivisions (50) has been achieved.\n",
      "  If increasing the limit yields no improvement it is advised to analyze \n",
      "  the integrand in order to determine the difficulties.  If the position of a \n",
      "  local difficulty can be determined (singularity, discontinuity) one will \n",
      "  probably gain from splitting up the interval and calling the integrator \n",
      "  on the subranges.  Perhaps a special-purpose integrator should be used.\n",
      "  warnings.warn(msg, IntegrationWarning)\n",
      "/u/ki/swmclau2/.conda/envs/hodemulator/lib/python2.7/site-packages/scipy/integrate/quadpack.py:364: IntegrationWarning: The occurrence of roundoff error is detected, which prevents \n",
      "  the requested tolerance from being achieved.  The error may be \n",
      "  underestimated.\n",
      "  warnings.warn(msg, IntegrationWarning)\n"
     ]
    },
    {
     "name": "stdout",
     "output_type": "stream",
     "text": [
      " 0.0136797009543\n",
      "401.473935296 0.0136841343786\n",
      "214.589528107 0.0136911847693\n",
      "118.758950805 0.0137023464153\n",
      "68.8681993955 0.0137201252652\n",
      "43.5036934229 0.0137483822095\n",
      "29.0164858814 0.0137934496463\n",
      "20.4764572593 0.0138654961925\n",
      "14.6402998199 0.0139816498416\n",
      "10.2492751396 0.0141702408447\n",
      "7.13897252346 0.0144814827962\n",
      "4.89786164633 0.0150086039402\n",
      "3.25480429778 0.0159422325224\n",
      "2.04674010031 0.0177414872242\n",
      "1.23339885148 0.021901532761\n",
      "0.697502022033 0.0400273503538\n",
      "0.0 0.038166460063\n",
      "1\n",
      "419.521344891 0.00926968987754\n",
      "313.963836765 0.00927045319052\n",
      "233.468064901 0.00927165098438\n",
      "169.752172163 0.00927354736017\n",
      "122.017496629 0.00927655352387\n",
      "84.9720043553 0.00928134024317\n",
      "58.8840633003 0.00928891097978\n",
      "40.5666387306 0.00930095827273\n",
      "28.3043893739 0.00932011920512\n",
      "19.9037003153 0.00935065847167\n",
      "14.109654398 0.00939949918108\n",
      "10.0097742445 0.00947824339648\n",
      "6.98637483293 0.00960608923676\n",
      "4.84245526033 0.00981708011257\n",
      "3.2761904023 0.010174420005\n",
      "2.17480873746 0.0108073461321\n",
      "1.39671923818 0.012027054381\n",
      "0.851873982803 0.0148471744259\n",
      "0.483923033524 0.0271347703626\n",
      "0.0 0.0258732618285\n",
      "2\n",
      "3508.57074008 0.0139479809658\n",
      "2171.35497204 0.0139491181717\n",
      "1321.73008522 0.0139509150485\n",
      "726.651321334 0.0139537743015\n",
      "394.398084193 0.0139582965496\n",
      "206.320932955 0.0139654881952\n",
      "113.651651372 0.0139768734652\n",
      "67.0291947238 0.013995008515\n",
      "43.4929681528 0.0140238315883\n",
      "29.9535169226 0.0140698019547\n",
      "21.3094369006 0.0141432919534\n",
      "15.2581445298 0.0142617727466\n",
      "10.5829240242 0.0144541421779\n",
      "7.2866719872 0.0147716198741\n",
      "4.89973752329 0.015309301911\n",
      "3.2416561877 0.0162616357786\n",
      "2.08468731132 0.0180969386192\n",
      "1.26611377598 0.0223403308321\n",
      "0.712919868556 0.0408292998939\n",
      "0.0 0.0389311265929\n",
      "3\n",
      "1954.87346125 0.0126149303487\n",
      "1183.92059643 0.0126159588685\n",
      "712.120575801 0.0126175840123\n",
      "413.37876477 0.0126201699979\n",
      "241.01677151 0.0126242600411\n",
      "142.324065303 0.0126307540687\n",
      "87.2811087346 0.0126410615048\n",
      "56.2320461859 0.0126574633332\n",
      "38.1319956076 0.0126835316984\n",
      "26.7008059036 0.0127251084979\n",
      "19.1771212135 0.0127915748256\n",
      "13.8326976907 0.0128987307153\n",
      "9.58844262305 0.0130727162069\n",
      "6.59055095788 0.013359851602\n",
      "4.40746510231 0.0138461457446\n",
      "2.89723802049 0.0147074621916\n",
      "1.84861147214 0.0163673576967\n",
      "1.14816221498 0.0202051980216\n",
      "0.677861734817 0.0369271205354\n",
      "0.0 0.0352103613829\n",
      "4\n",
      "2902.84312209 0.0128299143928\n",
      "1819.81918108 0.0128309604406\n",
      "1123.02566583 0.0128326132802\n",
      "632.432113268 0.0128352433362\n",
      "353.761949746 0.0128394030821\n",
      "194.143981409 0.0128460077811\n",
      "108.699505417 0.0128564908768\n",
      "62.6093593673 0.0128731722258\n",
      "40.1780893585 0.0128996848489\n",
      "27.5841507319 0.0129419702406\n",
      "19.7202243098 0.0130095693029\n",
      "14.2122877581 0.013118552705\n",
      "9.79987609133 0.0132955018521\n",
      "6.70398220043 0.0135875306177\n",
      "4.47456613029 0.0140821122005\n",
      "2.95141130287 0.0149581072298\n",
      "1.90670940589 0.0166462907269\n",
      "1.16817032228 0.0205495356486\n",
      "0.665809094845 0.0375564336975\n",
      "0.0 0.035810417481\n",
      "5\n"
     ]
    }
   ],
   "source": [
    "wts = []\n",
    "indicies = np.random.choice(chain.shape[0], size = 50, replace = False)\n",
    "for i, row in enumerate(chain[indicies]):\n",
    "    print i\n",
    "    hod_params = dict(zip(ordered_param_names, row))\n",
    "    cat.populate(hod_params)\n",
    "    wt = cat.calc_wt(theta_bins, W, n_cores = 2)\n",
    "    wts.append(wt)\n",
    "    #plt.plot(rbc, bias, alpha = 0.1, color = 'b')"
   ]
  },
  {
   "cell_type": "code",
   "execution_count": null,
   "metadata": {
    "collapsed": false
   },
   "outputs": [],
   "source": [
    "fig = plt.figure(figsize = (15, 6))\n",
    "i = 0\n",
    "for wt in wts:\n",
    "    if i == 0:\n",
    "        plt.plot(tpoints, wt, alpha = 0.05, color = colors[0], label = 'Posterior Samples')\n",
    "        i+=1\n",
    "    plt.plot(tpoints, wt, alpha = 0.05, color = colors[0])\n",
    "    \n",
    "plt.errorbar(tpoints, wt_redmagic, yerr = np.sqrt(np.diag(cov)), fmt = 'o',\n",
    "            label = 'Buzzard Mock', color = colors[2])\n",
    "\n",
    "plt.ylabel(r'$w(\\theta)$')\n",
    "plt.xlabel(r'$\\theta \\mathrm{[deg]}$')\n",
    "plt.loglog();\n",
    "plt.legend(loc='best')\n",
    "plt.xlim([4e-2, 4])\n",
    "#plt.title(\"Samples from MCMC with Emulator\")\n",
    "plt.show()"
   ]
  },
  {
   "cell_type": "raw",
   "metadata": {
    "collapsed": false
   },
   "source": [
    "colors = sns.diverging_palette(80, 190,l= 80, n=N)\n",
    "sns.palplot(colors)"
   ]
  },
  {
   "cell_type": "raw",
   "metadata": {
    "collapsed": false
   },
   "source": [
    "fig = plt.figure(figsize=(10,8))\n",
    "for label, value, c in zip(varied_param_vals, bias_vals, colors):\n",
    "    plt.plot(rbc, value, label = r'$\\log{M_{min}}= %.1f$'%label, color = c)\n",
    "    \n",
    "plt.xscale('log')\n",
    "plt.legend(loc = 'best')\n",
    "plt.xlabel(r'$r$ [Mpc]')\n",
    "plt.ylabel(r'$b(r)$')\n",
    "plt.title(r'Bias as a function of Central Log M Min $\\log{M_{min}}$')"
   ]
  },
  {
   "cell_type": "code",
   "execution_count": null,
   "metadata": {
    "collapsed": true
   },
   "outputs": [],
   "source": []
  }
 ],
 "metadata": {
  "kernelspec": {
   "display_name": "Python [conda env:hodemulator]",
   "language": "python",
   "name": "conda-env-hodemulator-py"
  },
  "language_info": {
   "codemirror_mode": {
    "name": "ipython",
    "version": 2
   },
   "file_extension": ".py",
   "mimetype": "text/x-python",
   "name": "python",
   "nbconvert_exporter": "python",
   "pygments_lexer": "ipython2",
   "version": "2.7.13"
  }
 },
 "nbformat": 4,
 "nbformat_minor": 0
}
