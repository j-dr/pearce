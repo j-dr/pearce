{
 "cells": [
  {
   "cell_type": "markdown",
   "metadata": {},
   "source": [
    "I've been given a new task to study how scale dependent bias varias as a function of HOD params and "
   ]
  },
  {
   "cell_type": "code",
   "execution_count": 1,
   "metadata": {
    "collapsed": false
   },
   "outputs": [],
   "source": [
    "from pearce.mocks.kittens import cat_dict\n",
    "import numpy as np\n",
    "from scipy.stats import binned_statistic, linregress"
   ]
  },
  {
   "cell_type": "code",
   "execution_count": 2,
   "metadata": {
    "collapsed": true
   },
   "outputs": [],
   "source": [
    "from matplotlib import pyplot as plt\n",
    "%matplotlib inline\n",
    "import seaborn as sns\n",
    "sns.set()"
   ]
  },
  {
   "cell_type": "code",
   "execution_count": 3,
   "metadata": {
    "collapsed": false
   },
   "outputs": [],
   "source": [
    "colors = sns.color_palette()"
   ]
  },
  {
   "cell_type": "code",
   "execution_count": 4,
   "metadata": {
    "collapsed": true
   },
   "outputs": [],
   "source": [
    "sns.set_context(\"notebook\", font_scale=1.5, rc={\"lines.linewidth\": 2.5})"
   ]
  },
  {
   "cell_type": "code",
   "execution_count": 5,
   "metadata": {
    "collapsed": true
   },
   "outputs": [],
   "source": [
    "cosmo_params = {'simname':'chinchilla', 'Lbox':400.0, 'scale_factors':[0.81120]}"
   ]
  },
  {
   "cell_type": "code",
   "execution_count": 6,
   "metadata": {
    "collapsed": false
   },
   "outputs": [],
   "source": [
    "cat = cat_dict[cosmo_params['simname']](**cosmo_params)#construct the specified catalog!"
   ]
  },
  {
   "cell_type": "code",
   "execution_count": 7,
   "metadata": {
    "collapsed": false
   },
   "outputs": [],
   "source": [
    "cat.load(0.81120, tol = 0.01, HOD='hsabRedMagic', particles = False)#, hod_kwargs = {'sec_haloprop_key':'halo_log_nfw_conc'})#, hod_kwargs={'split': 0.5})"
   ]
  },
  {
   "cell_type": "code",
   "execution_count": 8,
   "metadata": {
    "collapsed": false
   },
   "outputs": [],
   "source": [
    "chain_fname = '/u/ki/swmclau2/des/SherlockPearceMCMC/500_walkers_5000_steps_chain_wt_alt_redmagic_z0.23_part2.npy'\n",
    "chain = np.genfromtxt(chain_fname)"
   ]
  },
  {
   "cell_type": "code",
   "execution_count": 9,
   "metadata": {
    "collapsed": false
   },
   "outputs": [
    {
     "name": "stdout",
     "output_type": "stream",
     "text": [
      "(2006500, 8)\n"
     ]
    }
   ],
   "source": [
    "n_walkers = 500\n",
    "n_params = chain.shape[1]\n",
    "n_burn = 0\n",
    "chain = chain[n_walkers*n_burn:, :]\n",
    "print chain.shape"
   ]
  },
  {
   "cell_type": "code",
   "execution_count": 10,
   "metadata": {
    "collapsed": false
   },
   "outputs": [],
   "source": [
    "MAP = chain.mean(axis = 0)"
   ]
  },
  {
   "cell_type": "code",
   "execution_count": 11,
   "metadata": {
    "collapsed": true
   },
   "outputs": [],
   "source": [
    "ordered_param_names = param_names = ['logMmin','mean_occupation_centrals_assembias_param1', 'f_c', 'logM0', 'sigma_logM',\n",
    "                                     'mean_occupation_satellites_assembias_param1',     'logM1',   'alpha']"
   ]
  },
  {
   "cell_type": "code",
   "execution_count": 12,
   "metadata": {
    "collapsed": false
   },
   "outputs": [],
   "source": [
    "rbins = np.array([0.31622777, 0.44326829, 0.62134575, 0.87096359, 1.22086225, 1.7113283, 2.39883292, 3.36253386,\\\n",
    "                  4.71338954, 6.60693448, 9.26118728,  12.98175275, 18.19700859,  25.50742784,  35.75471605,  50.11872336])\n",
    "rpoints = (rbins[1:]+rbins[:-1])/2"
   ]
  },
  {
   "cell_type": "code",
   "execution_count": 13,
   "metadata": {
    "collapsed": true
   },
   "outputs": [],
   "source": [
    "theta_bins = np.logspace(np.log10(2.5), np.log10(250), 21)/60 #binning used in buzzard mocks\n",
    "tpoints = (theta_bins[1:]+theta_bins[:-1])/2"
   ]
  },
  {
   "cell_type": "code",
   "execution_count": 14,
   "metadata": {
    "collapsed": true
   },
   "outputs": [],
   "source": [
    "zbin = 1\n",
    "wt_redmagic = np.loadtxt('/u/ki/swmclau2/Git/pearce/bin/mcmc/buzzard2_wt_%d%d.npy'%(zbin,zbin))"
   ]
  },
  {
   "cell_type": "code",
   "execution_count": 15,
   "metadata": {
    "collapsed": true
   },
   "outputs": [],
   "source": [
    "cov = np.loadtxt('/u/ki/swmclau2/Git/pearce/bin/mcmc/wt_11_cov.npy')"
   ]
  },
  {
   "cell_type": "code",
   "execution_count": 16,
   "metadata": {
    "collapsed": true
   },
   "outputs": [],
   "source": [
    "W = 0.00275848072207"
   ]
  },
  {
   "cell_type": "code",
   "execution_count": 17,
   "metadata": {
    "collapsed": false
   },
   "outputs": [
    {
     "name": "stdout",
     "output_type": "stream",
     "text": [
      "[ 186.17623364    0.            0.            0.            0.            0.\n",
      "    0.            0.            0.            0.            0.            0.\n",
      "    0.            0.            0.            0.            0.            0.\n",
      "    0.            0.        ]\n",
      "[ 186.17623364  142.49450163    0.            0.            0.            0.\n",
      "    0.            0.            0.            0.            0.            0.\n",
      "    0.            0.            0.            0.            0.            0.\n",
      "    0.            0.        ]\n",
      "[ 186.17623364  142.49450163  108.35173775    0.            0.            0.\n",
      "    0.            0.            0.            0.            0.            0.\n",
      "    0.            0.            0.            0.            0.            0.\n",
      "    0.            0.        ]\n",
      "[ 186.17623364  142.49450163  108.35173775   81.84040653    0.            0.\n",
      "    0.            0.            0.            0.            0.            0.\n",
      "    0.            0.            0.            0.            0.            0.\n",
      "    0.            0.        ]\n",
      "[ 186.17623364  142.49450163  108.35173775   81.84040653   62.76346462\n",
      "    0.            0.            0.            0.            0.            0.\n",
      "    0.            0.            0.            0.            0.            0.\n",
      "    0.            0.            0.        ]\n",
      "[ 186.17623364  142.49450163  108.35173775   81.84040653   62.76346462\n",
      "   49.13632045    0.            0.            0.            0.            0.\n",
      "    0.            0.            0.            0.            0.            0.\n",
      "    0.            0.            0.        ]\n",
      "[ 186.17623364  142.49450163  108.35173775   81.84040653   62.76346462\n",
      "   49.13632045   39.79559263    0.            0.            0.            0.\n",
      "    0.            0.            0.            0.            0.            0.\n",
      "    0.            0.            0.        ]\n",
      "[ 186.17623364  142.49450163  108.35173775   81.84040653   62.76346462\n",
      "   49.13632045   39.79559263   32.91943078    0.            0.            0.\n",
      "    0.            0.            0.            0.            0.            0.\n",
      "    0.            0.            0.        ]\n",
      "[ 186.17623364  142.49450163  108.35173775   81.84040653   62.76346462\n",
      "   49.13632045   39.79559263   32.91943078   27.78380621    0.            0.\n",
      "    0.            0.            0.            0.            0.            0.\n",
      "    0.            0.            0.        ]\n",
      "[ 186.17623364  142.49450163  108.35173775   81.84040653   62.76346462\n",
      "   49.13632045   39.79559263   32.91943078   27.78380621   23.49188981\n",
      "    0.            0.            0.            0.            0.            0.\n",
      "    0.            0.            0.            0.        ]\n",
      "[ 186.17623364  142.49450163  108.35173775   81.84040653   62.76346462\n",
      "   49.13632045   39.79559263   32.91943078   27.78380621   23.49188981\n",
      "   19.80232003    0.            0.            0.            0.            0.\n",
      "    0.            0.            0.            0.        ]\n",
      "[ 186.17623364  142.49450163  108.35173775   81.84040653   62.76346462\n",
      "   49.13632045   39.79559263   32.91943078   27.78380621   23.49188981\n",
      "   19.80232003   16.48356639    0.            0.            0.            0.\n",
      "    0.            0.            0.            0.        ]\n",
      "[ 186.17623364  142.49450163  108.35173775   81.84040653   62.76346462\n",
      "   49.13632045   39.79559263   32.91943078   27.78380621   23.49188981\n",
      "   19.80232003   16.48356639   13.46195057    0.            0.            0.\n",
      "    0.            0.            0.            0.        ]\n",
      "[ 186.17623364  142.49450163  108.35173775   81.84040653   62.76346462\n",
      "   49.13632045   39.79559263   32.91943078   27.78380621   23.49188981\n",
      "   19.80232003   16.48356639   13.46195057   10.78617628    0.            0.\n",
      "    0.            0.            0.            0.        ]\n",
      "[ 186.17623364  142.49450163  108.35173775   81.84040653   62.76346462\n",
      "   49.13632045   39.79559263   32.91943078   27.78380621   23.49188981\n",
      "   19.80232003   16.48356639   13.46195057   10.78617628    8.44152557\n",
      "    0.            0.            0.            0.            0.        ]\n",
      "[ 186.17623364  142.49450163  108.35173775   81.84040653   62.76346462\n",
      "   49.13632045   39.79559263   32.91943078   27.78380621   23.49188981\n",
      "   19.80232003   16.48356639   13.46195057   10.78617628    8.44152557\n",
      "    6.43352865    0.            0.            0.            0.        ]\n",
      "[ 186.17623364  142.49450163  108.35173775   81.84040653   62.76346462\n",
      "   49.13632045   39.79559263   32.91943078   27.78380621   23.49188981\n",
      "   19.80232003   16.48356639   13.46195057   10.78617628    8.44152557\n",
      "    6.43352865    4.74354728    0.            0.            0.        ]\n",
      "[ 186.17623364  142.49450163  108.35173775   81.84040653   62.76346462\n",
      "   49.13632045   39.79559263   32.91943078   27.78380621   23.49188981\n",
      "   19.80232003   16.48356639   13.46195057   10.78617628    8.44152557\n",
      "    6.43352865    4.74354728    3.29508514    0.            0.        ]\n",
      "[ 186.17623364  142.49450163  108.35173775   81.84040653   62.76346462\n",
      "   49.13632045   39.79559263   32.91943078   27.78380621   23.49188981\n",
      "   19.80232003   16.48356639   13.46195057   10.78617628    8.44152557\n",
      "    6.43352865    4.74354728    3.29508514    2.14990314    0.        ]\n",
      "[ 186.17623364  142.49450163  108.35173775   81.84040653   62.76346462\n",
      "   49.13632045   39.79559263   32.91943078   27.78380621   23.49188981\n",
      "   19.80232003   16.48356639   13.46195057   10.78617628    8.44152557\n",
      "    6.43352865    4.74354728    3.29508514    2.14990314    1.2778663 ]\n"
     ]
    },
    {
     "name": "stderr",
     "output_type": "stream",
     "text": [
      "/u/ki/swmclau2/.conda/envs/hodemulator/lib/python2.7/site-packages/scipy/integrate/quadpack.py:364: IntegrationWarning: The maximum number of subdivisions (50) has been achieved.\n",
      "  If increasing the limit yields no improvement it is advised to analyze \n",
      "  the integrand in order to determine the difficulties.  If the position of a \n",
      "  local difficulty can be determined (singularity, discontinuity) one will \n",
      "  probably gain from splitting up the interval and calling the integrator \n",
      "  on the subranges.  Perhaps a special-purpose integrator should be used.\n",
      "  warnings.warn(msg, IntegrationWarning)\n"
     ]
    }
   ],
   "source": [
    "hod_params = dict(zip(ordered_param_names,  MAP))\n",
    "cat.populate(hod_params)\n",
    "wt_chain = cat.calc_wt(theta_bins, W, n_cores = 2)"
   ]
  },
  {
   "cell_type": "code",
   "execution_count": null,
   "metadata": {
    "collapsed": false
   },
   "outputs": [],
   "source": [
    "plt.errorbar(tpoints, wt_redmagic, yerr = np.sqrt(np.diag(cov)), fmt = 'o',\n",
    "             capsize = 50, label = 'Buzzard Mock', color = colors[2])\n",
    "\n",
    "plt.plot(tpoints, wt_chain, label = \"Chain\")\n",
    "\n",
    "plt.ylabel(r'$w(\\theta)$')\n",
    "plt.xlabel(r'$\\theta \\mathrm{[deg]}$')\n",
    "plt.loglog();\n",
    "plt.legend(loc='best')\n",
    "plt.xlim([4e-2, 4])\n",
    "plt.title(\"Samples from MCMC with Emulator\")\n",
    "plt.show()"
   ]
  },
  {
   "cell_type": "code",
   "execution_count": 18,
   "metadata": {
    "collapsed": false,
    "scrolled": true
   },
   "outputs": [
    {
     "name": "stdout",
     "output_type": "stream",
     "text": [
      "0\n"
     ]
    },
    {
     "name": "stderr",
     "output_type": "stream",
     "text": [
      "/u/ki/swmclau2/.conda/envs/hodemulator/lib/python2.7/site-packages/scipy/integrate/quadpack.py:364: IntegrationWarning: The maximum number of subdivisions (50) has been achieved.\n",
      "  If increasing the limit yields no improvement it is advised to analyze \n",
      "  the integrand in order to determine the difficulties.  If the position of a \n",
      "  local difficulty can be determined (singularity, discontinuity) one will \n",
      "  probably gain from splitting up the interval and calling the integrator \n",
      "  on the subranges.  Perhaps a special-purpose integrator should be used.\n",
      "  warnings.warn(msg, IntegrationWarning)\n",
      "/u/ki/swmclau2/.conda/envs/hodemulator/lib/python2.7/site-packages/scipy/integrate/quadpack.py:364: IntegrationWarning: The occurrence of roundoff error is detected, which prevents \n",
      "  the requested tolerance from being achieved.  The error may be \n",
      "  underestimated.\n",
      "  warnings.warn(msg, IntegrationWarning)\n"
     ]
    },
    {
     "name": "stdout",
     "output_type": "stream",
     "text": [
      "1\n",
      "2\n",
      "3\n",
      "4\n",
      "5\n",
      "6\n",
      "7\n",
      "8\n",
      "9\n"
     ]
    }
   ],
   "source": [
    "wts = []\n",
    "indicies = np.random.choice(chain.shape[0], size = 10, replace = False)\n",
    "for i, row in enumerate(chain[indicies]):\n",
    "    print i\n",
    "    hod_params = dict(zip(ordered_param_names, row))\n",
    "    cat.populate(hod_params)\n",
    "    wt = cat.calc_wt(theta_bins, W, n_cores = 2)\n",
    "    wts.append(wt)\n",
    "    #plt.plot(rbc, bias, alpha = 0.1, color = 'b')"
   ]
  },
  {
   "cell_type": "code",
   "execution_count": 21,
   "metadata": {
    "collapsed": false
   },
   "outputs": [
    {
     "data": {
      "text/plain": [
       "[array([ nan,  nan,  nan,  nan,  nan,  nan,  nan,  nan,  nan,  nan,  nan,\n",
       "         nan,  nan,  nan,  nan,  nan,  nan,  nan,  nan,  nan]),\n",
       " array([ nan,  nan,  nan,  nan,  nan,  nan,  nan,  nan,  nan,  nan,  nan,\n",
       "         nan,  nan,  nan,  nan,  nan,  nan,  nan,  nan,  nan]),\n",
       " array([ nan,  nan,  nan,  nan,  nan,  nan,  nan,  nan,  nan,  nan,  nan,\n",
       "         nan,  nan,  nan,  nan,  nan,  nan,  nan,  nan,  nan]),\n",
       " array([ nan,  nan,  nan,  nan,  nan,  nan,  nan,  nan,  nan,  nan,  nan,\n",
       "         nan,  nan,  nan,  nan,  nan,  nan,  nan,  nan,  nan]),\n",
       " array([ nan,  nan,  nan,  nan,  nan,  nan,  nan,  nan,  nan,  nan,  nan,\n",
       "         nan,  nan,  nan,  nan,  nan,  nan,  nan,  nan,  nan]),\n",
       " array([ nan,  nan,  nan,  nan,  nan,  nan,  nan,  nan,  nan,  nan,  nan,\n",
       "         nan,  nan,  nan,  nan,  nan,  nan,  nan,  nan,  nan]),\n",
       " array([ nan,  nan,  nan,  nan,  nan,  nan,  nan,  nan,  nan,  nan,  nan,\n",
       "         nan,  nan,  nan,  nan,  nan,  nan,  nan,  nan,  nan]),\n",
       " array([ nan,  nan,  nan,  nan,  nan,  nan,  nan,  nan,  nan,  nan,  nan,\n",
       "         nan,  nan,  nan,  nan,  nan,  nan,  nan,  nan,  nan]),\n",
       " array([ nan,  nan,  nan,  nan,  nan,  nan,  nan,  nan,  nan,  nan,  nan,\n",
       "         nan,  nan,  nan,  nan,  nan,  nan,  nan,  nan,  nan]),\n",
       " array([ nan,  nan,  nan,  nan,  nan,  nan,  nan,  nan,  nan,  nan,  nan,\n",
       "         nan,  nan,  nan,  nan,  nan,  nan,  nan,  nan,  nan])]"
      ]
     },
     "execution_count": 21,
     "metadata": {},
     "output_type": "execute_result"
    }
   ],
   "source": [
    "wts"
   ]
  },
  {
   "cell_type": "code",
   "execution_count": 20,
   "metadata": {
    "collapsed": false
   },
   "outputs": [
    {
     "data": {
      "image/png": "[encoded data removed]",
      "text/plain": [
       "<matplotlib.figure.Figure at 0x7f26fc067990>"
      ]
     },
     "metadata": {},
     "output_type": "display_data"
    }
   ],
   "source": [
    "fig = plt.figure(figsize = (15, 6))\n",
    "i = 0\n",
    "for wt in wts:\n",
    "    if i == 0:\n",
    "        plt.plot(tpoints, wt, alpha = 0.05, color = colors[0], label = 'Posterior Samples')\n",
    "        i+=1\n",
    "    plt.plot(tpoints, wt, alpha = 0.05, color = colors[0])\n",
    "    \n",
    "plt.errorbar(tpoints, wt_redmagic, yerr = np.sqrt(np.diag(cov)), fmt = 'o',\n",
    "            label = 'Buzzard Mock', color = colors[2])\n",
    "\n",
    "plt.ylabel(r'$w(\\theta)$')\n",
    "plt.xlabel(r'$\\theta \\mathrm{[deg]}$')\n",
    "plt.loglog();\n",
    "plt.legend(loc='best')\n",
    "plt.xlim([4e-2, 4])\n",
    "#plt.title(\"Samples from MCMC with Emulator\")\n",
    "plt.show()"
   ]
  },
  {
   "cell_type": "raw",
   "metadata": {
    "collapsed": false
   },
   "source": [
    "colors = sns.diverging_palette(80, 190,l= 80, n=N)\n",
    "sns.palplot(colors)"
   ]
  },
  {
   "cell_type": "raw",
   "metadata": {
    "collapsed": false
   },
   "source": [
    "fig = plt.figure(figsize=(10,8))\n",
    "for label, value, c in zip(varied_param_vals, bias_vals, colors):\n",
    "    plt.plot(rbc, value, label = r'$\\log{M_{min}}= %.1f$'%label, color = c)\n",
    "    \n",
    "plt.xscale('log')\n",
    "plt.legend(loc = 'best')\n",
    "plt.xlabel(r'$r$ [Mpc]')\n",
    "plt.ylabel(r'$b(r)$')\n",
    "plt.title(r'Bias as a function of Central Log M Min $\\log{M_{min}}$')"
   ]
  },
  {
   "cell_type": "code",
   "execution_count": null,
   "metadata": {
    "collapsed": true
   },
   "outputs": [],
   "source": []
  }
 ],
 "metadata": {
  "kernelspec": {
   "display_name": "Python [conda env:hodemulator]",
   "language": "python",
   "name": "conda-env-hodemulator-py"
  },
  "language_info": {
   "codemirror_mode": {
    "name": "ipython",
    "version": 2
   },
   "file_extension": ".py",
   "mimetype": "text/x-python",
   "name": "python",
   "nbconvert_exporter": "python",
   "pygments_lexer": "ipython2",
   "version": "2.7.13"
  }
 },
 "nbformat": 4,
 "nbformat_minor": 0
}
