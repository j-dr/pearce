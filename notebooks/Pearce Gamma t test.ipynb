{
 "cells": [
  {
   "cell_type": "markdown",
   "metadata": {},
   "source": [
    "I'm looking into doing a delta_sigma emulator. This is testing if the cat side works. Then i'll make an emulator for it. "
   ]
  },
  {
   "cell_type": "code",
   "execution_count": 1,
   "metadata": {
    "collapsed": false
   },
   "outputs": [],
   "source": [
    "from pearce.mocks import cat_dict\n",
    "import numpy as np\n",
    "from os import path\n",
    "from astropy.io import fits"
   ]
  },
  {
   "cell_type": "code",
   "execution_count": 2,
   "metadata": {
    "collapsed": true
   },
   "outputs": [],
   "source": [
    "import matplotlib\n",
    "#matplotlib.use('Agg')\n",
    "from matplotlib import pyplot as plt\n",
    "%matplotlib inline\n",
    "import seaborn as sns\n",
    "sns.set()"
   ]
  },
  {
   "cell_type": "code",
   "execution_count": 3,
   "metadata": {
    "collapsed": false
   },
   "outputs": [],
   "source": [
    "z_bins = np.array([0.15, 0.3, 0.45, 0.6, 0.75, 0.9])\n",
    "zbin=1"
   ]
  },
  {
   "cell_type": "code",
   "execution_count": 4,
   "metadata": {
    "collapsed": false
   },
   "outputs": [
    {
     "name": "stdout",
     "output_type": "stream",
     "text": [
      "[ 0.81632653  0.72727273  0.6557377   0.59701493  0.54794521]\n"
     ]
    }
   ],
   "source": [
    "zbc = (z_bins[1:]+z_bins[:-1])/2\n",
    "print 1/(1+zbc)"
   ]
  },
  {
   "cell_type": "code",
   "execution_count": 5,
   "metadata": {
    "collapsed": false
   },
   "outputs": [],
   "source": [
    "a = 0.81120\n",
    "z = 1.0/a - 1.0"
   ]
  },
  {
   "cell_type": "markdown",
   "metadata": {},
   "source": [
    "Load up a snapshot at a redshift near the center of this bin. "
   ]
  },
  {
   "cell_type": "code",
   "execution_count": 6,
   "metadata": {
    "collapsed": false
   },
   "outputs": [
    {
     "name": "stdout",
     "output_type": "stream",
     "text": [
      "0.232741617357\n"
     ]
    }
   ],
   "source": [
    "print z"
   ]
  },
  {
   "cell_type": "code",
   "execution_count": 7,
   "metadata": {
    "collapsed": false
   },
   "outputs": [],
   "source": [
    "cosmo_params = {'simname':'chinchilla', 'Lbox':400.0, 'scale_factors':[a]}\n",
    "cat = cat_dict[cosmo_params['simname']](**cosmo_params)#construct the specified catalog!\n",
    "\n",
    "cat.load_catalog(a, particles=True, tol = 0.01, downsample_factor=1e-3)"
   ]
  },
  {
   "cell_type": "code",
   "execution_count": 8,
   "metadata": {
    "collapsed": true
   },
   "outputs": [],
   "source": [
    "cat.load_model(a, 'redMagic')"
   ]
  },
  {
   "cell_type": "code",
   "execution_count": 9,
   "metadata": {
    "collapsed": true
   },
   "outputs": [],
   "source": [
    "from astropy import cosmology"
   ]
  },
  {
   "cell_type": "raw",
   "metadata": {
    "collapsed": true
   },
   "source": [
    "cat.h=1.0\n",
    "cosmo = cat.cosmology\n",
    "cat.cosmology = cosmology.FlatLambdaCDM(H0 = 100, Om0 = cosmo.Om(0))\n",
    "print cat.cosmology"
   ]
  },
  {
   "cell_type": "code",
   "execution_count": 10,
   "metadata": {
    "collapsed": false
   },
   "outputs": [
    {
     "name": "stdout",
     "output_type": "stream",
     "text": [
      "{'logM1': 13.777, 'logMmin': 12.386, 'f_c': 0.292, 'logM0': 11.43433, 'sigma_logM': 0.4111, 'alpha': 1.11}\n"
     ]
    }
   ],
   "source": [
    "params = cat.model.param_dict.copy()\n",
    "#params['mean_occupation_centrals_assembias_param1'] = 0.0\n",
    "#params['mean_occupation_satellites_assembias_param1'] = 0.0\n",
    "#my clustering redmagic best fit\n",
    "params['logMmin'] = 12.386\n",
    "params['sigma_logM'] = 0.4111\n",
    "params['f_c'] = 0.292\n",
    "params['alpha'] = 1.110\n",
    "params['logM1'] = 13.777\n",
    "params['logM0'] = 11.43433\n",
    "\n",
    "print params"
   ]
  },
  {
   "cell_type": "code",
   "execution_count": 11,
   "metadata": {
    "collapsed": false
   },
   "outputs": [
    {
     "name": "stdout",
     "output_type": "stream",
     "text": [
      "chinchilla\n",
      "-------------------------\n",
      "Halo finder:\t rockstar\n",
      "Version name:\tLb400-2048\n",
      "Cosmology:\n",
      "LambdaCDM(H0=70 km / (Mpc s), Om0=0.286, Ode0=0.714, Tcmb0=0 K, Neff=3.04, m_nu=None, Ob0=None)\n",
      "Redshifts:\t[0.23274161735700183]\n",
      "-------------------------\n",
      "Location:\t/nfs/slac/g/ki/ki21/cosmo/yymao/sham_test/resolution-test/c400-2048//rockstar/hlists/\n",
      "Lbox:\t400.0\n",
      "Particle Mass:\t591421440.000000\n",
      "Columns to Keep:\n",
      "{'halo_upid': (6, 'i8'), 'halo_vacc': (56, 'f4'), 'halo_vmax': (16, 'f4'), 'halo_rs_klypin': (34, 'f4'), 'halo_snapnum': (31, 'i8'), 'halo_macc': (54, 'f4'), 'halo_halfmass_scale': (58, 'f4'), 'halo_y': (18, 'f4'), 'halo_id': (1, 'i8'), 'halo_x': (17, 'f4'), 'halo_vx': (20, 'f4'), 'halo_vy': (21, 'f4'), 'halo_vz': (22, 'f4'), 'halo_rs': (12, 'f4'), 'halo_rvir': (11, 'f4'), 'halo_vpeak': (57, 'f4'), 'halo_z': (19, 'f4'), 'halo_mvir': (10, 'f4')}\n"
     ]
    }
   ],
   "source": [
    "print cat"
   ]
  },
  {
   "cell_type": "code",
   "execution_count": 12,
   "metadata": {
    "collapsed": false
   },
   "outputs": [
    {
     "name": "stdout",
     "output_type": "stream",
     "text": [
      "Help on method calc_gt in module pearce.mocks.cat:\n",
      "\n",
      "calc_gt(self, *args, **kwargs) method of pearce.mocks.kittens.Chinchilla instance\n",
      "    Calculate the tangential shear gamma tvia delta sigma\n",
      "    :param theta_bins:\n",
      "        Angular bins (in radians) to compute gamma t\n",
      "    :param sigma_crit_inv:\n",
      "        The inverse of sigma_crit for the lensing sample\n",
      "    :param use_halotools:\n",
      "        How to compute delta_sigma. If we use halotools, small scales will be more accuate, but larger\n",
      "        scales will be more accurate with the analytic techinques (scales comparable to the boxsize). \n",
      "        Default is True.\n",
      "    :param n_cores:\n",
      "        Number of cores to use in the calculation. Default is 'all'\n",
      "    :param ds_kwargs:\n",
      "        Any kwargs to pass into delta_sigma. Default is {}.\n",
      "    :return:\n",
      "        Gamma t\n",
      "\n"
     ]
    }
   ],
   "source": [
    "help(cat.calc_gt)"
   ]
  },
  {
   "cell_type": "code",
   "execution_count": 13,
   "metadata": {
    "collapsed": false
   },
   "outputs": [],
   "source": [
    "cat.populate(params)"
   ]
  },
  {
   "cell_type": "code",
   "execution_count": 14,
   "metadata": {
    "collapsed": false
   },
   "outputs": [
    {
     "name": "stdout",
     "output_type": "stream",
     "text": [
      "0.000288586509328\n"
     ]
    }
   ],
   "source": [
    "nd_cat =  cat.calc_analytic_nd(params)\n",
    "print nd_cat"
   ]
  },
  {
   "cell_type": "code",
   "execution_count": 15,
   "metadata": {
    "collapsed": true
   },
   "outputs": [],
   "source": [
    "fname = '/u/ki/jderose/public_html/bcc/measurement/y3/3x2pt/buzzard/flock/buzzard-2/tpt_Y3_v0.fits'\n",
    "hdulist = fits.open(fname)"
   ]
  },
  {
   "cell_type": "code",
   "execution_count": 16,
   "metadata": {
    "collapsed": false
   },
   "outputs": [],
   "source": [
    "nz_sources = hdulist[6]\n",
    "sources_zbin = 1\n",
    "N_z = np.array([row[2+sources_zbin] for row in nz_sources.data])\n",
    "N_total =  np.sum(N_z)#*0.01\n",
    "N_z/=N_total # normalize\n",
    "\n",
    "zbins = [row[0] for row in nz_sources.data]\n",
    "zbins.append(nz_sources.data[-1][2])"
   ]
  },
  {
   "cell_type": "code",
   "execution_count": 17,
   "metadata": {
    "collapsed": false
   },
   "outputs": [
    {
     "name": "stdout",
     "output_type": "stream",
     "text": [
      "0.000123904180342\n"
     ]
    }
   ],
   "source": [
    "sc_inv = cat.calc_sigma_crit_inv(zbins, N_z)\n",
    "print sc_inv"
   ]
  },
  {
   "cell_type": "code",
   "execution_count": 18,
   "metadata": {
    "collapsed": true
   },
   "outputs": [],
   "source": [
    "zs = np.sum(zbins[:-1]*N_z)"
   ]
  },
  {
   "cell_type": "code",
   "execution_count": 19,
   "metadata": {
    "collapsed": false
   },
   "outputs": [
    {
     "data": {
      "text/plain": [
       "0.34258590153130453"
      ]
     },
     "execution_count": 19,
     "metadata": {},
     "output_type": "execute_result"
    }
   ],
   "source": [
    "zs"
   ]
  },
  {
   "cell_type": "raw",
   "metadata": {
    "collapsed": false
   },
   "source": [
    "r_bins = np.logspace(-1.1, 1.5, 9)\n",
    "print r_bins\n",
    "print (r_bins[1:] + r_bins[:-1])/2.0\n",
    "ds = cat.calc_ds_analytic(r_bins, n_cores = 2)"
   ]
  },
  {
   "cell_type": "raw",
   "metadata": {
    "collapsed": false
   },
   "source": [
    "ds"
   ]
  },
  {
   "cell_type": "raw",
   "metadata": {},
   "source": [
    "plt.plot(sigma_rbins, sigma)\n",
    "plt.loglog()"
   ]
  },
  {
   "cell_type": "raw",
   "metadata": {
    "collapsed": false
   },
   "source": [
    "rpbc = (rp_bins[1:] + rp_bins[:-1])/2.0\n",
    "n_cores = 2\n",
    "ds_kwargs = {}\n",
    "ds = np.zeros_like(rpbc)\n",
    "small_scales = rp_bins < 1.5 #smaller then an MPC, compute with ht\n",
    "# compute the small scales using halotools, but integrate xi_mm to larger scales.\n",
    "#ds = cat.calc_ds_analytic(rp_bins, n_cores=n_cores, **ds_kwargs)\n",
    "#print ds\n",
    "\n",
    "if np.sum(small_scales) >0:\n",
    "    ds_ss = cat.calc_ds(rp_bins,n_cores =n_cores, **ds_kwargs)\n",
    "    ds[:np.sum(small_scales)-1] = ds_ss[:np.sum(small_scales)-1]\n",
    "    print ds\n",
    "if np.sum(~small_scales) > 0:\n",
    "    start_idx = np.sum(small_scales)\n",
    "    ds_ls = cat.calc_ds_analytic(rp_bins, n_cores=n_cores, **ds_kwargs)\n",
    "    ds[start_idx-1:] = ds_ls[start_idx-1:]\n",
    "    print ds\n"
   ]
  },
  {
   "cell_type": "code",
   "execution_count": 20,
   "metadata": {
    "collapsed": false
   },
   "outputs": [
    {
     "data": {
      "text/plain": [
       "0.0001239041803415539"
      ]
     },
     "execution_count": 20,
     "metadata": {},
     "output_type": "execute_result"
    }
   ],
   "source": [
    "sc_inv"
   ]
  },
  {
   "cell_type": "code",
   "execution_count": 21,
   "metadata": {
    "collapsed": false
   },
   "outputs": [],
   "source": [
    "rp_bins = np.logspace(-1.1, 1.8, 20) #binning used in buzzard mocks\n",
    "#rpoints = (rp_bins[1:]+rp_bins[:-1])/2\n",
    "\n",
    "theta_bins = np.logspace(np.log10(2.5), np.log10(250), 21)/60\n",
    "#theta_bins = cat._ang_from_rp(rp_bins)\n",
    "#rp_bins = cat._rp_from_ang(theta_bins)\n",
    "rpoints = np.sqrt(rp_bins[1:]*rp_bins[:-1])\n",
    "tpoints = np.sqrt(theta_bins[1:]*theta_bins[:-1])#(theta_bins[1:]+theta_bins[:-1])/2"
   ]
  },
  {
   "cell_type": "raw",
   "metadata": {
    "collapsed": false
   },
   "source": [
    "ds = cat.calc_ds(theta_bins, angular = True, n_cores = 2)"
   ]
  },
  {
   "cell_type": "code",
   "execution_count": 22,
   "metadata": {
    "collapsed": false
   },
   "outputs": [
    {
     "name": "stdout",
     "output_type": "stream",
     "text": [
      "[  0.55742891   0.70176142   0.88346528   1.11221689   1.40019811\n",
      "   1.76274498   2.21916445   2.79376251   3.51713862   4.42781519\n",
      "   5.57428906   7.01761415   8.83465278  11.12216889  14.00198106\n",
      "  17.62744977  22.19164446  27.93762513  35.17138623  44.27815189\n",
      "  55.7428906 ]\n"
     ]
    }
   ],
   "source": [
    "gt = cat.calc_gt(theta_bins, 1.0, n_cores = 2)"
   ]
  },
  {
   "cell_type": "raw",
   "metadata": {
    "collapsed": false
   },
   "source": [
    "sigma = cat.calc_ds_analytic(theta_bins, angular = True, n_cores =2)\n",
    "print sigma"
   ]
  },
  {
   "cell_type": "code",
   "execution_count": 23,
   "metadata": {
    "collapsed": true
   },
   "outputs": [],
   "source": [
    "from scipy.interpolate import interp1d\n",
    "from scipy.integrate import quad\n",
    "import pyccl as ccl"
   ]
  },
  {
   "cell_type": "raw",
   "metadata": {
    "collapsed": true
   },
   "source": [
    "def calc_ds_analytic(theta_bins, angular = True, n_cores = 2, xi_kwargs = {}):\n",
    "    # calculate xi_gg first\n",
    "    rbins = np.logspace(-1.3, 1.6, 16)\n",
    "    xi = cat.calc_xi_gm(rbins,n_cores=n_cores, **xi_kwargs)\n",
    "\n",
    "    if np.any(xi<=0):\n",
    "        warnings.warn(\"Some values of xi are less than 0. Setting to a small nonzero value. This may have unexpected behavior, check your HOD\")\n",
    "        xi[xi<=0] = 1e-3\n",
    "\n",
    "    rpoints = (rbins[:-1]+rbins[1:])/2.0\n",
    "    xi_rmin, xi_rmax = rpoints[0], rpoints[-1]\n",
    "\n",
    "    # make an interpolator for integrating\n",
    "    xi_interp = interp1d(np.log10(rpoints), np.log10(xi))\n",
    "\n",
    "    # get the theotertical matter xi, for large scale estimates\n",
    "    names, vals = cat._get_cosmo_param_names_vals()\n",
    "    param_dict = { n:v for n,v in zip(names, vals)}\n",
    "\n",
    "    if 'Omega_c' not in param_dict:\n",
    "        param_dict['Omega_c'] = param_dict['Omega_m'] - param_dict['Omega_b']\n",
    "        del param_dict['Omega_m']\n",
    "\n",
    "    cosmo = ccl.Cosmology(**param_dict)\n",
    "\n",
    "    big_rbins = np.logspace(1, 2.3, 21)\n",
    "    big_rpoints = (big_rbins[1:] + big_rbins[:-1])/2.0\n",
    "    big_xi_rmax = big_rpoints[-1]\n",
    "    xi_mm = ccl.correlation_3d(cosmo, cat.a, big_rpoints)\n",
    "\n",
    "    xi_mm[xi_mm<0] = 1e-6 #may wanna change this?\n",
    "    xi_mm_interp = interp1d(np.log10(big_rpoints), np.log10(xi_mm))\n",
    "    #correction factor\n",
    "    bias = np.power(10, xi_interp(1.2)-xi_mm_interp(1.2))\n",
    "\n",
    "    rhocrit = cat.cosmology.critical_density(0).to('Msun/(Mpc^3)').value\n",
    "    rhom = cat.cosmology.Om(0) * rhocrit * 1e-12  # SM h^2/pc^2/Mpc; integral is over Mpc/h\n",
    "    \n",
    "    def sigma_integrand(Rz, Rp, bias, xi_interp, xi_mm_interp):\n",
    "        #Rz = np.exp(lRz)\n",
    "        r2 = Rz**2 + Rp**2\n",
    "        if r2 < xi_rmin**2:\n",
    "            return 0.0\n",
    "        elif xi_rmin**2 < r2 < xi_rmax**2:\n",
    "            return 10**xi_interp(np.log10(r2)*0.5)\n",
    "        elif r2 < big_xi_rmax**2:\n",
    "            return bias*10 ** xi_mm_interp(np.log10(r2) * 0.5)\n",
    "        else:\n",
    "            return 0.0\n",
    "    \n",
    "    ### calculate sigma first###\n",
    "\n",
    "    sigma_rpoints = np.logspace(-1.1, 2.2, 15)\n",
    "\n",
    "    sigma = np.zeros_like(sigma_rpoints)\n",
    "    \n",
    "    for i, rp in enumerate(sigma_rpoints):\n",
    "        sigma[i] = rhom*2*quad(sigma_integrand, 1e-6, 1e3, args=(rp, bias, xi_interp, xi_mm_interp))[0]\n",
    "        \n",
    "    sigma_interp = interp1d(np.log10(sigma_rpoints), sigma)\n",
    "    ### calculate delta sigma ###\n",
    "\n",
    "    def DS_integrand_medium_scales(R, sigma_interp):\n",
    "        #R = np.exp(lR)\n",
    "        return R*sigma_interp(np.log10(R))\n",
    "\n",
    "    rp_bins = theta_bins if not angular else cat._rp_from_ang(theta_bins)\n",
    "    #rp_bins = np.logspace(-1.1, 2.0, 9) #binning used in buzzard mocks\n",
    "    print rp_bins\n",
    "\n",
    "    rp_points = np.sqrt(rp_bins[1:]*rp_bins[:-1])#(rp_bins[1:] + rp_bins[:-1])/2.0\n",
    "    ds = np.zeros_like(rp_points)\n",
    "\n",
    "    for i, rp in enumerate(rp_points):\n",
    "        result = quad(DS_integrand_medium_scales, sigma_rpoints[0], rp, args=(sigma_interp,))[0]\n",
    "        ds[i] = result * 2 / (rp ** 2) - sigma_interp(np.log10(rp))\n",
    "\n",
    "    return ds\n"
   ]
  },
  {
   "cell_type": "raw",
   "metadata": {
    "collapsed": false
   },
   "source": [
    "#(rpoints, xi), (big_rpoints, xi_mm) = calc_ds_analytic(theta_bins)\n",
    "#sigma = calc_ds_analytic(theta_bins)\n",
    "ds_ls = calc_ds_analytic(theta_bins, angular = True)"
   ]
  },
  {
   "cell_type": "raw",
   "metadata": {},
   "source": [
    "#sigma_rpoints = np.logspace(-1.1, 2.2, 15)\n",
    "sigma_rp_bins = np.logspace(-1.1, 1.5, 9) #binning used in buzzard mocks\n",
    "sigma_rpoints = (sigma_rp_bins[1:]+sigma_rp_bins[:-1])/2\n",
    "\n",
    "plt.plot(sigma_rpoints, sigma)\n",
    "plt.loglog()\n",
    "#plt.xscale('log')"
   ]
  },
  {
   "cell_type": "raw",
   "metadata": {},
   "source": [
    "rp_bins = np.logspace(-1.1, 2.0, 9) #binning used in buzzard mocks\n",
    "rpoints = (rp_bins[1:]+rp_bins[:-1])/2"
   ]
  },
  {
   "cell_type": "raw",
   "metadata": {
    "collapsed": false
   },
   "source": [
    "#rp_bins = cat._rp_from_ang(theta_bins)\n",
    "#print rp_bins\n",
    "ds_ss = cat.calc_ds(theta_bins, angular = True,n_cores =2)#/cat.h"
   ]
  },
  {
   "cell_type": "raw",
   "metadata": {
    "collapsed": false
   },
   "source": [
    "rp_bins = cat._rp_from_ang(theta_bins)\n",
    "print rp_bins\n",
    "# TODO my own rp_bins\n",
    "rpbc = (rp_bins[1:]+rp_bins[:-1])/2.0\n",
    "\n",
    "ds = np.zeros_like(rpbc)\n",
    "small_scales = rp_bins < 10 #smaller then an MPC, compute with ht\n",
    "\n",
    "print small_scales\n",
    "# compute the small scales using halotools, but integrate xi_mm to larger scales.\n",
    "start_idx = np.sum(small_scales)\n"
   ]
  },
  {
   "cell_type": "raw",
   "metadata": {
    "collapsed": false
   },
   "source": [
    "sigma_prime = np.zeros_like(rpbc)\n",
    "\n",
    "sigma_prime[:start_idx-1] = ds_ss[:start_idx-1]\n",
    "sigma_prime[start_idx-1:] = ds_ls[start_idx-1:]"
   ]
  },
  {
   "cell_type": "raw",
   "metadata": {
    "collapsed": false
   },
   "source": [
    "plt.plot(tpoints, ds_ls)\n",
    "plt.plot(tpoints, ds_ss)#/cat.h\n",
    "#plt.plot(tpoints, gt)\n",
    "#plt.plot(tpoints, sigma_prime)\n",
    "\n",
    "plt.loglog();"
   ]
  },
  {
   "cell_type": "code",
   "execution_count": 24,
   "metadata": {
    "collapsed": false
   },
   "outputs": [
    {
     "data": {
      "text/plain": [
       "[]"
      ]
     },
     "execution_count": 24,
     "metadata": {},
     "output_type": "execute_result"
    },
    {
     "data": {
      "image/png": "[encoded data removed]",
      "text/plain": [
       "<matplotlib.figure.Figure at 0x7f1629f52150>"
      ]
     },
     "metadata": {},
     "output_type": "display_data"
    }
   ],
   "source": [
    "tbins = (theta_bins[1:]+theta_bins[:-1])/2.0\n",
    "\n",
    "plt.plot(tbins*60, gt)\n",
    "plt.ylabel(r'$\\gamma_t(\\theta)$')\n",
    "plt.xlabel(r'$\\theta$ [Arcmin]')\n",
    "plt.loglog()"
   ]
  },
  {
   "cell_type": "code",
   "execution_count": 25,
   "metadata": {
    "collapsed": false
   },
   "outputs": [],
   "source": [
    "gt_data = hdulist[3].data\n",
    "gt_rm, gt_bc = [],[]\n",
    "for i, row in enumerate(gt_data):\n",
    "    if i == 20:\n",
    "        break\n",
    "    gt_rm.append(row[3])#gt_data[3,:20]\n",
    "    gt_bc.append(row[4])\n"
   ]
  },
  {
   "cell_type": "code",
   "execution_count": 26,
   "metadata": {
    "collapsed": false
   },
   "outputs": [
    {
     "name": "stdout",
     "output_type": "stream",
     "text": [
      "[2.8284525760820651, 3.5611100626979235, 4.4832324135353927, 5.6444263949858096, 7.106467297987006, 8.9470680509631713, 11.263751950185547, 14.180543270537312, 17.852323155753165, 22.475065080603613, 28.294328659304032, 35.620811384702627, 44.843320233386507, 56.454311248355957, 71.070399228697539, 89.469220057323227, 112.63138689765957, 141.78536304480295, 178.4862435722506, 224.67293751732211]\n",
      "[   2.82365676    3.55477326    4.47519438    5.63393593    7.09270511\n",
      "    8.92918671   11.24118005   14.15180723   17.81606974   22.42910293\n",
      "   28.23656765   35.54773255   44.75194384   56.33935933   70.92705115\n",
      "   89.29186707  112.41180052  141.51807226  178.1606974   224.29102934]\n"
     ]
    }
   ],
   "source": [
    "print gt_bc\n",
    "print tbins*60"
   ]
  },
  {
   "cell_type": "code",
   "execution_count": 27,
   "metadata": {
    "collapsed": false
   },
   "outputs": [
    {
     "data": {
      "text/plain": [
       "([0.00057909443283527277,\n",
       "  0.00075844018290375007,\n",
       "  0.00051850962632699364,\n",
       "  0.00053758798484659562,\n",
       "  0.00035584157482638064,\n",
       "  0.00038287288254570929,\n",
       "  0.00033117365509588773,\n",
       "  0.00018444683702616453,\n",
       "  0.00019728601131120023,\n",
       "  0.00017259687669257228,\n",
       "  0.00010352570241177796,\n",
       "  9.7916032948876309e-05,\n",
       "  8.1023657293956486e-05,\n",
       "  7.8309766692132387e-05,\n",
       "  7.4532526832869536e-05,\n",
       "  6.0607272858477835e-05,\n",
       "  4.3082342739862917e-05,\n",
       "  4.2046111399494965e-05,\n",
       "  3.4032897800263938e-05,\n",
       "  2.9131614374755984e-05],\n",
       " array([ 8.29765841,  7.0136253 ,  5.94207669,  4.98119378,  4.12790198,\n",
       "         3.38714666,  2.6648658 ,  2.07209764,  1.59309205,  1.21029242,\n",
       "         0.95653408,  0.78541169,  0.6283067 ,  0.55372474,  0.45387422,\n",
       "         0.40221351,  0.34139928,  0.28728537,  0.24524206,  0.21019669]))"
      ]
     },
     "execution_count": 27,
     "metadata": {},
     "output_type": "execute_result"
    }
   ],
   "source": [
    "gt_rm, gt"
   ]
  },
  {
   "cell_type": "code",
   "execution_count": 29,
   "metadata": {
    "collapsed": false
   },
   "outputs": [
    {
     "data": {
      "text/plain": [
       "[]"
      ]
     },
     "execution_count": 29,
     "metadata": {},
     "output_type": "execute_result"
    },
    {
     "data": {
      "image/png": "[encoded data removed]",
      "text/plain": [
       "<matplotlib.figure.Figure at 0x7f160f15a850>"
      ]
     },
     "metadata": {},
     "output_type": "display_data"
    }
   ],
   "source": [
    "plt.plot(gt_bc, gt_rm)\n",
    "plt.plot(tbins*60, sc_inv*gt)#/cat.h)\n",
    "plt.ylabel(r'$\\gamma_t(\\theta)$')\n",
    "plt.xlabel(r'$\\theta$ [Arcmin]')\n",
    "plt.loglog()"
   ]
  }
 ],
 "metadata": {
  "kernelspec": {
   "display_name": "Python [conda env:hodemulator]",
   "language": "python",
   "name": "conda-env-hodemulator-py"
  },
  "language_info": {
   "codemirror_mode": {
    "name": "ipython",
    "version": 2
   },
   "file_extension": ".py",
   "mimetype": "text/x-python",
   "name": "python",
   "nbconvert_exporter": "python",
   "pygments_lexer": "ipython2",
   "version": "2.7.13"
  }
 },
 "nbformat": 4,
 "nbformat_minor": 0
}
