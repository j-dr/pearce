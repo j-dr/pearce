{
 "cells": [
  {
   "cell_type": "markdown",
   "metadata": {},
   "source": [
    "The problem with my w(\\theta) calculation appears to be fairly fundamental: calculating in a snapshot just gives very strange answers. I'm gonna try directly integratng the 3-d correlation function. I'm gonna try doing that directly, but it is possible that I'll have to emulate to get that quite right. \n",
    "\n",
    "There is a prefactor which I'm going to compute directly from the redMagic data that I have. "
   ]
  },
  {
   "cell_type": "code",
   "execution_count": 33,
   "metadata": {
    "collapsed": false
   },
   "outputs": [],
   "source": [
    "from pearce.mocks import cat_dict\n",
    "import numpy as np\n",
    "from os import path\n",
    "from astropy.io import fits\n",
    "from astropy import constants as const, units as unit"
   ]
  },
  {
   "cell_type": "code",
   "execution_count": 34,
   "metadata": {
    "collapsed": true
   },
   "outputs": [],
   "source": [
    "import george\n",
    "from george.kernels import ExpSquaredKernel"
   ]
  },
  {
   "cell_type": "code",
   "execution_count": 35,
   "metadata": {
    "collapsed": true
   },
   "outputs": [],
   "source": [
    "import matplotlib\n",
    "#matplotlib.use('Agg')\n",
    "from matplotlib import pyplot as plt\n",
    "%matplotlib inline\n",
    "import seaborn as sns\n",
    "sns.set()"
   ]
  },
  {
   "cell_type": "markdown",
   "metadata": {},
   "source": [
    "Load up the tptY3 buzzard mocks. "
   ]
  },
  {
   "cell_type": "code",
   "execution_count": 36,
   "metadata": {
    "collapsed": true
   },
   "outputs": [],
   "source": [
    "fname = '/u/ki/jderose/public_html/bcc/measurement/y3/3x2pt/buzzard/flock/buzzard-2/tpt_Y3_v0.fits'\n",
    "hdulist = fits.open(fname)"
   ]
  },
  {
   "cell_type": "code",
   "execution_count": 37,
   "metadata": {
    "collapsed": true
   },
   "outputs": [],
   "source": [
    "z_bins = np.array([0.15, 0.3, 0.45, 0.6, 0.75, 0.9])\n",
    "zbin=1"
   ]
  },
  {
   "cell_type": "code",
   "execution_count": 38,
   "metadata": {
    "collapsed": false
   },
   "outputs": [],
   "source": [
    "a = 0.81120\n",
    "z = 1.0/a - 1.0"
   ]
  },
  {
   "cell_type": "markdown",
   "metadata": {},
   "source": [
    "Load up a snapshot at a redshift near the center of this bin. "
   ]
  },
  {
   "cell_type": "code",
   "execution_count": 39,
   "metadata": {
    "collapsed": false
   },
   "outputs": [
    {
     "name": "stdout",
     "output_type": "stream",
     "text": [
      "0.232741617357\n"
     ]
    }
   ],
   "source": [
    "print z"
   ]
  },
  {
   "cell_type": "markdown",
   "metadata": {},
   "source": [
    "This code load a particular snapshot and and a particular HOD model. In this case, 'redMagic' is the Zheng07 HOD with the f_c variable added in."
   ]
  },
  {
   "cell_type": "code",
   "execution_count": 40,
   "metadata": {
    "collapsed": true
   },
   "outputs": [],
   "source": [
    "cosmo_params = {'simname':'chinchilla', 'Lbox':400.0, 'scale_factors':[a]}\n",
    "cat = cat_dict[cosmo_params['simname']](**cosmo_params)#construct the specified catalog!\n",
    "\n",
    "cat.load_catalog(a)\n",
    "#cat.h = 1.0\n",
    "#halo_masses = cat.halocat.halo_table['halo_mvir']"
   ]
  },
  {
   "cell_type": "code",
   "execution_count": 41,
   "metadata": {
    "collapsed": true
   },
   "outputs": [],
   "source": [
    "cat.load_model(a, 'redMagic')"
   ]
  },
  {
   "cell_type": "code",
   "execution_count": 42,
   "metadata": {
    "collapsed": false
   },
   "outputs": [
    {
     "name": "stdout",
     "output_type": "stream",
     "text": [
      "Filename: /u/ki/jderose/public_html/bcc/measurement/y3/3x2pt/buzzard/flock/buzzard-2/tpt_Y3_v0.fits\n",
      "No.    Name         Type      Cards   Dimensions   Format\n",
      "  0  PRIMARY     PrimaryHDU       4   ()      \n",
      "  1  xip         BinTableHDU     32   200R x 5C   [K, K, K, D, D]   \n",
      "  2  xim         BinTableHDU     32   200R x 5C   [K, K, K, D, D]   \n",
      "  3  gammat      BinTableHDU     32   400R x 5C   [K, K, K, D, D]   \n",
      "  4  wtheta      BinTableHDU     32   300R x 5C   [K, K, K, D, D]   \n",
      "  5  nz_shear_bpz  BinTableHDU     32   250R x 7C   [D, D, D, D, D, D, D]   \n",
      "  6  nz_shear_true  BinTableHDU     32   250R x 7C   [D, D, D, D, D, D, D]   \n",
      "  7  nz_pos_zrm  BinTableHDU     31   400R x 8C   [D, D, D, D, D, D, D, D]   \n",
      "  8  nz_pos_zspec  BinTableHDU     31   400R x 8C   [D, D, D, D, D, D, D, D]   \n"
     ]
    }
   ],
   "source": [
    "hdulist.info()"
   ]
  },
  {
   "cell_type": "code",
   "execution_count": 43,
   "metadata": {
    "collapsed": false
   },
   "outputs": [
    {
     "name": "stdout",
     "output_type": "stream",
     "text": [
      "[(1, 1,  0,   4.56957466e-01,    2.82362129)\n",
      " (1, 1,  1,   3.62154907e-01,    3.55714603)\n",
      " (1, 1,  2,   2.90411390e-01,    4.48237938)\n",
      " (1, 1,  3,   2.31183177e-01,    5.64007306)\n",
      " (1, 1,  4,   1.91003284e-01,    7.10466107)\n",
      " (1, 1,  5,   1.51002997e-01,    8.94410971)\n",
      " (1, 1,  6,   1.31082683e-01,   11.26263824)\n",
      " (1, 1,  7,   1.07493532e-01,   14.17700893)\n",
      " (1, 1,  8,   8.68005526e-02,   17.84769873)\n",
      " (1, 1,  9,   7.52830226e-02,   22.47191605)\n",
      " (1, 1, 10,   6.29119489e-02,   28.28898196)\n",
      " (1, 1, 11,   5.18914870e-02,   35.61410283)\n",
      " (1, 1, 12,   4.11548751e-02,   44.834109  )\n",
      " (1, 1, 13,   3.02333987e-02,   56.44753572)\n",
      " (1, 1, 14,   2.22349777e-02,   71.06401175)\n",
      " (1, 1, 15,   1.57940000e-02,   89.4625058 )\n",
      " (1, 1, 16,   1.05595053e-02,  112.62320328)\n",
      " (1, 1, 17,   6.70239819e-03,  141.77573475)\n",
      " (1, 1, 18,   4.53896752e-03,  178.48268026)\n",
      " (1, 1, 19,   2.66568363e-03,  224.66013317)\n",
      " (1, 2,  0,   6.26817874e-02,    2.82904072)\n",
      " (1, 2,  1,   4.63055589e-02,    3.56044312)\n",
      " (1, 2,  2,   3.68226841e-02,    4.48388631)\n",
      " (1, 2,  3,   2.90156852e-02,    5.6442448 )\n",
      " (1, 2,  4,   2.43758671e-02,    7.10692923)\n",
      " (1, 2,  5,   2.18072221e-02,    8.94784385)\n",
      " (1, 2,  6,   1.41815251e-02,   11.26321047)\n",
      " (1, 2,  7,   1.42336893e-02,   14.18179024)\n",
      " (1, 2,  8,   9.73180546e-03,   17.85372538)\n",
      " (1, 2,  9,   8.17056276e-03,   22.47454715)\n",
      " (1, 2, 10,   5.46501843e-03,   28.29593479)\n",
      " (1, 2, 11,   4.52755763e-03,   35.62105875)\n",
      " (1, 2, 12,   3.30382182e-03,   44.84369006)\n",
      " (1, 2, 13,   2.23051909e-03,   56.45567557)\n",
      " (1, 2, 14,   6.11060747e-04,   71.07273646)\n",
      " (1, 2, 15,   7.10913678e-04,   89.47048665)\n",
      " (1, 2, 16,   8.43640950e-04,  112.63293993)\n",
      " (1, 2, 17,   5.68595218e-04,  141.7896681 )\n",
      " (1, 2, 18,   7.29916368e-04,  178.48698929)\n",
      " (1, 2, 19,   1.19709688e-04,  224.67503263)\n",
      " (1, 3,  0,   5.60132998e-03,    2.82889779)\n",
      " (1, 3,  1,   1.10151758e-04,    3.56226703)\n",
      " (1, 3,  2,   4.99405772e-04,    4.48383532)\n",
      " (1, 3,  3,   2.29848644e-03,    5.64542262)\n",
      " (1, 3,  4,  -2.91356593e-03,    7.10816755)\n",
      " (1, 3,  5,  -2.10147989e-03,    8.94797043)\n",
      " (1, 3,  6,  -1.72980281e-03,   11.26505675)\n",
      " (1, 3,  7,  -3.67594449e-03,   14.18131541)\n",
      " (1, 3,  8,  -1.98218652e-03,   17.85441706)\n",
      " (1, 3,  9,  -1.30612769e-03,   22.47618529)\n",
      " (1, 3, 10,  -2.03363862e-03,   28.29509266)\n",
      " (1, 3, 11,  -1.90371097e-03,   35.62268928)\n",
      " (1, 3, 12,  -7.44224422e-04,   44.84607221)\n",
      " (1, 3, 13,  -1.05623450e-03,   56.4572086 )\n",
      " (1, 3, 14,  -6.21307945e-04,   71.07265671)\n",
      " (1, 3, 15,  -1.06114181e-05,   89.47143867)\n",
      " (1, 3, 16,  -6.86794850e-04,  112.63172782)\n",
      " (1, 3, 17,  -9.66671819e-04,  141.78441208)\n",
      " (1, 3, 18,  -9.08819924e-04,  178.48875298)\n",
      " (1, 3, 19,  -4.03544412e-04,  224.67670808)\n",
      " (1, 4,  0,   2.87166973e-03,    2.83005314)\n",
      " (1, 4,  1,  -2.28938157e-03,    3.56405445)\n",
      " (1, 4,  2,   2.44572296e-03,    4.48432253)\n",
      " (1, 4,  3,  -4.61561163e-03,    5.64495972)\n",
      " (1, 4,  4,  -3.19168138e-03,    7.10769821)\n",
      " (1, 4,  5,  -3.12950381e-03,    8.94892651)\n",
      " (1, 4,  6,   1.42923175e-03,   11.26489306)\n",
      " (1, 4,  7,  -4.97782298e-04,   14.18046308)\n",
      " (1, 4,  8,   2.34437163e-04,   17.85421476)\n",
      " (1, 4,  9,  -8.66650854e-05,   22.47658471)\n",
      " (1, 4, 10,  -1.39185252e-03,   28.296612  )\n",
      " (1, 4, 11,  -2.04079960e-03,   35.62139268)\n",
      " (1, 4, 12,  -2.34384205e-03,   44.8443695 )\n",
      " (1, 4, 13,  -1.49697523e-03,   56.45869434)\n",
      " (1, 4, 14,  -7.56555797e-04,   71.07217342)\n",
      " (1, 4, 15,  -7.36202548e-04,   89.47265984)\n",
      " (1, 4, 16,  -2.76546731e-04,  112.63107581)\n",
      " (1, 4, 17,  -2.27971199e-04,  141.78860831)\n",
      " (1, 4, 18,  -1.22261872e-03,  178.48521436)\n",
      " (1, 4, 19,  -8.21811947e-04,  224.67895792)\n",
      " (1, 5,  0,   1.28881204e-03,    2.82984261)\n",
      " (1, 5,  1,  -2.69162883e-03,    3.56415597)\n",
      " (1, 5,  2,  -7.86555345e-03,    4.48400232)\n",
      " (1, 5,  3,  -4.98983157e-03,    5.64382976)\n",
      " (1, 5,  4,  -3.02549964e-03,    7.10722872)\n",
      " (1, 5,  5,  -5.06667058e-03,    8.94560284)\n",
      " (1, 5,  6,  -8.53342600e-04,   11.26745514)\n",
      " (1, 5,  7,  -5.62725739e-03,   14.18089958)\n",
      " (1, 5,  8,  -4.34469396e-03,   17.85316099)\n",
      " (1, 5,  9,  -4.62195551e-04,   22.47548323)\n",
      " (1, 5, 10,  -2.53012077e-04,   28.2958363 )\n",
      " (1, 5, 11,  -7.37960635e-04,   35.62124286)\n",
      " (1, 5, 12,  -1.71500322e-03,   44.84240846)\n",
      " (1, 5, 13,   3.89036078e-04,   56.45824065)\n",
      " (1, 5, 14,  -6.46795612e-04,   71.07532208)\n",
      " (1, 5, 15,   1.90928768e-04,   89.47429697)\n",
      " (1, 5, 16,  -4.60890294e-04,  112.63407434)\n",
      " (1, 5, 17,  -9.35061536e-04,  141.79002478)\n",
      " (1, 5, 18,  -1.34145626e-03,  178.47882863)\n",
      " (1, 5, 19,  -1.08946836e-03,  224.67903346)\n",
      " (2, 2,  0,   4.42913033e-01,    2.82514885)\n",
      " (2, 2,  1,   3.36152964e-01,    3.55753793)\n",
      " (2, 2,  2,   2.68264070e-01,    4.47950152)\n",
      " (2, 2,  3,   2.11527133e-01,    5.6428721 )\n",
      " (2, 2,  4,   1.77871631e-01,    7.10425346)\n",
      " (2, 2,  5,   1.44187503e-01,    8.94351699)\n",
      " (2, 2,  6,   1.18885691e-01,   11.2603175 )\n",
      " (2, 2,  7,   9.78324287e-02,   14.17601916)\n",
      " (2, 2,  8,   7.96918897e-02,   17.84734844)\n",
      " (2, 2,  9,   6.41974431e-02,   22.47107394)\n",
      " (2, 2, 10,   5.09092865e-02,   28.28974178)\n",
      " (2, 2, 11,   3.99950390e-02,   35.61559331)\n",
      " (2, 2, 12,   3.06025243e-02,   44.83671234)\n",
      " (2, 2, 13,   2.22618501e-02,   56.44829795)\n",
      " (2, 2, 14,   1.50599357e-02,   71.06384625)\n",
      " (2, 2, 15,   1.01232169e-02,   89.46509024)\n",
      " (2, 2, 16,   6.05088886e-03,  112.62420831)\n",
      " (2, 2, 17,   3.60798699e-03,  141.77999657)\n",
      " (2, 2, 18,   1.50607832e-03,  178.48312461)\n",
      " (2, 2, 19,   8.23337203e-04,  224.6789732 )\n",
      " (2, 3,  0,   4.45125072e-02,    2.82920563)\n",
      " (2, 3,  1,   3.25218563e-02,    3.56156638)\n",
      " (2, 3,  2,   2.50538638e-02,    4.48457463)\n",
      " (2, 3,  3,   2.24250646e-02,    5.64526804)\n",
      " (2, 3,  4,   1.81593275e-02,    7.106673  )\n",
      " (2, 3,  5,   1.56039079e-02,    8.94826873)\n",
      " (2, 3,  6,   1.22055108e-02,   11.26406871)\n",
      " (2, 3,  7,   1.01843711e-02,   14.18114649)\n",
      " (2, 3,  8,   8.73137878e-03,   17.85271345)\n",
      " (2, 3,  9,   6.98449117e-03,   22.4755383 )\n",
      " (2, 3, 10,   5.62167258e-03,   28.29502151)\n",
      " (2, 3, 11,   4.57782470e-03,   35.62157174)\n",
      " (2, 3, 12,   3.23502100e-03,   44.8435137 )\n",
      " (2, 3, 13,   2.17041667e-03,   56.45609525)\n",
      " (2, 3, 14,   1.23859901e-03,   71.0711783 )\n",
      " (2, 3, 15,   1.00053820e-03,   89.47015446)\n",
      " (2, 3, 16,   8.38632628e-04,  112.63450257)\n",
      " (2, 3, 17,   8.22436451e-04,  141.7838117 )\n",
      " (2, 3, 18,  -2.95476441e-04,  178.48324006)\n",
      " (2, 3, 19,   2.31434134e-05,  224.68075419)\n",
      " (2, 4,  0,   2.01062367e-03,    2.82998085)\n",
      " (2, 4,  1,  -1.59292970e-03,    3.56153575)\n",
      " (2, 4,  2,   2.97815166e-03,    4.48353146)\n",
      " (2, 4,  3,   1.58654516e-03,    5.6460885 )\n",
      " (2, 4,  4,   1.06709785e-03,    7.10785474)\n",
      " (2, 4,  5,   2.68616992e-03,    8.94848465)\n",
      " (2, 4,  6,   2.08129286e-03,   11.26496724)\n",
      " (2, 4,  7,   1.18819967e-03,   14.18154649)\n",
      " (2, 4,  8,   1.78214190e-03,   17.85411144)\n",
      " (2, 4,  9,   9.86078973e-04,   22.47758412)\n",
      " (2, 4, 10,   1.87800603e-03,   28.29580371)\n",
      " (2, 4, 11,   1.82386827e-03,   35.62220089)\n",
      " (2, 4, 12,   1.72712734e-03,   44.84480262)\n",
      " (2, 4, 13,   1.29309193e-03,   56.45729983)\n",
      " (2, 4, 14,   5.97018958e-04,   71.06917326)\n",
      " (2, 4, 15,   2.67447061e-04,   89.47053355)\n",
      " (2, 4, 16,   5.70327263e-04,  112.63402696)\n",
      " (2, 4, 17,   2.12195514e-04,  141.78652581)\n",
      " (2, 4, 18,  -1.76943664e-04,  178.48715934)\n",
      " (2, 4, 19,  -1.49396716e-04,  224.68296051)\n",
      " (2, 5,  0,   1.24323668e-02,    2.82815766)\n",
      " (2, 5,  1,   1.57583816e-02,    3.56487671)\n",
      " (2, 5,  2,   5.94018071e-03,    4.48251536)\n",
      " (2, 5,  3,   8.95665657e-03,    5.64688465)\n",
      " (2, 5,  4,   5.65249688e-03,    7.10527734)\n",
      " (2, 5,  5,   8.82713206e-03,    8.94862322)\n",
      " (2, 5,  6,   5.39701612e-03,   11.26560621)\n",
      " (2, 5,  7,   2.06302456e-03,   14.17892677)\n",
      " (2, 5,  8,   2.20306221e-03,   17.85222221)\n",
      " (2, 5,  9,   2.38025180e-03,   22.47753358)\n",
      " (2, 5, 10,   2.28022325e-03,   28.2957604 )\n",
      " (2, 5, 11,   1.45361995e-03,   35.62162868)\n",
      " (2, 5, 12,   9.85463642e-04,   44.84527214)\n",
      " (2, 5, 13,   1.51892346e-03,   56.45956259)\n",
      " (2, 5, 14,   9.90123310e-04,   71.06970377)\n",
      " (2, 5, 15,   1.35364867e-04,   89.4721789 )\n",
      " (2, 5, 16,  -1.58078323e-04,  112.63302742)\n",
      " (2, 5, 17,  -1.02919635e-04,  141.78332528)\n",
      " (2, 5, 18,   5.33517184e-05,  178.48564048)\n",
      " (2, 5, 19,  -3.41246864e-04,  224.67530007)\n",
      " (3, 3,  0,   3.34407964e-01,    2.82631922)\n",
      " (3, 3,  1,   2.65515158e-01,    3.55916697)\n",
      " (3, 3,  2,   2.17194849e-01,    4.48167659)\n",
      " (3, 3,  3,   1.75983987e-01,    5.64261263)\n",
      " (3, 3,  4,   1.48956349e-01,    7.10431988)\n",
      " (3, 3,  5,   1.22677212e-01,    8.94492363)\n",
      " (3, 3,  6,   1.02465484e-01,   11.26037872)\n",
      " (3, 3,  7,   8.46595137e-02,   14.17750096)\n",
      " (3, 3,  8,   6.95685887e-02,   17.84877346)\n",
      " (3, 3,  9,   5.60768921e-02,   22.47088157)\n",
      " (3, 3, 10,   4.44336201e-02,   28.28961665)\n",
      " (3, 3, 11,   3.46784309e-02,   35.61584558)\n",
      " (3, 3, 12,   2.50348741e-02,   44.83726101)\n",
      " (3, 3, 13,   1.71921896e-02,   56.44843256)\n",
      " (3, 3, 14,   1.13938624e-02,   71.06689911)\n",
      " (3, 3, 15,   7.10927976e-03,   89.46653933)\n",
      " (3, 3, 16,   3.91830706e-03,  112.62748058)\n",
      " (3, 3, 17,   2.27930105e-03,  141.78231748)\n",
      " (3, 3, 18,   1.25068012e-03,  178.48141887)\n",
      " (3, 3, 19,   1.07657755e-03,  224.67326602)\n",
      " (3, 4,  0,   5.64585245e-02,    2.82891696)\n",
      " (3, 4,  1,   4.53042561e-02,    3.56199319)\n",
      " (3, 4,  2,   3.83985878e-02,    4.48437561)\n",
      " (3, 4,  3,   3.30484646e-02,    5.64565649)\n",
      " (3, 4,  4,   2.75375299e-02,    7.10715202)\n",
      " (3, 4,  5,   2.13355035e-02,    8.94697712)\n",
      " (3, 4,  6,   1.78167413e-02,   11.2641092 )\n",
      " (3, 4,  7,   1.55396071e-02,   14.18091556)\n",
      " (3, 4,  8,   1.27108072e-02,   17.85186649)\n",
      " (3, 4,  9,   9.75505102e-03,   22.47475078)\n",
      " (3, 4, 10,   7.20785792e-03,   28.29509816)\n",
      " (3, 4, 11,   5.17362789e-03,   35.61981036)\n",
      " (3, 4, 12,   3.87479774e-03,   44.84308174)\n",
      " (3, 4, 13,   2.31476240e-03,   56.45617222)\n",
      " (3, 4, 14,   1.51664632e-03,   71.0704915 )\n",
      " (3, 4, 15,   9.93227574e-04,   89.47187415)\n",
      " (3, 4, 16,   9.66345372e-04,  112.63146663)\n",
      " (3, 4, 17,   9.62388970e-04,  141.78439738)\n",
      " (3, 4, 18,   3.01050887e-04,  178.484916  )\n",
      " (3, 4, 19,   2.19996740e-04,  224.67564716)\n",
      " (3, 5,  0,   4.90901514e-03,    2.8298306 )\n",
      " (3, 5,  1,   1.15357362e-03,    3.56180427)\n",
      " (3, 5,  2,   2.66857731e-03,    4.4837958 )\n",
      " (3, 5,  3,   9.95346731e-04,    5.64577355)\n",
      " (3, 5,  4,  -5.14506758e-04,    7.10731406)\n",
      " (3, 5,  5,   2.69559653e-03,    8.94838614)\n",
      " (3, 5,  6,   6.86456158e-04,   11.2630628 )\n",
      " (3, 5,  7,   2.10508841e-03,   14.18127492)\n",
      " (3, 5,  8,   5.62887124e-04,   17.85317692)\n",
      " (3, 5,  9,   3.94565985e-04,   22.47365487)\n",
      " (3, 5, 10,   4.43282226e-04,   28.29625811)\n",
      " (3, 5, 11,  -1.50865156e-04,   35.62291722)\n",
      " (3, 5, 12,   2.12357519e-04,   44.84533531)\n",
      " (3, 5, 13,  -6.34883108e-04,   56.4552814 )\n",
      " (3, 5, 14,  -1.60127468e-04,   71.07199426)\n",
      " (3, 5, 15,  -1.71197017e-05,   89.47104269)\n",
      " (3, 5, 16,   2.99808813e-04,  112.63363474)\n",
      " (3, 5, 17,  -1.22875040e-04,  141.78281039)\n",
      " (3, 5, 18,   2.02786379e-04,  178.48306987)\n",
      " (3, 5, 19,   2.99881584e-05,  224.67513504)\n",
      " (4, 4,  0,   4.97757720e-01,    2.8253564 )\n",
      " (4, 4,  1,   3.86866503e-01,    3.55863854)\n",
      " (4, 4,  2,   3.14633852e-01,    4.4814757 )\n",
      " (4, 4,  3,   2.62431096e-01,    5.64007586)\n",
      " (4, 4,  4,   2.13647630e-01,    7.10234387)\n",
      " (4, 4,  5,   1.74833906e-01,    8.94117948)\n",
      " (4, 4,  6,   1.49169001e-01,   11.25793965)\n",
      " (4, 4,  7,   1.18820155e-01,   14.17423699)\n",
      " (4, 4,  8,   9.22264801e-02,   17.84563276)\n",
      " (4, 4,  9,   7.33301146e-02,   22.46900936)\n",
      " (4, 4, 10,   5.71605090e-02,   28.28741985)\n",
      " (4, 4, 11,   4.41769122e-02,   35.61429744)\n",
      " (4, 4, 12,   3.20008191e-02,   44.83540595)\n",
      " (4, 4, 13,   1.91897579e-02,   56.44626175)\n",
      " (4, 4, 14,   1.14061990e-02,   71.0644997 )\n",
      " (4, 4, 15,   6.76314698e-03,   89.46832092)\n",
      " (4, 4, 16,   3.36085531e-03,  112.6257165 )\n",
      " (4, 4, 17,   9.38221912e-04,  141.78668437)\n",
      " (4, 4, 18,   6.20747178e-04,  178.49062628)\n",
      " (4, 4, 19,   7.64091941e-05,  224.67401256)\n",
      " (4, 5,  0,   2.28321776e-02,    2.82854526)\n",
      " (4, 5,  1,   2.71438386e-02,    3.56190178)\n",
      " (4, 5,  2,   1.83876305e-02,    4.48517652)\n",
      " (4, 5,  3,   2.15912822e-02,    5.64402087)\n",
      " (4, 5,  4,   2.10173774e-02,    7.10687012)\n",
      " (4, 5,  5,   9.37620508e-03,    8.95040634)\n",
      " (4, 5,  6,   1.27569893e-02,   11.26343702)\n",
      " (4, 5,  7,   8.00858911e-03,   14.17888662)\n",
      " (4, 5,  8,   4.97430498e-03,   17.85466332)\n",
      " (4, 5,  9,   5.78472853e-03,   22.47377067)\n",
      " (4, 5, 10,   4.09737038e-03,   28.29274624)\n",
      " (4, 5, 11,   5.65674844e-03,   35.6214233 )\n",
      " (4, 5, 12,   3.80033569e-03,   44.84319549)\n",
      " (4, 5, 13,   1.72214427e-03,   56.45167806)\n",
      " (4, 5, 14,   1.25668048e-03,   71.07115041)\n",
      " (4, 5, 15,   5.12534923e-04,   89.46996229)\n",
      " (4, 5, 16,   4.91779024e-04,  112.63132918)\n",
      " (4, 5, 17,  -8.19110682e-05,  141.78235674)\n",
      " (4, 5, 18,  -1.31094790e-04,  178.48471255)\n",
      " (4, 5, 19,  -1.39833076e-04,  224.68041785)\n",
      " (5, 5,  0,   2.93183623e-01,    2.82929193)\n",
      " (5, 5,  1,   3.12769715e-01,    3.56103257)\n",
      " (5, 5,  2,   2.21258587e-01,    4.48239111)\n",
      " (5, 5,  3,   2.25586003e-01,    5.64379385)\n",
      " (5, 5,  4,   1.78794303e-01,    7.10466625)\n",
      " (5, 5,  5,   1.50073880e-01,    8.94624487)\n",
      " (5, 5,  6,   1.19847541e-01,   11.25663968)\n",
      " (5, 5,  7,   9.26324778e-02,   14.17089431)\n",
      " (5, 5,  8,   7.44234513e-02,   17.84680101)\n",
      " (5, 5,  9,   6.33495620e-02,   22.46916724)\n",
      " (5, 5, 10,   4.51790371e-02,   28.29322072)\n",
      " (5, 5, 11,   3.38463453e-02,   35.61619548)\n",
      " (5, 5, 12,   2.39041365e-02,   44.83523262)\n",
      " (5, 5, 13,   1.62001825e-02,   56.44236195)\n",
      " (5, 5, 14,   9.30133197e-03,   71.06386469)\n",
      " (5, 5, 15,   5.39021156e-03,   89.47201149)\n",
      " (5, 5, 16,  -5.48512056e-04,  112.62485839)\n",
      " (5, 5, 17,   5.46187286e-04,  141.78431939)\n",
      " (5, 5, 18,   7.24011099e-04,  178.47309233)\n",
      " (5, 5, 19,  -1.10038732e-03,  224.67519355)]\n"
     ]
    }
   ],
   "source": [
    "print hdulist[4].data"
   ]
  },
  {
   "cell_type": "raw",
   "metadata": {
    "collapsed": true
   },
   "source": [
    "area = 5063 #sq degrees\n",
    "full_sky = 41253 #sq degrees"
   ]
  },
  {
   "cell_type": "markdown",
   "metadata": {},
   "source": [
    "Take the zspec in our selected zbin to calculate the dN/dz distribution. The below cell calculate the redshift distribution prefactor\n",
    "\n",
    "$$ W = \\frac{2}{c}\\int_0^{\\infty} dz H(z) \\left(\\frac{dN}{dz} \\right)^2 $$"
   ]
  },
  {
   "cell_type": "code",
   "execution_count": 69,
   "metadata": {
    "collapsed": false,
    "scrolled": true
   },
   "outputs": [
    {
     "name": "stdout",
     "output_type": "stream",
     "text": [
      "0.01\n",
      "0.01\n",
      "0.01\n",
      "0.01\n",
      "0.01\n",
      "0.01\n",
      "0.01\n",
      "0.01\n",
      "0.01\n",
      "0.01\n",
      "0.01\n",
      "0.01\n",
      "0.01\n",
      "0.01\n",
      "0.01\n",
      "0.01\n",
      "0.01\n",
      "0.01\n",
      "0.01\n",
      "0.01\n",
      "0.01\n",
      "0.01\n",
      "0.01\n",
      "0.01\n",
      "0.01\n",
      "0.01\n",
      "0.01\n",
      "0.01\n",
      "0.01\n",
      "0.01\n",
      "0.01\n",
      "0.01\n",
      "0.01\n",
      "0.01\n",
      "0.01\n",
      "0.01\n",
      "0.01\n",
      "0.01\n",
      "0.01\n",
      "0.01\n",
      "0.01\n",
      "0.01\n",
      "0.01\n",
      "0.01\n",
      "0.01\n",
      "0.01\n",
      "0.01\n",
      "0.01\n",
      "0.01\n",
      "0.01\n",
      "0.01\n",
      "0.01\n",
      "0.01\n",
      "0.01\n",
      "0.01\n",
      "0.01\n",
      "0.01\n",
      "0.01\n",
      "0.01\n",
      "0.01\n",
      "0.01\n",
      "0.01\n",
      "0.01\n",
      "0.01\n",
      "0.01\n",
      "0.01\n",
      "0.01\n",
      "0.01\n",
      "0.01\n",
      "0.01\n",
      "0.01\n",
      "0.01\n",
      "0.01\n",
      "0.01\n",
      "0.01\n",
      "0.01\n",
      "0.01\n",
      "0.01\n",
      "0.01\n",
      "0.01\n",
      "0.01\n",
      "0.01\n",
      "0.01\n",
      "0.01\n",
      "0.01\n",
      "0.01\n",
      "0.01\n",
      "0.01\n",
      "0.01\n",
      "0.01\n",
      "0.01\n",
      "0.01\n",
      "0.01\n",
      "0.01\n",
      "0.01\n",
      "0.01\n",
      "0.01\n",
      "0.01\n",
      "0.01\n",
      "0.01\n",
      "0.01\n",
      "0.01\n",
      "0.01\n",
      "0.01\n",
      "0.01\n",
      "0.01\n",
      "0.01\n",
      "0.01\n",
      "0.01\n",
      "0.01\n",
      "0.01\n",
      "0.01\n",
      "0.01\n",
      "0.01\n",
      "0.01\n",
      "0.01\n",
      "0.01\n",
      "0.01\n",
      "0.01\n",
      "0.01\n",
      "0.01\n",
      "0.01\n",
      "0.01\n",
      "0.01\n",
      "0.01\n",
      "0.01\n",
      "0.01\n",
      "0.01\n",
      "0.01\n",
      "0.01\n",
      "0.01\n",
      "0.01\n",
      "0.01\n",
      "0.01\n",
      "0.01\n",
      "0.01\n",
      "0.01\n",
      "0.01\n",
      "0.01\n",
      "0.01\n",
      "0.01\n",
      "0.01\n",
      "0.01\n",
      "0.01\n",
      "0.01\n",
      "0.01\n",
      "0.01\n",
      "0.01\n",
      "0.01\n",
      "0.01\n",
      "0.01\n",
      "0.01\n",
      "0.01\n",
      "0.01\n",
      "0.01\n",
      "0.01\n",
      "0.01\n",
      "0.01\n",
      "0.01\n",
      "0.01\n",
      "0.01\n",
      "0.01\n",
      "0.01\n",
      "0.01\n",
      "0.01\n",
      "0.01\n",
      "0.01\n",
      "0.01\n",
      "0.01\n",
      "0.01\n",
      "0.01\n",
      "0.01\n",
      "0.01\n",
      "0.01\n",
      "0.01\n",
      "0.01\n",
      "0.01\n",
      "0.01\n",
      "0.01\n",
      "0.01\n",
      "0.01\n",
      "0.01\n",
      "0.01\n",
      "0.01\n",
      "0.01\n",
      "0.01\n",
      "0.01\n",
      "0.01\n",
      "0.01\n",
      "0.01\n",
      "0.01\n",
      "0.01\n",
      "0.01\n",
      "0.01\n",
      "0.01\n",
      "0.01\n",
      "0.01\n",
      "0.01\n",
      "0.01\n",
      "0.01\n",
      "0.01\n",
      "0.01\n",
      "0.01\n",
      "0.01\n",
      "0.01\n",
      "0.01\n",
      "0.01\n",
      "0.01\n",
      "0.01\n",
      "0.01\n",
      "0.01\n",
      "0.01\n",
      "0.01\n",
      "0.01\n",
      "0.01\n",
      "0.01\n",
      "0.01\n",
      "0.01\n",
      "0.01\n",
      "0.01\n",
      "0.01\n",
      "0.01\n",
      "0.01\n",
      "0.01\n",
      "0.01\n",
      "0.01\n",
      "0.01\n",
      "0.01\n",
      "0.01\n",
      "0.01\n",
      "0.01\n",
      "0.01\n",
      "0.01\n",
      "0.01\n",
      "0.01\n",
      "0.01\n",
      "0.01\n",
      "0.01\n",
      "0.01\n",
      "0.01\n",
      "0.01\n",
      "0.01\n",
      "0.01\n",
      "0.01\n",
      "0.01\n",
      "0.01\n",
      "0.01\n",
      "0.01\n",
      "0.01\n",
      "0.01\n",
      "0.01\n",
      "0.01\n",
      "0.01\n",
      "0.01\n",
      "0.01\n",
      "0.01\n",
      "0.01\n",
      "0.01\n",
      "0.01\n",
      "0.01\n",
      "0.01\n",
      "0.01\n",
      "0.01\n",
      "0.01\n",
      "0.01\n",
      "0.01\n",
      "0.01\n",
      "0.01\n",
      "0.01\n",
      "0.01\n",
      "0.01\n",
      "0.01\n",
      "0.01\n",
      "0.01\n",
      "0.01\n",
      "0.01\n",
      "0.01\n",
      "0.01\n",
      "0.01\n",
      "0.01\n",
      "0.01\n",
      "0.01\n",
      "0.01\n",
      "0.01\n",
      "0.01\n",
      "0.01\n",
      "0.01\n",
      "0.01\n",
      "0.01\n",
      "0.01\n",
      "0.01\n",
      "0.01\n",
      "0.01\n",
      "0.01\n",
      "0.01\n",
      "0.01\n",
      "0.01\n",
      "0.01\n",
      "0.01\n",
      "0.01\n",
      "0.01\n",
      "0.01\n",
      "0.01\n",
      "0.01\n",
      "0.01\n",
      "0.01\n",
      "0.01\n",
      "0.01\n",
      "0.01\n",
      "0.01\n",
      "0.01\n",
      "0.01\n",
      "0.01\n",
      "0.01\n",
      "0.01\n",
      "0.01\n",
      "0.01\n",
      "0.01\n",
      "0.01\n",
      "0.01\n",
      "0.01\n",
      "0.01\n",
      "0.01\n",
      "0.01\n",
      "0.01\n",
      "0.01\n",
      "0.01\n",
      "0.01\n",
      "0.01\n",
      "0.01\n",
      "0.01\n",
      "0.01\n",
      "0.01\n",
      "0.01\n",
      "0.01\n",
      "0.01\n",
      "0.01\n",
      "0.01\n",
      "0.01\n",
      "0.01\n",
      "0.01\n",
      "0.01\n",
      "0.01\n",
      "0.01\n",
      "0.01\n",
      "0.01\n",
      "0.01\n",
      "0.01\n",
      "0.01\n",
      "0.01\n",
      "0.01\n",
      "0.01\n",
      "0.01\n",
      "0.01\n",
      "0.01\n",
      "0.01\n",
      "0.01\n",
      "0.01\n",
      "0.01\n",
      "0.01\n",
      "0.01\n",
      "0.01\n",
      "0.01\n",
      "0.01\n",
      "0.01\n",
      "0.01\n",
      "0.01\n",
      "0.01\n",
      "0.01\n",
      "0.01\n",
      "0.01\n",
      "0.01\n",
      "0.01\n",
      "0.01\n",
      "0.01\n",
      "0.01\n",
      "0.01\n",
      "0.01\n",
      "0.01\n",
      "0.01\n",
      "0.01\n",
      "0.01\n",
      "0.01\n",
      "0.01\n",
      "0.01\n",
      "0.01\n",
      "0.01\n",
      "0.01\n",
      "0.01\n",
      "0.01\n",
      "0.01\n",
      "0.01\n",
      "0.01\n",
      "0.01\n",
      "0.01\n",
      "0.01\n",
      "0.01\n",
      "0.01\n",
      "0.01\n",
      "0.01\n",
      "2.75848072207e-06 km / (m Mpc)\n"
     ]
    }
   ],
   "source": [
    "nz_zspec = hdulist[8]\n",
    "#N = 0#np.zeros((5,))\n",
    "N_total =  np.sum([row[2+zbin] for row in nz_zspec.data])\n",
    "dNdzs = [] \n",
    "zs = []\n",
    "W = 0 \n",
    "for row in nz_zspec.data:\n",
    "\n",
    "    N = row[2+zbin]\n",
    "    \n",
    "    dN = N*1.0/N_total\n",
    "    \n",
    "    #volIn, volOut = cat.cosmology.comoving_volume(row[0]), cat.cosmology.comoving_volume(row[2])\n",
    "\n",
    "    #fullsky_volume = volOut-volIn\n",
    "    #survey_volume = fullsky_volume*area/full_sky\n",
    "    #nd = dN/survey_volume\n",
    "    \n",
    "    dz = row[2] - row[0]\n",
    "    print dz\n",
    "    dNdz = dN/dz\n",
    "        \n",
    "    H = cat.cosmology.H(row[1])\n",
    "        \n",
    "    W+= dz*H*(dNdz)**2\n",
    "    \n",
    "    dNdzs.append(dNdz)\n",
    "    zs.append(row[1])\n",
    "    \n",
    "    \n",
    "    #for idx, n in enumerate(row[3:]):\n",
    "    #    N[idx]+=n\n",
    "W = 2*W/const.c\n",
    "\n",
    "print W"
   ]
  },
  {
   "cell_type": "markdown",
   "metadata": {},
   "source": [
    "Verify that our dN/dz looks appropriate."
   ]
  },
  {
   "cell_type": "code",
   "execution_count": 45,
   "metadata": {
    "collapsed": false
   },
   "outputs": [
    {
     "data": {
      "text/plain": [
       "<matplotlib.text.Text at 0x7f2178035090>"
      ]
     },
     "execution_count": 45,
     "metadata": {},
     "output_type": "execute_result"
    },
    {
     "data": {
      "image/png": "[encoded data removed]",
      "text/plain": [
       "<matplotlib.figure.Figure at 0x7f218281e410>"
      ]
     },
     "metadata": {},
     "output_type": "display_data"
    }
   ],
   "source": [
    "plt.plot(zs, dNdzs)\n",
    "plt.vlines(z, 0,8)\n",
    "plt.xlim(0,1.0)\n",
    "plt.xlabel(r'$z$')\n",
    "plt.ylabel(r'$dN/dz$')"
   ]
  },
  {
   "cell_type": "code",
   "execution_count": 65,
   "metadata": {
    "collapsed": false
   },
   "outputs": [
    {
     "data": {
      "text/plain": [
       "400"
      ]
     },
     "execution_count": 65,
     "metadata": {},
     "output_type": "execute_result"
    }
   ],
   "source": [
    "len(nz_zspec.data)"
   ]
  },
  {
   "cell_type": "code",
   "execution_count": 68,
   "metadata": {
    "collapsed": false
   },
   "outputs": [
    {
     "data": {
      "text/plain": [
       "100.0"
      ]
     },
     "execution_count": 68,
     "metadata": {},
     "output_type": "execute_result"
    }
   ],
   "source": [
    "np.sum(dNdzs)"
   ]
  },
  {
   "cell_type": "code",
   "execution_count": 46,
   "metadata": {
    "collapsed": false
   },
   "outputs": [
    {
     "data": {
      "text/plain": [
       "0.25"
      ]
     },
     "execution_count": 46,
     "metadata": {},
     "output_type": "execute_result"
    }
   ],
   "source": [
    "np.sum(dNdzs)/len(nz_zspec.data)"
   ]
  },
  {
   "cell_type": "code",
   "execution_count": 47,
   "metadata": {
    "collapsed": false
   },
   "outputs": [
    {
     "data": {
      "text/latex": [
       "$0.0027584807 \\; \\mathrm{\\frac{1}{Mpc}}$"
      ],
      "text/plain": [
       "<Quantity 0.0027584807220739026 1 / Mpc>"
      ]
     },
     "execution_count": 47,
     "metadata": {},
     "output_type": "execute_result"
    }
   ],
   "source": [
    "W.to(1/unit.Mpc)"
   ]
  },
  {
   "cell_type": "markdown",
   "metadata": {},
   "source": [
    "If we happened to choose a model with assembly bias, set it to 0. Leave all parameters as their defaults, for now. "
   ]
  },
  {
   "cell_type": "code",
   "execution_count": 48,
   "metadata": {
    "collapsed": false
   },
   "outputs": [
    {
     "name": "stdout",
     "output_type": "stream",
     "text": [
      "{'logM1': 13.7, 'mean_occupation_satellites_assembias_param1': 0.0, 'logMmin': 12.1, 'mean_occupation_centrals_assembias_param1': 0.0, 'f_c': 0.19, 'logM0': 12.2, 'sigma_logM': 0.46, 'alpha': 1.02}\n"
     ]
    }
   ],
   "source": [
    "params = cat.model.param_dict.copy()\n",
    "params['mean_occupation_centrals_assembias_param1'] = 0.0\n",
    "params['mean_occupation_satellites_assembias_param1'] = 0.0\n",
    "#params['logMmin'] = 12.5\n",
    "#params['sigma_logM'] = 0.43\n",
    "#params['f_c'] = 0.2\n",
    "#params['alpha'] = 1.1\n",
    "#params['logM1'] = 13.3\n",
    "#params['logM0'] = params['logMmin']\n",
    "\n",
    "print params"
   ]
  },
  {
   "cell_type": "code",
   "execution_count": 49,
   "metadata": {
    "collapsed": true
   },
   "outputs": [],
   "source": [
    "cat.populate(params)"
   ]
  },
  {
   "cell_type": "code",
   "execution_count": 50,
   "metadata": {
    "collapsed": true
   },
   "outputs": [],
   "source": [
    "theta_bins = np.logspace(np.log10(0.004), 0, 24)#/60\n",
    "tpoints = (theta_bins[1:]+theta_bins[:-1])/2"
   ]
  },
  {
   "cell_type": "code",
   "execution_count": 51,
   "metadata": {
    "collapsed": false
   },
   "outputs": [],
   "source": [
    "r_bins = np.logspace(-1.5, 1.7, 24)\n",
    "rpoints = (r_bins[1:]+r_bins[:-1])/2"
   ]
  },
  {
   "cell_type": "markdown",
   "metadata": {},
   "source": [
    "Use my code's wrapper for halotools' xi calculator. Full source code can be found [here](https://github.com/mclaughlin6464/pearce/blob/31e2f6a3598217dcf1be3d2606b69c4e529fc791/pearce/mocks/cat.py#L688)."
   ]
  },
  {
   "cell_type": "code",
   "execution_count": 52,
   "metadata": {
    "collapsed": true
   },
   "outputs": [],
   "source": [
    "xi = cat.calc_xi(r_bins, do_jackknife=False)"
   ]
  },
  {
   "cell_type": "markdown",
   "metadata": {},
   "source": [
    "Interpolate with a Gaussian process. May want to do something else \"at scale\", but this is quick for now. "
   ]
  },
  {
   "cell_type": "code",
   "execution_count": 53,
   "metadata": {
    "collapsed": false
   },
   "outputs": [],
   "source": [
    "kernel = ExpSquaredKernel(0.05)\n",
    "gp = george.GP(kernel)\n",
    "gp.compute(np.log10(rpoints))"
   ]
  },
  {
   "cell_type": "code",
   "execution_count": 54,
   "metadata": {
    "collapsed": false
   },
   "outputs": [
    {
     "name": "stdout",
     "output_type": "stream",
     "text": [
      "[  7.72411497e+03   4.01023145e+03   2.16333998e+03   1.36646934e+03\n",
      "   8.25627289e+02   4.68078906e+02   2.61817010e+02   1.39944181e+02\n",
      "   7.22715791e+01   3.67274194e+01   1.63693068e+01   7.97226558e+00\n",
      "   4.19208184e+00   2.38952479e+00   1.45368182e+00   9.16485850e-01\n",
      "   5.67015449e-01   3.12330600e-01   1.82590407e-01   9.56744616e-02\n",
      "   4.55257950e-02   1.79827733e-02   4.56258594e-03]\n"
     ]
    }
   ],
   "source": [
    "print xi"
   ]
  },
  {
   "cell_type": "code",
   "execution_count": 55,
   "metadata": {
    "collapsed": false
   },
   "outputs": [
    {
     "data": {
      "image/png": "[encoded data removed]",
      "text/plain": [
       "<matplotlib.figure.Figure at 0x7f217fb76690>"
      ]
     },
     "metadata": {},
     "output_type": "display_data"
    }
   ],
   "source": [
    "rpoints_dense = np.logspace(-1.5, 2, 500)\n",
    "\n",
    "plt.scatter(rpoints, xi)\n",
    "plt.plot(rpoints_dense, np.power(10, gp.predict(np.log10(xi), np.log10(rpoints_dense))[0]))\n",
    "plt.loglog();"
   ]
  },
  {
   "cell_type": "markdown",
   "metadata": {},
   "source": [
    "This plot looks bad on large scales. I will need to implement a linear bias model for larger scales; however I believe this is not the cause of this issue. The overly large correlation function at large scales if anything should increase w(theta). \n",
    "\n",
    "This plot shows the regimes of concern. The black lines show the value of r for u=0 in the below integral for each theta bin. The red lines show the maximum value of r for the integral I'm performing."
   ]
  },
  {
   "cell_type": "code",
   "execution_count": 56,
   "metadata": {
    "collapsed": false
   },
   "outputs": [],
   "source": [
    "theta_bins_rm = np.logspace(np.log10(2.5), np.log10(250), 21)/60 #binning used in buzzard mocks\n",
    "tpoints_rm = (theta_bins_rm[1:]+theta_bins_rm[:-1])/2.0"
   ]
  },
  {
   "cell_type": "code",
   "execution_count": 57,
   "metadata": {
    "collapsed": false
   },
   "outputs": [
    {
     "data": {
      "image/png": "[encoded data removed]",
      "text/plain": [
       "<matplotlib.figure.Figure at 0x7f2184c27790>"
      ]
     },
     "metadata": {},
     "output_type": "display_data"
    }
   ],
   "source": [
    "rpoints_dense = np.logspace(-1.5, 2, 500)\n",
    "x = cat.cosmology.comoving_distance(z)\n",
    "\n",
    "plt.scatter(rpoints, xi)\n",
    "plt.plot(rpoints_dense, np.power(10, gp.predict(np.log10(xi), np.log10(rpoints_dense))[0]))\n",
    "plt.vlines((a*x*np.radians(tpoints_rm)).value, 1e-2, 1e4)\n",
    "plt.vlines((a*np.sqrt(x**2*np.radians(tpoints_rm)**2+unit.Mpc*unit.Mpc*10**(1.7*2))).value, 1e-2, 1e4, color = 'r')\n",
    "\n",
    "plt.loglog();"
   ]
  },
  {
   "cell_type": "markdown",
   "metadata": {},
   "source": [
    "Perform the below integral in each theta bin:\n",
    "\n",
    "$$ w(\\theta) = W \\int_0^\\infty du \\xi \\left(r = \\sqrt{u^2 + \\bar{x}^2(z)\\theta^2} \\right) $$\n",
    "\n",
    "Where $\\bar{x}$ is the median comoving distance to z. "
   ]
  },
  {
   "cell_type": "code",
   "execution_count": 58,
   "metadata": {
    "collapsed": false,
    "scrolled": true
   },
   "outputs": [],
   "source": [
    "wt = np.zeros_like(tpoints_rm)\n",
    "x = cat.cosmology.comoving_distance(z)\n",
    "#ubins = np.linspace(10**-6, 10**2.0, 1001)\n",
    "ubins = np.logspace(-6, 2.0, 101)\n",
    "\n",
    "ubc = (ubins[1:]+ubins[:-1])/2.0\n",
    "for bin_no, t_med in enumerate(np.radians(tpoints_rm)):\n",
    "    int_xi = 0\n",
    "    for ubin_no, _u in enumerate(ubc):\n",
    "        _du = ubins[ubin_no+1]-ubins[ubin_no]\n",
    "        u = _u*unit.Mpc\n",
    "        du = _du*unit.Mpc\n",
    "        r = a*np.sqrt((u**2+(x*t_med)**2).value)#*cat.h#not sure about the h\n",
    "        if r > 10**1.7: #ignore large scales. In the full implementation this will be a transition to a bias model. \n",
    "            int_xi+=du*0\n",
    "        else:\n",
    "            # the GP predicts in log, so i predict in log and re-exponate\n",
    "            int_xi+=du*(np.power(10, \\\n",
    "                    gp.predict(np.log10(xi), np.log10(r), mean_only=True)[0]))\n",
    "    wt[bin_no] = int_xi*W"
   ]
  },
  {
   "cell_type": "code",
   "execution_count": 59,
   "metadata": {
    "collapsed": false
   },
   "outputs": [
    {
     "name": "stdout",
     "output_type": "stream",
     "text": [
      "944.909402664 Mpc\n"
     ]
    }
   ],
   "source": [
    "print x"
   ]
  },
  {
   "cell_type": "code",
   "execution_count": 60,
   "metadata": {
    "collapsed": false
   },
   "outputs": [],
   "source": [
    "#a subset of the data from above. I've verified it's correct, but we can look again. \n",
    "wt_redmagic = np.loadtxt('/u/ki/swmclau2/Git/pearce/bin/mcmc/buzzard2_wt_%d%d.npy'%(zbin,zbin))"
   ]
  },
  {
   "cell_type": "code",
   "execution_count": 61,
   "metadata": {
    "collapsed": false
   },
   "outputs": [
    {
     "data": {
      "text/plain": [
       "array([ 0.04706095,  0.05924622,  0.07458657,  0.09389893,  0.11821175,\n",
       "        0.14881978,  0.187353  ,  0.23586345,  0.2969345 ,  0.37381838,\n",
       "        0.47060946,  0.59246221,  0.74586573,  0.93898932,  1.18211752,\n",
       "        1.48819778,  1.87353001,  2.35863454,  2.96934496,  3.73818382])"
      ]
     },
     "execution_count": 61,
     "metadata": {},
     "output_type": "execute_result"
    }
   ],
   "source": [
    "tpoints_rm"
   ]
  },
  {
   "cell_type": "markdown",
   "metadata": {},
   "source": [
    "The below plot shows the problem. There appears to be a constant multiplicative offset between the redmagic calculation and the one we just performed. The plot below it shows their ratio. It is near-constant, but there is some small radial trend. Whether or not it is significant is tough to say. "
   ]
  },
  {
   "cell_type": "code",
   "execution_count": 62,
   "metadata": {
    "collapsed": false
   },
   "outputs": [
    {
     "data": {
      "text/plain": [
       "<matplotlib.legend.Legend at 0x7f21826523d0>"
      ]
     },
     "execution_count": 62,
     "metadata": {},
     "output_type": "execute_result"
    },
    {
     "data": {
      "image/png": "[encoded data removed]",
      "text/plain": [
       "<matplotlib.figure.Figure at 0x7f217e6c3190>"
      ]
     },
     "metadata": {},
     "output_type": "display_data"
    }
   ],
   "source": [
    "plt.plot(tpoints_rm, wt, label = 'My Calculation')\n",
    "plt.plot(tpoints_rm, wt_redmagic, label = 'Buzzard Mock')\n",
    "plt.ylabel(r'$w(\\theta)$')\n",
    "plt.xlabel(r'$\\theta \\mathrm{[degrees]}$')\n",
    "plt.loglog();\n",
    "plt.legend(loc='best')"
   ]
  },
  {
   "cell_type": "code",
   "execution_count": 63,
   "metadata": {
    "collapsed": false
   },
   "outputs": [
    {
     "data": {
      "text/plain": [
       "(3.0, 4)"
      ]
     },
     "execution_count": 63,
     "metadata": {},
     "output_type": "execute_result"
    },
    {
     "data": {
      "image/png": "[encoded data removed]",
      "text/plain": [
       "<matplotlib.figure.Figure at 0x7f217e438090>"
      ]
     },
     "metadata": {},
     "output_type": "display_data"
    }
   ],
   "source": [
    "plt.subplot(211)\n",
    "plt.plot(tpoints_rm, wt_redmagic/wt)\n",
    "plt.xscale('log')\n",
    "plt.ylim([0,10])\n",
    "plt.subplot(212)\n",
    "plt.plot(tpoints_rm, wt_redmagic/wt)\n",
    "plt.xscale('log')\n",
    "plt.ylim([3.0,4])"
   ]
  },
  {
   "cell_type": "markdown",
   "metadata": {},
   "source": [
    "The below cell calculates the integrals jointly instead of separately. It doesn't change the results significantly, but is quite slow. I've disabled it for that reason. "
   ]
  },
  {
   "cell_type": "raw",
   "metadata": {
    "collapsed": false,
    "scrolled": false
   },
   "source": [
    "#Try integrating over z and u jointly, explicitly\n",
    "nz_zspec = hdulist[8]\n",
    "#N = 0#np.zeros((5,))\n",
    "N_total =  np.sum([row[2+zbin] for row in nz_zspec.data])\n",
    "dNdzs = [] \n",
    "zs = []\n",
    "W = 0 \n",
    "wt2 = np.zeros_like(tpoints_rm)\n",
    "ubins = np.linspace(10**-6, 10**2.0, 1001)\n",
    "for bin_no, t_med in enumerate(np.radians(tpoints_rm)):\n",
    "    print bin_no\n",
    "    int_xi = 0\n",
    "    for row in nz_zspec.data:\n",
    "\n",
    "        N = row[2+zbin]\n",
    "\n",
    "        dN = N*1.0/N_total\n",
    "\n",
    "        dz = row[2] - row[0]\n",
    "        dNdz = dN/dz\n",
    "\n",
    "        H = cat.cosmology.H(row[1])\n",
    "\n",
    "        x = cat.cosmology.comoving_distance(row[1])\n",
    "        for ubin_no, _u in enumerate(ubins[:-1]):\n",
    "            _du = ubins[ubin_no+1]-ubins[ubin_no]\n",
    "            u = _u*unit.Mpc\n",
    "            du = _du*unit.Mpc\n",
    "            r = a*np.sqrt((u**2+(x*t_med)**2).value)#*cat.h#not sure about the h\n",
    "            #print r\n",
    "            if r <= 10**1.7:\n",
    "                int_xi+=du*(np.power(10, \\\n",
    "                        gp.predict(np.log10(xi), np.log10(r), mean_only=True)[0]))*dNdz*dN*H*2.0/const.c\n",
    "         \n",
    "    wt2[bin_no] = int_xi\n",
    "    "
   ]
  },
  {
   "cell_type": "code",
   "execution_count": 64,
   "metadata": {
    "collapsed": false,
    "scrolled": false
   },
   "outputs": [
    {
     "ename": "NameError",
     "evalue": "name 'wt2' is not defined",
     "output_type": "error",
     "traceback": [
      "\u001b[1;31m---------------------------------------------------------------------------\u001b[0m",
      "\u001b[1;31mNameError\u001b[0m                                 Traceback (most recent call last)",
      "\u001b[1;32m<ipython-input-64-761b8abc1612>\u001b[0m in \u001b[0;36m<module>\u001b[1;34m()\u001b[0m\n\u001b[1;32m----> 1\u001b[1;33m \u001b[0mplt\u001b[0m\u001b[1;33m.\u001b[0m\u001b[0mplot\u001b[0m\u001b[1;33m(\u001b[0m\u001b[0mtpoints_rm\u001b[0m\u001b[1;33m,\u001b[0m \u001b[0mwt2\u001b[0m\u001b[1;33m,\u001b[0m \u001b[0mlabel\u001b[0m \u001b[1;33m=\u001b[0m \u001b[1;34m'My Calculation'\u001b[0m\u001b[1;33m)\u001b[0m\u001b[1;33m\u001b[0m\u001b[0m\n\u001b[0m\u001b[0;32m      2\u001b[0m \u001b[0mplt\u001b[0m\u001b[1;33m.\u001b[0m\u001b[0mplot\u001b[0m\u001b[1;33m(\u001b[0m\u001b[0mtpoints_rm\u001b[0m\u001b[1;33m,\u001b[0m \u001b[0mwt_redmagic\u001b[0m\u001b[1;33m,\u001b[0m \u001b[0mlabel\u001b[0m \u001b[1;33m=\u001b[0m \u001b[1;34m'Buzzard Mock'\u001b[0m\u001b[1;33m)\u001b[0m\u001b[1;33m\u001b[0m\u001b[0m\n\u001b[0;32m      3\u001b[0m \u001b[0mplt\u001b[0m\u001b[1;33m.\u001b[0m\u001b[0mylabel\u001b[0m\u001b[1;33m(\u001b[0m\u001b[1;34mr'$w(\\theta)$'\u001b[0m\u001b[1;33m)\u001b[0m\u001b[1;33m\u001b[0m\u001b[0m\n\u001b[0;32m      4\u001b[0m \u001b[0mplt\u001b[0m\u001b[1;33m.\u001b[0m\u001b[0mxlabel\u001b[0m\u001b[1;33m(\u001b[0m\u001b[1;34mr'$\\theta \\mathrm{[degrees]}$'\u001b[0m\u001b[1;33m)\u001b[0m\u001b[1;33m\u001b[0m\u001b[0m\n\u001b[0;32m      5\u001b[0m \u001b[0mplt\u001b[0m\u001b[1;33m.\u001b[0m\u001b[0mloglog\u001b[0m\u001b[1;33m(\u001b[0m\u001b[1;33m)\u001b[0m\u001b[1;33m;\u001b[0m\u001b[1;33m\u001b[0m\u001b[0m\n",
      "\u001b[1;31mNameError\u001b[0m: name 'wt2' is not defined"
     ]
    }
   ],
   "source": [
    "plt.plot(tpoints_rm, wt2, label = 'My Calculation')\n",
    "plt.plot(tpoints_rm, wt_redmagic, label = 'Buzzard Mock')\n",
    "plt.ylabel(r'$w(\\theta)$')\n",
    "plt.xlabel(r'$\\theta \\mathrm{[degrees]}$')\n",
    "plt.loglog();\n",
    "plt.legend(loc='best')"
   ]
  },
  {
   "cell_type": "code",
   "execution_count": null,
   "metadata": {
    "collapsed": false
   },
   "outputs": [],
   "source": [
    "wt_redmagic/wt2"
   ]
  },
  {
   "cell_type": "code",
   "execution_count": null,
   "metadata": {
    "collapsed": true
   },
   "outputs": [],
   "source": []
  }
 ],
 "metadata": {
  "kernelspec": {
   "display_name": "Python [conda env:hodemulator]",
   "language": "python",
   "name": "conda-env-hodemulator-py"
  },
  "language_info": {
   "codemirror_mode": {
    "name": "ipython",
    "version": 2
   },
   "file_extension": ".py",
   "mimetype": "text/x-python",
   "name": "python",
   "nbconvert_exporter": "python",
   "pygments_lexer": "ipython2",
   "version": "2.7.13"
  }
 },
 "nbformat": 4,
 "nbformat_minor": 0
}
