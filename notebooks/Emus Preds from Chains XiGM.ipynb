{
 "cells": [
  {
   "cell_type": "markdown",
   "metadata": {},
   "source": [
    "Cosmo MCMC is landing on biased HOD + Cosmology. I'm gonna first look at the code to make preds, and compare to the emulator. "
   ]
  },
  {
   "cell_type": "code",
   "execution_count": 69,
   "metadata": {
    "collapsed": true
   },
   "outputs": [],
   "source": [
    "from pearce.emulator import OriginalRecipe, ExtraCrispy, SpicyBuffalo\n",
    "from pearce.mocks import cat_dict\n",
    "import numpy as np\n",
    "from os import path"
   ]
  },
  {
   "cell_type": "code",
   "execution_count": 70,
   "metadata": {
    "collapsed": true
   },
   "outputs": [],
   "source": [
    "import matplotlib\n",
    "#matplotlib.use('Agg')\n",
    "from matplotlib import pyplot as plt\n",
    "%matplotlib inline\n",
    "import seaborn as sns\n",
    "sns.set()"
   ]
  },
  {
   "cell_type": "code",
   "execution_count": 71,
   "metadata": {
    "collapsed": true
   },
   "outputs": [],
   "source": [
    "training_file = '/scratch/users/swmclau2/xi_gm_cosmo/PearceRedMagicXiGMCosmoFixedNd.hdf5'\n",
    "#training_file = '/u/ki/swmclau2/des/PearceRedMagicXiCosmoFixedNdLowMsat.hdf5'\n",
    "test_file = '/scratch/users/swmclau2/xi_gm_cosmo_test/PearceRedMagicXiGMCosmoFixedNdTest.hdf5'\n",
    "#test_file = '/u/ki/swmclau2/des/PearceRedMagicXiCosmoFixedNdLowMsatTest.hdf5'\n",
    "\n",
    "#test_file = '/u/ki/swmclau2/des/xi_cosmo_tester/PearceRedMagicXiCosmoFixedNd_test.hdf5'\n",
    "em_method = 'gp'\n",
    "split_method = 'random'"
   ]
  },
  {
   "cell_type": "code",
   "execution_count": 72,
   "metadata": {
    "collapsed": true
   },
   "outputs": [],
   "source": [
    "a = 1.0\n",
    "z = 1.0/a - 1.0"
   ]
  },
  {
   "cell_type": "code",
   "execution_count": 73,
   "metadata": {
    "collapsed": true
   },
   "outputs": [],
   "source": [
    "fixed_params = {'z':z}#, 'cosmo': 3}#, 'r':0.53882047}"
   ]
  },
  {
   "cell_type": "code",
   "execution_count": 74,
   "metadata": {},
   "outputs": [],
   "source": [
    "np.random.seed(0)\n",
    "emu = SpicyBuffalo(training_file, method = em_method, fixed_params=fixed_params,\n",
    "                 custom_mean_function = 'linear', downsample_factor = 0.1)"
   ]
  },
  {
   "cell_type": "raw",
   "metadata": {},
   "source": [
    "emu = OriginalRecipe(training_file, method = em_method, fixed_params=fixed_params,\n",
    "                 custom_mean_function = None, downsample_factor = 0.0001)"
   ]
  },
  {
   "cell_type": "code",
   "execution_count": 75,
   "metadata": {
    "collapsed": true
   },
   "outputs": [],
   "source": [
    "#hod_param_names = ['logM0', 'sigma_logM', 'logM1', 'alpha']\n",
    "emulation_point = [('logM0', 13.5), ('sigma_logM', 0.25),\n",
    "                    ('alpha', 0.9),('logM1', 13.5)]#, ('logMmin', 12.233)]\n",
    "\n",
    "#em_params = {key:test_point_dict[key] for key in hod_param_names}\n",
    "#em_params = dict(zip(hod_param_names, x_point))\n",
    "em_params = dict(emulation_point)\n",
    "em_params.update(fixed_params)"
   ]
  },
  {
   "cell_type": "code",
   "execution_count": 76,
   "metadata": {
    "collapsed": true
   },
   "outputs": [],
   "source": [
    "r_bins = np.logspace(-1.1, 1.6, 19)\n",
    "rpoints = (r_bins[1:]+r_bins[:-1])/2.0"
   ]
  },
  {
   "cell_type": "code",
   "execution_count": 77,
   "metadata": {
    "collapsed": true
   },
   "outputs": [],
   "source": [
    "fixed_params = {}#'f_c':1.0}#,'logM1': 13.8 }# 'z':0.0}\n",
    "\n",
    "cosmo_params = {'simname':'testbox', 'boxno': 0, 'realization': 1, 'scale_factors':[1.0], 'system': 'sherlock'}\n",
    "cat = cat_dict[cosmo_params['simname']](**cosmo_params)#construct the specified catalog!"
   ]
  },
  {
   "cell_type": "code",
   "execution_count": 78,
   "metadata": {
    "collapsed": true
   },
   "outputs": [],
   "source": [
    "# get cosmo params\n",
    "try:\n",
    "    del em_params['logMmin']\n",
    "except KeyError:\n",
    "    pass\n",
    "cpv = cat._get_cosmo_param_names_vals()\n",
    "\n",
    "cosmo_param_dict = {key: val for key, val in zip(cpv[0], cpv[1])}\n",
    "\n",
    "em_params.update( cosmo_param_dict)\n"
   ]
  },
  {
   "cell_type": "code",
   "execution_count": 79,
   "metadata": {
    "collapsed": true
   },
   "outputs": [],
   "source": [
    "y_emu = 10**emu.emulate_wrt_r(em_params)[0]"
   ]
  },
  {
   "cell_type": "code",
   "execution_count": 80,
   "metadata": {
    "collapsed": true
   },
   "outputs": [],
   "source": [
    "boxno, realization = 0,1"
   ]
  },
  {
   "cell_type": "code",
   "execution_count": 81,
   "metadata": {},
   "outputs": [],
   "source": [
    "y_calc_jk = np.loadtxt('/home/users/swmclau2/Git/pearce/bin/mcmc/xi_gm_true_jk_%d%d.npy'%(boxno, realization))\n",
    "y_calc_mean = np.loadtxt('/home/users/swmclau2/Git/pearce/bin/mcmc/xi_gm_true_mean_%d%d.npy'%(boxno, realization))\n",
    "y_cov_jk = np.loadtxt('/home/users/swmclau2/Git/pearce/bin/mcmc/xi_gm_cov_true_jk_01.npy')"
   ]
  },
  {
   "cell_type": "code",
   "execution_count": 82,
   "metadata": {
    "collapsed": true
   },
   "outputs": [],
   "source": [
    "scov = np.loadtxt('/home/users/swmclau2/Git/pearce/bin/mcmc/xigm_scov.npy')"
   ]
  },
  {
   "cell_type": "code",
   "execution_count": 83,
   "metadata": {
    "collapsed": true
   },
   "outputs": [],
   "source": [
    "cov = y_cov_jk + scov\n",
    "y_err = np.sqrt(np.diag(cov))"
   ]
  },
  {
   "cell_type": "code",
   "execution_count": 101,
   "metadata": {},
   "outputs": [
    {
     "data": {
      "text/plain": [
       "array([  4.17182343e+02,   1.86599755e+02,   1.09549310e+02,\n",
       "         5.27128895e+01,   2.86241289e+01,   1.66178906e+01,\n",
       "         9.06873349e+00,   5.32693510e+00,   2.62137244e+00,\n",
       "         1.25217711e+00,   5.19070648e-01,   1.83866929e-01,\n",
       "         5.62819307e-02,   3.11728128e-02,   1.88569378e-02,\n",
       "         9.50845838e-03,   5.00869591e-03,   4.12958166e-03])"
      ]
     },
     "execution_count": 101,
     "metadata": {},
     "output_type": "execute_result"
    }
   ],
   "source": [
    "y_err"
   ]
  },
  {
   "cell_type": "code",
   "execution_count": 84,
   "metadata": {
    "collapsed": true
   },
   "outputs": [],
   "source": [
    "fname = '/scratch/users/swmclau2/PearceMCMC/500_walkers_20000_steps_xi_gg_gm_m0_1_rmin_emu2.npy'"
   ]
  },
  {
   "cell_type": "code",
   "execution_count": 85,
   "metadata": {
    "collapsed": true
   },
   "outputs": [],
   "source": [
    "from itertools import islice\n",
    "def load_chain(fname, n_walkers, n_burn):\n",
    "    chain_list = []\n",
    "    with open(fname, 'r') as f:\n",
    "        step_counter = 0\n",
    "        pnames_line =  f.readline() #header\n",
    "        pnames = pnames_line[1:].split()\n",
    "        while True:\n",
    "            next_lines = islice(f, n_walkers)\n",
    "            step_counter+=1\n",
    "\n",
    "            if step_counter % 100 == 0:\n",
    "                #print step_counter, len(chain_list)\n",
    "                pass\n",
    "\n",
    "            if step_counter < n_burn:# or step_counter > 20000:\n",
    "                for line in next_lines:\n",
    "                    pass\n",
    "                continue\n",
    "\n",
    "            next_lines = np.array([ np.fromstring(line, sep = ' ') for line in next_lines], dtype=float)\n",
    "\n",
    "            if len(next_lines) < 1:\n",
    "                break\n",
    "\n",
    "            chain_list.append(next_lines)\n",
    "    return np.vstack(chain_list), pnames"
   ]
  },
  {
   "cell_type": "code",
   "execution_count": 86,
   "metadata": {
    "collapsed": true
   },
   "outputs": [],
   "source": [
    "n_walkers, n_burn = 500, 18000\n",
    "chain, param_names = load_chain(fname, n_walkers, n_burn)"
   ]
  },
  {
   "cell_type": "code",
   "execution_count": 87,
   "metadata": {},
   "outputs": [
    {
     "name": "stdout",
     "output_type": "stream",
     "text": [
      "(1000500, 7) 2001\n"
     ]
    }
   ],
   "source": [
    "print chain.shape, chain.shape[0]/n_walkers"
   ]
  },
  {
   "cell_type": "code",
   "execution_count": 88,
   "metadata": {},
   "outputs": [
    {
     "name": "stdout",
     "output_type": "stream",
     "text": [
      "[  3.02686018e+00   6.47820041e+01  -8.03009543e-01   1.17053219e-01\n",
      "   3.10115275e+00   9.77711819e-01   2.25434747e-02]\n"
     ]
    }
   ],
   "source": [
    "MAP = chain.mean(axis = 0)\n",
    "print MAP"
   ]
  },
  {
   "cell_type": "code",
   "execution_count": 89,
   "metadata": {
    "collapsed": true
   },
   "outputs": [],
   "source": [
    "param_names = ['Neff', 'H0', 'w0', 'omch2', 'ln10As',  'ns',  'ombh2']                                             "
   ]
  },
  {
   "cell_type": "code",
   "execution_count": 90,
   "metadata": {
    "collapsed": true
   },
   "outputs": [],
   "source": [
    "varied_param_name = 'H0'\n",
    "bounds = emu.get_param_bounds(varied_param_name)\n",
    "Nvp = 100\n",
    "vp_vals = np.linspace(bounds[0], bounds[1], Nvp)\n",
    "\n",
    "varied_param_xis = []\n",
    "for val in vp_vals:\n",
    "    em_params[varied_param_name] = val\n",
    "    varied_param_xis.append(10**emu.emulate_wrt_r(em_params))"
   ]
  },
  {
   "cell_type": "code",
   "execution_count": 91,
   "metadata": {
    "collapsed": true
   },
   "outputs": [],
   "source": [
    "em_params.update(dict(zip(param_names, MAP)))\n",
    "MAP_xi = 10**emu.emulate_wrt_r(em_params)[0]"
   ]
  },
  {
   "cell_type": "code",
   "execution_count": 102,
   "metadata": {
    "collapsed": true
   },
   "outputs": [],
   "source": [
    "chain_vals = []\n",
    "_chain = chain[chain[:,2]<-1]\n",
    "rand_idxs = np.random.choice(_chain.shape[0], size = 2000, replace = False)\n",
    "rand_chain = _chain[rand_idxs]\n",
    "\n",
    "for row in rand_chain:\n",
    "    cosmo_params = dict(zip(param_names, row))\n",
    "    #cosmo_params['Neff'] = cosmo_param_dict['Neff']\n",
    "    #cosmo_params['ln10As'] = cosmo_param_dict['ln10As']\n",
    "    em_params.update(cosmo_params)\n",
    "\n",
    "    chain_vals.append(10**emu.emulate_wrt_r(em_params))"
   ]
  },
  {
   "cell_type": "code",
   "execution_count": 103,
   "metadata": {
    "collapsed": true
   },
   "outputs": [],
   "source": [
    "vp_palette = sns.cubehelix_palette(Nvp)"
   ]
  },
  {
   "cell_type": "code",
   "execution_count": 104,
   "metadata": {},
   "outputs": [
    {
     "data": {
      "text/plain": [
       "array([  2.32629000e-02,   1.07830000e-01,  -7.26513000e-01,\n",
       "         9.80515000e-01,   3.03895000e+00,   6.32317000e+01,\n",
       "         2.95000000e+00])"
      ]
     },
     "execution_count": 104,
     "metadata": {},
     "output_type": "execute_result"
    }
   ],
   "source": [
    "cpv[1]"
   ]
  },
  {
   "cell_type": "code",
   "execution_count": 105,
   "metadata": {},
   "outputs": [
    {
     "data": {
      "image/png": "[encoded data removed]",
      "text/plain": [
       "<matplotlib.figure.Figure at 0x7f919db7fed0>"
      ]
     },
     "metadata": {},
     "output_type": "display_data"
    }
   ],
   "source": [
    "fig = plt.figure(figsize = (10,6))\n",
    "\n",
    "for val in chain_vals:\n",
    "    plt.plot(rpoints, val[0], c= 'm', alpha = 0.1 )\n",
    "    \n",
    "#for i, (val, pval) in enumerate(zip(varied_param_xis, vp_vals)):\n",
    "#    plt.plot(rpoints, val[0], color = vp_palette[i], alpha = 0.8)\n",
    "    \n",
    "\n",
    "plt.plot(rpoints, MAP_xi, label = 'MAP')\n",
    "    \n",
    "plt.errorbar(rpoints, y_calc_jk, yerr= y_err,  c = 'k', label = 'Truth')\n",
    "plt.plot(rpoints, y_calc_mean  , label = 'Mean')\n",
    "plt.errorbar(rpoints, y_emu, yerr = y_err ,c = 'g',lw =2, label = 'Emu at Truth')\n",
    "#plt.xscale('log')\n",
    "plt.loglog()\n",
    "plt.title('Varying %s'%varied_param_name)\n",
    "plt.legend(loc = 'best')\n",
    "plt.show()"
   ]
  },
  {
   "cell_type": "code",
   "execution_count": 96,
   "metadata": {},
   "outputs": [
    {
     "data": {
      "image/png": "[encoded data removed]",
      "text/plain": [
       "<matplotlib.figure.Figure at 0x7f91a42e0190>"
      ]
     },
     "metadata": {},
     "output_type": "display_data"
    }
   ],
   "source": [
    "fig = plt.figure(figsize = (10,6))\n",
    "\n",
    "#for val in chain_vals:\n",
    "#    plt.plot(rpoints, val[0]-y_calc_jk, c= 'm', alpha = 0.1 )\n",
    "    \n",
    "for i, (val, pval) in enumerate(zip(varied_param_xis, vp_vals)):\n",
    "    plt.plot(rpoints, val[0], color = vp_palette[i], alpha = 0.05)\n",
    "    \n",
    "\n",
    "#plt.plot(rpoints, MAP_xi, label = 'MAP')\n",
    "    \n",
    "plt.errorbar(rpoints, y_calc_jk, yerr= y_err,  c = 'k', label = 'Truth')\n",
    "#plt.plot(rpoints, y_calc_mean  , label = 'Mean')\n",
    "\n",
    "#plt.plot(rpoints, y_emu, c = 'g',lw =2, label = 'Emu at Truth')\n",
    "#plt.xscale('log')\n",
    "plt.loglog()\n",
    "plt.title('Varying %s'%varied_param_name)\n",
    "plt.legend(loc = 'best')\n",
    "plt.show()"
   ]
  },
  {
   "cell_type": "code",
   "execution_count": 97,
   "metadata": {},
   "outputs": [
    {
     "data": {
      "image/png": "[encoded data removed]",
      "text/plain": [
       "<matplotlib.figure.Figure at 0x7f91a50ed5d0>"
      ]
     },
     "metadata": {},
     "output_type": "display_data"
    }
   ],
   "source": [
    "for val in chain_vals:\n",
    "    plt.plot(rpoints, val[0], c= 'r', alpha = 0.1 )\n",
    "    \n",
    "#plt.errorbar(rpoints, y_calc, yerr= y_err,  c = 'k', label = 'Truth')\n",
    "plt.errorbar(rpoints, y_calc_jk, yerr= y_err_jk,  c = 'b', label = 'Truth Jk')\n",
    "plt.plot(rpoints, y_emu, c = 'g',lw =2, label = 'Emu at Truth')\n",
    "\n",
    "plt.xscale('log')\n",
    "#plt.loglog()\n",
    "plt.legend(loc = 'best')\n",
    "plt.show()"
   ]
  },
  {
   "cell_type": "code",
   "execution_count": 98,
   "metadata": {},
   "outputs": [
    {
     "ename": "NameError",
     "evalue": "name 'y_calc' is not defined",
     "output_type": "error",
     "traceback": [
      "\u001b[0;31m\u001b[0m",
      "\u001b[0;31mNameError\u001b[0mTraceback (most recent call last)",
      "\u001b[0;32m<ipython-input-98-818c01e9bf68>\u001b[0m in \u001b[0;36m<module>\u001b[0;34m()\u001b[0m\n\u001b[1;32m      3\u001b[0m \u001b[0mplt\u001b[0m\u001b[0;34m.\u001b[0m\u001b[0msubplot\u001b[0m\u001b[0;34m(\u001b[0m\u001b[0;36m121\u001b[0m\u001b[0;34m)\u001b[0m\u001b[0;34m\u001b[0m\u001b[0m\n\u001b[1;32m      4\u001b[0m \u001b[0;31m#plt.plot(rpoints, y_calc, label = 'Sim')\u001b[0m\u001b[0;34m\u001b[0m\u001b[0;34m\u001b[0m\u001b[0m\n\u001b[0;32m----> 5\u001b[0;31m \u001b[0mplt\u001b[0m\u001b[0;34m.\u001b[0m\u001b[0mplot\u001b[0m\u001b[0;34m(\u001b[0m\u001b[0mrpoints\u001b[0m\u001b[0;34m,\u001b[0m \u001b[0my_calc\u001b[0m\u001b[0;34m,\u001b[0m \u001b[0mlabel\u001b[0m \u001b[0;34m=\u001b[0m \u001b[0;34m'Sim'\u001b[0m\u001b[0;34m)\u001b[0m\u001b[0;34m\u001b[0m\u001b[0m\n\u001b[0m\u001b[1;32m      6\u001b[0m \u001b[0mplt\u001b[0m\u001b[0;34m.\u001b[0m\u001b[0mplot\u001b[0m\u001b[0;34m(\u001b[0m\u001b[0mrpoints\u001b[0m\u001b[0;34m,\u001b[0m \u001b[0my_pred\u001b[0m\u001b[0;34m,\u001b[0m \u001b[0mlabel\u001b[0m \u001b[0;34m=\u001b[0m \u001b[0;34m'Emu'\u001b[0m\u001b[0;34m)\u001b[0m\u001b[0;34m\u001b[0m\u001b[0m\n\u001b[1;32m      7\u001b[0m \u001b[0mplt\u001b[0m\u001b[0;34m.\u001b[0m\u001b[0mxscale\u001b[0m\u001b[0;34m(\u001b[0m\u001b[0;34m'log'\u001b[0m\u001b[0;34m)\u001b[0m\u001b[0;34m\u001b[0m\u001b[0m\n",
      "\u001b[0;31mNameError\u001b[0m: name 'y_calc' is not defined"
     ]
    },
    {
     "data": {
      "image/png": "[encoded data removed]",
      "text/plain": [
       "<matplotlib.figure.Figure at 0x7f91a4dcd890>"
      ]
     },
     "metadata": {},
     "output_type": "display_data"
    }
   ],
   "source": [
    "fig = plt.figure(figsize = (12, 5))\n",
    "\n",
    "plt.subplot(121)\n",
    "#plt.plot(rpoints, y_calc, label = 'Sim')\n",
    "plt.plot(rpoints, y_calc, label = 'Sim')\n",
    "plt.plot(rpoints, y_pred, label = 'Emu')\n",
    "plt.xscale('log')\n",
    "plt.legend(loc = 'best')\n",
    "plt.ylabel(r'$\\xi_{gg}(r)$')\n",
    "plt.xlabel(r'$r$ [Mpc]')\n",
    "plt.subplot(122)\n",
    "#plt.plot(rpoints, y_calc/y_point, label = 'Sim')\n",
    "plt.plot(rpoints, y_pred/y_calc, label = 'Emu/Sim')\n",
    "plt.legend(loc = 'best')\n",
    "plt.xlabel(r'$r$ [Mpc]')\n",
    "\n",
    "plt.xscale('log')\n",
    "plt.show()"
   ]
  },
  {
   "cell_type": "code",
   "execution_count": null,
   "metadata": {
    "collapsed": true
   },
   "outputs": [],
   "source": [
    "print y_pred/y_calc"
   ]
  },
  {
   "cell_type": "raw",
   "metadata": {},
   "source": [
    "#plt.plot(emu.scale_bin_centers, xi_vals.T, alpha = 0.4)\n",
    "#plt.plot(emu.scale_bin_centers, y)\n",
    "plt.plot(emu.scale_bin_centers, np.abs(y_pred/xi_vals).T)\n",
    "\n",
    "plt.xscale('log')\n",
    "plt.ylim([0.0, 2.0])"
   ]
  },
  {
   "cell_type": "code",
   "execution_count": null,
   "metadata": {
    "collapsed": true
   },
   "outputs": [],
   "source": [
    "fixed_params = {'z':z, 'cosmo': 3}#, 'r':0.53882047}\n",
    "train_x, train_y, _, info = emu.get_data(test_file, fixed_params, None)#, skip_nans = False)"
   ]
  },
  {
   "cell_type": "code",
   "execution_count": null,
   "metadata": {
    "collapsed": true
   },
   "outputs": [],
   "source": [
    "info"
   ]
  },
  {
   "cell_type": "code",
   "execution_count": null,
   "metadata": {
    "collapsed": true
   },
   "outputs": [],
   "source": [
    "cpv = cat._get_cosmo_param_names_vals()\n",
    "cosmo_params = dict(zip(cpv[0], cpv[1]))"
   ]
  },
  {
   "cell_type": "code",
   "execution_count": null,
   "metadata": {
    "collapsed": true,
    "scrolled": false
   },
   "outputs": [],
   "source": [
    "for idx in xrange(100):\n",
    "    x_point = train_x[idx*emu.n_bins, :-1]\n",
    "    y_point = train_y[idx*emu.n_bins:(idx+1)*emu.n_bins]\n",
    "    pop_params = dict(zip(info['ordered_params'].keys(), x_point))\n",
    "\n",
    "    \n",
    "    #add_logMmin(pop_params, cat)\n",
    "    print pop_params\n",
    "\n",
    "    #_xi_vals = []\n",
    "    #for i in xrange(10):\n",
    "    #    cat.populate(pop_params, min_ptcl=100)\n",
    "    #    _xi_vals.append(cat.calc_xi(r_bins))\n",
    "\n",
    "    #xi_vals = np.log10(np.array(_xi_vals))\n",
    "    #y_calc = xi_vals.mean(axis = 0)\n",
    "    \n",
    "    pop_params.update(cosmo_params)\n",
    "    #del pop_params['logMmin']\n",
    "    \n",
    "    y_pred = emu.emulate_wrt_r(pop_params)[0]\n",
    "\n",
    "    fig = plt.figure(figsize = (14, 6))\n",
    "\n",
    "    plt.subplot(121)\n",
    "    #plt.plot(rpoints, y_calc, label = 'Sim')\n",
    "    plt.plot(rpoints, y_point, label = 'Data')\n",
    "    plt.plot(rpoints, y_pred, label = 'Emu')\n",
    "    plt.xscale('log')\n",
    "    plt.legend(loc = 'best')\n",
    "    plt.subplot(122)\n",
    "    #plt.plot(rpoints, y_calc/y_point, label = 'Sim')\n",
    "    plt.plot(rpoints, y_pred/y_point, label = 'Emu/True')\n",
    "    plt.legend(loc = 'best')\n",
    "\n",
    "    plt.xscale('log')\n",
    "    plt.show()"
   ]
  },
  {
   "cell_type": "code",
   "execution_count": null,
   "metadata": {
    "collapsed": true
   },
   "outputs": [],
   "source": []
  },
  {
   "cell_type": "code",
   "execution_count": null,
   "metadata": {
    "collapsed": true
   },
   "outputs": [],
   "source": []
  },
  {
   "cell_type": "code",
   "execution_count": null,
   "metadata": {
    "collapsed": true
   },
   "outputs": [],
   "source": []
  }
 ],
 "metadata": {
  "kernelspec": {
   "display_name": "Python 2",
   "language": "python",
   "name": "python2"
  },
  "language_info": {
   "codemirror_mode": {
    "name": "ipython",
    "version": 2
   },
   "file_extension": ".py",
   "mimetype": "text/x-python",
   "name": "python",
   "nbconvert_exporter": "python",
   "pygments_lexer": "ipython2",
   "version": "2.7.13"
  }
 },
 "nbformat": 4,
 "nbformat_minor": 1
}
