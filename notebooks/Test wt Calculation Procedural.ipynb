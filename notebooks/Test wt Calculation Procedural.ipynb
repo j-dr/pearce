{
 "cells": [
  {
   "cell_type": "markdown",
   "metadata": {},
   "source": [
    "I believe I've shown that there's a problem with how I'm calculating w(theta), but i'm not sure what it is. I'm going to just explicitly follow the example in the halotools docs and see where what I'm doing deviates. "
   ]
  },
  {
   "cell_type": "code",
   "execution_count": 1,
   "metadata": {
    "collapsed": false
   },
   "outputs": [],
   "source": [
    "from pearce.mocks import cat_dict\n",
    "import numpy as np\n",
    "from os import path"
   ]
  },
  {
   "cell_type": "code",
   "execution_count": 2,
   "metadata": {
    "collapsed": true
   },
   "outputs": [],
   "source": [
    "import matplotlib\n",
    "#matplotlib.use('Agg')\n",
    "from matplotlib import pyplot as plt\n",
    "%matplotlib inline\n",
    "import seaborn as sns\n",
    "sns.set()"
   ]
  },
  {
   "cell_type": "code",
   "execution_count": 3,
   "metadata": {
    "collapsed": false
   },
   "outputs": [],
   "source": [
    "a = 1.0#0.81120\n",
    "z = 1.0/a - 1.0"
   ]
  },
  {
   "cell_type": "code",
   "execution_count": 4,
   "metadata": {
    "collapsed": false
   },
   "outputs": [
    {
     "name": "stdout",
     "output_type": "stream",
     "text": [
      "0.0\n"
     ]
    }
   ],
   "source": [
    "print z"
   ]
  },
  {
   "cell_type": "code",
   "execution_count": 5,
   "metadata": {
    "collapsed": true
   },
   "outputs": [],
   "source": [
    "cosmo_params = {'simname':'chinchilla', 'Lbox':400.0, 'scale_factors':[a]}\n",
    "cat = cat_dict[cosmo_params['simname']](**cosmo_params)#construct the specified catalog!\n",
    "\n",
    "cat.load_catalog(a)\n",
    "#halo_masses = cat.halocat.halo_table['halo_mvir']"
   ]
  },
  {
   "cell_type": "code",
   "execution_count": 6,
   "metadata": {
    "collapsed": true
   },
   "outputs": [],
   "source": [
    "cat.load_model(a, 'redMagic')"
   ]
  },
  {
   "cell_type": "code",
   "execution_count": 7,
   "metadata": {
    "collapsed": false
   },
   "outputs": [
    {
     "name": "stdout",
     "output_type": "stream",
     "text": [
      "{'logM1': 13.3, 'mean_occupation_satellites_assembias_param1': 0.0, 'logMmin': 12.089, 'mean_occupation_centrals_assembias_param1': 0.0, 'f_c': 1.0, 'logM0': 12.089, 'sigma_logM': 0.33, 'alpha': 1.1}\n"
     ]
    }
   ],
   "source": [
    "params = cat.model.param_dict.copy()\n",
    "params['mean_occupation_centrals_assembias_param1'] = 0.0\n",
    "params['mean_occupation_satellites_assembias_param1'] = 0.0\n",
    "params['logMmin'] = 12.089\n",
    "params['sigma_logM'] = 0.33\n",
    "params['f_c'] = 1.0\n",
    "params['alpha'] = 1.1\n",
    "params['logM1'] = 13.3\n",
    "params['logM0'] = params['logMmin']\n",
    "\n",
    "print params"
   ]
  },
  {
   "cell_type": "code",
   "execution_count": 8,
   "metadata": {
    "collapsed": true
   },
   "outputs": [],
   "source": [
    "cat.populate(params)"
   ]
  },
  {
   "cell_type": "code",
   "execution_count": 9,
   "metadata": {
    "collapsed": false
   },
   "outputs": [],
   "source": [
    "from halotools.empirical_models import PrebuiltSubhaloModelFactory\n",
    "model = PrebuiltSubhaloModelFactory('behroozi10')\n",
    "\n",
    "from halotools.sim_manager import CachedHaloCatalog\n",
    "halocat = CachedHaloCatalog(simname = 'bolshoi', redshift=0, version_name ='halotools_alpha_version2')\n",
    "model.populate_mock(halocat)"
   ]
  },
  {
   "cell_type": "code",
   "execution_count": 10,
   "metadata": {
    "collapsed": true
   },
   "outputs": [],
   "source": [
    "#theta_bins = np.logspace(np.log10(0.004), 0, 24)#/60\n",
    "#tpoints = (theta_bins[1:]+theta_bins[:-1])/2\n",
    "theta_bins = np.logspace(-2,0,15)\n",
    "tpoints = (theta_bins[:-1]+theta_bins[1:])/2.0"
   ]
  },
  {
   "cell_type": "code",
   "execution_count": null,
   "metadata": {
    "collapsed": true
   },
   "outputs": [],
   "source": [
    "from halotools.mock_observables import mock_survey, angular_tpcf"
   ]
  },
  {
   "cell_type": "code",
   "execution_count": null,
   "metadata": {
    "collapsed": false
   },
   "outputs": [
    {
     "name": "stderr",
     "output_type": "stream",
     "text": [
      "/u/ki/swmclau2/.conda/envs/hodemulator/lib/python2.7/site-packages/halotools-0.6.dev4681-py2.7-linux-x86_64.egg/halotools/mock_observables/two_point_clustering/clustering_helpers.py:134: UserWarning: \n",
      " `sample1` exceeds `max_sample_size` \n",
      "downsampling `sample1`...\n",
      "  warn(msg)\n"
     ]
    }
   ],
   "source": [
    "#This is what is currently in Pearce\n",
    "n_cores = 'max'\n",
    "\n",
    "\n",
    "pos = np.vstack([model.mock.galaxy_table[c] for c in ['x', 'y', 'z']]).T\n",
    "vels = np.vstack([model.mock.galaxy_table[c] for c in ['vx', 'vy', 'vz']]).T\n",
    "\n",
    "# TODO is the model cosmo same as the one attached to the cat?\n",
    "ra, dec, _ = mock_survey.ra_dec_z(pos * model.mock.cosmology.h, vels , cosmo=model.mock.cosmology)\n",
    "ang_pos = np.vstack((np.degrees(ra), np.degrees(dec))).T\n",
    "\n",
    "n_rands = 5\n",
    "rand_pos = np.random.random((pos.shape[0] * n_rands, 3)) * model.mock.Lbox#*self.h\n",
    "rand_vels = np.zeros((pos.shape[0] * n_rands, 3))\n",
    "\n",
    "rand_ra, rand_dec, rand_z = mock_survey.ra_dec_z(rand_pos * model.mock.cosmology.h, rand_vels , cosmo=model.mock.cosmology)\n",
    "rand_ang_pos = np.vstack((np.degrees(rand_ra), np.degrees(rand_dec))).T\n",
    "\n",
    "# NOTE I can transform coordinates and not have to use randoms at all. Consider?\n",
    "wt_all = angular_tpcf(ang_pos, theta_bins, randoms=rand_ang_pos, num_threads=n_cores)\n",
    "print wt_all"
   ]
  },
  {
   "cell_type": "code",
   "execution_count": null,
   "metadata": {
    "collapsed": false
   },
   "outputs": [],
   "source": [
    "#now, from halotools docs \n",
    "#mask = model.mock.galaxy_table['stellar_mass'] > 10**10.5\n",
    "gals = model.mock.galaxy_table#[mask]\n",
    "coords = np.vstack([gals['x'], gals['y'], gals['z']]).T\n",
    "vels = np.vstack([gals['vx'], gals['vy'], gals['vz']]).T\n",
    "\n",
    "ra, dec, z = mock_survey.ra_dec_z(coords*model.mock.cosmology.h, vels, cosmo=model.mock.cosmology)\n",
    "ra = np.degrees(ra)\n",
    "dec = np.degrees(dec)\n",
    "\n",
    "Nran=10**5\n",
    "ran_coords = np.random.random((Nran,3))*cat.model.mock.Lbox\n",
    "ran_vels = np.zeros((Nran,3))\n",
    "\n",
    "ran_ra, ran_dec, ran_z = mock_survey.ra_dec_z(ran_coords*model.mock.cosmology.h, ran_vels, cosmo=model.mock.cosmology)\n",
    "ran_ra = np.degrees(ran_ra)\n",
    "ran_dec = np.degrees(ran_dec)\n",
    "\n",
    "angular_coords = np.vstack((ra,dec)).T\n",
    "ran_angular_coords = np.vstack((ran_ra,ran_dec)).T\n",
    "\n",
    "\n",
    "w_theta_with_randoms = angular_tpcf(angular_coords, theta_bins, randoms=ran_angular_coords, num_threads='max')\n",
    "print w_theta_with_randoms"
   ]
  },
  {
   "cell_type": "code",
   "execution_count": null,
   "metadata": {
    "collapsed": false
   },
   "outputs": [],
   "source": [
    "print rand_pos.shape, ran_coords.shape, pos.shape"
   ]
  },
  {
   "cell_type": "code",
   "execution_count": null,
   "metadata": {
    "collapsed": false
   },
   "outputs": [],
   "source": [
    "plt.plot(tpoints,1+wt_all)\n",
    "plt.plot(tpoints, 1+w_theta_with_randoms)\n",
    "#plt.xscale('log')\n",
    "plt.loglog()\n",
    "plt.xlim([1e-2, 1.0])\n",
    "#plt.ylim([1e-4, 2.0])"
   ]
  },
  {
   "cell_type": "code",
   "execution_count": null,
   "metadata": {
    "collapsed": false
   },
   "outputs": [],
   "source": [
    "coords = np.vstack((gals['x'],gals['y'],gals['z'])).T - cat.model.mock.Lbox/2.0\n",
    "vels = np.vstack((gals['vx'],gals['vy'],gals['vz'])).T\n",
    "\n",
    "ra_init, dec_init, z = mock_survey.ra_dec_z(coords*model.mock.cosmology.h, vels, cosmo=model.mock.cosmology)\n",
    "\n",
    "#keep a complete spherical volume\n",
    "r = np.sqrt(coords[:,0]**2 + coords[:,1]**2 + coords[:,2]**2)\n",
    "keep = r<=cat.model.mock.Lbox[0]\n",
    "\n",
    "ra = np.degrees(ra_init[keep])\n",
    "dec = np.degrees(dec_init[keep])\n",
    "angular_coords = np.vstack((ra,dec)).T\n",
    "w_theta = angular_tpcf(angular_coords, theta_bins, num_threads='max')\n",
    "\n",
    "print w_theta"
   ]
  },
  {
   "cell_type": "code",
   "execution_count": null,
   "metadata": {
    "collapsed": false
   },
   "outputs": [],
   "source": [
    "plt.plot(tpoints,1+wt_all)\n",
    "plt.plot(tpoints, 1+w_theta_with_randoms)\n",
    "plt.plot(tpoints, 1+w_theta)\n",
    "#plt.xscale('log')\n",
    "plt.loglog()\n",
    "plt.xlim([1e-2, 1.0])\n",
    "#plt.ylim([1e-4, 2.0])"
   ]
  },
  {
   "cell_type": "code",
   "execution_count": null,
   "metadata": {
    "collapsed": false
   },
   "outputs": [],
   "source": [
    "w_theta/wt_all"
   ]
  },
  {
   "cell_type": "code",
   "execution_count": null,
   "metadata": {
    "collapsed": false
   },
   "outputs": [],
   "source": [
    "Nran=10**6\n",
    "ran_coords = np.random.random((Nran,3))*model.mock.Lbox - model.mock.Lbox/2.0\n",
    "ran_vels = np.zeros((Nran,3))\n",
    "\n",
    "ran_ra, ran_dec, ran_z = mock_survey.ra_dec_z(ran_coords, ran_vels, cosmo=model.mock.cosmology)\n",
    "\n",
    "#keep a complete spherical volume\n",
    "r = np.sqrt(ran_coords[:,0]**2 + ran_coords[:,1]**2 + ran_coords[:,2]**2)\n",
    "keep = r<model.mock.Lbox[0]/2.0\n",
    "\n",
    "ran_ra = np.degrees(ran_ra[keep])\n",
    "ran_dec = np.degrees(ran_dec[keep])\n",
    "ran_angular_coords = np.vstack((ran_ra,ran_dec)).T\n",
    "\n",
    "w_theta_with_randoms = angular_tpcf(angular_coords, theta_bins, randoms=ran_angular_coords,\\\n",
    "                                    num_threads='max')"
   ]
  },
  {
   "cell_type": "code",
   "execution_count": null,
   "metadata": {
    "collapsed": false
   },
   "outputs": [],
   "source": [
    "plt.plot(tpoints,1+wt_all)\n",
    "plt.plot(tpoints, 1+w_theta_with_randoms)\n",
    "plt.plot(tpoints, 1+w_theta)\n",
    "#plt.xscale('log')\n",
    "plt.loglog()\n",
    "plt.xlim([1e-2, 1.0])\n",
    "#plt.ylim([1e-4, 2.0])"
   ]
  },
  {
   "cell_type": "code",
   "execution_count": null,
   "metadata": {
    "collapsed": false
   },
   "outputs": [],
   "source": [
    "plt.plot(tpoints, w_theta/wt_all)\n",
    "plt.xscale('log')"
   ]
  },
  {
   "cell_type": "code",
   "execution_count": null,
   "metadata": {
    "collapsed": true
   },
   "outputs": [],
   "source": []
  }
 ],
 "metadata": {
  "kernelspec": {
   "display_name": "Python [conda env:hodemulator]",
   "language": "python",
   "name": "conda-env-hodemulator-py"
  },
  "language_info": {
   "codemirror_mode": {
    "name": "ipython",
    "version": 2
   },
   "file_extension": ".py",
   "mimetype": "text/x-python",
   "name": "python",
   "nbconvert_exporter": "python",
   "pygments_lexer": "ipython2",
   "version": "2.7.13"
  }
 },
 "nbformat": 4,
 "nbformat_minor": 0
}
