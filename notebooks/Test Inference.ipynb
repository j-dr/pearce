{
 "cells": [
  {
   "cell_type": "markdown",
   "metadata": {},
   "source": [
    "We are interested in performing the following inference:\n",
    "\n",
    "$P(\\theta \\; | y_{obs}) \\propto \\pi(\\theta)P(y_{obs}\\; | \\theta ) $\n",
    "\n",
    "However, calculating the liklihood is too expensive for our use case. Instead, we'd like to use and emultor to do:"
   ]
  },
  {
   "cell_type": "markdown",
   "metadata": {},
   "source": [
    "$P(\\theta \\; | y_{obs}) \\propto \\pi(\\theta) \\int{P(y_{obs} \\; | \\hat{y} ) \\; P(\\hat{y} \\;| \\theta)\\; d\\hat{y} }$\n",
    "\n",
    "Where $P(\\hat{y} \\; | \\theta)$ is the emulator. We have chosen a Gaussian process emulator, which has a few additional benefits. For one, it produces an estimator $\\hat{y}$ with a well-defined Gaussian distribution given its training. If our measurment errors are also Gaussian, then the above integral is a product of Gaussians which is itself a Gaussian with the below properties."
   ]
  },
  {
   "cell_type": "markdown",
   "metadata": {},
   "source": [
    "$\\mathcal{N}(a,A) \\cdot \\mathcal{N}(b,B) = z\\; \\mathcal{N}(c, C)$\n",
    "\n",
    "$C \\equiv (A^{-1} + B^{-1})^{-1}$\n",
    "\n",
    "$c \\equiv C(A^{-1}a + B^{-1}b)$\n",
    "\n",
    "And $z$ is a complex function I will define below, as it requires more explanation. "
   ]
  },
  {
   "cell_type": "markdown",
   "metadata": {},
   "source": [
    "The above relation is defined if both distributions have the same random variable. We have to perform a change of variables, then. We note that:\n",
    "\n",
    "$P(y_{obs}\\; | \\hat{y}) = \\frac{exp[(y_{obs}-\\hat{y})^T\\Sigma^{-1}(y_{obs}-\\hat{y})]}{Z} = P(\\hat{y}\\; | y_{obs})$\n",
    "\n",
    "Just like that, we've got:\n",
    "\n",
    "$P(\\theta \\; | y_{obs}) \\propto \\pi(\\theta) \\int{P(\\hat{y} \\; | y_{obs} ) \\; P(\\hat{y} \\;| \\theta)\\; d\\hat{y} }\\\\ \\\\\n",
    "P(\\theta \\; | y_{obs}) \\propto \\pi(\\theta)\\; z\\; \\int{P(\\hat{y} \\; | y_{obs}, \\theta ) d\\hat{y} } \\\\ \\\\\n",
    "P(\\theta \\; | y_{obs}) \\propto \\pi(\\theta)\\; z\\;(1)$\n",
    "\n"
   ]
  },
  {
   "cell_type": "markdown",
   "metadata": {},
   "source": [
    "Now, lets revisit $z$. $z$ is effectively $P(y_{obs} | \\theta)$. This is convenient, because $z$ is a random variable that is Gaussian in both $y_{obs}$ and $\\bar{y}$, the mean of the distribution from the emulator, a function of theta. So,\n",
    "\n",
    "$P(\\theta \\; | y_{obs}) \\propto \\pi(\\theta)P(y_{obs}\\; | \\theta )\\\\ $\n",
    "\n",
    "Where \n",
    "\n",
    "$y_{obs} | \\theta \\sim \\mathcal{N}(D\\;(T^{-1}\\; C\\; G^{-1} ) \\; \\bar{y}, D)$\n",
    "\n",
    "And the matrices are defined as follows:\n",
    "\n",
    "$ \\\\ \\\\T$ is the measurement eror covariance matrix. \n",
    "\n",
    "$ \\\\ \\\\G(\\theta)$ is the covariance of $\\hat{y}$ provided by the emulator. \n",
    "\n",
    "$\\\\ \\\\C(\\theta) = (T^{-1} + G(\\theta)^{-1})^{-1}$, which is the covariance of the product distribution. \n",
    "And finally, \n",
    "\n",
    "$\\\\ \\\\D(\\theta) = (T^{-1} \\; C(\\theta) \\; T^{-1})^{-1} = T\\;(T^{-1} + G(\\theta)^{-1}) \\; T = T+ T\\; G(\\theta)^{-1}\\;T$\n",
    "\n",
    "Where all functions of $\\theta$ have been explicitly shown for clarity. Below, I will attempt to implement this using my emulation software, `pearce`. "
   ]
  },
  {
   "cell_type": "code",
   "execution_count": 52,
   "metadata": {
    "collapsed": false
   },
   "outputs": [],
   "source": [
    "from pearce.emulator.emu import OriginalRecipe, ExtraCrispy\n",
    "from pearce.emulator.trainingData import parameter, PARAMS"
   ]
  },
  {
   "cell_type": "code",
   "execution_count": 53,
   "metadata": {
    "collapsed": true
   },
   "outputs": [],
   "source": [
    "import numpy as np\n",
    "from os import path"
   ]
  },
  {
   "cell_type": "code",
   "execution_count": 54,
   "metadata": {
    "collapsed": false
   },
   "outputs": [],
   "source": [
    "training_dir = '/u/ki/swmclau2/des/PearceLHC/'\n",
    "or_params = PARAMS[:]\n",
    "#or_params.append(parameter('r', 0, 1)) #95% sure bounds aren't used for r\n",
    "#emu = OriginalRecipe(training_dir,or_params)\n",
    "emu = ExtraCrispy(training_dir, or_params)"
   ]
  },
  {
   "cell_type": "code",
   "execution_count": 55,
   "metadata": {
    "collapsed": true
   },
   "outputs": [],
   "source": [
    "emulation_point = [('f_c', 0.233), ('logM0', 12.0), ('sigma_logM', 0.533), \n",
    "                   ('alpha', 1.083),('logM1', 13.5), ('logMmin', 12.233)]\n",
    "em_params = dict(emulation_point)"
   ]
  },
  {
   "cell_type": "code",
   "execution_count": 56,
   "metadata": {
    "collapsed": true
   },
   "outputs": [],
   "source": [
    "save_dir = '/u/ki/swmclau2/des/EmulatorMCMC/'\n",
    "rpoints = np.loadtxt(path.join(save_dir, 'rpoints.npy'))\n",
    "y = np.loadtxt(path.join(save_dir, 'xi.npy'))\n",
    "cov = np.loadtxt(path.join(save_dir, 'cov.npy'))\n",
    "T = cov #np.diag(np.diag(cov))\n",
    "T = T/(np.outer(y,y)*np.log(10)**2)\n",
    "#T = np.diag(np.diag(T))\n",
    "y = np.log10(y)"
   ]
  },
  {
   "cell_type": "raw",
   "metadata": {},
   "source": [
    "idx = 1\n",
    "T=T[idx,idx]\n",
    "y = y[idx]"
   ]
  },
  {
   "cell_type": "code",
   "execution_count": 57,
   "metadata": {
    "collapsed": true
   },
   "outputs": [],
   "source": [
    "from scipy.linalg import inv"
   ]
  },
  {
   "cell_type": "raw",
   "metadata": {},
   "source": [
    "em_params['r'] = np.log10(rpoints[idx])"
   ]
  },
  {
   "cell_type": "code",
   "execution_count": 58,
   "metadata": {
    "collapsed": false
   },
   "outputs": [
    {
     "name": "stdout",
     "output_type": "stream",
     "text": [
      "(1,) (1, 1) (1, 6) (496,)\n",
      "(1,) (1, 1) (1, 6) (496,)\n",
      "(1,) (1, 1) (1, 6) (496,)\n",
      "(1,) (1, 1) (1, 6) (496,)\n",
      "(1,) (1, 1) (1, 6) (496,)\n",
      "(1,) (1, 1) (1, 6) (496,)\n",
      "(1,) (1, 1) (1, 6) (496,)\n",
      "(1,) (1, 1) (1, 6) (496,)\n",
      "(1,) (1, 1) (1, 6) (496,)\n",
      "(1,) (1, 1) (1, 6) (496,)\n",
      "(1,) (1, 1) (1, 6) (496,)\n",
      "(1,) (1, 1) (1, 6) (496,)\n",
      "(1,) (1, 1) (1, 6) (496,)\n",
      "(1,) (1, 1) (1, 6) (496,)\n",
      "(1,) (1, 1) (1, 6) (496,)\n",
      "(1,) (1, 1) (1, 6) (496,)\n",
      "(1,) (1, 1) (1, 6) (496,)\n"
     ]
    }
   ],
   "source": [
    "#em_params = {p.name: theta for p in self.ordered_params}\n",
    "\n",
    "#using my own notation\n",
    "y_bar, G = emu.emulate_wrt_r(em_params, rpoints)\n",
    "#y_bar, G = emu.emulate(em_params)\n",
    "#y_bar = 10**y_bar\n",
    "#G = G*np.outer(y_bar, y_bar)*np.log(10)**2\n",
    "#G = np.diag(np.diag(G))"
   ]
  },
  {
   "cell_type": "raw",
   "metadata": {},
   "source": [
    "y_bar = y_bar[0,idx]\n",
    "G = G[0,0 , idx]"
   ]
  },
  {
   "cell_type": "code",
   "execution_count": 59,
   "metadata": {
    "collapsed": false
   },
   "outputs": [
    {
     "name": "stdout",
     "output_type": "stream",
     "text": [
      "[[ 3.33857219  2.93358166  2.48636433  2.21810416  1.86595312  1.48862137\n",
      "   1.09563825  0.75276058  0.48297387  0.25980587  0.02334519 -0.20475356\n",
      "  -0.47153732 -0.73603583 -1.04181694 -1.39814147 -1.95044229]]\n"
     ]
    }
   ],
   "source": [
    "print y_bar"
   ]
  },
  {
   "cell_type": "code",
   "execution_count": 60,
   "metadata": {
    "collapsed": false
   },
   "outputs": [
    {
     "name": "stdout",
     "output_type": "stream",
     "text": [
      "[ 3.32086144  2.58650472  2.20321426  1.89321609  1.54738839  1.20503721\n",
      "  0.90378299  0.64283911  0.38615689  0.15954921 -0.06179825 -0.29184025\n",
      " -0.55316333 -0.8260194  -1.12644251 -1.4881848  -1.99929647]\n"
     ]
    }
   ],
   "source": [
    "print y"
   ]
  },
  {
   "cell_type": "code",
   "execution_count": 61,
   "metadata": {
    "collapsed": false
   },
   "outputs": [
    {
     "name": "stdout",
     "output_type": "stream",
     "text": [
      "(1, 1, 17)\n"
     ]
    }
   ],
   "source": [
    "print G.shape"
   ]
  },
  {
   "cell_type": "code",
   "execution_count": 62,
   "metadata": {
    "collapsed": true
   },
   "outputs": [],
   "source": [
    "G = np.diag(G[0,0,:])"
   ]
  },
  {
   "cell_type": "code",
   "execution_count": 63,
   "metadata": {
    "collapsed": false
   },
   "outputs": [
    {
     "name": "stdout",
     "output_type": "stream",
     "text": [
      "[[  1.98492892e-04  -1.94664204e-07  -3.75336378e-06   2.00431288e-06\n",
      "    2.54273749e-06   1.76112827e-06   8.36316334e-07   4.48614558e-07\n",
      "    4.44565515e-07   1.73739716e-06   2.90347113e-07   5.31210312e-07\n",
      "   -8.97340750e-07  -7.78689621e-07   1.18011343e-06   9.96475534e-07\n",
      "    1.51411906e-05]\n",
      " [ -1.94664204e-07   1.28876153e-05  -1.83466135e-06   2.98981615e-07\n",
      "   -4.89438357e-09   3.43916484e-07   2.99135713e-07   2.52340019e-07\n",
      "    3.43144406e-07   5.37760868e-07   5.34333892e-07   7.50863848e-07\n",
      "    6.84598938e-07   1.13466742e-06   2.27919117e-06   2.27056636e-06\n",
      "    5.89133129e-06]\n",
      " [ -3.75336378e-06  -1.83466135e-06   8.88721210e-06   5.47813441e-07\n",
      "    7.79265215e-07   5.53264189e-07   5.75479602e-07   1.24813774e-07\n",
      "   -2.31154732e-08   9.08559340e-08   5.23207858e-07   3.93383897e-07\n",
      "    4.97970903e-07   6.18559553e-07   7.94990132e-07  -1.13326311e-07\n",
      "   -2.78958780e-06]\n",
      " [  2.00431288e-06   2.98981615e-07   5.47813441e-07   5.11655556e-06\n",
      "    1.92551347e-06   1.70477188e-06   1.33841725e-06   1.09245101e-06\n",
      "    5.01971345e-07   6.12877008e-07   6.28663182e-07   5.71846232e-07\n",
      "    4.69307055e-07   5.85567723e-07   1.01016349e-07  -6.07274527e-07\n",
      "   -6.28314052e-06]\n",
      " [  2.54273749e-06  -4.89438357e-09   7.79265215e-07   1.92551347e-06\n",
      "    3.20424760e-06   2.18295634e-06   1.64737828e-06   1.30642029e-06\n",
      "    7.62749694e-07   7.71262973e-07   8.41735540e-07   8.37526069e-07\n",
      "    7.95282788e-07   1.04955892e-06   4.44951916e-07  -1.98908358e-06\n",
      "   -1.78465983e-05]\n",
      " [  1.76112827e-06   3.43916484e-07   5.53264189e-07   1.70477188e-06\n",
      "    2.18295634e-06   3.56337267e-06   2.54511500e-06   1.92788685e-06\n",
      "    1.08700288e-06   1.07906553e-06   1.19290936e-06   1.30352793e-06\n",
      "    1.15324722e-06   1.35121926e-06   6.37242622e-07  -3.40707686e-06\n",
      "   -2.11601945e-05]\n",
      " [  8.36316334e-07   2.99135713e-07   5.75479602e-07   1.33841725e-06\n",
      "    1.64737828e-06   2.54511500e-06   3.07031230e-06   1.94460872e-06\n",
      "    1.02617743e-06   9.64784693e-07   1.05646214e-06   1.13874287e-06\n",
      "    9.49418197e-07   1.12541225e-06   5.00498290e-07  -2.55528780e-06\n",
      "   -1.52881326e-05]\n",
      " [  4.48614558e-07   2.52340019e-07   1.24813774e-07   1.09245101e-06\n",
      "    1.30642029e-06   1.92788685e-06   1.94460872e-06   1.97300376e-06\n",
      "    9.27257408e-07   7.92931832e-07   8.25251367e-07   9.35504374e-07\n",
      "    7.14690918e-07   8.40164432e-07   6.95281183e-07  -6.92626014e-07\n",
      "   -4.64437746e-06]\n",
      " [  4.44565515e-07   3.43144406e-07  -2.31154732e-08   5.01971345e-07\n",
      "    7.62749694e-07   1.08700288e-06   1.02617743e-06   9.27257408e-07\n",
      "    8.60013067e-07   5.67466305e-07   6.00733062e-07   7.03965679e-07\n",
      "    5.94972558e-07   6.72858713e-07   5.84924201e-07   2.85419196e-07\n",
      "    1.13318192e-06]\n",
      " [  1.73739716e-06   5.37760868e-07   9.08559340e-08   6.12877008e-07\n",
      "    7.71262973e-07   1.07906553e-06   9.64784693e-07   7.92931832e-07\n",
      "    5.67466305e-07   1.00427857e-06   8.37122290e-07   9.36073653e-07\n",
      "    9.38880781e-07   1.02043001e-06   9.86126525e-07   7.23912890e-07\n",
      "   -6.12333833e-07]\n",
      " [  2.90347113e-07   5.34333892e-07   5.23207858e-07   6.28663182e-07\n",
      "    8.41735540e-07   1.19290936e-06   1.05646214e-06   8.25251367e-07\n",
      "    6.00733062e-07   8.37122290e-07   1.14205436e-06   1.09321574e-06\n",
      "    1.02050351e-06   1.14217226e-06   1.20304618e-06   1.08352881e-06\n",
      "    1.65843512e-06]\n",
      " [  5.31210312e-07   7.50863848e-07   3.93383897e-07   5.71846232e-07\n",
      "    8.37526069e-07   1.30352793e-06   1.13874287e-06   9.35504374e-07\n",
      "    7.03965679e-07   9.36073653e-07   1.09321574e-06   1.65424352e-06\n",
      "    1.50967844e-06   1.65174905e-06   1.73905192e-06   1.48137908e-06\n",
      "    2.67735349e-08]\n",
      " [ -8.97340750e-07   6.84598938e-07   4.97970903e-07   4.69307055e-07\n",
      "    7.95282788e-07   1.15324722e-06   9.49418197e-07   7.14690918e-07\n",
      "    5.94972558e-07   9.38880781e-07   1.02050351e-06   1.50967844e-06\n",
      "    2.32551948e-06   2.75502616e-06   3.59253172e-06   5.54792756e-06\n",
      "    9.39780747e-06]\n",
      " [ -7.78689621e-07   1.13466742e-06   6.18559553e-07   5.85567723e-07\n",
      "    1.04955892e-06   1.35121926e-06   1.12541225e-06   8.40164432e-07\n",
      "    6.72858713e-07   1.02043001e-06   1.14217226e-06   1.65174905e-06\n",
      "    2.75502616e-06   4.99951501e-06   7.81712455e-06   1.40155920e-05\n",
      "    3.41731610e-05]\n",
      " [  1.18011343e-06   2.27919117e-06   7.94990132e-07   1.01016349e-07\n",
      "    4.44951916e-07   6.37242622e-07   5.00498290e-07   6.95281183e-07\n",
      "    5.84924201e-07   9.86126525e-07   1.20304618e-06   1.73905192e-06\n",
      "    3.59253172e-06   7.81712455e-06   1.66474196e-05   3.66107526e-05\n",
      "    1.12471328e-04]\n",
      " [  9.96475534e-07   2.27056636e-06  -1.13326311e-07  -6.07274527e-07\n",
      "   -1.98908358e-06  -3.40707686e-06  -2.55528780e-06  -6.92626014e-07\n",
      "    2.85419196e-07   7.23912890e-07   1.08352881e-06   1.48137908e-06\n",
      "    5.54792756e-06   1.40155920e-05   3.66107526e-05   1.07871399e-04\n",
      "    3.99543363e-04]\n",
      " [  1.51411906e-05   5.89133129e-06  -2.78958780e-06  -6.28314052e-06\n",
      "   -1.78465983e-05  -2.11601945e-05  -1.52881326e-05  -4.64437746e-06\n",
      "    1.13318192e-06  -6.12333833e-07   1.65843512e-06   2.67735349e-08\n",
      "    9.39780747e-06   3.41731610e-05   1.12471328e-04   3.99543363e-04\n",
      "    1.81252896e-03]]\n"
     ]
    }
   ],
   "source": [
    "print T"
   ]
  },
  {
   "cell_type": "code",
   "execution_count": 64,
   "metadata": {
    "collapsed": false
   },
   "outputs": [],
   "source": [
    "TG_inv = np.dot(T, inv(G))"
   ]
  },
  {
   "cell_type": "code",
   "execution_count": 65,
   "metadata": {
    "collapsed": false
   },
   "outputs": [
    {
     "ename": "ValueError",
     "evalue": "shapes (17,17) and (1,17) not aligned: 17 (dim 1) != 1 (dim 0)",
     "output_type": "error",
     "traceback": [
      "\u001b[1;31m---------------------------------------------------------------------------\u001b[0m",
      "\u001b[1;31mValueError\u001b[0m                                Traceback (most recent call last)",
      "\u001b[1;32m<ipython-input-65-1afe14947ae2>\u001b[0m in \u001b[0;36m<module>\u001b[1;34m()\u001b[0m\n\u001b[1;32m----> 1\u001b[1;33m \u001b[0md\u001b[0m \u001b[1;33m=\u001b[0m \u001b[0mnp\u001b[0m\u001b[1;33m.\u001b[0m\u001b[0mdot\u001b[0m\u001b[1;33m(\u001b[0m\u001b[0mTG_inv\u001b[0m\u001b[1;33m,\u001b[0m \u001b[0my_bar\u001b[0m\u001b[1;33m)\u001b[0m\u001b[1;33m\u001b[0m\u001b[0m\n\u001b[0m\u001b[0;32m      2\u001b[0m \u001b[1;32mprint\u001b[0m \u001b[0md\u001b[0m\u001b[1;33m\u001b[0m\u001b[0m\n",
      "\u001b[1;31mValueError\u001b[0m: shapes (17,17) and (1,17) not aligned: 17 (dim 1) != 1 (dim 0)"
     ]
    }
   ],
   "source": [
    "d = np.dot(TG_inv, y_bar)\n",
    "print d"
   ]
  },
  {
   "cell_type": "code",
   "execution_count": null,
   "metadata": {
    "collapsed": false
   },
   "outputs": [],
   "source": [
    "#should chi2 be calculated in log or linear?\n",
    "#T == cov\n",
    "TG_inv[np.diag_indices(TG_inv.shape[0])]+=np.ones(TG_inv.shape[0])\n",
    "D = np.dot(TG_inv, T) # sadly not a faster way to compute D inverse. \n",
    "delta = d-y\n",
    "chi2 = -0.5 * np.dot(delta, np.dot(inv(D), delta))"
   ]
  },
  {
   "cell_type": "code",
   "execution_count": null,
   "metadata": {
    "collapsed": false
   },
   "outputs": [],
   "source": [
    "print np.dot(T, np.dot(inv(G), T))"
   ]
  },
  {
   "cell_type": "code",
   "execution_count": null,
   "metadata": {
    "collapsed": false
   },
   "outputs": [],
   "source": [
    "print D"
   ]
  },
  {
   "cell_type": "code",
   "execution_count": null,
   "metadata": {
    "collapsed": false
   },
   "outputs": [],
   "source": [
    "print delta"
   ]
  },
  {
   "cell_type": "code",
   "execution_count": null,
   "metadata": {
    "collapsed": true
   },
   "outputs": [],
   "source": [
    "from matplotlib import pyplot as plt\n",
    "%matplotlib inline\n",
    "import seaborn as sns\n",
    "sns.set()\n",
    "from itertools import cycle\n",
    "colors = cycle(sns.color_palette())"
   ]
  },
  {
   "cell_type": "code",
   "execution_count": null,
   "metadata": {
    "collapsed": false
   },
   "outputs": [],
   "source": [
    "fig = plt.figure(figsize = (10, 10))\n",
    "\n",
    "for mu, cov, label, color in zip([y_bar, y, np.abs(d)], [G, T, D], [r'$ \\bar{y} $',r'$y$',r'$\\mu$'], colors):\n",
    "    plt.plot(rpoints, mu, color=color, label=label)\n",
    "    y_err = np.sqrt(np.diag(cov))\n",
    "    plt.fill_between(rpoints,mu+y_err,\n",
    "                mu-y_err, color = color, alpha = 0.3)\n",
    "\n",
    "plt.xlim(xmin = 0.1, xmax = 30)\n",
    "plt.ylim(ymin = -2, ymax = 4)\n",
    "#plt.ylim(ymin = 1e-2, ymax = 1e4)\n",
    "#plt.title(\"OR Emulator w.r.t. %s\"%y_param, fontsize =20)\n",
    "#plt.loglog()\n",
    "plt.xscale('log')\n",
    "plt.xticks(fontsize=20)\n",
    "plt.yticks(fontsize=20)\n",
    "plt.xlabel(r'$r $  $\\rm{[Mpc]}$', fontsize=25)\n",
    "plt.ylabel(r'$\\log_{10}{\\xi_{\\rm gg}(r) }$', fontsize=25)\n",
    "plt.legend(loc='best', fontsize=25)\n",
    "\n",
    "plt.show()"
   ]
  },
  {
   "cell_type": "code",
   "execution_count": null,
   "metadata": {
    "collapsed": false
   },
   "outputs": [],
   "source": [
    "import colormaps as cmaps\n",
    "plt.register_cmap(name='viridis', cmap=cmaps.viridis)\n",
    "plt.set_cmap(cmaps.viridis)"
   ]
  },
  {
   "cell_type": "code",
   "execution_count": null,
   "metadata": {
    "collapsed": false,
    "scrolled": false
   },
   "outputs": [],
   "source": [
    "for mat in (np.log10(np.abs(T)), np.log10(np.abs(G)),np.log10(np.abs(inv(G))), np.log10(np.abs(np.dot(T, inv(G)))), np.log10(np.abs(D))):\n",
    "    fig = plt.figure(figsize=(10,10))\n",
    "    im = plt.imshow(mat, interpolation=None)\n",
    "    plt.colorbar(im)\n",
    "    plt.show()"
   ]
  },
  {
   "cell_type": "code",
   "execution_count": null,
   "metadata": {
    "collapsed": false
   },
   "outputs": [],
   "source": [
    "fig = plt.figure(figsize=(10,10))\n",
    "im = plt.imshow(T*inv(T), interpolation=None)\n",
    "plt.colorbar(im)\n",
    "plt.show()"
   ]
  },
  {
   "cell_type": "code",
   "execution_count": null,
   "metadata": {
    "collapsed": false
   },
   "outputs": [],
   "source": [
    "fig = plt.figure(figsize=(10,10))\n",
    "im = plt.imshow(G*inv(G), interpolation=None)\n",
    "plt.colorbar(im)\n",
    "plt.show()"
   ]
  },
  {
   "cell_type": "code",
   "execution_count": null,
   "metadata": {
    "collapsed": false
   },
   "outputs": [],
   "source": [
    "from scipy.linalg import eigh\n",
    "print sorted(eigh(T, eigvals_only = True), reverse=True)\n",
    "print np.sum(eigh(T, eigvals_only = True)>1e-3)"
   ]
  },
  {
   "cell_type": "code",
   "execution_count": null,
   "metadata": {
    "collapsed": false
   },
   "outputs": [],
   "source": [
    "print sorted(eigh(G, eigvals_only = True), reverse=True)\n",
    "print np.sum(eigh(G, eigvals_only = True)>1e-3)"
   ]
  },
  {
   "cell_type": "code",
   "execution_count": null,
   "metadata": {
    "collapsed": false
   },
   "outputs": [],
   "source": [
    "np.dot(T, np.dot(inv(G), T))"
   ]
  },
  {
   "cell_type": "code",
   "execution_count": null,
   "metadata": {
    "collapsed": false
   },
   "outputs": [],
   "source": [
    "T"
   ]
  },
  {
   "cell_type": "code",
   "execution_count": null,
   "metadata": {
    "collapsed": true
   },
   "outputs": [],
   "source": []
  }
 ],
 "metadata": {
  "kernelspec": {
   "display_name": "Python [conda env:hodemulator]",
   "language": "python",
   "name": "conda-env-hodemulator-py"
  },
  "language_info": {
   "codemirror_mode": {
    "name": "ipython",
    "version": 2
   },
   "file_extension": ".py",
   "mimetype": "text/x-python",
   "name": "python",
   "nbconvert_exporter": "python",
   "pygments_lexer": "ipython2",
   "version": "2.7.12"
  }
 },
 "nbformat": 4,
 "nbformat_minor": 0
}
