{
 "cells": [
  {
   "cell_type": "markdown",
   "metadata": {},
   "source": [
    "Yao proposed an AB model that I think is equivalent to noisy percentile. Andrew Hearin proposed noisy percentile as an AB model to me during the KITP, but there was a reason that I ended up rejecting it as a possiblity, and he agreed. However, I deleted my notes on the topic, so I need to redo it to see why I ended up rejecting it. "
   ]
  },
  {
   "cell_type": "code",
   "execution_count": 1,
   "metadata": {
    "collapsed": true
   },
   "outputs": [],
   "source": [
    "from matplotlib import pyplot as plt\n",
    "%matplotlib inline\n",
    "import seaborn as sns\n",
    "sns.set()"
   ]
  },
  {
   "cell_type": "code",
   "execution_count": 2,
   "metadata": {
    "collapsed": true
   },
   "outputs": [],
   "source": [
    "from pearce.mocks import cat_dict\n",
    "import numpy as np"
   ]
  },
  {
   "cell_type": "code",
   "execution_count": 3,
   "metadata": {
    "collapsed": false
   },
   "outputs": [],
   "source": [
    "from halotools.empirical_models import noisy_percentile\n",
    "from halotools.utils.table_utils import compute_prim_haloprop_bins"
   ]
  },
  {
   "cell_type": "code",
   "execution_count": 4,
   "metadata": {
    "collapsed": true
   },
   "outputs": [],
   "source": [
    "cosmo_params = {'simname':'chinchilla', 'Lbox':400.0, 'scale_factors':[1.0]}\n",
    "cat = cat_dict[cosmo_params['simname']](**cosmo_params)#construct the specified catalog!"
   ]
  },
  {
   "cell_type": "code",
   "execution_count": 5,
   "metadata": {
    "collapsed": true
   },
   "outputs": [],
   "source": [
    "cat.load(1.0, HOD='hsabRedMagic')"
   ]
  },
  {
   "cell_type": "code",
   "execution_count": 6,
   "metadata": {
    "collapsed": true
   },
   "outputs": [],
   "source": [
    "fiducial_point = {'logM0': 12.0, 'logM1': 13.2, 'alpha': 1.02,\n",
    "                      'logMmin': 12.0, 'f_c':1.0, 'sigma_logM': 0.60}"
   ]
  },
  {
   "cell_type": "code",
   "execution_count": 7,
   "metadata": {
    "collapsed": true
   },
   "outputs": [],
   "source": [
    "fiducial_point['mean_occupation_centrals_assembias_param1'] = 1.0\n",
    "fiducial_point['mean_occupation_satellites_assembias_param1'] = 1.0"
   ]
  },
  {
   "cell_type": "code",
   "execution_count": 8,
   "metadata": {
    "collapsed": true
   },
   "outputs": [],
   "source": [
    "hod_params = dict(fiducial_point)\n",
    "cat.populate(hod_params)"
   ]
  },
  {
   "cell_type": "code",
   "execution_count": 9,
   "metadata": {
    "collapsed": true
   },
   "outputs": [],
   "source": [
    "cen_occ = cat.model.model_dictionary['centrals_occupation']"
   ]
  },
  {
   "cell_type": "code",
   "execution_count": 10,
   "metadata": {
    "collapsed": false
   },
   "outputs": [],
   "source": [
    "prim_haloprop = cat.halocat.halo_table[cen_occ.prim_haloprop_key]\n",
    "sec_haloprop = cat.halocat.halo_table[cen_occ.sec_haloprop_key]"
   ]
  },
  {
   "cell_type": "code",
   "execution_count": 11,
   "metadata": {
    "collapsed": true
   },
   "outputs": [],
   "source": [
    "prim_haloprop_bins = compute_prim_haloprop_bins(prim_haloprop = prim_haloprop)"
   ]
  },
  {
   "cell_type": "code",
   "execution_count": 12,
   "metadata": {
    "collapsed": true
   },
   "outputs": [],
   "source": [
    "baseline_result = cen_occ.baseline_mean_occupation(prim_haloprop = prim_haloprop)\n",
    "split = cen_occ.percentile_splitting_function(prim_haloprop = prim_haloprop)"
   ]
  },
  {
   "cell_type": "raw",
   "metadata": {},
   "source": [
    "no_edge_mask = ((split > 0) & (split < 1))\n",
    "perturbation = cen_occ._galprop_perturbation(\n",
    "    baseline_result = baseline_result[no_edge_mask],\n",
    "    prim_haloprop = prim_haloprop[no_edge_mask],\n",
    "    sec_haloprop = sec_haloprop[no_edge_mask],\n",
    "    splitting_result = split[no_edge_mask])\n",
    "final_result = baseline_result[:]\n",
    "final_result[no_edge_mask]+=perturbation"
   ]
  },
  {
   "cell_type": "code",
   "execution_count": 13,
   "metadata": {
    "collapsed": true
   },
   "outputs": [],
   "source": [
    "final_result = cen_occ.mean_occupation(prim_haloprop = prim_haloprop, sec_haloprop = sec_haloprop)"
   ]
  },
  {
   "cell_type": "code",
   "execution_count": 14,
   "metadata": {
    "collapsed": true
   },
   "outputs": [],
   "source": [
    "bin_slice = prim_haloprop_bins%5 == 0"
   ]
  },
  {
   "cell_type": "code",
   "execution_count": 15,
   "metadata": {
    "collapsed": true
   },
   "outputs": [],
   "source": [
    "pal = sns.cubehelix_palette(len(set(prim_haloprop_bins[bin_slice])), rot=-.5, dark=.3)"
   ]
  },
  {
   "cell_type": "code",
   "execution_count": 16,
   "metadata": {
    "collapsed": true
   },
   "outputs": [],
   "source": [
    "random_idxs = np.random.choice(prim_haloprop_bins[bin_slice].shape[0], 10000, replace=False)"
   ]
  },
  {
   "cell_type": "code",
   "execution_count": 17,
   "metadata": {
    "collapsed": false
   },
   "outputs": [
    {
     "data": {
      "text/plain": [
       "<matplotlib.text.Text at 0x7ff6dd65d750>"
      ]
     },
     "execution_count": 17,
     "metadata": {},
     "output_type": "execute_result"
    },
    {
     "data": {
      "image/png": "[encoded data removed]",
      "text/plain": [
       "<matplotlib.figure.Figure at 0x7ff6d905d050>"
      ]
     },
     "metadata": {},
     "output_type": "display_data"
    }
   ],
   "source": [
    "fig = plt.figure(figsize = (12.5,10))\n",
    "#plt.plot(prim_haloprop_bins[bin_slice][sorted_idxs], baseline_result[bin_slice][sorted_idxs])\n",
    "ax = sns.boxplot(x = prim_haloprop_bins[bin_slice], y = final_result[bin_slice], palette=pal)\n",
    "sns.stripplot(x = prim_haloprop_bins[bin_slice][random_idxs], y = final_result[bin_slice][random_idxs],\n",
    "              jitter=True, size=4, color=\".3\", linewidth=0)\n",
    "sns.plt.title('Decorated HOD Boxplot Central Occupation')\n",
    "sns.plt.xlabel('Halo Mass Bin #')\n",
    "sns.plt.ylabel('Halo Occupation')"
   ]
  },
  {
   "cell_type": "code",
   "execution_count": 18,
   "metadata": {
    "collapsed": true
   },
   "outputs": [],
   "source": [
    "from halotools.utils import rank_order_percentile"
   ]
  },
  {
   "cell_type": "code",
   "execution_count": 19,
   "metadata": {
    "collapsed": true
   },
   "outputs": [],
   "source": [
    "A = 0.0"
   ]
  },
  {
   "cell_type": "raw",
   "metadata": {
    "collapsed": false
   },
   "source": [
    "final_result_percentile = np.zeros_like(prim_haloprop)\n",
    "for mass_bin in np.unique(prim_haloprop_bins):\n",
    "    idx_in_bin = np.where(mass_bin == prim_haloprop_bins)\n",
    "    occ_in_bin = baseline_result[idx_in_bin]\n",
    "    sec_haloprop_in_bin = sec_haloprop[idx_in_bin]\n",
    "    sh_perc = rank_order_percentile(sec_haloprop_in_bin)\n",
    "    final_result_percentile[idx_in_bin] = noisy_percentile(sh_perc, correlation_coeff= A)\n"
   ]
  },
  {
   "cell_type": "code",
   "execution_count": 20,
   "metadata": {
    "collapsed": false
   },
   "outputs": [],
   "source": [
    "baseline_upper_bound = 1.0\n",
    "baseline_lower_bound = 0.0\n",
    "def percentile_perturbation(sec_haloprop, baseline_result, splitting_result):\n",
    "    perturbation = np.zeros(len(sec_haloprop))\n",
    "    sh_perc = rank_order_percentile(sec_haloprop)\n",
    "\n",
    "    strength = noisy_percentile(sh_perc, correlation_coeff = A) -0.5\n",
    "    positive_strength_idx = strength > 0\n",
    "    negative_strength_idx = strength < 0\n",
    "\n",
    "    if len(baseline_result[positive_strength_idx]) > 0:\n",
    "        base_pos = baseline_result[positive_strength_idx]\n",
    "        split_pos = splitting_result[positive_strength_idx]\n",
    "        type1_frac_pos = 1 - split_pos\n",
    "        strength_pos = strength[positive_strength_idx]\n",
    "\n",
    "        upper_bound1 = baseline_upper_bound - base_pos\n",
    "        upper_bound2 = ((1 - type1_frac_pos)/type1_frac_pos)*(base_pos - baseline_lower_bound)\n",
    "        upper_bound = np.minimum(upper_bound1, upper_bound2)\n",
    "        perturbation[positive_strength_idx] = strength_pos*upper_bound\n",
    "\n",
    "    if len(baseline_result[negative_strength_idx]) > 0:\n",
    "        base_neg = baseline_result[negative_strength_idx]\n",
    "        split_neg = splitting_result[negative_strength_idx]\n",
    "        type1_frac_neg = 1 - split_neg\n",
    "        strength_neg = strength[negative_strength_idx]\n",
    "\n",
    "        lower_bound1 = baseline_lower_bound - base_neg\n",
    "        lower_bound2 = (1 - type1_frac_neg)/type1_frac_neg*(base_neg - baseline_upper_bound)\n",
    "        lower_bound = np.maximum(lower_bound1, lower_bound2)\n",
    "        perturbation[negative_strength_idx] = np.abs(strength_neg)*lower_bound\n",
    "\n",
    "    return perturbation"
   ]
  },
  {
   "cell_type": "code",
   "execution_count": 21,
   "metadata": {
    "collapsed": false
   },
   "outputs": [],
   "source": [
    "final_result_percentile = np.zeros_like(prim_haloprop)\n",
    "for mass_bin in np.unique(prim_haloprop_bins):\n",
    "    idx_in_bin = np.where(mass_bin == prim_haloprop_bins)\n",
    "    occ_in_bin = baseline_result[idx_in_bin]\n",
    "    sec_haloprop_in_bin = sec_haloprop[idx_in_bin]\n",
    "    final_result_percentile[idx_in_bin] = occ_in_bin+ percentile_perturbation(sec_haloprop_in_bin, occ_in_bin, split[idx_in_bin])\n"
   ]
  },
  {
   "cell_type": "code",
   "execution_count": 29,
   "metadata": {
    "collapsed": false
   },
   "outputs": [
    {
     "data": {
      "text/html": [
       "&lt;Column name=&apos;halo_mvir&apos; dtype=&apos;float32&apos; length=13575&gt;\n",
       "<table>\n",
       "<tr><td>0.0</td></tr>\n",
       "<tr><td>5.96046e-08</td></tr>\n",
       "<tr><td>1.78814e-07</td></tr>\n",
       "<tr><td>2.38419e-07</td></tr>\n",
       "<tr><td>4.17233e-07</td></tr>\n",
       "<tr><td>6.55651e-07</td></tr>\n",
       "<tr><td>8.9407e-07</td></tr>\n",
       "<tr><td>1.3113e-06</td></tr>\n",
       "<tr><td>1.84774e-06</td></tr>\n",
       "<tr><td>2.5034e-06</td></tr>\n",
       "<tr><td>3.33786e-06</td></tr>\n",
       "<tr><td>4.35114e-06</td></tr>\n",
       "<tr><td>...</td></tr>\n",
       "<tr><td>0.999999</td></tr>\n",
       "<tr><td>0.999999</td></tr>\n",
       "<tr><td>0.999999</td></tr>\n",
       "<tr><td>0.999999</td></tr>\n",
       "<tr><td>0.999999</td></tr>\n",
       "<tr><td>0.999999</td></tr>\n",
       "<tr><td>0.999999</td></tr>\n",
       "<tr><td>1.0</td></tr>\n",
       "<tr><td>1.0</td></tr>\n",
       "<tr><td>1.0</td></tr>\n",
       "<tr><td>1.0</td></tr>\n",
       "<tr><td>1.0</td></tr>\n",
       "</table>"
      ],
      "text/plain": [
       "<Column name='halo_mvir' dtype='float32' length=13575>\n",
       "        0.0\n",
       "5.96046e-08\n",
       "1.78814e-07\n",
       "2.38419e-07\n",
       "4.17233e-07\n",
       "6.55651e-07\n",
       " 8.9407e-07\n",
       " 1.3113e-06\n",
       "1.84774e-06\n",
       " 2.5034e-06\n",
       "3.33786e-06\n",
       "4.35114e-06\n",
       "        ...\n",
       "   0.999999\n",
       "   0.999999\n",
       "   0.999999\n",
       "   0.999999\n",
       "   0.999999\n",
       "   0.999999\n",
       "   0.999999\n",
       "        1.0\n",
       "        1.0\n",
       "        1.0\n",
       "        1.0\n",
       "        1.0"
      ]
     },
     "execution_count": 29,
     "metadata": {},
     "output_type": "execute_result"
    }
   ],
   "source": [
    "np.unique(final_result)"
   ]
  },
  {
   "cell_type": "raw",
   "metadata": {},
   "source": [
    "np.savetxt('noisy_percentile.npy',final_result)"
   ]
  },
  {
   "cell_type": "code",
   "execution_count": 34,
   "metadata": {
    "collapsed": false
   },
   "outputs": [
    {
     "data": {
      "text/plain": [
       "18241063"
      ]
     },
     "execution_count": 34,
     "metadata": {},
     "output_type": "execute_result"
    }
   ],
   "source": [
    "len(final_result)"
   ]
  },
  {
   "cell_type": "code",
   "execution_count": 35,
   "metadata": {
    "collapsed": false
   },
   "outputs": [
    {
     "data": {
      "text/plain": [
       "18241063"
      ]
     },
     "execution_count": 35,
     "metadata": {},
     "output_type": "execute_result"
    }
   ],
   "source": [
    "len(prim_haloprop)"
   ]
  },
  {
   "cell_type": "code",
   "execution_count": 22,
   "metadata": {
    "collapsed": false
   },
   "outputs": [
    {
     "data": {
      "text/plain": [
       "<matplotlib.text.Text at 0x7ff6e5ad7a10>"
      ]
     },
     "execution_count": 22,
     "metadata": {},
     "output_type": "execute_result"
    },
    {
     "data": {
      "image/png": "[encoded data removed]",
      "text/plain": [
       "<matplotlib.figure.Figure at 0x7ff6d707c390>"
      ]
     },
     "metadata": {},
     "output_type": "display_data"
    }
   ],
   "source": [
    "fig = plt.figure(figsize = (12.5,10))\n",
    "#plt.plot(prim_haloprop_bins[bin_slice][sorted_idxs], baseline_result[bin_slice][sorted_idxs])\n",
    "ax = sns.boxplot(x = prim_haloprop_bins[bin_slice], y = final_result_percentile[bin_slice], palette=pal)\n",
    "sns.stripplot(x = prim_haloprop_bins[bin_slice][random_idxs], y = final_result_percentile[bin_slice][random_idxs],\n",
    "              jitter=True, size=4, color=\".3\", linewidth=0)\n",
    "sns.plt.title('Noisy Percentile HOD Boxplot Central Occupation')\n",
    "sns.plt.xlabel('Halo Mass Bin #')\n",
    "sns.plt.ylabel('Halo Occupation')"
   ]
  },
  {
   "cell_type": "code",
   "execution_count": 23,
   "metadata": {
    "collapsed": false
   },
   "outputs": [],
   "source": [
    "from scipy.stats import poisson, rankdata\n",
    "\n",
    "\n",
    "def get_ranks(data):\n",
    "    rank = rankdata(data, 'ordinal') - 0.5\n",
    "    rank /= len(data)\n",
    "    return rank\n",
    "\n",
    "\n",
    "def shuffle_ranks(original_ranks, correlation):    \n",
    "    if correlation >= 1.0:\n",
    "        return original_ranks\n",
    "    if correlation <= -1.0:\n",
    "        return 1.0 - original_ranks\n",
    "    \n",
    "    positive_correlation = (correlation > 0)\n",
    "    correlation_magnitude = abs(correlation)\n",
    "    \n",
    "    if correlation_magnitude < 1.0e-8:\n",
    "        return get_ranks(np.random.rand(*original_ranks.shape))\n",
    "    \n",
    "    x = (1.0-correlation_magnitude)/correlation_magnitude    \n",
    "    scale = (x**0.37 * (1.0+x**0.6) * 0.25)\n",
    "    ranks = np.random.normal(loc=(original_ranks if positive_correlation else (-original_ranks)), scale=scale)\n",
    "    \n",
    "    return get_ranks(ranks)\n",
    "\n",
    "\n",
    "def get_cen_count(rank_conc, mean_n_cen, A_cen):\n",
    "    new_rank = shuffle_ranks(rank_conc, A_cen)\n",
    "    return (new_rank >= mean_n_cen).astype(np.int)"
   ]
  },
  {
   "cell_type": "code",
   "execution_count": 24,
   "metadata": {
    "collapsed": false
   },
   "outputs": [],
   "source": [
    "final_result_yao = np.zeros_like(prim_haloprop)\n",
    "for mass_bin in np.unique(prim_haloprop_bins):\n",
    "    idx_in_bin = np.where(mass_bin == prim_haloprop_bins)\n",
    "    occ_in_bin = baseline_result[idx_in_bin]\n",
    "    sec_haloprop_in_bin = sec_haloprop[idx_in_bin]\n",
    "    sh_perc = rank_order_percentile(sec_haloprop_in_bin)\n",
    "\n",
    "    final_result_yao[idx_in_bin] = get_cen_count(sh_perc, occ_in_bin, A_cen= 0.0)\n"
   ]
  },
  {
   "cell_type": "code",
   "execution_count": 25,
   "metadata": {
    "collapsed": false
   },
   "outputs": [
    {
     "data": {
      "text/html": [
       "&lt;Column name=&apos;halo_mvir&apos; dtype=&apos;float32&apos; length=2&gt;\n",
       "<table>\n",
       "<tr><td>0.0</td></tr>\n",
       "<tr><td>1.0</td></tr>\n",
       "</table>"
      ],
      "text/plain": [
       "<Column name='halo_mvir' dtype='float32' length=2>\n",
       "0.0\n",
       "1.0"
      ]
     },
     "execution_count": 25,
     "metadata": {},
     "output_type": "execute_result"
    }
   ],
   "source": [
    "np.unique(final_result_yao)"
   ]
  },
  {
   "cell_type": "code",
   "execution_count": 26,
   "metadata": {
    "collapsed": false
   },
   "outputs": [
    {
     "data": {
      "text/html": [
       "&lt;Column name=&apos;halo_mvir&apos; dtype=&apos;float32&apos; length=16938982&gt;\n",
       "<table>\n",
       "<tr><td>0.0</td></tr>\n",
       "<tr><td>1.49014e-08</td></tr>\n",
       "<tr><td>1.49016e-08</td></tr>\n",
       "<tr><td>1.49017e-08</td></tr>\n",
       "<tr><td>1.49018e-08</td></tr>\n",
       "<tr><td>1.49021e-08</td></tr>\n",
       "<tr><td>1.49022e-08</td></tr>\n",
       "<tr><td>1.49023e-08</td></tr>\n",
       "<tr><td>1.49023e-08</td></tr>\n",
       "<tr><td>1.49024e-08</td></tr>\n",
       "<tr><td>1.49025e-08</td></tr>\n",
       "<tr><td>1.49027e-08</td></tr>\n",
       "<tr><td>...</td></tr>\n",
       "<tr><td>0.999999</td></tr>\n",
       "<tr><td>0.999999</td></tr>\n",
       "<tr><td>0.999999</td></tr>\n",
       "<tr><td>1.0</td></tr>\n",
       "<tr><td>1.0</td></tr>\n",
       "<tr><td>1.0</td></tr>\n",
       "<tr><td>1.0</td></tr>\n",
       "<tr><td>1.0</td></tr>\n",
       "<tr><td>1.0</td></tr>\n",
       "<tr><td>1.0</td></tr>\n",
       "<tr><td>1.0</td></tr>\n",
       "<tr><td>1.0</td></tr>\n",
       "</table>"
      ],
      "text/plain": [
       "<Column name='halo_mvir' dtype='float32' length=16938982>\n",
       "        0.0\n",
       "1.49014e-08\n",
       "1.49016e-08\n",
       "1.49017e-08\n",
       "1.49018e-08\n",
       "1.49021e-08\n",
       "1.49022e-08\n",
       "1.49023e-08\n",
       "1.49023e-08\n",
       "1.49024e-08\n",
       "1.49025e-08\n",
       "1.49027e-08\n",
       "        ...\n",
       "   0.999999\n",
       "   0.999999\n",
       "   0.999999\n",
       "        1.0\n",
       "        1.0\n",
       "        1.0\n",
       "        1.0\n",
       "        1.0\n",
       "        1.0\n",
       "        1.0\n",
       "        1.0\n",
       "        1.0"
      ]
     },
     "execution_count": 26,
     "metadata": {},
     "output_type": "execute_result"
    }
   ],
   "source": [
    "np.unique(final_result_percentile)"
   ]
  },
  {
   "cell_type": "code",
   "execution_count": 27,
   "metadata": {
    "collapsed": false
   },
   "outputs": [
    {
     "data": {
      "text/plain": [
       "<matplotlib.text.Text at 0x7ff6e5772f50>"
      ]
     },
     "execution_count": 27,
     "metadata": {},
     "output_type": "execute_result"
    },
    {
     "data": {
      "image/png": "[encoded data removed]",
      "text/plain": [
       "<matplotlib.figure.Figure at 0x7ff6e57ef850>"
      ]
     },
     "metadata": {},
     "output_type": "display_data"
    }
   ],
   "source": [
    "fig = plt.figure(figsize = (12.5,10))\n",
    "#plt.plot(prim_haloprop_bins[bin_slice][sorted_idxs], baseline_result[bin_slice][sorted_idxs])\n",
    "ax = sns.boxplot(x = prim_haloprop_bins[bin_slice], y = final_result_yao[bin_slice], palette=pal)\n",
    "sns.stripplot(x = prim_haloprop_bins[bin_slice][random_idxs], y = final_result_yao[bin_slice][random_idxs],\n",
    "              jitter=True, size=4, color=\".3\", linewidth=0)\n",
    "sns.plt.title('Yao Percentile HOD Boxplot Central Occupation')\n",
    "sns.plt.xlabel('Halo Mass Bin #')\n",
    "sns.plt.ylabel('Halo Occupation')"
   ]
  },
  {
   "cell_type": "code",
   "execution_count": null,
   "metadata": {
    "collapsed": true
   },
   "outputs": [],
   "source": []
  }
 ],
 "metadata": {
  "kernelspec": {
   "display_name": "Python [conda env:hodemulator]",
   "language": "python",
   "name": "conda-env-hodemulator-py"
  },
  "language_info": {
   "codemirror_mode": {
    "name": "ipython",
    "version": 2
   },
   "file_extension": ".py",
   "mimetype": "text/x-python",
   "name": "python",
   "nbconvert_exporter": "python",
   "pygments_lexer": "ipython2",
   "version": "2.7.13"
  }
 },
 "nbformat": 4,
 "nbformat_minor": 0
}
