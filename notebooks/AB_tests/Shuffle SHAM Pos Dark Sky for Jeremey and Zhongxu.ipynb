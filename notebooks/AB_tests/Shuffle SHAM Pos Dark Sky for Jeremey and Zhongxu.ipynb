{
 "cells": [
  {
   "cell_type": "markdown",
   "metadata": {},
   "source": [
    "Change the positions of the galaxies in a SHAM to be shuffled then NFW-distributed, instead of on the subhalos. \n",
    "\n",
    "Shuffling procedure is as followed, from Jeremey\n",
    "\n",
    "procedure:\n",
    "\n",
    "take a bin in halo mass (small bins, like 0.1dex wide). (this is all halos, regardless of whether they have a galaxy in them or not). take all the centrals and put them in a list. take all the satellites and put them in a separate list.\n",
    "\n",
    "randomly assign the centrals to all the halos in the bin.\n",
    "\n",
    "randomly assign each satellite to a halo in the bin (repeat until all satellites are gone. this should preserve poisson distribution of satellite occupation). when assigning a satellite to a halo, preserve the position of the satellite and velocity of the satellite relative to the original host halo. ie, your list of satllites has dx, dy, dz, and dvx, dvy, dvz, then you add x, y, z, and vx, vy, vz of the new halo to those quantities."
   ]
  },
  {
   "cell_type": "code",
   "execution_count": 15,
   "metadata": {
    "collapsed": false
   },
   "outputs": [],
   "source": [
    "import numpy as np\n",
    "import astropy\n",
    "from itertools import izip\n",
    "from halotools.utils.table_utils import compute_conditional_percentiles\n",
    "from halotools.utils import *"
   ]
  },
  {
   "cell_type": "code",
   "execution_count": 16,
   "metadata": {
    "collapsed": true
   },
   "outputs": [],
   "source": [
    "from halotools.mock_observables import tpcf"
   ]
  },
  {
   "cell_type": "code",
   "execution_count": 17,
   "metadata": {
    "collapsed": true
   },
   "outputs": [],
   "source": [
    "from matplotlib import pyplot as plt\n",
    "%matplotlib inline\n",
    "import seaborn as sns\n",
    "sns.set()"
   ]
  },
  {
   "cell_type": "raw",
   "metadata": {
    "collapsed": false
   },
   "source": [
    "Lbox = 1000.0\n",
    "#catalog = np.loadtxt('ab_sham_hod_data_cut.npy')\n",
    "ab_property = 'halo_vmax@mpeak'\n",
    "catalog = astropy.table.Table.read('../catalog_ab_%s.hdf5'%ab_property, format = 'hdf5')"
   ]
  },
  {
   "cell_type": "code",
   "execution_count": 18,
   "metadata": {
    "collapsed": false
   },
   "outputs": [],
   "source": [
    "Lbox = 1000.0\n",
    "#catalog = np.loadtxt('ab_sham_hod_data_cut.npy')\n",
    "ab_property = 'halo_vmax@mpeak'\n",
    "sh_catalog = astropy.table.Table.read('../catalog_ab_%s_shuffled.hdf5'%ab_property, format = 'hdf5')\n",
    "catalog = astropy.table.Table.read('../catalog_ab_%s.hdf5'%ab_property, format = 'hdf5')"
   ]
  },
  {
   "cell_type": "code",
   "execution_count": 34,
   "metadata": {
    "collapsed": false
   },
   "outputs": [
    {
     "data": {
      "text/plain": [
       "['halo_upid',\n",
       " 'halo_y',\n",
       " 'halo_x',\n",
       " 'halo_z',\n",
       " 'halo_vmax@mpeak',\n",
       " 'halo_rvir',\n",
       " 'halo_mpeak',\n",
       " 'halo_id',\n",
       " 'halo_vx',\n",
       " 'halo_vy',\n",
       " 'halo_vz',\n",
       " 'halo_rs',\n",
       " 'halo_mvir',\n",
       " 'halo_nfw_conc',\n",
       " 'halo_hostid',\n",
       " 'halo_mvir_host_halo',\n",
       " 'gal_smass']"
      ]
     },
     "execution_count": 34,
     "metadata": {},
     "output_type": "execute_result"
    }
   ],
   "source": [
    "catalog.colnames"
   ]
  },
  {
   "cell_type": "code",
   "execution_count": 20,
   "metadata": {
    "collapsed": true
   },
   "outputs": [],
   "source": [
    "from halotools.mock_observables import tpcf"
   ]
  },
  {
   "cell_type": "code",
   "execution_count": 42,
   "metadata": {
    "collapsed": true
   },
   "outputs": [],
   "source": [
    "PMASS = 7.62293e+07"
   ]
  },
  {
   "cell_type": "code",
   "execution_count": 21,
   "metadata": {
    "collapsed": false
   },
   "outputs": [
    {
     "name": "stdout",
     "output_type": "stream",
     "text": [
      "95969198\n"
     ]
    }
   ],
   "source": [
    "nd = 4.2e-4 #nd of final cat \n",
    "n_obj_needed = int(nd*(Lbox**3))\n",
    "sort_idxs = np.argsort(catalog['gal_smass'])\n",
    "cut_catalog = catalog[sort_idxs[:n_obj_needed]]\n",
    "\n",
    "print len(catalog)"
   ]
  },
  {
   "cell_type": "code",
   "execution_count": 35,
   "metadata": {
    "collapsed": false
   },
   "outputs": [
    {
     "name": "stdout",
     "output_type": "stream",
     "text": [
      "9.6885\n"
     ]
    }
   ],
   "source": [
    "print np.min(np.log10(catalog['halo_mvir_host_halo']))"
   ]
  },
  {
   "cell_type": "code",
   "execution_count": 37,
   "metadata": {
    "collapsed": false
   },
   "outputs": [
    {
     "name": "stdout",
     "output_type": "stream",
     "text": [
      "10.4666\n"
     ]
    }
   ],
   "source": [
    "print np.min(np.log10(cut_catalog['halo_mvir_host_halo']))"
   ]
  },
  {
   "cell_type": "code",
   "execution_count": 59,
   "metadata": {
    "collapsed": false
   },
   "outputs": [
    {
     "name": "stdout",
     "output_type": "stream",
     "text": [
      "0.988008058586\n",
      "0.0\n"
     ]
    }
   ],
   "source": [
    "print np.sum(np.isnan(catalog['gal_smass']))*1.0/len(catalog)\n",
    "print np.sum(np.isnan(cut_catalog['gal_smass']))*1.0/len(cut_catalog)"
   ]
  },
  {
   "cell_type": "code",
   "execution_count": 57,
   "metadata": {
    "collapsed": false
   },
   "outputs": [
    {
     "name": "stdout",
     "output_type": "stream",
     "text": [
      "0.500190696602\n",
      "0.998457142857\n"
     ]
    }
   ],
   "source": [
    "N = 1e3\n",
    "print np.sum(np.log10(catalog['halo_mvir'])> np.log10(N*PMASS))*1.0/len(catalog)\n",
    "print np.sum(np.log10(cut_catalog['halo_mvir'])> np.log10(N*PMASS))*1.0/len(cut_catalog)"
   ]
  },
  {
   "cell_type": "code",
   "execution_count": 55,
   "metadata": {
    "collapsed": false
   },
   "outputs": [
    {
     "name": "stdout",
     "output_type": "stream",
     "text": [
      "11.8821219317\n"
     ]
    }
   ],
   "source": [
    "N = 1e4 #host halo\n",
    "print np.log10(N*PMASS)"
   ]
  },
  {
   "cell_type": "code",
   "execution_count": 27,
   "metadata": {
    "collapsed": false
   },
   "outputs": [
    {
     "data": {
      "text/plain": [
       "0.98800805858563079"
      ]
     },
     "execution_count": 27,
     "metadata": {},
     "output_type": "execute_result"
    }
   ],
   "source": [
    "np.sum(np.isnan(catalog['gal_smass']))/(1.0*len(catalog))"
   ]
  },
  {
   "cell_type": "code",
   "execution_count": 32,
   "metadata": {
    "collapsed": false
   },
   "outputs": [
    {
     "data": {
      "text/plain": [
       "0.9956235958124814"
      ]
     },
     "execution_count": 32,
     "metadata": {},
     "output_type": "execute_result"
    }
   ],
   "source": [
    "1-n_obj_needed*1.0/len(catalog)"
   ]
  },
  {
   "cell_type": "code",
   "execution_count": 29,
   "metadata": {
    "collapsed": false
   },
   "outputs": [
    {
     "data": {
      "text/plain": [
       "(array([  9.18000000e+02,   9.91000000e+02,   5.90000000e+01,\n",
       "          1.13500000e+03,   2.91800000e+03,   5.94800000e+03,\n",
       "          1.80710000e+04,   5.95980000e+04,   1.14033000e+05,\n",
       "          2.16329000e+05]),\n",
       " array([ 10.00875948,  10.11532879,  10.22189809,  10.3284674 ,\n",
       "         10.43503671,  10.54160601,  10.64817532,  10.75474463,\n",
       "         10.86131394,  10.96788324,  11.07445255]),\n",
       " <a list of 10 Patch objects>)"
      ]
     },
     "execution_count": 29,
     "metadata": {},
     "output_type": "execute_result"
    },
    {
     "data": {
      "image/png": "[encoded data removed]",
      "text/plain": [
       "<matplotlib.figure.Figure at 0x7fe8c66a4290>"
      ]
     },
     "metadata": {},
     "output_type": "display_data"
    }
   ],
   "source": [
    "plt.hist(cut_catalog['gal_smass'])"
   ]
  },
  {
   "cell_type": "code",
   "execution_count": 7,
   "metadata": {
    "collapsed": false
   },
   "outputs": [],
   "source": [
    "rbins = np.logspace(-1, 1.6, 18)\n",
    "xi = tpcf(np.c_[catalog['halo_x'], catalog['halo_y'], catalog['halo_z']],rbins, period=Lbox )\n",
    "sh_xi = tpcf(np.c_[sh_catalog['halo_x'], sh_catalog['halo_y'], sh_catalog['halo_z']],rbins, period=Lbox )"
   ]
  },
  {
   "cell_type": "code",
   "execution_count": 8,
   "metadata": {
    "collapsed": false
   },
   "outputs": [
    {
     "name": "stdout",
     "output_type": "stream",
     "text": [
      "[  4.80874943e+03   2.42259614e+03   1.20103766e+03   5.98568275e+02\n",
      "   2.60745618e+02   1.01677987e+02   4.19736285e+01   1.95523466e+01\n",
      "   1.02258308e+01   5.87522450e+00   3.40091228e+00   1.91927758e+00\n",
      "   1.07193372e+00   5.85641026e-01   3.00545765e-01   1.46694083e-01\n",
      "   6.29470435e-02]\n",
      "[  4.75969979e+03   2.42961815e+03   1.18935385e+03   5.91050177e+02\n",
      "   2.60028911e+02   1.01831894e+02   4.17086266e+01   1.93981973e+01\n",
      "   1.02877413e+01   5.83752915e+00   3.37164758e+00   1.91109642e+00\n",
      "   1.06754559e+00   5.81531936e-01   2.99723727e-01   1.46308219e-01\n",
      "   6.27898046e-02]\n"
     ]
    }
   ],
   "source": [
    "print xi\n",
    "print sh_xi"
   ]
  },
  {
   "cell_type": "code",
   "execution_count": 9,
   "metadata": {
    "collapsed": false
   },
   "outputs": [
    {
     "data": {
      "image/png": "[encoded data removed]",
      "text/plain": [
       "<matplotlib.figure.Figure at 0x7fea9fa0e610>"
      ]
     },
     "metadata": {},
     "output_type": "display_data"
    }
   ],
   "source": [
    "rbc = (rbins[1:]+rbins[:-1])/2\n",
    "plt.plot(rbc, xi/sh_xi)\n",
    "#plt.plot(rbc,sh_xi)\n",
    "plt.xscale('log')"
   ]
  },
  {
   "cell_type": "raw",
   "metadata": {
    "collapsed": true
   },
   "source": [
    "catalog = catalog[catalog['halo_mvir'] > 200*PMASS]"
   ]
  },
  {
   "cell_type": "raw",
   "metadata": {
    "collapsed": false
   },
   "source": [
    "plt.hist(catalog['halo_x'])"
   ]
  },
  {
   "cell_type": "code",
   "execution_count": 5,
   "metadata": {
    "collapsed": false
   },
   "outputs": [
    {
     "data": {
      "text/plain": [
       "['halo_upid',\n",
       " 'halo_y',\n",
       " 'halo_x',\n",
       " 'halo_z',\n",
       " 'halo_vmax@mpeak',\n",
       " 'halo_rvir',\n",
       " 'halo_mpeak',\n",
       " 'halo_id',\n",
       " 'halo_vx',\n",
       " 'halo_vy',\n",
       " 'halo_vz',\n",
       " 'halo_rs',\n",
       " 'halo_mvir',\n",
       " 'halo_nfw_conc',\n",
       " 'halo_hostid',\n",
       " 'halo_mvir_host_halo',\n",
       " 'gal_smass']"
      ]
     },
     "execution_count": 5,
     "metadata": {},
     "output_type": "execute_result"
    }
   ],
   "source": [
    "catalog.colnames"
   ]
  },
  {
   "cell_type": "code",
   "execution_count": 6,
   "metadata": {
    "collapsed": false
   },
   "outputs": [
    {
     "name": "stdout",
     "output_type": "stream",
     "text": [
      "95969198\n"
     ]
    }
   ],
   "source": [
    "print len(catalog)"
   ]
  },
  {
   "cell_type": "raw",
   "metadata": {
    "collapsed": false
   },
   "source": [
    "print np.sum(catalog['halo_mvir_host_halo'])"
   ]
  },
  {
   "cell_type": "code",
   "execution_count": 7,
   "metadata": {
    "collapsed": false
   },
   "outputs": [],
   "source": [
    "add_halo_hostid(catalog, delete_possibly_existing_column=True)"
   ]
  },
  {
   "cell_type": "code",
   "execution_count": 8,
   "metadata": {
    "collapsed": false
   },
   "outputs": [],
   "source": [
    "for prop in ['halo_x', 'halo_y', 'halo_z','halo_vx', 'halo_vy', 'halo_vz', 'halo_nfw_conc', 'halo_rvir']:\n",
    "    broadcast_host_halo_property(catalog, prop, delete_possibly_existing_column=True)"
   ]
  },
  {
   "cell_type": "code",
   "execution_count": 9,
   "metadata": {
    "collapsed": false
   },
   "outputs": [
    {
     "data": {
      "text/plain": [
       "95969198"
      ]
     },
     "execution_count": 9,
     "metadata": {},
     "output_type": "execute_result"
    }
   ],
   "source": [
    "len(catalog)"
   ]
  },
  {
   "cell_type": "code",
   "execution_count": 10,
   "metadata": {
    "collapsed": false
   },
   "outputs": [
    {
     "data": {
      "text/plain": [
       "['halo_upid',\n",
       " 'halo_y',\n",
       " 'halo_x',\n",
       " 'halo_z',\n",
       " 'halo_vmax@mpeak',\n",
       " 'halo_rvir',\n",
       " 'halo_mpeak',\n",
       " 'halo_id',\n",
       " 'halo_vx',\n",
       " 'halo_vy',\n",
       " 'halo_vz',\n",
       " 'halo_rs',\n",
       " 'halo_mvir',\n",
       " 'halo_nfw_conc',\n",
       " 'halo_mvir_host_halo',\n",
       " 'gal_smass',\n",
       " 'halo_hostid',\n",
       " 'halo_x_host_halo',\n",
       " 'halo_y_host_halo',\n",
       " 'halo_z_host_halo',\n",
       " 'halo_vx_host_halo',\n",
       " 'halo_vy_host_halo',\n",
       " 'halo_vz_host_halo',\n",
       " 'halo_nfw_conc_host_halo',\n",
       " 'halo_rvir_host_halo']"
      ]
     },
     "execution_count": 10,
     "metadata": {},
     "output_type": "execute_result"
    }
   ],
   "source": [
    "catalog.colnames"
   ]
  },
  {
   "cell_type": "code",
   "execution_count": 11,
   "metadata": {
    "collapsed": false
   },
   "outputs": [
    {
     "name": "stdout",
     "output_type": "stream",
     "text": [
      "9.68749945068 15.2108903656\n"
     ]
    }
   ],
   "source": [
    "from halotools.utils.table_utils import compute_prim_haloprop_bins\n",
    "from math import ceil\n",
    "min_log_mass = np.log10(np.min(catalog['halo_mvir']))-0.001\n",
    "max_log_mass = np.log10(np.max(catalog['halo_mvir']))+0.001\n",
    "print min_log_mass, max_log_mass\n",
    "dlog10_prim_haloprop = 0.1\n",
    "num_prim_haloprop_bins = (max_log_mass - min_log_mass) / dlog10_prim_haloprop\n",
    "prim_haloprop_bin_boundaries = np.logspace(min_log_mass, max_log_mass,\n",
    "    num=int(ceil(num_prim_haloprop_bins)))\n",
    "\n",
    "prim_haloprop_bins = compute_prim_haloprop_bins(prim_haloprop = catalog['halo_mvir_host_halo'],\\\n",
    "                                                dlog10_prim_haloprop=dlog10_prim_haloprop,\n",
    "                                                prim_haloprop_bin_boundaries = prim_haloprop_bin_boundaries)"
   ]
  },
  {
   "cell_type": "code",
   "execution_count": 12,
   "metadata": {
    "collapsed": false
   },
   "outputs": [],
   "source": [
    "shuffled_pos = np.zeros((len(catalog), 3))\n",
    "shuffled_vel = np.zeros((len(catalog), 3))\n",
    "shuffled_upids = np.zeros((len(catalog)))\n",
    "shuffled_host_mvir = np.zeros((len(catalog)))"
   ]
  },
  {
   "cell_type": "code",
   "execution_count": 13,
   "metadata": {
    "collapsed": false
   },
   "outputs": [],
   "source": [
    "shuffled_mags = np.zeros((len(catalog), 1))\n",
    "#shuffled_mags[:, 0] = catalog['halo_vpeak_mag']\n",
    "#shuffled_mags[:, 1] = catalog['halo_vvir_mag']\n",
    "#shuffled_mags[:, 2] = catalog['halo_alpha_05_mag']"
   ]
  },
  {
   "cell_type": "code",
   "execution_count": 15,
   "metadata": {
    "collapsed": false,
    "scrolled": false
   },
   "outputs": [
    {
     "name": "stdout",
     "output_type": "stream",
     "text": [
      "1\n",
      "2\n",
      "3\n",
      "4\n",
      "5\n",
      "6\n",
      "7\n"
     ]
    },
    {
     "ename": "KeyboardInterrupt",
     "evalue": "",
     "output_type": "error",
     "traceback": [
      "\u001b[1;31m---------------------------------------------------------------------------\u001b[0m",
      "\u001b[1;31mKeyboardInterrupt\u001b[0m                         Traceback (most recent call last)",
      "\u001b[1;32m<ipython-input-15-5e89e9d9b85e>\u001b[0m in \u001b[0;36m<module>\u001b[1;34m()\u001b[0m\n\u001b[0;32m     41\u001b[0m     \u001b[1;31m#print 'lsi', len(satellites_idx)\u001b[0m\u001b[1;33m\u001b[0m\u001b[1;33m\u001b[0m\u001b[0m\n\u001b[0;32m     42\u001b[0m     \u001b[1;32mfor\u001b[0m \u001b[0msat_idx\u001b[0m \u001b[1;32min\u001b[0m \u001b[0msatellites_idx\u001b[0m\u001b[1;33m:\u001b[0m\u001b[1;33m\u001b[0m\u001b[0m\n\u001b[1;32m---> 43\u001b[1;33m         \u001b[0mhost_id\u001b[0m \u001b[1;33m=\u001b[0m \u001b[0mcatalog\u001b[0m\u001b[1;33m[\u001b[0m\u001b[0mindices_of_prim_haloprop_bin\u001b[0m\u001b[1;33m]\u001b[0m\u001b[1;33m[\u001b[0m\u001b[0msat_idx\u001b[0m\u001b[1;33m]\u001b[0m\u001b[1;33m[\u001b[0m\u001b[1;34m'halo_upid'\u001b[0m\u001b[1;33m]\u001b[0m\u001b[1;33m\u001b[0m\u001b[0m\n\u001b[0m\u001b[0;32m     44\u001b[0m \u001b[1;33m\u001b[0m\u001b[0m\n\u001b[0;32m     45\u001b[0m         \u001b[1;32mif\u001b[0m \u001b[0mhost_id\u001b[0m \u001b[1;32min\u001b[0m \u001b[0mhost_map\u001b[0m\u001b[1;33m:\u001b[0m\u001b[1;33m\u001b[0m\u001b[0m\n",
      "\u001b[1;32m/u/ki/swmclau2/.conda/envs/hodemulator/lib/python2.7/site-packages/astropy/table/table.pyc\u001b[0m in \u001b[0;36m__getitem__\u001b[1;34m(self, item)\u001b[0m\n\u001b[0;32m   1229\u001b[0m             \u001b[1;31m# is produced by np.where, as in t[np.where(t['a'] > 2)]\u001b[0m\u001b[1;33m\u001b[0m\u001b[1;33m\u001b[0m\u001b[0m\n\u001b[0;32m   1230\u001b[0m             \u001b[1;31m# For all, a new table is constructed with slice of all columns\u001b[0m\u001b[1;33m\u001b[0m\u001b[1;33m\u001b[0m\u001b[0m\n\u001b[1;32m-> 1231\u001b[1;33m             \u001b[1;32mreturn\u001b[0m \u001b[0mself\u001b[0m\u001b[1;33m.\u001b[0m\u001b[0m_new_from_slice\u001b[0m\u001b[1;33m(\u001b[0m\u001b[0mitem\u001b[0m\u001b[1;33m)\u001b[0m\u001b[1;33m\u001b[0m\u001b[0m\n\u001b[0m\u001b[0;32m   1232\u001b[0m         \u001b[1;32melse\u001b[0m\u001b[1;33m:\u001b[0m\u001b[1;33m\u001b[0m\u001b[0m\n\u001b[0;32m   1233\u001b[0m             raise ValueError('Illegal type {0} for table item access'\n",
      "\u001b[1;32m/u/ki/swmclau2/.conda/envs/hodemulator/lib/python2.7/site-packages/astropy/table/table.pyc\u001b[0m in \u001b[0;36m_new_from_slice\u001b[1;34m(self, slice_)\u001b[0m\n\u001b[0;32m    762\u001b[0m         \u001b[1;32mfor\u001b[0m \u001b[0mcol\u001b[0m \u001b[1;32min\u001b[0m \u001b[0mcols\u001b[0m\u001b[1;33m:\u001b[0m\u001b[1;33m\u001b[0m\u001b[0m\n\u001b[0;32m    763\u001b[0m             \u001b[0mcol\u001b[0m\u001b[1;33m.\u001b[0m\u001b[0minfo\u001b[0m\u001b[1;33m.\u001b[0m\u001b[0m_copy_indices\u001b[0m \u001b[1;33m=\u001b[0m \u001b[0mself\u001b[0m\u001b[1;33m.\u001b[0m\u001b[0m_copy_indices\u001b[0m\u001b[1;33m\u001b[0m\u001b[0m\n\u001b[1;32m--> 764\u001b[1;33m             \u001b[0mnewcol\u001b[0m \u001b[1;33m=\u001b[0m \u001b[0mcol\u001b[0m\u001b[1;33m[\u001b[0m\u001b[0mslice_\u001b[0m\u001b[1;33m]\u001b[0m\u001b[1;33m\u001b[0m\u001b[0m\n\u001b[0m\u001b[0;32m    765\u001b[0m             \u001b[1;32mif\u001b[0m \u001b[0mcol\u001b[0m\u001b[1;33m.\u001b[0m\u001b[0minfo\u001b[0m\u001b[1;33m.\u001b[0m\u001b[0mindices\u001b[0m\u001b[1;33m:\u001b[0m\u001b[1;33m\u001b[0m\u001b[0m\n\u001b[0;32m    766\u001b[0m                 \u001b[0mnewcol\u001b[0m \u001b[1;33m=\u001b[0m \u001b[0mcol\u001b[0m\u001b[1;33m.\u001b[0m\u001b[0minfo\u001b[0m\u001b[1;33m.\u001b[0m\u001b[0mslice_indices\u001b[0m\u001b[1;33m(\u001b[0m\u001b[0mnewcol\u001b[0m\u001b[1;33m,\u001b[0m \u001b[0mslice_\u001b[0m\u001b[1;33m,\u001b[0m \u001b[0mlen\u001b[0m\u001b[1;33m(\u001b[0m\u001b[0mcol\u001b[0m\u001b[1;33m)\u001b[0m\u001b[1;33m)\u001b[0m\u001b[1;33m\u001b[0m\u001b[0m\n",
      "\u001b[1;32mastropy/table/_column_mixins.pyx\u001b[0m in \u001b[0;36mastropy.table._column_mixins._ColumnGetitemShim.__getitem__ (astropy/table/_column_mixins.c:1100)\u001b[1;34m()\u001b[0m\n",
      "\u001b[1;32mastropy/table/_column_mixins.pyx\u001b[0m in \u001b[0;36mastropy.table._column_mixins.base_getitem (astropy/table/_column_mixins.c:992)\u001b[1;34m()\u001b[0m\n",
      "\u001b[1;32mastropy/table/_column_mixins.pyx\u001b[0m in \u001b[0;36mastropy.table._column_mixins.column_getitem (astropy/table/_column_mixins.c:1040)\u001b[1;34m()\u001b[0m\n",
      "\u001b[1;32m/u/ki/swmclau2/.conda/envs/hodemulator/lib/python2.7/site-packages/astropy/table/column.pyc\u001b[0m in \u001b[0;36m__array_finalize__\u001b[1;34m(self, obj)\u001b[0m\n\u001b[0;32m    267\u001b[0m         \u001b[1;32mreturn\u001b[0m \u001b[0mself\u001b[0m\u001b[1;33m.\u001b[0m\u001b[0mdata\u001b[0m\u001b[1;33m.\u001b[0m\u001b[0m__ne__\u001b[0m\u001b[1;33m(\u001b[0m\u001b[0mother\u001b[0m\u001b[1;33m)\u001b[0m\u001b[1;33m\u001b[0m\u001b[0m\n\u001b[0;32m    268\u001b[0m \u001b[1;33m\u001b[0m\u001b[0m\n\u001b[1;32m--> 269\u001b[1;33m     \u001b[1;32mdef\u001b[0m \u001b[0m__array_finalize__\u001b[0m\u001b[1;33m(\u001b[0m\u001b[0mself\u001b[0m\u001b[1;33m,\u001b[0m \u001b[0mobj\u001b[0m\u001b[1;33m)\u001b[0m\u001b[1;33m:\u001b[0m\u001b[1;33m\u001b[0m\u001b[0m\n\u001b[0m\u001b[0;32m    270\u001b[0m         \u001b[1;31m# Obj will be none for direct call to Column() creator\u001b[0m\u001b[1;33m\u001b[0m\u001b[1;33m\u001b[0m\u001b[0m\n\u001b[0;32m    271\u001b[0m         \u001b[1;32mif\u001b[0m \u001b[0mobj\u001b[0m \u001b[1;32mis\u001b[0m \u001b[0mNone\u001b[0m\u001b[1;33m:\u001b[0m\u001b[1;33m\u001b[0m\u001b[0m\n",
      "\u001b[1;31mKeyboardInterrupt\u001b[0m: "
     ]
    }
   ],
   "source": [
    "bins_in_halocat = set(prim_haloprop_bins)\n",
    "\n",
    "for ibin in bins_in_halocat:\n",
    "    print ibin\n",
    "    #if ibin > 25:\n",
    "    #    continue\n",
    "    indices_of_prim_haloprop_bin = np.where(prim_haloprop_bins == ibin)[0]\n",
    "    \n",
    "    centrals_idx = np.where(catalog[indices_of_prim_haloprop_bin]['halo_upid'] == -1)[0]\n",
    "    n_centrals = len(centrals_idx)\n",
    "    satellites_idx = np.where(catalog[indices_of_prim_haloprop_bin]['halo_upid']!=-1)[0]\n",
    "    n_satellites = len(satellites_idx)\n",
    "    \n",
    "    if centrals_idx.shape[0]!=0:\n",
    "        rand_central_idxs = np.random.choice(indices_of_prim_haloprop_bin[centrals_idx], size = n_centrals, replace = False)\n",
    "    else:\n",
    "        rand_central_idxs = np.array([])\n",
    "        \n",
    "    shuffled_mags[indices_of_prim_haloprop_bin[centrals_idx],0]= \\\n",
    "            catalog[rand_central_idxs]['gal_smass']\n",
    "\n",
    "    shuffled_mags[indices_of_prim_haloprop_bin[satellites_idx],0] = \\\n",
    "            catalog[indices_of_prim_haloprop_bin[satellites_idx]]['gal_smass']\n",
    "    #Create second rand_central_idxs, Iterate through satellite hosts and assign them when they match. \n",
    "                \n",
    "    for idx, coord in enumerate(['x','y','z']):\n",
    "        # don't need to shuffle positions cu we've shuffled mags for centrals\n",
    "        shuffled_pos[indices_of_prim_haloprop_bin[centrals_idx], idx] = \\\n",
    "                catalog[indices_of_prim_haloprop_bin[centrals_idx]]['halo_'+coord]\n",
    "            \n",
    "        shuffled_vel[indices_of_prim_haloprop_bin[centrals_idx], idx] = \\\n",
    "                catalog[indices_of_prim_haloprop_bin[centrals_idx]]['halo_v'+coord]\n",
    "            \n",
    "    shuffled_upids[indices_of_prim_haloprop_bin[centrals_idx]] = -1\n",
    "    \n",
    "    shuffled_host_mvir[indices_of_prim_haloprop_bin[centrals_idx]] = \\\n",
    "            catalog[indices_of_prim_haloprop_bin[centrals_idx]]['halo_mvir']\n",
    "        \n",
    "    hosts_id, first_sat_idxs = np.unique(catalog[indices_of_prim_haloprop_bin[satellites_idx]]['halo_upid'], return_index=True)\n",
    "    shuffled_idxs = np.random.permutation(hosts_id.shape[0])\n",
    "    shuffled_hosts_id = hosts_id[shuffled_idxs]\n",
    "    shuffled_sat_idxs = first_sat_idxs[shuffled_idxs]\n",
    "    shuffled_arrays_idx = 0\n",
    "    host_map = dict() #maps the current host id to the index of a new host id. \n",
    "    #the host_id -> idx map is easier than the host_id -> host_id map\n",
    "    #print 'lsi', len(satellites_idx)\n",
    "    for sat_idx in satellites_idx:\n",
    "        host_id = catalog[indices_of_prim_haloprop_bin][sat_idx]['halo_upid']\n",
    "        \n",
    "        if host_id in host_map:\n",
    "            new_host_id, hosts_old_satellite_idx = host_map[host_id]\n",
    "        else:\n",
    "            new_host_id = shuffled_hosts_id[shuffled_arrays_idx]\n",
    "            hosts_old_satellite_idx = shuffled_sat_idxs[shuffled_arrays_idx]\n",
    "            host_map[host_id] = (new_host_id, hosts_old_satellite_idx)\n",
    "            shuffled_arrays_idx+=1\n",
    "            \n",
    "        shuffled_upids[indices_of_prim_haloprop_bin[sat_idx]] = new_host_id\n",
    "        \n",
    "        shuffled_host_mvir[indices_of_prim_haloprop_bin[sat_idx]] = \\\n",
    "                catalog[indices_of_prim_haloprop_bin[satellites_idx]][hosts_old_satellite_idx]['halo_mvir_host_halo']\n",
    "        \n",
    "        for idx, coord in enumerate(['x','y','z']):\n",
    "            shuffled_pos[indices_of_prim_haloprop_bin[sat_idx], idx] = \\\n",
    "                    (catalog[indices_of_prim_haloprop_bin[sat_idx]]['halo_'+coord] -\\\n",
    "                    catalog[indices_of_prim_haloprop_bin[sat_idx]]['halo_'+coord+'_host_halo']+\\\n",
    "                    catalog[indices_of_prim_haloprop_bin[satellites_idx]][hosts_old_satellite_idx]['halo_'+coord+'_host_halo'])%Lbox\n",
    "            #print catalog[indices_of_prim_haloprop_bin[sat_idx]]['halo_'+coord]\n",
    "            #print catalog[indices_of_prim_haloprop_bin[sat_idx]]['halo_'+coord+'_host_halo']\n",
    "            #print catalog[indices_of_prim_haloprop_bin[satellites_idx]][hosts_old_satellite_idx]['halo_'+coord+'_host_halo']\n",
    "            #print '*'*50       \n",
    "            shuffled_vel[indices_of_prim_haloprop_bin[sat_idx], idx] = \\\n",
    "                    (catalog[indices_of_prim_haloprop_bin[sat_idx]]['halo_v'+coord] -\\\n",
    "                    catalog[indices_of_prim_haloprop_bin[sat_idx]]['halo_v'+coord+'_host_halo']+\\\n",
    "                    catalog[indices_of_prim_haloprop_bin[satellites_idx][hosts_old_satellite_idx]]['halo_v'+coord+'_host_halo'])\n",
    "                "
   ]
  },
  {
   "cell_type": "code",
   "execution_count": null,
   "metadata": {
    "collapsed": false
   },
   "outputs": [],
   "source": [
    "print len(visited_idxs)\n",
    "print len(catalog)\n",
    "print len(catalog) - len(visited_idxs)"
   ]
  },
  {
   "cell_type": "code",
   "execution_count": null,
   "metadata": {
    "collapsed": false
   },
   "outputs": [],
   "source": [
    "print len(visited_idxs2)\n",
    "print len(catalog)\n",
    "print len(catalog) - len(visited_idxs2)"
   ]
  },
  {
   "cell_type": "code",
   "execution_count": null,
   "metadata": {
    "collapsed": false
   },
   "outputs": [],
   "source": [
    "plt.plot(rbc, sham_xi/shuffled_xi)\n",
    "plt.xscale('log')"
   ]
  },
  {
   "cell_type": "code",
   "execution_count": null,
   "metadata": {
    "collapsed": true
   },
   "outputs": [],
   "source": [
    "catalog['gal_smass'] = shuffled_mags[:,0]\n",
    "catalog['halo_x'] = shuffled_pos[:,0]\n",
    "catalog['halo_y'] = shuffled_pos[:,1]\n",
    "catalog['halo_z'] = shuffled_pos[:,2]\n",
    "catalog['halo_vx'] = shuffled_vel[:,0]\n",
    "catalog['halo_vy'] = shuffled_vel[:,1]\n",
    "catalog['halo_vz'] = shuffled_vel[:,2]\n",
    "catalog['halo_upid']=shuffled_upids[:]\n",
    "catalog['halo_mvir_host_halo'] = shuffled_host_mvir[:]"
   ]
  },
  {
   "cell_type": "code",
   "execution_count": null,
   "metadata": {
    "collapsed": true
   },
   "outputs": [],
   "source": [
    "del catalog['halo_vmax@mpeak']\n",
    "del catalog['halo_rvir']\n",
    "del catalog['halo_mpeak']\n",
    "del catalog['halo_id']\n",
    "del catalog['halo_rs']\n",
    "del catalog['halo_nfw_conc']\n",
    "del catalog['halo_hostid']\n",
    "del catalog['halo_mvir_host_halo']\n",
    "del catalog['halo_x_host_halo']\n",
    "del catalog['halo_y_host_halo']\n",
    "del catalog['halo_z_host_halo']\n",
    "del catalog['halo_vx_host_halo']\n",
    "del catalog['halo_vy_host_halo']\n",
    "del catalog['halo_vz_host_halo']\n",
    "del catalog['halo_rvir_host_halo']\n",
    "del catalog['halo_nfw_conc_host_halo']"
   ]
  },
  {
   "cell_type": "code",
   "execution_count": null,
   "metadata": {
    "collapsed": true
   },
   "outputs": [],
   "source": [
    "nd = 4.2e-4 #nd of final cat \n",
    "n_obj_needed = int(nd*(1000.0**3))\n",
    "sort_idxs = np.argsort(catalog['gal_smass'])\n",
    "catalog = catalog[sort_idxs[:n_obj_needed]]"
   ]
  },
  {
   "cell_type": "code",
   "execution_count": null,
   "metadata": {
    "collapsed": false
   },
   "outputs": [],
   "source": [
    "catalog.colnames"
   ]
  },
  {
   "cell_type": "code",
   "execution_count": null,
   "metadata": {
    "collapsed": true
   },
   "outputs": [],
   "source": [
    "catalog.write('../catalog_ab_%s_shuffled.hdf5'%ab_property,\n",
    "              format = 'hdf5', path = '../catalog_ab_%s_shuffled.hdf5'%ab_property, overwrite=True)"
   ]
  },
  {
   "cell_type": "code",
   "execution_count": null,
   "metadata": {
    "collapsed": false
   },
   "outputs": [],
   "source": [
    "'catalog_ab_%s_shuffled.hdf5'%ab_property"
   ]
  },
  {
   "cell_type": "code",
   "execution_count": null,
   "metadata": {
    "collapsed": false
   },
   "outputs": [],
   "source": [
    "%%bash\n",
    "ls ../*.hdf5\n",
    "cd ..; pwd; cd -"
   ]
  },
  {
   "cell_type": "code",
   "execution_count": null,
   "metadata": {
    "collapsed": false
   },
   "outputs": [],
   "source": [
    "%%bash\n",
    "ls *.ipynb"
   ]
  },
  {
   "cell_type": "code",
   "execution_count": null,
   "metadata": {
    "collapsed": true
   },
   "outputs": [],
   "source": []
  }
 ],
 "metadata": {
  "kernelspec": {
   "display_name": "Python [conda env:hodemulator]",
   "language": "python",
   "name": "conda-env-hodemulator-py"
  },
  "language_info": {
   "codemirror_mode": {
    "name": "ipython",
    "version": 2
   },
   "file_extension": ".py",
   "mimetype": "text/x-python",
   "name": "python",
   "nbconvert_exporter": "python",
   "pygments_lexer": "ipython2",
   "version": "2.7.13"
  }
 },
 "nbformat": 4,
 "nbformat_minor": 0
}
