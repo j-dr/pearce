{
 "cells": [
  {
   "cell_type": "code",
   "execution_count": 24,
   "metadata": {
    "collapsed": false
   },
   "outputs": [],
   "source": [
    "import matplotlib\n",
    "#matplotlib.use('Agg')\n",
    "from matplotlib import pyplot as plt\n",
    "%matplotlib inline\n",
    "import seaborn as sns\n",
    "sns.set()"
   ]
  },
  {
   "cell_type": "code",
   "execution_count": 25,
   "metadata": {
    "collapsed": false
   },
   "outputs": [],
   "source": [
    "import numpy as np\n",
    "from chainconsumer import ChainConsumer\n",
    "#from corner import corner"
   ]
  },
  {
   "cell_type": "code",
   "execution_count": 26,
   "metadata": {
    "collapsed": false
   },
   "outputs": [
    {
     "name": "stdout",
     "output_type": "stream",
     "text": [
      "-rw-r--r-- 1 swmclau2 des     119007 Oct 30 11:43 /u/ki/swmclau2/des/PearceMCMC/20_walkers_5000_steps_chain_cosmo_zheng_xi_fixed_alpha.npy\r\n",
      "-rw-r--r-- 1 swmclau2 des      74007 Oct 30 11:11 /u/ki/swmclau2/des/PearceMCMC/20_walkers_5000_steps_chain_cosmo_zheng_xi_fixed_logM1.npy\r\n",
      "-rw-r--r-- 1 swmclau2 des     281504 Oct 30 11:06 /u/ki/swmclau2/des/PearceMCMC/20_walkers_5000_steps_chain_cosmo_zheng_xi_fixed_H0.npy\r\n",
      "-rw-r--r-- 1 swmclau2 des     471008 Oct 30 10:57 /u/ki/swmclau2/des/PearceMCMC/20_walkers_5000_steps_chain_cosmo_zheng_xi_fixed_hod.npy\r\n",
      "-rw-r--r-- 1 swmclau2 des    1760034 Oct 30 10:24 /u/ki/swmclau2/des/PearceMCMC/20_walkers_500_steps_chain_cosmo_zheng_xi_fixed_hod.npy\r\n",
      "-rw-r--r-- 1 swmclau2 des    1000030 Oct 30 10:17 /u/ki/swmclau2/des/PearceMCMC/20_walkers_500_steps_chain_cosmo_zheng_xi_fixed_cosmo.npy\r\n",
      "-rw-r--r-- 1 swmclau2 des 1033800030 Oct 30 09:22 /u/ki/swmclau2/des/PearceMCMC/1000_walkers_20000_steps_chain_cosmo_zheng_xi_fixed_cosmo.npy\r\n",
      "-rw-r--r-- 1 swmclau2 des 3359748063 Oct 29 05:28 /u/ki/swmclau2/des/PearceMCMC/1000_walkers_20000_steps_chain_cosmo_zheng_xi_newhp.npy\r\n",
      "-rw-r--r-- 1 swmclau2 des 2760000063 Oct 22 16:28 /u/ki/swmclau2/des/PearceMCMC/1000_walkers_10000_steps_chain_cosmo_zheng_xi_3.npy\r\n",
      "-rw-r--r-- 1 swmclau2 des 2760000063 Oct 21 22:57 /u/ki/swmclau2/des/PearceMCMC/1000_walkers_10000_steps_chain_cosmo_zheng_xi_2.npy\r\n",
      "-rw-r--r-- 1 swmclau2 des 2760000063 Oct 19 23:50 /u/ki/swmclau2/des/PearceMCMC/1000_walkers_10000_steps_chain_cosmo_zheng_xi.npy\r\n",
      "-rw-r--r-- 1 swmclau2 des  276000063 Oct 18 21:34 /u/ki/swmclau2/des/PearceMCMC/200_walkers_5000_steps_chain_cosmo_zheng_xi.npy\r\n",
      "-rw-r--r-- 1 swmclau2 des   27600063 Oct 18 15:02 /u/ki/swmclau2/des/PearceMCMC/100_walkers_1000_steps_chain_cosmo_zheng_xi.npy\r\n",
      "-rw-r--r-- 1 swmclau2 des    2760063 Oct 18 14:31 /u/ki/swmclau2/des/PearceMCMC/100_walkers_100_steps_chain_cosmo_zheng_xi.npy\r\n"
     ]
    }
   ],
   "source": [
    "! ls -lt /u/ki/swmclau2/des/PearceMCMC/*chain*cosmo*.npy"
   ]
  },
  {
   "cell_type": "code",
   "execution_count": 27,
   "metadata": {
    "collapsed": false
   },
   "outputs": [
    {
     "name": "stdout",
     "output_type": "stream",
     "text": [
      "2.6G\t/u/ki/swmclau2/des/PearceMCMC/1000_walkers_10000_steps_chain_cosmo_zheng_xi.npy\r\n",
      "2.6G\t/u/ki/swmclau2/des/PearceMCMC/1000_walkers_10000_steps_chain_cosmo_zheng_xi_2.npy\r\n",
      "2.6G\t/u/ki/swmclau2/des/PearceMCMC/1000_walkers_10000_steps_chain_cosmo_zheng_xi_3.npy\r\n",
      "987M\t/u/ki/swmclau2/des/PearceMCMC/1000_walkers_20000_steps_chain_cosmo_zheng_xi_fixed_cosmo.npy\r\n",
      "3.2G\t/u/ki/swmclau2/des/PearceMCMC/1000_walkers_20000_steps_chain_cosmo_zheng_xi_newhp.npy\r\n",
      "27M\t/u/ki/swmclau2/des/PearceMCMC/100_walkers_1000_steps_chain_cosmo_zheng_xi.npy\r\n",
      "2.7M\t/u/ki/swmclau2/des/PearceMCMC/100_walkers_100_steps_chain_cosmo_zheng_xi.npy\r\n",
      "264M\t/u/ki/swmclau2/des/PearceMCMC/200_walkers_5000_steps_chain_cosmo_zheng_xi.npy\r\n",
      "276K\t/u/ki/swmclau2/des/PearceMCMC/20_walkers_5000_steps_chain_cosmo_zheng_xi_fixed_H0.npy\r\n",
      "120K\t/u/ki/swmclau2/des/PearceMCMC/20_walkers_5000_steps_chain_cosmo_zheng_xi_fixed_alpha.npy\r\n",
      "464K\t/u/ki/swmclau2/des/PearceMCMC/20_walkers_5000_steps_chain_cosmo_zheng_xi_fixed_hod.npy\r\n",
      "76K\t/u/ki/swmclau2/des/PearceMCMC/20_walkers_5000_steps_chain_cosmo_zheng_xi_fixed_logM1.npy\r\n",
      "984K\t/u/ki/swmclau2/des/PearceMCMC/20_walkers_500_steps_chain_cosmo_zheng_xi_fixed_cosmo.npy\r\n",
      "1.7M\t/u/ki/swmclau2/des/PearceMCMC/20_walkers_500_steps_chain_cosmo_zheng_xi_fixed_hod.npy\r\n"
     ]
    }
   ],
   "source": [
    "! du /u/ki/swmclau2/des/PearceMCMC/*chain*cosmo*.npy -sh"
   ]
  },
  {
   "cell_type": "code",
   "execution_count": 28,
   "metadata": {
    "collapsed": true
   },
   "outputs": [],
   "source": [
    "#fname = 'ab_sham_chain.npy'\n",
    "#fname = '/u/ki/swmclau2/des/PearceMCMC/chain.npy'\n",
    "fname = '/u/ki/swmclau2/des/PearceMCMC/20_walkers_5000_steps_chain_cosmo_zheng_xi_fixed_alpha.npy'"
   ]
  },
  {
   "cell_type": "raw",
   "metadata": {
    "collapsed": false
   },
   "source": [
    "true_vals = np.loadtxt('/u/ki/swmclau2/des/PearceMCMC/100_walkers_1000_truth_shuffled_sham.npy')\n",
    "#print true_vals"
   ]
  },
  {
   "cell_type": "raw",
   "metadata": {
    "collapsed": true
   },
   "source": [
    "vals = []\n",
    "with open(fname) as f:\n",
    "    params = f.readline()[1:]\n",
    "    split_params = params.strip().strip('[]').split(',')\n",
    "    params = []\n",
    "    for p in split_params:\n",
    "        params.append(p.strip().strip(\"'\"))\n",
    "    linestr = ''\n",
    "    linevals = np.zeros((len(params)))\n",
    "    i = 0\n",
    "    for line in f:\n",
    "        linestr+=line.replace('\\n', ' ')\n",
    "        if linestr[-2] == ']': #we have a full actual line now\n",
    "            splitline = linestr.strip().strip('[]').split(' ')\n",
    "            idx = 0\n",
    "            for sl in splitline:\n",
    "                if sl != '' and sl != ' ':\n",
    "                    linevals[idx] = float(sl)\n",
    "                    idx+=1\n",
    "            vals.append(linevals)\n",
    "            linestr = ''\n",
    "            linevals = np.zeros((len(params)))\n",
    "chain = np.array(vals)"
   ]
  },
  {
   "cell_type": "code",
   "execution_count": 29,
   "metadata": {
    "collapsed": false
   },
   "outputs": [],
   "source": [
    "chain = np.genfromtxt(fname)"
   ]
  },
  {
   "cell_type": "code",
   "execution_count": 30,
   "metadata": {
    "collapsed": false
   },
   "outputs": [
    {
     "data": {
      "text/plain": [
       "(4780,)"
      ]
     },
     "execution_count": 30,
     "metadata": {},
     "output_type": "execute_result"
    }
   ],
   "source": [
    "chain.shape"
   ]
  },
  {
   "cell_type": "code",
   "execution_count": 31,
   "metadata": {
    "collapsed": false
   },
   "outputs": [],
   "source": [
    "n_walkers = 20\n",
    "n_params = chain.shape[1] if len(chain.shape) > 1 else 1"
   ]
  },
  {
   "cell_type": "code",
   "execution_count": 32,
   "metadata": {
    "collapsed": false
   },
   "outputs": [
    {
     "name": "stdout",
     "output_type": "stream",
     "text": [
      "(4780,) 239\n"
     ]
    }
   ],
   "source": [
    "#c = chain.reshape((n_walkers, -1, n_params))\n",
    "n_burn = 0\n",
    "chain = chain[n_walkers*n_burn:]#, :]\n",
    "#c = chain.reshape((-1, n_walkers, n_params))\n",
    "\n",
    "#chain = c[:,:, :].reshape((-1, n_params))\n",
    "print chain.shape, chain.shape[0]/n_walkers"
   ]
  },
  {
   "cell_type": "code",
   "execution_count": 33,
   "metadata": {
    "collapsed": false
   },
   "outputs": [
    {
     "name": "stdout",
     "output_type": "stream",
     "text": [
      "0.8109811840431546\n"
     ]
    }
   ],
   "source": [
    "MAP = chain.mean(axis = 0)\n",
    "print MAP"
   ]
  },
  {
   "cell_type": "raw",
   "metadata": {
    "collapsed": false
   },
   "source": [
    "#param_names = [r'$\\log{M_{min}}$', r'$\\mathcal{A}_{cen}$', r'$\\log{M_0}$','$\\log{M_1}$', r'$\\mathcal{A}_{sat}$',\\\n",
    "#               r'$\\sigma_{log{M}}$', r'$\\alpha$']\n",
    "#param_names = [r'$\\log{M_{min}}$',r'$f_c$', r'$\\log{M_0}$',r'$\\sigma_{log{M}}$', r'$\\log{M_1}$', r'$\\alpha$']\n",
    "#param_names = [ r'$\\mathcal{A}_{cen}$', r'$\\mathcal{A}_{sat}$']\n",
    "\n",
    "#param_names = [r'$\\log{M_{min}}$', r'$\\log{M_0}$','$\\log{M_1}$', r'$\\sigma_{log{M}}$', r'$\\alpha$']\n",
    "#param_names = [r'$\\log{M_{min}}$', r'$\\log{M_{lin}}$', r'$\\log{M_0}$','$\\log{M_1}$', r'$f_{cen}$',\\\n",
    "#               r'$\\sigma_{\\log(M)}$', r'$\\alpha$']\n",
    "\n",
    "#param_names = [r'$\\log{M_{min}}$', r'$\\mathcal{A}_{cen}$', r'$\\log{M_0}$','$\\log{M_1}$',r'$\\mathcal{B}_{sat}$',\\\n",
    "#               r'$\\mathcal{A}_{sat}$',r'$\\mathcal{B}_{cen}$', r'$\\sigma_{log{M}}$', r'$\\alpha$']"
   ]
  },
  {
   "cell_type": "raw",
   "metadata": {
    "collapsed": true
   },
   "source": [
    "hod_param_names =  [r'$\\log{M_{min}}$', r'$\\log{M_0}$','$\\log{M_1}$', r'$\\sigma_{log{M}}$', r'$\\alpha$']\n",
    "ab_param_names = [ r'$\\mathcal{A}_{cen}$',r'$\\mathcal{B}_{cen}$', r'$\\mathcal{A}_{sat}$',r'$\\mathcal{B}_{sat}$']"
   ]
  },
  {
   "cell_type": "code",
   "execution_count": 34,
   "metadata": {
    "collapsed": true
   },
   "outputs": [],
   "source": [
    "param_names = [r'$N_{eff}$', r'$\\log(M_0)$',r'$\\log(M_1)$', r'$H_0$',r'$w_0$', r'$\\ln(10A_s)$',  r'$\\Omega_c h^2$',\n",
    "               r'$\\sigma_{\\log M }$', r'$\\alpha$',  r'$n_s$', r'$\\Omega_b h^2$']"
   ]
  },
  {
   "cell_type": "code",
   "execution_count": 35,
   "metadata": {
    "collapsed": true
   },
   "outputs": [],
   "source": [
    "hod_param_names = [r'$\\log(M_1)$',r'$\\log(M_0)$', r'$\\sigma_{\\log M }$',r'$\\alpha$' ]\n",
    "cosmo_param_names = [r'$N_{eff}$', r'$H_0$',r'$w_0$',r'$\\Omega_c h^2$',r'$\\ln(10A_s)$',r'$n_s$', r'$\\Omega_b h^2$']"
   ]
  },
  {
   "cell_type": "code",
   "execution_count": 36,
   "metadata": {
    "collapsed": false
   },
   "outputs": [
    {
     "data": {
      "text/plain": [
       "(4780,)"
      ]
     },
     "execution_count": 36,
     "metadata": {},
     "output_type": "execute_result"
    }
   ],
   "source": [
    "chain.shape"
   ]
  },
  {
   "cell_type": "code",
   "execution_count": 37,
   "metadata": {
    "collapsed": false
   },
   "outputs": [],
   "source": [
    "#fixed some params\n",
    "#param_names = [r'$\\log{M_{min}}$',r'$\\sigma_{log{M}}$',r'$\\log{M_1}$', r'$\\alpha$']#, r'$\\log{M_0}$', r'$\\log{M_1}$', r'$\\alpha$']"
   ]
  },
  {
   "cell_type": "code",
   "execution_count": 38,
   "metadata": {
    "collapsed": false
   },
   "outputs": [
    {
     "data": {
      "text/plain": [
       "<chainconsumer.chain.ChainConsumer at 0x7f83e2fedb90>"
      ]
     },
     "execution_count": 38,
     "metadata": {},
     "output_type": "execute_result"
    }
   ],
   "source": [
    "c = ChainConsumer()\n",
    "c.add_chain(chain, walkers=n_walkers)#, parameters = cosmo_param_names)\n",
    "c.configure(statistics='cumulative')"
   ]
  },
  {
   "cell_type": "code",
   "execution_count": 39,
   "metadata": {
    "collapsed": true
   },
   "outputs": [],
   "source": [
    "#true_vals = np.array([12.9390382,12.51024343,  14.36144524,   0.73766725,  1.06822384])\n",
    "#true_vals = np.array([12.9390382,0.0, 12.51024343,  14.36144524, 0.0,  0.73766725,  1.06822384])"
   ]
  },
  {
   "cell_type": "raw",
   "metadata": {},
   "source": [
    "#true_vals = np.array([true_vals])"
   ]
  },
  {
   "cell_type": "raw",
   "metadata": {
    "collapsed": true
   },
   "source": [
    "emulation_point = [('f_c', 0.233), ('logM0', 12.0), ('sigma_logM', 0.533),\n",
    "                    ('alpha', 1.083),('logM1', 13.5), ('logMmin', 12.233)]\n",
    "#true_vals = np.array([12.233, 12.0, 0.533, 13.5, 1.083])"
   ]
  },
  {
   "cell_type": "code",
   "execution_count": 40,
   "metadata": {
    "collapsed": false
   },
   "outputs": [],
   "source": [
    "from pearce.mocks import cat_dict\n",
    "cosmo_params = {'simname':'testbox', 'boxno': 3, 'realization':0, 'scale_factors':[1.0], 'system': 'long'}\n",
    "cat = cat_dict[cosmo_params['simname']](**cosmo_params)#construct the specified catalog!"
   ]
  },
  {
   "cell_type": "code",
   "execution_count": 41,
   "metadata": {
    "collapsed": false
   },
   "outputs": [
    {
     "name": "stdout",
     "output_type": "stream",
     "text": [
      "{'Neff': 3.7, 'H0': 70.7317, 'w0': -1.13151, 'omch2': 0.12283, 'ln10As': 3.11395, 'ns': 0.953515, 'ombh2': 0.0217629}\n"
     ]
    }
   ],
   "source": [
    "cpv = cat._get_cosmo_param_names_vals()\n",
    "\n",
    "print  {key: val for key, val in zip(cpv[0], cpv[1])}"
   ]
  },
  {
   "cell_type": "code",
   "execution_count": 42,
   "metadata": {
    "collapsed": true
   },
   "outputs": [],
   "source": [
    "#cosmo_true_vals = [0.12283, 0.021762, 3.11395, 0.953515, 70.7317, 3.7, -1.13151]\n",
    "cosmo_true_vals = cpv[1]"
   ]
  },
  {
   "cell_type": "code",
   "execution_count": 43,
   "metadata": {
    "collapsed": true
   },
   "outputs": [],
   "source": [
    "emulation_point = [('logM0', 14.0), ('sigma_logM', 0.2),\n",
    "                    ('alpha', 1.083),('logM1', 13.7)]"
   ]
  },
  {
   "cell_type": "code",
   "execution_count": 44,
   "metadata": {
    "collapsed": true
   },
   "outputs": [],
   "source": [
    "hod_true_vals = [13.7, 14.0, 0.2, 1.083]"
   ]
  },
  {
   "cell_type": "raw",
   "metadata": {
    "collapsed": false
   },
   "source": [
    "fig = c.plotter.plot(figsize=(8,8), parameters = hod_param_names, truth = hod_true_vals)# parameters = [param_names[i] for i in (1, 4)])\n",
    "                    #, truth = true_vals)\n",
    "fig.show()"
   ]
  },
  {
   "cell_type": "raw",
   "metadata": {
    "collapsed": false
   },
   "source": [
    "fig = c.plotter.plot(figsize=(10,10), parameters = cosmo_param_names, truth = cosmo_true_vals)# parameters = [param_names[i] for i in (1, 4)])\n",
    "                    #, truth = true_vals)\n",
    "fig.show()"
   ]
  },
  {
   "cell_type": "code",
   "execution_count": null,
   "metadata": {
    "collapsed": false
   },
   "outputs": [
    {
     "data": {
      "image/png": "[encoded data removed]",
      "text/plain": [
       "<matplotlib.figure.Figure at 0x7f83e2ef9f50>"
      ]
     },
     "metadata": {},
     "output_type": "display_data"
    }
   ],
   "source": [
    "fig = c.plotter.plot(figsize=(6,6), truth = np.array([1.083]))# , parameters = cosmo_param_names, truth = cosmo_true_vals)# parameters = [param_names[i] for i in (1, 4)])\n",
    "                    #, truth = true_vals)\n",
    "fig.show()"
   ]
  },
  {
   "cell_type": "raw",
   "metadata": {
    "collapsed": false
   },
   "source": [
    "fig = c.plotter.plot(figsize=(10,10), parameters=hod_param_names)#, truth = true_vals)# parameters = [param_names[i] for i in (1, 4)])\n",
    "                    #, truth = true_vals)\n",
    "fig.show()"
   ]
  },
  {
   "cell_type": "raw",
   "metadata": {
    "collapsed": false
   },
   "source": [
    "fig = c.plotter.plot(figsize=(10,10), parameters=ab_param_names)#, truth = true_vals)# parameters = [param_names[i] for i in (1, 4)])\n",
    "                    #, truth = true_vals)\n",
    "fig.show()"
   ]
  },
  {
   "cell_type": "raw",
   "metadata": {
    "collapsed": false
   },
   "source": [
    "fig = c.plotter.plot(figsize=(10,10), parameters = [param_names[i] for i in xrange(chain.shape[1]) if i in assembias_cols])\n",
    "fig.show()"
   ]
  },
  {
   "cell_type": "code",
   "execution_count": null,
   "metadata": {
    "collapsed": false,
    "scrolled": false
   },
   "outputs": [
    {
     "ename": "TypeError",
     "evalue": "unsupported operand type(s) for *: 'float' and 'NoneType'",
     "output_type": "error",
     "traceback": [
      "\u001b[1;31m---------------------------------------------------------------------------\u001b[0m",
      "\u001b[1;31mTypeError\u001b[0m                                 Traceback (most recent call last)",
      "\u001b[1;32m<ipython-input-46-2c1c09f9f539>\u001b[0m in \u001b[0;36m<module>\u001b[1;34m()\u001b[0m\n\u001b[0;32m      1\u001b[0m \u001b[1;31m#c.configure(statistics='max')\u001b[0m\u001b[1;33m\u001b[0m\u001b[1;33m\u001b[0m\u001b[0m\n\u001b[1;32m----> 2\u001b[1;33m \u001b[0mfig\u001b[0m \u001b[1;33m=\u001b[0m \u001b[0mc\u001b[0m\u001b[1;33m.\u001b[0m\u001b[0mplotter\u001b[0m\u001b[1;33m.\u001b[0m\u001b[0mplot_distributions\u001b[0m\u001b[1;33m(\u001b[0m\u001b[0mfigsize\u001b[0m\u001b[1;33m=\u001b[0m\u001b[1;33m(\u001b[0m\u001b[1;36m10\u001b[0m\u001b[1;33m,\u001b[0m \u001b[1;36m3\u001b[0m\u001b[1;33m)\u001b[0m \u001b[1;33m,\u001b[0m\u001b[0mparameters\u001b[0m \u001b[1;33m=\u001b[0m \u001b[0mhod_param_names\u001b[0m\u001b[1;33m,\u001b[0m \u001b[0mtruth\u001b[0m \u001b[1;33m=\u001b[0m \u001b[0mhod_true_vals\u001b[0m\u001b[1;33m)\u001b[0m\u001b[1;33m\u001b[0m\u001b[0m\n\u001b[0m\u001b[0;32m      3\u001b[0m \u001b[0mfig\u001b[0m\u001b[1;33m.\u001b[0m\u001b[0mshow\u001b[0m\u001b[1;33m(\u001b[0m\u001b[1;33m)\u001b[0m\u001b[1;33m\u001b[0m\u001b[0m\n",
      "\u001b[1;32m/u/ki/swmclau2/.local/lib/python2.7/site-packages/chainconsumer/plotter.pyc\u001b[0m in \u001b[0;36mplot_distributions\u001b[1;34m(self, parameters, truth, extents, display, filename, chains, col_wrap, figsize)\u001b[0m\n\u001b[0;32m    540\u001b[0m                     \u001b[1;32mif\u001b[0m \u001b[0mmax_val\u001b[0m \u001b[1;32mis\u001b[0m \u001b[0mNone\u001b[0m \u001b[1;32mor\u001b[0m \u001b[0mm\u001b[0m \u001b[1;33m>\u001b[0m \u001b[0mmax_val\u001b[0m\u001b[1;33m:\u001b[0m\u001b[1;33m\u001b[0m\u001b[0m\n\u001b[0;32m    541\u001b[0m                         \u001b[0mmax_val\u001b[0m \u001b[1;33m=\u001b[0m \u001b[0mm\u001b[0m\u001b[1;33m\u001b[0m\u001b[0m\n\u001b[1;32m--> 542\u001b[1;33m             \u001b[0max\u001b[0m\u001b[1;33m.\u001b[0m\u001b[0mset_ylim\u001b[0m\u001b[1;33m(\u001b[0m\u001b[1;36m0\u001b[0m\u001b[1;33m,\u001b[0m \u001b[1;36m1.1\u001b[0m \u001b[1;33m*\u001b[0m \u001b[0mmax_val\u001b[0m\u001b[1;33m)\u001b[0m\u001b[1;33m\u001b[0m\u001b[0m\n\u001b[0m\u001b[0;32m    543\u001b[0m             \u001b[0max\u001b[0m\u001b[1;33m.\u001b[0m\u001b[0mset_xlabel\u001b[0m\u001b[1;33m(\u001b[0m\u001b[0mp\u001b[0m\u001b[1;33m,\u001b[0m \u001b[0mfontsize\u001b[0m\u001b[1;33m=\u001b[0m\u001b[0mlabel_font_size\u001b[0m\u001b[1;33m)\u001b[0m\u001b[1;33m\u001b[0m\u001b[0m\n\u001b[0;32m    544\u001b[0m \u001b[1;33m\u001b[0m\u001b[0m\n",
      "\u001b[1;31mTypeError\u001b[0m: unsupported operand type(s) for *: 'float' and 'NoneType'"
     ]
    },
    {
     "data": {
      "image/png": "[encoded data removed]",
      "text/plain": [
       "<matplotlib.figure.Figure at 0x7f83f2534390>"
      ]
     },
     "metadata": {},
     "output_type": "display_data"
    }
   ],
   "source": [
    "#c.configure(statistics='max')\n",
    "fig = c.plotter.plot_distributions(figsize=(10, 3) ,parameters = hod_param_names, truth = hod_true_vals)\n",
    "fig.show()"
   ]
  },
  {
   "cell_type": "code",
   "execution_count": null,
   "metadata": {
    "collapsed": false,
    "scrolled": false
   },
   "outputs": [],
   "source": [
    "#c.configure(statistics='max')\n",
    "fig = c.plotter.plot_distributions(figsize=(10, 6) , parameters = cosmo_param_names, truth = cosmo_true_vals)\n",
    "fig.show()"
   ]
  },
  {
   "cell_type": "code",
   "execution_count": null,
   "metadata": {
    "collapsed": false
   },
   "outputs": [],
   "source": [
    "gelman_rubin_converged = c.diagnostic.gelman_rubin()\n",
    "print gelman_rubin_converged"
   ]
  },
  {
   "cell_type": "code",
   "execution_count": null,
   "metadata": {
    "collapsed": false
   },
   "outputs": [],
   "source": [
    "np.sqrt(np.diag(c.analysis.get_covariance()[1]))"
   ]
  },
  {
   "cell_type": "code",
   "execution_count": null,
   "metadata": {
    "collapsed": false
   },
   "outputs": [],
   "source": [
    "summary  = c.analysis.get_summary()\n",
    "for key, val in summary.iteritems():\n",
    "    print key, val[1]"
   ]
  },
  {
   "cell_type": "code",
   "execution_count": null,
   "metadata": {
    "collapsed": false
   },
   "outputs": [],
   "source": [
    "MAP = np.array([summary[p][1] for p in param_names])\n",
    "print MAP"
   ]
  },
  {
   "cell_type": "code",
   "execution_count": null,
   "metadata": {
    "collapsed": false
   },
   "outputs": [],
   "source": [
    "print param_names"
   ]
  },
  {
   "cell_type": "code",
   "execution_count": null,
   "metadata": {
    "collapsed": true
   },
   "outputs": [],
   "source": []
  }
 ],
 "metadata": {
  "kernelspec": {
   "display_name": "Python [conda env:hodemulator]",
   "language": "python",
   "name": "conda-env-hodemulator-py"
  },
  "language_info": {
   "codemirror_mode": {
    "name": "ipython",
    "version": 2
   },
   "file_extension": ".py",
   "mimetype": "text/x-python",
   "name": "python",
   "nbconvert_exporter": "python",
   "pygments_lexer": "ipython2",
   "version": "2.7.13"
  }
 },
 "nbformat": 4,
 "nbformat_minor": 0
}
