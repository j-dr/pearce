{
 "cells": [
  {
   "cell_type": "code",
   "execution_count": 500,
   "metadata": {
    "collapsed": false
   },
   "outputs": [],
   "source": [
    "import matplotlib\n",
    "#matplotlib.use('Agg')\n",
    "from matplotlib import pyplot as plt\n",
    "%matplotlib inline\n",
    "import seaborn as sns\n",
    "sns.set()"
   ]
  },
  {
   "cell_type": "code",
   "execution_count": 501,
   "metadata": {
    "collapsed": false
   },
   "outputs": [],
   "source": [
    "import numpy as np\n",
    "from chainconsumer import ChainConsumer\n",
    "#from corner import corner"
   ]
  },
  {
   "cell_type": "code",
   "execution_count": 502,
   "metadata": {
    "collapsed": false
   },
   "outputs": [
    {
     "name": "stdout",
     "output_type": "stream",
     "text": [
      "-rw-r--r-- 1 swmclau2 des  239976034 Nov  4 21:11 /u/ki/swmclau2/des/PearceMCMC/500_walkers_10000_steps_chain_cosmo_zheng_xi_lowmsat_newhp2_fixedHOD.npy\r\n",
      "-rw-r--r-- 1 swmclau2 des   15594063 Nov  4 21:10 /u/ki/swmclau2/des/PearceMCMC/500_walkers_10000_steps_chain_cosmo_zheng_xi_rf.npy\r\n",
      "-rw-r--r-- 1 swmclau2 des  120060063 Nov  4 19:47 /u/ki/swmclau2/des/PearceMCMC/500_walkers_10000_steps_chain_cosmo_zheng_xi_lowmsat_newhp2.npy\r\n",
      "-rw-r--r-- 1 swmclau2 des   61776034 Nov  4 17:01 /u/ki/swmclau2/des/PearceMCMC/500_walkers_10000_steps_chain_cosmo_zheng_xi_lowmsat_newhp_fixedHOD.npy\r\n",
      "-rw-r--r-- 1 swmclau2 des  211830063 Nov  4 15:58 /u/ki/swmclau2/des/PearceMCMC/500_walkers_10000_steps_chain_cosmo_zheng_xi_lowmsat_newhp.npy\r\n",
      "-rw-r--r-- 1 swmclau2 des 1380000063 Nov  2 19:15 /u/ki/swmclau2/des/PearceMCMC/500_walkers_10000_steps_chain_cosmo_zheng_xi_lowmsat.npy\r\n",
      "-rw-r--r-- 1 swmclau2 des   13800063 Nov  2 15:34 /u/ki/swmclau2/des/PearceMCMC/500_walkers_100_steps_chain_cosmo_zheng_xi_lowmsat.npy\r\n",
      "-rw-r--r-- 1 swmclau2 des         63 Nov  2 13:40 /u/ki/swmclau2/des/PearceMCMC/1000_walkers_50000_steps_chain_cosmo_zheng_xi_rf.npy\r\n",
      "-rw-r--r-- 1 swmclau2 des     441663 Nov  2 11:40 /u/ki/swmclau2/des/PearceMCMC/50_walkers_500_steps_chain_cosmo_zheng_xi_rf.npy\r\n",
      "-rw-r--r-- 1 swmclau2 des 8236668063 Nov  1 02:30 /u/ki/swmclau2/des/PearceMCMC/1000_walkers_50000_steps_chain_cosmo_zheng_xi.npy\r\n",
      "-rw-r--r-- 1 swmclau2 des   23566434 Oct 30 23:50 /u/ki/swmclau2/des/PearceMCMC/100_walkers_5000_steps_chain_cosmo_zheng_xi_fixed_hod.npy\r\n",
      "-rw-r--r-- 1 swmclau2 des    4320030 Oct 30 22:27 /u/ki/swmclau2/des/PearceMCMC/100_walkers_5000_steps_chain_cosmo_zheng_xi_fixed_cosmo.npy\r\n",
      "-rw-r--r-- 1 swmclau2 des     425007 Oct 30 21:39 /u/ki/swmclau2/des/PearceMCMC/20_walkers_5000_steps_chain_cosmo_zheng_xi_fixed_logM1.npy\r\n",
      "-rw-r--r-- 1 swmclau2 des    1024007 Oct 30 20:30 /u/ki/swmclau2/des/PearceMCMC/20_walkers_5000_steps_chain_cosmo_zheng_xi_fixed_alpha.npy\r\n",
      "-rw-r--r-- 1 swmclau2 des     281504 Oct 30 11:06 /u/ki/swmclau2/des/PearceMCMC/20_walkers_5000_steps_chain_cosmo_zheng_xi_fixed_H0.npy\r\n",
      "-rw-r--r-- 1 swmclau2 des     471008 Oct 30 10:57 /u/ki/swmclau2/des/PearceMCMC/20_walkers_5000_steps_chain_cosmo_zheng_xi_fixed_hod.npy\r\n",
      "-rw-r--r-- 1 swmclau2 des    1760034 Oct 30 10:24 /u/ki/swmclau2/des/PearceMCMC/20_walkers_500_steps_chain_cosmo_zheng_xi_fixed_hod.npy\r\n",
      "-rw-r--r-- 1 swmclau2 des    1000030 Oct 30 10:17 /u/ki/swmclau2/des/PearceMCMC/20_walkers_500_steps_chain_cosmo_zheng_xi_fixed_cosmo.npy\r\n",
      "-rw-r--r-- 1 swmclau2 des 1033800030 Oct 30 09:22 /u/ki/swmclau2/des/PearceMCMC/1000_walkers_20000_steps_chain_cosmo_zheng_xi_fixed_cosmo.npy\r\n",
      "-rw-r--r-- 1 swmclau2 des 3359748063 Oct 29 05:28 /u/ki/swmclau2/des/PearceMCMC/1000_walkers_20000_steps_chain_cosmo_zheng_xi_newhp.npy\r\n",
      "-rw-r--r-- 1 swmclau2 des 2760000063 Oct 22 16:28 /u/ki/swmclau2/des/PearceMCMC/1000_walkers_10000_steps_chain_cosmo_zheng_xi_3.npy\r\n",
      "-rw-r--r-- 1 swmclau2 des 2760000063 Oct 21 22:57 /u/ki/swmclau2/des/PearceMCMC/1000_walkers_10000_steps_chain_cosmo_zheng_xi_2.npy\r\n",
      "-rw-r--r-- 1 swmclau2 des 2760000063 Oct 19 23:50 /u/ki/swmclau2/des/PearceMCMC/1000_walkers_10000_steps_chain_cosmo_zheng_xi.npy\r\n",
      "-rw-r--r-- 1 swmclau2 des  276000063 Oct 18 21:34 /u/ki/swmclau2/des/PearceMCMC/200_walkers_5000_steps_chain_cosmo_zheng_xi.npy\r\n",
      "-rw-r--r-- 1 swmclau2 des   27600063 Oct 18 15:02 /u/ki/swmclau2/des/PearceMCMC/100_walkers_1000_steps_chain_cosmo_zheng_xi.npy\r\n",
      "-rw-r--r-- 1 swmclau2 des    2760063 Oct 18 14:31 /u/ki/swmclau2/des/PearceMCMC/100_walkers_100_steps_chain_cosmo_zheng_xi.npy\r\n"
     ]
    }
   ],
   "source": [
    "! ls -lt /u/ki/swmclau2/des/PearceMCMC/*chain*cosmo*.npy"
   ]
  },
  {
   "cell_type": "code",
   "execution_count": 503,
   "metadata": {
    "collapsed": false
   },
   "outputs": [
    {
     "name": "stdout",
     "output_type": "stream",
     "text": [
      "2.6G\t/u/ki/swmclau2/des/PearceMCMC/1000_walkers_10000_steps_chain_cosmo_zheng_xi.npy\r\n",
      "2.6G\t/u/ki/swmclau2/des/PearceMCMC/1000_walkers_10000_steps_chain_cosmo_zheng_xi_2.npy\r\n",
      "2.6G\t/u/ki/swmclau2/des/PearceMCMC/1000_walkers_10000_steps_chain_cosmo_zheng_xi_3.npy\r\n",
      "987M\t/u/ki/swmclau2/des/PearceMCMC/1000_walkers_20000_steps_chain_cosmo_zheng_xi_fixed_cosmo.npy\r\n",
      "3.2G\t/u/ki/swmclau2/des/PearceMCMC/1000_walkers_20000_steps_chain_cosmo_zheng_xi_newhp.npy\r\n",
      "7.7G\t/u/ki/swmclau2/des/PearceMCMC/1000_walkers_50000_steps_chain_cosmo_zheng_xi.npy\r\n",
      "4.0K\t/u/ki/swmclau2/des/PearceMCMC/1000_walkers_50000_steps_chain_cosmo_zheng_xi_rf.npy\r\n",
      "27M\t/u/ki/swmclau2/des/PearceMCMC/100_walkers_1000_steps_chain_cosmo_zheng_xi.npy\r\n",
      "2.7M\t/u/ki/swmclau2/des/PearceMCMC/100_walkers_100_steps_chain_cosmo_zheng_xi.npy\r\n",
      "4.2M\t/u/ki/swmclau2/des/PearceMCMC/100_walkers_5000_steps_chain_cosmo_zheng_xi_fixed_cosmo.npy\r\n",
      "23M\t/u/ki/swmclau2/des/PearceMCMC/100_walkers_5000_steps_chain_cosmo_zheng_xi_fixed_hod.npy\r\n",
      "264M\t/u/ki/swmclau2/des/PearceMCMC/200_walkers_5000_steps_chain_cosmo_zheng_xi.npy\r\n",
      "276K\t/u/ki/swmclau2/des/PearceMCMC/20_walkers_5000_steps_chain_cosmo_zheng_xi_fixed_H0.npy\r\n",
      "1008K\t/u/ki/swmclau2/des/PearceMCMC/20_walkers_5000_steps_chain_cosmo_zheng_xi_fixed_alpha.npy\r\n",
      "464K\t/u/ki/swmclau2/des/PearceMCMC/20_walkers_5000_steps_chain_cosmo_zheng_xi_fixed_hod.npy\r\n",
      "416K\t/u/ki/swmclau2/des/PearceMCMC/20_walkers_5000_steps_chain_cosmo_zheng_xi_fixed_logM1.npy\r\n",
      "984K\t/u/ki/swmclau2/des/PearceMCMC/20_walkers_500_steps_chain_cosmo_zheng_xi_fixed_cosmo.npy\r\n",
      "1.7M\t/u/ki/swmclau2/des/PearceMCMC/20_walkers_500_steps_chain_cosmo_zheng_xi_fixed_hod.npy\r\n",
      "1.3G\t/u/ki/swmclau2/des/PearceMCMC/500_walkers_10000_steps_chain_cosmo_zheng_xi_lowmsat.npy\r\n",
      "203M\t/u/ki/swmclau2/des/PearceMCMC/500_walkers_10000_steps_chain_cosmo_zheng_xi_lowmsat_newhp.npy\r\n",
      "115M\t/u/ki/swmclau2/des/PearceMCMC/500_walkers_10000_steps_chain_cosmo_zheng_xi_lowmsat_newhp2.npy\r\n",
      "229M\t/u/ki/swmclau2/des/PearceMCMC/500_walkers_10000_steps_chain_cosmo_zheng_xi_lowmsat_newhp2_fixedHOD.npy\r\n",
      "59M\t/u/ki/swmclau2/des/PearceMCMC/500_walkers_10000_steps_chain_cosmo_zheng_xi_lowmsat_newhp_fixedHOD.npy\r\n",
      "15M\t/u/ki/swmclau2/des/PearceMCMC/500_walkers_10000_steps_chain_cosmo_zheng_xi_rf.npy\r\n",
      "14M\t/u/ki/swmclau2/des/PearceMCMC/500_walkers_100_steps_chain_cosmo_zheng_xi_lowmsat.npy\r\n",
      "436K\t/u/ki/swmclau2/des/PearceMCMC/50_walkers_500_steps_chain_cosmo_zheng_xi_rf.npy\r\n"
     ]
    }
   ],
   "source": [
    "! du /u/ki/swmclau2/des/PearceMCMC/*chain*cosmo*.npy -sh"
   ]
  },
  {
   "cell_type": "code",
   "execution_count": null,
   "metadata": {
    "collapsed": true
   },
   "outputs": [],
   "source": [
    "#fname = 'ab_sham_chain.npy'\n",
    "#fname = '/u/ki/swmclau2/des/PearceMCMC/chain.npy'\n",
    "fname = '/u/ki/swmclau2/des/PearceMCMC/500_walkers_10000_steps_chain_cosmo_zheng_xi_lowmsat_newhp2_fixedHOD.npy'"
   ]
  },
  {
   "cell_type": "raw",
   "metadata": {
    "collapsed": false
   },
   "source": [
    "true_vals = np.loadtxt('/u/ki/swmclau2/des/PearceMCMC/100_walkers_1000_truth_shuffled_sham.npy')\n",
    "#print true_vals"
   ]
  },
  {
   "cell_type": "raw",
   "metadata": {
    "collapsed": true
   },
   "source": [
    "vals = []\n",
    "with open(fname) as f:\n",
    "    params = f.readline()[1:]\n",
    "    split_params = params.strip().strip('[]').split(',')\n",
    "    params = []\n",
    "    for p in split_params:\n",
    "        params.append(p.strip().strip(\"'\"))\n",
    "    linestr = ''\n",
    "    linevals = np.zeros((len(params)))\n",
    "    i = 0\n",
    "    for line in f:\n",
    "        linestr+=line.replace('\\n', ' ')\n",
    "        if linestr[-2] == ']': #we have a full actual line now\n",
    "            splitline = linestr.strip().strip('[]').split(' ')\n",
    "            idx = 0\n",
    "            for sl in splitline:\n",
    "                if sl != '' and sl != ' ':\n",
    "                    linevals[idx] = float(sl)\n",
    "                    idx+=1\n",
    "            vals.append(linevals)\n",
    "            linestr = ''\n",
    "            linevals = np.zeros((len(params)))\n",
    "chain = np.array(vals)"
   ]
  },
  {
   "cell_type": "code",
   "execution_count": null,
   "metadata": {
    "collapsed": false
   },
   "outputs": [],
   "source": [
    "chain = np.genfromtxt(fname)"
   ]
  },
  {
   "cell_type": "code",
   "execution_count": null,
   "metadata": {
    "collapsed": false
   },
   "outputs": [],
   "source": [
    "chain.shape"
   ]
  },
  {
   "cell_type": "code",
   "execution_count": null,
   "metadata": {
    "collapsed": false
   },
   "outputs": [],
   "source": [
    "chain"
   ]
  },
  {
   "cell_type": "code",
   "execution_count": null,
   "metadata": {
    "collapsed": false
   },
   "outputs": [],
   "source": [
    "n_walkers = 500\n",
    "n_params = chain.shape[1]"
   ]
  },
  {
   "cell_type": "code",
   "execution_count": null,
   "metadata": {
    "collapsed": false
   },
   "outputs": [],
   "source": [
    "#c = chain.reshape((n_walkers, -1, n_params))\n",
    "n_burn = 2000\n",
    "chain = chain[n_walkers*n_burn:, :]\n",
    "#c = chain.reshape((-1, n_walkers, n_params))\n",
    "\n",
    "#chain = c[:,:, :].reshape((-1, n_params))\n",
    "print chain.shape, chain.shape[0]/n_walkers"
   ]
  },
  {
   "cell_type": "code",
   "execution_count": null,
   "metadata": {
    "collapsed": false
   },
   "outputs": [],
   "source": [
    "MAP = chain.mean(axis = 0)\n",
    "print MAP"
   ]
  },
  {
   "cell_type": "raw",
   "metadata": {
    "collapsed": false
   },
   "source": [
    "#param_names = [r'$\\log{M_{min}}$', r'$\\mathcal{A}_{cen}$', r'$\\log{M_0}$','$\\log{M_1}$', r'$\\mathcal{A}_{sat}$',\\\n",
    "#               r'$\\sigma_{log{M}}$', r'$\\alpha$']\n",
    "#param_names = [r'$\\log{M_{min}}$',r'$f_c$', r'$\\log{M_0}$',r'$\\sigma_{log{M}}$', r'$\\log{M_1}$', r'$\\alpha$']\n",
    "#param_names = [ r'$\\mathcal{A}_{cen}$', r'$\\mathcal{A}_{sat}$']\n",
    "\n",
    "#param_names = [r'$\\log{M_{min}}$', r'$\\log{M_0}$','$\\log{M_1}$', r'$\\sigma_{log{M}}$', r'$\\alpha$']\n",
    "#param_names = [r'$\\log{M_{min}}$', r'$\\log{M_{lin}}$', r'$\\log{M_0}$','$\\log{M_1}$', r'$f_{cen}$',\\\n",
    "#               r'$\\sigma_{\\log(M)}$', r'$\\alpha$']\n",
    "\n",
    "#param_names = [r'$\\log{M_{min}}$', r'$\\mathcal{A}_{cen}$', r'$\\log{M_0}$','$\\log{M_1}$',r'$\\mathcal{B}_{sat}$',\\\n",
    "#               r'$\\mathcal{A}_{sat}$',r'$\\mathcal{B}_{cen}$', r'$\\sigma_{log{M}}$', r'$\\alpha$']"
   ]
  },
  {
   "cell_type": "raw",
   "metadata": {
    "collapsed": true
   },
   "source": [
    "hod_param_names =  [r'$\\log{M_{min}}$', r'$\\log{M_0}$','$\\log{M_1}$', r'$\\sigma_{log{M}}$', r'$\\alpha$']\n",
    "ab_param_names = [ r'$\\mathcal{A}_{cen}$',r'$\\mathcal{B}_{cen}$', r'$\\mathcal{A}_{sat}$',r'$\\mathcal{B}_{sat}$']"
   ]
  },
  {
   "cell_type": "code",
   "execution_count": null,
   "metadata": {
    "collapsed": true
   },
   "outputs": [],
   "source": [
    "param_names = [r'$N_{eff}$', r'$\\log(M_0)$',r'$\\log(M_1)$', r'$H_0$',r'$w_0$', r'$\\ln(10A_s)$',  r'$\\Omega_c h^2$',\n",
    "               r'$\\sigma_{\\log M }$', r'$\\alpha$',  r'$n_s$', r'$\\Omega_b h^2$']"
   ]
  },
  {
   "cell_type": "code",
   "execution_count": null,
   "metadata": {
    "collapsed": true
   },
   "outputs": [],
   "source": [
    "hod_param_names = [r'$\\sigma_{\\log M }$', r'$\\log(M_0)$',r'$\\log(M_1)$',r'$\\alpha$' ]\n",
    "cosmo_param_names = [r'$N_{eff}$', r'$H_0$', r'$w_0$', r'$\\Omega_c h^2$',r'$\\ln(10A_s)$',r'$n_s$',r'$\\Omega_b h^2$' ]"
   ]
  },
  {
   "cell_type": "code",
   "execution_count": null,
   "metadata": {
    "collapsed": false
   },
   "outputs": [],
   "source": [
    "chain.shape"
   ]
  },
  {
   "cell_type": "code",
   "execution_count": null,
   "metadata": {
    "collapsed": false
   },
   "outputs": [],
   "source": [
    "#fixed some params\n",
    "#param_names = [r'$\\log{M_{min}}$',r'$\\sigma_{log{M}}$',r'$\\log{M_1}$', r'$\\alpha$']#, r'$\\log{M_0}$', r'$\\log{M_1}$', r'$\\alpha$']"
   ]
  },
  {
   "cell_type": "code",
   "execution_count": null,
   "metadata": {
    "collapsed": false
   },
   "outputs": [],
   "source": [
    "c = ChainConsumer()\n",
    "c.add_chain(chain, walkers=n_walkers, parameters = cosmo_param_names)\n",
    "c.configure(statistics='cumulative')"
   ]
  },
  {
   "cell_type": "code",
   "execution_count": null,
   "metadata": {
    "collapsed": true
   },
   "outputs": [],
   "source": [
    "#true_vals = np.array([12.9390382,12.51024343,  14.36144524,   0.73766725,  1.06822384])\n",
    "#true_vals = np.array([12.9390382,0.0, 12.51024343,  14.36144524, 0.0,  0.73766725,  1.06822384])"
   ]
  },
  {
   "cell_type": "raw",
   "metadata": {},
   "source": [
    "#true_vals = np.array([true_vals])"
   ]
  },
  {
   "cell_type": "raw",
   "metadata": {
    "collapsed": true
   },
   "source": [
    "emulation_point = [('f_c', 0.233), ('logM0', 12.0), ('sigma_logM', 0.533),\n",
    "                    ('alpha', 1.083),('logM1', 13.5), ('logMmin', 12.233)]\n",
    "#true_vals = np.array([12.233, 12.0, 0.533, 13.5, 1.083])"
   ]
  },
  {
   "cell_type": "code",
   "execution_count": null,
   "metadata": {
    "collapsed": false
   },
   "outputs": [],
   "source": [
    "from pearce.mocks import cat_dict\n",
    "cosmo_params = {'simname':'testbox', 'boxno': 3, 'realization':0, 'scale_factors':[1.0], 'system': 'long'}\n",
    "cat = cat_dict[cosmo_params['simname']](**cosmo_params)#construct the specified catalog!"
   ]
  },
  {
   "cell_type": "code",
   "execution_count": null,
   "metadata": {
    "collapsed": false
   },
   "outputs": [],
   "source": [
    "cpv = cat._get_cosmo_param_names_vals()\n",
    "\n",
    "print  {key: val for key, val in zip(cpv[0], cpv[1])}"
   ]
  },
  {
   "cell_type": "code",
   "execution_count": null,
   "metadata": {
    "collapsed": true
   },
   "outputs": [],
   "source": [
    "cosmo_true_vals = [3.7,70.7317,-1.13151, 0.12283,3.11395, 0.953515,  0.021762]"
   ]
  },
  {
   "cell_type": "code",
   "execution_count": null,
   "metadata": {
    "collapsed": true
   },
   "outputs": [],
   "source": [
    "emulation_point = [('logM0', 14.0), ('sigma_logM', 0.2),\n",
    "                    ('alpha', 1.083),('logM1', 13.7)]"
   ]
  },
  {
   "cell_type": "code",
   "execution_count": null,
   "metadata": {
    "collapsed": true
   },
   "outputs": [],
   "source": [
    "hod_true_vals = [0.2, 14.0, 13.7, 1.083]"
   ]
  },
  {
   "cell_type": "raw",
   "metadata": {
    "collapsed": false
   },
   "source": [
    "fig = c.plotter.plot(figsize=(8,8), parameters = hod_param_names, truth = hod_true_vals)# parameters = [param_names[i] for i in (1, 4)])\n",
    "                    #, truth = true_vals)\n",
    "fig.show()"
   ]
  },
  {
   "cell_type": "code",
   "execution_count": null,
   "metadata": {
    "collapsed": false
   },
   "outputs": [],
   "source": [
    "fig = c.plotter.plot(figsize=(10,10), parameters = cosmo_param_names, truth = cosmo_true_vals)# parameters = [param_names[i] for i in (1, 4)])\n",
    "                    #, truth = true_vals)\n",
    "fig.show()"
   ]
  },
  {
   "cell_type": "raw",
   "metadata": {
    "collapsed": false
   },
   "source": [
    "fig = c.plotter.plot(figsize=(10,10), parameters=hod_param_names)#, truth = true_vals)# parameters = [param_names[i] for i in (1, 4)])\n",
    "                    #, truth = true_vals)\n",
    "fig.show()"
   ]
  },
  {
   "cell_type": "raw",
   "metadata": {
    "collapsed": false
   },
   "source": [
    "fig = c.plotter.plot(figsize=(10,10), parameters=ab_param_names)#, truth = true_vals)# parameters = [param_names[i] for i in (1, 4)])\n",
    "                    #, truth = true_vals)\n",
    "fig.show()"
   ]
  },
  {
   "cell_type": "raw",
   "metadata": {
    "collapsed": false
   },
   "source": [
    "fig = c.plotter.plot(figsize=(10,10), parameters = [param_names[i] for i in xrange(chain.shape[1]) if i in assembias_cols])\n",
    "fig.show()"
   ]
  },
  {
   "cell_type": "code",
   "execution_count": null,
   "metadata": {
    "collapsed": false,
    "scrolled": false
   },
   "outputs": [],
   "source": [
    "#c.configure(statistics='max')\n",
    "fig = c.plotter.plot_distributions(figsize=(10, 3) ,parameters = hod_param_names, truth = hod_true_vals)\n",
    "fig.show()"
   ]
  },
  {
   "cell_type": "code",
   "execution_count": null,
   "metadata": {
    "collapsed": false,
    "scrolled": false
   },
   "outputs": [],
   "source": [
    "#c.configure(statistics='max')\n",
    "fig = c.plotter.plot_distributions(figsize=(10, 6) , parameters = cosmo_param_names, truth = cosmo_true_vals)\n",
    "fig.show()"
   ]
  },
  {
   "cell_type": "code",
   "execution_count": null,
   "metadata": {
    "collapsed": false
   },
   "outputs": [],
   "source": [
    "gelman_rubin_converged = c.diagnostic.gelman_rubin()\n",
    "print gelman_rubin_converged"
   ]
  },
  {
   "cell_type": "code",
   "execution_count": null,
   "metadata": {
    "collapsed": false
   },
   "outputs": [],
   "source": [
    "np.sqrt(np.diag(c.analysis.get_covariance()[1]))"
   ]
  },
  {
   "cell_type": "code",
   "execution_count": null,
   "metadata": {
    "collapsed": false
   },
   "outputs": [],
   "source": [
    "summary  = c.analysis.get_summary()\n",
    "for key, val in summary.iteritems():\n",
    "    print key, val[1]"
   ]
  },
  {
   "cell_type": "code",
   "execution_count": null,
   "metadata": {
    "collapsed": false
   },
   "outputs": [],
   "source": [
    "MAP = np.array([summary[p][1] for p in param_names])\n",
    "print MAP"
   ]
  },
  {
   "cell_type": "code",
   "execution_count": null,
   "metadata": {
    "collapsed": false
   },
   "outputs": [],
   "source": [
    "print param_names"
   ]
  },
  {
   "cell_type": "code",
   "execution_count": null,
   "metadata": {
    "collapsed": true
   },
   "outputs": [],
   "source": []
  }
 ],
 "metadata": {
  "kernelspec": {
   "display_name": "Python [conda env:hodemulator]",
   "language": "python",
   "name": "conda-env-hodemulator-py"
  },
  "language_info": {
   "codemirror_mode": {
    "name": "ipython",
    "version": 2
   },
   "file_extension": ".py",
   "mimetype": "text/x-python",
   "name": "python",
   "nbconvert_exporter": "python",
   "pygments_lexer": "ipython2",
   "version": "2.7.13"
  }
 },
 "nbformat": 4,
 "nbformat_minor": 0
}
