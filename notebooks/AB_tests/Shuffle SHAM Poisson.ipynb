{
 "cells": [
  {
   "cell_type": "markdown",
   "metadata": {},
   "source": [
    "Change the positions of the galaxies in a SHAM to be shuffled then NFW-distributed, instead of on the subhalos. \n",
    "\n",
    "Shuffling procedure is as followed, from Jeremey\n",
    "\n",
    "procedure:\n",
    "\n",
    "take a bin in halo mass (small bins, like 0.1dex wide). (this is all halos, regardless of whether they have a galaxy in them or not). take all the centrals and put them in a list. take all the satellites and put them in a separate list.\n",
    "\n",
    "randomly assign the centrals to all the halos in the bin.\n",
    "\n",
    "randomly assign each satellite to a halo in the bin (repeat until all satellites are gone. this should preserve poisson distribution of satellite occupation). when assigning a satellite to a halo, preserve the position of the satellite and velocity of the satellite relative to the original host halo. ie, your list of satllites has dx, dy, dz, and dvx, dvy, dvz, then you add x, y, z, and vx, vy, vz of the new halo to those quantities."
   ]
  },
  {
   "cell_type": "code",
   "execution_count": 1,
   "metadata": {
    "collapsed": false
   },
   "outputs": [],
   "source": [
    "import numpy as np\n",
    "import astropy\n",
    "from itertools import izip\n",
    "from pearce.mocks import compute_prim_haloprop_bins, cat_dict\n",
    "from pearce.mocks.customHODModels import *\n",
    "from halotools.utils.table_utils import compute_conditional_percentiles\n",
    "from halotools.utils import *"
   ]
  },
  {
   "cell_type": "code",
   "execution_count": 2,
   "metadata": {
    "collapsed": true
   },
   "outputs": [],
   "source": [
    "from matplotlib import pyplot as plt\n",
    "%matplotlib inline\n",
    "import seaborn as sns\n",
    "sns.set()"
   ]
  },
  {
   "cell_type": "code",
   "execution_count": 3,
   "metadata": {
    "collapsed": false
   },
   "outputs": [
    {
     "name": "stderr",
     "output_type": "stream",
     "text": [
      "WARNING: path= was not specified but multiple tables are present, reading in first available table (path=abmatched_halos.hdf5) [astropy.io.misc.hdf5]\n",
      "WARNING:astropy:path= was not specified but multiple tables are present, reading in first available table (path=abmatched_halos.hdf5)\n"
     ]
    }
   ],
   "source": [
    "PMASS = 591421440.0000001 #chinchilla 400/ 2048\n",
    "Lbox = 400.0\n",
    "#catalog = np.loadtxt('ab_sham_hod_data_cut.npy')\n",
    "catalog = astropy.table.Table.read('abmatched_halos.hdf5', format = 'hdf5')"
   ]
  },
  {
   "cell_type": "code",
   "execution_count": 4,
   "metadata": {
    "collapsed": true
   },
   "outputs": [],
   "source": [
    "catalog = catalog[catalog['halo_mvir'] > 200*PMASS]"
   ]
  },
  {
   "cell_type": "code",
   "execution_count": 5,
   "metadata": {
    "collapsed": false
   },
   "outputs": [
    {
     "data": {
      "text/plain": [
       "['halo_upid',\n",
       " 'halo_y',\n",
       " 'halo_x',\n",
       " 'halo_z',\n",
       " 'halo_rvir',\n",
       " 'halo_vpeak',\n",
       " 'halo_rs_klypin',\n",
       " 'halo_snapnum',\n",
       " 'halo_halfmass_scale',\n",
       " 'halo_id',\n",
       " 'halo_vx',\n",
       " 'halo_vy',\n",
       " 'halo_vz',\n",
       " 'halo_rs',\n",
       " 'halo_mvir',\n",
       " 'halo_nfw_conc',\n",
       " 'halo_vpeak_mag',\n",
       " 'halo_vvir_mag',\n",
       " 'halo_alpha_05_mag',\n",
       " 'halo_shuffled_vpeak_mag',\n",
       " 'halo_shuffled_vvir_mag',\n",
       " 'halo_shuffled_alpha_05_mag',\n",
       " 'host_halo_nfw_conc',\n",
       " 'host_halo_rvir',\n",
       " 'halo_nfw_x',\n",
       " 'halo_nfw_y',\n",
       " 'halo_nfw_z',\n",
       " 'halo_sh_shuffled_vpeak_mag',\n",
       " 'halo_sh_shuffled_vvir_mag',\n",
       " 'halo_sh_shuffled_alpha_05_mag',\n",
       " 'halo_shuffled_x',\n",
       " 'halo_shuffled_y',\n",
       " 'halo_shuffled_z',\n",
       " 'halo_shuffled_upid',\n",
       " 'halo_shuffled_host_mvir',\n",
       " 'halo_hostid',\n",
       " 'halo_x_host_halo',\n",
       " 'halo_y_host_halo',\n",
       " 'halo_z_host_halo',\n",
       " 'halo_nfw_conc_host_halo',\n",
       " 'halo_mvir_host_halo',\n",
       " 'halo_rvir_host_halo',\n",
       " 'halo_sh_shuffled_x',\n",
       " 'halo_sh_shuffled_y',\n",
       " 'halo_sh_shuffled_z',\n",
       " 'halo_sh_shuffled_upid',\n",
       " 'halo_sh_shuffled_host_mvir']"
      ]
     },
     "execution_count": 5,
     "metadata": {},
     "output_type": "execute_result"
    }
   ],
   "source": [
    "catalog.colnames"
   ]
  },
  {
   "cell_type": "raw",
   "metadata": {
    "collapsed": false
   },
   "source": [
    "#del catalog['halo_shuffled_x']\n",
    "#del catalog['halo_shuffled_y']\n",
    "#del catalog['halo_shuffled_z']\n",
    "#del catalog['halo_shuffled_nfw_conc']\n",
    "#del catalog['halo_shuffled_rvir']\n",
    "#del catalog['halo_shuffled_mvir']\n",
    "del catalog['halo_shuffled_host_mvir']\n",
    "del catalog['halo_shuffled_upid']"
   ]
  },
  {
   "cell_type": "raw",
   "metadata": {
    "collapsed": true
   },
   "source": [
    "#del catalog['halo_sh_shuffled_x']\n",
    "#del catalog['halo_sh_shuffled_y']\n",
    "#del catalog['halo_sh_shuffled_z']\n",
    "#del catalog['halo_sh_shuffled_nfw_conc']\n",
    "#del catalog['halo_sh_shuffled_rvir']\n",
    "#del catalog['halo_sh_shuffled_mvir']\n",
    "del catalog['halo_sh_shuffled_host_mvir']\n",
    "del catalog['halo_sh_shuffled_upid']"
   ]
  },
  {
   "cell_type": "code",
   "execution_count": 6,
   "metadata": {
    "collapsed": false
   },
   "outputs": [],
   "source": [
    "add_halo_hostid(catalog, delete_possibly_existing_column=True)"
   ]
  },
  {
   "cell_type": "code",
   "execution_count": 7,
   "metadata": {
    "collapsed": false
   },
   "outputs": [],
   "source": [
    "for prop in ['halo_x', 'halo_y', 'halo_z', 'halo_nfw_conc', 'halo_mvir', 'halo_rvir']:\n",
    "    broadcast_host_halo_property(catalog, prop, delete_possibly_existing_column=True)"
   ]
  },
  {
   "cell_type": "code",
   "execution_count": 8,
   "metadata": {
    "collapsed": false
   },
   "outputs": [],
   "source": [
    "from halotools.utils.table_utils import compute_prim_haloprop_bins\n",
    "from math import ceil\n",
    "min_log_mass = np.log10(np.min(catalog['halo_mvir']))-0.001\n",
    "max_log_mass = np.log10(np.max(catalog['halo_mvir']))+0.001\n",
    "dlog10_prim_haloprop = 0.1\n",
    "num_prim_haloprop_bins = (max_log_mass - min_log_mass) / dlog10_prim_haloprop\n",
    "prim_haloprop_bin_boundaries = np.logspace(min_log_mass, max_log_mass,\n",
    "    num=int(ceil(num_prim_haloprop_bins)))\n",
    "\n",
    "prim_haloprop_bins = compute_prim_haloprop_bins(prim_haloprop = catalog['halo_mvir_host_halo'],\\\n",
    "                                                dlog10_prim_haloprop=dlog10_prim_haloprop,\n",
    "                                                prim_haloprop_bin_boundaries = prim_haloprop_bin_boundaries)"
   ]
  },
  {
   "cell_type": "code",
   "execution_count": 9,
   "metadata": {
    "collapsed": false
   },
   "outputs": [],
   "source": [
    "shuffled_pos = np.zeros((len(catalog), 3))\n",
    "shuffled_upids = np.zeros((len(catalog)))\n",
    "shuffled_host_mvir = np.zeros((len(catalog)))"
   ]
  },
  {
   "cell_type": "code",
   "execution_count": 10,
   "metadata": {
    "collapsed": false
   },
   "outputs": [],
   "source": [
    "shuffled_mags = np.zeros((len(catalog), 3))\n",
    "#shuffled_mags[:, 0] = catalog['halo_vpeak_mag']\n",
    "#shuffled_mags[:, 1] = catalog['halo_vvir_mag']\n",
    "#shuffled_mags[:, 2] = catalog['halo_alpha_05_mag']"
   ]
  },
  {
   "cell_type": "code",
   "execution_count": 11,
   "metadata": {
    "collapsed": true
   },
   "outputs": [],
   "source": [
    "from pearce.mocks import cat_dict\n",
    "cosmo_params = {'simname':'chinchilla', 'Lbox':400.0, 'scale_factors':[0.658, 1.0]}\n",
    "cat = cat_dict[cosmo_params['simname']](**cosmo_params)#construct the specified catalog!\n",
    "cat.load_model(1.0, HOD = 'redMagic')"
   ]
  },
  {
   "cell_type": "code",
   "execution_count": 12,
   "metadata": {
    "collapsed": false
   },
   "outputs": [],
   "source": [
    "np.random.seed(64)\n",
    "bins_in_halocat = set(prim_haloprop_bins)\n",
    "\n",
    "for ibin in bins_in_halocat:\n",
    "    \n",
    "    if ibin==0:\n",
    "        continue\n",
    "    indices_of_prim_haloprop_bin = np.where(prim_haloprop_bins == ibin)[0]\n",
    "    \n",
    "    centrals_idx = np.where(catalog[indices_of_prim_haloprop_bin]['halo_upid'] == -1)[0]\n",
    "    n_centrals = len(centrals_idx)\n",
    "    satellites_idx = np.where(catalog[indices_of_prim_haloprop_bin]['halo_upid']!=-1)[0]\n",
    "    n_satellites = len(satellites_idx)\n",
    "    \n",
    "    if centrals_idx.shape[0]!=0:\n",
    "        rand_central_idxs = np.random.choice(indices_of_prim_haloprop_bin[centrals_idx], size = n_centrals, replace = False)\n",
    "    else:\n",
    "        rand_central_idxs = np.array([])\n",
    "\n",
    "    for idx, coord in enumerate(['vpeak', 'vvir', 'alpha_05']):\n",
    "        shuffled_mags[indices_of_prim_haloprop_bin[centrals_idx], idx]= \\\n",
    "                catalog[rand_central_idxs]['halo_'+coord+'_mag']\n",
    "            \n",
    "        shuffled_mags[indices_of_prim_haloprop_bin[satellites_idx],idx ] = \\\n",
    "                catalog[indices_of_prim_haloprop_bin[satellites_idx]]['halo_'+coord+'_mag']\n",
    "    #Create second rand_central_idxs, Iterate through satellite hosts and assign them when they match. \n",
    "            \n",
    "    #after randomly shuffling the satellites, we have to choose them a new host\n",
    "    if centrals_idx.shape[0]!=0:\n",
    "        rand_host_idxs = np.random.choice(indices_of_prim_haloprop_bin[centrals_idx], size = n_satellites, replace = True)\n",
    "        #rand_host_idxs_sh = \n",
    "    else:\n",
    "        rand_host_idxs = np.array([])\n",
    "        #rand_host_idxs_sh = np.array([])\n",
    "        \n",
    "        \n",
    "    hc_x, hc_y, hc_z = cat.model.model_dictionary['satellites_profile'].mc_halo_centric_pos(\\\n",
    "                                                        catalog[rand_host_idxs]['halo_nfw_conc'],\n",
    "                                                        halo_radius = catalog[rand_host_idxs]['halo_rvir'])\n",
    "    #hc_x = hc_y = hc_z = np.zeros_like(rand_host_idxs)\n",
    "                 \n",
    "    for idx, (coord, hc) in enumerate(izip(['x','y','z'], [hc_x, hc_y, hc_z])):\n",
    "        shuffled_pos[indices_of_prim_haloprop_bin[centrals_idx], idx] = \\\n",
    "                catalog[indices_of_prim_haloprop_bin[centrals_idx]]['halo_'+coord]\n",
    "\n",
    "                                        \n",
    "        #shuffled_pos[indices_of_prim_haloprop_bin[satellites_idx],idx] =\\\n",
    "        #            (catalog[indices_of_prim_haloprop_bin[satellites_idx]]['halo_'+coord]\n",
    "        #             -catalog[indices_of_prim_haloprop_bin[satellites_idx]]['halo_'+coord+'_host_halo']\n",
    "        #            +catalog[rand_host_idxs]['halo_'+coord] + hc)%Lbox\n",
    "        shuffled_pos[indices_of_prim_haloprop_bin[satellites_idx],idx] =\\\n",
    "            (catalog[rand_host_idxs]['halo_'+coord] + hc)%Lbox\n",
    "            \n",
    "    shuffled_upids[indices_of_prim_haloprop_bin[centrals_idx]] = -1\n",
    "    shuffled_upids[indices_of_prim_haloprop_bin[satellites_idx]] = \\\n",
    "                catalog[rand_host_idxs]['halo_id']\n",
    "        \n",
    "    shuffled_host_mvir[indices_of_prim_haloprop_bin[centrals_idx]] = \\\n",
    "                catalog[indices_of_prim_haloprop_bin[centrals_idx]]['halo_mvir']\n",
    "    shuffled_host_mvir[indices_of_prim_haloprop_bin[satellites_idx]] = \\\n",
    "                catalog[rand_host_idxs]['halo_mvir_host_halo']"
   ]
  },
  {
   "cell_type": "raw",
   "metadata": {},
   "source": [
    "for i, idx in enumerate(indices_of_prim_haloprop_bin[satellites_idx]):\n",
    "    try:\n",
    "        if shuffled_upids[idx] == catalog[idx]['halo_upid']:\n",
    "            assert all([abs(shuffled_pos[idx, 0] - catalog[idx]['halo_x_host_halo']) < 1.0, \n",
    "                       abs(shuffled_pos[idx, 1] - catalog[idx]['halo_y_host_halo']) < 1.0,\n",
    "                       abs(shuffled_pos[idx, 2] - catalog[idx]['halo_z_host_halo']) < 1.0 ])\n",
    "        else:\n",
    "            assert all([abs(shuffled_pos[idx, 0] - catalog[idx]['halo_x_host_halo']) > 1.0, \n",
    "                       abs(shuffled_pos[idx, 1] - catalog[idx]['halo_y_host_halo']) > 1.0,\n",
    "                       abs(shuffled_pos[idx, 2] - catalog[idx]['halo_z_host_halo'])>1.0])\n",
    "    except AssertionError:\n",
    "        print i,idx\n",
    "        print shuffled_upids[idx],catalog[idx]['halo_upid']\n",
    "\n",
    "        print shuffled_pos[idx]\n",
    "        print catalog[idx]['halo_x_host_halo'], catalog[idx]['halo_y_host_halo'],catalog[idx]['halo_z_host_halo']\n",
    "        print '*'"
   ]
  },
  {
   "cell_type": "raw",
   "metadata": {},
   "source": [
    "from itertools import cycle\n",
    "colors = cycle(sns.color_palette())\n",
    "\n",
    "for color, halo_id in zip(colors, np.unique(shuffled_upids[indices_of_prim_haloprop_bin[satellites_idx]])):\n",
    "    idxs_of_sat_members = np.where(shuffled_upids[indices_of_prim_haloprop_bin]==halo_id)[0]\n",
    "    idx_of_host = np.where(catalog[indices_of_prim_haloprop_bin]['halo_id'] == halo_id)\n",
    "    plt.scatter(shuffled_pos[indices_of_prim_haloprop_bin[idxs_of_sat_members],0],\\\n",
    "            shuffled_pos[indices_of_prim_haloprop_bin[idxs_of_sat_members],1], color = color, alpha = 0.8)\n",
    "    plt.scatter(shuffled_pos[indices_of_prim_haloprop_bin[idx_of_host],0],\\\n",
    "            shuffled_pos[indices_of_prim_haloprop_bin[idx_of_host],1], color = color, marker = 'v', s = 100, alpha = 1.0)\n",
    "    plt.show()\n",
    "\n"
   ]
  },
  {
   "cell_type": "code",
   "execution_count": 13,
   "metadata": {
    "collapsed": false
   },
   "outputs": [],
   "source": [
    "catalog['halo_shuffled_vpeak_mag'] = shuffled_mags[:,0]\n",
    "catalog['halo_shuffled_vvir_mag'] = shuffled_mags[:,1]\n",
    "catalog['halo_shuffled_alpha_05_mag'] = shuffled_mags[:,2]\n",
    "catalog['halo_shuffled_x'] = shuffled_pos[:,0]\n",
    "catalog['halo_shuffled_y'] = shuffled_pos[:,1]\n",
    "catalog['halo_shuffled_z'] = shuffled_pos[:,2]\n",
    "catalog['halo_shuffled_upid']=shuffled_upids[:]\n",
    "catalog['halo_shuffled_host_mvir'] = shuffled_host_mvir[:]"
   ]
  },
  {
   "cell_type": "code",
   "execution_count": 14,
   "metadata": {
    "collapsed": true
   },
   "outputs": [],
   "source": [
    "catalog.write('abmatched_halos.hdf5', format = 'hdf5', path = './abmatched_halos.hdf5', overwrite=True)"
   ]
  },
  {
   "cell_type": "code",
   "execution_count": 15,
   "metadata": {
    "collapsed": false
   },
   "outputs": [
    {
     "name": "stdout",
     "output_type": "stream",
     "text": [
      "-rw-r--r-- 1 swmclau2 des 557130076 Sep 27 11:48 abmatched_halos.hdf5\n"
     ]
    }
   ],
   "source": [
    "%%bash\n",
    "ls -lt *.hdf5"
   ]
  },
  {
   "cell_type": "code",
   "execution_count": null,
   "metadata": {
    "collapsed": true
   },
   "outputs": [],
   "source": []
  },
  {
   "cell_type": "code",
   "execution_count": null,
   "metadata": {
    "collapsed": true
   },
   "outputs": [],
   "source": []
  },
  {
   "cell_type": "code",
   "execution_count": null,
   "metadata": {
    "collapsed": true
   },
   "outputs": [],
   "source": []
  }
 ],
 "metadata": {
  "kernelspec": {
   "display_name": "Python [conda env:hodemulator]",
   "language": "python",
   "name": "conda-env-hodemulator-py"
  },
  "language_info": {
   "codemirror_mode": {
    "name": "ipython",
    "version": 2
   },
   "file_extension": ".py",
   "mimetype": "text/x-python",
   "name": "python",
   "nbconvert_exporter": "python",
   "pygments_lexer": "ipython2",
   "version": "2.7.13"
  }
 },
 "nbformat": 4,
 "nbformat_minor": 0
}
