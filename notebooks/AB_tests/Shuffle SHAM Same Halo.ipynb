{
 "cells": [
  {
   "cell_type": "markdown",
   "metadata": {},
   "source": [
    "Change the positions of the galaxies in a SHAM to be shuffled then NFW-distributed, instead of on the subhalos. \n",
    "\n",
    "Shuffling procedure is as followed, from Jeremey\n",
    "\n",
    "procedure:\n",
    "\n",
    "take a bin in halo mass (small bins, like 0.1dex wide). (this is all halos, regardless of whether they have a galaxy in them or not). take all the centrals and put them in a list. take all the satellites and put them in a separate list.\n",
    "\n",
    "randomly assign the centrals to all the halos in the bin.\n",
    "\n",
    "randomly assign each satellite to a halo in the bin (repeat until all satellites are gone. this should preserve poisson distribution of satellite occupation). when assigning a satellite to a halo, preserve the position of the satellite and velocity of the satellite relative to the original host halo. ie, your list of satllites has dx, dy, dz, and dvx, dvy, dvz, then you add x, y, z, and vx, vy, vz of the new halo to those quantities."
   ]
  },
  {
   "cell_type": "code",
   "execution_count": 46,
   "metadata": {
    "collapsed": false
   },
   "outputs": [],
   "source": [
    "import numpy as np\n",
    "import astropy\n",
    "from itertools import izip\n",
    "from pearce.mocks import compute_prim_haloprop_bins, cat_dict\n",
    "from pearce.mocks.customHODModels import *\n",
    "from halotools.utils.table_utils import compute_conditional_percentiles\n",
    "from halotools.utils import *\n",
    "from halotools.mock_observables import tpcf"
   ]
  },
  {
   "cell_type": "code",
   "execution_count": 47,
   "metadata": {
    "collapsed": true
   },
   "outputs": [],
   "source": [
    "from matplotlib import pyplot as plt\n",
    "%matplotlib inline\n",
    "import seaborn as sns\n",
    "sns.set()"
   ]
  },
  {
   "cell_type": "code",
   "execution_count": 48,
   "metadata": {
    "collapsed": false
   },
   "outputs": [],
   "source": [
    "PMASS = 591421440.0000001 #chinchilla 400/ 2048\n",
    "Lbox = 400.0\n",
    "#catalog = np.loadtxt('ab_sham_hod_data_cut.npy')\n",
    "catalog = astropy.table.Table.read('abmatched_halos.hdf5', format = 'hdf5')"
   ]
  },
  {
   "cell_type": "code",
   "execution_count": 49,
   "metadata": {
    "collapsed": true
   },
   "outputs": [],
   "source": [
    "catalog = catalog[catalog['halo_mvir'] > 200*PMASS]"
   ]
  },
  {
   "cell_type": "code",
   "execution_count": 50,
   "metadata": {
    "collapsed": false
   },
   "outputs": [
    {
     "data": {
      "text/plain": [
       "['halo_upid',\n",
       " 'halo_y',\n",
       " 'halo_x',\n",
       " 'halo_z',\n",
       " 'halo_rvir',\n",
       " 'halo_vpeak',\n",
       " 'halo_rs_klypin',\n",
       " 'halo_snapnum',\n",
       " 'halo_halfmass_scale',\n",
       " 'halo_id',\n",
       " 'halo_vx',\n",
       " 'halo_vy',\n",
       " 'halo_vz',\n",
       " 'halo_rs',\n",
       " 'halo_mvir',\n",
       " 'halo_nfw_conc',\n",
       " 'halo_vpeak_mag',\n",
       " 'halo_vvir_mag',\n",
       " 'halo_alpha_05_mag',\n",
       " 'halo_shuffled_vpeak_mag',\n",
       " 'halo_shuffled_vvir_mag',\n",
       " 'halo_shuffled_alpha_05_mag',\n",
       " 'host_halo_nfw_conc',\n",
       " 'host_halo_rvir',\n",
       " 'halo_nfw_x',\n",
       " 'halo_nfw_y',\n",
       " 'halo_nfw_z',\n",
       " 'halo_sh_shuffled_vpeak_mag',\n",
       " 'halo_sh_shuffled_vvir_mag',\n",
       " 'halo_sh_shuffled_alpha_05_mag',\n",
       " 'halo_shuffled_x',\n",
       " 'halo_shuffled_y',\n",
       " 'halo_shuffled_z',\n",
       " 'halo_shuffled_upid',\n",
       " 'halo_shuffled_host_mvir',\n",
       " 'halo_sh_shuffled_x',\n",
       " 'halo_sh_shuffled_y',\n",
       " 'halo_sh_shuffled_z',\n",
       " 'halo_sh_shuffled_upid',\n",
       " 'halo_sh_shuffled_host_mvir',\n",
       " 'halo_sh_shuffled_cen_vpeak_mag',\n",
       " 'halo_sh_shuffled_cen_vvir_mag',\n",
       " 'halo_sh_shuffled_cen_alpha_05_mag',\n",
       " 'halo_sh_shuffled_cen_x',\n",
       " 'halo_sh_shuffled_cen_y',\n",
       " 'halo_sh_shuffled_cen_z',\n",
       " 'halo_sh_shuffled_cen_upid',\n",
       " 'halo_sh_shuffled_cen_host_mvir',\n",
       " 'halo_sh_shuffled_sats_vpeak_mag',\n",
       " 'halo_sh_shuffled_sats_vvir_mag',\n",
       " 'halo_sh_shuffled_sats_alpha_05_mag',\n",
       " 'halo_sh_shuffled_sats_x',\n",
       " 'halo_sh_shuffled_sats_y',\n",
       " 'halo_sh_shuffled_sats_z',\n",
       " 'halo_sh_shuffled_sats_upid',\n",
       " 'halo_sh_shuffled_sats_host_mvir',\n",
       " 'halo_hostid',\n",
       " 'halo_x_host_halo',\n",
       " 'halo_y_host_halo',\n",
       " 'halo_z_host_halo',\n",
       " 'halo_nfw_conc_host_halo',\n",
       " 'halo_mvir_host_halo',\n",
       " 'halo_rvir_host_halo']"
      ]
     },
     "execution_count": 50,
     "metadata": {},
     "output_type": "execute_result"
    }
   ],
   "source": [
    "catalog.colnames"
   ]
  },
  {
   "cell_type": "raw",
   "metadata": {
    "collapsed": false
   },
   "source": [
    "#del catalog['halo_shuffled_x']\n",
    "#del catalog['halo_shuffled_y']\n",
    "#del catalog['halo_shuffled_z']\n",
    "#del catalog['halo_shuffled_nfw_conc']\n",
    "#del catalog['halo_shuffled_rvir']\n",
    "#del catalog['halo_shuffled_mvir']\n",
    "del catalog['halo_shuffled_host_mvir']\n",
    "del catalog['halo_shuffled_upid']"
   ]
  },
  {
   "cell_type": "raw",
   "metadata": {
    "collapsed": true
   },
   "source": [
    "#del catalog['halo_sh_shuffled_x']\n",
    "#del catalog['halo_sh_shuffled_y']\n",
    "#del catalog['halo_sh_shuffled_z']\n",
    "#del catalog['halo_sh_shuffled_nfw_conc']\n",
    "#del catalog['halo_sh_shuffled_rvir']\n",
    "#del catalog['halo_sh_shuffled_mvir']\n",
    "del catalog['halo_sh_shuffled_host_mvir']\n",
    "del catalog['halo_sh_shuffled_upid']"
   ]
  },
  {
   "cell_type": "code",
   "execution_count": 51,
   "metadata": {
    "collapsed": false
   },
   "outputs": [],
   "source": [
    "add_halo_hostid(catalog, delete_possibly_existing_column=True)"
   ]
  },
  {
   "cell_type": "code",
   "execution_count": 52,
   "metadata": {
    "collapsed": false
   },
   "outputs": [],
   "source": [
    "for prop in ['halo_x', 'halo_y', 'halo_z', 'halo_nfw_conc', 'halo_mvir', 'halo_rvir']:\n",
    "    broadcast_host_halo_property(catalog, prop, delete_possibly_existing_column=True)"
   ]
  },
  {
   "cell_type": "code",
   "execution_count": 53,
   "metadata": {
    "collapsed": true
   },
   "outputs": [],
   "source": [
    "r_bins = np.logspace(-1.1, 1.6, 18)\n",
    "rbc = (r_bins[1:]+r_bins[:-1])/2"
   ]
  },
  {
   "cell_type": "code",
   "execution_count": 64,
   "metadata": {
    "collapsed": false
   },
   "outputs": [],
   "source": [
    "galaxy_catalog = catalog[catalog['halo_vpeak_mag'] <= -21]"
   ]
  },
  {
   "cell_type": "code",
   "execution_count": 65,
   "metadata": {
    "collapsed": false
   },
   "outputs": [],
   "source": [
    "mock_pos = np.c_[galaxy_catalog['halo_x'],\\\n",
    "                     galaxy_catalog['halo_y'],\\\n",
    "                     galaxy_catalog['halo_z']]\n",
    "sham_xi = tpcf(mock_pos, r_bins , period=400.0, num_threads=1)"
   ]
  },
  {
   "cell_type": "code",
   "execution_count": 66,
   "metadata": {
    "collapsed": false
   },
   "outputs": [],
   "source": [
    "galaxy_catalog = catalog[catalog['halo_shuffled_vpeak_mag'] <= -21]"
   ]
  },
  {
   "cell_type": "code",
   "execution_count": 67,
   "metadata": {
    "collapsed": false
   },
   "outputs": [],
   "source": [
    "mock_pos = np.c_[galaxy_catalog['halo_shuffled_x'],\\\n",
    "                 galaxy_catalog['halo_shuffled_y'],\\\n",
    "                 galaxy_catalog['halo_shuffled_z']]\n",
    "shuffled_xi = tpcf(mock_pos, r_bins , period=400.0, num_threads=1)"
   ]
  },
  {
   "cell_type": "code",
   "execution_count": 68,
   "metadata": {
    "collapsed": false
   },
   "outputs": [
    {
     "data": {
      "text/plain": [
       "<matplotlib.text.Text at 0x7f3e44d49d50>"
      ]
     },
     "execution_count": 68,
     "metadata": {},
     "output_type": "execute_result"
    },
    {
     "data": {
      "image/png": "[encoded data removed]",
      "text/plain": [
       "<matplotlib.figure.Figure at 0x7f3e73b60dd0>"
      ]
     },
     "metadata": {},
     "output_type": "display_data"
    }
   ],
   "source": [
    "plt.figure(figsize=(10,8))\n",
    "plt.plot(rbc, shuffled_xi/sham_xi)\n",
    "plt.xscale('log')\n",
    "plt.legend(loc='best')\n",
    "plt.xlim([1e-1, 5e0]);\n",
    "plt.ylim([0.75,1.25]);\n",
    "plt.xlabel(r'$r$ [Mpc/h]',fontsize = 15)\n",
    "#plt.ylabel(r'$\\xi_{X} (r)/\\xi_{SHAM} (r)$',fontsize = 15)\n",
    "#plt.title(r'$\\xi (r)$ ratio for model X/SHAM, %s'%mag_type, fontsize = 20)"
   ]
  },
  {
   "cell_type": "code",
   "execution_count": 58,
   "metadata": {
    "collapsed": false
   },
   "outputs": [
    {
     "name": "stdout",
     "output_type": "stream",
     "text": [
      "[ 0.66783796  0.68542497  0.85215121  1.01582423  0.99863858  1.0295393\n",
      "  1.00425382  1.03909348  1.02870917  1.02286538  1.02930453  1.0146584\n",
      "  1.01857397  1.01499598  1.0044174   0.99525897  1.01408917]\n"
     ]
    }
   ],
   "source": [
    "print sham_xi/shuffled_xi"
   ]
  },
  {
   "cell_type": "code",
   "execution_count": 29,
   "metadata": {
    "collapsed": false
   },
   "outputs": [
    {
     "data": {
      "text/plain": [
       "[]"
      ]
     },
     "execution_count": 29,
     "metadata": {},
     "output_type": "execute_result"
    },
    {
     "data": {
      "image/png": "[encoded data removed]",
      "text/plain": [
       "<matplotlib.figure.Figure at 0x7f3e73bff4d0>"
      ]
     },
     "metadata": {},
     "output_type": "display_data"
    }
   ],
   "source": [
    "plt.plot(rbc, sham_xi)\n",
    "plt.plot(rbc, shuffled_xi)\n",
    "plt.loglog()"
   ]
  },
  {
   "cell_type": "code",
   "execution_count": 10,
   "metadata": {
    "collapsed": false
   },
   "outputs": [],
   "source": [
    "from halotools.utils.table_utils import compute_prim_haloprop_bins\n",
    "from math import ceil\n",
    "min_log_mass = np.log10(np.min(catalog['halo_mvir']))-0.001\n",
    "max_log_mass = np.log10(np.max(catalog['halo_mvir']))+0.001\n",
    "dlog10_prim_haloprop = 0.1\n",
    "num_prim_haloprop_bins = (max_log_mass - min_log_mass) / dlog10_prim_haloprop\n",
    "prim_haloprop_bin_boundaries = np.logspace(min_log_mass, max_log_mass,\n",
    "    num=int(ceil(num_prim_haloprop_bins)))\n",
    "\n",
    "prim_haloprop_bins = compute_prim_haloprop_bins(prim_haloprop = catalog['halo_mvir_host_halo'],\\\n",
    "                                                dlog10_prim_haloprop=dlog10_prim_haloprop,\n",
    "                                                prim_haloprop_bin_boundaries = prim_haloprop_bin_boundaries)"
   ]
  },
  {
   "cell_type": "code",
   "execution_count": 11,
   "metadata": {
    "collapsed": false
   },
   "outputs": [],
   "source": [
    "shuffled_pos = np.zeros((len(catalog), 3))\n",
    "shuffled_upids = np.zeros((len(catalog)))\n",
    "shuffled_host_mvir = np.zeros((len(catalog)))"
   ]
  },
  {
   "cell_type": "code",
   "execution_count": 12,
   "metadata": {
    "collapsed": false
   },
   "outputs": [],
   "source": [
    "shuffled_mags = np.zeros((len(catalog), 3))\n",
    "#shuffled_mags[:, 0] = catalog['halo_vpeak_mag']\n",
    "#shuffled_mags[:, 1] = catalog['halo_vvir_mag']\n",
    "#shuffled_mags[:, 2] = catalog['halo_alpha_05_mag']"
   ]
  },
  {
   "cell_type": "code",
   "execution_count": null,
   "metadata": {
    "collapsed": true
   },
   "outputs": [],
   "source": [
    "from pearce.mocks import cat_dict\n",
    "cosmo_params = {'simname':'chinchilla', 'Lbox':400.0, 'scale_factors':[0.658, 1.0]}\n",
    "cat = cat_dict[cosmo_params['simname']](**cosmo_params)#construct the specified catalog!\n",
    "cat.load_model(1.0, HOD = 'redMagic')"
   ]
  },
  {
   "cell_type": "code",
   "execution_count": null,
   "metadata": {
    "collapsed": false
   },
   "outputs": [
    {
     "name": "stdout",
     "output_type": "stream",
     "text": [
      "0\n",
      "1\n",
      "2\n",
      "3\n",
      "4"
     ]
    }
   ],
   "source": [
    "bins_in_halocat = set(prim_haloprop_bins)\n",
    "\n",
    "for ibin in bins_in_halocat:\n",
    "    print ibin\n",
    "    if ibin==0:\n",
    "        continue\n",
    "    indices_of_prim_haloprop_bin = np.where(prim_haloprop_bins == ibin)[0]\n",
    "    \n",
    "    centrals_idx = np.where(catalog[indices_of_prim_haloprop_bin]['halo_upid'] == -1)[0]\n",
    "    n_centrals = len(centrals_idx)\n",
    "    satellites_idx = np.where(catalog[indices_of_prim_haloprop_bin]['halo_upid']!=-1)[0]\n",
    "    n_satellites = len(satellites_idx)\n",
    "    \n",
    "    if centrals_idx.shape[0]!=0:\n",
    "        rand_central_idxs = np.random.choice(indices_of_prim_haloprop_bin[centrals_idx], size = n_centrals, replace = False)\n",
    "    else:\n",
    "        rand_central_idxs = np.array([])\n",
    "\n",
    "    for idx, coord in enumerate(['vpeak', 'vvir', 'alpha_05']):\n",
    "        shuffled_mags[indices_of_prim_haloprop_bin[centrals_idx], idx]= \\\n",
    "                catalog[rand_central_idxs]['halo_'+coord+'_mag']\n",
    "            \n",
    "        shuffled_mags[indices_of_prim_haloprop_bin[satellites_idx],idx ] = \\\n",
    "                catalog[indices_of_prim_haloprop_bin[satellites_idx]]['halo_'+coord+'_mag']\n",
    "    #Create second rand_central_idxs, Iterate through satellite hosts and assign them when they match. \n",
    "    \n",
    "    for idx, coord in enumerate(['x','y','z']):\n",
    "        # don't need to shuffle positions cu we've shuffled mags for centrals\n",
    "        shuffled_pos[indices_of_prim_haloprop_bin[centrals_idx], idx] = \\\n",
    "                catalog[indices_of_prim_haloprop_bin[centrals_idx]]['halo_'+coord]\n",
    "            \n",
    "    shuffled_upids[indices_of_prim_haloprop_bin[centrals_idx]] = -1\n",
    "    \n",
    "    shuffled_host_mvir[indices_of_prim_haloprop_bin[centrals_idx]] = \\\n",
    "            catalog[indices_of_prim_haloprop_bin[centrals_idx]]['halo_mvir']\n",
    "        \n",
    "    hosts_id, first_sat_idxs = np.unique(catalog[indices_of_prim_haloprop_bin[satellites_idx]]['halo_upid'], return_index=True)\n",
    "    shuffled_idxs = np.random.permutation(hosts_id.shape[0])\n",
    "    shuffled_hosts_id = hosts_id[shuffled_idxs]\n",
    "    shuffled_sat_idxs = first_sat_idxs[shuffled_idxs]\n",
    "    shuffled_arrays_idx = 0\n",
    "    host_map = dict() #maps the current host id to the index of a new host id. \n",
    "    #the host_id -> idx map is easier than the host_id -> host_id map\n",
    "\n",
    "    for sat_idx in satellites_idx:\n",
    "        host_id = catalog[indices_of_prim_haloprop_bin][sat_idx]['halo_upid']\n",
    "        \n",
    "        if host_id in host_map:\n",
    "            new_host_id, hosts_old_satellite_idx = host_map[host_id]\n",
    "        else:\n",
    "            new_host_id = shuffled_hosts_id[shuffled_arrays_idx]\n",
    "            hosts_old_satellite_idx = shuffled_sat_idxs[shuffled_arrays_idx]\n",
    "            host_map[host_id] = (new_host_id, hosts_old_satellite_idx)\n",
    "            shuffled_arrays_idx+=1\n",
    "            \n",
    "        shuffled_upids[indices_of_prim_haloprop_bin[sat_idx]] = new_host_id\n",
    "        \n",
    "        shuffled_host_mvir[indices_of_prim_haloprop_bin[sat_idx]] = \\\n",
    "                catalog[indices_of_prim_haloprop_bin[satellites_idx]][hosts_old_satellite_idx]['halo_mvir_host_halo']\n",
    "\n",
    "\n",
    "        hc_x, hc_y, hc_z = cat.model.model_dictionary['satellites_profile'].mc_halo_centric_pos(\\\n",
    "                                                        catalog[indices_of_prim_haloprop_bin[sat_idx]]['halo_nfw_conc_host_halo'],\n",
    "                                                        halo_radius = catalog[indices_of_prim_haloprop_bin[sat_idx]]['halo_rvir_host_halo'])\n",
    "        \n",
    "        \n",
    "        for idx, (coord, hc) in enumerate(izip(['x','y','z'], [hc_x, hc_y, hc_z])):\n",
    "            #shuffled_pos[indices_of_prim_haloprop_bin[satellites_idx], idx] = \\\n",
    "            #        (catalog[indices_of_prim_haloprop_bin[satellites_idx]]['halo_'+coord] -\\\n",
    "            #        host_halo_pos[indices_of_prim_haloprop_bin[satellites_idx], idx]+\\\n",
    "            #        host_halo_pos[rand_host_idxs, idx])%Lbox\n",
    "\n",
    "            shuffled_pos[indices_of_prim_haloprop_bin[sat_idx],idx] =\\\n",
    "                        (catalog[indices_of_prim_haloprop_bin[satellites_idx][hosts_old_satellite_idx]]['halo_'+coord+'_host_halo'] + hc)%Lbox\n"
   ]
  },
  {
   "cell_type": "raw",
   "metadata": {},
   "source": [
    "for i, idx in enumerate(indices_of_prim_haloprop_bin[satellites_idx]):\n",
    "    try:\n",
    "        if shuffled_upids[idx] == catalog[idx]['halo_upid']:\n",
    "            assert all([abs(shuffled_pos[idx, 0] - catalog[idx]['halo_x_host_halo']) < 1.0, \n",
    "                       abs(shuffled_pos[idx, 1] - catalog[idx]['halo_y_host_halo']) < 1.0,\n",
    "                       abs(shuffled_pos[idx, 2] - catalog[idx]['halo_z_host_halo']) < 1.0 ])\n",
    "        else:\n",
    "            assert all([abs(shuffled_pos[idx, 0] - catalog[idx]['halo_x_host_halo']) > 1.0, \n",
    "                       abs(shuffled_pos[idx, 1] - catalog[idx]['halo_y_host_halo']) > 1.0,\n",
    "                       abs(shuffled_pos[idx, 2] - catalog[idx]['halo_z_host_halo'])>1.0])\n",
    "    except AssertionError:\n",
    "        print i,idx\n",
    "        print shuffled_upids[idx],catalog[idx]['halo_upid']\n",
    "\n",
    "        print shuffled_pos[idx]\n",
    "        print catalog[idx]['halo_x_host_halo'], catalog[idx]['halo_y_host_halo'],catalog[idx]['halo_z_host_halo']\n",
    "        print '*'"
   ]
  },
  {
   "cell_type": "raw",
   "metadata": {},
   "source": [
    "from itertools import cycle\n",
    "colors = cycle(sns.color_palette())\n",
    "\n",
    "for color, halo_id in zip(colors, np.unique(shuffled_upids[indices_of_prim_haloprop_bin[satellites_idx]])):\n",
    "    idxs_of_sat_members = np.where(shuffled_upids[indices_of_prim_haloprop_bin]==halo_id)[0]\n",
    "    idx_of_host = np.where(catalog[indices_of_prim_haloprop_bin]['halo_id'] == halo_id)\n",
    "    plt.scatter(shuffled_pos[indices_of_prim_haloprop_bin[idxs_of_sat_members],0],\\\n",
    "            shuffled_pos[indices_of_prim_haloprop_bin[idxs_of_sat_members],1], color = color, alpha = 0.8)\n",
    "    plt.scatter(shuffled_pos[indices_of_prim_haloprop_bin[idx_of_host],0],\\\n",
    "            shuffled_pos[indices_of_prim_haloprop_bin[idx_of_host],1], color = color, marker = 'v', s = 100, alpha = 1.0)\n",
    "    plt.show()\n",
    "\n"
   ]
  },
  {
   "cell_type": "code",
   "execution_count": null,
   "metadata": {
    "collapsed": false
   },
   "outputs": [],
   "source": [
    "catalog['halo_sh_shuffled_vpeak_mag'] = shuffled_mags[:,0]\n",
    "catalog['halo_sh_shuffled_vvir_mag'] = shuffled_mags[:,1]\n",
    "catalog['halo_sh_shuffled_alpha_05_mag'] = shuffled_mags[:,2]\n",
    "catalog['halo_sh_shuffled_x'] = shuffled_pos[:,0]\n",
    "catalog['halo_sh_shuffled_y'] = shuffled_pos[:,1]\n",
    "catalog['halo_sh_shuffled_z'] = shuffled_pos[:,2]\n",
    "catalog['halo_sh_shuffled_upid']=shuffled_upids[:]\n",
    "catalog['halo_sh_shuffled_host_mvir'] = shuffled_host_mvir[:]"
   ]
  },
  {
   "cell_type": "raw",
   "metadata": {
    "collapsed": true
   },
   "source": [
    "catalog.write('abmatched_halos.hdf5', format = 'hdf5', path = './abmatched_halos.hdf5', overwrite=True)"
   ]
  },
  {
   "cell_type": "code",
   "execution_count": null,
   "metadata": {
    "collapsed": false
   },
   "outputs": [],
   "source": [
    "%%bash\n",
    "ls -lt *.hdf5"
   ]
  },
  {
   "cell_type": "code",
   "execution_count": null,
   "metadata": {
    "collapsed": true
   },
   "outputs": [],
   "source": []
  },
  {
   "cell_type": "code",
   "execution_count": null,
   "metadata": {
    "collapsed": true
   },
   "outputs": [],
   "source": []
  },
  {
   "cell_type": "code",
   "execution_count": null,
   "metadata": {
    "collapsed": true
   },
   "outputs": [],
   "source": []
  }
 ],
 "metadata": {
  "kernelspec": {
   "display_name": "Python [conda env:hodemulator]",
   "language": "python",
   "name": "conda-env-hodemulator-py"
  },
  "language_info": {
   "codemirror_mode": {
    "name": "ipython",
    "version": 2
   },
   "file_extension": ".py",
   "mimetype": "text/x-python",
   "name": "python",
   "nbconvert_exporter": "python",
   "pygments_lexer": "ipython2",
   "version": "2.7.13"
  }
 },
 "nbformat": 4,
 "nbformat_minor": 0
}
