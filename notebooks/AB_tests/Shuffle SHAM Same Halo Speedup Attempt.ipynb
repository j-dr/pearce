{
 "cells": [
  {
   "cell_type": "markdown",
   "metadata": {},
   "source": [
    "Change the positions of the galaxies in a SHAM to be shuffled then NFW-distributed, instead of on the subhalos. \n",
    "\n",
    "Shuffling procedure is as followed, from Jeremey\n",
    "\n",
    "procedure:\n",
    "\n",
    "take a bin in halo mass (small bins, like 0.1dex wide). (this is all halos, regardless of whether they have a galaxy in them or not). take all the centrals and put them in a list. take all the satellites and put them in a separate list.\n",
    "\n",
    "randomly assign the centrals to all the halos in the bin.\n",
    "\n",
    "randomly assign each satellite to a halo in the bin (repeat until all satellites are gone. this should preserve poisson distribution of satellite occupation). when assigning a satellite to a halo, preserve the position of the satellite and velocity of the satellite relative to the original host halo. ie, your list of satllites has dx, dy, dz, and dvx, dvy, dvz, then you add x, y, z, and vx, vy, vz of the new halo to those quantities."
   ]
  },
  {
   "cell_type": "code",
   "execution_count": 142,
   "metadata": {
    "collapsed": false
   },
   "outputs": [],
   "source": [
    "import numpy as np\n",
    "import astropy\n",
    "from itertools import izip\n",
    "from pearce.mocks import compute_prim_haloprop_bins, cat_dict\n",
    "from pearce.mocks.customHODModels import *\n",
    "from halotools.utils.table_utils import compute_conditional_percentiles\n",
    "from halotools.utils import *\n",
    "from halotools.mock_observables import tpcf"
   ]
  },
  {
   "cell_type": "code",
   "execution_count": 143,
   "metadata": {
    "collapsed": true
   },
   "outputs": [],
   "source": [
    "from matplotlib import pyplot as plt\n",
    "%matplotlib inline\n",
    "import seaborn as sns\n",
    "sns.set()"
   ]
  },
  {
   "cell_type": "code",
   "execution_count": 144,
   "metadata": {
    "collapsed": false
   },
   "outputs": [],
   "source": [
    "PMASS = 591421440.0000001 #chinchilla 400/ 2048\n",
    "Lbox = 400.0\n",
    "#catalog = np.loadtxt('ab_sham_hod_data_cut.npy')\n",
    "catalog = astropy.table.Table.read('abmatched_halos.hdf5', format = 'hdf5')"
   ]
  },
  {
   "cell_type": "code",
   "execution_count": 145,
   "metadata": {
    "collapsed": true
   },
   "outputs": [],
   "source": [
    "catalog = catalog[catalog['halo_mvir'] > 200*PMASS]"
   ]
  },
  {
   "cell_type": "code",
   "execution_count": 146,
   "metadata": {
    "collapsed": false
   },
   "outputs": [
    {
     "data": {
      "text/plain": [
       "['halo_upid',\n",
       " 'halo_y',\n",
       " 'halo_x',\n",
       " 'halo_z',\n",
       " 'halo_rvir',\n",
       " 'halo_vpeak',\n",
       " 'halo_rs_klypin',\n",
       " 'halo_snapnum',\n",
       " 'halo_halfmass_scale',\n",
       " 'halo_id',\n",
       " 'halo_vx',\n",
       " 'halo_vy',\n",
       " 'halo_vz',\n",
       " 'halo_rs',\n",
       " 'halo_mvir',\n",
       " 'halo_nfw_conc',\n",
       " 'halo_vpeak_mag',\n",
       " 'halo_vvir_mag',\n",
       " 'halo_alpha_05_mag',\n",
       " 'halo_shuffled_vpeak_mag',\n",
       " 'halo_shuffled_vvir_mag',\n",
       " 'halo_shuffled_alpha_05_mag',\n",
       " 'host_halo_nfw_conc',\n",
       " 'host_halo_rvir',\n",
       " 'halo_nfw_x',\n",
       " 'halo_nfw_y',\n",
       " 'halo_nfw_z',\n",
       " 'halo_sh_shuffled_vpeak_mag',\n",
       " 'halo_sh_shuffled_vvir_mag',\n",
       " 'halo_sh_shuffled_alpha_05_mag',\n",
       " 'halo_shuffled_x',\n",
       " 'halo_shuffled_y',\n",
       " 'halo_shuffled_z',\n",
       " 'halo_shuffled_upid',\n",
       " 'halo_shuffled_host_mvir',\n",
       " 'halo_sh_shuffled_x',\n",
       " 'halo_sh_shuffled_y',\n",
       " 'halo_sh_shuffled_z',\n",
       " 'halo_sh_shuffled_upid',\n",
       " 'halo_sh_shuffled_host_mvir',\n",
       " 'halo_sh_shuffled_cen_vpeak_mag',\n",
       " 'halo_sh_shuffled_cen_vvir_mag',\n",
       " 'halo_sh_shuffled_cen_alpha_05_mag',\n",
       " 'halo_sh_shuffled_cen_x',\n",
       " 'halo_sh_shuffled_cen_y',\n",
       " 'halo_sh_shuffled_cen_z',\n",
       " 'halo_sh_shuffled_cen_upid',\n",
       " 'halo_sh_shuffled_cen_host_mvir',\n",
       " 'halo_sh_shuffled_sats_vpeak_mag',\n",
       " 'halo_sh_shuffled_sats_vvir_mag',\n",
       " 'halo_sh_shuffled_sats_alpha_05_mag',\n",
       " 'halo_sh_shuffled_sats_x',\n",
       " 'halo_sh_shuffled_sats_y',\n",
       " 'halo_sh_shuffled_sats_z',\n",
       " 'halo_sh_shuffled_sats_upid',\n",
       " 'halo_sh_shuffled_sats_host_mvir',\n",
       " 'halo_hostid',\n",
       " 'halo_x_host_halo',\n",
       " 'halo_y_host_halo',\n",
       " 'halo_z_host_halo',\n",
       " 'halo_nfw_conc_host_halo',\n",
       " 'halo_mvir_host_halo',\n",
       " 'halo_rvir_host_halo']"
      ]
     },
     "execution_count": 146,
     "metadata": {},
     "output_type": "execute_result"
    }
   ],
   "source": [
    "catalog.colnames"
   ]
  },
  {
   "cell_type": "raw",
   "metadata": {
    "collapsed": false
   },
   "source": [
    "#del catalog['halo_shuffled_x']\n",
    "#del catalog['halo_shuffled_y']\n",
    "#del catalog['halo_shuffled_z']\n",
    "#del catalog['halo_shuffled_nfw_conc']\n",
    "#del catalog['halo_shuffled_rvir']\n",
    "#del catalog['halo_shuffled_mvir']\n",
    "del catalog['halo_shuffled_host_mvir']\n",
    "del catalog['halo_shuffled_upid']"
   ]
  },
  {
   "cell_type": "raw",
   "metadata": {
    "collapsed": true
   },
   "source": [
    "#del catalog['halo_sh_shuffled_x']\n",
    "#del catalog['halo_sh_shuffled_y']\n",
    "#del catalog['halo_sh_shuffled_z']\n",
    "#del catalog['halo_sh_shuffled_nfw_conc']\n",
    "#del catalog['halo_sh_shuffled_rvir']\n",
    "#del catalog['halo_sh_shuffled_mvir']\n",
    "del catalog['halo_sh_shuffled_host_mvir']\n",
    "del catalog['halo_sh_shuffled_upid']"
   ]
  },
  {
   "cell_type": "code",
   "execution_count": 147,
   "metadata": {
    "collapsed": false
   },
   "outputs": [],
   "source": [
    "add_halo_hostid(catalog, delete_possibly_existing_column=True)"
   ]
  },
  {
   "cell_type": "code",
   "execution_count": 148,
   "metadata": {
    "collapsed": false
   },
   "outputs": [],
   "source": [
    "for prop in ['halo_x', 'halo_y', 'halo_z', 'halo_nfw_conc', 'halo_mvir', 'halo_rvir']:\n",
    "    broadcast_host_halo_property(catalog, prop, delete_possibly_existing_column=True)"
   ]
  },
  {
   "cell_type": "code",
   "execution_count": 149,
   "metadata": {
    "collapsed": true
   },
   "outputs": [],
   "source": [
    "r_bins = np.logspace(-1.1, 1.6, 18)\n",
    "rbc = (r_bins[1:]+r_bins[:-1])/2"
   ]
  },
  {
   "cell_type": "code",
   "execution_count": 150,
   "metadata": {
    "collapsed": false
   },
   "outputs": [],
   "source": [
    "from halotools.utils.table_utils import compute_prim_haloprop_bins\n",
    "from math import ceil\n",
    "min_log_mass = np.log10(np.min(catalog['halo_mvir']))-0.001\n",
    "max_log_mass = np.log10(np.max(catalog['halo_mvir']))+0.001\n",
    "dlog10_prim_haloprop = 0.1\n",
    "num_prim_haloprop_bins = (max_log_mass - min_log_mass) / dlog10_prim_haloprop\n",
    "prim_haloprop_bin_boundaries = np.logspace(min_log_mass, max_log_mass,\n",
    "    num=int(ceil(num_prim_haloprop_bins)))\n",
    "\n",
    "prim_haloprop_bins = compute_prim_haloprop_bins(prim_haloprop = catalog['halo_mvir_host_halo'],\\\n",
    "                                                dlog10_prim_haloprop=dlog10_prim_haloprop,\n",
    "                                                prim_haloprop_bin_boundaries = prim_haloprop_bin_boundaries)"
   ]
  },
  {
   "cell_type": "code",
   "execution_count": 151,
   "metadata": {
    "collapsed": false
   },
   "outputs": [],
   "source": [
    "shuffled_pos = np.zeros((len(catalog), 3))\n",
    "shuffled_upids = np.zeros((len(catalog)))\n",
    "shuffled_host_mvir = np.zeros((len(catalog)))"
   ]
  },
  {
   "cell_type": "code",
   "execution_count": 152,
   "metadata": {
    "collapsed": false
   },
   "outputs": [],
   "source": [
    "shuffled_mags = np.zeros((len(catalog), 3))\n",
    "#shuffled_mags[:, 0] = catalog['halo_vpeak_mag']\n",
    "#shuffled_mags[:, 1] = catalog['halo_vvir_mag']\n",
    "#shuffled_mags[:, 2] = catalog['halo_alpha_05_mag']"
   ]
  },
  {
   "cell_type": "code",
   "execution_count": 153,
   "metadata": {
    "collapsed": true
   },
   "outputs": [],
   "source": [
    "from pearce.mocks import cat_dict\n",
    "cosmo_params = {'simname':'chinchilla', 'Lbox':400.0, 'scale_factors':[0.658, 1.0]}\n",
    "cat = cat_dict[cosmo_params['simname']](**cosmo_params)#construct the specified catalog!\n",
    "cat.load_model(1.0, HOD = 'redMagic')"
   ]
  },
  {
   "cell_type": "code",
   "execution_count": 154,
   "metadata": {
    "collapsed": false
   },
   "outputs": [
    {
     "name": "stdout",
     "output_type": "stream",
     "text": [
      "0\n",
      "1\n",
      "2\n",
      "3\n",
      "4\n",
      "5\n",
      "6\n",
      "7\n",
      "8\n",
      "9\n",
      "10\n",
      "11\n",
      "12\n",
      "13\n",
      "14\n",
      "15\n",
      "16\n",
      "17\n",
      "18\n",
      "19\n",
      "20\n",
      "21\n",
      "22\n",
      "23\n",
      "24\n",
      "25\n",
      "26\n",
      "27\n",
      "28\n",
      "29\n",
      "30\n",
      "31\n",
      "32\n",
      "33\n",
      "34\n",
      "35\n",
      "36\n",
      "37\n",
      "38\n",
      "39\n",
      "40\n",
      "41\n",
      "42\n",
      "43\n"
     ]
    }
   ],
   "source": [
    "bins_in_halocat = set(prim_haloprop_bins)\n",
    "\n",
    "for ibin in bins_in_halocat:\n",
    "    print ibin\n",
    " \n",
    "    indices_of_prim_haloprop_bin = np.where(prim_haloprop_bins == ibin)[0]\n",
    "    \n",
    "    centrals_idx = np.where(catalog[indices_of_prim_haloprop_bin]['halo_upid'] == -1)[0]\n",
    "    n_centrals = len(centrals_idx)\n",
    "    satellites_idx = np.where(catalog[indices_of_prim_haloprop_bin]['halo_upid']!=-1)[0]\n",
    "    n_satellites = len(satellites_idx)\n",
    "    \n",
    "    if centrals_idx.shape[0]!=0:\n",
    "        rand_central_idxs = np.random.choice(indices_of_prim_haloprop_bin[centrals_idx], size = n_centrals, replace = False)\n",
    "    else:\n",
    "        rand_central_idxs = np.array([])\n",
    "\n",
    "    for idx, coord in enumerate(['vpeak', 'vvir', 'alpha_05']):\n",
    "        shuffled_mags[indices_of_prim_haloprop_bin[centrals_idx], idx]= \\\n",
    "                catalog[rand_central_idxs]['halo_'+coord+'_mag']\n",
    "            \n",
    "        shuffled_mags[indices_of_prim_haloprop_bin[satellites_idx],idx ] = \\\n",
    "                catalog[indices_of_prim_haloprop_bin[satellites_idx]]['halo_'+coord+'_mag']\n",
    "    #Create second rand_central_idxs, Iterate through satellite hosts and assign them when they match. \n",
    "    \n",
    "    for idx, coord in enumerate(['x','y','z']):\n",
    "        # don't need to shuffle positions cu we've shuffled mags for centrals\n",
    "        shuffled_pos[indices_of_prim_haloprop_bin[centrals_idx], idx] = \\\n",
    "                catalog[indices_of_prim_haloprop_bin[centrals_idx]]['halo_'+coord]\n",
    "            \n",
    "    shuffled_upids[indices_of_prim_haloprop_bin[centrals_idx]] = -1\n",
    "    \n",
    "    shuffled_host_mvir[indices_of_prim_haloprop_bin[centrals_idx]] = \\\n",
    "            catalog[indices_of_prim_haloprop_bin[centrals_idx]]['halo_mvir']\n",
    "        \n",
    "    unique_hosts_id, first_sat_idxs, inverse_idxs = np.unique(catalog[indices_of_prim_haloprop_bin[satellites_idx]]['halo_upid'],\\\n",
    "                                                       return_index=True, return_inverse=True)\n",
    "\n",
    "    shuffled_idxs = np.random.permutation(unique_hosts_id.shape[0])\n",
    "    shuffled_hosts_id = unique_hosts_id[shuffled_idxs]\n",
    "    shuffled_sat_idxs = first_sat_idxs[shuffled_idxs]\n",
    "    shuffled_arrays_idx = 0\n",
    "    host_map = dict() #maps the current host id to the index of a new host id. \n",
    "    #the host_id -> idx map is easier than the host_id -> host_id map\n",
    "    \n",
    "    new_host_ids = shuffled_hosts_id[inverse_idxs]\n",
    "    hosts_old_satellite_idxs = shuffled_sat_idxs[inverse_idxs]\n",
    "    '''\n",
    "    for iii, sat_idx in enumerate(satellites_idx):\n",
    "        host_id = catalog[indices_of_prim_haloprop_bin[sat_idx]]['halo_upid']\n",
    "        \n",
    "        if host_id in host_map:\n",
    "            new_host_id, hosts_old_satellite_idx = host_map[host_id]\n",
    "        else:\n",
    "            new_host_id = shuffled_hosts_id[shuffled_arrays_idx]\n",
    "            hosts_old_satellite_idx = shuffled_sat_idxs[shuffled_arrays_idx]\n",
    "            host_map[host_id] = (new_host_id, hosts_old_satellite_idx)\n",
    "            shuffled_arrays_idx+=1\n",
    "        \n",
    "        #print new_host_id, new_host_ids[iii]\n",
    "        #print hosts_old_satellite_idx, hosts_oldsatellite_idxs[iii]\n",
    "    break\n",
    "    '''\n",
    "            \n",
    "    shuffled_upids[indices_of_prim_haloprop_bin[satellites_idx]] = new_host_ids\n",
    "    \n",
    "    if np.any(shuffled_upids[indices_of_prim_haloprop_bin] == 0.0):\n",
    "        print ibin\n",
    "        print np.sum(shuffled_upids[indices_of_prim_haloprop_binces_of_prim_haloprop_bin]==0.0)\n",
    "\n",
    "    shuffled_host_mvir[indices_of_prim_haloprop_bin[satellites_idx]] = \\\n",
    "            catalog[indices_of_prim_haloprop_bin[satellites_idx]][hosts_old_satellite_idxs]['halo_mvir_host_halo']\n",
    "\n",
    "\n",
    "    hc_x, hc_y, hc_z = cat.model.model_dictionary['satellites_profile'].mc_halo_centric_pos(\\\n",
    "                                                    catalog[indices_of_prim_haloprop_bin[satellites_idx]]['halo_nfw_conc_host_halo'],\n",
    "                                                    halo_radius = catalog[indices_of_prim_haloprop_bin[satellites_idx]]['halo_rvir_host_halo'])\n",
    "\n",
    "\n",
    "    for idx, (coord, hc) in enumerate(izip(['x','y','z'], [hc_x, hc_y, hc_z])):\n",
    "        #shuffled_pos[indices_of_prim_haloprop_bin[satellites_idx], idx] = \\\n",
    "        #        (catalog[indices_of_prim_haloprop_bin[satellites_idx]]['halo_'+coord] -\\\n",
    "        #        host_halo_pos[indices_of_prim_haloprop_bin[satellites_idx], idx]+\\\n",
    "        #        host_halo_pos[rand_host_idxs, idx])%Lbox\n",
    "\n",
    "        #shuffled_pos[indices_of_prim_haloprop_bin[satellites_idx],idx] =\\\n",
    "        #            (catalog[indices_of_prim_haloprop_bin[satellites_idx][hosts_old_satellite_idxs]]['halo_'+coord+'_host_halo'] + hc)%Lbox\n",
    "        shuffled_pos[indices_of_prim_haloprop_bin[satellites_idx], idx] = \\\n",
    "                (catalog[indices_of_prim_haloprop_bin[satellites_idx]]['halo_'+coord] -\\\n",
    "                 catalog[indices_of_prim_haloprop_bin[satellites_idx]]['halo_'+coord+'_host_halo']+\\\n",
    "                 catalog[indices_of_prim_haloprop_bin[satellites_idx]][hosts_old_satellite_idxs]['halo_'+coord+'_host_halo'])%Lbox\n",
    "\n",
    "                             "
   ]
  },
  {
   "cell_type": "raw",
   "metadata": {},
   "source": [
    "for i, idx in enumerate(indices_of_prim_haloprop_bin[satellites_idx]):\n",
    "    try:\n",
    "        if shuffled_upids[idx] == catalog[idx]['halo_upid']:\n",
    "            assert all([abs(shuffled_pos[idx, 0] - catalog[idx]['halo_x_host_halo']) < 1.0, \n",
    "                       abs(shuffled_pos[idx, 1] - catalog[idx]['halo_y_host_halo']) < 1.0,\n",
    "                       abs(shuffled_pos[idx, 2] - catalog[idx]['halo_z_host_halo']) < 1.0 ])\n",
    "        else:\n",
    "            assert all([abs(shuffled_pos[idx, 0] - catalog[idx]['halo_x_host_halo']) > 1.0, \n",
    "                       abs(shuffled_pos[idx, 1] - catalog[idx]['halo_y_host_halo']) > 1.0,\n",
    "                       abs(shuffled_pos[idx, 2] - catalog[idx]['halo_z_host_halo'])>1.0])\n",
    "    except AssertionError:\n",
    "        print i,idx\n",
    "        print shuffled_upids[idx],catalog[idx]['halo_upid']\n",
    "\n",
    "        print shuffled_pos[idx]\n",
    "        print catalog[idx]['halo_x_host_halo'], catalog[idx]['halo_y_host_halo'],catalog[idx]['halo_z_host_halo']\n",
    "        print '*'"
   ]
  },
  {
   "cell_type": "raw",
   "metadata": {},
   "source": [
    "from itertools import cycle\n",
    "colors = cycle(sns.color_palette())\n",
    "\n",
    "for color, halo_id in zip(colors, np.unique(shuffled_upids[indices_of_prim_haloprop_bin[satellites_idx]])):\n",
    "    idxs_of_sat_members = np.where(shuffled_upids[indices_of_prim_haloprop_bin]==halo_id)[0]\n",
    "    idx_of_host = np.where(catalog[indices_of_prim_haloprop_bin]['halo_id'] == halo_id)\n",
    "    plt.scatter(shuffled_pos[indices_of_prim_haloprop_bin[idxs_of_sat_members],0],\\\n",
    "            shuffled_pos[indices_of_prim_haloprop_bin[idxs_of_sat_members],1], color = color, alpha = 0.8)\n",
    "    plt.scatter(shuffled_pos[indices_of_prim_haloprop_bin[idx_of_host],0],\\\n",
    "            shuffled_pos[indices_of_prim_haloprop_bin[idx_of_host],1], color = color, marker = 'v', s = 100, alpha = 1.0)\n",
    "    plt.show()\n",
    "\n"
   ]
  },
  {
   "cell_type": "code",
   "execution_count": 155,
   "metadata": {
    "collapsed": false
   },
   "outputs": [],
   "source": [
    "catalog['halo_sh_shuffled_vpeak_mag'] = shuffled_mags[:,0]\n",
    "catalog['halo_sh_shuffled_vvir_mag'] = shuffled_mags[:,1]\n",
    "catalog['halo_sh_shuffled_alpha_05_mag'] = shuffled_mags[:,2]\n",
    "catalog['halo_sh_shuffled_x'] = shuffled_pos[:,0]\n",
    "catalog['halo_sh_shuffled_y'] = shuffled_pos[:,1]\n",
    "catalog['halo_sh_shuffled_z'] = shuffled_pos[:,2]\n",
    "catalog['halo_sh_shuffled_upid']=shuffled_upids[:]\n",
    "catalog['halo_sh_shuffled_host_mvir'] = shuffled_host_mvir[:]"
   ]
  },
  {
   "cell_type": "code",
   "execution_count": 156,
   "metadata": {
    "collapsed": true
   },
   "outputs": [],
   "source": [
    "r_bins = np.logspace(-1.1, 1.6, 18)\n",
    "rbc = (r_bins[1:]+r_bins[:-1])/2"
   ]
  },
  {
   "cell_type": "code",
   "execution_count": 157,
   "metadata": {
    "collapsed": true
   },
   "outputs": [],
   "source": [
    "galaxy_catalog = catalog[catalog['halo_vpeak_mag'] <= -21]"
   ]
  },
  {
   "cell_type": "code",
   "execution_count": 158,
   "metadata": {
    "collapsed": true
   },
   "outputs": [],
   "source": [
    "mock_pos = np.c_[galaxy_catalog['halo_x'],\\\n",
    "                     galaxy_catalog['halo_y'],\\\n",
    "                     galaxy_catalog['halo_z']]\n",
    "sham_xi = tpcf(mock_pos, r_bins , period=400.0, num_threads=1)"
   ]
  },
  {
   "cell_type": "code",
   "execution_count": 159,
   "metadata": {
    "collapsed": true
   },
   "outputs": [],
   "source": [
    "galaxy_catalog = catalog[catalog['halo_shuffled_vpeak_mag'] <= -21]"
   ]
  },
  {
   "cell_type": "code",
   "execution_count": 160,
   "metadata": {
    "collapsed": true
   },
   "outputs": [],
   "source": [
    "mock_pos = np.c_[galaxy_catalog['halo_sh_shuffled_x'],\\\n",
    "                 galaxy_catalog['halo_sh_shuffled_y'],\\\n",
    "                 galaxy_catalog['halo_sh_shuffled_z']]\n",
    "shuffled_xi = tpcf(mock_pos, r_bins , period=400.0, num_threads=1)"
   ]
  },
  {
   "cell_type": "code",
   "execution_count": 161,
   "metadata": {
    "collapsed": false
   },
   "outputs": [
    {
     "data": {
      "text/plain": [
       "<matplotlib.text.Text at 0x7fef1b57d090>"
      ]
     },
     "execution_count": 161,
     "metadata": {},
     "output_type": "execute_result"
    },
    {
     "data": {
      "image/png": "[encoded data removed]",
      "text/plain": [
       "<matplotlib.figure.Figure at 0x7fef2412e290>"
      ]
     },
     "metadata": {},
     "output_type": "display_data"
    }
   ],
   "source": [
    "plt.figure(figsize=(10,8))\n",
    "plt.plot(rbc, shuffled_xi/sham_xi)\n",
    "plt.xscale('log')\n",
    "plt.legend(loc='best')\n",
    "plt.xlim([1e-1, 5e0]);\n",
    "plt.ylim([0.75,1.25]);\n",
    "plt.xlabel(r'$r$ [Mpc/h]',fontsize = 15)\n",
    "#plt.ylabel(r'$\\xi_{X} (r)/\\xi_{SHAM} (r)$',fontsize = 15)\n",
    "#plt.title(r'$\\xi (r)$ ratio for model X/SHAM, %s'%mag_type, fontsize = 20)"
   ]
  },
  {
   "cell_type": "raw",
   "metadata": {
    "collapsed": true
   },
   "source": [
    "catalog.write('abmatched_halos.hdf5', format = 'hdf5', path = './abmatched_halos.hdf5', overwrite=True)"
   ]
  },
  {
   "cell_type": "code",
   "execution_count": 162,
   "metadata": {
    "collapsed": false
   },
   "outputs": [
    {
     "name": "stdout",
     "output_type": "stream",
     "text": [
      "-rw-r--r-- 1 swmclau2 des 794838268 Oct 16 21:25 abmatched_halos.hdf5\n"
     ]
    }
   ],
   "source": [
    "%%bash\n",
    "ls -lt *.hdf5"
   ]
  },
  {
   "cell_type": "code",
   "execution_count": 163,
   "metadata": {
    "collapsed": false
   },
   "outputs": [],
   "source": [
    "Lbox = 1000.0\n",
    "#catalog = np.loadtxt('ab_sham_hod_data_cut.npy')\n",
    "ab_property = 'halo_vmax@mpeak'\n",
    "sh_catalog = astropy.table.Table.read('../catalog_ab_%s_shuffled.hdf5'%ab_property, format = 'hdf5')"
   ]
  },
  {
   "cell_type": "code",
   "execution_count": 164,
   "metadata": {
    "collapsed": false
   },
   "outputs": [],
   "source": [
    "catalog = astropy.table.Table.read('../catalog_ab_%s.hdf5'%ab_property, format = 'hdf5')"
   ]
  },
  {
   "cell_type": "code",
   "execution_count": 165,
   "metadata": {
    "collapsed": true
   },
   "outputs": [],
   "source": [
    "from halotools.mock_observables import tpcf"
   ]
  },
  {
   "cell_type": "code",
   "execution_count": 166,
   "metadata": {
    "collapsed": false
   },
   "outputs": [
    {
     "data": {
      "text/plain": [
       "(420000, 95969198)"
      ]
     },
     "execution_count": 166,
     "metadata": {},
     "output_type": "execute_result"
    }
   ],
   "source": [
    "len(sh_catalog), len(catalog)"
   ]
  },
  {
   "cell_type": "code",
   "execution_count": 167,
   "metadata": {
    "collapsed": true
   },
   "outputs": [],
   "source": [
    "nd = 4.2e-4 #nd of final cat \n",
    "n_obj_needed = int(nd*(1000.0**3))\n",
    "sort_idxs = np.argsort(catalog['gal_smass'])\n",
    "catalog = catalog[sort_idxs[:n_obj_needed]]\n",
    "sort_idxs = np.argsort(sh_catalog['gal_smass'])\n",
    "sh_catalog = sh_catalog[sort_idxs[:n_obj_needed]]"
   ]
  },
  {
   "cell_type": "code",
   "execution_count": 168,
   "metadata": {
    "collapsed": false
   },
   "outputs": [
    {
     "data": {
      "text/plain": [
       "420000"
      ]
     },
     "execution_count": 168,
     "metadata": {},
     "output_type": "execute_result"
    }
   ],
   "source": [
    "len(catalog)"
   ]
  },
  {
   "cell_type": "code",
   "execution_count": 169,
   "metadata": {
    "collapsed": false
   },
   "outputs": [
    {
     "data": {
      "text/plain": [
       "(array([ 35200.,  35616.,  36397.,  36463.,  35341.,  36013.,  34995.,\n",
       "         37134.,  35460.,  35318.]),\n",
       " array([  2.46999995e-03,   1.00001893e+02,   2.00001317e+02,\n",
       "          3.00000740e+02,   4.00000164e+02,   4.99999587e+02,\n",
       "          5.99999010e+02,   6.99998434e+02,   7.99997857e+02,\n",
       "          8.99997281e+02,   9.99996704e+02]),\n",
       " <a list of 10 Patch objects>)"
      ]
     },
     "execution_count": 169,
     "metadata": {},
     "output_type": "execute_result"
    },
    {
     "data": {
      "image/png": "[encoded data removed]",
      "text/plain": [
       "<matplotlib.figure.Figure at 0x7fef1e524790>"
      ]
     },
     "metadata": {},
     "output_type": "display_data"
    }
   ],
   "source": [
    "plt.hist(sh_catalog[sh_catalog['halo_upid']==-1]['halo_x'])"
   ]
  },
  {
   "cell_type": "code",
   "execution_count": 170,
   "metadata": {
    "collapsed": false
   },
   "outputs": [],
   "source": [
    "rbins = np.logspace(-1, 1.6, 18)\n",
    "xi = tpcf(np.c_[catalog['halo_x'], catalog['halo_y'], catalog['halo_z']],rbins, period=Lbox )"
   ]
  },
  {
   "cell_type": "code",
   "execution_count": 171,
   "metadata": {
    "collapsed": true
   },
   "outputs": [],
   "source": [
    "sh_xi = tpcf(np.c_[sh_catalog['halo_x'], sh_catalog['halo_y'],\\\n",
    "                   sh_catalog['halo_z']],rbins, period=Lbox )"
   ]
  },
  {
   "cell_type": "code",
   "execution_count": 172,
   "metadata": {
    "collapsed": false
   },
   "outputs": [
    {
     "data": {
      "text/plain": [
       "array([ 3.67454142,  3.38229835,  3.0758838 ,  2.76885344,  2.41782908,\n",
       "        2.0066631 ,  1.60576655,  1.2490129 ,  0.97391208,  0.73937097,\n",
       "        0.50400223,  0.26005055,  0.00531705, -0.25770528, -0.55083537,\n",
       "       -0.87000485, -1.24048386])"
      ]
     },
     "execution_count": 172,
     "metadata": {},
     "output_type": "execute_result"
    }
   ],
   "source": [
    "np.log10(sh_xi)"
   ]
  },
  {
   "cell_type": "code",
   "execution_count": 173,
   "metadata": {
    "collapsed": false
   },
   "outputs": [
    {
     "data": {
      "text/plain": [
       "<matplotlib.text.Text at 0x7fef189f36d0>"
      ]
     },
     "execution_count": 173,
     "metadata": {},
     "output_type": "execute_result"
    },
    {
     "data": {
      "image/png": "[encoded data removed]",
      "text/plain": [
       "<matplotlib.figure.Figure at 0x7fef18a58390>"
      ]
     },
     "metadata": {},
     "output_type": "display_data"
    }
   ],
   "source": [
    "rbc = (rbins[1:]+rbins[:-1])/2\n",
    "#plt.plot(rbc,sh_xi)\n",
    "plt.figure(figsize=(10,8))\n",
    "plt.plot(rbc, sh_xi/xi)\n",
    "\n",
    "plt.xscale('log')\n",
    "plt.legend(loc='best')\n",
    "plt.xlim([1e-1, 5e0]);\n",
    "plt.ylim([0.75,1.25]);\n",
    "plt.xlabel(r'$r$ [Mpc/h]',fontsize = 15)"
   ]
  },
  {
   "cell_type": "code",
   "execution_count": 174,
   "metadata": {
    "collapsed": true
   },
   "outputs": [],
   "source": [
    "from collections import Counter"
   ]
  },
  {
   "cell_type": "code",
   "execution_count": 175,
   "metadata": {
    "collapsed": false
   },
   "outputs": [
    {
     "data": {
      "text/plain": [
       "[(-1, 357937),\n",
       " (5509701498, 18),\n",
       " (5519871035, 15),\n",
       " (5587208456, 13),\n",
       " (5577648978, 12),\n",
       " (5522994639, 12),\n",
       " (5557612915, 12),\n",
       " (5587254222, 12),\n",
       " (5491707271, 12),\n",
       " (5561769120, 12)]"
      ]
     },
     "execution_count": 175,
     "metadata": {},
     "output_type": "execute_result"
    }
   ],
   "source": [
    "c1 = Counter(catalog['halo_upid'])\n",
    "c1.most_common(10)"
   ]
  },
  {
   "cell_type": "code",
   "execution_count": 176,
   "metadata": {
    "collapsed": false
   },
   "outputs": [
    {
     "ename": "KeyError",
     "evalue": "'halo_sh_shuffled_upid'",
     "output_type": "error",
     "traceback": [
      "\u001b[1;31m---------------------------------------------------------------------------\u001b[0m",
      "\u001b[1;31mKeyError\u001b[0m                                  Traceback (most recent call last)",
      "\u001b[1;32m<ipython-input-176-75ae50fdaebc>\u001b[0m in \u001b[0;36m<module>\u001b[1;34m()\u001b[0m\n\u001b[1;32m----> 1\u001b[1;33m \u001b[0mc2\u001b[0m \u001b[1;33m=\u001b[0m \u001b[0mCounter\u001b[0m\u001b[1;33m(\u001b[0m\u001b[0mcatalog\u001b[0m\u001b[1;33m[\u001b[0m\u001b[1;34m'halo_sh_shuffled_upid'\u001b[0m\u001b[1;33m]\u001b[0m\u001b[1;33m)\u001b[0m\u001b[1;33m\u001b[0m\u001b[0m\n\u001b[0m\u001b[0;32m      2\u001b[0m \u001b[0mc2\u001b[0m\u001b[1;33m.\u001b[0m\u001b[0mmost_common\u001b[0m\u001b[1;33m(\u001b[0m\u001b[1;36m10\u001b[0m\u001b[1;33m)\u001b[0m\u001b[1;33m\u001b[0m\u001b[0m\n",
      "\u001b[1;32m/u/ki/swmclau2/.conda/envs/hodemulator/lib/python2.7/site-packages/astropy/table/table.pyc\u001b[0m in \u001b[0;36m__getitem__\u001b[1;34m(self, item)\u001b[0m\n\u001b[0;32m   1200\u001b[0m     \u001b[1;32mdef\u001b[0m \u001b[0m__getitem__\u001b[0m\u001b[1;33m(\u001b[0m\u001b[0mself\u001b[0m\u001b[1;33m,\u001b[0m \u001b[0mitem\u001b[0m\u001b[1;33m)\u001b[0m\u001b[1;33m:\u001b[0m\u001b[1;33m\u001b[0m\u001b[0m\n\u001b[0;32m   1201\u001b[0m         \u001b[1;32mif\u001b[0m \u001b[0misinstance\u001b[0m\u001b[1;33m(\u001b[0m\u001b[0mitem\u001b[0m\u001b[1;33m,\u001b[0m \u001b[0msix\u001b[0m\u001b[1;33m.\u001b[0m\u001b[0mstring_types\u001b[0m\u001b[1;33m)\u001b[0m\u001b[1;33m:\u001b[0m\u001b[1;33m\u001b[0m\u001b[0m\n\u001b[1;32m-> 1202\u001b[1;33m             \u001b[1;32mreturn\u001b[0m \u001b[0mself\u001b[0m\u001b[1;33m.\u001b[0m\u001b[0mcolumns\u001b[0m\u001b[1;33m[\u001b[0m\u001b[0mitem\u001b[0m\u001b[1;33m]\u001b[0m\u001b[1;33m\u001b[0m\u001b[0m\n\u001b[0m\u001b[0;32m   1203\u001b[0m         \u001b[1;32melif\u001b[0m \u001b[0misinstance\u001b[0m\u001b[1;33m(\u001b[0m\u001b[0mitem\u001b[0m\u001b[1;33m,\u001b[0m \u001b[1;33m(\u001b[0m\u001b[0mint\u001b[0m\u001b[1;33m,\u001b[0m \u001b[0mnp\u001b[0m\u001b[1;33m.\u001b[0m\u001b[0minteger\u001b[0m\u001b[1;33m)\u001b[0m\u001b[1;33m)\u001b[0m\u001b[1;33m:\u001b[0m\u001b[1;33m\u001b[0m\u001b[0m\n\u001b[0;32m   1204\u001b[0m             \u001b[1;32mreturn\u001b[0m \u001b[0mself\u001b[0m\u001b[1;33m.\u001b[0m\u001b[0mRow\u001b[0m\u001b[1;33m(\u001b[0m\u001b[0mself\u001b[0m\u001b[1;33m,\u001b[0m \u001b[0mitem\u001b[0m\u001b[1;33m)\u001b[0m\u001b[1;33m\u001b[0m\u001b[0m\n",
      "\u001b[1;32m/u/ki/swmclau2/.conda/envs/hodemulator/lib/python2.7/site-packages/astropy/table/table.pyc\u001b[0m in \u001b[0;36m__getitem__\u001b[1;34m(self, item)\u001b[0m\n\u001b[0;32m    108\u001b[0m         \"\"\"\n\u001b[0;32m    109\u001b[0m         \u001b[1;32mif\u001b[0m \u001b[0misinstance\u001b[0m\u001b[1;33m(\u001b[0m\u001b[0mitem\u001b[0m\u001b[1;33m,\u001b[0m \u001b[0msix\u001b[0m\u001b[1;33m.\u001b[0m\u001b[0mstring_types\u001b[0m\u001b[1;33m)\u001b[0m\u001b[1;33m:\u001b[0m\u001b[1;33m\u001b[0m\u001b[0m\n\u001b[1;32m--> 110\u001b[1;33m             \u001b[1;32mreturn\u001b[0m \u001b[0mOrderedDict\u001b[0m\u001b[1;33m.\u001b[0m\u001b[0m__getitem__\u001b[0m\u001b[1;33m(\u001b[0m\u001b[0mself\u001b[0m\u001b[1;33m,\u001b[0m \u001b[0mitem\u001b[0m\u001b[1;33m)\u001b[0m\u001b[1;33m\u001b[0m\u001b[0m\n\u001b[0m\u001b[0;32m    111\u001b[0m         \u001b[1;32melif\u001b[0m \u001b[0misinstance\u001b[0m\u001b[1;33m(\u001b[0m\u001b[0mitem\u001b[0m\u001b[1;33m,\u001b[0m \u001b[1;33m(\u001b[0m\u001b[0mint\u001b[0m\u001b[1;33m,\u001b[0m \u001b[0mnp\u001b[0m\u001b[1;33m.\u001b[0m\u001b[0minteger\u001b[0m\u001b[1;33m)\u001b[0m\u001b[1;33m)\u001b[0m\u001b[1;33m:\u001b[0m\u001b[1;33m\u001b[0m\u001b[0m\n\u001b[0;32m    112\u001b[0m             \u001b[1;32mreturn\u001b[0m \u001b[0mself\u001b[0m\u001b[1;33m.\u001b[0m\u001b[0mvalues\u001b[0m\u001b[1;33m(\u001b[0m\u001b[1;33m)\u001b[0m\u001b[1;33m[\u001b[0m\u001b[0mitem\u001b[0m\u001b[1;33m]\u001b[0m\u001b[1;33m\u001b[0m\u001b[0m\n",
      "\u001b[1;31mKeyError\u001b[0m: 'halo_sh_shuffled_upid'"
     ]
    }
   ],
   "source": [
    "c2 = Counter(catalog['halo_sh_shuffled_upid'])\n",
    "c2.most_common(10)"
   ]
  },
  {
   "cell_type": "code",
   "execution_count": null,
   "metadata": {
    "collapsed": true
   },
   "outputs": [],
   "source": []
  }
 ],
 "metadata": {
  "kernelspec": {
   "display_name": "Python [conda env:hodemulator]",
   "language": "python",
   "name": "conda-env-hodemulator-py"
  },
  "language_info": {
   "codemirror_mode": {
    "name": "ipython",
    "version": 2
   },
   "file_extension": ".py",
   "mimetype": "text/x-python",
   "name": "python",
   "nbconvert_exporter": "python",
   "pygments_lexer": "ipython2",
   "version": "2.7.13"
  }
 },
 "nbformat": 4,
 "nbformat_minor": 0
}
