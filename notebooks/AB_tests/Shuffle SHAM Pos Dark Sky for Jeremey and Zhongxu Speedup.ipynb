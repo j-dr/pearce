{
 "cells": [
  {
   "cell_type": "markdown",
   "metadata": {},
   "source": [
    "Change the positions of the galaxies in a SHAM to be shuffled then NFW-distributed, instead of on the subhalos. \n",
    "\n",
    "Shuffling procedure is as followed, from Jeremey\n",
    "\n",
    "procedure:\n",
    "\n",
    "take a bin in halo mass (small bins, like 0.1dex wide). (this is all halos, regardless of whether they have a galaxy in them or not). take all the centrals and put them in a list. take all the satellites and put them in a separate list.\n",
    "\n",
    "randomly assign the centrals to all the halos in the bin.\n",
    "\n",
    "randomly assign each satellite to a halo in the bin (repeat until all satellites are gone. this should preserve poisson distribution of satellite occupation). when assigning a satellite to a halo, preserve the position of the satellite and velocity of the satellite relative to the original host halo. ie, your list of satllites has dx, dy, dz, and dvx, dvy, dvz, then you add x, y, z, and vx, vy, vz of the new halo to those quantities."
   ]
  },
  {
   "cell_type": "code",
   "execution_count": 32,
   "metadata": {
    "collapsed": false
   },
   "outputs": [],
   "source": [
    "import numpy as np\n",
    "import astropy\n",
    "from itertools import izip\n",
    "from halotools.utils.table_utils import compute_conditional_percentiles\n",
    "from halotools.utils import *"
   ]
  },
  {
   "cell_type": "code",
   "execution_count": 33,
   "metadata": {
    "collapsed": true
   },
   "outputs": [],
   "source": [
    "from halotools.mock_observables import tpcf"
   ]
  },
  {
   "cell_type": "code",
   "execution_count": 34,
   "metadata": {
    "collapsed": true
   },
   "outputs": [],
   "source": [
    "from matplotlib import pyplot as plt\n",
    "%matplotlib inline\n",
    "import seaborn as sns\n",
    "sns.set()"
   ]
  },
  {
   "cell_type": "code",
   "execution_count": 35,
   "metadata": {
    "collapsed": false
   },
   "outputs": [
    {
     "name": "stderr",
     "output_type": "stream",
     "text": [
      "WARNING: path= was not specified but multiple tables are present, reading in first available table (path=catalog_ab_halo_vmax@mpeak.hdf5) [astropy.io.misc.hdf5]\n",
      "WARNING:astropy:path= was not specified but multiple tables are present, reading in first available table (path=catalog_ab_halo_vmax@mpeak.hdf5)\n"
     ]
    }
   ],
   "source": [
    "Lbox = 1000.0\n",
    "#catalog = np.loadtxt('ab_sham_hod_data_cut.npy')\n",
    "\n",
    "ab_property = 'halo_vmax@mpeak'\n",
    "catalog = astropy.table.Table.read('../catalog_ab_%s_fixed_large.hdf5'%ab_property, format = 'hdf5')"
   ]
  },
  {
   "cell_type": "code",
   "execution_count": 36,
   "metadata": {
    "collapsed": false
   },
   "outputs": [
    {
     "data": {
      "text/plain": [
       "['halo_upid',\n",
       " 'halo_y',\n",
       " 'halo_x',\n",
       " 'halo_z',\n",
       " 'halo_vmax@mpeak',\n",
       " 'halo_rvir',\n",
       " 'halo_mpeak',\n",
       " 'halo_id',\n",
       " 'halo_vx',\n",
       " 'halo_vy',\n",
       " 'halo_vz',\n",
       " 'halo_rs',\n",
       " 'halo_mvir',\n",
       " 'halo_nfw_conc',\n",
       " 'halo_hostid',\n",
       " 'halo_mvir_host_halo',\n",
       " 'gal_smass']"
      ]
     },
     "execution_count": 36,
     "metadata": {},
     "output_type": "execute_result"
    }
   ],
   "source": [
    "catalog.colnames"
   ]
  },
  {
   "cell_type": "code",
   "execution_count": 37,
   "metadata": {
    "collapsed": true
   },
   "outputs": [],
   "source": [
    "PMASS = 7.62293e+07\n",
    "nd = 4.2e-4 #nd of final cat \n",
    "n_obj_needed = int(nd*(Lbox**3))"
   ]
  },
  {
   "cell_type": "code",
   "execution_count": 38,
   "metadata": {
    "collapsed": false
   },
   "outputs": [],
   "source": [
    "add_halo_hostid(catalog, delete_possibly_existing_column=True)"
   ]
  },
  {
   "cell_type": "code",
   "execution_count": 39,
   "metadata": {
    "collapsed": false
   },
   "outputs": [],
   "source": [
    "for prop in ['halo_x', 'halo_y', 'halo_z','halo_vx', 'halo_vy', 'halo_vz', 'halo_nfw_conc', 'halo_rvir']:\n",
    "    broadcast_host_halo_property(catalog, prop, delete_possibly_existing_column=True)"
   ]
  },
  {
   "cell_type": "code",
   "execution_count": 40,
   "metadata": {
    "collapsed": false
   },
   "outputs": [
    {
     "data": {
      "text/plain": [
       "95969198"
      ]
     },
     "execution_count": 40,
     "metadata": {},
     "output_type": "execute_result"
    }
   ],
   "source": [
    "len(catalog)"
   ]
  },
  {
   "cell_type": "code",
   "execution_count": 41,
   "metadata": {
    "collapsed": false
   },
   "outputs": [
    {
     "data": {
      "text/plain": [
       "['halo_upid',\n",
       " 'halo_y',\n",
       " 'halo_x',\n",
       " 'halo_z',\n",
       " 'halo_vmax@mpeak',\n",
       " 'halo_rvir',\n",
       " 'halo_mpeak',\n",
       " 'halo_id',\n",
       " 'halo_vx',\n",
       " 'halo_vy',\n",
       " 'halo_vz',\n",
       " 'halo_rs',\n",
       " 'halo_mvir',\n",
       " 'halo_nfw_conc',\n",
       " 'halo_mvir_host_halo',\n",
       " 'gal_smass',\n",
       " 'halo_hostid',\n",
       " 'halo_x_host_halo',\n",
       " 'halo_y_host_halo',\n",
       " 'halo_z_host_halo',\n",
       " 'halo_vx_host_halo',\n",
       " 'halo_vy_host_halo',\n",
       " 'halo_vz_host_halo',\n",
       " 'halo_nfw_conc_host_halo',\n",
       " 'halo_rvir_host_halo']"
      ]
     },
     "execution_count": 41,
     "metadata": {},
     "output_type": "execute_result"
    }
   ],
   "source": [
    "catalog.colnames"
   ]
  },
  {
   "cell_type": "code",
   "execution_count": 42,
   "metadata": {
    "collapsed": false
   },
   "outputs": [
    {
     "name": "stdout",
     "output_type": "stream",
     "text": [
      "9.68749945068 15.2108903656\n"
     ]
    }
   ],
   "source": [
    "from halotools.utils.table_utils import compute_prim_haloprop_bins\n",
    "from math import ceil\n",
    "min_log_mass = np.log10(np.min(catalog['halo_mvir']))-0.001\n",
    "max_log_mass = np.log10(np.max(catalog['halo_mvir']))+0.001\n",
    "print min_log_mass, max_log_mass\n",
    "dlog10_prim_haloprop = 0.1\n",
    "num_prim_haloprop_bins = (max_log_mass - min_log_mass) / dlog10_prim_haloprop\n",
    "prim_haloprop_bin_boundaries = np.logspace(min_log_mass, max_log_mass,\n",
    "    num=int(ceil(num_prim_haloprop_bins)))\n",
    "\n",
    "prim_haloprop_bins = compute_prim_haloprop_bins(prim_haloprop = catalog['halo_mvir_host_halo'],\\\n",
    "                                                dlog10_prim_haloprop=dlog10_prim_haloprop,\n",
    "                                                prim_haloprop_bin_boundaries = prim_haloprop_bin_boundaries)"
   ]
  },
  {
   "cell_type": "code",
   "execution_count": 43,
   "metadata": {
    "collapsed": false
   },
   "outputs": [],
   "source": [
    "shuffled_pos = np.zeros((len(catalog), 3))\n",
    "shuffled_vel = np.zeros((len(catalog), 3))\n",
    "shuffled_upids = np.zeros((len(catalog)))\n",
    "shuffled_host_mvir = np.zeros((len(catalog)))"
   ]
  },
  {
   "cell_type": "code",
   "execution_count": 44,
   "metadata": {
    "collapsed": false
   },
   "outputs": [],
   "source": [
    "shuffled_mags = np.zeros((len(catalog), 1))\n",
    "#shuffled_mags[:, 0] = catalog['halo_vpeak_mag']\n",
    "#shuffled_mags[:, 1] = catalog['halo_vvir_mag']\n",
    "#shuffled_mags[:, 2] = catalog['halo_alpha_05_mag']"
   ]
  },
  {
   "cell_type": "code",
   "execution_count": 45,
   "metadata": {
    "collapsed": false,
    "scrolled": true
   },
   "outputs": [
    {
     "name": "stdout",
     "output_type": "stream",
     "text": [
      "1\n",
      "2\n",
      "3\n",
      "4\n",
      "5\n",
      "6\n",
      "7\n",
      "8\n",
      "9\n",
      "10\n",
      "11\n",
      "12\n",
      "13\n",
      "14\n",
      "15\n",
      "16\n",
      "17\n",
      "18\n",
      "19\n",
      "20\n",
      "21\n",
      "22\n",
      "23\n",
      "24\n",
      "25\n",
      "26\n",
      "27\n",
      "28\n",
      "29\n",
      "30\n",
      "31\n",
      "32\n",
      "33\n",
      "34\n",
      "35\n",
      "36\n",
      "37\n",
      "38\n",
      "39\n",
      "40\n",
      "41\n",
      "42\n",
      "43\n",
      "44\n",
      "45\n",
      "46\n",
      "47\n",
      "48\n",
      "49\n",
      "50\n",
      "51\n",
      "52\n",
      "53\n",
      "54\n",
      "55\n"
     ]
    }
   ],
   "source": [
    "bins_in_halocat = set(prim_haloprop_bins)\n",
    "\n",
    "for ibin in bins_in_halocat:\n",
    "    print ibin\n",
    "    #if ibin > 25:\n",
    "    #    continue\n",
    "    indices_of_prim_haloprop_bin = np.where(prim_haloprop_bins == ibin)[0]\n",
    "    \n",
    "    centrals_idx = np.where(catalog[indices_of_prim_haloprop_bin]['halo_upid'] == -1)[0]\n",
    "    n_centrals = len(centrals_idx)\n",
    "    satellites_idx = np.where(catalog[indices_of_prim_haloprop_bin]['halo_upid']!=-1)[0]\n",
    "    n_satellites = len(satellites_idx)\n",
    "    \n",
    "    if centrals_idx.shape[0]!=0:\n",
    "        rand_central_idxs = np.random.choice(indices_of_prim_haloprop_bin[centrals_idx], size = n_centrals, replace = False)\n",
    "    else:\n",
    "        rand_central_idxs = np.array([])\n",
    "        \n",
    "    shuffled_mags[indices_of_prim_haloprop_bin[centrals_idx],0]= \\\n",
    "            catalog[rand_central_idxs]['gal_smass']\n",
    "\n",
    "    shuffled_mags[indices_of_prim_haloprop_bin[satellites_idx],0] = \\\n",
    "            catalog[indices_of_prim_haloprop_bin[satellites_idx]]['gal_smass']\n",
    "    #Create second rand_central_idxs, Iterate through satellite hosts and assign them when they match. \n",
    "                \n",
    "    for idx, coord in enumerate(['x','y','z']):\n",
    "        # don't need to shuffle positions cu we've shuffled mags for centrals\n",
    "        shuffled_pos[indices_of_prim_haloprop_bin[centrals_idx], idx] = \\\n",
    "                catalog[indices_of_prim_haloprop_bin[centrals_idx]]['halo_'+coord]\n",
    "            \n",
    "        shuffled_vel[indices_of_prim_haloprop_bin[centrals_idx], idx] = \\\n",
    "                catalog[indices_of_prim_haloprop_bin[centrals_idx]]['halo_v'+coord]\n",
    "            \n",
    "    shuffled_upids[indices_of_prim_haloprop_bin[centrals_idx]] = -1\n",
    "    \n",
    "    shuffled_host_mvir[indices_of_prim_haloprop_bin[centrals_idx]] = \\\n",
    "            catalog[indices_of_prim_haloprop_bin[centrals_idx]]['halo_mvir']\n",
    "        \n",
    "    unique_hosts_id, first_sat_idxs, inverse_idxs = np.unique(catalog[indices_of_prim_haloprop_bin[satellites_idx]]['halo_upid'],\\\n",
    "                                                       return_index=True, return_inverse=True)\n",
    "\n",
    "    shuffled_idxs = np.random.permutation(unique_hosts_id.shape[0])\n",
    "    shuffled_hosts_id = unique_hosts_id[shuffled_idxs]\n",
    "    shuffled_sat_idxs = first_sat_idxs[shuffled_idxs]\n",
    "    shuffled_arrays_idx = 0\n",
    "    host_map = dict() #maps the current host id to the index of a new host id. \n",
    "    #the host_id -> idx map is easier than the host_id -> host_id map\n",
    "    \n",
    "    new_host_ids = shuffled_hosts_id[inverse_idxs]\n",
    "    hosts_old_satellite_idxs = shuffled_sat_idxs[inverse_idxs]\n",
    "            \n",
    "    shuffled_upids[indices_of_prim_haloprop_bin[satellites_idx]] = new_host_ids\n",
    "\n",
    "    shuffled_host_mvir[indices_of_prim_haloprop_bin[satellites_idx]] = \\\n",
    "            catalog[indices_of_prim_haloprop_bin[satellites_idx]][hosts_old_satellite_idxs]['halo_mvir_host_halo']\n",
    "\n",
    "    for idx, coord in enumerate(['x','y','z']):\n",
    "\n",
    "        shuffled_pos[indices_of_prim_haloprop_bin[satellites_idx], idx] = \\\n",
    "                (catalog[indices_of_prim_haloprop_bin[satellites_idx]]['halo_'+coord] -\\\n",
    "                catalog[indices_of_prim_haloprop_bin[satellites_idx]]['halo_'+coord+'_host_halo']+\\\n",
    "                catalog[indices_of_prim_haloprop_bin[satellites_idx]][hosts_old_satellite_idxs]['halo_'+coord+'_host_halo'])%Lbox\n",
    "       \n",
    "        #print catalog[indices_of_prim_haloprop_bin[sat_idx]]['halo_'+coord]\n",
    "        #print catalog[indices_of_prim_haloprop_bin[sat_idx]]['halo_'+coord+'_host_halo']\n",
    "        #print catalog[indices_of_prim_haloprop_bin[satellites_idx]][hosts_old_satellite_idx]['halo_'+coord+'_host_halo']\n",
    "        #print '*'*50       \n",
    "        shuffled_vel[indices_of_prim_haloprop_bin[satellites_idx], idx] = \\\n",
    "                (catalog[indices_of_prim_haloprop_bin[satellites_idx]]['halo_v'+coord] -\\\n",
    "                catalog[indices_of_prim_haloprop_bin[satellites_idx]]['halo_v'+coord+'_host_halo']+\\\n",
    "                catalog[indices_of_prim_haloprop_bin[satellites_idx]][hosts_old_satellite_idxs]['halo_v'+coord+'_host_halo'])\n"
   ]
  },
  {
   "cell_type": "raw",
   "metadata": {
    "collapsed": false
   },
   "source": [
    "plt.plot(rbc, sham_xi/shuffled_xi)\n",
    "plt.xscale('log')"
   ]
  },
  {
   "cell_type": "code",
   "execution_count": 46,
   "metadata": {
    "collapsed": true
   },
   "outputs": [],
   "source": [
    "catalog['gal_smass'] = shuffled_mags[:,0]\n",
    "catalog['halo_x'] = shuffled_pos[:,0]\n",
    "catalog['halo_y'] = shuffled_pos[:,1]\n",
    "catalog['halo_z'] = shuffled_pos[:,2]\n",
    "catalog['halo_vx'] = shuffled_vel[:,0]\n",
    "catalog['halo_vy'] = shuffled_vel[:,1]\n",
    "catalog['halo_vz'] = shuffled_vel[:,2]\n",
    "catalog['halo_upid']=shuffled_upids[:]\n",
    "catalog['halo_mvir_host_halo'] = shuffled_host_mvir[:]"
   ]
  },
  {
   "cell_type": "code",
   "execution_count": 47,
   "metadata": {
    "collapsed": true
   },
   "outputs": [],
   "source": [
    "del catalog['halo_vmax@mpeak']\n",
    "del catalog['halo_rvir']\n",
    "del catalog['halo_mpeak']\n",
    "del catalog['halo_id']\n",
    "del catalog['halo_rs']\n",
    "del catalog['halo_nfw_conc']\n",
    "del catalog['halo_hostid']\n",
    "del catalog['halo_mvir_host_halo']\n",
    "del catalog['halo_x_host_halo']\n",
    "del catalog['halo_y_host_halo']\n",
    "del catalog['halo_z_host_halo']\n",
    "del catalog['halo_vx_host_halo']\n",
    "del catalog['halo_vy_host_halo']\n",
    "del catalog['halo_vz_host_halo']\n",
    "del catalog['halo_rvir_host_halo']\n",
    "del catalog['halo_nfw_conc_host_halo']"
   ]
  },
  {
   "cell_type": "code",
   "execution_count": 48,
   "metadata": {
    "collapsed": false
   },
   "outputs": [],
   "source": [
    "nd = 4.2e-4 #nd of final cat \n",
    "n_obj_needed = int(nd*(1000.0**3))\n",
    "sort_idxs = np.argsort(catalog[~np.isnan(catalog['gal_smass'])]['gal_smass'])\n",
    "catalog = catalog[~np.isnan(catalog['gal_smass'])][sort_idxs[-1*n_obj_needed:]]"
   ]
  },
  {
   "cell_type": "code",
   "execution_count": 49,
   "metadata": {
    "collapsed": false
   },
   "outputs": [
    {
     "data": {
      "text/plain": [
       "['halo_upid',\n",
       " 'halo_y',\n",
       " 'halo_x',\n",
       " 'halo_z',\n",
       " 'halo_vx',\n",
       " 'halo_vy',\n",
       " 'halo_vz',\n",
       " 'halo_mvir',\n",
       " 'gal_smass']"
      ]
     },
     "execution_count": 49,
     "metadata": {},
     "output_type": "execute_result"
    }
   ],
   "source": [
    "catalog.colnames"
   ]
  },
  {
   "cell_type": "code",
   "execution_count": 50,
   "metadata": {
    "collapsed": false
   },
   "outputs": [
    {
     "data": {
      "text/plain": [
       "(95969198, 3)"
      ]
     },
     "execution_count": 50,
     "metadata": {},
     "output_type": "execute_result"
    }
   ],
   "source": [
    "shuffled_pos.shape"
   ]
  },
  {
   "cell_type": "code",
   "execution_count": 51,
   "metadata": {
    "collapsed": false
   },
   "outputs": [
    {
     "data": {
      "text/plain": [
       "420000"
      ]
     },
     "execution_count": 51,
     "metadata": {},
     "output_type": "execute_result"
    }
   ],
   "source": [
    "len(catalog)"
   ]
  },
  {
   "cell_type": "code",
   "execution_count": 52,
   "metadata": {
    "collapsed": false
   },
   "outputs": [
    {
     "data": {
      "image/png": "[encoded data removed]",
      "text/plain": [
       "<matplotlib.figure.Figure at 0x7f66d0a69510>"
      ]
     },
     "metadata": {},
     "output_type": "display_data"
    }
   ],
   "source": [
    "plt.hist(catalog[catalog['halo_upid']==-1]['halo_x'], bins = 100);"
   ]
  },
  {
   "cell_type": "code",
   "execution_count": 53,
   "metadata": {
    "collapsed": false
   },
   "outputs": [
    {
     "data": {
      "text/plain": [
       "(-1, 1001)"
      ]
     },
     "execution_count": 53,
     "metadata": {},
     "output_type": "execute_result"
    },
    {
     "data": {
      "image/png": "[encoded data removed]",
      "text/plain": [
       "<matplotlib.figure.Figure at 0x7f66d0a69250>"
      ]
     },
     "metadata": {},
     "output_type": "display_data"
    }
   ],
   "source": [
    "plt.plot(sorted(catalog['halo_x'][catalog['halo_upid']!=-1]))\n",
    "#plt.yscale('log')\n",
    "plt.ylim([-1, 1001])"
   ]
  },
  {
   "cell_type": "code",
   "execution_count": 54,
   "metadata": {
    "collapsed": false
   },
   "outputs": [
    {
     "name": "stdout",
     "output_type": "stream",
     "text": [
      "[(596.0318603515625, 2), (737.647705078125, 2), (406.77362060546875, 2), (502.2169189453125, 2), (745.7293701171875, 2), (774.095703125, 2), (754.2705078125, 2), (964.47393798828125, 2), (739.304931640625, 2), (685.2503662109375, 2), (721.850341796875, 2), (969.6754150390625, 2), (712.3060302734375, 2), (790.64111328125, 2), (276.69985961914062, 2), (816.0792236328125, 2), (89.025650024414062, 2), (569.31756591796875, 2), (916.07513427734375, 2), (724.27703857421875, 2), (936.24151611328125, 2), (277.41281127929688, 2), (794.390625, 2), (259.14804077148438, 2), (679.2095947265625, 2), (893.242431640625, 2), (633.96923828125, 2), (374.45654296875, 2), (582.69769287109375, 2), (209.26652526855469, 2), (868.92254638671875, 2), (936.9395751953125, 2), (831.26409912109375, 2), (977.41998291015625, 2), (558.2510986328125, 2), (512.55035400390625, 2), (397.30990600585938, 2), (545.3887939453125, 2), (332.03103637695312, 2), (593.57403564453125, 2), (31.591497421264648, 2), (773.55126953125, 2), (818.1319580078125, 2), (643.321533203125, 2), (794.7125244140625, 2), (758.174072265625, 2), (23.270610809326172, 2), (720.0216064453125, 2), (717.48468017578125, 2), (942.5362548828125, 2)]\n"
     ]
    }
   ],
   "source": [
    "from collections import Counter\n",
    "c = Counter(catalog['halo_x'][catalog['halo_upid']!=-1])\n",
    "print c.most_common(50)"
   ]
  },
  {
   "cell_type": "code",
   "execution_count": 55,
   "metadata": {
    "collapsed": true
   },
   "outputs": [],
   "source": [
    "from halotools.mock_observables import tpcf"
   ]
  },
  {
   "cell_type": "code",
   "execution_count": 56,
   "metadata": {
    "collapsed": false
   },
   "outputs": [],
   "source": [
    "rbins = np.logspace(-1, 1.5, 15)\n",
    "pos = np.c_[catalog['halo_x'], catalog['halo_y'],catalog['halo_z']]\n",
    "xi = tpcf(pos, rbins, period=1000.0)"
   ]
  },
  {
   "cell_type": "code",
   "execution_count": 57,
   "metadata": {
    "collapsed": false
   },
   "outputs": [
    {
     "data": {
      "text/plain": [
       "array([  4.91672333e+03,   2.28538524e+03,   1.01371633e+03,\n",
       "         4.25379692e+02,   1.40048246e+02,   4.58671134e+01,\n",
       "         1.75818876e+01,   8.70366310e+00,   4.70040335e+00,\n",
       "         2.45694736e+00,   1.25506718e+00,   6.21703828e-01,\n",
       "         2.84249044e-01,   1.16810837e-01])"
      ]
     },
     "execution_count": 57,
     "metadata": {},
     "output_type": "execute_result"
    }
   ],
   "source": [
    "xi"
   ]
  },
  {
   "cell_type": "code",
   "execution_count": 58,
   "metadata": {
    "collapsed": false
   },
   "outputs": [
    {
     "data": {
      "text/plain": [
       "<matplotlib.text.Text at 0x7f66e7803d90>"
      ]
     },
     "execution_count": 58,
     "metadata": {},
     "output_type": "execute_result"
    },
    {
     "data": {
      "image/png": "[encoded data removed]",
      "text/plain": [
       "<matplotlib.figure.Figure at 0x7f66e77f0490>"
      ]
     },
     "metadata": {},
     "output_type": "display_data"
    }
   ],
   "source": [
    "rbc = (rbins[1:]+rbins[:-1])/2.0\n",
    "plt.plot(rbc, xi)\n",
    "\n",
    "plt.loglog();\n",
    "#plt.legend(loc='best')\n",
    "plt.xlabel('r [Mpc]')\n",
    "plt.ylabel('xi')"
   ]
  },
  {
   "cell_type": "code",
   "execution_count": 59,
   "metadata": {
    "collapsed": true
   },
   "outputs": [],
   "source": [
    "catalog.write('../catalog_ab_%s_shuffled_fixed.hdf5'%ab_property,\n",
    "              format = 'hdf5', path = '../catalog_ab_%s_shuffled_fixed.hdf5'%ab_property, overwrite=True)"
   ]
  },
  {
   "cell_type": "code",
   "execution_count": 60,
   "metadata": {
    "collapsed": false
   },
   "outputs": [
    {
     "data": {
      "text/plain": [
       "'catalog_ab_halo_vmax@mpeak_shuffled.hdf5'"
      ]
     },
     "execution_count": 60,
     "metadata": {},
     "output_type": "execute_result"
    }
   ],
   "source": [
    "'catalog_ab_%s_shuffled.hdf5'%ab_property"
   ]
  },
  {
   "cell_type": "code",
   "execution_count": 61,
   "metadata": {
    "collapsed": false
   },
   "outputs": [
    {
     "name": "stdout",
     "output_type": "stream",
     "text": [
      "../catalog_ab_halo_mpeak_fixed.hdf5\n",
      "../catalog_ab_halo_mpeak_shuffled_fixed.hdf5\n",
      "../catalog_ab_halo_vmax@mpeak_fixed.hdf5\n",
      "../catalog_ab_halo_vmax@mpeak_shuffled_fixed.hdf5\n",
      "../md_catalog_ab_halo_mpeak_fixed.hdf5\n",
      "../md_catalog_ab_halo_vmax@mpeak_fixed.hdf5\n",
      "../md_catalog_ab_halo_vmax@mpeak_shuffled_fixed.hdf5\n",
      "/nfs/slac/g/ki/ki18/des/swmclau2\n",
      "/nfs/slac/g/ki/ki18/des/swmclau2/AB_tests\n"
     ]
    }
   ],
   "source": [
    "%%bash\n",
    "ls ../*fixed.hdf5\n",
    "cd ..; pwd; cd -"
   ]
  },
  {
   "cell_type": "code",
   "execution_count": 62,
   "metadata": {
    "collapsed": false
   },
   "outputs": [
    {
     "name": "stdout",
     "output_type": "stream",
     "text": [
      "AB Model Clustering Plots.ipynb\n",
      "AB Model Clustering.ipynb\n",
      "AB Split HOD Plots with Model clustering.ipynb\n",
      "Fixed Mass Occupation 2.ipynb\n",
      "Fixed Mass Occupation 3 Model.ipynb\n",
      "Noisy Percentile Retread pt 2.ipynb\n",
      "Noisy Percentile Retread.ipynb\n",
      "Shuffle SHAM Poisson.ipynb\n",
      "Shuffle SHAM Pos Dark Sky for Jeremey and Zhongxu Speedup.ipynb\n",
      "Shuffle SHAM Pos Dark Sky for Jeremey and Zhongxu.ipynb\n",
      "Shuffle SHAM Same Halo Speedup Attempt.ipynb\n",
      "Shuffle SHAM Same Halo.ipynb\n",
      "Understand Splitting Fraction Emulator.ipynb\n",
      "Understand Splitting Fraction wp.ipynb\n",
      "Understand Splitting Fraction.ipynb\n",
      "View Chain.ipynb\n",
      "View Multiple Chains.ipynb\n",
      "ZhongXu SHAM Clustering Comparison.ipynb\n"
     ]
    }
   ],
   "source": [
    "%%bash\n",
    "ls *.ipynb"
   ]
  },
  {
   "cell_type": "code",
   "execution_count": null,
   "metadata": {
    "collapsed": true
   },
   "outputs": [],
   "source": []
  }
 ],
 "metadata": {
  "kernelspec": {
   "display_name": "Python [conda env:hodemulator]",
   "language": "python",
   "name": "conda-env-hodemulator-py"
  },
  "language_info": {
   "codemirror_mode": {
    "name": "ipython",
    "version": 2
   },
   "file_extension": ".py",
   "mimetype": "text/x-python",
   "name": "python",
   "nbconvert_exporter": "python",
   "pygments_lexer": "ipython2",
   "version": "2.7.13"
  }
 },
 "nbformat": 4,
 "nbformat_minor": 0
}
