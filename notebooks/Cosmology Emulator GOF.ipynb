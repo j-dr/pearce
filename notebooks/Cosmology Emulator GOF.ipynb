{
 "cells": [
  {
   "cell_type": "markdown",
   "metadata": {},
   "source": [
    "I'm gonna overwrite a lot of this notebook's old content. I changed the way I'm calculating wt, and wanna test that my training worked. "
   ]
  },
  {
   "cell_type": "code",
   "execution_count": 1,
   "metadata": {
    "collapsed": false
   },
   "outputs": [],
   "source": [
    "from pearce.emulator import OriginalRecipe, ExtraCrispy\n",
    "from pearce.mocks import cat_dict\n",
    "import numpy as np\n",
    "from os import path"
   ]
  },
  {
   "cell_type": "code",
   "execution_count": 2,
   "metadata": {
    "collapsed": true
   },
   "outputs": [],
   "source": [
    "import matplotlib\n",
    "#matplotlib.use('Agg')\n",
    "from matplotlib import pyplot as plt\n",
    "%matplotlib inline\n",
    "import seaborn as sns\n",
    "sns.set()"
   ]
  },
  {
   "cell_type": "code",
   "execution_count": 3,
   "metadata": {
    "collapsed": false
   },
   "outputs": [
    {
     "name": "stdout",
     "output_type": "stream",
     "text": [
      "/u/ki/swmclau2/des/PearceRedMagicWpCosmo.hdf5\n",
      "/u/ki/swmclau2/des/PearceRedMagicWpCosmo2.hdf5\n",
      "/u/ki/swmclau2/des/PearceRedMagicWpCosmoTest.hdf5\n",
      "/u/ki/swmclau2/des/PearceRedMagicXiChinchilla.hdf5\n",
      "/u/ki/swmclau2/des/PearceRedMagicXiCosmo.hdf5\n",
      "/u/ki/swmclau2/des/PearceRedMagicXiCosmoTest.hdf5\n",
      "/u/ki/swmclau2/des/PearceTrainerTest1.hdf5\n"
     ]
    }
   ],
   "source": [
    "%%bash\n",
    "ls ~/des/Pearce*.hdf5"
   ]
  },
  {
   "cell_type": "code",
   "execution_count": 4,
   "metadata": {
    "collapsed": true
   },
   "outputs": [],
   "source": [
    "training_file = '/u/ki/swmclau2/des/PearceRedMagicXiChinchilla.hdf5'\n",
    "test_file = '/u/ki/swmclau2/des/PearceRedMagicXiCosmoTest.hdf5'\n",
    "em_method = 'gp'\n",
    "split_method = 'random'"
   ]
  },
  {
   "cell_type": "code",
   "execution_count": 5,
   "metadata": {
    "collapsed": false
   },
   "outputs": [],
   "source": [
    "a = 1.0\n",
    "z = 1.0/a - 1.0"
   ]
  },
  {
   "cell_type": "code",
   "execution_count": 6,
   "metadata": {
    "collapsed": false
   },
   "outputs": [],
   "source": [
    "fixed_params = {'z':z}#, 'r':24.06822623}"
   ]
  },
  {
   "cell_type": "raw",
   "metadata": {
    "collapsed": true
   },
   "source": [
    "n_leaves, n_overlap = 10, 1\n",
    "emu = ExtraCrispy(training_file, n_leaves, n_overlap, split_method, method = em_method, fixed_params=fixed_params,\n",
    "                 custom_mean_function = None, downsample_factor = 1.0)"
   ]
  },
  {
   "cell_type": "code",
   "execution_count": 7,
   "metadata": {
    "collapsed": false
   },
   "outputs": [
    {
     "name": "stderr",
     "output_type": "stream",
     "text": [
      "/u/ki/swmclau2/.local/lib/python2.7/site-packages/pearce/emulator/emu.py:265: UserWarning: WARNING: NaN detected. Skipped 885 points in training data.\n",
      "  warnings.warn('WARNING: NaN detected. Skipped %d points in training data.' % (num_skipped))\n"
     ]
    }
   ],
   "source": [
    "emu = OriginalRecipe(training_file, method = em_method, fixed_params=fixed_params, downsample_factor=1.0)#,\n",
    "                    #hyperparams = {'n_estimators': 500,\n",
    "                    #              'max_depth': 5})"
   ]
  },
  {
   "cell_type": "raw",
   "metadata": {},
   "source": [
    "names = ['amp']\n",
    "names.extend(emu.get_param_names())\n",
    "dict(zip(names, np.array([1.282969797894147446e+00, 8.951664721378283575e+05, 7.830465404301183298e+04,\n",
    "                                          5.388438442608223624e-05, 4.398317466650228198e+03, 3.169582088726115320e-04,\n",
    "                                          1.253707987440919602e-01, 9.682153059967076467e-06, 2.348234600554276300e-05,\n",
    "                                          1.009271514630569800e+04, 2.837303616516211350e-04, 1.208270935044775918e-05,\n",
    "                                          5.004939102700953768e-01])))"
   ]
  },
  {
   "cell_type": "raw",
   "metadata": {},
   "source": [
    "v = np.array([-2.76674688, 39.90074862, 41.97733577, 34.908274  , 25.45566919,\n",
    "       32.9653712 , 45.25126079, 44.36071403, 43.39705654, 31.30384076,\n",
    "       29.14249287, 33.35982685, 68.25178863, 55.50543659,  0.5289175 ,\n",
    "        3.26280959,  4.88974786,  5.20163106,  3.57189386,  4.0222253 ,\n",
    "       35.7317967 ,  3.04556806,  2.37166337,  1.22982813,  3.15514574,\n",
    "        1.06641224, 31.83494205,  0.12732846,  2.85868658])"
   ]
  },
  {
   "cell_type": "raw",
   "metadata": {
    "collapsed": true
   },
   "source": [
    "v = np.array([-3.49251486e+00,  2.56895286e+02,  6.34889263e+02,  4.23540423e+00,\n",
    "        3.06144854e+01,  5.32898437e+02,  4.65947388e+00,  2.10953081e-01,\n",
    "        3.69172960e+02,  1.85079107e+02,  3.14421111e+02,  3.45236442e+02,\n",
    "        2.62822319e+02,  4.87881663e+02,  1.61183292e+00,  8.53907861e+02,\n",
    "        9.39441074e+01,  2.41645851e+01,  8.46587668e+02,  3.01748847e+02,\n",
    "        1.81427178e+00,  1.72439999e+00,  4.14188992e+00,  3.80508709e+00,\n",
    "       -1.63855507e+00,  3.42620859e+02,  3.57459354e+00])"
   ]
  },
  {
   "cell_type": "raw",
   "metadata": {
    "collapsed": true
   },
   "source": [
    "v = np.array([-2.51875005e+00,  3.99882406e+02,  2.59229552e+01,  2.91540851e+01,\n",
    "        1.39254458e+02,  8.12407915e+01,  2.49876072e+02,  2.74786641e+02,\n",
    "        4.56201422e+03,  6.03402392e+03,  8.23854446e+03,  6.63104020e+03,\n",
    "        5.20905761e+03,  1.94554178e+02, -9.88314607e-01, -1.11352182e+00,\n",
    "        2.77140729e+01,  2.82694588e+01,  1.17727291e+02,  1.27938574e+02,\n",
    "       -2.12175268e+00, -1.49398245e+00, -2.46909795e+00, -8.50671268e-01,\n",
    "       -3.76457784e+00])"
   ]
  },
  {
   "cell_type": "code",
   "execution_count": 8,
   "metadata": {
    "collapsed": true
   },
   "outputs": [],
   "source": [
    "v = np.array([-107.63201595,   -3.00623478,    1.30030219,   73.91837015,\n",
    "         -1.24519356,   61.31984424,   -2.73478191,   80.84539419,\n",
    "         86.27226179,  -16.47626201,  -30.44683545,  -35.42641201,\n",
    "        -12.96207967,  -43.95549179,   -3.36130433,   37.9852565 ,\n",
    "          3.28282274,   57.71964132,  105.93552856,   30.52956235,\n",
    "         81.30883655,   46.50496736,   -4.63570007,    2.25765005,\n",
    "        -11.86949411,   83.41893473,   75.44653974])"
   ]
  },
  {
   "cell_type": "raw",
   "metadata": {
    "collapsed": true
   },
   "source": [
    "emu._emulator.set_parameter_vector(v)"
   ]
  },
  {
   "cell_type": "code",
   "execution_count": 10,
   "metadata": {
    "collapsed": false
   },
   "outputs": [
    {
     "data": {
      "text/plain": [
       "array([ 0.09581734,  0.13534558,  0.19118072,  0.27004994,  0.38145568,\n",
       "        0.53882047,  0.76110414,  1.07508818,  1.51860241,  2.14508292,\n",
       "        3.03001016,  4.28000311,  6.04566509,  8.53972892, 12.06268772,\n",
       "       17.0389993 , 24.06822623, 33.99727318])"
      ]
     },
     "execution_count": 10,
     "metadata": {},
     "output_type": "execute_result"
    }
   ],
   "source": [
    "emu.scale_bin_centers"
   ]
  },
  {
   "cell_type": "code",
   "execution_count": 11,
   "metadata": {
    "collapsed": false
   },
   "outputs": [
    {
     "data": {
      "text/plain": [
       "18"
      ]
     },
     "execution_count": 11,
     "metadata": {},
     "output_type": "execute_result"
    }
   ],
   "source": [
    "emu.n_bins"
   ]
  },
  {
   "cell_type": "code",
   "execution_count": 12,
   "metadata": {
    "collapsed": false
   },
   "outputs": [
    {
     "name": "stdout",
     "output_type": "stream",
     "text": [
      "(20070, 7)\n"
     ]
    }
   ],
   "source": [
    "#print emu.x.shape\n",
    "#print emu.downsample_x.shape\n",
    "if hasattr(emu, \"_emulators\"):\n",
    "    print emu._emulators[0]._x.shape\n",
    "else:\n",
    "    print emu._emulator._x.shape"
   ]
  },
  {
   "cell_type": "code",
   "execution_count": 13,
   "metadata": {
    "collapsed": false
   },
   "outputs": [
    {
     "data": {
      "text/plain": [
       "OrderedDict([('logM1', (13.0, 15.0)),\n",
       "             ('logMmin', (11.5, 13.5)),\n",
       "             ('f_c', (0.01, 0.5)),\n",
       "             ('logM0', (12.0, 16.0)),\n",
       "             ('sigma_logM', (0.05, 0.6)),\n",
       "             ('alpha', (0.8, 1.2)),\n",
       "             ('r', (-1.1000000189853054, 1.6000000000507297))])"
      ]
     },
     "execution_count": 13,
     "metadata": {},
     "output_type": "execute_result"
    }
   ],
   "source": [
    "emu._ordered_params"
   ]
  },
  {
   "cell_type": "raw",
   "metadata": {},
   "source": [
    "x, y, y_pred = emu.goodness_of_fit(training_file, statistic = 'log_frac')"
   ]
  },
  {
   "cell_type": "raw",
   "metadata": {},
   "source": [
    "x, y, y_pred"
   ]
  },
  {
   "cell_type": "raw",
   "metadata": {},
   "source": [
    "N = 25\n",
    "for _y, yp in zip(y[:N], y_pred[:N]):\n",
    "    #plt.plot(emu.scale_bin_centers ,  (_y - yp)/yp ,alpha = 0.3, color = 'b')\n",
    "    \n",
    "    plt.plot(emu.scale_bin_centers, _y, alpha = 0.3, color = 'b')\n",
    "    plt.plot(emu.scale_bin_centers, yp, alpha = 0.3, color = 'r')\n",
    "    \n",
    "plt.loglog();"
   ]
  },
  {
   "cell_type": "raw",
   "metadata": {
    "collapsed": false
   },
   "source": [
    "%%timeit\n",
    "#truth_file = '/u/ki/swmclau2/des/PearceRedMagicWpCosmoTest.hdf5'\n",
    "gof = emu.goodness_of_fit(training_file, statistic = 'log_frac')"
   ]
  },
  {
   "cell_type": "code",
   "execution_count": 14,
   "metadata": {
    "collapsed": false
   },
   "outputs": [
    {
     "name": "stdout",
     "output_type": "stream",
     "text": [
      "0.0004984742965169185\n"
     ]
    }
   ],
   "source": [
    "gof = emu.goodness_of_fit(training_file, statistic = 'log_frac')\n",
    "print gof.mean()"
   ]
  },
  {
   "cell_type": "code",
   "execution_count": 15,
   "metadata": {
    "collapsed": false
   },
   "outputs": [
    {
     "name": "stdout",
     "output_type": "stream",
     "text": [
      "0.0012155622478991672\n"
     ]
    }
   ],
   "source": [
    "gof = emu.goodness_of_fit(training_file, statistic = 'frac')\n",
    "print gof.mean()"
   ]
  },
  {
   "cell_type": "code",
   "execution_count": 16,
   "metadata": {
    "collapsed": false
   },
   "outputs": [
    {
     "data": {
      "image/png": "[encoded data removed]",
      "text/plain": [
       "<matplotlib.figure.Figure at 0x7f1ff85bb110>"
      ]
     },
     "metadata": {},
     "output_type": "display_data"
    }
   ],
   "source": [
    "plt.hist(np.log10(gof) );"
   ]
  },
  {
   "cell_type": "code",
   "execution_count": 17,
   "metadata": {
    "collapsed": false
   },
   "outputs": [],
   "source": [
    "model = emu._emulator\n",
    "ypred = model.predict(emu.y, emu.x, False, False, False)*emu._y_std+emu._y_mean"
   ]
  },
  {
   "cell_type": "raw",
   "metadata": {
    "collapsed": false,
    "scrolled": false
   },
   "source": [
    "for idx in xrange(50):\n",
    "    plt.plot(emu.scale_bin_centers, ypred[idx*emu.n_bins:(idx+1)*emu.n_bins], label = 'Emu')\n",
    "    plt.plot(emu.scale_bin_centers, emu.y[idx*emu.n_bins:(idx+1)*emu.n_bins], label = 'True')\n",
    "    plt.title(np.sum(emu.x[(idx+1)*emu.n_bins, :-1]) )\n",
    "    plt.legend(loc='best')\n",
    "    plt.xscale('log')\n",
    "    plt.show()"
   ]
  },
  {
   "cell_type": "code",
   "execution_count": 18,
   "metadata": {
    "collapsed": false
   },
   "outputs": [],
   "source": [
    "resids = np.abs(emu.y*emu._y_std+emu._y_mean - ypred)"
   ]
  },
  {
   "cell_type": "code",
   "execution_count": 19,
   "metadata": {
    "collapsed": false
   },
   "outputs": [
    {
     "data": {
      "text/plain": [
       "0.00018267353634993853"
      ]
     },
     "execution_count": 19,
     "metadata": {},
     "output_type": "execute_result"
    }
   ],
   "source": [
    "np.mean(resids/(emu.y*emu._y_std+emu._y_mean))"
   ]
  },
  {
   "cell_type": "code",
   "execution_count": 20,
   "metadata": {
    "collapsed": false
   },
   "outputs": [
    {
     "data": {
      "text/plain": [
       "(1.5811828755830635, 1.5815369709438643)"
      ]
     },
     "execution_count": 20,
     "metadata": {},
     "output_type": "execute_result"
    }
   ],
   "source": [
    "ypred.mean(), emu._y_mean"
   ]
  },
  {
   "cell_type": "raw",
   "metadata": {
    "collapsed": false
   },
   "source": [
    "plt.plot(emu.scale_bin_centers, np.abs(gof.mean(axis = 0)) )\n",
    "plt.plot(emu.scale_bin_centers, np.ones_like(emu.scale_bin_centers)*0.01)\n",
    "plt.plot(emu.scale_bin_centers, np.ones_like(emu.scale_bin_centers)*0.05)\n",
    "plt.plot(emu.scale_bin_centers, np.ones_like(emu.scale_bin_centers)*0.1)\n",
    "\n",
    "\n",
    "plt.loglog();"
   ]
  },
  {
   "cell_type": "raw",
   "metadata": {
    "collapsed": false
   },
   "source": [
    "plt.plot(emu.scale_bin_centers, np.abs(gof.T),alpha = 0.1, color = 'b')\n",
    "plt.plot(emu.scale_bin_centers, np.ones_like(emu.scale_bin_centers)*0.01, lw = 2, color = 'k')\n",
    "plt.loglog();"
   ]
  },
  {
   "cell_type": "code",
   "execution_count": 21,
   "metadata": {
    "collapsed": false
   },
   "outputs": [
    {
     "name": "stderr",
     "output_type": "stream",
     "text": [
      "/u/ki/swmclau2/.local/lib/python2.7/site-packages/pearce/emulator/emu.py:265: UserWarning: WARNING: NaN detected. Skipped 2232 points in training data.\n",
      "  warnings.warn('WARNING: NaN detected. Skipped %d points in training data.' % (num_skipped))\n"
     ]
    },
    {
     "ename": "ValueError",
     "evalue": "operands could not be broadcast together with shapes (85824,13) (7,) ",
     "output_type": "error",
     "traceback": [
      "\u001b[1;31m---------------------------------------------------------------------------\u001b[0m",
      "\u001b[1;31mValueError\u001b[0m                                Traceback (most recent call last)",
      "\u001b[1;32m<ipython-input-21-25d3beb722a9>\u001b[0m in \u001b[0;36m<module>\u001b[1;34m()\u001b[0m\n\u001b[1;32m----> 1\u001b[1;33m \u001b[0mtest_gof\u001b[0m \u001b[1;33m=\u001b[0m \u001b[0memu\u001b[0m\u001b[1;33m.\u001b[0m\u001b[0mgoodness_of_fit\u001b[0m\u001b[1;33m(\u001b[0m\u001b[0mtest_file\u001b[0m\u001b[1;33m,\u001b[0m \u001b[0mstatistic\u001b[0m \u001b[1;33m=\u001b[0m \u001b[1;34m'log_frac'\u001b[0m\u001b[1;33m)\u001b[0m\u001b[1;33m\u001b[0m\u001b[0m\n\u001b[0m\u001b[0;32m      2\u001b[0m \u001b[1;32mprint\u001b[0m \u001b[0mtest_gof\u001b[0m\u001b[1;33m.\u001b[0m\u001b[0mmean\u001b[0m\u001b[1;33m(\u001b[0m\u001b[1;33m)\u001b[0m\u001b[1;33m\u001b[0m\u001b[0m\n",
      "\u001b[1;32m/u/ki/swmclau2/.local/lib/python2.7/site-packages/pearce/emulator/emu.pyc\u001b[0m in \u001b[0;36mgoodness_of_fit\u001b[1;34m(self, truth_file, N, statistic)\u001b[0m\n\u001b[0;32m    965\u001b[0m         \u001b[0mx\u001b[0m\u001b[1;33m,\u001b[0m \u001b[0my\u001b[0m\u001b[1;33m,\u001b[0m \u001b[0m_\u001b[0m\u001b[1;33m,\u001b[0m \u001b[0minfo\u001b[0m \u001b[1;33m=\u001b[0m \u001b[0mself\u001b[0m\u001b[1;33m.\u001b[0m\u001b[0mget_data\u001b[0m\u001b[1;33m(\u001b[0m\u001b[0mtruth_file\u001b[0m\u001b[1;33m,\u001b[0m \u001b[0mself\u001b[0m\u001b[1;33m.\u001b[0m\u001b[0mfixed_params\u001b[0m\u001b[1;33m,\u001b[0m \u001b[0mself\u001b[0m\u001b[1;33m.\u001b[0m\u001b[0mindependent_variable\u001b[0m\u001b[1;33m)\u001b[0m\u001b[1;33m\u001b[0m\u001b[0m\n\u001b[0;32m    966\u001b[0m \u001b[1;33m\u001b[0m\u001b[0m\n\u001b[1;32m--> 967\u001b[1;33m         \u001b[0mx\u001b[0m \u001b[1;33m=\u001b[0m \u001b[1;33m(\u001b[0m\u001b[0mx\u001b[0m \u001b[1;33m-\u001b[0m \u001b[0mself\u001b[0m\u001b[1;33m.\u001b[0m\u001b[0m_x_mean\u001b[0m\u001b[1;33m)\u001b[0m\u001b[1;33m/\u001b[0m\u001b[1;33m(\u001b[0m\u001b[0mself\u001b[0m\u001b[1;33m.\u001b[0m\u001b[0m_x_std\u001b[0m \u001b[1;33m+\u001b[0m \u001b[1;36m1e-5\u001b[0m\u001b[1;33m)\u001b[0m\u001b[1;33m\u001b[0m\u001b[0m\n\u001b[0m\u001b[0;32m    968\u001b[0m         \u001b[1;31m#y = (_y - self._y_mean)/(self._y_std + 1e-5)\u001b[0m\u001b[1;33m\u001b[0m\u001b[1;33m\u001b[0m\u001b[0m\n\u001b[0;32m    969\u001b[0m \u001b[1;33m\u001b[0m\u001b[0m\n",
      "\u001b[1;31mValueError\u001b[0m: operands could not be broadcast together with shapes (85824,13) (7,) "
     ]
    }
   ],
   "source": [
    "test_gof = emu.goodness_of_fit(test_file, statistic = 'log_frac')\n",
    "print test_gof.mean()"
   ]
  },
  {
   "cell_type": "code",
   "execution_count": null,
   "metadata": {
    "collapsed": false
   },
   "outputs": [],
   "source": [
    "test_gof = emu.goodness_of_fit(test_file, statistic = 'frac')\n",
    "print test_gof.mean()"
   ]
  },
  {
   "cell_type": "code",
   "execution_count": null,
   "metadata": {
    "collapsed": false
   },
   "outputs": [],
   "source": [
    "plt.hist(np.log10(test_gof));"
   ]
  },
  {
   "cell_type": "code",
   "execution_count": null,
   "metadata": {
    "collapsed": false
   },
   "outputs": [],
   "source": [
    "test_x, test_y, test_yerr, _ = emu.get_data(test_file,fixed_params, None)"
   ]
  },
  {
   "cell_type": "code",
   "execution_count": null,
   "metadata": {
    "collapsed": false
   },
   "outputs": [],
   "source": [
    "test_x"
   ]
  },
  {
   "cell_type": "code",
   "execution_count": null,
   "metadata": {
    "collapsed": false
   },
   "outputs": [],
   "source": [
    "(emu.x*emu._x_std) + emu._x_mean"
   ]
  },
  {
   "cell_type": "code",
   "execution_count": null,
   "metadata": {
    "collapsed": false
   },
   "outputs": [],
   "source": [
    "emu.get_param_names()"
   ]
  },
  {
   "cell_type": "code",
   "execution_count": null,
   "metadata": {
    "collapsed": true
   },
   "outputs": [],
   "source": [
    "test_x_white, test_y_white = (test_x - emu._x_mean)/(emu._x_std + 1e-5), (test_y - emu._y_mean)/(emu._y_std + 1e-5)"
   ]
  },
  {
   "cell_type": "code",
   "execution_count": null,
   "metadata": {
    "collapsed": true
   },
   "outputs": [],
   "source": [
    "model = emu._emulator"
   ]
  },
  {
   "cell_type": "code",
   "execution_count": null,
   "metadata": {
    "collapsed": false
   },
   "outputs": [],
   "source": [
    "pred_y_white = model.predict(emu.y, test_x_white, False, False, False)"
   ]
  },
  {
   "cell_type": "code",
   "execution_count": null,
   "metadata": {
    "collapsed": true
   },
   "outputs": [],
   "source": [
    "pred_y = pred_y_white*emu._y_std + emu._y_mean"
   ]
  },
  {
   "cell_type": "code",
   "execution_count": null,
   "metadata": {
    "collapsed": false
   },
   "outputs": [],
   "source": [
    "plt.plot(pred_y[:100], label = 'pred')\n",
    "plt.plot(test_y[:100], label = 'truth')\n",
    "\n",
    "plt.legend(loc = 'best')"
   ]
  },
  {
   "cell_type": "code",
   "execution_count": null,
   "metadata": {
    "collapsed": false
   },
   "outputs": [],
   "source": [
    "test_y.mean(), emu._y_mean, pred_y.mean()"
   ]
  },
  {
   "cell_type": "code",
   "execution_count": null,
   "metadata": {
    "collapsed": false
   },
   "outputs": [],
   "source": [
    "test_y.std(), emu._y_std, pred_y.std()"
   ]
  },
  {
   "cell_type": "code",
   "execution_count": null,
   "metadata": {
    "collapsed": false
   },
   "outputs": [],
   "source": [
    "plt.hist(pred_y_white, bins = np.linspace(-3, 3, 100), label = 'Pred')\n",
    "plt.hist(test_y_white, bins = np.linspace(-3, 3, 100), label = 'Test');\n",
    "plt.legend(loc = 'best')"
   ]
  },
  {
   "cell_type": "code",
   "execution_count": null,
   "metadata": {
    "collapsed": true
   },
   "outputs": [],
   "source": []
  },
  {
   "cell_type": "code",
   "execution_count": null,
   "metadata": {
    "collapsed": true
   },
   "outputs": [],
   "source": []
  }
 ],
 "metadata": {
  "kernelspec": {
   "display_name": "Python [conda env:hodemulator]",
   "language": "python",
   "name": "conda-env-hodemulator-py"
  },
  "language_info": {
   "codemirror_mode": {
    "name": "ipython",
    "version": 2
   },
   "file_extension": ".py",
   "mimetype": "text/x-python",
   "name": "python",
   "nbconvert_exporter": "python",
   "pygments_lexer": "ipython2",
   "version": "2.7.13"
  }
 },
 "nbformat": 4,
 "nbformat_minor": 0
}
