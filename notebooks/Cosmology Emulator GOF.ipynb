{
 "cells": [
  {
   "cell_type": "markdown",
   "metadata": {},
   "source": [
    "I'm gonna overwrite a lot of this notebook's old content. I changed the way I'm calculating wt, and wanna test that my training worked. "
   ]
  },
  {
   "cell_type": "code",
   "execution_count": 1,
   "metadata": {
    "collapsed": false
   },
   "outputs": [],
   "source": [
    "from pearce.emulator import OriginalRecipe, ExtraCrispy\n",
    "from pearce.mocks import cat_dict\n",
    "import numpy as np\n",
    "from os import path"
   ]
  },
  {
   "cell_type": "code",
   "execution_count": 2,
   "metadata": {
    "collapsed": true
   },
   "outputs": [],
   "source": [
    "import matplotlib\n",
    "#matplotlib.use('Agg')\n",
    "from matplotlib import pyplot as plt\n",
    "%matplotlib inline\n",
    "import seaborn as sns\n",
    "sns.set()"
   ]
  },
  {
   "cell_type": "code",
   "execution_count": 3,
   "metadata": {
    "collapsed": false
   },
   "outputs": [
    {
     "name": "stdout",
     "output_type": "stream",
     "text": [
      "/u/ki/swmclau2/des/PearceRedMagicWpCosmo.hdf5\n",
      "/u/ki/swmclau2/des/PearceRedMagicWpCosmo2.hdf5\n",
      "/u/ki/swmclau2/des/PearceRedMagicWpCosmoTest.hdf5\n",
      "/u/ki/swmclau2/des/PearceRedMagicXiChinchilla.hdf5\n",
      "/u/ki/swmclau2/des/PearceRedMagicXiCosmo.hdf5\n",
      "/u/ki/swmclau2/des/PearceRedMagicXiCosmoTest.hdf5\n",
      "/u/ki/swmclau2/des/PearceTrainerTest1.hdf5\n"
     ]
    }
   ],
   "source": [
    "%%bash\n",
    "ls ~/des/Pearce*.hdf5"
   ]
  },
  {
   "cell_type": "code",
   "execution_count": 4,
   "metadata": {
    "collapsed": true
   },
   "outputs": [],
   "source": [
    "training_file = '/u/ki/swmclau2/des/PearceRedMagicXiCosmo.hdf5'\n",
    "test_file = '/u/ki/swmclau2/des/PearceRedMagicXiCosmoTest.hdf5'\n",
    "em_method = 'gp'\n",
    "split_method = 'random'"
   ]
  },
  {
   "cell_type": "code",
   "execution_count": 5,
   "metadata": {
    "collapsed": false
   },
   "outputs": [],
   "source": [
    "a = 1.0\n",
    "z = 1.0/a - 1.0"
   ]
  },
  {
   "cell_type": "code",
   "execution_count": 6,
   "metadata": {
    "collapsed": false
   },
   "outputs": [],
   "source": [
    "fixed_params = {'z':z, 'r':24.06822623}"
   ]
  },
  {
   "cell_type": "raw",
   "metadata": {
    "collapsed": true
   },
   "source": [
    "n_leaves, n_overlap = 10, 1\n",
    "emu = ExtraCrispy(training_file, n_leaves, n_overlap, split_method, method = em_method, fixed_params=fixed_params,\n",
    "                 custom_mean_function = None, downsample_factor = 1.0)"
   ]
  },
  {
   "cell_type": "code",
   "execution_count": 7,
   "metadata": {
    "collapsed": false
   },
   "outputs": [
    {
     "name": "stderr",
     "output_type": "stream",
     "text": [
      "/u/ki/swmclau2/.local/lib/python2.7/site-packages/pearce/emulator/emu.py:265: UserWarning: WARNING: NaN detected. Skipped 12788 points in training data.\n",
      "  warnings.warn('WARNING: NaN detected. Skipped %d points in training data.' % (num_skipped))\n"
     ]
    }
   ],
   "source": [
    "emu = OriginalRecipe(training_file, method = em_method, fixed_params=fixed_params, downsample_factor=1.0)#,\n",
    "                    #hyperparams = {'n_estimators': 500,\n",
    "                    #              'max_depth': 5})"
   ]
  },
  {
   "cell_type": "raw",
   "metadata": {},
   "source": [
    "names = ['amp']\n",
    "names.extend(emu.get_param_names())\n",
    "dict(zip(names, np.array([1.282969797894147446e+00, 8.951664721378283575e+05, 7.830465404301183298e+04,\n",
    "                                          5.388438442608223624e-05, 4.398317466650228198e+03, 3.169582088726115320e-04,\n",
    "                                          1.253707987440919602e-01, 9.682153059967076467e-06, 2.348234600554276300e-05,\n",
    "                                          1.009271514630569800e+04, 2.837303616516211350e-04, 1.208270935044775918e-05,\n",
    "                                          5.004939102700953768e-01])))"
   ]
  },
  {
   "cell_type": "raw",
   "metadata": {},
   "source": [
    "v = np.array([-2.76674688, 39.90074862, 41.97733577, 34.908274  , 25.45566919,\n",
    "       32.9653712 , 45.25126079, 44.36071403, 43.39705654, 31.30384076,\n",
    "       29.14249287, 33.35982685, 68.25178863, 55.50543659,  0.5289175 ,\n",
    "        3.26280959,  4.88974786,  5.20163106,  3.57189386,  4.0222253 ,\n",
    "       35.7317967 ,  3.04556806,  2.37166337,  1.22982813,  3.15514574,\n",
    "        1.06641224, 31.83494205,  0.12732846,  2.85868658])"
   ]
  },
  {
   "cell_type": "raw",
   "metadata": {
    "collapsed": true
   },
   "source": [
    "v = np.array([-3.49251486e+00,  2.56895286e+02,  6.34889263e+02,  4.23540423e+00,\n",
    "        3.06144854e+01,  5.32898437e+02,  4.65947388e+00,  2.10953081e-01,\n",
    "        3.69172960e+02,  1.85079107e+02,  3.14421111e+02,  3.45236442e+02,\n",
    "        2.62822319e+02,  4.87881663e+02,  1.61183292e+00,  8.53907861e+02,\n",
    "        9.39441074e+01,  2.41645851e+01,  8.46587668e+02,  3.01748847e+02,\n",
    "        1.81427178e+00,  1.72439999e+00,  4.14188992e+00,  3.80508709e+00,\n",
    "       -1.63855507e+00,  3.42620859e+02,  3.57459354e+00])"
   ]
  },
  {
   "cell_type": "raw",
   "metadata": {
    "collapsed": true
   },
   "source": [
    "v = np.array([-2.51875005e+00,  3.99882406e+02,  2.59229552e+01,  2.91540851e+01,\n",
    "        1.39254458e+02,  8.12407915e+01,  2.49876072e+02,  2.74786641e+02,\n",
    "        4.56201422e+03,  6.03402392e+03,  8.23854446e+03,  6.63104020e+03,\n",
    "        5.20905761e+03,  1.94554178e+02, -9.88314607e-01, -1.11352182e+00,\n",
    "        2.77140729e+01,  2.82694588e+01,  1.17727291e+02,  1.27938574e+02,\n",
    "       -2.12175268e+00, -1.49398245e+00, -2.46909795e+00, -8.50671268e-01,\n",
    "       -3.76457784e+00])"
   ]
  },
  {
   "cell_type": "raw",
   "metadata": {
    "collapsed": true
   },
   "source": [
    "v = np.array([-107.63201595,   -3.00623478,    1.30030219,   73.91837015,\n",
    "         -1.24519356,   61.31984424,   -2.73478191,   80.84539419,\n",
    "         86.27226179,  -16.47626201,  -30.44683545,  -35.42641201,\n",
    "        -12.96207967,  -43.95549179,   -3.36130433,   37.9852565 ,\n",
    "          3.28282274,   57.71964132,  105.93552856,   30.52956235,\n",
    "         81.30883655,   46.50496736,   -4.63570007,    2.25765005,\n",
    "        -11.86949411,   83.41893473,   75.44653974])"
   ]
  },
  {
   "cell_type": "raw",
   "metadata": {
    "collapsed": true
   },
   "source": [
    "v = np.array([ -3.70809017,  -3.44052739,  13.41401445,  10.36063547,  -9.56185908,\n",
    "   8.74668577,  -7.97667636,  -1.31782856,  -9.98796727,  -9.63452286,\n",
    "   7.68799877,  -7.48368788, -11.23455619,   1.13359274,  -3.41003473,\n",
    "  12.78588911,   9.81411492,  -9.12662602,   8.91865132, -7.61937602,\n",
    "  -1.7967975,  -11.04892756,  -9.49986017,   9.41407695,  -8.69062493,\n",
    " -11.28011457,  -1.44207183] )"
   ]
  },
  {
   "cell_type": "code",
   "execution_count": 8,
   "metadata": {
    "collapsed": false
   },
   "outputs": [
    {
     "data": {
      "text/plain": [
       "['ombh2',\n",
       " 'omch2',\n",
       " 'w0',\n",
       " 'ns',\n",
       " 'ln10As',\n",
       " 'H0',\n",
       " 'Neff',\n",
       " 'logM0',\n",
       " 'sigma_logM',\n",
       " 'logMmin',\n",
       " 'logM1',\n",
       " 'alpha']"
      ]
     },
     "execution_count": 8,
     "metadata": {},
     "output_type": "execute_result"
    }
   ],
   "source": [
    "emu.get_param_names()"
   ]
  },
  {
   "cell_type": "raw",
   "metadata": {},
   "source": [
    "#zhongxu kenrel\n",
    "param_names = ['Omegam', 'Omegab', 'sigma_8', 'h', 'n_s', 'Neff', 'w', 'M_sat', 'alpha', 'Mcut', 'sigma_logM',\n",
    "               'eta_con', 'eta_vc', 'eta_vs', 'gamma_f']\n",
    "v = np.array([  0.2661017,   0.1054246,   1.1295944,   0.3643993,   0.2408568,\n",
    "       11.5649985,   5.6407612,   4.9071932,  10.6279446,  11.7621938,\n",
    "        4.7031938,   6.3770235,  11.7578699,  11.7547548,   8.4866085,/\n",
    "      -12.0550382,   1.8339794,  10.6161248,   2.2441632,  13.8155106,\n",
    "       10.6371797,  11.3512804,   7.342365 ,   3.1795786,   3.7658774,\n",
    "        5.0188608,   4.6846614,  13.8155106,  13.8155106,   5.545777 ,\n",
    "       13.8155106,\\  -1.5383083, -13.8155106])"
   ]
  },
  {
   "cell_type": "raw",
   "metadata": {},
   "source": [
    "print len(param_names)\n",
    "print v.shape"
   ]
  },
  {
   "cell_type": "code",
   "execution_count": 12,
   "metadata": {
    "collapsed": false
   },
   "outputs": [],
   "source": [
    "zhongzhu_dict = {'omch2':[0.2661017,1.8339794 ], 'ombh2':[0.1054246,10.6161248], 'ln10As':[1.1295944,2.2441632],\\\n",
    "                 'H0':[0.3643993,13.8155106],\\\n",
    "                'ns':[0.2408568,10.6371797], 'Neff':[11.5649985,11.3512804], 'w0':[5.6407612,7.342365 ],\\\n",
    "                 'logM0': [4.9071932,3.1795786,],\\\n",
    "                 'alpha':[10.6279446,3.7658774], 'logM1':[11.7621938,5.0188608], 'sigma_logM':[4.7031938, 4.6846614], 'logMmin':[1.0, 1.0],\n",
    "                'amp':[-12.0550382, 0.0,-1.5383083], 'r':[0.0, 0.0]}\n",
    "\n",
    "names = ['amp']\n",
    "names.extend(emu.get_param_names())\n",
    "from itertools import cycle\n",
    "names = cycle(names)\n",
    "amp_count = 0\n",
    "v = []\n",
    "for n in names:\n",
    "    if n== 'amp':\n",
    "        amp_count+=1\n",
    "    #v.append(zhongzhu_dict[n][amp_count-1]) #this is a poison hack dont judge me\n",
    "    v.append(zhongzhu_dict[n][amp_count]) #this is a poison hack dont judge me\n",
    "\n",
    "    if amp_count==2:\n",
    "        break\n",
    "        \n",
    "v = np.array(v)"
   ]
  },
  {
   "cell_type": "code",
   "execution_count": 13,
   "metadata": {
    "collapsed": false
   },
   "outputs": [],
   "source": [
    "emu._emulator.set_parameter_vector(v)"
   ]
  },
  {
   "cell_type": "code",
   "execution_count": 14,
   "metadata": {
    "collapsed": false
   },
   "outputs": [
    {
     "data": {
      "text/plain": [
       "array([  0.09581734,   0.13534558,   0.19118072,   0.27004994,\n",
       "         0.38145568,   0.53882047,   0.76110414,   1.07508818,\n",
       "         1.51860241,   2.14508292,   3.03001016,   4.28000311,\n",
       "         6.04566509,   8.53972892,  12.06268772,  17.0389993 ,\n",
       "        24.06822623,  33.99727318])"
      ]
     },
     "execution_count": 14,
     "metadata": {},
     "output_type": "execute_result"
    }
   ],
   "source": [
    "emu.scale_bin_centers"
   ]
  },
  {
   "cell_type": "code",
   "execution_count": 15,
   "metadata": {
    "collapsed": false
   },
   "outputs": [
    {
     "data": {
      "text/plain": [
       "1"
      ]
     },
     "execution_count": 15,
     "metadata": {},
     "output_type": "execute_result"
    }
   ],
   "source": [
    "emu.n_bins"
   ]
  },
  {
   "cell_type": "code",
   "execution_count": 16,
   "metadata": {
    "collapsed": false
   },
   "outputs": [
    {
     "name": "stdout",
     "output_type": "stream",
     "text": [
      "(27212, 12)\n"
     ]
    }
   ],
   "source": [
    "#print emu.x.shape\n",
    "#print emu.downsample_x.shape\n",
    "if hasattr(emu, \"_emulators\"):\n",
    "    print emu._emulators[0]._x.shape\n",
    "else:\n",
    "    print emu._emulator._x.shape"
   ]
  },
  {
   "cell_type": "code",
   "execution_count": 17,
   "metadata": {
    "collapsed": false
   },
   "outputs": [
    {
     "data": {
      "text/plain": [
       "OrderedDict([('ombh2', (0.02066455, 0.02371239)),\n",
       "             ('omch2', (0.10121810000000001, 0.13177679999999997)),\n",
       "             ('w0', (-1.399921, -0.56584860000000003)),\n",
       "             ('ns', (0.92784619999999995, 0.99744959999999994)),\n",
       "             ('ln10As', (3.0009000000000001, 3.179424)),\n",
       "             ('H0', (61.694719999999997, 74.76751999999999)),\n",
       "             ('Neff', (2.6212499999999999, 4.2787499999999996)),\n",
       "             ('logM0', (13.1, 16.100000000000001)),\n",
       "             ('sigma_logM', (0.050000000000000003, 0.29999999999999999)),\n",
       "             ('logMmin', (13.1, 14.1)),\n",
       "             ('logM1', (13.1, 15.1)),\n",
       "             ('alpha', (0.80000000000000004, 1.2))])"
      ]
     },
     "execution_count": 17,
     "metadata": {},
     "output_type": "execute_result"
    }
   ],
   "source": [
    "emu._ordered_params"
   ]
  },
  {
   "cell_type": "raw",
   "metadata": {},
   "source": [
    "x, y, y_pred = emu.goodness_of_fit(training_file, statistic = 'log_frac')"
   ]
  },
  {
   "cell_type": "raw",
   "metadata": {},
   "source": [
    "x, y, y_pred"
   ]
  },
  {
   "cell_type": "raw",
   "metadata": {},
   "source": [
    "N = 25\n",
    "for _y, yp in zip(y[:N], y_pred[:N]):\n",
    "    #plt.plot(emu.scale_bin_centers ,  (_y - yp)/yp ,alpha = 0.3, color = 'b')\n",
    "    \n",
    "    plt.plot(emu.scale_bin_centers, _y, alpha = 0.3, color = 'b')\n",
    "    plt.plot(emu.scale_bin_centers, yp, alpha = 0.3, color = 'r')\n",
    "    \n",
    "plt.loglog();"
   ]
  },
  {
   "cell_type": "raw",
   "metadata": {
    "collapsed": false
   },
   "source": [
    "%%timeit\n",
    "#truth_file = '/u/ki/swmclau2/des/PearceRedMagicWpCosmoTest.hdf5'\n",
    "gof = emu.goodness_of_fit(training_file, statistic = 'log_frac')"
   ]
  },
  {
   "cell_type": "code",
   "execution_count": 18,
   "metadata": {
    "collapsed": false
   },
   "outputs": [
    {
     "name": "stdout",
     "output_type": "stream",
     "text": [
      "0.000317065756859\n"
     ]
    }
   ],
   "source": [
    "gof = emu.goodness_of_fit(training_file, statistic = 'log_frac')\n",
    "print gof.mean()"
   ]
  },
  {
   "cell_type": "code",
   "execution_count": 19,
   "metadata": {
    "collapsed": false
   },
   "outputs": [
    {
     "name": "stdout",
     "output_type": "stream",
     "text": [
      "1.89590010712e-05\n"
     ]
    }
   ],
   "source": [
    "gof = emu.goodness_of_fit(training_file, statistic = 'frac')\n",
    "print gof.mean()"
   ]
  },
  {
   "cell_type": "code",
   "execution_count": null,
   "metadata": {
    "collapsed": false
   },
   "outputs": [
    {
     "data": {
      "image/png": "[encoded data removed]",
      "text/plain": [
       "<matplotlib.figure.Figure at 0x7f8c3d46b7d0>"
      ]
     },
     "metadata": {},
     "output_type": "display_data"
    }
   ],
   "source": [
    "plt.hist(np.log10(gof) );"
   ]
  },
  {
   "cell_type": "code",
   "execution_count": null,
   "metadata": {
    "collapsed": false
   },
   "outputs": [],
   "source": [
    "model = emu._emulator\n",
    "ypred = model.predict(emu.y, emu.x, False, False, False)*emu._y_std+emu._y_mean"
   ]
  },
  {
   "cell_type": "raw",
   "metadata": {
    "collapsed": false,
    "scrolled": false
   },
   "source": [
    "for idx in xrange(50):\n",
    "    plt.plot(emu.scale_bin_centers, ypred[idx*emu.n_bins:(idx+1)*emu.n_bins], label = 'Emu')\n",
    "    plt.plot(emu.scale_bin_centers, emu.y[idx*emu.n_bins:(idx+1)*emu.n_bins], label = 'True')\n",
    "    plt.title(np.sum(emu.x[(idx+1)*emu.n_bins, :-1]) )\n",
    "    plt.legend(loc='best')\n",
    "    plt.xscale('log')\n",
    "    plt.show()"
   ]
  },
  {
   "cell_type": "code",
   "execution_count": null,
   "metadata": {
    "collapsed": false
   },
   "outputs": [],
   "source": [
    "resids = np.abs(emu.y*emu._y_std+emu._y_mean - ypred)"
   ]
  },
  {
   "cell_type": "code",
   "execution_count": null,
   "metadata": {
    "collapsed": false
   },
   "outputs": [],
   "source": [
    "np.mean(resids/(emu.y*emu._y_std+emu._y_mean))"
   ]
  },
  {
   "cell_type": "code",
   "execution_count": null,
   "metadata": {
    "collapsed": false
   },
   "outputs": [],
   "source": [
    "ypred.mean(), emu._y_mean"
   ]
  },
  {
   "cell_type": "raw",
   "metadata": {
    "collapsed": false
   },
   "source": [
    "plt.plot(emu.scale_bin_centers, np.abs(gof.mean(axis = 0)) )\n",
    "plt.plot(emu.scale_bin_centers, np.ones_like(emu.scale_bin_centers)*0.01)\n",
    "plt.plot(emu.scale_bin_centers, np.ones_like(emu.scale_bin_centers)*0.05)\n",
    "plt.plot(emu.scale_bin_centers, np.ones_like(emu.scale_bin_centers)*0.1)\n",
    "\n",
    "\n",
    "plt.loglog();"
   ]
  },
  {
   "cell_type": "raw",
   "metadata": {
    "collapsed": false
   },
   "source": [
    "plt.plot(emu.scale_bin_centers, np.abs(gof.T),alpha = 0.1, color = 'b')\n",
    "plt.plot(emu.scale_bin_centers, np.ones_like(emu.scale_bin_centers)*0.01, lw = 2, color = 'k')\n",
    "plt.loglog();"
   ]
  },
  {
   "cell_type": "code",
   "execution_count": null,
   "metadata": {
    "collapsed": false
   },
   "outputs": [],
   "source": [
    "test_gof = emu.goodness_of_fit(test_file, statistic = 'log_frac')\n",
    "print test_gof.mean()"
   ]
  },
  {
   "cell_type": "code",
   "execution_count": null,
   "metadata": {
    "collapsed": false
   },
   "outputs": [],
   "source": [
    "test_gof = emu.goodness_of_fit(test_file, statistic = 'frac')\n",
    "print test_gof.mean()"
   ]
  },
  {
   "cell_type": "code",
   "execution_count": null,
   "metadata": {
    "collapsed": false
   },
   "outputs": [],
   "source": [
    "plt.hist(np.log10(test_gof));"
   ]
  },
  {
   "cell_type": "code",
   "execution_count": null,
   "metadata": {
    "collapsed": false
   },
   "outputs": [],
   "source": [
    "test_x, test_y, test_yerr, _ = emu.get_data(test_file,fixed_params, None)"
   ]
  },
  {
   "cell_type": "code",
   "execution_count": null,
   "metadata": {
    "collapsed": false
   },
   "outputs": [],
   "source": [
    "test_x"
   ]
  },
  {
   "cell_type": "code",
   "execution_count": null,
   "metadata": {
    "collapsed": false
   },
   "outputs": [],
   "source": [
    "(emu.x*emu._x_std) + emu._x_mean"
   ]
  },
  {
   "cell_type": "code",
   "execution_count": null,
   "metadata": {
    "collapsed": false
   },
   "outputs": [],
   "source": [
    "emu.get_param_names()"
   ]
  },
  {
   "cell_type": "code",
   "execution_count": null,
   "metadata": {
    "collapsed": true
   },
   "outputs": [],
   "source": [
    "test_x_white, test_y_white = (test_x - emu._x_mean)/(emu._x_std + 1e-5), (test_y - emu._y_mean)/(emu._y_std + 1e-5)"
   ]
  },
  {
   "cell_type": "code",
   "execution_count": null,
   "metadata": {
    "collapsed": true
   },
   "outputs": [],
   "source": [
    "model = emu._emulator"
   ]
  },
  {
   "cell_type": "code",
   "execution_count": null,
   "metadata": {
    "collapsed": false
   },
   "outputs": [],
   "source": [
    "pred_y_white = model.predict(emu.y, test_x_white, False, False, False)"
   ]
  },
  {
   "cell_type": "code",
   "execution_count": null,
   "metadata": {
    "collapsed": true
   },
   "outputs": [],
   "source": [
    "pred_y = pred_y_white*emu._y_std + emu._y_mean"
   ]
  },
  {
   "cell_type": "code",
   "execution_count": null,
   "metadata": {
    "collapsed": false
   },
   "outputs": [],
   "source": [
    "plt.plot(pred_y[:100], label = 'pred')\n",
    "plt.plot(test_y[:100], label = 'truth')\n",
    "\n",
    "plt.legend(loc = 'best')"
   ]
  },
  {
   "cell_type": "code",
   "execution_count": null,
   "metadata": {
    "collapsed": false
   },
   "outputs": [],
   "source": [
    "test_y.mean(), emu._y_mean, pred_y.mean()"
   ]
  },
  {
   "cell_type": "code",
   "execution_count": null,
   "metadata": {
    "collapsed": false
   },
   "outputs": [],
   "source": [
    "test_y.std(), emu._y_std, pred_y.std()"
   ]
  },
  {
   "cell_type": "code",
   "execution_count": null,
   "metadata": {
    "collapsed": false
   },
   "outputs": [],
   "source": [
    "plt.hist(pred_y_white, bins = np.linspace(-3, 3, 100), label = 'Pred')\n",
    "plt.hist(test_y_white, bins = np.linspace(-3, 3, 100), label = 'Test', alpha = 0.4);\n",
    "plt.legend(loc = 'best')"
   ]
  },
  {
   "cell_type": "code",
   "execution_count": null,
   "metadata": {
    "collapsed": true
   },
   "outputs": [],
   "source": []
  },
  {
   "cell_type": "code",
   "execution_count": null,
   "metadata": {
    "collapsed": true
   },
   "outputs": [],
   "source": []
  }
 ],
 "metadata": {
  "kernelspec": {
   "display_name": "Python [conda env:hodemulator]",
   "language": "python",
   "name": "conda-env-hodemulator-py"
  },
  "language_info": {
   "codemirror_mode": {
    "name": "ipython",
    "version": 2
   },
   "file_extension": ".py",
   "mimetype": "text/x-python",
   "name": "python",
   "nbconvert_exporter": "python",
   "pygments_lexer": "ipython2",
   "version": "2.7.13"
  }
 },
 "nbformat": 4,
 "nbformat_minor": 0
}
