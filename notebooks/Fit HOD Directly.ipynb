{
 "cells": [
  {
   "cell_type": "code",
   "execution_count": 240,
   "metadata": {
    "collapsed": false
   },
   "outputs": [],
   "source": [
    "from itertools import izip\n",
    "from time import time\n",
    "import numpy as np\n",
    "import astropy\n",
    "from pearce.mocks.customHODModels import *\n",
    "from pearce.mocks import cat_dict\n",
    "from scipy.optimize import minimize"
   ]
  },
  {
   "cell_type": "code",
   "execution_count": 241,
   "metadata": {
    "collapsed": true
   },
   "outputs": [],
   "source": [
    "from SloppyJoes import lazy_wrapper"
   ]
  },
  {
   "cell_type": "code",
   "execution_count": 242,
   "metadata": {
    "collapsed": true
   },
   "outputs": [],
   "source": [
    "from matplotlib import pyplot as plt\n",
    "%matplotlib inline\n",
    "import seaborn as sns\n",
    "sns.set()"
   ]
  },
  {
   "cell_type": "code",
   "execution_count": 243,
   "metadata": {
    "collapsed": true
   },
   "outputs": [],
   "source": [
    "AB = True"
   ]
  },
  {
   "cell_type": "code",
   "execution_count": 244,
   "metadata": {
    "collapsed": false
   },
   "outputs": [],
   "source": [
    "PRIORS = {'f_c': (0, 1),\n",
    "          'alpha': (0, 2),\n",
    "          'logMmin':(10,14),\n",
    "          'logM1': (10, 15),\n",
    "          'logM0': (9,15),\n",
    "          'sigma_logM': (0.3, 1.5),\n",
    "          'logMcut': (9,15),\n",
    "          'logMlin':(9,15),\n",
    "          'f_cen': (0.0,1.0)}\n",
    "\n",
    "cens_model = AssembiasRedMagicCens()\n",
    "#cens_model = AssembiasReddick14Cens()\n",
    "sats_model = AssembiasRedMagicSats(cens_model)\n",
    "#sats_model = AssembiasReddick14Sats()\n",
    "\n",
    "cosmo_params = {'simname':'chinchilla', 'Lbox':400.0, 'scale_factors':[0.658, 1.0]}\n",
    "\n",
    "cat = cat_dict[cosmo_params['simname']](**cosmo_params)#construct the specified catalog!\n",
    "\n",
    "cat.load(1.0, HOD=(cens_model, sats_model))\n",
    "\n",
    "LBOX = 400.0\n",
    "\n",
    "sats_model.modulate_with_cenocc = False"
   ]
  },
  {
   "cell_type": "code",
   "execution_count": 245,
   "metadata": {
    "collapsed": false
   },
   "outputs": [],
   "source": [
    "def resids(theta,params,cens_occs, sats_occs,mbc,mass_bins, sp_vals, sp_median):\n",
    "      \n",
    "    cens_model.param_dict['f_c'] = 1.0\n",
    "    sats_model.param_dict['f_c'] = 1.0\n",
    "    cat.model.param_dict['f_c'] = 1.0\n",
    "    cens_model.param_dict.update({p:x for p, x in izip(params, theta)})\n",
    "    sats_model.param_dict.update({p:x for p, x in izip(params, theta)})\n",
    "    cat.model.param_dict.update({p:x for p, x in izip(params, theta)})\n",
    "\n",
    "    arg1 = np.tile(mbc, sp_vals.shape[1])\n",
    "    arg2 = sp_vals.reshape((-1,), order = 'F')\n",
    "    arg3 = np.tile(sp_median, sp_vals.shape[1])\n",
    "\n",
    "    cens_preds = cens_model.mean_occupation(prim_haloprop = arg1,\\\n",
    "                                            sec_haloprop = arg2,\\\n",
    "                                            sec_haloprop_percentile_values = arg3)\n",
    "    sats_preds = sats_model.mean_occupation(prim_haloprop = arg1,\\\n",
    "                                            sec_haloprop = arg2,\\\n",
    "                                            sec_haloprop_percentile_values = arg3)\n",
    "\n",
    "    #Weird edge cases can occur?\n",
    "    cens_preds[cens_preds < 1e-9] = 0\n",
    "    sats_preds[sats_preds < 1e-9] = 0\n",
    "\n",
    "    cens_vars = cens_preds*(1-cens_preds)+1e-6\n",
    "    sats_vars = sats_preds + 1e-6\n",
    "\n",
    "    Ngal_pred = np.sum(cens_preds+sats_preds)\n",
    "    Ngal_obs = np.sum(cens_occs+sats_occs)\n",
    "\n",
    "    idx = sats_occ > 0\n",
    "    log_sats_diff = (np.log10(sats_preds) - np.log10(sats_occs).reshape((-1,), order = 'F' ) )\n",
    "    log_sats_diff[np.isnan(log_sats_diff)] = 0.0\n",
    "    log_sats_diff[log_sats_diff == -np.inf] = 0.0\n",
    "    log_sats_diff[log_sats_diff == np.inf] = 0.0\n",
    "    \n",
    "    return np.r_[ cens_preds-cens_occs.reshape((-1,), order = 'F'),log_sats_diff, (Ngal_pred-Ngal_obs) ]\n",
    "\n",
    "    #return np.r_[cens_preds[0,:]-cens_occs[0,:], Ngal_pred-Ngal_obs]"
   ]
  },
  {
   "cell_type": "code",
   "execution_count": 246,
   "metadata": {
    "collapsed": false
   },
   "outputs": [],
   "source": [
    "catalog = astropy.table.Table.read('/u/ki/swmclau2/des/AB_tests/abmatched_halos.hdf5', format = 'hdf5')"
   ]
  },
  {
   "cell_type": "code",
   "execution_count": 247,
   "metadata": {
    "collapsed": false
   },
   "outputs": [],
   "source": [
    "mag_cut = -21\n",
    "min_ptcl = 200\n",
    "if AB:\n",
    "    catalog = catalog[np.logical_and(catalog['halo_mvir'] > min_ptcl*cat.pmass, catalog['halo_vpeak_mag'] <=mag_cut)]\n",
    "else:\n",
    "    catalog = catalog[np.logical_and(catalog['halo_mvir'] > min_ptcl*cat.pmass, catalog['halo_vvir_mag'] <=mag_cut)]"
   ]
  },
  {
   "cell_type": "code",
   "execution_count": 248,
   "metadata": {
    "collapsed": false
   },
   "outputs": [],
   "source": [
    "if not AB:\n",
    "    MAP = np.array([ 12.64539386,  14.15396837,   0.52641264,   0.22234201,\n",
    "        14.34871275,   1.07989646,  12.81902682])\n",
    "else:\n",
    "    MAP = np.array([ 12.72747382,  14.24964974,   0.55068739,   0.18672767,\n",
    "        14.00597843,   1.06836772,  12.88931659])\n",
    "       \n",
    "names = ['logMmin', 'logMlin', 'sigma_logM', 'f_cen', 'logM1', 'alpha', 'logMcut']\n",
    "hod_params = dict(zip(names, MAP))"
   ]
  },
  {
   "cell_type": "code",
   "execution_count": 249,
   "metadata": {
    "collapsed": true
   },
   "outputs": [],
   "source": [
    "ab_params = {'mean_occupation_centrals_assembias_param1':0.4, 'mean_occupation_satellites_assembias_slope1':3,\\\n",
    "             'mean_occupation_satellites_assembias_param1':-0.5, 'mean_occupation_centrals_assembias_slope1':3,}"
   ]
  },
  {
   "cell_type": "code",
   "execution_count": 250,
   "metadata": {
    "collapsed": true
   },
   "outputs": [],
   "source": [
    "sats_model.param_dict.update(cens_model.param_dict)"
   ]
  },
  {
   "cell_type": "code",
   "execution_count": 251,
   "metadata": {
    "collapsed": false
   },
   "outputs": [],
   "source": [
    "param_dict = hod_params\n",
    "param_dict.update(ab_params)\n",
    "cens_model.param_dict.update(param_dict)\n",
    "sats_model.param_dict.update(param_dict)\n",
    "\n",
    "params = ab_params.keys()#sats_model.param_dict.keys()\n",
    "########################\n",
    "#params.remove('f_c')\n",
    "#######################3\n",
    "ndim = len(params)"
   ]
  },
  {
   "cell_type": "code",
   "execution_count": 252,
   "metadata": {
    "collapsed": false
   },
   "outputs": [],
   "source": [
    "halo_table = cat.halocat.halo_table[cat.halocat.halo_table['halo_mvir'] > min_ptcl*cat.pmass]"
   ]
  },
  {
   "cell_type": "code",
   "execution_count": 253,
   "metadata": {
    "collapsed": true
   },
   "outputs": [],
   "source": [
    "detected_central_ids = set(catalog[catalog['halo_upid']==-1]['halo_id'])"
   ]
  },
  {
   "cell_type": "code",
   "execution_count": 254,
   "metadata": {
    "collapsed": true
   },
   "outputs": [],
   "source": [
    "from collections import Counter\n",
    "def compute_occupations(halo_table):\n",
    "    #halo_table = cat.halocat.halo_table[cat.halocat.halo_table['halo_mvir'] > min_ptcl*cat.pmass]\n",
    "\n",
    "    cens_occ = np.zeros((np.sum(halo_table['halo_upid'] == -1),))\n",
    "    #cens_occ = np.zeros((len(halo_table),))\n",
    "    sats_occ = np.zeros_like(cens_occ)\n",
    "    detected_central_ids = set(catalog[catalog['halo_upid']==-1]['halo_id'])\n",
    "    detected_satellite_upids = Counter(catalog[catalog['halo_upid']!=-1]['halo_upid'])\n",
    "\n",
    "    for idx, row  in enumerate(halo_table[halo_table['halo_upid'] == -1]):\n",
    "        cens_occ[idx] = 1.0 if row['halo_id'] in detected_central_ids else 0.0\n",
    "        sats_occ[idx]+= detected_satellite_upids[row['halo_id']]\n",
    "\n",
    "    return cens_occ, sats_occ"
   ]
  },
  {
   "cell_type": "code",
   "execution_count": 255,
   "metadata": {
    "collapsed": true
   },
   "outputs": [],
   "source": [
    "from halotools.utils.table_utils import compute_prim_haloprop_bins\n",
    "def compute_hod(masses, centrals, satellites, mass_bins):\n",
    "    mass_bin_idxs = compute_prim_haloprop_bins(prim_haloprop_bin_boundaries=mass_bins, prim_haloprop = masses)\n",
    "    mass_bin_nos = set(mass_bin_idxs)\n",
    "\n",
    "    cens_occ = np.zeros((mass_bins.shape[0]-1,))\n",
    "    sats_occ = np.zeros_like(cens_occ)\n",
    "    for mb in mass_bin_nos:\n",
    "        indices_of_mb = np.where(mass_bin_idxs == mb)[0]\n",
    "        denom = len(indices_of_mb)\n",
    "        #TODO what to do about bout 0 mean std's?\n",
    "        cens_occ[mb-1] = np.mean(centrals[indices_of_mb])\n",
    "        sats_occ[mb-1] = np.mean(satellites[indices_of_mb])\n",
    "    return cens_occ, sats_occ"
   ]
  },
  {
   "cell_type": "code",
   "execution_count": null,
   "metadata": {
    "collapsed": true
   },
   "outputs": [],
   "source": [
    "mass_bin_range = (9,16)\n",
    "mass_bin_size = 0.1\n",
    "mass_bins = np.logspace(mass_bin_range[0], mass_bin_range[1], int( (mass_bin_range[1]-mass_bin_range[0])/mass_bin_size )+1 )\n",
    "mbc = (mass_bins[1:]+mass_bins[:-1])/2"
   ]
  },
  {
   "cell_type": "code",
   "execution_count": null,
   "metadata": {
    "collapsed": false
   },
   "outputs": [],
   "source": [
    "cens_occ, sats_occ = compute_occupations(halo_table )\n",
    "mock_masses = halo_table[halo_table['halo_upid']==-1]['halo_mvir']\n",
    "mock_concentrations = halo_table[halo_table['halo_upid']==-1]['halo_nfw_conc']"
   ]
  },
  {
   "cell_type": "code",
   "execution_count": null,
   "metadata": {
    "collapsed": false,
    "scrolled": true
   },
   "outputs": [],
   "source": [
    "from halotools.utils.table_utils import compute_conditional_percentiles\n",
    "mock_percentiles = compute_conditional_percentiles(prim_haloprop = mock_masses, sec_haloprop = mock_concentrations,\n",
    "                                              prim_haloprop_bin_boundaries= mass_bins)\n",
    "\n",
    "splits = np.arange(0,1.1,0.2)"
   ]
  },
  {
   "cell_type": "code",
   "execution_count": null,
   "metadata": {
    "collapsed": true
   },
   "outputs": [],
   "source": [
    "cen_hod, sat_hod = compute_hod(mock_masses, cens_occ, sats_occ, mass_bins)"
   ]
  },
  {
   "cell_type": "code",
   "execution_count": null,
   "metadata": {
    "collapsed": false
   },
   "outputs": [],
   "source": [
    "cens_occs, sats_occs = [],[]\n",
    "\n",
    "for idx, p in enumerate(splits[:-1]):\n",
    "    split_idxs = np.logical_and(p<= mock_percentiles, mock_percentiles < splits[idx+1])\n",
    "    \n",
    "    _cens_occ, _sats_occ = compute_hod(mock_masses[split_idxs], cens_occ[split_idxs], sats_occ[split_idxs], mass_bins)\n",
    "    \n",
    "    cens_occs.append(_cens_occ)\n",
    "    sats_occs.append(_sats_occ)\n",
    "    \n",
    "    #mass_bin_idxs = compute_prim_haloprop_bins(prim_haloprop_bin_boundaries=mass_bins, prim_haloprop = mock_masses[split_idxs])\n",
    "    #mass_bin_nos = set(mass_bin_idxs)\n",
    "\n",
    "    #for mb in mass_bin_nos:\n",
    "    #    indices_of_mb = np.where(mass_bin_idxs == mb)[0]\n",
    "    #    haloprop_grid[mb-1, idx] = np.mean(mock_concentrations[split_idxs][indices_of_mb])"
   ]
  },
  {
   "cell_type": "code",
   "execution_count": null,
   "metadata": {
    "collapsed": false
   },
   "outputs": [],
   "source": [
    "from halotools.utils.table_utils import compute_conditional_percentile_values\n",
    "sp_values = np.zeros((len(mass_bins)-1, (len(splits)-1)))\n",
    "spv_median = np.zeros((len(mass_bins)-1,))\n",
    "\n",
    "mass_bin_idxs = compute_prim_haloprop_bins(prim_haloprop_bin_boundaries=mass_bins, prim_haloprop = mock_masses[split_idxs])\n",
    "mass_bin_nos = set(mass_bin_idxs)\n",
    "\n",
    "q = ((splits[1:]+splits[:-1])/2)*100\n",
    "\n",
    "for mb in mass_bin_nos:\n",
    "    indices_of_mb = np.where(mass_bin_idxs == mb)[0]\n",
    "    sp_values[mb-1, :] = np.percentile(mock_concentrations[indices_of_mb], q)\n",
    "    \n",
    "    spv_median[mb-1] = np.percentile(mock_concentrations[indices_of_mb], 50)"
   ]
  },
  {
   "cell_type": "code",
   "execution_count": null,
   "metadata": {
    "collapsed": false
   },
   "outputs": [],
   "source": [
    "for co, so, p in izip(cens_occs, sats_occs, splits[1:]):\n",
    "    plt.plot(mbc, co, label =p )\n",
    "\n",
    "    \n",
    "plt.plot(mbc, cen_hod, lw = 2)\n",
    "    \n",
    "plt.legend(loc='best')\n",
    "plt.loglog()\n",
    "plt.xlim([1e11,1e16])\n",
    "plt.ylim([1e-3,1.1])\n",
    "plt.show();"
   ]
  },
  {
   "cell_type": "code",
   "execution_count": null,
   "metadata": {
    "collapsed": false
   },
   "outputs": [],
   "source": [
    "cens_model.param_dict['mean_occupation_centals_assembias_slope1'] = 1.2\n",
    "cens_model.param_dict['f_c'] = 1.0\n",
    "sats_model.param_dict['f_c'] = 1.0\n",
    "sats_model.param_dict['mean_occupation_satellites_assembias_slope1'] = 1.2"
   ]
  },
  {
   "cell_type": "code",
   "execution_count": null,
   "metadata": {
    "collapsed": false
   },
   "outputs": [],
   "source": [
    "arg1 = np.tile(mbc, sp_values.shape[1])\n",
    "arg2 = sp_values.reshape((-1,), order = 'F')\n",
    "arg3 = np.tile(spv_median, sp_values.shape[1])\n",
    "\n",
    "cens_preds = cens_model.mean_occupation(prim_haloprop = arg1,\\\n",
    "                                        sec_haloprop = arg2,\\\n",
    "                                        sec_haloprop_percentile_values = arg3)\n",
    "sats_preds = sats_model.mean_occupation(prim_haloprop = arg1,\\\n",
    "                                        sec_haloprop = arg2,\\\n",
    "                                        sec_haloprop_percentile_values = arg3)\n",
    "\n",
    "cens_preds = cens_preds.reshape((-1, sp_values.shape[1]), order = 'F')\n",
    "sats_preds = sats_preds.reshape((-1, sp_values.shape[1]), order = 'F')\n",
    "\n",
    "for p, cp, sp, co, so in zip(splits, cens_preds.T, sats_preds.T, cens_occs, sats_occs,):\n",
    "    plt.plot(mbc, (cp+sp)/(co+so), label = p+0.25 )\n",
    "    \n",
    "    \n",
    "plt.legend(loc='best')\n",
    "plt.loglog()\n",
    "plt.xlim([1e11,1e16])\n",
    "plt.ylim([1e-3,20])\n",
    "plt.show();"
   ]
  },
  {
   "cell_type": "code",
   "execution_count": null,
   "metadata": {
    "collapsed": false
   },
   "outputs": [],
   "source": [
    "vals = np.array([param_dict[key] for key in params])\n",
    "cens_idxs = halo_table['halo_upid'] == -1\n",
    "args = (params, np.array(cens_occs).T, np.array(sats_occs).T,mbc,mass_bins, sp_values, spv_median)\n",
    "print params"
   ]
  },
  {
   "cell_type": "code",
   "execution_count": null,
   "metadata": {
    "collapsed": true
   },
   "outputs": [],
   "source": [
    "vals[2]= 2.0\n",
    "vals[3] = 2.0"
   ]
  },
  {
   "cell_type": "code",
   "execution_count": null,
   "metadata": {
    "collapsed": false
   },
   "outputs": [],
   "source": [
    "test = cens_model.mean_occupation(prim_haloprop = cat.halocat.halo_table['halo_mvir'][:100],\\\n",
    "                           sec_haloprop= cat.halocat.halo_table['halo_nfw_conc'][:100])\n",
    "print np.mean(test)"
   ]
  },
  {
   "cell_type": "code",
   "execution_count": null,
   "metadata": {
    "collapsed": false
   },
   "outputs": [],
   "source": [
    "np.array(cens_occs).shape"
   ]
  },
  {
   "cell_type": "code",
   "execution_count": null,
   "metadata": {
    "collapsed": false
   },
   "outputs": [],
   "source": [
    "cens_model.baseline_mean_occupation"
   ]
  },
  {
   "cell_type": "code",
   "execution_count": null,
   "metadata": {
    "collapsed": false
   },
   "outputs": [],
   "source": [
    "resids(vals, *args)"
   ]
  },
  {
   "cell_type": "code",
   "execution_count": null,
   "metadata": {
    "collapsed": false
   },
   "outputs": [],
   "source": [
    "lazy_wrapper(resids, vals, func_args = args,maxfev = 500, print_level = 1, artol = 1e-6)"
   ]
  },
  {
   "cell_type": "code",
   "execution_count": null,
   "metadata": {
    "collapsed": false
   },
   "outputs": [],
   "source": [
    "print params"
   ]
  },
  {
   "cell_type": "code",
   "execution_count": null,
   "metadata": {
    "collapsed": true
   },
   "outputs": [],
   "source": []
  }
 ],
 "metadata": {
  "kernelspec": {
   "display_name": "Python [conda env:hodemulator]",
   "language": "python",
   "name": "conda-env-hodemulator-py"
  },
  "language_info": {
   "codemirror_mode": {
    "name": "ipython",
    "version": 2
   },
   "file_extension": ".py",
   "mimetype": "text/x-python",
   "name": "python",
   "nbconvert_exporter": "python",
   "pygments_lexer": "ipython2",
   "version": "2.7.13"
  }
 },
 "nbformat": 4,
 "nbformat_minor": 0
}
