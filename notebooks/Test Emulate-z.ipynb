{
 "cells": [
  {
   "cell_type": "raw",
   "metadata": {
    "collapsed": false
   },
   "source": [
    "%load_ext autoreload\n",
    "%autoreload 2"
   ]
  },
  {
   "cell_type": "code",
   "execution_count": 1,
   "metadata": {
    "collapsed": false
   },
   "outputs": [
    {
     "name": "stdout",
     "output_type": "stream",
     "text": [
      "The history saving thread hit an unexpected error (DatabaseError('database disk image is malformed',)).History will not be written to the database.\n",
      "* emulate_z 2434f66 Trying to fix SB, gonna have to copy some behavior from EC.\n",
      "  master    2f632ff Figured out the source of that dumb averaging thing.\n"
     ]
    }
   ],
   "source": [
    "%%bash\n",
    "git branch -v "
   ]
  },
  {
   "cell_type": "code",
   "execution_count": 2,
   "metadata": {
    "collapsed": false
   },
   "outputs": [],
   "source": [
    "from pearce.emulator import OriginalRecipe, ExtraCrispy, SpicyBuffalo\n",
    "from pearce.emulator import parameter, DEFAULT_PARAMS as PARAMS"
   ]
  },
  {
   "cell_type": "code",
   "execution_count": 3,
   "metadata": {
    "collapsed": false
   },
   "outputs": [],
   "source": [
    "import numpy as np\n",
    "from matplotlib import pyplot as plt\n",
    "%matplotlib inline\n",
    "import seaborn as sns\n",
    "sns.set()\n",
    "from itertools import cycle\n",
    "colors = cycle(sns.color_palette())"
   ]
  },
  {
   "cell_type": "code",
   "execution_count": 4,
   "metadata": {
    "collapsed": true
   },
   "outputs": [],
   "source": [
    "training_dir = '/u/ki/swmclau2/des/PearceLHC_wp_z/'\n",
    "fiducial_params = {'logM0': 12.20, 'logM1': 13.7, 'alpha': 1.02,\n",
    "                      'logMmin': 12.1, 'f_c': 0.19, 'sigma_logM': 0.46}\n",
    "rbins = np.array([  0.06309573,   0.12437607,   0.24517359,   0.34422476, 0.48329302, 0.67854546,\\\n",
    "           0.9526807 , 1.33756775,1.8779508 ,   2.6366509 ,   3.70186906,   5.19743987, 7.29722764, \\\n",
    "           10.24533859,  14.38449888,  20.1958975 , 28.35512583,  39.81071706] )\n",
    "rpoints = (rbins[1:]+rbins[:-1])/2"
   ]
  },
  {
   "cell_type": "code",
   "execution_count": 5,
   "metadata": {
    "collapsed": true
   },
   "outputs": [],
   "source": [
    "y_param = 'logMmin'\n",
    "emulation_point = [('f_c', 0.233), ('logM0', 12.0), ('sigma_logM', 0.533), \n",
    "                   ('alpha', 1.083),('logM1', 13.5), ('logMmin', 12.233), ('z', 0.5)]\n",
    "em_params = dict(emulation_point)\n",
    "try:\n",
    "    del em_params[y_param]\n",
    "except KeyError:\n",
    "    pass"
   ]
  },
  {
   "cell_type": "code",
   "execution_count": 6,
   "metadata": {
    "collapsed": true
   },
   "outputs": [],
   "source": [
    "or_params = PARAMS[:]\n",
    "or_params.append(parameter('z', 0.0, 0.5))\n",
    "or_params.append(parameter('r', 0, 1)) #95% sure bounds aren't used for r"
   ]
  },
  {
   "cell_type": "code",
   "execution_count": 7,
   "metadata": {
    "collapsed": false
   },
   "outputs": [],
   "source": [
    "y_param_idx = -1\n",
    "for idx, p in enumerate(or_params):\n",
    "    if p.name==y_param:\n",
    "        y_param_idx = idx\n",
    "        break\n",
    "        \n",
    "y_vals = np.linspace(or_params[y_param_idx].low, or_params[y_param_idx].high, 4)\n",
    "em_params[y_param] = y_vals"
   ]
  },
  {
   "cell_type": "code",
   "execution_count": 8,
   "metadata": {
    "collapsed": false
   },
   "outputs": [
    {
     "name": "stdout",
     "output_type": "stream",
     "text": [
      "[ 11.7         11.96666667  12.23333333  12.5       ]\n"
     ]
    }
   ],
   "source": [
    "print em_params[y_param]"
   ]
  },
  {
   "cell_type": "code",
   "execution_count": 9,
   "metadata": {
    "collapsed": false
   },
   "outputs": [
    {
     "name": "stdout",
     "output_type": "stream",
     "text": [
      "{'logMmin': array([ 11.7       ,  11.96666667,  12.23333333,  12.5       ]), 'f_c': 0.233, 'logM0': 12.0, 'sigma_logM': 0.533, 'logM1': 13.5, 'alpha': 1.083, 'z': 0.5}\n"
     ]
    }
   ],
   "source": [
    "print em_params"
   ]
  },
  {
   "cell_type": "raw",
   "metadata": {
    "collapsed": true
   },
   "source": [
    "em_params['z'] = 0.0"
   ]
  },
  {
   "cell_type": "raw",
   "metadata": {
    "collapsed": true
   },
   "source": [
    "emu1 = OriginalRecipe(training_dir,params=or_params)"
   ]
  },
  {
   "cell_type": "raw",
   "metadata": {
    "collapsed": false
   },
   "source": [
    "emu1 = ExtraCrispy(training_dir)"
   ]
  },
  {
   "cell_type": "code",
   "execution_count": 10,
   "metadata": {
    "collapsed": true
   },
   "outputs": [],
   "source": [
    "rpoints = np.logspace(np.log10(rbins[1]), np.log10(rbins[-2]), 10)"
   ]
  },
  {
   "cell_type": "raw",
   "metadata": {
    "collapsed": false
   },
   "source": [
    "log_xi_pred= emu1.emulate_wrt_r(em_params, rpoints)\n",
    "#log_xi_cov = np.zeros((log_xi_pred.shape[0], log_xi_pred.shape[0]))\n",
    "#log_xi_err = np.sqrt(np.diag(log_xi_cov))\n",
    "#log_xi_pred = log_xi_pred.reshape((-1, len(rpoints)))\n",
    "#log_xi_err = log_xi_err.reshape((-1, len(rpoints)))\n",
    "log_xi_err = np.zeros_like(log_xi_pred)"
   ]
  },
  {
   "cell_type": "raw",
   "metadata": {
    "collapsed": false
   },
   "source": [
    "print log_xi_pred.shape"
   ]
  },
  {
   "cell_type": "raw",
   "metadata": {
    "collapsed": false
   },
   "source": [
    "log_xi_pred[[0,-1], :] = log_xi_pred[[-1,0],:]"
   ]
  },
  {
   "cell_type": "raw",
   "metadata": {
    "collapsed": false
   },
   "source": [
    "truth_dir = '/u/ki/swmclau2/des/PearceLHC_wp_z/'\n",
    "plot_r, plot_xi, plot_xi_err = emu1.get_plot_data(em_params,truth_dir, independent_variable=None)"
   ]
  },
  {
   "cell_type": "raw",
   "metadata": {
    "collapsed": false
   },
   "source": [
    "plot_xi.shape, plot_r.shape, plot_xi_err.shape"
   ]
  },
  {
   "cell_type": "raw",
   "metadata": {
    "collapsed": false
   },
   "source": [
    "fig = plt.figure(figsize = (10, 10))\n",
    "for label, lxp, lxe,pr, px, err,c in zip(y_vals, log_xi_pred, log_xi_err ,plot_r, plot_xi,plot_xi_err,colors):\n",
    "\n",
    "    plt.plot(rpoints, lxp,label = '%.3f'%label, color = c )\n",
    "\n",
    "    plt.fill_between(rpoints,lxp+lxe,\n",
    "                     lxp-lxe, color = c, alpha = 0.3)\n",
    "\n",
    "    plt.errorbar(10**pr, px,err, color =c,fmt = 'o')\n",
    "\n",
    "plt.xlim(xmin = 0.1, xmax = 30)    \n",
    "plt.ylim(ymin = -2, ymax = 4)\n",
    "plt.title(\"OR Emulator w.r.t. %s\"%y_param, fontsize =20)\n",
    "#plt.loglog()\n",
    "plt.xscale('log')\n",
    "plt.xticks(fontsize=20)\n",
    "plt.yticks(fontsize=20)\n",
    "plt.xlabel(r'$r $  $\\rm{[Mpc]}$', fontsize=25)\n",
    "plt.ylabel(r'$\\log_{10}{\\xi_{\\rm gg}(r) }$', fontsize=25)\n",
    "plt.legend(loc='best', fontsize=25)"
   ]
  },
  {
   "cell_type": "raw",
   "metadata": {
    "collapsed": false
   },
   "source": [
    "fig = plt.figure(figsize = (10, 10))\n",
    "for label, lxp, lxe,c in zip(y_vals, log_xi_pred, log_xi_err ,colors):\n",
    "\n",
    "    plt.plot(rpoints, lxp,label = 'z= %.3f'%label, color = c )\n",
    "\n",
    "    plt.fill_between(rpoints,lxp+lxe,\n",
    "                     lxp-lxe, color = c, alpha = 0.3)\n",
    "\n",
    "plt.xlim(xmin = 0.1, xmax = 30)    \n",
    "plt.ylim(ymin = 0, ymax = 3.5)\n",
    "plt.title(\"OR Emulator w.r.t. %s\"%y_param, fontsize =20)\n",
    "#plt.loglog()\n",
    "plt.xscale('log')\n",
    "plt.xticks(fontsize=20)\n",
    "plt.yticks(fontsize=20)\n",
    "plt.xlabel(r'$r $  $\\rm{[Mpc]}$', fontsize=25)\n",
    "plt.ylabel(r'$\\log_{10}{w_p(r_p) }$', fontsize=25)\n",
    "plt.legend(loc='best', fontsize=25)"
   ]
  },
  {
   "cell_type": "code",
   "execution_count": 11,
   "metadata": {
    "collapsed": false
   },
   "outputs": [
    {
     "data": {
      "text/plain": [
       "{'alpha': 1.083,\n",
       " 'f_c': 0.233,\n",
       " 'logM0': 12.0,\n",
       " 'logM1': 13.5,\n",
       " 'logMmin': array([ 11.7       ,  11.96666667,  12.23333333,  12.5       ]),\n",
       " 'sigma_logM': 0.533,\n",
       " 'z': 0.5}"
      ]
     },
     "execution_count": 11,
     "metadata": {},
     "output_type": "execute_result"
    }
   ],
   "source": [
    "em_params"
   ]
  },
  {
   "cell_type": "code",
   "execution_count": 12,
   "metadata": {
    "collapsed": false
   },
   "outputs": [],
   "source": [
    "emu2 = ExtraCrispy(training_dir)#no r in params"
   ]
  },
  {
   "cell_type": "raw",
   "metadata": {
    "collapsed": true
   },
   "source": [
    "rpoints = emu2.scale_bin_centers\n",
    "em_params['z'] = emu2.redshift_bin_centers"
   ]
  },
  {
   "cell_type": "code",
   "execution_count": 13,
   "metadata": {
    "collapsed": false
   },
   "outputs": [
    {
     "name": "stdout",
     "output_type": "stream",
     "text": [
      "im (1, 10)\n",
      "im (1, 10)\n",
      "im (1, 10)\n",
      "im (1, 10)\n",
      "Mu r (4, 1, 10)\n"
     ]
    }
   ],
   "source": [
    "log_xi_pred = emu2.emulate_wrt_r(em_params,rpoints)\n",
    "#log_xi_cov = np.zeros((log_xi_pred.shape[0], log_xi_pred.shape[0]))\n",
    "#log_xi_err = np.sqrt(np.diag(log_xi_cov))\n",
    "#print log_xi_pred\n",
    "#log_xi_pred = log_xi_pred.reshape((-1, len(rpoints)))\n",
    "#log_xi_err = log_xi_err.reshape((-1, len(rpoints)))\n",
    "log_xi_err = np.zeros(log_xi_pred.shape)"
   ]
  },
  {
   "cell_type": "raw",
   "metadata": {
    "collapsed": false
   },
   "source": [
    "fig = plt.figure(figsize = (10, 10))\n",
    "for label, lxp, lxe,pr, px, err,c in zip(y_vals, log_xi_pred, log_xi_err ,plot_r, plot_xi,plot_xi_err,colors):\n",
    "\n",
    "    plt.plot(rpoints, lxp,label = '%.3f'%label, color = c )\n",
    "\n",
    "    plt.fill_between(rpoints,lxp+lxe,\n",
    "                     lxp-lxe, color = c, alpha = 0.3)\n",
    "\n",
    "    plt.errorbar(10**pr, px,err, color =c,fmt = 'o')\n",
    "\n",
    "plt.xlim(xmin = 0.1, xmax = 30)    \n",
    "plt.ylim(ymin = -2, ymax = 4)\n",
    "plt.title(\"EC Emulator w.r.t. %s\"%y_param, fontsize =20)\n",
    "#plt.loglog()\n",
    "plt.xscale('log')\n",
    "plt.xticks(fontsize=20)\n",
    "plt.yticks(fontsize=20)\n",
    "plt.xlabel(r'$r $  $\\rm{[Mpc]}$', fontsize=25)\n",
    "plt.ylabel(r'$\\log_{10}{\\xi_{\\rm gg}(r) }$', fontsize=25)\n",
    "plt.legend(loc='best', fontsize=25)"
   ]
  },
  {
   "cell_type": "code",
   "execution_count": 14,
   "metadata": {
    "collapsed": false
   },
   "outputs": [
    {
     "data": {
      "text/plain": [
       "<matplotlib.legend.Legend at 0x7fc8b414cf50>"
      ]
     },
     "execution_count": 14,
     "metadata": {},
     "output_type": "execute_result"
    },
    {
     "data": {
      "image/png": "[encoded data removed]",
      "text/plain": [
       "<matplotlib.figure.Figure at 0x7fc8ae06b810>"
      ]
     },
     "metadata": {},
     "output_type": "display_data"
    }
   ],
   "source": [
    "fig = plt.figure(figsize = (10, 10))\n",
    "for label, lxp, lxe,c in zip(y_vals, log_xi_pred, log_xi_err ,colors):\n",
    "\n",
    "    #plt.plot(rpoints, lxp,label = 'z= %.3f'%label, color = c )\n",
    "    plt.plot(rpoints, lxp,label = 'z= %.3f'%label, color = c )\n",
    "\n",
    "    plt.fill_between(rpoints,lxp+lxe,\n",
    "                     lxp-lxe, color = c, alpha = 0.3)\n",
    "\n",
    "plt.xlim(xmin = 0.1, xmax = 30)    \n",
    "plt.ylim(ymin = 0, ymax = 3.5)\n",
    "plt.title(\"EC Emulator w.r.t. %s\"%y_param, fontsize =20)\n",
    "#plt.loglog()\n",
    "plt.xscale('log')\n",
    "plt.xticks(fontsize=20)\n",
    "plt.yticks(fontsize=20)\n",
    "plt.xlabel(r'$r $  $\\rm{[Mpc]}$', fontsize=25)\n",
    "plt.ylabel(r'$\\log_{10}{w_p(r_p) }$', fontsize=25)\n",
    "plt.legend(loc='best', fontsize=25)"
   ]
  },
  {
   "cell_type": "code",
   "execution_count": 15,
   "metadata": {
    "collapsed": false
   },
   "outputs": [],
   "source": [
    "or_params = PARAMS[:]\n",
    "#or_params.append(parameter('z', 0.0, 0.5))\n",
    "or_params.append(parameter('r', 0, 1)) #95% sure bounds aren't used for r\n",
    "emu3 = SpicyBuffalo(training_dir, em_param = 'r', params = or_params)#no r in params"
   ]
  },
  {
   "cell_type": "code",
   "execution_count": 16,
   "metadata": {
    "collapsed": false
   },
   "outputs": [
    {
     "name": "stdout",
     "output_type": "stream",
     "text": [
      "2\n",
      "[ 0.51975684  0.        ]\n"
     ]
    }
   ],
   "source": [
    "print len(emu3.emulators)\n",
    "print emu3.em_bin_centers"
   ]
  },
  {
   "cell_type": "code",
   "execution_count": 17,
   "metadata": {
    "collapsed": false
   },
   "outputs": [
    {
     "name": "stdout",
     "output_type": "stream",
     "text": [
      "0.5\n"
     ]
    }
   ],
   "source": [
    "print em_params['z']"
   ]
  },
  {
   "cell_type": "code",
   "execution_count": 18,
   "metadata": {
    "collapsed": false
   },
   "outputs": [
    {
     "name": "stdout",
     "output_type": "stream",
     "text": [
      "All mu (4, 10, 2)\n",
      "[[ 2.16100569  2.41836469]\n",
      " [ 1.98020461  2.23371236]\n",
      " [ 1.77664611  2.01609363]\n",
      " [ 1.55530752  1.76165571]\n",
      " [ 1.35427699  1.50226178]\n",
      " [ 1.19016059  1.30069297]\n",
      " [ 1.00784435  1.11830256]\n",
      " [ 0.77290079  0.87701862]\n",
      " [ 0.48383522  0.58695438]\n",
      " [ 0.02554104  0.1267104 ]]\n",
      "All mu (4, 2, 10)\n",
      "[[ 2.16100569  1.98020461  1.77664611  1.55530752  1.35427699  1.19016059\n",
      "   1.00784435  0.77290079  0.48383522  0.02554104]\n",
      " [ 2.41836469  2.23371236  2.01609363  1.76165571  1.50226178  1.30069297\n",
      "   1.11830256  0.87701862  0.58695438  0.1267104 ]]\n"
     ]
    },
    {
     "ename": "ValueError",
     "evalue": "x and y arrays must be equal in length along interpolation axis.",
     "output_type": "error",
     "traceback": [
      "\u001b[1;31m---------------------------------------------------------------------------\u001b[0m",
      "\u001b[1;31mValueError\u001b[0m                                Traceback (most recent call last)",
      "\u001b[1;32m<ipython-input-18-919e0974f40f>\u001b[0m in \u001b[0;36m<module>\u001b[1;34m()\u001b[0m\n\u001b[1;32m----> 1\u001b[1;33m \u001b[0mlog_xi_pred\u001b[0m \u001b[1;33m=\u001b[0m \u001b[0memu3\u001b[0m\u001b[1;33m.\u001b[0m\u001b[0memulate_wrt_r\u001b[0m\u001b[1;33m(\u001b[0m\u001b[0mem_params\u001b[0m\u001b[1;33m,\u001b[0m\u001b[0mrpoints\u001b[0m\u001b[1;33m)\u001b[0m\u001b[1;33m\u001b[0m\u001b[0m\n\u001b[0m\u001b[0;32m      2\u001b[0m \u001b[1;31m#log_xi_cov = np.zeros((log_xi_pred.shape[0], log_xi_pred.shape[0]))\u001b[0m\u001b[1;33m\u001b[0m\u001b[1;33m\u001b[0m\u001b[0m\n\u001b[0;32m      3\u001b[0m \u001b[1;31m#log_xi_err = np.sqrt(np.diag(log_xi_cov))\u001b[0m\u001b[1;33m\u001b[0m\u001b[1;33m\u001b[0m\u001b[0m\n\u001b[0;32m      4\u001b[0m \u001b[1;31m#print log_xi_pred\u001b[0m\u001b[1;33m\u001b[0m\u001b[1;33m\u001b[0m\u001b[0m\n\u001b[0;32m      5\u001b[0m \u001b[1;31m#log_xi_pred = log_xi_pred.reshape((-1, len(rpoints)))\u001b[0m\u001b[1;33m\u001b[0m\u001b[1;33m\u001b[0m\u001b[0m\n",
      "\u001b[1;32m/u/ki/swmclau2/.conda/envs/hodemulator/lib/python2.7/site-packages/pearce/emulator/emu.pyc\u001b[0m in \u001b[0;36memulate_wrt_r\u001b[1;34m(self, em_params, r_bin_centers, gp_errs)\u001b[0m\n\u001b[0;32m    476\u001b[0m             \u001b[1;32mpass\u001b[0m\u001b[1;33m\u001b[0m\u001b[0m\n\u001b[0;32m    477\u001b[0m \u001b[1;33m\u001b[0m\u001b[0m\n\u001b[1;32m--> 478\u001b[1;33m         \u001b[0mout\u001b[0m\u001b[1;33m=\u001b[0m \u001b[0mself\u001b[0m\u001b[1;33m.\u001b[0m\u001b[0memulate_wrt_r_z\u001b[0m\u001b[1;33m(\u001b[0m\u001b[0mep\u001b[0m\u001b[1;33m,\u001b[0m \u001b[0mr_bin_centers\u001b[0m\u001b[1;33m,\u001b[0m \u001b[0mz_bin_centers\u001b[0m\u001b[1;33m,\u001b[0m \u001b[0mgp_errs\u001b[0m\u001b[1;33m)\u001b[0m\u001b[1;33m\u001b[0m\u001b[0m\n\u001b[0m\u001b[0;32m    479\u001b[0m         \u001b[1;31m#Reshape to have ((-1, r_bin_centers)) shape.\u001b[0m\u001b[1;33m\u001b[0m\u001b[1;33m\u001b[0m\u001b[0m\n\u001b[0;32m    480\u001b[0m         \u001b[1;32mif\u001b[0m \u001b[0mgp_errs\u001b[0m\u001b[1;33m:\u001b[0m\u001b[1;33m\u001b[0m\u001b[0m\n",
      "\u001b[1;32m/u/ki/swmclau2/.conda/envs/hodemulator/lib/python2.7/site-packages/pearce/emulator/emu.pyc\u001b[0m in \u001b[0;36memulate_wrt_r_z\u001b[1;34m(self, em_params, r_bin_centers, z_bin_centers, gp_errs, kind)\u001b[0m\n\u001b[0;32m   1248\u001b[0m             \u001b[0mnew_err\u001b[0m\u001b[1;33m.\u001b[0m\u001b[0mappend\u001b[0m\u001b[1;33m(\u001b[0m\u001b[1;33m[\u001b[0m\u001b[1;33m]\u001b[0m\u001b[1;33m)\u001b[0m\u001b[1;33m\u001b[0m\u001b[0m\n\u001b[0;32m   1249\u001b[0m             \u001b[1;32mfor\u001b[0m \u001b[0mmean\u001b[0m\u001b[1;33m,\u001b[0m \u001b[0merr\u001b[0m \u001b[1;32min\u001b[0m \u001b[0mizip\u001b[0m\u001b[1;33m(\u001b[0m\u001b[0mmean_slice\u001b[0m\u001b[1;33m,\u001b[0m \u001b[0merr_slice\u001b[0m\u001b[1;33m)\u001b[0m\u001b[1;33m:\u001b[0m\u001b[1;33m\u001b[0m\u001b[0m\n\u001b[1;32m-> 1250\u001b[1;33m                 \u001b[0mxi_interpolator\u001b[0m \u001b[1;33m=\u001b[0m \u001b[0minterp1d\u001b[0m\u001b[1;33m(\u001b[0m\u001b[0mself\u001b[0m\u001b[1;33m.\u001b[0m\u001b[0mem_bin_centers\u001b[0m\u001b[1;33m,\u001b[0m \u001b[0mmean\u001b[0m\u001b[1;33m,\u001b[0m \u001b[0mkind\u001b[0m\u001b[1;33m=\u001b[0m\u001b[0mkind\u001b[0m\u001b[1;33m)\u001b[0m\u001b[1;33m\u001b[0m\u001b[0m\n\u001b[0m\u001b[0;32m   1251\u001b[0m                 \u001b[0minterp_mean\u001b[0m \u001b[1;33m=\u001b[0m \u001b[0mxi_interpolator\u001b[0m\u001b[1;33m(\u001b[0m\u001b[0mem_bin_centers\u001b[0m\u001b[1;33m)\u001b[0m\u001b[1;33m\u001b[0m\u001b[0m\n\u001b[0;32m   1252\u001b[0m                 \u001b[0mnew_mu\u001b[0m\u001b[1;33m[\u001b[0m\u001b[1;33m-\u001b[0m\u001b[1;36m1\u001b[0m\u001b[1;33m]\u001b[0m\u001b[1;33m.\u001b[0m\u001b[0mappend\u001b[0m\u001b[1;33m(\u001b[0m\u001b[0minterp_mean\u001b[0m\u001b[1;33m)\u001b[0m\u001b[1;33m\u001b[0m\u001b[0m\n",
      "\u001b[1;32m/u/ki/swmclau2/.conda/envs/hodemulator/lib/python2.7/site-packages/scipy/interpolate/interpolate.pyc\u001b[0m in \u001b[0;36m__init__\u001b[1;34m(self, x, y, kind, axis, copy, bounds_error, fill_value, assume_sorted)\u001b[0m\n\u001b[0;32m    407\u001b[0m                  assume_sorted=False):\n\u001b[0;32m    408\u001b[0m         \u001b[1;34m\"\"\" Initialize a 1D linear interpolation class.\"\"\"\u001b[0m\u001b[1;33m\u001b[0m\u001b[0m\n\u001b[1;32m--> 409\u001b[1;33m         \u001b[0m_Interpolator1D\u001b[0m\u001b[1;33m.\u001b[0m\u001b[0m__init__\u001b[0m\u001b[1;33m(\u001b[0m\u001b[0mself\u001b[0m\u001b[1;33m,\u001b[0m \u001b[0mx\u001b[0m\u001b[1;33m,\u001b[0m \u001b[0my\u001b[0m\u001b[1;33m,\u001b[0m \u001b[0maxis\u001b[0m\u001b[1;33m=\u001b[0m\u001b[0maxis\u001b[0m\u001b[1;33m)\u001b[0m\u001b[1;33m\u001b[0m\u001b[0m\n\u001b[0m\u001b[0;32m    410\u001b[0m \u001b[1;33m\u001b[0m\u001b[0m\n\u001b[0;32m    411\u001b[0m         \u001b[0mself\u001b[0m\u001b[1;33m.\u001b[0m\u001b[0mbounds_error\u001b[0m \u001b[1;33m=\u001b[0m \u001b[0mbounds_error\u001b[0m  \u001b[1;31m# used by fill_value setter\u001b[0m\u001b[1;33m\u001b[0m\u001b[0m\n",
      "\u001b[1;32m/u/ki/swmclau2/.conda/envs/hodemulator/lib/python2.7/site-packages/scipy/interpolate/polyint.pyc\u001b[0m in \u001b[0;36m__init__\u001b[1;34m(self, xi, yi, axis)\u001b[0m\n\u001b[0;32m     58\u001b[0m         \u001b[0mself\u001b[0m\u001b[1;33m.\u001b[0m\u001b[0mdtype\u001b[0m \u001b[1;33m=\u001b[0m \u001b[0mNone\u001b[0m\u001b[1;33m\u001b[0m\u001b[0m\n\u001b[0;32m     59\u001b[0m         \u001b[1;32mif\u001b[0m \u001b[0myi\u001b[0m \u001b[1;32mis\u001b[0m \u001b[1;32mnot\u001b[0m \u001b[0mNone\u001b[0m\u001b[1;33m:\u001b[0m\u001b[1;33m\u001b[0m\u001b[0m\n\u001b[1;32m---> 60\u001b[1;33m             \u001b[0mself\u001b[0m\u001b[1;33m.\u001b[0m\u001b[0m_set_yi\u001b[0m\u001b[1;33m(\u001b[0m\u001b[0myi\u001b[0m\u001b[1;33m,\u001b[0m \u001b[0mxi\u001b[0m\u001b[1;33m=\u001b[0m\u001b[0mxi\u001b[0m\u001b[1;33m,\u001b[0m \u001b[0maxis\u001b[0m\u001b[1;33m=\u001b[0m\u001b[0maxis\u001b[0m\u001b[1;33m)\u001b[0m\u001b[1;33m\u001b[0m\u001b[0m\n\u001b[0m\u001b[0;32m     61\u001b[0m \u001b[1;33m\u001b[0m\u001b[0m\n\u001b[0;32m     62\u001b[0m     \u001b[1;32mdef\u001b[0m \u001b[0m__call__\u001b[0m\u001b[1;33m(\u001b[0m\u001b[0mself\u001b[0m\u001b[1;33m,\u001b[0m \u001b[0mx\u001b[0m\u001b[1;33m)\u001b[0m\u001b[1;33m:\u001b[0m\u001b[1;33m\u001b[0m\u001b[0m\n",
      "\u001b[1;32m/u/ki/swmclau2/.conda/envs/hodemulator/lib/python2.7/site-packages/scipy/interpolate/polyint.pyc\u001b[0m in \u001b[0;36m_set_yi\u001b[1;34m(self, yi, xi, axis)\u001b[0m\n\u001b[0;32m    123\u001b[0m             \u001b[0mshape\u001b[0m \u001b[1;33m=\u001b[0m \u001b[1;33m(\u001b[0m\u001b[1;36m1\u001b[0m\u001b[1;33m,\u001b[0m\u001b[1;33m)\u001b[0m\u001b[1;33m\u001b[0m\u001b[0m\n\u001b[0;32m    124\u001b[0m         \u001b[1;32mif\u001b[0m \u001b[0mxi\u001b[0m \u001b[1;32mis\u001b[0m \u001b[1;32mnot\u001b[0m \u001b[0mNone\u001b[0m \u001b[1;32mand\u001b[0m \u001b[0mshape\u001b[0m\u001b[1;33m[\u001b[0m\u001b[0maxis\u001b[0m\u001b[1;33m]\u001b[0m \u001b[1;33m!=\u001b[0m \u001b[0mlen\u001b[0m\u001b[1;33m(\u001b[0m\u001b[0mxi\u001b[0m\u001b[1;33m)\u001b[0m\u001b[1;33m:\u001b[0m\u001b[1;33m\u001b[0m\u001b[0m\n\u001b[1;32m--> 125\u001b[1;33m             raise ValueError(\"x and y arrays must be equal in length along \"\n\u001b[0m\u001b[0;32m    126\u001b[0m                              \"interpolation axis.\")\n\u001b[0;32m    127\u001b[0m \u001b[1;33m\u001b[0m\u001b[0m\n",
      "\u001b[1;31mValueError\u001b[0m: x and y arrays must be equal in length along interpolation axis."
     ]
    }
   ],
   "source": [
    "log_xi_pred = emu3.emulate_wrt_r(em_params,rpoints)\n",
    "#log_xi_cov = np.zeros((log_xi_pred.shape[0], log_xi_pred.shape[0]))\n",
    "#log_xi_err = np.sqrt(np.diag(log_xi_cov))\n",
    "#print log_xi_pred\n",
    "#log_xi_pred = log_xi_pred.reshape((-1, len(rpoints)))\n",
    "#log_xi_err = log_xi_err.reshape((-1, len(rpoints)))\n",
    "log_xi_err = np.zeros(log_xi_pred.shape)"
   ]
  },
  {
   "cell_type": "code",
   "execution_count": null,
   "metadata": {
    "collapsed": false
   },
   "outputs": [],
   "source": [
    "print log_xi_pred.shape"
   ]
  },
  {
   "cell_type": "code",
   "execution_count": null,
   "metadata": {
    "collapsed": false
   },
   "outputs": [],
   "source": [
    "print log_xi_pred[0, :]"
   ]
  },
  {
   "cell_type": "code",
   "execution_count": null,
   "metadata": {
    "collapsed": false
   },
   "outputs": [],
   "source": [
    "fig = plt.figure(figsize = (10, 10))\n",
    "for label, lxp, lxe,c in zip(y_vals, log_xi_pred, log_xi_err ,colors):\n",
    "\n",
    "    #plt.plot(rpoints, lxp,label = 'z= %.3f'%label, color = c )\n",
    "    plt.plot(rpoints, lxp,label = 'z= %.3f'%label, color = c )\n",
    "\n",
    "    plt.fill_between(rpoints,lxp+lxe,\n",
    "                     lxp-lxe, color = c, alpha = 0.3)\n",
    "\n",
    "plt.xlim(xmin = 0.1, xmax = 30)    \n",
    "plt.ylim(ymin = 0, ymax = 3.5)\n",
    "plt.title(\"SB Emulator w.r.t. %s\"%y_param, fontsize =20)\n",
    "#plt.loglog()\n",
    "plt.xscale('log')\n",
    "plt.xticks(fontsize=20)\n",
    "plt.yticks(fontsize=20)\n",
    "plt.xlabel(r'$r $  $\\rm{[Mpc]}$', fontsize=25)\n",
    "plt.ylabel(r'$\\log_{10}{w_p(r_p) }$', fontsize=25)\n",
    "plt.legend(loc='best', fontsize=25)"
   ]
  },
  {
   "cell_type": "code",
   "execution_count": null,
   "metadata": {
    "collapsed": true
   },
   "outputs": [],
   "source": []
  }
 ],
 "metadata": {
  "kernelspec": {
   "display_name": "Python [conda env:hodemulator]",
   "language": "python",
   "name": "conda-env-hodemulator-py"
  },
  "language_info": {
   "codemirror_mode": {
    "name": "ipython",
    "version": 2
   },
   "file_extension": ".py",
   "mimetype": "text/x-python",
   "name": "python",
   "nbconvert_exporter": "python",
   "pygments_lexer": "ipython2",
   "version": "2.7.12"
  }
 },
 "nbformat": 4,
 "nbformat_minor": 0
}
