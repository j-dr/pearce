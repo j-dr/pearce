{
 "cells": [
  {
   "cell_type": "code",
   "execution_count": 500,
   "metadata": {
    "collapsed": false
   },
   "outputs": [
    {
     "name": "stdout",
     "output_type": "stream",
     "text": [
      "The autoreload extension is already loaded. To reload it, use:\n",
      "  %reload_ext autoreload\n"
     ]
    }
   ],
   "source": [
    "%load_ext autoreload\n",
    "%autoreload 2"
   ]
  },
  {
   "cell_type": "code",
   "execution_count": 501,
   "metadata": {
    "collapsed": false
   },
   "outputs": [
    {
     "name": "stdout",
     "output_type": "stream",
     "text": [
      "* emulate_z 245f865 making a quick switch\n",
      "  master    2f632ff Figured out the source of that dumb averaging thing.\n"
     ]
    }
   ],
   "source": [
    "%%bash\n",
    "git branch -v "
   ]
  },
  {
   "cell_type": "code",
   "execution_count": 502,
   "metadata": {
    "collapsed": false
   },
   "outputs": [],
   "source": [
    "from pearce.emulator import OriginalRecipe, ExtraCrispy\n",
    "from pearce.emulator import parameter, DEFAULT_PARAMS as PARAMS"
   ]
  },
  {
   "cell_type": "code",
   "execution_count": 503,
   "metadata": {
    "collapsed": false
   },
   "outputs": [],
   "source": [
    "import numpy as np\n",
    "from matplotlib import pyplot as plt\n",
    "%matplotlib inline\n",
    "import seaborn as sns\n",
    "sns.set()\n",
    "from itertools import cycle\n",
    "colors = cycle(sns.color_palette())"
   ]
  },
  {
   "cell_type": "code",
   "execution_count": 504,
   "metadata": {
    "collapsed": true
   },
   "outputs": [],
   "source": [
    "training_dir = '/u/ki/swmclau2/des/PearceLHC_wp_z/'\n",
    "fiducial_params = {'logM0': 12.20, 'logM1': 13.7, 'alpha': 1.02,\n",
    "                      'logMmin': 12.1, 'f_c': 0.19, 'sigma_logM': 0.46}\n",
    "rbins = np.array([  0.06309573,   0.12437607,   0.24517359,   0.34422476, 0.48329302, 0.67854546,\\\n",
    "           0.9526807 , 1.33756775,1.8779508 ,   2.6366509 ,   3.70186906,   5.19743987, 7.29722764, \\\n",
    "           10.24533859,  14.38449888,  20.1958975 , 28.35512583,  39.81071706] )\n",
    "rpoints = (rbins[1:]+rbins[:-1])/2"
   ]
  },
  {
   "cell_type": "code",
   "execution_count": 505,
   "metadata": {
    "collapsed": true
   },
   "outputs": [],
   "source": [
    "y_param = 'z'\n",
    "emulation_point = [('f_c', 0.233), ('logM0', 12.0), ('sigma_logM', 0.533), \n",
    "                   ('alpha', 1.083),('logM1', 13.5), ('logMmin', 12.233), ('z', 0.0)]\n",
    "em_params = dict(emulation_point)\n",
    "try:\n",
    "    del em_params[y_param]\n",
    "except KeyError:\n",
    "    pass"
   ]
  },
  {
   "cell_type": "raw",
   "metadata": {
    "collapsed": false
   },
   "source": [
    "y_param_idx = -1\n",
    "for idx, p in enumerate(PARAMS):\n",
    "    if p.name==y_param:\n",
    "        y_param_idx = idx\n",
    "        break\n",
    "        \n",
    "y_vals = np.linspace(PARAMS[y_param_idx].low, PARAMS[y_param_idx].high, 4)\n",
    "em_params[y_param] = y_vals"
   ]
  },
  {
   "cell_type": "code",
   "execution_count": 506,
   "metadata": {
    "collapsed": true
   },
   "outputs": [],
   "source": [
    "or_params = PARAMS[:]\n",
    "or_params.append(parameter('z', 0.0, 0.5))\n",
    "or_params.append(parameter('r', 0, 1)) #95% sure bounds aren't used for r"
   ]
  },
  {
   "cell_type": "code",
   "execution_count": 507,
   "metadata": {
    "collapsed": false
   },
   "outputs": [],
   "source": [
    "y_param_idx = -1\n",
    "for idx, p in enumerate(or_params):\n",
    "    if p.name==y_param:\n",
    "        y_param_idx = idx\n",
    "        break\n",
    "        \n",
    "y_vals = np.linspace(or_params[y_param_idx].low, or_params[y_param_idx].high, 4)\n",
    "em_params[y_param] = y_vals"
   ]
  },
  {
   "cell_type": "code",
   "execution_count": 508,
   "metadata": {
    "collapsed": false
   },
   "outputs": [
    {
     "name": "stdout",
     "output_type": "stream",
     "text": [
      "[ 0.          0.16666667  0.33333333  0.5       ]\n"
     ]
    }
   ],
   "source": [
    "print em_params[y_param]"
   ]
  },
  {
   "cell_type": "code",
   "execution_count": 509,
   "metadata": {
    "collapsed": false
   },
   "outputs": [
    {
     "name": "stdout",
     "output_type": "stream",
     "text": [
      "7\n"
     ]
    }
   ],
   "source": [
    "print len(em_params)"
   ]
  },
  {
   "cell_type": "raw",
   "metadata": {
    "collapsed": true
   },
   "source": [
    "em_params['z'] = 0.0"
   ]
  },
  {
   "cell_type": "raw",
   "metadata": {
    "collapsed": false
   },
   "source": [
    "emu1 = OriginalRecipe(training_dir,params=or_params)"
   ]
  },
  {
   "cell_type": "raw",
   "metadata": {
    "collapsed": false
   },
   "source": [
    "emu1.x.shape"
   ]
  },
  {
   "cell_type": "code",
   "execution_count": 510,
   "metadata": {
    "collapsed": false
   },
   "outputs": [
    {
     "name": "stdout",
     "output_type": "stream",
     "text": [
      "8\n"
     ]
    }
   ],
   "source": [
    "print len(or_params)"
   ]
  },
  {
   "cell_type": "raw",
   "metadata": {
    "collapsed": false
   },
   "source": [
    "emu1 = ExtraCrispy(training_dir)"
   ]
  },
  {
   "cell_type": "code",
   "execution_count": 511,
   "metadata": {
    "collapsed": false
   },
   "outputs": [
    {
     "name": "stdout",
     "output_type": "stream",
     "text": [
      "{'logMmin': 12.233, 'f_c': 0.233, 'logM0': 12.0, 'sigma_logM': 0.533, 'logM1': 13.5, 'alpha': 1.083, 'z': array([ 0.        ,  0.16666667,  0.33333333,  0.5       ])}\n"
     ]
    }
   ],
   "source": [
    "print em_params"
   ]
  },
  {
   "cell_type": "raw",
   "metadata": {
    "collapsed": false,
    "scrolled": false
   },
   "source": [
    "rpoints = np.logspace(np.log10(rbins[1]), np.log10(rbins[-2]), 17)\n",
    "log_xi_pred= emu1.emulate_wrt_r(em_params, rpoints)\n",
    "#log_xi_cov = np.zeros((log_xi_pred.shape[0], log_xi_pred.shape[0]))\n",
    "#log_xi_err = np.sqrt(np.diag(log_xi_cov))\n",
    "#log_xi_pred = log_xi_pred.reshape((-1, len(rpoints)))\n",
    "#log_xi_err = log_xi_err.reshape((-1, len(rpoints)))\n",
    "log_xi_err = np.zeros_like(log_xi_pred)"
   ]
  },
  {
   "cell_type": "raw",
   "metadata": {
    "collapsed": false
   },
   "source": [
    "print log_xi_pred.shape"
   ]
  },
  {
   "cell_type": "raw",
   "metadata": {
    "collapsed": false
   },
   "source": [
    "log_xi_pred[[0,-1], :] = log_xi_pred[[-1,0],:]"
   ]
  },
  {
   "cell_type": "raw",
   "metadata": {
    "collapsed": false
   },
   "source": [
    "truth_dir = '/u/ki/swmclau2/des/PearceLHC_wp_z/'\n",
    "plot_r, plot_xi, plot_xi_err = emu1.get_plot_data(em_params,truth_dir, independent_variable=None)"
   ]
  },
  {
   "cell_type": "raw",
   "metadata": {
    "collapsed": false
   },
   "source": [
    "plot_xi.shape, plot_r.shape, plot_xi_err.shape"
   ]
  },
  {
   "cell_type": "raw",
   "metadata": {
    "collapsed": false
   },
   "source": [
    "fig = plt.figure(figsize = (10, 10))\n",
    "for label, lxp, lxe,pr, px, err,c in zip(y_vals, log_xi_pred, log_xi_err ,plot_r, plot_xi,plot_xi_err,colors):\n",
    "\n",
    "    plt.plot(rpoints, lxp,label = '%.3f'%label, color = c )\n",
    "\n",
    "    plt.fill_between(rpoints,lxp+lxe,\n",
    "                     lxp-lxe, color = c, alpha = 0.3)\n",
    "\n",
    "    plt.errorbar(10**pr, px,err, color =c,fmt = 'o')\n",
    "\n",
    "plt.xlim(xmin = 0.1, xmax = 30)    \n",
    "plt.ylim(ymin = -2, ymax = 4)\n",
    "plt.title(\"OR Emulator w.r.t. %s\"%y_param, fontsize =20)\n",
    "#plt.loglog()\n",
    "plt.xscale('log')\n",
    "plt.xticks(fontsize=20)\n",
    "plt.yticks(fontsize=20)\n",
    "plt.xlabel(r'$r $  $\\rm{[Mpc]}$', fontsize=25)\n",
    "plt.ylabel(r'$\\log_{10}{\\xi_{\\rm gg}(r) }$', fontsize=25)\n",
    "plt.legend(loc='best', fontsize=25)"
   ]
  },
  {
   "cell_type": "raw",
   "metadata": {
    "collapsed": false,
    "scrolled": false
   },
   "source": [
    "fig = plt.figure(figsize = (10, 10))\n",
    "for label, lxp, lxe,c in zip(y_vals, log_xi_pred, log_xi_err ,colors):\n",
    "\n",
    "    plt.plot(rpoints, lxp,label = 'z= %.3f'%label, color = c )\n",
    "\n",
    "    plt.fill_between(rpoints,lxp+lxe,\n",
    "                     lxp-lxe, color = c, alpha = 0.3)\n",
    "\n",
    "plt.xlim(xmin = 0.1, xmax = 30)    \n",
    "plt.ylim(ymin = 0, ymax = 3.5)\n",
    "plt.title(\"OR Emulator w.r.t. %s\"%y_param, fontsize =20)\n",
    "#plt.loglog()\n",
    "plt.xscale('log')\n",
    "plt.xticks(fontsize=20)\n",
    "plt.yticks(fontsize=20)\n",
    "plt.xlabel(r'$r $  $\\rm{[Mpc]}$', fontsize=25)\n",
    "plt.ylabel(r'$\\log_{10}{w_p(r_p) }$', fontsize=25)\n",
    "plt.legend(loc='best', fontsize=25)"
   ]
  },
  {
   "cell_type": "code",
   "execution_count": 512,
   "metadata": {
    "collapsed": false
   },
   "outputs": [
    {
     "data": {
      "text/plain": [
       "{'alpha': 1.083,\n",
       " 'f_c': 0.233,\n",
       " 'logM0': 12.0,\n",
       " 'logM1': 13.5,\n",
       " 'logMmin': 12.233,\n",
       " 'sigma_logM': 0.533,\n",
       " 'z': array([ 0.        ,  0.16666667,  0.33333333,  0.5       ])}"
      ]
     },
     "execution_count": 512,
     "metadata": {},
     "output_type": "execute_result"
    }
   ],
   "source": [
    "em_params"
   ]
  },
  {
   "cell_type": "code",
   "execution_count": 513,
   "metadata": {
    "collapsed": false
   },
   "outputs": [],
   "source": [
    "emu2 = ExtraCrispy(training_dir)#no r in params"
   ]
  },
  {
   "cell_type": "code",
   "execution_count": 514,
   "metadata": {
    "collapsed": true
   },
   "outputs": [],
   "source": [
    "rpoints = np.logspace(np.log10(emu2.scale_bin_centers[1]), np.log10(emu2.scale_bin_centers[-2]), 10)"
   ]
  },
  {
   "cell_type": "raw",
   "metadata": {
    "collapsed": true
   },
   "source": [
    "rpoints = emu2.scale_bin_centers\n",
    "em_params['z'] = emu2.redshift_bin_centers"
   ]
  },
  {
   "cell_type": "code",
   "execution_count": 515,
   "metadata": {
    "collapsed": false
   },
   "outputs": [
    {
     "data": {
      "text/plain": [
       "500"
      ]
     },
     "execution_count": 515,
     "metadata": {},
     "output_type": "execute_result"
    }
   ],
   "source": [
    "8500/17"
   ]
  },
  {
   "cell_type": "code",
   "execution_count": 516,
   "metadata": {
    "collapsed": false
   },
   "outputs": [
    {
     "data": {
      "text/plain": [
       "(500, 6)"
      ]
     },
     "execution_count": 516,
     "metadata": {},
     "output_type": "execute_result"
    }
   ],
   "source": [
    "emu2.x.shape"
   ]
  },
  {
   "cell_type": "code",
   "execution_count": 517,
   "metadata": {
    "collapsed": false
   },
   "outputs": [
    {
     "name": "stdout",
     "output_type": "stream",
     "text": [
      "[[<george.gp.GP object at 0x7f0437a93b90>, <george.gp.GP object at 0x7f0437a93d90>, <george.gp.GP object at 0x7f043c09c810>, <george.gp.GP object at 0x7f043c09c650>, <george.gp.GP object at 0x7f043c09c590>, <george.gp.GP object at 0x7f043c09c790>, <george.gp.GP object at 0x7f043f73fd10>, <george.gp.GP object at 0x7f043c1ec350>, <george.gp.GP object at 0x7f043c1ec490>, <george.gp.GP object at 0x7f043c1ec0d0>, <george.gp.GP object at 0x7f0437a17550>, <george.gp.GP object at 0x7f0437a17290>, <george.gp.GP object at 0x7f0437a17c50>, <george.gp.GP object at 0x7f0437a17e90>, <george.gp.GP object at 0x7f0437a986d0>, <george.gp.GP object at 0x7f0437a98150>, <george.gp.GP object at 0x7f043c3353d0>], [<george.gp.GP object at 0x7f0437a93d10>, <george.gp.GP object at 0x7f0437a93750>, <george.gp.GP object at 0x7f043c09c8d0>, <george.gp.GP object at 0x7f043c09c410>, <george.gp.GP object at 0x7f043c09cc50>, <george.gp.GP object at 0x7f043c09c5d0>, <george.gp.GP object at 0x7f043c1ec090>, <george.gp.GP object at 0x7f043c1ecad0>, <george.gp.GP object at 0x7f043c1ec210>, <george.gp.GP object at 0x7f043c1ec1d0>, <george.gp.GP object at 0x7f0437a174d0>, <george.gp.GP object at 0x7f0437a171d0>, <george.gp.GP object at 0x7f0437a172d0>, <george.gp.GP object at 0x7f0437a98190>, <george.gp.GP object at 0x7f0437a98b50>, <george.gp.GP object at 0x7f0437a98410>, <george.gp.GP object at 0x7f043c335710>]]\n"
     ]
    }
   ],
   "source": [
    "print emu2.emulators"
   ]
  },
  {
   "cell_type": "code",
   "execution_count": 518,
   "metadata": {
    "collapsed": false
   },
   "outputs": [
    {
     "name": "stdout",
     "output_type": "stream",
     "text": [
      "['logMmin', 'f_c', 'logM0', 'sigma_logM', 'logM1', 'alpha', 'z']\n"
     ]
    }
   ],
   "source": [
    "print em_params.keys()"
   ]
  },
  {
   "cell_type": "code",
   "execution_count": 519,
   "metadata": {
    "collapsed": false
   },
   "outputs": [
    {
     "name": "stdout",
     "output_type": "stream",
     "text": [
      "emulate_helper\n",
      "(1, 17, 2)\n",
      "1 (1, 17, 2)\n",
      "wrt_r_z\n",
      "(34,)\n",
      "(17,) (2,)\n",
      "(2, 17)\n",
      "(4, 10)\n",
      "(10, 4)\n",
      "wrt_r\n",
      "(4, 10)\n"
     ]
    }
   ],
   "source": [
    "log_xi_pred = emu2.emulate_wrt_r(em_params,rpoints)\n",
    "#log_xi_cov = np.zeros((log_xi_pred.shape[0], log_xi_pred.shape[0]))\n",
    "#log_xi_err = np.sqrt(np.diag(log_xi_cov))\n",
    "#print log_xi_pred\n",
    "#log_xi_pred = log_xi_pred.reshape((-1, len(rpoints)))\n",
    "#log_xi_err = log_xi_err.reshape((-1, len(rpoints)))\n",
    "log_xi_err = np.zeros(log_xi_pred.shape)"
   ]
  },
  {
   "cell_type": "code",
   "execution_count": 520,
   "metadata": {
    "collapsed": false
   },
   "outputs": [
    {
     "name": "stdout",
     "output_type": "stream",
     "text": [
      "(4, 10)\n",
      "(2,)\n",
      "(17,)\n"
     ]
    }
   ],
   "source": [
    "print log_xi_pred.shape\n",
    "print emu2.redshift_bin_centers.shape\n",
    "print emu2.scale_bin_centers.shape"
   ]
  },
  {
   "cell_type": "code",
   "execution_count": 521,
   "metadata": {
    "collapsed": false
   },
   "outputs": [
    {
     "name": "stdout",
     "output_type": "stream",
     "text": [
      "(500, 17, 2)\n",
      "2 17\n",
      "(17, 2)\n"
     ]
    }
   ],
   "source": [
    "print emu2.y.shape\n",
    "print len(emu2.emulators), len(emu2.emulators[0])\n",
    "print emu2.y_hat.shape"
   ]
  },
  {
   "cell_type": "code",
   "execution_count": 522,
   "metadata": {
    "collapsed": false
   },
   "outputs": [
    {
     "name": "stdout",
     "output_type": "stream",
     "text": [
      "(4, 10)\n"
     ]
    }
   ],
   "source": [
    "print log_xi_pred.shape"
   ]
  },
  {
   "cell_type": "code",
   "execution_count": 524,
   "metadata": {
    "collapsed": false
   },
   "outputs": [
    {
     "name": "stdout",
     "output_type": "stream",
     "text": [
      "[[ 2.48305097  2.31819562  1.97376203  1.6788042   1.48580625  1.35719697\n",
      "   1.20020006  0.97737125  0.7095309   0.30302203]\n",
      " [ 2.56983491  2.38979711  2.06993476  1.76414238  1.53511819  1.38372779\n",
      "   1.22255424  0.99872509  0.7349942   0.33230373]\n",
      " [ 2.65661886  2.4613986   2.16610749  1.84948057  1.58443014  1.41025862\n",
      "   1.24490843  1.02007892  0.7604575   0.36158543]\n",
      " [ 2.74340281  2.53300009  2.26228021  1.93481875  1.63374208  1.43678944\n",
      "   1.26726262  1.04143276  0.78592081  0.39086713]]\n"
     ]
    }
   ],
   "source": [
    "print log_xi_pred"
   ]
  },
  {
   "cell_type": "code",
   "execution_count": 526,
   "metadata": {
    "collapsed": false
   },
   "outputs": [
    {
     "name": "stdout",
     "output_type": "stream",
     "text": [
      "[ 2.48305097  2.31819562  1.97376203  1.6788042   1.48580625  1.35719697\n",
      "  1.20020006  0.97737125  0.7095309   0.30302203]\n"
     ]
    }
   ],
   "source": [
    "print log_xi_pred[0,:]"
   ]
  },
  {
   "cell_type": "code",
   "execution_count": null,
   "metadata": {
    "collapsed": false
   },
   "outputs": [],
   "source": [
    "print log_xi_pred.T[:2, :2]"
   ]
  },
  {
   "cell_type": "raw",
   "metadata": {
    "collapsed": false
   },
   "source": [
    "fig = plt.figure(figsize = (10, 10))\n",
    "for label, lxp, lxe,pr, px, err,c in zip(y_vals, log_xi_pred, log_xi_err ,plot_r, plot_xi,plot_xi_err,colors):\n",
    "\n",
    "    plt.plot(rpoints, lxp,label = '%.3f'%label, color = c )\n",
    "\n",
    "    plt.fill_between(rpoints,lxp+lxe,\n",
    "                     lxp-lxe, color = c, alpha = 0.3)\n",
    "\n",
    "    plt.errorbar(10**pr, px,err, color =c,fmt = 'o')\n",
    "\n",
    "plt.xlim(xmin = 0.1, xmax = 30)    \n",
    "plt.ylim(ymin = -2, ymax = 4)\n",
    "plt.title(\"EC Emulator w.r.t. %s\"%y_param, fontsize =20)\n",
    "#plt.loglog()\n",
    "plt.xscale('log')\n",
    "plt.xticks(fontsize=20)\n",
    "plt.yticks(fontsize=20)\n",
    "plt.xlabel(r'$r $  $\\rm{[Mpc]}$', fontsize=25)\n",
    "plt.ylabel(r'$\\log_{10}{\\xi_{\\rm gg}(r) }$', fontsize=25)\n",
    "plt.legend(loc='best', fontsize=25)"
   ]
  },
  {
   "cell_type": "code",
   "execution_count": null,
   "metadata": {
    "collapsed": false,
    "scrolled": false
   },
   "outputs": [],
   "source": [
    "fig = plt.figure(figsize = (10, 10))\n",
    "for label, lxp, lxe,c in zip(y_vals, log_xi_pred, log_xi_err ,colors):\n",
    "\n",
    "    #plt.plot(rpoints, lxp,label = 'z= %.3f'%label, color = c )\n",
    "    plt.plot(rpoints, lxp,label = 'z= %.3f'%label, color = c )\n",
    "\n",
    "    plt.fill_between(rpoints,lxp+lxe,\n",
    "                     lxp-lxe, color = c, alpha = 0.3)\n",
    "\n",
    "plt.xlim(xmin = 0.1, xmax = 30)    \n",
    "plt.ylim(ymin = 0, ymax = 3.5)\n",
    "plt.title(\"EC Emulator w.r.t. %s\"%y_param, fontsize =20)\n",
    "#plt.loglog()\n",
    "plt.xscale('log')\n",
    "plt.xticks(fontsize=20)\n",
    "plt.yticks(fontsize=20)\n",
    "plt.xlabel(r'$r $  $\\rm{[Mpc]}$', fontsize=25)\n",
    "plt.ylabel(r'$\\log_{10}{w_p(r_p) }$', fontsize=25)\n",
    "plt.legend(loc='best', fontsize=25)"
   ]
  },
  {
   "cell_type": "code",
   "execution_count": null,
   "metadata": {
    "collapsed": true
   },
   "outputs": [],
   "source": [
    "from os import path"
   ]
  },
  {
   "cell_type": "code",
   "execution_count": null,
   "metadata": {
    "collapsed": false
   },
   "outputs": [],
   "source": [
    "save_dir = '/u/ki/swmclau2/des/EmulatorMCMC/'\n",
    "true_rpoints = np.log10(np.loadtxt(path.join(save_dir, 'rpoints.npy')))\n",
    "y = np.loadtxt(path.join(save_dir, 'xi.npy'))\n",
    "cov = np.loadtxt(path.join(save_dir, 'cov.npy'))\n",
    "true_cov = cov/(np.outer(y,y)*np.log(10)**2)\n",
    "#T = np.diag(np.diag(T))\n",
    "true_y = np.log10(y)"
   ]
  },
  {
   "cell_type": "code",
   "execution_count": null,
   "metadata": {
    "collapsed": true
   },
   "outputs": [],
   "source": [
    "import emcee as mc\n",
    "from itertools import izip\n",
    "nwalkers = 100\n",
    "n_cores = 2\n",
    "nsteps = 10\n",
    "nburn = 1"
   ]
  },
  {
   "cell_type": "code",
   "execution_count": null,
   "metadata": {
    "collapsed": true
   },
   "outputs": [],
   "source": [
    "from pearce.emulator.emu import lnprob as lnprob2"
   ]
  },
  {
   "cell_type": "raw",
   "metadata": {
    "collapsed": false
   },
   "source": [
    "sampler = mc.EnsembleSampler(nwalkers, emu2.sampling_ndim, lnprob2,\n",
    "                                      threads=n_cores, args=(emu2, y, cov, rpoints))\n",
    "\n",
    "pos0 = np.zeros((nwalkers, emu2.sampling_ndim))\n",
    "# The zip ensures we don't use the params that are only for the emulator\n",
    "for idx, (p, _) in enumerate(izip(emu2.ordered_params, xrange(emu2.sampling_ndim))):\n",
    "    pos0[:, idx] = np.random.uniform(p.low, p.high, size=nwalkers)\n",
    "\n",
    "sampler.run_mcmc(pos0, nsteps)\n"
   ]
  },
  {
   "cell_type": "code",
   "execution_count": null,
   "metadata": {
    "collapsed": true
   },
   "outputs": [],
   "source": []
  }
 ],
 "metadata": {
  "kernelspec": {
   "display_name": "Python [conda env:hodemulator]",
   "language": "python",
   "name": "conda-env-hodemulator-py"
  },
  "language_info": {
   "codemirror_mode": {
    "name": "ipython",
    "version": 2
   },
   "file_extension": ".py",
   "mimetype": "text/x-python",
   "name": "python",
   "nbconvert_exporter": "python",
   "pygments_lexer": "ipython2",
   "version": "2.7.12"
  }
 },
 "nbformat": 4,
 "nbformat_minor": 0
}
