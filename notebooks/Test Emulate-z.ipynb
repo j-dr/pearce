{
 "cells": [
  {
   "cell_type": "raw",
   "metadata": {
    "collapsed": false
   },
   "source": [
    "%load_ext autoreload\n",
    "%autoreload 2"
   ]
  },
  {
   "cell_type": "code",
   "execution_count": 1,
   "metadata": {
    "collapsed": false
   },
   "outputs": [
    {
     "name": "stdout",
     "output_type": "stream",
     "text": [
      "The history saving thread hit an unexpected error (DatabaseError('database disk image is malformed',)).History will not be written to the database.\n",
      "* assembias c82f359 resyncing these bin files.\n",
      "  master    c82f359 resyncing these bin files.\n"
     ]
    }
   ],
   "source": [
    "%%bash\n",
    "git branch -v "
   ]
  },
  {
   "cell_type": "code",
   "execution_count": 2,
   "metadata": {
    "collapsed": false
   },
   "outputs": [],
   "source": [
    "from pearce.emulator import OriginalRecipe, ExtraCrispy, SpicyBuffalo\n",
    "from pearce.emulator import parameter, DEFAULT_PARAMS as PARAMS"
   ]
  },
  {
   "cell_type": "code",
   "execution_count": 3,
   "metadata": {
    "collapsed": false
   },
   "outputs": [],
   "source": [
    "import numpy as np\n",
    "from matplotlib import pyplot as plt\n",
    "%matplotlib inline\n",
    "import seaborn as sns\n",
    "sns.set()\n",
    "from itertools import cycle\n",
    "colors = cycle(sns.color_palette())"
   ]
  },
  {
   "cell_type": "code",
   "execution_count": 4,
   "metadata": {
    "collapsed": true
   },
   "outputs": [],
   "source": [
    "training_dir = '/u/ki/swmclau2/des/PearceLHC_wp_z/'\n",
    "fiducial_params = {'logM0': 12.20, 'logM1': 13.7, 'alpha': 1.02,\n",
    "                      'logMmin': 12.1, 'f_c': 0.19, 'sigma_logM': 0.46}\n",
    "rbins = np.array([  0.06309573,   0.12437607,   0.24517359,   0.34422476, 0.48329302, 0.67854546,\\\n",
    "           0.9526807 , 1.33756775,1.8779508 ,   2.6366509 ,   3.70186906,   5.19743987, 7.29722764, \\\n",
    "           10.24533859,  14.38449888,  20.1958975 , 28.35512583,  39.81071706] )\n",
    "rpoints = (rbins[1:]+rbins[:-1])/2"
   ]
  },
  {
   "cell_type": "code",
   "execution_count": 5,
   "metadata": {
    "collapsed": true
   },
   "outputs": [],
   "source": [
    "y_param = 'logMmin'\n",
    "emulation_point = [('f_c', 0.233), ('logM0', 12.0), ('sigma_logM', 0.533), \n",
    "                   ('alpha', 1.083),('logM1', 13.5), ('logMmin', 12.233), ('z', 0.5)]\n",
    "em_params = dict(emulation_point)\n",
    "try:\n",
    "    del em_params[y_param]\n",
    "except KeyError:\n",
    "    pass"
   ]
  },
  {
   "cell_type": "code",
   "execution_count": 6,
   "metadata": {
    "collapsed": true
   },
   "outputs": [],
   "source": [
    "or_params = PARAMS[:]\n",
    "or_params.append(parameter('z', 0.0, 0.5))\n",
    "or_params.append(parameter('r', 0, 1)) #95% sure bounds aren't used for r"
   ]
  },
  {
   "cell_type": "code",
   "execution_count": 7,
   "metadata": {
    "collapsed": false
   },
   "outputs": [],
   "source": [
    "y_param_idx = -1\n",
    "for idx, p in enumerate(or_params):\n",
    "    if p.name==y_param:\n",
    "        y_param_idx = idx\n",
    "        break\n",
    "        \n",
    "y_vals = np.linspace(or_params[y_param_idx].low, or_params[y_param_idx].high, 4)\n",
    "em_params[y_param] = y_vals"
   ]
  },
  {
   "cell_type": "code",
   "execution_count": 8,
   "metadata": {
    "collapsed": false
   },
   "outputs": [
    {
     "name": "stdout",
     "output_type": "stream",
     "text": [
      "[ 11.7         11.96666667  12.23333333  12.5       ]\n"
     ]
    }
   ],
   "source": [
    "print em_params[y_param]"
   ]
  },
  {
   "cell_type": "code",
   "execution_count": 9,
   "metadata": {
    "collapsed": false
   },
   "outputs": [
    {
     "name": "stdout",
     "output_type": "stream",
     "text": [
      "{'logMmin': array([ 11.7       ,  11.96666667,  12.23333333,  12.5       ]), 'f_c': 0.233, 'logM0': 12.0, 'sigma_logM': 0.533, 'logM1': 13.5, 'alpha': 1.083, 'z': 0.5}\n"
     ]
    }
   ],
   "source": [
    "print em_params"
   ]
  },
  {
   "cell_type": "raw",
   "metadata": {
    "collapsed": true
   },
   "source": [
    "em_params['z'] = 0.0"
   ]
  },
  {
   "cell_type": "code",
   "execution_count": 10,
   "metadata": {
    "collapsed": false
   },
   "outputs": [],
   "source": [
    "emu1 = OriginalRecipe(training_dir,params=or_params)"
   ]
  },
  {
   "cell_type": "raw",
   "metadata": {
    "collapsed": false
   },
   "source": [
    "emu1 = ExtraCrispy(training_dir)"
   ]
  },
  {
   "cell_type": "code",
   "execution_count": 11,
   "metadata": {
    "collapsed": true
   },
   "outputs": [],
   "source": [
    "rpoints = np.logspace(np.log10(rbins[1]), np.log10(rbins[-2]), 50)"
   ]
  },
  {
   "cell_type": "code",
   "execution_count": 14,
   "metadata": {
    "collapsed": false
   },
   "outputs": [
    {
     "name": "stdout",
     "output_type": "stream",
     "text": [
      "1 loop, best of 3: 330 ms per loop\n"
     ]
    }
   ],
   "source": [
    "%%timeit\n",
    "emu1.emulate_wrt_r(em_params, rpoints)"
   ]
  },
  {
   "cell_type": "code",
   "execution_count": 12,
   "metadata": {
    "collapsed": false
   },
   "outputs": [],
   "source": [
    "log_xi_pred= emu1.emulate_wrt_r(em_params, rpoints)\n",
    "#log_xi_cov = np.zeros((log_xi_pred.shape[0], log_xi_pred.shape[0]))\n",
    "#log_xi_err = np.sqrt(np.diag(log_xi_cov))\n",
    "#log_xi_pred = log_xi_pred.reshape((-1, len(rpoints)))\n",
    "#log_xi_err = log_xi_err.reshape((-1, len(rpoints)))\n",
    "log_xi_err = np.zeros_like(log_xi_pred)"
   ]
  },
  {
   "cell_type": "raw",
   "metadata": {
    "collapsed": false
   },
   "source": [
    "print log_xi_pred.shape"
   ]
  },
  {
   "cell_type": "raw",
   "metadata": {
    "collapsed": false
   },
   "source": [
    "log_xi_pred[[0,-1], :] = log_xi_pred[[-1,0],:]"
   ]
  },
  {
   "cell_type": "raw",
   "metadata": {
    "collapsed": false
   },
   "source": [
    "truth_dir = '/u/ki/swmclau2/des/PearceLHC_wp_z/'\n",
    "plot_r, plot_xi, plot_xi_err = emu1.get_plot_data(em_params,truth_dir, independent_variable=None)"
   ]
  },
  {
   "cell_type": "raw",
   "metadata": {
    "collapsed": false
   },
   "source": [
    "plot_xi.shape, plot_r.shape, plot_xi_err.shape"
   ]
  },
  {
   "cell_type": "raw",
   "metadata": {
    "collapsed": false
   },
   "source": [
    "fig = plt.figure(figsize = (10, 10))\n",
    "for label, lxp, lxe,pr, px, err,c in zip(y_vals, log_xi_pred, log_xi_err ,plot_r, plot_xi,plot_xi_err,colors):\n",
    "\n",
    "    plt.plot(rpoints, lxp,label = '%.3f'%label, color = c )\n",
    "\n",
    "    plt.fill_between(rpoints,lxp+lxe,\n",
    "                     lxp-lxe, color = c, alpha = 0.3)\n",
    "\n",
    "    plt.errorbar(10**pr, px,err, color =c,fmt = 'o')\n",
    "\n",
    "plt.xlim(xmin = 0.1, xmax = 30)    \n",
    "plt.ylim(ymin = -2, ymax = 4)\n",
    "plt.title(\"OR Emulator w.r.t. %s\"%y_param, fontsize =20)\n",
    "#plt.loglog()\n",
    "plt.xscale('log')\n",
    "plt.xticks(fontsize=20)\n",
    "plt.yticks(fontsize=20)\n",
    "plt.xlabel(r'$r $  $\\rm{[Mpc]}$', fontsize=25)\n",
    "plt.ylabel(r'$\\log_{10}{\\xi_{\\rm gg}(r) }$', fontsize=25)\n",
    "plt.legend(loc='best', fontsize=25)"
   ]
  },
  {
   "cell_type": "code",
   "execution_count": 13,
   "metadata": {
    "collapsed": false
   },
   "outputs": [
    {
     "data": {
      "text/plain": [
       "<matplotlib.legend.Legend at 0x7f831db2c4d0>"
      ]
     },
     "execution_count": 13,
     "metadata": {},
     "output_type": "execute_result"
    },
    {
     "data": {
      "image/png": "[encoded data removed]",
      "text/plain": [
       "<matplotlib.figure.Figure at 0x7f831d687110>"
      ]
     },
     "metadata": {},
     "output_type": "display_data"
    }
   ],
   "source": [
    "fig = plt.figure(figsize = (10, 10))\n",
    "for label, lxp, lxe,c in zip(y_vals, log_xi_pred, log_xi_err ,colors):\n",
    "\n",
    "    plt.plot(rpoints, lxp,label = 'z= %.3f'%label, color = c )\n",
    "\n",
    "    plt.fill_between(rpoints,lxp+lxe,\n",
    "                     lxp-lxe, color = c, alpha = 0.3)\n",
    "\n",
    "plt.xlim(xmin = 0.1, xmax = 30)    \n",
    "plt.ylim(ymin = 0, ymax = 3.5)\n",
    "plt.title(\"OR Emulator w.r.t. %s\"%y_param, fontsize =20)\n",
    "#plt.loglog()\n",
    "plt.xscale('log')\n",
    "plt.xticks(fontsize=20)\n",
    "plt.yticks(fontsize=20)\n",
    "plt.xlabel(r'$r $  $\\rm{[Mpc]}$', fontsize=25)\n",
    "plt.ylabel(r'$\\log_{10}{w_p(r_p) }$', fontsize=25)\n",
    "plt.legend(loc='best', fontsize=25)"
   ]
  },
  {
   "cell_type": "code",
   "execution_count": 14,
   "metadata": {
    "collapsed": false
   },
   "outputs": [
    {
     "data": {
      "text/plain": [
       "{'alpha': 1.083,\n",
       " 'f_c': 0.233,\n",
       " 'logM0': 12.0,\n",
       " 'logM1': 13.5,\n",
       " 'logMmin': array([ 11.7       ,  11.96666667,  12.23333333,  12.5       ]),\n",
       " 'sigma_logM': 0.533,\n",
       " 'z': 0.5}"
      ]
     },
     "execution_count": 14,
     "metadata": {},
     "output_type": "execute_result"
    }
   ],
   "source": [
    "em_params"
   ]
  },
  {
   "cell_type": "code",
   "execution_count": 15,
   "metadata": {
    "collapsed": false
   },
   "outputs": [
    {
     "name": "stdout",
     "output_type": "stream",
     "text": [
      "[[[[0, 1, 2, 3, 4, 5, 6, 7, 8, 9]]\n",
      "  [[10, 11, 12, 13, 14, 15, 16, 17, 18, 19, 20]]\n",
      "  [[20, 21, 22, 23, 24, 25, 26, 27, 28, 29, 30]]\n",
      "  [[30, 31, 32, 33, 34, 35, 36, 37, 38, 39, 40]]]\n",
      "\n",
      " [[[5, 6, 7, 8, 9, 10]]\n",
      "  [[15, 16, 17, 18, 19, 20, 21, 22, 23, 24, 25]]\n",
      "  [[25, 26, 27, 28, 29, 30, 31, 32, 33, 34, 35]]\n",
      "  [[35, 36, 37, 38, 39, 40, 41, 42, 43, 44, 45]]]]\n",
      "(2, 4, 1)\n",
      "[[[0, 1, 2, 3, 4, 5, 6, 7, 8, 9]]\n",
      " [[5, 6, 7, 8, 9, 10]]]\n"
     ]
    }
   ],
   "source": [
    "x = np.array([[[range(10)], [range(10,21)], [range(20, 31)], [range(30,41)]],\n",
    "             [[range(5,11)], [range(15,26)], [range(25, 36)], [range(35,46)]]])\n",
    "print x\n",
    "print x.shape\n",
    "print x[:, 0]"
   ]
  },
  {
   "cell_type": "code",
   "execution_count": 16,
   "metadata": {
    "collapsed": false
   },
   "outputs": [
    {
     "name": "stdout",
     "output_type": "stream",
     "text": [
      "[[[[10, 11, 12, 13, 14, 15, 16, 17, 18, 19, 20]]\n",
      "  [[0, 1, 2, 3, 4, 5, 6, 7, 8, 9]]\n",
      "  [[20, 21, 22, 23, 24, 25, 26, 27, 28, 29, 30]]\n",
      "  [[30, 31, 32, 33, 34, 35, 36, 37, 38, 39, 40]]]\n",
      "\n",
      " [[[15, 16, 17, 18, 19, 20, 21, 22, 23, 24, 25]]\n",
      "  [[5, 6, 7, 8, 9, 10]]\n",
      "  [[25, 26, 27, 28, 29, 30, 31, 32, 33, 34, 35]]\n",
      "  [[35, 36, 37, 38, 39, 40, 41, 42, 43, 44, 45]]]]\n",
      "[[[10, 11, 12, 13, 14, 15, 16, 17, 18, 19, 20]]\n",
      " [[15, 16, 17, 18, 19, 20, 21, 22, 23, 24, 25]]]\n"
     ]
    }
   ],
   "source": [
    "x[:, range(x.shape[0]), :] = x[:, range(x.shape[0]-1, -1, -1), :]\n",
    "print x\n",
    "print x[:, 0]"
   ]
  },
  {
   "cell_type": "code",
   "execution_count": 17,
   "metadata": {
    "collapsed": false
   },
   "outputs": [],
   "source": [
    "emu2 = ExtraCrispy(training_dir)#no r in params"
   ]
  },
  {
   "cell_type": "code",
   "execution_count": 18,
   "metadata": {
    "collapsed": false
   },
   "outputs": [
    {
     "data": {
      "text/plain": [
       "array([[ 0.51975684, -1.02809405],\n",
       "       [ 0.51975684, -0.73335719],\n",
       "       [ 0.51975684, -0.53062108],\n",
       "       [ 0.51975684, -0.38325266],\n",
       "       [ 0.51975684, -0.23588424],\n",
       "       [ 0.51975684, -0.08851582],\n",
       "       [ 0.51975684,  0.0588526 ],\n",
       "       [ 0.51975684,  0.20622102],\n",
       "       [ 0.51975684,  0.35358945],\n",
       "       [ 0.51975684,  0.50095787],\n",
       "       [ 0.51975684,  0.64832629],\n",
       "       [ 0.51975684,  0.79569471],\n",
       "       [ 0.51975684,  0.94306313],\n",
       "       [ 0.51975684,  1.09043155],\n",
       "       [ 0.51975684,  1.23779997],\n",
       "       [ 0.51975684,  1.38516839],\n",
       "       [ 0.51975684,  1.53253681],\n",
       "       [ 0.51975684, -1.02809405],\n",
       "       [ 0.51975684, -0.73335719],\n",
       "       [ 0.51975684, -0.53062108],\n",
       "       [ 0.51975684, -0.38325266],\n",
       "       [ 0.51975684, -0.23588424],\n",
       "       [ 0.51975684, -0.08851582],\n",
       "       [ 0.51975684,  0.0588526 ],\n",
       "       [ 0.51975684,  0.20622102],\n",
       "       [ 0.51975684,  0.35358945],\n",
       "       [ 0.51975684,  0.50095787],\n",
       "       [ 0.51975684,  0.64832629],\n",
       "       [ 0.51975684,  0.79569471],\n",
       "       [ 0.51975684,  0.94306313],\n",
       "       [ 0.51975684,  1.09043155],\n",
       "       [ 0.51975684,  1.23779997],\n",
       "       [ 0.51975684,  1.38516839],\n",
       "       [ 0.51975684,  1.53253681]])"
      ]
     },
     "execution_count": 18,
     "metadata": {},
     "output_type": "execute_result"
    }
   ],
   "source": [
    "emu1.x[:34, -2:]"
   ]
  },
  {
   "cell_type": "code",
   "execution_count": 19,
   "metadata": {
    "collapsed": false
   },
   "outputs": [
    {
     "name": "stdout",
     "output_type": "stream",
     "text": [
      "[ 0.51975684  0.        ]\n",
      "[ 2.21553692  2.32198204]\n",
      "[ 2.21553692  1.93061578  1.77653264  1.69107338  1.60158257  1.51683628\n",
      "  1.43421968  1.34264386  1.25466806  1.15151948  1.0430145   0.92255983\n",
      "  0.77718537  0.63021528  0.44245193  0.20162235 -0.1388976 ]\n"
     ]
    }
   ],
   "source": [
    "print emu2.redshift_bin_centers\n",
    "print emu2.y[0, :, 0]\n",
    "print emu2.y[0, 0, :]"
   ]
  },
  {
   "cell_type": "code",
   "execution_count": 20,
   "metadata": {
    "collapsed": true
   },
   "outputs": [],
   "source": [
    "rpoints = emu2.scale_bin_centers\n",
    "em_params['z'] = np.array([emu2.redshift_bin_centers[0]])"
   ]
  },
  {
   "cell_type": "code",
   "execution_count": 21,
   "metadata": {
    "collapsed": false
   },
   "outputs": [
    {
     "name": "stdout",
     "output_type": "stream",
     "text": [
      "1 (4, 2, 17)\n",
      "t\n",
      "[[ 11.7          0.533       12.          13.5          1.083        0.233     ]\n",
      " [ 11.96666667   0.533       12.          13.5          1.083        0.233     ]\n",
      " [ 12.23333333   0.533       12.          13.5          1.083        0.233     ]\n",
      " [ 12.5          0.533       12.          13.5          1.083        0.233     ]]\n",
      "\n",
      "[[[  2.24385567e+00   2.04064525e+00   1.89621578e+00   1.77537928e+00\n",
      "     1.65111440e+00   1.52687692e+00   1.41354181e+00   1.31364831e+00\n",
      "     1.22286138e+00   1.12608270e+00   1.01937743e+00   9.00500924e-01\n",
      "     7.58309679e-01   6.06194280e-01   4.17840068e-01   1.70677134e-01\n",
      "    -1.59808502e-01]\n",
      "  [  2.49590678e+00   2.30321911e+00   2.14930385e+00   2.02431463e+00\n",
      "     1.88470440e+00   1.72720402e+00   1.57703229e+00   1.44606289e+00\n",
      "     1.33722782e+00   1.23548170e+00   1.13284795e+00   1.00246046e+00\n",
      "     8.62587531e-01   7.13315957e-01   5.14078446e-01   2.74465067e-01\n",
      "    -6.55154014e-02]]\n",
      "\n",
      " [[  2.54400925e+00   2.31111091e+00   2.13416048e+00   1.98973362e+00\n",
      "     1.83416440e+00   1.68436044e+00   1.54586169e+00   1.42986664e+00\n",
      "     1.33559976e+00   1.23198974e+00   1.12650164e+00   1.00384077e+00\n",
      "     8.57852507e-01   7.05082932e-01   5.08857491e-01   2.50433102e-01\n",
      "    -8.74175131e-02]\n",
      "  [  2.77057031e+00   2.55817879e+00   2.38485703e+00   2.23822737e+00\n",
      "     2.07426169e+00   1.89329491e+00   1.71204437e+00   1.56275386e+00\n",
      "     1.44204802e+00   1.33648462e+00   1.23558250e+00   1.09779128e+00\n",
      "     9.54008617e-01   8.05918253e-01   5.99662690e-01   3.48076998e-01\n",
      "    -2.17376753e-04]]\n",
      "\n",
      " [[  2.85335675e+00   2.60866551e+00   2.40791740e+00   2.23908984e+00\n",
      "     2.05011673e+00   1.86328933e+00   1.69352755e+00   1.56048367e+00\n",
      "     1.46094124e+00   1.35259322e+00   1.24638006e+00   1.11813140e+00\n",
      "     9.67979105e-01   8.13338542e-01   6.11256219e-01   3.44095236e-01\n",
      "    -2.84528253e-03]\n",
      "  [  3.04313071e+00   2.82311080e+00   2.63680953e+00   2.47365019e+00\n",
      "     2.28709954e+00   2.07886876e+00   1.86479928e+00   1.68924332e+00\n",
      "     1.55531315e+00   1.44607861e+00   1.34813194e+00   1.20065259e+00\n",
      "     1.05302979e+00   9.03990222e-01   6.92635584e-01   4.31814763e-01\n",
      "     7.14429502e-02]]\n",
      "\n",
      " [[  3.14323471e+00   2.89942981e+00   2.69358442e+00   2.50842370e+00\n",
      "     2.29027847e+00   2.05976487e+00   1.85494795e+00   1.69780184e+00\n",
      "     1.59062704e+00   1.47728963e+00   1.36921013e+00   1.23677571e+00\n",
      "     1.08298111e+00   9.24719149e-01   7.18153331e-01   4.40391280e-01\n",
      "     8.70118959e-02]\n",
      "  [  3.28147412e+00   3.06591350e+00   2.87257609e+00   2.70464322e+00\n",
      "     2.50194977e+00   2.26688719e+00   2.02308161e+00   1.81817249e+00\n",
      "     1.66687984e+00   1.55463877e+00   1.46085530e+00   1.30243900e+00\n",
      "     1.15195252e+00   1.00202546e+00   7.85723120e-01   5.14073269e-01\n",
      "     1.47531863e-01]]]\n",
      "2 (136,)\n",
      "3 (4, 2, 17)\n",
      "[[[  2.24385567e+00   2.04064525e+00   1.89621578e+00   1.77537928e+00\n",
      "     1.65111440e+00   1.52687692e+00   1.41354181e+00   1.31364831e+00\n",
      "     1.22286138e+00   1.12608270e+00   1.01937743e+00   9.00500924e-01\n",
      "     7.58309679e-01   6.06194280e-01   4.17840068e-01   1.70677134e-01\n",
      "    -1.59808502e-01]\n",
      "  [  2.49590678e+00   2.30321911e+00   2.14930385e+00   2.02431463e+00\n",
      "     1.88470440e+00   1.72720402e+00   1.57703229e+00   1.44606289e+00\n",
      "     1.33722782e+00   1.23548170e+00   1.13284795e+00   1.00246046e+00\n",
      "     8.62587531e-01   7.13315957e-01   5.14078446e-01   2.74465067e-01\n",
      "    -6.55154014e-02]]\n",
      "\n",
      " [[  2.54400925e+00   2.31111091e+00   2.13416048e+00   1.98973362e+00\n",
      "     1.83416440e+00   1.68436044e+00   1.54586169e+00   1.42986664e+00\n",
      "     1.33559976e+00   1.23198974e+00   1.12650164e+00   1.00384077e+00\n",
      "     8.57852507e-01   7.05082932e-01   5.08857491e-01   2.50433102e-01\n",
      "    -8.74175131e-02]\n",
      "  [  2.77057031e+00   2.55817879e+00   2.38485703e+00   2.23822737e+00\n",
      "     2.07426169e+00   1.89329491e+00   1.71204437e+00   1.56275386e+00\n",
      "     1.44204802e+00   1.33648462e+00   1.23558250e+00   1.09779128e+00\n",
      "     9.54008617e-01   8.05918253e-01   5.99662690e-01   3.48076998e-01\n",
      "    -2.17376753e-04]]\n",
      "\n",
      " [[  2.85335675e+00   2.60866551e+00   2.40791740e+00   2.23908984e+00\n",
      "     2.05011673e+00   1.86328933e+00   1.69352755e+00   1.56048367e+00\n",
      "     1.46094124e+00   1.35259322e+00   1.24638006e+00   1.11813140e+00\n",
      "     9.67979105e-01   8.13338542e-01   6.11256219e-01   3.44095236e-01\n",
      "    -2.84528253e-03]\n",
      "  [  3.04313071e+00   2.82311080e+00   2.63680953e+00   2.47365019e+00\n",
      "     2.28709954e+00   2.07886876e+00   1.86479928e+00   1.68924332e+00\n",
      "     1.55531315e+00   1.44607861e+00   1.34813194e+00   1.20065259e+00\n",
      "     1.05302979e+00   9.03990222e-01   6.92635584e-01   4.31814763e-01\n",
      "     7.14429502e-02]]\n",
      "\n",
      " [[  3.14323471e+00   2.89942981e+00   2.69358442e+00   2.50842370e+00\n",
      "     2.29027847e+00   2.05976487e+00   1.85494795e+00   1.69780184e+00\n",
      "     1.59062704e+00   1.47728963e+00   1.36921013e+00   1.23677571e+00\n",
      "     1.08298111e+00   9.24719149e-01   7.18153331e-01   4.40391280e-01\n",
      "     8.70118959e-02]\n",
      "  [  3.28147412e+00   3.06591350e+00   2.87257609e+00   2.70464322e+00\n",
      "     2.50194977e+00   2.26688719e+00   2.02308161e+00   1.81817249e+00\n",
      "     1.66687984e+00   1.55463877e+00   1.46085530e+00   1.30243900e+00\n",
      "     1.15195252e+00   1.00202546e+00   7.85723120e-01   5.14073269e-01\n",
      "     1.47531863e-01]]]\n",
      "4 (4, 17)\n"
     ]
    }
   ],
   "source": [
    "log_xi_pred = emu2.emulate_wrt_r(em_params,rpoints)\n",
    "#log_xi_cov = np.zeros((log_xi_pred.shape[0], log_xi_pred.shape[0]))\n",
    "#log_xi_err = np.sqrt(np.diag(log_xi_cov))\n",
    "#print log_xi_pred\n",
    "#log_xi_pred = log_xi_pred.reshape((-1, len(rpoints)))\n",
    "#log_xi_err = log_xi_err.reshape((-1, len(rpoints)))\n",
    "log_xi_err = np.zeros(log_xi_pred.shape)"
   ]
  },
  {
   "cell_type": "code",
   "execution_count": 22,
   "metadata": {
    "collapsed": false
   },
   "outputs": [
    {
     "name": "stdout",
     "output_type": "stream",
     "text": [
      "[[  2.24385567e+00   2.04064525e+00   1.89621578e+00   1.77537928e+00\n",
      "    1.65111440e+00   1.52687692e+00   1.41354181e+00   1.31364831e+00\n",
      "    1.22286138e+00   1.12608270e+00   1.01937743e+00   9.00500924e-01\n",
      "    7.58309679e-01   6.06194280e-01   4.17840068e-01   1.70677134e-01\n",
      "   -1.59808502e-01]\n",
      " [  2.54400925e+00   2.31111091e+00   2.13416048e+00   1.98973362e+00\n",
      "    1.83416440e+00   1.68436044e+00   1.54586169e+00   1.42986664e+00\n",
      "    1.33559976e+00   1.23198974e+00   1.12650164e+00   1.00384077e+00\n",
      "    8.57852507e-01   7.05082932e-01   5.08857491e-01   2.50433102e-01\n",
      "   -8.74175131e-02]\n",
      " [  2.85335675e+00   2.60866551e+00   2.40791740e+00   2.23908984e+00\n",
      "    2.05011673e+00   1.86328933e+00   1.69352755e+00   1.56048367e+00\n",
      "    1.46094124e+00   1.35259322e+00   1.24638006e+00   1.11813140e+00\n",
      "    9.67979105e-01   8.13338542e-01   6.11256219e-01   3.44095236e-01\n",
      "   -2.84528253e-03]\n",
      " [  3.14323471e+00   2.89942981e+00   2.69358442e+00   2.50842370e+00\n",
      "    2.29027847e+00   2.05976487e+00   1.85494795e+00   1.69780184e+00\n",
      "    1.59062704e+00   1.47728963e+00   1.36921013e+00   1.23677571e+00\n",
      "    1.08298111e+00   9.24719149e-01   7.18153331e-01   4.40391280e-01\n",
      "    8.70118959e-02]]\n"
     ]
    }
   ],
   "source": [
    "print log_xi_pred"
   ]
  },
  {
   "cell_type": "raw",
   "metadata": {
    "collapsed": false
   },
   "source": [
    "fig = plt.figure(figsize = (10, 10))\n",
    "for label, lxp, lxe,pr, px, err,c in zip(y_vals, log_xi_pred, log_xi_err ,plot_r, plot_xi,plot_xi_err,colors):\n",
    "\n",
    "    plt.plot(rpoints, lxp,label = '%.3f'%label, color = c )\n",
    "\n",
    "    plt.fill_between(rpoints,lxp+lxe,\n",
    "                     lxp-lxe, color = c, alpha = 0.3)\n",
    "\n",
    "    plt.errorbar(10**pr, px,err, color =c,fmt = 'o')\n",
    "\n",
    "plt.xlim(xmin = 0.1, xmax = 30)    \n",
    "plt.ylim(ymin = -2, ymax = 4)\n",
    "plt.title(\"EC Emulator w.r.t. %s\"%y_param, fontsize =20)\n",
    "#plt.loglog()\n",
    "plt.xscale('log')\n",
    "plt.xticks(fontsize=20)\n",
    "plt.yticks(fontsize=20)\n",
    "plt.xlabel(r'$r $  $\\rm{[Mpc]}$', fontsize=25)\n",
    "plt.ylabel(r'$\\log_{10}{\\xi_{\\rm gg}(r) }$', fontsize=25)\n",
    "plt.legend(loc='best', fontsize=25)"
   ]
  },
  {
   "cell_type": "code",
   "execution_count": 23,
   "metadata": {
    "collapsed": false
   },
   "outputs": [
    {
     "data": {
      "text/plain": [
       "<matplotlib.legend.Legend at 0x7f8978ba2650>"
      ]
     },
     "execution_count": 23,
     "metadata": {},
     "output_type": "execute_result"
    },
    {
     "data": {
      "image/png": "[encoded data removed]",
      "text/plain": [
       "<matplotlib.figure.Figure at 0x7f8978729b50>"
      ]
     },
     "metadata": {},
     "output_type": "display_data"
    }
   ],
   "source": [
    "fig = plt.figure(figsize = (10, 10))\n",
    "for label, lxp, lxe,c in zip(y_vals, log_xi_pred, log_xi_err ,colors):\n",
    "\n",
    "    #plt.plot(rpoints, lxp,label = 'z= %.3f'%label, color = c )\n",
    "    plt.plot(rpoints, lxp,label = 'z= %.3f'%label, color = c )\n",
    "\n",
    "    plt.fill_between(rpoints,lxp+lxe,\n",
    "                     lxp-lxe, color = c, alpha = 0.3)\n",
    "\n",
    "plt.xlim(xmin = 0.1, xmax = 30)    \n",
    "plt.ylim(ymin = 0, ymax = 3.5)\n",
    "plt.title(\"EC Emulator w.r.t. %s\"%y_param, fontsize =20)\n",
    "#plt.loglog()\n",
    "plt.xscale('log')\n",
    "plt.xticks(fontsize=20)\n",
    "plt.yticks(fontsize=20)\n",
    "plt.xlabel(r'$r $  $\\rm{[Mpc]}$', fontsize=25)\n",
    "plt.ylabel(r'$\\log_{10}{w_p(r_p) }$', fontsize=25)\n",
    "plt.legend(loc='best', fontsize=25)"
   ]
  },
  {
   "cell_type": "code",
   "execution_count": 24,
   "metadata": {
    "collapsed": false
   },
   "outputs": [
    {
     "name": "stdout",
     "output_type": "stream",
     "text": [
      "(array([ 1.82057358]), array([[  2.84370231e-06]]))\n",
      "(array([ 3.14323471]), array([[  7.43566977e-06]]))\n"
     ]
    }
   ],
   "source": [
    "v2  = emu2.emulators[0][0].predict(emu2.y[:, 0, 0], np.array([[ 12.5,0.533,12.,13.5,1.083 ,0.233 ]]))\n",
    "v1 = emu1.emulator.predict(emu1.y,np.array([[ 12.5,0.533,12.,13.5,1.083 ,0.233,emu2.redshift_bin_centers[0], emu2.scale_bin_centers[0] ]])) \n",
    "print v1\n",
    "print v2"
   ]
  },
  {
   "cell_type": "code",
   "execution_count": 25,
   "metadata": {
    "collapsed": false
   },
   "outputs": [],
   "source": [
    "or_params = PARAMS[:]\n",
    "or_params.append(parameter('z', 0.0, 0.5))\n",
    "#or_params.append(parameter('r', 0, 1)) #95% sure bounds aren't used for r\n",
    "emu3 = SpicyBuffalo(training_dir, em_param = 'z', params = or_params)#no r in params"
   ]
  },
  {
   "cell_type": "code",
   "execution_count": 26,
   "metadata": {
    "collapsed": false
   },
   "outputs": [
    {
     "name": "stdout",
     "output_type": "stream",
     "text": [
      "17\n",
      "[  0.0937359    0.18477483   0.29469917   0.41375889   0.58091924\n",
      "   0.81561308   1.14512422   1.60775928   2.25730085   3.16925998\n",
      "   4.44965447   6.24733375   8.77128311  12.31491873  17.29019819\n",
      "  24.27551166  34.08292144]\n"
     ]
    }
   ],
   "source": [
    "print len(emu3.emulators)\n",
    "print emu3.em_bin_centers"
   ]
  },
  {
   "cell_type": "code",
   "execution_count": 27,
   "metadata": {
    "collapsed": false
   },
   "outputs": [
    {
     "name": "stdout",
     "output_type": "stream",
     "text": [
      "[ 0.51975684]\n"
     ]
    }
   ],
   "source": [
    "print em_params['z']"
   ]
  },
  {
   "cell_type": "code",
   "execution_count": 28,
   "metadata": {
    "collapsed": false
   },
   "outputs": [],
   "source": [
    "log_xi_pred = emu3.emulate_wrt_r(em_params,rpoints)\n",
    "#log_xi_cov = np.zeros((log_xi_pred.shape[0], log_xi_pred.shape[0]))\n",
    "#log_xi_err = np.sqrt(np.diag(log_xi_cov))\n",
    "#print log_xi_pred\n",
    "#log_xi_pred = log_xi_pred.reshape((-1, len(rpoints)))\n",
    "#log_xi_err = log_xi_err.reshape((-1, len(rpoints)))\n",
    "log_xi_err = np.zeros(log_xi_pred.shape)"
   ]
  },
  {
   "cell_type": "code",
   "execution_count": 29,
   "metadata": {
    "collapsed": false
   },
   "outputs": [
    {
     "name": "stdout",
     "output_type": "stream",
     "text": [
      "(4, 17)\n"
     ]
    }
   ],
   "source": [
    "print log_xi_pred.shape"
   ]
  },
  {
   "cell_type": "code",
   "execution_count": 30,
   "metadata": {
    "collapsed": false
   },
   "outputs": [
    {
     "name": "stdout",
     "output_type": "stream",
     "text": [
      "[ 2.24278547  2.04569019  1.89900337  1.7776479   1.65228169  1.52714815\n",
      "  1.4144229   1.31411657  1.22418357  1.12541143  1.02140674  0.90077594\n",
      "  0.75818231  0.60549588  0.41772695  0.17044675 -0.16154138]\n"
     ]
    }
   ],
   "source": [
    "print log_xi_pred[0, :]"
   ]
  },
  {
   "cell_type": "code",
   "execution_count": 31,
   "metadata": {
    "collapsed": false
   },
   "outputs": [
    {
     "data": {
      "text/plain": [
       "<matplotlib.legend.Legend at 0x7f897885ffd0>"
      ]
     },
     "execution_count": 31,
     "metadata": {},
     "output_type": "execute_result"
    },
    {
     "data": {
      "image/png": "[encoded data removed]",
      "text/plain": [
       "<matplotlib.figure.Figure at 0x7f89766eac10>"
      ]
     },
     "metadata": {},
     "output_type": "display_data"
    }
   ],
   "source": [
    "fig = plt.figure(figsize = (10, 10))\n",
    "for label, lxp, lxe,c in zip(y_vals, log_xi_pred, log_xi_err ,colors):\n",
    "\n",
    "    #plt.plot(rpoints, lxp,label = 'z= %.3f'%label, color = c )\n",
    "    plt.plot(rpoints, lxp,label = 'z= %.3f'%label, color = c )\n",
    "\n",
    "    plt.fill_between(rpoints,lxp+lxe,\n",
    "                     lxp-lxe, color = c, alpha = 0.3)\n",
    "\n",
    "plt.xlim(xmin = 0.1, xmax = 30)    \n",
    "plt.ylim(ymin = 0, ymax = 3.5)\n",
    "plt.title(\"SB Emulator w.r.t. %s\"%y_param, fontsize =20)\n",
    "#plt.loglog()\n",
    "plt.xscale('log')\n",
    "plt.xticks(fontsize=20)\n",
    "plt.yticks(fontsize=20)\n",
    "plt.xlabel(r'$r $  $\\rm{[Mpc]}$', fontsize=25)\n",
    "plt.ylabel(r'$\\log_{10}{w_p(r_p) }$', fontsize=25)\n",
    "plt.legend(loc='best', fontsize=25)"
   ]
  },
  {
   "cell_type": "code",
   "execution_count": 32,
   "metadata": {
    "collapsed": false
   },
   "outputs": [
    {
     "data": {
      "text/plain": [
       "(17000, 8)"
      ]
     },
     "execution_count": 32,
     "metadata": {},
     "output_type": "execute_result"
    }
   ],
   "source": [
    "emu1.x.shape"
   ]
  },
  {
   "cell_type": "code",
   "execution_count": 33,
   "metadata": {
    "collapsed": false
   },
   "outputs": [
    {
     "data": {
      "text/plain": [
       "array([[ 0.51975684, -1.02809405],\n",
       "       [ 0.51975684, -0.73335719],\n",
       "       [ 0.51975684, -0.53062108],\n",
       "       [ 0.51975684, -0.38325266],\n",
       "       [ 0.51975684, -0.23588424],\n",
       "       [ 0.51975684, -0.08851582],\n",
       "       [ 0.51975684,  0.0588526 ],\n",
       "       [ 0.51975684,  0.20622102],\n",
       "       [ 0.51975684,  0.35358945],\n",
       "       [ 0.51975684,  0.50095787],\n",
       "       [ 0.51975684,  0.64832629],\n",
       "       [ 0.51975684,  0.79569471],\n",
       "       [ 0.51975684,  0.94306313],\n",
       "       [ 0.51975684,  1.09043155],\n",
       "       [ 0.51975684,  1.23779997],\n",
       "       [ 0.51975684,  1.38516839],\n",
       "       [ 0.51975684,  1.53253681],\n",
       "       [ 0.51975684, -1.02809405],\n",
       "       [ 0.51975684, -0.73335719],\n",
       "       [ 0.51975684, -0.53062108],\n",
       "       [ 0.51975684, -0.38325266],\n",
       "       [ 0.51975684, -0.23588424],\n",
       "       [ 0.51975684, -0.08851582],\n",
       "       [ 0.51975684,  0.0588526 ],\n",
       "       [ 0.51975684,  0.20622102],\n",
       "       [ 0.51975684,  0.35358945],\n",
       "       [ 0.51975684,  0.50095787],\n",
       "       [ 0.51975684,  0.64832629],\n",
       "       [ 0.51975684,  0.79569471],\n",
       "       [ 0.51975684,  0.94306313],\n",
       "       [ 0.51975684,  1.09043155],\n",
       "       [ 0.51975684,  1.23779997],\n",
       "       [ 0.51975684,  1.38516839],\n",
       "       [ 0.51975684,  1.53253681]])"
      ]
     },
     "execution_count": 33,
     "metadata": {},
     "output_type": "execute_result"
    }
   ],
   "source": [
    "emu1.x[:34,-2:]"
   ]
  },
  {
   "cell_type": "code",
   "execution_count": 34,
   "metadata": {
    "collapsed": false
   },
   "outputs": [
    {
     "data": {
      "text/plain": [
       "(17000,)"
      ]
     },
     "execution_count": 34,
     "metadata": {},
     "output_type": "execute_result"
    }
   ],
   "source": [
    "emu1.y.shape"
   ]
  },
  {
   "cell_type": "code",
   "execution_count": 35,
   "metadata": {
    "collapsed": false
   },
   "outputs": [
    {
     "data": {
      "text/plain": [
       "(500, 2, 17)"
      ]
     },
     "execution_count": 35,
     "metadata": {},
     "output_type": "execute_result"
    }
   ],
   "source": [
    "emu2.y.shape"
   ]
  },
  {
   "cell_type": "code",
   "execution_count": 36,
   "metadata": {
    "collapsed": true
   },
   "outputs": [],
   "source": [
    "idx1, idx2 = 0,0"
   ]
  },
  {
   "cell_type": "code",
   "execution_count": 37,
   "metadata": {
    "collapsed": false
   },
   "outputs": [
    {
     "name": "stdout",
     "output_type": "stream",
     "text": [
      "-1.0280940464\n",
      "0.519756838906\n"
     ]
    }
   ],
   "source": [
    "print emu1.x[idx1,-1]\n",
    "print emu1.x[idx2*len(emu1.x)/2, -2]"
   ]
  },
  {
   "cell_type": "code",
   "execution_count": 38,
   "metadata": {
    "collapsed": false
   },
   "outputs": [],
   "source": [
    "ec_col = emu2.y[:,idx2, idx1 ]\n",
    "or_col = emu1.y[np.logical_and(emu1.x[:, -1]==emu1.x[idx1,-1], emu1.x[:, -2] == emu1.x[idx2*len(emu1.x)/2, -2] ) ]"
   ]
  },
  {
   "cell_type": "code",
   "execution_count": 39,
   "metadata": {
    "collapsed": false
   },
   "outputs": [
    {
     "name": "stdout",
     "output_type": "stream",
     "text": [
      "(500,)\n",
      "(500,)\n"
     ]
    }
   ],
   "source": [
    "print or_col.shape\n",
    "print ec_col.shape"
   ]
  },
  {
   "cell_type": "code",
   "execution_count": 40,
   "metadata": {
    "collapsed": false
   },
   "outputs": [
    {
     "data": {
      "text/plain": [
       "True"
      ]
     },
     "execution_count": 40,
     "metadata": {},
     "output_type": "execute_result"
    }
   ],
   "source": [
    "np.all(or_col == ec_col)"
   ]
  },
  {
   "cell_type": "code",
   "execution_count": 41,
   "metadata": {
    "collapsed": false
   },
   "outputs": [
    {
     "data": {
      "text/plain": [
       "array([ 2.21553692,  2.25438399,  2.83430756,  3.11388321,  2.8731223 ,\n",
       "        2.88622372,  2.90393666,  2.61663083,  2.5216356 ,  2.25685831])"
      ]
     },
     "execution_count": 41,
     "metadata": {},
     "output_type": "execute_result"
    }
   ],
   "source": [
    "ec_col[:10]"
   ]
  },
  {
   "cell_type": "code",
   "execution_count": 42,
   "metadata": {
    "collapsed": false
   },
   "outputs": [
    {
     "data": {
      "text/plain": [
       "array([ 2.21553692,  2.25438399,  2.83430756,  3.11388321,  2.8731223 ,\n",
       "        2.88622372,  2.90393666,  2.61663083,  2.5216356 ,  2.25685831])"
      ]
     },
     "execution_count": 42,
     "metadata": {},
     "output_type": "execute_result"
    }
   ],
   "source": [
    "or_col[:10]"
   ]
  },
  {
   "cell_type": "code",
   "execution_count": 43,
   "metadata": {
    "collapsed": true
   },
   "outputs": [],
   "source": [
    "from copy import deepcopy"
   ]
  },
  {
   "cell_type": "code",
   "execution_count": 44,
   "metadata": {
    "collapsed": true
   },
   "outputs": [],
   "source": [
    "new_y = deepcopy(emu1.y)"
   ]
  },
  {
   "cell_type": "code",
   "execution_count": 45,
   "metadata": {
    "collapsed": false
   },
   "outputs": [],
   "source": [
    "new_y = new_y.reshape((-1, 17))"
   ]
  },
  {
   "cell_type": "code",
   "execution_count": 46,
   "metadata": {
    "collapsed": false
   },
   "outputs": [
    {
     "name": "stdout",
     "output_type": "stream",
     "text": [
      "[ 2.21553692  2.25438399  2.83430756  3.11388321  2.8731223   2.88622372\n",
      "  2.90393666  2.61663083  2.5216356   2.25685831  2.81718275  2.58883632\n",
      "  2.34843141  2.03597782  2.85401296  3.15036552  3.41790586  2.39798553\n",
      "  2.45768385  3.20031515]\n"
     ]
    }
   ],
   "source": [
    "print new_y[:20, 0]"
   ]
  },
  {
   "cell_type": "code",
   "execution_count": 47,
   "metadata": {
    "collapsed": true
   },
   "outputs": [],
   "source": [
    "new_y = new_y.reshape((-1, 2, 17), order='F')"
   ]
  },
  {
   "cell_type": "code",
   "execution_count": 48,
   "metadata": {
    "collapsed": false
   },
   "outputs": [
    {
     "name": "stdout",
     "output_type": "stream",
     "text": [
      "[ 2.21553692  2.25438399  2.83430756  3.11388321  2.8731223   2.88622372\n",
      "  2.90393666  2.61663083  2.5216356   2.25685831]\n"
     ]
    }
   ],
   "source": [
    "print new_y[:10,idx2,idx1]"
   ]
  },
  {
   "cell_type": "code",
   "execution_count": 49,
   "metadata": {
    "collapsed": false
   },
   "outputs": [
    {
     "data": {
      "text/plain": [
       "(500, 2, 17)"
      ]
     },
     "execution_count": 49,
     "metadata": {},
     "output_type": "execute_result"
    }
   ],
   "source": [
    "new_y.shape"
   ]
  },
  {
   "cell_type": "code",
   "execution_count": 50,
   "metadata": {
    "collapsed": false
   },
   "outputs": [
    {
     "name": "stdout",
     "output_type": "stream",
     "text": [
      "True\n",
      "True\n"
     ]
    }
   ],
   "source": [
    "print all(new_y[:,idx2,idx1] == or_col)\n",
    "print all(new_y[:,idx2,idx1] == ec_col)"
   ]
  },
  {
   "cell_type": "code",
   "execution_count": 51,
   "metadata": {
    "collapsed": false
   },
   "outputs": [
    {
     "data": {
      "text/plain": [
       "array([ 2.21553692,  2.25438399,  2.83430756,  3.11388321,  2.8731223 ,\n",
       "        2.88622372,  2.90393666,  2.61663083,  2.5216356 ,  2.25685831])"
      ]
     },
     "execution_count": 51,
     "metadata": {},
     "output_type": "execute_result"
    }
   ],
   "source": [
    "new_y[:10,0,0]"
   ]
  },
  {
   "cell_type": "code",
   "execution_count": 52,
   "metadata": {
    "collapsed": false
   },
   "outputs": [
    {
     "name": "stdout",
     "output_type": "stream",
     "text": [
      "0 0 True True True\n",
      "\n",
      "0 1 True True True\n",
      "\n",
      "1 0 True True True\n",
      "\n",
      "1 1 True True True\n",
      "\n",
      "2 0 True True True\n",
      "\n",
      "2 1 True True True\n",
      "\n",
      "3 0 True True True\n",
      "\n",
      "3 1 True True True\n",
      "\n",
      "4 0 True True True\n",
      "\n",
      "4 1 True True True\n",
      "\n",
      "5 0 True True True\n",
      "\n",
      "5 1 True True True\n",
      "\n",
      "6 0 True True True\n",
      "\n",
      "6 1 True True True\n",
      "\n",
      "7 0 True True True\n",
      "\n",
      "7 1 True True True\n",
      "\n",
      "8 0 True True True\n",
      "\n",
      "8 1 True True True\n",
      "\n",
      "9 0 True True True\n",
      "\n",
      "9 1 True True True\n",
      "\n",
      "10 0 True True True\n",
      "\n",
      "10 1 True True True\n",
      "\n",
      "11 0 True True True\n",
      "\n",
      "11 1 True True True\n",
      "\n",
      "12 0 True True True\n",
      "\n",
      "12 1 True True True\n",
      "\n",
      "13 0 True True True\n",
      "\n",
      "13 1 True True True\n",
      "\n",
      "14 0 True True True\n",
      "\n",
      "14 1 True True True\n",
      "\n",
      "15 0 True True True\n",
      "\n",
      "15 1 True True True\n",
      "\n",
      "16 0 True True True\n",
      "\n",
      "16 1 True True True\n",
      "\n"
     ]
    }
   ],
   "source": [
    "for idx1 in xrange(17):\n",
    "    for idx2 in xrange(2):\n",
    "        ec_col = emu2.y[:,idx2, idx1 ]\n",
    "        or_col = emu1.y[np.logical_and(emu1.x[:, -1]==emu1.x[idx1,-1], emu1.x[:, -2] == emu1.x[idx2*len(emu1.x)/2, -2] ) ]\n",
    "        new_y = deepcopy(emu1.y)\n",
    "        new_y = new_y.reshape((-1, 17))\n",
    "        new_y = new_y.reshape((-1, 2, 17), order='F')\n",
    "        print idx1, idx2, all(new_y[:,idx2,idx1] == or_col), all(new_y[:,idx2,idx1] == ec_col), all(ec_col == or_col)\n",
    "        print "
   ]
  },
  {
   "cell_type": "code",
   "execution_count": 53,
   "metadata": {
    "collapsed": true
   },
   "outputs": [],
   "source": [
    "idx1, idx2 = 0,0"
   ]
  },
  {
   "cell_type": "code",
   "execution_count": 54,
   "metadata": {
    "collapsed": false
   },
   "outputs": [
    {
     "name": "stdout",
     "output_type": "stream",
     "text": [
      "[ 2.21553692  2.25438399  2.83430756  3.11388321  2.8731223   2.88622372\n",
      "  2.90393666  2.61663083  2.5216356   2.25685831]\n",
      "[ 12.035  11.937  11.761  12.348  12.075  12.421  12.362  12.417  11.711\n",
      "  11.989]\n"
     ]
    }
   ],
   "source": [
    "print emu1.y[np.logical_and(emu1.x[:, -1]==emu1.x[idx1,-1], emu1.x[:, -2] == emu1.x[idx2*len(emu1.x)/2, -2] ) ][:10]\n",
    "print emu1.x[np.logical_and(emu1.x[:, -1]==emu1.x[idx1,-1], emu1.x[:, -2] == emu1.x[idx2*len(emu1.x)/2, -2] ), 0 ][:10]"
   ]
  },
  {
   "cell_type": "code",
   "execution_count": 55,
   "metadata": {
    "collapsed": true
   },
   "outputs": [],
   "source": [
    "or_col = emu1.y[np.logical_and(emu1.x[:, -1]==emu1.x[idx1,-1], emu1.x[:, -2] == emu1.x[idx2*len(emu1.x)/2, -2] ) ]"
   ]
  },
  {
   "cell_type": "code",
   "execution_count": 56,
   "metadata": {
    "collapsed": false
   },
   "outputs": [],
   "source": [
    "or_x_col = emu1.x[np.logical_and(emu1.x[:, -1]==emu1.x[idx1,-1], emu1.x[:, -2] == emu1.x[idx2*len(emu1.x)/2, -2] ) ]"
   ]
  },
  {
   "cell_type": "code",
   "execution_count": 57,
   "metadata": {
    "collapsed": false
   },
   "outputs": [
    {
     "name": "stdout",
     "output_type": "stream",
     "text": [
      "2.21553692069 2.21553692069 True\n",
      "2.25438398946 2.25438398946 True\n",
      "2.83430756007 2.83430756007 True\n",
      "3.11388320567 3.11388320567 True\n",
      "2.8731222952 2.8731222952 True\n",
      "2.88622371732 2.88622371732 True\n",
      "2.9039366579 2.9039366579 True\n",
      "2.61663083149 2.61663083149 True\n",
      "2.52163559724 2.52163559724 True\n",
      "2.25685831065 2.25685831065 True\n",
      "2.81718275079 2.81718275079 True\n",
      "2.58883631735 2.58883631735 True\n",
      "2.34843140519 2.34843140519 True\n",
      "2.03597781766 2.03597781766 True\n",
      "2.85401296415 2.85401296415 True\n",
      "3.15036552397 3.15036552397 True\n",
      "3.4179058578 3.4179058578 True\n",
      "2.39798553165 2.39798553165 True\n",
      "2.45768384984 2.45768384984 True\n",
      "3.2003151501 3.2003151501 True\n",
      "2.93020130452 2.93020130452 True\n",
      "2.90930943625 2.90930943625 True\n",
      "2.81277816446 2.81277816446 True\n",
      "2.4212619107 2.4212619107 True\n",
      "2.85538049704 2.85538049704 True\n",
      "3.21321772249 3.21321772249 True\n",
      "3.17801496608 3.17801496608 True\n",
      "1.58163507952 1.58163507952 True\n",
      "1.89457612976 1.89457612976 True\n",
      "2.41466500382 2.41466500382 True\n",
      "2.01190647006 2.01190647006 True\n",
      "2.64387776406 2.64387776406 True\n",
      "2.84530972452 2.84530972452 True\n",
      "2.07385272894 2.07385272894 True\n",
      "2.55298735832 2.55298735832 True\n",
      "2.70596305236 2.70596305236 True\n",
      "2.88050205043 2.88050205043 True\n",
      "2.19562001683 2.19562001683 True\n",
      "2.23515074774 2.23515074774 True\n",
      "2.40693728118 2.40693728118 True\n",
      "2.7523928969 2.7523928969 True\n",
      "2.19415340397 2.19415340397 True\n",
      "2.64076085035 2.64076085035 True\n",
      "2.65948973372 2.65948973372 True\n",
      "2.2494396489 2.2494396489 True\n",
      "2.58234558455 2.58234558455 True\n",
      "1.91342432621 1.91342432621 True\n",
      "2.76833860589 2.76833860589 True\n",
      "1.66110774034 1.66110774034 True\n",
      "1.79009856509 1.79009856509 True\n",
      "3.09184716814 3.09184716814 True\n",
      "1.90151648778 1.90151648778 True\n",
      "2.11012088374 2.11012088374 True\n",
      "2.86012878018 2.86012878018 True\n",
      "2.23736220583 2.23736220583 True\n",
      "2.44571504754 2.44571504754 True\n",
      "2.72271660055 2.72271660055 True\n",
      "2.23934717183 2.23934717183 True\n",
      "1.98014587641 1.98014587641 True\n",
      "2.44983745143 2.44983745143 True\n",
      "2.61576324888 2.61576324888 True\n",
      "2.14624166741 2.14624166741 True\n",
      "2.40180376595 2.40180376595 True\n",
      "2.20063747954 2.20063747954 True\n",
      "1.96824184837 1.96824184837 True\n",
      "2.44522939454 2.44522939454 True\n",
      "2.31517984215 2.31517984215 True\n",
      "1.85423241703 1.85423241703 True\n",
      "2.57435364363 2.57435364363 True\n",
      "3.48347235816 3.48347235816 True\n",
      "3.06124547781 3.06124547781 True\n",
      "2.58902273536 2.58902273536 True\n",
      "3.00331154763 3.00331154763 True\n",
      "2.89934718555 2.89934718555 True\n",
      "2.41879067026 2.41879067026 True\n",
      "2.94983467056 2.94983467056 True\n",
      "2.2783279176 2.2783279176 True\n",
      "2.12329638568 2.12329638568 True\n",
      "2.00982467003 2.00982467003 True\n",
      "2.53182338473 2.53182338473 True\n",
      "3.06088875184 3.06088875184 True\n",
      "2.42899913964 2.42899913964 True\n",
      "2.77861686557 2.77861686557 True\n",
      "2.15450262881 2.15450262881 True\n",
      "2.30671605894 2.30671605894 True\n",
      "3.26474037491 3.26474037491 True\n",
      "2.30914174585 2.30914174585 True\n",
      "2.76176391225 2.76176391225 True\n",
      "1.80405427595 1.80405427595 True\n",
      "2.32842509965 2.32842509965 True\n",
      "2.47636143245 2.47636143245 True\n",
      "2.91327598016 2.91327598016 True\n",
      "2.36249330878 2.36249330878 True\n",
      "1.84799626945 1.84799626945 True\n",
      "1.7350887015 1.7350887015 True\n",
      "2.46251516924 2.46251516924 True\n",
      "2.71264681987 2.71264681987 True\n",
      "3.14342699677 3.14342699677 True\n",
      "2.4661874275 2.4661874275 True\n",
      "2.63852929016 2.63852929016 True\n",
      "2.45782326081 2.45782326081 True\n",
      "2.44907136109 2.44907136109 True\n",
      "2.06599743063 2.06599743063 True\n",
      "2.27424424587 2.27424424587 True\n",
      "2.60467172103 2.60467172103 True\n",
      "2.11725317209 2.11725317209 True\n",
      "2.56803015585 2.56803015585 True\n",
      "2.0246060558 2.0246060558 True\n",
      "2.095606738 2.095606738 True\n",
      "3.04599746493 3.04599746493 True\n",
      "1.99123719973 1.99123719973 True\n",
      "2.15768325644 2.15768325644 True\n",
      "2.73495547211 2.73495547211 True\n",
      "1.96028380263 1.96028380263 True\n",
      "2.37627704384 2.37627704384 True\n",
      "3.15575724549 3.15575724549 True\n",
      "3.00047799111 3.00047799111 True\n",
      "2.5375491626 2.5375491626 True\n",
      "2.19734517994 2.19734517994 True\n",
      "2.59714002332 2.59714002332 True\n",
      "2.48668749668 2.48668749668 True\n",
      "2.57072737707 2.57072737707 True\n",
      "2.58913640687 2.58913640687 True\n",
      "2.10839398667 2.10839398667 True\n",
      "2.24587832594 2.24587832594 True\n",
      "2.49210347852 2.49210347852 True\n",
      "2.1271431216 2.1271431216 True\n",
      "2.03721109605 2.03721109605 True\n",
      "3.0264916061 3.0264916061 True\n",
      "2.409011036 2.409011036 True\n",
      "2.06366066028 2.06366066028 True\n",
      "2.34799520643 2.34799520643 True\n",
      "2.15007964468 2.15007964468 True\n",
      "3.15311741405 3.15311741405 True\n",
      "2.48914341785 2.48914341785 True\n",
      "2.81043916413 2.81043916413 True\n",
      "2.36076023308 2.36076023308 True\n",
      "2.34295847171 2.34295847171 True\n",
      "2.71084414474 2.71084414474 True\n",
      "2.51129468442 2.51129468442 True\n",
      "2.72780604778 2.72780604778 True\n",
      "2.80346070353 2.80346070353 True\n",
      "2.47705196821 2.47705196821 True\n",
      "1.93908520362 1.93908520362 True\n",
      "1.86046565116 1.86046565116 True\n",
      "2.35079361778 2.35079361778 True\n",
      "2.15230269188 2.15230269188 True\n",
      "3.0834929931 3.0834929931 True\n",
      "3.43694580748 3.43694580748 True\n",
      "1.96792090203 1.96792090203 True\n",
      "2.26736760312 2.26736760312 True\n",
      "3.3223300601 3.3223300601 True\n",
      "2.65081728103 2.65081728103 True\n",
      "3.04913036734 3.04913036734 True\n",
      "2.98718019174 2.98718019174 True\n",
      "2.34457101682 2.34457101682 True\n",
      "2.04763230328 2.04763230328 True\n",
      "2.86906899088 2.86906899088 True\n",
      "3.02120861222 3.02120861222 True\n",
      "2.51926202653 2.51926202653 True\n",
      "2.86335305354 2.86335305354 True\n",
      "2.3317201782 2.3317201782 True\n",
      "2.40824216574 2.40824216574 True\n",
      "2.51655890021 2.51655890021 True\n",
      "1.99232138228 1.99232138228 True\n",
      "2.58560831325 2.58560831325 True\n",
      "2.38643932631 2.38643932631 True\n",
      "2.52534014425 2.52534014425 True\n",
      "2.57981893198 2.57981893198 True\n",
      "2.78051184889 2.78051184889 True\n",
      "2.93277232662 2.93277232662 True\n",
      "2.77665733483 2.77665733483 True\n",
      "1.7289800205 1.7289800205 True\n",
      "3.12387138173 3.12387138173 True\n",
      "2.72203473369 2.72203473369 True\n",
      "1.75166672924 1.75166672924 True\n",
      "3.07904383655 3.07904383655 True\n",
      "1.69556772819 1.69556772819 True\n",
      "2.77877851348 2.77877851348 True\n",
      "2.76022196635 2.76022196635 True\n",
      "1.82060696365 1.82060696365 True\n",
      "2.55908321685 2.55908321685 True\n",
      "2.6151172503 2.6151172503 True\n",
      "2.44614928376 2.44614928376 True\n",
      "1.92441035007 1.92441035007 True\n",
      "2.39723983765 2.39723983765 True\n",
      "2.71258145495 2.71258145495 True\n",
      "2.7326949102 2.7326949102 True\n",
      "2.10851291806 2.10851291806 True\n",
      "3.07443469438 3.07443469438 True\n",
      "2.49943609189 2.49943609189 True\n",
      "2.37885050692 2.37885050692 True\n",
      "2.83598581751 2.83598581751 True\n",
      "2.40548416891 2.40548416891 True\n",
      "2.32163336264 2.32163336264 True\n",
      "2.81318667905 2.81318667905 True\n",
      "1.8300022423 1.8300022423 True\n",
      "3.25511183205 3.25511183205 True\n",
      "2.00237198142 2.00237198142 True\n",
      "2.46343246013 2.46343246013 True\n",
      "3.02010228888 3.02010228888 True\n",
      "2.17086073589 2.17086073589 True\n",
      "2.47009869885 2.47009869885 True\n",
      "2.94895387251 2.94895387251 True\n",
      "2.52834590225 2.52834590225 True\n",
      "2.56004458241 2.56004458241 True\n",
      "2.57310625043 2.57310625043 True\n",
      "2.74791974879 2.74791974879 True\n",
      "2.0461093615 2.0461093615 True\n",
      "1.70433552724 1.70433552724 True\n",
      "3.15970925497 3.15970925497 True\n",
      "1.68549069216 1.68549069216 True\n",
      "2.88267864034 2.88267864034 True\n",
      "2.54753460117 2.54753460117 True\n",
      "2.56938078024 2.56938078024 True\n",
      "2.09640065093 2.09640065093 True\n",
      "3.27659752938 3.27659752938 True\n",
      "2.29142355552 2.29142355552 True\n",
      "2.19730401525 2.19730401525 True\n",
      "2.62678697253 2.62678697253 True\n",
      "3.11347569712 3.11347569712 True\n",
      "2.38977612062 2.38977612062 True\n",
      "2.07217544636 2.07217544636 True\n",
      "1.93840161093 1.93840161093 True\n",
      "1.75389568191 1.75389568191 True\n",
      "2.22274575988 2.22274575988 True\n",
      "2.86534163409 2.86534163409 True\n",
      "2.74393892799 2.74393892799 True\n",
      "2.82907020381 2.82907020381 True\n",
      "3.22734130787 3.22734130787 True\n",
      "2.54551082889 2.54551082889 True\n",
      "2.53875595824 2.53875595824 True\n",
      "2.78264122316 2.78264122316 True\n",
      "1.82760646993 1.82760646993 True\n",
      "3.29655424322 3.29655424322 True\n",
      "2.9996898681 2.9996898681 True\n",
      "2.26607717539 2.26607717539 True\n",
      "1.84678300772 1.84678300772 True\n",
      "2.07415705005 2.07415705005 True\n",
      "2.41531524119 2.41531524119 True\n",
      "2.82779527939 2.82779527939 True\n",
      "1.81314977144 1.81314977144 True\n",
      "2.24840560446 2.24840560446 True\n",
      "3.16676885806 3.16676885806 True\n",
      "1.86680581588 1.86680581588 True\n",
      "2.65210399533 2.65210399533 True\n",
      "2.32787671142 2.32787671142 True\n",
      "3.05068698572 3.05068698572 True\n",
      "1.90745618438 1.90745618438 True\n",
      "2.26330375177 2.26330375177 True\n",
      "2.09816581187 2.09816581187 True\n",
      "2.58516534139 2.58516534139 True\n",
      "3.16388875058 3.16388875058 True\n",
      "3.12295031118 3.12295031118 True\n",
      "2.15002066949 2.15002066949 True\n",
      "2.46185709893 2.46185709893 True\n",
      "3.016430754 3.016430754 True\n",
      "2.36773060738 2.36773060738 True\n",
      "2.10824192629 2.10824192629 True\n",
      "2.48005601144 2.48005601144 True\n",
      "2.97210412764 2.97210412764 True\n",
      "2.71573351344 2.71573351344 True\n",
      "2.65770656212 2.65770656212 True\n",
      "2.55480242021 2.55480242021 True\n",
      "2.85428666866 2.85428666866 True\n",
      "2.3026762124 2.3026762124 True\n",
      "2.0510448065 2.0510448065 True\n",
      "2.79754596377 2.79754596377 True\n",
      "1.66593360919 1.66593360919 True\n",
      "2.4979248986 2.4979248986 True\n",
      "2.93389550902 2.93389550902 True\n",
      "2.70959929782 2.70959929782 True\n",
      "2.95498976389 2.95498976389 True\n",
      "2.66863989292 2.66863989292 True\n",
      "2.10332219109 2.10332219109 True\n",
      "1.94225069696 1.94225069696 True\n",
      "2.49610723993 2.49610723993 True\n",
      "2.0656918899 2.0656918899 True\n",
      "3.17477803729 3.17477803729 True\n",
      "2.31449597751 2.31449597751 True\n",
      "2.71416193134 2.71416193134 True\n",
      "2.57837889588 2.57837889588 True\n",
      "2.55048585712 2.55048585712 True\n",
      "2.99190325287 2.99190325287 True\n",
      "3.30839884779 3.30839884779 True\n",
      "2.14255112217 2.14255112217 True\n",
      "3.17814408509 3.17814408509 True\n",
      "2.50794000042 2.50794000042 True\n",
      "2.88426145857 2.88426145857 True\n",
      "2.12116637411 2.12116637411 True\n",
      "2.75394696314 2.75394696314 True\n",
      "2.77852223109 2.77852223109 True\n",
      "2.29153044758 2.29153044758 True\n",
      "2.21738585025 2.21738585025 True\n",
      "2.25304239216 2.25304239216 True\n",
      "2.85496959867 2.85496959867 True\n",
      "2.3818795889 2.3818795889 True\n",
      "2.82315568184 2.82315568184 True\n",
      "2.24444966193 2.24444966193 True\n",
      "2.38592764126 2.38592764126 True\n",
      "2.29553074779 2.29553074779 True\n",
      "1.87822729848 1.87822729848 True\n",
      "2.23875079372 2.23875079372 True\n",
      "2.56686108834 2.56686108834 True\n",
      "2.17324728954 2.17324728954 True\n",
      "2.33237547772 2.33237547772 True\n",
      "2.31392423878 2.31392423878 True\n",
      "2.2550362585 2.2550362585 True\n",
      "2.17122509186 2.17122509186 True\n",
      "2.78550841901 2.78550841901 True\n",
      "3.22244556846 3.22244556846 True\n",
      "2.21386069687 2.21386069687 True\n",
      "2.66451164809 2.66451164809 True\n",
      "3.15119219556 3.15119219556 True\n",
      "2.08973717428 2.08973717428 True\n",
      "2.05205893911 2.05205893911 True\n",
      "2.74047648258 2.74047648258 True\n",
      "3.11610465468 3.11610465468 True\n",
      "2.81618677901 2.81618677901 True\n",
      "2.14629706493 2.14629706493 True\n",
      "2.56796125759 2.56796125759 True\n",
      "3.02558179066 3.02558179066 True\n",
      "2.74303258401 2.74303258401 True\n",
      "2.58431131291 2.58431131291 True\n",
      "2.43076590375 2.43076590375 True\n",
      "2.3726279595 2.3726279595 True\n",
      "2.28789317417 2.28789317417 True\n",
      "2.45975340846 2.45975340846 True\n",
      "2.49493343946 2.49493343946 True\n",
      "2.58308111163 2.58308111163 True\n",
      "2.72415731484 2.72415731484 True\n",
      "2.27254430549 2.27254430549 True\n",
      "2.42786001833 2.42786001833 True\n",
      "2.89537012135 2.89537012135 True\n",
      "2.68902303573 2.68902303573 True\n",
      "2.71725093034 2.71725093034 True\n",
      "2.63876036432 2.63876036432 True\n",
      "2.50536401278 2.50536401278 True\n",
      "3.12076088261 3.12076088261 True\n",
      "2.57433669394 2.57433669394 True\n",
      "2.92420651217 2.92420651217 True\n",
      "2.57583688746 2.57583688746 True\n",
      "2.44067099381 2.44067099381 True\n",
      "2.43125456826 2.43125456826 True\n",
      "1.93444435498 1.93444435498 True\n",
      "2.0727536682 2.0727536682 True\n",
      "2.55203441953 2.55203441953 True\n",
      "1.98333585739 1.98333585739 True\n",
      "2.55164934927 2.55164934927 True\n",
      "2.67135372667 2.67135372667 True\n",
      "3.00499286742 3.00499286742 True\n",
      "2.60665834252 2.60665834252 True\n",
      "2.18743483287 2.18743483287 True\n",
      "2.38333865757 2.38333865757 True\n",
      "1.85483044701 1.85483044701 True\n",
      "2.99378315117 2.99378315117 True\n",
      "2.74589352155 2.74589352155 True\n",
      "3.29515893941 3.29515893941 True\n",
      "2.13412919001 2.13412919001 True\n",
      "1.94233697385 1.94233697385 True\n",
      "3.08040373576 3.08040373576 True\n",
      "2.09770829851 2.09770829851 True\n",
      "2.9070111583 2.9070111583 True\n",
      "2.6515485961 2.6515485961 True\n",
      "1.88714746098 1.88714746098 True\n",
      "2.41272993759 2.41272993759 True\n",
      "2.46579610795 2.46579610795 True\n",
      "2.49177909743 2.49177909743 True\n",
      "3.11106850821 3.11106850821 True\n",
      "2.07873713389 2.07873713389 True\n",
      "2.14331525958 2.14331525958 True\n",
      "2.85869007444 2.85869007444 True\n",
      "3.09049660471 3.09049660471 True\n",
      "1.90591072941 1.90591072941 True\n",
      "2.19417035483 2.19417035483 True\n",
      "2.30939684982 2.30939684982 True\n",
      "2.17889441523 2.17889441523 True\n",
      "2.34769039128 2.34769039128 True\n",
      "1.97428428421 1.97428428421 True\n",
      "2.14469966658 2.14469966658 True\n",
      "3.24217634477 3.24217634477 True\n",
      "3.12951547329 3.12951547329 True\n",
      "2.16275397374 2.16275397374 True\n",
      "2.66032726844 2.66032726844 True\n",
      "2.70639004746 2.70639004746 True\n",
      "3.22350781485 3.22350781485 True\n",
      "2.3435582101 2.3435582101 True\n",
      "1.98272104892 1.98272104892 True\n",
      "2.7573034102 2.7573034102 True\n",
      "3.03604473856 3.03604473856 True\n",
      "2.08534398969 2.08534398969 True\n",
      "2.0413123048 2.0413123048 True\n",
      "2.52053978511 2.52053978511 True\n",
      "1.78315437622 1.78315437622 True\n",
      "3.13267728505 3.13267728505 True\n",
      "1.88204667399 1.88204667399 True\n",
      "2.27875365481 2.27875365481 True\n",
      "2.41908838814 2.41908838814 True\n",
      "2.13208945007 2.13208945007 True\n",
      "2.46912809684 2.46912809684 True\n",
      "2.8955032162 2.8955032162 True\n",
      "1.73877947222 1.73877947222 True\n",
      "3.08885584479 3.08885584479 True\n",
      "1.79423428446 1.79423428446 True\n",
      "2.61289603138 2.61289603138 True\n",
      "1.80243998642 1.80243998642 True\n",
      "2.70513648332 2.70513648332 True\n",
      "2.93566070878 2.93566070878 True\n",
      "2.80857906983 2.80857906983 True\n",
      "2.3695535401 2.3695535401 True\n",
      "2.43197050246 2.43197050246 True\n",
      "2.7578383021 2.7578383021 True\n",
      "2.17838894397 2.17838894397 True\n",
      "2.156178794 2.156178794 True\n",
      "2.74622871802 2.74622871802 True\n",
      "1.84996145634 1.84996145634 True\n",
      "2.4503815229 2.4503815229 True\n",
      "2.16492300611 2.16492300611 True\n",
      "2.85184914394 2.85184914394 True\n",
      "2.07267746099 2.07267746099 True\n",
      "2.34524739793 2.34524739793 True\n",
      "3.44834856795 3.44834856795 True\n",
      "2.33583124236 2.33583124236 True\n",
      "2.40151474157 2.40151474157 True\n",
      "1.86786514059 1.86786514059 True\n",
      "2.65612331831 2.65612331831 True\n",
      "2.89040163803 2.89040163803 True\n",
      "2.33383285578 2.33383285578 True\n",
      "2.56625044888 2.56625044888 True\n",
      "2.7221896836 2.7221896836 True\n",
      "3.07022627353 3.07022627353 True\n",
      "2.53660750145 2.53660750145 True\n",
      "2.11342716963 2.11342716963 True\n",
      "2.89285564834 2.89285564834 True\n",
      "2.41848602281 2.41848602281 True\n",
      "2.45520934631 2.45520934631 True\n",
      "2.75384037665 2.75384037665 True\n",
      "1.98367153086 1.98367153086 True\n",
      "2.64621725349 2.64621725349 True\n",
      "2.60251247733 2.60251247733 True\n",
      "2.55588923702 2.55588923702 True\n",
      "2.74144866089 2.74144866089 True\n",
      "2.82334099018 2.82334099018 True\n",
      "2.27189356104 2.27189356104 True\n",
      "2.12246975225 2.12246975225 True\n",
      "2.64156487301 2.64156487301 True\n",
      "2.03993085466 2.03993085466 True\n",
      "1.83287452229 1.83287452229 True\n",
      "3.18503874684 3.18503874684 True\n",
      "2.32331780494 2.32331780494 True\n",
      "2.38631670351 2.38631670351 True\n",
      "3.10470583168 3.10470583168 True\n",
      "2.6649857879 2.6649857879 True\n",
      "2.37507570128 2.37507570128 True\n",
      "2.31527704748 2.31527704748 True\n",
      "2.94772980058 2.94772980058 True\n",
      "2.74180976029 2.74180976029 True\n",
      "2.39322603678 2.39322603678 True\n",
      "2.64191729972 2.64191729972 True\n",
      "2.4947853921 2.4947853921 True\n",
      "2.4867366044 2.4867366044 True\n",
      "2.31449216089 2.31449216089 True\n",
      "3.15466022302 3.15466022302 True\n",
      "3.04821027119 3.04821027119 True\n",
      "2.70583804804 2.70583804804 True\n",
      "2.39347030773 2.39347030773 True\n",
      "3.02450712455 3.02450712455 True\n",
      "2.33543441514 2.33543441514 True\n",
      "2.4166563605 2.4166563605 True\n",
      "1.94253918389 1.94253918389 True\n",
      "2.80985947607 2.80985947607 True\n",
      "2.57825572271 2.57825572271 True\n",
      "2.33194733403 2.33194733403 True\n",
      "2.00066062608 2.00066062608 True\n",
      "2.30030749459 2.30030749459 True\n",
      "3.00715533302 3.00715533302 True\n",
      "2.85460110488 2.85460110488 True\n",
      "2.15809350842 2.15809350842 True\n",
      "2.69809435684 2.69809435684 True\n",
      "2.40573463849 2.40573463849 True\n",
      "2.71583011021 2.71583011021 True\n",
      "2.19410627368 2.19410627368 True\n",
      "2.79031396154 2.79031396154 True\n",
      "2.19550719477 2.19550719477 True\n",
      "2.46523281074 2.46523281074 True\n",
      "2.53487519334 2.53487519334 True\n",
      "1.61206479416 1.61206479416 True\n",
      "3.11201410907 3.11201410907 True\n",
      "2.06949779355 2.06949779355 True\n",
      "2.83344872684 2.83344872684 True\n",
      "2.45607880792 2.45607880792 True\n",
      "2.70085283309 2.70085283309 True\n",
      "2.27430295138 2.27430295138 True\n",
      "2.26886457511 2.26886457511 True\n",
      "2.84317677215 2.84317677215 True\n",
      "2.7751024007 2.7751024007 True\n",
      "1.80907536944 1.80907536944 True\n",
      "2.36970460999 2.36970460999 True\n",
      "2.41227848754 2.41227848754 True\n",
      "2.10926079622 2.10926079622 True\n",
      "500\n"
     ]
    }
   ],
   "source": [
    "counter = 0\n",
    "for row_x, row_y in zip(emu1.x, emu1.y):\n",
    "    if not all(row_x == or_x_col[counter]):\n",
    "        continue\n",
    "    print row_y, or_col[counter], row_y==or_col[counter]\n",
    "    counter+=1\n",
    "    if counter == len(or_x_col):\n",
    "        break\n",
    "print counter"
   ]
  },
  {
   "cell_type": "code",
   "execution_count": null,
   "metadata": {
    "collapsed": true
   },
   "outputs": [],
   "source": []
  }
 ],
 "metadata": {
  "kernelspec": {
   "display_name": "Python [conda env:hodemulator]",
   "language": "python",
   "name": "conda-env-hodemulator-py"
  },
  "language_info": {
   "codemirror_mode": {
    "name": "ipython",
    "version": 2
   },
   "file_extension": ".py",
   "mimetype": "text/x-python",
   "name": "python",
   "nbconvert_exporter": "python",
   "pygments_lexer": "ipython2",
   "version": "2.7.13"
  }
 },
 "nbformat": 4,
 "nbformat_minor": 0
}
