{
 "cells": [
  {
   "cell_type": "raw",
   "metadata": {
    "collapsed": false
   },
   "source": [
    "%load_ext autoreload\n",
    "%autoreload 2"
   ]
  },
  {
   "cell_type": "code",
   "execution_count": 1,
   "metadata": {
    "collapsed": false
   },
   "outputs": [
    {
     "name": "stdout",
     "output_type": "stream",
     "text": [
      "The history saving thread hit an unexpected error (DatabaseError('database disk image is malformed',)).History will not be written to the database.\n",
      "* assembias f5918b5 Made the behavior of the slope parameter to be log, for smoother emulation\n",
      "  master    2fa2673 small tweaks made with plotting stuff.\n"
     ]
    }
   ],
   "source": [
    "%%bash\n",
    "git branch -v "
   ]
  },
  {
   "cell_type": "code",
   "execution_count": 2,
   "metadata": {
    "collapsed": false
   },
   "outputs": [],
   "source": [
    "from pearce.emulator import OriginalRecipe, ExtraCrispy, SpicyBuffalo\n",
    "from pearce.emulator import parameter, DEFAULT_PARAMS as PARAMS"
   ]
  },
  {
   "cell_type": "code",
   "execution_count": 3,
   "metadata": {
    "collapsed": false
   },
   "outputs": [],
   "source": [
    "import numpy as np\n",
    "from matplotlib import pyplot as plt\n",
    "%matplotlib inline\n",
    "import seaborn as sns\n",
    "sns.set()\n",
    "from itertools import cycle\n",
    "colors = cycle(sns.color_palette())"
   ]
  },
  {
   "cell_type": "code",
   "execution_count": 4,
   "metadata": {
    "collapsed": true
   },
   "outputs": [],
   "source": [
    "training_dir = '/u/ki/swmclau2/des/PearceLHC_wp_z/'\n",
    "fiducial_params = {'logM0': 12.20, 'logM1': 13.7, 'alpha': 1.02,\n",
    "                      'logMmin': 12.1, 'f_c': 0.19, 'sigma_logM': 0.46}\n",
    "rbins = np.array([  0.06309573,   0.12437607,   0.24517359,   0.34422476, 0.48329302, 0.67854546,\\\n",
    "           0.9526807 , 1.33756775,1.8779508 ,   2.6366509 ,   3.70186906,   5.19743987, 7.29722764, \\\n",
    "           10.24533859,  14.38449888,  20.1958975 , 28.35512583,  39.81071706] )\n",
    "rpoints = (rbins[1:]+rbins[:-1])/2"
   ]
  },
  {
   "cell_type": "code",
   "execution_count": 5,
   "metadata": {
    "collapsed": true
   },
   "outputs": [],
   "source": [
    "y_param = 'logMmin'\n",
    "emulation_point = [('f_c', 0.233), ('logM0', 12.0), ('sigma_logM', 0.533), \n",
    "                   ('alpha', 1.083),('logM1', 13.5), ('logMmin', 12.233), ('z', 0.5)]\n",
    "em_params = dict(emulation_point)\n",
    "try:\n",
    "    del em_params[y_param]\n",
    "except KeyError:\n",
    "    pass"
   ]
  },
  {
   "cell_type": "code",
   "execution_count": 6,
   "metadata": {
    "collapsed": true
   },
   "outputs": [],
   "source": [
    "or_params = PARAMS[:]\n",
    "or_params.append(parameter('z', 0.0, 0.5))\n",
    "or_params.append(parameter('r', 0, 1)) #95% sure bounds aren't used for r"
   ]
  },
  {
   "cell_type": "code",
   "execution_count": 7,
   "metadata": {
    "collapsed": false
   },
   "outputs": [],
   "source": [
    "y_param_idx = -1\n",
    "for idx, p in enumerate(or_params):\n",
    "    if p.name==y_param:\n",
    "        y_param_idx = idx\n",
    "        break\n",
    "        \n",
    "y_vals = np.linspace(or_params[y_param_idx].low, or_params[y_param_idx].high, 4)\n",
    "em_params[y_param] = y_vals"
   ]
  },
  {
   "cell_type": "code",
   "execution_count": 8,
   "metadata": {
    "collapsed": false
   },
   "outputs": [
    {
     "name": "stdout",
     "output_type": "stream",
     "text": [
      "[ 11.7         11.96666667  12.23333333  12.5       ]\n"
     ]
    }
   ],
   "source": [
    "print em_params[y_param]"
   ]
  },
  {
   "cell_type": "code",
   "execution_count": 9,
   "metadata": {
    "collapsed": false
   },
   "outputs": [
    {
     "name": "stdout",
     "output_type": "stream",
     "text": [
      "{'logMmin': array([ 11.7       ,  11.96666667,  12.23333333,  12.5       ]), 'f_c': 0.233, 'logM0': 12.0, 'sigma_logM': 0.533, 'logM1': 13.5, 'alpha': 1.083, 'z': 0.5}\n"
     ]
    }
   ],
   "source": [
    "print em_params"
   ]
  },
  {
   "cell_type": "raw",
   "metadata": {
    "collapsed": true
   },
   "source": [
    "em_params['z'] = 0.0"
   ]
  },
  {
   "cell_type": "code",
   "execution_count": 10,
   "metadata": {
    "collapsed": false
   },
   "outputs": [
    {
     "name": "stdout",
     "output_type": "stream",
     "text": [
      "Loading training data...\n",
      "Done.\n",
      "Building emulator...\n",
      "Done.\n"
     ]
    }
   ],
   "source": [
    "emu1 = OriginalRecipe(training_dir,params=or_params)"
   ]
  },
  {
   "cell_type": "raw",
   "metadata": {
    "collapsed": false
   },
   "source": [
    "emu1 = ExtraCrispy(training_dir)"
   ]
  },
  {
   "cell_type": "code",
   "execution_count": 11,
   "metadata": {
    "collapsed": true
   },
   "outputs": [],
   "source": [
    "rpoints = np.logspace(np.log10(rbins[1]), np.log10(rbins[-2]), 50)"
   ]
  },
  {
   "cell_type": "raw",
   "metadata": {
    "collapsed": false
   },
   "source": [
    "%%timeit\n",
    "emu1.emulate_wrt_r(em_params, rpoints)"
   ]
  },
  {
   "cell_type": "code",
   "execution_count": 12,
   "metadata": {
    "collapsed": false
   },
   "outputs": [
    {
     "name": "stdout",
     "output_type": "stream",
     "text": [
      "{'logMmin': array([ 11.7       ,  11.96666667,  12.23333333,  12.5       ]), 'r': array([-0.90526317, -0.85714287, -0.80902257, -0.76090227, -0.71278197,\n",
      "       -0.66466167, -0.61654136, -0.56842106, -0.52030076, -0.47218046,\n",
      "       -0.42406016, -0.37593986, -0.32781956, -0.27969926, -0.23157896,\n",
      "       -0.18345866, -0.13533835, -0.08721805, -0.03909775,  0.00902255,\n",
      "        0.05714285,  0.10526315,  0.15338345,  0.20150375,  0.24962405,\n",
      "        0.29774435,  0.34586466,  0.39398496,  0.44210526,  0.49022556,\n",
      "        0.53834586,  0.58646616,  0.63458646,  0.68270676,  0.73082706,\n",
      "        0.77894736,  0.82706767,  0.87518797,  0.92330827,  0.97142857,\n",
      "        1.01954887,  1.06766917,  1.11578947,  1.16390977,  1.21203007,\n",
      "        1.26015037,  1.30827068,  1.35639098,  1.40451128,  1.45263158]), 'f_c': 0.233, 'logM0': 12.0, 'logM1': 13.5, 'alpha': 1.083, 'z': array([ 0.5]), 'sigma_logM': 0.533}\n",
      "t (200, 8)\n",
      "[ 11.7          0.533       12.          13.5          1.083        0.233\n",
      "   0.5         -0.90526317]\n",
      "(200,)\n",
      "(1,)\n",
      "(50,)\n"
     ]
    }
   ],
   "source": [
    "log_xi_pred, log_xi_err = emu1.emulate_wrt_r(em_params, rpoints, gp_errs = True)\n",
    "#log_xi_cov = np.zeros((log_xi_pred.shape[0], log_xi_pred.shape[0]))\n",
    "#log_xi_err = np.sqrt(np.diag(log_xi_cov))\n",
    "#log_xi_pred = log_xi_pred.reshape((-1, len(rpoints)))\n",
    "#log_xi_err = log_xi_err.reshape((-1, len(rpoints)))\n",
    "#log_xi_err = np.zeros_like(log_xi_pred)"
   ]
  },
  {
   "cell_type": "code",
   "execution_count": 13,
   "metadata": {
    "collapsed": false
   },
   "outputs": [
    {
     "name": "stdout",
     "output_type": "stream",
     "text": [
      "[[  6.28445706e-05   6.13129589e-05   5.97413752e-05   5.87664915e-05\n",
      "    5.83275057e-05   5.81453597e-05   5.80178167e-05   5.78772484e-05\n",
      "    5.77324040e-05   5.76044410e-05   5.74997350e-05   5.74121569e-05\n",
      "    5.73336330e-05   5.72600379e-05   5.71909793e-05   5.71272876e-05\n",
      "    5.70693055e-05   5.70165934e-05   5.69683304e-05   5.69237711e-05\n",
      "    5.68825935e-05   5.68451274e-05   5.68123528e-05   5.67855563e-05\n",
      "    5.67657447e-05   5.67531296e-05   5.67469968e-05   5.67460534e-05\n",
      "    5.67490682e-05   5.67554788e-05   5.67656759e-05   5.67808408e-05\n",
      "    5.68024425e-05   5.68316958e-05   5.68693441e-05   5.69159609e-05\n",
      "    5.69726082e-05   5.70413923e-05   5.71255196e-05   5.72289242e-05\n",
      "    5.73560323e-05   5.75122270e-05   5.77051023e-05   5.79464363e-05\n",
      "    5.82556680e-05   5.86664967e-05   5.92362442e-05   6.00530042e-05\n",
      "    6.12419380e-05   6.30274181e-05]\n",
      " [  5.97834092e-05   5.85541289e-05   5.73918073e-05   5.67635866e-05\n",
      "    5.65515599e-05   5.65012574e-05   5.64581750e-05   5.63882639e-05\n",
      "    5.63119536e-05   5.62492587e-05   5.62034112e-05   5.61680619e-05\n",
      "    5.61371543e-05   5.61083478e-05   5.60815790e-05   5.60571096e-05\n",
      "    5.60350061e-05   5.60154360e-05   5.59987207e-05   5.59849769e-05\n",
      "    5.59738336e-05   5.59645514e-05   5.59563778e-05   5.59487887e-05\n",
      "    5.59414798e-05   5.59342526e-05   5.59269741e-05   5.59196397e-05\n",
      "    5.59124407e-05   5.59057755e-05   5.59002330e-05   5.58965927e-05\n",
      "    5.58958206e-05   5.58990122e-05   5.59073066e-05   5.59218693e-05\n",
      "    5.59439698e-05   5.59750162e-05   5.60164020e-05   5.60692996e-05\n",
      "    5.61348221e-05   5.62147532e-05   5.63123391e-05   5.64324373e-05\n",
      "    5.65817456e-05   5.67719124e-05   5.70270172e-05   5.73892344e-05\n",
      "    5.79118620e-05   5.86631410e-05]\n",
      " [  5.99449252e-05   5.86395270e-05   5.74091198e-05   5.67487581e-05\n",
      "    5.65387653e-05   5.65086142e-05   5.64886884e-05   5.64374261e-05\n",
      "    5.63745716e-05   5.63226215e-05   5.62874409e-05   5.62642008e-05\n",
      "    5.62471816e-05   5.62334512e-05   5.62216278e-05   5.62101755e-05\n",
      "    5.61973367e-05   5.61820145e-05   5.61642749e-05   5.61450691e-05\n",
      "    5.61256510e-05   5.61072029e-05   5.60907366e-05   5.60770512e-05\n",
      "    5.60666156e-05   5.60594555e-05   5.60551758e-05   5.60531320e-05\n",
      "    5.60526530e-05   5.60532296e-05   5.60546601e-05   5.60571659e-05\n",
      "    5.60614446e-05   5.60686062e-05   5.60800032e-05   5.60970405e-05\n",
      "    5.61210324e-05   5.61530850e-05   5.61940008e-05   5.62444023e-05\n",
      "    5.63053877e-05   5.63796983e-05   5.64727384e-05   5.65928146e-05\n",
      "    5.67515083e-05   5.69669269e-05   5.72708291e-05   5.77132780e-05\n",
      "    5.83566063e-05   5.92912161e-05]\n",
      " [  6.43393664e-05   6.26101450e-05   6.08139184e-05   5.96836231e-05\n",
      "    5.91726416e-05   5.89714625e-05   5.88446945e-05   5.87086710e-05\n",
      "    5.85721716e-05   5.84627002e-05   5.83911362e-05   5.83511454e-05\n",
      "    5.83307901e-05   5.83205908e-05   5.83148839e-05   5.83100346e-05\n",
      "    5.83029851e-05   5.82909890e-05   5.82717913e-05   5.82436545e-05\n",
      "    5.82053576e-05   5.81565288e-05   5.80982948e-05   5.80337781e-05\n",
      "    5.79679406e-05   5.79066522e-05   5.78553338e-05   5.78177567e-05\n",
      "    5.77954772e-05   5.77880637e-05   5.77939340e-05   5.78114195e-05\n",
      "    5.78396589e-05   5.78790623e-05   5.79312730e-05   5.79987025e-05\n",
      "    5.80838146e-05   5.81884418e-05   5.83135724e-05   5.84601330e-05\n",
      "    5.86310615e-05   5.88343783e-05   5.90864784e-05   5.94152629e-05\n",
      "    5.98641211e-05   6.04984725e-05   6.14143264e-05   6.27458247e-05\n",
      "    6.46836805e-05   6.75898228e-05]]\n"
     ]
    }
   ],
   "source": [
    "print log_xi_err"
   ]
  },
  {
   "cell_type": "code",
   "execution_count": 14,
   "metadata": {
    "collapsed": false
   },
   "outputs": [
    {
     "name": "stdout",
     "output_type": "stream",
     "text": [
      "(4, 50)\n"
     ]
    }
   ],
   "source": [
    "print log_xi_pred.shape"
   ]
  },
  {
   "cell_type": "raw",
   "metadata": {
    "collapsed": false
   },
   "source": [
    "log_xi_pred[[0,-1], :] = log_xi_pred[[-1,0],:]"
   ]
  },
  {
   "cell_type": "code",
   "execution_count": 15,
   "metadata": {
    "collapsed": false
   },
   "outputs": [
    {
     "name": "stdout",
     "output_type": "stream",
     "text": [
      "{'logMmin': array([ 11.7       ,  11.96666667,  12.23333333,  12.5       ]), 'f_c': 0.233, 'logM0': 12.0, 'sigma_logM': 0.533, 'logM1': 13.5, 'alpha': 1.083, 'z': 0.5}\n"
     ]
    }
   ],
   "source": [
    "print em_params"
   ]
  },
  {
   "cell_type": "code",
   "execution_count": 16,
   "metadata": {
    "collapsed": false
   },
   "outputs": [],
   "source": [
    "truth_dir = '/u/ki/swmclau2/des/PearceFHC_wp_z/'\n",
    "plot_r, plot_xi, plot_xi_err = emu1.get_plot_data(em_params,truth_dir, independent_variable=None)"
   ]
  },
  {
   "cell_type": "code",
   "execution_count": 17,
   "metadata": {
    "collapsed": false
   },
   "outputs": [
    {
     "data": {
      "text/plain": [
       "((136,), (136,), (136,))"
      ]
     },
     "execution_count": 17,
     "metadata": {},
     "output_type": "execute_result"
    }
   ],
   "source": [
    "plot_xi.shape, plot_r.shape, plot_xi_err.shape"
   ]
  },
  {
   "cell_type": "code",
   "execution_count": 18,
   "metadata": {
    "collapsed": false
   },
   "outputs": [],
   "source": [
    "plot_xi = plot_xi.reshape((log_xi_pred.shape[0], -1))\n",
    "plot_r = plot_r.reshape((log_xi_pred.shape[0], -1))\n",
    "plot_xi_err = plot_xi_err.reshape((log_xi_pred.shape[0], -1))"
   ]
  },
  {
   "cell_type": "code",
   "execution_count": 19,
   "metadata": {
    "collapsed": false
   },
   "outputs": [
    {
     "data": {
      "text/plain": [
       "(4, 34)"
      ]
     },
     "execution_count": 19,
     "metadata": {},
     "output_type": "execute_result"
    }
   ],
   "source": [
    "plot_xi.shape"
   ]
  },
  {
   "cell_type": "code",
   "execution_count": 20,
   "metadata": {
    "collapsed": false
   },
   "outputs": [
    {
     "name": "stderr",
     "output_type": "stream",
     "text": [
      "/afs/slac.stanford.edu/u/ki/swmclau2/.local/lib/python2.7/site-packages/ipykernel/__main__.py:2: VisibleDeprecationWarning: using a non-integer number instead of an integer will result in an error in the future\n",
      "  from ipykernel import kernelapp as app\n",
      "/afs/slac.stanford.edu/u/ki/swmclau2/.local/lib/python2.7/site-packages/ipykernel/__main__.py:3: VisibleDeprecationWarning: using a non-integer number instead of an integer will result in an error in the future\n",
      "  app.launch_new_instance()\n",
      "/afs/slac.stanford.edu/u/ki/swmclau2/.local/lib/python2.7/site-packages/ipykernel/__main__.py:4: VisibleDeprecationWarning: using a non-integer number instead of an integer will result in an error in the future\n"
     ]
    }
   ],
   "source": [
    "#seems like there's a bug in plot_xi that returns all redshifts. Cutting..\n",
    "plot_xi = plot_xi[:, plot_xi.shape[1]/2.0:]\n",
    "plot_r = plot_r[:, plot_r.shape[1]/2.0:]\n",
    "plot_xi_err = plot_xi_err[:, plot_xi_err.shape[1]/2.0:]"
   ]
  },
  {
   "cell_type": "code",
   "execution_count": 21,
   "metadata": {
    "collapsed": false
   },
   "outputs": [
    {
     "data": {
      "text/plain": [
       "(4, 17)"
      ]
     },
     "execution_count": 21,
     "metadata": {},
     "output_type": "execute_result"
    }
   ],
   "source": [
    "plot_xi.shape"
   ]
  },
  {
   "cell_type": "code",
   "execution_count": 22,
   "metadata": {
    "collapsed": false
   },
   "outputs": [
    {
     "data": {
      "text/plain": [
       "<matplotlib.legend.Legend at 0x7f5dbfe6fd90>"
      ]
     },
     "execution_count": 22,
     "metadata": {},
     "output_type": "execute_result"
    },
    {
     "data": {
      "image/png": "[encoded data removed]",
      "text/plain": [
       "<matplotlib.figure.Figure at 0x7f5dbfe74a90>"
      ]
     },
     "metadata": {},
     "output_type": "display_data"
    }
   ],
   "source": [
    "fig = plt.figure(figsize = (10, 10))\n",
    "for label, lxp, lxe,pr, px, err,c in zip(y_vals, log_xi_pred, log_xi_err ,plot_r, plot_xi,plot_xi_err,colors):\n",
    "\n",
    "    plt.plot(rpoints, lxp,label = '%.3f'%label, color = c )\n",
    "\n",
    "    plt.fill_between(rpoints,lxp+lxe,\n",
    "                     lxp-lxe, color = c, alpha = 0.3)\n",
    "\n",
    "    plt.errorbar(10**pr, px,err, color =c,fmt = 'o')\n",
    "\n",
    "\n",
    "plt.xlim(xmin = 0.1, xmax = 30)    \n",
    "plt.ylim(ymin = -2, ymax = 4)\n",
    "plt.title(\"OR Emulator w.r.t. %s\"%y_param, fontsize =20)\n",
    "#plt.loglog()\n",
    "plt.xscale('log')\n",
    "plt.xticks(fontsize=20)\n",
    "plt.yticks(fontsize=20)\n",
    "plt.xlabel(r'$r $  $\\rm{[Mpc]}$', fontsize=25)\n",
    "plt.ylabel(r'$\\log_{10}{w_p(r_p) }$', fontsize=25)\n",
    "plt.legend(loc='best', fontsize=25)"
   ]
  },
  {
   "cell_type": "code",
   "execution_count": 23,
   "metadata": {
    "collapsed": false
   },
   "outputs": [
    {
     "data": {
      "text/plain": [
       "<matplotlib.legend.Legend at 0x7f5dbfabd090>"
      ]
     },
     "execution_count": 23,
     "metadata": {},
     "output_type": "execute_result"
    },
    {
     "data": {
      "image/png": "[encoded data removed]",
      "text/plain": [
       "<matplotlib.figure.Figure at 0x7f5dbfa3ccd0>"
      ]
     },
     "metadata": {},
     "output_type": "display_data"
    }
   ],
   "source": [
    "fig = plt.figure(figsize = (10, 10))\n",
    "for label, lxp, lxe,c in zip(y_vals, log_xi_pred, log_xi_err ,colors):\n",
    "\n",
    "    plt.plot(rpoints, lxp,label = 'z= %.3f'%label, color = c )\n",
    "\n",
    "    plt.fill_between(rpoints,lxp+lxe,\n",
    "                     lxp-lxe, color = c, alpha = 0.3)\n",
    "\n",
    "plt.xlim(xmin = 0.1, xmax = 30)    \n",
    "plt.ylim(ymin = 0, ymax = 3.5)\n",
    "plt.title(\"OR Emulator w.r.t. %s\"%y_param, fontsize =20)\n",
    "#plt.loglog()\n",
    "plt.xscale('log')\n",
    "plt.xticks(fontsize=20)\n",
    "plt.yticks(fontsize=20)\n",
    "plt.xlabel(r'$r $  $\\rm{[Mpc]}$', fontsize=25)\n",
    "plt.ylabel(r'$\\log_{10}{w_p(r_p) }$', fontsize=25)\n",
    "plt.legend(loc='best', fontsize=25)"
   ]
  },
  {
   "cell_type": "code",
   "execution_count": 24,
   "metadata": {
    "collapsed": false
   },
   "outputs": [
    {
     "name": "stdout",
     "output_type": "stream",
     "text": [
      "Loading training data...\n",
      "Done.\n",
      "Building emulator...\n",
      "Done.\n"
     ]
    }
   ],
   "source": [
    "emu2 = ExtraCrispy(training_dir)#no r in params"
   ]
  },
  {
   "cell_type": "code",
   "execution_count": 20,
   "metadata": {
    "collapsed": true
   },
   "outputs": [],
   "source": [
    "rpoints = emu2.scale_bin_centers\n",
    "em_params['z'] = np.array([emu2.redshift_bin_centers[0]])"
   ]
  },
  {
   "cell_type": "code",
   "execution_count": 21,
   "metadata": {
    "collapsed": false
   },
   "outputs": [
    {
     "name": "stdout",
     "output_type": "stream",
     "text": [
      "1 (4, 2, 17)\n",
      "t\n",
      "[[ 11.7          0.533       12.          13.5          1.083        0.233     ]\n",
      " [ 11.96666667   0.533       12.          13.5          1.083        0.233     ]\n",
      " [ 12.23333333   0.533       12.          13.5          1.083        0.233     ]\n",
      " [ 12.5          0.533       12.          13.5          1.083        0.233     ]]\n",
      "\n",
      "[[[  2.24385567e+00   2.04064525e+00   1.89621578e+00   1.77537928e+00\n",
      "     1.65111440e+00   1.52687692e+00   1.41354181e+00   1.31364831e+00\n",
      "     1.22286138e+00   1.12608270e+00   1.01937743e+00   9.00500924e-01\n",
      "     7.58309679e-01   6.06194280e-01   4.17840068e-01   1.70677134e-01\n",
      "    -1.59808502e-01]\n",
      "  [  2.49590678e+00   2.30321911e+00   2.14930385e+00   2.02431463e+00\n",
      "     1.88470440e+00   1.72720402e+00   1.57703229e+00   1.44606289e+00\n",
      "     1.33722782e+00   1.23548170e+00   1.13284795e+00   1.00246046e+00\n",
      "     8.62587531e-01   7.13315957e-01   5.14078446e-01   2.74465067e-01\n",
      "    -6.55154014e-02]]\n",
      "\n",
      " [[  2.54400925e+00   2.31111091e+00   2.13416048e+00   1.98973362e+00\n",
      "     1.83416440e+00   1.68436044e+00   1.54586169e+00   1.42986664e+00\n",
      "     1.33559976e+00   1.23198974e+00   1.12650164e+00   1.00384077e+00\n",
      "     8.57852507e-01   7.05082932e-01   5.08857491e-01   2.50433102e-01\n",
      "    -8.74175131e-02]\n",
      "  [  2.77057031e+00   2.55817879e+00   2.38485703e+00   2.23822737e+00\n",
      "     2.07426169e+00   1.89329491e+00   1.71204437e+00   1.56275386e+00\n",
      "     1.44204802e+00   1.33648462e+00   1.23558250e+00   1.09779128e+00\n",
      "     9.54008617e-01   8.05918253e-01   5.99662690e-01   3.48076998e-01\n",
      "    -2.17376753e-04]]\n",
      "\n",
      " [[  2.85335675e+00   2.60866551e+00   2.40791740e+00   2.23908984e+00\n",
      "     2.05011673e+00   1.86328933e+00   1.69352755e+00   1.56048367e+00\n",
      "     1.46094124e+00   1.35259322e+00   1.24638006e+00   1.11813140e+00\n",
      "     9.67979105e-01   8.13338542e-01   6.11256219e-01   3.44095236e-01\n",
      "    -2.84528253e-03]\n",
      "  [  3.04313071e+00   2.82311080e+00   2.63680953e+00   2.47365019e+00\n",
      "     2.28709954e+00   2.07886876e+00   1.86479928e+00   1.68924332e+00\n",
      "     1.55531315e+00   1.44607861e+00   1.34813194e+00   1.20065259e+00\n",
      "     1.05302979e+00   9.03990222e-01   6.92635584e-01   4.31814763e-01\n",
      "     7.14429502e-02]]\n",
      "\n",
      " [[  3.14323471e+00   2.89942981e+00   2.69358442e+00   2.50842370e+00\n",
      "     2.29027847e+00   2.05976487e+00   1.85494795e+00   1.69780184e+00\n",
      "     1.59062704e+00   1.47728963e+00   1.36921013e+00   1.23677571e+00\n",
      "     1.08298111e+00   9.24719149e-01   7.18153331e-01   4.40391280e-01\n",
      "     8.70118959e-02]\n",
      "  [  3.28147412e+00   3.06591350e+00   2.87257609e+00   2.70464322e+00\n",
      "     2.50194977e+00   2.26688719e+00   2.02308161e+00   1.81817249e+00\n",
      "     1.66687984e+00   1.55463877e+00   1.46085530e+00   1.30243900e+00\n",
      "     1.15195252e+00   1.00202546e+00   7.85723120e-01   5.14073269e-01\n",
      "     1.47531863e-01]]]\n",
      "2 (136,)\n",
      "3 (4, 2, 17)\n",
      "[[[  2.24385567e+00   2.04064525e+00   1.89621578e+00   1.77537928e+00\n",
      "     1.65111440e+00   1.52687692e+00   1.41354181e+00   1.31364831e+00\n",
      "     1.22286138e+00   1.12608270e+00   1.01937743e+00   9.00500924e-01\n",
      "     7.58309679e-01   6.06194280e-01   4.17840068e-01   1.70677134e-01\n",
      "    -1.59808502e-01]\n",
      "  [  2.49590678e+00   2.30321911e+00   2.14930385e+00   2.02431463e+00\n",
      "     1.88470440e+00   1.72720402e+00   1.57703229e+00   1.44606289e+00\n",
      "     1.33722782e+00   1.23548170e+00   1.13284795e+00   1.00246046e+00\n",
      "     8.62587531e-01   7.13315957e-01   5.14078446e-01   2.74465067e-01\n",
      "    -6.55154014e-02]]\n",
      "\n",
      " [[  2.54400925e+00   2.31111091e+00   2.13416048e+00   1.98973362e+00\n",
      "     1.83416440e+00   1.68436044e+00   1.54586169e+00   1.42986664e+00\n",
      "     1.33559976e+00   1.23198974e+00   1.12650164e+00   1.00384077e+00\n",
      "     8.57852507e-01   7.05082932e-01   5.08857491e-01   2.50433102e-01\n",
      "    -8.74175131e-02]\n",
      "  [  2.77057031e+00   2.55817879e+00   2.38485703e+00   2.23822737e+00\n",
      "     2.07426169e+00   1.89329491e+00   1.71204437e+00   1.56275386e+00\n",
      "     1.44204802e+00   1.33648462e+00   1.23558250e+00   1.09779128e+00\n",
      "     9.54008617e-01   8.05918253e-01   5.99662690e-01   3.48076998e-01\n",
      "    -2.17376753e-04]]\n",
      "\n",
      " [[  2.85335675e+00   2.60866551e+00   2.40791740e+00   2.23908984e+00\n",
      "     2.05011673e+00   1.86328933e+00   1.69352755e+00   1.56048367e+00\n",
      "     1.46094124e+00   1.35259322e+00   1.24638006e+00   1.11813140e+00\n",
      "     9.67979105e-01   8.13338542e-01   6.11256219e-01   3.44095236e-01\n",
      "    -2.84528253e-03]\n",
      "  [  3.04313071e+00   2.82311080e+00   2.63680953e+00   2.47365019e+00\n",
      "     2.28709954e+00   2.07886876e+00   1.86479928e+00   1.68924332e+00\n",
      "     1.55531315e+00   1.44607861e+00   1.34813194e+00   1.20065259e+00\n",
      "     1.05302979e+00   9.03990222e-01   6.92635584e-01   4.31814763e-01\n",
      "     7.14429502e-02]]\n",
      "\n",
      " [[  3.14323471e+00   2.89942981e+00   2.69358442e+00   2.50842370e+00\n",
      "     2.29027847e+00   2.05976487e+00   1.85494795e+00   1.69780184e+00\n",
      "     1.59062704e+00   1.47728963e+00   1.36921013e+00   1.23677571e+00\n",
      "     1.08298111e+00   9.24719149e-01   7.18153331e-01   4.40391280e-01\n",
      "     8.70118959e-02]\n",
      "  [  3.28147412e+00   3.06591350e+00   2.87257609e+00   2.70464322e+00\n",
      "     2.50194977e+00   2.26688719e+00   2.02308161e+00   1.81817249e+00\n",
      "     1.66687984e+00   1.55463877e+00   1.46085530e+00   1.30243900e+00\n",
      "     1.15195252e+00   1.00202546e+00   7.85723120e-01   5.14073269e-01\n",
      "     1.47531863e-01]]]\n",
      "4 (4, 17)\n"
     ]
    }
   ],
   "source": [
    "log_xi_pred = emu2.emulate_wrt_r(em_params,rpoints)\n",
    "#log_xi_cov = np.zeros((log_xi_pred.shape[0], log_xi_pred.shape[0]))\n",
    "#log_xi_err = np.sqrt(np.diag(log_xi_cov))\n",
    "#print log_xi_pred\n",
    "#log_xi_pred = log_xi_pred.reshape((-1, len(rpoints)))\n",
    "#log_xi_err = log_xi_err.reshape((-1, len(rpoints)))\n",
    "log_xi_err = np.zeros(log_xi_pred.shape)"
   ]
  },
  {
   "cell_type": "code",
   "execution_count": 22,
   "metadata": {
    "collapsed": false
   },
   "outputs": [
    {
     "name": "stdout",
     "output_type": "stream",
     "text": [
      "[[  2.24385567e+00   2.04064525e+00   1.89621578e+00   1.77537928e+00\n",
      "    1.65111440e+00   1.52687692e+00   1.41354181e+00   1.31364831e+00\n",
      "    1.22286138e+00   1.12608270e+00   1.01937743e+00   9.00500924e-01\n",
      "    7.58309679e-01   6.06194280e-01   4.17840068e-01   1.70677134e-01\n",
      "   -1.59808502e-01]\n",
      " [  2.54400925e+00   2.31111091e+00   2.13416048e+00   1.98973362e+00\n",
      "    1.83416440e+00   1.68436044e+00   1.54586169e+00   1.42986664e+00\n",
      "    1.33559976e+00   1.23198974e+00   1.12650164e+00   1.00384077e+00\n",
      "    8.57852507e-01   7.05082932e-01   5.08857491e-01   2.50433102e-01\n",
      "   -8.74175131e-02]\n",
      " [  2.85335675e+00   2.60866551e+00   2.40791740e+00   2.23908984e+00\n",
      "    2.05011673e+00   1.86328933e+00   1.69352755e+00   1.56048367e+00\n",
      "    1.46094124e+00   1.35259322e+00   1.24638006e+00   1.11813140e+00\n",
      "    9.67979105e-01   8.13338542e-01   6.11256219e-01   3.44095236e-01\n",
      "   -2.84528253e-03]\n",
      " [  3.14323471e+00   2.89942981e+00   2.69358442e+00   2.50842370e+00\n",
      "    2.29027847e+00   2.05976487e+00   1.85494795e+00   1.69780184e+00\n",
      "    1.59062704e+00   1.47728963e+00   1.36921013e+00   1.23677571e+00\n",
      "    1.08298111e+00   9.24719149e-01   7.18153331e-01   4.40391280e-01\n",
      "    8.70118959e-02]]\n"
     ]
    }
   ],
   "source": [
    "print log_xi_pred"
   ]
  },
  {
   "cell_type": "raw",
   "metadata": {
    "collapsed": false
   },
   "source": [
    "fig = plt.figure(figsize = (10, 10))\n",
    "for label, lxp, lxe,pr, px, err,c in zip(y_vals, log_xi_pred, log_xi_err ,plot_r, plot_xi,plot_xi_err,colors):\n",
    "\n",
    "    plt.plot(rpoints, lxp,label = '%.3f'%label, color = c )\n",
    "\n",
    "    plt.fill_between(rpoints,lxp+lxe,\n",
    "                     lxp-lxe, color = c, alpha = 0.3)\n",
    "\n",
    "    plt.errorbar(10**pr, px,err, color =c,fmt = 'o')\n",
    "\n",
    "plt.xlim(xmin = 0.1, xmax = 30)    \n",
    "plt.ylim(ymin = -2, ymax = 4)\n",
    "plt.title(\"EC Emulator w.r.t. %s\"%y_param, fontsize =20)\n",
    "#plt.loglog()\n",
    "plt.xscale('log')\n",
    "plt.xticks(fontsize=20)\n",
    "plt.yticks(fontsize=20)\n",
    "plt.xlabel(r'$r $  $\\rm{[Mpc]}$', fontsize=25)\n",
    "plt.ylabel(r'$\\log_{10}{\\xi_{\\rm gg}(r) }$', fontsize=25)\n",
    "plt.legend(loc='best', fontsize=25)"
   ]
  },
  {
   "cell_type": "code",
   "execution_count": 23,
   "metadata": {
    "collapsed": false
   },
   "outputs": [
    {
     "data": {
      "text/plain": [
       "<matplotlib.legend.Legend at 0x7f8978ba2650>"
      ]
     },
     "execution_count": 23,
     "metadata": {},
     "output_type": "execute_result"
    },
    {
     "data": {
      "image/png": "[encoded data removed]",
      "text/plain": [
       "<matplotlib.figure.Figure at 0x7f8978729b50>"
      ]
     },
     "metadata": {},
     "output_type": "display_data"
    }
   ],
   "source": [
    "fig = plt.figure(figsize = (10, 10))\n",
    "for label, lxp, lxe,c in zip(y_vals, log_xi_pred, log_xi_err ,colors):\n",
    "\n",
    "    #plt.plot(rpoints, lxp,label = 'z= %.3f'%label, color = c )\n",
    "    plt.plot(rpoints, lxp,label = 'z= %.3f'%label, color = c )\n",
    "\n",
    "    plt.fill_between(rpoints,lxp+lxe,\n",
    "                     lxp-lxe, color = c, alpha = 0.3)\n",
    "\n",
    "plt.xlim(xmin = 0.1, xmax = 30)    \n",
    "plt.ylim(ymin = 0, ymax = 3.5)\n",
    "plt.title(\"EC Emulator w.r.t. %s\"%y_param, fontsize =20)\n",
    "#plt.loglog()\n",
    "plt.xscale('log')\n",
    "plt.xticks(fontsize=20)\n",
    "plt.yticks(fontsize=20)\n",
    "plt.xlabel(r'$r $  $\\rm{[Mpc]}$', fontsize=25)\n",
    "plt.ylabel(r'$\\log_{10}{w_p(r_p) }$', fontsize=25)\n",
    "plt.legend(loc='best', fontsize=25)"
   ]
  },
  {
   "cell_type": "code",
   "execution_count": 25,
   "metadata": {
    "collapsed": false
   },
   "outputs": [
    {
     "name": "stdout",
     "output_type": "stream",
     "text": [
      "Loading training data...\n",
      "Done.\n",
      "Building emulator...\n",
      "Done.\n"
     ]
    }
   ],
   "source": [
    "or_params = PARAMS[:]\n",
    "or_params.append(parameter('z', 0.0, 0.5))\n",
    "#or_params.append(parameter('r', 0, 1)) #95% sure bounds aren't used for r\n",
    "emu3 = SpicyBuffalo(training_dir, em_param = 'z', params = or_params)#no r in params"
   ]
  },
  {
   "cell_type": "code",
   "execution_count": 26,
   "metadata": {
    "collapsed": false
   },
   "outputs": [
    {
     "name": "stdout",
     "output_type": "stream",
     "text": [
      "17\n",
      "[  0.0937359    0.18477483   0.29469917   0.41375889   0.58091924\n",
      "   0.81561308   1.14512422   1.60775928   2.25730085   3.16925998\n",
      "   4.44965447   6.24733375   8.77128311  12.31491873  17.29019819\n",
      "  24.27551166  34.08292144]\n"
     ]
    }
   ],
   "source": [
    "print len(emu3.emulators)\n",
    "print emu3.em_bin_centers"
   ]
  },
  {
   "cell_type": "code",
   "execution_count": 27,
   "metadata": {
    "collapsed": false
   },
   "outputs": [
    {
     "name": "stdout",
     "output_type": "stream",
     "text": [
      "0.5\n"
     ]
    }
   ],
   "source": [
    "print em_params['z']"
   ]
  },
  {
   "cell_type": "code",
   "execution_count": 28,
   "metadata": {
    "collapsed": false
   },
   "outputs": [
    {
     "name": "stdout",
     "output_type": "stream",
     "text": [
      "t (4, 7)\n",
      "[ 11.7     0.533  12.     13.5     1.083   0.233   0.5  ]\n"
     ]
    }
   ],
   "source": [
    "log_xi_pred = emu3.emulate_wrt_r(em_params,rpoints)\n",
    "#log_xi_cov = np.zeros((log_xi_pred.shape[0], log_xi_pred.shape[0]))\n",
    "#log_xi_err = np.sqrt(np.diag(log_xi_cov))\n",
    "#print log_xi_pred\n",
    "#log_xi_pred = log_xi_pred.reshape((-1, len(rpoints)))\n",
    "#log_xi_err = log_xi_err.reshape((-1, len(rpoints)))\n",
    "log_xi_err = np.zeros(log_xi_pred.shape)"
   ]
  },
  {
   "cell_type": "code",
   "execution_count": 29,
   "metadata": {
    "collapsed": false
   },
   "outputs": [
    {
     "name": "stdout",
     "output_type": "stream",
     "text": [
      "(4, 50)\n"
     ]
    }
   ],
   "source": [
    "print log_xi_pred.shape"
   ]
  },
  {
   "cell_type": "code",
   "execution_count": 30,
   "metadata": {
    "collapsed": false
   },
   "outputs": [
    {
     "name": "stdout",
     "output_type": "stream",
     "text": [
      "[ 2.18505836  2.15238176  2.11880267  2.08460552  2.05007243  2.01542194\n",
      "  1.98070477  1.94563465  1.90932655  1.87078158  1.83032139  1.78882715\n",
      "  1.74732565  1.70608985  1.66489399  1.62328944  1.58171086  1.54090503\n",
      "  1.50162549  1.46424266  1.42858266  1.3939522   1.36046371  1.32840322\n",
      "  1.29774676  1.26824923  1.23903778  1.20841242  1.17598523  1.14239787\n",
      "  1.10860994  1.07486894  1.04054391  1.00429162  0.96541045  0.92390987\n",
      "  0.87987342  0.8335981   0.78568236  0.73700872  0.68785407  0.63732579\n",
      "  0.58343842  0.524558    0.46021655  0.38994516  0.31318253  0.22922145\n",
      "  0.13713516  0.03565908]\n"
     ]
    }
   ],
   "source": [
    "print log_xi_pred[0, :]"
   ]
  },
  {
   "cell_type": "code",
   "execution_count": 31,
   "metadata": {
    "collapsed": false
   },
   "outputs": [
    {
     "data": {
      "text/plain": [
       "<matplotlib.legend.Legend at 0x7f5dbd7ebdd0>"
      ]
     },
     "execution_count": 31,
     "metadata": {},
     "output_type": "execute_result"
    },
    {
     "data": {
      "image/png": "[encoded data removed]",
      "text/plain": [
       "<matplotlib.figure.Figure at 0x7f5dbd7eb810>"
      ]
     },
     "metadata": {},
     "output_type": "display_data"
    }
   ],
   "source": [
    "fig = plt.figure(figsize = (10, 10))\n",
    "for label, lxp, lxe,c in zip(y_vals, log_xi_pred, log_xi_err ,colors):\n",
    "\n",
    "    #plt.plot(rpoints, lxp,label = 'z= %.3f'%label, color = c )\n",
    "    plt.plot(rpoints, lxp,label = 'z= %.3f'%label, color = c )\n",
    "\n",
    "    plt.fill_between(rpoints,lxp+lxe,\n",
    "                     lxp-lxe, color = c, alpha = 0.3)\n",
    "\n",
    "plt.xlim(xmin = 0.1, xmax = 30)    \n",
    "plt.ylim(ymin = 0, ymax = 3.5)\n",
    "plt.title(\"SB Emulator w.r.t. %s\"%y_param, fontsize =20)\n",
    "#plt.loglog()\n",
    "plt.xscale('log')\n",
    "plt.xticks(fontsize=20)\n",
    "plt.yticks(fontsize=20)\n",
    "plt.xlabel(r'$r $  $\\rm{[Mpc]}$', fontsize=25)\n",
    "plt.ylabel(r'$\\log_{10}{w_p(r_p) }$', fontsize=25)\n",
    "plt.legend(loc='best', fontsize=25)"
   ]
  },
  {
   "cell_type": "code",
   "execution_count": 32,
   "metadata": {
    "collapsed": false
   },
   "outputs": [
    {
     "data": {
      "text/plain": [
       "(17000, 8)"
      ]
     },
     "execution_count": 32,
     "metadata": {},
     "output_type": "execute_result"
    }
   ],
   "source": [
    "emu1.x.shape"
   ]
  },
  {
   "cell_type": "code",
   "execution_count": 33,
   "metadata": {
    "collapsed": false
   },
   "outputs": [
    {
     "data": {
      "text/plain": [
       "array([[ 0.51975684, -1.02809405],\n",
       "       [ 0.51975684, -0.73335719],\n",
       "       [ 0.51975684, -0.53062108],\n",
       "       [ 0.51975684, -0.38325266],\n",
       "       [ 0.51975684, -0.23588424],\n",
       "       [ 0.51975684, -0.08851582],\n",
       "       [ 0.51975684,  0.0588526 ],\n",
       "       [ 0.51975684,  0.20622102],\n",
       "       [ 0.51975684,  0.35358945],\n",
       "       [ 0.51975684,  0.50095787],\n",
       "       [ 0.51975684,  0.64832629],\n",
       "       [ 0.51975684,  0.79569471],\n",
       "       [ 0.51975684,  0.94306313],\n",
       "       [ 0.51975684,  1.09043155],\n",
       "       [ 0.51975684,  1.23779997],\n",
       "       [ 0.51975684,  1.38516839],\n",
       "       [ 0.51975684,  1.53253681],\n",
       "       [ 0.51975684, -1.02809405],\n",
       "       [ 0.51975684, -0.73335719],\n",
       "       [ 0.51975684, -0.53062108],\n",
       "       [ 0.51975684, -0.38325266],\n",
       "       [ 0.51975684, -0.23588424],\n",
       "       [ 0.51975684, -0.08851582],\n",
       "       [ 0.51975684,  0.0588526 ],\n",
       "       [ 0.51975684,  0.20622102],\n",
       "       [ 0.51975684,  0.35358945],\n",
       "       [ 0.51975684,  0.50095787],\n",
       "       [ 0.51975684,  0.64832629],\n",
       "       [ 0.51975684,  0.79569471],\n",
       "       [ 0.51975684,  0.94306313],\n",
       "       [ 0.51975684,  1.09043155],\n",
       "       [ 0.51975684,  1.23779997],\n",
       "       [ 0.51975684,  1.38516839],\n",
       "       [ 0.51975684,  1.53253681]])"
      ]
     },
     "execution_count": 33,
     "metadata": {},
     "output_type": "execute_result"
    }
   ],
   "source": [
    "emu1.x[:34,-2:]"
   ]
  },
  {
   "cell_type": "code",
   "execution_count": 34,
   "metadata": {
    "collapsed": false
   },
   "outputs": [
    {
     "data": {
      "text/plain": [
       "(17000,)"
      ]
     },
     "execution_count": 34,
     "metadata": {},
     "output_type": "execute_result"
    }
   ],
   "source": [
    "emu1.y.shape"
   ]
  },
  {
   "cell_type": "code",
   "execution_count": 35,
   "metadata": {
    "collapsed": false
   },
   "outputs": [
    {
     "data": {
      "text/plain": [
       "(500, 2, 17)"
      ]
     },
     "execution_count": 35,
     "metadata": {},
     "output_type": "execute_result"
    }
   ],
   "source": [
    "emu2.y.shape"
   ]
  },
  {
   "cell_type": "code",
   "execution_count": 36,
   "metadata": {
    "collapsed": true
   },
   "outputs": [],
   "source": [
    "idx1, idx2 = 0,0"
   ]
  },
  {
   "cell_type": "code",
   "execution_count": 37,
   "metadata": {
    "collapsed": false
   },
   "outputs": [
    {
     "name": "stdout",
     "output_type": "stream",
     "text": [
      "-1.0280940464\n",
      "0.519756838906\n"
     ]
    }
   ],
   "source": [
    "print emu1.x[idx1,-1]\n",
    "print emu1.x[idx2*len(emu1.x)/2, -2]"
   ]
  },
  {
   "cell_type": "code",
   "execution_count": 38,
   "metadata": {
    "collapsed": false
   },
   "outputs": [],
   "source": [
    "ec_col = emu2.y[:,idx2, idx1 ]\n",
    "or_col = emu1.y[np.logical_and(emu1.x[:, -1]==emu1.x[idx1,-1], emu1.x[:, -2] == emu1.x[idx2*len(emu1.x)/2, -2] ) ]"
   ]
  },
  {
   "cell_type": "code",
   "execution_count": 39,
   "metadata": {
    "collapsed": false
   },
   "outputs": [
    {
     "name": "stdout",
     "output_type": "stream",
     "text": [
      "(500,)\n",
      "(500,)\n"
     ]
    }
   ],
   "source": [
    "print or_col.shape\n",
    "print ec_col.shape"
   ]
  },
  {
   "cell_type": "code",
   "execution_count": 40,
   "metadata": {
    "collapsed": false
   },
   "outputs": [
    {
     "data": {
      "text/plain": [
       "True"
      ]
     },
     "execution_count": 40,
     "metadata": {},
     "output_type": "execute_result"
    }
   ],
   "source": [
    "np.all(or_col == ec_col)"
   ]
  },
  {
   "cell_type": "code",
   "execution_count": 41,
   "metadata": {
    "collapsed": false
   },
   "outputs": [
    {
     "data": {
      "text/plain": [
       "array([ 2.21553692,  2.25438399,  2.83430756,  3.11388321,  2.8731223 ,\n",
       "        2.88622372,  2.90393666,  2.61663083,  2.5216356 ,  2.25685831])"
      ]
     },
     "execution_count": 41,
     "metadata": {},
     "output_type": "execute_result"
    }
   ],
   "source": [
    "ec_col[:10]"
   ]
  },
  {
   "cell_type": "code",
   "execution_count": 42,
   "metadata": {
    "collapsed": false
   },
   "outputs": [
    {
     "data": {
      "text/plain": [
       "array([ 2.21553692,  2.25438399,  2.83430756,  3.11388321,  2.8731223 ,\n",
       "        2.88622372,  2.90393666,  2.61663083,  2.5216356 ,  2.25685831])"
      ]
     },
     "execution_count": 42,
     "metadata": {},
     "output_type": "execute_result"
    }
   ],
   "source": [
    "or_col[:10]"
   ]
  },
  {
   "cell_type": "code",
   "execution_count": 43,
   "metadata": {
    "collapsed": true
   },
   "outputs": [],
   "source": [
    "from copy import deepcopy"
   ]
  },
  {
   "cell_type": "code",
   "execution_count": 44,
   "metadata": {
    "collapsed": true
   },
   "outputs": [],
   "source": [
    "new_y = deepcopy(emu1.y)"
   ]
  },
  {
   "cell_type": "code",
   "execution_count": 45,
   "metadata": {
    "collapsed": false
   },
   "outputs": [],
   "source": [
    "new_y = new_y.reshape((-1, 17))"
   ]
  },
  {
   "cell_type": "code",
   "execution_count": 46,
   "metadata": {
    "collapsed": false
   },
   "outputs": [
    {
     "name": "stdout",
     "output_type": "stream",
     "text": [
      "[ 2.21553692  2.25438399  2.83430756  3.11388321  2.8731223   2.88622372\n",
      "  2.90393666  2.61663083  2.5216356   2.25685831  2.81718275  2.58883632\n",
      "  2.34843141  2.03597782  2.85401296  3.15036552  3.41790586  2.39798553\n",
      "  2.45768385  3.20031515]\n"
     ]
    }
   ],
   "source": [
    "print new_y[:20, 0]"
   ]
  },
  {
   "cell_type": "code",
   "execution_count": 47,
   "metadata": {
    "collapsed": true
   },
   "outputs": [],
   "source": [
    "new_y = new_y.reshape((-1, 2, 17), order='F')"
   ]
  },
  {
   "cell_type": "code",
   "execution_count": 48,
   "metadata": {
    "collapsed": false
   },
   "outputs": [
    {
     "name": "stdout",
     "output_type": "stream",
     "text": [
      "[ 2.21553692  2.25438399  2.83430756  3.11388321  2.8731223   2.88622372\n",
      "  2.90393666  2.61663083  2.5216356   2.25685831]\n"
     ]
    }
   ],
   "source": [
    "print new_y[:10,idx2,idx1]"
   ]
  },
  {
   "cell_type": "code",
   "execution_count": 49,
   "metadata": {
    "collapsed": false
   },
   "outputs": [
    {
     "data": {
      "text/plain": [
       "(500, 2, 17)"
      ]
     },
     "execution_count": 49,
     "metadata": {},
     "output_type": "execute_result"
    }
   ],
   "source": [
    "new_y.shape"
   ]
  },
  {
   "cell_type": "code",
   "execution_count": 50,
   "metadata": {
    "collapsed": false
   },
   "outputs": [
    {
     "name": "stdout",
     "output_type": "stream",
     "text": [
      "True\n",
      "True\n"
     ]
    }
   ],
   "source": [
    "print all(new_y[:,idx2,idx1] == or_col)\n",
    "print all(new_y[:,idx2,idx1] == ec_col)"
   ]
  },
  {
   "cell_type": "code",
   "execution_count": 51,
   "metadata": {
    "collapsed": false
   },
   "outputs": [
    {
     "data": {
      "text/plain": [
       "array([ 2.21553692,  2.25438399,  2.83430756,  3.11388321,  2.8731223 ,\n",
       "        2.88622372,  2.90393666,  2.61663083,  2.5216356 ,  2.25685831])"
      ]
     },
     "execution_count": 51,
     "metadata": {},
     "output_type": "execute_result"
    }
   ],
   "source": [
    "new_y[:10,0,0]"
   ]
  },
  {
   "cell_type": "code",
   "execution_count": 52,
   "metadata": {
    "collapsed": false
   },
   "outputs": [
    {
     "name": "stdout",
     "output_type": "stream",
     "text": [
      "0 0 True True True\n",
      "\n",
      "0 1 True True True\n",
      "\n",
      "1 0 True True True\n",
      "\n",
      "1 1 True True True\n",
      "\n",
      "2 0 True True True\n",
      "\n",
      "2 1 True True True\n",
      "\n",
      "3 0 True True True\n",
      "\n",
      "3 1 True True True\n",
      "\n",
      "4 0 True True True\n",
      "\n",
      "4 1 True True True\n",
      "\n",
      "5 0 True True True\n",
      "\n",
      "5 1 True True True\n",
      "\n",
      "6 0 True True True\n",
      "\n",
      "6 1 True True True\n",
      "\n",
      "7 0 True True True\n",
      "\n",
      "7 1 True True True\n",
      "\n",
      "8 0 True True True\n",
      "\n",
      "8 1 True True True\n",
      "\n",
      "9 0 True True True\n",
      "\n",
      "9 1 True True True\n",
      "\n",
      "10 0 True True True\n",
      "\n",
      "10 1 True True True\n",
      "\n",
      "11 0 True True True\n",
      "\n",
      "11 1 True True True\n",
      "\n",
      "12 0 True True True\n",
      "\n",
      "12 1 True True True\n",
      "\n",
      "13 0 True True True\n",
      "\n",
      "13 1 True True True\n",
      "\n",
      "14 0 True True True\n",
      "\n",
      "14 1 True True True\n",
      "\n",
      "15 0 True True True\n",
      "\n",
      "15 1 True True True\n",
      "\n",
      "16 0 True True True\n",
      "\n",
      "16 1 True True True\n",
      "\n"
     ]
    }
   ],
   "source": [
    "for idx1 in xrange(17):\n",
    "    for idx2 in xrange(2):\n",
    "        ec_col = emu2.y[:,idx2, idx1 ]\n",
    "        or_col = emu1.y[np.logical_and(emu1.x[:, -1]==emu1.x[idx1,-1], emu1.x[:, -2] == emu1.x[idx2*len(emu1.x)/2, -2] ) ]\n",
    "        new_y = deepcopy(emu1.y)\n",
    "        new_y = new_y.reshape((-1, 17))\n",
    "        new_y = new_y.reshape((-1, 2, 17), order='F')\n",
    "        print idx1, idx2, all(new_y[:,idx2,idx1] == or_col), all(new_y[:,idx2,idx1] == ec_col), all(ec_col == or_col)\n",
    "        print "
   ]
  },
  {
   "cell_type": "code",
   "execution_count": 53,
   "metadata": {
    "collapsed": true
   },
   "outputs": [],
   "source": [
    "idx1, idx2 = 0,0"
   ]
  },
  {
   "cell_type": "code",
   "execution_count": 54,
   "metadata": {
    "collapsed": false
   },
   "outputs": [
    {
     "name": "stdout",
     "output_type": "stream",
     "text": [
      "[ 2.21553692  2.25438399  2.83430756  3.11388321  2.8731223   2.88622372\n",
      "  2.90393666  2.61663083  2.5216356   2.25685831]\n",
      "[ 12.035  11.937  11.761  12.348  12.075  12.421  12.362  12.417  11.711\n",
      "  11.989]\n"
     ]
    }
   ],
   "source": [
    "print emu1.y[np.logical_and(emu1.x[:, -1]==emu1.x[idx1,-1], emu1.x[:, -2] == emu1.x[idx2*len(emu1.x)/2, -2] ) ][:10]\n",
    "print emu1.x[np.logical_and(emu1.x[:, -1]==emu1.x[idx1,-1], emu1.x[:, -2] == emu1.x[idx2*len(emu1.x)/2, -2] ), 0 ][:10]"
   ]
  },
  {
   "cell_type": "code",
   "execution_count": 55,
   "metadata": {
    "collapsed": true
   },
   "outputs": [],
   "source": [
    "or_col = emu1.y[np.logical_and(emu1.x[:, -1]==emu1.x[idx1,-1], emu1.x[:, -2] == emu1.x[idx2*len(emu1.x)/2, -2] ) ]"
   ]
  },
  {
   "cell_type": "code",
   "execution_count": 56,
   "metadata": {
    "collapsed": false
   },
   "outputs": [],
   "source": [
    "or_x_col = emu1.x[np.logical_and(emu1.x[:, -1]==emu1.x[idx1,-1], emu1.x[:, -2] == emu1.x[idx2*len(emu1.x)/2, -2] ) ]"
   ]
  },
  {
   "cell_type": "code",
   "execution_count": 57,
   "metadata": {
    "collapsed": false
   },
   "outputs": [
    {
     "name": "stdout",
     "output_type": "stream",
     "text": [
      "2.21553692069 2.21553692069 True\n",
      "2.25438398946 2.25438398946 True\n",
      "2.83430756007 2.83430756007 True\n",
      "3.11388320567 3.11388320567 True\n",
      "2.8731222952 2.8731222952 True\n",
      "2.88622371732 2.88622371732 True\n",
      "2.9039366579 2.9039366579 True\n",
      "2.61663083149 2.61663083149 True\n",
      "2.52163559724 2.52163559724 True\n",
      "2.25685831065 2.25685831065 True\n",
      "2.81718275079 2.81718275079 True\n",
      "2.58883631735 2.58883631735 True\n",
      "2.34843140519 2.34843140519 True\n",
      "2.03597781766 2.03597781766 True\n",
      "2.85401296415 2.85401296415 True\n",
      "3.15036552397 3.15036552397 True\n",
      "3.4179058578 3.4179058578 True\n",
      "2.39798553165 2.39798553165 True\n",
      "2.45768384984 2.45768384984 True\n",
      "3.2003151501 3.2003151501 True\n",
      "2.93020130452 2.93020130452 True\n",
      "2.90930943625 2.90930943625 True\n",
      "2.81277816446 2.81277816446 True\n",
      "2.4212619107 2.4212619107 True\n",
      "2.85538049704 2.85538049704 True\n",
      "3.21321772249 3.21321772249 True\n",
      "3.17801496608 3.17801496608 True\n",
      "1.58163507952 1.58163507952 True\n",
      "1.89457612976 1.89457612976 True\n",
      "2.41466500382 2.41466500382 True\n",
      "2.01190647006 2.01190647006 True\n",
      "2.64387776406 2.64387776406 True\n",
      "2.84530972452 2.84530972452 True\n",
      "2.07385272894 2.07385272894 True\n",
      "2.55298735832 2.55298735832 True\n",
      "2.70596305236 2.70596305236 True\n",
      "2.88050205043 2.88050205043 True\n",
      "2.19562001683 2.19562001683 True\n",
      "2.23515074774 2.23515074774 True\n",
      "2.40693728118 2.40693728118 True\n",
      "2.7523928969 2.7523928969 True\n",
      "2.19415340397 2.19415340397 True\n",
      "2.64076085035 2.64076085035 True\n",
      "2.65948973372 2.65948973372 True\n",
      "2.2494396489 2.2494396489 True\n",
      "2.58234558455 2.58234558455 True\n",
      "1.91342432621 1.91342432621 True\n",
      "2.76833860589 2.76833860589 True\n",
      "1.66110774034 1.66110774034 True\n",
      "1.79009856509 1.79009856509 True\n",
      "3.09184716814 3.09184716814 True\n",
      "1.90151648778 1.90151648778 True\n",
      "2.11012088374 2.11012088374 True\n",
      "2.86012878018 2.86012878018 True\n",
      "2.23736220583 2.23736220583 True\n",
      "2.44571504754 2.44571504754 True\n",
      "2.72271660055 2.72271660055 True\n",
      "2.23934717183 2.23934717183 True\n",
      "1.98014587641 1.98014587641 True\n",
      "2.44983745143 2.44983745143 True\n",
      "2.61576324888 2.61576324888 True\n",
      "2.14624166741 2.14624166741 True\n",
      "2.40180376595 2.40180376595 True\n",
      "2.20063747954 2.20063747954 True\n",
      "1.96824184837 1.96824184837 True\n",
      "2.44522939454 2.44522939454 True\n",
      "2.31517984215 2.31517984215 True\n",
      "1.85423241703 1.85423241703 True\n",
      "2.57435364363 2.57435364363 True\n",
      "3.48347235816 3.48347235816 True\n",
      "3.06124547781 3.06124547781 True\n",
      "2.58902273536 2.58902273536 True\n",
      "3.00331154763 3.00331154763 True\n",
      "2.89934718555 2.89934718555 True\n",
      "2.41879067026 2.41879067026 True\n",
      "2.94983467056 2.94983467056 True\n",
      "2.2783279176 2.2783279176 True\n",
      "2.12329638568 2.12329638568 True\n",
      "2.00982467003 2.00982467003 True\n",
      "2.53182338473 2.53182338473 True\n",
      "3.06088875184 3.06088875184 True\n",
      "2.42899913964 2.42899913964 True\n",
      "2.77861686557 2.77861686557 True\n",
      "2.15450262881 2.15450262881 True\n",
      "2.30671605894 2.30671605894 True\n",
      "3.26474037491 3.26474037491 True\n",
      "2.30914174585 2.30914174585 True\n",
      "2.76176391225 2.76176391225 True\n",
      "1.80405427595 1.80405427595 True\n",
      "2.32842509965 2.32842509965 True\n",
      "2.47636143245 2.47636143245 True\n",
      "2.91327598016 2.91327598016 True\n",
      "2.36249330878 2.36249330878 True\n",
      "1.84799626945 1.84799626945 True\n",
      "1.7350887015 1.7350887015 True\n",
      "2.46251516924 2.46251516924 True\n",
      "2.71264681987 2.71264681987 True\n",
      "3.14342699677 3.14342699677 True\n",
      "2.4661874275 2.4661874275 True\n",
      "2.63852929016 2.63852929016 True\n",
      "2.45782326081 2.45782326081 True\n",
      "2.44907136109 2.44907136109 True\n",
      "2.06599743063 2.06599743063 True\n",
      "2.27424424587 2.27424424587 True\n",
      "2.60467172103 2.60467172103 True\n",
      "2.11725317209 2.11725317209 True\n",
      "2.56803015585 2.56803015585 True\n",
      "2.0246060558 2.0246060558 True\n",
      "2.095606738 2.095606738 True\n",
      "3.04599746493 3.04599746493 True\n",
      "1.99123719973 1.99123719973 True\n",
      "2.15768325644 2.15768325644 True\n",
      "2.73495547211 2.73495547211 True\n",
      "1.96028380263 1.96028380263 True\n",
      "2.37627704384 2.37627704384 True\n",
      "3.15575724549 3.15575724549 True\n",
      "3.00047799111 3.00047799111 True\n",
      "2.5375491626 2.5375491626 True\n",
      "2.19734517994 2.19734517994 True\n",
      "2.59714002332 2.59714002332 True\n",
      "2.48668749668 2.48668749668 True\n",
      "2.57072737707 2.57072737707 True\n",
      "2.58913640687 2.58913640687 True\n",
      "2.10839398667 2.10839398667 True\n",
      "2.24587832594 2.24587832594 True\n",
      "2.49210347852 2.49210347852 True\n",
      "2.1271431216 2.1271431216 True\n",
      "2.03721109605 2.03721109605 True\n",
      "3.0264916061 3.0264916061 True\n",
      "2.409011036 2.409011036 True\n",
      "2.06366066028 2.06366066028 True\n",
      "2.34799520643 2.34799520643 True\n",
      "2.15007964468 2.15007964468 True\n",
      "3.15311741405 3.15311741405 True\n",
      "2.48914341785 2.48914341785 True\n",
      "2.81043916413 2.81043916413 True\n",
      "2.36076023308 2.36076023308 True\n",
      "2.34295847171 2.34295847171 True\n",
      "2.71084414474 2.71084414474 True\n",
      "2.51129468442 2.51129468442 True\n",
      "2.72780604778 2.72780604778 True\n",
      "2.80346070353 2.80346070353 True\n",
      "2.47705196821 2.47705196821 True\n",
      "1.93908520362 1.93908520362 True\n",
      "1.86046565116 1.86046565116 True\n",
      "2.35079361778 2.35079361778 True\n",
      "2.15230269188 2.15230269188 True\n",
      "3.0834929931 3.0834929931 True\n",
      "3.43694580748 3.43694580748 True\n",
      "1.96792090203 1.96792090203 True\n",
      "2.26736760312 2.26736760312 True\n",
      "3.3223300601 3.3223300601 True\n",
      "2.65081728103 2.65081728103 True\n",
      "3.04913036734 3.04913036734 True\n",
      "2.98718019174 2.98718019174 True\n",
      "2.34457101682 2.34457101682 True\n",
      "2.04763230328 2.04763230328 True\n",
      "2.86906899088 2.86906899088 True\n",
      "3.02120861222 3.02120861222 True\n",
      "2.51926202653 2.51926202653 True\n",
      "2.86335305354 2.86335305354 True\n",
      "2.3317201782 2.3317201782 True\n",
      "2.40824216574 2.40824216574 True\n",
      "2.51655890021 2.51655890021 True\n",
      "1.99232138228 1.99232138228 True\n",
      "2.58560831325 2.58560831325 True\n",
      "2.38643932631 2.38643932631 True\n",
      "2.52534014425 2.52534014425 True\n",
      "2.57981893198 2.57981893198 True\n",
      "2.78051184889 2.78051184889 True\n",
      "2.93277232662 2.93277232662 True\n",
      "2.77665733483 2.77665733483 True\n",
      "1.7289800205 1.7289800205 True\n",
      "3.12387138173 3.12387138173 True\n",
      "2.72203473369 2.72203473369 True\n",
      "1.75166672924 1.75166672924 True\n",
      "3.07904383655 3.07904383655 True\n",
      "1.69556772819 1.69556772819 True\n",
      "2.77877851348 2.77877851348 True\n",
      "2.76022196635 2.76022196635 True\n",
      "1.82060696365 1.82060696365 True\n",
      "2.55908321685 2.55908321685 True\n",
      "2.6151172503 2.6151172503 True\n",
      "2.44614928376 2.44614928376 True\n",
      "1.92441035007 1.92441035007 True\n",
      "2.39723983765 2.39723983765 True\n",
      "2.71258145495 2.71258145495 True\n",
      "2.7326949102 2.7326949102 True\n",
      "2.10851291806 2.10851291806 True\n",
      "3.07443469438 3.07443469438 True\n",
      "2.49943609189 2.49943609189 True\n",
      "2.37885050692 2.37885050692 True\n",
      "2.83598581751 2.83598581751 True\n",
      "2.40548416891 2.40548416891 True\n",
      "2.32163336264 2.32163336264 True\n",
      "2.81318667905 2.81318667905 True\n",
      "1.8300022423 1.8300022423 True\n",
      "3.25511183205 3.25511183205 True\n",
      "2.00237198142 2.00237198142 True\n",
      "2.46343246013 2.46343246013 True\n",
      "3.02010228888 3.02010228888 True\n",
      "2.17086073589 2.17086073589 True\n",
      "2.47009869885 2.47009869885 True\n",
      "2.94895387251 2.94895387251 True\n",
      "2.52834590225 2.52834590225 True\n",
      "2.56004458241 2.56004458241 True\n",
      "2.57310625043 2.57310625043 True\n",
      "2.74791974879 2.74791974879 True\n",
      "2.0461093615 2.0461093615 True\n",
      "1.70433552724 1.70433552724 True\n",
      "3.15970925497 3.15970925497 True\n",
      "1.68549069216 1.68549069216 True\n",
      "2.88267864034 2.88267864034 True\n",
      "2.54753460117 2.54753460117 True\n",
      "2.56938078024 2.56938078024 True\n",
      "2.09640065093 2.09640065093 True\n",
      "3.27659752938 3.27659752938 True\n",
      "2.29142355552 2.29142355552 True\n",
      "2.19730401525 2.19730401525 True\n",
      "2.62678697253 2.62678697253 True\n",
      "3.11347569712 3.11347569712 True\n",
      "2.38977612062 2.38977612062 True\n",
      "2.07217544636 2.07217544636 True\n",
      "1.93840161093 1.93840161093 True\n",
      "1.75389568191 1.75389568191 True\n",
      "2.22274575988 2.22274575988 True\n",
      "2.86534163409 2.86534163409 True\n",
      "2.74393892799 2.74393892799 True\n",
      "2.82907020381 2.82907020381 True\n",
      "3.22734130787 3.22734130787 True\n",
      "2.54551082889 2.54551082889 True\n",
      "2.53875595824 2.53875595824 True\n",
      "2.78264122316 2.78264122316 True\n",
      "1.82760646993 1.82760646993 True\n",
      "3.29655424322 3.29655424322 True\n",
      "2.9996898681 2.9996898681 True\n",
      "2.26607717539 2.26607717539 True\n",
      "1.84678300772 1.84678300772 True\n",
      "2.07415705005 2.07415705005 True\n",
      "2.41531524119 2.41531524119 True\n",
      "2.82779527939 2.82779527939 True\n",
      "1.81314977144 1.81314977144 True\n",
      "2.24840560446 2.24840560446 True\n",
      "3.16676885806 3.16676885806 True\n",
      "1.86680581588 1.86680581588 True\n",
      "2.65210399533 2.65210399533 True\n",
      "2.32787671142 2.32787671142 True\n",
      "3.05068698572 3.05068698572 True\n",
      "1.90745618438 1.90745618438 True\n",
      "2.26330375177 2.26330375177 True\n",
      "2.09816581187 2.09816581187 True\n",
      "2.58516534139 2.58516534139 True\n",
      "3.16388875058 3.16388875058 True\n",
      "3.12295031118 3.12295031118 True\n",
      "2.15002066949 2.15002066949 True\n",
      "2.46185709893 2.46185709893 True\n",
      "3.016430754 3.016430754 True\n",
      "2.36773060738 2.36773060738 True\n",
      "2.10824192629 2.10824192629 True\n",
      "2.48005601144 2.48005601144 True\n",
      "2.97210412764 2.97210412764 True\n",
      "2.71573351344 2.71573351344 True\n",
      "2.65770656212 2.65770656212 True\n",
      "2.55480242021 2.55480242021 True\n",
      "2.85428666866 2.85428666866 True\n",
      "2.3026762124 2.3026762124 True\n",
      "2.0510448065 2.0510448065 True\n",
      "2.79754596377 2.79754596377 True\n",
      "1.66593360919 1.66593360919 True\n",
      "2.4979248986 2.4979248986 True\n",
      "2.93389550902 2.93389550902 True\n",
      "2.70959929782 2.70959929782 True\n",
      "2.95498976389 2.95498976389 True\n",
      "2.66863989292 2.66863989292 True\n",
      "2.10332219109 2.10332219109 True\n",
      "1.94225069696 1.94225069696 True\n",
      "2.49610723993 2.49610723993 True\n",
      "2.0656918899 2.0656918899 True\n",
      "3.17477803729 3.17477803729 True\n",
      "2.31449597751 2.31449597751 True\n",
      "2.71416193134 2.71416193134 True\n",
      "2.57837889588 2.57837889588 True\n",
      "2.55048585712 2.55048585712 True\n",
      "2.99190325287 2.99190325287 True\n",
      "3.30839884779 3.30839884779 True\n",
      "2.14255112217 2.14255112217 True\n",
      "3.17814408509 3.17814408509 True\n",
      "2.50794000042 2.50794000042 True\n",
      "2.88426145857 2.88426145857 True\n",
      "2.12116637411 2.12116637411 True\n",
      "2.75394696314 2.75394696314 True\n",
      "2.77852223109 2.77852223109 True\n",
      "2.29153044758 2.29153044758 True\n",
      "2.21738585025 2.21738585025 True\n",
      "2.25304239216 2.25304239216 True\n",
      "2.85496959867 2.85496959867 True\n",
      "2.3818795889 2.3818795889 True\n",
      "2.82315568184 2.82315568184 True\n",
      "2.24444966193 2.24444966193 True\n",
      "2.38592764126 2.38592764126 True\n",
      "2.29553074779 2.29553074779 True\n",
      "1.87822729848 1.87822729848 True\n",
      "2.23875079372 2.23875079372 True\n",
      "2.56686108834 2.56686108834 True\n",
      "2.17324728954 2.17324728954 True\n",
      "2.33237547772 2.33237547772 True\n",
      "2.31392423878 2.31392423878 True\n",
      "2.2550362585 2.2550362585 True\n",
      "2.17122509186 2.17122509186 True\n",
      "2.78550841901 2.78550841901 True\n",
      "3.22244556846 3.22244556846 True\n",
      "2.21386069687 2.21386069687 True\n",
      "2.66451164809 2.66451164809 True\n",
      "3.15119219556 3.15119219556 True\n",
      "2.08973717428 2.08973717428 True\n",
      "2.05205893911 2.05205893911 True\n",
      "2.74047648258 2.74047648258 True\n",
      "3.11610465468 3.11610465468 True\n",
      "2.81618677901 2.81618677901 True\n",
      "2.14629706493 2.14629706493 True\n",
      "2.56796125759 2.56796125759 True\n",
      "3.02558179066 3.02558179066 True\n",
      "2.74303258401 2.74303258401 True\n",
      "2.58431131291 2.58431131291 True\n",
      "2.43076590375 2.43076590375 True\n",
      "2.3726279595 2.3726279595 True\n",
      "2.28789317417 2.28789317417 True\n",
      "2.45975340846 2.45975340846 True\n",
      "2.49493343946 2.49493343946 True\n",
      "2.58308111163 2.58308111163 True\n",
      "2.72415731484 2.72415731484 True\n",
      "2.27254430549 2.27254430549 True\n",
      "2.42786001833 2.42786001833 True\n",
      "2.89537012135 2.89537012135 True\n",
      "2.68902303573 2.68902303573 True\n",
      "2.71725093034 2.71725093034 True\n",
      "2.63876036432 2.63876036432 True\n",
      "2.50536401278 2.50536401278 True\n",
      "3.12076088261 3.12076088261 True\n",
      "2.57433669394 2.57433669394 True\n",
      "2.92420651217 2.92420651217 True\n",
      "2.57583688746 2.57583688746 True\n",
      "2.44067099381 2.44067099381 True\n",
      "2.43125456826 2.43125456826 True\n",
      "1.93444435498 1.93444435498 True\n",
      "2.0727536682 2.0727536682 True\n",
      "2.55203441953 2.55203441953 True\n",
      "1.98333585739 1.98333585739 True\n",
      "2.55164934927 2.55164934927 True\n",
      "2.67135372667 2.67135372667 True\n",
      "3.00499286742 3.00499286742 True\n",
      "2.60665834252 2.60665834252 True\n",
      "2.18743483287 2.18743483287 True\n",
      "2.38333865757 2.38333865757 True\n",
      "1.85483044701 1.85483044701 True\n",
      "2.99378315117 2.99378315117 True\n",
      "2.74589352155 2.74589352155 True\n",
      "3.29515893941 3.29515893941 True\n",
      "2.13412919001 2.13412919001 True\n",
      "1.94233697385 1.94233697385 True\n",
      "3.08040373576 3.08040373576 True\n",
      "2.09770829851 2.09770829851 True\n",
      "2.9070111583 2.9070111583 True\n",
      "2.6515485961 2.6515485961 True\n",
      "1.88714746098 1.88714746098 True\n",
      "2.41272993759 2.41272993759 True\n",
      "2.46579610795 2.46579610795 True\n",
      "2.49177909743 2.49177909743 True\n",
      "3.11106850821 3.11106850821 True\n",
      "2.07873713389 2.07873713389 True\n",
      "2.14331525958 2.14331525958 True\n",
      "2.85869007444 2.85869007444 True\n",
      "3.09049660471 3.09049660471 True\n",
      "1.90591072941 1.90591072941 True\n",
      "2.19417035483 2.19417035483 True\n",
      "2.30939684982 2.30939684982 True\n",
      "2.17889441523 2.17889441523 True\n",
      "2.34769039128 2.34769039128 True\n",
      "1.97428428421 1.97428428421 True\n",
      "2.14469966658 2.14469966658 True\n",
      "3.24217634477 3.24217634477 True\n",
      "3.12951547329 3.12951547329 True\n",
      "2.16275397374 2.16275397374 True\n",
      "2.66032726844 2.66032726844 True\n",
      "2.70639004746 2.70639004746 True\n",
      "3.22350781485 3.22350781485 True\n",
      "2.3435582101 2.3435582101 True\n",
      "1.98272104892 1.98272104892 True\n",
      "2.7573034102 2.7573034102 True\n",
      "3.03604473856 3.03604473856 True\n",
      "2.08534398969 2.08534398969 True\n",
      "2.0413123048 2.0413123048 True\n",
      "2.52053978511 2.52053978511 True\n",
      "1.78315437622 1.78315437622 True\n",
      "3.13267728505 3.13267728505 True\n",
      "1.88204667399 1.88204667399 True\n",
      "2.27875365481 2.27875365481 True\n",
      "2.41908838814 2.41908838814 True\n",
      "2.13208945007 2.13208945007 True\n",
      "2.46912809684 2.46912809684 True\n",
      "2.8955032162 2.8955032162 True\n",
      "1.73877947222 1.73877947222 True\n",
      "3.08885584479 3.08885584479 True\n",
      "1.79423428446 1.79423428446 True\n",
      "2.61289603138 2.61289603138 True\n",
      "1.80243998642 1.80243998642 True\n",
      "2.70513648332 2.70513648332 True\n",
      "2.93566070878 2.93566070878 True\n",
      "2.80857906983 2.80857906983 True\n",
      "2.3695535401 2.3695535401 True\n",
      "2.43197050246 2.43197050246 True\n",
      "2.7578383021 2.7578383021 True\n",
      "2.17838894397 2.17838894397 True\n",
      "2.156178794 2.156178794 True\n",
      "2.74622871802 2.74622871802 True\n",
      "1.84996145634 1.84996145634 True\n",
      "2.4503815229 2.4503815229 True\n",
      "2.16492300611 2.16492300611 True\n",
      "2.85184914394 2.85184914394 True\n",
      "2.07267746099 2.07267746099 True\n",
      "2.34524739793 2.34524739793 True\n",
      "3.44834856795 3.44834856795 True\n",
      "2.33583124236 2.33583124236 True\n",
      "2.40151474157 2.40151474157 True\n",
      "1.86786514059 1.86786514059 True\n",
      "2.65612331831 2.65612331831 True\n",
      "2.89040163803 2.89040163803 True\n",
      "2.33383285578 2.33383285578 True\n",
      "2.56625044888 2.56625044888 True\n",
      "2.7221896836 2.7221896836 True\n",
      "3.07022627353 3.07022627353 True\n",
      "2.53660750145 2.53660750145 True\n",
      "2.11342716963 2.11342716963 True\n",
      "2.89285564834 2.89285564834 True\n",
      "2.41848602281 2.41848602281 True\n",
      "2.45520934631 2.45520934631 True\n",
      "2.75384037665 2.75384037665 True\n",
      "1.98367153086 1.98367153086 True\n",
      "2.64621725349 2.64621725349 True\n",
      "2.60251247733 2.60251247733 True\n",
      "2.55588923702 2.55588923702 True\n",
      "2.74144866089 2.74144866089 True\n",
      "2.82334099018 2.82334099018 True\n",
      "2.27189356104 2.27189356104 True\n",
      "2.12246975225 2.12246975225 True\n",
      "2.64156487301 2.64156487301 True\n",
      "2.03993085466 2.03993085466 True\n",
      "1.83287452229 1.83287452229 True\n",
      "3.18503874684 3.18503874684 True\n",
      "2.32331780494 2.32331780494 True\n",
      "2.38631670351 2.38631670351 True\n",
      "3.10470583168 3.10470583168 True\n",
      "2.6649857879 2.6649857879 True\n",
      "2.37507570128 2.37507570128 True\n",
      "2.31527704748 2.31527704748 True\n",
      "2.94772980058 2.94772980058 True\n",
      "2.74180976029 2.74180976029 True\n",
      "2.39322603678 2.39322603678 True\n",
      "2.64191729972 2.64191729972 True\n",
      "2.4947853921 2.4947853921 True\n",
      "2.4867366044 2.4867366044 True\n",
      "2.31449216089 2.31449216089 True\n",
      "3.15466022302 3.15466022302 True\n",
      "3.04821027119 3.04821027119 True\n",
      "2.70583804804 2.70583804804 True\n",
      "2.39347030773 2.39347030773 True\n",
      "3.02450712455 3.02450712455 True\n",
      "2.33543441514 2.33543441514 True\n",
      "2.4166563605 2.4166563605 True\n",
      "1.94253918389 1.94253918389 True\n",
      "2.80985947607 2.80985947607 True\n",
      "2.57825572271 2.57825572271 True\n",
      "2.33194733403 2.33194733403 True\n",
      "2.00066062608 2.00066062608 True\n",
      "2.30030749459 2.30030749459 True\n",
      "3.00715533302 3.00715533302 True\n",
      "2.85460110488 2.85460110488 True\n",
      "2.15809350842 2.15809350842 True\n",
      "2.69809435684 2.69809435684 True\n",
      "2.40573463849 2.40573463849 True\n",
      "2.71583011021 2.71583011021 True\n",
      "2.19410627368 2.19410627368 True\n",
      "2.79031396154 2.79031396154 True\n",
      "2.19550719477 2.19550719477 True\n",
      "2.46523281074 2.46523281074 True\n",
      "2.53487519334 2.53487519334 True\n",
      "1.61206479416 1.61206479416 True\n",
      "3.11201410907 3.11201410907 True\n",
      "2.06949779355 2.06949779355 True\n",
      "2.83344872684 2.83344872684 True\n",
      "2.45607880792 2.45607880792 True\n",
      "2.70085283309 2.70085283309 True\n",
      "2.27430295138 2.27430295138 True\n",
      "2.26886457511 2.26886457511 True\n",
      "2.84317677215 2.84317677215 True\n",
      "2.7751024007 2.7751024007 True\n",
      "1.80907536944 1.80907536944 True\n",
      "2.36970460999 2.36970460999 True\n",
      "2.41227848754 2.41227848754 True\n",
      "2.10926079622 2.10926079622 True\n",
      "500\n"
     ]
    }
   ],
   "source": [
    "counter = 0\n",
    "for row_x, row_y in zip(emu1.x, emu1.y):\n",
    "    if not all(row_x == or_x_col[counter]):\n",
    "        continue\n",
    "    print row_y, or_col[counter], row_y==or_col[counter]\n",
    "    counter+=1\n",
    "    if counter == len(or_x_col):\n",
    "        break\n",
    "print counter"
   ]
  },
  {
   "cell_type": "code",
   "execution_count": null,
   "metadata": {
    "collapsed": true
   },
   "outputs": [],
   "source": []
  }
 ],
 "metadata": {
  "kernelspec": {
   "display_name": "Python [conda env:hodemulator]",
   "language": "python",
   "name": "conda-env-hodemulator-py"
  },
  "language_info": {
   "codemirror_mode": {
    "name": "ipython",
    "version": 2
   },
   "file_extension": ".py",
   "mimetype": "text/x-python",
   "name": "python",
   "nbconvert_exporter": "python",
   "pygments_lexer": "ipython2",
   "version": "2.7.13"
  }
 },
 "nbformat": 4,
 "nbformat_minor": 0
}
