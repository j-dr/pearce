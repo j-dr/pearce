{
 "cells": [
  {
   "cell_type": "raw",
   "metadata": {
    "collapsed": false
   },
   "source": [
    "%load_ext autoreload\n",
    "%autoreload 2"
   ]
  },
  {
   "cell_type": "code",
   "execution_count": 1,
   "metadata": {
    "collapsed": false
   },
   "outputs": [
    {
     "name": "stdout",
     "output_type": "stream",
     "text": [
      "The history saving thread hit an unexpected error (DatabaseError('database disk image is malformed',)).History will not be written to the database.\n",
      "  assembias cc90f59 [ahead 1] checking out to make some plots\n",
      "* master    c82f359 resyncing these bin files.\n"
     ]
    }
   ],
   "source": [
    "%%bash\n",
    "git branch -v "
   ]
  },
  {
   "cell_type": "code",
   "execution_count": 2,
   "metadata": {
    "collapsed": false
   },
   "outputs": [],
   "source": [
    "from pearce.emulator import OriginalRecipe, ExtraCrispy, SpicyBuffalo\n",
    "from pearce.emulator import parameter, DEFAULT_PARAMS as PARAMS"
   ]
  },
  {
   "cell_type": "code",
   "execution_count": 3,
   "metadata": {
    "collapsed": false
   },
   "outputs": [],
   "source": [
    "import numpy as np\n",
    "from matplotlib import pyplot as plt\n",
    "%matplotlib inline\n",
    "import seaborn as sns\n",
    "sns.set()\n",
    "from itertools import cycle\n",
    "colors = cycle(sns.color_palette())"
   ]
  },
  {
   "cell_type": "code",
   "execution_count": 4,
   "metadata": {
    "collapsed": true
   },
   "outputs": [],
   "source": [
    "training_dir = '/u/ki/swmclau2/des/PearceLHC_wp_z/'\n",
    "fiducial_params = {'logM0': 12.20, 'logM1': 13.7, 'alpha': 1.02,\n",
    "                      'logMmin': 12.1, 'f_c': 0.19, 'sigma_logM': 0.46}\n",
    "rbins = np.array([  0.06309573,   0.12437607,   0.24517359,   0.34422476, 0.48329302, 0.67854546,\\\n",
    "           0.9526807 , 1.33756775,1.8779508 ,   2.6366509 ,   3.70186906,   5.19743987, 7.29722764, \\\n",
    "           10.24533859,  14.38449888,  20.1958975 , 28.35512583,  39.81071706] )\n",
    "rpoints = (rbins[1:]+rbins[:-1])/2"
   ]
  },
  {
   "cell_type": "code",
   "execution_count": 5,
   "metadata": {
    "collapsed": true
   },
   "outputs": [],
   "source": [
    "y_param = 'logMmin'\n",
    "emulation_point = [('f_c', 0.233), ('logM0', 12.0), ('sigma_logM', 0.533), \n",
    "                   ('alpha', 1.083),('logM1', 13.5), ('logMmin', 12.233), ('z', 0.5)]\n",
    "em_params = dict(emulation_point)\n",
    "try:\n",
    "    del em_params[y_param]\n",
    "except KeyError:\n",
    "    pass"
   ]
  },
  {
   "cell_type": "code",
   "execution_count": 6,
   "metadata": {
    "collapsed": true
   },
   "outputs": [],
   "source": [
    "or_params = PARAMS[:]\n",
    "or_params.append(parameter('z', 0.0, 0.5))\n",
    "or_params.append(parameter('r', 0, 1)) #95% sure bounds aren't used for r"
   ]
  },
  {
   "cell_type": "code",
   "execution_count": 7,
   "metadata": {
    "collapsed": false
   },
   "outputs": [],
   "source": [
    "y_param_idx = -1\n",
    "for idx, p in enumerate(or_params):\n",
    "    if p.name==y_param:\n",
    "        y_param_idx = idx\n",
    "        break\n",
    "        \n",
    "y_vals = np.linspace(or_params[y_param_idx].low, or_params[y_param_idx].high, 4)\n",
    "em_params[y_param] = y_vals"
   ]
  },
  {
   "cell_type": "code",
   "execution_count": 8,
   "metadata": {
    "collapsed": false
   },
   "outputs": [
    {
     "name": "stdout",
     "output_type": "stream",
     "text": [
      "[ 11.7         11.96666667  12.23333333  12.5       ]\n"
     ]
    }
   ],
   "source": [
    "print em_params[y_param]"
   ]
  },
  {
   "cell_type": "code",
   "execution_count": null,
   "metadata": {
    "collapsed": false
   },
   "outputs": [
    {
     "name": "stdout",
     "output_type": "stream",
     "text": [
      "{'logMmin': array([ 11.7       ,  11.96666667,  12.23333333,  12.5       ]), 'f_c': 0.233, 'logM0': 12.0, 'sigma_logM': 0.533, 'logM1': 13.5, 'alpha': 1.083, 'z': 0.5}\n"
     ]
    }
   ],
   "source": [
    "print em_params"
   ]
  },
  {
   "cell_type": "raw",
   "metadata": {
    "collapsed": true
   },
   "source": [
    "em_params['z'] = 0.0"
   ]
  },
  {
   "cell_type": "code",
   "execution_count": null,
   "metadata": {
    "collapsed": false
   },
   "outputs": [],
   "source": [
    "emu1 = OriginalRecipe(training_dir,params=or_params)"
   ]
  },
  {
   "cell_type": "raw",
   "metadata": {
    "collapsed": false
   },
   "source": [
    "emu1 = ExtraCrispy(training_dir)"
   ]
  },
  {
   "cell_type": "code",
   "execution_count": null,
   "metadata": {
    "collapsed": true
   },
   "outputs": [],
   "source": [
    "rpoints = np.logspace(np.log10(rbins[1]), np.log10(rbins[-2]), 50)"
   ]
  },
  {
   "cell_type": "code",
   "execution_count": null,
   "metadata": {
    "collapsed": false
   },
   "outputs": [],
   "source": [
    "log_xi_pred= emu1.emulate_wrt_r(em_params, rpoints)\n",
    "#log_xi_cov = np.zeros((log_xi_pred.shape[0], log_xi_pred.shape[0]))\n",
    "#log_xi_err = np.sqrt(np.diag(log_xi_cov))\n",
    "#log_xi_pred = log_xi_pred.reshape((-1, len(rpoints)))\n",
    "#log_xi_err = log_xi_err.reshape((-1, len(rpoints)))\n",
    "log_xi_err = np.zeros_like(log_xi_pred)"
   ]
  },
  {
   "cell_type": "raw",
   "metadata": {
    "collapsed": false
   },
   "source": [
    "print log_xi_pred.shape"
   ]
  },
  {
   "cell_type": "raw",
   "metadata": {
    "collapsed": false
   },
   "source": [
    "log_xi_pred[[0,-1], :] = log_xi_pred[[-1,0],:]"
   ]
  },
  {
   "cell_type": "raw",
   "metadata": {
    "collapsed": false
   },
   "source": [
    "truth_dir = '/u/ki/swmclau2/des/PearceLHC_wp_z/'\n",
    "plot_r, plot_xi, plot_xi_err = emu1.get_plot_data(em_params,truth_dir, independent_variable=None)"
   ]
  },
  {
   "cell_type": "raw",
   "metadata": {
    "collapsed": false
   },
   "source": [
    "plot_xi.shape, plot_r.shape, plot_xi_err.shape"
   ]
  },
  {
   "cell_type": "raw",
   "metadata": {
    "collapsed": false
   },
   "source": [
    "fig = plt.figure(figsize = (10, 10))\n",
    "for label, lxp, lxe,pr, px, err,c in zip(y_vals, log_xi_pred, log_xi_err ,plot_r, plot_xi,plot_xi_err,colors):\n",
    "\n",
    "    plt.plot(rpoints, lxp,label = '%.3f'%label, color = c )\n",
    "\n",
    "    plt.fill_between(rpoints,lxp+lxe,\n",
    "                     lxp-lxe, color = c, alpha = 0.3)\n",
    "\n",
    "    plt.errorbar(10**pr, px,err, color =c,fmt = 'o')\n",
    "\n",
    "plt.xlim(xmin = 0.1, xmax = 30)    \n",
    "plt.ylim(ymin = -2, ymax = 4)\n",
    "plt.title(\"OR Emulator w.r.t. %s\"%y_param, fontsize =20)\n",
    "#plt.loglog()\n",
    "plt.xscale('log')\n",
    "plt.xticks(fontsize=20)\n",
    "plt.yticks(fontsize=20)\n",
    "plt.xlabel(r'$r $  $\\rm{[Mpc]}$', fontsize=25)\n",
    "plt.ylabel(r'$\\log_{10}{\\xi_{\\rm gg}(r) }$', fontsize=25)\n",
    "plt.legend(loc='best', fontsize=25)"
   ]
  },
  {
   "cell_type": "code",
   "execution_count": null,
   "metadata": {
    "collapsed": false
   },
   "outputs": [],
   "source": [
    "fig = plt.figure(figsize = (10, 10))\n",
    "for label, lxp, lxe,c in zip(y_vals, log_xi_pred, log_xi_err ,colors):\n",
    "\n",
    "    plt.plot(rpoints, lxp,label = 'z= %.3f'%label, color = c )\n",
    "\n",
    "    plt.fill_between(rpoints,lxp+lxe,\n",
    "                     lxp-lxe, color = c, alpha = 0.3)\n",
    "\n",
    "plt.xlim(xmin = 0.1, xmax = 30)    \n",
    "plt.ylim(ymin = 0, ymax = 3.5)\n",
    "plt.title(\"OR Emulator w.r.t. %s\"%y_param, fontsize =20)\n",
    "#plt.loglog()\n",
    "plt.xscale('log')\n",
    "plt.xticks(fontsize=20)\n",
    "plt.yticks(fontsize=20)\n",
    "plt.xlabel(r'$r $  $\\rm{[Mpc]}$', fontsize=25)\n",
    "plt.ylabel(r'$\\log_{10}{w_p(r_p) }$', fontsize=25)\n",
    "plt.legend(loc='best', fontsize=25)"
   ]
  },
  {
   "cell_type": "code",
   "execution_count": null,
   "metadata": {
    "collapsed": false
   },
   "outputs": [],
   "source": [
    "em_params"
   ]
  },
  {
   "cell_type": "code",
   "execution_count": null,
   "metadata": {
    "collapsed": false
   },
   "outputs": [],
   "source": [
    "x = np.array([[[range(10)], [range(10,21)], [range(20, 31)], [range(30,41)]],\n",
    "             [[range(5,11)], [range(15,26)], [range(25, 36)], [range(35,46)]]])\n",
    "print x\n",
    "print x.shape\n",
    "print x[:, 0]"
   ]
  },
  {
   "cell_type": "code",
   "execution_count": null,
   "metadata": {
    "collapsed": false
   },
   "outputs": [],
   "source": [
    "x[:, range(x.shape[0]), :] = x[:, range(x.shape[0]-1, -1, -1), :]\n",
    "print x\n",
    "print x[:, 0]"
   ]
  },
  {
   "cell_type": "code",
   "execution_count": null,
   "metadata": {
    "collapsed": false
   },
   "outputs": [],
   "source": [
    "emu2 = ExtraCrispy(training_dir)#no r in params"
   ]
  },
  {
   "cell_type": "code",
   "execution_count": null,
   "metadata": {
    "collapsed": false
   },
   "outputs": [],
   "source": [
    "emu1.x[:34, -2:]"
   ]
  },
  {
   "cell_type": "code",
   "execution_count": null,
   "metadata": {
    "collapsed": false
   },
   "outputs": [],
   "source": [
    "print emu2.redshift_bin_centers\n",
    "print emu2.y[0, :, 0]\n",
    "print emu2.y[0, 0, :]"
   ]
  },
  {
   "cell_type": "code",
   "execution_count": null,
   "metadata": {
    "collapsed": true
   },
   "outputs": [],
   "source": [
    "rpoints = emu2.scale_bin_centers\n",
    "em_params['z'] = np.array([emu2.redshift_bin_centers[0]])"
   ]
  },
  {
   "cell_type": "code",
   "execution_count": null,
   "metadata": {
    "collapsed": false
   },
   "outputs": [],
   "source": [
    "log_xi_pred = emu2.emulate_wrt_r(em_params,rpoints)\n",
    "#log_xi_cov = np.zeros((log_xi_pred.shape[0], log_xi_pred.shape[0]))\n",
    "#log_xi_err = np.sqrt(np.diag(log_xi_cov))\n",
    "#print log_xi_pred\n",
    "#log_xi_pred = log_xi_pred.reshape((-1, len(rpoints)))\n",
    "#log_xi_err = log_xi_err.reshape((-1, len(rpoints)))\n",
    "log_xi_err = np.zeros(log_xi_pred.shape)"
   ]
  },
  {
   "cell_type": "code",
   "execution_count": null,
   "metadata": {
    "collapsed": false
   },
   "outputs": [],
   "source": [
    "print log_xi_pred"
   ]
  },
  {
   "cell_type": "raw",
   "metadata": {
    "collapsed": false
   },
   "source": [
    "fig = plt.figure(figsize = (10, 10))\n",
    "for label, lxp, lxe,pr, px, err,c in zip(y_vals, log_xi_pred, log_xi_err ,plot_r, plot_xi,plot_xi_err,colors):\n",
    "\n",
    "    plt.plot(rpoints, lxp,label = '%.3f'%label, color = c )\n",
    "\n",
    "    plt.fill_between(rpoints,lxp+lxe,\n",
    "                     lxp-lxe, color = c, alpha = 0.3)\n",
    "\n",
    "    plt.errorbar(10**pr, px,err, color =c,fmt = 'o')\n",
    "\n",
    "plt.xlim(xmin = 0.1, xmax = 30)    \n",
    "plt.ylim(ymin = -2, ymax = 4)\n",
    "plt.title(\"EC Emulator w.r.t. %s\"%y_param, fontsize =20)\n",
    "#plt.loglog()\n",
    "plt.xscale('log')\n",
    "plt.xticks(fontsize=20)\n",
    "plt.yticks(fontsize=20)\n",
    "plt.xlabel(r'$r $  $\\rm{[Mpc]}$', fontsize=25)\n",
    "plt.ylabel(r'$\\log_{10}{\\xi_{\\rm gg}(r) }$', fontsize=25)\n",
    "plt.legend(loc='best', fontsize=25)"
   ]
  },
  {
   "cell_type": "code",
   "execution_count": null,
   "metadata": {
    "collapsed": false
   },
   "outputs": [],
   "source": [
    "fig = plt.figure(figsize = (10, 10))\n",
    "for label, lxp, lxe,c in zip(y_vals, log_xi_pred, log_xi_err ,colors):\n",
    "\n",
    "    #plt.plot(rpoints, lxp,label = 'z= %.3f'%label, color = c )\n",
    "    plt.plot(rpoints, lxp,label = 'z= %.3f'%label, color = c )\n",
    "\n",
    "    plt.fill_between(rpoints,lxp+lxe,\n",
    "                     lxp-lxe, color = c, alpha = 0.3)\n",
    "\n",
    "plt.xlim(xmin = 0.1, xmax = 30)    \n",
    "plt.ylim(ymin = 0, ymax = 3.5)\n",
    "plt.title(\"EC Emulator w.r.t. %s\"%y_param, fontsize =20)\n",
    "#plt.loglog()\n",
    "plt.xscale('log')\n",
    "plt.xticks(fontsize=20)\n",
    "plt.yticks(fontsize=20)\n",
    "plt.xlabel(r'$r $  $\\rm{[Mpc]}$', fontsize=25)\n",
    "plt.ylabel(r'$\\log_{10}{w_p(r_p) }$', fontsize=25)\n",
    "plt.legend(loc='best', fontsize=25)"
   ]
  },
  {
   "cell_type": "code",
   "execution_count": null,
   "metadata": {
    "collapsed": false
   },
   "outputs": [],
   "source": [
    "v2  = emu2.emulators[0][0].predict(emu2.y[:, 0, 0], np.array([[ 12.5,0.533,12.,13.5,1.083 ,0.233 ]]))\n",
    "v1 = emu1.emulator.predict(emu1.y,np.array([[ 12.5,0.533,12.,13.5,1.083 ,0.233,emu2.redshift_bin_centers[0], emu2.scale_bin_centers[0] ]])) \n",
    "print v1\n",
    "print v2"
   ]
  },
  {
   "cell_type": "code",
   "execution_count": null,
   "metadata": {
    "collapsed": false
   },
   "outputs": [],
   "source": [
    "or_params = PARAMS[:]\n",
    "or_params.append(parameter('z', 0.0, 0.5))\n",
    "#or_params.append(parameter('r', 0, 1)) #95% sure bounds aren't used for r\n",
    "emu3 = SpicyBuffalo(training_dir, em_param = 'z', params = or_params)#no r in params"
   ]
  },
  {
   "cell_type": "code",
   "execution_count": null,
   "metadata": {
    "collapsed": false
   },
   "outputs": [],
   "source": [
    "print len(emu3.emulators)\n",
    "print emu3.em_bin_centers"
   ]
  },
  {
   "cell_type": "code",
   "execution_count": null,
   "metadata": {
    "collapsed": false
   },
   "outputs": [],
   "source": [
    "print em_params['z']"
   ]
  },
  {
   "cell_type": "code",
   "execution_count": null,
   "metadata": {
    "collapsed": false
   },
   "outputs": [],
   "source": [
    "log_xi_pred = emu3.emulate_wrt_r(em_params,rpoints)\n",
    "#log_xi_cov = np.zeros((log_xi_pred.shape[0], log_xi_pred.shape[0]))\n",
    "#log_xi_err = np.sqrt(np.diag(log_xi_cov))\n",
    "#print log_xi_pred\n",
    "#log_xi_pred = log_xi_pred.reshape((-1, len(rpoints)))\n",
    "#log_xi_err = log_xi_err.reshape((-1, len(rpoints)))\n",
    "log_xi_err = np.zeros(log_xi_pred.shape)"
   ]
  },
  {
   "cell_type": "code",
   "execution_count": null,
   "metadata": {
    "collapsed": false
   },
   "outputs": [],
   "source": [
    "print log_xi_pred.shape"
   ]
  },
  {
   "cell_type": "code",
   "execution_count": null,
   "metadata": {
    "collapsed": false
   },
   "outputs": [],
   "source": [
    "print log_xi_pred[0, :]"
   ]
  },
  {
   "cell_type": "code",
   "execution_count": null,
   "metadata": {
    "collapsed": false
   },
   "outputs": [],
   "source": [
    "fig = plt.figure(figsize = (10, 10))\n",
    "for label, lxp, lxe,c in zip(y_vals, log_xi_pred, log_xi_err ,colors):\n",
    "\n",
    "    #plt.plot(rpoints, lxp,label = 'z= %.3f'%label, color = c )\n",
    "    plt.plot(rpoints, lxp,label = 'z= %.3f'%label, color = c )\n",
    "\n",
    "    plt.fill_between(rpoints,lxp+lxe,\n",
    "                     lxp-lxe, color = c, alpha = 0.3)\n",
    "\n",
    "plt.xlim(xmin = 0.1, xmax = 30)    \n",
    "plt.ylim(ymin = 0, ymax = 3.5)\n",
    "plt.title(\"SB Emulator w.r.t. %s\"%y_param, fontsize =20)\n",
    "#plt.loglog()\n",
    "plt.xscale('log')\n",
    "plt.xticks(fontsize=20)\n",
    "plt.yticks(fontsize=20)\n",
    "plt.xlabel(r'$r $  $\\rm{[Mpc]}$', fontsize=25)\n",
    "plt.ylabel(r'$\\log_{10}{w_p(r_p) }$', fontsize=25)\n",
    "plt.legend(loc='best', fontsize=25)"
   ]
  },
  {
   "cell_type": "code",
   "execution_count": null,
   "metadata": {
    "collapsed": false
   },
   "outputs": [],
   "source": [
    "emu1.x.shape"
   ]
  },
  {
   "cell_type": "code",
   "execution_count": null,
   "metadata": {
    "collapsed": false
   },
   "outputs": [],
   "source": [
    "emu1.x[:34,-2:]"
   ]
  },
  {
   "cell_type": "code",
   "execution_count": null,
   "metadata": {
    "collapsed": false
   },
   "outputs": [],
   "source": [
    "emu1.y.shape"
   ]
  },
  {
   "cell_type": "code",
   "execution_count": null,
   "metadata": {
    "collapsed": false
   },
   "outputs": [],
   "source": [
    "emu2.y.shape"
   ]
  },
  {
   "cell_type": "code",
   "execution_count": null,
   "metadata": {
    "collapsed": true
   },
   "outputs": [],
   "source": [
    "idx1, idx2 = 0,0"
   ]
  },
  {
   "cell_type": "code",
   "execution_count": null,
   "metadata": {
    "collapsed": false
   },
   "outputs": [],
   "source": [
    "print emu1.x[idx1,-1]\n",
    "print emu1.x[idx2*len(emu1.x)/2, -2]"
   ]
  },
  {
   "cell_type": "code",
   "execution_count": null,
   "metadata": {
    "collapsed": false
   },
   "outputs": [],
   "source": [
    "ec_col = emu2.y[:,idx2, idx1 ]\n",
    "or_col = emu1.y[np.logical_and(emu1.x[:, -1]==emu1.x[idx1,-1], emu1.x[:, -2] == emu1.x[idx2*len(emu1.x)/2, -2] ) ]"
   ]
  },
  {
   "cell_type": "code",
   "execution_count": null,
   "metadata": {
    "collapsed": false
   },
   "outputs": [],
   "source": [
    "print or_col.shape\n",
    "print ec_col.shape"
   ]
  },
  {
   "cell_type": "code",
   "execution_count": null,
   "metadata": {
    "collapsed": false
   },
   "outputs": [],
   "source": [
    "np.all(or_col == ec_col)"
   ]
  },
  {
   "cell_type": "code",
   "execution_count": null,
   "metadata": {
    "collapsed": false
   },
   "outputs": [],
   "source": [
    "ec_col[:10]"
   ]
  },
  {
   "cell_type": "code",
   "execution_count": null,
   "metadata": {
    "collapsed": false
   },
   "outputs": [],
   "source": [
    "or_col[:10]"
   ]
  },
  {
   "cell_type": "code",
   "execution_count": null,
   "metadata": {
    "collapsed": true
   },
   "outputs": [],
   "source": [
    "from copy import deepcopy"
   ]
  },
  {
   "cell_type": "code",
   "execution_count": null,
   "metadata": {
    "collapsed": true
   },
   "outputs": [],
   "source": [
    "new_y = deepcopy(emu1.y)"
   ]
  },
  {
   "cell_type": "code",
   "execution_count": null,
   "metadata": {
    "collapsed": false
   },
   "outputs": [],
   "source": [
    "new_y = new_y.reshape((-1, 17))"
   ]
  },
  {
   "cell_type": "code",
   "execution_count": null,
   "metadata": {
    "collapsed": false
   },
   "outputs": [],
   "source": [
    "print new_y[:20, 0]"
   ]
  },
  {
   "cell_type": "code",
   "execution_count": null,
   "metadata": {
    "collapsed": true
   },
   "outputs": [],
   "source": [
    "new_y = new_y.reshape((-1, 2, 17), order='F')"
   ]
  },
  {
   "cell_type": "code",
   "execution_count": null,
   "metadata": {
    "collapsed": false
   },
   "outputs": [],
   "source": [
    "print new_y[:10,idx2,idx1]"
   ]
  },
  {
   "cell_type": "code",
   "execution_count": null,
   "metadata": {
    "collapsed": false
   },
   "outputs": [],
   "source": [
    "new_y.shape"
   ]
  },
  {
   "cell_type": "code",
   "execution_count": null,
   "metadata": {
    "collapsed": false
   },
   "outputs": [],
   "source": [
    "print all(new_y[:,idx2,idx1] == or_col)\n",
    "print all(new_y[:,idx2,idx1] == ec_col)"
   ]
  },
  {
   "cell_type": "code",
   "execution_count": null,
   "metadata": {
    "collapsed": false
   },
   "outputs": [],
   "source": [
    "new_y[:10,0,0]"
   ]
  },
  {
   "cell_type": "code",
   "execution_count": null,
   "metadata": {
    "collapsed": false
   },
   "outputs": [],
   "source": [
    "for idx1 in xrange(17):\n",
    "    for idx2 in xrange(2):\n",
    "        ec_col = emu2.y[:,idx2, idx1 ]\n",
    "        or_col = emu1.y[np.logical_and(emu1.x[:, -1]==emu1.x[idx1,-1], emu1.x[:, -2] == emu1.x[idx2*len(emu1.x)/2, -2] ) ]\n",
    "        new_y = deepcopy(emu1.y)\n",
    "        new_y = new_y.reshape((-1, 17))\n",
    "        new_y = new_y.reshape((-1, 2, 17), order='F')\n",
    "        print idx1, idx2, all(new_y[:,idx2,idx1] == or_col), all(new_y[:,idx2,idx1] == ec_col), all(ec_col == or_col)\n",
    "        print "
   ]
  },
  {
   "cell_type": "code",
   "execution_count": null,
   "metadata": {
    "collapsed": true
   },
   "outputs": [],
   "source": [
    "idx1, idx2 = 0,0"
   ]
  },
  {
   "cell_type": "code",
   "execution_count": null,
   "metadata": {
    "collapsed": false
   },
   "outputs": [],
   "source": [
    "print emu1.y[np.logical_and(emu1.x[:, -1]==emu1.x[idx1,-1], emu1.x[:, -2] == emu1.x[idx2*len(emu1.x)/2, -2] ) ][:10]\n",
    "print emu1.x[np.logical_and(emu1.x[:, -1]==emu1.x[idx1,-1], emu1.x[:, -2] == emu1.x[idx2*len(emu1.x)/2, -2] ), 0 ][:10]"
   ]
  },
  {
   "cell_type": "code",
   "execution_count": null,
   "metadata": {
    "collapsed": true
   },
   "outputs": [],
   "source": [
    "or_col = emu1.y[np.logical_and(emu1.x[:, -1]==emu1.x[idx1,-1], emu1.x[:, -2] == emu1.x[idx2*len(emu1.x)/2, -2] ) ]"
   ]
  },
  {
   "cell_type": "code",
   "execution_count": null,
   "metadata": {
    "collapsed": false
   },
   "outputs": [],
   "source": [
    "or_x_col = emu1.x[np.logical_and(emu1.x[:, -1]==emu1.x[idx1,-1], emu1.x[:, -2] == emu1.x[idx2*len(emu1.x)/2, -2] ) ]"
   ]
  },
  {
   "cell_type": "code",
   "execution_count": null,
   "metadata": {
    "collapsed": false
   },
   "outputs": [],
   "source": [
    "counter = 0\n",
    "for row_x, row_y in zip(emu1.x, emu1.y):\n",
    "    if not all(row_x == or_x_col[counter]):\n",
    "        continue\n",
    "    print row_y, or_col[counter], row_y==or_col[counter]\n",
    "    counter+=1\n",
    "    if counter == len(or_x_col):\n",
    "        break\n",
    "print counter"
   ]
  },
  {
   "cell_type": "code",
   "execution_count": null,
   "metadata": {
    "collapsed": true
   },
   "outputs": [],
   "source": []
  }
 ],
 "metadata": {
  "kernelspec": {
   "display_name": "Python [conda env:hodemulator]",
   "language": "python",
   "name": "conda-env-hodemulator-py"
  },
  "language_info": {
   "codemirror_mode": {
    "name": "ipython",
    "version": 2
   },
   "file_extension": ".py",
   "mimetype": "text/x-python",
   "name": "python",
   "nbconvert_exporter": "python",
   "pygments_lexer": "ipython2",
   "version": "2.7.13"
  }
 },
 "nbformat": 4,
 "nbformat_minor": 0
}
