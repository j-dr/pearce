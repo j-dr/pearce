{
 "cells": [
  {
   "cell_type": "code",
   "execution_count": 32,
   "metadata": {
    "collapsed": false
   },
   "outputs": [
    {
     "name": "stdout",
     "output_type": "stream",
     "text": [
      "The autoreload extension is already loaded. To reload it, use:\n",
      "  %reload_ext autoreload\n"
     ]
    }
   ],
   "source": [
    "%load_ext autoreload\n",
    "%autoreload 2"
   ]
  },
  {
   "cell_type": "code",
   "execution_count": 33,
   "metadata": {
    "collapsed": false
   },
   "outputs": [
    {
     "name": "stdout",
     "output_type": "stream",
     "text": [
      "* emulate_z 3b0ac55 may have fixed EC. Still a few questions.\n",
      "  master    564b960 Running another test, but switching for dev.\n"
     ]
    }
   ],
   "source": [
    "%%bash\n",
    "git branch -v "
   ]
  },
  {
   "cell_type": "code",
   "execution_count": 34,
   "metadata": {
    "collapsed": false
   },
   "outputs": [],
   "source": [
    "from pearce.emulator import OriginalRecipe, ExtraCrispy\n",
    "from pearce.emulator import parameter, DEFAULT_PARAMS as PARAMS"
   ]
  },
  {
   "cell_type": "code",
   "execution_count": 35,
   "metadata": {
    "collapsed": false
   },
   "outputs": [],
   "source": [
    "import numpy as np\n",
    "from matplotlib import pyplot as plt\n",
    "%matplotlib inline\n",
    "import seaborn as sns\n",
    "sns.set()\n",
    "from itertools import cycle\n",
    "colors = cycle(sns.color_palette())"
   ]
  },
  {
   "cell_type": "code",
   "execution_count": 36,
   "metadata": {
    "collapsed": true
   },
   "outputs": [],
   "source": [
    "training_dir = '/u/ki/swmclau2/des/PearceLHC_wp_z/'\n",
    "fiducial_params = {'logM0': 12.20, 'logM1': 13.7, 'alpha': 1.02,\n",
    "                      'logMmin': 12.1, 'f_c': 0.19, 'sigma_logM': 0.46}\n",
    "rbins = np.array([  0.06309573,   0.12437607,   0.24517359,   0.34422476, 0.48329302, 0.67854546,\\\n",
    "           0.9526807 , 1.33756775,1.8779508 ,   2.6366509 ,   3.70186906,   5.19743987, 7.29722764, \\\n",
    "           10.24533859,  14.38449888,  20.1958975 , 28.35512583,  39.81071706] )\n",
    "rpoints = (rbins[1:]+rbins[:-1])/2"
   ]
  },
  {
   "cell_type": "code",
   "execution_count": 37,
   "metadata": {
    "collapsed": true
   },
   "outputs": [],
   "source": [
    "y_param = 'z'\n",
    "emulation_point = [('f_c', 0.233), ('logM0', 12.0), ('sigma_logM', 0.533), \n",
    "                   ('alpha', 1.083),('logM1', 13.5), ('logMmin', 12.233), ('z', 0.0)]\n",
    "em_params = dict(emulation_point)\n",
    "try:\n",
    "    del em_params[y_param]\n",
    "except KeyError:\n",
    "    pass"
   ]
  },
  {
   "cell_type": "raw",
   "metadata": {
    "collapsed": false
   },
   "source": [
    "y_param_idx = -1\n",
    "for idx, p in enumerate(PARAMS):\n",
    "    if p.name==y_param:\n",
    "        y_param_idx = idx\n",
    "        break\n",
    "        \n",
    "y_vals = np.linspace(PARAMS[y_param_idx].low, PARAMS[y_param_idx].high, 4)\n",
    "em_params[y_param] = y_vals"
   ]
  },
  {
   "cell_type": "code",
   "execution_count": 38,
   "metadata": {
    "collapsed": true
   },
   "outputs": [],
   "source": [
    "or_params = PARAMS[:]\n",
    "or_params.append(parameter('z', 0.0, 0.5))\n",
    "or_params.append(parameter('r', 0, 1)) #95% sure bounds aren't used for r"
   ]
  },
  {
   "cell_type": "code",
   "execution_count": 39,
   "metadata": {
    "collapsed": false
   },
   "outputs": [],
   "source": [
    "y_param_idx = -1\n",
    "for idx, p in enumerate(or_params):\n",
    "    if p.name==y_param:\n",
    "        y_param_idx = idx\n",
    "        break\n",
    "        \n",
    "y_vals = np.linspace(or_params[y_param_idx].low, or_params[y_param_idx].high, 4)\n",
    "em_params[y_param] = y_vals"
   ]
  },
  {
   "cell_type": "code",
   "execution_count": 40,
   "metadata": {
    "collapsed": false
   },
   "outputs": [
    {
     "name": "stdout",
     "output_type": "stream",
     "text": [
      "[ 0.          0.16666667  0.33333333  0.5       ]\n"
     ]
    }
   ],
   "source": [
    "print em_params[y_param]"
   ]
  },
  {
   "cell_type": "code",
   "execution_count": 41,
   "metadata": {
    "collapsed": false
   },
   "outputs": [
    {
     "name": "stdout",
     "output_type": "stream",
     "text": [
      "7\n"
     ]
    }
   ],
   "source": [
    "print len(em_params)"
   ]
  },
  {
   "cell_type": "raw",
   "metadata": {
    "collapsed": true
   },
   "source": [
    "em_params['z'] = 0.0"
   ]
  },
  {
   "cell_type": "code",
   "execution_count": 42,
   "metadata": {
    "collapsed": false
   },
   "outputs": [],
   "source": [
    "emu1 = OriginalRecipe(training_dir,params=or_params)"
   ]
  },
  {
   "cell_type": "code",
   "execution_count": 43,
   "metadata": {
    "collapsed": false
   },
   "outputs": [
    {
     "data": {
      "text/plain": [
       "(17000, 8)"
      ]
     },
     "execution_count": 43,
     "metadata": {},
     "output_type": "execute_result"
    }
   ],
   "source": [
    "emu1.x.shape"
   ]
  },
  {
   "cell_type": "code",
   "execution_count": 44,
   "metadata": {
    "collapsed": false
   },
   "outputs": [
    {
     "name": "stdout",
     "output_type": "stream",
     "text": [
      "8\n"
     ]
    }
   ],
   "source": [
    "print len(or_params)"
   ]
  },
  {
   "cell_type": "raw",
   "metadata": {
    "collapsed": false
   },
   "source": [
    "emu1 = ExtraCrispy(training_dir)"
   ]
  },
  {
   "cell_type": "code",
   "execution_count": 45,
   "metadata": {
    "collapsed": false
   },
   "outputs": [
    {
     "name": "stdout",
     "output_type": "stream",
     "text": [
      "{'logMmin': 12.233, 'f_c': 0.233, 'logM0': 12.0, 'sigma_logM': 0.533, 'logM1': 13.5, 'alpha': 1.083, 'z': array([ 0.        ,  0.16666667,  0.33333333,  0.5       ])}\n"
     ]
    }
   ],
   "source": [
    "print em_params"
   ]
  },
  {
   "cell_type": "code",
   "execution_count": 46,
   "metadata": {
    "collapsed": false,
    "scrolled": false
   },
   "outputs": [],
   "source": [
    "rpoints = np.logspace(np.log10(rbins[1]), np.log10(rbins[-2]), 17)\n",
    "log_xi_pred= emu1.emulate_wrt_r(em_params, rpoints)\n",
    "log_xi_cov = np.zeros((log_xi_pred.shape[0], log_xi_pred.shape[0]))\n",
    "log_xi_err = np.sqrt(np.diag(log_xi_cov))\n",
    "log_xi_pred = log_xi_pred.reshape((-1, len(rpoints)))\n",
    "log_xi_err = log_xi_err.reshape((-1, len(rpoints)))"
   ]
  },
  {
   "cell_type": "raw",
   "metadata": {
    "collapsed": false
   },
   "source": [
    "log_xi_pred[[0,-1], :] = log_xi_pred[[-1,0],:]"
   ]
  },
  {
   "cell_type": "raw",
   "metadata": {
    "collapsed": false
   },
   "source": [
    "truth_dir = '/u/ki/swmclau2/des/PearceLHC_wp_z/'\n",
    "plot_r, plot_xi, plot_xi_err = emu1.get_plot_data(em_params,truth_dir, independent_variable=None)"
   ]
  },
  {
   "cell_type": "raw",
   "metadata": {
    "collapsed": false
   },
   "source": [
    "plot_xi.shape, plot_r.shape, plot_xi_err.shape"
   ]
  },
  {
   "cell_type": "raw",
   "metadata": {
    "collapsed": false
   },
   "source": [
    "fig = plt.figure(figsize = (10, 10))\n",
    "for label, lxp, lxe,pr, px, err,c in zip(y_vals, log_xi_pred, log_xi_err ,plot_r, plot_xi,plot_xi_err,colors):\n",
    "\n",
    "    plt.plot(rpoints, lxp,label = '%.3f'%label, color = c )\n",
    "\n",
    "    plt.fill_between(rpoints,lxp+lxe,\n",
    "                     lxp-lxe, color = c, alpha = 0.3)\n",
    "\n",
    "    plt.errorbar(10**pr, px,err, color =c,fmt = 'o')\n",
    "\n",
    "plt.xlim(xmin = 0.1, xmax = 30)    \n",
    "plt.ylim(ymin = -2, ymax = 4)\n",
    "plt.title(\"OR Emulator w.r.t. %s\"%y_param, fontsize =20)\n",
    "#plt.loglog()\n",
    "plt.xscale('log')\n",
    "plt.xticks(fontsize=20)\n",
    "plt.yticks(fontsize=20)\n",
    "plt.xlabel(r'$r $  $\\rm{[Mpc]}$', fontsize=25)\n",
    "plt.ylabel(r'$\\log_{10}{\\xi_{\\rm gg}(r) }$', fontsize=25)\n",
    "plt.legend(loc='best', fontsize=25)"
   ]
  },
  {
   "cell_type": "code",
   "execution_count": 47,
   "metadata": {
    "collapsed": false,
    "scrolled": false
   },
   "outputs": [
    {
     "data": {
      "text/plain": [
       "<matplotlib.legend.Legend at 0x7f6aa7650e90>"
      ]
     },
     "execution_count": 47,
     "metadata": {},
     "output_type": "execute_result"
    },
    {
     "data": {
      "image/png": "[encoded data removed]",
      "text/plain": [
       "<matplotlib.figure.Figure at 0x7f6aa7650910>"
      ]
     },
     "metadata": {},
     "output_type": "display_data"
    }
   ],
   "source": [
    "fig = plt.figure(figsize = (10, 10))\n",
    "for label, lxp, lxe,c in zip(y_vals, log_xi_pred, log_xi_err ,colors):\n",
    "\n",
    "    plt.plot(rpoints, lxp,label = 'z= %.3f'%label, color = c )\n",
    "\n",
    "    plt.fill_between(rpoints,lxp+lxe,\n",
    "                     lxp-lxe, color = c, alpha = 0.3)\n",
    "\n",
    "plt.xlim(xmin = 0.1, xmax = 30)    \n",
    "plt.ylim(ymin = 0, ymax = 3.5)\n",
    "plt.title(\"OR Emulator w.r.t. %s\"%y_param, fontsize =20)\n",
    "#plt.loglog()\n",
    "plt.xscale('log')\n",
    "plt.xticks(fontsize=20)\n",
    "plt.yticks(fontsize=20)\n",
    "plt.xlabel(r'$r $  $\\rm{[Mpc]}$', fontsize=25)\n",
    "plt.ylabel(r'$\\log_{10}{w_p(r_p) }$', fontsize=25)\n",
    "plt.legend(loc='best', fontsize=25)"
   ]
  },
  {
   "cell_type": "code",
   "execution_count": 48,
   "metadata": {
    "collapsed": false
   },
   "outputs": [
    {
     "data": {
      "text/plain": [
       "{'alpha': 1.083,\n",
       " 'f_c': 0.233,\n",
       " 'logM0': 12.0,\n",
       " 'logM1': 13.5,\n",
       " 'logMmin': 12.233,\n",
       " 'sigma_logM': 0.533,\n",
       " 'z': array([ 0.        ,  0.16666667,  0.33333333,  0.5       ])}"
      ]
     },
     "execution_count": 48,
     "metadata": {},
     "output_type": "execute_result"
    }
   ],
   "source": [
    "em_params"
   ]
  },
  {
   "cell_type": "code",
   "execution_count": 49,
   "metadata": {
    "collapsed": false
   },
   "outputs": [],
   "source": [
    "emu2 = ExtraCrispy(training_dir)#no r in params"
   ]
  },
  {
   "cell_type": "code",
   "execution_count": 50,
   "metadata": {
    "collapsed": true
   },
   "outputs": [],
   "source": [
    "rpoints = np.logspace(np.log10(emu2.scale_bin_centers[1]), np.log10(emu2.scale_bin_centers[-2]), 200)"
   ]
  },
  {
   "cell_type": "raw",
   "metadata": {
    "collapsed": true
   },
   "source": [
    "rpoints = emu2.scale_bin_centers\n",
    "em_params['z'] = emu2.redshift_bin_centers"
   ]
  },
  {
   "cell_type": "code",
   "execution_count": 51,
   "metadata": {
    "collapsed": false
   },
   "outputs": [
    {
     "data": {
      "text/plain": [
       "500"
      ]
     },
     "execution_count": 51,
     "metadata": {},
     "output_type": "execute_result"
    }
   ],
   "source": [
    "8500/17"
   ]
  },
  {
   "cell_type": "code",
   "execution_count": 52,
   "metadata": {
    "collapsed": false
   },
   "outputs": [
    {
     "data": {
      "text/plain": [
       "(500, 6)"
      ]
     },
     "execution_count": 52,
     "metadata": {},
     "output_type": "execute_result"
    }
   ],
   "source": [
    "emu2.x.shape"
   ]
  },
  {
   "cell_type": "code",
   "execution_count": 53,
   "metadata": {
    "collapsed": false
   },
   "outputs": [
    {
     "name": "stdout",
     "output_type": "stream",
     "text": [
      "[[<george.gp.GP object at 0x7f6aa7970ad0>, <george.gp.GP object at 0x7f6aa76dc350>, <george.gp.GP object at 0x7f6aa7650710>, <george.gp.GP object at 0x7f6aa578b050>, <george.gp.GP object at 0x7f6aa79ef510>, <george.gp.GP object at 0x7f6aa79ef3d0>, <george.gp.GP object at 0x7f6aa79ef8d0>, <george.gp.GP object at 0x7f6aa79efd50>, <george.gp.GP object at 0x7f6aa57920d0>, <george.gp.GP object at 0x7f6aa5792250>, <george.gp.GP object at 0x7f6aa57923d0>, <george.gp.GP object at 0x7f6aa5792550>, <george.gp.GP object at 0x7f6aa57926d0>, <george.gp.GP object at 0x7f6aa5792850>, <george.gp.GP object at 0x7f6aa57929d0>, <george.gp.GP object at 0x7f6aa5792b50>, <george.gp.GP object at 0x7f6aa5792cd0>], [<george.gp.GP object at 0x7f6aa7a0c550>, <george.gp.GP object at 0x7f6aa7650590>, <george.gp.GP object at 0x7f6aa79ec890>, <george.gp.GP object at 0x7f6aa79efe90>, <george.gp.GP object at 0x7f6aa79ef9d0>, <george.gp.GP object at 0x7f6aa79efbd0>, <george.gp.GP object at 0x7f6aa79ef490>, <george.gp.GP object at 0x7f6aa79eff90>, <george.gp.GP object at 0x7f6aa5792190>, <george.gp.GP object at 0x7f6aa5792310>, <george.gp.GP object at 0x7f6aa5792490>, <george.gp.GP object at 0x7f6aa5792610>, <george.gp.GP object at 0x7f6aa5792790>, <george.gp.GP object at 0x7f6aa5792910>, <george.gp.GP object at 0x7f6aa5792a90>, <george.gp.GP object at 0x7f6aa5792c10>, <george.gp.GP object at 0x7f6aa5792d90>]]\n"
     ]
    }
   ],
   "source": [
    "print emu2.emulators"
   ]
  },
  {
   "cell_type": "code",
   "execution_count": 54,
   "metadata": {
    "collapsed": false
   },
   "outputs": [
    {
     "name": "stdout",
     "output_type": "stream",
     "text": [
      "['logMmin', 'f_c', 'logM0', 'sigma_logM', 'logM1', 'alpha', 'z']\n"
     ]
    }
   ],
   "source": [
    "print em_params.keys()"
   ]
  },
  {
   "cell_type": "code",
   "execution_count": 55,
   "metadata": {
    "collapsed": false
   },
   "outputs": [
    {
     "name": "stdout",
     "output_type": "stream",
     "text": [
      "(1, 17, 2)\n",
      "(34,)\n"
     ]
    },
    {
     "ename": "IndexError",
     "evalue": "index 1 is out of bounds for axis 0 with size 1",
     "output_type": "error",
     "traceback": [
      "\u001b[1;31m---------------------------------------------------------------------------\u001b[0m",
      "\u001b[1;31mIndexError\u001b[0m                                Traceback (most recent call last)",
      "\u001b[1;32m<ipython-input-55-5571f8fb226b>\u001b[0m in \u001b[0;36m<module>\u001b[1;34m()\u001b[0m\n\u001b[1;32m----> 1\u001b[1;33m \u001b[0mlog_xi_pred\u001b[0m \u001b[1;33m=\u001b[0m \u001b[0memu2\u001b[0m\u001b[1;33m.\u001b[0m\u001b[0memulate_wrt_r\u001b[0m\u001b[1;33m(\u001b[0m\u001b[0mem_params\u001b[0m\u001b[1;33m,\u001b[0m\u001b[0mrpoints\u001b[0m\u001b[1;33m)\u001b[0m\u001b[1;33m\u001b[0m\u001b[0m\n\u001b[0m\u001b[0;32m      2\u001b[0m \u001b[1;31m#log_xi_cov = np.zeros((log_xi_pred.shape[0], log_xi_pred.shape[0]))\u001b[0m\u001b[1;33m\u001b[0m\u001b[1;33m\u001b[0m\u001b[0m\n\u001b[0;32m      3\u001b[0m \u001b[0mlog_xi_err\u001b[0m \u001b[1;33m=\u001b[0m \u001b[0mnp\u001b[0m\u001b[1;33m.\u001b[0m\u001b[0msqrt\u001b[0m\u001b[1;33m(\u001b[0m\u001b[0mnp\u001b[0m\u001b[1;33m.\u001b[0m\u001b[0mdiag\u001b[0m\u001b[1;33m(\u001b[0m\u001b[0mlog_xi_cov\u001b[0m\u001b[1;33m)\u001b[0m\u001b[1;33m)\u001b[0m\u001b[1;33m\u001b[0m\u001b[0m\n\u001b[0;32m      4\u001b[0m \u001b[1;31m#print log_xi_pred\u001b[0m\u001b[1;33m\u001b[0m\u001b[1;33m\u001b[0m\u001b[0m\n\u001b[0;32m      5\u001b[0m \u001b[0mlog_xi_pred\u001b[0m \u001b[1;33m=\u001b[0m \u001b[0mlog_xi_pred\u001b[0m\u001b[1;33m.\u001b[0m\u001b[0mreshape\u001b[0m\u001b[1;33m(\u001b[0m\u001b[1;33m(\u001b[0m\u001b[1;33m-\u001b[0m\u001b[1;36m1\u001b[0m\u001b[1;33m,\u001b[0m \u001b[0mlen\u001b[0m\u001b[1;33m(\u001b[0m\u001b[0mrpoints\u001b[0m\u001b[1;33m)\u001b[0m\u001b[1;33m)\u001b[0m\u001b[1;33m)\u001b[0m\u001b[1;33m\u001b[0m\u001b[0m\n",
      "\u001b[1;32m/u/ki/swmclau2/.conda/envs/hodemulator/lib/python2.7/site-packages/pearce/emulator/emu.pyc\u001b[0m in \u001b[0;36memulate_wrt_r\u001b[1;34m(self, em_params, r_bin_centers, gp_err)\u001b[0m\n\u001b[0;32m    466\u001b[0m             \u001b[1;32mpass\u001b[0m\u001b[1;33m\u001b[0m\u001b[0m\n\u001b[0;32m    467\u001b[0m \u001b[1;33m\u001b[0m\u001b[0m\n\u001b[1;32m--> 468\u001b[1;33m         \u001b[1;32mreturn\u001b[0m \u001b[0mself\u001b[0m\u001b[1;33m.\u001b[0m\u001b[0memulate_wrt_r_z\u001b[0m\u001b[1;33m(\u001b[0m\u001b[0mep\u001b[0m\u001b[1;33m,\u001b[0m \u001b[0mr_bin_centers\u001b[0m\u001b[1;33m,\u001b[0m \u001b[0mz_bin_centers\u001b[0m\u001b[1;33m,\u001b[0m \u001b[0mgp_err\u001b[0m\u001b[1;33m)\u001b[0m\u001b[1;33m\u001b[0m\u001b[0m\n\u001b[0m\u001b[0;32m    469\u001b[0m \u001b[1;33m\u001b[0m\u001b[0m\n\u001b[0;32m    470\u001b[0m     \u001b[1;32mdef\u001b[0m \u001b[0memulate_wrt_z\u001b[0m\u001b[1;33m(\u001b[0m\u001b[0mself\u001b[0m\u001b[1;33m,\u001b[0m \u001b[0mem_params\u001b[0m\u001b[1;33m,\u001b[0m \u001b[0mz_bin_centers\u001b[0m\u001b[1;33m,\u001b[0m \u001b[0mgp_err\u001b[0m\u001b[1;33m=\u001b[0m\u001b[0mFalse\u001b[0m\u001b[1;33m)\u001b[0m\u001b[1;33m:\u001b[0m\u001b[1;33m\u001b[0m\u001b[0m\n",
      "\u001b[1;32m/u/ki/swmclau2/.conda/envs/hodemulator/lib/python2.7/site-packages/pearce/emulator/emu.pyc\u001b[0m in \u001b[0;36memulate_wrt_r_z\u001b[1;34m(self, em_params, r_bin_centers, z_bin_centers, gp_errs, kind)\u001b[0m\n\u001b[0;32m   1321\u001b[0m \u001b[1;33m\u001b[0m\u001b[0m\n\u001b[0;32m   1322\u001b[0m         \u001b[1;32mif\u001b[0m \u001b[0mall_mu\u001b[0m\u001b[1;33m.\u001b[0m\u001b[0mshape\u001b[0m\u001b[1;33m[\u001b[0m\u001b[1;36m0\u001b[0m\u001b[1;33m]\u001b[0m \u001b[1;33m==\u001b[0m \u001b[1;36m1\u001b[0m \u001b[1;32mor\u001b[0m \u001b[0mlen\u001b[0m\u001b[1;33m(\u001b[0m\u001b[0mall_mu\u001b[0m\u001b[1;33m.\u001b[0m\u001b[0mshape\u001b[0m\u001b[1;33m)\u001b[0m\u001b[1;33m==\u001b[0m\u001b[1;36m1\u001b[0m\u001b[1;33m:\u001b[0m  \u001b[1;31m# just one calculation\u001b[0m\u001b[1;33m\u001b[0m\u001b[0m\n\u001b[1;32m-> 1323\u001b[1;33m             \u001b[0mxi_interpolator\u001b[0m \u001b[1;33m=\u001b[0m \u001b[0minterp2d\u001b[0m\u001b[1;33m(\u001b[0m\u001b[0mself\u001b[0m\u001b[1;33m.\u001b[0m\u001b[0mscale_bin_centers\u001b[0m\u001b[1;33m,\u001b[0m \u001b[0mself\u001b[0m\u001b[1;33m.\u001b[0m\u001b[0mredshift_bin_centers\u001b[0m\u001b[1;33m,\u001b[0m \u001b[0mall_mu\u001b[0m\u001b[1;33m,\u001b[0m \u001b[0mkind\u001b[0m\u001b[1;33m=\u001b[0m\u001b[0mkind\u001b[0m\u001b[1;33m)\u001b[0m\u001b[1;33m\u001b[0m\u001b[0m\n\u001b[0m\u001b[0;32m   1324\u001b[0m             \u001b[0mnew_mu\u001b[0m \u001b[1;33m=\u001b[0m \u001b[0mxi_interpolator\u001b[0m\u001b[1;33m(\u001b[0m\u001b[0mr_bin_centers\u001b[0m\u001b[1;33m,\u001b[0m \u001b[0mz_bin_centers\u001b[0m\u001b[1;33m)\u001b[0m\u001b[1;33m\u001b[0m\u001b[0m\n\u001b[0;32m   1325\u001b[0m             \u001b[1;32mif\u001b[0m \u001b[1;32mnot\u001b[0m \u001b[0mgp_errs\u001b[0m\u001b[1;33m:\u001b[0m\u001b[1;33m\u001b[0m\u001b[0m\n",
      "\u001b[1;32m/u/ki/swmclau2/.conda/envs/hodemulator/lib/python2.7/site-packages/scipy/interpolate/interpolate.pyc\u001b[0m in \u001b[0;36m__init__\u001b[1;34m(self, x, y, z, kind, copy, bounds_error, fill_value)\u001b[0m\n\u001b[0;32m    202\u001b[0m                 \u001b[0mj\u001b[0m \u001b[1;33m=\u001b[0m \u001b[0mnp\u001b[0m\u001b[1;33m.\u001b[0m\u001b[0margsort\u001b[0m\u001b[1;33m(\u001b[0m\u001b[0my\u001b[0m\u001b[1;33m)\u001b[0m\u001b[1;33m\u001b[0m\u001b[0m\n\u001b[0;32m    203\u001b[0m                 \u001b[0my\u001b[0m \u001b[1;33m=\u001b[0m \u001b[0my\u001b[0m\u001b[1;33m[\u001b[0m\u001b[0mj\u001b[0m\u001b[1;33m]\u001b[0m\u001b[1;33m\u001b[0m\u001b[0m\n\u001b[1;32m--> 204\u001b[1;33m                 \u001b[0mz\u001b[0m \u001b[1;33m=\u001b[0m \u001b[0mz\u001b[0m\u001b[1;33m[\u001b[0m\u001b[0mj\u001b[0m\u001b[1;33m,\u001b[0m \u001b[1;33m:\u001b[0m\u001b[1;33m]\u001b[0m\u001b[1;33m\u001b[0m\u001b[0m\n\u001b[0m\u001b[0;32m    205\u001b[0m             \u001b[0mz\u001b[0m \u001b[1;33m=\u001b[0m \u001b[0mravel\u001b[0m\u001b[1;33m(\u001b[0m\u001b[0mz\u001b[0m\u001b[1;33m.\u001b[0m\u001b[0mT\u001b[0m\u001b[1;33m)\u001b[0m\u001b[1;33m\u001b[0m\u001b[0m\n\u001b[0;32m    206\u001b[0m         \u001b[1;32melse\u001b[0m\u001b[1;33m:\u001b[0m\u001b[1;33m\u001b[0m\u001b[0m\n",
      "\u001b[1;31mIndexError\u001b[0m: index 1 is out of bounds for axis 0 with size 1"
     ]
    }
   ],
   "source": [
    "log_xi_pred = emu2.emulate_wrt_r(em_params,rpoints)\n",
    "#log_xi_cov = np.zeros((log_xi_pred.shape[0], log_xi_pred.shape[0]))\n",
    "log_xi_err = np.sqrt(np.diag(log_xi_cov))\n",
    "#print log_xi_pred\n",
    "log_xi_pred = log_xi_pred.reshape((-1, len(rpoints)))\n",
    "#log_xi_err = log_xi_err.reshape((-1, len(rpoints)))\n",
    "log_xi_err = np.zeros(log_xi_pred.shape)"
   ]
  },
  {
   "cell_type": "code",
   "execution_count": null,
   "metadata": {
    "collapsed": false
   },
   "outputs": [],
   "source": [
    "print log_xi_pred.shape\n",
    "print emu2.redshift_bin_centers.shape\n",
    "print emu2.scale_bin_centers.shape"
   ]
  },
  {
   "cell_type": "code",
   "execution_count": null,
   "metadata": {
    "collapsed": true
   },
   "outputs": [],
   "source": [
    "from scipy.interpolate import interp2d"
   ]
  },
  {
   "cell_type": "code",
   "execution_count": null,
   "metadata": {
    "collapsed": false
   },
   "outputs": [],
   "source": [
    "xi_interpolator = interp2d(emu2.scale_bin_centers, emu2.redshift_bin_centers, log_xi_pred, kind='linear')"
   ]
  },
  {
   "cell_type": "code",
   "execution_count": null,
   "metadata": {
    "collapsed": false
   },
   "outputs": [],
   "source": [
    "interp_mean = xi_interpolator(np.logspace(np.log10(emu2.scale_bin_centers[1]), np.log10(emu2.scale_bin_centers[-2]), 200),\n",
    "                             np.linspace(or_params[y_param_idx].low, or_params[y_param_idx].high, 4))"
   ]
  },
  {
   "cell_type": "code",
   "execution_count": null,
   "metadata": {
    "collapsed": false
   },
   "outputs": [],
   "source": [
    "print interp_mean.shape\n",
    "log_xi_pred = interp_mean"
   ]
  },
  {
   "cell_type": "code",
   "execution_count": null,
   "metadata": {
    "collapsed": false
   },
   "outputs": [],
   "source": [
    "print emu2.y.shape\n",
    "print len(emu2.emulators), len(emu2.emulators[0])\n",
    "print emu2.y_hat.shape"
   ]
  },
  {
   "cell_type": "code",
   "execution_count": null,
   "metadata": {
    "collapsed": false
   },
   "outputs": [],
   "source": [
    "print log_xi_pred.shape"
   ]
  },
  {
   "cell_type": "code",
   "execution_count": null,
   "metadata": {
    "collapsed": false
   },
   "outputs": [],
   "source": [
    "print log_xi_pred.T[:2, :2]"
   ]
  },
  {
   "cell_type": "raw",
   "metadata": {
    "collapsed": false
   },
   "source": [
    "fig = plt.figure(figsize = (10, 10))\n",
    "for label, lxp, lxe,pr, px, err,c in zip(y_vals, log_xi_pred, log_xi_err ,plot_r, plot_xi,plot_xi_err,colors):\n",
    "\n",
    "    plt.plot(rpoints, lxp,label = '%.3f'%label, color = c )\n",
    "\n",
    "    plt.fill_between(rpoints,lxp+lxe,\n",
    "                     lxp-lxe, color = c, alpha = 0.3)\n",
    "\n",
    "    plt.errorbar(10**pr, px,err, color =c,fmt = 'o')\n",
    "\n",
    "plt.xlim(xmin = 0.1, xmax = 30)    \n",
    "plt.ylim(ymin = -2, ymax = 4)\n",
    "plt.title(\"EC Emulator w.r.t. %s\"%y_param, fontsize =20)\n",
    "#plt.loglog()\n",
    "plt.xscale('log')\n",
    "plt.xticks(fontsize=20)\n",
    "plt.yticks(fontsize=20)\n",
    "plt.xlabel(r'$r $  $\\rm{[Mpc]}$', fontsize=25)\n",
    "plt.ylabel(r'$\\log_{10}{\\xi_{\\rm gg}(r) }$', fontsize=25)\n",
    "plt.legend(loc='best', fontsize=25)"
   ]
  },
  {
   "cell_type": "code",
   "execution_count": null,
   "metadata": {
    "collapsed": true
   },
   "outputs": [],
   "source": [
    "rpoints = np.logspace(np.log10(emu2.scale_bin_centers[1]), np.log10(emu2.scale_bin_centers[-2]), 200)"
   ]
  },
  {
   "cell_type": "code",
   "execution_count": null,
   "metadata": {
    "collapsed": true
   },
   "outputs": [],
   "source": [
    "log_xi_err = np.zeros(log_xi_pred.shape)"
   ]
  },
  {
   "cell_type": "code",
   "execution_count": null,
   "metadata": {
    "collapsed": false,
    "scrolled": false
   },
   "outputs": [],
   "source": [
    "fig = plt.figure(figsize = (10, 10))\n",
    "for label, lxp, lxe,c in zip(y_vals, log_xi_pred, log_xi_err ,colors):\n",
    "\n",
    "    #plt.plot(rpoints, lxp,label = 'z= %.3f'%label, color = c )\n",
    "    plt.plot(rpoints, lxp,label = 'z= %.3f'%label, color = c )\n",
    "\n",
    "    plt.fill_between(rpoints,lxp+lxe,\n",
    "                     lxp-lxe, color = c, alpha = 0.3)\n",
    "\n",
    "plt.xlim(xmin = 0.1, xmax = 30)    \n",
    "plt.ylim(ymin = 0, ymax = 3.5)\n",
    "plt.title(\"EC Emulator w.r.t. %s\"%y_param, fontsize =20)\n",
    "#plt.loglog()\n",
    "plt.xscale('log')\n",
    "plt.xticks(fontsize=20)\n",
    "plt.yticks(fontsize=20)\n",
    "plt.xlabel(r'$r $  $\\rm{[Mpc]}$', fontsize=25)\n",
    "plt.ylabel(r'$\\log_{10}{w_p(r_p) }$', fontsize=25)\n",
    "plt.legend(loc='best', fontsize=25)"
   ]
  },
  {
   "cell_type": "code",
   "execution_count": null,
   "metadata": {
    "collapsed": true
   },
   "outputs": [],
   "source": [
    "from os import path"
   ]
  },
  {
   "cell_type": "code",
   "execution_count": null,
   "metadata": {
    "collapsed": false
   },
   "outputs": [],
   "source": [
    "save_dir = '/u/ki/swmclau2/des/EmulatorMCMC/'\n",
    "true_rpoints = np.log10(np.loadtxt(path.join(save_dir, 'rpoints.npy')))\n",
    "y = np.loadtxt(path.join(save_dir, 'xi.npy'))\n",
    "cov = np.loadtxt(path.join(save_dir, 'cov.npy'))\n",
    "true_cov = cov/(np.outer(y,y)*np.log(10)**2)\n",
    "#T = np.diag(np.diag(T))\n",
    "true_y = np.log10(y)"
   ]
  },
  {
   "cell_type": "code",
   "execution_count": null,
   "metadata": {
    "collapsed": true
   },
   "outputs": [],
   "source": [
    "import emcee as mc\n",
    "from itertools import izip\n",
    "nwalkers = 100\n",
    "n_cores = 2\n",
    "nsteps = 10\n",
    "nburn = 1"
   ]
  },
  {
   "cell_type": "code",
   "execution_count": null,
   "metadata": {
    "collapsed": true
   },
   "outputs": [],
   "source": [
    "from pearce.emulator.emu import lnprob as lnprob2"
   ]
  },
  {
   "cell_type": "raw",
   "metadata": {
    "collapsed": false
   },
   "source": [
    "sampler = mc.EnsembleSampler(nwalkers, emu2.sampling_ndim, lnprob2,\n",
    "                                      threads=n_cores, args=(emu2, y, cov, rpoints))\n",
    "\n",
    "pos0 = np.zeros((nwalkers, emu2.sampling_ndim))\n",
    "# The zip ensures we don't use the params that are only for the emulator\n",
    "for idx, (p, _) in enumerate(izip(emu2.ordered_params, xrange(emu2.sampling_ndim))):\n",
    "    pos0[:, idx] = np.random.uniform(p.low, p.high, size=nwalkers)\n",
    "\n",
    "sampler.run_mcmc(pos0, nsteps)\n"
   ]
  },
  {
   "cell_type": "code",
   "execution_count": null,
   "metadata": {
    "collapsed": true
   },
   "outputs": [],
   "source": []
  }
 ],
 "metadata": {
  "kernelspec": {
   "display_name": "Python [conda env:hodemulator]",
   "language": "python",
   "name": "conda-env-hodemulator-py"
  },
  "language_info": {
   "codemirror_mode": {
    "name": "ipython",
    "version": 2
   },
   "file_extension": ".py",
   "mimetype": "text/x-python",
   "name": "python",
   "nbconvert_exporter": "python",
   "pygments_lexer": "ipython2",
   "version": "2.7.12"
  }
 },
 "nbformat": 4,
 "nbformat_minor": 0
}
