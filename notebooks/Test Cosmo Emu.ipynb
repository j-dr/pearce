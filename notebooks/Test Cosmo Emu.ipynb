{
 "cells": [
  {
   "cell_type": "markdown",
   "metadata": {},
   "source": [
    "Testing my shiny new cosmological emulator."
   ]
  },
  {
   "cell_type": "code",
   "execution_count": 1,
   "metadata": {
    "collapsed": false
   },
   "outputs": [],
   "source": [
    "from pearce.emulator import OriginalRecipe, ExtraCrispy\n",
    "from pearce.mocks import cat_dict\n",
    "import numpy as np\n",
    "from os import path"
   ]
  },
  {
   "cell_type": "code",
   "execution_count": 2,
   "metadata": {
    "collapsed": true
   },
   "outputs": [],
   "source": [
    "import matplotlib\n",
    "#matplotlib.use('Agg')\n",
    "from matplotlib import pyplot as plt\n",
    "%matplotlib inline\n",
    "import seaborn as sns\n",
    "sns.set()"
   ]
  },
  {
   "cell_type": "code",
   "execution_count": 3,
   "metadata": {
    "collapsed": true
   },
   "outputs": [],
   "source": [
    "training_data = '/u/ki/swmclau2/des/PearceTrainerTest1.hdf5'\n",
    "\n",
    "em_method = 'gp'\n",
    "split_method = 'random'"
   ]
  },
  {
   "cell_type": "code",
   "execution_count": 4,
   "metadata": {
    "collapsed": false
   },
   "outputs": [
    {
     "name": "stdout",
     "output_type": "stream",
     "text": [
      "0.0\n"
     ]
    }
   ],
   "source": [
    "a = 1.0\n",
    "z = 1.0/a - 1.0\n",
    "print z"
   ]
  },
  {
   "cell_type": "code",
   "execution_count": 5,
   "metadata": {
    "collapsed": true
   },
   "outputs": [],
   "source": [
    "fixed_params = {'HOD':4, 'r':1.07508818}#, 'r':0.18477483}"
   ]
  },
  {
   "cell_type": "code",
   "execution_count": 16,
   "metadata": {
    "collapsed": false
   },
   "outputs": [
    {
     "name": "stdout",
     "output_type": "stream",
     "text": [
      "['ombh2' 'omch2' 'w0' 'ns' 'ln10As' 'H0' 'Neff']\n",
      "[[  2.26832500e-02   1.14059800e-01  -8.16597200e-01   9.75589000e-01\n",
      "    3.09291800e+00   6.33656900e+01   2.91875000e+00]\n",
      " [  2.24507100e-02   1.17257600e-01  -1.13444000e+00   9.76522700e-01\n",
      "    3.14987200e+00   7.30997200e+01   3.17375000e+00]]\n"
     ]
    }
   ],
   "source": [
    "n_leaves, n_overlap = 2, 1\n",
    "emu = ExtraCrispy(training_data, n_leaves, n_overlap, split_method, method = em_method, fixed_params=fixed_params)"
   ]
  },
  {
   "cell_type": "raw",
   "metadata": {
    "collapsed": false
   },
   "source": [
    "emu = OriginalRecipe(training_data, method = em_method, fixed_params = fixed_params)"
   ]
  },
  {
   "cell_type": "code",
   "execution_count": 17,
   "metadata": {
    "collapsed": false
   },
   "outputs": [
    {
     "data": {
      "text/plain": [
       "OrderedDict([('ombh2', (0.022450709999999999, 0.022683249999999999)),\n",
       "             ('omch2', (0.11405979999999999, 0.1172576)),\n",
       "             ('w0', (-1.1344399999999999, -0.81659720000000002)),\n",
       "             ('ns', (0.97558899999999993, 0.97652269999999985)),\n",
       "             ('ln10As', (3.0929180000000001, 3.1498720000000002)),\n",
       "             ('H0', (63.365690000000001, 73.099719999999991)),\n",
       "             ('Neff', (2.9187500000000002, 3.1737500000000001)),\n",
       "             ('z', (0.0, 0.0))])"
      ]
     },
     "execution_count": 17,
     "metadata": {},
     "output_type": "execute_result"
    }
   ],
   "source": [
    "emu._ordered_params"
   ]
  },
  {
   "cell_type": "code",
   "execution_count": 8,
   "metadata": {
    "collapsed": false
   },
   "outputs": [
    {
     "name": "stdout",
     "output_type": "stream",
     "text": [
      "[ 0.08626049 -0.08626049]\n"
     ]
    }
   ],
   "source": [
    "print emu.y"
   ]
  },
  {
   "cell_type": "code",
   "execution_count": 9,
   "metadata": {
    "collapsed": false
   },
   "outputs": [
    {
     "data": {
      "text/plain": [
       "array([[  2.26832500e-02,   1.14059800e-01,  -8.16597200e-01,\n",
       "          9.75589000e-01,   3.09291800e+00,   6.33656900e+01,\n",
       "          2.91875000e+00,   0.00000000e+00],\n",
       "       [  2.24507100e-02,   1.17257600e-01,  -1.13444000e+00,\n",
       "          9.76522700e-01,   3.14987200e+00,   7.30997200e+01,\n",
       "          3.17375000e+00,   0.00000000e+00]])"
      ]
     },
     "execution_count": 9,
     "metadata": {},
     "output_type": "execute_result"
    }
   ],
   "source": [
    "emu.x"
   ]
  },
  {
   "cell_type": "code",
   "execution_count": 10,
   "metadata": {
    "collapsed": false
   },
   "outputs": [
    {
     "data": {
      "text/plain": [
       "['ombh2', 'omch2', 'w0', 'ns', 'ln10As', 'H0', 'Neff', 'z']"
      ]
     },
     "execution_count": 10,
     "metadata": {},
     "output_type": "execute_result"
    }
   ],
   "source": [
    "emu._ordered_params.keys()"
   ]
  },
  {
   "cell_type": "code",
   "execution_count": 11,
   "metadata": {
    "collapsed": true
   },
   "outputs": [],
   "source": [
    "l = len(emu.scale_bin_centers)\n",
    "idx = 0\n",
    "params = {pname:pval for pname, pval in zip(emu._ordered_params.iterkeys(), emu.x[idx*l,:-1])}"
   ]
  },
  {
   "cell_type": "code",
   "execution_count": 12,
   "metadata": {
    "collapsed": false
   },
   "outputs": [
    {
     "name": "stdout",
     "output_type": "stream",
     "text": [
      "Neff \t\t\t\t\t2.91875\n",
      "H0 \t\t\t\t\t63.36569\n",
      "w0 \t\t\t\t\t-0.8165972\n",
      "omch2 \t\t\t\t\t0.1140598\n",
      "ln10As \t\t\t\t\t3.092918\n",
      "ns \t\t\t\t\t0.975589\n",
      "ombh2 \t\t\t\t\t0.02268325\n"
     ]
    }
   ],
   "source": [
    "for k,v in params.iteritems():\n",
    "    print k,'\\t'*5,v"
   ]
  },
  {
   "cell_type": "code",
   "execution_count": 13,
   "metadata": {
    "collapsed": false
   },
   "outputs": [
    {
     "ename": "ValueError",
     "evalue": "Please specify z in emulate_wrt_z",
     "output_type": "error",
     "traceback": [
      "\u001b[1;31m---------------------------------------------------------------------------\u001b[0m",
      "\u001b[1;31mValueError\u001b[0m                                Traceback (most recent call last)",
      "\u001b[1;32m<ipython-input-13-fb0ced4f21ba>\u001b[0m in \u001b[0;36m<module>\u001b[1;34m()\u001b[0m\n\u001b[1;32m----> 1\u001b[1;33m \u001b[0mwp\u001b[0m \u001b[1;33m=\u001b[0m \u001b[0memu\u001b[0m\u001b[1;33m.\u001b[0m\u001b[0memulate_wrt_r\u001b[0m\u001b[1;33m(\u001b[0m\u001b[0mparams\u001b[0m\u001b[1;33m,\u001b[0m \u001b[0memu\u001b[0m\u001b[1;33m.\u001b[0m\u001b[0mscale_bin_centers\u001b[0m\u001b[1;33m)\u001b[0m\u001b[1;33m[\u001b[0m\u001b[1;36m0\u001b[0m\u001b[1;33m]\u001b[0m\u001b[1;33m\u001b[0m\u001b[0m\n\u001b[0m\u001b[0;32m      2\u001b[0m \u001b[0mplt\u001b[0m\u001b[1;33m.\u001b[0m\u001b[0mplot\u001b[0m\u001b[1;33m(\u001b[0m\u001b[0memu\u001b[0m\u001b[1;33m.\u001b[0m\u001b[0mscale_bin_centers\u001b[0m\u001b[1;33m,\u001b[0m \u001b[0mwp\u001b[0m\u001b[1;33m,\u001b[0m \u001b[0mlabel\u001b[0m \u001b[1;33m=\u001b[0m \u001b[1;34m'Emu'\u001b[0m\u001b[1;33m)\u001b[0m\u001b[1;33m\u001b[0m\u001b[0m\n\u001b[0;32m      3\u001b[0m \u001b[0ml\u001b[0m \u001b[1;33m=\u001b[0m \u001b[0mlen\u001b[0m\u001b[1;33m(\u001b[0m\u001b[0memu\u001b[0m\u001b[1;33m.\u001b[0m\u001b[0mscale_bin_centers\u001b[0m\u001b[1;33m)\u001b[0m\u001b[1;33m\u001b[0m\u001b[0m\n\u001b[0;32m      4\u001b[0m \u001b[0mplt\u001b[0m\u001b[1;33m.\u001b[0m\u001b[0mplot\u001b[0m\u001b[1;33m(\u001b[0m\u001b[0memu\u001b[0m\u001b[1;33m.\u001b[0m\u001b[0mscale_bin_centers\u001b[0m\u001b[1;33m,\u001b[0m \u001b[0memu\u001b[0m\u001b[1;33m.\u001b[0m\u001b[0my\u001b[0m\u001b[1;33m[\u001b[0m\u001b[1;33m(\u001b[0m\u001b[0midx\u001b[0m\u001b[1;33m)\u001b[0m\u001b[1;33m*\u001b[0m\u001b[0ml\u001b[0m\u001b[1;33m:\u001b[0m\u001b[1;33m(\u001b[0m\u001b[0midx\u001b[0m\u001b[1;33m+\u001b[0m\u001b[1;36m1\u001b[0m\u001b[1;33m)\u001b[0m\u001b[1;33m*\u001b[0m\u001b[0ml\u001b[0m\u001b[1;33m]\u001b[0m\u001b[1;33m+\u001b[0m\u001b[0memu\u001b[0m\u001b[1;33m.\u001b[0m\u001b[0my_hat\u001b[0m\u001b[1;33m,\u001b[0m \u001b[0mlabel\u001b[0m \u001b[1;33m=\u001b[0m \u001b[1;34m'Training'\u001b[0m\u001b[1;33m)\u001b[0m\u001b[1;33m\u001b[0m\u001b[0m\n\u001b[0;32m      5\u001b[0m \u001b[0mplt\u001b[0m\u001b[1;33m.\u001b[0m\u001b[0mylabel\u001b[0m\u001b[1;33m(\u001b[0m\u001b[1;34mr'$w_p(r_p)$'\u001b[0m\u001b[1;33m)\u001b[0m\u001b[1;33m\u001b[0m\u001b[0m\n",
      "\u001b[1;32m/u/ki/swmclau2/.conda/envs/hodemulator/lib/python2.7/site-packages/pearce/emulator/emu.pyc\u001b[0m in \u001b[0;36memulate_wrt_r\u001b[1;34m(self, em_params, r_bin_centers, gp_errs)\u001b[0m\n\u001b[0;32m    669\u001b[0m             \u001b[1;32mdel\u001b[0m \u001b[0mep\u001b[0m\u001b[1;33m[\u001b[0m\u001b[1;34m'z'\u001b[0m\u001b[1;33m]\u001b[0m\u001b[1;33m\u001b[0m\u001b[0m\n\u001b[0;32m    670\u001b[0m         \u001b[1;32melif\u001b[0m \u001b[1;34m'z'\u001b[0m \u001b[1;32mnot\u001b[0m \u001b[1;32min\u001b[0m \u001b[0mself\u001b[0m\u001b[1;33m.\u001b[0m\u001b[0mfixed_params\u001b[0m\u001b[1;33m:\u001b[0m\u001b[1;33m\u001b[0m\u001b[0m\n\u001b[1;32m--> 671\u001b[1;33m             \u001b[1;32mraise\u001b[0m \u001b[0mValueError\u001b[0m\u001b[1;33m(\u001b[0m\u001b[1;34m\"Please specify z in emulate_wrt_z\"\u001b[0m\u001b[1;33m)\u001b[0m\u001b[1;33m\u001b[0m\u001b[0m\n\u001b[0m\u001b[0;32m    672\u001b[0m         \u001b[0mout\u001b[0m \u001b[1;33m=\u001b[0m \u001b[0mself\u001b[0m\u001b[1;33m.\u001b[0m\u001b[0memulate_wrt_r_z\u001b[0m\u001b[1;33m(\u001b[0m\u001b[0mep\u001b[0m\u001b[1;33m,\u001b[0m \u001b[0mr_bin_centers\u001b[0m\u001b[1;33m,\u001b[0m \u001b[0mz_bin_centers\u001b[0m\u001b[1;33m,\u001b[0m \u001b[0mgp_errs\u001b[0m\u001b[1;33m)\u001b[0m\u001b[1;33m\u001b[0m\u001b[0m\n\u001b[0;32m    673\u001b[0m \u001b[1;33m\u001b[0m\u001b[0m\n",
      "\u001b[1;31mValueError\u001b[0m: Please specify z in emulate_wrt_z"
     ]
    }
   ],
   "source": [
    "wp = emu.emulate_wrt_r(params, emu.scale_bin_centers)[0]\n",
    "plt.plot(emu.scale_bin_centers, wp, label = 'Emu')\n",
    "l = len(emu.scale_bin_centers)\n",
    "plt.plot(emu.scale_bin_centers, emu.y[(idx)*l:(idx+1)*l]+emu.y_hat, label = 'Training')\n",
    "plt.ylabel(r'$w_p(r_p)$')\n",
    "plt.xlabel(r'$r_p \\mathrm{[Mpc]}$')\n",
    "plt.loglog();\n",
    "plt.xscale('log')\n",
    "plt.legend(loc='best')"
   ]
  },
  {
   "cell_type": "code",
   "execution_count": null,
   "metadata": {
    "collapsed": false
   },
   "outputs": [],
   "source": [
    "print wt"
   ]
  },
  {
   "cell_type": "raw",
   "metadata": {
    "collapsed": false,
    "scrolled": false
   },
   "source": [
    "binlen = 19\n",
    "for b in xrange(5):\n",
    "    plt.plot(emu.scale_bin_centers, emu.y[b*binlen:(b+1)*binlen]+1)\n",
    "    params = dict(zip(emu._ordered_params.keys(), emu.x[b*binlen+1,:-1]))\n",
    "    pred = emu.emulate_wrt_r(params, emu.scale_bin_centers)[0]\n",
    "    plt.plot(emu.scale_bin_centers, 1+pred, ls = '--')\n",
    "    \n",
    "    #plt.ylim([0.9, 1.5])\n",
    "    plt.xscale('log')\n",
    "    plt.legend(loc='best')\n",
    "    plt.xlim([0.1, 4])\n",
    "    plt.title(r'$w(\\theta)$ Training vs. emulator')\n",
    "    plt.xlabel(r'$\\theta$')\n",
    "    plt.ylabel(r'$w(\\theta)$')\n",
    "    \n",
    "    plt.show()"
   ]
  },
  {
   "cell_type": "code",
   "execution_count": null,
   "metadata": {
    "collapsed": true
   },
   "outputs": [],
   "source": [
    "from pearce.mocks import compute_prim_haloprop_bins, cat_dict"
   ]
  },
  {
   "cell_type": "code",
   "execution_count": null,
   "metadata": {
    "collapsed": true
   },
   "outputs": [],
   "source": [
    "cosmo_params = {'simname':'chinchilla', 'Lbox':400.0, 'scale_factors':[a]}\n",
    "cat = cat_dict[cosmo_params['simname']](**cosmo_params)#construct the specified catalog!\n",
    "\n",
    "cat.load_catalog(a, particles = True)\n",
    "#halo_masses = cat.halocat.halo_table['halo_mvir']"
   ]
  },
  {
   "cell_type": "code",
   "execution_count": null,
   "metadata": {
    "collapsed": true
   },
   "outputs": [],
   "source": [
    "cat.load_model(a, 'hsabRedMagic')"
   ]
  },
  {
   "cell_type": "code",
   "execution_count": null,
   "metadata": {
    "collapsed": false
   },
   "outputs": [],
   "source": [
    "binno = 1\n",
    "params = {pname:val for pname, val in zip(emu._ordered_params.iterkeys(), emu.x[binno*binlen,:-1])}\n",
    "cat.populate(params)"
   ]
  },
  {
   "cell_type": "markdown",
   "metadata": {},
   "source": [
    "wt = cat.calc_wt(theta_bins, do_jackknife=False,n_cores=1)"
   ]
  },
  {
   "cell_type": "raw",
   "metadata": {},
   "source": [
    "plt.plot(emu.scale_bin_centers,1+wt)\n",
    "plt.plot(emu.scale_bin_centers, 1+10**emu.y[binno*emu.scale_bin_centers.shape[0]:(binno+1)*emu.scale_bin_centers.shape[0]])\n",
    "#plt.yscale('log')\n",
    "plt.loglog()\n",
    "plt.xlim([2.25/60, 275/60])\n",
    "plt.ylim([0.8, 4.0])"
   ]
  },
  {
   "cell_type": "code",
   "execution_count": null,
   "metadata": {
    "collapsed": true
   },
   "outputs": [],
   "source": [
    "theta_bins = np.logspace(np.log10(2.5), np.log10(250), 20)/60\n",
    "tpoints = (theta_bins[1:]+theta_bins[:-1])/2"
   ]
  },
  {
   "cell_type": "code",
   "execution_count": null,
   "metadata": {
    "collapsed": false,
    "scrolled": false
   },
   "outputs": [],
   "source": [
    "fig = plt.figure(figsize=(45,14))\n",
    "\n",
    "\n",
    "emulation_point = [('f_c', 0.233), ('logM0', 12.0), ('sigma_logM', 0.333),\n",
    "                    ('alpha', 1.053),('logM1', 13.5), ('logMmin', 12.033)]\n",
    "\n",
    "em_params = dict(emulation_point)\n",
    "\n",
    "em_params.update(fixed_params)\n",
    "del em_params['z']\n",
    "\n",
    "fixed_params2 = {'mean_occupation_satellites_assembias_param1':0.0,\n",
    "                'mean_occupation_centrals_assembias_param1':0.0,\n",
    "                'disp_func_slope_satellites':1.0,\n",
    "                'disp_func_slope_centrals':1.0}\n",
    "\n",
    "for idx, (param, bounds) in enumerate(emu._ordered_params.iteritems()):\n",
    "    if param == 'r':\n",
    "        continue\n",
    "    wt_vals = []\n",
    "    new_em_params = {}\n",
    "    new_em_params.update(em_params)\n",
    "    new_em_params.update(fixed_params2)\n",
    "    for v in np.linspace(bounds[0], bounds[1], 6):\n",
    "        new_em_params[param] = v\n",
    "        wt_vals.append(emu.emulate_wrt_r(new_em_params, tpoints))\n",
    "    wt_vals = np.array(wt_vals)\n",
    "    \n",
    "    pal = sns.cubehelix_palette(wt_vals.shape[0], start=idx, rot=0.3,\\\n",
    "                            dark=0.0, light=.60,reverse = True)\n",
    "    #sns.palplot(pal)\n",
    "\n",
    "    sns.set_palette(pal)\n",
    "\n",
    "    #sns.set_style(\"darkgrid\", {\"axes.facecolor\": \"0.85\"})\n",
    "    plt.subplot(5,2,idx+1)\n",
    "\n",
    "    for color, wt, v in zip(pal, wt_vals,np.linspace(bounds[0], bounds[1], 6) ):\n",
    "        plt.plot(tpoints, 1+wt[0,:], color = color, label = r'%s = %.1f'%(param,v) )\n",
    "    #plt.loglog()\n",
    "    plt.xscale('log')\n",
    "    plt.legend(loc='best')\n",
    "    plt.xlim([0.1, 4])\n",
    "    plt.title(r'$w(\\theta)$ variance by %s'%param)\n",
    "    plt.xlabel(r'$\\theta$')\n",
    "    plt.ylabel(r'$w(\\theta)$')\n",
    "plt.show()"
   ]
  },
  {
   "cell_type": "code",
   "execution_count": null,
   "metadata": {
    "collapsed": true
   },
   "outputs": [],
   "source": []
  }
 ],
 "metadata": {
  "kernelspec": {
   "display_name": "Python [conda env:hodemulator]",
   "language": "python",
   "name": "conda-env-hodemulator-py"
  },
  "language_info": {
   "codemirror_mode": {
    "name": "ipython",
    "version": 2
   },
   "file_extension": ".py",
   "mimetype": "text/x-python",
   "name": "python",
   "nbconvert_exporter": "python",
   "pygments_lexer": "ipython2",
   "version": "2.7.13"
  }
 },
 "nbformat": 4,
 "nbformat_minor": 0
}
