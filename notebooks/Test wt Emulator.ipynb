{
 "cells": [
  {
   "cell_type": "markdown",
   "metadata": {},
   "source": [
    "I'm gonna overwrite a lot of this notebook's old content. I changed the way I'm calculating wt, and wanna test that my training worked. "
   ]
  },
  {
   "cell_type": "code",
   "execution_count": 1,
   "metadata": {
    "collapsed": false
   },
   "outputs": [],
   "source": [
    "%load_ext autoreload\n",
    "%autoreload 2"
   ]
  },
  {
   "cell_type": "code",
   "execution_count": 2,
   "metadata": {
    "collapsed": true
   },
   "outputs": [],
   "source": [
    "from pearce.emulator import OriginalRecipe, ExtraCrispy\n",
    "from pearce.mocks import cat_dict\n",
    "import numpy as np\n",
    "from os import path"
   ]
  },
  {
   "cell_type": "code",
   "execution_count": 3,
   "metadata": {
    "collapsed": true
   },
   "outputs": [],
   "source": [
    "import matplotlib\n",
    "#matplotlib.use('Agg')\n",
    "from matplotlib import pyplot as plt\n",
    "%matplotlib inline\n",
    "import seaborn as sns\n",
    "sns.set()"
   ]
  },
  {
   "cell_type": "code",
   "execution_count": 4,
   "metadata": {
    "collapsed": true
   },
   "outputs": [],
   "source": [
    "training_file = '/u/ki/swmclau2/des/wt_trainer/PearceRedMagicChinchillaWT.hdf5'\n",
    "\n",
    "em_method = 'gp'\n",
    "split_method = 'random'"
   ]
  },
  {
   "cell_type": "code",
   "execution_count": 5,
   "metadata": {
    "collapsed": true
   },
   "outputs": [],
   "source": [
    "a = 0.81120\n",
    "z = 1.0/a - 1.0\n"
   ]
  },
  {
   "cell_type": "code",
   "execution_count": 6,
   "metadata": {
    "collapsed": true
   },
   "outputs": [],
   "source": [
    "fixed_params = {'z':z}#, 'r':0.18477483}"
   ]
  },
  {
   "cell_type": "raw",
   "metadata": {
    "collapsed": true
   },
   "source": [
    "n_leaves, n_overlap = 10, 2\n",
    "emu = ExtraCrispy(training_dir, n_leaves, n_overlap, split_method, method = em_method, fixed_params=fixed_params)"
   ]
  },
  {
   "cell_type": "code",
   "execution_count": 7,
   "metadata": {
    "collapsed": false
   },
   "outputs": [
    {
     "data": {
      "text/plain": [
       "[u'a_0.548', u'a_0.593', u'a_0.658', u'a_0.712', u'a_0.811']"
      ]
     },
     "execution_count": 7,
     "metadata": {},
     "output_type": "execute_result"
    }
   ],
   "source": [
    "import h5py\n",
    "f = h5py.File(training_file, 'r')\n",
    "f['cosmo_no_00'].keys()"
   ]
  },
  {
   "cell_type": "code",
   "execution_count": 8,
   "metadata": {
    "collapsed": false
   },
   "outputs": [],
   "source": [
    "emu = OriginalRecipe(training_file, method = em_method, fixed_params=fixed_params, independent_variable=None,\\\n",
    "                     downsample_factor = 1.0)"
   ]
  },
  {
   "cell_type": "raw",
   "metadata": {},
   "source": [
    "v = np.array([  0.00000000e+00,   3.30540588e-02,   4.93100502e-04,   3.17576810e-01,\n",
    "   1.29433168e-10,   6.98880297e-03,   2.14734051e-13,   3.22554183e+22,\n",
    "   1.66245377e+33,   5.11222704e+00,   1.23134374e+01,   1.55542754e+04,\n",
    "   3.40808990e+04,   3.99014289e+04,   5.23646434e+02,   1.14408379e+13,\n",
    "   4.14890561e+05,   1.92097674e+02,   1.80096110e+01])\n",
    "\n"
   ]
  },
  {
   "cell_type": "code",
   "execution_count": 9,
   "metadata": {
    "collapsed": true
   },
   "outputs": [],
   "source": [
    "#wt, fixed z\n",
    "v = np.array([  0.00000000e+00,   3.30540588e-02,   4.93100502e-04,   3.17576810e-01,\n",
    "   1.29433168e-10,   6.98880297e-03,   2.14734051e-13,\n",
    "   1.66245377e+33,   5.11222704e+00,   1.23134374e+01,   1.55542754e+04,\n",
    "   3.40808990e+04,   3.99014289e+04,   5.23646434e+02,   1.14408379e+13,  1.92097674e+02,   1.80096110e+01])\n",
    "\n"
   ]
  },
  {
   "cell_type": "raw",
   "metadata": {},
   "source": [
    "#ds fixed z\n",
    "v = np.array([ 0.0,   3.19288162e-03,  4.25945150e+00,   1.47504015e+01,\n",
    "   8.08430556e+00,   3.61725496e-01,   3.19371873e+02,  \n",
    "   1.00000000e-01,   1.01340962e+00,   4.02135719e+02,   5.03899572e+06,\n",
    "   6.12901196e+06,   5.01674303e+07,   6.38820887e+05,   6.83637438e+12,   1.00000000e-01,   2.74443529e+02])"
   ]
  },
  {
   "cell_type": "raw",
   "metadata": {
    "collapsed": true
   },
   "source": [
    "emu._emulator.set_parameter_vector(v)"
   ]
  },
  {
   "cell_type": "code",
   "execution_count": 10,
   "metadata": {
    "collapsed": false
   },
   "outputs": [
    {
     "data": {
      "text/plain": [
       "(20000, 7)"
      ]
     },
     "execution_count": 10,
     "metadata": {},
     "output_type": "execute_result"
    }
   ],
   "source": [
    "emu.x.shape"
   ]
  },
  {
   "cell_type": "code",
   "execution_count": 11,
   "metadata": {
    "collapsed": false
   },
   "outputs": [
    {
     "data": {
      "text/plain": [
       "OrderedDict([('logM1', (13.1, 15.1)),\n",
       "             ('logMmin', (13.1, 14.1)),\n",
       "             ('f_c', (0.01, 0.5)),\n",
       "             ('logM0', (13.1, 16.100000000000001)),\n",
       "             ('sigma_logM', (0.050000000000000003, 0.29999999999999999)),\n",
       "             ('alpha', (0.80000000000000004, 1.2)),\n",
       "             ('r', (-1.3802112069680488, 0.6197887586358295))])"
      ]
     },
     "execution_count": 11,
     "metadata": {},
     "output_type": "execute_result"
    }
   ],
   "source": [
    "emu._ordered_params"
   ]
  },
  {
   "cell_type": "code",
   "execution_count": 12,
   "metadata": {
    "collapsed": false
   },
   "outputs": [
    {
     "name": "stdout",
     "output_type": "stream",
     "text": [
      "[ 1.10300751  0.62989116  0.62433729 ..., -1.96292141 -2.16279857\n",
      " -3.45780268]\n"
     ]
    }
   ],
   "source": [
    "print emu.y"
   ]
  },
  {
   "cell_type": "code",
   "execution_count": 13,
   "metadata": {
    "collapsed": false
   },
   "outputs": [
    {
     "name": "stdout",
     "output_type": "stream",
     "text": [
      "{'logMmin': 13.2, 'f_c': 0.25, 'logM0': 15.5, 'logM1': 14.5, 'sigma_logM': 0.2, 'alpha': 1.1}\n"
     ]
    }
   ],
   "source": [
    "params = {}\n",
    "#params['mean_occupation_centrals_assembias_param1'] = 0\n",
    "#params['mean_occupation_satellites_assembias_param1'] = 0\n",
    "params['logMmin'] = 13.2\n",
    "params['sigma_logM'] = 0.2\n",
    "params['f_c'] = 0.25\n",
    "params['alpha'] = 1.1\n",
    "params['logM1'] = 14.5\n",
    "params['logM0'] = 15.5\n",
    "#params['z'] = 0.5\n",
    "print params"
   ]
  },
  {
   "cell_type": "code",
   "execution_count": 14,
   "metadata": {
    "collapsed": false
   },
   "outputs": [
    {
     "data": {
      "text/plain": [
       "array([-1.15872252,  1.56398854,  1.19329933,  0.69454471,  0.83300155,\n",
       "       -1.3249049 ])"
      ]
     },
     "execution_count": 14,
     "metadata": {},
     "output_type": "execute_result"
    }
   ],
   "source": [
    "emu.x[0,:-1]"
   ]
  },
  {
   "cell_type": "code",
   "execution_count": 15,
   "metadata": {
    "collapsed": false
   },
   "outputs": [
    {
     "data": {
      "text/plain": [
       "[('logM1', (13.1, 15.1)),\n",
       " ('logMmin', (13.1, 14.1)),\n",
       " ('f_c', (0.01, 0.5)),\n",
       " ('logM0', (13.1, 16.100000000000001)),\n",
       " ('sigma_logM', (0.050000000000000003, 0.29999999999999999)),\n",
       " ('alpha', (0.80000000000000004, 1.2)),\n",
       " ('r', (-1.3802112069680488, 0.6197887586358295))]"
      ]
     },
     "execution_count": 15,
     "metadata": {},
     "output_type": "execute_result"
    }
   ],
   "source": [
    "emu._ordered_params.items()"
   ]
  },
  {
   "cell_type": "code",
   "execution_count": 36,
   "metadata": {
    "collapsed": true
   },
   "outputs": [],
   "source": [
    "l = len(emu.scale_bin_centers)\n",
    "idx = 200\n",
    "params = {pname:pval for pname, pval in zip(emu._ordered_params.iterkeys(), emu.x[idx*l,:-1]*emu._x_std[:-1] + emu._x_mean[:-1])}"
   ]
  },
  {
   "cell_type": "raw",
   "metadata": {
    "collapsed": true
   },
   "source": [
    "params['mean_occupation_centrals_assembias_param1'] = 0.7"
   ]
  },
  {
   "cell_type": "code",
   "execution_count": 37,
   "metadata": {
    "collapsed": false
   },
   "outputs": [
    {
     "name": "stdout",
     "output_type": "stream",
     "text": [
      "logMmin \t\t\t\t\t13.1250414616\n",
      "f_c \t\t\t\t\t0.120860324504\n",
      "logM0 \t\t\t\t\t15.1840773465\n",
      "logM1 \t\t\t\t\t14.2951918178\n",
      "sigma_logM \t\t\t\t\t0.265703160079\n",
      "alpha \t\t\t\t\t1.06746163096\n"
     ]
    }
   ],
   "source": [
    "for k,v in params.iteritems():\n",
    "    print k,'\\t'*5,v"
   ]
  },
  {
   "cell_type": "code",
   "execution_count": 38,
   "metadata": {
    "collapsed": true
   },
   "outputs": [],
   "source": [
    "zbin = 1\n",
    "wt_redmagic = np.loadtxt('/u/ki/swmclau2/Git/pearce/bin/mcmc/buzzard2_wt_%d%d.npy'%(zbin,zbin))"
   ]
  },
  {
   "cell_type": "code",
   "execution_count": 39,
   "metadata": {
    "collapsed": true
   },
   "outputs": [],
   "source": [
    "sc_inv = 0.0001239041803415539\n",
    "W = 0.00275848072207"
   ]
  },
  {
   "cell_type": "code",
   "execution_count": 40,
   "metadata": {
    "collapsed": false
   },
   "outputs": [
    {
     "data": {
      "text/plain": [
       "<matplotlib.text.Text at 0x7f511bc37dd0>"
      ]
     },
     "execution_count": 40,
     "metadata": {},
     "output_type": "execute_result"
    },
    {
     "data": {
      "image/png": "[encoded data removed]",
      "text/plain": [
       "<matplotlib.figure.Figure at 0x7f511c091fd0>"
      ]
     },
     "metadata": {},
     "output_type": "display_data"
    }
   ],
   "source": [
    "#param_name = 'logMmin'\n",
    "#bounds = emu.get_param_bounds(param_name)\n",
    "#vals = np.linspace(bounds[0], bounds[1], 4)\n",
    "#for v in vals:\n",
    "    #params[param_name] = v\n",
    "wt = emu.emulate_wrt_r(params, emu.scale_bin_centers)[0]\n",
    "plt.plot(emu.scale_bin_centers, 10**wt, label = 'Emu') #label = '%s=%.2f'%(param_name, v) )\n",
    "plt.plot(emu.scale_bin_centers, 10**emu.y[(idx)*l:(idx+1)*l], label = 'Training')\n",
    "#plt.plot(emu.scale_bin_centers, wt_redmagic, label = 'RedMagic')\n",
    "plt.ylabel(r'$w(\\theta)$')\n",
    "plt.xlabel(r'$\\theta \\mathrm{[degrees]}$')\n",
    "plt.loglog();\n",
    "plt.xscale('log')\n",
    "plt.legend(loc='best')\n",
    "plt.title(r'Emulation of $w(\\theta)$ w.r.t. %s'%param_name)"
   ]
  },
  {
   "cell_type": "code",
   "execution_count": 42,
   "metadata": {
    "collapsed": false
   },
   "outputs": [],
   "source": [
    "from sklearn.model_selection import train_test_split\n",
    "x, y, yerr = emu.x, emu.y, emu.yerr\n",
    "#downsample_idxs = np.random.choice(x.shape[0], size = int(x.shape[0]), replace = False)\n",
    "#x,y, yerr = x[downsample_idxs, :], y[downsample_idxs], yerr[downsample_idxs]\n",
    "\n",
    "train_x, test_x, train_y, test_y, train_yerr, test_yerr = train_test_split(x, y, yerr, test_size = 0.1)"
   ]
  },
  {
   "cell_type": "code",
   "execution_count": 43,
   "metadata": {
    "collapsed": true
   },
   "outputs": [],
   "source": [
    "model = emu._emulator\n",
    "model.compute(train_x, train_yerr)"
   ]
  },
  {
   "cell_type": "code",
   "execution_count": 44,
   "metadata": {
    "collapsed": true
   },
   "outputs": [],
   "source": [
    "pred_y = model.predict(train_y, test_x, False, False, False)*emu._y_std + emu._y_mean"
   ]
  },
  {
   "cell_type": "code",
   "execution_count": 45,
   "metadata": {
    "collapsed": false
   },
   "outputs": [
    {
     "data": {
      "text/plain": [
       "0.12499526681731239"
      ]
     },
     "execution_count": 45,
     "metadata": {},
     "output_type": "execute_result"
    }
   ],
   "source": [
    "np.mean(np.abs((pred_y-test_y)/test_y))\n",
    "#np.mean(np.abs((pred_y-train_y)/train_y))"
   ]
  },
  {
   "cell_type": "code",
   "execution_count": 131,
   "metadata": {
    "collapsed": false
   },
   "outputs": [
    {
     "data": {
      "image/png": "[encoded data removed]",
      "text/plain": [
       "<matplotlib.figure.Figure at 0x7ff9ee8db050>"
      ]
     },
     "metadata": {},
     "output_type": "display_data"
    }
   ],
   "source": [
    "plt.plot(emu.scale_bin_centers, wt/wt_redmagic)\n",
    "plt.xscale('log')"
   ]
  },
  {
   "cell_type": "code",
   "execution_count": 132,
   "metadata": {
    "collapsed": false
   },
   "outputs": [
    {
     "name": "stdout",
     "output_type": "stream",
     "text": [
      "[ 0.65079685  0.65842913  0.6265125   0.56132946  0.4839495   0.42266191\n",
      "  0.38234275  0.34738497  0.30874707  0.26819497  0.22849252  0.19071606\n",
      "  0.15552032  0.12321993  0.09440423  0.0706618   0.05204146  0.03479707\n",
      "  0.01857568  0.01568403]\n"
     ]
    }
   ],
   "source": [
    "print wt"
   ]
  },
  {
   "cell_type": "raw",
   "metadata": {
    "scrolled": false
   },
   "source": [
    "binlen = 19\n",
    "for b in xrange(5):\n",
    "    plt.plot(emu.scale_bin_centers, emu.y[b*binlen:(b+1)*binlen]+1)\n",
    "    params = dict(zip(emu._ordered_params.keys(), emu.x[b*binlen+1,:-1]))\n",
    "    pred = emu.emulate_wrt_r(params, emu.scale_bin_centers)[0]\n",
    "    plt.plot(emu.scale_bin_centers, 1+pred, ls = '--')\n",
    "    \n",
    "    #plt.ylim([0.9, 1.5])\n",
    "    plt.xscale('log')\n",
    "    plt.legend(loc='best')\n",
    "    plt.xlim([0.1, 4])\n",
    "    plt.title(r'$w(\\theta)$ Training vs. emulator')\n",
    "    plt.xlabel(r'$\\theta$')\n",
    "    plt.ylabel(r'$w(\\theta)$')\n",
    "    \n",
    "    plt.show()"
   ]
  },
  {
   "cell_type": "code",
   "execution_count": 133,
   "metadata": {
    "collapsed": true
   },
   "outputs": [],
   "source": [
    "from pearce.mocks import compute_prim_haloprop_bins, cat_dict"
   ]
  },
  {
   "cell_type": "code",
   "execution_count": 134,
   "metadata": {
    "collapsed": false
   },
   "outputs": [
    {
     "ename": "InvalidCacheLogEntry",
     "evalue": "\nYou tried to load a cached halo catalog with the following characteristics:\n\nsimname = ``chinchilla``\nhalo_finder = ``rockstar``\nversion_name = ``Lb400-2048``\nredshift = ``0.232741617357``\n\nThere is no matching catalog in cache within dz_tol = 0.05 of these inputs.\nThere are multiple entries in the cache log \nwithin dz_tol = 0.05 of your inputs. \nTry using the exact redshift and/or decreasing dz_tol.\nNow printing the matching entries:\n\n('chinchilla', 'rockstar', 'Lb400-2048', '0.2000', '/u/ki/swmclau2/des/halocats/hlist_0.83.list.chinchilla_Lb400-2048.hdf5')\n('chinchilla', 'rockstar', 'Lb400-2048', '0.2327', '/u/ki/swmclau2/des/halocats/hlist_0.81.list.chinchilla_Lb400-2048.hdf5')\n",
     "output_type": "error",
     "traceback": [
      "\u001b[1;31m---------------------------------------------------------------------------\u001b[0m",
      "\u001b[1;31mInvalidCacheLogEntry\u001b[0m                      Traceback (most recent call last)",
      "\u001b[1;32m<ipython-input-134-31257308ea02>\u001b[0m in \u001b[0;36m<module>\u001b[1;34m()\u001b[0m\n\u001b[0;32m      2\u001b[0m \u001b[0mcat\u001b[0m \u001b[1;33m=\u001b[0m \u001b[0mcat_dict\u001b[0m\u001b[1;33m[\u001b[0m\u001b[0mcosmo_params\u001b[0m\u001b[1;33m[\u001b[0m\u001b[1;34m'simname'\u001b[0m\u001b[1;33m]\u001b[0m\u001b[1;33m]\u001b[0m\u001b[1;33m(\u001b[0m\u001b[1;33m**\u001b[0m\u001b[0mcosmo_params\u001b[0m\u001b[1;33m)\u001b[0m\u001b[1;31m#construct the specified catalog!\u001b[0m\u001b[1;33m\u001b[0m\u001b[0m\n\u001b[0;32m      3\u001b[0m \u001b[1;33m\u001b[0m\u001b[0m\n\u001b[1;32m----> 4\u001b[1;33m \u001b[0mcat\u001b[0m\u001b[1;33m.\u001b[0m\u001b[0mload_catalog\u001b[0m\u001b[1;33m(\u001b[0m\u001b[0ma\u001b[0m\u001b[1;33m)\u001b[0m\u001b[1;33m\u001b[0m\u001b[0m\n\u001b[0m\u001b[0;32m      5\u001b[0m \u001b[1;31m#halo_masses = cat.halocat.halo_table['halo_mvir']\u001b[0m\u001b[1;33m\u001b[0m\u001b[1;33m\u001b[0m\u001b[0m\n",
      "\u001b[1;32m/u/ki/swmclau2/.local/lib/python2.7/site-packages/pearce/mocks/cat.pyc\u001b[0m in \u001b[0;36mload_catalog\u001b[1;34m(self, scale_factor, tol, check_sf, particles, downsample_factor)\u001b[0m\n\u001b[0;32m    447\u001b[0m             self.halocat = CachedHaloCatalog(simname=self.simname, halo_finder=self.halo_finder,\n\u001b[0;32m    448\u001b[0m                                              \u001b[0mversion_name\u001b[0m\u001b[1;33m=\u001b[0m\u001b[0mself\u001b[0m\u001b[1;33m.\u001b[0m\u001b[0mversion_name\u001b[0m\u001b[1;33m,\u001b[0m\u001b[1;33m\u001b[0m\u001b[0m\n\u001b[1;32m--> 449\u001b[1;33m                                             redshift=z, dz_tol=tol)\n\u001b[0m\u001b[0;32m    450\u001b[0m         \u001b[1;32melse\u001b[0m\u001b[1;33m:\u001b[0m\u001b[1;33m\u001b[0m\u001b[0m\n\u001b[0;32m    451\u001b[0m             \u001b[0mself\u001b[0m\u001b[1;33m.\u001b[0m\u001b[0m_downsample_factor\u001b[0m \u001b[1;33m=\u001b[0m \u001b[0mdownsample_factor\u001b[0m\u001b[1;33m\u001b[0m\u001b[0m\n",
      "\u001b[1;32m/u/ki/swmclau2/.conda/envs/hodemulator/lib/python2.7/site-packages/halotools-0.6.dev4681-py2.7-linux-x86_64.egg/halotools/sim_manager/cached_halo_catalog.pyc\u001b[0m in \u001b[0;36m__init__\u001b[1;34m(self, *args, **kwargs)\u001b[0m\n\u001b[0;32m    191\u001b[0m         \u001b[0mself\u001b[0m\u001b[1;33m.\u001b[0m\u001b[0m_disallow_catalogs_with_known_bugs\u001b[0m\u001b[1;33m(\u001b[0m\u001b[1;33m**\u001b[0m\u001b[0mkwargs\u001b[0m\u001b[1;33m)\u001b[0m\u001b[1;33m\u001b[0m\u001b[0m\n\u001b[0;32m    192\u001b[0m \u001b[1;33m\u001b[0m\u001b[0m\n\u001b[1;32m--> 193\u001b[1;33m         \u001b[0mself\u001b[0m\u001b[1;33m.\u001b[0m\u001b[0mlog_entry\u001b[0m \u001b[1;33m=\u001b[0m \u001b[0mself\u001b[0m\u001b[1;33m.\u001b[0m\u001b[0m_determine_cache_log_entry\u001b[0m\u001b[1;33m(\u001b[0m\u001b[1;33m**\u001b[0m\u001b[0mkwargs\u001b[0m\u001b[1;33m)\u001b[0m\u001b[1;33m\u001b[0m\u001b[0m\n\u001b[0m\u001b[0;32m    194\u001b[0m         \u001b[0mself\u001b[0m\u001b[1;33m.\u001b[0m\u001b[0msimname\u001b[0m \u001b[1;33m=\u001b[0m \u001b[0mself\u001b[0m\u001b[1;33m.\u001b[0m\u001b[0mlog_entry\u001b[0m\u001b[1;33m.\u001b[0m\u001b[0msimname\u001b[0m\u001b[1;33m\u001b[0m\u001b[0m\n\u001b[0;32m    195\u001b[0m         \u001b[0mself\u001b[0m\u001b[1;33m.\u001b[0m\u001b[0mhalo_finder\u001b[0m \u001b[1;33m=\u001b[0m \u001b[0mself\u001b[0m\u001b[1;33m.\u001b[0m\u001b[0mlog_entry\u001b[0m\u001b[1;33m.\u001b[0m\u001b[0mhalo_finder\u001b[0m\u001b[1;33m\u001b[0m\u001b[0m\n",
      "\u001b[1;32m/u/ki/swmclau2/.conda/envs/hodemulator/lib/python2.7/site-packages/halotools-0.6.dev4681-py2.7-linux-x86_64.egg/halotools/sim_manager/cached_halo_catalog.pyc\u001b[0m in \u001b[0;36m_determine_cache_log_entry\u001b[1;34m(self, **kwargs)\u001b[0m\n\u001b[0;32m    317\u001b[0m \u001b[1;33m\u001b[0m\u001b[0m\n\u001b[0;32m    318\u001b[0m             return self._retrieve_matching_log_entry_from_metadata(\n\u001b[1;32m--> 319\u001b[1;33m                 simname, halo_finder, version_name, redshift)\n\u001b[0m\u001b[0;32m    320\u001b[0m \u001b[1;33m\u001b[0m\u001b[0m\n\u001b[0;32m    321\u001b[0m     \u001b[1;32mdef\u001b[0m \u001b[0m_retrieve_matching_log_entry_from_fname\u001b[0m\u001b[1;33m(\u001b[0m\u001b[0mself\u001b[0m\u001b[1;33m,\u001b[0m \u001b[0mfname\u001b[0m\u001b[1;33m)\u001b[0m\u001b[1;33m:\u001b[0m\u001b[1;33m\u001b[0m\u001b[0m\n",
      "\u001b[1;32m/u/ki/swmclau2/.conda/envs/hodemulator/lib/python2.7/site-packages/halotools-0.6.dev4681-py2.7-linux-x86_64.egg/halotools/sim_manager/cached_halo_catalog.pyc\u001b[0m in \u001b[0;36m_retrieve_matching_log_entry_from_metadata\u001b[1;34m(self, simname, halo_finder, version_name, redshift)\u001b[0m\n\u001b[0;32m    523\u001b[0m             \u001b[1;32mfor\u001b[0m \u001b[0mentry\u001b[0m \u001b[1;32min\u001b[0m \u001b[0mmatching_entries\u001b[0m\u001b[1;33m:\u001b[0m\u001b[1;33m\u001b[0m\u001b[0m\n\u001b[0;32m    524\u001b[0m                 \u001b[0mmsg\u001b[0m \u001b[1;33m+=\u001b[0m \u001b[0mstr\u001b[0m\u001b[1;33m(\u001b[0m\u001b[0mentry\u001b[0m\u001b[1;33m)\u001b[0m \u001b[1;33m+\u001b[0m \u001b[1;34m\"\\n\"\u001b[0m\u001b[1;33m\u001b[0m\u001b[0m\n\u001b[1;32m--> 525\u001b[1;33m             \u001b[1;32mraise\u001b[0m \u001b[0mInvalidCacheLogEntry\u001b[0m\u001b[1;33m(\u001b[0m\u001b[0mmsg\u001b[0m\u001b[1;33m)\u001b[0m\u001b[1;33m\u001b[0m\u001b[0m\n\u001b[0m\u001b[0;32m    526\u001b[0m \u001b[1;33m\u001b[0m\u001b[0m\n\u001b[0;32m    527\u001b[0m     \u001b[1;33m@\u001b[0m\u001b[0mproperty\u001b[0m\u001b[1;33m\u001b[0m\u001b[0m\n",
      "\u001b[1;31mInvalidCacheLogEntry\u001b[0m: \nYou tried to load a cached halo catalog with the following characteristics:\n\nsimname = ``chinchilla``\nhalo_finder = ``rockstar``\nversion_name = ``Lb400-2048``\nredshift = ``0.232741617357``\n\nThere is no matching catalog in cache within dz_tol = 0.05 of these inputs.\nThere are multiple entries in the cache log \nwithin dz_tol = 0.05 of your inputs. \nTry using the exact redshift and/or decreasing dz_tol.\nNow printing the matching entries:\n\n('chinchilla', 'rockstar', 'Lb400-2048', '0.2000', '/u/ki/swmclau2/des/halocats/hlist_0.83.list.chinchilla_Lb400-2048.hdf5')\n('chinchilla', 'rockstar', 'Lb400-2048', '0.2327', '/u/ki/swmclau2/des/halocats/hlist_0.81.list.chinchilla_Lb400-2048.hdf5')\n"
     ]
    }
   ],
   "source": [
    "cosmo_params = {'simname':'chinchilla', 'Lbox':400.0, 'scale_factors':[a]}\n",
    "cat = cat_dict[cosmo_params['simname']](**cosmo_params)#construct the specified catalog!\n",
    "\n",
    "cat.load_catalog(a)\n",
    "#halo_masses = cat.halocat.halo_table['halo_mvir']"
   ]
  },
  {
   "cell_type": "code",
   "execution_count": null,
   "metadata": {
    "collapsed": true
   },
   "outputs": [],
   "source": [
    "cat.load_model(a, 'hsabRedMagic')"
   ]
  },
  {
   "cell_type": "code",
   "execution_count": null,
   "metadata": {
    "collapsed": true
   },
   "outputs": [],
   "source": [
    "binno = 1\n",
    "binlen = len(emu.scale_bin_centers)\n",
    "params = {pname:val for pname, val in zip(emu._ordered_params.iterkeys(), emu.x[binno*binlen,:-1])}\n",
    "cat.populate(params)"
   ]
  },
  {
   "cell_type": "code",
   "execution_count": null,
   "metadata": {
    "collapsed": true
   },
   "outputs": [],
   "source": [
    "theta_bins = np.logspace(np.log10(2.5), np.log10(250), 21)/60\n",
    "tpoints = (theta_bins[1:]+theta_bins[:-1])/2"
   ]
  },
  {
   "cell_type": "code",
   "execution_count": null,
   "metadata": {
    "collapsed": true
   },
   "outputs": [],
   "source": [
    "rbins = [0.31622777, 0.44326829, 0.62134575, 0.87096359, 1.22086225, 1.7113283, 2.39883292, 3.36253386, 4.71338954, 6.60693448, 9.26118728,  12.98175275, 18.19700859,  25.50742784,  35.75471605,  50.11872336]"
   ]
  },
  {
   "cell_type": "code",
   "execution_count": null,
   "metadata": {
    "collapsed": true
   },
   "outputs": [],
   "source": [
    "params['mean_occupation_centrals_assembias_param1'] = 0.0\n",
    "params['mean_occupation_satellites_assembias_param1'] = 0\n",
    "params['logMmin'] = 12.3\n",
    "params['sigma_logM'] = 0.28\n",
    "params['f_c'] = 0.2\n",
    "params['alpha'] = 1.01\n",
    "params['logM1'] = 13.71\n",
    "params['logM0'] = 11.39"
   ]
  },
  {
   "cell_type": "code",
   "execution_count": null,
   "metadata": {
    "collapsed": false
   },
   "outputs": [],
   "source": [
    "redmagic_nd = np.loadtxt('/u/ki/swmclau2/Git/pearce/bin/mcmc/buzzard2_nd_11.npy')\n",
    "print redmagic_nd"
   ]
  },
  {
   "cell_type": "code",
   "execution_count": null,
   "metadata": {
    "collapsed": false
   },
   "outputs": [],
   "source": [
    "redmagic_wt = np.loadtxt('/u/ki/swmclau2/Git/pearce/bin/mcmc/buzzard2_wt_11.npy')\n",
    "print redmagic_wt"
   ]
  },
  {
   "cell_type": "code",
   "execution_count": null,
   "metadata": {
    "collapsed": false
   },
   "outputs": [],
   "source": [
    "cat.populate(params)\n",
    "wt = cat.calc_wt(theta_bins,rbins, W= 0.00275848072207, n_cores=1)\n",
    "print cat.calc_analytic_nd(params)\n",
    "\n",
    "plt.plot(emu.scale_bin_centers,wt, label = 'wt' , color = 'b')\n",
    "plt.plot(emu.scale_bin_centers, emu.emulate_wrt_r(params,emu.scale_bin_centers)[0] ,label = 'Emu')\n",
    "plt.plot(emu.scale_bin_centers, wt_redmagic, label = 'RedMagic', color = 'r')\n",
    "plt.legend(loc='best')\n",
    "plt.loglog()\n",
    "plt.show()\n",
    "#plt.plot(emu.scale_bin_centers,wt)\n",
    "plt.plot(emu.scale_bin_centers, wt/emu.emulate_wrt_r(params,emu.scale_bin_centers)[0])\n",
    "plt.xscale('log')\n",
    "plt.show()\n",
    "#plt.loglog()\n",
    "#plt.xlim([2.25/60, 275/60])\n",
    "#plt.ylim([0.8, 4.0])"
   ]
  },
  {
   "cell_type": "code",
   "execution_count": null,
   "metadata": {
    "collapsed": false,
    "scrolled": false
   },
   "outputs": [],
   "source": [
    "fig = plt.figure(figsize=(45,14))\n",
    "\n",
    "\n",
    "emulation_point = [('f_c', 0.233), ('logM0', 12.0), ('sigma_logM', 0.333),\n",
    "                    ('alpha', 1.053),('logM1', 13.5), ('logMmin', 12.033)]\n",
    "\n",
    "em_params = dict(emulation_point)\n",
    "\n",
    "em_params.update(fixed_params)\n",
    "del em_params['z']\n",
    "\n",
    "fixed_params2 = {'mean_occupation_satellites_assembias_param1':0.0,\n",
    "                'mean_occupation_centrals_assembias_param1':0.0}\n",
    "\n",
    "for idx, (param, bounds) in enumerate(emu._ordered_params.iteritems()):\n",
    "    if param == 'r':\n",
    "        continue\n",
    "    wt_vals = []\n",
    "    new_em_params = {}\n",
    "    new_em_params.update(em_params)\n",
    "    new_em_params.update(fixed_params2)\n",
    "    for v in np.linspace(bounds[0], bounds[1], 6):\n",
    "        new_em_params[param] = v\n",
    "        wt_vals.append(emu.emulate_wrt_r(new_em_params, tpoints))\n",
    "    wt_vals = np.array(wt_vals)\n",
    "    \n",
    "    pal = sns.cubehelix_palette(wt_vals.shape[0], start=idx, rot=0.3,\\\n",
    "                            dark=0.0, light=.60,reverse = True)\n",
    "    #sns.palplot(pal)\n",
    "\n",
    "    sns.set_palette(pal)\n",
    "\n",
    "    #sns.set_style(\"darkgrid\", {\"axes.facecolor\": \"0.85\"})\n",
    "    plt.subplot(5,2,idx+1)\n",
    "\n",
    "    for color, wt, v in zip(pal, wt_vals,np.linspace(bounds[0], bounds[1], 6) ):\n",
    "        plt.plot(tpoints, 1+wt[0,:], color = color, label = r'%s = %.1f'%(param,v) )\n",
    "    #plt.loglog()\n",
    "    plt.xscale('log')\n",
    "    plt.legend(loc='best')\n",
    "    plt.xlim([0.1, 4])\n",
    "    plt.title(r'$w(\\theta)$ variance by %s'%param)\n",
    "    plt.xlabel(r'$\\theta$')\n",
    "    plt.ylabel(r'$w(\\theta)$')\n",
    "plt.show()"
   ]
  },
  {
   "cell_type": "code",
   "execution_count": null,
   "metadata": {
    "collapsed": true
   },
   "outputs": [],
   "source": []
  }
 ],
 "metadata": {
  "kernelspec": {
   "display_name": "Python [default]",
   "language": "python",
   "name": "python2"
  },
  "language_info": {
   "codemirror_mode": {
    "name": "ipython",
    "version": 2
   },
   "file_extension": ".py",
   "mimetype": "text/x-python",
   "name": "python",
   "nbconvert_exporter": "python",
   "pygments_lexer": "ipython2",
   "version": "2.7.13"
  }
 },
 "nbformat": 4,
 "nbformat_minor": 1
}
