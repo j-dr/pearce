{
 "cells": [
  {
   "cell_type": "markdown",
   "metadata": {},
   "source": [
    "I'm gonna overwrite a lot of this notebook's old content. I changed the way I'm calculating wt, and wanna test that my training worked. "
   ]
  },
  {
   "cell_type": "code",
   "execution_count": 21,
   "metadata": {
    "collapsed": false
   },
   "outputs": [],
   "source": [
    "from pearce.emulator import OriginalRecipe, ExtraCrispy\n",
    "from pearce.mocks import cat_dict\n",
    "import numpy as np\n",
    "from os import path"
   ]
  },
  {
   "cell_type": "code",
   "execution_count": 22,
   "metadata": {
    "collapsed": true
   },
   "outputs": [],
   "source": [
    "import matplotlib\n",
    "#matplotlib.use('Agg')\n",
    "from matplotlib import pyplot as plt\n",
    "%matplotlib inline\n",
    "import seaborn as sns\n",
    "sns.set()"
   ]
  },
  {
   "cell_type": "code",
   "execution_count": 23,
   "metadata": {
    "collapsed": true
   },
   "outputs": [],
   "source": [
    "training_dir = '/u/ki/swmclau2/des/PearceLHC_wt_z/'\n",
    "\n",
    "em_method = 'gp'\n",
    "split_method = 'random'"
   ]
  },
  {
   "cell_type": "code",
   "execution_count": 24,
   "metadata": {
    "collapsed": false
   },
   "outputs": [
    {
     "name": "stdout",
     "output_type": "stream",
     "text": [
      "/u/ki/swmclau2/des/PearceLHC_wt_z/a_0.81120\n"
     ]
    }
   ],
   "source": [
    "%%bash\n",
    "ls -d ~/des/PearceLHC_wt_z/*"
   ]
  },
  {
   "cell_type": "code",
   "execution_count": 25,
   "metadata": {
    "collapsed": false
   },
   "outputs": [],
   "source": [
    "a = 0.81120\n",
    "z = 1.0/a - 1.0\n"
   ]
  },
  {
   "cell_type": "code",
   "execution_count": 26,
   "metadata": {
    "collapsed": true
   },
   "outputs": [],
   "source": [
    "fixed_params = {'z':z}#, 'r':0.18477483}"
   ]
  },
  {
   "cell_type": "raw",
   "metadata": {
    "collapsed": true
   },
   "source": [
    "n_leaves, n_overlap = 10, 2\n",
    "emu = ExtraCrispy(training_dir, n_leaves, n_overlap, split_method, method = em_method, fixed_params=fixed_params)"
   ]
  },
  {
   "cell_type": "code",
   "execution_count": 27,
   "metadata": {
    "collapsed": false
   },
   "outputs": [],
   "source": [
    "emu = OriginalRecipe(training_dir, method = em_method, fixed_params=fixed_params, independent_variable=None)"
   ]
  },
  {
   "cell_type": "code",
   "execution_count": 28,
   "metadata": {
    "collapsed": false
   },
   "outputs": [
    {
     "data": {
      "text/plain": [
       "OrderedDict([('logMmin', (13.0, 14.5)),\n",
       "             ('sigma_logM', (0.05, 1.0)),\n",
       "             ('logM0', (10, 13)),\n",
       "             ('logM1', (13.0, 16.0)),\n",
       "             ('alpha', (0.7, 1.2)),\n",
       "             ('f_c', (0.05, 0.5)),\n",
       "             ('mean_occupation_satellites_assembias_param1', (-1.0, 1.0)),\n",
       "             ('mean_occupation_centrals_assembias_param1', (-1.0, 1.0)),\n",
       "             ('r', (0.047060950000000004, 3.7381838250000001))])"
      ]
     },
     "execution_count": 28,
     "metadata": {},
     "output_type": "execute_result"
    }
   ],
   "source": [
    "emu._ordered_params"
   ]
  },
  {
   "cell_type": "code",
   "execution_count": 29,
   "metadata": {
    "collapsed": false
   },
   "outputs": [
    {
     "name": "stdout",
     "output_type": "stream",
     "text": [
      "[ 3.56310393  1.5153413   0.31860275 ..., -0.56532767 -0.56649129\n",
      " -0.56780204]\n"
     ]
    }
   ],
   "source": [
    "print emu.y"
   ]
  },
  {
   "cell_type": "raw",
   "metadata": {
    "collapsed": true
   },
   "source": [
    "params = {}\n",
    "params['logMmin'] = 13.4\n",
    "params['sigma_logM'] = 0.1\n",
    "params['f_c'] = 0.19\n",
    "params['alpha'] = 1.0\n",
    "params['logM1'] = 14.0\n",
    "params['logM0'] = 12.0\n",
    "params['mean_occupation_centrals_assembias_param1'] = 0.0\n",
    "params['mean_occupation_satellites_assembias_param1'] = 0.0"
   ]
  },
  {
   "cell_type": "code",
   "execution_count": 30,
   "metadata": {
    "collapsed": false
   },
   "outputs": [
    {
     "data": {
      "text/plain": [
       "array([ 14.055,   0.082,  12.032,  15.411,   0.755,   0.394,  -0.9  ,\n",
       "        -0.186])"
      ]
     },
     "execution_count": 30,
     "metadata": {},
     "output_type": "execute_result"
    }
   ],
   "source": [
    "emu.x[0,:-1]"
   ]
  },
  {
   "cell_type": "code",
   "execution_count": 31,
   "metadata": {
    "collapsed": false
   },
   "outputs": [
    {
     "data": {
      "text/plain": [
       "['logMmin',\n",
       " 'sigma_logM',\n",
       " 'logM0',\n",
       " 'logM1',\n",
       " 'alpha',\n",
       " 'f_c',\n",
       " 'mean_occupation_satellites_assembias_param1',\n",
       " 'mean_occupation_centrals_assembias_param1',\n",
       " 'r']"
      ]
     },
     "execution_count": 31,
     "metadata": {},
     "output_type": "execute_result"
    }
   ],
   "source": [
    "emu._ordered_params.keys()"
   ]
  },
  {
   "cell_type": "code",
   "execution_count": 32,
   "metadata": {
    "collapsed": true
   },
   "outputs": [],
   "source": [
    "l = len(emu.scale_bin_centers)\n",
    "idx = 0\n",
    "params = {pname:pval for pname, pval in zip(emu._ordered_params.iterkeys(), emu.x[idx*l,:-1])}"
   ]
  },
  {
   "cell_type": "code",
   "execution_count": 33,
   "metadata": {
    "collapsed": false
   },
   "outputs": [
    {
     "name": "stdout",
     "output_type": "stream",
     "text": [
      "logMmin \t\t\t\t\t14.055\n",
      "mean_occupation_centrals_assembias_param1 \t\t\t\t\t-0.186\n",
      "f_c \t\t\t\t\t0.394\n",
      "logM0 \t\t\t\t\t12.032\n",
      "sigma_logM \t\t\t\t\t0.082\n",
      "mean_occupation_satellites_assembias_param1 \t\t\t\t\t-0.9\n",
      "logM1 \t\t\t\t\t15.411\n",
      "alpha \t\t\t\t\t0.755\n"
     ]
    }
   ],
   "source": [
    "for k,v in params.iteritems():\n",
    "    print k,'\\t'*5,v"
   ]
  },
  {
   "cell_type": "code",
   "execution_count": 34,
   "metadata": {
    "collapsed": false
   },
   "outputs": [
    {
     "data": {
      "text/plain": [
       "<matplotlib.legend.Legend at 0x7f5b8416abd0>"
      ]
     },
     "execution_count": 34,
     "metadata": {},
     "output_type": "execute_result"
    },
    {
     "data": {
      "image/png": "[encoded data removed]",
      "text/plain": [
       "<matplotlib.figure.Figure at 0x7f5b840a8850>"
      ]
     },
     "metadata": {},
     "output_type": "display_data"
    }
   ],
   "source": [
    "wt = emu.emulate_wrt_r(params, emu.scale_bin_centers)[0]\n",
    "plt.plot(emu.scale_bin_centers, wt, label = 'Emu')\n",
    "l = len(emu.scale_bin_centers)\n",
    "plt.plot(emu.scale_bin_centers, emu.y[(idx)*l:(idx+1)*l]+emu.y_hat, label = 'Training')\n",
    "plt.ylabel(r'$w(\\theta)$')\n",
    "plt.xlabel(r'$\\theta \\mathrm{[degrees]}$')\n",
    "plt.loglog();\n",
    "plt.xscale('log')\n",
    "plt.legend(loc='best')"
   ]
  },
  {
   "cell_type": "code",
   "execution_count": 16,
   "metadata": {
    "collapsed": false
   },
   "outputs": [
    {
     "name": "stdout",
     "output_type": "stream",
     "text": [
      "[ 2.04149518  1.37231511  0.88222488  0.56031816  0.3721896   0.27413158\n",
      "  0.22564682  0.1973651   0.17326104  0.14805196  0.12221866  0.09751422\n",
      "  0.07480874  0.05426049  0.03635647  0.02228023  0.01317098  0.00898534\n",
      "  0.00779457  0.00548626]\n"
     ]
    }
   ],
   "source": [
    "print wt"
   ]
  },
  {
   "cell_type": "raw",
   "metadata": {
    "collapsed": false,
    "scrolled": false
   },
   "source": [
    "binlen = 19\n",
    "for b in xrange(5):\n",
    "    plt.plot(emu.scale_bin_centers, emu.y[b*binlen:(b+1)*binlen]+1)\n",
    "    params = dict(zip(emu._ordered_params.keys(), emu.x[b*binlen+1,:-1]))\n",
    "    pred = emu.emulate_wrt_r(params, emu.scale_bin_centers)[0]\n",
    "    plt.plot(emu.scale_bin_centers, 1+pred, ls = '--')\n",
    "    \n",
    "    #plt.ylim([0.9, 1.5])\n",
    "    plt.xscale('log')\n",
    "    plt.legend(loc='best')\n",
    "    plt.xlim([0.1, 4])\n",
    "    plt.title(r'$w(\\theta)$ Training vs. emulator')\n",
    "    plt.xlabel(r'$\\theta$')\n",
    "    plt.ylabel(r'$w(\\theta)$')\n",
    "    \n",
    "    plt.show()"
   ]
  },
  {
   "cell_type": "code",
   "execution_count": 17,
   "metadata": {
    "collapsed": true
   },
   "outputs": [],
   "source": [
    "from pearce.mocks import compute_prim_haloprop_bins, cat_dict"
   ]
  },
  {
   "cell_type": "code",
   "execution_count": 18,
   "metadata": {
    "collapsed": true
   },
   "outputs": [],
   "source": [
    "cosmo_params = {'simname':'chinchilla', 'Lbox':400.0, 'scale_factors':[a]}\n",
    "cat = cat_dict[cosmo_params['simname']](**cosmo_params)#construct the specified catalog!\n",
    "\n",
    "cat.load_catalog(a)\n",
    "#halo_masses = cat.halocat.halo_table['halo_mvir']"
   ]
  },
  {
   "cell_type": "code",
   "execution_count": 19,
   "metadata": {
    "collapsed": true
   },
   "outputs": [],
   "source": [
    "cat.load_model(a, 'hsabRedMagic')"
   ]
  },
  {
   "cell_type": "code",
   "execution_count": 20,
   "metadata": {
    "collapsed": false
   },
   "outputs": [
    {
     "ename": "NameError",
     "evalue": "name 'binlen' is not defined",
     "output_type": "error",
     "traceback": [
      "\u001b[1;31m---------------------------------------------------------------------------\u001b[0m",
      "\u001b[1;31mNameError\u001b[0m                                 Traceback (most recent call last)",
      "\u001b[1;32m<ipython-input-20-1695967c8420>\u001b[0m in \u001b[0;36m<module>\u001b[1;34m()\u001b[0m\n\u001b[0;32m      1\u001b[0m \u001b[0mbinno\u001b[0m \u001b[1;33m=\u001b[0m \u001b[1;36m1\u001b[0m\u001b[1;33m\u001b[0m\u001b[0m\n\u001b[1;32m----> 2\u001b[1;33m \u001b[0mparams\u001b[0m \u001b[1;33m=\u001b[0m \u001b[1;33m{\u001b[0m\u001b[0mpname\u001b[0m\u001b[1;33m:\u001b[0m\u001b[0mval\u001b[0m \u001b[1;32mfor\u001b[0m \u001b[0mpname\u001b[0m\u001b[1;33m,\u001b[0m \u001b[0mval\u001b[0m \u001b[1;32min\u001b[0m \u001b[0mzip\u001b[0m\u001b[1;33m(\u001b[0m\u001b[0memu\u001b[0m\u001b[1;33m.\u001b[0m\u001b[0m_ordered_params\u001b[0m\u001b[1;33m.\u001b[0m\u001b[0miterkeys\u001b[0m\u001b[1;33m(\u001b[0m\u001b[1;33m)\u001b[0m\u001b[1;33m,\u001b[0m \u001b[0memu\u001b[0m\u001b[1;33m.\u001b[0m\u001b[0mx\u001b[0m\u001b[1;33m[\u001b[0m\u001b[0mbinno\u001b[0m\u001b[1;33m*\u001b[0m\u001b[0mbinlen\u001b[0m\u001b[1;33m,\u001b[0m\u001b[1;33m:\u001b[0m\u001b[1;33m-\u001b[0m\u001b[1;36m1\u001b[0m\u001b[1;33m]\u001b[0m\u001b[1;33m)\u001b[0m\u001b[1;33m}\u001b[0m\u001b[1;33m\u001b[0m\u001b[0m\n\u001b[0m\u001b[0;32m      3\u001b[0m \u001b[0mcat\u001b[0m\u001b[1;33m.\u001b[0m\u001b[0mpopulate\u001b[0m\u001b[1;33m(\u001b[0m\u001b[0mparams\u001b[0m\u001b[1;33m)\u001b[0m\u001b[1;33m\u001b[0m\u001b[0m\n",
      "\u001b[1;31mNameError\u001b[0m: name 'binlen' is not defined"
     ]
    }
   ],
   "source": [
    "binno = 1\n",
    "params = {pname:val for pname, val in zip(emu._ordered_params.iterkeys(), emu.x[binno*binlen,:-1])}\n",
    "cat.populate(params)"
   ]
  },
  {
   "cell_type": "markdown",
   "metadata": {},
   "source": [
    "wt = cat.calc_wt(theta_bins, do_jackknife=False,n_cores=1)"
   ]
  },
  {
   "cell_type": "raw",
   "metadata": {},
   "source": [
    "plt.plot(emu.scale_bin_centers,1+wt)\n",
    "plt.plot(emu.scale_bin_centers, 1+10**emu.y[binno*emu.scale_bin_centers.shape[0]:(binno+1)*emu.scale_bin_centers.shape[0]])\n",
    "#plt.yscale('log')\n",
    "plt.loglog()\n",
    "plt.xlim([2.25/60, 275/60])\n",
    "plt.ylim([0.8, 4.0])"
   ]
  },
  {
   "cell_type": "code",
   "execution_count": null,
   "metadata": {
    "collapsed": true
   },
   "outputs": [],
   "source": [
    "theta_bins = np.logspace(np.log10(2.5), np.log10(250), 20)/60\n",
    "tpoints = (theta_bins[1:]+theta_bins[:-1])/2"
   ]
  },
  {
   "cell_type": "code",
   "execution_count": null,
   "metadata": {
    "collapsed": false,
    "scrolled": false
   },
   "outputs": [],
   "source": [
    "fig = plt.figure(figsize=(45,14))\n",
    "\n",
    "\n",
    "emulation_point = [('f_c', 0.233), ('logM0', 12.0), ('sigma_logM', 0.333),\n",
    "                    ('alpha', 1.053),('logM1', 13.5), ('logMmin', 12.033)]\n",
    "\n",
    "em_params = dict(emulation_point)\n",
    "\n",
    "em_params.update(fixed_params)\n",
    "del em_params['z']\n",
    "\n",
    "fixed_params2 = {'mean_occupation_satellites_assembias_param1':0.0,\n",
    "                'mean_occupation_centrals_assembias_param1':0.0,\n",
    "                'disp_func_slope_satellites':1.0,\n",
    "                'disp_func_slope_centrals':1.0}\n",
    "\n",
    "for idx, (param, bounds) in enumerate(emu._ordered_params.iteritems()):\n",
    "    if param == 'r':\n",
    "        continue\n",
    "    wt_vals = []\n",
    "    new_em_params = {}\n",
    "    new_em_params.update(em_params)\n",
    "    new_em_params.update(fixed_params2)\n",
    "    for v in np.linspace(bounds[0], bounds[1], 6):\n",
    "        new_em_params[param] = v\n",
    "        wt_vals.append(emu.emulate_wrt_r(new_em_params, tpoints))\n",
    "    wt_vals = np.array(wt_vals)\n",
    "    \n",
    "    pal = sns.cubehelix_palette(wt_vals.shape[0], start=idx, rot=0.3,\\\n",
    "                            dark=0.0, light=.60,reverse = True)\n",
    "    #sns.palplot(pal)\n",
    "\n",
    "    sns.set_palette(pal)\n",
    "\n",
    "    #sns.set_style(\"darkgrid\", {\"axes.facecolor\": \"0.85\"})\n",
    "    plt.subplot(5,2,idx+1)\n",
    "\n",
    "    for color, wt, v in zip(pal, wt_vals,np.linspace(bounds[0], bounds[1], 6) ):\n",
    "        plt.plot(tpoints, 1+wt[0,:], color = color, label = r'%s = %.1f'%(param,v) )\n",
    "    #plt.loglog()\n",
    "    plt.xscale('log')\n",
    "    plt.legend(loc='best')\n",
    "    plt.xlim([0.1, 4])\n",
    "    plt.title(r'$w(\\theta)$ variance by %s'%param)\n",
    "    plt.xlabel(r'$\\theta$')\n",
    "    plt.ylabel(r'$w(\\theta)$')\n",
    "plt.show()"
   ]
  },
  {
   "cell_type": "code",
   "execution_count": null,
   "metadata": {
    "collapsed": true
   },
   "outputs": [],
   "source": []
  }
 ],
 "metadata": {
  "kernelspec": {
   "display_name": "Python [conda env:hodemulator]",
   "language": "python",
   "name": "conda-env-hodemulator-py"
  },
  "language_info": {
   "codemirror_mode": {
    "name": "ipython",
    "version": 2
   },
   "file_extension": ".py",
   "mimetype": "text/x-python",
   "name": "python",
   "nbconvert_exporter": "python",
   "pygments_lexer": "ipython2",
   "version": "2.7.13"
  }
 },
 "nbformat": 4,
 "nbformat_minor": 0
}
