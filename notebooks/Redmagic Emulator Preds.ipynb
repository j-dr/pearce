{
 "cells": [
  {
   "cell_type": "markdown",
   "metadata": {},
   "source": [
    "I'm gonna overwrite a lot of this notebook's old content. I changed the way I'm calculating wt, and wanna test that my training worked. "
   ]
  },
  {
   "cell_type": "code",
   "execution_count": 1,
   "metadata": {
    "collapsed": false
   },
   "outputs": [],
   "source": [
    "%load_ext autoreload\n",
    "%autoreload 2"
   ]
  },
  {
   "cell_type": "code",
   "execution_count": 2,
   "metadata": {
    "collapsed": false
   },
   "outputs": [],
   "source": [
    "from pearce.emulator import OriginalRecipe, ExtraCrispy\n",
    "from pearce.mocks import cat_dict\n",
    "import numpy as np\n",
    "from os import path"
   ]
  },
  {
   "cell_type": "code",
   "execution_count": 3,
   "metadata": {
    "collapsed": true
   },
   "outputs": [],
   "source": [
    "import matplotlib\n",
    "#matplotlib.use('Agg')\n",
    "from matplotlib import pyplot as plt\n",
    "%matplotlib inline\n",
    "import seaborn as sns\n",
    "sns.set()"
   ]
  },
  {
   "cell_type": "code",
   "execution_count": 4,
   "metadata": {
    "collapsed": true
   },
   "outputs": [],
   "source": [
    "#training_file = '/u/ki/swmclau2/des/wt_trainer3/PearceRedMagicChinchillaWT.hdf5'\n",
    "training_file = '/u/ki/swmclau2/des/ds_trainer3/PearceRedMagicChindhillaDS.hdf5'\n",
    "\n",
    "\n",
    "em_method = 'gp'\n",
    "split_method = 'random'"
   ]
  },
  {
   "cell_type": "code",
   "execution_count": 5,
   "metadata": {
    "collapsed": true
   },
   "outputs": [],
   "source": [
    "a = 0.81120\n",
    "z = 1.0/a - 1.0\n"
   ]
  },
  {
   "cell_type": "code",
   "execution_count": 6,
   "metadata": {
    "collapsed": true
   },
   "outputs": [],
   "source": [
    "fixed_params = {'z':z}#, 'r':0.18477483}"
   ]
  },
  {
   "cell_type": "raw",
   "metadata": {
    "collapsed": true
   },
   "source": [
    "n_leaves, n_overlap = 10, 2\n",
    "emu = ExtraCrispy(training_dir, n_leaves, n_overlap, split_method, method = em_method, fixed_params=fixed_params)"
   ]
  },
  {
   "cell_type": "code",
   "execution_count": 7,
   "metadata": {
    "collapsed": false,
    "scrolled": false
   },
   "outputs": [
    {
     "name": "stdout",
     "output_type": "stream",
     "text": [
      "Hi\n"
     ]
    },
    {
     "name": "stderr",
     "output_type": "stream",
     "text": [
      "/u/ki/swmclau2/.local/lib/python2.7/site-packages/pearce/emulator/emu.py:287: UserWarning: WARNING: NaN detected. Skipped 23 points in training data.\n",
      "  warnings.warn('WARNING: NaN detected. Skipped %d points in training data.' % (num_skipped))\n"
     ]
    }
   ],
   "source": [
    "emu = OriginalRecipe(training_file, method = em_method, fixed_params=fixed_params, independent_variable=None,\\\n",
    "                     custom_mean_function = None, downsample_factor = 1.0)"
   ]
  },
  {
   "cell_type": "code",
   "execution_count": 8,
   "metadata": {
    "collapsed": false
   },
   "outputs": [],
   "source": [
    "#chain = np.genfromtxt('/u/ki/swmclau2/des/PearceMCMC/200_walkers_1000_steps_wtheta_exp2_hyperparams.npy')\n",
    "chain = np.genfromtxt('/u/ki/swmclau2/des/PearceMCMC/200_walkers_1000_steps_delta_sigma_exp2_hyperparams.npy')\n",
    "\n",
    "#v = chain.mean(axis = 0)\n",
    "n_burn =  0\n",
    "v = chain[200*n_burn:,].mean(axis = 0)"
   ]
  },
  {
   "cell_type": "code",
   "execution_count": 9,
   "metadata": {
    "collapsed": false
   },
   "outputs": [],
   "source": [
    "emu._emulator.set_parameter_vector(v)"
   ]
  },
  {
   "cell_type": "code",
   "execution_count": 10,
   "metadata": {
    "collapsed": true
   },
   "outputs": [],
   "source": [
    "#TODO other z's\n",
    "sc_inv = 0.0001239041803415539\n",
    "W = 0.00275848072207"
   ]
  },
  {
   "cell_type": "code",
   "execution_count": 11,
   "metadata": {
    "collapsed": true
   },
   "outputs": [],
   "source": [
    "chain_fname = '/u/ki/swmclau2/des/PearceMCMC/200_walkers_50000_steps_chain_redmagic_bias_z0.23.npy'"
   ]
  },
  {
   "cell_type": "code",
   "execution_count": 12,
   "metadata": {
    "collapsed": true
   },
   "outputs": [],
   "source": [
    "hod_param_names = ['logMmin','f_c', 'logM0', 'sigma_logM', 'logM1', 'alpha']"
   ]
  },
  {
   "cell_type": "code",
   "execution_count": 16,
   "metadata": {
    "collapsed": false
   },
   "outputs": [],
   "source": [
    "chain = np.genfromtxt(chain_fname)\n",
    "\n",
    "n_burn, n_walkers = 40000, 200\n",
    "chain = chain[n_walkers*n_burn:, :]"
   ]
  },
  {
   "cell_type": "code",
   "execution_count": 17,
   "metadata": {
    "collapsed": false
   },
   "outputs": [
    {
     "name": "stdout",
     "output_type": "stream",
     "text": [
      "['logMmin', 'f_c', 'logM0', 'sigma_logM', 'logM1', 'alpha']\n",
      "['logM1', 'logMmin', 'f_c', 'logM0', 'sigma_logM', 'alpha', 'r']\n"
     ]
    }
   ],
   "source": [
    "print hod_param_names\n",
    "print emu.get_param_names()"
   ]
  },
  {
   "cell_type": "code",
   "execution_count": 24,
   "metadata": {
    "collapsed": false,
    "scrolled": false
   },
   "outputs": [
    {
     "name": "stdout",
     "output_type": "stream",
     "text": [
      "{'logMmin': 12.331677912983411, 'f_c': 0.18715442687714692, 'logM0': 15.963323205773063, 'sigma_logM': 0.99577199402500449, 'logM1': 14.839785104990858, 'alpha': 1.304809967899728}\n",
      "{'logMmin': 12.608024517092838, 'f_c': 0.41261712783411708, 'logM0': 14.499308010578007, 'sigma_logM': 0.78962775791570516, 'logM1': 15.072292067369071, 'alpha': 1.069166338375855}\n",
      "{'logMmin': 11.981388954507112, 'f_c': 0.19273378558676829, 'logM0': 12.919352017776037, 'sigma_logM': 0.258993382659575, 'logM1': 14.905704096328517, 'alpha': 1.3713647338632007}\n",
      "{'logMmin': 12.454961771033108, 'f_c': 0.31170530942592889, 'logM0': 15.752765107185171, 'sigma_logM': 0.76310525291364972, 'logM1': 14.422937460142085, 'alpha': 1.4230190995343104}\n",
      "{'logMmin': 12.144963867817701, 'f_c': 0.24565431073417995, 'logM0': 12.92660463376035, 'sigma_logM': 0.39944782700522707, 'logM1': 14.760995713170095, 'alpha': 1.1281582915359849}\n",
      "{'logMmin': 12.125572593350784, 'f_c': 0.26278839151833944, 'logM0': 14.198874133739482, 'sigma_logM': 0.26652924183728832, 'logM1': 14.939798303844512, 'alpha': 1.4185749142197084}\n"
     ]
    },
    {
     "data": {
      "image/png": "[encoded data removed]",
      "text/plain": [
       "<matplotlib.figure.Figure at 0x7f891e8ba910>"
      ]
     },
     "metadata": {},
     "output_type": "display_data"
    }
   ],
   "source": [
    "i = 0\n",
    "for vals in chain:\n",
    "    params = dict(zip(hod_param_names, vals))\n",
    "    obs = emu.emulate_wrt_r(params, emu.scale_bin_centers)\n",
    "    print params\n",
    "    \n",
    "    plt.plot(emu.scale_bin_centers, sc_inv*obs[0])\n",
    "\n",
    "    i+=1\n",
    "    if i>5:    \n",
    "        break\n",
    "\n",
    "plt.ylabel(r\"$\\gamma_t(\\theta)$\")\n",
    "plt.xlabel(r\"$\\theta$ [deg]\")\n",
    "#plt.loglog()\n",
    "plt.xscale('log')\n",
    "plt.title(\"Samples from HOD Chains\")\n",
    "plt.show();"
   ]
  },
  {
   "cell_type": "code",
   "execution_count": 22,
   "metadata": {
    "collapsed": false
   },
   "outputs": [
    {
     "data": {
      "text/plain": [
       "{'alpha': 1.4185749142197084,\n",
       " 'f_c': 0.26278839151833944,\n",
       " 'logM0': 14.198874133739482,\n",
       " 'logM1': 14.939798303844512,\n",
       " 'logMmin': 12.125572593350784,\n",
       " 'sigma_logM': 0.26652924183728832}"
      ]
     },
     "execution_count": 22,
     "metadata": {},
     "output_type": "execute_result"
    }
   ],
   "source": [
    "params"
   ]
  },
  {
   "cell_type": "code",
   "execution_count": 20,
   "metadata": {
    "collapsed": false
   },
   "outputs": [
    {
     "data": {
      "text/plain": [
       "array([[ 0.70057714,  0.57779349,  0.44706952,  0.31610838,  0.18743617,\n",
       "         0.0698536 , -0.03827371, -0.1328015 , -0.21105872, -0.27177223,\n",
       "        -0.32477103, -0.37666335, -0.43030525, -0.47918318, -0.53673928,\n",
       "        -0.58604445, -0.63821658, -0.69782425, -0.75097854, -0.80857929]])"
      ]
     },
     "execution_count": 20,
     "metadata": {},
     "output_type": "execute_result"
    }
   ],
   "source": [
    "obs"
   ]
  },
  {
   "cell_type": "code",
   "execution_count": null,
   "metadata": {
    "collapsed": false
   },
   "outputs": [],
   "source": []
  },
  {
   "cell_type": "code",
   "execution_count": null,
   "metadata": {
    "collapsed": true
   },
   "outputs": [],
   "source": []
  }
 ],
 "metadata": {
  "kernelspec": {
   "display_name": "Python [default]",
   "language": "python",
   "name": "python2"
  },
  "language_info": {
   "codemirror_mode": {
    "name": "ipython",
    "version": 2
   },
   "file_extension": ".py",
   "mimetype": "text/x-python",
   "name": "python",
   "nbconvert_exporter": "python",
   "pygments_lexer": "ipython2",
   "version": "2.7.13"
  }
 },
 "nbformat": 4,
 "nbformat_minor": 1
}
