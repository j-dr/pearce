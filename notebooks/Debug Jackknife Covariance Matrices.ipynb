{
 "cells": [
  {
   "cell_type": "code",
   "execution_count": 55,
   "metadata": {
    "collapsed": false
   },
   "outputs": [],
   "source": [
    "from pearce.emulator.emu import OriginalRecipe, ExtraCrispy\n",
    "from pearce.emulator.trainingData import parameter, PARAMS"
   ]
  },
  {
   "cell_type": "code",
   "execution_count": 56,
   "metadata": {
    "collapsed": true
   },
   "outputs": [],
   "source": [
    "from george.kernels import ExpSquaredKernel\n",
    "import george"
   ]
  },
  {
   "cell_type": "code",
   "execution_count": 57,
   "metadata": {
    "collapsed": true
   },
   "outputs": [],
   "source": [
    "import numpy as np\n",
    "from matplotlib import pyplot as plt\n",
    "%matplotlib inline\n",
    "import seaborn as sns\n",
    "sns.set()\n",
    "from itertools import cycle\n",
    "colors = cycle(sns.color_palette())"
   ]
  },
  {
   "cell_type": "code",
   "execution_count": 58,
   "metadata": {
    "collapsed": true
   },
   "outputs": [],
   "source": [
    "training_dir = '/u/ki/swmclau2/des/PearceLHC/'"
   ]
  },
  {
   "cell_type": "code",
   "execution_count": 59,
   "metadata": {
    "collapsed": false
   },
   "outputs": [],
   "source": [
    "or_params = PARAMS[:]\n",
    "or_params.append(parameter('r', 0, 1)) #95% sure bounds aren't used for r\n",
    "emu = OriginalRecipe(training_dir,or_params)\n",
    "#emu = ExtraCrispy(training_dir)"
   ]
  },
  {
   "cell_type": "code",
   "execution_count": 60,
   "metadata": {
    "collapsed": false
   },
   "outputs": [],
   "source": [
    "emu.yerr*=100\n",
    "emu.build_emulator('xi', {})"
   ]
  },
  {
   "cell_type": "code",
   "execution_count": 61,
   "metadata": {
    "collapsed": false
   },
   "outputs": [],
   "source": [
    "ig = emu.get_initial_guess('xi', {})\n",
    "a = ig['amp']\n",
    "kernel = a * ExpSquaredKernel(emu.metric, ndim=emu.emulator_ndim)\n",
    "loo_gp = george.GP(kernel)\n",
    "# gp = george.GP(kernel, solver=george.HODLRSolver, nleaf=x.shape[0]+1,tol=1e-18)\n",
    "\n",
    "loo_gp.compute(emu.x[1:], emu.yerr[1:])  # NOTE I'm using a modified version of george!"
   ]
  },
  {
   "cell_type": "code",
   "execution_count": 62,
   "metadata": {
    "collapsed": false
   },
   "outputs": [
    {
     "name": "stdout",
     "output_type": "stream",
     "text": [
      "[ 0.481  0.481  0.481 ...,  0.481  0.481  0.481]\n",
      "[ 1.03807372  0.31082861  0.23575004 ...,  0.42593738  1.0945215\n",
      "  3.60801311]\n"
     ]
    }
   ],
   "source": [
    "K = emu.gp.kernel.value(emu.x)\n",
    "print np.diag(K)\n",
    "print emu.yerr"
   ]
  },
  {
   "cell_type": "code",
   "execution_count": 63,
   "metadata": {
    "collapsed": false
   },
   "outputs": [],
   "source": [
    "K_inv_full = emu.gp.solver.apply_inverse(np.eye(emu.x.shape[0]),in_place=True)"
   ]
  },
  {
   "cell_type": "code",
   "execution_count": 64,
   "metadata": {
    "collapsed": true
   },
   "outputs": [],
   "source": [
    "y_param = 'logMmin'\n",
    "emulation_point = [('f_c', 0.233), ('logM0', 12.0), ('sigma_logM', 0.533), \n",
    "                   ('alpha', 1.083),('logM1', 13.5), ('logMmin', 12.233)]\n",
    "em_params = dict(emulation_point)\n",
    "#del em_params[y_param]"
   ]
  },
  {
   "cell_type": "code",
   "execution_count": 65,
   "metadata": {
    "collapsed": false
   },
   "outputs": [],
   "source": [
    "from os import path\n",
    "save_dir = '/u/ki/swmclau2/des/EmulatorMCMC/'\n",
    "rpoints = np.log10(np.loadtxt(path.join(save_dir, 'rpoints.npy')) )\n",
    "true_vals = np.log10( np.loadtxt(path.join(save_dir, 'xi.npy')) )"
   ]
  },
  {
   "cell_type": "code",
   "execution_count": 66,
   "metadata": {
    "collapsed": false
   },
   "outputs": [],
   "source": [
    "rbins = np.array([  0.06309573,   0.12437607,   0.24517359,   0.34422476, 0.48329302, 0.67854546,\\\n",
    "           0.9526807 , 1.33756775,1.8779508 ,   2.6366509 ,   3.70186906,   5.19743987, 7.29722764, \\\n",
    "           10.24533859,  14.38449888,  20.1958975 , 28.35512583,  39.81071706] )\n",
    "#rpoints= np.log10((rbins[1:]+rbins[:-1])/2)\n",
    "em_params['r'] = rpoints#[:2]"
   ]
  },
  {
   "cell_type": "raw",
   "metadata": {
    "collapsed": true
   },
   "source": [
    "y_param_idx = -1\n",
    "for idx, p in enumerate(PARAMS):\n",
    "    if p.name==y_param:\n",
    "        y_param_idx = idx\n",
    "        break\n",
    "        \n",
    "y_vals = np.linspace(PARAMS[y_param_idx].low, PARAMS[y_param_idx].high, 4)\n",
    "em_params[y_param] = y_vals"
   ]
  },
  {
   "cell_type": "code",
   "execution_count": 67,
   "metadata": {
    "collapsed": false
   },
   "outputs": [
    {
     "name": "stderr",
     "output_type": "stream",
     "text": [
      "/afs/slac.stanford.edu/u/ki/swmclau2/.local/lib/python2.7/site-packages/ipykernel/__main__.py:10: DeprecationWarning: Changing the shape of non-C contiguous array by\n",
      "descriptor assignment is deprecated. To maintain\n",
      "the Fortran contiguity of a multidimensional Fortran\n",
      "array, use 'a.T.view(...).T' instead\n",
      "/afs/slac.stanford.edu/u/ki/swmclau2/.local/lib/python2.7/site-packages/ipykernel/__main__.py:13: DeprecationWarning: Changing the shape of non-C contiguous array by\n",
      "descriptor assignment is deprecated. To maintain\n",
      "the Fortran contiguity of a multidimensional Fortran\n",
      "array, use 'a.T.view(...).T' instead\n",
      "/afs/slac.stanford.edu/u/ki/swmclau2/.local/lib/python2.7/site-packages/ipykernel/__main__.py:14: DeprecationWarning: Changing the shape of non-C contiguous array by\n",
      "descriptor assignment is deprecated. To maintain\n",
      "the Fortran contiguity of a multidimensional Fortran\n",
      "array, use 'a.T.view(...).T' instead\n"
     ]
    }
   ],
   "source": [
    "input_params = {}\n",
    "input_params.update(em_params)\n",
    "\n",
    "# i'd like to remove 'r'. possibly requiring a passed in param?\n",
    "t_list = [input_params[p.name] for p in emu.ordered_params]\n",
    "t_grid = np.meshgrid(*t_list)\n",
    "t = np.stack(t_grid).T\n",
    "t = t.reshape((-1, emu.emulator_ndim))\n",
    "try:\n",
    "    t = np.sort(t.view(','.join(['float64' for _ in xrange(min(t.shape))])),\n",
    "                order=['f%d' % i for i in xrange(min(t.shape))], axis=0).view(np.float)\n",
    "except ValueError:\n",
    "        t = np.sort(t.view(','.join(['float64' for _ in xrange(max(t.shape))])),\n",
    "                order=['f%d' % i for i in xrange(max(t.shape))], axis=0).view(np.float)"
   ]
  },
  {
   "cell_type": "code",
   "execution_count": 68,
   "metadata": {
    "collapsed": false
   },
   "outputs": [
    {
     "name": "stdout",
     "output_type": "stream",
     "text": [
      "(17, 7)\n"
     ]
    }
   ],
   "source": [
    "print t.shape"
   ]
  },
  {
   "cell_type": "code",
   "execution_count": 69,
   "metadata": {
    "collapsed": false
   },
   "outputs": [
    {
     "name": "stdout",
     "output_type": "stream",
     "text": [
      "(8432,)\n"
     ]
    }
   ],
   "source": [
    "print emu.y.shape"
   ]
  },
  {
   "cell_type": "code",
   "execution_count": 70,
   "metadata": {
    "collapsed": false
   },
   "outputs": [
    {
     "name": "stdout",
     "output_type": "stream",
     "text": [
      "[ 3.27478415  2.91670686  2.53932793  2.1973586   1.87049094  1.49046265\n",
      "  1.09514301  0.75238009  0.48984533  0.26512903  0.022259   -0.20933873\n",
      " -0.474599   -0.75575697 -1.06897751 -1.39684355 -1.90324827]\n"
     ]
    }
   ],
   "source": [
    "#loo_mu = loo_gp.predict(emu.y[1:, 0], t , mean_only=True)\n",
    "loo_mu = loo_gp.predict(emu.y[1:], t , mean_only=True)\n",
    "print loo_mu"
   ]
  },
  {
   "cell_type": "code",
   "execution_count": 71,
   "metadata": {
    "collapsed": false
   },
   "outputs": [
    {
     "name": "stdout",
     "output_type": "stream",
     "text": [
      "(8431, 8431) (8432, 8432)\n"
     ]
    }
   ],
   "source": [
    "loo_inv = loo_gp.solver.apply_inverse(np.eye(emu.x.shape[0]-1),in_place=True)\n",
    "print loo_inv.shape, K_inv_full.shape"
   ]
  },
  {
   "cell_type": "code",
   "execution_count": 72,
   "metadata": {
    "collapsed": false
   },
   "outputs": [
    {
     "name": "stdout",
     "output_type": "stream",
     "text": [
      "[  8.21877378e+00  -1.16311768e+00  -1.28117866e+00 ...,  -3.97088371e-07\n",
      "  -2.12451558e-07  -1.01048544e-06]\n",
      "\n",
      "[ -1.16311768e+00   1.26769228e+01  -6.00170946e-01 ...,   3.69837241e-07\n",
      "   4.92379426e-07   3.01231946e-06]\n"
     ]
    }
   ],
   "source": [
    "print loo_inv[0,:]\n",
    "print \n",
    "print loo_inv[1,:]"
   ]
  },
  {
   "cell_type": "code",
   "execution_count": 73,
   "metadata": {
    "collapsed": false
   },
   "outputs": [
    {
     "name": "stdout",
     "output_type": "stream",
     "text": [
      "[  8.41638316e-01  -9.33577726e-02   2.88365335e-02 ...,  -1.94920108e-07\n",
      "   3.80550986e-08   1.70124510e-08]\n",
      "\n",
      "[ -9.33577726e-02   7.16358940e+00  -1.43786314e+00 ...,   3.22850158e-06\n",
      "  -2.06993635e-07  -9.54387521e-08]\n"
     ]
    }
   ],
   "source": [
    "print K_inv_full[0,:]\n",
    "print \n",
    "print K_inv_full[1,:]"
   ]
  },
  {
   "cell_type": "code",
   "execution_count": 74,
   "metadata": {
    "collapsed": false
   },
   "outputs": [
    {
     "name": "stdout",
     "output_type": "stream",
     "text": [
      "[ 3.506215    2.94238421  2.55057474  2.23116454  1.89619466  1.53034952\n",
      "  1.1433539   0.77875163  0.49230745  0.26154951  0.02023064 -0.20623929\n",
      " -0.47746181 -0.73868938 -1.02035267 -1.50507731 -1.79546714]\n"
     ]
    }
   ],
   "source": [
    "mu, G = emu.emulate(em_params)\n",
    "print mu"
   ]
  },
  {
   "cell_type": "code",
   "execution_count": 75,
   "metadata": {
    "collapsed": false
   },
   "outputs": [
    {
     "name": "stdout",
     "output_type": "stream",
     "text": [
      "[ 3.65551011]\n"
     ]
    }
   ],
   "source": [
    "yhat = loo_gp.predict(emu.y[1:], emu.x[0].reshape((1,emu.x.shape[1])), mean_only=True)\n",
    "#yhat = loo_gp.predict(emu.y[1:, 0], emu.x[0].reshape((1,emu.x.shape[1])), mean_only=True)\n",
    "\n",
    "print yhat"
   ]
  },
  {
   "cell_type": "code",
   "execution_count": 76,
   "metadata": {
    "collapsed": false
   },
   "outputs": [
    {
     "name": "stdout",
     "output_type": "stream",
     "text": [
      "3.72177668084\n"
     ]
    }
   ],
   "source": [
    "#print emu.y[0, 0]\n",
    "print emu.y[0]"
   ]
  },
  {
   "cell_type": "code",
   "execution_count": 77,
   "metadata": {
    "collapsed": false
   },
   "outputs": [],
   "source": [
    "x, y = emu.x[:], emu.y[:]\n",
    "\n",
    "N = K_inv_full.shape[0]"
   ]
  },
  {
   "cell_type": "code",
   "execution_count": 78,
   "metadata": {
    "collapsed": true
   },
   "outputs": [],
   "source": [
    "from time import time\n",
    "from scipy.linalg import inv"
   ]
  },
  {
   "cell_type": "code",
   "execution_count": 79,
   "metadata": {
    "collapsed": true
   },
   "outputs": [],
   "source": [
    "my_inds = [i for i in xrange(1, N-1)]\n",
    "my_inds.append(0)\n",
    "my_inds = np.array(my_inds)"
   ]
  },
  {
   "cell_type": "code",
   "execution_count": 80,
   "metadata": {
    "collapsed": true
   },
   "outputs": [],
   "source": [
    "from copy import deepcopy"
   ]
  },
  {
   "cell_type": "code",
   "execution_count": 81,
   "metadata": {
    "collapsed": true
   },
   "outputs": [],
   "source": [
    "times = np.zeros((N,))"
   ]
  },
  {
   "cell_type": "raw",
   "metadata": {
    "collapsed": false,
    "scrolled": true
   },
   "source": [
    "for idx in xrange(N):\n",
    "    #print idx\n",
    "    '''\n",
    "    t0 = time()\n",
    "    # This operation was really slow. Trying something else.\n",
    "    # K_inv_idx_N = np.dot(rotation_matrix, np.dot(K_inv_full, rotation_matrix))\n",
    "    # Small\n",
    "    K_inv_full[[idx, N - 1], :] = K_inv_full[[N - 1, idx], :]\n",
    "    K_inv_full[:, [idx, N - 1]] = K_inv_full[:, [N - 1, idx]]\n",
    "    #print time() - t0, 's'\n",
    "    # swap x and y as well\n",
    "    x[[idx, N - 1], :] = x[[N - 1, idx], :]\n",
    "    y[[idx, N - 1]] = y[[N - 1, idx]]\n",
    "\n",
    "    K_inv_m_idx = K_inv_full[:N - 1, :][:,\n",
    "          :N - 1]  # -np.outer(K_inv_full[N-1,:N-1], K_inv_full[:N-1,N-1])/K_inv_full[N-1,N-1]\n",
    "    c = K_inv_full[N - 1, :N - 1]\n",
    "    # The subtracction takes a long time\n",
    "    K_inv_m_idx -= np.outer(c / K_inv_full[N - 1, N - 1], c)\n",
    "    Kxxs = emu.gp.kernel.value(t, x[:N - 1])\n",
    "    #print time() - t0, 's'  # slow-ish\n",
    "    # TODO currently doesn't work on ExtraCrispy. Could make y an input and it would.\n",
    "    # this proudct takes a long time\n",
    "    alpha = np.dot(K_inv_m_idx, y[:N - 1])\n",
    "    #print time() - t0, 's'  # slow-ish\n",
    "    mus[idx, :] = np.dot(Kxxs, alpha)\n",
    "\n",
    "    print mus[idx, :]\n",
    "    print\n",
    "    #print time() - t0, 's'\n",
    "    #print\n",
    "    '''\n",
    "    t0 = time()\n",
    "    #TODO put switches at the end of the loop too\n",
    "    #then i can make just one deepcopy\n",
    "    t_x = deepcopy(emu.x)\n",
    "    t_x[[N-1, idx]] = t_x[[idx, N-1]]\n",
    "    t_yerr = deepcopy(emu.yerr)\n",
    "    t_yerr[[N-1, idx]] = t_yerr[[idx, N-1]]\n",
    "    \n",
    "    K_inv = deepcopy(K_inv_full)\n",
    "    \n",
    "    K_inv[[idx, N - 1], :] = K_inv[[N - 1, idx], :]\n",
    "    K_inv[:, [idx, N - 1]] = K_inv[:, [N - 1, idx]]\n",
    "    \n",
    "    K3_inv = K_inv[:N - 1, :][:,:N - 1] \\\n",
    "            -np.outer(K_inv[N-1,:N-1], K_inv[:N-1,N-1])/K_inv[N-1,N-1]\n",
    "        \n",
    "\n",
    "    #K3 = emu.gp.kernel.value(emu.x, emu.x)+np.diag(emu.yerr**2)\n",
    "    #K3[[N-1, idx], :] = K3[[idx, N-1], :]\n",
    "    #K3[:, [N-1, idx]] = K3[:, [idx, N-1]]\n",
    "    #K3_inv2 = inv(K3[:N-1, :][:,:N-1])\n",
    "    #print K3_inv[0, :]\n",
    "    #print K3_inv2[0,:]\n",
    "    #y3 = np.dot(rotation_matrix, emu.gp._y)\n",
    "    #y3 = np.dot(rotation_matrix, emu.y)\n",
    "    y3 = deepcopy(emu.y)\n",
    "    y3[[N-1, idx]] = y3[[idx, N-1]]\n",
    "\n",
    "    #same\n",
    "    #means same point is being left out. \n",
    "    #print 'x0'\n",
    "    #print emu.x[0]\n",
    "    #print t_x[N-1]\n",
    "    #print\n",
    "    #these two have a different order for some reason! because ofc. \n",
    "    #do have the same values, just a different order\n",
    "    #print 'x'\n",
    "    #print loo_gp._x\n",
    "    #print t_x[:N-1]\n",
    "    #print t_x[:N-1][my_inds]\n",
    "    #print\n",
    "    #similarly, same value with different ordering. \n",
    "    #Kxxs4 = loo_gp.kernel.value(emu.x[0].reshape((1,emu.x.shape[1])), loo_gp._x)[0,:]\n",
    "    #print 'Kxx'\n",
    "    #print Kxxs4\n",
    "    Kxxs5 = emu.gp.kernel.value(t_x[N-1].reshape((1,t_x.shape[1])), t_x[:N-1])[0,:]\n",
    "    #print Kxxs5\n",
    "    #print\n",
    "    #also the same values, out of order. is the order different then of x?\n",
    "    #no, just have to remember to use the gp's indicies\n",
    "    #print 'y'\n",
    "    #print loo_gp._y[loo_gp.inds]\n",
    "    #print y3[:N-1]\n",
    "    #print\n",
    "    #loo_gp._compute_alpha(loo_gp._y)\n",
    "    #alpha4 = loo_gp._alpha\n",
    "    #print alpha4\n",
    "    #print\n",
    "    alpha5 = np.dot(K3_inv, y3[:N-1]-emu.gp.mean(t_x[:N-1]))\n",
    "    #print alpha5\n",
    "    #print\n",
    "    #print yhat3\n",
    "    #print np.dot(Kxxs4, alpha4) + loo_gp.mean(emu.x[0].reshape((1,emu.x.shape[1])))\n",
    "    #print yhat\n",
    "    print 'yhat'\n",
    "    print np.dot(Kxxs5, alpha5)+ emu.gp.mean(t_x[N-1].reshape((1,t_x.shape[1])))[0]\n",
    "    #print emu.gp._y[emu.gp.inds[idx]] - emu.gp._alpha[idx]/K_inv_full[idx,idx]\n",
    "    print 'Emulator Truth'\n",
    "    loo_params = {p.name:val for p, val in zip(emu.ordered_params, t_x[N-1])}\n",
    "    #print loo_params\n",
    "    em_y, _ =  emu.emulate(loo_params)\n",
    "    print em_y[0]\n",
    "    print \n",
    "    print 'Truths'\n",
    "    print y3[N-1]\n",
    "    print\n",
    "    Kxxs_t = emu.gp.kernel.value(t, t_x[:N-1])\n",
    "    print 'Mean Estimate'\n",
    "    print np.dot(Kxxs_t, alpha5)+ emu.gp.mean(t)\n",
    "    print \n",
    "    print 'Emulator Truth'\n",
    "    print mu[0]\n",
    "    print \n",
    "    print 'Truth'\n",
    "    print true_vals[0]\n",
    "    print\n",
    "    print 'Diff'\n",
    "    print np.dot(Kxxs_t, alpha5)+ emu.gp.mean(t)-mu\n",
    "    print\n",
    "    print '*-_-'*50\n",
    "    \n",
    "    #Kxxs3 =emu.gp.kernel.value(t, t_x[:N - 1])\n",
    "    #mu3 = np.dot(Kxxs3, alpha3)\n",
    "    #print mu3\n",
    "    #print time() - t0, 's'\n",
    "    \n",
    "    #K_inv_full[[idx, N - 1], :] = K_inv_full[[N - 1, idx], :]\n",
    "    #K_inv_full[:, [idx, N - 1]] = K_inv_full[:, [N - 1, idx]]\n",
    "    #print time() - t0, 's'\n",
    "    #t_x[[N-1, idx]] = t_x[[idx, N-1]]\n",
    "    #t_yerr[[N-1, idx]] = t_yerr[[idx, N-1]]\n",
    "    break"
   ]
  },
  {
   "cell_type": "code",
   "execution_count": 82,
   "metadata": {
    "collapsed": false
   },
   "outputs": [],
   "source": [
    "mus = np.zeros((N, len(rpoints)))"
   ]
  },
  {
   "cell_type": "code",
   "execution_count": null,
   "metadata": {
    "collapsed": false,
    "scrolled": true
   },
   "outputs": [
    {
     "name": "stdout",
     "output_type": "stream",
     "text": [
      "0\n",
      "1"
     ]
    }
   ],
   "source": [
    "t0 = time()\n",
    "for idx in xrange(N):\n",
    "    print idx\n",
    "    #TODO put switches at the end of the loop too\n",
    "    #then i can make just one deepcopy\n",
    "    #t_x = deepcopy(emu.x)\n",
    "    t_x = emu.x\n",
    "    t_x[[N-1, idx]] = t_x[[idx, N-1]]\n",
    "    \n",
    "    #t_yerr = deepcopy(emu.yerr)\n",
    "    t_yerr = emu.yerr\n",
    "    t_yerr[[N-1, idx]] = t_yerr[[idx, N-1]]\n",
    "    \n",
    "    #t_y = deepcopy(emu.y[:, 0])\n",
    "    t_y = emu.y\n",
    "    #t_y[[N-1, idx], :] = t_y[[idx, N-1], :]\n",
    "    t_y[[N-1, idx]] = t_y[[idx, N-1]]\n",
    "    #K_inv = deepcopy(K_inv_full)\n",
    "    K_inv = K_inv_full\n",
    "    \n",
    "    K_inv[[idx, N - 1], :] = K_inv[[N - 1, idx], :]\n",
    "    K_inv[:, [idx, N - 1]] = K_inv[:, [N - 1, idx]]\n",
    "    \n",
    "    K_m_idx_inv = K_inv[:N - 1, :][:,:N - 1] \\\n",
    "            -np.outer(K_inv[N-1,:N-1], K_inv[:N-1,N-1])/K_inv[N-1,N-1]\n",
    "           \n",
    "    #alpha_m_idx = [np.dot(K_m_idx_inv, t_y[:N-1, rbin ]-emu.gp.mean(t_x[:N-1])) for rbin in xrange(t_y.shape[1]) ]\n",
    "    alpha_m_idx = np.dot(K_m_idx_inv, t_y[:N-1 ]-emu.gp.mean(t_x[:N-1]))\n",
    "\n",
    "    Kxxs_t = emu.gp.kernel.value(t, t_x[:N-1])\n",
    "    #mus[idx, :] = np.array([np.dot(Kxxs_t, alpha_m_idx[rbin])+ emu.gp.mean(t) for rbin in xrange(t_y.shape[1]) ])[:,0]\n",
    "    mus[idx, :] = np.dot(Kxxs_t, alpha_m_idx)+ emu.gp.mean(t)\n",
    "\n",
    "    #print mus[idx]\n",
    "    #print\n",
    "    K_inv_full[[idx, N - 1], :] = K_inv_full[[N - 1, idx], :]\n",
    "    K_inv_full[:, [idx, N - 1]] = K_inv_full[:, [N - 1, idx]]\n",
    "\n",
    "    t_x[[N-1, idx]] = t_x[[idx, N-1]]\n",
    "    t_yerr[[N-1, idx]] = t_yerr[[idx, N-1]]\n",
    "    #t_y[[N-1, idx],:] = t_y[[idx, N-1],:]\n",
    "    t_y[[N-1, idx]] = t_y[[idx, N-1]]\n",
    "print time()-t0, 's'"
   ]
  },
  {
   "cell_type": "code",
   "execution_count": null,
   "metadata": {
    "collapsed": false
   },
   "outputs": [],
   "source": [
    "np.diag((N-1.0)/N*np.cov(mus, rowvar=False))"
   ]
  },
  {
   "cell_type": "code",
   "execution_count": null,
   "metadata": {
    "collapsed": false,
    "scrolled": true
   },
   "outputs": [],
   "source": [
    "t0 = time()\n",
    "for idx in xrange(N):\n",
    "    print idx\n",
    "    #TODO put switches at the end of the loop too\n",
    "    #then i can make just one deepcopy\n",
    "    #t_x = deepcopy(emu.x)\n",
    "    t_x = emu.x\n",
    "    t_x[[N-1, idx]] = t_x[[idx, N-1]]\n",
    "    \n",
    "    #t_yerr = deepcopy(emu.yerr)\n",
    "    t_yerr = emu.yerr\n",
    "    t_yerr[[N-1, idx]] = t_yerr[[idx, N-1]]\n",
    "    \n",
    "    #t_y = deepcopy(emu.y[:, 0])\n",
    "    t_y = emu.y\n",
    "    #t_y[[N-1, idx], :] = t_y[[idx, N-1], :]\n",
    "    t_y[[N-1, idx]] = t_y[[idx, N-1]]\n",
    "    loo_gp.compute(t_x[:N-1], t_yerr[:N-1]) \n",
    "    mus[idx,:] = np.array([loo_gp.predict(emu.y[:N-1, rbin], t , mean_only=True) for rbin in xrange(t_y.shape[1]) ])[:,0]\n",
    "\n",
    "    #print\n",
    "    #K_inv_full[[idx, N - 1], :] = K_inv_full[[N - 1, idx], :]\n",
    "    #K_inv_full[:, [idx, N - 1]] = K_inv_full[:, [N - 1, idx]]\n",
    "\n",
    "    t_x[[N-1, idx]] = t_x[[idx, N-1]]\n",
    "    t_yerr[[N-1, idx]] = t_yerr[[idx, N-1]]\n",
    "    #t_y[[N-1, idx],:] = t_y[[idx, N-1],:]\n",
    "    t_y[[N-1, idx]] = t_y[[idx, N-1]]\n",
    "print time()-t0, 's'"
   ]
  },
  {
   "cell_type": "code",
   "execution_count": null,
   "metadata": {
    "collapsed": false
   },
   "outputs": [],
   "source": [
    "np.diag((N-1.0)/N*np.cov(mus, rowvar=False))"
   ]
  },
  {
   "cell_type": "code",
   "execution_count": null,
   "metadata": {
    "collapsed": false,
    "scrolled": true
   },
   "outputs": [],
   "source": [
    "print G"
   ]
  },
  {
   "cell_type": "code",
   "execution_count": null,
   "metadata": {
    "collapsed": true
   },
   "outputs": [],
   "source": []
  }
 ],
 "metadata": {
  "kernelspec": {
   "display_name": "Python [conda env:hodemulator]",
   "language": "python",
   "name": "conda-env-hodemulator-py"
  },
  "language_info": {
   "codemirror_mode": {
    "name": "ipython",
    "version": 2
   },
   "file_extension": ".py",
   "mimetype": "text/x-python",
   "name": "python",
   "nbconvert_exporter": "python",
   "pygments_lexer": "ipython2",
   "version": "2.7.12"
  }
 },
 "nbformat": 4,
 "nbformat_minor": 0
}
