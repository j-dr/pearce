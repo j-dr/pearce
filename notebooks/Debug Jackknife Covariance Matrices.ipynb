{
 "cells": [
  {
   "cell_type": "code",
   "execution_count": 78,
   "metadata": {
    "collapsed": true
   },
   "outputs": [],
   "source": [
    "from pearce.emulator.emu import OriginalRecipe, ExtraCrispy\n",
    "from pearce.emulator.trainingData import parameter, PARAMS"
   ]
  },
  {
   "cell_type": "code",
   "execution_count": 79,
   "metadata": {
    "collapsed": true
   },
   "outputs": [],
   "source": [
    "from george.kernels import ExpSquaredKernel\n",
    "import george"
   ]
  },
  {
   "cell_type": "code",
   "execution_count": 80,
   "metadata": {
    "collapsed": true
   },
   "outputs": [],
   "source": [
    "import numpy as np\n",
    "from matplotlib import pyplot as plt\n",
    "%matplotlib inline\n",
    "import seaborn as sns\n",
    "sns.set()\n",
    "from itertools import cycle\n",
    "colors = cycle(sns.color_palette())"
   ]
  },
  {
   "cell_type": "code",
   "execution_count": 81,
   "metadata": {
    "collapsed": true
   },
   "outputs": [],
   "source": [
    "training_dir = '/u/ki/swmclau2/des/PearceLHC/'"
   ]
  },
  {
   "cell_type": "code",
   "execution_count": null,
   "metadata": {
    "collapsed": false
   },
   "outputs": [],
   "source": [
    "or_params = PARAMS[:]\n",
    "or_params.append(parameter('r', 0, 1)) #95% sure bounds aren't used for r\n",
    "emu = OriginalRecipe(training_dir,or_params)"
   ]
  },
  {
   "cell_type": "code",
   "execution_count": null,
   "metadata": {
    "collapsed": false
   },
   "outputs": [],
   "source": [
    "ig = emu.get_initial_guess('xi', {})\n",
    "a = ig['amp']\n",
    "kernel = a * ExpSquaredKernel(emu.metric, ndim=emu.emulator_ndim)\n",
    "loo_gp = george.GP(kernel)\n",
    "# gp = george.GP(kernel, solver=george.HODLRSolver, nleaf=x.shape[0]+1,tol=1e-18)\n",
    "\n",
    "loo_gp.compute(emu.x[1:], emu.yerr[1:])  # NOTE I'm using a modified version of george!"
   ]
  },
  {
   "cell_type": "code",
   "execution_count": null,
   "metadata": {
    "collapsed": false
   },
   "outputs": [],
   "source": [
    "K_inv_full = emu.gp.solver.apply_inverse(np.eye(emu.x.shape[0]),in_place=True)"
   ]
  },
  {
   "cell_type": "code",
   "execution_count": null,
   "metadata": {
    "collapsed": true
   },
   "outputs": [],
   "source": [
    "y_param = 'logMmin'\n",
    "emulation_point = [('f_c', 0.233), ('logM0', 12.0), ('sigma_logM', 0.533), \n",
    "                   ('alpha', 1.083),('logM1', 13.5), ('logMmin', 12.233)]\n",
    "em_params = dict(emulation_point)\n",
    "del em_params[y_param]"
   ]
  },
  {
   "cell_type": "code",
   "execution_count": null,
   "metadata": {
    "collapsed": false
   },
   "outputs": [],
   "source": [
    "rbins = np.array([  0.06309573,   0.12437607,   0.24517359,   0.34422476, 0.48329302, 0.67854546,\\\n",
    "           0.9526807 , 1.33756775,1.8779508 ,   2.6366509 ,   3.70186906,   5.19743987, 7.29722764, \\\n",
    "           10.24533859,  14.38449888,  20.1958975 , 28.35512583,  39.81071706] )\n",
    "rpoints= np.log10((rbins[1:]+rbins[:-1])/2)\n",
    "em_params['r'] = rpoints[:2]"
   ]
  },
  {
   "cell_type": "code",
   "execution_count": null,
   "metadata": {
    "collapsed": true
   },
   "outputs": [],
   "source": [
    "y_param_idx = -1\n",
    "for idx, p in enumerate(PARAMS):\n",
    "    if p.name==y_param:\n",
    "        y_param_idx = idx\n",
    "        break\n",
    "        \n",
    "y_vals = np.linspace(PARAMS[y_param_idx].low, PARAMS[y_param_idx].high, 4)\n",
    "em_params[y_param] = y_vals"
   ]
  },
  {
   "cell_type": "code",
   "execution_count": null,
   "metadata": {
    "collapsed": false
   },
   "outputs": [],
   "source": [
    "input_params = {}\n",
    "input_params.update(em_params)\n",
    "\n",
    "# i'd like to remove 'r'. possibly requiring a passed in param?\n",
    "t_list = [input_params[p.name] for p in emu.ordered_params]\n",
    "t_grid = np.meshgrid(*t_list)\n",
    "t = np.stack(t_grid).T\n",
    "t = t.reshape((-1, emu.emulator_ndim))\n",
    "t = np.sort(t.view(','.join(['float64' for _ in xrange(min(t.shape))])),\n",
    "            order=['f%d' % i for i in xrange(min(t.shape))], axis=0).view(np.float)"
   ]
  },
  {
   "cell_type": "code",
   "execution_count": null,
   "metadata": {
    "collapsed": false
   },
   "outputs": [],
   "source": [
    "loo_mu = loo_gp.predict(emu.y[1:], t , mean_only=True)\n",
    "print loo_mu"
   ]
  },
  {
   "cell_type": "code",
   "execution_count": null,
   "metadata": {
    "collapsed": false
   },
   "outputs": [],
   "source": [
    "loo_inv = loo_gp.solver.apply_inverse(np.eye(emu.x.shape[0]-1),in_place=True)\n",
    "print loo_inv.shape, K_inv_full.shape"
   ]
  },
  {
   "cell_type": "code",
   "execution_count": null,
   "metadata": {
    "collapsed": false
   },
   "outputs": [],
   "source": [
    "print loo_inv[0,:]\n",
    "print \n",
    "print loo_inv[1,:]"
   ]
  },
  {
   "cell_type": "code",
   "execution_count": null,
   "metadata": {
    "collapsed": false
   },
   "outputs": [],
   "source": [
    "print K_inv_full[0,:]\n",
    "print \n",
    "print K_inv_full[1,:]"
   ]
  },
  {
   "cell_type": "code",
   "execution_count": null,
   "metadata": {
    "collapsed": false
   },
   "outputs": [],
   "source": [
    "mu, _ = emu.emulate(em_params)\n",
    "print mu"
   ]
  },
  {
   "cell_type": "code",
   "execution_count": null,
   "metadata": {
    "collapsed": false
   },
   "outputs": [],
   "source": [
    "yhat = loo_gp.predict(emu.y[1:], emu.x[0].reshape((1,emu.x.shape[1])), mean_only=True)\n",
    "print yhat"
   ]
  },
  {
   "cell_type": "code",
   "execution_count": null,
   "metadata": {
    "collapsed": false
   },
   "outputs": [],
   "source": [
    "print emu.y[0]"
   ]
  },
  {
   "cell_type": "code",
   "execution_count": null,
   "metadata": {
    "collapsed": false
   },
   "outputs": [],
   "source": [
    "x, y = emu.x[:], emu.y[:]\n",
    "\n",
    "N = K_inv_full.shape[0]\n",
    "mus = np.zeros((N, t.shape[0]))"
   ]
  },
  {
   "cell_type": "code",
   "execution_count": null,
   "metadata": {
    "collapsed": true
   },
   "outputs": [],
   "source": [
    "from time import time\n",
    "from scipy.linalg import inv"
   ]
  },
  {
   "cell_type": "code",
   "execution_count": null,
   "metadata": {
    "collapsed": true
   },
   "outputs": [],
   "source": [
    "my_inds = [i for i in xrange(1, N-1)]\n",
    "my_inds.append(0)\n",
    "my_inds = np.array(my_inds)"
   ]
  },
  {
   "cell_type": "code",
   "execution_count": null,
   "metadata": {
    "collapsed": false
   },
   "outputs": [],
   "source": [
    "for idx in xrange(N):\n",
    "    #print idx\n",
    "    '''\n",
    "    t0 = time()\n",
    "    # This operation was really slow. Trying something else.\n",
    "    # K_inv_idx_N = np.dot(rotation_matrix, np.dot(K_inv_full, rotation_matrix))\n",
    "    # Small\n",
    "    K_inv_full[[idx, N - 1], :] = K_inv_full[[N - 1, idx], :]\n",
    "    K_inv_full[:, [idx, N - 1]] = K_inv_full[:, [N - 1, idx]]\n",
    "    #print time() - t0, 's'\n",
    "    # swap x and y as well\n",
    "    x[[idx, N - 1], :] = x[[N - 1, idx], :]\n",
    "    y[[idx, N - 1]] = y[[N - 1, idx]]\n",
    "\n",
    "    K_inv_m_idx = K_inv_full[:N - 1, :][:,\n",
    "          :N - 1]  # -np.outer(K_inv_full[N-1,:N-1], K_inv_full[:N-1,N-1])/K_inv_full[N-1,N-1]\n",
    "    c = K_inv_full[N - 1, :N - 1]\n",
    "    # The subtracction takes a long time\n",
    "    K_inv_m_idx -= np.outer(c / K_inv_full[N - 1, N - 1], c)\n",
    "    Kxxs = emu.gp.kernel.value(t, x[:N - 1])\n",
    "    #print time() - t0, 's'  # slow-ish\n",
    "    # TODO currently doesn't work on ExtraCrispy. Could make y an input and it would.\n",
    "    # this proudct takes a long time\n",
    "    alpha = np.dot(K_inv_m_idx, y[:N - 1])\n",
    "    #print time() - t0, 's'  # slow-ish\n",
    "    mus[idx, :] = np.dot(Kxxs, alpha)\n",
    "\n",
    "    print mus[idx, :]\n",
    "    print\n",
    "    #print time() - t0, 's'\n",
    "    #print\n",
    "    '''\n",
    "    t0 = time()\n",
    "    rotation_matrix = np.eye(N)\n",
    "    rotation_matrix[idx, idx] = rotation_matrix[N - 1, N - 1] = 0.0\n",
    "    rotation_matrix[idx, N - 1] = rotation_matrix[N - 1, idx] = 1.0\n",
    "       \n",
    "    #t_x = np.dot(rotation_matrix, emu.gp._x)\n",
    "    #t_x  = np.dot(rotation_matrix, emu.x)\n",
    "    print emu.x\n",
    "    t_x = emu.x[:]\n",
    "    print t_x\n",
    "    t_x[[N-1, idx]] = t_x[[idx, N-1]]\n",
    "    print t_x\n",
    "    print np.dot(rotation_matrix, emu.x)\n",
    "    print np.array_equal(t_x, np.dot(rotation_matrix, emu.x))\n",
    "    t_yerr = np.dot(rotation_matrix, emu.yerr)\n",
    "    #K3 = emu.gp.kernel.value(emu.gp._x, emu.gp._x)+np.diag(emu.gp._yerr**2)\n",
    "    K3 = emu.gp.kernel.value(emu.x, emu.x)+np.diag(emu.yerr**2)\n",
    "    K3 = np.dot(rotation_matrix, np.dot(K3, rotation_matrix))\n",
    "    K3_inv = inv(K3[:N-1, :][:,:N-1])\n",
    "    #y3 = np.dot(rotation_matrix, emu.gp._y)\n",
    "    y3 = np.dot(rotation_matrix, emu.y)\n",
    "\n",
    "    # i want to reproduce 4\n",
    "    # 3 and 5 are the same\n",
    "    #alpha3 = np.dot(K3_inv, y3[:N-1]-emu.gp.mean(t_x[:N-1]))\n",
    "    #yhat3 = np.dot(K3[N-1,:N-1], alpha3)\n",
    "    #print K3[N-1, :N-1]\n",
    "    \n",
    "    #same\n",
    "    #means same point is being left out. \n",
    "    print 'x0'\n",
    "    print emu.x[0]\n",
    "    print t_x[N-1]\n",
    "    print\n",
    "    #these two have a different order for some reason! because ofc. \n",
    "    #do have the same values, just a different order\n",
    "    print 'x'\n",
    "    print loo_gp._x\n",
    "    print t_x[:N-1]\n",
    "    print t_x[:N-1][my_inds]\n",
    "    print\n",
    "    #similarly, same value with different ordering. \n",
    "    Kxxs4 = loo_gp.kernel.value(emu.x[0].reshape((1,emu.x.shape[1])), loo_gp._x)[0,:]\n",
    "    print 'Kxx'\n",
    "    print Kxxs4\n",
    "    Kxxs5 = emu.gp.kernel.value(t_x[N-1].reshape((1,t_x.shape[1])), t_x[:N-1])[0,:]\n",
    "    print Kxxs5\n",
    "    print\n",
    "    #also the same values, out of order. is the order different then of x?\n",
    "    #no, just have to remember to use the gp's indicies\n",
    "    print 'y'\n",
    "    print loo_gp._y[loo_gp.inds]\n",
    "    print y3[:N-1]\n",
    "    print\n",
    "    loo_gp._compute_alpha(loo_gp._y)\n",
    "    alpha4 = loo_gp._alpha\n",
    "    print alpha4\n",
    "    #print\n",
    "    alpha5 = np.dot(K3_inv, y3[:N-1]-emu.gp.mean(t_x[:N-1]))\n",
    "    print alpha5\n",
    "    print\n",
    "    #print yhat3\n",
    "    print np.dot(Kxxs4, alpha4) + loo_gp.mean(emu.x[0].reshape((1,emu.x.shape[1])))\n",
    "    print yhat\n",
    "    print np.dot(Kxxs5, alpha5)+ emu.gp.mean(t_x[N-1].reshape((1,t_x.shape[1])))\n",
    "    print emu.gp._y[emu.gp.inds[0]] - emu.gp._alpha[0]/K_inv_full[0,0]\n",
    "    print y3[N-1], emu.gp._y[0]\n",
    "    #Kxxs3 =emu.gp.kernel.value(t, t_x[:N - 1])\n",
    "    #mu3 = np.dot(Kxxs3, alpha3)\n",
    "    #print mu3\n",
    "    #print time() - t0, 's'\n",
    "    '''\n",
    "    K_inv_full[[idx, N - 1], :] = K_inv_full[[N - 1, idx], :]\n",
    "    K_inv_full[:, [idx, N - 1]] = K_inv_full[:, [N - 1, idx]]\n",
    "    #print time() - t0, 's'\n",
    "    x[[idx, N - 1], :] = x[[N - 1, idx], :]\n",
    "    y[[idx, N - 1]] = y[[N - 1, idx]]\n",
    "    '''\n",
    "    break"
   ]
  },
  {
   "cell_type": "code",
   "execution_count": null,
   "metadata": {
    "collapsed": false
   },
   "outputs": [],
   "source": [
    "print np.sum(np.array(sorted(Kxxs4))-np.array(sorted(Kxxs5)) )"
   ]
  },
  {
   "cell_type": "code",
   "execution_count": null,
   "metadata": {
    "collapsed": false
   },
   "outputs": [],
   "source": [
    "print np.sum(np.array(sorted(loo_gp._y))-np.array(sorted(y3[:N-1])) )"
   ]
  },
  {
   "cell_type": "code",
   "execution_count": null,
   "metadata": {
    "collapsed": false
   },
   "outputs": [],
   "source": [
    "idxs4 = np.argsort(loo_gp._y[loo_gp.inds])\n",
    "idxs5 = np.argsort(y3[:N-1])\n",
    "print loo_gp._y[loo_gp.inds][idxs4]\n",
    "print\n",
    "print y3[:N-1][idxs5]\n",
    "print\n",
    "print loo_gp._x[idxs4]\n",
    "print \n",
    "print t_x[:N-1][idxs5]"
   ]
  },
  {
   "cell_type": "code",
   "execution_count": null,
   "metadata": {
    "collapsed": false
   },
   "outputs": [],
   "source": [
    "idxs = np.argsort(emu.y)\n",
    "idxs2 = np.argsort(emu.gp._y)\n",
    "print emu.y\n",
    "print emu.gp._y[emu.gp.inds]\n",
    "print\n",
    "print emu.x\n",
    "print emu.gp._x"
   ]
  },
  {
   "cell_type": "code",
   "execution_count": null,
   "metadata": {
    "collapsed": false
   },
   "outputs": [],
   "source": [
    "print np.sum(idxs-idxs2)"
   ]
  },
  {
   "cell_type": "code",
   "execution_count": null,
   "metadata": {
    "collapsed": false
   },
   "outputs": [],
   "source": [
    "print idxs4\n",
    "print idxs5\n",
    "#print sorted(idxs4- idxs5)\n",
    "plt.plot(idxs4-idxs5)"
   ]
  },
  {
   "cell_type": "code",
   "execution_count": null,
   "metadata": {
    "collapsed": false
   },
   "outputs": [],
   "source": [
    "vals1 = {tuple(row) for row in loo_gp._x}\n",
    "vals2 = {tuple(row) for row in t_x[:N-1]}\n",
    "print vals1-vals2, len(vals1), len(vals2)"
   ]
  },
  {
   "cell_type": "code",
   "execution_count": null,
   "metadata": {
    "collapsed": false
   },
   "outputs": [],
   "source": [
    "plt.plot(sorted(alpha4), label = '4')\n",
    "plt.plot(sorted(alpha5), label = '5')\n",
    "plt.legend(loc='best')\n",
    "plt.show()"
   ]
  },
  {
   "cell_type": "code",
   "execution_count": null,
   "metadata": {
    "collapsed": false
   },
   "outputs": [],
   "source": [
    "print loo_gp.predict(emu.y[1:], emu.x[0].reshape((1,emu.x.shape[1])), mean_only=True)"
   ]
  },
  {
   "cell_type": "code",
   "execution_count": null,
   "metadata": {
    "collapsed": false
   },
   "outputs": [],
   "source": [
    "print emu.x[0].reshape((1,emu.x.shape[1]))\n",
    "print loo_gp.parse_samples(emu.x[0].reshape((1,emu.x.shape[1])))[0]\n",
    "print\n",
    "#print emu.x[1:]\n",
    "Kxxs4 = loo_gp.kernel.value(emu.x[0].reshape((1,emu.x.shape[1])), emu.x[1:])[0,:]\n",
    "print Kxxs4\n",
    "print\n",
    "loo_gp._compute_alpha(emu.y[1:])\n",
    "alpha4 = loo_gp._alpha\n",
    "print alpha4\n",
    "print\n",
    "print np.dot(Kxxs4, alpha4) + loo_gp.mean(emu.x[0].reshape((1,emu.x.shape[1])))\n",
    "print "
   ]
  },
  {
   "cell_type": "code",
   "execution_count": null,
   "metadata": {
    "collapsed": false
   },
   "outputs": [],
   "source": [
    "print emu.x[0].reshape((1,emu.x.shape[1]))\n",
    "print loo_gp.parse_samples(emu.x[0].reshape((1,emu.x.shape[1])), True)[0]\n",
    "print\n",
    "#print loo_gp._x\n",
    "Kxxs4 = loo_gp.kernel.value(emu.x[0].reshape((1,emu.x.shape[1])), loo_gp._x)[0,:]\n",
    "print Kxxs4\n",
    "print\n",
    "loo_gp._compute_alpha(emu.y[1:])\n",
    "alpha4 = loo_gp._alpha\n",
    "print alpha4\n",
    "print\n",
    "print np.dot(Kxxs4, alpha4) + loo_gp.mean(emu.x[0].reshape((1,emu.x.shape[1])))\n",
    "print "
   ]
  },
  {
   "cell_type": "code",
   "execution_count": null,
   "metadata": {
    "collapsed": false
   },
   "outputs": [],
   "source": [
    "print loo_gp._x\n",
    "print\n",
    "print emu.x[1:]\n",
    "print \n",
    "xx = loo_gp.parse_samples(emu.x[1:], True)[0]\n",
    "print xx"
   ]
  },
  {
   "cell_type": "code",
   "execution_count": null,
   "metadata": {
    "collapsed": false
   },
   "outputs": [],
   "source": [
    "print loo_inv[0,:]\n",
    "print \n",
    "print loo_inv[1,:]"
   ]
  },
  {
   "cell_type": "code",
   "execution_count": null,
   "metadata": {
    "collapsed": false
   },
   "outputs": [],
   "source": [
    "mu = mu.reshape((-1,2))\n",
    "loo_mu = loo_mu.reshape((-1,2))\n",
    "mu2 = mu2.reshape((-1,2))"
   ]
  },
  {
   "cell_type": "code",
   "execution_count": null,
   "metadata": {
    "collapsed": false
   },
   "outputs": [],
   "source": [
    "fig = plt.figure(figsize = (10, 10))\n",
    "\n",
    "for label, lxp,looxp, lxp2, c in zip(y_vals, mu,loo_mu, mu2,colors):\n",
    "    plt.plot(10**rpoints[:2], lxp,label = '%.3f'%label, color = c, marker ='o')\n",
    "    plt.plot(10**rpoints[:2], looxp, color = c, marker ='v')\n",
    "    plt.plot(10**rpoints[:2], lxp2, color = c, marker ='^')\n",
    "    \n",
    "\n",
    "#plt.xlim(xmin = 0.08, xmax = .6)    \n",
    "#plt.ylim(ymin = 2, ymax = 4)\n",
    "#plt.title(\"OR Emulator w.r.t. %s\"%y_param, fontsize =20)\n",
    "#plt.loglog()\n",
    "plt.xscale('log')\n",
    "plt.xticks(fontsize=20)\n",
    "plt.yticks(fontsize=20)\n",
    "plt.xlabel(r'$r $  $\\rm{[Mpc]}$', fontsize=25)\n",
    "plt.ylabel(r'$\\log_{10}{\\xi_{\\rm gg}(r) }$', fontsize=25)\n",
    "plt.legend(loc='best', fontsize=25)"
   ]
  },
  {
   "cell_type": "code",
   "execution_count": null,
   "metadata": {
    "collapsed": false
   },
   "outputs": [],
   "source": [
    "(N - 1) / N * np.cov(mus, rowvar=False)"
   ]
  }
 ],
 "metadata": {
  "kernelspec": {
   "display_name": "Python [conda env:hodemulator]",
   "language": "python",
   "name": "conda-env-hodemulator-py"
  },
  "language_info": {
   "codemirror_mode": {
    "name": "ipython",
    "version": 2
   },
   "file_extension": ".py",
   "mimetype": "text/x-python",
   "name": "python",
   "nbconvert_exporter": "python",
   "pygments_lexer": "ipython2",
   "version": "2.7.12"
  }
 },
 "nbformat": 4,
 "nbformat_minor": 0
}
