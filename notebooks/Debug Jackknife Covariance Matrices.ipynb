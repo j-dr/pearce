{
 "cells": [
  {
   "cell_type": "code",
   "execution_count": 27,
   "metadata": {
    "collapsed": true
   },
   "outputs": [],
   "source": [
    "from pearce.emulator.emu import OriginalRecipe, ExtraCrispy\n",
    "from pearce.emulator.trainingData import parameter, PARAMS"
   ]
  },
  {
   "cell_type": "code",
   "execution_count": 28,
   "metadata": {
    "collapsed": true
   },
   "outputs": [],
   "source": [
    "from george.kernels import ExpSquaredKernel\n",
    "import george"
   ]
  },
  {
   "cell_type": "code",
   "execution_count": 29,
   "metadata": {
    "collapsed": true
   },
   "outputs": [],
   "source": [
    "import numpy as np\n",
    "from matplotlib import pyplot as plt\n",
    "%matplotlib inline\n",
    "import seaborn as sns\n",
    "sns.set()\n",
    "from itertools import cycle\n",
    "colors = cycle(sns.color_palette())"
   ]
  },
  {
   "cell_type": "code",
   "execution_count": 30,
   "metadata": {
    "collapsed": true
   },
   "outputs": [],
   "source": [
    "training_dir = '/u/ki/swmclau2/des/PearceLHC/'"
   ]
  },
  {
   "cell_type": "code",
   "execution_count": 31,
   "metadata": {
    "collapsed": false
   },
   "outputs": [],
   "source": [
    "or_params = PARAMS[:]\n",
    "or_params.append(parameter('r', 0, 1)) #95% sure bounds aren't used for r\n",
    "emu = OriginalRecipe(training_dir,or_params)\n",
    "#emu = ExtraCrispy(training_dir)"
   ]
  },
  {
   "cell_type": "code",
   "execution_count": 32,
   "metadata": {
    "collapsed": false
   },
   "outputs": [],
   "source": [
    "ig = emu.get_initial_guess('xi', {})\n",
    "a = ig['amp']\n",
    "kernel = a * ExpSquaredKernel(emu.metric, ndim=emu.emulator_ndim)\n",
    "loo_gp = george.GP(kernel)\n",
    "# gp = george.GP(kernel, solver=george.HODLRSolver, nleaf=x.shape[0]+1,tol=1e-18)\n",
    "\n",
    "loo_gp.compute(emu.x[1:], emu.yerr[1:])  # NOTE I'm using a modified version of george!"
   ]
  },
  {
   "cell_type": "code",
   "execution_count": 33,
   "metadata": {
    "collapsed": false
   },
   "outputs": [],
   "source": [
    "K_inv_full = emu.gp.solver.apply_inverse(np.eye(emu.x.shape[0]),in_place=True)"
   ]
  },
  {
   "cell_type": "code",
   "execution_count": 34,
   "metadata": {
    "collapsed": true
   },
   "outputs": [],
   "source": [
    "y_param = 'logMmin'\n",
    "emulation_point = [('f_c', 0.233), ('logM0', 12.0), ('sigma_logM', 0.533), \n",
    "                   ('alpha', 1.083),('logM1', 13.5), ('logMmin', 12.233)]\n",
    "em_params = dict(emulation_point)\n",
    "#del em_params[y_param]"
   ]
  },
  {
   "cell_type": "code",
   "execution_count": 35,
   "metadata": {
    "collapsed": false
   },
   "outputs": [],
   "source": [
    "from os import path\n",
    "save_dir = '/u/ki/swmclau2/des/EmulatorMCMC/'\n",
    "rpoints = np.log10(np.loadtxt(path.join(save_dir, 'rpoints.npy')) )\n",
    "true_vals = np.log10( np.loadtxt(path.join(save_dir, 'xi.npy')) )"
   ]
  },
  {
   "cell_type": "code",
   "execution_count": 36,
   "metadata": {
    "collapsed": false
   },
   "outputs": [],
   "source": [
    "rbins = np.array([  0.06309573,   0.12437607,   0.24517359,   0.34422476, 0.48329302, 0.67854546,\\\n",
    "           0.9526807 , 1.33756775,1.8779508 ,   2.6366509 ,   3.70186906,   5.19743987, 7.29722764, \\\n",
    "           10.24533859,  14.38449888,  20.1958975 , 28.35512583,  39.81071706] )\n",
    "#rpoints= np.log10((rbins[1:]+rbins[:-1])/2)\n",
    "em_params['r'] = rpoints#[:2]"
   ]
  },
  {
   "cell_type": "raw",
   "metadata": {
    "collapsed": true
   },
   "source": [
    "y_param_idx = -1\n",
    "for idx, p in enumerate(PARAMS):\n",
    "    if p.name==y_param:\n",
    "        y_param_idx = idx\n",
    "        break\n",
    "        \n",
    "y_vals = np.linspace(PARAMS[y_param_idx].low, PARAMS[y_param_idx].high, 4)\n",
    "em_params[y_param] = y_vals"
   ]
  },
  {
   "cell_type": "code",
   "execution_count": 37,
   "metadata": {
    "collapsed": false
   },
   "outputs": [
    {
     "name": "stderr",
     "output_type": "stream",
     "text": [
      "/afs/slac.stanford.edu/u/ki/swmclau2/.local/lib/python2.7/site-packages/ipykernel/__main__.py:10: DeprecationWarning: Changing the shape of non-C contiguous array by\n",
      "descriptor assignment is deprecated. To maintain\n",
      "the Fortran contiguity of a multidimensional Fortran\n",
      "array, use 'a.T.view(...).T' instead\n",
      "/afs/slac.stanford.edu/u/ki/swmclau2/.local/lib/python2.7/site-packages/ipykernel/__main__.py:13: DeprecationWarning: Changing the shape of non-C contiguous array by\n",
      "descriptor assignment is deprecated. To maintain\n",
      "the Fortran contiguity of a multidimensional Fortran\n",
      "array, use 'a.T.view(...).T' instead\n",
      "/afs/slac.stanford.edu/u/ki/swmclau2/.local/lib/python2.7/site-packages/ipykernel/__main__.py:14: DeprecationWarning: Changing the shape of non-C contiguous array by\n",
      "descriptor assignment is deprecated. To maintain\n",
      "the Fortran contiguity of a multidimensional Fortran\n",
      "array, use 'a.T.view(...).T' instead\n"
     ]
    }
   ],
   "source": [
    "input_params = {}\n",
    "input_params.update(em_params)\n",
    "\n",
    "# i'd like to remove 'r'. possibly requiring a passed in param?\n",
    "t_list = [input_params[p.name] for p in emu.ordered_params]\n",
    "t_grid = np.meshgrid(*t_list)\n",
    "t = np.stack(t_grid).T\n",
    "t = t.reshape((-1, emu.emulator_ndim))\n",
    "try:\n",
    "    t = np.sort(t.view(','.join(['float64' for _ in xrange(min(t.shape))])),\n",
    "                order=['f%d' % i for i in xrange(min(t.shape))], axis=0).view(np.float)\n",
    "except ValueError:\n",
    "        t = np.sort(t.view(','.join(['float64' for _ in xrange(max(t.shape))])),\n",
    "                order=['f%d' % i for i in xrange(max(t.shape))], axis=0).view(np.float)"
   ]
  },
  {
   "cell_type": "code",
   "execution_count": 38,
   "metadata": {
    "collapsed": false
   },
   "outputs": [
    {
     "name": "stdout",
     "output_type": "stream",
     "text": [
      "(17, 7)\n"
     ]
    }
   ],
   "source": [
    "print t.shape"
   ]
  },
  {
   "cell_type": "code",
   "execution_count": 39,
   "metadata": {
    "collapsed": false
   },
   "outputs": [
    {
     "name": "stdout",
     "output_type": "stream",
     "text": [
      "(8432,)\n"
     ]
    }
   ],
   "source": [
    "print emu.y.shape"
   ]
  },
  {
   "cell_type": "code",
   "execution_count": 40,
   "metadata": {
    "collapsed": false
   },
   "outputs": [
    {
     "name": "stdout",
     "output_type": "stream",
     "text": [
      "[ 3.3343133   2.92986007  2.51030092  2.2116945   1.88773449  1.49316321\n",
      "  1.09248502  0.74583087  0.48338015  0.25918154  0.01873291 -0.20661966\n",
      " -0.47061312 -0.74351721 -1.03990018 -1.4047761  -1.94146127]\n"
     ]
    }
   ],
   "source": [
    "#loo_mu = loo_gp.predict(emu.y[1:, 0], t , mean_only=True)\n",
    "loo_mu = loo_gp.predict(emu.y[1:], t , mean_only=True)\n",
    "print loo_mu"
   ]
  },
  {
   "cell_type": "code",
   "execution_count": 41,
   "metadata": {
    "collapsed": false
   },
   "outputs": [
    {
     "name": "stdout",
     "output_type": "stream",
     "text": [
      "(8431, 8431) (8432, 8432)\n"
     ]
    }
   ],
   "source": [
    "loo_inv = loo_gp.solver.apply_inverse(np.eye(emu.x.shape[0]-1),in_place=True)\n",
    "print loo_inv.shape, K_inv_full.shape"
   ]
  },
  {
   "cell_type": "code",
   "execution_count": 42,
   "metadata": {
    "collapsed": false
   },
   "outputs": [
    {
     "name": "stdout",
     "output_type": "stream",
     "text": [
      "[  1.96564257e+02  -2.74440036e+02  -4.17402233e+01 ...,   4.86810266e-03\n",
      "   4.65590985e-03  -4.36067291e-03]\n",
      "\n",
      "[ -2.74440036e+02   7.61615949e+02   6.14895863e+01 ...,  -1.88435473e-02\n",
      "  -2.50623516e-02   2.21037310e-02]\n"
     ]
    }
   ],
   "source": [
    "print loo_inv[0,:]\n",
    "print \n",
    "print loo_inv[1,:]"
   ]
  },
  {
   "cell_type": "code",
   "execution_count": 43,
   "metadata": {
    "collapsed": false
   },
   "outputs": [
    {
     "name": "stdout",
     "output_type": "stream",
     "text": [
      "[  1.07207315e+02  -7.49339987e+01   1.00697096e+02 ...,   1.87325557e-02\n",
      "  -4.71164214e-03  -3.16211120e-04]\n",
      "\n",
      "[ -7.49339987e+01   2.81840050e+02  -4.42344406e+02 ...,  -9.56717340e-02\n",
      "   2.47047181e-02   1.04994773e-03]\n"
     ]
    }
   ],
   "source": [
    "print K_inv_full[0,:]\n",
    "print \n",
    "print K_inv_full[1,:]"
   ]
  },
  {
   "cell_type": "code",
   "execution_count": 44,
   "metadata": {
    "collapsed": false
   },
   "outputs": [
    {
     "name": "stdout",
     "output_type": "stream",
     "text": [
      "[ 3.33430587  2.92689423  2.49717286  2.20846211  1.87173901  1.48554091\n",
      "  1.09514167  0.75355011  0.48323972  0.25937854  0.02380753 -0.20503501\n",
      " -0.47126951 -0.73669219 -1.04039574 -1.40426527 -1.90917015]\n"
     ]
    }
   ],
   "source": [
    "mu, G = emu.emulate(em_params)\n",
    "print mu"
   ]
  },
  {
   "cell_type": "code",
   "execution_count": 45,
   "metadata": {
    "collapsed": false
   },
   "outputs": [
    {
     "name": "stdout",
     "output_type": "stream",
     "text": [
      "[ 3.81843655]\n"
     ]
    }
   ],
   "source": [
    "yhat = loo_gp.predict(emu.y[1:], emu.x[0].reshape((1,emu.x.shape[1])), mean_only=True)\n",
    "#yhat = loo_gp.predict(emu.y[1:, 0], emu.x[0].reshape((1,emu.x.shape[1])), mean_only=True)\n",
    "\n",
    "print yhat"
   ]
  },
  {
   "cell_type": "code",
   "execution_count": 46,
   "metadata": {
    "collapsed": false
   },
   "outputs": [
    {
     "name": "stdout",
     "output_type": "stream",
     "text": [
      "3.72177668084\n"
     ]
    }
   ],
   "source": [
    "#print emu.y[0, 0]\n",
    "print emu.y[0]"
   ]
  },
  {
   "cell_type": "code",
   "execution_count": 47,
   "metadata": {
    "collapsed": false
   },
   "outputs": [],
   "source": [
    "x, y = emu.x[:], emu.y[:]\n",
    "\n",
    "N = K_inv_full.shape[0]"
   ]
  },
  {
   "cell_type": "code",
   "execution_count": 48,
   "metadata": {
    "collapsed": true
   },
   "outputs": [],
   "source": [
    "from time import time\n",
    "from scipy.linalg import inv"
   ]
  },
  {
   "cell_type": "code",
   "execution_count": 49,
   "metadata": {
    "collapsed": true
   },
   "outputs": [],
   "source": [
    "my_inds = [i for i in xrange(1, N-1)]\n",
    "my_inds.append(0)\n",
    "my_inds = np.array(my_inds)"
   ]
  },
  {
   "cell_type": "code",
   "execution_count": 50,
   "metadata": {
    "collapsed": true
   },
   "outputs": [],
   "source": [
    "from copy import deepcopy"
   ]
  },
  {
   "cell_type": "code",
   "execution_count": 51,
   "metadata": {
    "collapsed": true
   },
   "outputs": [],
   "source": [
    "times = np.zeros((N,))"
   ]
  },
  {
   "cell_type": "raw",
   "metadata": {
    "collapsed": false,
    "scrolled": true
   },
   "source": [
    "for idx in xrange(N):\n",
    "    #print idx\n",
    "    '''\n",
    "    t0 = time()\n",
    "    # This operation was really slow. Trying something else.\n",
    "    # K_inv_idx_N = np.dot(rotation_matrix, np.dot(K_inv_full, rotation_matrix))\n",
    "    # Small\n",
    "    K_inv_full[[idx, N - 1], :] = K_inv_full[[N - 1, idx], :]\n",
    "    K_inv_full[:, [idx, N - 1]] = K_inv_full[:, [N - 1, idx]]\n",
    "    #print time() - t0, 's'\n",
    "    # swap x and y as well\n",
    "    x[[idx, N - 1], :] = x[[N - 1, idx], :]\n",
    "    y[[idx, N - 1]] = y[[N - 1, idx]]\n",
    "\n",
    "    K_inv_m_idx = K_inv_full[:N - 1, :][:,\n",
    "          :N - 1]  # -np.outer(K_inv_full[N-1,:N-1], K_inv_full[:N-1,N-1])/K_inv_full[N-1,N-1]\n",
    "    c = K_inv_full[N - 1, :N - 1]\n",
    "    # The subtracction takes a long time\n",
    "    K_inv_m_idx -= np.outer(c / K_inv_full[N - 1, N - 1], c)\n",
    "    Kxxs = emu.gp.kernel.value(t, x[:N - 1])\n",
    "    #print time() - t0, 's'  # slow-ish\n",
    "    # TODO currently doesn't work on ExtraCrispy. Could make y an input and it would.\n",
    "    # this proudct takes a long time\n",
    "    alpha = np.dot(K_inv_m_idx, y[:N - 1])\n",
    "    #print time() - t0, 's'  # slow-ish\n",
    "    mus[idx, :] = np.dot(Kxxs, alpha)\n",
    "\n",
    "    print mus[idx, :]\n",
    "    print\n",
    "    #print time() - t0, 's'\n",
    "    #print\n",
    "    '''\n",
    "    t0 = time()\n",
    "    #TODO put switches at the end of the loop too\n",
    "    #then i can make just one deepcopy\n",
    "    t_x = deepcopy(emu.x)\n",
    "    t_x[[N-1, idx]] = t_x[[idx, N-1]]\n",
    "    t_yerr = deepcopy(emu.yerr)\n",
    "    t_yerr[[N-1, idx]] = t_yerr[[idx, N-1]]\n",
    "    \n",
    "    K_inv = deepcopy(K_inv_full)\n",
    "    \n",
    "    K_inv[[idx, N - 1], :] = K_inv[[N - 1, idx], :]\n",
    "    K_inv[:, [idx, N - 1]] = K_inv[:, [N - 1, idx]]\n",
    "    \n",
    "    K3_inv = K_inv[:N - 1, :][:,:N - 1] \\\n",
    "            -np.outer(K_inv[N-1,:N-1], K_inv[:N-1,N-1])/K_inv[N-1,N-1]\n",
    "        \n",
    "\n",
    "    #K3 = emu.gp.kernel.value(emu.x, emu.x)+np.diag(emu.yerr**2)\n",
    "    #K3[[N-1, idx], :] = K3[[idx, N-1], :]\n",
    "    #K3[:, [N-1, idx]] = K3[:, [idx, N-1]]\n",
    "    #K3_inv2 = inv(K3[:N-1, :][:,:N-1])\n",
    "    #print K3_inv[0, :]\n",
    "    #print K3_inv2[0,:]\n",
    "    #y3 = np.dot(rotation_matrix, emu.gp._y)\n",
    "    #y3 = np.dot(rotation_matrix, emu.y)\n",
    "    y3 = deepcopy(emu.y)\n",
    "    y3[[N-1, idx]] = y3[[idx, N-1]]\n",
    "\n",
    "    #same\n",
    "    #means same point is being left out. \n",
    "    #print 'x0'\n",
    "    #print emu.x[0]\n",
    "    #print t_x[N-1]\n",
    "    #print\n",
    "    #these two have a different order for some reason! because ofc. \n",
    "    #do have the same values, just a different order\n",
    "    #print 'x'\n",
    "    #print loo_gp._x\n",
    "    #print t_x[:N-1]\n",
    "    #print t_x[:N-1][my_inds]\n",
    "    #print\n",
    "    #similarly, same value with different ordering. \n",
    "    #Kxxs4 = loo_gp.kernel.value(emu.x[0].reshape((1,emu.x.shape[1])), loo_gp._x)[0,:]\n",
    "    #print 'Kxx'\n",
    "    #print Kxxs4\n",
    "    Kxxs5 = emu.gp.kernel.value(t_x[N-1].reshape((1,t_x.shape[1])), t_x[:N-1])[0,:]\n",
    "    #print Kxxs5\n",
    "    #print\n",
    "    #also the same values, out of order. is the order different then of x?\n",
    "    #no, just have to remember to use the gp's indicies\n",
    "    #print 'y'\n",
    "    #print loo_gp._y[loo_gp.inds]\n",
    "    #print y3[:N-1]\n",
    "    #print\n",
    "    #loo_gp._compute_alpha(loo_gp._y)\n",
    "    #alpha4 = loo_gp._alpha\n",
    "    #print alpha4\n",
    "    #print\n",
    "    alpha5 = np.dot(K3_inv, y3[:N-1]-emu.gp.mean(t_x[:N-1]))\n",
    "    #print alpha5\n",
    "    #print\n",
    "    #print yhat3\n",
    "    #print np.dot(Kxxs4, alpha4) + loo_gp.mean(emu.x[0].reshape((1,emu.x.shape[1])))\n",
    "    #print yhat\n",
    "    print 'yhat'\n",
    "    print np.dot(Kxxs5, alpha5)+ emu.gp.mean(t_x[N-1].reshape((1,t_x.shape[1])))[0]\n",
    "    #print emu.gp._y[emu.gp.inds[idx]] - emu.gp._alpha[idx]/K_inv_full[idx,idx]\n",
    "    print 'Emulator Truth'\n",
    "    loo_params = {p.name:val for p, val in zip(emu.ordered_params, t_x[N-1])}\n",
    "    #print loo_params\n",
    "    em_y, _ =  emu.emulate(loo_params)\n",
    "    print em_y[0]\n",
    "    print \n",
    "    print 'Truths'\n",
    "    print y3[N-1]\n",
    "    print\n",
    "    Kxxs_t = emu.gp.kernel.value(t, t_x[:N-1])\n",
    "    print 'Mean Estimate'\n",
    "    print np.dot(Kxxs_t, alpha5)+ emu.gp.mean(t)\n",
    "    print \n",
    "    print 'Emulator Truth'\n",
    "    print mu[0]\n",
    "    print \n",
    "    print 'Truth'\n",
    "    print true_vals[0]\n",
    "    print\n",
    "    print 'Diff'\n",
    "    print np.dot(Kxxs_t, alpha5)+ emu.gp.mean(t)-mu\n",
    "    print\n",
    "    print '*-_-'*50\n",
    "    \n",
    "    #Kxxs3 =emu.gp.kernel.value(t, t_x[:N - 1])\n",
    "    #mu3 = np.dot(Kxxs3, alpha3)\n",
    "    #print mu3\n",
    "    #print time() - t0, 's'\n",
    "    \n",
    "    #K_inv_full[[idx, N - 1], :] = K_inv_full[[N - 1, idx], :]\n",
    "    #K_inv_full[:, [idx, N - 1]] = K_inv_full[:, [N - 1, idx]]\n",
    "    #print time() - t0, 's'\n",
    "    #t_x[[N-1, idx]] = t_x[[idx, N-1]]\n",
    "    #t_yerr[[N-1, idx]] = t_yerr[[idx, N-1]]\n",
    "    break"
   ]
  },
  {
   "cell_type": "code",
   "execution_count": 52,
   "metadata": {
    "collapsed": true
   },
   "outputs": [],
   "source": [
    "mus = np.zeros((N, len(rpoints)))"
   ]
  },
  {
   "cell_type": "code",
   "execution_count": 55,
   "metadata": {
    "collapsed": false,
    "scrolled": true
   },
   "outputs": [
    {
     "name": "stdout",
     "output_type": "stream",
     "text": [
      "0\n",
      "8.82348203659 s\n",
      "1\n",
      "9.3327088356 s\n",
      "2\n",
      "9.63330483437 s\n",
      "3\n",
      "10.690759182 s\n",
      "4\n",
      "12.0796670914 s\n",
      "5\n",
      "9.99576306343 s\n",
      "6\n",
      "9.35908699036 s\n",
      "7\n",
      "9.60755586624 s\n",
      "8\n",
      "9.14417695999 s\n",
      "9\n",
      "9.08317995071 s\n",
      "10\n",
      "9.40858602524 s\n",
      "11\n",
      "9.24272012711 s\n",
      "12\n",
      "8.76469802856 s\n",
      "13\n",
      "9.21109509468 s\n",
      "14\n",
      "9.77507805824 s\n",
      "15\n",
      "9.0501768589 s\n",
      "16\n",
      "9.50348591805 s\n",
      "17\n",
      "9.28961086273 s\n",
      "18\n",
      "9.01425099373 s\n",
      "19\n",
      "9.27239203453 s\n",
      "20\n",
      "9.35653495789 s\n",
      "21\n",
      "8.94424104691 s\n",
      "22\n",
      "9.21178007126 s\n",
      "23\n",
      "9.36036586761 s\n",
      "24\n",
      "8.95948600769 s\n",
      "25\n",
      "9.26210904121 s\n",
      "26\n",
      "8.79289293289 s\n",
      "27\n",
      "9.3957118988 s\n",
      "28\n",
      "9.23135495186 s\n",
      "29\n",
      "8.95174503326 s\n",
      "30\n",
      "9.49422502518 s\n",
      "31\n",
      "9.33979201317 s\n",
      "32\n",
      "8.98230099678 s\n",
      "33\n",
      "9.30542206764 s\n",
      "34\n",
      "9.28829717636 s\n",
      "35\n",
      "8.99854183197 s\n",
      "36\n",
      "9.35173511505 s\n",
      "37\n",
      "9.41651678085 s\n",
      "38\n",
      "8.94318199158 s\n",
      "39\n"
     ]
    },
    {
     "ename": "KeyboardInterrupt",
     "evalue": "",
     "output_type": "error",
     "traceback": [
      "\u001b[1;31m---------------------------------------------------------------------------\u001b[0m",
      "\u001b[1;31mKeyboardInterrupt\u001b[0m                         Traceback (most recent call last)",
      "\u001b[1;32m<ipython-input-55-7cf490800f8b>\u001b[0m in \u001b[0;36m<module>\u001b[1;34m()\u001b[0m\n\u001b[0;32m     22\u001b[0m     \u001b[0mK_inv\u001b[0m\u001b[1;33m[\u001b[0m\u001b[1;33m:\u001b[0m\u001b[1;33m,\u001b[0m \u001b[1;33m[\u001b[0m\u001b[0midx\u001b[0m\u001b[1;33m,\u001b[0m \u001b[0mN\u001b[0m \u001b[1;33m-\u001b[0m \u001b[1;36m1\u001b[0m\u001b[1;33m]\u001b[0m\u001b[1;33m]\u001b[0m \u001b[1;33m=\u001b[0m \u001b[0mK_inv\u001b[0m\u001b[1;33m[\u001b[0m\u001b[1;33m:\u001b[0m\u001b[1;33m,\u001b[0m \u001b[1;33m[\u001b[0m\u001b[0mN\u001b[0m \u001b[1;33m-\u001b[0m \u001b[1;36m1\u001b[0m\u001b[1;33m,\u001b[0m \u001b[0midx\u001b[0m\u001b[1;33m]\u001b[0m\u001b[1;33m]\u001b[0m\u001b[1;33m\u001b[0m\u001b[0m\n\u001b[0;32m     23\u001b[0m \u001b[1;33m\u001b[0m\u001b[0m\n\u001b[1;32m---> 24\u001b[1;33m     \u001b[0mK_m_idx_inv\u001b[0m \u001b[1;33m=\u001b[0m \u001b[0mK_inv\u001b[0m\u001b[1;33m[\u001b[0m\u001b[1;33m:\u001b[0m\u001b[0mN\u001b[0m \u001b[1;33m-\u001b[0m \u001b[1;36m1\u001b[0m\u001b[1;33m,\u001b[0m \u001b[1;33m:\u001b[0m\u001b[1;33m]\u001b[0m\u001b[1;33m[\u001b[0m\u001b[1;33m:\u001b[0m\u001b[1;33m,\u001b[0m\u001b[1;33m:\u001b[0m\u001b[0mN\u001b[0m \u001b[1;33m-\u001b[0m \u001b[1;36m1\u001b[0m\u001b[1;33m]\u001b[0m             \u001b[1;33m-\u001b[0m\u001b[0mnp\u001b[0m\u001b[1;33m.\u001b[0m\u001b[0mouter\u001b[0m\u001b[1;33m(\u001b[0m\u001b[0mK_inv\u001b[0m\u001b[1;33m[\u001b[0m\u001b[0mN\u001b[0m\u001b[1;33m-\u001b[0m\u001b[1;36m1\u001b[0m\u001b[1;33m,\u001b[0m\u001b[1;33m:\u001b[0m\u001b[0mN\u001b[0m\u001b[1;33m-\u001b[0m\u001b[1;36m1\u001b[0m\u001b[1;33m]\u001b[0m\u001b[1;33m,\u001b[0m \u001b[0mK_inv\u001b[0m\u001b[1;33m[\u001b[0m\u001b[1;33m:\u001b[0m\u001b[0mN\u001b[0m\u001b[1;33m-\u001b[0m\u001b[1;36m1\u001b[0m\u001b[1;33m,\u001b[0m\u001b[0mN\u001b[0m\u001b[1;33m-\u001b[0m\u001b[1;36m1\u001b[0m\u001b[1;33m]\u001b[0m\u001b[1;33m)\u001b[0m\u001b[1;33m/\u001b[0m\u001b[0mK_inv\u001b[0m\u001b[1;33m[\u001b[0m\u001b[0mN\u001b[0m\u001b[1;33m-\u001b[0m\u001b[1;36m1\u001b[0m\u001b[1;33m,\u001b[0m\u001b[0mN\u001b[0m\u001b[1;33m-\u001b[0m\u001b[1;36m1\u001b[0m\u001b[1;33m]\u001b[0m\u001b[1;33m\u001b[0m\u001b[0m\n\u001b[0m\u001b[0;32m     25\u001b[0m \u001b[1;33m\u001b[0m\u001b[0m\n\u001b[0;32m     26\u001b[0m     \u001b[1;31m#alpha_m_idx = [np.dot(K_m_idx_inv, t_y[:N-1, rbin ]-emu.gp.mean(t_x[:N-1])) for rbin in xrange(t_y.shape[1]) ]\u001b[0m\u001b[1;33m\u001b[0m\u001b[1;33m\u001b[0m\u001b[0m\n",
      "\u001b[1;31mKeyboardInterrupt\u001b[0m: "
     ]
    }
   ],
   "source": [
    "for idx in xrange(N):\n",
    "    print idx\n",
    "    t0 = time()\n",
    "    #TODO put switches at the end of the loop too\n",
    "    #then i can make just one deepcopy\n",
    "    #t_x = deepcopy(emu.x)\n",
    "    t_x = emu.x\n",
    "    t_x[[N-1, idx]] = t_x[[idx, N-1]]\n",
    "    \n",
    "    #t_yerr = deepcopy(emu.yerr)\n",
    "    t_yerr = emu.yerr\n",
    "    t_yerr[[N-1, idx]] = t_yerr[[idx, N-1]]\n",
    "    \n",
    "    #t_y = deepcopy(emu.y[:, 0])\n",
    "    t_y = emu.y\n",
    "    #t_y[[N-1, idx], :] = t_y[[idx, N-1], :]\n",
    "    t_y[[N-1, idx]] = t_y[[idx, N-1]]\n",
    "    #K_inv = deepcopy(K_inv_full)\n",
    "    K_inv = K_inv_full\n",
    "    \n",
    "    K_inv[[idx, N - 1], :] = K_inv[[N - 1, idx], :]\n",
    "    K_inv[:, [idx, N - 1]] = K_inv[:, [N - 1, idx]]\n",
    "    \n",
    "    K_m_idx_inv = K_inv[:N - 1, :][:,:N - 1] \\\n",
    "            -np.outer(K_inv[N-1,:N-1], K_inv[:N-1,N-1])/K_inv[N-1,N-1]\n",
    "           \n",
    "    #alpha_m_idx = [np.dot(K_m_idx_inv, t_y[:N-1, rbin ]-emu.gp.mean(t_x[:N-1])) for rbin in xrange(t_y.shape[1]) ]\n",
    "    alpha_m_idx = np.dot(K_m_idx_inv, t_y[:N-1 ]-emu.gp.mean(t_x[:N-1]))\n",
    "\n",
    "    Kxxs_t = emu.gp.kernel.value(t, t_x[:N-1])\n",
    "    #mus[idx, :] = np.array([np.dot(Kxxs_t, alpha_m_idx[rbin])+ emu.gp.mean(t) for rbin in xrange(t_y.shape[1]) ])[:,0]\n",
    "    mus[idx, :] = np.dot(Kxxs_t, alpha_m_idx)+ emu.gp.mean(t)\n",
    "\n",
    "    #print mus[idx]\n",
    "    print time()-t0, 's'\n",
    "    #print\n",
    "    K_inv_full[[idx, N - 1], :] = K_inv_full[[N - 1, idx], :]\n",
    "    K_inv_full[:, [idx, N - 1]] = K_inv_full[:, [N - 1, idx]]\n",
    "\n",
    "    t_x[[N-1, idx]] = t_x[[idx, N-1]]\n",
    "    t_yerr[[N-1, idx]] = t_yerr[[idx, N-1]]\n",
    "    #t_y[[N-1, idx],:] = t_y[[idx, N-1],:]\n",
    "    t_y[[N-1, idx]] = t_y[[idx, N-1]]\n",
    "    \n",
    "    break"
   ]
  },
  {
   "cell_type": "code",
   "execution_count": 58,
   "metadata": {
    "collapsed": false,
    "scrolled": true
   },
   "outputs": [
    {
     "name": "stdout",
     "output_type": "stream",
     "text": [
      "0\n",
      "0.000204086303711\n",
      "17.5301651955 s\n",
      "1\n",
      "3.19480895996e-05\n",
      "16.7995769978 s\n",
      "2\n",
      "3.09944152832e-05\n"
     ]
    },
    {
     "ename": "KeyboardInterrupt",
     "evalue": "",
     "output_type": "error",
     "traceback": [
      "\u001b[1;31m---------------------------------------------------------------------------\u001b[0m",
      "\u001b[1;31mKeyboardInterrupt\u001b[0m                         Traceback (most recent call last)",
      "\u001b[1;32m<ipython-input-58-7d5bd156aebe>\u001b[0m in \u001b[0;36m<module>\u001b[1;34m()\u001b[0m\n\u001b[0;32m     18\u001b[0m     \u001b[1;32mprint\u001b[0m \u001b[0mtime\u001b[0m\u001b[1;33m(\u001b[0m\u001b[1;33m)\u001b[0m\u001b[1;33m-\u001b[0m\u001b[0mt0\u001b[0m\u001b[1;33m\u001b[0m\u001b[0m\n\u001b[0;32m     19\u001b[0m     \u001b[0mloo_gp\u001b[0m\u001b[1;33m.\u001b[0m\u001b[0mcompute\u001b[0m\u001b[1;33m(\u001b[0m\u001b[0mt_x\u001b[0m\u001b[1;33m[\u001b[0m\u001b[1;33m:\u001b[0m\u001b[0mN\u001b[0m\u001b[1;33m-\u001b[0m\u001b[1;36m1\u001b[0m\u001b[1;33m]\u001b[0m\u001b[1;33m,\u001b[0m \u001b[0mt_yerr\u001b[0m\u001b[1;33m[\u001b[0m\u001b[1;33m:\u001b[0m\u001b[0mN\u001b[0m\u001b[1;33m-\u001b[0m\u001b[1;36m1\u001b[0m\u001b[1;33m]\u001b[0m\u001b[1;33m)\u001b[0m\u001b[1;33m\u001b[0m\u001b[0m\n\u001b[1;32m---> 20\u001b[1;33m     \u001b[0mmus\u001b[0m\u001b[1;33m[\u001b[0m\u001b[0midx\u001b[0m\u001b[1;33m,\u001b[0m\u001b[1;33m:\u001b[0m\u001b[1;33m]\u001b[0m \u001b[1;33m=\u001b[0m \u001b[0mloo_gp\u001b[0m\u001b[1;33m.\u001b[0m\u001b[0mpredict\u001b[0m\u001b[1;33m(\u001b[0m\u001b[0memu\u001b[0m\u001b[1;33m.\u001b[0m\u001b[0my\u001b[0m\u001b[1;33m[\u001b[0m\u001b[1;33m:\u001b[0m\u001b[0mN\u001b[0m\u001b[1;33m-\u001b[0m\u001b[1;36m1\u001b[0m\u001b[1;33m]\u001b[0m\u001b[1;33m,\u001b[0m \u001b[0mt\u001b[0m \u001b[1;33m,\u001b[0m \u001b[0mmean_only\u001b[0m\u001b[1;33m=\u001b[0m\u001b[0mTrue\u001b[0m\u001b[1;33m)\u001b[0m\u001b[1;33m\u001b[0m\u001b[0m\n\u001b[0m\u001b[0;32m     21\u001b[0m \u001b[1;33m\u001b[0m\u001b[0m\n\u001b[0;32m     22\u001b[0m     \u001b[1;32mprint\u001b[0m \u001b[0mtime\u001b[0m\u001b[1;33m(\u001b[0m\u001b[1;33m)\u001b[0m\u001b[1;33m-\u001b[0m\u001b[0mt0\u001b[0m\u001b[1;33m,\u001b[0m \u001b[1;34m's'\u001b[0m\u001b[1;33m\u001b[0m\u001b[0m\n",
      "\u001b[1;32m/u/ki/swmclau2/.conda/envs/hodemulator/lib/python2.7/site-packages/george-0.2.1-py2.7-linux-x86_64.egg/george/gp.pyc\u001b[0m in \u001b[0;36mpredict\u001b[1;34m(self, y, t, mean_only)\u001b[0m\n\u001b[0;32m    296\u001b[0m         \"\"\"\n\u001b[0;32m    297\u001b[0m         \u001b[0mself\u001b[0m\u001b[1;33m.\u001b[0m\u001b[0mrecompute\u001b[0m\u001b[1;33m(\u001b[0m\u001b[1;33m)\u001b[0m\u001b[1;33m\u001b[0m\u001b[0m\n\u001b[1;32m--> 298\u001b[1;33m         \u001b[0mself\u001b[0m\u001b[1;33m.\u001b[0m\u001b[0m_compute_alpha\u001b[0m\u001b[1;33m(\u001b[0m\u001b[0my\u001b[0m\u001b[1;33m)\u001b[0m\u001b[1;33m\u001b[0m\u001b[0m\n\u001b[0m\u001b[0;32m    299\u001b[0m         \u001b[0mxs\u001b[0m\u001b[1;33m,\u001b[0m \u001b[0mi\u001b[0m \u001b[1;33m=\u001b[0m \u001b[0mself\u001b[0m\u001b[1;33m.\u001b[0m\u001b[0mparse_samples\u001b[0m\u001b[1;33m(\u001b[0m\u001b[0mt\u001b[0m\u001b[1;33m,\u001b[0m \u001b[0mFalse\u001b[0m\u001b[1;33m)\u001b[0m\u001b[1;33m\u001b[0m\u001b[0m\n\u001b[0;32m    300\u001b[0m \u001b[1;33m\u001b[0m\u001b[0m\n",
      "\u001b[1;32m/u/ki/swmclau2/.conda/envs/hodemulator/lib/python2.7/site-packages/george-0.2.1-py2.7-linux-x86_64.egg/george/gp.pyc\u001b[0m in \u001b[0;36m_compute_alpha\u001b[1;34m(self, y)\u001b[0m\n\u001b[0;32m    149\u001b[0m             r = np.ascontiguousarray(self._check_dimensions(y)[self.inds]\n\u001b[0;32m    150\u001b[0m                                      - self.mean(self._x), dtype=np.float64)\n\u001b[1;32m--> 151\u001b[1;33m             \u001b[0mself\u001b[0m\u001b[1;33m.\u001b[0m\u001b[0m_alpha\u001b[0m \u001b[1;33m=\u001b[0m \u001b[0mself\u001b[0m\u001b[1;33m.\u001b[0m\u001b[0msolver\u001b[0m\u001b[1;33m.\u001b[0m\u001b[0mapply_inverse\u001b[0m\u001b[1;33m(\u001b[0m\u001b[0mr\u001b[0m\u001b[1;33m,\u001b[0m \u001b[0min_place\u001b[0m\u001b[1;33m=\u001b[0m\u001b[0mTrue\u001b[0m\u001b[1;33m)\u001b[0m\u001b[1;33m\u001b[0m\u001b[0m\n\u001b[0m\u001b[0;32m    152\u001b[0m \u001b[1;33m\u001b[0m\u001b[0m\n\u001b[0;32m    153\u001b[0m     \u001b[1;32mdef\u001b[0m \u001b[0mcompute\u001b[0m\u001b[1;33m(\u001b[0m\u001b[0mself\u001b[0m\u001b[1;33m,\u001b[0m \u001b[0mx\u001b[0m\u001b[1;33m,\u001b[0m \u001b[0myerr\u001b[0m\u001b[1;33m=\u001b[0m\u001b[0mTINY\u001b[0m\u001b[1;33m,\u001b[0m \u001b[0msort\u001b[0m\u001b[1;33m=\u001b[0m\u001b[0mTrue\u001b[0m\u001b[1;33m,\u001b[0m \u001b[1;33m**\u001b[0m\u001b[0mkwargs\u001b[0m\u001b[1;33m)\u001b[0m\u001b[1;33m:\u001b[0m\u001b[1;33m\u001b[0m\u001b[0m\n",
      "\u001b[1;32m/u/ki/swmclau2/.conda/envs/hodemulator/lib/python2.7/site-packages/george-0.2.1-py2.7-linux-x86_64.egg/george/basic.pyc\u001b[0m in \u001b[0;36mapply_inverse\u001b[1;34m(self, y, in_place)\u001b[0m\n\u001b[0;32m     96\u001b[0m \u001b[1;33m\u001b[0m\u001b[0m\n\u001b[0;32m     97\u001b[0m         \"\"\"\n\u001b[1;32m---> 98\u001b[1;33m         \u001b[1;32mreturn\u001b[0m \u001b[0mcho_solve\u001b[0m\u001b[1;33m(\u001b[0m\u001b[0mself\u001b[0m\u001b[1;33m.\u001b[0m\u001b[0m_factor\u001b[0m\u001b[1;33m,\u001b[0m \u001b[0my\u001b[0m\u001b[1;33m,\u001b[0m \u001b[0moverwrite_b\u001b[0m\u001b[1;33m=\u001b[0m\u001b[0min_place\u001b[0m\u001b[1;33m)\u001b[0m\u001b[1;33m\u001b[0m\u001b[0m\n\u001b[0m\u001b[0;32m     99\u001b[0m \u001b[1;33m\u001b[0m\u001b[0m\n\u001b[0;32m    100\u001b[0m     \u001b[1;32mdef\u001b[0m \u001b[0mapply_sqrt\u001b[0m\u001b[1;33m(\u001b[0m\u001b[0mself\u001b[0m\u001b[1;33m,\u001b[0m \u001b[0mr\u001b[0m\u001b[1;33m)\u001b[0m\u001b[1;33m:\u001b[0m\u001b[1;33m\u001b[0m\u001b[0m\n",
      "\u001b[1;32m/u/ki/swmclau2/.conda/envs/hodemulator/lib/python2.7/site-packages/scipy/linalg/decomp_cholesky.pyc\u001b[0m in \u001b[0;36mcho_solve\u001b[1;34m(c_and_lower, b, overwrite_b, check_finite)\u001b[0m\n\u001b[0;32m    163\u001b[0m     \u001b[1;32mif\u001b[0m \u001b[0mcheck_finite\u001b[0m\u001b[1;33m:\u001b[0m\u001b[1;33m\u001b[0m\u001b[0m\n\u001b[0;32m    164\u001b[0m         \u001b[0mb1\u001b[0m \u001b[1;33m=\u001b[0m \u001b[0masarray_chkfinite\u001b[0m\u001b[1;33m(\u001b[0m\u001b[0mb\u001b[0m\u001b[1;33m)\u001b[0m\u001b[1;33m\u001b[0m\u001b[0m\n\u001b[1;32m--> 165\u001b[1;33m         \u001b[0mc\u001b[0m \u001b[1;33m=\u001b[0m \u001b[0masarray_chkfinite\u001b[0m\u001b[1;33m(\u001b[0m\u001b[0mc\u001b[0m\u001b[1;33m)\u001b[0m\u001b[1;33m\u001b[0m\u001b[0m\n\u001b[0m\u001b[0;32m    166\u001b[0m     \u001b[1;32melse\u001b[0m\u001b[1;33m:\u001b[0m\u001b[1;33m\u001b[0m\u001b[0m\n\u001b[0;32m    167\u001b[0m         \u001b[0mb1\u001b[0m \u001b[1;33m=\u001b[0m \u001b[0masarray\u001b[0m\u001b[1;33m(\u001b[0m\u001b[0mb\u001b[0m\u001b[1;33m)\u001b[0m\u001b[1;33m\u001b[0m\u001b[0m\n",
      "\u001b[1;32m/u/ki/swmclau2/.conda/envs/hodemulator/lib/python2.7/site-packages/numpy/lib/function_base.pyc\u001b[0m in \u001b[0;36masarray_chkfinite\u001b[1;34m(a, dtype, order)\u001b[0m\n\u001b[0;32m   1029\u001b[0m     \"\"\"\n\u001b[0;32m   1030\u001b[0m     \u001b[0ma\u001b[0m \u001b[1;33m=\u001b[0m \u001b[0masarray\u001b[0m\u001b[1;33m(\u001b[0m\u001b[0ma\u001b[0m\u001b[1;33m,\u001b[0m \u001b[0mdtype\u001b[0m\u001b[1;33m=\u001b[0m\u001b[0mdtype\u001b[0m\u001b[1;33m,\u001b[0m \u001b[0morder\u001b[0m\u001b[1;33m=\u001b[0m\u001b[0morder\u001b[0m\u001b[1;33m)\u001b[0m\u001b[1;33m\u001b[0m\u001b[0m\n\u001b[1;32m-> 1031\u001b[1;33m     \u001b[1;32mif\u001b[0m \u001b[0ma\u001b[0m\u001b[1;33m.\u001b[0m\u001b[0mdtype\u001b[0m\u001b[1;33m.\u001b[0m\u001b[0mchar\u001b[0m \u001b[1;32min\u001b[0m \u001b[0mtypecodes\u001b[0m\u001b[1;33m[\u001b[0m\u001b[1;34m'AllFloat'\u001b[0m\u001b[1;33m]\u001b[0m \u001b[1;32mand\u001b[0m \u001b[1;32mnot\u001b[0m \u001b[0mnp\u001b[0m\u001b[1;33m.\u001b[0m\u001b[0misfinite\u001b[0m\u001b[1;33m(\u001b[0m\u001b[0ma\u001b[0m\u001b[1;33m)\u001b[0m\u001b[1;33m.\u001b[0m\u001b[0mall\u001b[0m\u001b[1;33m(\u001b[0m\u001b[1;33m)\u001b[0m\u001b[1;33m:\u001b[0m\u001b[1;33m\u001b[0m\u001b[0m\n\u001b[0m\u001b[0;32m   1032\u001b[0m         raise ValueError(\n\u001b[0;32m   1033\u001b[0m             \"array must not contain infs or NaNs\")\n",
      "\u001b[1;31mKeyboardInterrupt\u001b[0m: "
     ]
    }
   ],
   "source": [
    "for idx in xrange(N):\n",
    "    print idx\n",
    "    t0 = time()\n",
    "    #TODO put switches at the end of the loop too\n",
    "    #then i can make just one deepcopy\n",
    "    #t_x = deepcopy(emu.x)\n",
    "    t_x = emu.x\n",
    "    t_x[[N-1, idx]] = t_x[[idx, N-1]]\n",
    "    \n",
    "    #t_yerr = deepcopy(emu.yerr)\n",
    "    t_yerr = emu.yerr\n",
    "    t_yerr[[N-1, idx]] = t_yerr[[idx, N-1]]\n",
    "    \n",
    "    #t_y = deepcopy(emu.y[:, 0])\n",
    "    t_y = emu.y\n",
    "    #t_y[[N-1, idx], :] = t_y[[idx, N-1], :]\n",
    "    t_y[[N-1, idx]] = t_y[[idx, N-1]]\n",
    "    loo_gp.compute(t_x[:N-1], t_yerr[:N-1])  \n",
    "    mus[idx,:] = loo_gp.predict(emu.y[:N-1], t , mean_only=True)\n",
    "\n",
    "    print time()-t0, 's'\n",
    "    #print\n",
    "    K_inv_full[[idx, N - 1], :] = K_inv_full[[N - 1, idx], :]\n",
    "    K_inv_full[:, [idx, N - 1]] = K_inv_full[:, [N - 1, idx]]\n",
    "\n",
    "    t_x[[N-1, idx]] = t_x[[idx, N-1]]\n",
    "    t_yerr[[N-1, idx]] = t_yerr[[idx, N-1]]\n",
    "    #t_y[[N-1, idx],:] = t_y[[idx, N-1],:]\n",
    "    t_y[[N-1, idx]] = t_y[[idx, N-1]]"
   ]
  },
  {
   "cell_type": "code",
   "execution_count": null,
   "metadata": {
    "collapsed": false
   },
   "outputs": [],
   "source": [
    "#print mus[:, 0]"
   ]
  },
  {
   "cell_type": "code",
   "execution_count": null,
   "metadata": {
    "collapsed": false
   },
   "outputs": [],
   "source": [
    "(N-1)/float(N)"
   ]
  },
  {
   "cell_type": "code",
   "execution_count": null,
   "metadata": {
    "collapsed": false
   },
   "outputs": [],
   "source": [
    "(N-1.0)/N*np.cov(mus, rowvar=False)"
   ]
  },
  {
   "cell_type": "code",
   "execution_count": null,
   "metadata": {
    "collapsed": false
   },
   "outputs": [],
   "source": [
    "print G"
   ]
  },
  {
   "cell_type": "code",
   "execution_count": null,
   "metadata": {
    "collapsed": true
   },
   "outputs": [],
   "source": []
  }
 ],
 "metadata": {
  "kernelspec": {
   "display_name": "Python [conda env:hodemulator]",
   "language": "python",
   "name": "conda-env-hodemulator-py"
  },
  "language_info": {
   "codemirror_mode": {
    "name": "ipython",
    "version": 2
   },
   "file_extension": ".py",
   "mimetype": "text/x-python",
   "name": "python",
   "nbconvert_exporter": "python",
   "pygments_lexer": "ipython2",
   "version": "2.7.12"
  }
 },
 "nbformat": 4,
 "nbformat_minor": 0
}
