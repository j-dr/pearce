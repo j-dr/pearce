{
 "cells": [
  {
   "cell_type": "code",
   "execution_count": 46,
   "metadata": {
    "collapsed": true
   },
   "outputs": [],
   "source": [
    "from pearce.emulator.emu import OriginalRecipe, ExtraCrispy\n",
    "from pearce.emulator.trainingData import parameter, PARAMS"
   ]
  },
  {
   "cell_type": "code",
   "execution_count": 47,
   "metadata": {
    "collapsed": true
   },
   "outputs": [],
   "source": [
    "from george.kernels import ExpSquaredKernel\n",
    "import george"
   ]
  },
  {
   "cell_type": "code",
   "execution_count": 48,
   "metadata": {
    "collapsed": true
   },
   "outputs": [],
   "source": [
    "import numpy as np\n",
    "from matplotlib import pyplot as plt\n",
    "%matplotlib inline\n",
    "import seaborn as sns\n",
    "sns.set()\n",
    "from itertools import cycle\n",
    "colors = cycle(sns.color_palette())"
   ]
  },
  {
   "cell_type": "code",
   "execution_count": 49,
   "metadata": {
    "collapsed": true
   },
   "outputs": [],
   "source": [
    "training_dir = '/u/ki/swmclau2/des/PearceLHC/'"
   ]
  },
  {
   "cell_type": "code",
   "execution_count": 50,
   "metadata": {
    "collapsed": false
   },
   "outputs": [],
   "source": [
    "or_params = PARAMS[:]\n",
    "or_params.append(parameter('r', 0, 1)) #95% sure bounds aren't used for r\n",
    "emu = OriginalRecipe(training_dir,or_params)"
   ]
  },
  {
   "cell_type": "code",
   "execution_count": 51,
   "metadata": {
    "collapsed": false
   },
   "outputs": [],
   "source": [
    "ig = emu.get_initial_guess('xi', {})\n",
    "a = ig['amp']\n",
    "kernel = a * ExpSquaredKernel(emu.metric, ndim=emu.emulator_ndim)\n",
    "loo_gp = george.GP(kernel)\n",
    "# gp = george.GP(kernel, solver=george.HODLRSolver, nleaf=x.shape[0]+1,tol=1e-18)\n",
    "\n",
    "loo_gp.compute(emu.x[1:], emu.yerr[1:])  # NOTE I'm using a modified version of george!"
   ]
  },
  {
   "cell_type": "code",
   "execution_count": 52,
   "metadata": {
    "collapsed": false
   },
   "outputs": [],
   "source": [
    "K_inv_full = emu.gp.solver.apply_inverse(np.eye(emu.x.shape[0]),in_place=True)"
   ]
  },
  {
   "cell_type": "code",
   "execution_count": 53,
   "metadata": {
    "collapsed": true
   },
   "outputs": [],
   "source": [
    "y_param = 'logMmin'\n",
    "emulation_point = [('f_c', 0.233), ('logM0', 12.0), ('sigma_logM', 0.533), \n",
    "                   ('alpha', 1.083),('logM1', 13.5), ('logMmin', 12.233)]\n",
    "em_params = dict(emulation_point)\n",
    "del em_params[y_param]"
   ]
  },
  {
   "cell_type": "code",
   "execution_count": 54,
   "metadata": {
    "collapsed": false
   },
   "outputs": [],
   "source": [
    "rbins = np.array([  0.06309573,   0.12437607,   0.24517359,   0.34422476, 0.48329302, 0.67854546,\\\n",
    "           0.9526807 , 1.33756775,1.8779508 ,   2.6366509 ,   3.70186906,   5.19743987, 7.29722764, \\\n",
    "           10.24533859,  14.38449888,  20.1958975 , 28.35512583,  39.81071706] )\n",
    "rpoints= np.log10((rbins[1:]+rbins[:-1])/2)\n",
    "em_params['r'] = rpoints[:2]"
   ]
  },
  {
   "cell_type": "code",
   "execution_count": 55,
   "metadata": {
    "collapsed": true
   },
   "outputs": [],
   "source": [
    "y_param_idx = -1\n",
    "for idx, p in enumerate(PARAMS):\n",
    "    if p.name==y_param:\n",
    "        y_param_idx = idx\n",
    "        break\n",
    "        \n",
    "y_vals = np.linspace(PARAMS[y_param_idx].low, PARAMS[y_param_idx].high, 4)\n",
    "em_params[y_param] = y_vals"
   ]
  },
  {
   "cell_type": "code",
   "execution_count": 56,
   "metadata": {
    "collapsed": false
   },
   "outputs": [],
   "source": [
    "input_params = {}\n",
    "input_params.update(em_params)\n",
    "\n",
    "# i'd like to remove 'r'. possibly requiring a passed in param?\n",
    "t_list = [input_params[p.name] for p in emu.ordered_params]\n",
    "t_grid = np.meshgrid(*t_list)\n",
    "t = np.stack(t_grid).T\n",
    "t = t.reshape((-1, emu.emulator_ndim))\n",
    "t = np.sort(t.view(','.join(['float64' for _ in xrange(min(t.shape))])),\n",
    "            order=['f%d' % i for i in xrange(min(t.shape))], axis=0).view(np.float)"
   ]
  },
  {
   "cell_type": "code",
   "execution_count": 57,
   "metadata": {
    "collapsed": false
   },
   "outputs": [
    {
     "name": "stdout",
     "output_type": "stream",
     "text": [
      "[ 2.7118659   2.10922335  2.90099548  2.4533758   3.33485557  2.9304436\n",
      "  3.48463452  3.20825562]\n"
     ]
    }
   ],
   "source": [
    "loo_mu = loo_gp.predict(emu.y[1:], t , mean_only=True)\n",
    "print loo_mu"
   ]
  },
  {
   "cell_type": "code",
   "execution_count": 58,
   "metadata": {
    "collapsed": false
   },
   "outputs": [
    {
     "name": "stdout",
     "output_type": "stream",
     "text": [
      "(8431, 8431) (8432, 8432)\n"
     ]
    }
   ],
   "source": [
    "loo_inv = loo_gp.solver.apply_inverse(np.eye(emu.x.shape[0]-1),in_place=True)\n",
    "print loo_inv.shape, K_inv_full.shape"
   ]
  },
  {
   "cell_type": "code",
   "execution_count": 59,
   "metadata": {
    "collapsed": false
   },
   "outputs": [
    {
     "name": "stdout",
     "output_type": "stream",
     "text": [
      "[  1.96564257e+02  -2.74440036e+02  -4.17402233e+01 ...,   4.86810266e-03\n",
      "   4.65590985e-03  -4.36067291e-03]\n",
      "\n",
      "[ -2.74440036e+02   7.61615949e+02   6.14895863e+01 ...,  -1.88435473e-02\n",
      "  -2.50623516e-02   2.21037310e-02]\n"
     ]
    }
   ],
   "source": [
    "print loo_inv[0,:]\n",
    "print \n",
    "print loo_inv[1,:]"
   ]
  },
  {
   "cell_type": "code",
   "execution_count": 60,
   "metadata": {
    "collapsed": false
   },
   "outputs": [
    {
     "name": "stdout",
     "output_type": "stream",
     "text": [
      "[  1.07207315e+02  -7.49339987e+01   1.00697096e+02 ...,   1.87325557e-02\n",
      "  -4.71164214e-03  -3.16211120e-04]\n",
      "\n",
      "[ -7.49339987e+01   2.81840050e+02  -4.42344406e+02 ...,  -9.56717340e-02\n",
      "   2.47047181e-02   1.04994773e-03]\n"
     ]
    }
   ],
   "source": [
    "print K_inv_full[0,:]\n",
    "print \n",
    "print K_inv_full[1,:]"
   ]
  },
  {
   "cell_type": "code",
   "execution_count": 61,
   "metadata": {
    "collapsed": false
   },
   "outputs": [
    {
     "name": "stdout",
     "output_type": "stream",
     "text": [
      "[ 2.82404214  2.1429887   2.95890881  2.45252086  3.33484726  2.92748791\n",
      "  3.49523175  3.21356925]\n"
     ]
    }
   ],
   "source": [
    "mu, _ = emu.emulate(em_params)\n",
    "print mu"
   ]
  },
  {
   "cell_type": "code",
   "execution_count": 62,
   "metadata": {
    "collapsed": false
   },
   "outputs": [
    {
     "name": "stdout",
     "output_type": "stream",
     "text": [
      "[ 3.81843655]\n"
     ]
    }
   ],
   "source": [
    "yhat = loo_gp.predict(emu.y[1:], emu.x[0].reshape((1,emu.x.shape[1])), mean_only=True)\n",
    "print yhat"
   ]
  },
  {
   "cell_type": "code",
   "execution_count": 63,
   "metadata": {
    "collapsed": false
   },
   "outputs": [
    {
     "name": "stdout",
     "output_type": "stream",
     "text": [
      "3.72177668084\n"
     ]
    }
   ],
   "source": [
    "print emu.y[0]"
   ]
  },
  {
   "cell_type": "code",
   "execution_count": 64,
   "metadata": {
    "collapsed": false
   },
   "outputs": [],
   "source": [
    "x, y = emu.x[:], emu.y[:]\n",
    "\n",
    "N = K_inv_full.shape[0]\n",
    "mus = np.zeros((N, t.shape[0]))"
   ]
  },
  {
   "cell_type": "code",
   "execution_count": 65,
   "metadata": {
    "collapsed": true
   },
   "outputs": [],
   "source": [
    "from time import time\n",
    "from scipy.linalg import inv"
   ]
  },
  {
   "cell_type": "code",
   "execution_count": 66,
   "metadata": {
    "collapsed": true
   },
   "outputs": [],
   "source": [
    "my_inds = [i for i in xrange(1, N-1)]\n",
    "my_inds.append(0)\n",
    "my_inds = np.array(my_inds)"
   ]
  },
  {
   "cell_type": "code",
   "execution_count": 67,
   "metadata": {
    "collapsed": true
   },
   "outputs": [],
   "source": [
    "from copy import deepcopy"
   ]
  },
  {
   "cell_type": "code",
   "execution_count": 68,
   "metadata": {
    "collapsed": false
   },
   "outputs": [
    {
     "name": "stdout",
     "output_type": "stream",
     "text": [
      "[  1.38173524e+02   8.28927704e-04  -1.94377338e-03 ...,  -2.06294116e+02\n",
      "   2.34073375e+02  -2.23561116e+02]\n",
      "[  1.38173524e+02   8.28927703e-04  -1.94377337e-03 ...,  -2.06294116e+02\n",
      "   2.34073375e+02  -2.23561116e+02]\n",
      "x0\n",
      "[ 12.393        0.36        12.387       13.203        0.888        0.288\n",
      "  -1.02809403]\n",
      "[ 12.393        0.36        12.387       13.203        0.888        0.288\n",
      "  -1.02809403]\n",
      "\n",
      "x\n",
      "[[ 12.393        0.36        12.387      ...,   0.888        0.288\n",
      "   -0.73335719]\n",
      " [ 12.393        0.36        12.387      ...,   0.888        0.288\n",
      "   -0.53062108]\n",
      " [ 12.471        0.585       12.375      ...,   0.798        0.208\n",
      "   -0.73335719]\n",
      " ..., \n",
      " [ 11.91         0.672       10.018      ...,   1.086        0.33\n",
      "    1.53253681]\n",
      " [ 11.74         0.548       10.144      ...,   1.152        0.321\n",
      "    1.53253681]\n",
      " [ 11.856        0.643       10.084      ...,   1.118        0.474\n",
      "    1.53253681]]\n",
      "[[ 11.815        0.243       11.184      ...,   1.097        0.13\n",
      "    1.53253681]\n",
      " [ 12.393        0.36        12.387      ...,   0.888        0.288\n",
      "   -0.73335719]\n",
      " [ 12.393        0.36        12.387      ...,   0.888        0.288\n",
      "   -0.53062108]\n",
      " ..., \n",
      " [ 11.815        0.243       11.184      ...,   1.097        0.13\n",
      "    1.09043155]\n",
      " [ 11.815        0.243       11.184      ...,   1.097        0.13\n",
      "    1.23779997]\n",
      " [ 11.815        0.243       11.184      ...,   1.097        0.13\n",
      "    1.38516839]]\n",
      "[[ 12.393        0.36        12.387      ...,   0.888        0.288\n",
      "   -0.73335719]\n",
      " [ 12.393        0.36        12.387      ...,   0.888        0.288\n",
      "   -0.53062108]\n",
      " [ 12.393        0.36        12.387      ...,   0.888        0.288\n",
      "   -0.38325266]\n",
      " ..., \n",
      " [ 11.815        0.243       11.184      ...,   1.097        0.13\n",
      "    1.23779997]\n",
      " [ 11.815        0.243       11.184      ...,   1.097        0.13\n",
      "    1.38516839]\n",
      " [ 11.815        0.243       11.184      ...,   1.097        0.13\n",
      "    1.53253681]]\n",
      "\n",
      "Kxx\n",
      "[  1.62389000e-01   2.18101533e-02   9.72302183e-02 ...,   1.58935305e-38\n",
      "   2.06217077e-39   1.55409809e-39]\n",
      "[  2.96673444e-38   1.62389000e-01   2.18101533e-02 ...,   5.04058333e-27\n",
      "   1.56629775e-30   2.82796230e-34]\n",
      "\n",
      "y\n",
      "[ 3.14605283  2.82388645  3.16484055 ..., -2.07628907 -2.17913817\n",
      " -2.15443727]\n",
      "[-1.96352447  3.14605283  2.82388645 ..., -0.91764048 -1.21569077\n",
      " -1.55313989]\n",
      "\n",
      "[-26.68531883  45.08125409   0.52031506 ...,   2.5735441    0.14753414\n",
      "  -2.73712473]\n",
      "[   9.01714397  -46.31837275  102.12711226 ...,  -50.7026232    27.6788042\n",
      "  -17.87423783]\n",
      "\n",
      "[ 3.81843655]\n",
      "[ 3.81843655]\n",
      "[ 3.77532092]\n",
      "3.7633210666\n",
      "3.72177668084 3.72177668084\n"
     ]
    }
   ],
   "source": [
    "for idx in xrange(N):\n",
    "    #print idx\n",
    "    '''\n",
    "    t0 = time()\n",
    "    # This operation was really slow. Trying something else.\n",
    "    # K_inv_idx_N = np.dot(rotation_matrix, np.dot(K_inv_full, rotation_matrix))\n",
    "    # Small\n",
    "    K_inv_full[[idx, N - 1], :] = K_inv_full[[N - 1, idx], :]\n",
    "    K_inv_full[:, [idx, N - 1]] = K_inv_full[:, [N - 1, idx]]\n",
    "    #print time() - t0, 's'\n",
    "    # swap x and y as well\n",
    "    x[[idx, N - 1], :] = x[[N - 1, idx], :]\n",
    "    y[[idx, N - 1]] = y[[N - 1, idx]]\n",
    "\n",
    "    K_inv_m_idx = K_inv_full[:N - 1, :][:,\n",
    "          :N - 1]  # -np.outer(K_inv_full[N-1,:N-1], K_inv_full[:N-1,N-1])/K_inv_full[N-1,N-1]\n",
    "    c = K_inv_full[N - 1, :N - 1]\n",
    "    # The subtracction takes a long time\n",
    "    K_inv_m_idx -= np.outer(c / K_inv_full[N - 1, N - 1], c)\n",
    "    Kxxs = emu.gp.kernel.value(t, x[:N - 1])\n",
    "    #print time() - t0, 's'  # slow-ish\n",
    "    # TODO currently doesn't work on ExtraCrispy. Could make y an input and it would.\n",
    "    # this proudct takes a long time\n",
    "    alpha = np.dot(K_inv_m_idx, y[:N - 1])\n",
    "    #print time() - t0, 's'  # slow-ish\n",
    "    mus[idx, :] = np.dot(Kxxs, alpha)\n",
    "\n",
    "    print mus[idx, :]\n",
    "    print\n",
    "    #print time() - t0, 's'\n",
    "    #print\n",
    "    '''\n",
    "    t0 = time()\n",
    "    #TODO put switches at the end of the loop too\n",
    "    #then i can make just one deepcopy\n",
    "    t_x = deepcopy(emu.x)\n",
    "    t_x[[N-1, idx]] = t_x[[idx, N-1]]\n",
    "    t_yerr = deepcopy(emu.yerr)\n",
    "    t_yerr[[N-1, idx]] = t_yerr[[idx, N-1]]\n",
    "    \n",
    "    K_inv = deepcopy(K_inv_full)\n",
    "    \n",
    "    K_inv_full[[idx, N - 1], :] = K_inv_full[[N - 1, idx], :]\n",
    "    K_inv_full[:, [idx, N - 1]] = K_inv_full[:, [N - 1, idx]]\n",
    "    \n",
    "    K3_inv = K_inv_full[:N - 1, :][:,:N - 1] \\\n",
    "            -np.outer(K_inv_full[N-1,:N-1], K_inv_full[:N-1,N-1])/K_inv_full[N-1,N-1]\n",
    "        \n",
    "\n",
    "    #K3 = emu.gp.kernel.value(emu.x, emu.x)+np.diag(emu.yerr**2)\n",
    "    #K3[[N-1, idx], :] = K3[[idx, N-1], :]\n",
    "    #K3[:, [N-1, idx]] = K3[:, [idx, N-1]]\n",
    "    K3_inv2 = inv(K3[:N-1, :][:,:N-1])\n",
    "    print K3_inv[0, :]\n",
    "    print K3_inv2[0,:]\n",
    "    #y3 = np.dot(rotation_matrix, emu.gp._y)\n",
    "    #y3 = np.dot(rotation_matrix, emu.y)\n",
    "    y3 = deepcopy(emu.y)\n",
    "    y3[[N-1, idx]] = y3[[idx, N-1]]\n",
    "\n",
    "    #same\n",
    "    #means same point is being left out. \n",
    "    print 'x0'\n",
    "    print emu.x[0]\n",
    "    print t_x[N-1]\n",
    "    print\n",
    "    #these two have a different order for some reason! because ofc. \n",
    "    #do have the same values, just a different order\n",
    "    print 'x'\n",
    "    print loo_gp._x\n",
    "    print t_x[:N-1]\n",
    "    print t_x[:N-1][my_inds]\n",
    "    print\n",
    "    #similarly, same value with different ordering. \n",
    "    Kxxs4 = loo_gp.kernel.value(emu.x[0].reshape((1,emu.x.shape[1])), loo_gp._x)[0,:]\n",
    "    print 'Kxx'\n",
    "    print Kxxs4\n",
    "    Kxxs5 = emu.gp.kernel.value(t_x[N-1].reshape((1,t_x.shape[1])), t_x[:N-1])[0,:]\n",
    "    print Kxxs5\n",
    "    print\n",
    "    #also the same values, out of order. is the order different then of x?\n",
    "    #no, just have to remember to use the gp's indicies\n",
    "    print 'y'\n",
    "    print loo_gp._y[loo_gp.inds]\n",
    "    print y3[:N-1]\n",
    "    print\n",
    "    loo_gp._compute_alpha(loo_gp._y)\n",
    "    alpha4 = loo_gp._alpha\n",
    "    print alpha4\n",
    "    #print\n",
    "    alpha5 = np.dot(K3_inv, y3[:N-1]-emu.gp.mean(t_x[:N-1]))\n",
    "    print alpha5\n",
    "    print\n",
    "    #print yhat3\n",
    "    print np.dot(Kxxs4, alpha4) + loo_gp.mean(emu.x[0].reshape((1,emu.x.shape[1])))\n",
    "    print yhat\n",
    "    print np.dot(Kxxs5, alpha5)+ emu.gp.mean(t_x[N-1].reshape((1,t_x.shape[1])))\n",
    "    print emu.gp._y[emu.gp.inds[0]] - emu.gp._alpha[0]/K_inv_full[0,0]\n",
    "    print y3[N-1], emu.gp._y[0]\n",
    "    #Kxxs3 =emu.gp.kernel.value(t, t_x[:N - 1])\n",
    "    #mu3 = np.dot(Kxxs3, alpha3)\n",
    "    #print mu3\n",
    "    #print time() - t0, 's'\n",
    "    '''\n",
    "    K_inv_full[[idx, N - 1], :] = K_inv_full[[N - 1, idx], :]\n",
    "    K_inv_full[:, [idx, N - 1]] = K_inv_full[:, [N - 1, idx]]\n",
    "    #print time() - t0, 's'\n",
    "    x[[idx, N - 1], :] = x[[N - 1, idx], :]\n",
    "    y[[idx, N - 1]] = y[[N - 1, idx]]\n",
    "    '''\n",
    "    break"
   ]
  },
  {
   "cell_type": "code",
   "execution_count": 23,
   "metadata": {
    "collapsed": false
   },
   "outputs": [
    {
     "name": "stdout",
     "output_type": "stream",
     "text": [
      "0.0\n"
     ]
    }
   ],
   "source": [
    "print np.sum(np.array(sorted(Kxxs4))-np.array(sorted(Kxxs5)) )"
   ]
  },
  {
   "cell_type": "code",
   "execution_count": 24,
   "metadata": {
    "collapsed": false
   },
   "outputs": [
    {
     "name": "stdout",
     "output_type": "stream",
     "text": [
      "0.0\n"
     ]
    }
   ],
   "source": [
    "print np.sum(np.array(sorted(loo_gp._y))-np.array(sorted(y3[:N-1])) )"
   ]
  },
  {
   "cell_type": "code",
   "execution_count": 25,
   "metadata": {
    "collapsed": false
   },
   "outputs": [
    {
     "name": "stdout",
     "output_type": "stream",
     "text": [
      "[-2.23112733 -2.20157073 -2.20141493 ...,  3.91705891  4.06814874\n",
      "  4.12201917]\n",
      "\n",
      "[-2.23112733 -2.20157073 -2.20141493 ...,  3.91705891  4.06814874\n",
      "  4.12201917]\n",
      "\n",
      "[[ 11.711        0.613       10.667      ...,   0.982        0.244\n",
      "    1.53253681]\n",
      " [ 11.812        0.401       12.164      ...,   1.047        0.176\n",
      "    1.53253681]\n",
      " [ 11.726        0.522       12.663      ...,   0.938        0.299\n",
      "    1.53253681]\n",
      " ..., \n",
      " [ 12.333        0.231       12.297      ...,   0.752        0.288\n",
      "   -1.02809403]\n",
      " [ 12.462        0.475       11.365      ...,   1.194        0.111\n",
      "   -1.02809403]\n",
      " [ 12.272        0.388       12.892      ...,   1.22         0.181\n",
      "   -1.02809403]]\n",
      "\n",
      "[[ 11.711        0.613       10.667      ...,   0.982        0.244\n",
      "    1.53253681]\n",
      " [ 11.812        0.401       12.164      ...,   1.047        0.176\n",
      "    1.53253681]\n",
      " [ 11.726        0.522       12.663      ...,   0.938        0.299\n",
      "    1.53253681]\n",
      " ..., \n",
      " [ 12.333        0.231       12.297      ...,   0.752        0.288\n",
      "   -1.02809403]\n",
      " [ 12.462        0.475       11.365      ...,   1.194        0.111\n",
      "   -1.02809403]\n",
      " [ 12.272        0.388       12.892      ...,   1.22         0.181\n",
      "   -1.02809403]]\n"
     ]
    }
   ],
   "source": [
    "idxs4 = np.argsort(loo_gp._y[loo_gp.inds])\n",
    "idxs5 = np.argsort(y3[:N-1])\n",
    "print loo_gp._y[loo_gp.inds][idxs4]\n",
    "print\n",
    "print y3[:N-1][idxs5]\n",
    "print\n",
    "print loo_gp._x[idxs4]\n",
    "print \n",
    "print t_x[:N-1][idxs5]"
   ]
  },
  {
   "cell_type": "code",
   "execution_count": 26,
   "metadata": {
    "collapsed": false
   },
   "outputs": [
    {
     "name": "stdout",
     "output_type": "stream",
     "text": [
      "[ 3.72177668  3.14605283  2.82388645 ..., -1.21569077 -1.55313989\n",
      " -1.96352447]\n",
      "[ 3.72177668  3.14605283  2.82388645 ..., -1.21569077 -1.55313989\n",
      " -1.96352447]\n",
      "\n",
      "[[ 12.393        0.36        12.387      ...,   0.888        0.288\n",
      "   -1.02809403]\n",
      " [ 12.393        0.36        12.387      ...,   0.888        0.288\n",
      "   -0.73335719]\n",
      " [ 12.393        0.36        12.387      ...,   0.888        0.288\n",
      "   -0.53062108]\n",
      " ..., \n",
      " [ 11.815        0.243       11.184      ...,   1.097        0.13\n",
      "    1.23779997]\n",
      " [ 11.815        0.243       11.184      ...,   1.097        0.13\n",
      "    1.38516839]\n",
      " [ 11.815        0.243       11.184      ...,   1.097        0.13\n",
      "    1.53253681]]\n",
      "[[ 12.393        0.36        12.387      ...,   0.888        0.288\n",
      "   -1.02809403]\n",
      " [ 12.393        0.36        12.387      ...,   0.888        0.288\n",
      "   -0.73335719]\n",
      " [ 12.393        0.36        12.387      ...,   0.888        0.288\n",
      "   -0.53062108]\n",
      " ..., \n",
      " [ 11.815        0.243       11.184      ...,   1.097        0.13\n",
      "    1.23779997]\n",
      " [ 11.815        0.243       11.184      ...,   1.097        0.13\n",
      "    1.38516839]\n",
      " [ 11.815        0.243       11.184      ...,   1.097        0.13\n",
      "    1.53253681]]\n"
     ]
    }
   ],
   "source": [
    "idxs = np.argsort(emu.y)\n",
    "idxs2 = np.argsort(emu.gp._y)\n",
    "print emu.y\n",
    "print emu.gp._y[emu.gp.inds]\n",
    "print\n",
    "print emu.x\n",
    "print emu.gp._x"
   ]
  },
  {
   "cell_type": "code",
   "execution_count": 27,
   "metadata": {
    "collapsed": false
   },
   "outputs": [
    {
     "name": "stdout",
     "output_type": "stream",
     "text": [
      "0\n"
     ]
    }
   ],
   "source": [
    "print np.sum(idxs-idxs2)"
   ]
  },
  {
   "cell_type": "code",
   "execution_count": 28,
   "metadata": {
    "collapsed": false
   },
   "outputs": [
    {
     "name": "stdout",
     "output_type": "stream",
     "text": [
      "[8328 7324 6779 ...,  690 1300  280]\n",
      "[1699 5507 7700 ..., 4097 5916 6103]\n"
     ]
    },
    {
     "data": {
      "text/plain": [
       "[<matplotlib.lines.Line2D at 0x7f7ba260d590>]"
      ]
     },
     "execution_count": 28,
     "metadata": {},
     "output_type": "execute_result"
    },
    {
     "data": {
      "image/png": "[encoded data removed]",
      "text/plain": [
       "<matplotlib.figure.Figure at 0x7f7ba3378c50>"
      ]
     },
     "metadata": {},
     "output_type": "display_data"
    }
   ],
   "source": [
    "print idxs4\n",
    "print idxs5\n",
    "#print sorted(idxs4- idxs5)\n",
    "plt.plot(idxs4-idxs5)"
   ]
  },
  {
   "cell_type": "code",
   "execution_count": 29,
   "metadata": {
    "collapsed": false
   },
   "outputs": [
    {
     "name": "stdout",
     "output_type": "stream",
     "text": [
      "set([]) 8431 8431\n"
     ]
    }
   ],
   "source": [
    "vals1 = {tuple(row) for row in loo_gp._x}\n",
    "vals2 = {tuple(row) for row in t_x[:N-1]}\n",
    "print vals1-vals2, len(vals1), len(vals2)"
   ]
  },
  {
   "cell_type": "code",
   "execution_count": 30,
   "metadata": {
    "collapsed": false
   },
   "outputs": [
    {
     "data": {
      "image/png": "[encoded data removed]",
      "text/plain": [
       "<matplotlib.figure.Figure at 0x7f7bd0118890>"
      ]
     },
     "metadata": {},
     "output_type": "display_data"
    }
   ],
   "source": [
    "plt.plot(sorted(alpha4), label = '4')\n",
    "plt.plot(sorted(alpha5), label = '5')\n",
    "plt.legend(loc='best')\n",
    "plt.show()"
   ]
  },
  {
   "cell_type": "code",
   "execution_count": 31,
   "metadata": {
    "collapsed": false
   },
   "outputs": [
    {
     "name": "stdout",
     "output_type": "stream",
     "text": [
      "[ 3.81843655]\n"
     ]
    }
   ],
   "source": [
    "print loo_gp.predict(emu.y[1:], emu.x[0].reshape((1,emu.x.shape[1])), mean_only=True)"
   ]
  },
  {
   "cell_type": "code",
   "execution_count": 32,
   "metadata": {
    "collapsed": false
   },
   "outputs": [
    {
     "name": "stdout",
     "output_type": "stream",
     "text": [
      "[[ 12.393        0.36        12.387       13.203        0.888        0.288\n",
      "   -1.02809403]]\n",
      "[[ 12.393        0.36        12.387       13.203        0.888        0.288\n",
      "   -1.02809403]]\n",
      "\n",
      "[  1.62389000e-01   2.18101533e-02   2.65943155e-03 ...,   1.56629775e-30\n",
      "   2.82796230e-34   2.96673444e-38]\n",
      "\n",
      "[-26.68531883  45.08125409   0.52031506 ...,   2.5735441    0.14753414\n",
      "  -2.73712473]\n",
      "\n",
      "[ 332.79046395]\n",
      "\n"
     ]
    }
   ],
   "source": [
    "print emu.x[0].reshape((1,emu.x.shape[1]))\n",
    "print loo_gp.parse_samples(emu.x[0].reshape((1,emu.x.shape[1])))[0]\n",
    "print\n",
    "#print emu.x[1:]\n",
    "Kxxs4 = loo_gp.kernel.value(emu.x[0].reshape((1,emu.x.shape[1])), emu.x[1:])[0,:]\n",
    "print Kxxs4\n",
    "print\n",
    "loo_gp._compute_alpha(emu.y[1:])\n",
    "alpha4 = loo_gp._alpha\n",
    "print alpha4\n",
    "print\n",
    "print np.dot(Kxxs4, alpha4) + loo_gp.mean(emu.x[0].reshape((1,emu.x.shape[1])))\n",
    "print "
   ]
  },
  {
   "cell_type": "code",
   "execution_count": 33,
   "metadata": {
    "collapsed": false
   },
   "outputs": [
    {
     "name": "stdout",
     "output_type": "stream",
     "text": [
      "[[ 12.393        0.36        12.387       13.203        0.888        0.288\n",
      "   -1.02809403]]\n",
      "[ 12.393        0.36        12.387       13.203        0.888        0.288\n",
      "  -1.02809403]\n",
      "\n",
      "[  1.62389000e-01   2.18101533e-02   9.72302183e-02 ...,   1.58935305e-38\n",
      "   2.06217077e-39   1.55409809e-39]\n",
      "\n",
      "[-26.68531883  45.08125409   0.52031506 ...,   2.5735441    0.14753414\n",
      "  -2.73712473]\n",
      "\n",
      "[ 3.81843655]\n",
      "\n"
     ]
    }
   ],
   "source": [
    "print emu.x[0].reshape((1,emu.x.shape[1]))\n",
    "print loo_gp.parse_samples(emu.x[0].reshape((1,emu.x.shape[1])), True)[0]\n",
    "print\n",
    "#print loo_gp._x\n",
    "Kxxs4 = loo_gp.kernel.value(emu.x[0].reshape((1,emu.x.shape[1])), loo_gp._x)[0,:]\n",
    "print Kxxs4\n",
    "print\n",
    "loo_gp._compute_alpha(emu.y[1:])\n",
    "alpha4 = loo_gp._alpha\n",
    "print alpha4\n",
    "print\n",
    "print np.dot(Kxxs4, alpha4) + loo_gp.mean(emu.x[0].reshape((1,emu.x.shape[1])))\n",
    "print "
   ]
  },
  {
   "cell_type": "code",
   "execution_count": 34,
   "metadata": {
    "collapsed": false
   },
   "outputs": [
    {
     "name": "stdout",
     "output_type": "stream",
     "text": [
      "[[ 12.393        0.36        12.387      ...,   0.888        0.288\n",
      "   -0.73335719]\n",
      " [ 12.393        0.36        12.387      ...,   0.888        0.288\n",
      "   -0.53062108]\n",
      " [ 12.471        0.585       12.375      ...,   0.798        0.208\n",
      "   -0.73335719]\n",
      " ..., \n",
      " [ 11.91         0.672       10.018      ...,   1.086        0.33\n",
      "    1.53253681]\n",
      " [ 11.74         0.548       10.144      ...,   1.152        0.321\n",
      "    1.53253681]\n",
      " [ 11.856        0.643       10.084      ...,   1.118        0.474\n",
      "    1.53253681]]\n",
      "\n",
      "[[ 12.393        0.36        12.387      ...,   0.888        0.288\n",
      "   -0.73335719]\n",
      " [ 12.393        0.36        12.387      ...,   0.888        0.288\n",
      "   -0.53062108]\n",
      " [ 12.393        0.36        12.387      ...,   0.888        0.288\n",
      "   -0.38325266]\n",
      " ..., \n",
      " [ 11.815        0.243       11.184      ...,   1.097        0.13\n",
      "    1.23779997]\n",
      " [ 11.815        0.243       11.184      ...,   1.097        0.13\n",
      "    1.38516839]\n",
      " [ 11.815        0.243       11.184      ...,   1.097        0.13\n",
      "    1.53253681]]\n",
      "\n",
      "[[ 12.393        0.36        12.387      ...,   0.888        0.288\n",
      "   -0.73335719]\n",
      " [ 12.393        0.36        12.387      ...,   0.888        0.288\n",
      "   -0.53062108]\n",
      " [ 12.471        0.585       12.375      ...,   0.798        0.208\n",
      "   -0.73335719]\n",
      " ..., \n",
      " [ 11.91         0.672       10.018      ...,   1.086        0.33\n",
      "    1.53253681]\n",
      " [ 11.74         0.548       10.144      ...,   1.152        0.321\n",
      "    1.53253681]\n",
      " [ 11.856        0.643       10.084      ...,   1.118        0.474\n",
      "    1.53253681]]\n"
     ]
    }
   ],
   "source": [
    "print loo_gp._x\n",
    "print\n",
    "print emu.x[1:]\n",
    "print \n",
    "xx = loo_gp.parse_samples(emu.x[1:], True)[0]\n",
    "print xx"
   ]
  },
  {
   "cell_type": "code",
   "execution_count": 35,
   "metadata": {
    "collapsed": false
   },
   "outputs": [
    {
     "name": "stdout",
     "output_type": "stream",
     "text": [
      "[  1.96564257e+02  -2.74440036e+02  -4.17402233e+01 ...,   4.86810266e-03\n",
      "   4.65590985e-03  -4.36067291e-03]\n",
      "\n",
      "[ -2.74440036e+02   7.61615949e+02   6.14895863e+01 ...,  -1.88435473e-02\n",
      "  -2.50623516e-02   2.21037310e-02]\n"
     ]
    }
   ],
   "source": [
    "print loo_inv[0,:]\n",
    "print \n",
    "print loo_inv[1,:]"
   ]
  },
  {
   "cell_type": "code",
   "execution_count": 36,
   "metadata": {
    "collapsed": false
   },
   "outputs": [
    {
     "ename": "NameError",
     "evalue": "name 'mu2' is not defined",
     "output_type": "error",
     "traceback": [
      "\u001b[1;31m---------------------------------------------------------------------------\u001b[0m",
      "\u001b[1;31mNameError\u001b[0m                                 Traceback (most recent call last)",
      "\u001b[1;32m<ipython-input-36-c02db70d17d0>\u001b[0m in \u001b[0;36m<module>\u001b[1;34m()\u001b[0m\n\u001b[0;32m      1\u001b[0m \u001b[0mmu\u001b[0m \u001b[1;33m=\u001b[0m \u001b[0mmu\u001b[0m\u001b[1;33m.\u001b[0m\u001b[0mreshape\u001b[0m\u001b[1;33m(\u001b[0m\u001b[1;33m(\u001b[0m\u001b[1;33m-\u001b[0m\u001b[1;36m1\u001b[0m\u001b[1;33m,\u001b[0m\u001b[1;36m2\u001b[0m\u001b[1;33m)\u001b[0m\u001b[1;33m)\u001b[0m\u001b[1;33m\u001b[0m\u001b[0m\n\u001b[0;32m      2\u001b[0m \u001b[0mloo_mu\u001b[0m \u001b[1;33m=\u001b[0m \u001b[0mloo_mu\u001b[0m\u001b[1;33m.\u001b[0m\u001b[0mreshape\u001b[0m\u001b[1;33m(\u001b[0m\u001b[1;33m(\u001b[0m\u001b[1;33m-\u001b[0m\u001b[1;36m1\u001b[0m\u001b[1;33m,\u001b[0m\u001b[1;36m2\u001b[0m\u001b[1;33m)\u001b[0m\u001b[1;33m)\u001b[0m\u001b[1;33m\u001b[0m\u001b[0m\n\u001b[1;32m----> 3\u001b[1;33m \u001b[0mmu2\u001b[0m \u001b[1;33m=\u001b[0m \u001b[0mmu2\u001b[0m\u001b[1;33m.\u001b[0m\u001b[0mreshape\u001b[0m\u001b[1;33m(\u001b[0m\u001b[1;33m(\u001b[0m\u001b[1;33m-\u001b[0m\u001b[1;36m1\u001b[0m\u001b[1;33m,\u001b[0m\u001b[1;36m2\u001b[0m\u001b[1;33m)\u001b[0m\u001b[1;33m)\u001b[0m\u001b[1;33m\u001b[0m\u001b[0m\n\u001b[0m",
      "\u001b[1;31mNameError\u001b[0m: name 'mu2' is not defined"
     ]
    }
   ],
   "source": [
    "mu = mu.reshape((-1,2))\n",
    "loo_mu = loo_mu.reshape((-1,2))\n",
    "mu2 = mu2.reshape((-1,2))"
   ]
  },
  {
   "cell_type": "code",
   "execution_count": null,
   "metadata": {
    "collapsed": false
   },
   "outputs": [],
   "source": [
    "fig = plt.figure(figsize = (10, 10))\n",
    "\n",
    "for label, lxp,looxp, lxp2, c in zip(y_vals, mu,loo_mu, mu2,colors):\n",
    "    plt.plot(10**rpoints[:2], lxp,label = '%.3f'%label, color = c, marker ='o')\n",
    "    plt.plot(10**rpoints[:2], looxp, color = c, marker ='v')\n",
    "    plt.plot(10**rpoints[:2], lxp2, color = c, marker ='^')\n",
    "    \n",
    "\n",
    "#plt.xlim(xmin = 0.08, xmax = .6)    \n",
    "#plt.ylim(ymin = 2, ymax = 4)\n",
    "#plt.title(\"OR Emulator w.r.t. %s\"%y_param, fontsize =20)\n",
    "#plt.loglog()\n",
    "plt.xscale('log')\n",
    "plt.xticks(fontsize=20)\n",
    "plt.yticks(fontsize=20)\n",
    "plt.xlabel(r'$r $  $\\rm{[Mpc]}$', fontsize=25)\n",
    "plt.ylabel(r'$\\log_{10}{\\xi_{\\rm gg}(r) }$', fontsize=25)\n",
    "plt.legend(loc='best', fontsize=25)"
   ]
  },
  {
   "cell_type": "code",
   "execution_count": null,
   "metadata": {
    "collapsed": false
   },
   "outputs": [],
   "source": [
    "(N - 1) / N * np.cov(mus, rowvar=False)"
   ]
  }
 ],
 "metadata": {
  "kernelspec": {
   "display_name": "Python [conda env:hodemulator]",
   "language": "python",
   "name": "conda-env-hodemulator-py"
  },
  "language_info": {
   "codemirror_mode": {
    "name": "ipython",
    "version": 2
   },
   "file_extension": ".py",
   "mimetype": "text/x-python",
   "name": "python",
   "nbconvert_exporter": "python",
   "pygments_lexer": "ipython2",
   "version": "2.7.12"
  }
 },
 "nbformat": 4,
 "nbformat_minor": 0
}
