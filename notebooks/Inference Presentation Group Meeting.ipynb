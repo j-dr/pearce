{
 "cells": [
  {
   "cell_type": "markdown",
   "metadata": {},
   "source": [
    "We are interested in performing the following inference:\n",
    "\n",
    "$P(\\theta \\; | y_{obs}) \\propto \\pi(\\theta)P(y_{obs}\\; | \\theta ) $\n",
    "\n",
    "However, calculating the liklihood is too expensive for our use case. Instead, we'd like to use and emultor to do:"
   ]
  },
  {
   "cell_type": "markdown",
   "metadata": {},
   "source": [
    "$P(\\theta \\; | y_{obs}) \\propto \\pi(\\theta) \\int{P(y_{obs} \\; | \\hat{y} ) \\; P(\\hat{y} \\;| \\theta)\\; d\\hat{y} }$\n",
    "\n",
    "Where $P(\\hat{y} \\; | \\theta)$ is the emulator. We have chosen a Gaussian process emulator, which has a few additional benefits. For one, it produces an estimator $\\hat{y}$ with a well-defined Gaussian distribution given its training. If our measurment errors are also Gaussian, then the above integral is a product of Gaussians which is itself a Gaussian with the below properties."
   ]
  },
  {
   "cell_type": "markdown",
   "metadata": {},
   "source": [
    "$\\mathcal{N}(a,A) \\cdot \\mathcal{N}(b,B) = z\\; \\mathcal{N}(c, C)$\n",
    "\n",
    "$C \\equiv (A^{-1} + B^{-1})^{-1}$\n",
    "\n",
    "$c \\equiv C(A^{-1}a + B^{-1}b)$\n",
    "\n",
    "And $z$ is a complex function I will define below, as it requires more explanation. "
   ]
  },
  {
   "cell_type": "markdown",
   "metadata": {},
   "source": [
    "The above relation is defined if both distributions have the same random variable. We have to perform a change of variables, then. We note that:\n",
    "\n",
    "$P(y_{obs}\\; | \\hat{y}) = \\frac{exp[(y_{obs}-\\hat{y})^T\\Sigma^{-1}(y_{obs}-\\hat{y})]}{Z} = P(\\hat{y}\\; | y_{obs})$\n",
    "\n",
    "Just like that, we've got:\n",
    "\n",
    "$P(\\theta \\; | y_{obs}) \\propto \\pi(\\theta) \\int{P(\\hat{y} \\; | y_{obs} ) \\; P(\\hat{y} \\;| \\theta)\\; d\\hat{y} }\\\\ \\\\\n",
    "P(\\theta \\; | y_{obs}) \\propto \\pi(\\theta)\\; z\\; \\int{\\mathcal{N}(\\hat{y} \\; | y_{obs}, \\theta ) d\\hat{y} } \\\\ \\\\\n",
    "P(\\theta \\; | y_{obs}) \\propto \\pi(\\theta)\\; z\\;(1)$\n",
    "\n"
   ]
  },
  {
   "cell_type": "markdown",
   "metadata": {},
   "source": [
    "Now, lets revisit $z$. $z$ is effectively $P(y_{obs} | \\theta)$. This is convenient, because $z$ is a random variable that is Gaussian in both $y_{obs}$ and $\\bar{y}$, the mean of the distribution from the emulator, a function of theta. So,\n",
    "\n",
    "$P(\\theta \\; | y_{obs}) \\propto \\pi(\\theta)P(y_{obs}\\; | \\theta )\\\\ $\n",
    "\n",
    "Where \n",
    "\n",
    "$y_{obs} | \\theta \\sim \\mathcal{N}(D\\;(M^{-1}\\; C\\; G^{-1} ) \\; \\bar{y}, D)$\n",
    "\n",
    "And the matrices are defined as follows:\n",
    "\n",
    "$ \\\\ \\\\M$ is the measurement eror covariance matrix. \n",
    "\n",
    "$ \\\\ \\\\G(\\theta)$ is the covariance of $\\hat{y}$ provided by the emulator. \n",
    "\n",
    "$\\\\ \\\\C(\\theta) = (M^{-1} + G(\\theta)^{-1})^{-1}$, which is the covariance of the product distribution. \n",
    "And finally, \n",
    "\n",
    "$\\\\ \\\\D(\\theta) = (M^{-1} \\; C(\\theta) \\; M^{-1})^{-1} = M\\;(M^{-1} + G(\\theta)^{-1}) \\; M $\n",
    "\n",
    "Where all functions of $\\theta$ have been explicitly shown for clarity. "
   ]
  },
  {
   "cell_type": "markdown",
   "metadata": {},
   "source": [
    "So, that starts to look pretty gross. However, we are fortunate that it simplies quite nicely. I omit the matrix math here in the interest of brevity, but here is the final result.\n",
    "\n",
    "$y_{obs} | \\theta \\sim \\mathcal{N}(M\\; G^{-1} \\; \\bar{y}, (I+M\\; G^{-1})\\; M )$\n",
    "\n",
    "Compare this to the 'naive' result, reached by treating the Gaussian process simply as an estimator for $y_{obs}$ and ignoring its error estimates. \n",
    "\n",
    "$y_{obs} | \\theta \\sim \\mathcal{N}(\\bar{y}, M )$\n",
    "\n",
    "The full inference introduces a multiplicative correction to the mean, and adds a correction to the covariance matrix. These are both dependent on the covariance matrices from the emulator. \n",
    "\n",
    "How does this seem to work in practice?"
   ]
  },
  {
   "cell_type": "markdown",
   "metadata": {},
   "source": [
    "Below, I will attempt to implement this using my emulation software, `pearce`. "
   ]
  },
  {
   "cell_type": "code",
   "execution_count": 1,
   "metadata": {
    "collapsed": false
   },
   "outputs": [],
   "source": [
    "from pearce.emulator.emu import OriginalRecipe, ExtraCrispy\n",
    "from pearce.emulator.trainingData import parameter, PARAMS"
   ]
  },
  {
   "cell_type": "code",
   "execution_count": 2,
   "metadata": {
    "collapsed": true
   },
   "outputs": [],
   "source": [
    "import numpy as np\n",
    "from os import path"
   ]
  },
  {
   "cell_type": "code",
   "execution_count": 3,
   "metadata": {
    "collapsed": false
   },
   "outputs": [
    {
     "name": "stderr",
     "output_type": "stream",
     "text": [
      "/u/ki/swmclau2/.conda/envs/hodemulator/lib/python2.7/site-packages/pearce/emulator/emu.py:688: UserWarning: WARNING: NaN detected. Skipping point in /u/ki/swmclau2/des/PearceLHC/cov_HOD133.npy\n",
      "  warnings.warn('WARNING: NaN detected. Skipping point in %s' % cov_file)\n"
     ]
    }
   ],
   "source": [
    "training_dir = '/u/ki/swmclau2/des/PearceLHC/'\n",
    "or_params = PARAMS[:]\n",
    "#or_params.append(parameter('r', 0, 1)) #95% sure bounds aren't used for r\n",
    "#emu = OriginalRecipe(training_dir,or_params)\n",
    "emu = ExtraCrispy(training_dir, or_params)"
   ]
  },
  {
   "cell_type": "code",
   "execution_count": 4,
   "metadata": {
    "collapsed": true
   },
   "outputs": [],
   "source": [
    "emulation_point = [('f_c', 0.233), ('logM0', 12.0), ('sigma_logM', 0.533), \n",
    "                   ('alpha', 1.083),('logM1', 13.5), ('logMmin', 12.233)]\n",
    "em_params = dict(emulation_point)"
   ]
  },
  {
   "cell_type": "code",
   "execution_count": 5,
   "metadata": {
    "collapsed": true
   },
   "outputs": [],
   "source": [
    "save_dir = '/u/ki/swmclau2/des/EmulatorMCMC/'\n",
    "rpoints = np.loadtxt(path.join(save_dir, 'rpoints.npy'))\n",
    "y = np.loadtxt(path.join(save_dir, 'xi.npy'))\n",
    "cov = np.loadtxt(path.join(save_dir, 'cov.npy'))\n",
    "T = cov #np.diag(np.diag(cov))\n",
    "T = T/(np.outer(y,y)*np.log(10)**2)\n",
    "#T = np.diag(np.diag(T))\n",
    "y = np.log10(y)"
   ]
  },
  {
   "cell_type": "raw",
   "metadata": {},
   "source": [
    "idx = 1\n",
    "T=T[idx,idx]\n",
    "y = y[idx]"
   ]
  },
  {
   "cell_type": "code",
   "execution_count": 6,
   "metadata": {
    "collapsed": true
   },
   "outputs": [],
   "source": [
    "from scipy.linalg import inv"
   ]
  },
  {
   "cell_type": "raw",
   "metadata": {},
   "source": [
    "em_params['r'] = np.log10(rpoints[idx])"
   ]
  },
  {
   "cell_type": "code",
   "execution_count": 7,
   "metadata": {
    "collapsed": false
   },
   "outputs": [
    {
     "ename": "ValueError",
     "evalue": "Cannot specify order when the array has no fields.",
     "output_type": "error",
     "traceback": [
      "\u001b[1;31m---------------------------------------------------------------------------\u001b[0m",
      "\u001b[1;31mValueError\u001b[0m                                Traceback (most recent call last)",
      "\u001b[1;32m<ipython-input-7-650e78f66208>\u001b[0m in \u001b[0;36m<module>\u001b[1;34m()\u001b[0m\n\u001b[0;32m      2\u001b[0m \u001b[1;33m\u001b[0m\u001b[0m\n\u001b[0;32m      3\u001b[0m \u001b[1;31m#using my own notation\u001b[0m\u001b[1;33m\u001b[0m\u001b[1;33m\u001b[0m\u001b[0m\n\u001b[1;32m----> 4\u001b[1;33m \u001b[0my_bar\u001b[0m\u001b[1;33m,\u001b[0m \u001b[0mG\u001b[0m \u001b[1;33m=\u001b[0m \u001b[0memu\u001b[0m\u001b[1;33m.\u001b[0m\u001b[0memulate_wrt_r\u001b[0m\u001b[1;33m(\u001b[0m\u001b[0mem_params\u001b[0m\u001b[1;33m,\u001b[0m \u001b[0mrpoints\u001b[0m\u001b[1;33m)\u001b[0m\u001b[1;33m\u001b[0m\u001b[0m\n\u001b[0m\u001b[0;32m      5\u001b[0m \u001b[1;31m#y_bar, G = emu.emulate(em_params)\u001b[0m\u001b[1;33m\u001b[0m\u001b[1;33m\u001b[0m\u001b[0m\n\u001b[0;32m      6\u001b[0m \u001b[1;31m#y_bar = 10**y_bar\u001b[0m\u001b[1;33m\u001b[0m\u001b[1;33m\u001b[0m\u001b[0m\n",
      "\u001b[1;32m/u/ki/swmclau2/.conda/envs/hodemulator/lib/python2.7/site-packages/pearce/emulator/emu.pyc\u001b[0m in \u001b[0;36memulate_wrt_r\u001b[1;34m(self, em_params, rpoints, kind)\u001b[0m\n\u001b[0;32m    841\u001b[0m         '''\n\u001b[0;32m    842\u001b[0m         \u001b[1;31m# turns out this how it already works!\u001b[0m\u001b[1;33m\u001b[0m\u001b[1;33m\u001b[0m\u001b[0m\n\u001b[1;32m--> 843\u001b[1;33m         \u001b[0mmu\u001b[0m\u001b[1;33m,\u001b[0m \u001b[0mcov\u001b[0m \u001b[1;33m=\u001b[0m \u001b[0mself\u001b[0m\u001b[1;33m.\u001b[0m\u001b[0memulate\u001b[0m\u001b[1;33m(\u001b[0m\u001b[0mem_params\u001b[0m\u001b[1;33m)\u001b[0m\u001b[1;33m\u001b[0m\u001b[0m\n\u001b[0m\u001b[0;32m    844\u001b[0m         \u001b[1;31m# don't need to interpolate!\u001b[0m\u001b[1;33m\u001b[0m\u001b[1;33m\u001b[0m\u001b[0m\n\u001b[0;32m    845\u001b[0m         \u001b[1;32mif\u001b[0m \u001b[0mnp\u001b[0m\u001b[1;33m.\u001b[0m\u001b[0mall\u001b[0m\u001b[1;33m(\u001b[0m\u001b[0mrpoints\u001b[0m \u001b[1;33m==\u001b[0m \u001b[0mself\u001b[0m\u001b[1;33m.\u001b[0m\u001b[0mrpoints\u001b[0m\u001b[1;33m)\u001b[0m\u001b[1;33m:\u001b[0m\u001b[1;33m\u001b[0m\u001b[0m\n",
      "\u001b[1;32m/u/ki/swmclau2/.conda/envs/hodemulator/lib/python2.7/site-packages/pearce/emulator/emu.pyc\u001b[0m in \u001b[0;36memulate\u001b[1;34m(self, em_params)\u001b[0m\n\u001b[0;32m    799\u001b[0m         \u001b[1;31m# i give up, it's black magic\u001b[0m\u001b[1;33m\u001b[0m\u001b[1;33m\u001b[0m\u001b[0m\n\u001b[0;32m    800\u001b[0m         t = np.sort(t.view(','.join(['float64' for _ in xrange(min(t.shape))])),\n\u001b[1;32m--> 801\u001b[1;33m                     order=['f%d' % i for i in xrange(min(t.shape))], axis=0).view(np.float)\n\u001b[0m\u001b[0;32m    802\u001b[0m \u001b[1;33m\u001b[0m\u001b[0m\n\u001b[0;32m    803\u001b[0m         \u001b[0mall_mu\u001b[0m \u001b[1;33m=\u001b[0m \u001b[0mnp\u001b[0m\u001b[1;33m.\u001b[0m\u001b[0mzeros\u001b[0m\u001b[1;33m(\u001b[0m\u001b[1;33m(\u001b[0m\u001b[0mt\u001b[0m\u001b[1;33m.\u001b[0m\u001b[0mshape\u001b[0m\u001b[1;33m[\u001b[0m\u001b[1;36m0\u001b[0m\u001b[1;33m]\u001b[0m\u001b[1;33m,\u001b[0m \u001b[0mself\u001b[0m\u001b[1;33m.\u001b[0m\u001b[0my\u001b[0m\u001b[1;33m.\u001b[0m\u001b[0mshape\u001b[0m\u001b[1;33m[\u001b[0m\u001b[1;36m1\u001b[0m\u001b[1;33m]\u001b[0m\u001b[1;33m)\u001b[0m\u001b[1;33m)\u001b[0m  \u001b[1;31m# t down rbins across\u001b[0m\u001b[1;33m\u001b[0m\u001b[0m\n",
      "\u001b[1;32m/u/ki/swmclau2/.conda/envs/hodemulator/lib/python2.7/site-packages/numpy/core/fromnumeric.pyc\u001b[0m in \u001b[0;36msort\u001b[1;34m(a, axis, kind, order)\u001b[0m\n\u001b[0;32m    823\u001b[0m     \u001b[1;32melse\u001b[0m\u001b[1;33m:\u001b[0m\u001b[1;33m\u001b[0m\u001b[0m\n\u001b[0;32m    824\u001b[0m         \u001b[0ma\u001b[0m \u001b[1;33m=\u001b[0m \u001b[0masanyarray\u001b[0m\u001b[1;33m(\u001b[0m\u001b[0ma\u001b[0m\u001b[1;33m)\u001b[0m\u001b[1;33m.\u001b[0m\u001b[0mcopy\u001b[0m\u001b[1;33m(\u001b[0m\u001b[0morder\u001b[0m\u001b[1;33m=\u001b[0m\u001b[1;34m\"K\"\u001b[0m\u001b[1;33m)\u001b[0m\u001b[1;33m\u001b[0m\u001b[0m\n\u001b[1;32m--> 825\u001b[1;33m     \u001b[0ma\u001b[0m\u001b[1;33m.\u001b[0m\u001b[0msort\u001b[0m\u001b[1;33m(\u001b[0m\u001b[0maxis\u001b[0m\u001b[1;33m,\u001b[0m \u001b[0mkind\u001b[0m\u001b[1;33m,\u001b[0m \u001b[0morder\u001b[0m\u001b[1;33m)\u001b[0m\u001b[1;33m\u001b[0m\u001b[0m\n\u001b[0m\u001b[0;32m    826\u001b[0m     \u001b[1;32mreturn\u001b[0m \u001b[0ma\u001b[0m\u001b[1;33m\u001b[0m\u001b[0m\n\u001b[0;32m    827\u001b[0m \u001b[1;33m\u001b[0m\u001b[0m\n",
      "\u001b[1;31mValueError\u001b[0m: Cannot specify order when the array has no fields."
     ]
    }
   ],
   "source": [
    "#em_params = {p.name: theta for p in self.ordered_params}\n",
    "\n",
    "#using my own notation\n",
    "y_bar, G = emu.emulate_wrt_r(em_params, rpoints)\n",
    "#y_bar, G = emu.emulate(em_params)\n",
    "#y_bar = 10**y_bar\n",
    "#G = G*np.outer(y_bar, y_bar)*np.log(10)**2\n",
    "#G = np.diag(np.diag(G))"
   ]
  },
  {
   "cell_type": "raw",
   "metadata": {},
   "source": [
    "y_bar = y_bar[0,idx]\n",
    "G = G[0,0 , idx]"
   ]
  },
  {
   "cell_type": "code",
   "execution_count": null,
   "metadata": {
    "collapsed": false
   },
   "outputs": [],
   "source": [
    "print y_bar"
   ]
  },
  {
   "cell_type": "code",
   "execution_count": null,
   "metadata": {
    "collapsed": false
   },
   "outputs": [],
   "source": [
    "print y"
   ]
  },
  {
   "cell_type": "code",
   "execution_count": null,
   "metadata": {
    "collapsed": false
   },
   "outputs": [],
   "source": [
    "print G.shape"
   ]
  },
  {
   "cell_type": "code",
   "execution_count": null,
   "metadata": {
    "collapsed": true
   },
   "outputs": [],
   "source": [
    "G = np.diag(G[0,0,:])"
   ]
  },
  {
   "cell_type": "code",
   "execution_count": null,
   "metadata": {
    "collapsed": false
   },
   "outputs": [],
   "source": [
    "print T"
   ]
  },
  {
   "cell_type": "code",
   "execution_count": null,
   "metadata": {
    "collapsed": false
   },
   "outputs": [],
   "source": [
    "TG_inv = np.dot(T, inv(G))"
   ]
  },
  {
   "cell_type": "code",
   "execution_count": null,
   "metadata": {
    "collapsed": false
   },
   "outputs": [],
   "source": [
    "d = np.dot(TG_inv, y_bar)\n",
    "print d"
   ]
  },
  {
   "cell_type": "code",
   "execution_count": null,
   "metadata": {
    "collapsed": false
   },
   "outputs": [],
   "source": [
    "#should chi2 be calculated in log or linear?\n",
    "#T == cov\n",
    "TG_inv[np.diag_indices(TG_inv.shape[0])]+=np.ones(TG_inv.shape[0])\n",
    "D = np.dot(TG_inv, T) # sadly not a faster way to compute D inverse. \n",
    "delta = d-y\n",
    "chi2 = -0.5 * np.dot(delta, np.dot(inv(D), delta))"
   ]
  },
  {
   "cell_type": "code",
   "execution_count": null,
   "metadata": {
    "collapsed": false
   },
   "outputs": [],
   "source": [
    "print np.dot(T, np.dot(inv(G), T))"
   ]
  },
  {
   "cell_type": "code",
   "execution_count": null,
   "metadata": {
    "collapsed": false
   },
   "outputs": [],
   "source": [
    "print D"
   ]
  },
  {
   "cell_type": "code",
   "execution_count": null,
   "metadata": {
    "collapsed": false
   },
   "outputs": [],
   "source": [
    "print delta"
   ]
  },
  {
   "cell_type": "code",
   "execution_count": null,
   "metadata": {
    "collapsed": true
   },
   "outputs": [],
   "source": [
    "from matplotlib import pyplot as plt\n",
    "%matplotlib inline\n",
    "import seaborn as sns\n",
    "sns.set()\n",
    "from itertools import cycle\n",
    "colors = cycle(sns.color_palette())"
   ]
  },
  {
   "cell_type": "code",
   "execution_count": null,
   "metadata": {
    "collapsed": false
   },
   "outputs": [],
   "source": [
    "fig = plt.figure(figsize = (10, 10))\n",
    "\n",
    "for mu, cov, label, color in zip([y_bar, y, np.abs(d)], [G, T, D], [r'$ \\bar{y} $',r'$y$',r'$\\mu$'], colors):\n",
    "    plt.plot(rpoints, mu, color=color, label=label)\n",
    "    y_err = np.sqrt(np.diag(cov))\n",
    "    plt.fill_between(rpoints,mu+y_err,\n",
    "                mu-y_err, color = color, alpha = 0.3)\n",
    "\n",
    "plt.xlim(xmin = 0.1, xmax = 30)\n",
    "plt.ylim(ymin = -2, ymax = 4)\n",
    "#plt.ylim(ymin = 1e-2, ymax = 1e4)\n",
    "#plt.title(\"OR Emulator w.r.t. %s\"%y_param, fontsize =20)\n",
    "#plt.loglog()\n",
    "plt.xscale('log')\n",
    "plt.xticks(fontsize=20)\n",
    "plt.yticks(fontsize=20)\n",
    "plt.xlabel(r'$r $  $\\rm{[Mpc]}$', fontsize=25)\n",
    "plt.ylabel(r'$\\log_{10}{\\xi_{\\rm gg}(r) }$', fontsize=25)\n",
    "plt.legend(loc='best', fontsize=25)\n",
    "\n",
    "plt.show()"
   ]
  },
  {
   "cell_type": "code",
   "execution_count": null,
   "metadata": {
    "collapsed": false
   },
   "outputs": [],
   "source": [
    "import colormaps as cmaps\n",
    "plt.register_cmap(name='viridis', cmap=cmaps.viridis)\n",
    "plt.set_cmap(cmaps.viridis)"
   ]
  },
  {
   "cell_type": "code",
   "execution_count": null,
   "metadata": {
    "collapsed": false,
    "scrolled": false
   },
   "outputs": [],
   "source": [
    "for mat in (np.log10(np.abs(T)), np.log10(np.abs(G)),np.log10(np.abs(inv(G))), np.log10(np.abs(np.dot(T, inv(G)))), np.log10(np.abs(D))):\n",
    "    fig = plt.figure(figsize=(10,10))\n",
    "    im = plt.imshow(mat, interpolation=None)\n",
    "    plt.colorbar(im)\n",
    "    plt.show()"
   ]
  },
  {
   "cell_type": "code",
   "execution_count": null,
   "metadata": {
    "collapsed": false
   },
   "outputs": [],
   "source": [
    "fig = plt.figure(figsize=(10,10))\n",
    "im = plt.imshow(T*inv(T), interpolation=None)\n",
    "plt.colorbar(im)\n",
    "plt.show()"
   ]
  },
  {
   "cell_type": "code",
   "execution_count": null,
   "metadata": {
    "collapsed": false
   },
   "outputs": [],
   "source": [
    "fig = plt.figure(figsize=(10,10))\n",
    "im = plt.imshow(G*inv(G), interpolation=None)\n",
    "plt.colorbar(im)\n",
    "plt.show()"
   ]
  },
  {
   "cell_type": "code",
   "execution_count": null,
   "metadata": {
    "collapsed": false
   },
   "outputs": [],
   "source": [
    "from scipy.linalg import eigh\n",
    "print sorted(eigh(T, eigvals_only = True), reverse=True)\n",
    "print np.sum(eigh(T, eigvals_only = True)>1e-3)"
   ]
  },
  {
   "cell_type": "code",
   "execution_count": null,
   "metadata": {
    "collapsed": false
   },
   "outputs": [],
   "source": [
    "print sorted(eigh(G, eigvals_only = True), reverse=True)\n",
    "print np.sum(eigh(G, eigvals_only = True)>1e-3)"
   ]
  },
  {
   "cell_type": "code",
   "execution_count": null,
   "metadata": {
    "collapsed": false
   },
   "outputs": [],
   "source": [
    "np.dot(T, np.dot(inv(G), T))"
   ]
  },
  {
   "cell_type": "code",
   "execution_count": null,
   "metadata": {
    "collapsed": false
   },
   "outputs": [],
   "source": [
    "T"
   ]
  },
  {
   "cell_type": "code",
   "execution_count": null,
   "metadata": {
    "collapsed": true
   },
   "outputs": [],
   "source": []
  }
 ],
 "metadata": {
  "kernelspec": {
   "display_name": "Python [conda env:hodemulator]",
   "language": "python",
   "name": "conda-env-hodemulator-py"
  },
  "language_info": {
   "codemirror_mode": {
    "name": "ipython",
    "version": 2
   },
   "file_extension": ".py",
   "mimetype": "text/x-python",
   "name": "python",
   "nbconvert_exporter": "python",
   "pygments_lexer": "ipython2",
   "version": "2.7.12"
  }
 },
 "nbformat": 4,
 "nbformat_minor": 0
}
