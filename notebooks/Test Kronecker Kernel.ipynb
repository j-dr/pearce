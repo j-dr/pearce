{
 "cells": [
  {
   "cell_type": "markdown",
   "metadata": {},
   "source": [
    "I'm gonna overwrite a lot of this notebook's old content. I changed the way I'm calculating wt, and wanna test that my training worked. "
   ]
  },
  {
   "cell_type": "code",
   "execution_count": 45,
   "metadata": {
    "collapsed": true
   },
   "outputs": [],
   "source": [
    "from pearce.emulator import *\n",
    "from pearce.mocks import cat_dict\n",
    "import numpy as np\n",
    "from os import path"
   ]
  },
  {
   "cell_type": "code",
   "execution_count": 46,
   "metadata": {
    "collapsed": true
   },
   "outputs": [],
   "source": [
    "import matplotlib\n",
    "#matplotlib.use('Agg')\n",
    "from matplotlib import pyplot as plt\n",
    "%matplotlib inline\n",
    "import seaborn as sns\n",
    "sns.set()"
   ]
  },
  {
   "cell_type": "code",
   "execution_count": 47,
   "metadata": {
    "collapsed": true
   },
   "outputs": [],
   "source": [
    "from GPy.models import GPKroneckerGaussianRegression\n",
    "from GPy.kern import *\n",
    "import h5py"
   ]
  },
  {
   "cell_type": "code",
   "execution_count": 48,
   "metadata": {
    "collapsed": true
   },
   "outputs": [],
   "source": [
    "training_file = '/home/users/swmclau2/scratch/xi_gg_zheng07_cosmo_v3/PearceXiggCosmo.hdf5'\n",
    "test_file = '/home/users/swmclau2/scratch/xi_gg_zheng07_cosmo_test_v3/PearceXiggCosmoTest.hdf5'"
   ]
  },
  {
   "cell_type": "code",
   "execution_count": 49,
   "metadata": {},
   "outputs": [],
   "source": [
    "f = h5py.File(training_file, 'r')"
   ]
  },
  {
   "cell_type": "code",
   "execution_count": 50,
   "metadata": {
    "collapsed": true
   },
   "outputs": [],
   "source": [
    "Ys = []\n",
    "rbin = 1\n",
    "for i in xrange(40):\n",
    "    Ys.append(f['cosmo_no_%02d'%i]['a_1.000']['obs'].value[:, rbin])"
   ]
  },
  {
   "cell_type": "code",
   "execution_count": 51,
   "metadata": {},
   "outputs": [],
   "source": [
    "n_hods = 400\n",
    "start_idx = 0\n",
    "X1 = f.attrs['cosmo_param_vals']\n",
    "X2 = f.attrs['hod_param_vals'][start_idx:start_idx+n_hods]\n",
    "Y = np.vstack(Ys)[:, start_idx:start_idx+n_hods]"
   ]
  },
  {
   "cell_type": "code",
   "execution_count": 52,
   "metadata": {},
   "outputs": [
    {
     "data": {
      "text/plain": [
       "((40, 7), (400, 4), (40, 400))"
      ]
     },
     "execution_count": 52,
     "metadata": {},
     "output_type": "execute_result"
    }
   ],
   "source": [
    "X1.shape, X2.shape, Y.shape"
   ]
  },
  {
   "cell_type": "code",
   "execution_count": 53,
   "metadata": {
    "collapsed": true
   },
   "outputs": [],
   "source": [
    "# how to add training errors?"
   ]
  },
  {
   "cell_type": "code",
   "execution_count": 54,
   "metadata": {
    "collapsed": true
   },
   "outputs": [],
   "source": [
    "K1 = RBF(input_dim = 7, ARD = False)#+Bias(input_dim=7)# + Linear(input_dim = 7, ARD = True) + Bias(input_dim=7)# + White(input_dim=7)\n",
    "K2 =  RBF(input_dim=4, ARD = False)#+ Linear(input_dim = 4, ARD = False) + Bias(input_dim=4)# + White(input_dim=4)"
   ]
  },
  {
   "cell_type": "raw",
   "metadata": {
    "collapsed": true
   },
   "source": [
    "K1 = RBF(input_dim = 7)+ Linear(input_dim = 7, ARD = False) + Bias(input_dim=7)# + White(input_dim=7)\n",
    "K2 =  RBF(input_dim=4, ARD = False)#Linear(input_dim = 4, ARD = True) + Bias(input_dim=4)# + White(input_dim=4)"
   ]
  },
  {
   "cell_type": "code",
   "execution_count": 55,
   "metadata": {},
   "outputs": [],
   "source": [
    "model = GPKroneckerGaussianRegression(X1, X2, Y,K1, K2 )"
   ]
  },
  {
   "cell_type": "code",
   "execution_count": 56,
   "metadata": {},
   "outputs": [
    {
     "name": "stdout",
     "output_type": "stream",
     "text": [
      "Optimization restart 1/10, f = -65407.5677227\n",
      "Optimization restart 2/10, f = -65407.5678369\n",
      "Optimization restart 3/10, f = -65407.5675335\n",
      "Optimization restart 4/10, f = -65407.5679218\n",
      "Optimization restart 5/10, f = -65407.5680814\n",
      "Optimization restart 6/10, f = -65407.5679854\n",
      "Optimization restart 7/10, f = -48218.3664352\n",
      "Optimization restart 8/10, f = -65407.5678236\n",
      "Optimization restart 9/10, f = -65407.56785\n",
      "Optimization restart 10/10, f = -65407.5677257\n"
     ]
    },
    {
     "data": {
      "text/plain": [
       "[<paramz.optimization.optimization.opt_lbfgsb at 0x7fc98d5aef90>,\n",
       " <paramz.optimization.optimization.opt_lbfgsb at 0x7fc98d5aefd0>,\n",
       " <paramz.optimization.optimization.opt_lbfgsb at 0x7fca9fa65250>,\n",
       " <paramz.optimization.optimization.opt_lbfgsb at 0x7fca9be651d0>,\n",
       " <paramz.optimization.optimization.opt_lbfgsb at 0x7fca9bed8a10>,\n",
       " <paramz.optimization.optimization.opt_lbfgsb at 0x7fca9bed86d0>,\n",
       " <paramz.optimization.optimization.opt_lbfgsb at 0x7fca9e36c890>,\n",
       " <paramz.optimization.optimization.opt_lbfgsb at 0x7fcae0203d10>,\n",
       " <paramz.optimization.optimization.opt_lbfgsb at 0x7fcae0203150>,\n",
       " <paramz.optimization.optimization.opt_lbfgsb at 0x7fc98d5c4090>]"
      ]
     },
     "execution_count": 56,
     "metadata": {},
     "output_type": "execute_result"
    }
   ],
   "source": [
    "model.optimize_restarts(num_restarts=10)"
   ]
  },
  {
   "cell_type": "code",
   "execution_count": 57,
   "metadata": {},
   "outputs": [
    {
     "data": {
      "text/plain": [
       "array([ 9.97263178,  3.25753905])"
      ]
     },
     "execution_count": 57,
     "metadata": {},
     "output_type": "execute_result"
    }
   ],
   "source": [
    "K1.param_array"
   ]
  },
  {
   "cell_type": "code",
   "execution_count": 58,
   "metadata": {},
   "outputs": [
    {
     "data": {
      "text/plain": [
       "array([ 11.18176015,   1.1217286 ])"
      ]
     },
     "execution_count": 58,
     "metadata": {},
     "output_type": "execute_result"
    }
   ],
   "source": [
    "K2.param_array"
   ]
  },
  {
   "cell_type": "code",
   "execution_count": 59,
   "metadata": {
    "collapsed": true
   },
   "outputs": [],
   "source": [
    "f2 = h5py.File(test_file, 'r')"
   ]
  },
  {
   "cell_type": "code",
   "execution_count": 60,
   "metadata": {
    "collapsed": true
   },
   "outputs": [],
   "source": [
    "Y2s = []\n",
    "for i in xrange(35):\n",
    "    Y2s.append(f2['cosmo_no_%02d'%i]['a_1.000']['obs'].value[:, rbin])"
   ]
  },
  {
   "cell_type": "code",
   "execution_count": 61,
   "metadata": {
    "collapsed": true
   },
   "outputs": [],
   "source": [
    "testX1 = f2.attrs['cosmo_param_vals']\n",
    "testX2 = f2.attrs['hod_param_vals']\n",
    "testY = np.vstack(Y2s)"
   ]
  },
  {
   "cell_type": "code",
   "execution_count": 62,
   "metadata": {
    "collapsed": true
   },
   "outputs": [],
   "source": [
    "predY, _ = model.predict(testX1, testX2)"
   ]
  },
  {
   "cell_type": "code",
   "execution_count": 63,
   "metadata": {},
   "outputs": [
    {
     "data": {
      "text/plain": [
       "0.075467499453588827"
      ]
     },
     "execution_count": 63,
     "metadata": {},
     "output_type": "execute_result"
    }
   ],
   "source": [
    "np.median( np.abs( (10**predY[:,0] - 10**testY.flatten(order='F'))/10**testY.flatten(order='F') )  ) "
   ]
  },
  {
   "cell_type": "code",
   "execution_count": 64,
   "metadata": {},
   "outputs": [
    {
     "data": {
      "text/plain": [
       "0.093940972449424426"
      ]
     },
     "execution_count": 64,
     "metadata": {},
     "output_type": "execute_result"
    }
   ],
   "source": [
    "np.mean( np.abs( (10**predY[:,0] - 10**testY.flatten(order='F'))/10**testY.flatten(order='F') )  ) "
   ]
  },
  {
   "cell_type": "code",
   "execution_count": 65,
   "metadata": {},
   "outputs": [
    {
     "data": {
      "text/plain": [
       "array([ 3.64823689,  3.64823689,  3.64823689, ...,  3.5583538 ,\n",
       "        3.5583538 ,  3.5583538 ])"
      ]
     },
     "execution_count": 65,
     "metadata": {},
     "output_type": "execute_result"
    }
   ],
   "source": [
    "predY[:,0]"
   ]
  },
  {
   "cell_type": "code",
   "execution_count": 66,
   "metadata": {},
   "outputs": [
    {
     "data": {
      "text/plain": [
       "array([ 3.51843877,  3.52315065,  3.52393741, ...,  3.60349051,\n",
       "        3.60667587,  3.60662163])"
      ]
     },
     "execution_count": 66,
     "metadata": {},
     "output_type": "execute_result"
    }
   ],
   "source": [
    "testY.flatten(order='F')"
   ]
  },
  {
   "cell_type": "code",
   "execution_count": null,
   "metadata": {
    "collapsed": true
   },
   "outputs": [],
   "source": []
  }
 ],
 "metadata": {
  "kernelspec": {
   "display_name": "Python 2",
   "language": "python",
   "name": "python2"
  },
  "language_info": {
   "codemirror_mode": {
    "name": "ipython",
    "version": 2
   },
   "file_extension": ".py",
   "mimetype": "text/x-python",
   "name": "python",
   "nbconvert_exporter": "python",
   "pygments_lexer": "ipython2",
   "version": "2.7.13"
  }
 },
 "nbformat": 4,
 "nbformat_minor": 1
}
