{
 "cells": [
  {
   "cell_type": "markdown",
   "metadata": {},
   "source": [
    "I'm gonna overwrite a lot of this notebook's old content. I changed the way I'm calculating wt, and wanna test that my training worked. "
   ]
  },
  {
   "cell_type": "code",
   "execution_count": 1,
   "metadata": {},
   "outputs": [],
   "source": [
    "from pearce.emulator import OriginalRecipe, ExtraCrispy, SpicyBuffalo\n",
    "from pearce.mocks import cat_dict\n",
    "import numpy as np\n",
    "from os import path"
   ]
  },
  {
   "cell_type": "code",
   "execution_count": 2,
   "metadata": {
    "collapsed": true
   },
   "outputs": [],
   "source": [
    "import matplotlib\n",
    "#matplotlib.use('Agg')\n",
    "from matplotlib import pyplot as plt\n",
    "%matplotlib inline\n",
    "import seaborn as sns\n",
    "sns.set()"
   ]
  },
  {
   "cell_type": "code",
   "execution_count": 3,
   "metadata": {},
   "outputs": [],
   "source": [
    "training_file = '/scratch/users/swmclau2/xi_zheng07_cosmo/PearceRedMagicXiCosmoFixedNd.hdf5'\n",
    "test_file = '/scratch/users/swmclau2/xi_zheng07_cosmo_test//PearceRedMagicXiCosmoFixedNd_Test.hdf5'\n",
    "em_method = 'gp'\n",
    "split_method = 'random'"
   ]
  },
  {
   "cell_type": "code",
   "execution_count": 4,
   "metadata": {},
   "outputs": [],
   "source": [
    "a = 1.0\n",
    "z = 1.0/a - 1.0"
   ]
  },
  {
   "cell_type": "code",
   "execution_count": 5,
   "metadata": {},
   "outputs": [],
   "source": [
    "fixed_params = {'z':z, 'r':24.06822623}"
   ]
  },
  {
   "cell_type": "code",
   "execution_count": 6,
   "metadata": {},
   "outputs": [
    {
     "name": "stdout",
     "output_type": "stream",
     "text": [
      "no nans\n"
     ]
    }
   ],
   "source": [
    "np.random.seed(0)\n",
    "emu = OriginalRecipe(training_file, method = em_method, fixed_params=fixed_params,\\\n",
    "                     custom_mean_function = 'linear', downsample_factor=0.02)#,\n",
    "                    #hyperparams = {'n_estimators': 500,\n",
    "                    #              'max_depth': 5})"
   ]
  },
  {
   "cell_type": "raw",
   "metadata": {
    "collapsed": true
   },
   "source": [
    "np.random.seed(0)\n",
    "emu = SpicyBuffalo(training_file, method = em_method, fixed_params=fixed_params,\n",
    "                 custom_mean_function = 'linear', downsample_factor = 0.1)"
   ]
  },
  {
   "cell_type": "code",
   "execution_count": 7,
   "metadata": {},
   "outputs": [
    {
     "name": "stdout",
     "output_type": "stream",
     "text": [
      "ombh2 (0.02066455, 0.02371239)\n",
      "omch2 (0.10121810000000001, 0.13177679999999997)\n",
      "w0 (-1.399921, -0.56584860000000003)\n",
      "ns (0.92784619999999995, 0.99744959999999994)\n",
      "ln10As (3.0009000000000001, 3.179424)\n",
      "H0 (61.694719999999997, 74.76751999999999)\n",
      "Neff (2.6212499999999999, 4.2787499999999996)\n",
      "logM0 (13.1, 16.100000000000001)\n",
      "sigma_logM (0.050000000000000003, 0.29999999999999999)\n",
      "logM1 (13.1, 15.1)\n",
      "alpha (0.80000000000000004, 1.2)\n"
     ]
    }
   ],
   "source": [
    "for pname in emu.get_param_names():\n",
    "    print pname, emu.get_param_bounds(pname)"
   ]
  },
  {
   "cell_type": "raw",
   "metadata": {},
   "source": [
    "n_leaves, n_overlap = 5000, 1\n",
    "emu = ExtraCrispy(training_file, n_leaves, n_overlap, split_method, method = em_method, fixed_params=fixed_params,\n",
    "                 custom_mean_function = 'linear', downsample_factor = 1.0)"
   ]
  },
  {
   "cell_type": "code",
   "execution_count": 8,
   "metadata": {},
   "outputs": [
    {
     "data": {
      "text/plain": [
       "array([  0.09581734,   0.13534558,   0.19118072,   0.27004994,\n",
       "         0.38145568,   0.53882047,   0.76110414,   1.07508818,\n",
       "         1.51860241,   2.14508292,   3.03001016,   4.28000311,\n",
       "         6.04566509,   8.53972892,  12.06268772,  17.0389993 ,\n",
       "        24.06822623,  33.99727318])"
      ]
     },
     "execution_count": 8,
     "metadata": {},
     "output_type": "execute_result"
    }
   ],
   "source": [
    "emu.scale_bin_centers"
   ]
  },
  {
   "cell_type": "code",
   "execution_count": 9,
   "metadata": {},
   "outputs": [
    {
     "name": "stdout",
     "output_type": "stream",
     "text": [
      "[  0.09581733   0.13534558   0.19118072   0.27004994   0.38145568\n",
      "   0.53882047   0.76110414   1.07508817   1.51860241   2.14508292\n",
      "   3.03001016   4.28000311   6.04566509   8.53972892  12.06268772\n",
      "  17.0389993   24.06822623  33.99727318]\n"
     ]
    }
   ],
   "source": [
    "rbins = np.logspace(-1.1, 1.6, 19)\n",
    "print (rbins[1:]+rbins[:-1])/2"
   ]
  },
  {
   "cell_type": "raw",
   "metadata": {
    "collapsed": true
   },
   "source": [
    "v = [-3.39320212, -5.02031739, -3.58534378, -1.73546604, -2.48013735,  4.14361857,\n",
    "  6.78989777,  0.35440894, -0.81097362, -1.06007304,  6.08127964, -3.54598327,\n",
    " 10.01933704, -8.07668396, -6.53235699, -5.12106477,  6.47933634,  7.44601525,\n",
    "  0.63506389,  4.18313904, -3.64504899,  6.51469193,  6.05872103, -5.05433273,\n",
    " -1.69951525]"
   ]
  },
  {
   "cell_type": "code",
   "execution_count": 10,
   "metadata": {},
   "outputs": [],
   "source": [
    "v = [  5.30324096,  -2.92565173,  -4.42429766,  -2.48246708,  10.0699553,                                                           \n",
    "  -8.69248089,   0.15083459,  -4.72773171,   1.49655743,   1.17087069,                                                                 \n",
    "   0.97997249,  -1.91976981,   7.17709699, -10.26944746,  10.37865121,                                                                 \n",
    "   0.50210416,  12.01525603,   5.89975769,   4.78413158,  -1.33582408,                                                                 \n",
    "  -9.94571436,   6.50103759,   9.70125021, -11.7173251,   -0.10738552] \n",
    "\n",
    "#v = [-12.,          -5.56039378,   5.01999226,   9.63986449, -12.,\n",
    "# -12.,          -2.13397232,   7.90203306, -12.,           0.51574787,\n",
    "#   7.25074046,  -1.28201782,   2.84486642, -12.,         -12.,\n",
    "#  12.,          -7.75414731,  12.,          12.,         -12.,\n",
    "#   5.15929851, -12.,           0.53369134,  -3.81346879,  -6.9684267, ]\n",
    "\n",
    "#v = [ -1.14028239, -12.,          -8.08712614 , -1.51590059 ,  2.66822232,\n",
    "# -12.,         -10.17631757,   6.17448276,   6.2380102,  -12.,\n",
    "#  -3.63076923,  -1.3260091,    1.84463374,  -2.57120539,   0.42652469,\n",
    "#   0.94596673,   2.04145112,  -5.13442469,  12.,           8.86492205,\n",
    "# -12.,           2.44659378,  12.,           2.10889078,   9.36958256]\n",
    "\n",
    "#v = [ 12. ,         12. ,         12.  ,        12.   ,       12.     ,     12.,\n",
    "#  11.67920429 ,  6.81656135 , 12.   ,        1.92715272 , 12.    ,       7.72884642,\n",
    "#  12.,        -12.     ,      2.57697301,  12. ,          8.85016763,\n",
    "#   9.96558899 ,  6.24704116 , 12.      ,    12.   ,      -12.    ,     -12. ,        -12.,\n",
    "#  12.,       ]\n",
    "\n",
    "#v = np.ones_like(v)*10.0\n",
    "\n",
    "#[ -8.16992654,   8.67223223,  -2.21244202,  -8.9034059,    2.12923655,\n",
    "#  -9.85755136,   8.6699058,    1.24032812,  -0.41040494 ,  1.93942663,\n",
    "#   3.70688402,   5.53623883,  10.27060377,  -8.96397854,  -1.54633767,\n",
    "#   6.72846738,  -9.38415988,  -9.68900453,  -3.5219898,   -9.2396184,\n",
    "#  10.60952486,  -2.12807193,  -9.92944798,  -2.87456867,  -8.28144359]\n",
    "\n",
    "#[-2.30321746, -6.,          2.74986581, -0.59132415,  0.74564814, -1.47243557,\n",
    "#5.38958859,  2.36982126,  5.35110678,  1.6798139,   6.,          2.82272942,\n",
    "#6.        ]\n",
    "\n",
    "#[ 6.         -6.         -2.95890662 -6.         -3.63039154  6.\n",
    "# -0.93930637 -6.         -6.          2.2162459   6.          2.75175138\n",
    "#  5.09211467]"
   ]
  },
  {
   "cell_type": "code",
   "execution_count": 11,
   "metadata": {},
   "outputs": [],
   "source": [
    "if hasattr(emu, \"_emulator\"):\n",
    "    emu._emulator.set_parameter_vector(v) \n",
    "    emu._emulator.recompute()\n",
    "else:\n",
    "    for _emulator in emu._emulators:\n",
    "        _emulator.set_parameter_vector(v)\n",
    "        _emulator.recompute()"
   ]
  },
  {
   "cell_type": "code",
   "execution_count": null,
   "metadata": {},
   "outputs": [
    {
     "name": "stdout",
     "output_type": "stream",
     "text": [
      "{'logM1': 13.644478028897375, 'Neff': 2.8402647769828664, 'logM0': 15.889746076811125, 'sigma_logM': 0.20911293713509904, 'H0': 70.44473408991243, 'w0': -1.0295367497861105, 'omch2': 0.12048981147643784, 'ln10As': 3.0965291677847206, 'alpha': 0.8329362138274851, 'ns': 0.9546086631198835, 'ombh2': 0.022368675407345155}\n"
     ]
    }
   ],
   "source": [
    "params = {}\n",
    "for pname in emu.get_param_names():\n",
    "    if pname == 'r':\n",
    "        continue\n",
    "    low, high = emu.get_param_bounds(pname)\n",
    "    params[pname] = np.random.uniform(low, high)\n",
    "    \n",
    "print params"
   ]
  },
  {
   "cell_type": "raw",
   "metadata": {},
   "source": [
    "pred_y = emu.emulate_wrt_r(params)[0]\n",
    "print pred_y"
   ]
  },
  {
   "cell_type": "raw",
   "metadata": {},
   "source": [
    "pred_y = emu.emulate(params)[0]\n",
    "print pred_y"
   ]
  },
  {
   "cell_type": "raw",
   "metadata": {},
   "source": [
    "plt.plot(emu.scale_bin_centers, pred_y)\n",
    "plt.xscale(\"log\")"
   ]
  },
  {
   "cell_type": "raw",
   "metadata": {},
   "source": [
    "gof = emu.goodness_of_fit(training_file, N = 1000, statistic = 'log_frac')\n",
    "for g in gof:\n",
    "    print g.mean()"
   ]
  },
  {
   "cell_type": "raw",
   "metadata": {},
   "source": [
    "for g in gof:\n",
    "    print g.mean(), np.median(g)"
   ]
  },
  {
   "cell_type": "raw",
   "metadata": {},
   "source": [
    "gof = emu.goodness_of_fit(test_file, statistic = 'log_frac')\n",
    "print gof.mean(), np.median(gof)\n",
    "#for g in gof:\n",
    "#    print g.mean(), np.median(g)"
   ]
  },
  {
   "cell_type": "code",
   "execution_count": null,
   "metadata": {},
   "outputs": [
    {
     "name": "stdout",
     "output_type": "stream",
     "text": [
      "no nans\n",
      "no nans\n",
      "0.01 6.69003216951 0.149855068565\n",
      "no nans\n",
      "no nans\n",
      "0.05 6.38587096507 0.163811984297\n",
      "no nans\n",
      "no nans\n",
      "0.2 8.41215513474 0.102705147897\n",
      "no nans\n",
      "no nans\n",
      "0.4 9.05881385972 0.111427049815\n",
      "no nans\n",
      "no nans\n",
      "0.6 9.1644704795 0.113785228958\n",
      "no nans\n"
     ]
    }
   ],
   "source": [
    "for downsample_factor in [ 0.01, 0.05, 0.2, 0.4, 0.6, 0.8, 1.0]:\n",
    "    np.random.seed(0)\n",
    "    emu = OriginalRecipe(training_file, method = em_method, fixed_params=fixed_params,\\\n",
    "                     custom_mean_function = 'linear', downsample_factor=downsample_factor)\n",
    "    if hasattr(emu, \"_emulator\"):\n",
    "        emu._emulator.set_parameter_vector(v) \n",
    "        emu._emulator.recompute()\n",
    "    else:\n",
    "        for _emulator in emu._emulators:\n",
    "            _emulator.set_parameter_vector(v)\n",
    "            _emulator.recompute()\n",
    "            \n",
    "    gof = emu.goodness_of_fit(test_file, statistic = 'log_frac')\n",
    "    print downsample_factor, gof.mean(), np.median(gof)"
   ]
  },
  {
   "cell_type": "code",
   "execution_count": 116,
   "metadata": {},
   "outputs": [],
   "source": [
    "#print g.mean(), np.median(g)"
   ]
  },
  {
   "cell_type": "raw",
   "metadata": {},
   "source": [
    "for g in gof:\n",
    "    print g.mean(), np.median(g)"
   ]
  },
  {
   "cell_type": "code",
   "execution_count": 117,
   "metadata": {},
   "outputs": [],
   "source": [
    "pred_y, y = emu.goodness_of_fit(test_file, statistic = None)\n",
    "#print gof.mean(), np.median(gof)"
   ]
  },
  {
   "cell_type": "code",
   "execution_count": 118,
   "metadata": {},
   "outputs": [
    {
     "data": {
      "text/plain": [
       "([array([   0.,    0.,    0.,   18.,  295.,  474.,  754.,  977., 1009.,\n",
       "          890.]),\n",
       "  array([0.00e+00, 0.00e+00, 1.00e+00, 2.47e+02, 3.86e+02, 5.70e+02,\n",
       "         8.55e+02, 9.96e+02, 1.10e+03, 4.69e+02]),\n",
       "  array([   0.,   97.,  192.,  374.,  460.,  653.,  977., 1009., 1047.,\n",
       "          140.]),\n",
       "  array([   3.,   42.,  285.,  396.,  527.,  815., 1004.,  990.,  788.,\n",
       "           33.]),\n",
       "  array([  6.,  97., 315., 430., 624., 960., 992., 900., 494.,   7.]),\n",
       "  array([  9., 142., 330., 506., 797., 977., 967., 800., 212.,   0.]),\n",
       "  array([ 23., 181., 369., 615., 934., 974., 808., 667.,  68.,   0.]),\n",
       "  array([   0.,    0.,    0., 3773., 1137.,  948.,  778.,  354.,   10.,\n",
       "            0.]),\n",
       "  array([0.000e+00, 0.000e+00, 0.000e+00, 3.913e+03, 1.477e+03, 8.040e+02,\n",
       "         6.660e+02, 1.390e+02, 1.000e+00, 0.000e+00]),\n",
       "  array([   0.,    0.,    0., 4702., 1175.,  798.,  308.,   17.,    0.,\n",
       "            0.]),\n",
       "  array([0.000e+00, 0.000e+00, 0.000e+00, 5.568e+03, 9.500e+02, 4.180e+02,\n",
       "         6.300e+01, 1.000e+00, 0.000e+00, 0.000e+00]),\n",
       "  array([0.000e+00, 0.000e+00, 4.067e+03, 2.386e+03, 4.780e+02, 6.800e+01,\n",
       "         1.000e+00, 0.000e+00, 0.000e+00, 0.000e+00]),\n",
       "  array([   0.,    0., 5934., 1029.,   37.,    0.,    0.,    0.,    0.,\n",
       "            0.]),\n",
       "  array([   0.,    0., 6779.,  221.,    0.,    0.,    0.,    0.,    0.,\n",
       "            0.]),\n",
       "  array([   0., 5384., 1609.,    7.,    0.,    0.,    0.,    0.,    0.,\n",
       "            0.]),\n",
       "  array([   0., 6482.,  518.,    0.,    0.,    0.,    0.,    0.,    0.,\n",
       "            0.]),\n",
       "  array([3824., 3133.,   43.,    0.,    0.,    0.,    0.,    0.,    0.,\n",
       "            0.]),\n",
       "  array([6334.,  666.,    0.,    0.,    0.,    0.,    0.,    0.,    0.,\n",
       "            0.])],\n",
       " array([-1.09575033, -0.46646629,  0.16281776,  0.7921018 ,  1.42138584,\n",
       "         2.05066989,  2.67995393,  3.30923797,  3.93852201,  4.56780606,\n",
       "         5.1970901 ]),\n",
       " <a list of 18 Lists of Patches objects>)"
      ]
     },
     "execution_count": 118,
     "metadata": {},
     "output_type": "execute_result"
    },
    {
     "data": {
      "image/png": "[encoded data removed]",
      "text/plain": [
       "<matplotlib.figure.Figure at 0x7f060d841550>"
      ]
     },
     "metadata": {},
     "output_type": "display_data"
    }
   ],
   "source": [
    "plt.hist(y)"
   ]
  },
  {
   "cell_type": "code",
   "execution_count": 119,
   "metadata": {},
   "outputs": [
    {
     "data": {
      "text/plain": [
       "([array([   0.,    0.,    0.,    3.,  260.,  513.,  780.,  978., 1061.,\n",
       "          822.]),\n",
       "  array([   0.,    0.,    0.,  114.,  505.,  595.,  861.,  982., 1175.,\n",
       "          392.]),\n",
       "  array([  32.,   30.,   76.,  464.,  511.,  662.,  974., 1001., 1069.,\n",
       "          130.]),\n",
       "  array([   0.,    0.,  216.,  484.,  559.,  820.,  985., 1012.,  776.,\n",
       "           31.]),\n",
       "  array([  0.,  31., 320., 452., 671., 973., 970., 962., 445.,   1.]),\n",
       "  array([  0.,  69., 374., 517., 839., 969., 943., 852., 177.,   0.]),\n",
       "  array([  2., 126., 398., 644., 957., 963., 843., 655.,  51.,   0.]),\n",
       "  array([   0.,    0.,  525., 3238., 1192.,  904.,  778.,  334.,   29.,\n",
       "            0.]),\n",
       "  array([   0.,    0.,    0., 3858., 1520.,  854.,  612.,  156.,    0.,\n",
       "            0.]),\n",
       "  array([0.00e+00, 0.00e+00, 1.00e+00, 4.65e+03, 1.23e+03, 8.05e+02,\n",
       "         2.89e+02, 2.50e+01, 0.00e+00, 0.00e+00]),\n",
       "  array([   0.,    0.,   31., 5457., 1046.,  399.,   67.,    0.,    0.,\n",
       "            0.]),\n",
       "  array([   0.,    0., 3446., 2994.,  502.,   58.,    0.,    0.,    0.,\n",
       "            0.]),\n",
       "  array([   0.,    0., 5860., 1079.,   61.,    0.,    0.,    0.,    0.,\n",
       "            0.]),\n",
       "  array([   0.,    0., 6745.,  255.,    0.,    0.,    0.,    0.,    0.,\n",
       "            0.]),\n",
       "  array([   0., 5102., 1884.,   14.,    0.,    0.,    0.,    0.,    0.,\n",
       "            0.]),\n",
       "  array([   0., 6444.,  556.,    0.,    0.,    0.,    0.,    0.,    0.,\n",
       "            0.]),\n",
       "  array([2514., 4454.,   32.,    0.,    0.,    0.,    0.,    0.,    0.,\n",
       "            0.]),\n",
       "  array([6259.,  741.,    0.,    0.,    0.,    0.,    0.,    0.,    0.,\n",
       "            0.])],\n",
       " array([-1.13207504, -0.49219737,  0.14768029,  0.78755795,  1.42743562,\n",
       "         2.06731328,  2.70719095,  3.34706861,  3.98694627,  4.62682394,\n",
       "         5.2667016 ]),\n",
       " <a list of 18 Lists of Patches objects>)"
      ]
     },
     "execution_count": 119,
     "metadata": {},
     "output_type": "execute_result"
    },
    {
     "data": {
      "image/png": "[encoded data removed]",
      "text/plain": [
       "<matplotlib.figure.Figure at 0x7f060d798b10>"
      ]
     },
     "metadata": {},
     "output_type": "display_data"
    }
   ],
   "source": [
    "plt.hist(pred_y)"
   ]
  },
  {
   "cell_type": "code",
   "execution_count": 120,
   "metadata": {},
   "outputs": [
    {
     "data": {
      "text/plain": [
       "([array([    0.,     0.,    77.,   543.,  2066.,  9434., 12632.,   833.,\n",
       "            14.,     0.]),\n",
       "  array([0.0000e+00, 1.0000e+00, 1.2900e+02, 7.2500e+02, 2.6540e+03,\n",
       "         9.6090e+03, 1.3233e+04, 1.3290e+03, 7.7000e+01, 1.4000e+01]),\n",
       "  array([1.0000e+00, 3.2000e+01, 2.6100e+02, 9.3000e+02, 3.3650e+03,\n",
       "         9.0480e+03, 1.3805e+04, 1.8850e+03, 1.2300e+02, 1.4000e+01]),\n",
       "  array([3.000e+00, 3.800e+01, 2.730e+02, 8.540e+02, 3.181e+03, 9.100e+03,\n",
       "         1.375e+04, 1.792e+03, 1.130e+02, 0.000e+00]),\n",
       "  array([1.0000e+00, 1.5000e+01, 2.0200e+02, 7.6100e+02, 2.8770e+03,\n",
       "         9.0450e+03, 1.3415e+04, 1.4720e+03, 6.8000e+01, 0.0000e+00]),\n",
       "  array([1.0000e+00, 1.7000e+01, 1.7300e+02, 7.7600e+02, 2.8060e+03,\n",
       "         8.9690e+03, 1.3192e+04, 1.5070e+03, 6.2000e+01, 0.0000e+00]),\n",
       "  array([2.0000e+00, 2.1000e+01, 1.7800e+02, 6.9800e+02, 2.6510e+03,\n",
       "         9.0370e+03, 1.2856e+04, 1.4720e+03, 5.3000e+01, 0.0000e+00]),\n",
       "  array([0.0000e+00, 0.0000e+00, 0.0000e+00, 2.5000e+02, 4.8620e+03,\n",
       "         1.9110e+04, 1.0414e+04, 4.5470e+03, 8.0800e+02, 9.0000e+00]),\n",
       "  array([    0.,     0.,     0.,     0.,  3506., 21038., 11141.,  3984.,\n",
       "           331.,     0.]),\n",
       "  array([0.0000e+00, 0.0000e+00, 0.0000e+00, 0.0000e+00, 2.2750e+03,\n",
       "         2.2613e+04, 1.1713e+04, 3.0900e+03, 3.0800e+02, 1.0000e+00]),\n",
       "  array([0.0000e+00, 0.0000e+00, 0.0000e+00, 0.0000e+00, 8.2000e+02,\n",
       "         2.4900e+04, 1.1939e+04, 2.0940e+03, 2.4600e+02, 1.0000e+00]),\n",
       "  array([0.0000e+00, 0.0000e+00, 0.0000e+00, 0.0000e+00, 1.0000e+00,\n",
       "         2.7216e+04, 1.1663e+04, 1.0080e+03, 1.1200e+02, 0.0000e+00]),\n",
       "  array([0.0000e+00, 0.0000e+00, 0.0000e+00, 0.0000e+00, 0.0000e+00,\n",
       "         2.8954e+04, 1.0785e+04, 2.6000e+02, 1.0000e+00, 0.0000e+00]),\n",
       "  array([    0.,     0.,     0.,     0.,     0., 29391., 10560.,    49.,\n",
       "             0.,     0.]),\n",
       "  array([    0.,     0.,     0.,     0.,     0., 29458., 10512.,    30.,\n",
       "             0.,     0.]),\n",
       "  array([    0.,     0.,     0.,     0.,     0., 29456., 10513.,    31.,\n",
       "             0.,     0.]),\n",
       "  array([0.0000e+00, 0.0000e+00, 0.0000e+00, 0.0000e+00, 0.0000e+00,\n",
       "         2.9479e+04, 1.0493e+04, 2.8000e+01, 0.0000e+00, 0.0000e+00]),\n",
       "  array([0.0000e+00, 0.0000e+00, 0.0000e+00, 0.0000e+00, 0.0000e+00,\n",
       "         2.9489e+04, 1.0487e+04, 2.4000e+01, 0.0000e+00, 0.0000e+00])],\n",
       " array([-2.5143809 , -2.08822823, -1.66207556, -1.2359229 , -0.80977023,\n",
       "        -0.38361756,  0.04253511,  0.46868777,  0.89484044,  1.32099311,\n",
       "         1.74714577]),\n",
       " <a list of 18 Lists of Patches objects>)"
      ]
     },
     "execution_count": 120,
     "metadata": {},
     "output_type": "execute_result"
    },
    {
     "data": {
      "image/png": "[encoded data removed]",
      "text/plain": [
       "<matplotlib.figure.Figure at 0x7f060774a850>"
      ]
     },
     "metadata": {},
     "output_type": "display_data"
    }
   ],
   "source": [
    "plt.hist(emu.y)"
   ]
  },
  {
   "cell_type": "raw",
   "metadata": {
    "scrolled": false
   },
   "source": [
    "for idx in xrange(emu.n_bins):\n",
    "    fig = plt.figure(figsize=(10, 4))\n",
    "    rat = np.abs(pred_y[idx] - y[idx])/np.abs(y[idx])\n",
    "    print rat.mean(), np.percentile(rat, [ 50, 68, 95])\n",
    "    plt.subplot(121)\n",
    "    plt.hist(np.log10(rat), bins = 50 );\n",
    "    plt.subplot(122)\n",
    "    plt.hist(pred_y[idx]-y[idx], bins = np.linspace(-1, 1, 51) );\n",
    "    plt.show()"
   ]
  },
  {
   "cell_type": "code",
   "execution_count": 121,
   "metadata": {},
   "outputs": [
    {
     "ename": "AttributeError",
     "evalue": "'numpy.ndarray' object has no attribute 'log10'",
     "output_type": "error",
     "traceback": [
      "\u001b[1;31m---------------------------------------------------------------------------\u001b[0m",
      "\u001b[1;31mAttributeError\u001b[0m                            Traceback (most recent call last)",
      "\u001b[1;32m<ipython-input-121-96f6e7555351>\u001b[0m in \u001b[0;36m<module>\u001b[1;34m()\u001b[0m\n\u001b[1;32m----> 1\u001b[1;33m \u001b[0mplt\u001b[0m\u001b[1;33m.\u001b[0m\u001b[0mhist\u001b[0m\u001b[1;33m(\u001b[0m\u001b[0mnp\u001b[0m\u001b[1;33m.\u001b[0m\u001b[0mlog10\u001b[0m\u001b[1;33m(\u001b[0m\u001b[0mgof\u001b[0m\u001b[1;33m)\u001b[0m\u001b[1;33m)\u001b[0m\u001b[1;33m;\u001b[0m\u001b[1;33m\u001b[0m\u001b[0m\n\u001b[0m",
      "\u001b[1;31mAttributeError\u001b[0m: 'numpy.ndarray' object has no attribute 'log10'"
     ]
    }
   ],
   "source": [
    "plt.hist(np.log10(gof));"
   ]
  },
  {
   "cell_type": "code",
   "execution_count": null,
   "metadata": {},
   "outputs": [],
   "source": [
    "plt.hist(emu.y)"
   ]
  },
  {
   "cell_type": "code",
   "execution_count": null,
   "metadata": {},
   "outputs": [],
   "source": [
    "for i in xrange(50):    \n",
    "    params = {}\n",
    "\n",
    "    for pname in emu.get_param_names():\n",
    "        if pname == 'r':\n",
    "            continue\n",
    "        low, high = emu.get_param_bounds(pname)\n",
    "        params[pname] = np.random.uniform(low, high)\n",
    "    pred_y = emu.emulate(params)[0]\n",
    "    print pred_y\n",
    "    #print params"
   ]
  },
  {
   "cell_type": "code",
   "execution_count": null,
   "metadata": {
    "scrolled": false
   },
   "outputs": [],
   "source": [
    "for i, (g, r) in enumerate(zip(gof, emu.scale_bin_centers)):\n",
    "    print r, g.mean(), np.median(g)\n",
    "    #plt.hist(np.log10(g))\n",
    "    #plt.show()"
   ]
  },
  {
   "cell_type": "raw",
   "metadata": {},
   "source": [
    "plt.hist(np.log10(gof) );"
   ]
  },
  {
   "cell_type": "raw",
   "metadata": {
    "collapsed": true
   },
   "source": [
    "from sklearn.model_selection import train_test_split"
   ]
  },
  {
   "cell_type": "raw",
   "metadata": {},
   "source": [
    "x, y, yerr = emu.x, emu.y, emu.yerr\n",
    "downsample_idxs = np.random.choice(x.shape[0], size = int(0.08*x.shape[0]), replace = False)\n",
    "x,y, yerr = x[downsample_idxs, :], y[downsample_idxs], yerr[downsample_idxs]\n",
    "\n",
    "train_x, test_x, train_y, test_y, train_yerr, test_yerr = train_test_split(x, y, yerr, test_size = 0.1)\n"
   ]
  },
  {
   "cell_type": "code",
   "execution_count": null,
   "metadata": {},
   "outputs": [],
   "source": [
    "n_cosmo_params = 7\n",
    "loo_cosmo = emu.x[0, 0,  :n_cosmo_params]\n",
    "\n",
    "loo_cosmo_idxs = np.all(emu.x[:, :,:n_cosmo_params] == loo_cosmo, axis =2)\n",
    "train_x, train_y, train_yerr = emu.x[~loo_cosmo_idxs, :], emu.y[ ~loo_cosmo_idxs], emu.yerr[ ~loo_cosmo_idxs]\n",
    "test_x, test_y, test_yerr = emu.x[loo_cosmo_idxs, :], emu.y[loo_cosmo_idxs], emu.yerr[loo_cosmo_idxs]"
   ]
  },
  {
   "cell_type": "raw",
   "metadata": {},
   "source": [
    "train_x, train_y, train_yerr = emu.x, emu.y, emu.yerr"
   ]
  },
  {
   "cell_type": "code",
   "execution_count": null,
   "metadata": {},
   "outputs": [],
   "source": [
    "model = emu._emulator\n",
    "model.compute(train_x, train_yerr)"
   ]
  },
  {
   "cell_type": "raw",
   "metadata": {},
   "source": [
    "test_x, test_y, test_yerr, _ = emu.get_data(test_file,fixed_params, None)"
   ]
  },
  {
   "cell_type": "code",
   "execution_count": null,
   "metadata": {},
   "outputs": [],
   "source": [
    "pred_y = model.predict(train_y, test_x, False, False, False)*emu._y_std + emu._y_mean\n"
   ]
  },
  {
   "cell_type": "code",
   "execution_count": null,
   "metadata": {},
   "outputs": [],
   "source": [
    "np.mean(np.abs((pred_y-test_y)/test_y))\n",
    "#np.mean(np.abs((pred_y-train_y)/train_y))"
   ]
  },
  {
   "cell_type": "raw",
   "metadata": {
    "scrolled": false
   },
   "source": [
    "for idx in xrange(50):\n",
    "    plt.plot(emu.scale_bin_centers, ypred[idx*emu.n_bins:(idx+1)*emu.n_bins], label = 'Emu')\n",
    "    plt.plot(emu.scale_bin_centers, emu.y[idx*emu.n_bins:(idx+1)*emu.n_bins], label = 'True')\n",
    "    plt.title(np.sum(emu.x[(idx+1)*emu.n_bins, :-1]) )\n",
    "    plt.legend(loc='best')\n",
    "    plt.xscale('log')\n",
    "    plt.show()"
   ]
  },
  {
   "cell_type": "code",
   "execution_count": null,
   "metadata": {},
   "outputs": [],
   "source": [
    "        queue_skipper: True\n",
    "        system: sherlock\n",
    "        n_jobs: 400\n",
    "        max_time: 6\n",
    "resids = np.abs(emu.y*emu._y_std+emu._y_mean - ypred)"
   ]
  },
  {
   "cell_type": "code",
   "execution_count": null,
   "metadata": {},
   "outputs": [],
   "source": [
    "np.mean(resids/(emu.y*emu._y_std+emu._y_mean))"
   ]
  },
  {
   "cell_type": "code",
   "execution_count": null,
   "metadata": {},
   "outputs": [],
   "source": [
    "ypred.mean(), emu._y_mean"
   ]
  },
  {
   "cell_type": "raw",
   "metadata": {},
   "source": [
    "plt.plot(emu.scale_bin_centers, np.abs(gof.mean(axis = 0)) )\n",
    "plt.plot(emu.scale_bin_centers, np.ones_like(emu.scale_bin_centers)*0.01)\n",
    "plt.plot(emu.scale_bin_centers, np.ones_like(emu.scale_bin_centers)*0.05)\n",
    "plt.plot(emu.scale_bin_centers, np.ones_like(emu.scale_bin_centers)*0.1)\n",
    "\n",
    "\n",
    "plt.loglog();"
   ]
  },
  {
   "cell_type": "raw",
   "metadata": {},
   "source": [
    "plt.plot(emu.scale_bin_centers, np.abs(gof.T),alpha = 0.1, color = 'b')\n",
    "plt.plot(emu.scale_bin_centers, np.ones_like(emu.scale_bin_centers)*0.01, lw = 2, color = 'k')\n",
    "plt.loglog();"
   ]
  },
  {
   "cell_type": "code",
   "execution_count": null,
   "metadata": {},
   "outputs": [],
   "source": [
    "test_gof = emu.goodness_of_fit(test_file, statistic = 'log_frac')\n",
    "print test_gof.mean()"
   ]
  },
  {
   "cell_type": "code",
   "execution_count": null,
   "metadata": {},
   "outputs": [],
   "source": [
    "test_gof = emu.goodness_of_fit(test_file, statistic = 'frac')\n",
    "print test_gof.mean()"
   ]
  },
  {
   "cell_type": "code",
   "execution_count": null,
   "metadata": {},
   "outputs": [],
   "source": [
    "plt.hist(np.log10(test_gof));"
   ]
  },
  {
   "cell_type": "code",
   "execution_count": null,
   "metadata": {},
   "outputs": [],
   "source": [
    "test_x"
   ]
  },
  {
   "cell_type": "code",
   "execution_count": null,
   "metadata": {},
   "outputs": [],
   "source": [
    "(emu.x*emu._x_std) + emu._x_mean"
   ]
  },
  {
   "cell_type": "code",
   "execution_count": null,
   "metadata": {},
   "outputs": [],
   "source": [
    "emu.get_param_names()"
   ]
  },
  {
   "cell_type": "code",
   "execution_count": null,
   "metadata": {
    "collapsed": true
   },
   "outputs": [],
   "source": [
    "test_x_white, test_y_white = (test_x - emu._x_mean)/(emu._x_std + 1e-5), (test_y - emu._y_mean)/(emu._y_std + 1e-5)"
   ]
  },
  {
   "cell_type": "code",
   "execution_count": null,
   "metadata": {
    "collapsed": true
   },
   "outputs": [],
   "source": [
    "model = emu._emulator"
   ]
  },
  {
   "cell_type": "code",
   "execution_count": null,
   "metadata": {},
   "outputs": [],
   "source": [
    "pred_y_white = model.predict(emu.y, test_x_white, False, False, False)"
   ]
  },
  {
   "cell_type": "code",
   "execution_count": null,
   "metadata": {
    "collapsed": true
   },
   "outputs": [],
   "source": [
    "pred_y = pred_y_white*emu._y_std + emu._y_mean"
   ]
  },
  {
   "cell_type": "code",
   "execution_count": null,
   "metadata": {},
   "outputs": [],
   "source": [
    "plt.plot(pred_y[:100], label = 'pred')\n",
    "plt.plot(test_y[:100], label = 'truth')\n",
    "\n",
    "plt.legend(loc = 'best')"
   ]
  },
  {
   "cell_type": "code",
   "execution_count": null,
   "metadata": {},
   "outputs": [],
   "source": [
    "test_y.mean(), emu._y_mean, pred_y.mean()"
   ]
  },
  {
   "cell_type": "code",
   "execution_count": null,
   "metadata": {},
   "outputs": [],
   "source": [
    "test_y.std(), emu._y_std, pred_y.std()"
   ]
  },
  {
   "cell_type": "code",
   "execution_count": null,
   "metadata": {},
   "outputs": [],
   "source": [
    "plt.hist(pred_y_white, bins = np.linspace(-3, 3, 100), label = 'Pred')\n",
    "plt.hist(test_y_white, bins = np.linspace(-3, 3, 100), label = 'Test', alpha = 0.4);\n",
    "plt.legend(loc = 'best')"
   ]
  },
  {
   "cell_type": "code",
   "execution_count": null,
   "metadata": {
    "collapsed": true
   },
   "outputs": [],
   "source": []
  },
  {
   "cell_type": "code",
   "execution_count": null,
   "metadata": {
    "collapsed": true
   },
   "outputs": [],
   "source": []
  }
 ],
 "metadata": {
  "kernelspec": {
   "display_name": "Python 2",
   "language": "python",
   "name": "python2"
  },
  "language_info": {
   "codemirror_mode": {
    "name": "ipython",
    "version": 2
   },
   "file_extension": ".py",
   "mimetype": "text/x-python",
   "name": "python",
   "nbconvert_exporter": "python",
   "pygments_lexer": "ipython2",
   "version": "2.7.13"
  }
 },
 "nbformat": 4,
 "nbformat_minor": 1
}
