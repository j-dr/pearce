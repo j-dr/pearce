{
 "cells": [
  {
   "cell_type": "markdown",
   "metadata": {},
   "source": [
    "I'm gonna overwrite a lot of this notebook's old content. I changed the way I'm calculating wt, and wanna test that my training worked. "
   ]
  },
  {
   "cell_type": "code",
   "execution_count": 20,
   "metadata": {
    "collapsed": false
   },
   "outputs": [],
   "source": [
    "from pearce.emulator import OriginalRecipe, ExtraCrispy, SpicyBuffalo\n",
    "from pearce.mocks import cat_dict\n",
    "import numpy as np\n",
    "from os import path"
   ]
  },
  {
   "cell_type": "code",
   "execution_count": 21,
   "metadata": {
    "collapsed": true
   },
   "outputs": [],
   "source": [
    "import matplotlib\n",
    "#matplotlib.use('Agg')\n",
    "from matplotlib import pyplot as plt\n",
    "%matplotlib inline\n",
    "import seaborn as sns\n",
    "sns.set()"
   ]
  },
  {
   "cell_type": "code",
   "execution_count": 22,
   "metadata": {
    "collapsed": true
   },
   "outputs": [],
   "source": [
    "#training_file = '/scratch/users/swmclau2/xi_zheng07_cosmo_lowmsat/PearceRedMagicXiCosmoFixedNd.hdf5'\n",
    "training_file = '/u/ki/swmclau2/des/PearceRedMagicXiCosmoFixedNdLowMsat.hdf5'\n",
    "#test_file = '/scratch/users/swmclau2/xi_zheng07_cosmo_test_lowmsat//PearceRedMagicXiCosmoFixedNd_Test.hdf5'\n",
    "test_file = '/u/ki/swmclau2/des/PearceRedMagicXiCosmoFixedNdLowMsatTest.hdf5'\n",
    "\n",
    "em_method = 'gp'\n",
    "split_method = 'random'"
   ]
  },
  {
   "cell_type": "code",
   "execution_count": 23,
   "metadata": {
    "collapsed": true
   },
   "outputs": [],
   "source": [
    "a = 1.0\n",
    "z = 1.0/a - 1.0"
   ]
  },
  {
   "cell_type": "code",
   "execution_count": 24,
   "metadata": {
    "collapsed": true
   },
   "outputs": [],
   "source": [
    "fixed_params = {'z':z}#, 'cosmo': 0}#, 'r':24.06822623}"
   ]
  },
  {
   "cell_type": "raw",
   "metadata": {
    "collapsed": true
   },
   "source": [
    "v = np.array([  2.68607108,  -4.29605403, -12. ,         12.,         -11.18424935,\n",
    "  -8.39772494 , -8.88556884,   9.00797499 , 12.    ,      10.56121261,  12.,\n",
    "   5.50280428,   0.59482347 , -6.24363245 , -8.26644505,   0.25342135,\n",
    "   0.96977814 , 12.,           3.37450278,  12. ,          7.15832218,\n",
    "   0.79122102,  11.9455156 ,   1.64464882,   4.03020203])\n"
   ]
  },
  {
   "cell_type": "code",
   "execution_count": 25,
   "metadata": {
    "collapsed": true
   },
   "outputs": [],
   "source": [
    "param_names = ['ombh2', 'omch2', 'w0', 'ns', 'ln10As', 'H0', 'Neff', 'logM0', 'sigma_logM', 'logM1', 'alpha']"
   ]
  },
  {
   "cell_type": "code",
   "execution_count": 26,
   "metadata": {
    "collapsed": true
   },
   "outputs": [],
   "source": [
    "kernel_param_names = ['bias', 'amp']\n",
    "kernel_param_names.extend(param_names)\n",
    "kernel_param_names.append('amp')\n",
    "kernel_param_names.extend(param_names)"
   ]
  },
  {
   "cell_type": "code",
   "execution_count": 27,
   "metadata": {
    "collapsed": true
   },
   "outputs": [],
   "source": [
    "from collections import defaultdict\n",
    "metric = {}# defaultdict(list)\n",
    "for pname in kernel_param_names:\n",
    "    metric[pname] = 12.0"
   ]
  },
  {
   "cell_type": "raw",
   "metadata": {
    "collapsed": true
   },
   "source": [
    "vhod = np.array([ 12. ,          9.72481838 ,  5.80198502 , 12.   ,       12.     ,     12.   ,      -12.,\n",
    "  12.    ,      12.  ,        12.   ,       12.    ,      12. ,         12.  ,      ])\n",
    "\n",
    "vcosmo = np.array([  4.82220221 , -8.46823249,   3.66903253,   1.24029859,   2.87917854,\n",
    " -10.33565684,  -2.26787365,  10.3036432,   -7.37052231,   9.03649785,\n",
    "  -4.50963143,  -8.30743643,  -3.62892943,  -0.76516635,  -2.06594871,\n",
    "   1.68634782,   9.4212827,  -11.3635742,   -0.20752669,])"
   ]
  },
  {
   "cell_type": "raw",
   "metadata": {
    "collapsed": true
   },
   "source": [
    "cosmo_pnames = ['ombh2', 'omch2', 'w0', 'ns', 'ln10As', 'H0', 'Neff']\n",
    "hod_pnames = ['logM0', 'sigma_logM', 'logM1', 'alpha']\n",
    "\n",
    "emulator_ndim = len(cosmo_pnames)+len(hod_pnames)\n",
    "\n",
    "cosmo_axes = np.array(range(len(cosmo_pnames)))\n",
    "hod_axes = np.array((range(len(cosmo_pnames), emulator_ndim)))\n",
    "\n",
    "\n",
    "cosmo_kernel_pnames = ['bias', 'amp']\n",
    "cosmo_kernel_pnames.extend(cosmo_pnames)\n",
    "cosmo_kernel_pnames.append('amp')\n",
    "cosmo_kernel_pnames.extend(cosmo_pnames)\n",
    "\n",
    "hod_kernel_pnames = ['bias', 'amp']\n",
    "hod_kernel_pnames.extend(hod_pnames)\n",
    "hod_kernel_pnames.append('amp')\n",
    "hod_kernel_pnames.extend(hod_pnames)"
   ]
  },
  {
   "cell_type": "raw",
   "metadata": {
    "collapsed": true
   },
   "source": [
    "from george.kernels import *"
   ]
  },
  {
   "cell_type": "raw",
   "metadata": {},
   "source": [
    "print cosmo_kernel_pnames\n",
    "print vcosmo"
   ]
  },
  {
   "cell_type": "raw",
   "metadata": {
    "collapsed": true
   },
   "source": [
    "cosmo_kernel = ConstantKernel(vcosmo[0],  ndim = emulator_ndim, axes=cosmo_axes) +\\\n",
    "               ConstantKernel(vcosmo[1], ndim = emulator_ndim, axes=cosmo_axes)*\\\n",
    "                    ExpSquaredKernel(np.exp(vcosmo[2:2+len(cosmo_pnames)]), ndim=emulator_ndim, axes = cosmo_axes)+\\\n",
    "               ConstantKernel(vcosmo[4+len(cosmo_pnames)], ndim = emulator_ndim, axes = cosmo_axes)*\\\n",
    "            Matern32Kernel(np.exp(vcosmo[4+len(cosmo_pnames):-1]), ndim=emulator_ndim, axes = cosmo_axes)"
   ]
  },
  {
   "cell_type": "raw",
   "metadata": {
    "collapsed": true
   },
   "source": [
    "hod_kernel = ConstantKernel(vhod[0],  ndim = emulator_ndim, axes=hod_axes) +\\\n",
    "               ConstantKernel(vhod[1], ndim = emulator_ndim, axes=hod_axes)*\\\n",
    "                    ExpSquaredKernel(np.exp(vhod[2:2+len(hod_pnames)]), ndim=emulator_ndim, axes = hod_axes)+\\\n",
    "               ConstantKernel(vhod[4+len(hod_pnames)], ndim = emulator_ndim, axes = hod_axes)*\\\n",
    "            Matern32Kernel(np.exp(vhod[4+len(hod_pnames):-1]), ndim=emulator_ndim, axes = hod_axes)"
   ]
  },
  {
   "cell_type": "raw",
   "metadata": {},
   "source": [
    "np.random.seed(0)\n",
    "emu = OriginalRecipe(training_file, method = em_method, fixed_params=fixed_params,\\\n",
    "                     custom_mean_function = 'linear', downsample_factor=0.02)#,\n",
    "                    #hyperparams = {'n_estimators': 500,\n",
    "                    #              'max_depth': 5})"
   ]
  },
  {
   "cell_type": "raw",
   "metadata": {},
   "source": [
    "from george.kernels import *\n",
    "kernel =  Matern52Kernel(6*np.ones((11,)), ndim = 11)+ ConstantKernel(6, ndim = 11)"
   ]
  },
  {
   "cell_type": "code",
   "execution_count": 28,
   "metadata": {
    "collapsed": false
   },
   "outputs": [
    {
     "name": "stdout",
     "output_type": "stream",
     "text": [
      "40000 18\n",
      "{}\n",
      "{'Neff': [1.49655743, -9.94571436], 'amp': [-2.92565173, -10.26944746], 'logM0': [1.17087069, 6.50103759], 'logM1': [-1.91976981, -11.7173251], 'H0': [-4.72773171, -1.33582408], 'w0': [10.0699553, 12.01525603], 'sigma_logM': [0.97997249, 9.70125021], 'bias': [5.30324096], 'omch2': [-2.48246708, 0.50210416], 'ln10As': [0.15083459, 4.78413158], 'alpha': [7.17709699, -0.10738552], 'ns': [-8.69248089, 5.89975769], 'ombh2': [-4.42429766, 10.37865121]}\n",
      "{'Neff': [1.49655743, -9.94571436], 'amp': [-2.92565173, -10.26944746], 'logM0': [1.17087069, 6.50103759], 'logM1': [-1.91976981, -11.7173251], 'H0': [-4.72773171, -1.33582408], 'w0': [10.0699553, 12.01525603], 'sigma_logM': [0.97997249, 9.70125021], 'bias': [5.30324096], 'omch2': [-2.48246708, 0.50210416], 'ln10As': [0.15083459, 4.78413158], 'alpha': [7.17709699, -0.10738552], 'ns': [-8.69248089, 5.89975769], 'ombh2': [-4.42429766, 10.37865121]}\n"
     ]
    }
   ],
   "source": [
    "np.random.seed(0)\n",
    "emu = SpicyBuffalo(training_file, method = em_method, hyperparams={'metric':metric}, fixed_params=fixed_params,\n",
    "                 custom_mean_function = 'linear', downsample_factor = 0.1)"
   ]
  },
  {
   "cell_type": "code",
   "execution_count": 29,
   "metadata": {
    "collapsed": false
   },
   "outputs": [
    {
     "name": "stdout",
     "output_type": "stream",
     "text": [
      "['ombh2', 'omch2', 'w0', 'ns', 'ln10As', 'H0', 'Neff', 'logM0', 'sigma_logM', 'logM1', 'alpha']\n"
     ]
    }
   ],
   "source": [
    "print emu.get_param_names()"
   ]
  },
  {
   "cell_type": "raw",
   "metadata": {},
   "source": [
    "for pname, val in zip(emu._emulators[0].get_parameter_names(), emu._emulators[0].get_parameter_vector()):\n",
    "    print pname, val"
   ]
  },
  {
   "cell_type": "raw",
   "metadata": {},
   "source": [
    "for pname in emu.get_param_names():\n",
    "    print pname, emu.get_param_bounds(pname)"
   ]
  },
  {
   "cell_type": "raw",
   "metadata": {},
   "source": [
    "n_leaves, n_overlap = 5000, 1\n",
    "emu = ExtraCrispy(training_file, n_leaves, n_overlap, split_method, method = em_method, fixed_params=fixed_params,\n",
    "                 custom_mean_function = 'linear', downsample_factor = 1.0)"
   ]
  },
  {
   "cell_type": "code",
   "execution_count": 30,
   "metadata": {
    "collapsed": false
   },
   "outputs": [
    {
     "data": {
      "text/plain": [
       "array([ 0.09581734,  0.13534558,  0.19118072,  0.27004994,  0.38145568,\n",
       "        0.53882047,  0.76110414,  1.07508818,  1.51860241,  2.14508292,\n",
       "        3.03001016,  4.28000311,  6.04566509,  8.53972892, 12.06268772,\n",
       "       17.0389993 , 24.06822623, 33.99727318])"
      ]
     },
     "execution_count": 30,
     "metadata": {},
     "output_type": "execute_result"
    }
   ],
   "source": [
    "emu.scale_bin_centers"
   ]
  },
  {
   "cell_type": "code",
   "execution_count": 31,
   "metadata": {
    "collapsed": false
   },
   "outputs": [
    {
     "name": "stdout",
     "output_type": "stream",
     "text": [
      "[ 0.09581733  0.13534558  0.19118072  0.27004994  0.38145568  0.53882047\n",
      "  0.76110414  1.07508817  1.51860241  2.14508292  3.03001016  4.28000311\n",
      "  6.04566509  8.53972892 12.06268772 17.0389993  24.06822623 33.99727318]\n"
     ]
    }
   ],
   "source": [
    "rbins = np.logspace(-1.1, 1.6, 19)\n",
    "print (rbins[1:]+rbins[:-1])/2"
   ]
  },
  {
   "cell_type": "raw",
   "metadata": {
    "collapsed": true
   },
   "source": [
    "#v = [  5.30324096,  -2.92565173,  -4.42429766,  -2.48246708,  10.0699553,                                                           \n",
    "#  -8.69248089,   0.15083459,  -4.72773171,   1.49655743,   1.17087069,                                                                 \n",
    "#   0.97997249,  -1.91976981,   7.17709699, -10.26944746,  10.37865121,                                                                 \n",
    "#   0.50210416,  12.01525603,   5.89975769,   4.78413158,  -1.33582408,                                                                 \n",
    "#  -9.94571436,   6.50103759,   9.70125021, -11.7173251,   -0.10738552] \n",
    "\n",
    "#v = [-12.,          -5.56039378,   5.01999226,   9.63986449, -12.,\n",
    "# -12.,          -2.13397232,   7.90203306, -12.,           0.51574787,\n",
    "#   7.25074046,  -1.28201782,   2.84486642, -12.,         -12.,\n",
    "#  12.,          -7.75414731,  12.,          12.,         -12.,\n",
    "#   5.15929851, -12.,           0.53369134,  -3.81346879,  -6.9684267, ]\n",
    "\n",
    "#v = [ -1.14028239, -12.,          -8.08712614 , -1.51590059 ,  2.66822232,\n",
    "# -12.,         -10.17631757,   6.17448276,   6.2380102,  -12.,\n",
    "#  -3.63076923,  -1.3260091,    1.84463374,  -2.57120539,   0.42652469,\n",
    "#   0.94596673,   2.04145112,  -5.13442469,  12.,           8.86492205,\n",
    "# -12.,           2.44659378,  12.,           2.10889078,   9.36958256]\n",
    "\n",
    "v = [ 12. ,         12. ,         12.  ,        12.   ,       12.     ,     12.,\n",
    "  11.67920429 ,  6.81656135 , 12.   ,        1.92715272 , 12.    ,       7.72884642,\n",
    "  12.,        -12.     ,      2.57697301,  12. ,          8.85016763,\n",
    "   9.96558899 ,  6.24704116 , 12.      ,    12.   ,      -12.    ,     -12. ,        -12.,\n",
    "  12.,       ]\n",
    "\n",
    "v = np.ones_like(v)*12.0\n",
    "\n",
    "#[ -8.16992654,   8.67223223,  -2.21244202,  -8.9034059,    2.12923655,\n",
    "#  -9.85755136,   8.6699058,    1.24032812,  -0.41040494 ,  1.93942663,\n",
    "#   3.70688402,   5.53623883,  10.27060377,  -8.96397854,  -1.54633767,\n",
    "#   6.72846738,  -9.38415988,  -9.68900453,  -3.5219898,   -9.2396184,\n",
    "#  10.60952486,  -2.12807193,  -9.92944798,  -2.87456867,  -8.28144359]\n",
    "\n",
    "#[-2.30321746, -6.,          2.74986581, -0.59132415,  0.74564814, -1.47243557,\n",
    "#5.38958859,  2.36982126,  5.35110678,  1.6798139,   6.,          2.82272942,\n",
    "#6.        ]\n",
    "\n",
    "#[ 6.         -6.         -2.95890662 -6.         -3.63039154  6.\n",
    "# -0.93930637 -6.         -6.          2.2162459   6.          2.75175138\n",
    "#  5.09211467]"
   ]
  },
  {
   "cell_type": "raw",
   "metadata": {
    "collapsed": true
   },
   "source": [
    "if hasattr(emu, \"_emulator\"):\n",
    "    emu._emulator.set_parameter_vector(v) \n",
    "    emu._emulator.recompute()\n",
    "else:\n",
    "    for _emulator in emu._emulators:\n",
    "        _emulator.set_parameter_vector(v)\n",
    "        _emulator.recompute()"
   ]
  },
  {
   "cell_type": "code",
   "execution_count": 32,
   "metadata": {
    "collapsed": false
   },
   "outputs": [
    {
     "name": "stdout",
     "output_type": "stream",
     "text": [
      "{'logM1': 14.267701848157271, 'Neff': 3.6095427706197905, 'logM0': 13.578807613765713, 'sigma_logM': 0.2502193887675708, 'H0': 73.31620420249872, 'w0': -0.5886073500474833, 'omch2': 0.10271736946651576, 'ln10As': 3.0459840518637358, 'alpha': 1.031390598923265, 'ns': 0.9832511796584299, 'ombh2': 0.021913242278466367}\n"
     ]
    }
   ],
   "source": [
    "params = {}\n",
    "for pname in emu.get_param_names():\n",
    "    if pname == 'r':\n",
    "        continue\n",
    "    low, high = emu.get_param_bounds(pname)\n",
    "    params[pname] = np.random.uniform(low, high)\n",
    "    \n",
    "print params"
   ]
  },
  {
   "cell_type": "code",
   "execution_count": 33,
   "metadata": {
    "collapsed": false
   },
   "outputs": [
    {
     "name": "stdout",
     "output_type": "stream",
     "text": [
      "[ 2.96883837  2.77415419  2.55127777  2.31075558  2.02684504  1.7753887\n",
      "  1.50578738  1.4678663   1.36580131  1.12076745  0.88295065  0.7112742\n",
      "  0.52166097  0.29329069  0.08318182 -0.21237748 -0.44014224 -0.77123954]\n"
     ]
    }
   ],
   "source": [
    "pred_y = emu.emulate_wrt_r(params)[0]\n",
    "print pred_y"
   ]
  },
  {
   "cell_type": "code",
   "execution_count": 34,
   "metadata": {
    "collapsed": false
   },
   "outputs": [
    {
     "data": {
      "image/png": "[encoded data removed]",
      "text/plain": [
       "<matplotlib.figure.Figure at 0x7fb58b1274d0>"
      ]
     },
     "metadata": {},
     "output_type": "display_data"
    }
   ],
   "source": [
    "plt.plot(emu.scale_bin_centers, pred_y)\n",
    "plt.xscale('log')"
   ]
  },
  {
   "cell_type": "raw",
   "metadata": {},
   "source": [
    "pred_y = emu.emulate(params)[0]\n",
    "print pred_y"
   ]
  },
  {
   "cell_type": "raw",
   "metadata": {},
   "source": [
    "plt.plot(emu.scale_bin_centers, pred_y)\n",
    "plt.xscale(\"log\")"
   ]
  },
  {
   "cell_type": "raw",
   "metadata": {},
   "source": [
    "gof = emu.goodness_of_fit(training_file, N = 1000, statistic = 'log_frac')\n",
    "for g in gof:\n",
    "    print g.mean()"
   ]
  },
  {
   "cell_type": "raw",
   "metadata": {},
   "source": [
    "for g in gof:\n",
    "    print g.mean(), np.median(g)"
   ]
  },
  {
   "cell_type": "code",
   "execution_count": 35,
   "metadata": {
    "collapsed": false
   },
   "outputs": [
    {
     "data": {
      "text/plain": [
       "array([  5.30324096,  -2.92565173,  -4.42429766,  -2.48246708,\n",
       "        10.0699553 ,  -8.69248089,   0.15083459,  -4.72773171,\n",
       "         1.49655743,   1.17087069,   0.97997249,  -1.91976981,\n",
       "         7.17709699, -10.26944746,  10.37865121,   0.50210416,\n",
       "        12.01525603,   5.89975769,   4.78413158,  -1.33582408,\n",
       "        -9.94571436,   6.50103759,   9.70125021, -11.7173251 ,\n",
       "        -0.10738552])"
      ]
     },
     "execution_count": 35,
     "metadata": {},
     "output_type": "execute_result"
    }
   ],
   "source": [
    "emu._emulators[0].get_parameter_vector()"
   ]
  },
  {
   "cell_type": "code",
   "execution_count": 36,
   "metadata": {
    "collapsed": false
   },
   "outputs": [
    {
     "name": "stdout",
     "output_type": "stream",
     "text": [
      "0.33663589145938133 0.28144723093231006\n"
     ]
    }
   ],
   "source": [
    "gof = emu.goodness_of_fit(test_file, statistic = 'frac')\n",
    "print gof.mean(), np.median(gof)\n",
    "#for g in gof:\n",
    "#    print g.mean(), np.median(g)"
   ]
  },
  {
   "cell_type": "raw",
   "metadata": {},
   "source": [
    "metric['amp'] = [1, 1]\n",
    "metric['bias'] = [0.0]"
   ]
  },
  {
   "cell_type": "raw",
   "metadata": {},
   "source": [
    "for downsample_factor in [ 0.01, 0.05, 0.2, 0.4, 0.6, 0.8, 1.0]:\n",
    "    np.random.seed(0)\n",
    "    emu = OriginalRecipe(training_file, method = em_method, fixed_params=fixed_params,\\\n",
    "                     custom_mean_function = 'linear', downsample_factor=downsample_factor)\n",
    "    gof = emu.goodness_of_fit(test_file, statistic = 'log_frac')\n",
    "    print downsample_factor, gof.mean(), np.median(gof)"
   ]
  },
  {
   "cell_type": "raw",
   "metadata": {},
   "source": [
    "emu._save_as_default_metric(metric)"
   ]
  },
  {
   "cell_type": "code",
   "execution_count": 31,
   "metadata": {
    "collapsed": true
   },
   "outputs": [],
   "source": [
    "#print g.mean(), np.median(g)"
   ]
  },
  {
   "cell_type": "raw",
   "metadata": {},
   "source": [
    "for g in gof:\n",
    "    print g.mean(), np.median(g)"
   ]
  },
  {
   "cell_type": "code",
   "execution_count": 32,
   "metadata": {
    "collapsed": true
   },
   "outputs": [],
   "source": [
    "pred_y, y = emu.goodness_of_fit(test_file, statistic = None)\n",
    "#print gof.mean(), np.median(gof)"
   ]
  },
  {
   "cell_type": "code",
   "execution_count": 33,
   "metadata": {
    "collapsed": false
   },
   "outputs": [
    {
     "data": {
      "text/plain": [
       "([array([   0.,    0.,    0.,    0.,   13.,  212.,  776., 1590., 2249.,\n",
       "         2160.]),\n",
       "  array([   0.,    0.,    0.,    0.,   42.,  370., 1046., 1933., 2465.,\n",
       "         1144.]),\n",
       "  array([   0.,    0.,    0.,    3.,  115.,  582., 1377., 2116., 2498.,\n",
       "          309.]),\n",
       "  array([   0.,    0.,    0.,   17.,  253.,  877., 1810., 2039., 1911.,\n",
       "           93.]),\n",
       "  array([0.000e+00, 0.000e+00, 1.000e+00, 7.400e+01, 4.620e+02, 1.281e+03,\n",
       "         2.022e+03, 2.039e+03, 1.101e+03, 2.000e+01]),\n",
       "  array([   0.,    0.,   12.,  199.,  778., 1763., 1902., 1977.,  369.,\n",
       "            0.]),\n",
       "  array([   0.,    0.,   67.,  424., 1248., 1922., 1719., 1488.,  132.,\n",
       "            0.]),\n",
       "  array([   0.,    0.,    0.,  791., 1909., 1782., 1792.,  700.,   26.,\n",
       "            0.]),\n",
       "  array([   0.,    0.,    0., 1273., 2373., 1671., 1484.,  199.,    0.,\n",
       "            0.]),\n",
       "  array([   0.,    0.,    0., 2805., 1904., 1720.,  534.,   37.,    0.,\n",
       "            0.]),\n",
       "  array([   0.,    0.,   88., 4213., 1871.,  732.,   96.,    0.,    0.,\n",
       "            0.]),\n",
       "  array([   0.,    0., 3511., 2711.,  701.,   77.,    0.,    0.,    0.,\n",
       "            0.]),\n",
       "  array([   0.,    0., 5732., 1235.,   33.,    0.,    0.,    0.,    0.,\n",
       "            0.]),\n",
       "  array([   0., 2401., 4508.,   91.,    0.,    0.,    0.,    0.,    0.,\n",
       "            0.]),\n",
       "  array([   0., 5281., 1719.,    0.,    0.,    0.,    0.,    0.,    0.,\n",
       "            0.]),\n",
       "  array([   7., 6792.,  201.,    0.,    0.,    0.,    0.,    0.,    0.,\n",
       "            0.]),\n",
       "  array([4.748e+03, 2.249e+03, 3.000e+00, 0.000e+00, 0.000e+00, 0.000e+00,\n",
       "         0.000e+00, 0.000e+00, 0.000e+00, 0.000e+00]),\n",
       "  array([6779.,  221.,    0.,    0.,    0.,    0.,    0.,    0.,    0.,\n",
       "            0.])],\n",
       " array([-0.82754785, -0.22640569,  0.37473647,  0.97587862,  1.57702078,\n",
       "         2.17816294,  2.77930509,  3.38044725,  3.98158941,  4.58273157,\n",
       "         5.18387372]),\n",
       " <a list of 18 Lists of Patches objects>)"
      ]
     },
     "execution_count": 33,
     "metadata": {},
     "output_type": "execute_result"
    },
    {
     "data": {
      "image/png": "[encoded data removed]",
      "text/plain": [
       "<matplotlib.figure.Figure at 0x7fdc9dfd5f50>"
      ]
     },
     "metadata": {},
     "output_type": "display_data"
    }
   ],
   "source": [
    "plt.hist(y)"
   ]
  },
  {
   "cell_type": "code",
   "execution_count": 34,
   "metadata": {
    "collapsed": false
   },
   "outputs": [
    {
     "data": {
      "text/plain": [
       "([array([   0.,    0.,    0.,    0.,   11.,  223.,  861., 1719., 2359.,\n",
       "         1827.]),\n",
       "  array([   0.,    0.,    0.,    0.,   33.,  404., 1157., 2014., 2593.,\n",
       "          799.]),\n",
       "  array([0.000e+00, 0.000e+00, 0.000e+00, 1.000e+00, 1.150e+02, 6.300e+02,\n",
       "         1.543e+03, 2.075e+03, 2.464e+03, 1.720e+02]),\n",
       "  array([   0.,    0.,    0.,   14.,  270.,  972., 1917., 2080., 1695.,\n",
       "           52.]),\n",
       "  array([0.000e+00, 0.000e+00, 1.000e+00, 8.000e+01, 4.930e+02, 1.415e+03,\n",
       "         2.008e+03, 2.159e+03, 8.420e+02, 2.000e+00]),\n",
       "  array([   0.,    0.,   11.,  221.,  852., 1886., 1802., 1982.,  246.,\n",
       "            0.]),\n",
       "  array([0.000e+00, 1.000e+00, 7.700e+01, 4.590e+02, 1.394e+03, 1.878e+03,\n",
       "         1.789e+03, 1.318e+03, 8.400e+01, 0.000e+00]),\n",
       "  array([   0.,    0.,    3.,  878., 2013., 1687., 1876.,  533.,   10.,\n",
       "            0.]),\n",
       "  array([   0.,    0.,    0., 1530., 2263., 1685., 1359.,  163.,    0.,\n",
       "            0.]),\n",
       "  array([   0.,    0.,    0., 2977., 1824., 1726.,  451.,   22.,    0.,\n",
       "            0.]),\n",
       "  array([   0.,    0.,  465., 3943., 1894.,  620.,   78.,    0.,    0.,\n",
       "            0.]),\n",
       "  array([   0.,    0., 3694., 2627.,  607.,   72.,    0.,    0.,    0.,\n",
       "            0.]),\n",
       "  array([   0.,    0., 5870., 1107.,   23.,    0.,    0.,    0.,    0.,\n",
       "            0.]),\n",
       "  array([   0., 2810., 4121.,   69.,    0.,    0.,    0.,    0.,    0.,\n",
       "            0.]),\n",
       "  array([   0., 5322., 1678.,    0.,    0.,    0.,    0.,    0.,    0.,\n",
       "            0.]),\n",
       "  array([  65., 6758.,  177.,    0.,    0.,    0.,    0.,    0.,    0.,\n",
       "            0.]),\n",
       "  array([4759., 2241.,    0.,    0.,    0.,    0.,    0.,    0.,    0.,\n",
       "            0.]),\n",
       "  array([6846.,  154.,    0.,    0.,    0.,    0.,    0.,    0.,    0.,\n",
       "            0.])],\n",
       " array([-0.83719442, -0.22420383,  0.38878676,  1.00177736,  1.61476795,\n",
       "         2.22775854,  2.84074913,  3.45373972,  4.06673031,  4.6797209 ,\n",
       "         5.29271149]),\n",
       " <a list of 18 Lists of Patches objects>)"
      ]
     },
     "execution_count": 34,
     "metadata": {},
     "output_type": "execute_result"
    },
    {
     "data": {
      "image/png": "[encoded data removed]",
      "text/plain": [
       "<matplotlib.figure.Figure at 0x7fdc9df821d0>"
      ]
     },
     "metadata": {},
     "output_type": "display_data"
    }
   ],
   "source": [
    "plt.hist(pred_y)"
   ]
  },
  {
   "cell_type": "code",
   "execution_count": 35,
   "metadata": {
    "collapsed": false
   },
   "outputs": [
    {
     "data": {
      "text/plain": [
       "([array([   54.,   244.,   669.,  1732.,  4294., 13807., 17063.,  1914.,\n",
       "           181.,    23.]),\n",
       "  array([   44.,   202.,   604.,  1678.,  4281., 14441., 16732.,  1790.,\n",
       "           208.,    20.]),\n",
       "  array([   39.,   167.,   521.,  1636.,  4256., 15161., 16247.,  1714.,\n",
       "           240.,    19.]),\n",
       "  array([   34.,   153.,   481.,  1525.,  4258., 15969., 15494.,  1804.,\n",
       "           265.,    17.]),\n",
       "  array([2.4000e+01, 1.4600e+02, 4.4100e+02, 1.4750e+03, 4.2060e+03,\n",
       "         1.6723e+04, 1.4807e+04, 1.8930e+03, 2.7200e+02, 1.3000e+01]),\n",
       "  array([2.2000e+01, 1.3400e+02, 4.1100e+02, 1.4330e+03, 4.1450e+03,\n",
       "         1.7297e+04, 1.4272e+04, 2.0030e+03, 2.7700e+02, 6.0000e+00]),\n",
       "  array([   21.,   132.,   404.,  1392.,  4105., 17726., 13868.,  2083.,\n",
       "           267.,     0.]),\n",
       "  array([    0.,    48.,   206.,   857.,  4342., 20363., 12008.,  1925.,\n",
       "           251.,     0.]),\n",
       "  array([0.0000e+00, 1.0000e+00, 8.3000e+01, 6.4000e+02, 4.9060e+03,\n",
       "         2.1593e+04, 1.0265e+04, 2.2450e+03, 2.6200e+02, 5.0000e+00]),\n",
       "  array([0.0000e+00, 0.0000e+00, 2.7000e+01, 4.4100e+02, 4.9730e+03,\n",
       "         2.2025e+04, 9.5160e+03, 2.6760e+03, 3.3400e+02, 8.0000e+00]),\n",
       "  array([0.000e+00, 0.000e+00, 1.000e+00, 1.840e+02, 5.144e+03, 2.251e+04,\n",
       "         8.982e+03, 2.664e+03, 5.010e+02, 1.400e+01]),\n",
       "  array([0.0000e+00, 0.0000e+00, 0.0000e+00, 1.8000e+01, 3.4210e+03,\n",
       "         2.5543e+04, 8.7750e+03, 1.7500e+03, 4.3700e+02, 5.6000e+01]),\n",
       "  array([    0.,     0.,     0.,     0.,   833., 30660.,  7620.,   776.,\n",
       "           111.,     0.]),\n",
       "  array([    0.,     0.,     0.,     0.,   344., 32190.,  7229.,   237.,\n",
       "             0.,     0.]),\n",
       "  array([    0.,     0.,     0.,     0.,   282., 32380.,  7191.,   147.,\n",
       "             0.,     0.]),\n",
       "  array([    0.,     0.,     0.,     0.,   266., 32544.,  7043.,   147.,\n",
       "             0.,     0.]),\n",
       "  array([    0.,     0.,     0.,     0.,   237., 32680.,  6945.,   138.,\n",
       "             0.,     0.]),\n",
       "  array([    0.,     0.,     0.,     0.,   197., 32831.,  6860.,   112.,\n",
       "             0.,     0.])],\n",
       " array([-1.35750279, -1.12127663, -0.88505048, -0.64882432, -0.41259816,\n",
       "        -0.17637201,  0.05985415,  0.29608031,  0.53230646,  0.76853262,\n",
       "         1.00475878]),\n",
       " <a list of 18 Lists of Patches objects>)"
      ]
     },
     "execution_count": 35,
     "metadata": {},
     "output_type": "execute_result"
    },
    {
     "data": {
      "image/png": "[encoded data removed]",
      "text/plain": [
       "<matplotlib.figure.Figure at 0x7fdc93058e50>"
      ]
     },
     "metadata": {},
     "output_type": "display_data"
    }
   ],
   "source": [
    "plt.hist(emu.y)"
   ]
  },
  {
   "cell_type": "raw",
   "metadata": {
    "scrolled": false
   },
   "source": [
    "for idx in xrange(emu.n_bins):\n",
    "    fig = plt.figure(figsize=(10, 4))\n",
    "    rat = np.abs(pred_y[idx] - y[idx])/np.abs(y[idx])\n",
    "    print rat.mean(), np.percentile(rat, [ 50, 68, 95])\n",
    "    plt.subplot(121)\n",
    "    plt.hist(np.log10(rat), bins = 50 );\n",
    "    plt.subplot(122)\n",
    "    plt.hist(pred_y[idx]-y[idx], bins = np.linspace(-1, 1, 51) );\n",
    "    plt.show()"
   ]
  },
  {
   "cell_type": "code",
   "execution_count": 36,
   "metadata": {
    "collapsed": false
   },
   "outputs": [
    {
     "name": "stderr",
     "output_type": "stream",
     "text": [
      "/u/ki/swmclau2/.conda/envs/hodemulator/lib/python2.7/site-packages/matplotlib/axes/_axes.py:6097: UserWarning: 2D hist input should be nsamples x nvariables;\n",
      " this looks transposed (shape is 18 x 7000)\n",
      "  '(shape is %d x %d)' % inp.shape[::-1])\n"
     ]
    },
    {
     "ename": "KeyboardInterrupt",
     "evalue": "",
     "output_type": "error",
     "traceback": [
      "\u001b[1;31m---------------------------------------------------------------------------\u001b[0m",
      "\u001b[1;31mKeyboardInterrupt\u001b[0m                         Traceback (most recent call last)",
      "\u001b[1;32m<ipython-input-36-96f6e7555351>\u001b[0m in \u001b[0;36m<module>\u001b[1;34m()\u001b[0m\n\u001b[1;32m----> 1\u001b[1;33m \u001b[0mplt\u001b[0m\u001b[1;33m.\u001b[0m\u001b[0mhist\u001b[0m\u001b[1;33m(\u001b[0m\u001b[0mnp\u001b[0m\u001b[1;33m.\u001b[0m\u001b[0mlog10\u001b[0m\u001b[1;33m(\u001b[0m\u001b[0mgof\u001b[0m\u001b[1;33m)\u001b[0m\u001b[1;33m)\u001b[0m\u001b[1;33m;\u001b[0m\u001b[1;33m\u001b[0m\u001b[0m\n\u001b[0m",
      "\u001b[1;32m/u/ki/swmclau2/.conda/envs/hodemulator/lib/python2.7/site-packages/matplotlib/pyplot.pyc\u001b[0m in \u001b[0;36mhist\u001b[1;34m(x, bins, range, normed, weights, cumulative, bottom, histtype, align, orientation, rwidth, log, color, label, stacked, hold, data, **kwargs)\u001b[0m\n\u001b[0;32m   3079\u001b[0m                       \u001b[0mhisttype\u001b[0m\u001b[1;33m=\u001b[0m\u001b[0mhisttype\u001b[0m\u001b[1;33m,\u001b[0m \u001b[0malign\u001b[0m\u001b[1;33m=\u001b[0m\u001b[0malign\u001b[0m\u001b[1;33m,\u001b[0m \u001b[0morientation\u001b[0m\u001b[1;33m=\u001b[0m\u001b[0morientation\u001b[0m\u001b[1;33m,\u001b[0m\u001b[1;33m\u001b[0m\u001b[0m\n\u001b[0;32m   3080\u001b[0m                       \u001b[0mrwidth\u001b[0m\u001b[1;33m=\u001b[0m\u001b[0mrwidth\u001b[0m\u001b[1;33m,\u001b[0m \u001b[0mlog\u001b[0m\u001b[1;33m=\u001b[0m\u001b[0mlog\u001b[0m\u001b[1;33m,\u001b[0m \u001b[0mcolor\u001b[0m\u001b[1;33m=\u001b[0m\u001b[0mcolor\u001b[0m\u001b[1;33m,\u001b[0m \u001b[0mlabel\u001b[0m\u001b[1;33m=\u001b[0m\u001b[0mlabel\u001b[0m\u001b[1;33m,\u001b[0m\u001b[1;33m\u001b[0m\u001b[0m\n\u001b[1;32m-> 3081\u001b[1;33m                       stacked=stacked, data=data, **kwargs)\n\u001b[0m\u001b[0;32m   3082\u001b[0m     \u001b[1;32mfinally\u001b[0m\u001b[1;33m:\u001b[0m\u001b[1;33m\u001b[0m\u001b[0m\n\u001b[0;32m   3083\u001b[0m         \u001b[0max\u001b[0m\u001b[1;33m.\u001b[0m\u001b[0m_hold\u001b[0m \u001b[1;33m=\u001b[0m \u001b[0mwashold\u001b[0m\u001b[1;33m\u001b[0m\u001b[0m\n",
      "\u001b[1;32m/u/ki/swmclau2/.conda/envs/hodemulator/lib/python2.7/site-packages/matplotlib/__init__.pyc\u001b[0m in \u001b[0;36minner\u001b[1;34m(ax, *args, **kwargs)\u001b[0m\n\u001b[0;32m   1896\u001b[0m                     warnings.warn(msg % (label_namer, func.__name__),\n\u001b[0;32m   1897\u001b[0m                                   RuntimeWarning, stacklevel=2)\n\u001b[1;32m-> 1898\u001b[1;33m             \u001b[1;32mreturn\u001b[0m \u001b[0mfunc\u001b[0m\u001b[1;33m(\u001b[0m\u001b[0max\u001b[0m\u001b[1;33m,\u001b[0m \u001b[1;33m*\u001b[0m\u001b[0margs\u001b[0m\u001b[1;33m,\u001b[0m \u001b[1;33m**\u001b[0m\u001b[0mkwargs\u001b[0m\u001b[1;33m)\u001b[0m\u001b[1;33m\u001b[0m\u001b[0m\n\u001b[0m\u001b[0;32m   1899\u001b[0m         \u001b[0mpre_doc\u001b[0m \u001b[1;33m=\u001b[0m \u001b[0minner\u001b[0m\u001b[1;33m.\u001b[0m\u001b[0m__doc__\u001b[0m\u001b[1;33m\u001b[0m\u001b[0m\n\u001b[0;32m   1900\u001b[0m         \u001b[1;32mif\u001b[0m \u001b[0mpre_doc\u001b[0m \u001b[1;32mis\u001b[0m \u001b[0mNone\u001b[0m\u001b[1;33m:\u001b[0m\u001b[1;33m\u001b[0m\u001b[0m\n",
      "\u001b[1;32m/u/ki/swmclau2/.conda/envs/hodemulator/lib/python2.7/site-packages/matplotlib/axes/_axes.pyc\u001b[0m in \u001b[0;36mhist\u001b[1;34m(***failed resolving arguments***)\u001b[0m\n\u001b[0;32m   6277\u001b[0m                 patch = _barfunc(bins[:-1]+boffset, height, width,\n\u001b[0;32m   6278\u001b[0m                                  \u001b[0malign\u001b[0m\u001b[1;33m=\u001b[0m\u001b[1;34m'center'\u001b[0m\u001b[1;33m,\u001b[0m \u001b[0mlog\u001b[0m\u001b[1;33m=\u001b[0m\u001b[0mlog\u001b[0m\u001b[1;33m,\u001b[0m\u001b[1;33m\u001b[0m\u001b[0m\n\u001b[1;32m-> 6279\u001b[1;33m                                  color=c, **{bottom_kwarg: bottom})\n\u001b[0m\u001b[0;32m   6280\u001b[0m                 \u001b[0mpatches\u001b[0m\u001b[1;33m.\u001b[0m\u001b[0mappend\u001b[0m\u001b[1;33m(\u001b[0m\u001b[0mpatch\u001b[0m\u001b[1;33m)\u001b[0m\u001b[1;33m\u001b[0m\u001b[0m\n\u001b[0;32m   6281\u001b[0m                 \u001b[1;32mif\u001b[0m \u001b[0mstacked\u001b[0m\u001b[1;33m:\u001b[0m\u001b[1;33m\u001b[0m\u001b[0m\n",
      "\u001b[1;32m/u/ki/swmclau2/.conda/envs/hodemulator/lib/python2.7/site-packages/matplotlib/__init__.pyc\u001b[0m in \u001b[0;36minner\u001b[1;34m(ax, *args, **kwargs)\u001b[0m\n\u001b[0;32m   1896\u001b[0m                     warnings.warn(msg % (label_namer, func.__name__),\n\u001b[0;32m   1897\u001b[0m                                   RuntimeWarning, stacklevel=2)\n\u001b[1;32m-> 1898\u001b[1;33m             \u001b[1;32mreturn\u001b[0m \u001b[0mfunc\u001b[0m\u001b[1;33m(\u001b[0m\u001b[0max\u001b[0m\u001b[1;33m,\u001b[0m \u001b[1;33m*\u001b[0m\u001b[0margs\u001b[0m\u001b[1;33m,\u001b[0m \u001b[1;33m**\u001b[0m\u001b[0mkwargs\u001b[0m\u001b[1;33m)\u001b[0m\u001b[1;33m\u001b[0m\u001b[0m\n\u001b[0m\u001b[0;32m   1899\u001b[0m         \u001b[0mpre_doc\u001b[0m \u001b[1;33m=\u001b[0m \u001b[0minner\u001b[0m\u001b[1;33m.\u001b[0m\u001b[0m__doc__\u001b[0m\u001b[1;33m\u001b[0m\u001b[0m\n\u001b[0;32m   1900\u001b[0m         \u001b[1;32mif\u001b[0m \u001b[0mpre_doc\u001b[0m \u001b[1;32mis\u001b[0m \u001b[0mNone\u001b[0m\u001b[1;33m:\u001b[0m\u001b[1;33m\u001b[0m\u001b[0m\n",
      "\u001b[1;32m/u/ki/swmclau2/.conda/envs/hodemulator/lib/python2.7/site-packages/matplotlib/axes/_axes.pyc\u001b[0m in \u001b[0;36mbar\u001b[1;34m(self, left, height, width, bottom, **kwargs)\u001b[0m\n\u001b[0;32m   2169\u001b[0m             \u001b[0mymin\u001b[0m \u001b[1;33m=\u001b[0m \u001b[0mmax\u001b[0m\u001b[1;33m(\u001b[0m\u001b[0mymin\u001b[0m \u001b[1;33m*\u001b[0m \u001b[1;36m0.9\u001b[0m\u001b[1;33m,\u001b[0m \u001b[1;36m1e-100\u001b[0m\u001b[1;33m)\u001b[0m\u001b[1;33m\u001b[0m\u001b[0m\n\u001b[0;32m   2170\u001b[0m             \u001b[0mself\u001b[0m\u001b[1;33m.\u001b[0m\u001b[0mdataLim\u001b[0m\u001b[1;33m.\u001b[0m\u001b[0mintervaly\u001b[0m \u001b[1;33m=\u001b[0m \u001b[1;33m(\u001b[0m\u001b[0mymin\u001b[0m\u001b[1;33m,\u001b[0m \u001b[0mymax\u001b[0m\u001b[1;33m)\u001b[0m\u001b[1;33m\u001b[0m\u001b[0m\n\u001b[1;32m-> 2171\u001b[1;33m         \u001b[0mself\u001b[0m\u001b[1;33m.\u001b[0m\u001b[0mautoscale_view\u001b[0m\u001b[1;33m(\u001b[0m\u001b[1;33m)\u001b[0m\u001b[1;33m\u001b[0m\u001b[0m\n\u001b[0m\u001b[0;32m   2172\u001b[0m \u001b[1;33m\u001b[0m\u001b[0m\n\u001b[0;32m   2173\u001b[0m         \u001b[0mbar_container\u001b[0m \u001b[1;33m=\u001b[0m \u001b[0mBarContainer\u001b[0m\u001b[1;33m(\u001b[0m\u001b[0mpatches\u001b[0m\u001b[1;33m,\u001b[0m \u001b[0merrorbar\u001b[0m\u001b[1;33m,\u001b[0m \u001b[0mlabel\u001b[0m\u001b[1;33m=\u001b[0m\u001b[0mlabel\u001b[0m\u001b[1;33m)\u001b[0m\u001b[1;33m\u001b[0m\u001b[0m\n",
      "\u001b[1;32m/u/ki/swmclau2/.conda/envs/hodemulator/lib/python2.7/site-packages/matplotlib/axes/_base.pyc\u001b[0m in \u001b[0;36mautoscale_view\u001b[1;34m(self, tight, scalex, scaley)\u001b[0m\n\u001b[0;32m   2266\u001b[0m             \u001b[0mstickies\u001b[0m \u001b[1;33m=\u001b[0m \u001b[1;33m[\u001b[0m\u001b[0martist\u001b[0m\u001b[1;33m.\u001b[0m\u001b[0msticky_edges\u001b[0m \u001b[1;32mfor\u001b[0m \u001b[0martist\u001b[0m \u001b[1;32min\u001b[0m \u001b[0mself\u001b[0m\u001b[1;33m.\u001b[0m\u001b[0mget_children\u001b[0m\u001b[1;33m(\u001b[0m\u001b[1;33m)\u001b[0m\u001b[1;33m]\u001b[0m\u001b[1;33m\u001b[0m\u001b[0m\n\u001b[0;32m   2267\u001b[0m             \u001b[0mx_stickies\u001b[0m \u001b[1;33m=\u001b[0m \u001b[0msum\u001b[0m\u001b[1;33m(\u001b[0m\u001b[1;33m[\u001b[0m\u001b[0msticky\u001b[0m\u001b[1;33m.\u001b[0m\u001b[0mx\u001b[0m \u001b[1;32mfor\u001b[0m \u001b[0msticky\u001b[0m \u001b[1;32min\u001b[0m \u001b[0mstickies\u001b[0m\u001b[1;33m]\u001b[0m\u001b[1;33m,\u001b[0m \u001b[1;33m[\u001b[0m\u001b[1;33m]\u001b[0m\u001b[1;33m)\u001b[0m\u001b[1;33m\u001b[0m\u001b[0m\n\u001b[1;32m-> 2268\u001b[1;33m             \u001b[0my_stickies\u001b[0m \u001b[1;33m=\u001b[0m \u001b[0msum\u001b[0m\u001b[1;33m(\u001b[0m\u001b[1;33m[\u001b[0m\u001b[0msticky\u001b[0m\u001b[1;33m.\u001b[0m\u001b[0my\u001b[0m \u001b[1;32mfor\u001b[0m \u001b[0msticky\u001b[0m \u001b[1;32min\u001b[0m \u001b[0mstickies\u001b[0m\u001b[1;33m]\u001b[0m\u001b[1;33m,\u001b[0m \u001b[1;33m[\u001b[0m\u001b[1;33m]\u001b[0m\u001b[1;33m)\u001b[0m\u001b[1;33m\u001b[0m\u001b[0m\n\u001b[0m\u001b[0;32m   2269\u001b[0m             \u001b[1;32mif\u001b[0m \u001b[0mself\u001b[0m\u001b[1;33m.\u001b[0m\u001b[0mget_xscale\u001b[0m\u001b[1;33m(\u001b[0m\u001b[1;33m)\u001b[0m\u001b[1;33m.\u001b[0m\u001b[0mlower\u001b[0m\u001b[1;33m(\u001b[0m\u001b[1;33m)\u001b[0m \u001b[1;33m==\u001b[0m \u001b[1;34m'log'\u001b[0m\u001b[1;33m:\u001b[0m\u001b[1;33m\u001b[0m\u001b[0m\n\u001b[0;32m   2270\u001b[0m                 \u001b[0mx_stickies\u001b[0m \u001b[1;33m=\u001b[0m \u001b[1;33m[\u001b[0m\u001b[0mxs\u001b[0m \u001b[1;32mfor\u001b[0m \u001b[0mxs\u001b[0m \u001b[1;32min\u001b[0m \u001b[0mx_stickies\u001b[0m \u001b[1;32mif\u001b[0m \u001b[0mxs\u001b[0m \u001b[1;33m>\u001b[0m \u001b[1;36m0\u001b[0m\u001b[1;33m]\u001b[0m\u001b[1;33m\u001b[0m\u001b[0m\n",
      "\u001b[1;31mKeyboardInterrupt\u001b[0m: "
     ]
    },
    {
     "data": {
      "image/png": "[encoded data removed]",
      "text/plain": [
       "<matplotlib.figure.Figure at 0x7fdc92d62550>"
      ]
     },
     "metadata": {},
     "output_type": "display_data"
    }
   ],
   "source": [
    "plt.hist(np.log10(gof));"
   ]
  },
  {
   "cell_type": "code",
   "execution_count": null,
   "metadata": {
    "collapsed": true
   },
   "outputs": [],
   "source": [
    "plt.hist(emu.y)"
   ]
  },
  {
   "cell_type": "code",
   "execution_count": null,
   "metadata": {
    "collapsed": true
   },
   "outputs": [],
   "source": [
    "for i in xrange(50):    \n",
    "    params = {}\n",
    "\n",
    "    for pname in emu.get_param_names():\n",
    "        if pname == 'r':\n",
    "            continue\n",
    "        low, high = emu.get_param_bounds(pname)\n",
    "        params[pname] = np.random.uniform(low, high)\n",
    "    pred_y = emu.emulate(params)[0]\n",
    "    print pred_y\n",
    "    #print params"
   ]
  },
  {
   "cell_type": "code",
   "execution_count": null,
   "metadata": {
    "collapsed": true,
    "scrolled": false
   },
   "outputs": [],
   "source": [
    "for i, (g, r) in enumerate(zip(gof, emu.scale_bin_centers)):\n",
    "    print r, g.mean(), np.median(g)\n",
    "    #plt.hist(np.log10(g))\n",
    "    #plt.show()"
   ]
  },
  {
   "cell_type": "raw",
   "metadata": {},
   "source": [
    "plt.hist(np.log10(gof) );"
   ]
  },
  {
   "cell_type": "raw",
   "metadata": {
    "collapsed": true
   },
   "source": [
    "from sklearn.model_selection import train_test_split"
   ]
  },
  {
   "cell_type": "raw",
   "metadata": {},
   "source": [
    "x, y, yerr = emu.x, emu.y, emu.yerr\n",
    "downsample_idxs = np.random.choice(x.shape[0], size = int(0.08*x.shape[0]), replace = False)\n",
    "x,y, yerr = x[downsample_idxs, :], y[downsample_idxs], yerr[downsample_idxs]\n",
    "\n",
    "train_x, test_x, train_y, test_y, train_yerr, test_yerr = train_test_split(x, y, yerr, test_size = 0.1)\n"
   ]
  },
  {
   "cell_type": "code",
   "execution_count": null,
   "metadata": {
    "collapsed": true
   },
   "outputs": [],
   "source": [
    "n_cosmo_params = 7\n",
    "loo_cosmo = emu.x[0, 0,  :n_cosmo_params]\n",
    "\n",
    "loo_cosmo_idxs = np.all(emu.x[:, :,:n_cosmo_params] == loo_cosmo, axis =2)\n",
    "train_x, train_y, train_yerr = emu.x[~loo_cosmo_idxs, :], emu.y[ ~loo_cosmo_idxs], emu.yerr[ ~loo_cosmo_idxs]\n",
    "test_x, test_y, test_yerr = emu.x[loo_cosmo_idxs, :], emu.y[loo_cosmo_idxs], emu.yerr[loo_cosmo_idxs]"
   ]
  },
  {
   "cell_type": "raw",
   "metadata": {},
   "source": [
    "train_x, train_y, train_yerr = emu.x, emu.y, emu.yerr"
   ]
  },
  {
   "cell_type": "code",
   "execution_count": null,
   "metadata": {
    "collapsed": true
   },
   "outputs": [],
   "source": [
    "model = emu._emulator\n",
    "model.compute(train_x, train_yerr)"
   ]
  },
  {
   "cell_type": "raw",
   "metadata": {},
   "source": [
    "test_x, test_y, test_yerr, _ = emu.get_data(test_file,fixed_params, None)"
   ]
  },
  {
   "cell_type": "code",
   "execution_count": null,
   "metadata": {
    "collapsed": true
   },
   "outputs": [],
   "source": [
    "pred_y = model.predict(train_y, test_x, False, False, False)*emu._y_std + emu._y_mean\n"
   ]
  },
  {
   "cell_type": "code",
   "execution_count": null,
   "metadata": {
    "collapsed": true
   },
   "outputs": [],
   "source": [
    "np.mean(np.abs((pred_y-test_y)/test_y))\n",
    "#np.mean(np.abs((pred_y-train_y)/train_y))"
   ]
  },
  {
   "cell_type": "raw",
   "metadata": {
    "scrolled": false
   },
   "source": [
    "for idx in xrange(50):\n",
    "    plt.plot(emu.scale_bin_centers, ypred[idx*emu.n_bins:(idx+1)*emu.n_bins], label = 'Emu')\n",
    "    plt.plot(emu.scale_bin_centers, emu.y[idx*emu.n_bins:(idx+1)*emu.n_bins], label = 'True')\n",
    "    plt.title(np.sum(emu.x[(idx+1)*emu.n_bins, :-1]) )\n",
    "    plt.legend(loc='best')\n",
    "    plt.xscale('log')\n",
    "    plt.show()"
   ]
  },
  {
   "cell_type": "code",
   "execution_count": null,
   "metadata": {
    "collapsed": true
   },
   "outputs": [],
   "source": [
    "        queue_skipper: True\n",
    "        system: sherlock\n",
    "        n_jobs: 400\n",
    "        max_time: 6\n",
    "resids = np.abs(emu.y*emu._y_std+emu._y_mean - ypred)"
   ]
  },
  {
   "cell_type": "code",
   "execution_count": null,
   "metadata": {
    "collapsed": true
   },
   "outputs": [],
   "source": [
    "np.mean(resids/(emu.y*emu._y_std+emu._y_mean))"
   ]
  },
  {
   "cell_type": "code",
   "execution_count": null,
   "metadata": {
    "collapsed": true
   },
   "outputs": [],
   "source": [
    "ypred.mean(), emu._y_mean"
   ]
  },
  {
   "cell_type": "raw",
   "metadata": {},
   "source": [
    "plt.plot(emu.scale_bin_centers, np.abs(gof.mean(axis = 0)) )\n",
    "plt.plot(emu.scale_bin_centers, np.ones_like(emu.scale_bin_centers)*0.01)\n",
    "plt.plot(emu.scale_bin_centers, np.ones_like(emu.scale_bin_centers)*0.05)\n",
    "plt.plot(emu.scale_bin_centers, np.ones_like(emu.scale_bin_centers)*0.1)\n",
    "\n",
    "\n",
    "plt.loglog();"
   ]
  },
  {
   "cell_type": "raw",
   "metadata": {},
   "source": [
    "plt.plot(emu.scale_bin_centers, np.abs(gof.T),alpha = 0.1, color = 'b')\n",
    "plt.plot(emu.scale_bin_centers, np.ones_like(emu.scale_bin_centers)*0.01, lw = 2, color = 'k')\n",
    "plt.loglog();"
   ]
  },
  {
   "cell_type": "code",
   "execution_count": null,
   "metadata": {
    "collapsed": true
   },
   "outputs": [],
   "source": [
    "test_gof = emu.goodness_of_fit(test_file, statistic = 'log_frac')\n",
    "print test_gof.mean()"
   ]
  },
  {
   "cell_type": "code",
   "execution_count": null,
   "metadata": {
    "collapsed": true
   },
   "outputs": [],
   "source": [
    "test_gof = emu.goodness_of_fit(test_file, statistic = 'frac')\n",
    "print test_gof.mean()"
   ]
  },
  {
   "cell_type": "code",
   "execution_count": null,
   "metadata": {
    "collapsed": true
   },
   "outputs": [],
   "source": [
    "plt.hist(np.log10(test_gof));"
   ]
  },
  {
   "cell_type": "code",
   "execution_count": null,
   "metadata": {
    "collapsed": true
   },
   "outputs": [],
   "source": [
    "test_x"
   ]
  },
  {
   "cell_type": "code",
   "execution_count": null,
   "metadata": {
    "collapsed": true
   },
   "outputs": [],
   "source": [
    "(emu.x*emu._x_std) + emu._x_mean"
   ]
  },
  {
   "cell_type": "code",
   "execution_count": null,
   "metadata": {
    "collapsed": true
   },
   "outputs": [],
   "source": [
    "emu.get_param_names()"
   ]
  },
  {
   "cell_type": "code",
   "execution_count": null,
   "metadata": {
    "collapsed": true
   },
   "outputs": [],
   "source": [
    "test_x_white, test_y_white = (test_x - emu._x_mean)/(emu._x_std + 1e-5), (test_y - emu._y_mean)/(emu._y_std + 1e-5)"
   ]
  },
  {
   "cell_type": "code",
   "execution_count": null,
   "metadata": {
    "collapsed": true
   },
   "outputs": [],
   "source": [
    "model = emu._emulator"
   ]
  },
  {
   "cell_type": "code",
   "execution_count": null,
   "metadata": {
    "collapsed": true
   },
   "outputs": [],
   "source": [
    "pred_y_white = model.predict(emu.y, test_x_white, False, False, False)"
   ]
  },
  {
   "cell_type": "code",
   "execution_count": null,
   "metadata": {
    "collapsed": true
   },
   "outputs": [],
   "source": [
    "pred_y = pred_y_white*emu._y_std + emu._y_mean"
   ]
  },
  {
   "cell_type": "code",
   "execution_count": null,
   "metadata": {
    "collapsed": true
   },
   "outputs": [],
   "source": [
    "plt.plot(pred_y[:100], label = 'pred')\n",
    "plt.plot(test_y[:100], label = 'truth')\n",
    "\n",
    "plt.legend(loc = 'best')"
   ]
  },
  {
   "cell_type": "code",
   "execution_count": null,
   "metadata": {
    "collapsed": true
   },
   "outputs": [],
   "source": [
    "test_y.mean(), emu._y_mean, pred_y.mean()"
   ]
  },
  {
   "cell_type": "code",
   "execution_count": null,
   "metadata": {
    "collapsed": true
   },
   "outputs": [],
   "source": [
    "test_y.std(), emu._y_std, pred_y.std()"
   ]
  },
  {
   "cell_type": "code",
   "execution_count": null,
   "metadata": {
    "collapsed": true
   },
   "outputs": [],
   "source": [
    "plt.hist(pred_y_white, bins = np.linspace(-3, 3, 100), label = 'Pred')\n",
    "plt.hist(test_y_white, bins = np.linspace(-3, 3, 100), label = 'Test', alpha = 0.4);\n",
    "plt.legend(loc = 'best')"
   ]
  },
  {
   "cell_type": "code",
   "execution_count": null,
   "metadata": {
    "collapsed": true
   },
   "outputs": [],
   "source": []
  },
  {
   "cell_type": "code",
   "execution_count": null,
   "metadata": {
    "collapsed": true
   },
   "outputs": [],
   "source": []
  }
 ],
 "metadata": {
  "kernelspec": {
   "display_name": "Python [default]",
   "language": "python",
   "name": "python2"
  },
  "language_info": {
   "codemirror_mode": {
    "name": "ipython",
    "version": 2
   },
   "file_extension": ".py",
   "mimetype": "text/x-python",
   "name": "python",
   "nbconvert_exporter": "python",
   "pygments_lexer": "ipython2",
   "version": "2.7.13"
  }
 },
 "nbformat": 4,
 "nbformat_minor": 1
}
