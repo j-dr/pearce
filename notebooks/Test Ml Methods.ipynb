{
 "cells": [
  {
   "cell_type": "code",
   "execution_count": 11,
   "metadata": {
    "collapsed": false
   },
   "outputs": [
    {
     "name": "stdout",
     "output_type": "stream",
     "text": [
      "The autoreload extension is already loaded. To reload it, use:\n",
      "  %reload_ext autoreload\n"
     ]
    }
   ],
   "source": [
    "%load_ext autoreload\n",
    "%autoreload 2"
   ]
  },
  {
   "cell_type": "code",
   "execution_count": 12,
   "metadata": {
    "collapsed": false
   },
   "outputs": [],
   "source": [
    "from pearce.emulator import OriginalRecipe, ExtraCrispy\n",
    "from pearce.emulator import parameter, DEFAULT_PARAMS as PARAMS"
   ]
  },
  {
   "cell_type": "code",
   "execution_count": 13,
   "metadata": {
    "collapsed": false
   },
   "outputs": [],
   "source": [
    "import numpy as np\n",
    "from matplotlib import pyplot as plt\n",
    "%matplotlib inline\n",
    "import seaborn as sns\n",
    "sns.set()\n",
    "from itertools import cycle\n",
    "colors = cycle(sns.color_palette())"
   ]
  },
  {
   "cell_type": "code",
   "execution_count": 24,
   "metadata": {
    "collapsed": true
   },
   "outputs": [],
   "source": [
    "training_dir = '/u/ki/swmclau2/des/PearceLHC_wp_z'\n",
    "#training_dir = ['/u/ki/swmclau2/des/PearceLHC_wp_rp','/u/ki/swmclau2/des/PearceLHC_wp_rp_dense',\n",
    "#                 '/u/ki/swmclau2/des/PearceFHC_wp_rp/']\n",
    "fiducial_params = {'logM0': 12.20, 'logM1': 13.7, 'alpha': 1.02,\n",
    "                      'logMmin': 12.1, 'f_c': 0.19, 'sigma_logM': 0.46}\n",
    "rbins = np.array([  0.06309573,   0.12437607,   0.24517359,   0.34422476, 0.48329302, 0.67854546,\\\n",
    "           0.9526807 , 1.33756775,1.8779508 ,   2.6366509 ,   3.70186906,   5.19743987, 7.29722764, \\\n",
    "           10.24533859,  14.38449888,  20.1958975 , 28.35512583,  39.81071706] )\n",
    "rpoints = (rbins[1:]+rbins[:-1])/2"
   ]
  },
  {
   "cell_type": "code",
   "execution_count": 15,
   "metadata": {
    "collapsed": true
   },
   "outputs": [],
   "source": [
    "y_param = 'logMmin'\n",
    "emulation_point = [('f_c', 0.233), ('logM0', 12.0), ('sigma_logM', 0.533), \n",
    "                   ('alpha', 1.083),('logM1', 13.5), ('logMmin', 12.233)]\n",
    "em_params = dict(emulation_point)\n",
    "del em_params[y_param]"
   ]
  },
  {
   "cell_type": "code",
   "execution_count": 16,
   "metadata": {
    "collapsed": false
   },
   "outputs": [],
   "source": [
    "y_param_idx = -1\n",
    "for idx, p in enumerate(PARAMS):\n",
    "    if p.name==y_param:\n",
    "        y_param_idx = idx\n",
    "        break\n",
    "        \n",
    "y_vals = np.linspace(PARAMS[y_param_idx].low, PARAMS[y_param_idx].high, 4)\n",
    "em_params[y_param] = y_vals"
   ]
  },
  {
   "cell_type": "code",
   "execution_count": 17,
   "metadata": {
    "collapsed": false
   },
   "outputs": [
    {
     "name": "stdout",
     "output_type": "stream",
     "text": [
      "[ 11.7         11.96666667  12.23333333  12.5       ]\n"
     ]
    }
   ],
   "source": [
    "print em_params[y_param]"
   ]
  },
  {
   "cell_type": "code",
   "execution_count": 18,
   "metadata": {
    "collapsed": false
   },
   "outputs": [
    {
     "name": "stdout",
     "output_type": "stream",
     "text": [
      "6\n"
     ]
    }
   ],
   "source": [
    "print len(em_params)"
   ]
  },
  {
   "cell_type": "code",
   "execution_count": 19,
   "metadata": {
    "collapsed": true
   },
   "outputs": [],
   "source": [
    "hyperparams = {'n_estimators': int(1e3),\n",
    "              'max_depth': 5}"
   ]
  },
  {
   "cell_type": "code",
   "execution_count": 25,
   "metadata": {
    "collapsed": false
   },
   "outputs": [
    {
     "name": "stdout",
     "output_type": "stream",
     "text": [
      "2\n"
     ]
    }
   ],
   "source": [
    "or_params = PARAMS[:]\n",
    "or_params.append(parameter('r', 0, 1)) #95% sure bounds aren't used for r\n",
    "emu1 = OriginalRecipe(training_dir,method = 'gbdt',hyperparams=hyperparams, params=or_params)\n",
    "#emu1 = OriginalRecipe(training_dir,method = 'gp', params=or_params)"
   ]
  },
  {
   "cell_type": "raw",
   "metadata": {
    "collapsed": false
   },
   "source": [
    "emu1 = ExtraCrispy(training_dir)"
   ]
  },
  {
   "cell_type": "code",
   "execution_count": null,
   "metadata": {
    "collapsed": false
   },
   "outputs": [],
   "source": [
    "emu1.goodness_of_fit('/u/ki/swmclau2/des/PearceFHC_wp_z').mean()"
   ]
  },
  {
   "cell_type": "raw",
   "metadata": {
    "collapsed": false,
    "scrolled": false
   },
   "source": [
    "rpoints = np.logspace(np.log10(rbins[1]), np.log10(rbins[-2]), 17)\n",
    "log_xi_pred, log_xi_cov = emu1.emulate_wrt_r(em_params, rpoints)\n",
    "log_xi_err = np.sqrt(np.diag(log_xi_cov))\n",
    "log_xi_pred = log_xi_pred.reshape((-1, len(rpoints)))\n",
    "log_xi_err = log_xi_err.reshape((-1, len(rpoints)))"
   ]
  },
  {
   "cell_type": "code",
   "execution_count": null,
   "metadata": {
    "collapsed": false,
    "scrolled": false
   },
   "outputs": [],
   "source": [
    "rpoints = np.logspace(np.log10(rbins[1]), np.log10(rbins[-2]), 200)\n",
    "log_xi_pred = emu1.emulate_wrt_r(em_params, rpoints)\n",
    "log_xi_pred = log_xi_pred.reshape((-1, len(rpoints)))\n",
    "log_xi_err = np.zeros_like(log_xi_pred)"
   ]
  },
  {
   "cell_type": "code",
   "execution_count": null,
   "metadata": {
    "collapsed": false,
    "scrolled": true
   },
   "outputs": [],
   "source": [
    "log_xi_cov = emu1.estimate_uncertainty('/u/ki/swmclau2/des/PearceLHC_wp_rp_dense2')\n",
    "log_xi_err = np.sqrt(np.diag(log_xi_cov))"
   ]
  },
  {
   "cell_type": "raw",
   "metadata": {
    "collapsed": false
   },
   "source": [
    "log_xi_pred[[0,-1], :] = log_xi_pred[[-1,0],:]"
   ]
  },
  {
   "cell_type": "code",
   "execution_count": null,
   "metadata": {
    "collapsed": false
   },
   "outputs": [],
   "source": [
    "truth_dir = '/u/ki/swmclau2/des/PearceFHC_wp_rp/'\n",
    "plot_r, plot_xi, plot_xi_err = emu1.get_plot_data(em_params,truth_dir, independent_variable=None)\n",
    "plot_r = plot_r.reshape((-1, len(rbins)-1))\n",
    "plot_xi = plot_xi.reshape((-1, len(rbins)-1))\n",
    "plot_xi_err = plot_xi_err.reshape((-1, len(rbins)-1))"
   ]
  },
  {
   "cell_type": "code",
   "execution_count": null,
   "metadata": {
    "collapsed": false
   },
   "outputs": [],
   "source": [
    "plot_xi.shape, plot_r.shape, plot_xi_err.shape"
   ]
  },
  {
   "cell_type": "code",
   "execution_count": null,
   "metadata": {
    "collapsed": false
   },
   "outputs": [],
   "source": [
    "fig = plt.figure(figsize = (10, 10))\n",
    "for label, lxp, lxe,pr, px, err,c in zip(y_vals, log_xi_pred, log_xi_err ,plot_r, plot_xi,plot_xi_err,colors):\n",
    "\n",
    "    plt.plot(rpoints, lxp,label = '%.3f'%label, color = c )\n",
    "\n",
    "    plt.fill_between(rpoints,lxp+lxe,\n",
    "                     lxp-lxe, color = c, alpha = 0.3)\n",
    "\n",
    "    plt.errorbar(10**pr, px,err, color =c,fmt = 'o')\n",
    "\n",
    "plt.xlim(xmin = 0.1, xmax = 30)    \n",
    "plt.ylim(ymin = -2, ymax = 4)\n",
    "plt.title(\"OR Emulator w.r.t. %s\"%y_param, fontsize =20)\n",
    "#plt.loglog()\n",
    "plt.xscale('log')\n",
    "plt.xticks(fontsize=20)\n",
    "plt.yticks(fontsize=20)\n",
    "plt.xlabel(r'$r $  $\\rm{[Mpc]}$', fontsize=25)\n",
    "plt.ylabel(r'$\\log_{10}{\\xi_{\\rm gg}(r) }$', fontsize=25)\n",
    "plt.legend(loc='best', fontsize=25)"
   ]
  },
  {
   "cell_type": "code",
   "execution_count": null,
   "metadata": {
    "collapsed": false
   },
   "outputs": [],
   "source": [
    "emu2 = ExtraCrispy(training_dir,method = 'gbdt',hyperparams=hyperparams)#no r in params\n",
    "#emu2 = ExtraCrispy(training_dir)"
   ]
  },
  {
   "cell_type": "code",
   "execution_count": null,
   "metadata": {
    "collapsed": false
   },
   "outputs": [],
   "source": [
    "rpoints = np.logspace(np.log10(emu2.bin_centers[1]), np.log10(emu2.bin_centers[-2]), 17)"
   ]
  },
  {
   "cell_type": "raw",
   "metadata": {
    "collapsed": false
   },
   "source": [
    "log_xi_pred, log_xi_cov = emu2.emulate_wrt_r(em_params,rpoints)\n",
    "log_xi_err = np.sqrt(np.diag(log_xi_cov))\n",
    "#print log_xi_pred\n",
    "log_xi_pred = log_xi_pred.reshape((-1, len(rpoints)))\n",
    "log_xi_err = log_xi_err.reshape((-1, len(rpoints)))"
   ]
  },
  {
   "cell_type": "code",
   "execution_count": null,
   "metadata": {
    "collapsed": false
   },
   "outputs": [],
   "source": [
    "log_xi_pred = emu2.emulate_wrt_r(em_params,rpoints)\n",
    "log_xi_pred = log_xi_pred.reshape((-1, len(rpoints)))\n",
    "log_xi_err = np.zeros_like(log_xi_pred)"
   ]
  },
  {
   "cell_type": "code",
   "execution_count": null,
   "metadata": {
    "collapsed": false,
    "scrolled": true
   },
   "outputs": [],
   "source": [
    "log_xi_cov = emu2.estimate_uncertainty('/u/ki/swmclau2/des/PearceLHC_wp_rp_dense2')\n",
    "log_xi_err = np.sqrt(np.diag(log_xi_cov))"
   ]
  },
  {
   "cell_type": "code",
   "execution_count": null,
   "metadata": {
    "collapsed": false
   },
   "outputs": [],
   "source": [
    "emu2.goodness_of_fit('/u/ki/swmclau2/des/PearceLHC_wp_rp_dense2').mean()"
   ]
  },
  {
   "cell_type": "code",
   "execution_count": null,
   "metadata": {
    "collapsed": false
   },
   "outputs": [],
   "source": [
    "print log_xi_pred[:,0]\n",
    "print plot_xi[:,0]"
   ]
  },
  {
   "cell_type": "code",
   "execution_count": null,
   "metadata": {
    "collapsed": false
   },
   "outputs": [],
   "source": [
    "fig = plt.figure(figsize = (10, 10))\n",
    "for label, lxp, lxe,pr, px, err,c in zip(y_vals, log_xi_pred, log_xi_err ,plot_r, plot_xi,plot_xi_err,colors):\n",
    "\n",
    "    plt.plot(rpoints, lxp,label = '%.3f'%label, color = c )\n",
    "\n",
    "    plt.fill_between(rpoints,lxp+lxe,\n",
    "                     lxp-lxe, color = c, alpha = 0.3)\n",
    "\n",
    "    plt.errorbar(10**pr, px,err, color =c,fmt = 'o')\n",
    "\n",
    "plt.xlim(xmin = 0.1, xmax = 30)    \n",
    "plt.ylim(ymin = -2, ymax = 4)\n",
    "plt.title(\"EC Emulator w.r.t. %s\"%y_param, fontsize =20)\n",
    "#plt.loglog()\n",
    "plt.xscale('log')\n",
    "plt.xticks(fontsize=20)\n",
    "plt.yticks(fontsize=20)\n",
    "plt.xlabel(r'$r $  $\\rm{[Mpc]}$', fontsize=25)\n",
    "plt.ylabel(r'$\\log_{10}{\\xi_{\\rm gg}(r) }$', fontsize=25)\n",
    "plt.legend(loc='best', fontsize=25)"
   ]
  },
  {
   "cell_type": "code",
   "execution_count": null,
   "metadata": {
    "collapsed": false
   },
   "outputs": [],
   "source": [
    "gbt_most_vals = emu1.goodness_of_fit('/u/ki/swmclau2/des/PearceLHC_wp_rp_dense2', statistic='rel').reshape((-1, len(emu1.bin_centers)))\n",
    "gbt_most_err = np.abs(gbt_most_vals).mean(axis=0)\n",
    "gbt_most_err_errs = np.abs(gbt_most_vals).std(axis=0)"
   ]
  },
  {
   "cell_type": "code",
   "execution_count": null,
   "metadata": {
    "collapsed": false
   },
   "outputs": [],
   "source": [
    "gbt_most_vals[0,:]"
   ]
  },
  {
   "cell_type": "code",
   "execution_count": 26,
   "metadata": {
    "collapsed": true
   },
   "outputs": [],
   "source": [
    "box = 'lhc'\n",
    "gbt_vals = np.loadtxt('gbtr_%s.npy'%box)\n",
    "gbt_err = np.abs(gbt_vals).mean(axis=0)\n",
    "gbt_err_errs = np.abs(gbt_vals).std(axis=0)\n",
    "gbt_dense_vals = np.loadtxt('gbtr_dense_%s.npy'%box)\n",
    "gbt_dense_err = np.abs(gbt_dense_vals).mean(axis=0)\n",
    "gbt_dense_err_errs = np.abs(gbt_dense_vals).std(axis=0)\n",
    "svr_vals = np.loadtxt('svr_%s.npy'%box)\n",
    "svr_err = np.abs(svr_vals).mean(axis=0)\n",
    "svr_err_errs = np.abs(svr_vals).std(axis=0)\n",
    "gp_vals = np.loadtxt('gp_%s.npy'%box)\n",
    "gp_err = np.abs(gp_vals).mean(axis=0)\n",
    "gp_err_errs = np.abs(gp_vals).std(axis=0)"
   ]
  },
  {
   "cell_type": "code",
   "execution_count": 32,
   "metadata": {
    "collapsed": false
   },
   "outputs": [
    {
     "data": {
      "text/plain": [
       "<matplotlib.legend.Legend at 0x7f634ef844d0>"
      ]
     },
     "execution_count": 32,
     "metadata": {},
     "output_type": "execute_result"
    },
    {
     "data": {
      "image/png": "[encoded data removed]",
      "text/plain": [
       "<matplotlib.figure.Figure at 0x7f634eed5fd0>"
      ]
     },
     "metadata": {},
     "output_type": "display_data"
    }
   ],
   "source": [
    "fig = plt.figure(figsize = (10, 10))\n",
    "errs = (gbt_err,gbt_dense_err, svr_err, gp_err)\n",
    "err_errs = (gbt_err_errs,gbt_dense_err_errs, svr_err_errs, gp_err_errs)\n",
    "for label, err, ees,c in zip(('GBT','GBT More Training','SVR', 'GP'),errs, err_errs, colors ):\n",
    "    plt.plot(emu1.scale_bin_centers, err, label=label, color=c)\n",
    "    #plt.fill_between(emu1.bin_centers, ees+err,err,color=c,alpha = 0.3)\n",
    "\n",
    "plt.xlim(xmin = 0.1, xmax = 30)\n",
    "plt.ylim(ymin = 0, ymax = 0.05)\n",
    "plt.title(r\"Relative error on $w_p(r_p)$ for emulation methods\", fontsize =25)\n",
    "#plt.loglog()\n",
    "plt.xscale('log')\n",
    "plt.xlabel(r'$r $  $\\rm{[Mpc]}$', fontsize=25)\n",
    "plt.ylabel(r'Relative Error', fontsize = 25)\n",
    "plt.legend(loc='best', fontsize = 25)"
   ]
  },
  {
   "cell_type": "code",
   "execution_count": null,
   "metadata": {
    "collapsed": true
   },
   "outputs": [],
   "source": []
  }
 ],
 "metadata": {
  "kernelspec": {
   "display_name": "Python [conda env:hodemulator]",
   "language": "python",
   "name": "conda-env-hodemulator-py"
  },
  "language_info": {
   "codemirror_mode": {
    "name": "ipython",
    "version": 2
   },
   "file_extension": ".py",
   "mimetype": "text/x-python",
   "name": "python",
   "nbconvert_exporter": "python",
   "pygments_lexer": "ipython2",
   "version": "2.7.13"
  }
 },
 "nbformat": 4,
 "nbformat_minor": 0
}
